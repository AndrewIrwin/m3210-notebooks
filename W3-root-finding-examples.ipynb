{
 "cells": [
  {
   "cell_type": "markdown",
   "id": "082cefb3-1e7e-4742-be08-540a8f5d484a",
   "metadata": {},
   "source": [
    "## Root finding \"solutions\""
   ]
  },
  {
   "cell_type": "markdown",
   "id": "9f967eae-92d7-4d3b-b85e-46ace69c42f7",
   "metadata": {},
   "source": [
    "Demonstration. I'm thinking of the square root of a non-square number, for example, $\\sqrt{2000}$.\n",
    "    \n",
    "I will answer: \"too low\" or \"too high\" depending on your guess.\n",
    "\n",
    "You should aim to shrink the interval $[0,100]$ as much as possible with each guess, which amounts to guessing the midpoint and selecting the correct interval.\n",
    "    "
   ]
  },
  {
   "cell_type": "markdown",
   "id": "347e3854-2231-4d16-b0bb-f5e66719018b",
   "metadata": {},
   "source": [
    "## English algorithm\n",
    "\n",
    "Binary search. \n",
    "\n",
    "Inputs: \n",
    "\n",
    "* a function that takes a floating point number and returns 0, +1 or -1, depending on whether your guess is correct, too high or too low,\n",
    "* an initial bracket for the guess as an ordered pair (too low, too high)\n",
    "\n",
    "Algorithm:\n",
    "\n",
    "* compute the midpoint of the interval\n",
    "* ask the function if this is correct, too high or too low\n",
    "* if correct, report the answer\n",
    "* select the correct interval: if too high then (low, new), otherwise (new, high)\n",
    "* if the diameter of the interval is small enough, stop\n",
    "* if you've taken more than 10 guesses, stop\n",
    "* otherwise guess again\n",
    "* report the interval for the guess or the best guess\n",
    "\n",
    "Notes\n",
    "\n",
    "* Guessing the correct answer isn't really an option since our underlying question is about real numbers, not floating point numbers, but we need to test for this case and act accordingly\n",
    "* Might be smart to start by checkign the initial interval is valid (one high, one low)"
   ]
  },
  {
   "cell_type": "markdown",
   "id": "c199a94c-81f7-4597-b2fe-f9b64b9021ce",
   "metadata": {},
   "source": [
    "## Julia algorithm"
   ]
  },
  {
   "cell_type": "code",
   "execution_count": null,
   "id": "a1cff7c5-524d-4503-89ef-b958475d5211",
   "metadata": {},
   "outputs": [
    {
     "data": {
      "text/plain": [
       "binary_search (generic function with 1 method)"
      ]
     },
     "execution_count": 13,
     "metadata": {},
     "output_type": "execute_result"
    }
   ],
   "source": [
    "function binary_search(f, interval)\n",
    "    low, high = interval\n",
    "    while abs(low-high) > 1e-5\n",
    "        mid = (low+high)/2.0\n",
    "        if f(mid)*f(low) < 0\n",
    "            high = mid\n",
    "        else\n",
    "            low = mid\n",
    "        end\n",
    "    end\n",
    "    (low+high)/2\n",
    "end"
   ]
  },
  {
   "cell_type": "code",
   "execution_count": null,
   "id": "b85a9e4c-baba-4d57-9140-4e26ceb8810d",
   "metadata": {},
   "outputs": [
    {
     "data": {
      "text/plain": [
       "(-1, 1)"
      ]
     },
     "execution_count": 7,
     "metadata": {},
     "output_type": "execute_result"
    }
   ],
   "source": [
    "f(x) = sign(x^2 - 2000)\n",
    "f(0), f(100)"
   ]
  },
  {
   "cell_type": "code",
   "execution_count": 14,
   "id": "2cac334d-af9c-4c75-9e0a-71b4b950e240",
   "metadata": {},
   "outputs": [
    {
     "data": {
      "text/plain": [
       "44.72136199474335"
      ]
     },
     "execution_count": 14,
     "metadata": {},
     "output_type": "execute_result"
    }
   ],
   "source": [
    "binary_search(f, (0,100))"
   ]
  },
  {
   "cell_type": "code",
   "execution_count": 15,
   "id": "6455b8fb-26d9-4548-8ec0-cbbf1262558f",
   "metadata": {},
   "outputs": [
    {
     "data": {
      "text/plain": [
       "44.721359549995796"
      ]
     },
     "execution_count": 15,
     "metadata": {},
     "output_type": "execute_result"
    }
   ],
   "source": [
    "sqrt(2000)"
   ]
  },
  {
   "cell_type": "code",
   "execution_count": 33,
   "id": "46fa5ae2-9225-4ebe-bec3-7a24620290f5",
   "metadata": {},
   "outputs": [
    {
     "data": {
      "text/plain": [
       "binary_search2 (generic function with 1 method)"
      ]
     },
     "execution_count": 33,
     "metadata": {},
     "output_type": "execute_result"
    }
   ],
   "source": [
    "function binary_search2(f, interval)\n",
    "    low, high = float.(interval)\n",
    "    f_low = f(low)\n",
    "    f_high = f(high)\n",
    "    if f_low*f_high > 0\n",
    "        error(\"Interval does not bracket the root\")\n",
    "    end\n",
    "    n = 60\n",
    "    while (n>0) & (abs(low-high) > 1e-15)\n",
    "        n = n - 1\n",
    "        mid = (low+high)/2.0\n",
    "        f_mid = f(mid)\n",
    "        if f_mid*f_low < 0\n",
    "            high = mid\n",
    "            f_high = f_mid\n",
    "        else\n",
    "            low = mid\n",
    "            f_low = f_mid\n",
    "        end\n",
    "    end\n",
    "    # (low+high)/2\n",
    "    (low, high)\n",
    "end"
   ]
  },
  {
   "cell_type": "code",
   "execution_count": 27,
   "id": "b170baef-cb71-4d99-a7a1-9d0a7a747563",
   "metadata": {},
   "outputs": [
    {
     "data": {
      "text/plain": [
       "(44.72135954999579, 44.721359549995796)"
      ]
     },
     "execution_count": 27,
     "metadata": {},
     "output_type": "execute_result"
    }
   ],
   "source": [
    "binary_search2(f, (0,100))"
   ]
  },
  {
   "cell_type": "code",
   "execution_count": 37,
   "id": "bb2e2fcf-29f1-4f09-93ff-f36d69881f9f",
   "metadata": {},
   "outputs": [
    {
     "name": "stdout",
     "output_type": "stream",
     "text": [
      "  0.000002 seconds\n"
     ]
    }
   ],
   "source": [
    "@time binary_search2(f, (0,100));"
   ]
  },
  {
   "cell_type": "code",
   "execution_count": 28,
   "id": "e21172cb-77f2-45d4-a5a9-efac54f0338a",
   "metadata": {},
   "outputs": [
    {
     "data": {
      "text/plain": [
       "44.721359549995796"
      ]
     },
     "execution_count": 28,
     "metadata": {},
     "output_type": "execute_result"
    }
   ],
   "source": [
    "sqrt(2000)"
   ]
  },
  {
   "cell_type": "code",
   "execution_count": 32,
   "id": "184f78dd-1343-4560-9513-c5f925ee935c",
   "metadata": {},
   "outputs": [
    {
     "data": {
      "text/plain": [
       "-56.47277761308516"
      ]
     },
     "execution_count": 32,
     "metadata": {},
     "output_type": "execute_result"
    }
   ],
   "source": [
    "log2(1e-17)"
   ]
  },
  {
   "cell_type": "code",
   "execution_count": 55,
   "id": "cc924e66-9ccb-4aec-b072-79460e599173",
   "metadata": {},
   "outputs": [
    {
     "data": {
      "text/plain": [
       "binary_search3 (generic function with 1 method)"
      ]
     },
     "execution_count": 55,
     "metadata": {},
     "output_type": "execute_result"
    }
   ],
   "source": [
    "function binary_search3(f, interval)\n",
    "    low, high = float.(interval)\n",
    "    f_low = f(low)\n",
    "    f_high = f(high)\n",
    "    if f_low*f_high > 0\n",
    "        error(\"Interval does not bracket the root\")\n",
    "    end\n",
    "    results = zeros(Float64, 0)\n",
    "    n = 60\n",
    "    while (n>0) & (abs(low-high) > eps(100.0))\n",
    "        n = n - 1\n",
    "        mid = (low+high)/2.0\n",
    "        push!(results, mid)\n",
    "        f_mid = f(mid)\n",
    "        if f_mid*f_low < 0\n",
    "            high = mid\n",
    "            f_high = f_mid\n",
    "        else\n",
    "            low = mid\n",
    "            f_low = f_mid\n",
    "        end\n",
    "    end\n",
    "    # (low+high)/2\n",
    "    # (low, high)\n",
    "    results\n",
    "end"
   ]
  },
  {
   "cell_type": "code",
   "execution_count": 56,
   "id": "e75e3b56-6f20-4331-9619-bc43527dbf3e",
   "metadata": {},
   "outputs": [
    {
     "data": {
      "text/plain": [
       "53-element Vector{Float64}:\n",
       " 50.0\n",
       " 25.0\n",
       " 37.5\n",
       " 43.75\n",
       " 46.875\n",
       " 45.3125\n",
       " 44.53125\n",
       " 44.921875\n",
       " 44.7265625\n",
       " 44.62890625\n",
       " 44.677734375\n",
       " 44.7021484375\n",
       " 44.71435546875\n",
       "  ⋮\n",
       " 44.72135954999885\n",
       " 44.72135954998748\n",
       " 44.72135954999317\n",
       " 44.72135954999601\n",
       " 44.72135954999459\n",
       " 44.7213595499953\n",
       " 44.721359549995654\n",
       " 44.72135954999583\n",
       " 44.72135954999574\n",
       " 44.72135954999578\n",
       " 44.72135954999581\n",
       " 44.721359549995796"
      ]
     },
     "execution_count": 56,
     "metadata": {},
     "output_type": "execute_result"
    }
   ],
   "source": [
    "binary_search3(f, (0,100))"
   ]
  },
  {
   "cell_type": "code",
   "execution_count": 57,
   "id": "a08fa37b-73b6-40b5-ac98-63cb5eb1bbd2",
   "metadata": {},
   "outputs": [
    {
     "data": {
      "text/plain": [
       "52-element Vector{Float64}:\n",
       " 50.0\n",
       " 75.0\n",
       " 62.5\n",
       " 68.75\n",
       " 71.875\n",
       " 73.4375\n",
       " 72.65625\n",
       " 72.265625\n",
       " 72.0703125\n",
       " 71.97265625\n",
       " 72.021484375\n",
       " 71.9970703125\n",
       " 72.00927734375\n",
       "  ⋮\n",
       " 71.99999999997999\n",
       " 72.00000000000273\n",
       " 71.99999999999136\n",
       " 71.99999999999704\n",
       " 71.99999999999989\n",
       " 72.00000000000131\n",
       " 72.0000000000006\n",
       " 72.00000000000024\n",
       " 72.00000000000006\n",
       " 71.99999999999997\n",
       " 72.00000000000001\n",
       " 72.0"
      ]
     },
     "execution_count": 57,
     "metadata": {},
     "output_type": "execute_result"
    }
   ],
   "source": [
    "binary_search3(x -> sign(x-72), (0,100))\n"
   ]
  },
  {
   "cell_type": "code",
   "execution_count": null,
   "id": "f9f9e237-d61a-4540-92e7-5fcee11e9ef1",
   "metadata": {},
   "outputs": [],
   "source": []
  }
 ],
 "metadata": {
  "kernelspec": {
   "display_name": "Julia 1.8.0",
   "language": "julia",
   "name": "julia-1.8"
  },
  "language_info": {
   "file_extension": ".jl",
   "mimetype": "application/julia",
   "name": "julia",
   "version": "1.8.0"
  }
 },
 "nbformat": 4,
 "nbformat_minor": 5
}
