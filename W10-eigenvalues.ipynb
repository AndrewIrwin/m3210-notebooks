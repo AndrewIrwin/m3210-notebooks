{
 "cells": [
  {
   "cell_type": "markdown",
   "id": "d1c74e2b-ad8c-449c-b226-1b670e2209df",
   "metadata": {},
   "source": [
    "## Eigenvalues\n",
    "\n",
    "Chapter 7.\n",
    "\n",
    "The eigenvalue problem is to find all $\\lambda$ and $v$ such that $Av=\\lambda v$ for a matix $A$.\n",
    "\n",
    "For hand calculations we usually find the roots of $\\det(A-\\lambda I)$. An $n$ x $n$ matrix has $n$ eigenvalues, counting double roots twice, etc. We can then form a diagonal matrix $D$ from the eigenvalues and a matrix $V$ with columns equal to the corresponding eigenvectors. Then we can write $AV = VD$. If $V$ is invertible, then $A = VDV^{-1}$. This is called the eigenvalue decomposition (EVD). If it exists, then $A$ is said to be diagonalizable.\n",
    "\n",
    "If $A$ has $n$ distinct eigenvalues, then it is diagonalizable.\n",
    "\n",
    "If $S$ is non-singular, then the similiarity transform $B = SAS^{-1}$ yields a matrix $B$ with the same eigenvalues as $A$.\n",
    "\n",
    "\n",
    "\n",
    "Special terms for matrices with complex entries:\n",
    "\n",
    "* A adjoint of a matrix $A$ is written $A^*$ and is computed as the complex conjugate of its transpose: $A^* = \\bar{A}^T$.\n",
    "* A unitary matrix is a complex matrix with orthogonal columns, $A^* = A^{-1}$."
   ]
  },
  {
   "cell_type": "markdown",
   "id": "65d36172-fede-4184-af72-5990fcce2666",
   "metadata": {},
   "source": [
    "## Power method for finding algorithms\n",
    "\n",
    "Section 8.2 detour.\n",
    "\n",
    "Starting from an initial guess $v_0$ we can compute $v_{k+1} = Av_{k}$ if the dominant eigenvalue (largest magnitude) is 1, then this sequence will converge to the corresponding eigenvector. In all other cases, we normalize $v_k$ at each iteration to ensure it's norm does not shrink to 0 or grow to infinity."
   ]
  },
  {
   "cell_type": "code",
   "execution_count": 10,
   "id": "b6b8e523-902d-45d6-b7b2-f3caaae283d3",
   "metadata": {},
   "outputs": [
    {
     "data": {
      "text/plain": [
       "my_power (generic function with 1 method)"
      ]
     },
     "execution_count": 10,
     "metadata": {},
     "output_type": "execute_result"
    }
   ],
   "source": [
    "using LinearAlgebra\n",
    "function my_power(v0, A; n = 100)\n",
    "    v = v0\n",
    "    last_lambda = Inf\n",
    "    lambda = 1.0\n",
    "    for i in 1:n\n",
    "        v = A*v\n",
    "        lambda = norm(v)\n",
    "        v = v / lambda\n",
    "        if abs(last_lambda - lambda ) < 1e-8\n",
    "            break\n",
    "        end\n",
    "        last_lambda = lambda\n",
    "    end\n",
    "    (lambda, v)\n",
    "end"
   ]
  },
  {
   "cell_type": "code",
   "execution_count": 11,
   "id": "e7bceb9d-b1c0-4f36-ae75-a5fe48f0f9c0",
   "metadata": {},
   "outputs": [
    {
     "data": {
      "text/plain": [
       "3×3 Matrix{Int64}:\n",
       "  1   2  5\n",
       " -2   4  0\n",
       "  1  -1  1"
      ]
     },
     "execution_count": 11,
     "metadata": {},
     "output_type": "execute_result"
    }
   ],
   "source": [
    "A = [ 1 2 5 ; -2 4 0; 1 -1 1]"
   ]
  },
  {
   "cell_type": "code",
   "execution_count": 12,
   "id": "d7e60540-ce7c-4569-b02d-537af014eb46",
   "metadata": {},
   "outputs": [
    {
     "data": {
      "text/plain": [
       "(3.675130889221877, [-0.15318478251892112, -0.9430553688467876, 0.29526427771384745])"
      ]
     },
     "execution_count": 12,
     "metadata": {},
     "output_type": "execute_result"
    }
   ],
   "source": [
    "my_power([1,1,1], A)"
   ]
  },
  {
   "cell_type": "code",
   "execution_count": 13,
   "id": "97d83e43-b601-4082-8349-8c89ce5c4a45",
   "metadata": {},
   "outputs": [
    {
     "data": {
      "text/plain": [
       "Eigen{Float64, Float64, Matrix{Float64}, Vector{Float64}}\n",
       "values:\n",
       "3-element Vector{Float64}:\n",
       " -0.21431974337753568\n",
       "  2.5391888728108896\n",
       "  3.675130870566644\n",
       "vectors:\n",
       "3×3 Matrix{Float64}:\n",
       " -0.841424   0.584012   0.153185\n",
       " -0.399316   0.799573   0.943055\n",
       "  0.364078  -0.140048  -0.295264"
      ]
     },
     "execution_count": 13,
     "metadata": {},
     "output_type": "execute_result"
    }
   ],
   "source": [
    "eigen(A)"
   ]
  },
  {
   "cell_type": "code",
   "execution_count": 14,
   "id": "2a7878cf-5656-4bae-a303-80590b4c2a43",
   "metadata": {},
   "outputs": [
    {
     "data": {
      "text/plain": [
       "(1.4386708061932316, [0.5473751273737185, 0.44611260936697283, 0.7080706247941629])"
      ]
     },
     "execution_count": 14,
     "metadata": {},
     "output_type": "execute_result"
    }
   ],
   "source": [
    "A = rand(3,3)\n",
    "my_power([1,1,1], A)"
   ]
  },
  {
   "cell_type": "code",
   "execution_count": 15,
   "id": "a9848067-bb02-4431-b5c9-962d20d4f209",
   "metadata": {},
   "outputs": [
    {
     "data": {
      "text/plain": [
       "Eigen{Float64, Float64, Matrix{Float64}, Vector{Float64}}\n",
       "values:\n",
       "3-element Vector{Float64}:\n",
       " -0.2579503672207968\n",
       "  0.5537385250280326\n",
       "  1.4386708009100961\n",
       "vectors:\n",
       "3×3 Matrix{Float64}:\n",
       "  0.735303  -0.0378115  0.547375\n",
       " -0.306191  -0.524104   0.446113\n",
       " -0.60463    0.850814   0.708071"
      ]
     },
     "execution_count": 15,
     "metadata": {},
     "output_type": "execute_result"
    }
   ],
   "source": [
    "eigen(A)"
   ]
  },
  {
   "cell_type": "markdown",
   "id": "4068603b-e060-43f7-9068-4ab04d759293",
   "metadata": {},
   "source": [
    "The convergence of this method depends on the ratio of the two largest eigenvalues.\n",
    "\n",
    "The method can be adapted (Section 8.3, inverse iteration) to find the smallest eigenvalue.\n",
    "\n",
    "Demo 7.2.12 shows how the QR factorization and iteration can be used to find eigenvalues and eigenvectors, but does not explain how the method works. See the wikipedia article on the [Francis algorithm](https://en.wikipedia.org/wiki/QR_algorithm)."
   ]
  },
  {
   "cell_type": "code",
   "execution_count": 16,
   "id": "a36bba93-38c3-418d-be6b-324b5679cf75",
   "metadata": {},
   "outputs": [
    {
     "data": {
      "text/plain": [
       "my_qr_eigen (generic function with 1 method)"
      ]
     },
     "execution_count": 16,
     "metadata": {},
     "output_type": "execute_result"
    }
   ],
   "source": [
    "function my_qr_eigen(A0)\n",
    "    A = copy(A0)\n",
    "    for i in 1:40\n",
    "      Q, R = qr(A)\n",
    "      A = R*Q\n",
    "    end\n",
    "    diag(A)\n",
    "end"
   ]
  },
  {
   "cell_type": "code",
   "execution_count": 19,
   "id": "c28b23a9-e8ac-4978-afe3-ceb829c981d6",
   "metadata": {},
   "outputs": [
    {
     "data": {
      "text/plain": [
       "3-element Vector{Float64}:\n",
       "  1.4386708009100946\n",
       "  0.5537385250280553\n",
       " -0.2579503672208193"
      ]
     },
     "execution_count": 19,
     "metadata": {},
     "output_type": "execute_result"
    }
   ],
   "source": [
    "my_qr_eigen(A)"
   ]
  },
  {
   "cell_type": "code",
   "execution_count": 18,
   "id": "ee5d0cc4-df8a-4a9e-ba93-52bce1138348",
   "metadata": {},
   "outputs": [
    {
     "data": {
      "text/plain": [
       "Eigen{Float64, Float64, Matrix{Float64}, Vector{Float64}}\n",
       "values:\n",
       "3-element Vector{Float64}:\n",
       " -0.2579503672207968\n",
       "  0.5537385250280326\n",
       "  1.4386708009100961\n",
       "vectors:\n",
       "3×3 Matrix{Float64}:\n",
       "  0.735303  -0.0378115  0.547375\n",
       " -0.306191  -0.524104   0.446113\n",
       " -0.60463    0.850814   0.708071"
      ]
     },
     "execution_count": 18,
     "metadata": {},
     "output_type": "execute_result"
    }
   ],
   "source": [
    "eigen(A)"
   ]
  },
  {
   "cell_type": "code",
   "execution_count": null,
   "id": "33e2e638-3f1a-490c-a0c1-9e1657293825",
   "metadata": {},
   "outputs": [],
   "source": []
  }
 ],
 "metadata": {
  "kernelspec": {
   "display_name": "Julia 1.8.0",
   "language": "julia",
   "name": "julia-1.8"
  },
  "language_info": {
   "file_extension": ".jl",
   "mimetype": "application/julia",
   "name": "julia",
   "version": "1.8.0"
  }
 },
 "nbformat": 4,
 "nbformat_minor": 5
}
