{
 "cells": [
  {
   "cell_type": "markdown",
   "id": "d1c74e2b-ad8c-449c-b226-1b670e2209df",
   "metadata": {},
   "source": [
    "## Eigenvalues\n",
    "\n",
    "Chapter 7.\n",
    "\n",
    "The eigenvalue problem is to find all $\\lambda$ and $v$ such that $Av=\\lambda v$ for a matix $A$.\n",
    "\n",
    "For hand calculations we usually find the roots of $\\det(A-\\lambda I)$. An $n$ x $n$ matrix has $n$ eigenvalues, counting double roots twice, etc. We can then form a diagonal matrix $D$ from the eigenvalues and a matrix $V$ with columns equal to the corresponding eigenvectors. Then we can write $AV = VD$. If $V$ is invertible, then $A = VDV^{-1}$. This is called the eigenvalue decomposition (EVD). If it exists, then $A$ is said to be diagonalizable.\n",
    "\n",
    "If $A$ has $n$ distinct eigenvalues, then it is diagonalizable.\n",
    "\n",
    "If $S$ is non-singular, then the similiarity transform $B = SAS^{-1}$ yields a matrix $B$ with the same eigenvalues as $A$.\n",
    "\n",
    "\n",
    "\n",
    "Special terms for matrices with complex entries:\n",
    "\n",
    "* A adjoint of a matrix $A$ is written $A^*$ and is computed as the complex conjugate of its transpose: $A^* = \\bar{A}^T$. In Julia the transpose is computed using the single quotation operator: `A'` and for complex matrices, this is the conjugate transpose.\n",
    "* A unitary matrix is a complex matrix with orthogonal columns, $A^* = A^{-1}$."
   ]
  },
  {
   "cell_type": "markdown",
   "id": "65d36172-fede-4184-af72-5990fcce2666",
   "metadata": {},
   "source": [
    "## Power method for finding algorithms\n",
    "\n",
    "Section 8.2 detour.\n",
    "\n",
    "Starting from an initial guess $v_0$ we can compute $v_{k+1} = Av_{k}$. If the dominant eigenvalue (largest magnitude) is 1, then this sequence will converge to the corresponding eigenvector. In all other cases, we normalize $v_k$ at each iteration to ensure its norm does not shrink to 0 or grow to infinity."
   ]
  },
  {
   "cell_type": "code",
   "execution_count": 20,
   "id": "b6b8e523-902d-45d6-b7b2-f3caaae283d3",
   "metadata": {},
   "outputs": [
    {
     "data": {
      "text/plain": [
       "my_power (generic function with 1 method)"
      ]
     },
     "execution_count": 20,
     "metadata": {},
     "output_type": "execute_result"
    }
   ],
   "source": [
    "using LinearAlgebra\n",
    "function my_power(A; v0 = randn(size(A)[1]), n = 100)\n",
    "    v = v0\n",
    "    last_lambda = Inf\n",
    "    lambda = 1.0\n",
    "    for i in 1:n\n",
    "        v = A*v\n",
    "        lambda = norm(v)\n",
    "        v = v / lambda\n",
    "        if abs(last_lambda - lambda ) < 1e-8\n",
    "            break\n",
    "        end\n",
    "        last_lambda = lambda\n",
    "    end\n",
    "    (lambda, v)\n",
    "end"
   ]
  },
  {
   "cell_type": "code",
   "execution_count": 21,
   "id": "e7bceb9d-b1c0-4f36-ae75-a5fe48f0f9c0",
   "metadata": {},
   "outputs": [
    {
     "data": {
      "text/plain": [
       "3×3 Matrix{Int64}:\n",
       "  1   2  5\n",
       " -2   4  0\n",
       "  1  -1  1"
      ]
     },
     "execution_count": 21,
     "metadata": {},
     "output_type": "execute_result"
    }
   ],
   "source": [
    "A = [ 1 2 5 ; -2 4 0; 1 -1 1]"
   ]
  },
  {
   "cell_type": "code",
   "execution_count": 3,
   "id": "d7e60540-ce7c-4569-b02d-537af014eb46",
   "metadata": {},
   "outputs": [
    {
     "data": {
      "text/plain": [
       "(3.675130889221877, [-0.15318478251892112, -0.9430553688467876, 0.29526427771384745])"
      ]
     },
     "execution_count": 3,
     "metadata": {},
     "output_type": "execute_result"
    }
   ],
   "source": [
    "my_power(A, v0 = [1,1,1])"
   ]
  },
  {
   "cell_type": "code",
   "execution_count": 4,
   "id": "354f9c26",
   "metadata": {},
   "outputs": [
    {
     "data": {
      "text/plain": [
       "(3.675130888130893, [-0.15318478285523296, -0.9430553688206202, 0.29526427762294427])"
      ]
     },
     "execution_count": 4,
     "metadata": {},
     "output_type": "execute_result"
    }
   ],
   "source": [
    "my_power(A)"
   ]
  },
  {
   "cell_type": "code",
   "execution_count": 52,
   "id": "97d83e43-b601-4082-8349-8c89ce5c4a45",
   "metadata": {},
   "outputs": [
    {
     "data": {
      "text/plain": [
       "Eigen{Float64, Float64, Matrix{Float64}, Vector{Float64}}\n",
       "values:\n",
       "5-element Vector{Float64}:\n",
       " -2.723173538994717\n",
       " -1.2367459745066258\n",
       " -1.141965620985496\n",
       "  1.3085729503845156\n",
       "  3.0872932176375922\n",
       "vectors:\n",
       "5×5 Matrix{Float64}:\n",
       " -0.189787  -0.0796575  -0.140791   0.614339  -0.7486\n",
       " -0.444266   0.751779    0.407867   0.226045   0.141432\n",
       "  0.223681  -0.0825073   0.761902  -0.357512  -0.484614\n",
       " -0.329002  -0.627285    0.452046   0.385337   0.381368\n",
       "  0.779957   0.167893    0.170243   0.543316   0.198252"
      ]
     },
     "execution_count": 52,
     "metadata": {},
     "output_type": "execute_result"
    }
   ],
   "source": [
    "eigen(A)"
   ]
  },
  {
   "cell_type": "code",
   "execution_count": 40,
   "id": "2a7878cf-5656-4bae-a303-80590b4c2a43",
   "metadata": {},
   "outputs": [
    {
     "data": {
      "text/plain": [
       "(2.1951191595121307, [-0.5724353026452579, -0.554936831756638, -0.603624831369069])"
      ]
     },
     "execution_count": 40,
     "metadata": {},
     "output_type": "execute_result"
    }
   ],
   "source": [
    "A = rand(3,3)\n",
    "my_power(A)"
   ]
  },
  {
   "cell_type": "code",
   "execution_count": 41,
   "id": "a9848067-bb02-4431-b5c9-962d20d4f209",
   "metadata": {},
   "outputs": [
    {
     "data": {
      "text/plain": [
       "Eigen{ComplexF64, ComplexF64, Matrix{ComplexF64}, Vector{ComplexF64}}\n",
       "values:\n",
       "3-element Vector{ComplexF64}:\n",
       " -0.19573317715844563 - 0.16777135539614818im\n",
       " -0.19573317715844563 + 0.16777135539614818im\n",
       "    2.195119158115406 + 0.0im\n",
       "vectors:\n",
       "3×3 Matrix{ComplexF64}:\n",
       " -0.634161-0.0im       -0.634161+0.0im       0.572435+0.0im\n",
       "  0.264289-0.377539im   0.264289+0.377539im  0.554937+0.0im\n",
       "  0.462434+0.414258im   0.462434-0.414258im  0.603625+0.0im"
      ]
     },
     "execution_count": 41,
     "metadata": {},
     "output_type": "execute_result"
    }
   ],
   "source": [
    "eigen(A)"
   ]
  },
  {
   "cell_type": "markdown",
   "id": "4068603b-e060-43f7-9068-4ab04d759293",
   "metadata": {},
   "source": [
    "The convergence of this method depends on the ratio of the two largest eigenvalues.\n",
    "\n",
    "The method can be adapted (Section 8.3, inverse iteration) to find the smallest eigenvalue.\n",
    "\n",
    "Demo 7.2.12 shows how the QR factorization and iteration can be used to find eigenvalues and eigenvectors, but does not explain how the method works. See the Wikipedia article on the [Francis algorithm](https://en.wikipedia.org/wiki/QR_algorithm)."
   ]
  },
  {
   "cell_type": "code",
   "execution_count": 31,
   "id": "a36bba93-38c3-418d-be6b-324b5679cf75",
   "metadata": {},
   "outputs": [
    {
     "data": {
      "text/plain": [
       "my_qr_eigen (generic function with 1 method)"
      ]
     },
     "execution_count": 31,
     "metadata": {},
     "output_type": "execute_result"
    }
   ],
   "source": [
    "function my_qr_eigen(A0)\n",
    "    A = copy(A0)\n",
    "    for i in 1:40\n",
    "      Q, R = qr(A)\n",
    "      A = R*Q\n",
    "    end\n",
    "    sort(diag(A))\n",
    "end"
   ]
  },
  {
   "cell_type": "markdown",
   "id": "640c4922",
   "metadata": {},
   "source": [
    "The sequence $A_k$ of matrices are all similar (they have the same eigenvalues) since $A_{k+1} = R_kQ_k = Q_k^{-1}Q_kR_kQ_k = Q^{-1}_kAQ_k = Q^T_kAQ_k$\n",
    "\n",
    "This sequence will (under some conditions) converge to the Shur form of $A$, which is upper triangular. The eigenvalues are then the diagonal entries."
   ]
  },
  {
   "cell_type": "code",
   "execution_count": 42,
   "id": "c28b23a9-e8ac-4978-afe3-ceb829c981d6",
   "metadata": {},
   "outputs": [
    {
     "data": {
      "text/plain": [
       "3-element Vector{Float64}:\n",
       " -0.2677993726800502\n",
       " -0.1236669816368414\n",
       "  2.1951191581154053"
      ]
     },
     "execution_count": 42,
     "metadata": {},
     "output_type": "execute_result"
    }
   ],
   "source": [
    "my_qr_eigen(A)"
   ]
  },
  {
   "cell_type": "code",
   "execution_count": 43,
   "id": "ee5d0cc4-df8a-4a9e-ba93-52bce1138348",
   "metadata": {},
   "outputs": [
    {
     "data": {
      "text/plain": [
       "Eigen{ComplexF64, ComplexF64, Matrix{ComplexF64}, Vector{ComplexF64}}\n",
       "values:\n",
       "3-element Vector{ComplexF64}:\n",
       " -0.19573317715844563 - 0.16777135539614818im\n",
       " -0.19573317715844563 + 0.16777135539614818im\n",
       "    2.195119158115406 + 0.0im\n",
       "vectors:\n",
       "3×3 Matrix{ComplexF64}:\n",
       " -0.634161-0.0im       -0.634161+0.0im       0.572435+0.0im\n",
       "  0.264289-0.377539im   0.264289+0.377539im  0.554937+0.0im\n",
       "  0.462434+0.414258im   0.462434-0.414258im  0.603625+0.0im"
      ]
     },
     "execution_count": 43,
     "metadata": {},
     "output_type": "execute_result"
    }
   ],
   "source": [
    "eigen(A)"
   ]
  },
  {
   "cell_type": "markdown",
   "id": "4039fe8f",
   "metadata": {},
   "source": [
    "This implementation of the method does not find complex eigenvalues, so a better test is to generate a matrix with random real eigenvalues. First we compute a random orthogonal matrix and random eigenvalues, then use these data to create an eigenvalue problem."
   ]
  },
  {
   "cell_type": "code",
   "execution_count": 53,
   "id": "2facb530",
   "metadata": {},
   "outputs": [
    {
     "data": {
      "text/plain": [
       "500×500 Matrix{Float64}:\n",
       " -0.510518    0.0935994  -0.111381    …   0.135873     0.26149    -0.154912\n",
       "  0.0935994  -0.725876    0.252312       -0.202695     0.0640606  -0.0890776\n",
       " -0.111381    0.252312   -0.068077       -0.181467    -0.0145493   0.554694\n",
       "  0.285581   -0.112811    0.259708        0.189115     0.0577399   0.249033\n",
       " -0.11818    -0.0727093   0.0981581       0.00488836   0.116182    0.27687\n",
       " -0.284567   -0.248323   -0.0072064   …  -0.126586    -0.0797326   0.264791\n",
       "  0.0341852  -0.156028   -0.33149        -0.0815295    0.0882803   0.0732722\n",
       "  0.161086   -0.356508   -0.277762       -0.029749     0.164844   -0.122175\n",
       "  0.157164   -0.157559   -0.388171        0.0389507    0.126992    0.196644\n",
       " -0.0633053   0.113972   -0.270249        0.00480063  -0.208088    0.0696424\n",
       " -0.0433735  -0.281403    0.128181    …  -0.0486774   -0.15857     0.373611\n",
       "  0.186999   -0.107517   -0.0520448       0.0519109    0.045272   -0.0226283\n",
       "  0.118922   -0.0685002   0.418507        0.182975     0.182803    0.0862913\n",
       "  ⋮                                   ⋱                           \n",
       " -0.0415502   0.132304    0.164737       -0.0602731   -0.201988   -0.127329\n",
       "  0.0765086   0.350893    0.0999168       0.0507236   -0.0746943  -0.11364\n",
       " -0.0174802  -0.172625   -0.118387    …   0.0247955    0.175375   -0.032135\n",
       "  0.138449   -0.126771   -0.207487       -0.118018    -0.0562188  -0.0789038\n",
       "  0.271566   -0.0117229  -0.272248       -0.0928371   -0.118613    0.283292\n",
       "  0.0315121  -0.041866    0.410198        0.212262     0.236265    0.047647\n",
       "  0.0971171   0.139189   -0.0831234       0.0446489    0.0904759   0.133875\n",
       " -0.132477    0.275014   -0.201691    …  -0.0265984   -0.169888    0.104547\n",
       " -0.208653    0.174494    0.00600349     -0.171267     0.125919   -0.224919\n",
       "  0.135873   -0.202695   -0.181467        0.137187    -0.187505   -0.0436517\n",
       "  0.26149     0.0640606  -0.0145493      -0.187505     0.368613   -0.0591489\n",
       " -0.154912   -0.0890776   0.554694       -0.0436517   -0.0591489  -0.282281"
      ]
     },
     "execution_count": 53,
     "metadata": {},
     "output_type": "execute_result"
    }
   ],
   "source": [
    "N = 500\n",
    "D = diagm( 4 .* randn(N) )\n",
    "V,R = qr(randn(N,N))    # V is unitary\n",
    "A = V*D*V'"
   ]
  },
  {
   "cell_type": "code",
   "execution_count": 54,
   "id": "e48b899a",
   "metadata": {},
   "outputs": [
    {
     "data": {
      "text/plain": [
       "500×500 Matrix{Float64}:\n",
       " -5.69266   0.0      0.0       …  0.0     0.0       0.0      0.0\n",
       "  0.0      -6.39329  0.0          0.0     0.0       0.0      0.0\n",
       "  0.0       0.0      0.182193     0.0     0.0       0.0      0.0\n",
       "  0.0       0.0      0.0          0.0     0.0       0.0      0.0\n",
       "  0.0       0.0      0.0          0.0     0.0       0.0      0.0\n",
       "  0.0       0.0      0.0       …  0.0     0.0       0.0      0.0\n",
       "  0.0       0.0      0.0          0.0     0.0       0.0      0.0\n",
       "  0.0       0.0      0.0          0.0     0.0       0.0      0.0\n",
       "  0.0       0.0      0.0          0.0     0.0       0.0      0.0\n",
       "  0.0       0.0      0.0          0.0     0.0       0.0      0.0\n",
       "  0.0       0.0      0.0       …  0.0     0.0       0.0      0.0\n",
       "  0.0       0.0      0.0          0.0     0.0       0.0      0.0\n",
       "  0.0       0.0      0.0          0.0     0.0       0.0      0.0\n",
       "  ⋮                            ⋱                             \n",
       "  0.0       0.0      0.0          0.0     0.0       0.0      0.0\n",
       "  0.0       0.0      0.0          0.0     0.0       0.0      0.0\n",
       "  0.0       0.0      0.0       …  0.0     0.0       0.0      0.0\n",
       "  0.0       0.0      0.0          0.0     0.0       0.0      0.0\n",
       "  0.0       0.0      0.0          0.0     0.0       0.0      0.0\n",
       "  0.0       0.0      0.0          0.0     0.0       0.0      0.0\n",
       "  0.0       0.0      0.0          0.0     0.0       0.0      0.0\n",
       "  0.0       0.0      0.0       …  0.0     0.0       0.0      0.0\n",
       "  0.0       0.0      0.0          2.7688  0.0       0.0      0.0\n",
       "  0.0       0.0      0.0          0.0     2.40988   0.0      0.0\n",
       "  0.0       0.0      0.0          0.0     0.0      -3.74304  0.0\n",
       "  0.0       0.0      0.0          0.0     0.0       0.0      0.509854"
      ]
     },
     "execution_count": 54,
     "metadata": {},
     "output_type": "execute_result"
    }
   ],
   "source": [
    "D"
   ]
  },
  {
   "cell_type": "code",
   "execution_count": 55,
   "id": "28ea5f70",
   "metadata": {},
   "outputs": [
    {
     "data": {
      "text/plain": [
       "Eigen{Float64, Float64, Matrix{Float64}, Vector{Float64}}\n",
       "values:\n",
       "500-element Vector{Float64}:\n",
       " -11.79549761230988\n",
       " -10.584042707155241\n",
       "  -9.978395729661592\n",
       "  -9.283658213976308\n",
       "  -9.04422574726648\n",
       "  -8.551749177424062\n",
       "  -8.339361064366658\n",
       "  -7.875747759689917\n",
       "  -7.7749338750655586\n",
       "  -7.686598513359954\n",
       "  -7.679565111785401\n",
       "  -7.5839803579892155\n",
       "  -7.563754559267353\n",
       "   ⋮\n",
       "   6.839999654523953\n",
       "   6.8488530972037145\n",
       "   7.217136726140818\n",
       "   7.3819697814596585\n",
       "   7.699373456786094\n",
       "   8.446061916014242\n",
       "   8.85061865678645\n",
       "   9.069286822764857\n",
       "   9.191640117438665\n",
       "   9.644380090265196\n",
       "  11.903126832875207\n",
       "  14.11741101903025\n",
       "vectors:\n",
       "500×500 Matrix{Float64}:\n",
       "  0.00959945   -0.061371     0.0746262   …  -0.0413902   -0.0293884\n",
       " -0.0776378    -0.0826047   -0.0844904      -0.0294693   -0.0188618\n",
       " -0.0910258     0.0254842   -0.0351268      -0.0347388    0.0223968\n",
       " -0.0174106    -0.0094337   -0.0114329       0.0692491   -0.0454228\n",
       " -0.0224525     0.0556563    0.0783134       0.0567108    0.0159788\n",
       " -0.062705     -0.0322616   -0.0168695   …  -0.0367573    0.0993898\n",
       " -0.0857876     0.0380676    0.0400897      -0.0124595    0.0322852\n",
       " -0.0399669     0.0338127    0.00919696     -0.0399873   -0.0749771\n",
       " -0.0972497     0.0724425    0.0300332       0.0146023   -0.0138923\n",
       " -0.0355836     0.0203064   -0.0104645       0.0635473   -0.0399377\n",
       "  0.0152307    -0.109846    -0.0237539   …   0.0564061   -0.0761164\n",
       " -0.0723688    -0.0377522   -0.0156425       0.0115431    0.0528744\n",
       " -0.0396518    -0.0944609   -0.00932513      0.0397019    0.0306666\n",
       "  ⋮                                      ⋱               \n",
       "  0.0493302     0.00431465  -0.0482506       0.0043627    0.00658312\n",
       " -0.0281649     0.0120059   -0.065061       -0.0104872   -0.00718671\n",
       " -0.0313976    -0.0275038   -0.0385482   …   0.0220173   -0.0461648\n",
       "  0.0407814     0.00374544  -0.0602254      -0.00430611   0.00822553\n",
       "  0.02755      -0.0358879   -0.0294264      -0.0320901   -0.0631731\n",
       " -0.080595      0.00117068   0.0400037      -0.00268619   0.0669126\n",
       " -0.0132849    -0.0305351    0.0353704      -0.0428296   -0.0355232\n",
       "  0.0180924    -0.00387883  -0.0382594   …   0.0856844   -0.0448689\n",
       "  0.0198191     0.0156435   -0.0354098      -0.0222959    0.050415\n",
       "  0.000310896   0.0400534    0.00374061      0.0609707   -0.0306774\n",
       "  0.0368622    -0.00986309  -0.0280616      -0.0437569    0.0737593\n",
       "  0.0664997     0.0334679    0.0118494       0.0450594    0.0245499"
      ]
     },
     "execution_count": 55,
     "metadata": {},
     "output_type": "execute_result"
    }
   ],
   "source": [
    "eigen(A)"
   ]
  },
  {
   "cell_type": "code",
   "execution_count": 56,
   "id": "c1968842",
   "metadata": {},
   "outputs": [
    {
     "data": {
      "text/plain": [
       "500×500 Matrix{Float64}:\n",
       " -5.69266   0.0      0.0       …  0.0     0.0       0.0      0.0\n",
       "  0.0      -6.39329  0.0          0.0     0.0       0.0      0.0\n",
       "  0.0       0.0      0.182193     0.0     0.0       0.0      0.0\n",
       "  0.0       0.0      0.0          0.0     0.0       0.0      0.0\n",
       "  0.0       0.0      0.0          0.0     0.0       0.0      0.0\n",
       "  0.0       0.0      0.0       …  0.0     0.0       0.0      0.0\n",
       "  0.0       0.0      0.0          0.0     0.0       0.0      0.0\n",
       "  0.0       0.0      0.0          0.0     0.0       0.0      0.0\n",
       "  0.0       0.0      0.0          0.0     0.0       0.0      0.0\n",
       "  0.0       0.0      0.0          0.0     0.0       0.0      0.0\n",
       "  0.0       0.0      0.0       …  0.0     0.0       0.0      0.0\n",
       "  0.0       0.0      0.0          0.0     0.0       0.0      0.0\n",
       "  0.0       0.0      0.0          0.0     0.0       0.0      0.0\n",
       "  ⋮                            ⋱                             \n",
       "  0.0       0.0      0.0          0.0     0.0       0.0      0.0\n",
       "  0.0       0.0      0.0          0.0     0.0       0.0      0.0\n",
       "  0.0       0.0      0.0       …  0.0     0.0       0.0      0.0\n",
       "  0.0       0.0      0.0          0.0     0.0       0.0      0.0\n",
       "  0.0       0.0      0.0          0.0     0.0       0.0      0.0\n",
       "  0.0       0.0      0.0          0.0     0.0       0.0      0.0\n",
       "  0.0       0.0      0.0          0.0     0.0       0.0      0.0\n",
       "  0.0       0.0      0.0       …  0.0     0.0       0.0      0.0\n",
       "  0.0       0.0      0.0          2.7688  0.0       0.0      0.0\n",
       "  0.0       0.0      0.0          0.0     2.40988   0.0      0.0\n",
       "  0.0       0.0      0.0          0.0     0.0      -3.74304  0.0\n",
       "  0.0       0.0      0.0          0.0     0.0       0.0      0.509854"
      ]
     },
     "execution_count": 56,
     "metadata": {},
     "output_type": "execute_result"
    }
   ],
   "source": [
    "D"
   ]
  },
  {
   "cell_type": "code",
   "execution_count": 57,
   "id": "9b99542d",
   "metadata": {},
   "outputs": [
    {
     "data": {
      "text/plain": [
       "500-element Vector{Float64}:\n",
       " -11.7367009917984\n",
       " -10.567321709211539\n",
       "  -9.980495752826357\n",
       "  -7.431851096258328\n",
       "  -7.2738478735975605\n",
       "  -6.990656273457643\n",
       "  -6.910857646957828\n",
       "  -6.844999387190443\n",
       "  -6.650619493765232\n",
       "  -6.546665557069242\n",
       "  -6.428811599152057\n",
       "  -5.877431621805072\n",
       "  -5.8700732040595565\n",
       "   ⋮\n",
       "   2.9893915350519844\n",
       "   3.173037722959543\n",
       "   3.201325931092465\n",
       "   3.210942091948737\n",
       "   3.2221244381988585\n",
       "   3.6492339460654435\n",
       "   4.054515168784374\n",
       "   4.734668341445101\n",
       "   5.635922977437742\n",
       "   9.198550641254712\n",
       "  11.844084190475199\n",
       "  14.117404238826417"
      ]
     },
     "execution_count": 57,
     "metadata": {},
     "output_type": "execute_result"
    }
   ],
   "source": [
    "my_qr_eigen(A)"
   ]
  },
  {
   "cell_type": "markdown",
   "id": "3ee9c0c8",
   "metadata": {},
   "source": [
    "A small extension will find the complex eigenvalues. Find each 2x2 block (with non-zero values off the diagonal) in the similar matrix $A_k$ and get each pair of complex conjugate eigenvalues from those blocks."
   ]
  },
  {
   "cell_type": "code",
   "execution_count": 15,
   "id": "eed96ee2",
   "metadata": {},
   "outputs": [
    {
     "data": {
      "text/plain": [
       "3×3 Matrix{Int64}:\n",
       " -1   2  3\n",
       "  1  -1  2\n",
       "  0  -1  2"
      ]
     },
     "execution_count": 15,
     "metadata": {},
     "output_type": "execute_result"
    }
   ],
   "source": [
    "A = [ -1 2 3 ; 1 -1 2 ; 0 -1 2]"
   ]
  },
  {
   "cell_type": "code",
   "execution_count": 58,
   "id": "488dacfe",
   "metadata": {},
   "outputs": [
    {
     "data": {
      "text/plain": [
       "500-element Vector{Float64}:\n",
       " -11.79549761230988\n",
       " -10.584042707155241\n",
       "  -9.978395729661592\n",
       "  -9.283658213976308\n",
       "  -9.04422574726648\n",
       "  -8.551749177424062\n",
       "  -8.339361064366658\n",
       "  -7.875747759689917\n",
       "  -7.7749338750655586\n",
       "  -7.686598513359954\n",
       "  -7.679565111785401\n",
       "  -7.5839803579892155\n",
       "  -7.563754559267353\n",
       "   ⋮\n",
       "   6.839999654523953\n",
       "   6.8488530972037145\n",
       "   7.217136726140818\n",
       "   7.3819697814596585\n",
       "   7.699373456786094\n",
       "   8.446061916014242\n",
       "   8.85061865678645\n",
       "   9.069286822764857\n",
       "   9.191640117438665\n",
       "   9.644380090265196\n",
       "  11.903126832875207\n",
       "  14.11741101903025"
      ]
     },
     "execution_count": 58,
     "metadata": {},
     "output_type": "execute_result"
    }
   ],
   "source": [
    "eigen(A).values"
   ]
  },
  {
   "cell_type": "code",
   "execution_count": 44,
   "id": "d3c12294",
   "metadata": {},
   "outputs": [
    {
     "data": {
      "text/plain": [
       "3×3 Matrix{Float64}:\n",
       " 2.19512       0.00483386   0.237188\n",
       " 1.59099e-37  -0.123667    -0.160085\n",
       " 9.7766e-38    0.20827     -0.267799"
      ]
     },
     "execution_count": 44,
     "metadata": {},
     "output_type": "execute_result"
    }
   ],
   "source": [
    "for i in 1:40\n",
    "    Q,R = qr(A)\n",
    "    A = R*Q\n",
    "end\n",
    "A"
   ]
  },
  {
   "cell_type": "code",
   "execution_count": 45,
   "id": "eb3e5990",
   "metadata": {},
   "outputs": [
    {
     "data": {
      "text/plain": [
       "2-element Vector{ComplexF64}:\n",
       " -0.1957331771584458 - 0.16777135539614807im\n",
       " -0.1957331771584458 + 0.16777135539614807im"
      ]
     },
     "execution_count": 45,
     "metadata": {},
     "output_type": "execute_result"
    }
   ],
   "source": [
    "eigen(A[2:3,2:3]).values"
   ]
  },
  {
   "cell_type": "code",
   "execution_count": 46,
   "id": "d9bfedef",
   "metadata": {},
   "outputs": [
    {
     "data": {
      "text/plain": [
       "-0.1957331771584458 + 0.1677713553961481im"
      ]
     },
     "execution_count": 46,
     "metadata": {},
     "output_type": "execute_result"
    }
   ],
   "source": [
    "quad_roots(a,b,c) = (-b + sqrt(Complex(b^2 - 4*a*c)))/(2*a)\n",
    "quad_roots(1, -A[2,2]-A[3,3], A[2,2]*A[3,3] - A[2,3]*A[3,2])"
   ]
  },
  {
   "cell_type": "markdown",
   "id": "cb1eee51",
   "metadata": {},
   "source": [
    "Ta Da!"
   ]
  },
  {
   "cell_type": "code",
   "execution_count": null,
   "id": "699994c4",
   "metadata": {},
   "outputs": [],
   "source": []
  }
 ],
 "metadata": {
  "kernelspec": {
   "display_name": "Julia 1.8.4",
   "language": "julia",
   "name": "julia-1.8"
  },
  "language_info": {
   "file_extension": ".jl",
   "mimetype": "application/julia",
   "name": "julia",
   "version": "1.8.4"
  }
 },
 "nbformat": 4,
 "nbformat_minor": 5
}
