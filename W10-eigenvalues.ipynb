{
 "cells": [
  {
   "cell_type": "markdown",
   "id": "d1c74e2b-ad8c-449c-b226-1b670e2209df",
   "metadata": {},
   "source": [
    "## Eigenvalues\n",
    "\n",
    "Chapter 7.\n",
    "\n",
    "The eigenvalue problem is to find all $\\lambda$ and $v$ such that $Av=\\lambda v$ for a matix $A$.\n",
    "\n",
    "For hand calculations we usually find the roots of $\\det(A-\\lambda I)$. An $n$ x $n$ matrix has $n$ eigenvalues, counting double roots twice, etc. We can then form a diagonal matrix $D$ from the eigenvalues and a matrix $V$ with columns equal to the corresponding eigenvectors. Then we can write $AV = VD$. If $V$ is invertible, then $A = VDV^{-1}$. This is called the eigenvalue decomposition (EVD). If it exists, then $A$ is said to be diagonalizable.\n",
    "\n",
    "If $A$ has $n$ distinct eigenvalues, then it is diagonalizable.\n",
    "\n",
    "If $S$ is non-singular, then the similiarity transform $B = SAS^{-1}$ yields a matrix $B$ with the same eigenvalues as $A$.\n",
    "\n",
    "\n",
    "\n",
    "Special terms for matrices with complex entries:\n",
    "\n",
    "* A adjoint of a matrix $A$ is written $A^*$ and is computed as the complex conjugate of its transpose: $A^* = \\bar{A}^T$. In Julia the transpose is computed using the single quotation operator: `A'` and for complex matrices, this is the conjugate transpose.\n",
    "* A unitary matrix is a complex matrix with orthogonal columns, $A^* = A^{-1}$."
   ]
  },
  {
   "cell_type": "markdown",
   "id": "65d36172-fede-4184-af72-5990fcce2666",
   "metadata": {},
   "source": [
    "## Power method for finding algorithms\n",
    "\n",
    "Section 8.2 detour.\n",
    "\n",
    "Starting from an initial guess $v_0$ we can compute $v_{k+1} = Av_{k}$. If the dominant eigenvalue (largest magnitude) is 1, then this sequence will converge to the corresponding eigenvector. In all other cases, we normalize $v_k$ at each iteration to ensure its norm does not shrink to 0 or grow to infinity."
   ]
  },
  {
   "cell_type": "code",
   "execution_count": 1,
   "id": "b6b8e523-902d-45d6-b7b2-f3caaae283d3",
   "metadata": {},
   "outputs": [
    {
     "data": {
      "text/plain": [
       "my_power (generic function with 1 method)"
      ]
     },
     "execution_count": 1,
     "metadata": {},
     "output_type": "execute_result"
    }
   ],
   "source": [
    "using LinearAlgebra\n",
    "function my_power(A; v0 = randn(size(A)[1]), n = 100)\n",
    "    v = v0\n",
    "    last_lambda = Inf\n",
    "    lambda = 1.0\n",
    "    for i in 1:n\n",
    "        v = A*v\n",
    "        lambda = norm(v)\n",
    "        v = v / lambda\n",
    "        if abs(last_lambda - lambda ) < 1e-8\n",
    "            break\n",
    "        end\n",
    "        last_lambda = lambda\n",
    "    end\n",
    "    (lambda, v)\n",
    "end"
   ]
  },
  {
   "cell_type": "code",
   "execution_count": 2,
   "id": "e7bceb9d-b1c0-4f36-ae75-a5fe48f0f9c0",
   "metadata": {},
   "outputs": [
    {
     "data": {
      "text/plain": [
       "3×3 Matrix{Int64}:\n",
       "  1   2  5\n",
       " -2   4  0\n",
       "  1  -1  1"
      ]
     },
     "execution_count": 2,
     "metadata": {},
     "output_type": "execute_result"
    }
   ],
   "source": [
    "A = [ 1 2 5 ; -2 4 0; 1 -1 1]"
   ]
  },
  {
   "cell_type": "code",
   "execution_count": 3,
   "id": "d7e60540-ce7c-4569-b02d-537af014eb46",
   "metadata": {},
   "outputs": [
    {
     "data": {
      "text/plain": [
       "(3.675130889221877, [-0.15318478251892112, -0.9430553688467876, 0.29526427771384745])"
      ]
     },
     "execution_count": 3,
     "metadata": {},
     "output_type": "execute_result"
    }
   ],
   "source": [
    "my_power(A, v0 = [1,1,1])"
   ]
  },
  {
   "cell_type": "code",
   "execution_count": 4,
   "id": "fb9001f4",
   "metadata": {},
   "outputs": [
    {
     "data": {
      "text/plain": [
       "(3.675130888130893, [-0.15318478285523296, -0.9430553688206202, 0.29526427762294427])"
      ]
     },
     "execution_count": 4,
     "metadata": {},
     "output_type": "execute_result"
    }
   ],
   "source": [
    "my_power(A)"
   ]
  },
  {
   "cell_type": "code",
   "execution_count": 5,
   "id": "97d83e43-b601-4082-8349-8c89ce5c4a45",
   "metadata": {},
   "outputs": [
    {
     "data": {
      "text/plain": [
       "Eigen{Float64, Float64, Matrix{Float64}, Vector{Float64}}\n",
       "values:\n",
       "3-element Vector{Float64}:\n",
       " -0.21431974337753612\n",
       "  2.5391888728108905\n",
       "  3.6751308705666412\n",
       "vectors:\n",
       "3×3 Matrix{Float64}:\n",
       " -0.841424   0.584012   0.153185\n",
       " -0.399316   0.799573   0.943055\n",
       "  0.364078  -0.140048  -0.295264"
      ]
     },
     "execution_count": 5,
     "metadata": {},
     "output_type": "execute_result"
    }
   ],
   "source": [
    "eigen(A)"
   ]
  },
  {
   "cell_type": "code",
   "execution_count": 6,
   "id": "2a7878cf-5656-4bae-a303-80590b4c2a43",
   "metadata": {},
   "outputs": [
    {
     "data": {
      "text/plain": [
       "(2.098023299800106, [0.6287510540813102, 0.45881703462295226, 0.6278208667537595])"
      ]
     },
     "execution_count": 6,
     "metadata": {},
     "output_type": "execute_result"
    }
   ],
   "source": [
    "A = rand(3,3)\n",
    "my_power(A, v0 = [1,1,1])"
   ]
  },
  {
   "cell_type": "code",
   "execution_count": 7,
   "id": "a9848067-bb02-4431-b5c9-962d20d4f209",
   "metadata": {},
   "outputs": [
    {
     "data": {
      "text/plain": [
       "Eigen{Float64, Float64, Matrix{Float64}, Vector{Float64}}\n",
       "values:\n",
       "3-element Vector{Float64}:\n",
       " -0.2541070272711071\n",
       " -0.050719488912378\n",
       "  2.0980232999649915\n",
       "vectors:\n",
       "3×3 Matrix{Float64}:\n",
       "  0.483171   0.805519  0.628751\n",
       " -0.865236  -0.372447  0.458817\n",
       "  0.133839  -0.460892  0.627821"
      ]
     },
     "execution_count": 7,
     "metadata": {},
     "output_type": "execute_result"
    }
   ],
   "source": [
    "eigen(A)"
   ]
  },
  {
   "cell_type": "markdown",
   "id": "4068603b-e060-43f7-9068-4ab04d759293",
   "metadata": {},
   "source": [
    "The convergence of this method depends on the ratio of the two largest eigenvalues.\n",
    "\n",
    "The method can be adapted (Section 8.3, inverse iteration) to find the smallest eigenvalue.\n",
    "\n",
    "Demo 7.2.12 shows how the QR factorization and iteration can be used to find eigenvalues and eigenvectors, but does not explain how the method works. See the Wikipedia article on the [Francis algorithm](https://en.wikipedia.org/wiki/QR_algorithm)."
   ]
  },
  {
   "cell_type": "code",
   "execution_count": 8,
   "id": "a36bba93-38c3-418d-be6b-324b5679cf75",
   "metadata": {},
   "outputs": [
    {
     "data": {
      "text/plain": [
       "my_qr_eigen (generic function with 1 method)"
      ]
     },
     "execution_count": 8,
     "metadata": {},
     "output_type": "execute_result"
    }
   ],
   "source": [
    "function my_qr_eigen(A0)\n",
    "    A = copy(A0)\n",
    "    for i in 1:40\n",
    "      Q, R = qr(A)\n",
    "      A = R*Q\n",
    "    end\n",
    "    sort(diag(A))\n",
    "end"
   ]
  },
  {
   "cell_type": "markdown",
   "id": "ec6a7c57",
   "metadata": {},
   "source": [
    "The sequence $A_k$ of matrices are all similar (they have the same eigenvalues) since $A_{k+1} = R_kQ_k = Q_k^{-1}Q_kR_kQ_k = Q^{-1}_kAQ_k = Q^T_kAQ_k$\n",
    "\n",
    "This sequence will (under some conditions) converge to the Shur form of $A$, which is upper triangular. The eigenvalues are then the diagonal entries."
   ]
  },
  {
   "cell_type": "code",
   "execution_count": 9,
   "id": "c28b23a9-e8ac-4978-afe3-ceb829c981d6",
   "metadata": {},
   "outputs": [
    {
     "data": {
      "text/plain": [
       "3-element Vector{Float64}:\n",
       " -0.2541070272711068\n",
       " -0.05071948891237779\n",
       "  2.0980232999649897"
      ]
     },
     "execution_count": 9,
     "metadata": {},
     "output_type": "execute_result"
    }
   ],
   "source": [
    "my_qr_eigen(A)"
   ]
  },
  {
   "cell_type": "code",
   "execution_count": 10,
   "id": "ee5d0cc4-df8a-4a9e-ba93-52bce1138348",
   "metadata": {},
   "outputs": [
    {
     "data": {
      "text/plain": [
       "Eigen{Float64, Float64, Matrix{Float64}, Vector{Float64}}\n",
       "values:\n",
       "3-element Vector{Float64}:\n",
       " -0.2541070272711071\n",
       " -0.050719488912378\n",
       "  2.0980232999649915\n",
       "vectors:\n",
       "3×3 Matrix{Float64}:\n",
       "  0.483171   0.805519  0.628751\n",
       " -0.865236  -0.372447  0.458817\n",
       "  0.133839  -0.460892  0.627821"
      ]
     },
     "execution_count": 10,
     "metadata": {},
     "output_type": "execute_result"
    }
   ],
   "source": [
    "eigen(A)"
   ]
  },
  {
   "cell_type": "markdown",
   "id": "ae447b77",
   "metadata": {},
   "source": [
    "This implementation of the method does not find complex eigenvalues, so a better test is to generate a matrix with random real eigenvalues. First we compute a random orthogonal matrix and random eigenvalues, then use these data to create an eigenvalue problem."
   ]
  },
  {
   "cell_type": "code",
   "execution_count": 11,
   "id": "b349d367",
   "metadata": {},
   "outputs": [
    {
     "data": {
      "text/plain": [
       "5×5 Matrix{Float64}:\n",
       " -1.38806   0.822222  -1.34337   0.685584   0.696068\n",
       "  0.822222  0.185604   1.13546   0.171165   0.513261\n",
       " -1.34337   1.13546    0.315399  0.524032  -1.03975\n",
       "  0.685584  0.171165   0.524032  1.15788    0.452994\n",
       "  0.696068  0.513261  -1.03975   0.452994  -1.03136"
      ]
     },
     "execution_count": 11,
     "metadata": {},
     "output_type": "execute_result"
    }
   ],
   "source": [
    "N = 5\n",
    "D = diagm( 4 .* randn(N) )\n",
    "V,R = qr(randn(N,N))    # V is unitary\n",
    "A = V*D*V'"
   ]
  },
  {
   "cell_type": "code",
   "execution_count": 12,
   "id": "e56e0854",
   "metadata": {},
   "outputs": [
    {
     "data": {
      "text/plain": [
       "Eigen{Float64, Float64, Matrix{Float64}, Vector{Float64}}\n",
       "values:\n",
       "5-element Vector{Float64}:\n",
       " -2.8840013916607257\n",
       " -1.7718654278821173\n",
       "  0.44377729202546506\n",
       "  1.6523115335718743\n",
       "  1.799238333351255\n",
       "vectors:\n",
       "5×5 Matrix{Float64}:\n",
       " -0.694332   0.476969   -0.249483   -0.472014  -0.073244\n",
       "  0.403768   0.131573   -0.761381   -0.131771   0.4718\n",
       " -0.52948   -0.197257    0.0317123   0.456213   0.686735\n",
       "  0.191163   0.0466413   0.548753   -0.607785   0.539211\n",
       " -0.194889  -0.845046   -0.236476   -0.426974  -0.0984245"
      ]
     },
     "execution_count": 12,
     "metadata": {},
     "output_type": "execute_result"
    }
   ],
   "source": [
    "eigen(A)"
   ]
  },
  {
   "cell_type": "code",
   "execution_count": 13,
   "id": "c553a753",
   "metadata": {},
   "outputs": [
    {
     "data": {
      "text/plain": [
       "5×5 Matrix{Float64}:\n",
       " -2.884  0.0      0.0       0.0       0.0\n",
       "  0.0    1.79924  0.0       0.0       0.0\n",
       "  0.0    0.0      0.443777  0.0       0.0\n",
       "  0.0    0.0      0.0       1.65231   0.0\n",
       "  0.0    0.0      0.0       0.0      -1.77187"
      ]
     },
     "execution_count": 13,
     "metadata": {},
     "output_type": "execute_result"
    }
   ],
   "source": [
    "D"
   ]
  },
  {
   "cell_type": "code",
   "execution_count": 14,
   "id": "94199d2d",
   "metadata": {},
   "outputs": [
    {
     "data": {
      "text/plain": [
       "5-element Vector{Float64}:\n",
       " -2.884001391660729\n",
       " -1.0031112178614159\n",
       "  0.44377729202546523\n",
       "  1.0487449550237447\n",
       "  1.6340507018786818"
      ]
     },
     "execution_count": 14,
     "metadata": {},
     "output_type": "execute_result"
    }
   ],
   "source": [
    "my_qr_eigen(A)"
   ]
  },
  {
   "cell_type": "markdown",
   "id": "acdbfcfa",
   "metadata": {},
   "source": [
    "A small extension will find the complex eigenvalues. Find each 2x2 block (with non-zero values off the diagonal) in the similar matrix $A_k$ and get each pair of complex conjugate eigenvalues from those blocks."
   ]
  },
  {
   "cell_type": "code",
   "execution_count": 15,
   "id": "8777a804",
   "metadata": {},
   "outputs": [
    {
     "data": {
      "text/plain": [
       "3×3 Matrix{Int64}:\n",
       " -1   2  3\n",
       "  1  -1  2\n",
       "  0  -1  2"
      ]
     },
     "execution_count": 15,
     "metadata": {},
     "output_type": "execute_result"
    }
   ],
   "source": [
    "A = [ -1 2 3 ; 1 -1 2 ; 0 -1 2]"
   ]
  },
  {
   "cell_type": "code",
   "execution_count": 16,
   "id": "bad8dce1",
   "metadata": {},
   "outputs": [
    {
     "data": {
      "text/plain": [
       "3-element Vector{ComplexF64}:\n",
       " -2.425988757361625 + 0.0im\n",
       "  1.212994378680811 - 1.189145108106551im\n",
       "  1.212994378680811 + 1.189145108106551im"
      ]
     },
     "execution_count": 16,
     "metadata": {},
     "output_type": "execute_result"
    }
   ],
   "source": [
    "eigen(A).values"
   ]
  },
  {
   "cell_type": "code",
   "execution_count": 17,
   "id": "056aa0d2",
   "metadata": {},
   "outputs": [
    {
     "data": {
      "text/plain": [
       "3×3 Matrix{Float64}:\n",
       " -2.42599     1.66448   0.886915\n",
       "  1.8755e-6   0.879509  3.49309\n",
       "  0.0        -0.436656  1.54648"
      ]
     },
     "execution_count": 17,
     "metadata": {},
     "output_type": "execute_result"
    }
   ],
   "source": [
    "for i in 1:40\n",
    "    Q,R = qr(A)\n",
    "    A = R*Q\n",
    "end\n",
    "A"
   ]
  },
  {
   "cell_type": "code",
   "execution_count": 18,
   "id": "8308d9a1",
   "metadata": {},
   "outputs": [
    {
     "data": {
      "text/plain": [
       "2-element Vector{ComplexF64}:\n",
       " 1.21299393084036 - 1.1891450502365752im\n",
       " 1.21299393084036 + 1.1891450502365752im"
      ]
     },
     "execution_count": 18,
     "metadata": {},
     "output_type": "execute_result"
    }
   ],
   "source": [
    "eigen(A[2:3,2:3]).values"
   ]
  },
  {
   "cell_type": "code",
   "execution_count": 19,
   "id": "2448b241",
   "metadata": {},
   "outputs": [
    {
     "data": {
      "text/plain": [
       "1.21299393084036 + 1.1891450502365757im"
      ]
     },
     "execution_count": 19,
     "metadata": {},
     "output_type": "execute_result"
    }
   ],
   "source": [
    "quad_roots(a,b,c) = (-b + sqrt(Complex(b^2 - 4*a*c)))/(2*a)\n",
    "quad_roots(1, -A[2,2]-A[3,3], A[2,2]*A[3,3] - A[2,3]*A[3,2])"
   ]
  },
  {
   "cell_type": "markdown",
   "id": "856cd83d",
   "metadata": {},
   "source": [
    "Ta Da!"
   ]
  },
  {
   "cell_type": "code",
   "execution_count": null,
   "id": "19ba0c35",
   "metadata": {},
   "outputs": [],
   "source": []
  }
 ],
 "metadata": {
  "kernelspec": {
   "display_name": "Julia 1.8.4",
   "language": "julia",
   "name": "julia-1.8"
  },
  "language_info": {
   "file_extension": ".jl",
   "mimetype": "application/julia",
   "name": "julia",
   "version": "1.8.4"
  }
 },
 "nbformat": 4,
 "nbformat_minor": 5
}
