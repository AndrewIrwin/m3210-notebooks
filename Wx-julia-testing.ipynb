{
 "cells": [
  {
   "cell_type": "markdown",
   "id": "9c9075b5-a380-49e7-9647-9fec5e2e38fc",
   "metadata": {},
   "source": [
    "# Testing\n",
    "\n",
    "How do you know your code works? You need to test it.\n"
   ]
  },
  {
   "cell_type": "markdown",
   "id": "e53159b0-89e6-42a8-8cf6-20e22c30d719",
   "metadata": {},
   "source": [
    "## Hand crafted tests\n",
    "\n"
   ]
  },
  {
   "cell_type": "code",
   "execution_count": 32,
   "id": "6d2f90d9-ffea-4301-9531-d227df73d421",
   "metadata": {},
   "outputs": [
    {
     "data": {
      "text/plain": [
       "\u001b[32m\u001b[1mTest Passed\u001b[22m\u001b[39m"
      ]
     },
     "execution_count": 32,
     "metadata": {},
     "output_type": "execute_result"
    }
   ],
   "source": [
    "using Test\n",
    "@test sin(pi) ≈ 0.0"
   ]
  },
  {
   "cell_type": "code",
   "execution_count": 42,
   "id": "3a17a207-e345-4684-89bf-7b15b9bcb147",
   "metadata": {},
   "outputs": [
    {
     "data": {
      "text/plain": [
       "\u001b[32m\u001b[1mTest Passed\u001b[22m\u001b[39m"
      ]
     },
     "execution_count": 42,
     "metadata": {},
     "output_type": "execute_result"
    }
   ],
   "source": [
    "@test isapprox( abs(exp(1im * pi) + 1), 0.0, atol = 1e-15) # https://en.wikipedia.org/wiki/Euler%27s_identity"
   ]
  },
  {
   "cell_type": "code",
   "execution_count": 44,
   "id": "894399f9-1e97-40fe-a084-9fab4e082f91",
   "metadata": {},
   "outputs": [
    {
     "data": {
      "text/plain": [
       "\u001b[32m\u001b[1mTest Passed\u001b[22m\u001b[39m\n",
       "      Thrown: DomainError"
      ]
     },
     "execution_count": 44,
     "metadata": {},
     "output_type": "execute_result"
    }
   ],
   "source": [
    "@test_throws DomainError sqrt(-1.0)"
   ]
  },
  {
   "cell_type": "code",
   "execution_count": 45,
   "id": "2d8389e3-05aa-4bdf-8da7-a04733d6e78f",
   "metadata": {},
   "outputs": [
    {
     "data": {
      "text/plain": [
       "\u001b[32m\u001b[1mTest Passed\u001b[22m\u001b[39m"
      ]
     },
     "execution_count": 45,
     "metadata": {},
     "output_type": "execute_result"
    }
   ],
   "source": [
    "@test 2^64 == 0"
   ]
  },
  {
   "cell_type": "markdown",
   "id": "180ace44-eeb8-4410-8b49-62b0e0e4ce82",
   "metadata": {},
   "source": [
    "## Random tests\n",
    "\n",
    "See documentation at https://docs.juliahub.com/RandomizedPropertyTest/mHBi5/0.1.0/\n",
    "\n",
    "Demonstrate a test of multiplicative associativity."
   ]
  },
  {
   "cell_type": "code",
   "execution_count": 3,
   "id": "038759c8-60d8-4f6e-860d-b9816ebc231b",
   "metadata": {},
   "outputs": [],
   "source": [
    "using RandomizedPropertyTest"
   ]
  },
  {
   "cell_type": "code",
   "execution_count": 4,
   "id": "072e81c1-b125-401f-8756-f65ee0bdf6c5",
   "metadata": {},
   "outputs": [
    {
     "data": {
      "text/plain": [
       "true"
      ]
     },
     "execution_count": 4,
     "metadata": {},
     "output_type": "execute_result"
    }
   ],
   "source": [
    "@quickcheck (a*b == b*a || any(isnan, (a,b, a*b))) ((a,b) :: Float64)"
   ]
  },
  {
   "cell_type": "markdown",
   "id": "15060e98-8d1d-4c07-ba5f-3c26904ce9c8",
   "metadata": {},
   "source": [
    "Test additive associativity."
   ]
  },
  {
   "cell_type": "code",
   "execution_count": 25,
   "id": "a34c9124-7cc4-45ad-afef-fd0a0d18dcdb",
   "metadata": {},
   "outputs": [
    {
     "name": "stderr",
     "output_type": "stream",
     "text": [
      "\u001b[33m\u001b[1m┌ \u001b[22m\u001b[39m\u001b[33m\u001b[1mWarning: \u001b[22m\u001b[39mProperty `(a + b) - a == a + (b - a) || any(!isfinite, (a, b))` does not hold for (a = 9.007199254740992e15, b = 1.0).\n",
      "\u001b[33m\u001b[1m└ \u001b[22m\u001b[39m\u001b[90m@ RandomizedPropertyTest ~/.julia/packages/RandomizedPropertyTest/X6sGA/src/RandomizedPropertyTest.jl:150\u001b[39m\n"
     ]
    },
    {
     "data": {
      "text/plain": [
       "false"
      ]
     },
     "execution_count": 25,
     "metadata": {},
     "output_type": "execute_result"
    }
   ],
   "source": [
    "@quickcheck ( (a + b) - a == a + (b-a) || any(!isfinite, (a,b))) ((a,b) :: Float64)"
   ]
  },
  {
   "cell_type": "code",
   "execution_count": 28,
   "id": "b61ec62b-a028-4794-8cee-f6421bd77763",
   "metadata": {},
   "outputs": [
    {
     "name": "stdout",
     "output_type": "stream",
     "text": [
      "((a + b) - a, a + (b - a)) = (0.0, 1.0)\n"
     ]
    },
    {
     "data": {
      "text/plain": [
       "(0.0, 1.0)"
      ]
     },
     "execution_count": 28,
     "metadata": {},
     "output_type": "execute_result"
    }
   ],
   "source": [
    "a, b = 9.007199254740992e15, 1.0;\n",
    "@show (a+b)-a, a + (b-a)"
   ]
  },
  {
   "cell_type": "code",
   "execution_count": 30,
   "id": "54d5389e-568b-484f-a2ad-684a85663177",
   "metadata": {},
   "outputs": [
    {
     "name": "stderr",
     "output_type": "stream",
     "text": [
      "\u001b[33m\u001b[1m┌ \u001b[22m\u001b[39m\u001b[33m\u001b[1mWarning: \u001b[22m\u001b[39mProperty `(a + b) - a == a + (b - a) || (any(!isfinite, (a, b)) || abs(a - b) > 1000.0)` does not hold for (a = -1.1102230246251565e-16, b = 1.0).\n",
      "\u001b[33m\u001b[1m└ \u001b[22m\u001b[39m\u001b[90m@ RandomizedPropertyTest ~/.julia/packages/RandomizedPropertyTest/X6sGA/src/RandomizedPropertyTest.jl:150\u001b[39m\n"
     ]
    },
    {
     "data": {
      "text/plain": [
       "false"
      ]
     },
     "execution_count": 30,
     "metadata": {},
     "output_type": "execute_result"
    }
   ],
   "source": [
    "@quickcheck ( (a + b) - a == a + (b-a) || any(!isfinite, (a,b)) || abs(a-b) > 1e3) ((a,b) :: Float64)"
   ]
  },
  {
   "cell_type": "markdown",
   "id": "e69a5885-a136-4223-848e-749bbaf68d51",
   "metadata": {},
   "source": [
    "Test the bisection root-finding algorithm to find square roots for non-negative, finite real numbers."
   ]
  },
  {
   "cell_type": "code",
   "execution_count": 11,
   "id": "e7dde7a9-e07b-4bb6-a0f0-d6e84c74b786",
   "metadata": {},
   "outputs": [
    {
     "data": {
      "text/plain": [
       "1.4142135623730951"
      ]
     },
     "execution_count": 11,
     "metadata": {},
     "output_type": "execute_result"
    }
   ],
   "source": [
    "using Roots\n",
    "find_zero(x -> x^2 - 2.0, (0, 2), Bisection())"
   ]
  },
  {
   "cell_type": "code",
   "execution_count": 19,
   "id": "03d27b05-2ae1-42d8-82ab-fbfdb01871f2",
   "metadata": {},
   "outputs": [
    {
     "data": {
      "text/plain": [
       "true"
      ]
     },
     "execution_count": 19,
     "metadata": {},
     "output_type": "execute_result"
    }
   ],
   "source": [
    "@quickcheck ( z <= 1 || !isfinite(z) || find_zero(x -> x^2 - z, (0, z), Bisection()) ≈ sqrt(z) ) ( z :: Float64)"
   ]
  },
  {
   "cell_type": "code",
   "execution_count": 20,
   "id": "0c67666d-999e-4cb0-8c1b-e7c1407994fd",
   "metadata": {},
   "outputs": [
    {
     "data": {
      "text/plain": [
       "true"
      ]
     },
     "execution_count": 20,
     "metadata": {},
     "output_type": "execute_result"
    }
   ],
   "source": [
    "@quickcheck ( z > 1 || z < 0 || !isfinite(z) || find_zero(x -> x^2 - z, (0, 1), Bisection()) ≈ sqrt(z) ) ( z :: Float64)"
   ]
  },
  {
   "cell_type": "code",
   "execution_count": null,
   "id": "c9a01249-d155-4ace-b763-4339c48622bb",
   "metadata": {},
   "outputs": [],
   "source": []
  }
 ],
 "metadata": {
  "kernelspec": {
   "display_name": "Julia 1.8.4",
   "language": "julia",
   "name": "julia-1.8"
  },
  "language_info": {
   "file_extension": ".jl",
   "mimetype": "application/julia",
   "name": "julia",
   "version": "1.8.5"
  }
 },
 "nbformat": 4,
 "nbformat_minor": 5
}
