{
 "cells": [
  {
   "cell_type": "markdown",
   "id": "55182615-c136-487d-889c-6d68be8e2403",
   "metadata": {},
   "source": [
    "# Using Julia"
   ]
  },
  {
   "cell_type": "markdown",
   "id": "812b0a95-6675-4af7-a4e1-c0ff033d221c",
   "metadata": {},
   "source": [
    "## Installing Julia\n",
    "\n",
    "Download Julia from [julialang.org](https://julialang.org/). For Mac, install the latest version (1.8.4). For Windows, there is a problem with installing plotting tools with this version, so I suggest you install the long-term stable version (1.6.7).\n",
    "\n",
    "Once you install Julia, launch the application.\n",
    "\n",
    "Type 1+1, hit return. If you get 2, then you have installed Julia and it's working."
   ]
  },
  {
   "cell_type": "markdown",
   "id": "4a7a9236-a626-4e53-b67d-709af8a6c9de",
   "metadata": {},
   "source": [
    "## Installing packages\n",
    "\n",
    "There are many add-on packages for Julia that can be installed. We will use a few this term. To get started we will install \"Plots\" and \"IJulia\".\n",
    "\n",
    "Start Julia. Type ] to enter the package manager (prompt \"Pkg>\"). Type \"add IJulia\", then enter. Wait a couple of minutes. Then type \"add Plots\", enter, and wait about 5 minutes.\n",
    "\n",
    "Hit backspace to exit the package manager. You have now installed these two packages and many other packages required by those two. This is a step you only need to do once.\n",
    "\n",
    "To use the packages, type \"using IJulia\" (or \"using Plots\") at the Julia REPL (prompt \"julia>\"). Nothing will appear to happen.\n",
    "\n",
    "To start using Jupyter notebooks, type \"notebook()\" and enter. You will probably be prompted to install Jupyter using miniconda. Say yes and wait a few minutes. Eventually a new tab will open in your web browser. For most people, I expect this will work fine, but a few students may have trouble. If you have trouble, see below."
   ]
  },
  {
   "cell_type": "markdown",
   "id": "c3c7c1ef-83b8-40fd-b011-f1b0982c46f8",
   "metadata": {},
   "source": [
    "## Using Jupyter notebooks\n",
    "\n",
    "There are two interfaces for Jupyter: `notebook` and `jupyterlab`. They are very similar, but jupyterlab is a bit newer and has some more features.\n",
    "\n",
    "I will demonstrate the main features in class. There are many tutorials on the web. Most use python instead of julia, but the principles are the same."
   ]
  },
  {
   "cell_type": "markdown",
   "id": "50cb9d3d-c7b3-48c5-bd7c-afc6d625129a",
   "metadata": {},
   "source": [
    "## Using Visual Studio Code\n",
    "\n",
    "It's a good idea to install a code editor (IDE = integrated development environment). I suggest the package Visual Studio Code from [visualstudio.com](https://code.visualstudio.com/download).\n",
    "\n",
    "Install the package. Launch it. Install the add-on for Julia: click the extensions icon (four boxes) at the left of the window. Search for Julia. Click install.\n",
    "\n",
    "Open a new document. Call it \"testing.jl\" or something similar. `jl` is the extension for Julia code. You can also use `jmd` for Julia markdown, which is a lot like R markdown.\n",
    "\n",
    "I will demonstrate how to use VS Code in class.\n"
   ]
  },
  {
   "cell_type": "markdown",
   "id": "425f0cb8-d7fd-4cc0-bce6-cb73aff7a9ce",
   "metadata": {},
   "source": [
    "## Trouble with Jupyter?\n",
    "\n",
    "If you have trouble installing Jupyter and getting it to work with Julia, here is another way.\n",
    "\n",
    "Install Jupyter as a separate application from [jupyter.org](https://jupyter.org/install).\n",
    "\n",
    "Instead of starting Julia, then using IJulia, and running the function notebook(), go to a command window and type \"jupyter lab\" or \"jupyter notebook\"\n",
    "\n",
    "If more than a couple students have difficulty with the \"julia way\" I will demonstrate this in class."
   ]
  },
  {
   "cell_type": "code",
   "execution_count": null,
   "id": "4a3b76c5-7fc3-4fc0-bde9-1f1334081622",
   "metadata": {},
   "outputs": [],
   "source": []
  }
 ],
 "metadata": {
  "kernelspec": {
   "display_name": "Julia 1.8.4",
   "language": "julia",
   "name": "julia-1.8"
  },
  "language_info": {
   "file_extension": ".jl",
   "mimetype": "application/julia",
   "name": "julia",
   "version": "1.8.4"
  }
 },
 "nbformat": 4,
 "nbformat_minor": 5
}
