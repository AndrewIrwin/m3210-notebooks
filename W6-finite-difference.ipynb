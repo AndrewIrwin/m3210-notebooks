{
 "cells": [
  {
   "cell_type": "markdown",
   "id": "ec5f83fc",
   "metadata": {},
   "source": [
    "## Derivatives by finite difference\n",
    "\n",
    "Section 5.4, 5.5.\n",
    "\n",
    "We can approximate a derivative using formulas of the form\n",
    "\n",
    "$$f'(x) = \\frac{1}{h}\\sum_{k=-m}^na_kf(x+kh)$$\n",
    "\n",
    "where $a_k$ are called weights. Formulas for unevenly spaced points ($x+\\Delta x_k$) are possible, but less commonly used.\n",
    "\n",
    "The most common formulas are the forward,\n",
    "$$f'(x) \\approx \\frac{f(x+h)-f(x)}{h}$$\n",
    "backward, \n",
    "$$f'(x) \\approx \\frac{f(x)-f(x-h)}{h}$$\n",
    "and centred differences:\n",
    "$$f'(x) \\approx \\frac{f(x+h)-f(x-h)}{2h}$$\n",
    "\n",
    "Tables 4.5.1 and 4.5.2 in the text list other sets of weights. The weights can be derived from interpolation formulas. Function 5.4.7 (Fornberg's algorithm) is another route to obtaining these coefficients, which works on unequally spaced knots (interpolation points) as well."
   ]
  },
  {
   "cell_type": "markdown",
   "id": "efb21256-c101-4e1e-a468-33e0a1000e6c",
   "metadata": {},
   "source": [
    "Truncation (of powerseries) error in the first two is $O(h^2)$. Use Taylor's theorem on $f(x+h)$; see Example 5.5.4. A problem arises if $h$ is too small; loss of precision from subtracting nearly equal quantities grows as $h$ gets smaller."
   ]
  },
  {
   "cell_type": "code",
   "execution_count": null,
   "id": "89cdb58c-a94c-4b5e-8532-c946c02164bd",
   "metadata": {},
   "outputs": [],
   "source": []
  }
 ],
 "metadata": {
  "kernelspec": {
   "display_name": "Julia 1.8.0",
   "language": "julia",
   "name": "julia-1.8"
  },
  "language_info": {
   "file_extension": ".jl",
   "mimetype": "application/julia",
   "name": "julia",
   "version": "1.8.0"
  }
 },
 "nbformat": 4,
 "nbformat_minor": 5
}
