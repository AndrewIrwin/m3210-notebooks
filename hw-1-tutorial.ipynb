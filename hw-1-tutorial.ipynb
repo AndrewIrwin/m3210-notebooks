{
 "cells": [
  {
   "cell_type": "markdown",
   "id": "042cd469-c761-412f-8acd-b55d0b2128c8",
   "metadata": {},
   "source": [
    "# Julia tutorial\n",
    "\n",
    "This tutorial is designed specifically to help you with Julia challenges that are likely to arise with assignment 1.\n",
    "\n",
    "Only the last expression in a jupyter code block is displayed. This display is hidden if you end the line with a semicolon (;).\n",
    "To show the result of a calculation that appears in the middle of a code block, start the line with `@show`."
   ]
  },
  {
   "cell_type": "markdown",
   "id": "5813e9c2-8c38-4583-98dc-c697168f8493",
   "metadata": {},
   "source": [
    "## Creating sequences with :\n",
    "\n",
    "You can make sequences of integers using expressions like `start:end`. These are special objects in Julia that are displayed as sequences. To see the numbers in the sequence, use `collect`.\n",
    "\n",
    "You can skip by a value other than 1 using `start:step:end`.\n",
    "\n",
    "You can also write `range(start, end, length=length)` or `range(start, end, step=step)`\n",
    "\n"
   ]
  },
  {
   "cell_type": "code",
   "execution_count": 7,
   "id": "c8b5a2e5-4572-4060-a3cf-93d8f7413419",
   "metadata": {},
   "outputs": [
    {
     "name": "stdout",
     "output_type": "stream",
     "text": [
      "1:10 = 1:10\n",
      "collect(1:10) = [1, 2, 3, 4, 5, 6, 7, 8, 9, 10]\n",
      "1:2:9 = 1:2:9\n",
      "collect(1:2:9) = [1, 3, 5, 7, 9]\n",
      "range(1, 2, length = 5) = 1.0:0.25:2.0\n",
      "range(1, 2, step = 0.1) = 1.0:0.1:2.0\n"
     ]
    }
   ],
   "source": [
    "@show 1:10 \n",
    "@show collect(1:10)\n",
    "@show 1:2:9\n",
    "@show collect(1:2:9)\n",
    "@show range(1, 2, length = 5)\n",
    "@show range(1, 2, step = 0.1);"
   ]
  },
  {
   "cell_type": "markdown",
   "id": "8bc81dfd-f14f-4019-b900-4143117bfebd",
   "metadata": {},
   "source": [
    "## Creating functions\n",
    "\n",
    "Use the notation `function_name(x) = code` or \n",
    "```\n",
    "function name(x)\n",
    "    code\n",
    "end\n",
    "```\n"
   ]
  },
  {
   "cell_type": "code",
   "execution_count": 11,
   "id": "8984c9fb-f8fa-4ae8-8221-33b1eb7d1f98",
   "metadata": {},
   "outputs": [
    {
     "data": {
      "text/plain": [
       "6"
      ]
     },
     "execution_count": 11,
     "metadata": {},
     "output_type": "execute_result"
    }
   ],
   "source": [
    "f1(x,y) = x+y + 3\n",
    "f1(1,2)"
   ]
  },
  {
   "cell_type": "code",
   "execution_count": 14,
   "id": "86de31ca-5752-4220-8e80-24171b70183e",
   "metadata": {},
   "outputs": [
    {
     "data": {
      "text/plain": [
       "2.0"
      ]
     },
     "execution_count": 14,
     "metadata": {},
     "output_type": "execute_result"
    }
   ],
   "source": [
    "function f2(z, a)\n",
    "    sin(z) + sqrt(a)\n",
    "end\n",
    "f2(pi/2, 1)"
   ]
  },
  {
   "cell_type": "markdown",
   "id": "acc21d04-06c1-4d20-a7c6-ab0851d3a3a3",
   "metadata": {},
   "source": [
    "## Handy functions"
   ]
  },
  {
   "cell_type": "code",
   "execution_count": 17,
   "id": "e677ba4c-fe9d-4f15-802e-de409733eaf1",
   "metadata": {},
   "outputs": [
    {
     "name": "stdout",
     "output_type": "stream",
     "text": [
      "abs(-5) = 5\n",
      "log10(1000) = 3.0\n",
      "log(exp(5)) = 5.0\n",
      "(floor(5.3), floor(-5.2)) = (5.0, -6.0)\n"
     ]
    }
   ],
   "source": [
    "@show abs(-5) # absolute value\n",
    "@show log10(1000) # log base 10\n",
    "@show log(exp(5)) # natural log and exp\n",
    "@show floor(5.3), floor(-5.2); # largest integer smaller than x; see also ceiling"
   ]
  },
  {
   "cell_type": "markdown",
   "id": "19b85039-0506-460f-a1b0-4cd2caa084d5",
   "metadata": {},
   "source": [
    "## Vectors and tuples\n",
    "\n",
    "You can combine several numbers together into a vector (square brackets) or something similar called a tuple (round brackets)"
   ]
  },
  {
   "cell_type": "code",
   "execution_count": 19,
   "id": "a17a2281-182f-40a4-82e3-975c41be8bd6",
   "metadata": {},
   "outputs": [
    {
     "name": "stdout",
     "output_type": "stream",
     "text": [
      "[1, 2, 3] = [1, 2, 3]\n",
      "(1, 2, 3) = (1, 2, 3)\n"
     ]
    }
   ],
   "source": [
    "@show [1, 2, 3]\n",
    "@show (1, 2, 3);"
   ]
  },
  {
   "cell_type": "markdown",
   "id": "e82d0f23-a347-4e91-b3a4-16e7d8c961bc",
   "metadata": {},
   "source": [
    "You can write loops inside vectors to evaluate functions"
   ]
  },
  {
   "cell_type": "code",
   "execution_count": 20,
   "id": "bf4fdd86-f411-4977-b016-30e8d0d3b904",
   "metadata": {},
   "outputs": [
    {
     "data": {
      "text/plain": [
       "5-element Vector{Int64}:\n",
       "   1\n",
       "   2\n",
       "   6\n",
       "  24\n",
       " 120"
      ]
     },
     "execution_count": 20,
     "metadata": {},
     "output_type": "execute_result"
    }
   ],
   "source": [
    "[ factorial(i) for i in 1:5 ]"
   ]
  },
  {
   "cell_type": "markdown",
   "id": "8404ee3f-f05e-43fa-8b8d-2037cdd5c839",
   "metadata": {},
   "source": [
    "Vectors and arrays of zeros and ones are sometimes really useful."
   ]
  },
  {
   "cell_type": "code",
   "execution_count": 23,
   "id": "5cba1a81-a66e-4c69-9cbc-d91693f63c98",
   "metadata": {},
   "outputs": [
    {
     "name": "stdout",
     "output_type": "stream",
     "text": [
      "zeros(5) = [0.0, 0.0, 0.0, 0.0, 0.0]\n",
      "ones(3) = [1.0, 1.0, 1.0]\n"
     ]
    },
    {
     "data": {
      "text/plain": [
       "2×4 Matrix{Float64}:\n",
       " 0.0  0.0  0.0  0.0\n",
       " 0.0  0.0  0.0  0.0"
      ]
     },
     "execution_count": 23,
     "metadata": {},
     "output_type": "execute_result"
    }
   ],
   "source": [
    "@show zeros(5)\n",
    "@show ones(3)\n",
    "zeros(2,4)"
   ]
  },
  {
   "cell_type": "markdown",
   "id": "10a6b345-2a64-4d23-8da4-06d8968e44c8",
   "metadata": {},
   "source": [
    "## Math in Jupyter notebooks\n",
    "\n",
    "You can write mathematics in between dollar signs in jupyter notebooks: $ y = sin(k\\pi)$.\n",
    "\n",
    "Displayed equations (two dollar signs) are great for fractions:\n",
    "    \n",
    "$$f'(x) = \\lim_{h\\to 0}\\frac{f(x+h)-f(x)}{h}$$"
   ]
  },
  {
   "cell_type": "markdown",
   "id": "08371c29-1def-46dd-9e3d-1b6526289a9f",
   "metadata": {},
   "source": [
    "## Looping\n",
    "\n",
    "For loops can be used to write entries into a vector or matrix.\n"
   ]
  },
  {
   "cell_type": "code",
   "execution_count": 25,
   "id": "279cae3e-7fbf-4332-b0e6-1585a26ff0f5",
   "metadata": {},
   "outputs": [
    {
     "data": {
      "text/plain": [
       "5-element Vector{Float64}:\n",
       "  2.0\n",
       "  4.0\n",
       "  6.0\n",
       "  8.0\n",
       " 10.0"
      ]
     },
     "execution_count": 25,
     "metadata": {},
     "output_type": "execute_result"
    }
   ],
   "source": [
    "v = zeros(5)\n",
    "for i in 1:5\n",
    "    v[i] = 2*i\n",
    "end\n",
    "v"
   ]
  },
  {
   "cell_type": "code",
   "execution_count": 26,
   "id": "ce22cd7d-8e6b-413e-98d2-563ecc64052d",
   "metadata": {},
   "outputs": [
    {
     "data": {
      "text/plain": [
       "3×4 Matrix{Float64}:\n",
       " 1.0  2.0  3.0  4.0\n",
       " 1.0  2.0  3.0  4.0\n",
       " 1.0  2.0  3.0  4.0"
      ]
     },
     "execution_count": 26,
     "metadata": {},
     "output_type": "execute_result"
    }
   ],
   "source": [
    "m = ones(3,4)\n",
    "for i in 1:3\n",
    "    m[i, :] = 1:4\n",
    "end\n",
    "m\n"
   ]
  },
  {
   "cell_type": "code",
   "execution_count": 28,
   "id": "90619b14-bd05-48e8-aff0-9f2c52ba0aca",
   "metadata": {},
   "outputs": [
    {
     "data": {
      "text/plain": [
       "3×4 Matrix{Float64}:\n",
       " 1.0  2.0  3.0   4.0\n",
       " 2.0  4.0  6.0   8.0\n",
       " 3.0  6.0  9.0  12.0"
      ]
     },
     "execution_count": 28,
     "metadata": {},
     "output_type": "execute_result"
    }
   ],
   "source": [
    "for i in 1:3\n",
    "    for j in 1:4\n",
    "        m[i,j] = i*j\n",
    "    end\n",
    "end\n",
    "m"
   ]
  },
  {
   "cell_type": "markdown",
   "id": "fcb4daf0-d5f1-4464-8462-dfbc1be9bc81",
   "metadata": {},
   "source": [
    "## Plotting points and lines\n",
    "\n",
    "We showed how to plot a function in week 1. Here I'll show you how to add points and lines to a graph.\n",
    "    \n",
    "First, plot a function using the function, the lower and upper limits on the domain.\n",
    "\n",
    "The label argument is optional, but usually a good idea!"
   ]
  },
  {
   "cell_type": "code",
   "execution_count": 33,
   "id": "e3f11610-fedc-4ac9-bd7c-b3c138475dd9",
   "metadata": {},
   "outputs": [
    {
     "data": {
      "image/svg+xml": [
       "<?xml version=\"1.0\" encoding=\"utf-8\"?>\n",
       "<svg xmlns=\"http://www.w3.org/2000/svg\" xmlns:xlink=\"http://www.w3.org/1999/xlink\" width=\"600\" height=\"400\" viewBox=\"0 0 2400 1600\">\n",
       "<defs>\n",
       "  <clipPath id=\"clip120\">\n",
       "    <rect x=\"0\" y=\"0\" width=\"2400\" height=\"1600\"/>\n",
       "  </clipPath>\n",
       "</defs>\n",
       "<path clip-path=\"url(#clip120)\" d=\"\n",
       "M0 1600 L2400 1600 L2400 0 L0 0  Z\n",
       "  \" fill=\"#ffffff\" fill-rule=\"evenodd\" fill-opacity=\"1\"/>\n",
       "<defs>\n",
       "  <clipPath id=\"clip121\">\n",
       "    <rect x=\"480\" y=\"0\" width=\"1681\" height=\"1600\"/>\n",
       "  </clipPath>\n",
       "</defs>\n",
       "<path clip-path=\"url(#clip120)\" d=\"\n",
       "M147.478 1486.45 L2352.76 1486.45 L2352.76 47.2441 L147.478 47.2441  Z\n",
       "  \" fill=\"#ffffff\" fill-rule=\"evenodd\" fill-opacity=\"1\"/>\n",
       "<defs>\n",
       "  <clipPath id=\"clip122\">\n",
       "    <rect x=\"147\" y=\"47\" width=\"2206\" height=\"1440\"/>\n",
       "  </clipPath>\n",
       "</defs>\n",
       "<polyline clip-path=\"url(#clip122)\" style=\"stroke:#000000; stroke-linecap:round; stroke-linejoin:round; stroke-width:2; stroke-opacity:0.1; fill:none\" points=\"\n",
       "  496.85,1486.45 496.85,47.2441 \n",
       "  \"/>\n",
       "<polyline clip-path=\"url(#clip122)\" style=\"stroke:#000000; stroke-linecap:round; stroke-linejoin:round; stroke-width:2; stroke-opacity:0.1; fill:none\" points=\"\n",
       "  855.549,1486.45 855.549,47.2441 \n",
       "  \"/>\n",
       "<polyline clip-path=\"url(#clip122)\" style=\"stroke:#000000; stroke-linecap:round; stroke-linejoin:round; stroke-width:2; stroke-opacity:0.1; fill:none\" points=\"\n",
       "  1214.25,1486.45 1214.25,47.2441 \n",
       "  \"/>\n",
       "<polyline clip-path=\"url(#clip122)\" style=\"stroke:#000000; stroke-linecap:round; stroke-linejoin:round; stroke-width:2; stroke-opacity:0.1; fill:none\" points=\"\n",
       "  1572.95,1486.45 1572.95,47.2441 \n",
       "  \"/>\n",
       "<polyline clip-path=\"url(#clip122)\" style=\"stroke:#000000; stroke-linecap:round; stroke-linejoin:round; stroke-width:2; stroke-opacity:0.1; fill:none\" points=\"\n",
       "  1931.64,1486.45 1931.64,47.2441 \n",
       "  \"/>\n",
       "<polyline clip-path=\"url(#clip122)\" style=\"stroke:#000000; stroke-linecap:round; stroke-linejoin:round; stroke-width:2; stroke-opacity:0.1; fill:none\" points=\"\n",
       "  2290.34,1486.45 2290.34,47.2441 \n",
       "  \"/>\n",
       "<polyline clip-path=\"url(#clip120)\" style=\"stroke:#000000; stroke-linecap:round; stroke-linejoin:round; stroke-width:4; stroke-opacity:1; fill:none\" points=\"\n",
       "  147.478,1486.45 2352.76,1486.45 \n",
       "  \"/>\n",
       "<polyline clip-path=\"url(#clip120)\" style=\"stroke:#000000; stroke-linecap:round; stroke-linejoin:round; stroke-width:4; stroke-opacity:1; fill:none\" points=\"\n",
       "  496.85,1486.45 496.85,1467.55 \n",
       "  \"/>\n",
       "<polyline clip-path=\"url(#clip120)\" style=\"stroke:#000000; stroke-linecap:round; stroke-linejoin:round; stroke-width:4; stroke-opacity:1; fill:none\" points=\"\n",
       "  855.549,1486.45 855.549,1467.55 \n",
       "  \"/>\n",
       "<polyline clip-path=\"url(#clip120)\" style=\"stroke:#000000; stroke-linecap:round; stroke-linejoin:round; stroke-width:4; stroke-opacity:1; fill:none\" points=\"\n",
       "  1214.25,1486.45 1214.25,1467.55 \n",
       "  \"/>\n",
       "<polyline clip-path=\"url(#clip120)\" style=\"stroke:#000000; stroke-linecap:round; stroke-linejoin:round; stroke-width:4; stroke-opacity:1; fill:none\" points=\"\n",
       "  1572.95,1486.45 1572.95,1467.55 \n",
       "  \"/>\n",
       "<polyline clip-path=\"url(#clip120)\" style=\"stroke:#000000; stroke-linecap:round; stroke-linejoin:round; stroke-width:4; stroke-opacity:1; fill:none\" points=\"\n",
       "  1931.64,1486.45 1931.64,1467.55 \n",
       "  \"/>\n",
       "<polyline clip-path=\"url(#clip120)\" style=\"stroke:#000000; stroke-linecap:round; stroke-linejoin:round; stroke-width:4; stroke-opacity:1; fill:none\" points=\"\n",
       "  2290.34,1486.45 2290.34,1467.55 \n",
       "  \"/>\n",
       "<path clip-path=\"url(#clip120)\" d=\"M474.732 1517.37 Q471.121 1517.37 469.292 1520.93 Q467.487 1524.47 467.487 1531.6 Q467.487 1538.71 469.292 1542.27 Q471.121 1545.82 474.732 1545.82 Q478.366 1545.82 480.172 1542.27 Q482.001 1538.71 482.001 1531.6 Q482.001 1524.47 480.172 1520.93 Q478.366 1517.37 474.732 1517.37 M474.732 1513.66 Q480.542 1513.66 483.598 1518.27 Q486.677 1522.85 486.677 1531.6 Q486.677 1540.33 483.598 1544.94 Q480.542 1549.52 474.732 1549.52 Q468.922 1549.52 465.843 1544.94 Q462.788 1540.33 462.788 1531.6 Q462.788 1522.85 465.843 1518.27 Q468.922 1513.66 474.732 1513.66 Z\" fill=\"#000000\" fill-rule=\"evenodd\" fill-opacity=\"1\" /><path clip-path=\"url(#clip120)\" d=\"M494.894 1542.97 L499.778 1542.97 L499.778 1548.85 L494.894 1548.85 L494.894 1542.97 Z\" fill=\"#000000\" fill-rule=\"evenodd\" fill-opacity=\"1\" /><path clip-path=\"url(#clip120)\" d=\"M510.01 1514.29 L528.366 1514.29 L528.366 1518.22 L514.292 1518.22 L514.292 1526.7 Q515.311 1526.35 516.329 1526.19 Q517.348 1526 518.366 1526 Q524.153 1526 527.533 1529.17 Q530.913 1532.34 530.913 1537.76 Q530.913 1543.34 527.44 1546.44 Q523.968 1549.52 517.649 1549.52 Q515.473 1549.52 513.204 1549.15 Q510.959 1548.78 508.552 1548.04 L508.552 1543.34 Q510.635 1544.47 512.857 1545.03 Q515.079 1545.58 517.556 1545.58 Q521.561 1545.58 523.899 1543.48 Q526.237 1541.37 526.237 1537.76 Q526.237 1534.15 523.899 1532.04 Q521.561 1529.94 517.556 1529.94 Q515.681 1529.94 513.806 1530.35 Q511.954 1530.77 510.01 1531.65 L510.01 1514.29 Z\" fill=\"#000000\" fill-rule=\"evenodd\" fill-opacity=\"1\" /><path clip-path=\"url(#clip120)\" d=\"M822.702 1544.91 L830.34 1544.91 L830.34 1518.55 L822.03 1520.21 L822.03 1515.95 L830.294 1514.29 L834.97 1514.29 L834.97 1544.91 L842.609 1544.91 L842.609 1548.85 L822.702 1548.85 L822.702 1544.91 Z\" fill=\"#000000\" fill-rule=\"evenodd\" fill-opacity=\"1\" /><path clip-path=\"url(#clip120)\" d=\"M852.053 1542.97 L856.938 1542.97 L856.938 1548.85 L852.053 1548.85 L852.053 1542.97 Z\" fill=\"#000000\" fill-rule=\"evenodd\" fill-opacity=\"1\" /><path clip-path=\"url(#clip120)\" d=\"M877.123 1517.37 Q873.511 1517.37 871.683 1520.93 Q869.877 1524.47 869.877 1531.6 Q869.877 1538.71 871.683 1542.27 Q873.511 1545.82 877.123 1545.82 Q880.757 1545.82 882.562 1542.27 Q884.391 1538.71 884.391 1531.6 Q884.391 1524.47 882.562 1520.93 Q880.757 1517.37 877.123 1517.37 M877.123 1513.66 Q882.933 1513.66 885.988 1518.27 Q889.067 1522.85 889.067 1531.6 Q889.067 1540.33 885.988 1544.94 Q882.933 1549.52 877.123 1549.52 Q871.312 1549.52 868.234 1544.94 Q865.178 1540.33 865.178 1531.6 Q865.178 1522.85 868.234 1518.27 Q871.312 1513.66 877.123 1513.66 Z\" fill=\"#000000\" fill-rule=\"evenodd\" fill-opacity=\"1\" /><path clip-path=\"url(#clip120)\" d=\"M1181.9 1544.91 L1189.54 1544.91 L1189.54 1518.55 L1181.23 1520.21 L1181.23 1515.95 L1189.49 1514.29 L1194.17 1514.29 L1194.17 1544.91 L1201.81 1544.91 L1201.81 1548.85 L1181.9 1548.85 L1181.9 1544.91 Z\" fill=\"#000000\" fill-rule=\"evenodd\" fill-opacity=\"1\" /><path clip-path=\"url(#clip120)\" d=\"M1211.25 1542.97 L1216.13 1542.97 L1216.13 1548.85 L1211.25 1548.85 L1211.25 1542.97 Z\" fill=\"#000000\" fill-rule=\"evenodd\" fill-opacity=\"1\" /><path clip-path=\"url(#clip120)\" d=\"M1226.37 1514.29 L1244.72 1514.29 L1244.72 1518.22 L1230.65 1518.22 L1230.65 1526.7 Q1231.67 1526.35 1232.68 1526.19 Q1233.7 1526 1234.72 1526 Q1240.51 1526 1243.89 1529.17 Q1247.27 1532.34 1247.27 1537.76 Q1247.27 1543.34 1243.8 1546.44 Q1240.32 1549.52 1234 1549.52 Q1231.83 1549.52 1229.56 1549.15 Q1227.31 1548.78 1224.91 1548.04 L1224.91 1543.34 Q1226.99 1544.47 1229.21 1545.03 Q1231.43 1545.58 1233.91 1545.58 Q1237.92 1545.58 1240.25 1543.48 Q1242.59 1541.37 1242.59 1537.76 Q1242.59 1534.15 1240.25 1532.04 Q1237.92 1529.94 1233.91 1529.94 Q1232.04 1529.94 1230.16 1530.35 Q1228.31 1530.77 1226.37 1531.65 L1226.37 1514.29 Z\" fill=\"#000000\" fill-rule=\"evenodd\" fill-opacity=\"1\" /><path clip-path=\"url(#clip120)\" d=\"M1544.18 1544.91 L1560.5 1544.91 L1560.5 1548.85 L1538.56 1548.85 L1538.56 1544.91 Q1541.22 1542.16 1545.8 1537.53 Q1550.41 1532.88 1551.59 1531.53 Q1553.84 1529.01 1554.72 1527.27 Q1555.62 1525.51 1555.62 1523.82 Q1555.62 1521.07 1553.67 1519.33 Q1551.75 1517.6 1548.65 1517.6 Q1546.45 1517.6 1544 1518.36 Q1541.57 1519.13 1538.79 1520.68 L1538.79 1515.95 Q1541.61 1514.82 1544.07 1514.24 Q1546.52 1513.66 1548.56 1513.66 Q1553.93 1513.66 1557.12 1516.35 Q1560.32 1519.03 1560.32 1523.52 Q1560.32 1525.65 1559.51 1527.57 Q1558.72 1529.47 1556.61 1532.07 Q1556.04 1532.74 1552.93 1535.95 Q1549.83 1539.15 1544.18 1544.91 Z\" fill=\"#000000\" fill-rule=\"evenodd\" fill-opacity=\"1\" /><path clip-path=\"url(#clip120)\" d=\"M1570.32 1542.97 L1575.2 1542.97 L1575.2 1548.85 L1570.32 1548.85 L1570.32 1542.97 Z\" fill=\"#000000\" fill-rule=\"evenodd\" fill-opacity=\"1\" /><path clip-path=\"url(#clip120)\" d=\"M1595.39 1517.37 Q1591.78 1517.37 1589.95 1520.93 Q1588.14 1524.47 1588.14 1531.6 Q1588.14 1538.71 1589.95 1542.27 Q1591.78 1545.82 1595.39 1545.82 Q1599.02 1545.82 1600.83 1542.27 Q1602.66 1538.71 1602.66 1531.6 Q1602.66 1524.47 1600.83 1520.93 Q1599.02 1517.37 1595.39 1517.37 M1595.39 1513.66 Q1601.2 1513.66 1604.25 1518.27 Q1607.33 1522.85 1607.33 1531.6 Q1607.33 1540.33 1604.25 1544.94 Q1601.2 1549.52 1595.39 1549.52 Q1589.58 1549.52 1586.5 1544.94 Q1583.44 1540.33 1583.44 1531.6 Q1583.44 1522.85 1586.5 1518.27 Q1589.58 1513.66 1595.39 1513.66 Z\" fill=\"#000000\" fill-rule=\"evenodd\" fill-opacity=\"1\" /><path clip-path=\"url(#clip120)\" d=\"M1903.38 1544.91 L1919.7 1544.91 L1919.7 1548.85 L1897.76 1548.85 L1897.76 1544.91 Q1900.42 1542.16 1905 1537.53 Q1909.61 1532.88 1910.79 1531.53 Q1913.03 1529.01 1913.91 1527.27 Q1914.82 1525.51 1914.82 1523.82 Q1914.82 1521.07 1912.87 1519.33 Q1910.95 1517.6 1907.85 1517.6 Q1905.65 1517.6 1903.2 1518.36 Q1900.76 1519.13 1897.99 1520.68 L1897.99 1515.95 Q1900.81 1514.82 1903.26 1514.24 Q1905.72 1513.66 1907.76 1513.66 Q1913.13 1513.66 1916.32 1516.35 Q1919.51 1519.03 1919.51 1523.52 Q1919.51 1525.65 1918.7 1527.57 Q1917.92 1529.47 1915.81 1532.07 Q1915.23 1532.74 1912.13 1535.95 Q1909.03 1539.15 1903.38 1544.91 Z\" fill=\"#000000\" fill-rule=\"evenodd\" fill-opacity=\"1\" /><path clip-path=\"url(#clip120)\" d=\"M1929.51 1542.97 L1934.4 1542.97 L1934.4 1548.85 L1929.51 1548.85 L1929.51 1542.97 Z\" fill=\"#000000\" fill-rule=\"evenodd\" fill-opacity=\"1\" /><path clip-path=\"url(#clip120)\" d=\"M1944.63 1514.29 L1962.99 1514.29 L1962.99 1518.22 L1948.91 1518.22 L1948.91 1526.7 Q1949.93 1526.35 1950.95 1526.19 Q1951.97 1526 1952.99 1526 Q1958.77 1526 1962.15 1529.17 Q1965.53 1532.34 1965.53 1537.76 Q1965.53 1543.34 1962.06 1546.44 Q1958.59 1549.52 1952.27 1549.52 Q1950.09 1549.52 1947.82 1549.15 Q1945.58 1548.78 1943.17 1548.04 L1943.17 1543.34 Q1945.25 1544.47 1947.48 1545.03 Q1949.7 1545.58 1952.18 1545.58 Q1956.18 1545.58 1958.52 1543.48 Q1960.86 1541.37 1960.86 1537.76 Q1960.86 1534.15 1958.52 1532.04 Q1956.18 1529.94 1952.18 1529.94 Q1950.3 1529.94 1948.43 1530.35 Q1946.57 1530.77 1944.63 1531.65 L1944.63 1514.29 Z\" fill=\"#000000\" fill-rule=\"evenodd\" fill-opacity=\"1\" /><path clip-path=\"url(#clip120)\" d=\"M2271.65 1530.21 Q2275.01 1530.93 2276.88 1533.2 Q2278.78 1535.47 2278.78 1538.8 Q2278.78 1543.92 2275.26 1546.72 Q2271.74 1549.52 2265.26 1549.52 Q2263.09 1549.52 2260.77 1549.08 Q2258.48 1548.66 2256.03 1547.81 L2256.03 1543.29 Q2257.97 1544.43 2260.28 1545.01 Q2262.6 1545.58 2265.12 1545.58 Q2269.52 1545.58 2271.81 1543.85 Q2274.13 1542.11 2274.13 1538.8 Q2274.13 1535.75 2271.97 1534.03 Q2269.84 1532.3 2266.03 1532.3 L2262 1532.3 L2262 1528.45 L2266.21 1528.45 Q2269.66 1528.45 2271.49 1527.09 Q2273.32 1525.7 2273.32 1523.11 Q2273.32 1520.45 2271.42 1519.03 Q2269.54 1517.6 2266.03 1517.6 Q2264.1 1517.6 2261.91 1518.01 Q2259.71 1518.43 2257.07 1519.31 L2257.07 1515.14 Q2259.73 1514.4 2262.04 1514.03 Q2264.38 1513.66 2266.44 1513.66 Q2271.77 1513.66 2274.87 1516.09 Q2277.97 1518.5 2277.97 1522.62 Q2277.97 1525.49 2276.33 1527.48 Q2274.68 1529.45 2271.65 1530.21 Z\" fill=\"#000000\" fill-rule=\"evenodd\" fill-opacity=\"1\" /><path clip-path=\"url(#clip120)\" d=\"M2287.65 1542.97 L2292.53 1542.97 L2292.53 1548.85 L2287.65 1548.85 L2287.65 1542.97 Z\" fill=\"#000000\" fill-rule=\"evenodd\" fill-opacity=\"1\" /><path clip-path=\"url(#clip120)\" d=\"M2312.71 1517.37 Q2309.1 1517.37 2307.28 1520.93 Q2305.47 1524.47 2305.47 1531.6 Q2305.47 1538.71 2307.28 1542.27 Q2309.1 1545.82 2312.71 1545.82 Q2316.35 1545.82 2318.15 1542.27 Q2319.98 1538.71 2319.98 1531.6 Q2319.98 1524.47 2318.15 1520.93 Q2316.35 1517.37 2312.71 1517.37 M2312.71 1513.66 Q2318.53 1513.66 2321.58 1518.27 Q2324.66 1522.85 2324.66 1531.6 Q2324.66 1540.33 2321.58 1544.94 Q2318.53 1549.52 2312.71 1549.52 Q2306.9 1549.52 2303.83 1544.94 Q2300.77 1540.33 2300.77 1531.6 Q2300.77 1522.85 2303.83 1518.27 Q2306.9 1513.66 2312.71 1513.66 Z\" fill=\"#000000\" fill-rule=\"evenodd\" fill-opacity=\"1\" /><polyline clip-path=\"url(#clip122)\" style=\"stroke:#000000; stroke-linecap:round; stroke-linejoin:round; stroke-width:2; stroke-opacity:0.1; fill:none\" points=\"\n",
       "  147.478,1324.93 2352.76,1324.93 \n",
       "  \"/>\n",
       "<polyline clip-path=\"url(#clip122)\" style=\"stroke:#000000; stroke-linecap:round; stroke-linejoin:round; stroke-width:2; stroke-opacity:0.1; fill:none\" points=\"\n",
       "  147.478,925.731 2352.76,925.731 \n",
       "  \"/>\n",
       "<polyline clip-path=\"url(#clip122)\" style=\"stroke:#000000; stroke-linecap:round; stroke-linejoin:round; stroke-width:2; stroke-opacity:0.1; fill:none\" points=\"\n",
       "  147.478,526.536 2352.76,526.536 \n",
       "  \"/>\n",
       "<polyline clip-path=\"url(#clip122)\" style=\"stroke:#000000; stroke-linecap:round; stroke-linejoin:round; stroke-width:2; stroke-opacity:0.1; fill:none\" points=\"\n",
       "  147.478,127.342 2352.76,127.342 \n",
       "  \"/>\n",
       "<polyline clip-path=\"url(#clip120)\" style=\"stroke:#000000; stroke-linecap:round; stroke-linejoin:round; stroke-width:4; stroke-opacity:1; fill:none\" points=\"\n",
       "  147.478,1486.45 147.478,47.2441 \n",
       "  \"/>\n",
       "<polyline clip-path=\"url(#clip120)\" style=\"stroke:#000000; stroke-linecap:round; stroke-linejoin:round; stroke-width:4; stroke-opacity:1; fill:none\" points=\"\n",
       "  147.478,1324.93 166.376,1324.93 \n",
       "  \"/>\n",
       "<polyline clip-path=\"url(#clip120)\" style=\"stroke:#000000; stroke-linecap:round; stroke-linejoin:round; stroke-width:4; stroke-opacity:1; fill:none\" points=\"\n",
       "  147.478,925.731 166.376,925.731 \n",
       "  \"/>\n",
       "<polyline clip-path=\"url(#clip120)\" style=\"stroke:#000000; stroke-linecap:round; stroke-linejoin:round; stroke-width:4; stroke-opacity:1; fill:none\" points=\"\n",
       "  147.478,526.536 166.376,526.536 \n",
       "  \"/>\n",
       "<polyline clip-path=\"url(#clip120)\" style=\"stroke:#000000; stroke-linecap:round; stroke-linejoin:round; stroke-width:4; stroke-opacity:1; fill:none\" points=\"\n",
       "  147.478,127.342 166.376,127.342 \n",
       "  \"/>\n",
       "<path clip-path=\"url(#clip120)\" d=\"M51.3625 1325.38 L81.0383 1325.38 L81.0383 1329.31 L51.3625 1329.31 L51.3625 1325.38 Z\" fill=\"#000000\" fill-rule=\"evenodd\" fill-opacity=\"1\" /><path clip-path=\"url(#clip120)\" d=\"M95.1586 1338.27 L111.478 1338.27 L111.478 1342.21 L89.5336 1342.21 L89.5336 1338.27 Q92.1956 1335.52 96.7789 1330.89 Q101.385 1326.23 102.566 1324.89 Q104.811 1322.37 105.691 1320.63 Q106.594 1318.87 106.594 1317.18 Q106.594 1314.43 104.649 1312.69 Q102.728 1310.96 99.6261 1310.96 Q97.4271 1310.96 94.9734 1311.72 Q92.5428 1312.48 89.7651 1314.03 L89.7651 1309.31 Q92.5891 1308.18 95.0428 1307.6 Q97.4965 1307.02 99.5335 1307.02 Q104.904 1307.02 108.098 1309.71 Q111.293 1312.39 111.293 1316.88 Q111.293 1319.01 110.483 1320.93 Q109.696 1322.83 107.589 1325.42 Q107.01 1326.09 103.909 1329.31 Q100.807 1332.51 95.1586 1338.27 Z\" fill=\"#000000\" fill-rule=\"evenodd\" fill-opacity=\"1\" /><path clip-path=\"url(#clip120)\" d=\"M50.9921 926.182 L80.6679 926.182 L80.6679 930.117 L50.9921 930.117 L50.9921 926.182 Z\" fill=\"#000000\" fill-rule=\"evenodd\" fill-opacity=\"1\" /><path clip-path=\"url(#clip120)\" d=\"M91.5706 939.076 L99.2095 939.076 L99.2095 912.71 L90.8993 914.377 L90.8993 910.117 L99.1632 908.451 L103.839 908.451 L103.839 939.076 L111.478 939.076 L111.478 943.011 L91.5706 943.011 L91.5706 939.076 Z\" fill=\"#000000\" fill-rule=\"evenodd\" fill-opacity=\"1\" /><path clip-path=\"url(#clip120)\" d=\"M99.5335 512.335 Q95.9224 512.335 94.0937 515.9 Q92.2882 519.441 92.2882 526.571 Q92.2882 533.677 94.0937 537.242 Q95.9224 540.784 99.5335 540.784 Q103.168 540.784 104.973 537.242 Q106.802 533.677 106.802 526.571 Q106.802 519.441 104.973 515.9 Q103.168 512.335 99.5335 512.335 M99.5335 508.631 Q105.344 508.631 108.399 513.238 Q111.478 517.821 111.478 526.571 Q111.478 535.298 108.399 539.904 Q105.344 544.488 99.5335 544.488 Q93.7234 544.488 90.6447 539.904 Q87.5892 535.298 87.5892 526.571 Q87.5892 517.821 90.6447 513.238 Q93.7234 508.631 99.5335 508.631 Z\" fill=\"#000000\" fill-rule=\"evenodd\" fill-opacity=\"1\" /><path clip-path=\"url(#clip120)\" d=\"M91.5706 140.687 L99.2095 140.687 L99.2095 114.321 L90.8993 115.988 L90.8993 111.728 L99.1632 110.062 L103.839 110.062 L103.839 140.687 L111.478 140.687 L111.478 144.622 L91.5706 144.622 L91.5706 140.687 Z\" fill=\"#000000\" fill-rule=\"evenodd\" fill-opacity=\"1\" /><polyline clip-path=\"url(#clip122)\" style=\"stroke:#009af9; stroke-linecap:round; stroke-linejoin:round; stroke-width:4; stroke-opacity:1; fill:none\" points=\"\n",
       "  209.891,1445.72 211.585,1436.4 213.278,1427.3 214.971,1418.41 216.664,1409.7 218.357,1401.19 220.05,1392.85 221.743,1384.68 223.436,1376.68 231.264,1341.62 \n",
       "  239.092,1309.4 246.919,1279.58 254.747,1251.84 262.574,1225.9 270.402,1201.55 278.23,1178.59 286.057,1156.89 293.885,1136.3 301.712,1116.72 309.54,1098.06 \n",
       "  317.368,1080.23 333.023,1046.8 348.678,1015.96 358.086,998.504 367.494,981.782 376.903,965.734 386.311,950.305 405.127,921.129 423.943,893.941 439.852,872.316 \n",
       "  455.761,851.803 471.67,832.292 487.579,813.69 522.142,776.037 556.705,741.632 588.569,712.343 620.434,685.057 654.595,657.737 688.757,632.168 728.337,604.456 \n",
       "  767.917,578.545 803.09,556.849 838.264,536.272 869.108,519.061 899.953,502.562 967.21,468.789 1034.87,437.473 1109.67,405.488 1180.84,377.265 1254.85,349.893 \n",
       "  1317.14,328.223 1393.2,303.268 1462.87,281.7 1527.22,262.766 1592.4,244.46 1665.45,224.895 1731.64,207.957 1807.43,189.409 1877.61,172.97 1946.79,157.401 \n",
       "  2013.96,142.844 2082.82,128.452 2158.27,113.258 2267.86,92.1685 2290.34,87.9763 \n",
       "  \"/>\n",
       "<path clip-path=\"url(#clip120)\" d=\"\n",
       "M220.987 198.898 L550.889 198.898 L550.889 95.2176 L220.987 95.2176  Z\n",
       "  \" fill=\"#ffffff\" fill-rule=\"evenodd\" fill-opacity=\"1\"/>\n",
       "<polyline clip-path=\"url(#clip120)\" style=\"stroke:#000000; stroke-linecap:round; stroke-linejoin:round; stroke-width:4; stroke-opacity:1; fill:none\" points=\"\n",
       "  220.987,198.898 550.889,198.898 550.889,95.2176 220.987,95.2176 220.987,198.898 \n",
       "  \"/>\n",
       "<polyline clip-path=\"url(#clip120)\" style=\"stroke:#009af9; stroke-linecap:round; stroke-linejoin:round; stroke-width:4; stroke-opacity:1; fill:none\" points=\"\n",
       "  245.49,147.058 392.509,147.058 \n",
       "  \"/>\n",
       "<path clip-path=\"url(#clip120)\" d=\"M417.012 128.319 L421.271 128.319 L421.271 164.338 L417.012 164.338 L417.012 128.319 Z\" fill=\"#000000\" fill-rule=\"evenodd\" fill-opacity=\"1\" /><path clip-path=\"url(#clip120)\" d=\"M440.229 141.398 Q436.803 141.398 434.813 144.083 Q432.822 146.745 432.822 151.398 Q432.822 156.051 434.79 158.736 Q436.78 161.398 440.229 161.398 Q443.632 161.398 445.623 158.713 Q447.614 156.027 447.614 151.398 Q447.614 146.791 445.623 144.106 Q443.632 141.398 440.229 141.398 M440.229 137.787 Q445.785 137.787 448.956 141.398 Q452.127 145.009 452.127 151.398 Q452.127 157.764 448.956 161.398 Q445.785 165.009 440.229 165.009 Q434.651 165.009 431.479 161.398 Q428.331 157.764 428.331 151.398 Q428.331 145.009 431.479 141.398 Q434.651 137.787 440.229 137.787 Z\" fill=\"#000000\" fill-rule=\"evenodd\" fill-opacity=\"1\" /><path clip-path=\"url(#clip120)\" d=\"M476.248 151.074 Q476.248 146.444 474.326 143.898 Q472.428 141.352 468.979 141.352 Q465.553 141.352 463.632 143.898 Q461.734 146.444 461.734 151.074 Q461.734 155.68 463.632 158.226 Q465.553 160.773 468.979 160.773 Q472.428 160.773 474.326 158.226 Q476.248 155.68 476.248 151.074 M480.507 161.12 Q480.507 167.74 477.567 170.958 Q474.627 174.199 468.563 174.199 Q466.317 174.199 464.326 173.851 Q462.336 173.527 460.461 172.833 L460.461 168.689 Q462.336 169.708 464.164 170.194 Q465.993 170.68 467.891 170.68 Q472.081 170.68 474.164 168.481 Q476.248 166.305 476.248 161.884 L476.248 159.777 Q474.928 162.069 472.868 163.203 Q470.808 164.338 467.938 164.338 Q463.169 164.338 460.252 160.703 Q457.336 157.069 457.336 151.074 Q457.336 145.055 460.252 141.421 Q463.169 137.787 467.938 137.787 Q470.808 137.787 472.868 138.921 Q474.928 140.055 476.248 142.347 L476.248 138.412 L480.507 138.412 L480.507 161.12 Z\" fill=\"#000000\" fill-rule=\"evenodd\" fill-opacity=\"1\" /><path clip-path=\"url(#clip120)\" d=\"M525.9 138.412 L516.525 151.027 L526.386 164.338 L521.363 164.338 L513.817 154.152 L506.271 164.338 L501.248 164.338 L511.317 150.773 L502.104 138.412 L507.127 138.412 L514.002 147.648 L520.877 138.412 L525.9 138.412 Z\" fill=\"#000000\" fill-rule=\"evenodd\" fill-opacity=\"1\" /></svg>\n"
      ]
     },
     "execution_count": 33,
     "metadata": {},
     "output_type": "execute_result"
    }
   ],
   "source": [
    "using Plots\n",
    "plot(log, 0.1, 3, label = \"log x\")"
   ]
  },
  {
   "cell_type": "markdown",
   "id": "edfbc6d1-c970-4e20-bf8d-e2a996179ae8",
   "metadata": {},
   "source": [
    "Next, create a set of points. It's often easiest to do this by creating a vector for x and a vector for y."
   ]
  },
  {
   "cell_type": "code",
   "execution_count": 34,
   "id": "578e0aea-638f-445a-9f96-3ce2f71562df",
   "metadata": {},
   "outputs": [
    {
     "data": {
      "image/svg+xml": [
       "<?xml version=\"1.0\" encoding=\"utf-8\"?>\n",
       "<svg xmlns=\"http://www.w3.org/2000/svg\" xmlns:xlink=\"http://www.w3.org/1999/xlink\" width=\"600\" height=\"400\" viewBox=\"0 0 2400 1600\">\n",
       "<defs>\n",
       "  <clipPath id=\"clip160\">\n",
       "    <rect x=\"0\" y=\"0\" width=\"2400\" height=\"1600\"/>\n",
       "  </clipPath>\n",
       "</defs>\n",
       "<path clip-path=\"url(#clip160)\" d=\"\n",
       "M0 1600 L2400 1600 L2400 0 L0 0  Z\n",
       "  \" fill=\"#ffffff\" fill-rule=\"evenodd\" fill-opacity=\"1\"/>\n",
       "<defs>\n",
       "  <clipPath id=\"clip161\">\n",
       "    <rect x=\"480\" y=\"0\" width=\"1681\" height=\"1600\"/>\n",
       "  </clipPath>\n",
       "</defs>\n",
       "<path clip-path=\"url(#clip160)\" d=\"\n",
       "M147.478 1486.45 L2352.76 1486.45 L2352.76 47.2441 L147.478 47.2441  Z\n",
       "  \" fill=\"#ffffff\" fill-rule=\"evenodd\" fill-opacity=\"1\"/>\n",
       "<defs>\n",
       "  <clipPath id=\"clip162\">\n",
       "    <rect x=\"147\" y=\"47\" width=\"2206\" height=\"1440\"/>\n",
       "  </clipPath>\n",
       "</defs>\n",
       "<polyline clip-path=\"url(#clip162)\" style=\"stroke:#000000; stroke-linecap:round; stroke-linejoin:round; stroke-width:2; stroke-opacity:0.1; fill:none\" points=\"\n",
       "  496.85,1486.45 496.85,47.2441 \n",
       "  \"/>\n",
       "<polyline clip-path=\"url(#clip162)\" style=\"stroke:#000000; stroke-linecap:round; stroke-linejoin:round; stroke-width:2; stroke-opacity:0.1; fill:none\" points=\"\n",
       "  855.549,1486.45 855.549,47.2441 \n",
       "  \"/>\n",
       "<polyline clip-path=\"url(#clip162)\" style=\"stroke:#000000; stroke-linecap:round; stroke-linejoin:round; stroke-width:2; stroke-opacity:0.1; fill:none\" points=\"\n",
       "  1214.25,1486.45 1214.25,47.2441 \n",
       "  \"/>\n",
       "<polyline clip-path=\"url(#clip162)\" style=\"stroke:#000000; stroke-linecap:round; stroke-linejoin:round; stroke-width:2; stroke-opacity:0.1; fill:none\" points=\"\n",
       "  1572.95,1486.45 1572.95,47.2441 \n",
       "  \"/>\n",
       "<polyline clip-path=\"url(#clip162)\" style=\"stroke:#000000; stroke-linecap:round; stroke-linejoin:round; stroke-width:2; stroke-opacity:0.1; fill:none\" points=\"\n",
       "  1931.64,1486.45 1931.64,47.2441 \n",
       "  \"/>\n",
       "<polyline clip-path=\"url(#clip162)\" style=\"stroke:#000000; stroke-linecap:round; stroke-linejoin:round; stroke-width:2; stroke-opacity:0.1; fill:none\" points=\"\n",
       "  2290.34,1486.45 2290.34,47.2441 \n",
       "  \"/>\n",
       "<polyline clip-path=\"url(#clip160)\" style=\"stroke:#000000; stroke-linecap:round; stroke-linejoin:round; stroke-width:4; stroke-opacity:1; fill:none\" points=\"\n",
       "  147.478,1486.45 2352.76,1486.45 \n",
       "  \"/>\n",
       "<polyline clip-path=\"url(#clip160)\" style=\"stroke:#000000; stroke-linecap:round; stroke-linejoin:round; stroke-width:4; stroke-opacity:1; fill:none\" points=\"\n",
       "  496.85,1486.45 496.85,1467.55 \n",
       "  \"/>\n",
       "<polyline clip-path=\"url(#clip160)\" style=\"stroke:#000000; stroke-linecap:round; stroke-linejoin:round; stroke-width:4; stroke-opacity:1; fill:none\" points=\"\n",
       "  855.549,1486.45 855.549,1467.55 \n",
       "  \"/>\n",
       "<polyline clip-path=\"url(#clip160)\" style=\"stroke:#000000; stroke-linecap:round; stroke-linejoin:round; stroke-width:4; stroke-opacity:1; fill:none\" points=\"\n",
       "  1214.25,1486.45 1214.25,1467.55 \n",
       "  \"/>\n",
       "<polyline clip-path=\"url(#clip160)\" style=\"stroke:#000000; stroke-linecap:round; stroke-linejoin:round; stroke-width:4; stroke-opacity:1; fill:none\" points=\"\n",
       "  1572.95,1486.45 1572.95,1467.55 \n",
       "  \"/>\n",
       "<polyline clip-path=\"url(#clip160)\" style=\"stroke:#000000; stroke-linecap:round; stroke-linejoin:round; stroke-width:4; stroke-opacity:1; fill:none\" points=\"\n",
       "  1931.64,1486.45 1931.64,1467.55 \n",
       "  \"/>\n",
       "<polyline clip-path=\"url(#clip160)\" style=\"stroke:#000000; stroke-linecap:round; stroke-linejoin:round; stroke-width:4; stroke-opacity:1; fill:none\" points=\"\n",
       "  2290.34,1486.45 2290.34,1467.55 \n",
       "  \"/>\n",
       "<path clip-path=\"url(#clip160)\" d=\"M474.732 1517.37 Q471.121 1517.37 469.292 1520.93 Q467.487 1524.47 467.487 1531.6 Q467.487 1538.71 469.292 1542.27 Q471.121 1545.82 474.732 1545.82 Q478.366 1545.82 480.172 1542.27 Q482.001 1538.71 482.001 1531.6 Q482.001 1524.47 480.172 1520.93 Q478.366 1517.37 474.732 1517.37 M474.732 1513.66 Q480.542 1513.66 483.598 1518.27 Q486.677 1522.85 486.677 1531.6 Q486.677 1540.33 483.598 1544.94 Q480.542 1549.52 474.732 1549.52 Q468.922 1549.52 465.843 1544.94 Q462.788 1540.33 462.788 1531.6 Q462.788 1522.85 465.843 1518.27 Q468.922 1513.66 474.732 1513.66 Z\" fill=\"#000000\" fill-rule=\"evenodd\" fill-opacity=\"1\" /><path clip-path=\"url(#clip160)\" d=\"M494.894 1542.97 L499.778 1542.97 L499.778 1548.85 L494.894 1548.85 L494.894 1542.97 Z\" fill=\"#000000\" fill-rule=\"evenodd\" fill-opacity=\"1\" /><path clip-path=\"url(#clip160)\" d=\"M510.01 1514.29 L528.366 1514.29 L528.366 1518.22 L514.292 1518.22 L514.292 1526.7 Q515.311 1526.35 516.329 1526.19 Q517.348 1526 518.366 1526 Q524.153 1526 527.533 1529.17 Q530.913 1532.34 530.913 1537.76 Q530.913 1543.34 527.44 1546.44 Q523.968 1549.52 517.649 1549.52 Q515.473 1549.52 513.204 1549.15 Q510.959 1548.78 508.552 1548.04 L508.552 1543.34 Q510.635 1544.47 512.857 1545.03 Q515.079 1545.58 517.556 1545.58 Q521.561 1545.58 523.899 1543.48 Q526.237 1541.37 526.237 1537.76 Q526.237 1534.15 523.899 1532.04 Q521.561 1529.94 517.556 1529.94 Q515.681 1529.94 513.806 1530.35 Q511.954 1530.77 510.01 1531.65 L510.01 1514.29 Z\" fill=\"#000000\" fill-rule=\"evenodd\" fill-opacity=\"1\" /><path clip-path=\"url(#clip160)\" d=\"M822.702 1544.91 L830.34 1544.91 L830.34 1518.55 L822.03 1520.21 L822.03 1515.95 L830.294 1514.29 L834.97 1514.29 L834.97 1544.91 L842.609 1544.91 L842.609 1548.85 L822.702 1548.85 L822.702 1544.91 Z\" fill=\"#000000\" fill-rule=\"evenodd\" fill-opacity=\"1\" /><path clip-path=\"url(#clip160)\" d=\"M852.053 1542.97 L856.938 1542.97 L856.938 1548.85 L852.053 1548.85 L852.053 1542.97 Z\" fill=\"#000000\" fill-rule=\"evenodd\" fill-opacity=\"1\" /><path clip-path=\"url(#clip160)\" d=\"M877.123 1517.37 Q873.511 1517.37 871.683 1520.93 Q869.877 1524.47 869.877 1531.6 Q869.877 1538.71 871.683 1542.27 Q873.511 1545.82 877.123 1545.82 Q880.757 1545.82 882.562 1542.27 Q884.391 1538.71 884.391 1531.6 Q884.391 1524.47 882.562 1520.93 Q880.757 1517.37 877.123 1517.37 M877.123 1513.66 Q882.933 1513.66 885.988 1518.27 Q889.067 1522.85 889.067 1531.6 Q889.067 1540.33 885.988 1544.94 Q882.933 1549.52 877.123 1549.52 Q871.312 1549.52 868.234 1544.94 Q865.178 1540.33 865.178 1531.6 Q865.178 1522.85 868.234 1518.27 Q871.312 1513.66 877.123 1513.66 Z\" fill=\"#000000\" fill-rule=\"evenodd\" fill-opacity=\"1\" /><path clip-path=\"url(#clip160)\" d=\"M1181.9 1544.91 L1189.54 1544.91 L1189.54 1518.55 L1181.23 1520.21 L1181.23 1515.95 L1189.49 1514.29 L1194.17 1514.29 L1194.17 1544.91 L1201.81 1544.91 L1201.81 1548.85 L1181.9 1548.85 L1181.9 1544.91 Z\" fill=\"#000000\" fill-rule=\"evenodd\" fill-opacity=\"1\" /><path clip-path=\"url(#clip160)\" d=\"M1211.25 1542.97 L1216.13 1542.97 L1216.13 1548.85 L1211.25 1548.85 L1211.25 1542.97 Z\" fill=\"#000000\" fill-rule=\"evenodd\" fill-opacity=\"1\" /><path clip-path=\"url(#clip160)\" d=\"M1226.37 1514.29 L1244.72 1514.29 L1244.72 1518.22 L1230.65 1518.22 L1230.65 1526.7 Q1231.67 1526.35 1232.68 1526.19 Q1233.7 1526 1234.72 1526 Q1240.51 1526 1243.89 1529.17 Q1247.27 1532.34 1247.27 1537.76 Q1247.27 1543.34 1243.8 1546.44 Q1240.32 1549.52 1234 1549.52 Q1231.83 1549.52 1229.56 1549.15 Q1227.31 1548.78 1224.91 1548.04 L1224.91 1543.34 Q1226.99 1544.47 1229.21 1545.03 Q1231.43 1545.58 1233.91 1545.58 Q1237.92 1545.58 1240.25 1543.48 Q1242.59 1541.37 1242.59 1537.76 Q1242.59 1534.15 1240.25 1532.04 Q1237.92 1529.94 1233.91 1529.94 Q1232.04 1529.94 1230.16 1530.35 Q1228.31 1530.77 1226.37 1531.65 L1226.37 1514.29 Z\" fill=\"#000000\" fill-rule=\"evenodd\" fill-opacity=\"1\" /><path clip-path=\"url(#clip160)\" d=\"M1544.18 1544.91 L1560.5 1544.91 L1560.5 1548.85 L1538.56 1548.85 L1538.56 1544.91 Q1541.22 1542.16 1545.8 1537.53 Q1550.41 1532.88 1551.59 1531.53 Q1553.84 1529.01 1554.72 1527.27 Q1555.62 1525.51 1555.62 1523.82 Q1555.62 1521.07 1553.67 1519.33 Q1551.75 1517.6 1548.65 1517.6 Q1546.45 1517.6 1544 1518.36 Q1541.57 1519.13 1538.79 1520.68 L1538.79 1515.95 Q1541.61 1514.82 1544.07 1514.24 Q1546.52 1513.66 1548.56 1513.66 Q1553.93 1513.66 1557.12 1516.35 Q1560.32 1519.03 1560.32 1523.52 Q1560.32 1525.65 1559.51 1527.57 Q1558.72 1529.47 1556.61 1532.07 Q1556.04 1532.74 1552.93 1535.95 Q1549.83 1539.15 1544.18 1544.91 Z\" fill=\"#000000\" fill-rule=\"evenodd\" fill-opacity=\"1\" /><path clip-path=\"url(#clip160)\" d=\"M1570.32 1542.97 L1575.2 1542.97 L1575.2 1548.85 L1570.32 1548.85 L1570.32 1542.97 Z\" fill=\"#000000\" fill-rule=\"evenodd\" fill-opacity=\"1\" /><path clip-path=\"url(#clip160)\" d=\"M1595.39 1517.37 Q1591.78 1517.37 1589.95 1520.93 Q1588.14 1524.47 1588.14 1531.6 Q1588.14 1538.71 1589.95 1542.27 Q1591.78 1545.82 1595.39 1545.82 Q1599.02 1545.82 1600.83 1542.27 Q1602.66 1538.71 1602.66 1531.6 Q1602.66 1524.47 1600.83 1520.93 Q1599.02 1517.37 1595.39 1517.37 M1595.39 1513.66 Q1601.2 1513.66 1604.25 1518.27 Q1607.33 1522.85 1607.33 1531.6 Q1607.33 1540.33 1604.25 1544.94 Q1601.2 1549.52 1595.39 1549.52 Q1589.58 1549.52 1586.5 1544.94 Q1583.44 1540.33 1583.44 1531.6 Q1583.44 1522.85 1586.5 1518.27 Q1589.58 1513.66 1595.39 1513.66 Z\" fill=\"#000000\" fill-rule=\"evenodd\" fill-opacity=\"1\" /><path clip-path=\"url(#clip160)\" d=\"M1903.38 1544.91 L1919.7 1544.91 L1919.7 1548.85 L1897.76 1548.85 L1897.76 1544.91 Q1900.42 1542.16 1905 1537.53 Q1909.61 1532.88 1910.79 1531.53 Q1913.03 1529.01 1913.91 1527.27 Q1914.82 1525.51 1914.82 1523.82 Q1914.82 1521.07 1912.87 1519.33 Q1910.95 1517.6 1907.85 1517.6 Q1905.65 1517.6 1903.2 1518.36 Q1900.76 1519.13 1897.99 1520.68 L1897.99 1515.95 Q1900.81 1514.82 1903.26 1514.24 Q1905.72 1513.66 1907.76 1513.66 Q1913.13 1513.66 1916.32 1516.35 Q1919.51 1519.03 1919.51 1523.52 Q1919.51 1525.65 1918.7 1527.57 Q1917.92 1529.47 1915.81 1532.07 Q1915.23 1532.74 1912.13 1535.95 Q1909.03 1539.15 1903.38 1544.91 Z\" fill=\"#000000\" fill-rule=\"evenodd\" fill-opacity=\"1\" /><path clip-path=\"url(#clip160)\" d=\"M1929.51 1542.97 L1934.4 1542.97 L1934.4 1548.85 L1929.51 1548.85 L1929.51 1542.97 Z\" fill=\"#000000\" fill-rule=\"evenodd\" fill-opacity=\"1\" /><path clip-path=\"url(#clip160)\" d=\"M1944.63 1514.29 L1962.99 1514.29 L1962.99 1518.22 L1948.91 1518.22 L1948.91 1526.7 Q1949.93 1526.35 1950.95 1526.19 Q1951.97 1526 1952.99 1526 Q1958.77 1526 1962.15 1529.17 Q1965.53 1532.34 1965.53 1537.76 Q1965.53 1543.34 1962.06 1546.44 Q1958.59 1549.52 1952.27 1549.52 Q1950.09 1549.52 1947.82 1549.15 Q1945.58 1548.78 1943.17 1548.04 L1943.17 1543.34 Q1945.25 1544.47 1947.48 1545.03 Q1949.7 1545.58 1952.18 1545.58 Q1956.18 1545.58 1958.52 1543.48 Q1960.86 1541.37 1960.86 1537.76 Q1960.86 1534.15 1958.52 1532.04 Q1956.18 1529.94 1952.18 1529.94 Q1950.3 1529.94 1948.43 1530.35 Q1946.57 1530.77 1944.63 1531.65 L1944.63 1514.29 Z\" fill=\"#000000\" fill-rule=\"evenodd\" fill-opacity=\"1\" /><path clip-path=\"url(#clip160)\" d=\"M2271.65 1530.21 Q2275.01 1530.93 2276.88 1533.2 Q2278.78 1535.47 2278.78 1538.8 Q2278.78 1543.92 2275.26 1546.72 Q2271.74 1549.52 2265.26 1549.52 Q2263.09 1549.52 2260.77 1549.08 Q2258.48 1548.66 2256.03 1547.81 L2256.03 1543.29 Q2257.97 1544.43 2260.28 1545.01 Q2262.6 1545.58 2265.12 1545.58 Q2269.52 1545.58 2271.81 1543.85 Q2274.13 1542.11 2274.13 1538.8 Q2274.13 1535.75 2271.97 1534.03 Q2269.84 1532.3 2266.03 1532.3 L2262 1532.3 L2262 1528.45 L2266.21 1528.45 Q2269.66 1528.45 2271.49 1527.09 Q2273.32 1525.7 2273.32 1523.11 Q2273.32 1520.45 2271.42 1519.03 Q2269.54 1517.6 2266.03 1517.6 Q2264.1 1517.6 2261.91 1518.01 Q2259.71 1518.43 2257.07 1519.31 L2257.07 1515.14 Q2259.73 1514.4 2262.04 1514.03 Q2264.38 1513.66 2266.44 1513.66 Q2271.77 1513.66 2274.87 1516.09 Q2277.97 1518.5 2277.97 1522.62 Q2277.97 1525.49 2276.33 1527.48 Q2274.68 1529.45 2271.65 1530.21 Z\" fill=\"#000000\" fill-rule=\"evenodd\" fill-opacity=\"1\" /><path clip-path=\"url(#clip160)\" d=\"M2287.65 1542.97 L2292.53 1542.97 L2292.53 1548.85 L2287.65 1548.85 L2287.65 1542.97 Z\" fill=\"#000000\" fill-rule=\"evenodd\" fill-opacity=\"1\" /><path clip-path=\"url(#clip160)\" d=\"M2312.71 1517.37 Q2309.1 1517.37 2307.28 1520.93 Q2305.47 1524.47 2305.47 1531.6 Q2305.47 1538.71 2307.28 1542.27 Q2309.1 1545.82 2312.71 1545.82 Q2316.35 1545.82 2318.15 1542.27 Q2319.98 1538.71 2319.98 1531.6 Q2319.98 1524.47 2318.15 1520.93 Q2316.35 1517.37 2312.71 1517.37 M2312.71 1513.66 Q2318.53 1513.66 2321.58 1518.27 Q2324.66 1522.85 2324.66 1531.6 Q2324.66 1540.33 2321.58 1544.94 Q2318.53 1549.52 2312.71 1549.52 Q2306.9 1549.52 2303.83 1544.94 Q2300.77 1540.33 2300.77 1531.6 Q2300.77 1522.85 2303.83 1518.27 Q2306.9 1513.66 2312.71 1513.66 Z\" fill=\"#000000\" fill-rule=\"evenodd\" fill-opacity=\"1\" /><polyline clip-path=\"url(#clip162)\" style=\"stroke:#000000; stroke-linecap:round; stroke-linejoin:round; stroke-width:2; stroke-opacity:0.1; fill:none\" points=\"\n",
       "  147.478,1324.93 2352.76,1324.93 \n",
       "  \"/>\n",
       "<polyline clip-path=\"url(#clip162)\" style=\"stroke:#000000; stroke-linecap:round; stroke-linejoin:round; stroke-width:2; stroke-opacity:0.1; fill:none\" points=\"\n",
       "  147.478,925.731 2352.76,925.731 \n",
       "  \"/>\n",
       "<polyline clip-path=\"url(#clip162)\" style=\"stroke:#000000; stroke-linecap:round; stroke-linejoin:round; stroke-width:2; stroke-opacity:0.1; fill:none\" points=\"\n",
       "  147.478,526.536 2352.76,526.536 \n",
       "  \"/>\n",
       "<polyline clip-path=\"url(#clip162)\" style=\"stroke:#000000; stroke-linecap:round; stroke-linejoin:round; stroke-width:2; stroke-opacity:0.1; fill:none\" points=\"\n",
       "  147.478,127.342 2352.76,127.342 \n",
       "  \"/>\n",
       "<polyline clip-path=\"url(#clip160)\" style=\"stroke:#000000; stroke-linecap:round; stroke-linejoin:round; stroke-width:4; stroke-opacity:1; fill:none\" points=\"\n",
       "  147.478,1486.45 147.478,47.2441 \n",
       "  \"/>\n",
       "<polyline clip-path=\"url(#clip160)\" style=\"stroke:#000000; stroke-linecap:round; stroke-linejoin:round; stroke-width:4; stroke-opacity:1; fill:none\" points=\"\n",
       "  147.478,1324.93 166.376,1324.93 \n",
       "  \"/>\n",
       "<polyline clip-path=\"url(#clip160)\" style=\"stroke:#000000; stroke-linecap:round; stroke-linejoin:round; stroke-width:4; stroke-opacity:1; fill:none\" points=\"\n",
       "  147.478,925.731 166.376,925.731 \n",
       "  \"/>\n",
       "<polyline clip-path=\"url(#clip160)\" style=\"stroke:#000000; stroke-linecap:round; stroke-linejoin:round; stroke-width:4; stroke-opacity:1; fill:none\" points=\"\n",
       "  147.478,526.536 166.376,526.536 \n",
       "  \"/>\n",
       "<polyline clip-path=\"url(#clip160)\" style=\"stroke:#000000; stroke-linecap:round; stroke-linejoin:round; stroke-width:4; stroke-opacity:1; fill:none\" points=\"\n",
       "  147.478,127.342 166.376,127.342 \n",
       "  \"/>\n",
       "<path clip-path=\"url(#clip160)\" d=\"M51.3625 1325.38 L81.0383 1325.38 L81.0383 1329.31 L51.3625 1329.31 L51.3625 1325.38 Z\" fill=\"#000000\" fill-rule=\"evenodd\" fill-opacity=\"1\" /><path clip-path=\"url(#clip160)\" d=\"M95.1586 1338.27 L111.478 1338.27 L111.478 1342.21 L89.5336 1342.21 L89.5336 1338.27 Q92.1956 1335.52 96.7789 1330.89 Q101.385 1326.23 102.566 1324.89 Q104.811 1322.37 105.691 1320.63 Q106.594 1318.87 106.594 1317.18 Q106.594 1314.43 104.649 1312.69 Q102.728 1310.96 99.6261 1310.96 Q97.4271 1310.96 94.9734 1311.72 Q92.5428 1312.48 89.7651 1314.03 L89.7651 1309.31 Q92.5891 1308.18 95.0428 1307.6 Q97.4965 1307.02 99.5335 1307.02 Q104.904 1307.02 108.098 1309.71 Q111.293 1312.39 111.293 1316.88 Q111.293 1319.01 110.483 1320.93 Q109.696 1322.83 107.589 1325.42 Q107.01 1326.09 103.909 1329.31 Q100.807 1332.51 95.1586 1338.27 Z\" fill=\"#000000\" fill-rule=\"evenodd\" fill-opacity=\"1\" /><path clip-path=\"url(#clip160)\" d=\"M50.9921 926.182 L80.6679 926.182 L80.6679 930.117 L50.9921 930.117 L50.9921 926.182 Z\" fill=\"#000000\" fill-rule=\"evenodd\" fill-opacity=\"1\" /><path clip-path=\"url(#clip160)\" d=\"M91.5706 939.076 L99.2095 939.076 L99.2095 912.71 L90.8993 914.377 L90.8993 910.117 L99.1632 908.451 L103.839 908.451 L103.839 939.076 L111.478 939.076 L111.478 943.011 L91.5706 943.011 L91.5706 939.076 Z\" fill=\"#000000\" fill-rule=\"evenodd\" fill-opacity=\"1\" /><path clip-path=\"url(#clip160)\" d=\"M99.5335 512.335 Q95.9224 512.335 94.0937 515.9 Q92.2882 519.441 92.2882 526.571 Q92.2882 533.677 94.0937 537.242 Q95.9224 540.784 99.5335 540.784 Q103.168 540.784 104.973 537.242 Q106.802 533.677 106.802 526.571 Q106.802 519.441 104.973 515.9 Q103.168 512.335 99.5335 512.335 M99.5335 508.631 Q105.344 508.631 108.399 513.238 Q111.478 517.821 111.478 526.571 Q111.478 535.298 108.399 539.904 Q105.344 544.488 99.5335 544.488 Q93.7234 544.488 90.6447 539.904 Q87.5892 535.298 87.5892 526.571 Q87.5892 517.821 90.6447 513.238 Q93.7234 508.631 99.5335 508.631 Z\" fill=\"#000000\" fill-rule=\"evenodd\" fill-opacity=\"1\" /><path clip-path=\"url(#clip160)\" d=\"M91.5706 140.687 L99.2095 140.687 L99.2095 114.321 L90.8993 115.988 L90.8993 111.728 L99.1632 110.062 L103.839 110.062 L103.839 140.687 L111.478 140.687 L111.478 144.622 L91.5706 144.622 L91.5706 140.687 Z\" fill=\"#000000\" fill-rule=\"evenodd\" fill-opacity=\"1\" /><polyline clip-path=\"url(#clip162)\" style=\"stroke:#009af9; stroke-linecap:round; stroke-linejoin:round; stroke-width:4; stroke-opacity:1; fill:none\" points=\"\n",
       "  209.891,1445.72 211.585,1436.4 213.278,1427.3 214.971,1418.41 216.664,1409.7 218.357,1401.19 220.05,1392.85 221.743,1384.68 223.436,1376.68 231.264,1341.62 \n",
       "  239.092,1309.4 246.919,1279.58 254.747,1251.84 262.574,1225.9 270.402,1201.55 278.23,1178.59 286.057,1156.89 293.885,1136.3 301.712,1116.72 309.54,1098.06 \n",
       "  317.368,1080.23 333.023,1046.8 348.678,1015.96 358.086,998.504 367.494,981.782 376.903,965.734 386.311,950.305 405.127,921.129 423.943,893.941 439.852,872.316 \n",
       "  455.761,851.803 471.67,832.292 487.579,813.69 522.142,776.037 556.705,741.632 588.569,712.343 620.434,685.057 654.595,657.737 688.757,632.168 728.337,604.456 \n",
       "  767.917,578.545 803.09,556.849 838.264,536.272 869.108,519.061 899.953,502.562 967.21,468.789 1034.87,437.473 1109.67,405.488 1180.84,377.265 1254.85,349.893 \n",
       "  1317.14,328.223 1393.2,303.268 1462.87,281.7 1527.22,262.766 1592.4,244.46 1665.45,224.895 1731.64,207.957 1807.43,189.409 1877.61,172.97 1946.79,157.401 \n",
       "  2013.96,142.844 2082.82,128.452 2158.27,113.258 2267.86,92.1685 2290.34,87.9763 \n",
       "  \"/>\n",
       "<circle clip-path=\"url(#clip162)\" cx=\"425.111\" cy=\"892.315\" r=\"14.4\" fill=\"#e26f46\" fill-rule=\"evenodd\" fill-opacity=\"1\" stroke=\"#000000\" stroke-opacity=\"1\" stroke-width=\"3.2\"/>\n",
       "<circle clip-path=\"url(#clip162)\" cx=\"783.809\" cy=\"568.596\" r=\"14.4\" fill=\"#e26f46\" fill-rule=\"evenodd\" fill-opacity=\"1\" stroke=\"#000000\" stroke-opacity=\"1\" stroke-width=\"3.2\"/>\n",
       "<circle clip-path=\"url(#clip162)\" cx=\"1142.51\" cy=\"392.218\" r=\"14.4\" fill=\"#e26f46\" fill-rule=\"evenodd\" fill-opacity=\"1\" stroke=\"#000000\" stroke-opacity=\"1\" stroke-width=\"3.2\"/>\n",
       "<circle clip-path=\"url(#clip162)\" cx=\"1501.21\" cy=\"270.312\" r=\"14.4\" fill=\"#e26f46\" fill-rule=\"evenodd\" fill-opacity=\"1\" stroke=\"#000000\" stroke-opacity=\"1\" stroke-width=\"3.2\"/>\n",
       "<circle clip-path=\"url(#clip162)\" cx=\"1859.9\" cy=\"177.054\" r=\"14.4\" fill=\"#e26f46\" fill-rule=\"evenodd\" fill-opacity=\"1\" stroke=\"#000000\" stroke-opacity=\"1\" stroke-width=\"3.2\"/>\n",
       "<circle clip-path=\"url(#clip162)\" cx=\"2218.6\" cy=\"101.51\" r=\"14.4\" fill=\"#e26f46\" fill-rule=\"evenodd\" fill-opacity=\"1\" stroke=\"#000000\" stroke-opacity=\"1\" stroke-width=\"3.2\"/>\n",
       "<path clip-path=\"url(#clip160)\" d=\"\n",
       "M220.987 250.738 L550.889 250.738 L550.889 95.2176 L220.987 95.2176  Z\n",
       "  \" fill=\"#ffffff\" fill-rule=\"evenodd\" fill-opacity=\"1\"/>\n",
       "<polyline clip-path=\"url(#clip160)\" style=\"stroke:#000000; stroke-linecap:round; stroke-linejoin:round; stroke-width:4; stroke-opacity:1; fill:none\" points=\"\n",
       "  220.987,250.738 550.889,250.738 550.889,95.2176 220.987,95.2176 220.987,250.738 \n",
       "  \"/>\n",
       "<polyline clip-path=\"url(#clip160)\" style=\"stroke:#009af9; stroke-linecap:round; stroke-linejoin:round; stroke-width:4; stroke-opacity:1; fill:none\" points=\"\n",
       "  245.49,147.058 392.509,147.058 \n",
       "  \"/>\n",
       "<path clip-path=\"url(#clip160)\" d=\"M417.012 128.319 L421.271 128.319 L421.271 164.338 L417.012 164.338 L417.012 128.319 Z\" fill=\"#000000\" fill-rule=\"evenodd\" fill-opacity=\"1\" /><path clip-path=\"url(#clip160)\" d=\"M440.229 141.398 Q436.803 141.398 434.813 144.083 Q432.822 146.745 432.822 151.398 Q432.822 156.051 434.79 158.736 Q436.78 161.398 440.229 161.398 Q443.632 161.398 445.623 158.713 Q447.614 156.027 447.614 151.398 Q447.614 146.791 445.623 144.106 Q443.632 141.398 440.229 141.398 M440.229 137.787 Q445.785 137.787 448.956 141.398 Q452.127 145.009 452.127 151.398 Q452.127 157.764 448.956 161.398 Q445.785 165.009 440.229 165.009 Q434.651 165.009 431.479 161.398 Q428.331 157.764 428.331 151.398 Q428.331 145.009 431.479 141.398 Q434.651 137.787 440.229 137.787 Z\" fill=\"#000000\" fill-rule=\"evenodd\" fill-opacity=\"1\" /><path clip-path=\"url(#clip160)\" d=\"M476.248 151.074 Q476.248 146.444 474.326 143.898 Q472.428 141.352 468.979 141.352 Q465.553 141.352 463.632 143.898 Q461.734 146.444 461.734 151.074 Q461.734 155.68 463.632 158.226 Q465.553 160.773 468.979 160.773 Q472.428 160.773 474.326 158.226 Q476.248 155.68 476.248 151.074 M480.507 161.12 Q480.507 167.74 477.567 170.958 Q474.627 174.199 468.563 174.199 Q466.317 174.199 464.326 173.851 Q462.336 173.527 460.461 172.833 L460.461 168.689 Q462.336 169.708 464.164 170.194 Q465.993 170.68 467.891 170.68 Q472.081 170.68 474.164 168.481 Q476.248 166.305 476.248 161.884 L476.248 159.777 Q474.928 162.069 472.868 163.203 Q470.808 164.338 467.938 164.338 Q463.169 164.338 460.252 160.703 Q457.336 157.069 457.336 151.074 Q457.336 145.055 460.252 141.421 Q463.169 137.787 467.938 137.787 Q470.808 137.787 472.868 138.921 Q474.928 140.055 476.248 142.347 L476.248 138.412 L480.507 138.412 L480.507 161.12 Z\" fill=\"#000000\" fill-rule=\"evenodd\" fill-opacity=\"1\" /><path clip-path=\"url(#clip160)\" d=\"M525.9 138.412 L516.525 151.027 L526.386 164.338 L521.363 164.338 L513.817 154.152 L506.271 164.338 L501.248 164.338 L511.317 150.773 L502.104 138.412 L507.127 138.412 L514.002 147.648 L520.877 138.412 L525.9 138.412 Z\" fill=\"#000000\" fill-rule=\"evenodd\" fill-opacity=\"1\" /><circle clip-path=\"url(#clip160)\" cx=\"319\" cy=\"198.898\" r=\"23.04\" fill=\"#e26f46\" fill-rule=\"evenodd\" fill-opacity=\"1\" stroke=\"#000000\" stroke-opacity=\"1\" stroke-width=\"5.12\"/>\n",
       "<path clip-path=\"url(#clip160)\" d=\"M435.924 194.187 L435.924 180.159 L440.183 180.159 L440.183 216.178 L435.924 216.178 L435.924 212.289 Q434.581 214.603 432.521 215.738 Q430.484 216.849 427.614 216.849 Q422.915 216.849 419.952 213.099 Q417.012 209.349 417.012 203.238 Q417.012 197.127 419.952 193.377 Q422.915 189.627 427.614 189.627 Q430.484 189.627 432.521 190.761 Q434.581 191.872 435.924 194.187 M421.41 203.238 Q421.41 207.937 423.331 210.622 Q425.276 213.284 428.655 213.284 Q432.035 213.284 433.979 210.622 Q435.924 207.937 435.924 203.238 Q435.924 198.539 433.979 195.877 Q432.035 193.192 428.655 193.192 Q425.276 193.192 423.331 195.877 Q421.41 198.539 421.41 203.238 Z\" fill=\"#000000\" fill-rule=\"evenodd\" fill-opacity=\"1\" /><path clip-path=\"url(#clip160)\" d=\"M460.739 203.145 Q455.576 203.145 453.586 204.326 Q451.595 205.506 451.595 208.354 Q451.595 210.622 453.077 211.965 Q454.581 213.284 457.151 213.284 Q460.692 213.284 462.822 210.784 Q464.975 208.261 464.975 204.094 L464.975 203.145 L460.739 203.145 M469.234 201.386 L469.234 216.178 L464.975 216.178 L464.975 212.242 Q463.516 214.603 461.34 215.738 Q459.164 216.849 456.016 216.849 Q452.035 216.849 449.674 214.627 Q447.336 212.381 447.336 208.631 Q447.336 204.256 450.252 202.034 Q453.192 199.812 459.002 199.812 L464.975 199.812 L464.975 199.395 Q464.975 196.455 463.03 194.858 Q461.109 193.238 457.614 193.238 Q455.391 193.238 453.285 193.77 Q451.178 194.303 449.234 195.367 L449.234 191.432 Q451.572 190.53 453.771 190.09 Q455.97 189.627 458.053 189.627 Q463.678 189.627 466.456 192.543 Q469.234 195.46 469.234 201.386 Z\" fill=\"#000000\" fill-rule=\"evenodd\" fill-opacity=\"1\" /><path clip-path=\"url(#clip160)\" d=\"M482.22 182.891 L482.22 190.252 L490.993 190.252 L490.993 193.562 L482.22 193.562 L482.22 207.636 Q482.22 210.807 483.076 211.71 Q483.956 212.613 486.618 212.613 L490.993 212.613 L490.993 216.178 L486.618 216.178 Q481.687 216.178 479.812 214.349 Q477.937 212.497 477.937 207.636 L477.937 193.562 L474.813 193.562 L474.813 190.252 L477.937 190.252 L477.937 182.891 L482.22 182.891 Z\" fill=\"#000000\" fill-rule=\"evenodd\" fill-opacity=\"1\" /><path clip-path=\"url(#clip160)\" d=\"M508.377 203.145 Q503.215 203.145 501.224 204.326 Q499.234 205.506 499.234 208.354 Q499.234 210.622 500.715 211.965 Q502.22 213.284 504.789 213.284 Q508.331 213.284 510.46 210.784 Q512.613 208.261 512.613 204.094 L512.613 203.145 L508.377 203.145 M516.872 201.386 L516.872 216.178 L512.613 216.178 L512.613 212.242 Q511.155 214.603 508.979 215.738 Q506.803 216.849 503.655 216.849 Q499.673 216.849 497.312 214.627 Q494.974 212.381 494.974 208.631 Q494.974 204.256 497.891 202.034 Q500.831 199.812 506.641 199.812 L512.613 199.812 L512.613 199.395 Q512.613 196.455 510.669 194.858 Q508.748 193.238 505.252 193.238 Q503.03 193.238 500.923 193.77 Q498.817 194.303 496.873 195.367 L496.873 191.432 Q499.211 190.53 501.41 190.09 Q503.609 189.627 505.692 189.627 Q511.317 189.627 514.095 192.543 Q516.872 195.46 516.872 201.386 Z\" fill=\"#000000\" fill-rule=\"evenodd\" fill-opacity=\"1\" /></svg>\n"
      ]
     },
     "execution_count": 34,
     "metadata": {},
     "output_type": "execute_result"
    }
   ],
   "source": [
    "xx = range(0.4, 3.0, step = 0.5)\n",
    "yy = log.(xx)\n",
    "scatter!(xx, yy, label = \"data\")  # the ! means add to the previous plot"
   ]
  },
  {
   "cell_type": "markdown",
   "id": "bf0c2ab1-76a9-4c1f-9bed-b252e995f781",
   "metadata": {},
   "source": [
    "You can also draw lines instead of points using plot."
   ]
  },
  {
   "cell_type": "code",
   "execution_count": 35,
   "id": "db4b699c-ae2d-48b3-b482-e0af86c3021c",
   "metadata": {},
   "outputs": [
    {
     "data": {
      "image/svg+xml": [
       "<?xml version=\"1.0\" encoding=\"utf-8\"?>\n",
       "<svg xmlns=\"http://www.w3.org/2000/svg\" xmlns:xlink=\"http://www.w3.org/1999/xlink\" width=\"600\" height=\"400\" viewBox=\"0 0 2400 1600\">\n",
       "<defs>\n",
       "  <clipPath id=\"clip200\">\n",
       "    <rect x=\"0\" y=\"0\" width=\"2400\" height=\"1600\"/>\n",
       "  </clipPath>\n",
       "</defs>\n",
       "<path clip-path=\"url(#clip200)\" d=\"\n",
       "M0 1600 L2400 1600 L2400 0 L0 0  Z\n",
       "  \" fill=\"#ffffff\" fill-rule=\"evenodd\" fill-opacity=\"1\"/>\n",
       "<defs>\n",
       "  <clipPath id=\"clip201\">\n",
       "    <rect x=\"480\" y=\"0\" width=\"1681\" height=\"1600\"/>\n",
       "  </clipPath>\n",
       "</defs>\n",
       "<path clip-path=\"url(#clip200)\" d=\"\n",
       "M147.478 1486.45 L2352.76 1486.45 L2352.76 47.2441 L147.478 47.2441  Z\n",
       "  \" fill=\"#ffffff\" fill-rule=\"evenodd\" fill-opacity=\"1\"/>\n",
       "<defs>\n",
       "  <clipPath id=\"clip202\">\n",
       "    <rect x=\"147\" y=\"47\" width=\"2206\" height=\"1440\"/>\n",
       "  </clipPath>\n",
       "</defs>\n",
       "<polyline clip-path=\"url(#clip202)\" style=\"stroke:#000000; stroke-linecap:round; stroke-linejoin:round; stroke-width:2; stroke-opacity:0.1; fill:none\" points=\"\n",
       "  496.85,1486.45 496.85,47.2441 \n",
       "  \"/>\n",
       "<polyline clip-path=\"url(#clip202)\" style=\"stroke:#000000; stroke-linecap:round; stroke-linejoin:round; stroke-width:2; stroke-opacity:0.1; fill:none\" points=\"\n",
       "  855.549,1486.45 855.549,47.2441 \n",
       "  \"/>\n",
       "<polyline clip-path=\"url(#clip202)\" style=\"stroke:#000000; stroke-linecap:round; stroke-linejoin:round; stroke-width:2; stroke-opacity:0.1; fill:none\" points=\"\n",
       "  1214.25,1486.45 1214.25,47.2441 \n",
       "  \"/>\n",
       "<polyline clip-path=\"url(#clip202)\" style=\"stroke:#000000; stroke-linecap:round; stroke-linejoin:round; stroke-width:2; stroke-opacity:0.1; fill:none\" points=\"\n",
       "  1572.95,1486.45 1572.95,47.2441 \n",
       "  \"/>\n",
       "<polyline clip-path=\"url(#clip202)\" style=\"stroke:#000000; stroke-linecap:round; stroke-linejoin:round; stroke-width:2; stroke-opacity:0.1; fill:none\" points=\"\n",
       "  1931.64,1486.45 1931.64,47.2441 \n",
       "  \"/>\n",
       "<polyline clip-path=\"url(#clip202)\" style=\"stroke:#000000; stroke-linecap:round; stroke-linejoin:round; stroke-width:2; stroke-opacity:0.1; fill:none\" points=\"\n",
       "  2290.34,1486.45 2290.34,47.2441 \n",
       "  \"/>\n",
       "<polyline clip-path=\"url(#clip200)\" style=\"stroke:#000000; stroke-linecap:round; stroke-linejoin:round; stroke-width:4; stroke-opacity:1; fill:none\" points=\"\n",
       "  147.478,1486.45 2352.76,1486.45 \n",
       "  \"/>\n",
       "<polyline clip-path=\"url(#clip200)\" style=\"stroke:#000000; stroke-linecap:round; stroke-linejoin:round; stroke-width:4; stroke-opacity:1; fill:none\" points=\"\n",
       "  496.85,1486.45 496.85,1467.55 \n",
       "  \"/>\n",
       "<polyline clip-path=\"url(#clip200)\" style=\"stroke:#000000; stroke-linecap:round; stroke-linejoin:round; stroke-width:4; stroke-opacity:1; fill:none\" points=\"\n",
       "  855.549,1486.45 855.549,1467.55 \n",
       "  \"/>\n",
       "<polyline clip-path=\"url(#clip200)\" style=\"stroke:#000000; stroke-linecap:round; stroke-linejoin:round; stroke-width:4; stroke-opacity:1; fill:none\" points=\"\n",
       "  1214.25,1486.45 1214.25,1467.55 \n",
       "  \"/>\n",
       "<polyline clip-path=\"url(#clip200)\" style=\"stroke:#000000; stroke-linecap:round; stroke-linejoin:round; stroke-width:4; stroke-opacity:1; fill:none\" points=\"\n",
       "  1572.95,1486.45 1572.95,1467.55 \n",
       "  \"/>\n",
       "<polyline clip-path=\"url(#clip200)\" style=\"stroke:#000000; stroke-linecap:round; stroke-linejoin:round; stroke-width:4; stroke-opacity:1; fill:none\" points=\"\n",
       "  1931.64,1486.45 1931.64,1467.55 \n",
       "  \"/>\n",
       "<polyline clip-path=\"url(#clip200)\" style=\"stroke:#000000; stroke-linecap:round; stroke-linejoin:round; stroke-width:4; stroke-opacity:1; fill:none\" points=\"\n",
       "  2290.34,1486.45 2290.34,1467.55 \n",
       "  \"/>\n",
       "<path clip-path=\"url(#clip200)\" d=\"M474.732 1517.37 Q471.121 1517.37 469.292 1520.93 Q467.487 1524.47 467.487 1531.6 Q467.487 1538.71 469.292 1542.27 Q471.121 1545.82 474.732 1545.82 Q478.366 1545.82 480.172 1542.27 Q482.001 1538.71 482.001 1531.6 Q482.001 1524.47 480.172 1520.93 Q478.366 1517.37 474.732 1517.37 M474.732 1513.66 Q480.542 1513.66 483.598 1518.27 Q486.677 1522.85 486.677 1531.6 Q486.677 1540.33 483.598 1544.94 Q480.542 1549.52 474.732 1549.52 Q468.922 1549.52 465.843 1544.94 Q462.788 1540.33 462.788 1531.6 Q462.788 1522.85 465.843 1518.27 Q468.922 1513.66 474.732 1513.66 Z\" fill=\"#000000\" fill-rule=\"evenodd\" fill-opacity=\"1\" /><path clip-path=\"url(#clip200)\" d=\"M494.894 1542.97 L499.778 1542.97 L499.778 1548.85 L494.894 1548.85 L494.894 1542.97 Z\" fill=\"#000000\" fill-rule=\"evenodd\" fill-opacity=\"1\" /><path clip-path=\"url(#clip200)\" d=\"M510.01 1514.29 L528.366 1514.29 L528.366 1518.22 L514.292 1518.22 L514.292 1526.7 Q515.311 1526.35 516.329 1526.19 Q517.348 1526 518.366 1526 Q524.153 1526 527.533 1529.17 Q530.913 1532.34 530.913 1537.76 Q530.913 1543.34 527.44 1546.44 Q523.968 1549.52 517.649 1549.52 Q515.473 1549.52 513.204 1549.15 Q510.959 1548.78 508.552 1548.04 L508.552 1543.34 Q510.635 1544.47 512.857 1545.03 Q515.079 1545.58 517.556 1545.58 Q521.561 1545.58 523.899 1543.48 Q526.237 1541.37 526.237 1537.76 Q526.237 1534.15 523.899 1532.04 Q521.561 1529.94 517.556 1529.94 Q515.681 1529.94 513.806 1530.35 Q511.954 1530.77 510.01 1531.65 L510.01 1514.29 Z\" fill=\"#000000\" fill-rule=\"evenodd\" fill-opacity=\"1\" /><path clip-path=\"url(#clip200)\" d=\"M822.702 1544.91 L830.34 1544.91 L830.34 1518.55 L822.03 1520.21 L822.03 1515.95 L830.294 1514.29 L834.97 1514.29 L834.97 1544.91 L842.609 1544.91 L842.609 1548.85 L822.702 1548.85 L822.702 1544.91 Z\" fill=\"#000000\" fill-rule=\"evenodd\" fill-opacity=\"1\" /><path clip-path=\"url(#clip200)\" d=\"M852.053 1542.97 L856.938 1542.97 L856.938 1548.85 L852.053 1548.85 L852.053 1542.97 Z\" fill=\"#000000\" fill-rule=\"evenodd\" fill-opacity=\"1\" /><path clip-path=\"url(#clip200)\" d=\"M877.123 1517.37 Q873.511 1517.37 871.683 1520.93 Q869.877 1524.47 869.877 1531.6 Q869.877 1538.71 871.683 1542.27 Q873.511 1545.82 877.123 1545.82 Q880.757 1545.82 882.562 1542.27 Q884.391 1538.71 884.391 1531.6 Q884.391 1524.47 882.562 1520.93 Q880.757 1517.37 877.123 1517.37 M877.123 1513.66 Q882.933 1513.66 885.988 1518.27 Q889.067 1522.85 889.067 1531.6 Q889.067 1540.33 885.988 1544.94 Q882.933 1549.52 877.123 1549.52 Q871.312 1549.52 868.234 1544.94 Q865.178 1540.33 865.178 1531.6 Q865.178 1522.85 868.234 1518.27 Q871.312 1513.66 877.123 1513.66 Z\" fill=\"#000000\" fill-rule=\"evenodd\" fill-opacity=\"1\" /><path clip-path=\"url(#clip200)\" d=\"M1181.9 1544.91 L1189.54 1544.91 L1189.54 1518.55 L1181.23 1520.21 L1181.23 1515.95 L1189.49 1514.29 L1194.17 1514.29 L1194.17 1544.91 L1201.81 1544.91 L1201.81 1548.85 L1181.9 1548.85 L1181.9 1544.91 Z\" fill=\"#000000\" fill-rule=\"evenodd\" fill-opacity=\"1\" /><path clip-path=\"url(#clip200)\" d=\"M1211.25 1542.97 L1216.13 1542.97 L1216.13 1548.85 L1211.25 1548.85 L1211.25 1542.97 Z\" fill=\"#000000\" fill-rule=\"evenodd\" fill-opacity=\"1\" /><path clip-path=\"url(#clip200)\" d=\"M1226.37 1514.29 L1244.72 1514.29 L1244.72 1518.22 L1230.65 1518.22 L1230.65 1526.7 Q1231.67 1526.35 1232.68 1526.19 Q1233.7 1526 1234.72 1526 Q1240.51 1526 1243.89 1529.17 Q1247.27 1532.34 1247.27 1537.76 Q1247.27 1543.34 1243.8 1546.44 Q1240.32 1549.52 1234 1549.52 Q1231.83 1549.52 1229.56 1549.15 Q1227.31 1548.78 1224.91 1548.04 L1224.91 1543.34 Q1226.99 1544.47 1229.21 1545.03 Q1231.43 1545.58 1233.91 1545.58 Q1237.92 1545.58 1240.25 1543.48 Q1242.59 1541.37 1242.59 1537.76 Q1242.59 1534.15 1240.25 1532.04 Q1237.92 1529.94 1233.91 1529.94 Q1232.04 1529.94 1230.16 1530.35 Q1228.31 1530.77 1226.37 1531.65 L1226.37 1514.29 Z\" fill=\"#000000\" fill-rule=\"evenodd\" fill-opacity=\"1\" /><path clip-path=\"url(#clip200)\" d=\"M1544.18 1544.91 L1560.5 1544.91 L1560.5 1548.85 L1538.56 1548.85 L1538.56 1544.91 Q1541.22 1542.16 1545.8 1537.53 Q1550.41 1532.88 1551.59 1531.53 Q1553.84 1529.01 1554.72 1527.27 Q1555.62 1525.51 1555.62 1523.82 Q1555.62 1521.07 1553.67 1519.33 Q1551.75 1517.6 1548.65 1517.6 Q1546.45 1517.6 1544 1518.36 Q1541.57 1519.13 1538.79 1520.68 L1538.79 1515.95 Q1541.61 1514.82 1544.07 1514.24 Q1546.52 1513.66 1548.56 1513.66 Q1553.93 1513.66 1557.12 1516.35 Q1560.32 1519.03 1560.32 1523.52 Q1560.32 1525.65 1559.51 1527.57 Q1558.72 1529.47 1556.61 1532.07 Q1556.04 1532.74 1552.93 1535.95 Q1549.83 1539.15 1544.18 1544.91 Z\" fill=\"#000000\" fill-rule=\"evenodd\" fill-opacity=\"1\" /><path clip-path=\"url(#clip200)\" d=\"M1570.32 1542.97 L1575.2 1542.97 L1575.2 1548.85 L1570.32 1548.85 L1570.32 1542.97 Z\" fill=\"#000000\" fill-rule=\"evenodd\" fill-opacity=\"1\" /><path clip-path=\"url(#clip200)\" d=\"M1595.39 1517.37 Q1591.78 1517.37 1589.95 1520.93 Q1588.14 1524.47 1588.14 1531.6 Q1588.14 1538.71 1589.95 1542.27 Q1591.78 1545.82 1595.39 1545.82 Q1599.02 1545.82 1600.83 1542.27 Q1602.66 1538.71 1602.66 1531.6 Q1602.66 1524.47 1600.83 1520.93 Q1599.02 1517.37 1595.39 1517.37 M1595.39 1513.66 Q1601.2 1513.66 1604.25 1518.27 Q1607.33 1522.85 1607.33 1531.6 Q1607.33 1540.33 1604.25 1544.94 Q1601.2 1549.52 1595.39 1549.52 Q1589.58 1549.52 1586.5 1544.94 Q1583.44 1540.33 1583.44 1531.6 Q1583.44 1522.85 1586.5 1518.27 Q1589.58 1513.66 1595.39 1513.66 Z\" fill=\"#000000\" fill-rule=\"evenodd\" fill-opacity=\"1\" /><path clip-path=\"url(#clip200)\" d=\"M1903.38 1544.91 L1919.7 1544.91 L1919.7 1548.85 L1897.76 1548.85 L1897.76 1544.91 Q1900.42 1542.16 1905 1537.53 Q1909.61 1532.88 1910.79 1531.53 Q1913.03 1529.01 1913.91 1527.27 Q1914.82 1525.51 1914.82 1523.82 Q1914.82 1521.07 1912.87 1519.33 Q1910.95 1517.6 1907.85 1517.6 Q1905.65 1517.6 1903.2 1518.36 Q1900.76 1519.13 1897.99 1520.68 L1897.99 1515.95 Q1900.81 1514.82 1903.26 1514.24 Q1905.72 1513.66 1907.76 1513.66 Q1913.13 1513.66 1916.32 1516.35 Q1919.51 1519.03 1919.51 1523.52 Q1919.51 1525.65 1918.7 1527.57 Q1917.92 1529.47 1915.81 1532.07 Q1915.23 1532.74 1912.13 1535.95 Q1909.03 1539.15 1903.38 1544.91 Z\" fill=\"#000000\" fill-rule=\"evenodd\" fill-opacity=\"1\" /><path clip-path=\"url(#clip200)\" d=\"M1929.51 1542.97 L1934.4 1542.97 L1934.4 1548.85 L1929.51 1548.85 L1929.51 1542.97 Z\" fill=\"#000000\" fill-rule=\"evenodd\" fill-opacity=\"1\" /><path clip-path=\"url(#clip200)\" d=\"M1944.63 1514.29 L1962.99 1514.29 L1962.99 1518.22 L1948.91 1518.22 L1948.91 1526.7 Q1949.93 1526.35 1950.95 1526.19 Q1951.97 1526 1952.99 1526 Q1958.77 1526 1962.15 1529.17 Q1965.53 1532.34 1965.53 1537.76 Q1965.53 1543.34 1962.06 1546.44 Q1958.59 1549.52 1952.27 1549.52 Q1950.09 1549.52 1947.82 1549.15 Q1945.58 1548.78 1943.17 1548.04 L1943.17 1543.34 Q1945.25 1544.47 1947.48 1545.03 Q1949.7 1545.58 1952.18 1545.58 Q1956.18 1545.58 1958.52 1543.48 Q1960.86 1541.37 1960.86 1537.76 Q1960.86 1534.15 1958.52 1532.04 Q1956.18 1529.94 1952.18 1529.94 Q1950.3 1529.94 1948.43 1530.35 Q1946.57 1530.77 1944.63 1531.65 L1944.63 1514.29 Z\" fill=\"#000000\" fill-rule=\"evenodd\" fill-opacity=\"1\" /><path clip-path=\"url(#clip200)\" d=\"M2271.65 1530.21 Q2275.01 1530.93 2276.88 1533.2 Q2278.78 1535.47 2278.78 1538.8 Q2278.78 1543.92 2275.26 1546.72 Q2271.74 1549.52 2265.26 1549.52 Q2263.09 1549.52 2260.77 1549.08 Q2258.48 1548.66 2256.03 1547.81 L2256.03 1543.29 Q2257.97 1544.43 2260.28 1545.01 Q2262.6 1545.58 2265.12 1545.58 Q2269.52 1545.58 2271.81 1543.85 Q2274.13 1542.11 2274.13 1538.8 Q2274.13 1535.75 2271.97 1534.03 Q2269.84 1532.3 2266.03 1532.3 L2262 1532.3 L2262 1528.45 L2266.21 1528.45 Q2269.66 1528.45 2271.49 1527.09 Q2273.32 1525.7 2273.32 1523.11 Q2273.32 1520.45 2271.42 1519.03 Q2269.54 1517.6 2266.03 1517.6 Q2264.1 1517.6 2261.91 1518.01 Q2259.71 1518.43 2257.07 1519.31 L2257.07 1515.14 Q2259.73 1514.4 2262.04 1514.03 Q2264.38 1513.66 2266.44 1513.66 Q2271.77 1513.66 2274.87 1516.09 Q2277.97 1518.5 2277.97 1522.62 Q2277.97 1525.49 2276.33 1527.48 Q2274.68 1529.45 2271.65 1530.21 Z\" fill=\"#000000\" fill-rule=\"evenodd\" fill-opacity=\"1\" /><path clip-path=\"url(#clip200)\" d=\"M2287.65 1542.97 L2292.53 1542.97 L2292.53 1548.85 L2287.65 1548.85 L2287.65 1542.97 Z\" fill=\"#000000\" fill-rule=\"evenodd\" fill-opacity=\"1\" /><path clip-path=\"url(#clip200)\" d=\"M2312.71 1517.37 Q2309.1 1517.37 2307.28 1520.93 Q2305.47 1524.47 2305.47 1531.6 Q2305.47 1538.71 2307.28 1542.27 Q2309.1 1545.82 2312.71 1545.82 Q2316.35 1545.82 2318.15 1542.27 Q2319.98 1538.71 2319.98 1531.6 Q2319.98 1524.47 2318.15 1520.93 Q2316.35 1517.37 2312.71 1517.37 M2312.71 1513.66 Q2318.53 1513.66 2321.58 1518.27 Q2324.66 1522.85 2324.66 1531.6 Q2324.66 1540.33 2321.58 1544.94 Q2318.53 1549.52 2312.71 1549.52 Q2306.9 1549.52 2303.83 1544.94 Q2300.77 1540.33 2300.77 1531.6 Q2300.77 1522.85 2303.83 1518.27 Q2306.9 1513.66 2312.71 1513.66 Z\" fill=\"#000000\" fill-rule=\"evenodd\" fill-opacity=\"1\" /><polyline clip-path=\"url(#clip202)\" style=\"stroke:#000000; stroke-linecap:round; stroke-linejoin:round; stroke-width:2; stroke-opacity:0.1; fill:none\" points=\"\n",
       "  147.478,1324.93 2352.76,1324.93 \n",
       "  \"/>\n",
       "<polyline clip-path=\"url(#clip202)\" style=\"stroke:#000000; stroke-linecap:round; stroke-linejoin:round; stroke-width:2; stroke-opacity:0.1; fill:none\" points=\"\n",
       "  147.478,925.731 2352.76,925.731 \n",
       "  \"/>\n",
       "<polyline clip-path=\"url(#clip202)\" style=\"stroke:#000000; stroke-linecap:round; stroke-linejoin:round; stroke-width:2; stroke-opacity:0.1; fill:none\" points=\"\n",
       "  147.478,526.536 2352.76,526.536 \n",
       "  \"/>\n",
       "<polyline clip-path=\"url(#clip202)\" style=\"stroke:#000000; stroke-linecap:round; stroke-linejoin:round; stroke-width:2; stroke-opacity:0.1; fill:none\" points=\"\n",
       "  147.478,127.342 2352.76,127.342 \n",
       "  \"/>\n",
       "<polyline clip-path=\"url(#clip200)\" style=\"stroke:#000000; stroke-linecap:round; stroke-linejoin:round; stroke-width:4; stroke-opacity:1; fill:none\" points=\"\n",
       "  147.478,1486.45 147.478,47.2441 \n",
       "  \"/>\n",
       "<polyline clip-path=\"url(#clip200)\" style=\"stroke:#000000; stroke-linecap:round; stroke-linejoin:round; stroke-width:4; stroke-opacity:1; fill:none\" points=\"\n",
       "  147.478,1324.93 166.376,1324.93 \n",
       "  \"/>\n",
       "<polyline clip-path=\"url(#clip200)\" style=\"stroke:#000000; stroke-linecap:round; stroke-linejoin:round; stroke-width:4; stroke-opacity:1; fill:none\" points=\"\n",
       "  147.478,925.731 166.376,925.731 \n",
       "  \"/>\n",
       "<polyline clip-path=\"url(#clip200)\" style=\"stroke:#000000; stroke-linecap:round; stroke-linejoin:round; stroke-width:4; stroke-opacity:1; fill:none\" points=\"\n",
       "  147.478,526.536 166.376,526.536 \n",
       "  \"/>\n",
       "<polyline clip-path=\"url(#clip200)\" style=\"stroke:#000000; stroke-linecap:round; stroke-linejoin:round; stroke-width:4; stroke-opacity:1; fill:none\" points=\"\n",
       "  147.478,127.342 166.376,127.342 \n",
       "  \"/>\n",
       "<path clip-path=\"url(#clip200)\" d=\"M51.3625 1325.38 L81.0383 1325.38 L81.0383 1329.31 L51.3625 1329.31 L51.3625 1325.38 Z\" fill=\"#000000\" fill-rule=\"evenodd\" fill-opacity=\"1\" /><path clip-path=\"url(#clip200)\" d=\"M95.1586 1338.27 L111.478 1338.27 L111.478 1342.21 L89.5336 1342.21 L89.5336 1338.27 Q92.1956 1335.52 96.7789 1330.89 Q101.385 1326.23 102.566 1324.89 Q104.811 1322.37 105.691 1320.63 Q106.594 1318.87 106.594 1317.18 Q106.594 1314.43 104.649 1312.69 Q102.728 1310.96 99.6261 1310.96 Q97.4271 1310.96 94.9734 1311.72 Q92.5428 1312.48 89.7651 1314.03 L89.7651 1309.31 Q92.5891 1308.18 95.0428 1307.6 Q97.4965 1307.02 99.5335 1307.02 Q104.904 1307.02 108.098 1309.71 Q111.293 1312.39 111.293 1316.88 Q111.293 1319.01 110.483 1320.93 Q109.696 1322.83 107.589 1325.42 Q107.01 1326.09 103.909 1329.31 Q100.807 1332.51 95.1586 1338.27 Z\" fill=\"#000000\" fill-rule=\"evenodd\" fill-opacity=\"1\" /><path clip-path=\"url(#clip200)\" d=\"M50.9921 926.182 L80.6679 926.182 L80.6679 930.117 L50.9921 930.117 L50.9921 926.182 Z\" fill=\"#000000\" fill-rule=\"evenodd\" fill-opacity=\"1\" /><path clip-path=\"url(#clip200)\" d=\"M91.5706 939.076 L99.2095 939.076 L99.2095 912.71 L90.8993 914.377 L90.8993 910.117 L99.1632 908.451 L103.839 908.451 L103.839 939.076 L111.478 939.076 L111.478 943.011 L91.5706 943.011 L91.5706 939.076 Z\" fill=\"#000000\" fill-rule=\"evenodd\" fill-opacity=\"1\" /><path clip-path=\"url(#clip200)\" d=\"M99.5335 512.335 Q95.9224 512.335 94.0937 515.9 Q92.2882 519.441 92.2882 526.571 Q92.2882 533.677 94.0937 537.242 Q95.9224 540.784 99.5335 540.784 Q103.168 540.784 104.973 537.242 Q106.802 533.677 106.802 526.571 Q106.802 519.441 104.973 515.9 Q103.168 512.335 99.5335 512.335 M99.5335 508.631 Q105.344 508.631 108.399 513.238 Q111.478 517.821 111.478 526.571 Q111.478 535.298 108.399 539.904 Q105.344 544.488 99.5335 544.488 Q93.7234 544.488 90.6447 539.904 Q87.5892 535.298 87.5892 526.571 Q87.5892 517.821 90.6447 513.238 Q93.7234 508.631 99.5335 508.631 Z\" fill=\"#000000\" fill-rule=\"evenodd\" fill-opacity=\"1\" /><path clip-path=\"url(#clip200)\" d=\"M91.5706 140.687 L99.2095 140.687 L99.2095 114.321 L90.8993 115.988 L90.8993 111.728 L99.1632 110.062 L103.839 110.062 L103.839 140.687 L111.478 140.687 L111.478 144.622 L91.5706 144.622 L91.5706 140.687 Z\" fill=\"#000000\" fill-rule=\"evenodd\" fill-opacity=\"1\" /><polyline clip-path=\"url(#clip202)\" style=\"stroke:#009af9; stroke-linecap:round; stroke-linejoin:round; stroke-width:4; stroke-opacity:1; fill:none\" points=\"\n",
       "  209.891,1445.72 211.585,1436.4 213.278,1427.3 214.971,1418.41 216.664,1409.7 218.357,1401.19 220.05,1392.85 221.743,1384.68 223.436,1376.68 231.264,1341.62 \n",
       "  239.092,1309.4 246.919,1279.58 254.747,1251.84 262.574,1225.9 270.402,1201.55 278.23,1178.59 286.057,1156.89 293.885,1136.3 301.712,1116.72 309.54,1098.06 \n",
       "  317.368,1080.23 333.023,1046.8 348.678,1015.96 358.086,998.504 367.494,981.782 376.903,965.734 386.311,950.305 405.127,921.129 423.943,893.941 439.852,872.316 \n",
       "  455.761,851.803 471.67,832.292 487.579,813.69 522.142,776.037 556.705,741.632 588.569,712.343 620.434,685.057 654.595,657.737 688.757,632.168 728.337,604.456 \n",
       "  767.917,578.545 803.09,556.849 838.264,536.272 869.108,519.061 899.953,502.562 967.21,468.789 1034.87,437.473 1109.67,405.488 1180.84,377.265 1254.85,349.893 \n",
       "  1317.14,328.223 1393.2,303.268 1462.87,281.7 1527.22,262.766 1592.4,244.46 1665.45,224.895 1731.64,207.957 1807.43,189.409 1877.61,172.97 1946.79,157.401 \n",
       "  2013.96,142.844 2082.82,128.452 2158.27,113.258 2267.86,92.1685 2290.34,87.9763 \n",
       "  \"/>\n",
       "<circle clip-path=\"url(#clip202)\" cx=\"425.111\" cy=\"892.315\" r=\"14.4\" fill=\"#e26f46\" fill-rule=\"evenodd\" fill-opacity=\"1\" stroke=\"#000000\" stroke-opacity=\"1\" stroke-width=\"3.2\"/>\n",
       "<circle clip-path=\"url(#clip202)\" cx=\"783.809\" cy=\"568.596\" r=\"14.4\" fill=\"#e26f46\" fill-rule=\"evenodd\" fill-opacity=\"1\" stroke=\"#000000\" stroke-opacity=\"1\" stroke-width=\"3.2\"/>\n",
       "<circle clip-path=\"url(#clip202)\" cx=\"1142.51\" cy=\"392.218\" r=\"14.4\" fill=\"#e26f46\" fill-rule=\"evenodd\" fill-opacity=\"1\" stroke=\"#000000\" stroke-opacity=\"1\" stroke-width=\"3.2\"/>\n",
       "<circle clip-path=\"url(#clip202)\" cx=\"1501.21\" cy=\"270.312\" r=\"14.4\" fill=\"#e26f46\" fill-rule=\"evenodd\" fill-opacity=\"1\" stroke=\"#000000\" stroke-opacity=\"1\" stroke-width=\"3.2\"/>\n",
       "<circle clip-path=\"url(#clip202)\" cx=\"1859.9\" cy=\"177.054\" r=\"14.4\" fill=\"#e26f46\" fill-rule=\"evenodd\" fill-opacity=\"1\" stroke=\"#000000\" stroke-opacity=\"1\" stroke-width=\"3.2\"/>\n",
       "<circle clip-path=\"url(#clip202)\" cx=\"2218.6\" cy=\"101.51\" r=\"14.4\" fill=\"#e26f46\" fill-rule=\"evenodd\" fill-opacity=\"1\" stroke=\"#000000\" stroke-opacity=\"1\" stroke-width=\"3.2\"/>\n",
       "<polyline clip-path=\"url(#clip202)\" style=\"stroke:#3da44d; stroke-linecap:round; stroke-linejoin:round; stroke-width:4; stroke-opacity:1; fill:none\" points=\"\n",
       "  425.111,892.315 783.809,568.596 1142.51,392.218 1501.21,270.312 1859.9,177.054 2218.6,101.51 \n",
       "  \"/>\n",
       "<path clip-path=\"url(#clip200)\" d=\"\n",
       "M220.987 302.578 L720.402 302.578 L720.402 95.2176 L220.987 95.2176  Z\n",
       "  \" fill=\"#ffffff\" fill-rule=\"evenodd\" fill-opacity=\"1\"/>\n",
       "<polyline clip-path=\"url(#clip200)\" style=\"stroke:#000000; stroke-linecap:round; stroke-linejoin:round; stroke-width:4; stroke-opacity:1; fill:none\" points=\"\n",
       "  220.987,302.578 720.402,302.578 720.402,95.2176 220.987,95.2176 220.987,302.578 \n",
       "  \"/>\n",
       "<polyline clip-path=\"url(#clip200)\" style=\"stroke:#009af9; stroke-linecap:round; stroke-linejoin:round; stroke-width:4; stroke-opacity:1; fill:none\" points=\"\n",
       "  245.49,147.058 392.509,147.058 \n",
       "  \"/>\n",
       "<path clip-path=\"url(#clip200)\" d=\"M417.012 128.319 L421.271 128.319 L421.271 164.338 L417.012 164.338 L417.012 128.319 Z\" fill=\"#000000\" fill-rule=\"evenodd\" fill-opacity=\"1\" /><path clip-path=\"url(#clip200)\" d=\"M440.229 141.398 Q436.803 141.398 434.813 144.083 Q432.822 146.745 432.822 151.398 Q432.822 156.051 434.79 158.736 Q436.78 161.398 440.229 161.398 Q443.632 161.398 445.623 158.713 Q447.614 156.027 447.614 151.398 Q447.614 146.791 445.623 144.106 Q443.632 141.398 440.229 141.398 M440.229 137.787 Q445.785 137.787 448.956 141.398 Q452.127 145.009 452.127 151.398 Q452.127 157.764 448.956 161.398 Q445.785 165.009 440.229 165.009 Q434.651 165.009 431.479 161.398 Q428.331 157.764 428.331 151.398 Q428.331 145.009 431.479 141.398 Q434.651 137.787 440.229 137.787 Z\" fill=\"#000000\" fill-rule=\"evenodd\" fill-opacity=\"1\" /><path clip-path=\"url(#clip200)\" d=\"M476.248 151.074 Q476.248 146.444 474.326 143.898 Q472.428 141.352 468.979 141.352 Q465.553 141.352 463.632 143.898 Q461.734 146.444 461.734 151.074 Q461.734 155.68 463.632 158.226 Q465.553 160.773 468.979 160.773 Q472.428 160.773 474.326 158.226 Q476.248 155.68 476.248 151.074 M480.507 161.12 Q480.507 167.74 477.567 170.958 Q474.627 174.199 468.563 174.199 Q466.317 174.199 464.326 173.851 Q462.336 173.527 460.461 172.833 L460.461 168.689 Q462.336 169.708 464.164 170.194 Q465.993 170.68 467.891 170.68 Q472.081 170.68 474.164 168.481 Q476.248 166.305 476.248 161.884 L476.248 159.777 Q474.928 162.069 472.868 163.203 Q470.808 164.338 467.938 164.338 Q463.169 164.338 460.252 160.703 Q457.336 157.069 457.336 151.074 Q457.336 145.055 460.252 141.421 Q463.169 137.787 467.938 137.787 Q470.808 137.787 472.868 138.921 Q474.928 140.055 476.248 142.347 L476.248 138.412 L480.507 138.412 L480.507 161.12 Z\" fill=\"#000000\" fill-rule=\"evenodd\" fill-opacity=\"1\" /><path clip-path=\"url(#clip200)\" d=\"M525.9 138.412 L516.525 151.027 L526.386 164.338 L521.363 164.338 L513.817 154.152 L506.271 164.338 L501.248 164.338 L511.317 150.773 L502.104 138.412 L507.127 138.412 L514.002 147.648 L520.877 138.412 L525.9 138.412 Z\" fill=\"#000000\" fill-rule=\"evenodd\" fill-opacity=\"1\" /><circle clip-path=\"url(#clip200)\" cx=\"319\" cy=\"198.898\" r=\"23.04\" fill=\"#e26f46\" fill-rule=\"evenodd\" fill-opacity=\"1\" stroke=\"#000000\" stroke-opacity=\"1\" stroke-width=\"5.12\"/>\n",
       "<path clip-path=\"url(#clip200)\" d=\"M435.924 194.187 L435.924 180.159 L440.183 180.159 L440.183 216.178 L435.924 216.178 L435.924 212.289 Q434.581 214.603 432.521 215.738 Q430.484 216.849 427.614 216.849 Q422.915 216.849 419.952 213.099 Q417.012 209.349 417.012 203.238 Q417.012 197.127 419.952 193.377 Q422.915 189.627 427.614 189.627 Q430.484 189.627 432.521 190.761 Q434.581 191.872 435.924 194.187 M421.41 203.238 Q421.41 207.937 423.331 210.622 Q425.276 213.284 428.655 213.284 Q432.035 213.284 433.979 210.622 Q435.924 207.937 435.924 203.238 Q435.924 198.539 433.979 195.877 Q432.035 193.192 428.655 193.192 Q425.276 193.192 423.331 195.877 Q421.41 198.539 421.41 203.238 Z\" fill=\"#000000\" fill-rule=\"evenodd\" fill-opacity=\"1\" /><path clip-path=\"url(#clip200)\" d=\"M460.739 203.145 Q455.576 203.145 453.586 204.326 Q451.595 205.506 451.595 208.354 Q451.595 210.622 453.077 211.965 Q454.581 213.284 457.151 213.284 Q460.692 213.284 462.822 210.784 Q464.975 208.261 464.975 204.094 L464.975 203.145 L460.739 203.145 M469.234 201.386 L469.234 216.178 L464.975 216.178 L464.975 212.242 Q463.516 214.603 461.34 215.738 Q459.164 216.849 456.016 216.849 Q452.035 216.849 449.674 214.627 Q447.336 212.381 447.336 208.631 Q447.336 204.256 450.252 202.034 Q453.192 199.812 459.002 199.812 L464.975 199.812 L464.975 199.395 Q464.975 196.455 463.03 194.858 Q461.109 193.238 457.614 193.238 Q455.391 193.238 453.285 193.77 Q451.178 194.303 449.234 195.367 L449.234 191.432 Q451.572 190.53 453.771 190.09 Q455.97 189.627 458.053 189.627 Q463.678 189.627 466.456 192.543 Q469.234 195.46 469.234 201.386 Z\" fill=\"#000000\" fill-rule=\"evenodd\" fill-opacity=\"1\" /><path clip-path=\"url(#clip200)\" d=\"M482.22 182.891 L482.22 190.252 L490.993 190.252 L490.993 193.562 L482.22 193.562 L482.22 207.636 Q482.22 210.807 483.076 211.71 Q483.956 212.613 486.618 212.613 L490.993 212.613 L490.993 216.178 L486.618 216.178 Q481.687 216.178 479.812 214.349 Q477.937 212.497 477.937 207.636 L477.937 193.562 L474.813 193.562 L474.813 190.252 L477.937 190.252 L477.937 182.891 L482.22 182.891 Z\" fill=\"#000000\" fill-rule=\"evenodd\" fill-opacity=\"1\" /><path clip-path=\"url(#clip200)\" d=\"M508.377 203.145 Q503.215 203.145 501.224 204.326 Q499.234 205.506 499.234 208.354 Q499.234 210.622 500.715 211.965 Q502.22 213.284 504.789 213.284 Q508.331 213.284 510.46 210.784 Q512.613 208.261 512.613 204.094 L512.613 203.145 L508.377 203.145 M516.872 201.386 L516.872 216.178 L512.613 216.178 L512.613 212.242 Q511.155 214.603 508.979 215.738 Q506.803 216.849 503.655 216.849 Q499.673 216.849 497.312 214.627 Q494.974 212.381 494.974 208.631 Q494.974 204.256 497.891 202.034 Q500.831 199.812 506.641 199.812 L512.613 199.812 L512.613 199.395 Q512.613 196.455 510.669 194.858 Q508.748 193.238 505.252 193.238 Q503.03 193.238 500.923 193.77 Q498.817 194.303 496.873 195.367 L496.873 191.432 Q499.211 190.53 501.41 190.09 Q503.609 189.627 505.692 189.627 Q511.317 189.627 514.095 192.543 Q516.872 195.46 516.872 201.386 Z\" fill=\"#000000\" fill-rule=\"evenodd\" fill-opacity=\"1\" /><polyline clip-path=\"url(#clip200)\" style=\"stroke:#3da44d; stroke-linecap:round; stroke-linejoin:round; stroke-width:4; stroke-opacity:1; fill:none\" points=\"\n",
       "  245.49,250.738 392.509,250.738 \n",
       "  \"/>\n",
       "<path clip-path=\"url(#clip200)\" d=\"M417.012 231.999 L421.271 231.999 L421.271 268.018 L417.012 268.018 L417.012 231.999 Z\" fill=\"#000000\" fill-rule=\"evenodd\" fill-opacity=\"1\" /><path clip-path=\"url(#clip200)\" d=\"M430.183 242.092 L434.442 242.092 L434.442 268.018 L430.183 268.018 L430.183 242.092 M430.183 231.999 L434.442 231.999 L434.442 237.393 L430.183 237.393 L430.183 231.999 Z\" fill=\"#000000\" fill-rule=\"evenodd\" fill-opacity=\"1\" /><path clip-path=\"url(#clip200)\" d=\"M464.905 252.369 L464.905 268.018 L460.646 268.018 L460.646 252.508 Q460.646 248.828 459.211 246.999 Q457.776 245.17 454.905 245.17 Q451.456 245.17 449.465 247.37 Q447.475 249.569 447.475 253.365 L447.475 268.018 L443.192 268.018 L443.192 242.092 L447.475 242.092 L447.475 246.12 Q449.002 243.782 451.063 242.624 Q453.146 241.467 455.854 241.467 Q460.322 241.467 462.613 244.245 Q464.905 246.999 464.905 252.369 Z\" fill=\"#000000\" fill-rule=\"evenodd\" fill-opacity=\"1\" /><path clip-path=\"url(#clip200)\" d=\"M495.576 253.99 L495.576 256.073 L475.993 256.073 Q476.271 260.471 478.632 262.786 Q481.016 265.078 485.252 265.078 Q487.706 265.078 489.998 264.476 Q492.312 263.874 494.581 262.67 L494.581 266.698 Q492.289 267.67 489.882 268.18 Q487.474 268.689 484.998 268.689 Q478.794 268.689 475.16 265.078 Q471.549 261.467 471.549 255.309 Q471.549 248.944 474.975 245.217 Q478.424 241.467 484.257 241.467 Q489.488 241.467 492.521 244.846 Q495.576 248.203 495.576 253.99 M491.317 252.74 Q491.271 249.245 489.349 247.161 Q487.451 245.078 484.303 245.078 Q480.738 245.078 478.586 247.092 Q476.456 249.106 476.132 252.763 L491.317 252.74 Z\" fill=\"#000000\" fill-rule=\"evenodd\" fill-opacity=\"1\" /><path clip-path=\"url(#clip200)\" d=\"M530.761 231.999 L530.761 235.541 L526.687 235.541 Q524.396 235.541 523.493 236.467 Q522.613 237.393 522.613 239.8 L522.613 242.092 L529.627 242.092 L529.627 245.402 L522.613 245.402 L522.613 268.018 L518.331 268.018 L518.331 245.402 L514.257 245.402 L514.257 242.092 L518.331 242.092 L518.331 240.286 Q518.331 235.958 520.345 233.99 Q522.359 231.999 526.734 231.999 L530.761 231.999 Z\" fill=\"#000000\" fill-rule=\"evenodd\" fill-opacity=\"1\" /><path clip-path=\"url(#clip200)\" d=\"M544.372 245.078 Q540.946 245.078 538.956 247.763 Q536.965 250.425 536.965 255.078 Q536.965 259.731 538.933 262.416 Q540.923 265.078 544.372 265.078 Q547.775 265.078 549.766 262.393 Q551.757 259.707 551.757 255.078 Q551.757 250.471 549.766 247.786 Q547.775 245.078 544.372 245.078 M544.372 241.467 Q549.928 241.467 553.099 245.078 Q556.27 248.689 556.27 255.078 Q556.27 261.444 553.099 265.078 Q549.928 268.689 544.372 268.689 Q538.794 268.689 535.622 265.078 Q532.474 261.444 532.474 255.078 Q532.474 248.689 535.622 245.078 Q538.794 241.467 544.372 241.467 Z\" fill=\"#000000\" fill-rule=\"evenodd\" fill-opacity=\"1\" /><path clip-path=\"url(#clip200)\" d=\"M578.354 246.073 Q577.636 245.657 576.78 245.471 Q575.946 245.263 574.928 245.263 Q571.317 245.263 569.372 247.624 Q567.451 249.962 567.451 254.36 L567.451 268.018 L563.169 268.018 L563.169 242.092 L567.451 242.092 L567.451 246.12 Q568.793 243.758 570.946 242.624 Q573.099 241.467 576.178 241.467 Q576.618 241.467 577.15 241.536 Q577.682 241.583 578.33 241.698 L578.354 246.073 Z\" fill=\"#000000\" fill-rule=\"evenodd\" fill-opacity=\"1\" /><path clip-path=\"url(#clip200)\" d=\"M614.951 246.027 L614.951 231.999 L619.21 231.999 L619.21 268.018 L614.951 268.018 L614.951 264.129 Q613.608 266.443 611.548 267.578 Q609.511 268.689 606.641 268.689 Q601.941 268.689 598.979 264.939 Q596.039 261.189 596.039 255.078 Q596.039 248.967 598.979 245.217 Q601.941 241.467 606.641 241.467 Q609.511 241.467 611.548 242.601 Q613.608 243.712 614.951 246.027 M600.437 255.078 Q600.437 259.777 602.358 262.462 Q604.303 265.124 607.682 265.124 Q611.062 265.124 613.006 262.462 Q614.951 259.777 614.951 255.078 Q614.951 250.379 613.006 247.717 Q611.062 245.032 607.682 245.032 Q604.303 245.032 602.358 247.717 Q600.437 250.379 600.437 255.078 Z\" fill=\"#000000\" fill-rule=\"evenodd\" fill-opacity=\"1\" /><path clip-path=\"url(#clip200)\" d=\"M639.765 254.985 Q634.603 254.985 632.613 256.166 Q630.622 257.346 630.622 260.194 Q630.622 262.462 632.103 263.805 Q633.608 265.124 636.177 265.124 Q639.719 265.124 641.849 262.624 Q644.001 260.101 644.001 255.934 L644.001 254.985 L639.765 254.985 M648.261 253.226 L648.261 268.018 L644.001 268.018 L644.001 264.082 Q642.543 266.443 640.367 267.578 Q638.191 268.689 635.043 268.689 Q631.062 268.689 628.701 266.467 Q626.363 264.221 626.363 260.471 Q626.363 256.096 629.279 253.874 Q632.219 251.652 638.029 251.652 L644.001 251.652 L644.001 251.235 Q644.001 248.295 642.057 246.698 Q640.136 245.078 636.64 245.078 Q634.418 245.078 632.312 245.61 Q630.205 246.143 628.261 247.207 L628.261 243.272 Q630.599 242.37 632.798 241.93 Q634.997 241.467 637.08 241.467 Q642.705 241.467 645.483 244.383 Q648.261 247.3 648.261 253.226 Z\" fill=\"#000000\" fill-rule=\"evenodd\" fill-opacity=\"1\" /><path clip-path=\"url(#clip200)\" d=\"M661.247 234.731 L661.247 242.092 L670.02 242.092 L670.02 245.402 L661.247 245.402 L661.247 259.476 Q661.247 262.647 662.103 263.55 Q662.983 264.453 665.645 264.453 L670.02 264.453 L670.02 268.018 L665.645 268.018 Q660.714 268.018 658.839 266.189 Q656.964 264.337 656.964 259.476 L656.964 245.402 L653.839 245.402 L653.839 242.092 L656.964 242.092 L656.964 234.731 L661.247 234.731 Z\" fill=\"#000000\" fill-rule=\"evenodd\" fill-opacity=\"1\" /><path clip-path=\"url(#clip200)\" d=\"M687.404 254.985 Q682.242 254.985 680.251 256.166 Q678.26 257.346 678.26 260.194 Q678.26 262.462 679.742 263.805 Q681.247 265.124 683.816 265.124 Q687.358 265.124 689.487 262.624 Q691.64 260.101 691.64 255.934 L691.64 254.985 L687.404 254.985 M695.899 253.226 L695.899 268.018 L691.64 268.018 L691.64 264.082 Q690.182 266.443 688.006 267.578 Q685.83 268.689 682.682 268.689 Q678.7 268.689 676.339 266.467 Q674.001 264.221 674.001 260.471 Q674.001 256.096 676.918 253.874 Q679.858 251.652 685.668 251.652 L691.64 251.652 L691.64 251.235 Q691.64 248.295 689.696 246.698 Q687.774 245.078 684.279 245.078 Q682.057 245.078 679.95 245.61 Q677.844 246.143 675.899 247.207 L675.899 243.272 Q678.237 242.37 680.436 241.93 Q682.635 241.467 684.719 241.467 Q690.344 241.467 693.122 244.383 Q695.899 247.3 695.899 253.226 Z\" fill=\"#000000\" fill-rule=\"evenodd\" fill-opacity=\"1\" /></svg>\n"
      ]
     },
     "execution_count": 35,
     "metadata": {},
     "output_type": "execute_result"
    }
   ],
   "source": [
    "plot!(xx, yy, label = \"line for data\")"
   ]
  },
  {
   "cell_type": "code",
   "execution_count": null,
   "id": "6ed05c29-f926-4b79-90c3-677a48392434",
   "metadata": {},
   "outputs": [],
   "source": []
  }
 ],
 "metadata": {
  "kernelspec": {
   "display_name": "Julia 1.8.4",
   "language": "julia",
   "name": "julia-1.8"
  },
  "language_info": {
   "file_extension": ".jl",
   "mimetype": "application/julia",
   "name": "julia",
   "version": "1.8.5"
  }
 },
 "nbformat": 4,
 "nbformat_minor": 5
}
