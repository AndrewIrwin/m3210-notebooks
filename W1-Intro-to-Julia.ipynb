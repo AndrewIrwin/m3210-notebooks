{
 "cells": [
  {
   "cell_type": "markdown",
   "id": "5d598b87-1ba8-463f-bdb8-31b7de3ee2b7",
   "metadata": {},
   "source": [
    "# Week 1\n",
    "\n",
    "Introduction to Julia for week 1 of Numerical Analysis (M321), Winter 2023."
   ]
  },
  {
   "cell_type": "markdown",
   "id": "8ad31ea1-da52-4ed0-b910-4212c9376133",
   "metadata": {},
   "source": [
    "## Integers\n",
    "\n",
    "See the Julia documentation on [Integers](https://docs.julialang.org/en/v1/manual/integers-and-floating-point-numbers/) for much more information."
   ]
  },
  {
   "cell_type": "code",
   "execution_count": 1,
   "id": "0fad82b9-f713-40d2-a0c5-7c3c88a3a5b5",
   "metadata": {},
   "outputs": [
    {
     "data": {
      "text/plain": [
       "2"
      ]
     },
     "execution_count": 1,
     "metadata": {},
     "output_type": "execute_result"
    }
   ],
   "source": [
    "1+1"
   ]
  },
  {
   "cell_type": "code",
   "execution_count": 2,
   "id": "3df2ba9d-ca61-4d87-b57b-088d87521a00",
   "metadata": {},
   "outputs": [
    {
     "data": {
      "text/plain": [
       "Int64"
      ]
     },
     "execution_count": 2,
     "metadata": {},
     "output_type": "execute_result"
    }
   ],
   "source": [
    "typeof(1)"
   ]
  },
  {
   "cell_type": "code",
   "execution_count": 3,
   "id": "fc2ef26e-c469-4cde-ad84-60ea97b0b0b6",
   "metadata": {},
   "outputs": [
    {
     "data": {
      "text/plain": [
       "9223372036854775807"
      ]
     },
     "execution_count": 3,
     "metadata": {},
     "output_type": "execute_result"
    }
   ],
   "source": [
    "2^63-1"
   ]
  },
  {
   "cell_type": "code",
   "execution_count": 4,
   "id": "4a6536c1-9645-4347-bb7b-10293d2f0e38",
   "metadata": {},
   "outputs": [
    {
     "data": {
      "text/plain": [
       "-9223372036854775808"
      ]
     },
     "execution_count": 4,
     "metadata": {},
     "output_type": "execute_result"
    }
   ],
   "source": [
    "9223372036854775807 + 1"
   ]
  },
  {
   "cell_type": "code",
   "execution_count": 5,
   "id": "a7f620e6-a6ae-43d5-98e5-7a93bdd1b79c",
   "metadata": {},
   "outputs": [
    {
     "data": {
      "text/plain": [
       "(4611686018427387904, -9223372036854775808, 0)"
      ]
     },
     "execution_count": 5,
     "metadata": {},
     "output_type": "execute_result"
    }
   ],
   "source": [
    "2^62, 2^63, 2^64"
   ]
  },
  {
   "cell_type": "code",
   "execution_count": 7,
   "id": "6dec4dac-38b4-4760-81f1-1f9207c96761",
   "metadata": {},
   "outputs": [
    {
     "data": {
      "text/plain": [
       "\"0100000000000000000000000000000000000000000000000000000000000000\""
      ]
     },
     "execution_count": 7,
     "metadata": {},
     "output_type": "execute_result"
    }
   ],
   "source": [
    "bitstring(2^62)"
   ]
  },
  {
   "cell_type": "code",
   "execution_count": 8,
   "id": "9c25e1f5",
   "metadata": {},
   "outputs": [
    {
     "data": {
      "text/plain": [
       "\"0000000000000000000000000000000000000000000000000000000000000111\""
      ]
     },
     "execution_count": 8,
     "metadata": {},
     "output_type": "execute_result"
    }
   ],
   "source": [
    "bitstring(7)"
   ]
  },
  {
   "cell_type": "code",
   "execution_count": null,
   "id": "d23ab9db",
   "metadata": {},
   "outputs": [],
   "source": []
  },
  {
   "cell_type": "code",
   "execution_count": 9,
   "id": "86056ce4-84a1-4d10-a81e-2e2897be4726",
   "metadata": {},
   "outputs": [
    {
     "data": {
      "text/plain": [
       "0.5"
      ]
     },
     "execution_count": 9,
     "metadata": {},
     "output_type": "execute_result"
    }
   ],
   "source": [
    "1 / 2 # Division with / yields a Float"
   ]
  },
  {
   "cell_type": "code",
   "execution_count": 10,
   "id": "c630b44d-62a5-4b4a-900e-8f7050f99500",
   "metadata": {},
   "outputs": [
    {
     "data": {
      "text/plain": [
       "Float64"
      ]
     },
     "execution_count": 10,
     "metadata": {},
     "output_type": "execute_result"
    }
   ],
   "source": [
    "typeof(1/2)"
   ]
  },
  {
   "cell_type": "code",
   "execution_count": 11,
   "id": "492eb86b-7e0d-4256-b6e0-16cef24ca83c",
   "metadata": {},
   "outputs": [
    {
     "data": {
      "text/plain": [
       "Float64"
      ]
     },
     "execution_count": 11,
     "metadata": {},
     "output_type": "execute_result"
    }
   ],
   "source": [
    "typeof(10/5) # even if the result in math class would be integer"
   ]
  },
  {
   "cell_type": "code",
   "execution_count": 12,
   "id": "d34f999c-4ef2-42a1-b3ae-290e86095bdb",
   "metadata": {},
   "outputs": [
    {
     "data": {
      "text/plain": [
       "(5, Int64)"
      ]
     },
     "execution_count": 12,
     "metadata": {},
     "output_type": "execute_result"
    }
   ],
   "source": [
    "10 ÷ 2, typeof( 10 ÷ 2) # if you really want an integer; type \\div<TAB>"
   ]
  },
  {
   "cell_type": "code",
   "execution_count": 13,
   "id": "7df8e023-76c4-4df5-ac40-6a618def85dd",
   "metadata": {},
   "outputs": [
    {
     "data": {
      "text/plain": [
       "3"
      ]
     },
     "execution_count": 13,
     "metadata": {},
     "output_type": "execute_result"
    }
   ],
   "source": [
    "10 ÷ 3 # Rounding"
   ]
  },
  {
   "cell_type": "markdown",
   "id": "92095373-f13a-4f49-bc66-221a1c11a943",
   "metadata": {},
   "source": [
    "## Floating Point numbers\n",
    "\n",
    "See the Julia documentation on [Floating point numbers](https://docs.julialang.org/en/v1/manual/integers-and-floating-point-numbers/) for much more information."
   ]
  },
  {
   "cell_type": "code",
   "execution_count": 14,
   "id": "85cc90d4-194f-432f-a864-78d2d2392051",
   "metadata": {},
   "outputs": [
    {
     "data": {
      "text/plain": [
       "413.87592168692623"
      ]
     },
     "execution_count": 14,
     "metadata": {},
     "output_type": "execute_result"
    }
   ],
   "source": [
    "sqrt(54524.344 * pi)"
   ]
  },
  {
   "cell_type": "code",
   "execution_count": 15,
   "id": "067a11fc-b3a6-4f44-8cf2-5f85a686541b",
   "metadata": {},
   "outputs": [
    {
     "data": {
      "text/plain": [
       "16.0"
      ]
     },
     "execution_count": 15,
     "metadata": {},
     "output_type": "execute_result"
    }
   ],
   "source": [
    "sqrt(256)  # Type stability; generally a squareroot is a floating point value, so they all are, even when the result is an integer"
   ]
  },
  {
   "cell_type": "code",
   "execution_count": 16,
   "id": "8c489fa1-d19d-4886-97de-c686119b23f2",
   "metadata": {},
   "outputs": [
    {
     "data": {
      "text/plain": [
       "0.5118203032825503"
      ]
     },
     "execution_count": 16,
     "metadata": {},
     "output_type": "execute_result"
    }
   ],
   "source": [
    "1 + exp(-pi) + log(sin(pi/5))"
   ]
  },
  {
   "cell_type": "code",
   "execution_count": 17,
   "id": "1165c182-29e0-47a2-a947-6410600ff6be",
   "metadata": {},
   "outputs": [
    {
     "data": {
      "text/plain": [
       "0.10000000000000003"
      ]
     },
     "execution_count": 17,
     "metadata": {},
     "output_type": "execute_result"
    }
   ],
   "source": [
    "(0.2 + 0.1) - 0.2"
   ]
  },
  {
   "cell_type": "code",
   "execution_count": 18,
   "id": "94cee811-dc2d-4f3a-b04e-0b8052959f81",
   "metadata": {},
   "outputs": [
    {
     "data": {
      "text/plain": [
       "0.1"
      ]
     },
     "execution_count": 18,
     "metadata": {},
     "output_type": "execute_result"
    }
   ],
   "source": [
    "0.2 + (0.1 - 0.2)"
   ]
  },
  {
   "cell_type": "code",
   "execution_count": 19,
   "id": "00a5b06f-357a-42db-b4b8-13fff6e491f2",
   "metadata": {},
   "outputs": [
    {
     "data": {
      "text/plain": [
       "2.220446049250313e-16"
      ]
     },
     "execution_count": 19,
     "metadata": {},
     "output_type": "execute_result"
    }
   ],
   "source": [
    "e = eps(1.0)"
   ]
  },
  {
   "cell_type": "code",
   "execution_count": 23,
   "id": "cb7d8d8b-5cdc-4967-aacc-b84c2a05d586",
   "metadata": {},
   "outputs": [
    {
     "data": {
      "text/plain": [
       "1.0000000000000004"
      ]
     },
     "execution_count": 23,
     "metadata": {},
     "output_type": "execute_result"
    }
   ],
   "source": [
    "1 + e/ 2+ e/2 + e/2"
   ]
  },
  {
   "cell_type": "code",
   "execution_count": null,
   "id": "5ea8fdda-5355-4b0d-b1d8-81851a40b03c",
   "metadata": {},
   "outputs": [],
   "source": [
    "0.1 + e/2"
   ]
  },
  {
   "cell_type": "code",
   "execution_count": 24,
   "id": "50233cc8-f0f7-44af-8055-4c04b9d5358b",
   "metadata": {},
   "outputs": [
    {
     "data": {
      "text/plain": [
       "(0.0, 1.1102230246251565e-16)"
      ]
     },
     "execution_count": 24,
     "metadata": {},
     "output_type": "execute_result"
    }
   ],
   "source": [
    "(1+e/2) - 1 , 1 + (e/2-1)"
   ]
  },
  {
   "cell_type": "code",
   "execution_count": null,
   "id": "2fc16f5a-052e-44a1-a095-e5f8ae3f98c9",
   "metadata": {},
   "outputs": [],
   "source": [
    "bitstring(255)"
   ]
  },
  {
   "cell_type": "code",
   "execution_count": null,
   "id": "0a31046e-62b8-478c-ab24-1765143bbee0",
   "metadata": {},
   "outputs": [],
   "source": [
    "bitstring(255.0)"
   ]
  },
  {
   "cell_type": "code",
   "execution_count": 25,
   "id": "de2ee8f8-4263-451c-b03c-ec9f2dd766b5",
   "metadata": {},
   "outputs": [
    {
     "data": {
      "text/plain": [
       "(1.0, 7, 1.9921875)"
      ]
     },
     "execution_count": 25,
     "metadata": {},
     "output_type": "execute_result"
    }
   ],
   "source": [
    "sign(255.0), exponent(255.0), significand(255.0)"
   ]
  },
  {
   "cell_type": "code",
   "execution_count": 26,
   "id": "549a869b-4730-4fe8-93c5-e590d410038f",
   "metadata": {},
   "outputs": [
    {
     "data": {
      "text/plain": [
       "255.0"
      ]
     },
     "execution_count": 26,
     "metadata": {},
     "output_type": "execute_result"
    }
   ],
   "source": [
    "2^7 * 1.9921875"
   ]
  },
  {
   "cell_type": "code",
   "execution_count": 27,
   "id": "706bb45d-dee2-4d9b-b104-071e96d77527",
   "metadata": {},
   "outputs": [
    {
     "data": {
      "text/plain": [
       "\"0011111111001001100110011001100110011001100110011001100110011010\""
      ]
     },
     "execution_count": 27,
     "metadata": {},
     "output_type": "execute_result"
    }
   ],
   "source": [
    "bitstring(0.2)"
   ]
  },
  {
   "cell_type": "code",
   "execution_count": 28,
   "id": "848e36fa-2c5c-4f37-8978-6aac6a3742b0",
   "metadata": {},
   "outputs": [
    {
     "data": {
      "text/plain": [
       "(-3, 1.6)"
      ]
     },
     "execution_count": 28,
     "metadata": {},
     "output_type": "execute_result"
    }
   ],
   "source": [
    "exponent(0.2), significand(0.2)"
   ]
  },
  {
   "cell_type": "code",
   "execution_count": 29,
   "id": "3e556b20",
   "metadata": {},
   "outputs": [
    {
     "data": {
      "text/plain": [
       "1.0000000000000002"
      ]
     },
     "execution_count": 29,
     "metadata": {},
     "output_type": "execute_result"
    }
   ],
   "source": [
    "nextfloat(1.0)"
   ]
  },
  {
   "cell_type": "code",
   "execution_count": 30,
   "id": "666acc14",
   "metadata": {},
   "outputs": [
    {
     "data": {
      "text/plain": [
       "2.220446049250313e-16"
      ]
     },
     "execution_count": 30,
     "metadata": {},
     "output_type": "execute_result"
    }
   ],
   "source": [
    "nextfloat(1.0) - 1.0"
   ]
  },
  {
   "cell_type": "code",
   "execution_count": 31,
   "id": "98af84da",
   "metadata": {},
   "outputs": [
    {
     "data": {
      "text/plain": [
       "2.220446049250313e-16"
      ]
     },
     "execution_count": 31,
     "metadata": {},
     "output_type": "execute_result"
    }
   ],
   "source": [
    "2^(-52)"
   ]
  },
  {
   "cell_type": "code",
   "execution_count": 32,
   "id": "54bcacb5-6050-4770-9a35-b093d9e149b4",
   "metadata": {},
   "outputs": [
    {
     "data": {
      "text/plain": [
       "1.7976931348623157e308"
      ]
     },
     "execution_count": 32,
     "metadata": {},
     "output_type": "execute_result"
    }
   ],
   "source": [
    "floatmax(Float64)"
   ]
  },
  {
   "cell_type": "code",
   "execution_count": 33,
   "id": "0ad06fa1-5bd7-4403-885b-873e9a0bd3e3",
   "metadata": {},
   "outputs": [
    {
     "data": {
      "text/plain": [
       "Inf"
      ]
     },
     "execution_count": 33,
     "metadata": {},
     "output_type": "execute_result"
    }
   ],
   "source": [
    "nextfloat(floatmax(Float64))"
   ]
  },
  {
   "cell_type": "code",
   "execution_count": 34,
   "id": "523e4640",
   "metadata": {},
   "outputs": [
    {
     "data": {
      "text/plain": [
       "Inf"
      ]
     },
     "execution_count": 34,
     "metadata": {},
     "output_type": "execute_result"
    }
   ],
   "source": [
    "nextfloat(Inf)"
   ]
  },
  {
   "cell_type": "code",
   "execution_count": 35,
   "id": "878aef31-14fb-4dec-89ee-bf15ab6ae725",
   "metadata": {},
   "outputs": [
    {
     "data": {
      "text/plain": [
       "NaN"
      ]
     },
     "execution_count": 35,
     "metadata": {},
     "output_type": "execute_result"
    }
   ],
   "source": [
    "0/0"
   ]
  },
  {
   "cell_type": "markdown",
   "id": "e86aeb47-7dd7-44cd-bbd6-4e9251ce4760",
   "metadata": {},
   "source": [
    "## Other numbers\n",
    "\n",
    "See Julia documentation on [rationals and complex numbers](https://docs.julialang.org/en/v1/manual/complex-and-rational-numbers/)."
   ]
  },
  {
   "cell_type": "code",
   "execution_count": 36,
   "id": "1d092639-49e1-4a38-b14e-da21bab7d561",
   "metadata": {},
   "outputs": [
    {
     "data": {
      "text/plain": [
       "5//6"
      ]
     },
     "execution_count": 36,
     "metadata": {},
     "output_type": "execute_result"
    }
   ],
   "source": [
    "1//6 + 2//3"
   ]
  },
  {
   "cell_type": "code",
   "execution_count": 37,
   "id": "dc9d1c08-ef89-4eb6-a46e-c448be7ba045",
   "metadata": {},
   "outputs": [
    {
     "data": {
      "text/plain": [
       "π = 3.1415926535897..."
      ]
     },
     "execution_count": 37,
     "metadata": {},
     "output_type": "execute_result"
    }
   ],
   "source": [
    "pi"
   ]
  },
  {
   "cell_type": "code",
   "execution_count": 38,
   "id": "0c9edb10-3393-41bb-8070-e0c0b61d7976",
   "metadata": {},
   "outputs": [
    {
     "data": {
      "text/plain": [
       "0.0 + 1.7320508075688772im"
      ]
     },
     "execution_count": 38,
     "metadata": {},
     "output_type": "execute_result"
    }
   ],
   "source": [
    "sqrt(Complex(-3.0))"
   ]
  },
  {
   "cell_type": "code",
   "execution_count": 39,
   "id": "1b6734ed-1f0b-4915-bec8-65277a1240ab",
   "metadata": {},
   "outputs": [
    {
     "data": {
      "text/plain": [
       "-1 + 0im"
      ]
     },
     "execution_count": 39,
     "metadata": {},
     "output_type": "execute_result"
    }
   ],
   "source": [
    "(1im)^2"
   ]
  },
  {
   "cell_type": "code",
   "execution_count": 40,
   "id": "60d3384f-2fcf-424b-90ed-f4aa6bfe93e7",
   "metadata": {},
   "outputs": [
    {
     "data": {
      "text/plain": [
       "93326215443944152681699238856266700490715968264381621468592963895217599993229915608941463976156518286253697920827223758251185210916864000000000000000000000000"
      ]
     },
     "execution_count": 40,
     "metadata": {},
     "output_type": "execute_result"
    }
   ],
   "source": [
    "factorial(BigInt(100))"
   ]
  },
  {
   "cell_type": "code",
   "execution_count": 41,
   "id": "66fbf744-dd58-4641-8730-a5c392e74ad0",
   "metadata": {},
   "outputs": [
    {
     "data": {
      "text/plain": [
       "1.414213562373095048801688724209698078569671875376948073176679737990732478462102"
      ]
     },
     "execution_count": 41,
     "metadata": {},
     "output_type": "execute_result"
    }
   ],
   "source": [
    "sqrt(BigFloat(2.0))"
   ]
  },
  {
   "cell_type": "markdown",
   "id": "a600752c-9f30-4a3b-8fdc-79c7493de6c4",
   "metadata": {},
   "source": [
    "## Functions\n",
    "\n",
    "See Julia documentation on [functions](https://docs.julialang.org/en/v1/manual/functions/)"
   ]
  },
  {
   "cell_type": "code",
   "execution_count": 42,
   "id": "b483dbba-a937-42ad-8c20-04d3ad44e0d0",
   "metadata": {},
   "outputs": [
    {
     "data": {
      "text/plain": [
       "square (generic function with 1 method)"
      ]
     },
     "execution_count": 42,
     "metadata": {},
     "output_type": "execute_result"
    }
   ],
   "source": [
    "square(x) = x*x # generic means it works for any numeric type"
   ]
  },
  {
   "cell_type": "code",
   "execution_count": 43,
   "id": "560928a9-b4ae-4dbf-8f3a-940058239721",
   "metadata": {},
   "outputs": [
    {
     "data": {
      "text/plain": [
       "20.25"
      ]
     },
     "execution_count": 43,
     "metadata": {},
     "output_type": "execute_result"
    }
   ],
   "source": [
    "square(4.5)"
   ]
  },
  {
   "cell_type": "code",
   "execution_count": 44,
   "id": "7c2bb394-8a62-4fef-b426-0709fffe81d5",
   "metadata": {},
   "outputs": [
    {
     "data": {
      "text/plain": [
       "289//81"
      ]
     },
     "execution_count": 44,
     "metadata": {},
     "output_type": "execute_result"
    }
   ],
   "source": [
    "square( 17 // 9 )"
   ]
  },
  {
   "cell_type": "code",
   "execution_count": 45,
   "id": "ac76ba89-aab7-4e4c-94f0-72ac5ef02ae6",
   "metadata": {},
   "outputs": [
    {
     "data": {
      "text/plain": [
       "-1.19 - 1.2im"
      ]
     },
     "execution_count": 45,
     "metadata": {},
     "output_type": "execute_result"
    }
   ],
   "source": [
    "square( 0.5 - 1.2im )"
   ]
  },
  {
   "cell_type": "code",
   "execution_count": 46,
   "id": "c8b19ba6-972c-416b-ad14-2dc395de750a",
   "metadata": {},
   "outputs": [
    {
     "data": {
      "text/plain": [
       "my_factorial (generic function with 1 method)"
      ]
     },
     "execution_count": 46,
     "metadata": {},
     "output_type": "execute_result"
    }
   ],
   "source": [
    "function my_factorial(k :: Int64)\n",
    "    prod(1:k)\n",
    "end"
   ]
  },
  {
   "cell_type": "code",
   "execution_count": 47,
   "id": "41efe695-b2a8-4364-98c2-40586cbaaf8f",
   "metadata": {},
   "outputs": [
    {
     "data": {
      "text/plain": [
       "720"
      ]
     },
     "execution_count": 47,
     "metadata": {},
     "output_type": "execute_result"
    }
   ],
   "source": [
    "my_factorial(6)"
   ]
  },
  {
   "cell_type": "code",
   "execution_count": 48,
   "id": "0405039c-4f70-47ea-bb4c-dad09ba6dcb0",
   "metadata": {},
   "outputs": [
    {
     "ename": "LoadError",
     "evalue": "MethodError: no method matching my_factorial(::Float64)\n\u001b[0mClosest candidates are:\n\u001b[0m  my_factorial(\u001b[91m::Int64\u001b[39m) at In[46]:1",
     "output_type": "error",
     "traceback": [
      "MethodError: no method matching my_factorial(::Float64)\n\u001b[0mClosest candidates are:\n\u001b[0m  my_factorial(\u001b[91m::Int64\u001b[39m) at In[46]:1",
      "",
      "Stacktrace:",
      " [1] top-level scope",
      "   @ In[48]:1"
     ]
    }
   ],
   "source": [
    "my_factorial(6.0)"
   ]
  },
  {
   "cell_type": "markdown",
   "id": "98c00f85-c35e-4491-b42b-ca3a1081d300",
   "metadata": {},
   "source": [
    "## Plotting\n",
    "\n",
    "See the [tutorial](https://docs.juliaplots.org/latest/tutorial/) for Plots.jl for an introduction to this package."
   ]
  },
  {
   "cell_type": "code",
   "execution_count": 49,
   "id": "e1636696-1502-4f12-9b69-e1c3b00955e5",
   "metadata": {},
   "outputs": [],
   "source": [
    "# import Pkg; Pkg.add(\"Plots\")\n",
    "using Plots # need to add Plots using package manager once, in notebook or REPL"
   ]
  },
  {
   "cell_type": "code",
   "execution_count": 50,
   "id": "7de877b6-9f54-4d22-9538-ef437798f632",
   "metadata": {},
   "outputs": [
    {
     "data": {
      "image/svg+xml": [
       "<?xml version=\"1.0\" encoding=\"utf-8\"?>\n",
       "<svg xmlns=\"http://www.w3.org/2000/svg\" xmlns:xlink=\"http://www.w3.org/1999/xlink\" width=\"600\" height=\"400\" viewBox=\"0 0 2400 1600\">\n",
       "<defs>\n",
       "  <clipPath id=\"clip780\">\n",
       "    <rect x=\"0\" y=\"0\" width=\"2400\" height=\"1600\"/>\n",
       "  </clipPath>\n",
       "</defs>\n",
       "<path clip-path=\"url(#clip780)\" d=\"\n",
       "M0 1600 L2400 1600 L2400 0 L0 0  Z\n",
       "  \" fill=\"#ffffff\" fill-rule=\"evenodd\" fill-opacity=\"1\"/>\n",
       "<defs>\n",
       "  <clipPath id=\"clip781\">\n",
       "    <rect x=\"480\" y=\"0\" width=\"1681\" height=\"1600\"/>\n",
       "  </clipPath>\n",
       "</defs>\n",
       "<path clip-path=\"url(#clip780)\" d=\"\n",
       "M193.936 1486.45 L2352.76 1486.45 L2352.76 47.2441 L193.936 47.2441  Z\n",
       "  \" fill=\"#ffffff\" fill-rule=\"evenodd\" fill-opacity=\"1\"/>\n",
       "<defs>\n",
       "  <clipPath id=\"clip782\">\n",
       "    <rect x=\"193\" y=\"47\" width=\"2160\" height=\"1440\"/>\n",
       "  </clipPath>\n",
       "</defs>\n",
       "<polyline clip-path=\"url(#clip782)\" style=\"stroke:#000000; stroke-linecap:round; stroke-linejoin:round; stroke-width:2; stroke-opacity:0.1; fill:none\" points=\"\n",
       "  421.407,1486.45 421.407,47.2441 \n",
       "  \"/>\n",
       "<polyline clip-path=\"url(#clip782)\" style=\"stroke:#000000; stroke-linecap:round; stroke-linejoin:round; stroke-width:2; stroke-opacity:0.1; fill:none\" points=\"\n",
       "  745.545,1486.45 745.545,47.2441 \n",
       "  \"/>\n",
       "<polyline clip-path=\"url(#clip782)\" style=\"stroke:#000000; stroke-linecap:round; stroke-linejoin:round; stroke-width:2; stroke-opacity:0.1; fill:none\" points=\"\n",
       "  1069.68,1486.45 1069.68,47.2441 \n",
       "  \"/>\n",
       "<polyline clip-path=\"url(#clip782)\" style=\"stroke:#000000; stroke-linecap:round; stroke-linejoin:round; stroke-width:2; stroke-opacity:0.1; fill:none\" points=\"\n",
       "  1393.82,1486.45 1393.82,47.2441 \n",
       "  \"/>\n",
       "<polyline clip-path=\"url(#clip782)\" style=\"stroke:#000000; stroke-linecap:round; stroke-linejoin:round; stroke-width:2; stroke-opacity:0.1; fill:none\" points=\"\n",
       "  1717.96,1486.45 1717.96,47.2441 \n",
       "  \"/>\n",
       "<polyline clip-path=\"url(#clip782)\" style=\"stroke:#000000; stroke-linecap:round; stroke-linejoin:round; stroke-width:2; stroke-opacity:0.1; fill:none\" points=\"\n",
       "  2042.1,1486.45 2042.1,47.2441 \n",
       "  \"/>\n",
       "<polyline clip-path=\"url(#clip780)\" style=\"stroke:#000000; stroke-linecap:round; stroke-linejoin:round; stroke-width:4; stroke-opacity:1; fill:none\" points=\"\n",
       "  193.936,1486.45 2352.76,1486.45 \n",
       "  \"/>\n",
       "<polyline clip-path=\"url(#clip780)\" style=\"stroke:#000000; stroke-linecap:round; stroke-linejoin:round; stroke-width:4; stroke-opacity:1; fill:none\" points=\"\n",
       "  421.407,1486.45 421.407,1467.55 \n",
       "  \"/>\n",
       "<polyline clip-path=\"url(#clip780)\" style=\"stroke:#000000; stroke-linecap:round; stroke-linejoin:round; stroke-width:4; stroke-opacity:1; fill:none\" points=\"\n",
       "  745.545,1486.45 745.545,1467.55 \n",
       "  \"/>\n",
       "<polyline clip-path=\"url(#clip780)\" style=\"stroke:#000000; stroke-linecap:round; stroke-linejoin:round; stroke-width:4; stroke-opacity:1; fill:none\" points=\"\n",
       "  1069.68,1486.45 1069.68,1467.55 \n",
       "  \"/>\n",
       "<polyline clip-path=\"url(#clip780)\" style=\"stroke:#000000; stroke-linecap:round; stroke-linejoin:round; stroke-width:4; stroke-opacity:1; fill:none\" points=\"\n",
       "  1393.82,1486.45 1393.82,1467.55 \n",
       "  \"/>\n",
       "<polyline clip-path=\"url(#clip780)\" style=\"stroke:#000000; stroke-linecap:round; stroke-linejoin:round; stroke-width:4; stroke-opacity:1; fill:none\" points=\"\n",
       "  1717.96,1486.45 1717.96,1467.55 \n",
       "  \"/>\n",
       "<polyline clip-path=\"url(#clip780)\" style=\"stroke:#000000; stroke-linecap:round; stroke-linejoin:round; stroke-width:4; stroke-opacity:1; fill:none\" points=\"\n",
       "  2042.1,1486.45 2042.1,1467.55 \n",
       "  \"/>\n",
       "<path clip-path=\"url(#clip780)\" d=\"M367.935 1532.02 L397.61 1532.02 L397.61 1535.95 L367.935 1535.95 L367.935 1532.02 Z\" fill=\"#000000\" fill-rule=\"evenodd\" fill-opacity=\"1\" /><path clip-path=\"url(#clip780)\" d=\"M407.749 1514.29 L426.106 1514.29 L426.106 1518.22 L412.032 1518.22 L412.032 1526.7 Q413.05 1526.35 414.069 1526.19 Q415.087 1526 416.106 1526 Q421.893 1526 425.272 1529.17 Q428.652 1532.34 428.652 1537.76 Q428.652 1543.34 425.18 1546.44 Q421.708 1549.52 415.388 1549.52 Q413.212 1549.52 410.944 1549.15 Q408.698 1548.78 406.291 1548.04 L406.291 1543.34 Q408.374 1544.47 410.596 1545.03 Q412.819 1545.58 415.296 1545.58 Q419.3 1545.58 421.638 1543.48 Q423.976 1541.37 423.976 1537.76 Q423.976 1534.15 421.638 1532.04 Q419.3 1529.94 415.296 1529.94 Q413.421 1529.94 411.546 1530.35 Q409.694 1530.77 407.749 1531.65 L407.749 1514.29 Z\" fill=\"#000000\" fill-rule=\"evenodd\" fill-opacity=\"1\" /><path clip-path=\"url(#clip780)\" d=\"M437.865 1542.97 L442.749 1542.97 L442.749 1548.85 L437.865 1548.85 L437.865 1542.97 Z\" fill=\"#000000\" fill-rule=\"evenodd\" fill-opacity=\"1\" /><path clip-path=\"url(#clip780)\" d=\"M462.934 1517.37 Q459.323 1517.37 457.494 1520.93 Q455.689 1524.47 455.689 1531.6 Q455.689 1538.71 457.494 1542.27 Q459.323 1545.82 462.934 1545.82 Q466.568 1545.82 468.374 1542.27 Q470.203 1538.71 470.203 1531.6 Q470.203 1524.47 468.374 1520.93 Q466.568 1517.37 462.934 1517.37 M462.934 1513.66 Q468.744 1513.66 471.8 1518.27 Q474.879 1522.85 474.879 1531.6 Q474.879 1540.33 471.8 1544.94 Q468.744 1549.52 462.934 1549.52 Q457.124 1549.52 454.045 1544.94 Q450.99 1540.33 450.99 1531.6 Q450.99 1522.85 454.045 1518.27 Q457.124 1513.66 462.934 1513.66 Z\" fill=\"#000000\" fill-rule=\"evenodd\" fill-opacity=\"1\" /><path clip-path=\"url(#clip780)\" d=\"M692.571 1532.02 L722.247 1532.02 L722.247 1535.95 L692.571 1535.95 L692.571 1532.02 Z\" fill=\"#000000\" fill-rule=\"evenodd\" fill-opacity=\"1\" /><path clip-path=\"url(#clip780)\" d=\"M736.367 1544.91 L752.686 1544.91 L752.686 1548.85 L730.742 1548.85 L730.742 1544.91 Q733.404 1542.16 737.987 1537.53 Q742.594 1532.88 743.774 1531.53 Q746.02 1529.01 746.899 1527.27 Q747.802 1525.51 747.802 1523.82 Q747.802 1521.07 745.858 1519.33 Q743.936 1517.6 740.835 1517.6 Q738.635 1517.6 736.182 1518.36 Q733.751 1519.13 730.973 1520.68 L730.973 1515.95 Q733.798 1514.82 736.251 1514.24 Q738.705 1513.66 740.742 1513.66 Q746.112 1513.66 749.307 1516.35 Q752.501 1519.03 752.501 1523.52 Q752.501 1525.65 751.691 1527.57 Q750.904 1529.47 748.797 1532.07 Q748.219 1532.74 745.117 1535.95 Q742.015 1539.15 736.367 1544.91 Z\" fill=\"#000000\" fill-rule=\"evenodd\" fill-opacity=\"1\" /><path clip-path=\"url(#clip780)\" d=\"M762.501 1542.97 L767.385 1542.97 L767.385 1548.85 L762.501 1548.85 L762.501 1542.97 Z\" fill=\"#000000\" fill-rule=\"evenodd\" fill-opacity=\"1\" /><path clip-path=\"url(#clip780)\" d=\"M777.617 1514.29 L795.973 1514.29 L795.973 1518.22 L781.899 1518.22 L781.899 1526.7 Q782.918 1526.35 783.936 1526.19 Q784.955 1526 785.973 1526 Q791.76 1526 795.14 1529.17 Q798.519 1532.34 798.519 1537.76 Q798.519 1543.34 795.047 1546.44 Q791.575 1549.52 785.256 1549.52 Q783.08 1549.52 780.811 1549.15 Q778.566 1548.78 776.158 1548.04 L776.158 1543.34 Q778.242 1544.47 780.464 1545.03 Q782.686 1545.58 785.163 1545.58 Q789.168 1545.58 791.506 1543.48 Q793.844 1541.37 793.844 1537.76 Q793.844 1534.15 791.506 1532.04 Q789.168 1529.94 785.163 1529.94 Q783.288 1529.94 781.413 1530.35 Q779.561 1530.77 777.617 1531.65 L777.617 1514.29 Z\" fill=\"#000000\" fill-rule=\"evenodd\" fill-opacity=\"1\" /><path clip-path=\"url(#clip780)\" d=\"M1047.07 1517.37 Q1043.46 1517.37 1041.63 1520.93 Q1039.82 1524.47 1039.82 1531.6 Q1039.82 1538.71 1041.63 1542.27 Q1043.46 1545.82 1047.07 1545.82 Q1050.7 1545.82 1052.51 1542.27 Q1054.34 1538.71 1054.34 1531.6 Q1054.34 1524.47 1052.51 1520.93 Q1050.7 1517.37 1047.07 1517.37 M1047.07 1513.66 Q1052.88 1513.66 1055.93 1518.27 Q1059.01 1522.85 1059.01 1531.6 Q1059.01 1540.33 1055.93 1544.94 Q1052.88 1549.52 1047.07 1549.52 Q1041.26 1549.52 1038.18 1544.94 Q1035.12 1540.33 1035.12 1531.6 Q1035.12 1522.85 1038.18 1518.27 Q1041.26 1513.66 1047.07 1513.66 Z\" fill=\"#000000\" fill-rule=\"evenodd\" fill-opacity=\"1\" /><path clip-path=\"url(#clip780)\" d=\"M1067.23 1542.97 L1072.11 1542.97 L1072.11 1548.85 L1067.23 1548.85 L1067.23 1542.97 Z\" fill=\"#000000\" fill-rule=\"evenodd\" fill-opacity=\"1\" /><path clip-path=\"url(#clip780)\" d=\"M1092.3 1517.37 Q1088.69 1517.37 1086.86 1520.93 Q1085.05 1524.47 1085.05 1531.6 Q1085.05 1538.71 1086.86 1542.27 Q1088.69 1545.82 1092.3 1545.82 Q1095.93 1545.82 1097.74 1542.27 Q1099.57 1538.71 1099.57 1531.6 Q1099.57 1524.47 1097.74 1520.93 Q1095.93 1517.37 1092.3 1517.37 M1092.3 1513.66 Q1098.11 1513.66 1101.17 1518.27 Q1104.24 1522.85 1104.24 1531.6 Q1104.24 1540.33 1101.17 1544.94 Q1098.11 1549.52 1092.3 1549.52 Q1086.49 1549.52 1083.41 1544.94 Q1080.35 1540.33 1080.35 1531.6 Q1080.35 1522.85 1083.41 1518.27 Q1086.49 1513.66 1092.3 1513.66 Z\" fill=\"#000000\" fill-rule=\"evenodd\" fill-opacity=\"1\" /><path clip-path=\"url(#clip780)\" d=\"M1365.56 1544.91 L1381.88 1544.91 L1381.88 1548.85 L1359.93 1548.85 L1359.93 1544.91 Q1362.6 1542.16 1367.18 1537.53 Q1371.79 1532.88 1372.97 1531.53 Q1375.21 1529.01 1376.09 1527.27 Q1376.99 1525.51 1376.99 1523.82 Q1376.99 1521.07 1375.05 1519.33 Q1373.13 1517.6 1370.03 1517.6 Q1367.83 1517.6 1365.37 1518.36 Q1362.94 1519.13 1360.17 1520.68 L1360.17 1515.95 Q1362.99 1514.82 1365.44 1514.24 Q1367.9 1513.66 1369.93 1513.66 Q1375.3 1513.66 1378.5 1516.35 Q1381.69 1519.03 1381.69 1523.52 Q1381.69 1525.65 1380.88 1527.57 Q1380.1 1529.47 1377.99 1532.07 Q1377.41 1532.74 1374.31 1535.95 Q1371.21 1539.15 1365.56 1544.91 Z\" fill=\"#000000\" fill-rule=\"evenodd\" fill-opacity=\"1\" /><path clip-path=\"url(#clip780)\" d=\"M1391.69 1542.97 L1396.58 1542.97 L1396.58 1548.85 L1391.69 1548.85 L1391.69 1542.97 Z\" fill=\"#000000\" fill-rule=\"evenodd\" fill-opacity=\"1\" /><path clip-path=\"url(#clip780)\" d=\"M1406.81 1514.29 L1425.16 1514.29 L1425.16 1518.22 L1411.09 1518.22 L1411.09 1526.7 Q1412.11 1526.35 1413.13 1526.19 Q1414.15 1526 1415.16 1526 Q1420.95 1526 1424.33 1529.17 Q1427.71 1532.34 1427.71 1537.76 Q1427.71 1543.34 1424.24 1546.44 Q1420.77 1549.52 1414.45 1549.52 Q1412.27 1549.52 1410 1549.15 Q1407.76 1548.78 1405.35 1548.04 L1405.35 1543.34 Q1407.43 1544.47 1409.66 1545.03 Q1411.88 1545.58 1414.35 1545.58 Q1418.36 1545.58 1420.7 1543.48 Q1423.04 1541.37 1423.04 1537.76 Q1423.04 1534.15 1420.7 1532.04 Q1418.36 1529.94 1414.35 1529.94 Q1412.48 1529.94 1410.6 1530.35 Q1408.75 1530.77 1406.81 1531.65 L1406.81 1514.29 Z\" fill=\"#000000\" fill-rule=\"evenodd\" fill-opacity=\"1\" /><path clip-path=\"url(#clip780)\" d=\"M1685.13 1514.29 L1703.48 1514.29 L1703.48 1518.22 L1689.41 1518.22 L1689.41 1526.7 Q1690.43 1526.35 1691.44 1526.19 Q1692.46 1526 1693.48 1526 Q1699.27 1526 1702.65 1529.17 Q1706.03 1532.34 1706.03 1537.76 Q1706.03 1543.34 1702.56 1546.44 Q1699.08 1549.52 1692.76 1549.52 Q1690.59 1549.52 1688.32 1549.15 Q1686.07 1548.78 1683.67 1548.04 L1683.67 1543.34 Q1685.75 1544.47 1687.97 1545.03 Q1690.19 1545.58 1692.67 1545.58 Q1696.68 1545.58 1699.01 1543.48 Q1701.35 1541.37 1701.35 1537.76 Q1701.35 1534.15 1699.01 1532.04 Q1696.68 1529.94 1692.67 1529.94 Q1690.8 1529.94 1688.92 1530.35 Q1687.07 1530.77 1685.13 1531.65 L1685.13 1514.29 Z\" fill=\"#000000\" fill-rule=\"evenodd\" fill-opacity=\"1\" /><path clip-path=\"url(#clip780)\" d=\"M1715.24 1542.97 L1720.13 1542.97 L1720.13 1548.85 L1715.24 1548.85 L1715.24 1542.97 Z\" fill=\"#000000\" fill-rule=\"evenodd\" fill-opacity=\"1\" /><path clip-path=\"url(#clip780)\" d=\"M1740.31 1517.37 Q1736.7 1517.37 1734.87 1520.93 Q1733.06 1524.47 1733.06 1531.6 Q1733.06 1538.71 1734.87 1542.27 Q1736.7 1545.82 1740.31 1545.82 Q1743.94 1545.82 1745.75 1542.27 Q1747.58 1538.71 1747.58 1531.6 Q1747.58 1524.47 1745.75 1520.93 Q1743.94 1517.37 1740.31 1517.37 M1740.31 1513.66 Q1746.12 1513.66 1749.18 1518.27 Q1752.25 1522.85 1752.25 1531.6 Q1752.25 1540.33 1749.18 1544.94 Q1746.12 1549.52 1740.31 1549.52 Q1734.5 1549.52 1731.42 1544.94 Q1728.37 1540.33 1728.37 1531.6 Q1728.37 1522.85 1731.42 1518.27 Q1734.5 1513.66 1740.31 1513.66 Z\" fill=\"#000000\" fill-rule=\"evenodd\" fill-opacity=\"1\" /><path clip-path=\"url(#clip780)\" d=\"M2008.42 1514.29 L2030.64 1514.29 L2030.64 1516.28 L2018.09 1548.85 L2013.21 1548.85 L2025.02 1518.22 L2008.42 1518.22 L2008.42 1514.29 Z\" fill=\"#000000\" fill-rule=\"evenodd\" fill-opacity=\"1\" /><path clip-path=\"url(#clip780)\" d=\"M2039.76 1542.97 L2044.65 1542.97 L2044.65 1548.85 L2039.76 1548.85 L2039.76 1542.97 Z\" fill=\"#000000\" fill-rule=\"evenodd\" fill-opacity=\"1\" /><path clip-path=\"url(#clip780)\" d=\"M2054.88 1514.29 L2073.23 1514.29 L2073.23 1518.22 L2059.16 1518.22 L2059.16 1526.7 Q2060.18 1526.35 2061.2 1526.19 Q2062.21 1526 2063.23 1526 Q2069.02 1526 2072.4 1529.17 Q2075.78 1532.34 2075.78 1537.76 Q2075.78 1543.34 2072.31 1546.44 Q2068.84 1549.52 2062.52 1549.52 Q2060.34 1549.52 2058.07 1549.15 Q2055.83 1548.78 2053.42 1548.04 L2053.42 1543.34 Q2055.5 1544.47 2057.72 1545.03 Q2059.95 1545.58 2062.42 1545.58 Q2066.43 1545.58 2068.77 1543.48 Q2071.1 1541.37 2071.1 1537.76 Q2071.1 1534.15 2068.77 1532.04 Q2066.43 1529.94 2062.42 1529.94 Q2060.55 1529.94 2058.67 1530.35 Q2056.82 1530.77 2054.88 1531.65 L2054.88 1514.29 Z\" fill=\"#000000\" fill-rule=\"evenodd\" fill-opacity=\"1\" /><polyline clip-path=\"url(#clip782)\" style=\"stroke:#000000; stroke-linecap:round; stroke-linejoin:round; stroke-width:2; stroke-opacity:0.1; fill:none\" points=\"\n",
       "  193.936,1445.73 2352.76,1445.73 \n",
       "  \"/>\n",
       "<polyline clip-path=\"url(#clip782)\" style=\"stroke:#000000; stroke-linecap:round; stroke-linejoin:round; stroke-width:2; stroke-opacity:0.1; fill:none\" points=\"\n",
       "  193.936,1106.29 2352.76,1106.29 \n",
       "  \"/>\n",
       "<polyline clip-path=\"url(#clip782)\" style=\"stroke:#000000; stroke-linecap:round; stroke-linejoin:round; stroke-width:2; stroke-opacity:0.1; fill:none\" points=\"\n",
       "  193.936,766.851 2352.76,766.851 \n",
       "  \"/>\n",
       "<polyline clip-path=\"url(#clip782)\" style=\"stroke:#000000; stroke-linecap:round; stroke-linejoin:round; stroke-width:2; stroke-opacity:0.1; fill:none\" points=\"\n",
       "  193.936,427.414 2352.76,427.414 \n",
       "  \"/>\n",
       "<polyline clip-path=\"url(#clip782)\" style=\"stroke:#000000; stroke-linecap:round; stroke-linejoin:round; stroke-width:2; stroke-opacity:0.1; fill:none\" points=\"\n",
       "  193.936,87.9761 2352.76,87.9761 \n",
       "  \"/>\n",
       "<polyline clip-path=\"url(#clip780)\" style=\"stroke:#000000; stroke-linecap:round; stroke-linejoin:round; stroke-width:4; stroke-opacity:1; fill:none\" points=\"\n",
       "  193.936,1486.45 193.936,47.2441 \n",
       "  \"/>\n",
       "<polyline clip-path=\"url(#clip780)\" style=\"stroke:#000000; stroke-linecap:round; stroke-linejoin:round; stroke-width:4; stroke-opacity:1; fill:none\" points=\"\n",
       "  193.936,1445.73 212.834,1445.73 \n",
       "  \"/>\n",
       "<polyline clip-path=\"url(#clip780)\" style=\"stroke:#000000; stroke-linecap:round; stroke-linejoin:round; stroke-width:4; stroke-opacity:1; fill:none\" points=\"\n",
       "  193.936,1106.29 212.834,1106.29 \n",
       "  \"/>\n",
       "<polyline clip-path=\"url(#clip780)\" style=\"stroke:#000000; stroke-linecap:round; stroke-linejoin:round; stroke-width:4; stroke-opacity:1; fill:none\" points=\"\n",
       "  193.936,766.851 212.834,766.851 \n",
       "  \"/>\n",
       "<polyline clip-path=\"url(#clip780)\" style=\"stroke:#000000; stroke-linecap:round; stroke-linejoin:round; stroke-width:4; stroke-opacity:1; fill:none\" points=\"\n",
       "  193.936,427.414 212.834,427.414 \n",
       "  \"/>\n",
       "<polyline clip-path=\"url(#clip780)\" style=\"stroke:#000000; stroke-linecap:round; stroke-linejoin:round; stroke-width:4; stroke-opacity:1; fill:none\" points=\"\n",
       "  193.936,87.9761 212.834,87.9761 \n",
       "  \"/>\n",
       "<path clip-path=\"url(#clip780)\" d=\"M50.9921 1446.18 L80.6679 1446.18 L80.6679 1450.11 L50.9921 1450.11 L50.9921 1446.18 Z\" fill=\"#000000\" fill-rule=\"evenodd\" fill-opacity=\"1\" /><path clip-path=\"url(#clip780)\" d=\"M91.5706 1459.07 L99.2095 1459.07 L99.2095 1432.71 L90.8993 1434.37 L90.8993 1430.11 L99.1632 1428.45 L103.839 1428.45 L103.839 1459.07 L111.478 1459.07 L111.478 1463.01 L91.5706 1463.01 L91.5706 1459.07 Z\" fill=\"#000000\" fill-rule=\"evenodd\" fill-opacity=\"1\" /><path clip-path=\"url(#clip780)\" d=\"M120.922 1457.13 L125.807 1457.13 L125.807 1463.01 L120.922 1463.01 L120.922 1457.13 Z\" fill=\"#000000\" fill-rule=\"evenodd\" fill-opacity=\"1\" /><path clip-path=\"url(#clip780)\" d=\"M145.992 1431.53 Q142.381 1431.53 140.552 1435.09 Q138.746 1438.63 138.746 1445.76 Q138.746 1452.87 140.552 1456.43 Q142.381 1459.97 145.992 1459.97 Q149.626 1459.97 151.431 1456.43 Q153.26 1452.87 153.26 1445.76 Q153.26 1438.63 151.431 1435.09 Q149.626 1431.53 145.992 1431.53 M145.992 1427.82 Q151.802 1427.82 154.857 1432.43 Q157.936 1437.01 157.936 1445.76 Q157.936 1454.49 154.857 1459.09 Q151.802 1463.68 145.992 1463.68 Q140.181 1463.68 137.103 1459.09 Q134.047 1454.49 134.047 1445.76 Q134.047 1437.01 137.103 1432.43 Q140.181 1427.82 145.992 1427.82 Z\" fill=\"#000000\" fill-rule=\"evenodd\" fill-opacity=\"1\" /><path clip-path=\"url(#clip780)\" d=\"M51.9875 1106.74 L81.6633 1106.74 L81.6633 1110.68 L51.9875 1110.68 L51.9875 1106.74 Z\" fill=\"#000000\" fill-rule=\"evenodd\" fill-opacity=\"1\" /><path clip-path=\"url(#clip780)\" d=\"M101.756 1092.09 Q98.1447 1092.09 96.316 1095.65 Q94.5104 1099.19 94.5104 1106.32 Q94.5104 1113.43 96.316 1117 Q98.1447 1120.54 101.756 1120.54 Q105.39 1120.54 107.196 1117 Q109.024 1113.43 109.024 1106.32 Q109.024 1099.19 107.196 1095.65 Q105.39 1092.09 101.756 1092.09 M101.756 1088.38 Q107.566 1088.38 110.621 1092.99 Q113.7 1097.57 113.7 1106.32 Q113.7 1115.05 110.621 1119.66 Q107.566 1124.24 101.756 1124.24 Q95.9456 1124.24 92.8669 1119.66 Q89.8114 1115.05 89.8114 1106.32 Q89.8114 1097.57 92.8669 1092.99 Q95.9456 1088.38 101.756 1088.38 Z\" fill=\"#000000\" fill-rule=\"evenodd\" fill-opacity=\"1\" /><path clip-path=\"url(#clip780)\" d=\"M121.918 1117.69 L126.802 1117.69 L126.802 1123.57 L121.918 1123.57 L121.918 1117.69 Z\" fill=\"#000000\" fill-rule=\"evenodd\" fill-opacity=\"1\" /><path clip-path=\"url(#clip780)\" d=\"M137.033 1089.01 L155.39 1089.01 L155.39 1092.94 L141.316 1092.94 L141.316 1101.42 Q142.334 1101.07 143.353 1100.91 Q144.371 1100.72 145.39 1100.72 Q151.177 1100.72 154.556 1103.89 Q157.936 1107.06 157.936 1112.48 Q157.936 1118.06 154.464 1121.16 Q150.992 1124.24 144.672 1124.24 Q142.496 1124.24 140.228 1123.87 Q137.982 1123.5 135.575 1122.76 L135.575 1118.06 Q137.658 1119.19 139.881 1119.75 Q142.103 1120.31 144.58 1120.31 Q148.584 1120.31 150.922 1118.2 Q153.26 1116.09 153.26 1112.48 Q153.26 1108.87 150.922 1106.76 Q148.584 1104.66 144.58 1104.66 Q142.705 1104.66 140.83 1105.07 Q138.978 1105.49 137.033 1106.37 L137.033 1089.01 Z\" fill=\"#000000\" fill-rule=\"evenodd\" fill-opacity=\"1\" /><path clip-path=\"url(#clip780)\" d=\"M100.76 752.65 Q97.1493 752.65 95.3206 756.215 Q93.515 759.757 93.515 766.886 Q93.515 773.993 95.3206 777.557 Q97.1493 781.099 100.76 781.099 Q104.395 781.099 106.2 777.557 Q108.029 773.993 108.029 766.886 Q108.029 759.757 106.2 756.215 Q104.395 752.65 100.76 752.65 M100.76 748.946 Q106.571 748.946 109.626 753.553 Q112.705 758.136 112.705 766.886 Q112.705 775.613 109.626 780.219 Q106.571 784.803 100.76 784.803 Q94.9502 784.803 91.8715 780.219 Q88.816 775.613 88.816 766.886 Q88.816 758.136 91.8715 753.553 Q94.9502 748.946 100.76 748.946 Z\" fill=\"#000000\" fill-rule=\"evenodd\" fill-opacity=\"1\" /><path clip-path=\"url(#clip780)\" d=\"M120.922 778.252 L125.807 778.252 L125.807 784.131 L120.922 784.131 L120.922 778.252 Z\" fill=\"#000000\" fill-rule=\"evenodd\" fill-opacity=\"1\" /><path clip-path=\"url(#clip780)\" d=\"M145.992 752.65 Q142.381 752.65 140.552 756.215 Q138.746 759.757 138.746 766.886 Q138.746 773.993 140.552 777.557 Q142.381 781.099 145.992 781.099 Q149.626 781.099 151.431 777.557 Q153.26 773.993 153.26 766.886 Q153.26 759.757 151.431 756.215 Q149.626 752.65 145.992 752.65 M145.992 748.946 Q151.802 748.946 154.857 753.553 Q157.936 758.136 157.936 766.886 Q157.936 775.613 154.857 780.219 Q151.802 784.803 145.992 784.803 Q140.181 784.803 137.103 780.219 Q134.047 775.613 134.047 766.886 Q134.047 758.136 137.103 753.553 Q140.181 748.946 145.992 748.946 Z\" fill=\"#000000\" fill-rule=\"evenodd\" fill-opacity=\"1\" /><path clip-path=\"url(#clip780)\" d=\"M101.756 413.212 Q98.1447 413.212 96.316 416.777 Q94.5104 420.319 94.5104 427.448 Q94.5104 434.555 96.316 438.12 Q98.1447 441.661 101.756 441.661 Q105.39 441.661 107.196 438.12 Q109.024 434.555 109.024 427.448 Q109.024 420.319 107.196 416.777 Q105.39 413.212 101.756 413.212 M101.756 409.509 Q107.566 409.509 110.621 414.115 Q113.7 418.699 113.7 427.448 Q113.7 436.175 110.621 440.782 Q107.566 445.365 101.756 445.365 Q95.9456 445.365 92.8669 440.782 Q89.8114 436.175 89.8114 427.448 Q89.8114 418.699 92.8669 414.115 Q95.9456 409.509 101.756 409.509 Z\" fill=\"#000000\" fill-rule=\"evenodd\" fill-opacity=\"1\" /><path clip-path=\"url(#clip780)\" d=\"M121.918 438.814 L126.802 438.814 L126.802 444.694 L121.918 444.694 L121.918 438.814 Z\" fill=\"#000000\" fill-rule=\"evenodd\" fill-opacity=\"1\" /><path clip-path=\"url(#clip780)\" d=\"M137.033 410.134 L155.39 410.134 L155.39 414.069 L141.316 414.069 L141.316 422.541 Q142.334 422.194 143.353 422.032 Q144.371 421.847 145.39 421.847 Q151.177 421.847 154.556 425.018 Q157.936 428.189 157.936 433.606 Q157.936 439.185 154.464 442.286 Q150.992 445.365 144.672 445.365 Q142.496 445.365 140.228 444.995 Q137.982 444.624 135.575 443.884 L135.575 439.185 Q137.658 440.319 139.881 440.874 Q142.103 441.43 144.58 441.43 Q148.584 441.43 150.922 439.323 Q153.26 437.217 153.26 433.606 Q153.26 429.995 150.922 427.888 Q148.584 425.782 144.58 425.782 Q142.705 425.782 140.83 426.198 Q138.978 426.615 137.033 427.495 L137.033 410.134 Z\" fill=\"#000000\" fill-rule=\"evenodd\" fill-opacity=\"1\" /><path clip-path=\"url(#clip780)\" d=\"M91.5706 101.321 L99.2095 101.321 L99.2095 74.9553 L90.8993 76.622 L90.8993 72.3627 L99.1632 70.6961 L103.839 70.6961 L103.839 101.321 L111.478 101.321 L111.478 105.256 L91.5706 105.256 L91.5706 101.321 Z\" fill=\"#000000\" fill-rule=\"evenodd\" fill-opacity=\"1\" /><path clip-path=\"url(#clip780)\" d=\"M120.922 99.3765 L125.807 99.3765 L125.807 105.256 L120.922 105.256 L120.922 99.3765 Z\" fill=\"#000000\" fill-rule=\"evenodd\" fill-opacity=\"1\" /><path clip-path=\"url(#clip780)\" d=\"M145.992 73.7748 Q142.381 73.7748 140.552 77.3395 Q138.746 80.8812 138.746 88.0108 Q138.746 95.1172 140.552 98.682 Q142.381 102.224 145.992 102.224 Q149.626 102.224 151.431 98.682 Q153.26 95.1172 153.26 88.0108 Q153.26 80.8812 151.431 77.3395 Q149.626 73.7748 145.992 73.7748 M145.992 70.0711 Q151.802 70.0711 154.857 74.6775 Q157.936 79.2608 157.936 88.0108 Q157.936 96.7376 154.857 101.344 Q151.802 105.927 145.992 105.927 Q140.181 105.927 137.103 101.344 Q134.047 96.7376 134.047 88.0108 Q134.047 79.2608 137.103 74.6775 Q140.181 70.0711 145.992 70.0711 Z\" fill=\"#000000\" fill-rule=\"evenodd\" fill-opacity=\"1\" /><polyline clip-path=\"url(#clip782)\" style=\"stroke:#009af9; stroke-linecap:round; stroke-linejoin:round; stroke-width:4; stroke-opacity:1; fill:none\" points=\"\n",
       "  255.035,766.851 258.35,749.497 261.664,732.153 264.979,714.832 268.294,697.546 283.62,618.39 298.945,541.307 306.608,503.88 314.27,467.371 321.933,431.908 \n",
       "  329.596,397.614 337.259,364.61 344.921,333.01 352.584,302.926 360.247,274.461 367.91,247.716 375.572,222.783 383.235,199.75 390.898,178.698 400.108,156.118 \n",
       "  409.318,136.618 418.527,120.298 427.737,107.238 436.947,97.5054 446.157,91.1486 450.762,89.2469 455.367,88.1999 459.972,88.0089 464.577,88.6741 472.364,91.7443 \n",
       "  480.151,97.2488 487.938,105.168 495.725,115.473 503.512,128.127 511.299,143.084 519.085,160.29 526.872,179.684 535.331,203.147 543.79,229.009 552.249,257.159 \n",
       "  560.707,287.478 569.166,319.837 577.625,354.097 586.084,390.114 594.542,427.734 610.139,500.758 625.735,577.628 641.332,657.233 656.928,738.422 673.649,825.891 \n",
       "  690.37,912.378 707.091,996.449 723.812,1076.71 733.499,1120.93 743.185,1163.17 752.872,1203.21 762.558,1240.81 772.245,1275.76 781.931,1307.88 791.617,1336.98 \n",
       "  801.304,1362.9 809.912,1383.14 818.52,1400.67 827.129,1415.41 835.737,1427.29 844.345,1436.26 852.953,1442.28 861.561,1445.33 870.17,1445.38 877.718,1442.97 \n",
       "  885.267,1438.26 892.815,1431.28 900.364,1422.05 907.913,1410.6 915.461,1396.97 923.01,1381.2 930.558,1363.35 938.788,1341.59 947.018,1317.51 955.248,1291.21 \n",
       "  963.478,1262.81 971.708,1232.4 979.938,1200.12 988.168,1166.1 996.398,1130.46 1004.68,1093.14 1012.96,1054.49 1021.24,1014.66 1029.51,973.83 1046.07,889.8 \n",
       "  1062.63,803.767 1080.94,708.005 1099.24,613.414 1108.4,567.148 1117.55,521.876 1126.7,477.826 1135.86,435.215 1144.57,396.203 1153.28,358.862 1161.98,323.362 \n",
       "  1170.69,289.862 1179.4,258.514 1188.11,229.458 1196.82,202.826 1205.53,178.738 1214.59,156.507 1223.64,137.252 1232.7,121.066 1241.75,108.03 1250.81,98.206 \n",
       "  1259.86,91.6426 1264.39,89.5941 1268.92,88.3715 1273.45,87.9763 1277.98,88.4088 1285.6,91.0052 1293.22,95.9371 1300.84,103.187 1308.47,112.731 1316.09,124.535 \n",
       "  1323.71,138.559 1331.34,154.754 1338.96,173.064 1348.27,198.194 1357.57,226.252 1366.88,257.094 1376.19,290.562 1385.49,326.483 1394.8,364.671 1404.11,404.931 \n",
       "  1413.41,447.055 1421.94,487.094 1430.46,528.343 1438.99,570.622 1447.51,613.749 1464.57,701.799 1481.62,790.973 1497.36,872.997 1513.11,953.457 1528.86,1031.17 \n",
       "  1544.61,1104.98 1552.58,1140.53 1560.56,1174.67 1568.54,1207.27 1576.51,1238.2 1584.49,1267.34 1592.46,1294.59 1600.44,1319.85 1608.42,1343.01 1617.36,1366.38 \n",
       "  1626.29,1386.89 1635.23,1404.46 1644.17,1419.01 1653.11,1430.45 1662.05,1438.74 1670.99,1443.84 1679.93,1445.72 1688.03,1444.63 1696.13,1440.91 1704.23,1434.55 \n",
       "  1712.33,1425.59 1720.43,1414.06 1728.53,1400 1736.63,1383.47 1744.73,1364.54 1754,1340.01 1763.28,1312.54 1772.55,1282.28 1781.83,1249.39 1791.1,1214.03 \n",
       "  1800.37,1176.38 1809.65,1136.63 1818.92,1095 1827.51,1054.95 1836.1,1013.64 1844.68,971.239 1853.27,927.947 1870.44,839.437 1887.62,749.655 1904.55,661.429 \n",
       "  1921.48,574.997 1929.95,532.916 1938.41,491.833 1946.88,451.921 1955.34,413.352 1963.56,377.344 1971.78,342.901 1980,310.161 1988.22,279.257 1996.44,250.311 \n",
       "  2004.66,223.44 2012.88,198.753 2021.1,176.348 2029.53,155.843 2037.95,137.919 2046.38,122.649 2054.8,110.099 2063.23,100.322 2071.66,93.3593 2080.08,89.2399 \n",
       "  2088.51,87.9814 2097.74,89.8927 2106.97,95.2346 2116.2,103.98 2125.44,116.085 2134.67,131.487 2143.9,150.109 2153.13,171.857 2162.36,196.62 2169.07,216.425 \n",
       "  2175.77,237.702 2182.48,260.395 2189.18,284.441 2195.89,309.778 2202.59,336.336 2209.3,364.046 2216,392.833 2229.42,453.328 2242.83,517.174 2256.24,583.688 \n",
       "  2269.65,652.161 2275.15,680.652 2280.65,709.299 2286.15,738.049 2291.66,766.851 \n",
       "  \"/>\n",
       "<path clip-path=\"url(#clip780)\" d=\"\n",
       "M2012.48 1438.47 L2280.8 1438.47 L2280.8 1334.79 L2012.48 1334.79  Z\n",
       "  \" fill=\"#ffffff\" fill-rule=\"evenodd\" fill-opacity=\"1\"/>\n",
       "<polyline clip-path=\"url(#clip780)\" style=\"stroke:#000000; stroke-linecap:round; stroke-linejoin:round; stroke-width:4; stroke-opacity:1; fill:none\" points=\"\n",
       "  2012.48,1438.47 2280.8,1438.47 2280.8,1334.79 2012.48,1334.79 2012.48,1438.47 \n",
       "  \"/>\n",
       "<polyline clip-path=\"url(#clip780)\" style=\"stroke:#009af9; stroke-linecap:round; stroke-linejoin:round; stroke-width:4; stroke-opacity:1; fill:none\" points=\"\n",
       "  2036.47,1386.63 2180.39,1386.63 \n",
       "  \"/>\n",
       "<path clip-path=\"url(#clip780)\" d=\"M2218.22 1406.32 Q2216.42 1410.95 2214.7 1412.36 Q2212.99 1413.78 2210.12 1413.78 L2206.72 1413.78 L2206.72 1410.21 L2209.22 1410.21 Q2210.98 1410.21 2211.95 1409.38 Q2212.92 1408.54 2214.1 1405.44 L2214.86 1403.5 L2204.38 1377.99 L2208.89 1377.99 L2216.99 1398.27 L2225.1 1377.99 L2229.61 1377.99 L2218.22 1406.32 Z\" fill=\"#000000\" fill-rule=\"evenodd\" fill-opacity=\"1\" /><path clip-path=\"url(#clip780)\" d=\"M2236.9 1399.98 L2244.54 1399.98 L2244.54 1373.61 L2236.23 1375.28 L2236.23 1371.02 L2244.49 1369.35 L2249.17 1369.35 L2249.17 1399.98 L2256.81 1399.98 L2256.81 1403.91 L2236.9 1403.91 L2236.9 1399.98 Z\" fill=\"#000000\" fill-rule=\"evenodd\" fill-opacity=\"1\" /></svg>\n"
      ]
     },
     "execution_count": 50,
     "metadata": {},
     "output_type": "execute_result"
    }
   ],
   "source": [
    "plot(sin, -2*pi, 3*pi)"
   ]
  },
  {
   "cell_type": "code",
   "execution_count": 51,
   "id": "0aa2b0c3-062d-41a9-86ac-595fb2c5735d",
   "metadata": {},
   "outputs": [
    {
     "data": {
      "image/svg+xml": [
       "<?xml version=\"1.0\" encoding=\"utf-8\"?>\n",
       "<svg xmlns=\"http://www.w3.org/2000/svg\" xmlns:xlink=\"http://www.w3.org/1999/xlink\" width=\"600\" height=\"400\" viewBox=\"0 0 2400 1600\">\n",
       "<defs>\n",
       "  <clipPath id=\"clip820\">\n",
       "    <rect x=\"0\" y=\"0\" width=\"2400\" height=\"1600\"/>\n",
       "  </clipPath>\n",
       "</defs>\n",
       "<path clip-path=\"url(#clip820)\" d=\"\n",
       "M0 1600 L2400 1600 L2400 0 L0 0  Z\n",
       "  \" fill=\"#ffffff\" fill-rule=\"evenodd\" fill-opacity=\"1\"/>\n",
       "<defs>\n",
       "  <clipPath id=\"clip821\">\n",
       "    <rect x=\"480\" y=\"0\" width=\"1681\" height=\"1600\"/>\n",
       "  </clipPath>\n",
       "</defs>\n",
       "<path clip-path=\"url(#clip820)\" d=\"\n",
       "M193.936 1486.45 L2352.76 1486.45 L2352.76 47.2441 L193.936 47.2441  Z\n",
       "  \" fill=\"#ffffff\" fill-rule=\"evenodd\" fill-opacity=\"1\"/>\n",
       "<defs>\n",
       "  <clipPath id=\"clip822\">\n",
       "    <rect x=\"193\" y=\"47\" width=\"2160\" height=\"1440\"/>\n",
       "  </clipPath>\n",
       "</defs>\n",
       "<polyline clip-path=\"url(#clip822)\" style=\"stroke:#000000; stroke-linecap:round; stroke-linejoin:round; stroke-width:2; stroke-opacity:0.1; fill:none\" points=\"\n",
       "  551.062,1486.45 551.062,47.2441 \n",
       "  \"/>\n",
       "<polyline clip-path=\"url(#clip822)\" style=\"stroke:#000000; stroke-linecap:round; stroke-linejoin:round; stroke-width:2; stroke-opacity:0.1; fill:none\" points=\"\n",
       "  1069.68,1486.45 1069.68,47.2441 \n",
       "  \"/>\n",
       "<polyline clip-path=\"url(#clip822)\" style=\"stroke:#000000; stroke-linecap:round; stroke-linejoin:round; stroke-width:2; stroke-opacity:0.1; fill:none\" points=\"\n",
       "  1588.31,1486.45 1588.31,47.2441 \n",
       "  \"/>\n",
       "<polyline clip-path=\"url(#clip822)\" style=\"stroke:#000000; stroke-linecap:round; stroke-linejoin:round; stroke-width:2; stroke-opacity:0.1; fill:none\" points=\"\n",
       "  2106.93,1486.45 2106.93,47.2441 \n",
       "  \"/>\n",
       "<polyline clip-path=\"url(#clip820)\" style=\"stroke:#000000; stroke-linecap:round; stroke-linejoin:round; stroke-width:4; stroke-opacity:1; fill:none\" points=\"\n",
       "  193.936,1486.45 2352.76,1486.45 \n",
       "  \"/>\n",
       "<polyline clip-path=\"url(#clip820)\" style=\"stroke:#000000; stroke-linecap:round; stroke-linejoin:round; stroke-width:4; stroke-opacity:1; fill:none\" points=\"\n",
       "  551.062,1486.45 551.062,1467.55 \n",
       "  \"/>\n",
       "<polyline clip-path=\"url(#clip820)\" style=\"stroke:#000000; stroke-linecap:round; stroke-linejoin:round; stroke-width:4; stroke-opacity:1; fill:none\" points=\"\n",
       "  1069.68,1486.45 1069.68,1467.55 \n",
       "  \"/>\n",
       "<polyline clip-path=\"url(#clip820)\" style=\"stroke:#000000; stroke-linecap:round; stroke-linejoin:round; stroke-width:4; stroke-opacity:1; fill:none\" points=\"\n",
       "  1588.31,1486.45 1588.31,1467.55 \n",
       "  \"/>\n",
       "<polyline clip-path=\"url(#clip820)\" style=\"stroke:#000000; stroke-linecap:round; stroke-linejoin:round; stroke-width:4; stroke-opacity:1; fill:none\" points=\"\n",
       "  2106.93,1486.45 2106.93,1467.55 \n",
       "  \"/>\n",
       "<path clip-path=\"url(#clip820)\" d=\"M521.004 1532.02 L550.68 1532.02 L550.68 1535.95 L521.004 1535.95 L521.004 1532.02 Z\" fill=\"#000000\" fill-rule=\"evenodd\" fill-opacity=\"1\" /><path clip-path=\"url(#clip820)\" d=\"M564.8 1544.91 L581.12 1544.91 L581.12 1548.85 L559.175 1548.85 L559.175 1544.91 Q561.837 1542.16 566.421 1537.53 Q571.027 1532.88 572.208 1531.53 Q574.453 1529.01 575.333 1527.27 Q576.235 1525.51 576.235 1523.82 Q576.235 1521.07 574.291 1519.33 Q572.37 1517.6 569.268 1517.6 Q567.069 1517.6 564.615 1518.36 Q562.185 1519.13 559.407 1520.68 L559.407 1515.95 Q562.231 1514.82 564.685 1514.24 Q567.138 1513.66 569.175 1513.66 Q574.546 1513.66 577.74 1516.35 Q580.935 1519.03 580.935 1523.52 Q580.935 1525.65 580.124 1527.57 Q579.337 1529.47 577.231 1532.07 Q576.652 1532.74 573.55 1535.95 Q570.448 1539.15 564.8 1544.91 Z\" fill=\"#000000\" fill-rule=\"evenodd\" fill-opacity=\"1\" /><path clip-path=\"url(#clip820)\" d=\"M1069.68 1517.37 Q1066.07 1517.37 1064.24 1520.93 Q1062.44 1524.47 1062.44 1531.6 Q1062.44 1538.71 1064.24 1542.27 Q1066.07 1545.82 1069.68 1545.82 Q1073.32 1545.82 1075.12 1542.27 Q1076.95 1538.71 1076.95 1531.6 Q1076.95 1524.47 1075.12 1520.93 Q1073.32 1517.37 1069.68 1517.37 M1069.68 1513.66 Q1075.49 1513.66 1078.55 1518.27 Q1081.63 1522.85 1081.63 1531.6 Q1081.63 1540.33 1078.55 1544.94 Q1075.49 1549.52 1069.68 1549.52 Q1063.87 1549.52 1060.79 1544.94 Q1057.74 1540.33 1057.74 1531.6 Q1057.74 1522.85 1060.79 1518.27 Q1063.87 1513.66 1069.68 1513.66 Z\" fill=\"#000000\" fill-rule=\"evenodd\" fill-opacity=\"1\" /><path clip-path=\"url(#clip820)\" d=\"M1582.96 1544.91 L1599.28 1544.91 L1599.28 1548.85 L1577.33 1548.85 L1577.33 1544.91 Q1580 1542.16 1584.58 1537.53 Q1589.18 1532.88 1590.37 1531.53 Q1592.61 1529.01 1593.49 1527.27 Q1594.39 1525.51 1594.39 1523.82 Q1594.39 1521.07 1592.45 1519.33 Q1590.53 1517.6 1587.43 1517.6 Q1585.23 1517.6 1582.77 1518.36 Q1580.34 1519.13 1577.56 1520.68 L1577.56 1515.95 Q1580.39 1514.82 1582.84 1514.24 Q1585.3 1513.66 1587.33 1513.66 Q1592.7 1513.66 1595.9 1516.35 Q1599.09 1519.03 1599.09 1523.52 Q1599.09 1525.65 1598.28 1527.57 Q1597.5 1529.47 1595.39 1532.07 Q1594.81 1532.74 1591.71 1535.95 Q1588.61 1539.15 1582.96 1544.91 Z\" fill=\"#000000\" fill-rule=\"evenodd\" fill-opacity=\"1\" /><path clip-path=\"url(#clip820)\" d=\"M2109.94 1518.36 L2098.13 1536.81 L2109.94 1536.81 L2109.94 1518.36 M2108.71 1514.29 L2114.59 1514.29 L2114.59 1536.81 L2119.52 1536.81 L2119.52 1540.7 L2114.59 1540.7 L2114.59 1548.85 L2109.94 1548.85 L2109.94 1540.7 L2094.33 1540.7 L2094.33 1536.19 L2108.71 1514.29 Z\" fill=\"#000000\" fill-rule=\"evenodd\" fill-opacity=\"1\" /><polyline clip-path=\"url(#clip822)\" style=\"stroke:#000000; stroke-linecap:round; stroke-linejoin:round; stroke-width:2; stroke-opacity:0.1; fill:none\" points=\"\n",
       "  193.936,1445.72 2352.76,1445.72 \n",
       "  \"/>\n",
       "<polyline clip-path=\"url(#clip822)\" style=\"stroke:#000000; stroke-linecap:round; stroke-linejoin:round; stroke-width:2; stroke-opacity:0.1; fill:none\" points=\"\n",
       "  193.936,1106.29 2352.76,1106.29 \n",
       "  \"/>\n",
       "<polyline clip-path=\"url(#clip822)\" style=\"stroke:#000000; stroke-linecap:round; stroke-linejoin:round; stroke-width:2; stroke-opacity:0.1; fill:none\" points=\"\n",
       "  193.936,766.849 2352.76,766.849 \n",
       "  \"/>\n",
       "<polyline clip-path=\"url(#clip822)\" style=\"stroke:#000000; stroke-linecap:round; stroke-linejoin:round; stroke-width:2; stroke-opacity:0.1; fill:none\" points=\"\n",
       "  193.936,427.412 2352.76,427.412 \n",
       "  \"/>\n",
       "<polyline clip-path=\"url(#clip822)\" style=\"stroke:#000000; stroke-linecap:round; stroke-linejoin:round; stroke-width:2; stroke-opacity:0.1; fill:none\" points=\"\n",
       "  193.936,87.9756 2352.76,87.9756 \n",
       "  \"/>\n",
       "<polyline clip-path=\"url(#clip820)\" style=\"stroke:#000000; stroke-linecap:round; stroke-linejoin:round; stroke-width:4; stroke-opacity:1; fill:none\" points=\"\n",
       "  193.936,1486.45 193.936,47.2441 \n",
       "  \"/>\n",
       "<polyline clip-path=\"url(#clip820)\" style=\"stroke:#000000; stroke-linecap:round; stroke-linejoin:round; stroke-width:4; stroke-opacity:1; fill:none\" points=\"\n",
       "  193.936,1445.72 212.834,1445.72 \n",
       "  \"/>\n",
       "<polyline clip-path=\"url(#clip820)\" style=\"stroke:#000000; stroke-linecap:round; stroke-linejoin:round; stroke-width:4; stroke-opacity:1; fill:none\" points=\"\n",
       "  193.936,1106.29 212.834,1106.29 \n",
       "  \"/>\n",
       "<polyline clip-path=\"url(#clip820)\" style=\"stroke:#000000; stroke-linecap:round; stroke-linejoin:round; stroke-width:4; stroke-opacity:1; fill:none\" points=\"\n",
       "  193.936,766.849 212.834,766.849 \n",
       "  \"/>\n",
       "<polyline clip-path=\"url(#clip820)\" style=\"stroke:#000000; stroke-linecap:round; stroke-linejoin:round; stroke-width:4; stroke-opacity:1; fill:none\" points=\"\n",
       "  193.936,427.412 212.834,427.412 \n",
       "  \"/>\n",
       "<polyline clip-path=\"url(#clip820)\" style=\"stroke:#000000; stroke-linecap:round; stroke-linejoin:round; stroke-width:4; stroke-opacity:1; fill:none\" points=\"\n",
       "  193.936,87.9756 212.834,87.9756 \n",
       "  \"/>\n",
       "<path clip-path=\"url(#clip820)\" d=\"M50.9921 1446.17 L80.6679 1446.17 L80.6679 1450.11 L50.9921 1450.11 L50.9921 1446.17 Z\" fill=\"#000000\" fill-rule=\"evenodd\" fill-opacity=\"1\" /><path clip-path=\"url(#clip820)\" d=\"M91.5706 1459.07 L99.2095 1459.07 L99.2095 1432.7 L90.8993 1434.37 L90.8993 1430.11 L99.1632 1428.44 L103.839 1428.44 L103.839 1459.07 L111.478 1459.07 L111.478 1463 L91.5706 1463 L91.5706 1459.07 Z\" fill=\"#000000\" fill-rule=\"evenodd\" fill-opacity=\"1\" /><path clip-path=\"url(#clip820)\" d=\"M120.922 1457.12 L125.807 1457.12 L125.807 1463 L120.922 1463 L120.922 1457.12 Z\" fill=\"#000000\" fill-rule=\"evenodd\" fill-opacity=\"1\" /><path clip-path=\"url(#clip820)\" d=\"M145.992 1431.52 Q142.381 1431.52 140.552 1435.09 Q138.746 1438.63 138.746 1445.76 Q138.746 1452.86 140.552 1456.43 Q142.381 1459.97 145.992 1459.97 Q149.626 1459.97 151.431 1456.43 Q153.26 1452.86 153.26 1445.76 Q153.26 1438.63 151.431 1435.09 Q149.626 1431.52 145.992 1431.52 M145.992 1427.82 Q151.802 1427.82 154.857 1432.42 Q157.936 1437.01 157.936 1445.76 Q157.936 1454.48 154.857 1459.09 Q151.802 1463.67 145.992 1463.67 Q140.181 1463.67 137.103 1459.09 Q134.047 1454.48 134.047 1445.76 Q134.047 1437.01 137.103 1432.42 Q140.181 1427.82 145.992 1427.82 Z\" fill=\"#000000\" fill-rule=\"evenodd\" fill-opacity=\"1\" /><path clip-path=\"url(#clip820)\" d=\"M51.9875 1106.74 L81.6633 1106.74 L81.6633 1110.67 L51.9875 1110.67 L51.9875 1106.74 Z\" fill=\"#000000\" fill-rule=\"evenodd\" fill-opacity=\"1\" /><path clip-path=\"url(#clip820)\" d=\"M101.756 1092.08 Q98.1447 1092.08 96.316 1095.65 Q94.5104 1099.19 94.5104 1106.32 Q94.5104 1113.43 96.316 1116.99 Q98.1447 1120.53 101.756 1120.53 Q105.39 1120.53 107.196 1116.99 Q109.024 1113.43 109.024 1106.32 Q109.024 1099.19 107.196 1095.65 Q105.39 1092.08 101.756 1092.08 M101.756 1088.38 Q107.566 1088.38 110.621 1092.99 Q113.7 1097.57 113.7 1106.32 Q113.7 1115.05 110.621 1119.65 Q107.566 1124.24 101.756 1124.24 Q95.9456 1124.24 92.8669 1119.65 Q89.8114 1115.05 89.8114 1106.32 Q89.8114 1097.57 92.8669 1092.99 Q95.9456 1088.38 101.756 1088.38 Z\" fill=\"#000000\" fill-rule=\"evenodd\" fill-opacity=\"1\" /><path clip-path=\"url(#clip820)\" d=\"M121.918 1117.69 L126.802 1117.69 L126.802 1123.57 L121.918 1123.57 L121.918 1117.69 Z\" fill=\"#000000\" fill-rule=\"evenodd\" fill-opacity=\"1\" /><path clip-path=\"url(#clip820)\" d=\"M137.033 1089.01 L155.39 1089.01 L155.39 1092.94 L141.316 1092.94 L141.316 1101.41 Q142.334 1101.07 143.353 1100.9 Q144.371 1100.72 145.39 1100.72 Q151.177 1100.72 154.556 1103.89 Q157.936 1107.06 157.936 1112.48 Q157.936 1118.06 154.464 1121.16 Q150.992 1124.24 144.672 1124.24 Q142.496 1124.24 140.228 1123.87 Q137.982 1123.5 135.575 1122.76 L135.575 1118.06 Q137.658 1119.19 139.881 1119.75 Q142.103 1120.3 144.58 1120.3 Q148.584 1120.3 150.922 1118.2 Q153.26 1116.09 153.26 1112.48 Q153.26 1108.87 150.922 1106.76 Q148.584 1104.65 144.58 1104.65 Q142.705 1104.65 140.83 1105.07 Q138.978 1105.49 137.033 1106.37 L137.033 1089.01 Z\" fill=\"#000000\" fill-rule=\"evenodd\" fill-opacity=\"1\" /><path clip-path=\"url(#clip820)\" d=\"M100.76 752.648 Q97.1493 752.648 95.3206 756.213 Q93.515 759.754 93.515 766.884 Q93.515 773.99 95.3206 777.555 Q97.1493 781.097 100.76 781.097 Q104.395 781.097 106.2 777.555 Q108.029 773.99 108.029 766.884 Q108.029 759.754 106.2 756.213 Q104.395 752.648 100.76 752.648 M100.76 748.944 Q106.571 748.944 109.626 753.551 Q112.705 758.134 112.705 766.884 Q112.705 775.611 109.626 780.217 Q106.571 784.8 100.76 784.8 Q94.9502 784.8 91.8715 780.217 Q88.816 775.611 88.816 766.884 Q88.816 758.134 91.8715 753.551 Q94.9502 748.944 100.76 748.944 Z\" fill=\"#000000\" fill-rule=\"evenodd\" fill-opacity=\"1\" /><path clip-path=\"url(#clip820)\" d=\"M120.922 778.25 L125.807 778.25 L125.807 784.129 L120.922 784.129 L120.922 778.25 Z\" fill=\"#000000\" fill-rule=\"evenodd\" fill-opacity=\"1\" /><path clip-path=\"url(#clip820)\" d=\"M145.992 752.648 Q142.381 752.648 140.552 756.213 Q138.746 759.754 138.746 766.884 Q138.746 773.99 140.552 777.555 Q142.381 781.097 145.992 781.097 Q149.626 781.097 151.431 777.555 Q153.26 773.99 153.26 766.884 Q153.26 759.754 151.431 756.213 Q149.626 752.648 145.992 752.648 M145.992 748.944 Q151.802 748.944 154.857 753.551 Q157.936 758.134 157.936 766.884 Q157.936 775.611 154.857 780.217 Q151.802 784.8 145.992 784.8 Q140.181 784.8 137.103 780.217 Q134.047 775.611 134.047 766.884 Q134.047 758.134 137.103 753.551 Q140.181 748.944 145.992 748.944 Z\" fill=\"#000000\" fill-rule=\"evenodd\" fill-opacity=\"1\" /><path clip-path=\"url(#clip820)\" d=\"M101.756 413.211 Q98.1447 413.211 96.316 416.776 Q94.5104 420.318 94.5104 427.447 Q94.5104 434.554 96.316 438.118 Q98.1447 441.66 101.756 441.66 Q105.39 441.66 107.196 438.118 Q109.024 434.554 109.024 427.447 Q109.024 420.318 107.196 416.776 Q105.39 413.211 101.756 413.211 M101.756 409.507 Q107.566 409.507 110.621 414.114 Q113.7 418.697 113.7 427.447 Q113.7 436.174 110.621 440.78 Q107.566 445.364 101.756 445.364 Q95.9456 445.364 92.8669 440.78 Q89.8114 436.174 89.8114 427.447 Q89.8114 418.697 92.8669 414.114 Q95.9456 409.507 101.756 409.507 Z\" fill=\"#000000\" fill-rule=\"evenodd\" fill-opacity=\"1\" /><path clip-path=\"url(#clip820)\" d=\"M121.918 438.813 L126.802 438.813 L126.802 444.692 L121.918 444.692 L121.918 438.813 Z\" fill=\"#000000\" fill-rule=\"evenodd\" fill-opacity=\"1\" /><path clip-path=\"url(#clip820)\" d=\"M137.033 410.132 L155.39 410.132 L155.39 414.068 L141.316 414.068 L141.316 422.54 Q142.334 422.193 143.353 422.03 Q144.371 421.845 145.39 421.845 Q151.177 421.845 154.556 425.017 Q157.936 428.188 157.936 433.605 Q157.936 439.183 154.464 442.285 Q150.992 445.364 144.672 445.364 Q142.496 445.364 140.228 444.993 Q137.982 444.623 135.575 443.882 L135.575 439.183 Q137.658 440.317 139.881 440.873 Q142.103 441.429 144.58 441.429 Q148.584 441.429 150.922 439.322 Q153.26 437.216 153.26 433.605 Q153.26 429.993 150.922 427.887 Q148.584 425.78 144.58 425.78 Q142.705 425.78 140.83 426.197 Q138.978 426.614 137.033 427.493 L137.033 410.132 Z\" fill=\"#000000\" fill-rule=\"evenodd\" fill-opacity=\"1\" /><path clip-path=\"url(#clip820)\" d=\"M91.5706 101.32 L99.2095 101.32 L99.2095 74.9549 L90.8993 76.6215 L90.8993 72.3623 L99.1632 70.6956 L103.839 70.6956 L103.839 101.32 L111.478 101.32 L111.478 105.256 L91.5706 105.256 L91.5706 101.32 Z\" fill=\"#000000\" fill-rule=\"evenodd\" fill-opacity=\"1\" /><path clip-path=\"url(#clip820)\" d=\"M120.922 99.376 L125.807 99.376 L125.807 105.256 L120.922 105.256 L120.922 99.376 Z\" fill=\"#000000\" fill-rule=\"evenodd\" fill-opacity=\"1\" /><path clip-path=\"url(#clip820)\" d=\"M145.992 73.7743 Q142.381 73.7743 140.552 77.3391 Q138.746 80.8808 138.746 88.0104 Q138.746 95.1168 140.552 98.6816 Q142.381 102.223 145.992 102.223 Q149.626 102.223 151.431 98.6816 Q153.26 95.1168 153.26 88.0104 Q153.26 80.8808 151.431 77.3391 Q149.626 73.7743 145.992 73.7743 M145.992 70.0706 Q151.802 70.0706 154.857 74.6771 Q157.936 79.2604 157.936 88.0104 Q157.936 96.7372 154.857 101.344 Q151.802 105.927 145.992 105.927 Q140.181 105.927 137.103 101.344 Q134.047 96.7372 134.047 88.0104 Q134.047 79.2604 137.103 74.6771 Q140.181 70.0706 145.992 70.0706 Z\" fill=\"#000000\" fill-rule=\"evenodd\" fill-opacity=\"1\" /><polyline clip-path=\"url(#clip822)\" style=\"stroke:#009af9; stroke-linecap:round; stroke-linejoin:round; stroke-width:4; stroke-opacity:1; fill:none\" points=\"\n",
       "  255.035,737.522 261.664,736.763 268.294,735.984 329.596,727.761 390.898,717.353 427.737,709.814 464.577,701.133 495.725,692.777 526.872,683.368 560.707,671.805 \n",
       "  594.542,658.665 625.735,644.978 656.928,629.603 690.37,611.029 723.812,590.048 762.558,562.385 801.304,530.729 818.52,515.28 835.737,498.935 852.953,481.67 \n",
       "  870.17,463.465 885.267,446.717 900.364,429.234 915.461,411.024 930.558,392.1 963.478,348.512 996.398,302.214 1029.51,253.926 1062.63,205.644 1080.94,179.896 \n",
       "  1099.24,155.575 1117.55,133.444 1135.86,114.431 1144.57,106.794 1153.28,100.245 1161.98,94.9304 1170.69,91.0048 1179.4,88.635 1188.11,87.9977 1196.82,89.2799 \n",
       "  1205.53,92.6779 1210.06,95.3482 1214.59,98.6752 1219.11,102.689 1223.64,107.42 1232.7,119.159 1241.75,134.14 1246.28,142.924 1250.81,152.612 1255.34,163.234 \n",
       "  1259.86,174.821 1264.39,187.401 1268.92,201.002 1273.45,215.652 1277.98,231.376 1285.6,260.339 1293.22,292.514 1300.84,327.978 1308.47,366.787 1316.09,408.964 \n",
       "  1323.71,454.495 1327.52,478.503 1331.34,503.324 1335.15,528.945 1338.96,555.345 1343.61,588.602 1348.27,622.94 1352.92,658.299 1357.57,694.612 1366.88,769.765 \n",
       "  1376.19,847.614 1385.49,927.169 1394.8,1007.22 1404.11,1086.31 1413.41,1162.76 1417.67,1196.37 1421.94,1228.83 1426.2,1259.92 1430.46,1289.43 1434.73,1317.12 \n",
       "  1438.99,1342.77 1443.25,1366.13 1447.51,1386.97 1449.65,1396.37 1451.78,1405.05 1453.91,1412.97 1456.04,1420.11 1458.17,1426.43 1460.3,1431.91 1462.43,1436.52 \n",
       "  1464.57,1440.23 1466.7,1443.01 1468.83,1444.83 1470.96,1445.67 1473.09,1445.49 1475.22,1444.29 1477.35,1442.02 1479.48,1438.67 1481.62,1434.22 1483.58,1429.12 \n",
       "  1485.55,1423.04 1487.52,1415.97 1489.49,1407.92 1491.46,1398.85 1493.43,1388.77 1495.4,1377.67 1497.36,1365.55 1499.33,1352.39 1501.3,1338.2 1503.27,1322.98 \n",
       "  1505.24,1306.74 1507.21,1289.47 1509.17,1271.18 1511.14,1251.9 1513.11,1231.62 1517.05,1188.15 1520.99,1140.94 1524.92,1090.18 1528.86,1036.14 1532.8,979.118 \n",
       "  1536.73,919.471 1540.67,857.614 1544.61,794.018 1552.58,662.055 1560.56,530.185 1564.55,466.08 1568.54,404.241 1570.53,374.429 1572.52,345.496 1574.52,317.548 \n",
       "  1576.51,290.693 1578.51,265.04 1580.5,240.697 1582.49,217.772 1584.49,196.37 1586.48,176.599 1588.48,158.56 1590.47,142.356 1592.46,128.085 1594.46,115.84 \n",
       "  1596.45,105.713 1598.45,97.789 1600.44,92.1478 1602.43,88.8636 1604.43,88.0036 1606.42,89.6276 1608.42,93.7874 1609.53,97.2433 1610.65,101.515 1611.77,106.609 \n",
       "  1612.89,112.528 1615.12,126.855 1617.36,144.511 1619.59,165.488 1621.82,189.763 1622.94,203.123 1624.06,217.289 1625.18,232.252 1626.29,248.001 1628.53,281.81 \n",
       "  1630.76,318.603 1633,358.245 1635.23,400.578 1637.47,445.417 1639.7,492.556 1641.94,541.761 1644.17,592.777 1648.64,699.099 1653.11,809.015 1657.58,919.689 \n",
       "  1662.05,1028.01 1664.28,1080.26 1666.52,1130.68 1668.75,1178.81 1670.99,1224.25 1672.11,1245.82 1673.22,1266.56 1674.34,1286.4 1675.46,1305.31 1676.58,1323.23 \n",
       "  1677.69,1340.11 1678.81,1355.9 1679.93,1370.56 1680.94,1382.82 1681.95,1394.09 1682.97,1404.32 1683.98,1413.48 1684.99,1421.56 1686,1428.51 1687.02,1434.32 \n",
       "  1688.03,1438.97 1689.04,1442.42 1690.05,1444.65 1691.07,1445.66 1692.08,1445.42 1693.09,1443.93 1694.1,1441.15 1695.12,1437.1 1696.13,1431.75 1697.14,1425.12 \n",
       "  1698.15,1417.18 1699.17,1407.95 1700.18,1397.42 1701.19,1385.61 1702.2,1372.52 1703.22,1358.16 1704.23,1342.55 1705.24,1325.71 1706.25,1307.65 1707.27,1288.4 \n",
       "  1708.28,1267.98 1709.29,1246.44 1710.3,1223.79 1711.32,1200.07 1712.33,1175.33 1714.35,1122.95 1716.38,1067.01 1718.4,1007.94 1720.43,946.219 1722.45,882.351 \n",
       "  1724.48,816.899 1726.5,750.457 1728.53,683.655 1730.55,617.15 1732.58,551.624 1734.6,487.772 1736.63,426.303 1737.64,396.683 1738.65,367.923 1739.67,340.112 \n",
       "  1740.68,313.336 1741.69,287.68 1742.7,263.228 1743.72,240.062 1744.73,218.262 1745.31,206.427 1745.89,195.079 1746.47,184.232 1747.05,173.9 1748.21,154.831 \n",
       "  1749.37,137.974 1750.53,123.423 1751.68,111.265 1752.84,101.579 1754,94.4373 1755.16,89.9023 1756.32,88.0274 1757.48,88.856 1758.64,92.4212 1759.22,95.2373 \n",
       "  1759.8,98.7452 1760.38,102.946 1760.96,107.839 1761.54,113.425 1762.12,119.702 1762.7,126.669 1763.28,134.322 1764.44,151.673 1765.6,171.718 1766.75,194.407 \n",
       "  1767.91,219.676 1769.07,247.447 1770.23,277.633 1771.39,310.129 1772.55,344.82 1773.71,381.577 1774.87,420.259 1776.03,460.711 1777.19,502.767 1778.35,546.251 \n",
       "  1779.51,590.974 1780.67,636.737 1781.83,683.332 1784.14,778.14 1786.46,873.57 1788.78,967.698 1791.1,1058.54 1792.26,1102.1 1793.42,1144.09 1794.58,1184.26 \n",
       "  1795.74,1222.37 1796.9,1258.19 1798.05,1291.48 1799.21,1322.03 1800.37,1349.63 1800.95,1362.26 1801.53,1374.08 1802.11,1385.07 1802.69,1395.21 1803.27,1404.47 \n",
       "  1803.85,1412.84 1804.43,1420.3 1805.01,1426.82 1805.59,1432.41 1806.17,1437.04 1806.75,1440.69 1807.33,1443.36 1807.91,1445.04 1808.49,1445.71 1809.07,1445.37 \n",
       "  1809.65,1444.01 1810.23,1441.63 1810.81,1438.23 1811.39,1433.8 1811.97,1428.34 1812.55,1421.85 1813.13,1414.34 1813.7,1405.81 1814.28,1396.27 1814.86,1385.73 \n",
       "  1815.44,1374.2 1816.02,1361.68 1816.6,1348.19 1817.18,1333.75 1817.76,1318.38 1818.34,1302.08 1818.92,1284.89 1819.99,1250.75 1821.07,1213.77 1822.14,1174.11 \n",
       "  1823.21,1131.97 1824.29,1087.57 1825.36,1041.12 1826.44,992.883 1827.51,943.117 1829.66,840.122 1831.8,734.511 1833.95,628.821 1836.1,525.702 1837.17,475.949 \n",
       "  1838.24,427.847 1839.32,381.729 1840.39,337.921 1841.46,296.74 1842.54,258.493 1843.61,223.471 1844.68,191.951 1845.22,177.586 1845.76,164.192 1846.29,151.798 \n",
       "  1846.83,140.431 1847.37,130.117 1847.9,120.881 1848.44,112.746 1848.98,105.732 1849.51,99.86 1850.05,95.146 1850.59,91.606 1851.12,89.2537 1851.66,88.1007 \n",
       "  1852.2,88.1564 1852.73,89.4283 1853.27,91.9217 1853.81,95.6396 1854.34,100.583 1854.88,106.75 1855.42,114.138 1855.95,122.74 1856.49,132.547 1857.03,143.55 \n",
       "  1857.56,155.735 1858.1,169.086 1858.64,183.586 1859.17,199.215 1859.71,215.948 1860.25,233.763 1860.78,252.631 1861.32,272.522 1861.86,293.405 1862.93,338.005 \n",
       "  1864,386.131 1865.08,437.447 1866.15,491.583 1867.22,548.142 1868.3,606.695 1869.37,666.791 1870.44,727.955 1872.59,851.496 1874.74,973.211 1875.81,1032.07 \n",
       "  1876.88,1088.88 1877.96,1143.14 1879.03,1194.34 1879.57,1218.63 1880.1,1241.97 1880.64,1264.3 1881.18,1285.58 1881.71,1305.73 1882.25,1324.71 1882.79,1342.47 \n",
       "  1883.32,1358.96 1883.86,1374.14 1884.4,1387.96 1884.93,1400.38 1885.47,1411.37 1886.01,1420.89 1886.54,1428.9 1887.08,1435.39 1887.62,1440.32 1888.15,1443.64 \n",
       "  1888.68,1445.41 1889.2,1445.62 1889.73,1444.25 1890.26,1441.31 1890.79,1436.79 1891.32,1430.69 1891.85,1423.01 1892.38,1413.76 1892.91,1402.96 1893.44,1390.62 \n",
       "  1893.97,1376.76 1894.5,1361.41 1895.02,1344.59 1895.55,1326.34 1896.08,1306.69 1896.61,1285.68 1897.14,1263.36 1897.67,1239.76 1898.2,1214.95 1898.73,1188.98 \n",
       "  1899.26,1161.9 1899.79,1133.77 1900.32,1104.67 1901.37,1043.79 1902.43,979.851 1903.49,913.462 1904.55,845.284 1905.61,776.011 1906.67,706.359 1907.72,637.064 \n",
       "  1908.78,568.875 1909.84,502.543 1910.9,438.813 1911.43,408.154 1911.96,378.418 1912.49,349.694 1913.01,322.069 1913.54,295.624 1914.07,270.443 1914.6,246.604 \n",
       "  1915.13,224.182 1915.66,203.25 1916.19,183.876 1916.72,166.126 1917.25,150.06 1917.78,135.736 1918.31,123.204 1918.83,112.514 1919.36,103.707 1919.89,96.8198 \n",
       "  1920.42,91.8857 1920.95,88.9309 1921.48,87.9763 1922.01,89.0369 1922.54,92.122 1923.07,97.2348 1923.6,104.372 1924.13,113.525 1924.65,124.678 1925.18,137.809 \n",
       "  1925.71,152.89 1926.24,169.887 1926.77,188.759 1927.3,209.458 1927.83,231.932 1928.36,256.122 1928.89,281.96 1929.42,309.377 1929.95,338.295 1930.48,368.632 \n",
       "  1931,400.298 1931.53,433.202 1932.06,467.243 1933.12,538.326 1934.18,612.669 1935.24,689.337 1936.3,767.341 1937.35,845.657 1938.41,923.232 1939.47,999.005 \n",
       "  1940.53,1071.92 1941.06,1106.97 1941.59,1140.92 1942.12,1173.65 1942.64,1205.02 1943.17,1234.92 1943.7,1263.24 1944.23,1289.87 1944.76,1314.7 1945.29,1337.63 \n",
       "  1945.82,1358.58 1946.35,1377.44 1946.88,1394.14 1947.41,1408.61 1947.94,1420.78 1948.46,1430.6 1948.99,1438 1949.52,1442.96 1950.05,1445.43 1950.58,1445.39 \n",
       "  1951.11,1442.83 1951.64,1437.74 1952.17,1430.12 1952.7,1419.99 1953.23,1407.37 1953.76,1392.3 1954.29,1374.81 1954.81,1354.95 1955.34,1332.8 1955.86,1309.16 \n",
       "  1956.37,1283.49 1956.88,1255.88 1957.4,1226.41 1957.91,1195.19 1958.43,1162.31 1958.94,1127.9 1959.45,1092.07 1959.97,1054.95 1960.48,1016.67 1960.99,977.363 \n",
       "  1961.51,937.183 1962.54,854.787 1963.56,770.714 1964.59,686.248 1965.62,602.708 1966.65,521.423 1967.67,443.713 1968.19,406.602 1968.7,370.865 1969.21,336.653 \n",
       "  1969.73,304.114 1970.24,273.391 1970.75,244.621 1971.27,217.932 1971.78,193.448 1972.3,171.282 1972.81,151.541 1973.32,134.321 1973.84,119.71 1974.35,107.784 \n",
       "  1974.86,98.6091 1975.38,92.2414 1975.89,88.7243 1976.41,88.09 1976.92,90.3581 1977.43,95.5363 1977.95,103.62 1978.46,114.59 1978.97,128.417 1979.49,145.058 \n",
       "  1980,164.456 1980.52,186.541 1981.03,211.233 1981.54,238.437 1982.06,268.046 1982.57,299.944 1983.08,333.999 1983.6,370.071 1984.11,408.009 1984.63,447.651 \n",
       "  1985.14,488.827 1985.65,531.356 1986.17,575.051 1987.19,665.154 1988.22,757.504 1989.25,850.392 1990.28,942.07 1990.79,986.902 1991.3,1030.77 1991.82,1073.46 \n",
       "  1992.33,1114.76 1992.84,1154.46 1993.36,1192.35 1993.87,1228.24 1994.39,1261.95 1994.9,1293.29 1995.41,1322.09 1995.93,1348.2 1996.44,1371.47 1996.95,1391.77 \n",
       "  1997.47,1408.98 1997.98,1422.99 1998.5,1433.71 1999.01,1441.07 1999.52,1445.01 2000.04,1445.5 2000.55,1442.5 2001.06,1436.01 2001.58,1426.04 2002.09,1412.64 \n",
       "  2002.61,1395.84 2003.12,1375.71 2003.63,1352.34 2004.15,1325.84 2004.66,1296.32 2005.17,1263.93 2005.69,1228.81 2006.2,1191.16 2006.72,1151.14 2007.23,1108.97 \n",
       "  2007.74,1064.85 2008.26,1019.03 2008.77,971.737 2009.8,873.756 2010.83,773.024 2011.85,671.756 2012.88,572.228 2013.39,523.829 2013.91,476.717 2014.42,431.169 \n",
       "  2014.93,387.457 2015.45,345.842 2015.96,306.578 2016.48,269.908 2016.99,236.061 2017.5,205.252 2018.02,177.68 2018.53,153.527 2019.04,132.957 2019.56,116.114 \n",
       "  2020.07,103.12 2020.59,94.0764 2021.1,89.0611 2021.63,88.1577 2022.15,91.5766 2022.68,99.322 2023.21,111.371 2023.73,127.671 2024.26,148.144 2024.79,172.68 \n",
       "  2025.31,201.145 2025.84,233.376 2026.37,269.184 2026.89,308.352 2027.42,350.642 2027.95,395.791 2028.47,443.513 2029,493.504 2029.53,545.44 2030.58,653.77 \n",
       "  2031.63,765.622 2032.69,877.959 2033.74,987.668 2034.27,1040.56 2034.79,1091.65 2035.32,1140.54 2035.85,1186.89 2036.37,1230.34 2036.9,1270.58 2037.43,1307.29 \n",
       "  2037.95,1340.18 2038.48,1369 2039.01,1393.5 2039.53,1413.49 2040.06,1428.79 2040.58,1439.27 2041.11,1444.8 2041.64,1445.33 2042.16,1440.81 2042.69,1431.26 \n",
       "  2043.22,1416.71 2043.74,1397.23 2044.27,1372.96 2044.8,1344.03 2045.32,1310.66 2045.85,1273.05 2046.38,1231.48 2046.9,1186.25 2047.43,1137.68 2047.96,1086.12 \n",
       "  2048.48,1031.97 2049.01,975.634 2049.54,917.538 2050.06,858.135 2050.59,797.887 2051.64,676.766 2052.7,558.048 2053.22,500.804 2053.75,445.606 2054.28,392.918 \n",
       "  2054.8,343.188 2055.33,296.842 2055.86,254.285 2056.38,215.893 2056.91,182.013 2057.44,152.954 2057.96,128.99 2058.49,110.356 2059.02,97.2408 2059.54,89.7902 \n",
       "  2060.07,88.1024 2060.6,92.227 2061.12,102.164 2061.65,117.863 2062.18,139.223 2062.7,166.091 2063.23,198.268 2063.76,235.501 2064.28,277.495 2064.81,323.904 \n",
       "  2065.34,374.345 2065.86,428.39 2066.39,485.577 2066.92,545.41 2067.44,607.365 2068.5,735.421 2069.55,865.14 2070.08,929.137 2070.6,991.761 2071.13,1052.42 \n",
       "  2071.66,1110.54 2072.18,1165.56 2072.71,1216.94 2073.24,1264.17 2073.76,1306.78 2074.29,1344.33 2074.82,1376.44 2075.34,1402.77 2075.87,1423.02 2076.4,1436.95 \n",
       "  2076.92,1444.41 2077.45,1445.27 2077.98,1439.48 2078.5,1427.07 2079.03,1408.11 2079.56,1382.75 2080.08,1351.21 2080.61,1313.77 2081.14,1270.75 2081.66,1222.58 \n",
       "  2082.19,1169.69 2082.72,1112.6 2083.24,1051.87 2083.77,988.094 2084.3,921.916 2084.82,854.001 2085.35,785.046 2085.88,715.761 2086.4,646.87 2086.93,579.099 \n",
       "  2087.46,513.17 2087.98,449.791 2088.51,389.652 2089.09,328.266 2089.66,272.385 2090.24,222.768 2090.82,180.101 2091.39,144.987 2091.97,117.937 2092.55,99.3608 \n",
       "  2093.12,89.5603 2093.7,88.7245 2094.28,96.9244 2094.86,114.11 2095.43,140.111 2096.01,174.635 2096.59,217.269 2097.16,267.487 2097.74,324.651 2098.32,388.022 \n",
       "  2098.89,456.764 2099.47,529.96 2100.05,606.619 2100.62,685.691 2101.2,766.078 2101.78,846.655 2102.36,926.279 2102.93,1003.81 2103.51,1078.12 2104.09,1148.12 \n",
       "  2104.66,1212.77 2105.24,1271.1 2105.82,1322.21 2106.39,1365.31 2106.97,1399.71 2107.55,1424.84 2108.13,1440.28 2108.7,1445.72 2109.28,1441.01 2109.86,1426.16 \n",
       "  2110.43,1401.33 2111.01,1366.83 2111.59,1323.11 2112.16,1270.79 2112.74,1210.6 2113.32,1143.44 2113.9,1070.29 2114.47,992.252 2115.05,910.517 2115.63,826.343 \n",
       "  2116.2,741.044 2116.78,655.965 2117.36,572.463 2117.93,491.885 2118.51,415.544 2119.09,344.703 2119.67,280.545 2120.24,224.162 2120.82,176.527 2121.4,138.482 \n",
       "  2121.97,110.718 2122.55,93.7645 2123.13,87.9764 2123.7,93.5249 2124.28,110.392 2124.86,138.37 2125.44,177.057 2126.01,225.867 2126.59,284.033 2127.17,350.617 \n",
       "  2127.74,424.526 2128.32,504.53 2128.9,589.275 2129.47,677.312 2130.05,767.115 2130.63,857.113 2131.21,945.71 2131.78,1031.32 2132.36,1112.4 2132.94,1187.45 \n",
       "  2133.51,1255.09 2134.09,1314.03 2134.67,1363.15 2135.24,1401.48 2135.82,1428.25 2136.4,1442.89 2136.98,1445.04 2137.55,1434.58 2138.13,1411.63 2138.71,1376.52 \n",
       "  2139.28,1329.84 2139.86,1272.41 2140.44,1205.23 2141.01,1129.52 2141.59,1046.7 2142.17,958.292 2142.74,865.985 2143.32,771.547 2143.9,676.808 2144.48,583.626 \n",
       "  2145.05,493.847 2145.63,409.274 2146.21,331.623 2146.78,262.491 2147.36,203.323 2147.94,155.378 2148.51,119.702 2149.09,97.1013 2149.67,88.1261 2150.25,93.0511 \n",
       "  2150.82,111.868 2151.4,144.279 2151.98,189.701 2152.55,247.273 2153.13,315.868 2153.71,394.113 2154.28,480.418 2154.86,573 2155.44,669.925 2156.02,769.143 \n",
       "  2156.59,868.531 2157.17,965.938 2157.75,1059.24 2158.32,1146.36 2158.9,1225.35 2159.48,1294.43 2160.05,1351.98 2160.63,1396.67 2161.21,1427.4 2161.79,1443.39 \n",
       "  2162.36,1444.18 2163.2,1418.1 2164.04,1360.71 2164.88,1274.47 2165.71,1163.3 2166.55,1032.39 2167.39,888.002 2168.23,737.153 2169.07,587.304 2169.91,445.985 \n",
       "  2170.74,320.416 2171.58,217.132 2172.42,141.633 2173.26,98.075 2174.1,89.0239 2174.93,115.285 2175.77,175.821 2176.61,267.764 2177.45,386.529 2178.29,526.018 \n",
       "  2179.13,678.918 2179.96,837.068 2180.8,991.892 2181.64,1134.85 2182.48,1257.94 2183.32,1354.11 2184.15,1417.72 2184.99,1444.87 2185.83,1433.67 2186.67,1384.39 \n",
       "  2187.51,1299.5 2188.35,1183.55 2189.18,1042.99 2190.02,885.828 2190.86,721.153 2191.7,558.665 2192.54,408.086 2193.37,278.58 2194.21,178.181 2195.05,113.281 \n",
       "  2195.89,88.198 2196.73,104.862 2197.57,162.642 2198.4,258.327 2199.24,386.266 2200.08,538.678 2200.92,706.095 2201.76,877.934 2202.59,1043.16 2203.43,1190.97 \n",
       "  2204.27,1311.56 2205.11,1396.73 2205.95,1440.5 2206.79,1439.56 2207.62,1393.54 2208.46,1305.12 2209.3,1179.88 2210.14,1026.03 2210.98,853.877 2211.81,675.156 \n",
       "  2212.65,502.257 2213.49,347.355 2214.33,221.555 2215.17,134.071 2216,91.5248 2216.84,97.4089 2217.68,151.764 2218.52,251.095 2219.36,388.552 2220.2,554.356 \n",
       "  2221.03,736.463 2221.87,921.415 2222.71,1095.33 2223.55,1244.92 2224.39,1358.55 2225.22,1427.17 2226.06,1445.05 2226.9,1410.3 2227.74,1325.13 2228.58,1195.78 \n",
       "  2229.42,1032.05 2230.25,846.667 2231.09,654.299 2231.93,470.411 2232.77,310.03 2233.61,186.498 2234.44,110.338 2235.28,88.3158 2236.12,122.787 2236.96,211.402 \n",
       "  2237.8,347.197 2238.64,519.081 2239.47,712.697 2240.31,911.583 2241.15,1098.56 2241.99,1257.19 2242.83,1373.3 2243.66,1436.21 2244.5,1439.82 2245.34,1383.25 \n",
       "  2246.18,1270.99 2247.02,1112.7 2247.86,922.38 2248.69,717.183 2249.53,515.93 2250.37,337.374 2251.21,198.442 2252.05,112.601 2252.88,88.4964 2253.72,129.02 \n",
       "  2254.56,230.901 2255.4,384.882 2256.24,576.486 2257.07,787.319 2257.91,996.795 2258.75,1184.13 2259.59,1330.43 2260.43,1420.6 2261.27,1444.99 2262.1,1400.49 \n",
       "  2262.94,1290.99 2263.78,1127.16 2264.62,925.468 2265.46,706.593 2266.29,493.362 2267.13,308.368 2267.97,171.564 2268.81,98.0566 2269.65,96.3729 2269.82,105.13 \n",
       "  2269.99,116.939 2270.16,131.752 2270.34,149.506 2270.51,170.126 2270.68,193.522 2270.85,219.59 2271.02,248.215 2271.19,279.268 2271.37,312.612 2271.54,348.093 \n",
       "  2271.71,385.552 2271.88,424.817 2272.05,465.708 2272.23,508.036 2272.4,551.607 2272.74,641.659 2273.09,734.186 2273.43,827.451 2273.77,919.693 2273.95,964.881 \n",
       "  2274.12,1009.16 2274.29,1052.31 2274.46,1094.13 2274.63,1134.42 2274.81,1172.97 2274.98,1209.61 2275.15,1244.16 2275.32,1276.43 2275.49,1306.28 2275.67,1333.56 \n",
       "  2275.84,1358.12 2276.01,1379.85 2276.18,1398.63 2276.35,1414.37 2276.53,1426.99 2276.7,1436.41 2276.87,1442.59 2277.04,1445.49 2277.21,1445.08 2277.39,1441.37 \n",
       "  2277.56,1434.37 2277.73,1424.1 2277.9,1410.61 2278.07,1393.95 2278.24,1374.2 2278.42,1351.46 2278.59,1325.83 2278.76,1297.43 2278.93,1266.39 2279.1,1232.86 \n",
       "  2279.28,1197.01 2279.45,1159 2279.62,1119.02 2279.79,1077.27 2279.96,1033.95 2280.14,989.264 2280.31,943.443 2280.48,896.711 2280.65,849.299 2281,753.381 \n",
       "  2281.34,657.607 2281.68,563.903 2282.03,474.167 2282.2,431.363 2282.37,390.23 2282.54,350.979 2282.72,313.815 2282.89,278.929 2283.06,246.505 2283.23,216.713 \n",
       "  2283.4,189.71 2283.58,165.639 2283.75,144.63 2283.92,126.796 2284.09,112.236 2284.26,101.031 2284.44,93.2441 2284.61,88.9236 2284.78,88.0983 2284.95,90.7794 \n",
       "  2285.12,96.9599 2285.3,106.615 2285.47,119.701 2285.64,136.158 2285.81,155.905 2285.98,178.848 2286.15,204.872 2286.33,233.848 2286.5,265.63 2286.67,300.057 \n",
       "  2286.84,336.954 2287.01,376.133 2287.19,417.391 2287.36,460.516 2287.53,505.284 2287.87,598.809 2288.22,696.011 2288.56,794.842 2288.91,893.209 2289.08,941.561 \n",
       "  2289.25,989.012 2289.42,1035.31 2289.59,1080.19 2289.77,1123.43 2289.94,1164.78 2290.11,1204.02 2290.28,1240.93 2290.45,1275.31 2290.63,1306.97 2290.8,1335.73 \n",
       "  2290.97,1361.43 2291.14,1383.93 2291.31,1403.09 2291.49,1418.8 2291.66,1430.98 \n",
       "  \"/>\n",
       "<path clip-path=\"url(#clip820)\" d=\"\n",
       "M265.897 198.898 L534.209 198.898 L534.209 95.2176 L265.897 95.2176  Z\n",
       "  \" fill=\"#ffffff\" fill-rule=\"evenodd\" fill-opacity=\"1\"/>\n",
       "<polyline clip-path=\"url(#clip820)\" style=\"stroke:#000000; stroke-linecap:round; stroke-linejoin:round; stroke-width:4; stroke-opacity:1; fill:none\" points=\"\n",
       "  265.897,198.898 534.209,198.898 534.209,95.2176 265.897,95.2176 265.897,198.898 \n",
       "  \"/>\n",
       "<polyline clip-path=\"url(#clip820)\" style=\"stroke:#009af9; stroke-linecap:round; stroke-linejoin:round; stroke-width:4; stroke-opacity:1; fill:none\" points=\"\n",
       "  289.884,147.058 433.805,147.058 \n",
       "  \"/>\n",
       "<path clip-path=\"url(#clip820)\" d=\"M471.634 166.745 Q469.829 171.375 468.116 172.787 Q466.403 174.199 463.532 174.199 L460.13 174.199 L460.13 170.634 L462.63 170.634 Q464.389 170.634 465.361 169.8 Q466.333 168.967 467.514 165.865 L468.278 163.921 L457.792 138.412 L462.306 138.412 L470.407 158.689 L478.509 138.412 L483.023 138.412 L471.634 166.745 Z\" fill=\"#000000\" fill-rule=\"evenodd\" fill-opacity=\"1\" /><path clip-path=\"url(#clip820)\" d=\"M490.315 160.402 L497.954 160.402 L497.954 134.037 L489.643 135.703 L489.643 131.444 L497.907 129.778 L502.583 129.778 L502.583 160.402 L510.222 160.402 L510.222 164.338 L490.315 164.338 L490.315 160.402 Z\" fill=\"#000000\" fill-rule=\"evenodd\" fill-opacity=\"1\" /></svg>\n"
      ]
     },
     "execution_count": 51,
     "metadata": {},
     "output_type": "execute_result"
    }
   ],
   "source": [
    "plot(x -> sin(exp(x)), -pi, 3//2 * pi)"
   ]
  },
  {
   "cell_type": "markdown",
   "id": "0f8751af-26e8-4a7e-8c47-99759f94c1b8",
   "metadata": {},
   "source": [
    "## Vectors"
   ]
  },
  {
   "cell_type": "code",
   "execution_count": null,
   "id": "d61e70fc-5c20-43e7-8ce1-9f63f246040b",
   "metadata": {},
   "outputs": [],
   "source": [
    "[1, 2, 3, 4] # column vector"
   ]
  },
  {
   "cell_type": "code",
   "execution_count": null,
   "id": "e7183898-3970-48a1-b191-52d04e1e64e3",
   "metadata": {},
   "outputs": [],
   "source": [
    "collect(1:4)"
   ]
  },
  {
   "cell_type": "code",
   "execution_count": null,
   "id": "cf833dcc-2554-4471-abb3-9cded6c1c431",
   "metadata": {},
   "outputs": [],
   "source": [
    "1:3:20, collect(1:3:20)"
   ]
  },
  {
   "cell_type": "code",
   "execution_count": null,
   "id": "3f31583b-c092-4d9e-a98f-70d08fbb5619",
   "metadata": {},
   "outputs": [],
   "source": [
    "[1 2 3 4 ] # row vector, or 1 x 4 Matrix"
   ]
  },
  {
   "cell_type": "code",
   "execution_count": null,
   "id": "a5d6ffc8-41a4-4a5d-a5a6-428488e0a7b4",
   "metadata": {},
   "outputs": [],
   "source": [
    "[ 1 2 3 4 ; 5 6 7 8 ; 0 1 -1 -2]"
   ]
  },
  {
   "cell_type": "code",
   "execution_count": null,
   "id": "b1f9f342-1b3e-46d6-bf59-f746c1776be4",
   "metadata": {},
   "outputs": [],
   "source": [
    "[ i*j for i = 1:3, j = 1:4]"
   ]
  },
  {
   "cell_type": "markdown",
   "id": "f13b97b9-022f-4389-82ce-71e23132dc56",
   "metadata": {},
   "source": [
    "## Broadcasting"
   ]
  },
  {
   "cell_type": "code",
   "execution_count": null,
   "id": "31ecfd22-6a90-4311-a3bb-79a2026bdd43",
   "metadata": {},
   "outputs": [],
   "source": [
    "sin(pi)"
   ]
  },
  {
   "cell_type": "code",
   "execution_count": null,
   "id": "215f8d73-864d-465f-b637-6ac1225fbb2b",
   "metadata": {},
   "outputs": [],
   "source": [
    "pi/4 * (1:7)"
   ]
  },
  {
   "cell_type": "code",
   "execution_count": null,
   "id": "fc1f7c0f-d075-4c2f-bc2a-a6ed644274ab",
   "metadata": {},
   "outputs": [],
   "source": [
    "# sin(pi/4 * (1:7))\n",
    "sin.(pi/4 * (1:7))"
   ]
  },
  {
   "cell_type": "code",
   "execution_count": null,
   "id": "339204ee-2560-4fdd-bea4-789a39e44d68",
   "metadata": {},
   "outputs": [],
   "source": [
    "x = range(0, 1, length = 9)"
   ]
  },
  {
   "cell_type": "code",
   "execution_count": null,
   "id": "351e73a7-dd3e-478e-b34c-965793e67dfd",
   "metadata": {},
   "outputs": [],
   "source": [
    "@. square(x + 1)"
   ]
  },
  {
   "cell_type": "code",
   "execution_count": null,
   "id": "6c4773ee-22b5-4542-93b3-e9895e558a4f",
   "metadata": {},
   "outputs": [],
   "source": [
    "square.( x .+ 1)"
   ]
  },
  {
   "cell_type": "markdown",
   "id": "87df1112-7c23-4fd1-9f19-176523bc701e",
   "metadata": {},
   "source": [
    "## Errors"
   ]
  },
  {
   "cell_type": "code",
   "execution_count": null,
   "id": "263baba8-1f13-493d-8295-b8dcb76302e4",
   "metadata": {},
   "outputs": [],
   "source": [
    "abserror(x, xhat) = abs(x-xhat)\n",
    "relerror(x, xhat) = abs((x-xhat)/x)"
   ]
  },
  {
   "cell_type": "code",
   "execution_count": null,
   "id": "ea2fccaf-14e9-49dd-93a9-08e359bbda22",
   "metadata": {},
   "outputs": [],
   "source": [
    "abserror(0.1, 0.2 + 0.1 - 0.2),\n",
    "relerror(0.1, 0.2 + 0.1 - 0.2)"
   ]
  },
  {
   "cell_type": "code",
   "execution_count": null,
   "id": "825449a8-bdbb-4dac-a55c-0ee9359ba7af",
   "metadata": {},
   "outputs": [],
   "source": [
    "abserror(0, sin(10^15 * pi)), relerror(1, cos(10^15 * pi))"
   ]
  },
  {
   "cell_type": "code",
   "execution_count": null,
   "id": "fa5830db-2fc8-4b6e-8f32-b3e5179d7fe5",
   "metadata": {},
   "outputs": [],
   "source": [
    "plot(sin, 1e15 * pi, (1e15+2)*pi)"
   ]
  },
  {
   "cell_type": "markdown",
   "id": "74db331c-968c-42b0-aaed-5630bf24177e",
   "metadata": {},
   "source": [
    "## Polynomial roots demonstration"
   ]
  },
  {
   "cell_type": "code",
   "execution_count": null,
   "id": "3c069dc5-af38-4b07-8a14-ae1033b609db",
   "metadata": {},
   "outputs": [],
   "source": [
    "e = 1e-6\n",
    "a,b,c = 1/3, (-2-e)/3, (1+e)/3 # coefficients, roots are 1, 1+e\n",
    "d = sqrt(b^2-4*a*c)\n",
    "r1, r2 = (-b - d)/(2*a), (-b + d)/(2*a)\n",
    "(r1, r2)"
   ]
  },
  {
   "cell_type": "code",
   "execution_count": null,
   "id": "bcde82ee-2dd7-425a-adb4-2a241e4f417b",
   "metadata": {},
   "outputs": [],
   "source": [
    "# error in roots\n",
    "relerror(1.0+e, r2)"
   ]
  },
  {
   "cell_type": "markdown",
   "id": "afb68e74-fe00-414c-bbab-670718144c17",
   "metadata": {},
   "source": [
    "Another example: roots 1e6, 1e-6"
   ]
  },
  {
   "cell_type": "code",
   "execution_count": null,
   "id": "9b7ee9ef-d51f-4d28-84de-3d229f880a7f",
   "metadata": {},
   "outputs": [],
   "source": [
    "a, b, c = 1, -(1e6 + 1e-6), 1\n",
    "d = sqrt(b^2-4*a*c)\n",
    "r1, r2 = (-b - d)/(2*a), (-b + d)/(2*a)\n",
    "@show (r1, r2)\n",
    "# Find second root, once the good root is known\n",
    "@show r3 = c/(r2*a)"
   ]
  },
  {
   "cell_type": "code",
   "execution_count": null,
   "id": "e424e18b-d1cd-4c71-ad25-d6e834305c0a",
   "metadata": {},
   "outputs": [],
   "source": [
    "relerror(1e-6, r1)"
   ]
  },
  {
   "cell_type": "code",
   "execution_count": null,
   "id": "a7fb280e-eb68-413b-81cf-2b54602da8a4",
   "metadata": {},
   "outputs": [],
   "source": [
    "relerror(1e-6, r3)"
   ]
  },
  {
   "cell_type": "markdown",
   "id": "dddbc69b-02de-4c3e-8c98-6a4e0988cb3c",
   "metadata": {},
   "source": [
    "## Polynomial evaluation\n",
    "\n",
    "There are many more functions for working with polynomials in [Polynomials.jl](https://juliamath.github.io/Polynomials.jl/stable/)"
   ]
  },
  {
   "cell_type": "code",
   "execution_count": null,
   "id": "9d15acaf-037f-4abb-b0a6-0f0368c76284",
   "metadata": {},
   "outputs": [],
   "source": [
    "\"\"\"\n",
    "    horner(c,x)\n",
    "\n",
    "Evaluate a polynomial whose coefficients are given in ascending\n",
    "order in `c`, at the point `x`, using Horner's rule.\n",
    "\"\"\"\n",
    "function horner(c,x)\n",
    "    n = length(c)\n",
    "    y = c[n]\n",
    "    for k in n-1:-1:1\n",
    "        y = x*y + c[k]\n",
    "    end\n",
    "    return y\n",
    "end"
   ]
  },
  {
   "cell_type": "code",
   "execution_count": null,
   "id": "6279d4f5-52b2-4f54-be77-109dafeaa896",
   "metadata": {},
   "outputs": [],
   "source": [
    "?horner"
   ]
  },
  {
   "cell_type": "markdown",
   "id": "5a237551-6a65-42f4-b325-8efb06e06877",
   "metadata": {},
   "source": [
    "## Backward error with polynomials, roots, coefficients"
   ]
  },
  {
   "cell_type": "code",
   "execution_count": null,
   "id": "ffa96cf5-781e-4daf-8efd-22765e9d653e",
   "metadata": {},
   "outputs": [],
   "source": [
    "# import Pkg; Pkg.add(\"Polynomials\")\n",
    "using Polynomials"
   ]
  },
  {
   "cell_type": "code",
   "execution_count": null,
   "id": "758f1790-cf87-4f74-be3f-d4b0174a34a1",
   "metadata": {},
   "outputs": [],
   "source": [
    "r = [-2.0, -1, 1, 1, 3, 6]\n",
    "p = fromroots(r)"
   ]
  },
  {
   "cell_type": "code",
   "execution_count": null,
   "id": "12718da8-a3cd-4b54-b300-686ec7bc8b82",
   "metadata": {},
   "outputs": [],
   "source": [
    "r̃ = sort(roots(p))"
   ]
  },
  {
   "cell_type": "code",
   "execution_count": null,
   "id": "c7444809-ec20-4aa8-aefd-aca58d8064ff",
   "metadata": {},
   "outputs": [],
   "source": [
    "@. relerror(r, r̃)"
   ]
  },
  {
   "cell_type": "code",
   "execution_count": null,
   "id": "8916b798-c13c-407e-89cc-50fa933179cc",
   "metadata": {},
   "outputs": [],
   "source": [
    "p̃ = fromroots(r̃)"
   ]
  },
  {
   "cell_type": "code",
   "execution_count": null,
   "id": "07a32689-7552-4ed2-8f3a-f458450f4b98",
   "metadata": {},
   "outputs": [],
   "source": [
    "c, c̃ = coeffs(p), coeffs(p̃)"
   ]
  },
  {
   "cell_type": "code",
   "execution_count": null,
   "id": "027a0024-5e93-408a-b6cb-0655d4e5d281",
   "metadata": {},
   "outputs": [],
   "source": [
    "@. relerror(c, c̃)"
   ]
  },
  {
   "cell_type": "markdown",
   "id": "11e5faf4-cae7-4b2e-b9b2-97e0682dc8af",
   "metadata": {},
   "source": [
    "## Exercise\n",
    "\n",
    "A friend claims that the integer 42 can be written as the sum of the cubes of 12602123297335631, 80435758145817515, and -80538738812075974. What happens if we try to verify this with Julia? We will use three kinds of numbers: integers, floating point numbers, and \"big integers\". \n",
    "\n",
    "First we write the sums of the cubes:"
   ]
  },
  {
   "cell_type": "code",
   "execution_count": null,
   "id": "52edfe2b-7ab4-46df-8a71-81c63293df83",
   "metadata": {},
   "outputs": [],
   "source": [
    "@show 12602123297335631^3 + 80435758145817515^3 + (-80538738812075974)^3\n",
    "@show 12602123297335631.0^3 + 80435758145817515.0^3 + (-80538738812075974.0)^3\n",
    "@show BigInt(12602123297335631)^3 + BigInt(80435758145817515)^3 + BigInt(-80538738812075974)^3;"
   ]
  },
  {
   "cell_type": "markdown",
   "id": "d7c1c496-ce10-43f9-afdf-748abe90911b",
   "metadata": {},
   "source": [
    "We get two different answers. Which is right?\n",
    "Compute each term in the sum separately:"
   ]
  },
  {
   "cell_type": "code",
   "execution_count": null,
   "id": "1b740c44-7e56-46f0-b3f8-61eb4512b0e9",
   "metadata": {},
   "outputs": [],
   "source": [
    "@show 12602123297335631^3 , 80435758145817515^3 , (-80538738812075974)^3\n",
    "@show 12602123297335631.0^3 , 80435758145817515.0^3 , (-80538738812075974.0)^3\n",
    "@show BigInt(12602123297335631)^3 , BigInt(80435758145817515)^3 , BigInt(-80538738812075974)^3;"
   ]
  },
  {
   "cell_type": "markdown",
   "id": "03cf2c58-f51c-4d9e-821f-5493f9a8fd94",
   "metadata": {},
   "source": [
    "So integers (Int64, BigInt) get the sum right, but Float64 and BigInt get each term right (approximately). Explain what's going on in each calculation.\n",
    "\n",
    "For more information about this problem, read about [Julia Robinson and Hilbert's 10th problem](https://www.sciencenews.org/article/how-julia-robinson-helped-define-limits-mathematical-knowledge) and watch this [Numberphile](https://youtu.be/zyG8Vlw5aAw) video. Wikipedia has an article on the [sum of three cubes](https://en.wikipedia.org/wiki/Sums_of_three_cubes) problem."
   ]
  },
  {
   "cell_type": "markdown",
   "id": "d1a7c2c3-0cfd-4cf5-b74e-ebead2341d97",
   "metadata": {},
   "source": [
    "## Glossary\n",
    "\n",
    "You should have a working Julia installation. Soon you should be able to use Jupyter notebooks (lab) and/or use Julia with a Visual Studio Code.\n",
    "\n",
    "You should know the following Julia concepts:\n",
    "\n",
    "* how to use the REPL (read-eval-print-loop)\n",
    "* how to install packages (Pkg managera at REPL or using Pkg in Jupyter)\n",
    "* `using` and `import` for using packages\n",
    "* number types: Int64, Float32, Float64, Rational, Complex, BigInt, BigFloat\n",
    "* arithmetic with +, -, *, /, ^, sin, cos, tan, asin, acos, atan, log, exp, sqrt, $\\pi$\n",
    "* how to type unicode symbols at the REPL and in a notebook or editor (e.g., \\pi<TAB>) \n",
    "* Inf, NaN\n",
    "* Type conversions sometimes happen automatically, but not always\n",
    "* Non-associativity of arithmetic\n",
    "* Three ways to define functions (one line, using `function`, anonymously with `->`)\n",
    "* Plotting functions\n",
    "\n",
    "Julia functions:\n",
    "\n",
    "* typeof, bitstring, sign, exponent, significand, eps, nextfloat, prevfloat, floatmin, floatmax\n",
    "* Int64, Float64 and other types as functions\n"
   ]
  },
  {
   "cell_type": "markdown",
   "id": "65d1a192-cb5c-48b5-9981-f6f0dcd216f4",
   "metadata": {},
   "source": [
    "## Bonus material: flow control\n",
    "\n",
    "Mathematical operations such as summations, products, and sequences are often most easily described in a computer algorithm using \"for loops\". Here's a quick introduction.\n",
    "\n",
    "More information about [flow control](https://docs.julialang.org/en/v1/manual/control-flow/) is in the Julia manual.\n",
    "\n",
    "A for loop needs a variable name and a range of values to start, then a sequence of statements, and finally an end statement.\n",
    "\n",
    "Loops can also be written inside square brackets to create a vector or matrix (see above).\n",
    "\n",
    "We will return to this idea frequently in the course."
   ]
  },
  {
   "cell_type": "code",
   "execution_count": null,
   "id": "222b36e8-2a2c-41b1-821a-d91f8d927bde",
   "metadata": {},
   "outputs": [],
   "source": [
    "for i in [1, 2, 3]\n",
    "    @show i * 2\n",
    "end"
   ]
  },
  {
   "cell_type": "code",
   "execution_count": null,
   "id": "c49193a0-5651-40d2-9ead-ac5fce7779ee",
   "metadata": {},
   "outputs": [],
   "source": [
    "s = 0\n",
    "for i=1:100\n",
    "    s = s + i\n",
    "end\n",
    "s"
   ]
  },
  {
   "cell_type": "code",
   "execution_count": null,
   "id": "1ec027a0-a3ae-457b-9010-8d2094438e5a",
   "metadata": {},
   "outputs": [],
   "source": [
    "sum_n(n) = n*(n+1) ÷ 2\n",
    "sum_n(100) # don't always need loops!"
   ]
  },
  {
   "cell_type": "code",
   "execution_count": null,
   "id": "f8250c4e-0f9f-4d63-b150-1e8b191e6c81",
   "metadata": {},
   "outputs": [],
   "source": [
    "N = 20\n",
    "v = zeros(Int64, N) # when you want to keep the values of a sequence, create the vector at the start, if possible (its faster)\n",
    "v[1] = 1\n",
    "v[2] = 1\n",
    "for i in 3:N\n",
    "    v[i] = v[i-1] + v[i-2]\n",
    "end\n",
    "v"
   ]
  },
  {
   "cell_type": "code",
   "execution_count": null,
   "id": "f37dbd94-6d88-4031-95b9-b0364a914637",
   "metadata": {},
   "outputs": [],
   "source": [
    "e_x = 0.0\n",
    "x = 1.0\n",
    "for i in 0:10\n",
    "    e_x = e_x + x^i/factorial(i)\n",
    "end\n",
    "e_x"
   ]
  },
  {
   "cell_type": "code",
   "execution_count": null,
   "id": "1bd8d62f-e279-4815-9559-c525ec5656e7",
   "metadata": {},
   "outputs": [],
   "source": [
    "sum([ x^i/factorial(i) for i in 0:10])"
   ]
  },
  {
   "cell_type": "code",
   "execution_count": null,
   "id": "f26c16ee-c549-4679-a445-5c2aef9489df",
   "metadata": {},
   "outputs": [],
   "source": []
  }
 ],
 "metadata": {
  "kernelspec": {
   "display_name": "Julia 1.8.0",
   "language": "julia",
   "name": "julia-1.8"
  },
  "language_info": {
   "file_extension": ".jl",
   "mimetype": "application/julia",
   "name": "julia",
   "version": "1.8.0"
  }
 },
 "nbformat": 4,
 "nbformat_minor": 5
}
