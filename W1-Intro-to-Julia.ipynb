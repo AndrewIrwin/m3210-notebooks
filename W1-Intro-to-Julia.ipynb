{
 "cells": [
  {
   "cell_type": "markdown",
   "id": "5d598b87-1ba8-463f-bdb8-31b7de3ee2b7",
   "metadata": {},
   "source": [
    "# Week 1\n",
    "\n",
    "Introduction to Julia for week 1 of Numerical Analysis (M321), Winter 2023."
   ]
  },
  {
   "cell_type": "markdown",
   "id": "8ad31ea1-da52-4ed0-b910-4212c9376133",
   "metadata": {},
   "source": [
    "## Integers\n",
    "\n",
    "See the Julia documentation on [Integers](https://docs.julialang.org/en/v1/manual/integers-and-floating-point-numbers/) for much more information."
   ]
  },
  {
   "cell_type": "code",
   "execution_count": 1,
   "id": "0fad82b9-f713-40d2-a0c5-7c3c88a3a5b5",
   "metadata": {},
   "outputs": [
    {
     "data": {
      "text/plain": [
       "2"
      ]
     },
     "execution_count": 1,
     "metadata": {},
     "output_type": "execute_result"
    }
   ],
   "source": [
    "1+1"
   ]
  },
  {
   "cell_type": "code",
   "execution_count": 2,
   "id": "3df2ba9d-ca61-4d87-b57b-088d87521a00",
   "metadata": {},
   "outputs": [
    {
     "data": {
      "text/plain": [
       "Int64"
      ]
     },
     "execution_count": 2,
     "metadata": {},
     "output_type": "execute_result"
    }
   ],
   "source": [
    "typeof(1)"
   ]
  },
  {
   "cell_type": "code",
   "execution_count": 3,
   "id": "fc2ef26e-c469-4cde-ad84-60ea97b0b0b6",
   "metadata": {},
   "outputs": [
    {
     "data": {
      "text/plain": [
       "9223372036854775807"
      ]
     },
     "execution_count": 3,
     "metadata": {},
     "output_type": "execute_result"
    }
   ],
   "source": [
    "2^63-1"
   ]
  },
  {
   "cell_type": "code",
   "execution_count": 4,
   "id": "4a6536c1-9645-4347-bb7b-10293d2f0e38",
   "metadata": {},
   "outputs": [
    {
     "data": {
      "text/plain": [
       "-9223372036854775808"
      ]
     },
     "execution_count": 4,
     "metadata": {},
     "output_type": "execute_result"
    }
   ],
   "source": [
    "9223372036854775807 + 1"
   ]
  },
  {
   "cell_type": "code",
   "execution_count": 5,
   "id": "a7f620e6-a6ae-43d5-98e5-7a93bdd1b79c",
   "metadata": {},
   "outputs": [
    {
     "data": {
      "text/plain": [
       "(4611686018427387904, -9223372036854775808, 0)"
      ]
     },
     "execution_count": 5,
     "metadata": {},
     "output_type": "execute_result"
    }
   ],
   "source": [
    "2^62, 2^63, 2^64"
   ]
  },
  {
   "cell_type": "code",
   "execution_count": 6,
   "id": "6dec4dac-38b4-4760-81f1-1f9207c96761",
   "metadata": {},
   "outputs": [
    {
     "data": {
      "text/plain": [
       "\"0100000000000000000000000000000000000000000000000000000000000000\""
      ]
     },
     "execution_count": 6,
     "metadata": {},
     "output_type": "execute_result"
    }
   ],
   "source": [
    "bitstring(2^62)"
   ]
  },
  {
   "cell_type": "code",
   "execution_count": 7,
   "id": "86056ce4-84a1-4d10-a81e-2e2897be4726",
   "metadata": {},
   "outputs": [
    {
     "data": {
      "text/plain": [
       "0.5"
      ]
     },
     "execution_count": 7,
     "metadata": {},
     "output_type": "execute_result"
    }
   ],
   "source": [
    "1 / 2 # Division with / yields a Float"
   ]
  },
  {
   "cell_type": "code",
   "execution_count": 8,
   "id": "c630b44d-62a5-4b4a-900e-8f7050f99500",
   "metadata": {},
   "outputs": [
    {
     "data": {
      "text/plain": [
       "Float64"
      ]
     },
     "execution_count": 8,
     "metadata": {},
     "output_type": "execute_result"
    }
   ],
   "source": [
    "typeof(1/2)"
   ]
  },
  {
   "cell_type": "code",
   "execution_count": 9,
   "id": "492eb86b-7e0d-4256-b6e0-16cef24ca83c",
   "metadata": {},
   "outputs": [
    {
     "data": {
      "text/plain": [
       "Float64"
      ]
     },
     "execution_count": 9,
     "metadata": {},
     "output_type": "execute_result"
    }
   ],
   "source": [
    "typeof(10/5) # even if the result in math class would be integer"
   ]
  },
  {
   "cell_type": "code",
   "execution_count": 10,
   "id": "d34f999c-4ef2-42a1-b3ae-290e86095bdb",
   "metadata": {},
   "outputs": [
    {
     "data": {
      "text/plain": [
       "(5, Int64)"
      ]
     },
     "execution_count": 10,
     "metadata": {},
     "output_type": "execute_result"
    }
   ],
   "source": [
    "10 ÷ 2, typeof( 10 ÷ 2) # if you really want an integer; type \\div<TAB>"
   ]
  },
  {
   "cell_type": "code",
   "execution_count": 11,
   "id": "7df8e023-76c4-4df5-ac40-6a618def85dd",
   "metadata": {},
   "outputs": [
    {
     "data": {
      "text/plain": [
       "3"
      ]
     },
     "execution_count": 11,
     "metadata": {},
     "output_type": "execute_result"
    }
   ],
   "source": [
    "10 ÷ 3 # Rounding"
   ]
  },
  {
   "cell_type": "markdown",
   "id": "92095373-f13a-4f49-bc66-221a1c11a943",
   "metadata": {},
   "source": [
    "## Floating Point numbers\n",
    "\n",
    "See the Julia documentation on [Floating point numbers](https://docs.julialang.org/en/v1/manual/integers-and-floating-point-numbers/) for much more information."
   ]
  },
  {
   "cell_type": "code",
   "execution_count": 12,
   "id": "85cc90d4-194f-432f-a864-78d2d2392051",
   "metadata": {},
   "outputs": [
    {
     "data": {
      "text/plain": [
       "413.87592168692623"
      ]
     },
     "execution_count": 12,
     "metadata": {},
     "output_type": "execute_result"
    }
   ],
   "source": [
    "sqrt(54524.344 * pi)"
   ]
  },
  {
   "cell_type": "code",
   "execution_count": 13,
   "id": "067a11fc-b3a6-4f44-8cf2-5f85a686541b",
   "metadata": {},
   "outputs": [
    {
     "data": {
      "text/plain": [
       "16.0"
      ]
     },
     "execution_count": 13,
     "metadata": {},
     "output_type": "execute_result"
    }
   ],
   "source": [
    "sqrt(256)  # Type stability; generally a squareroot is a floating point value, so they all are, even when the result is an integer"
   ]
  },
  {
   "cell_type": "code",
   "execution_count": 14,
   "id": "8c489fa1-d19d-4886-97de-c686119b23f2",
   "metadata": {},
   "outputs": [
    {
     "data": {
      "text/plain": [
       "0.5118203032825503"
      ]
     },
     "execution_count": 14,
     "metadata": {},
     "output_type": "execute_result"
    }
   ],
   "source": [
    "1 + exp(-pi) + log(sin(pi/5))"
   ]
  },
  {
   "cell_type": "code",
   "execution_count": 15,
   "id": "1165c182-29e0-47a2-a947-6410600ff6be",
   "metadata": {},
   "outputs": [
    {
     "data": {
      "text/plain": [
       "0.10000000000000003"
      ]
     },
     "execution_count": 15,
     "metadata": {},
     "output_type": "execute_result"
    }
   ],
   "source": [
    "(0.2 + 0.1) - 0.2"
   ]
  },
  {
   "cell_type": "code",
   "execution_count": 16,
   "id": "94cee811-dc2d-4f3a-b04e-0b8052959f81",
   "metadata": {},
   "outputs": [
    {
     "data": {
      "text/plain": [
       "0.1"
      ]
     },
     "execution_count": 16,
     "metadata": {},
     "output_type": "execute_result"
    }
   ],
   "source": [
    "0.2 + (0.1 - 0.2)"
   ]
  },
  {
   "cell_type": "code",
   "execution_count": 17,
   "id": "00a5b06f-357a-42db-b4b8-13fff6e491f2",
   "metadata": {},
   "outputs": [
    {
     "data": {
      "text/plain": [
       "2.220446049250313e-16"
      ]
     },
     "execution_count": 17,
     "metadata": {},
     "output_type": "execute_result"
    }
   ],
   "source": [
    "e = eps(1.0)"
   ]
  },
  {
   "cell_type": "code",
   "execution_count": 18,
   "id": "cb7d8d8b-5cdc-4967-aacc-b84c2a05d586",
   "metadata": {},
   "outputs": [
    {
     "data": {
      "text/plain": [
       "1.0"
      ]
     },
     "execution_count": 18,
     "metadata": {},
     "output_type": "execute_result"
    }
   ],
   "source": [
    "1 + e/ 2"
   ]
  },
  {
   "cell_type": "code",
   "execution_count": 19,
   "id": "5ea8fdda-5355-4b0d-b1d8-81851a40b03c",
   "metadata": {},
   "outputs": [
    {
     "data": {
      "text/plain": [
       "0.10000000000000012"
      ]
     },
     "execution_count": 19,
     "metadata": {},
     "output_type": "execute_result"
    }
   ],
   "source": [
    "0.1 + e/2"
   ]
  },
  {
   "cell_type": "code",
   "execution_count": 20,
   "id": "50233cc8-f0f7-44af-8055-4c04b9d5358b",
   "metadata": {},
   "outputs": [
    {
     "data": {
      "text/plain": [
       "(0.0, 1.1102230246251565e-16)"
      ]
     },
     "execution_count": 20,
     "metadata": {},
     "output_type": "execute_result"
    }
   ],
   "source": [
    "(1+e/2) - 1 , 1 + (e/2-1)"
   ]
  },
  {
   "cell_type": "code",
   "execution_count": 21,
   "id": "2fc16f5a-052e-44a1-a095-e5f8ae3f98c9",
   "metadata": {},
   "outputs": [
    {
     "data": {
      "text/plain": [
       "\"0000000000000000000000000000000000000000000000000000000011111111\""
      ]
     },
     "execution_count": 21,
     "metadata": {},
     "output_type": "execute_result"
    }
   ],
   "source": [
    "bitstring(255)"
   ]
  },
  {
   "cell_type": "code",
   "execution_count": 22,
   "id": "0a31046e-62b8-478c-ab24-1765143bbee0",
   "metadata": {},
   "outputs": [
    {
     "data": {
      "text/plain": [
       "\"0100000001101111111000000000000000000000000000000000000000000000\""
      ]
     },
     "execution_count": 22,
     "metadata": {},
     "output_type": "execute_result"
    }
   ],
   "source": [
    "bitstring(255.0)"
   ]
  },
  {
   "cell_type": "code",
   "execution_count": 23,
   "id": "de2ee8f8-4263-451c-b03c-ec9f2dd766b5",
   "metadata": {},
   "outputs": [
    {
     "data": {
      "text/plain": [
       "(1.0, 7, 1.9921875)"
      ]
     },
     "execution_count": 23,
     "metadata": {},
     "output_type": "execute_result"
    }
   ],
   "source": [
    "sign(255.0), exponent(255.0), significand(255.0)"
   ]
  },
  {
   "cell_type": "code",
   "execution_count": 24,
   "id": "549a869b-4730-4fe8-93c5-e590d410038f",
   "metadata": {},
   "outputs": [
    {
     "data": {
      "text/plain": [
       "255.0"
      ]
     },
     "execution_count": 24,
     "metadata": {},
     "output_type": "execute_result"
    }
   ],
   "source": [
    "2^7 * 1.9921875"
   ]
  },
  {
   "cell_type": "code",
   "execution_count": 25,
   "id": "706bb45d-dee2-4d9b-b104-071e96d77527",
   "metadata": {},
   "outputs": [
    {
     "data": {
      "text/plain": [
       "\"0011111111001001100110011001100110011001100110011001100110011010\""
      ]
     },
     "execution_count": 25,
     "metadata": {},
     "output_type": "execute_result"
    }
   ],
   "source": [
    "bitstring(0.2)"
   ]
  },
  {
   "cell_type": "code",
   "execution_count": 26,
   "id": "848e36fa-2c5c-4f37-8978-6aac6a3742b0",
   "metadata": {},
   "outputs": [
    {
     "data": {
      "text/plain": [
       "(-3, 1.6)"
      ]
     },
     "execution_count": 26,
     "metadata": {},
     "output_type": "execute_result"
    }
   ],
   "source": [
    "exponent(0.2), significand(0.2)"
   ]
  },
  {
   "cell_type": "code",
   "execution_count": 27,
   "id": "54bcacb5-6050-4770-9a35-b093d9e149b4",
   "metadata": {},
   "outputs": [
    {
     "data": {
      "text/plain": [
       "1.7976931348623157e308"
      ]
     },
     "execution_count": 27,
     "metadata": {},
     "output_type": "execute_result"
    }
   ],
   "source": [
    "floatmax(Float64)"
   ]
  },
  {
   "cell_type": "code",
   "execution_count": 28,
   "id": "0ad06fa1-5bd7-4403-885b-873e9a0bd3e3",
   "metadata": {},
   "outputs": [
    {
     "data": {
      "text/plain": [
       "Inf"
      ]
     },
     "execution_count": 28,
     "metadata": {},
     "output_type": "execute_result"
    }
   ],
   "source": [
    "nextfloat(floatmax(Float64))"
   ]
  },
  {
   "cell_type": "code",
   "execution_count": 29,
   "id": "878aef31-14fb-4dec-89ee-bf15ab6ae725",
   "metadata": {},
   "outputs": [
    {
     "data": {
      "text/plain": [
       "NaN"
      ]
     },
     "execution_count": 29,
     "metadata": {},
     "output_type": "execute_result"
    }
   ],
   "source": [
    "0/0"
   ]
  },
  {
   "cell_type": "markdown",
   "id": "e86aeb47-7dd7-44cd-bbd6-4e9251ce4760",
   "metadata": {},
   "source": [
    "## Other numbers\n",
    "\n",
    "See Julia documentation on [rationals and complex numbers](https://docs.julialang.org/en/v1/manual/complex-and-rational-numbers/)."
   ]
  },
  {
   "cell_type": "code",
   "execution_count": 30,
   "id": "1d092639-49e1-4a38-b14e-da21bab7d561",
   "metadata": {},
   "outputs": [
    {
     "data": {
      "text/plain": [
       "5//6"
      ]
     },
     "execution_count": 30,
     "metadata": {},
     "output_type": "execute_result"
    }
   ],
   "source": [
    "1//6 + 2//3"
   ]
  },
  {
   "cell_type": "code",
   "execution_count": 31,
   "id": "dc9d1c08-ef89-4eb6-a46e-c448be7ba045",
   "metadata": {},
   "outputs": [
    {
     "data": {
      "text/plain": [
       "π = 3.1415926535897..."
      ]
     },
     "execution_count": 31,
     "metadata": {},
     "output_type": "execute_result"
    }
   ],
   "source": [
    "pi"
   ]
  },
  {
   "cell_type": "code",
   "execution_count": 32,
   "id": "0c9edb10-3393-41bb-8070-e0c0b61d7976",
   "metadata": {},
   "outputs": [
    {
     "data": {
      "text/plain": [
       "0.0 + 1.7320508075688772im"
      ]
     },
     "execution_count": 32,
     "metadata": {},
     "output_type": "execute_result"
    }
   ],
   "source": [
    "sqrt(Complex(-3.0))"
   ]
  },
  {
   "cell_type": "code",
   "execution_count": 33,
   "id": "1b6734ed-1f0b-4915-bec8-65277a1240ab",
   "metadata": {},
   "outputs": [
    {
     "data": {
      "text/plain": [
       "-1 + 0im"
      ]
     },
     "execution_count": 33,
     "metadata": {},
     "output_type": "execute_result"
    }
   ],
   "source": [
    "(1im)^2"
   ]
  },
  {
   "cell_type": "code",
   "execution_count": 34,
   "id": "60d3384f-2fcf-424b-90ed-f4aa6bfe93e7",
   "metadata": {},
   "outputs": [
    {
     "data": {
      "text/plain": [
       "93326215443944152681699238856266700490715968264381621468592963895217599993229915608941463976156518286253697920827223758251185210916864000000000000000000000000"
      ]
     },
     "execution_count": 34,
     "metadata": {},
     "output_type": "execute_result"
    }
   ],
   "source": [
    "factorial(BigInt(100))"
   ]
  },
  {
   "cell_type": "code",
   "execution_count": 35,
   "id": "66fbf744-dd58-4641-8730-a5c392e74ad0",
   "metadata": {},
   "outputs": [
    {
     "data": {
      "text/plain": [
       "1.414213562373095048801688724209698078569671875376948073176679737990732478462102"
      ]
     },
     "execution_count": 35,
     "metadata": {},
     "output_type": "execute_result"
    }
   ],
   "source": [
    "sqrt(BigFloat(2.0))"
   ]
  },
  {
   "cell_type": "markdown",
   "id": "a600752c-9f30-4a3b-8fdc-79c7493de6c4",
   "metadata": {},
   "source": [
    "## Functions\n",
    "\n",
    "See Julia documentation on [functions](https://docs.julialang.org/en/v1/manual/functions/)"
   ]
  },
  {
   "cell_type": "code",
   "execution_count": 36,
   "id": "b483dbba-a937-42ad-8c20-04d3ad44e0d0",
   "metadata": {},
   "outputs": [
    {
     "data": {
      "text/plain": [
       "square (generic function with 1 method)"
      ]
     },
     "execution_count": 36,
     "metadata": {},
     "output_type": "execute_result"
    }
   ],
   "source": [
    "square(x) = x*x # generic means it works for any numeric type"
   ]
  },
  {
   "cell_type": "code",
   "execution_count": 37,
   "id": "560928a9-b4ae-4dbf-8f3a-940058239721",
   "metadata": {},
   "outputs": [
    {
     "data": {
      "text/plain": [
       "20.25"
      ]
     },
     "execution_count": 37,
     "metadata": {},
     "output_type": "execute_result"
    }
   ],
   "source": [
    "square(4.5)"
   ]
  },
  {
   "cell_type": "code",
   "execution_count": 38,
   "id": "7c2bb394-8a62-4fef-b426-0709fffe81d5",
   "metadata": {},
   "outputs": [
    {
     "data": {
      "text/plain": [
       "289//81"
      ]
     },
     "execution_count": 38,
     "metadata": {},
     "output_type": "execute_result"
    }
   ],
   "source": [
    "square( 17 // 9 )"
   ]
  },
  {
   "cell_type": "code",
   "execution_count": 39,
   "id": "ac76ba89-aab7-4e4c-94f0-72ac5ef02ae6",
   "metadata": {},
   "outputs": [
    {
     "data": {
      "text/plain": [
       "-1.19 - 1.2im"
      ]
     },
     "execution_count": 39,
     "metadata": {},
     "output_type": "execute_result"
    }
   ],
   "source": [
    "square( 0.5 - 1.2im )"
   ]
  },
  {
   "cell_type": "code",
   "execution_count": 40,
   "id": "c8b19ba6-972c-416b-ad14-2dc395de750a",
   "metadata": {},
   "outputs": [
    {
     "data": {
      "text/plain": [
       "my_factorial (generic function with 1 method)"
      ]
     },
     "execution_count": 40,
     "metadata": {},
     "output_type": "execute_result"
    }
   ],
   "source": [
    "function my_factorial(k :: Int64)\n",
    "    prod(1:k)\n",
    "end"
   ]
  },
  {
   "cell_type": "code",
   "execution_count": 41,
   "id": "41efe695-b2a8-4364-98c2-40586cbaaf8f",
   "metadata": {},
   "outputs": [
    {
     "data": {
      "text/plain": [
       "720"
      ]
     },
     "execution_count": 41,
     "metadata": {},
     "output_type": "execute_result"
    }
   ],
   "source": [
    "my_factorial(6)"
   ]
  },
  {
   "cell_type": "code",
   "execution_count": 42,
   "id": "0405039c-4f70-47ea-bb4c-dad09ba6dcb0",
   "metadata": {},
   "outputs": [
    {
     "ename": "LoadError",
     "evalue": "MethodError: no method matching my_factorial(::Float64)\n\u001b[0mClosest candidates are:\n\u001b[0m  my_factorial(\u001b[91m::Int64\u001b[39m) at In[40]:1",
     "output_type": "error",
     "traceback": [
      "MethodError: no method matching my_factorial(::Float64)\n\u001b[0mClosest candidates are:\n\u001b[0m  my_factorial(\u001b[91m::Int64\u001b[39m) at In[40]:1",
      "",
      "Stacktrace:",
      " [1] top-level scope",
      "   @ In[42]:1"
     ]
    }
   ],
   "source": [
    "my_factorial(6.0)"
   ]
  },
  {
   "cell_type": "markdown",
   "id": "98c00f85-c35e-4491-b42b-ca3a1081d300",
   "metadata": {},
   "source": [
    "## Plotting\n",
    "\n",
    "See the [tutorial](https://docs.juliaplots.org/latest/tutorial/) for Plots.jl for an introduction to this package."
   ]
  },
  {
   "cell_type": "code",
   "execution_count": 43,
   "id": "e1636696-1502-4f12-9b69-e1c3b00955e5",
   "metadata": {},
   "outputs": [],
   "source": [
    "# import Pkg; Pkg.add(\"Plots\")\n",
    "using Plots # need to add Plots using package manager once, in notebook or REPL"
   ]
  },
  {
   "cell_type": "code",
   "execution_count": 44,
   "id": "7de877b6-9f54-4d22-9538-ef437798f632",
   "metadata": {},
   "outputs": [
    {
     "data": {
      "image/svg+xml": [
       "<?xml version=\"1.0\" encoding=\"utf-8\"?>\n",
       "<svg xmlns=\"http://www.w3.org/2000/svg\" xmlns:xlink=\"http://www.w3.org/1999/xlink\" width=\"600\" height=\"400\" viewBox=\"0 0 2400 1600\">\n",
       "<defs>\n",
       "  <clipPath id=\"clip910\">\n",
       "    <rect x=\"0\" y=\"0\" width=\"2400\" height=\"1600\"/>\n",
       "  </clipPath>\n",
       "</defs>\n",
       "<path clip-path=\"url(#clip910)\" d=\"\n",
       "M0 1600 L2400 1600 L2400 0 L0 0  Z\n",
       "  \" fill=\"#ffffff\" fill-rule=\"evenodd\" fill-opacity=\"1\"/>\n",
       "<defs>\n",
       "  <clipPath id=\"clip911\">\n",
       "    <rect x=\"480\" y=\"0\" width=\"1681\" height=\"1600\"/>\n",
       "  </clipPath>\n",
       "</defs>\n",
       "<path clip-path=\"url(#clip910)\" d=\"\n",
       "M193.936 1486.45 L2352.76 1486.45 L2352.76 47.2441 L193.936 47.2441  Z\n",
       "  \" fill=\"#ffffff\" fill-rule=\"evenodd\" fill-opacity=\"1\"/>\n",
       "<defs>\n",
       "  <clipPath id=\"clip912\">\n",
       "    <rect x=\"193\" y=\"47\" width=\"2160\" height=\"1440\"/>\n",
       "  </clipPath>\n",
       "</defs>\n",
       "<polyline clip-path=\"url(#clip912)\" style=\"stroke:#000000; stroke-linecap:round; stroke-linejoin:round; stroke-width:2; stroke-opacity:0.1; fill:none\" points=\"\n",
       "  421.407,1486.45 421.407,47.2441 \n",
       "  \"/>\n",
       "<polyline clip-path=\"url(#clip912)\" style=\"stroke:#000000; stroke-linecap:round; stroke-linejoin:round; stroke-width:2; stroke-opacity:0.1; fill:none\" points=\"\n",
       "  745.545,1486.45 745.545,47.2441 \n",
       "  \"/>\n",
       "<polyline clip-path=\"url(#clip912)\" style=\"stroke:#000000; stroke-linecap:round; stroke-linejoin:round; stroke-width:2; stroke-opacity:0.1; fill:none\" points=\"\n",
       "  1069.68,1486.45 1069.68,47.2441 \n",
       "  \"/>\n",
       "<polyline clip-path=\"url(#clip912)\" style=\"stroke:#000000; stroke-linecap:round; stroke-linejoin:round; stroke-width:2; stroke-opacity:0.1; fill:none\" points=\"\n",
       "  1393.82,1486.45 1393.82,47.2441 \n",
       "  \"/>\n",
       "<polyline clip-path=\"url(#clip912)\" style=\"stroke:#000000; stroke-linecap:round; stroke-linejoin:round; stroke-width:2; stroke-opacity:0.1; fill:none\" points=\"\n",
       "  1717.96,1486.45 1717.96,47.2441 \n",
       "  \"/>\n",
       "<polyline clip-path=\"url(#clip912)\" style=\"stroke:#000000; stroke-linecap:round; stroke-linejoin:round; stroke-width:2; stroke-opacity:0.1; fill:none\" points=\"\n",
       "  2042.1,1486.45 2042.1,47.2441 \n",
       "  \"/>\n",
       "<polyline clip-path=\"url(#clip910)\" style=\"stroke:#000000; stroke-linecap:round; stroke-linejoin:round; stroke-width:4; stroke-opacity:1; fill:none\" points=\"\n",
       "  193.936,1486.45 2352.76,1486.45 \n",
       "  \"/>\n",
       "<polyline clip-path=\"url(#clip910)\" style=\"stroke:#000000; stroke-linecap:round; stroke-linejoin:round; stroke-width:4; stroke-opacity:1; fill:none\" points=\"\n",
       "  421.407,1486.45 421.407,1467.55 \n",
       "  \"/>\n",
       "<polyline clip-path=\"url(#clip910)\" style=\"stroke:#000000; stroke-linecap:round; stroke-linejoin:round; stroke-width:4; stroke-opacity:1; fill:none\" points=\"\n",
       "  745.545,1486.45 745.545,1467.55 \n",
       "  \"/>\n",
       "<polyline clip-path=\"url(#clip910)\" style=\"stroke:#000000; stroke-linecap:round; stroke-linejoin:round; stroke-width:4; stroke-opacity:1; fill:none\" points=\"\n",
       "  1069.68,1486.45 1069.68,1467.55 \n",
       "  \"/>\n",
       "<polyline clip-path=\"url(#clip910)\" style=\"stroke:#000000; stroke-linecap:round; stroke-linejoin:round; stroke-width:4; stroke-opacity:1; fill:none\" points=\"\n",
       "  1393.82,1486.45 1393.82,1467.55 \n",
       "  \"/>\n",
       "<polyline clip-path=\"url(#clip910)\" style=\"stroke:#000000; stroke-linecap:round; stroke-linejoin:round; stroke-width:4; stroke-opacity:1; fill:none\" points=\"\n",
       "  1717.96,1486.45 1717.96,1467.55 \n",
       "  \"/>\n",
       "<polyline clip-path=\"url(#clip910)\" style=\"stroke:#000000; stroke-linecap:round; stroke-linejoin:round; stroke-width:4; stroke-opacity:1; fill:none\" points=\"\n",
       "  2042.1,1486.45 2042.1,1467.55 \n",
       "  \"/>\n",
       "<path clip-path=\"url(#clip910)\" d=\"M367.935 1532.02 L397.61 1532.02 L397.61 1535.95 L367.935 1535.95 L367.935 1532.02 Z\" fill=\"#000000\" fill-rule=\"evenodd\" fill-opacity=\"1\" /><path clip-path=\"url(#clip910)\" d=\"M407.749 1514.29 L426.106 1514.29 L426.106 1518.22 L412.032 1518.22 L412.032 1526.7 Q413.05 1526.35 414.069 1526.19 Q415.087 1526 416.106 1526 Q421.893 1526 425.272 1529.17 Q428.652 1532.34 428.652 1537.76 Q428.652 1543.34 425.18 1546.44 Q421.708 1549.52 415.388 1549.52 Q413.212 1549.52 410.944 1549.15 Q408.698 1548.78 406.291 1548.04 L406.291 1543.34 Q408.374 1544.47 410.596 1545.03 Q412.819 1545.58 415.296 1545.58 Q419.3 1545.58 421.638 1543.48 Q423.976 1541.37 423.976 1537.76 Q423.976 1534.15 421.638 1532.04 Q419.3 1529.94 415.296 1529.94 Q413.421 1529.94 411.546 1530.35 Q409.694 1530.77 407.749 1531.65 L407.749 1514.29 Z\" fill=\"#000000\" fill-rule=\"evenodd\" fill-opacity=\"1\" /><path clip-path=\"url(#clip910)\" d=\"M437.865 1542.97 L442.749 1542.97 L442.749 1548.85 L437.865 1548.85 L437.865 1542.97 Z\" fill=\"#000000\" fill-rule=\"evenodd\" fill-opacity=\"1\" /><path clip-path=\"url(#clip910)\" d=\"M462.934 1517.37 Q459.323 1517.37 457.494 1520.93 Q455.689 1524.47 455.689 1531.6 Q455.689 1538.71 457.494 1542.27 Q459.323 1545.82 462.934 1545.82 Q466.568 1545.82 468.374 1542.27 Q470.203 1538.71 470.203 1531.6 Q470.203 1524.47 468.374 1520.93 Q466.568 1517.37 462.934 1517.37 M462.934 1513.66 Q468.744 1513.66 471.8 1518.27 Q474.879 1522.85 474.879 1531.6 Q474.879 1540.33 471.8 1544.94 Q468.744 1549.52 462.934 1549.52 Q457.124 1549.52 454.045 1544.94 Q450.99 1540.33 450.99 1531.6 Q450.99 1522.85 454.045 1518.27 Q457.124 1513.66 462.934 1513.66 Z\" fill=\"#000000\" fill-rule=\"evenodd\" fill-opacity=\"1\" /><path clip-path=\"url(#clip910)\" d=\"M692.571 1532.02 L722.247 1532.02 L722.247 1535.95 L692.571 1535.95 L692.571 1532.02 Z\" fill=\"#000000\" fill-rule=\"evenodd\" fill-opacity=\"1\" /><path clip-path=\"url(#clip910)\" d=\"M736.367 1544.91 L752.686 1544.91 L752.686 1548.85 L730.742 1548.85 L730.742 1544.91 Q733.404 1542.16 737.987 1537.53 Q742.594 1532.88 743.774 1531.53 Q746.02 1529.01 746.899 1527.27 Q747.802 1525.51 747.802 1523.82 Q747.802 1521.07 745.858 1519.33 Q743.936 1517.6 740.835 1517.6 Q738.635 1517.6 736.182 1518.36 Q733.751 1519.13 730.973 1520.68 L730.973 1515.95 Q733.798 1514.82 736.251 1514.24 Q738.705 1513.66 740.742 1513.66 Q746.112 1513.66 749.307 1516.35 Q752.501 1519.03 752.501 1523.52 Q752.501 1525.65 751.691 1527.57 Q750.904 1529.47 748.797 1532.07 Q748.219 1532.74 745.117 1535.95 Q742.015 1539.15 736.367 1544.91 Z\" fill=\"#000000\" fill-rule=\"evenodd\" fill-opacity=\"1\" /><path clip-path=\"url(#clip910)\" d=\"M762.501 1542.97 L767.385 1542.97 L767.385 1548.85 L762.501 1548.85 L762.501 1542.97 Z\" fill=\"#000000\" fill-rule=\"evenodd\" fill-opacity=\"1\" /><path clip-path=\"url(#clip910)\" d=\"M777.617 1514.29 L795.973 1514.29 L795.973 1518.22 L781.899 1518.22 L781.899 1526.7 Q782.918 1526.35 783.936 1526.19 Q784.955 1526 785.973 1526 Q791.76 1526 795.14 1529.17 Q798.519 1532.34 798.519 1537.76 Q798.519 1543.34 795.047 1546.44 Q791.575 1549.52 785.256 1549.52 Q783.08 1549.52 780.811 1549.15 Q778.566 1548.78 776.158 1548.04 L776.158 1543.34 Q778.242 1544.47 780.464 1545.03 Q782.686 1545.58 785.163 1545.58 Q789.168 1545.58 791.506 1543.48 Q793.844 1541.37 793.844 1537.76 Q793.844 1534.15 791.506 1532.04 Q789.168 1529.94 785.163 1529.94 Q783.288 1529.94 781.413 1530.35 Q779.561 1530.77 777.617 1531.65 L777.617 1514.29 Z\" fill=\"#000000\" fill-rule=\"evenodd\" fill-opacity=\"1\" /><path clip-path=\"url(#clip910)\" d=\"M1047.07 1517.37 Q1043.46 1517.37 1041.63 1520.93 Q1039.82 1524.47 1039.82 1531.6 Q1039.82 1538.71 1041.63 1542.27 Q1043.46 1545.82 1047.07 1545.82 Q1050.7 1545.82 1052.51 1542.27 Q1054.34 1538.71 1054.34 1531.6 Q1054.34 1524.47 1052.51 1520.93 Q1050.7 1517.37 1047.07 1517.37 M1047.07 1513.66 Q1052.88 1513.66 1055.93 1518.27 Q1059.01 1522.85 1059.01 1531.6 Q1059.01 1540.33 1055.93 1544.94 Q1052.88 1549.52 1047.07 1549.52 Q1041.26 1549.52 1038.18 1544.94 Q1035.12 1540.33 1035.12 1531.6 Q1035.12 1522.85 1038.18 1518.27 Q1041.26 1513.66 1047.07 1513.66 Z\" fill=\"#000000\" fill-rule=\"evenodd\" fill-opacity=\"1\" /><path clip-path=\"url(#clip910)\" d=\"M1067.23 1542.97 L1072.11 1542.97 L1072.11 1548.85 L1067.23 1548.85 L1067.23 1542.97 Z\" fill=\"#000000\" fill-rule=\"evenodd\" fill-opacity=\"1\" /><path clip-path=\"url(#clip910)\" d=\"M1092.3 1517.37 Q1088.69 1517.37 1086.86 1520.93 Q1085.05 1524.47 1085.05 1531.6 Q1085.05 1538.71 1086.86 1542.27 Q1088.69 1545.82 1092.3 1545.82 Q1095.93 1545.82 1097.74 1542.27 Q1099.57 1538.71 1099.57 1531.6 Q1099.57 1524.47 1097.74 1520.93 Q1095.93 1517.37 1092.3 1517.37 M1092.3 1513.66 Q1098.11 1513.66 1101.17 1518.27 Q1104.24 1522.85 1104.24 1531.6 Q1104.24 1540.33 1101.17 1544.94 Q1098.11 1549.52 1092.3 1549.52 Q1086.49 1549.52 1083.41 1544.94 Q1080.35 1540.33 1080.35 1531.6 Q1080.35 1522.85 1083.41 1518.27 Q1086.49 1513.66 1092.3 1513.66 Z\" fill=\"#000000\" fill-rule=\"evenodd\" fill-opacity=\"1\" /><path clip-path=\"url(#clip910)\" d=\"M1365.56 1544.91 L1381.88 1544.91 L1381.88 1548.85 L1359.93 1548.85 L1359.93 1544.91 Q1362.6 1542.16 1367.18 1537.53 Q1371.79 1532.88 1372.97 1531.53 Q1375.21 1529.01 1376.09 1527.27 Q1376.99 1525.51 1376.99 1523.82 Q1376.99 1521.07 1375.05 1519.33 Q1373.13 1517.6 1370.03 1517.6 Q1367.83 1517.6 1365.37 1518.36 Q1362.94 1519.13 1360.17 1520.68 L1360.17 1515.95 Q1362.99 1514.82 1365.44 1514.24 Q1367.9 1513.66 1369.93 1513.66 Q1375.3 1513.66 1378.5 1516.35 Q1381.69 1519.03 1381.69 1523.52 Q1381.69 1525.65 1380.88 1527.57 Q1380.1 1529.47 1377.99 1532.07 Q1377.41 1532.74 1374.31 1535.95 Q1371.21 1539.15 1365.56 1544.91 Z\" fill=\"#000000\" fill-rule=\"evenodd\" fill-opacity=\"1\" /><path clip-path=\"url(#clip910)\" d=\"M1391.69 1542.97 L1396.58 1542.97 L1396.58 1548.85 L1391.69 1548.85 L1391.69 1542.97 Z\" fill=\"#000000\" fill-rule=\"evenodd\" fill-opacity=\"1\" /><path clip-path=\"url(#clip910)\" d=\"M1406.81 1514.29 L1425.16 1514.29 L1425.16 1518.22 L1411.09 1518.22 L1411.09 1526.7 Q1412.11 1526.35 1413.13 1526.19 Q1414.15 1526 1415.16 1526 Q1420.95 1526 1424.33 1529.17 Q1427.71 1532.34 1427.71 1537.76 Q1427.71 1543.34 1424.24 1546.44 Q1420.77 1549.52 1414.45 1549.52 Q1412.27 1549.52 1410 1549.15 Q1407.76 1548.78 1405.35 1548.04 L1405.35 1543.34 Q1407.43 1544.47 1409.66 1545.03 Q1411.88 1545.58 1414.35 1545.58 Q1418.36 1545.58 1420.7 1543.48 Q1423.04 1541.37 1423.04 1537.76 Q1423.04 1534.15 1420.7 1532.04 Q1418.36 1529.94 1414.35 1529.94 Q1412.48 1529.94 1410.6 1530.35 Q1408.75 1530.77 1406.81 1531.65 L1406.81 1514.29 Z\" fill=\"#000000\" fill-rule=\"evenodd\" fill-opacity=\"1\" /><path clip-path=\"url(#clip910)\" d=\"M1685.13 1514.29 L1703.48 1514.29 L1703.48 1518.22 L1689.41 1518.22 L1689.41 1526.7 Q1690.43 1526.35 1691.44 1526.19 Q1692.46 1526 1693.48 1526 Q1699.27 1526 1702.65 1529.17 Q1706.03 1532.34 1706.03 1537.76 Q1706.03 1543.34 1702.56 1546.44 Q1699.08 1549.52 1692.76 1549.52 Q1690.59 1549.52 1688.32 1549.15 Q1686.07 1548.78 1683.67 1548.04 L1683.67 1543.34 Q1685.75 1544.47 1687.97 1545.03 Q1690.19 1545.58 1692.67 1545.58 Q1696.68 1545.58 1699.01 1543.48 Q1701.35 1541.37 1701.35 1537.76 Q1701.35 1534.15 1699.01 1532.04 Q1696.68 1529.94 1692.67 1529.94 Q1690.8 1529.94 1688.92 1530.35 Q1687.07 1530.77 1685.13 1531.65 L1685.13 1514.29 Z\" fill=\"#000000\" fill-rule=\"evenodd\" fill-opacity=\"1\" /><path clip-path=\"url(#clip910)\" d=\"M1715.24 1542.97 L1720.13 1542.97 L1720.13 1548.85 L1715.24 1548.85 L1715.24 1542.97 Z\" fill=\"#000000\" fill-rule=\"evenodd\" fill-opacity=\"1\" /><path clip-path=\"url(#clip910)\" d=\"M1740.31 1517.37 Q1736.7 1517.37 1734.87 1520.93 Q1733.06 1524.47 1733.06 1531.6 Q1733.06 1538.71 1734.87 1542.27 Q1736.7 1545.82 1740.31 1545.82 Q1743.94 1545.82 1745.75 1542.27 Q1747.58 1538.71 1747.58 1531.6 Q1747.58 1524.47 1745.75 1520.93 Q1743.94 1517.37 1740.31 1517.37 M1740.31 1513.66 Q1746.12 1513.66 1749.18 1518.27 Q1752.25 1522.85 1752.25 1531.6 Q1752.25 1540.33 1749.18 1544.94 Q1746.12 1549.52 1740.31 1549.52 Q1734.5 1549.52 1731.42 1544.94 Q1728.37 1540.33 1728.37 1531.6 Q1728.37 1522.85 1731.42 1518.27 Q1734.5 1513.66 1740.31 1513.66 Z\" fill=\"#000000\" fill-rule=\"evenodd\" fill-opacity=\"1\" /><path clip-path=\"url(#clip910)\" d=\"M2008.42 1514.29 L2030.64 1514.29 L2030.64 1516.28 L2018.09 1548.85 L2013.21 1548.85 L2025.02 1518.22 L2008.42 1518.22 L2008.42 1514.29 Z\" fill=\"#000000\" fill-rule=\"evenodd\" fill-opacity=\"1\" /><path clip-path=\"url(#clip910)\" d=\"M2039.76 1542.97 L2044.65 1542.97 L2044.65 1548.85 L2039.76 1548.85 L2039.76 1542.97 Z\" fill=\"#000000\" fill-rule=\"evenodd\" fill-opacity=\"1\" /><path clip-path=\"url(#clip910)\" d=\"M2054.88 1514.29 L2073.23 1514.29 L2073.23 1518.22 L2059.16 1518.22 L2059.16 1526.7 Q2060.18 1526.35 2061.2 1526.19 Q2062.21 1526 2063.23 1526 Q2069.02 1526 2072.4 1529.17 Q2075.78 1532.34 2075.78 1537.76 Q2075.78 1543.34 2072.31 1546.44 Q2068.84 1549.52 2062.52 1549.52 Q2060.34 1549.52 2058.07 1549.15 Q2055.83 1548.78 2053.42 1548.04 L2053.42 1543.34 Q2055.5 1544.47 2057.72 1545.03 Q2059.95 1545.58 2062.42 1545.58 Q2066.43 1545.58 2068.77 1543.48 Q2071.1 1541.37 2071.1 1537.76 Q2071.1 1534.15 2068.77 1532.04 Q2066.43 1529.94 2062.42 1529.94 Q2060.55 1529.94 2058.67 1530.35 Q2056.82 1530.77 2054.88 1531.65 L2054.88 1514.29 Z\" fill=\"#000000\" fill-rule=\"evenodd\" fill-opacity=\"1\" /><polyline clip-path=\"url(#clip912)\" style=\"stroke:#000000; stroke-linecap:round; stroke-linejoin:round; stroke-width:2; stroke-opacity:0.1; fill:none\" points=\"\n",
       "  193.936,1445.73 2352.76,1445.73 \n",
       "  \"/>\n",
       "<polyline clip-path=\"url(#clip912)\" style=\"stroke:#000000; stroke-linecap:round; stroke-linejoin:round; stroke-width:2; stroke-opacity:0.1; fill:none\" points=\"\n",
       "  193.936,1106.29 2352.76,1106.29 \n",
       "  \"/>\n",
       "<polyline clip-path=\"url(#clip912)\" style=\"stroke:#000000; stroke-linecap:round; stroke-linejoin:round; stroke-width:2; stroke-opacity:0.1; fill:none\" points=\"\n",
       "  193.936,766.851 2352.76,766.851 \n",
       "  \"/>\n",
       "<polyline clip-path=\"url(#clip912)\" style=\"stroke:#000000; stroke-linecap:round; stroke-linejoin:round; stroke-width:2; stroke-opacity:0.1; fill:none\" points=\"\n",
       "  193.936,427.414 2352.76,427.414 \n",
       "  \"/>\n",
       "<polyline clip-path=\"url(#clip912)\" style=\"stroke:#000000; stroke-linecap:round; stroke-linejoin:round; stroke-width:2; stroke-opacity:0.1; fill:none\" points=\"\n",
       "  193.936,87.9761 2352.76,87.9761 \n",
       "  \"/>\n",
       "<polyline clip-path=\"url(#clip910)\" style=\"stroke:#000000; stroke-linecap:round; stroke-linejoin:round; stroke-width:4; stroke-opacity:1; fill:none\" points=\"\n",
       "  193.936,1486.45 193.936,47.2441 \n",
       "  \"/>\n",
       "<polyline clip-path=\"url(#clip910)\" style=\"stroke:#000000; stroke-linecap:round; stroke-linejoin:round; stroke-width:4; stroke-opacity:1; fill:none\" points=\"\n",
       "  193.936,1445.73 212.834,1445.73 \n",
       "  \"/>\n",
       "<polyline clip-path=\"url(#clip910)\" style=\"stroke:#000000; stroke-linecap:round; stroke-linejoin:round; stroke-width:4; stroke-opacity:1; fill:none\" points=\"\n",
       "  193.936,1106.29 212.834,1106.29 \n",
       "  \"/>\n",
       "<polyline clip-path=\"url(#clip910)\" style=\"stroke:#000000; stroke-linecap:round; stroke-linejoin:round; stroke-width:4; stroke-opacity:1; fill:none\" points=\"\n",
       "  193.936,766.851 212.834,766.851 \n",
       "  \"/>\n",
       "<polyline clip-path=\"url(#clip910)\" style=\"stroke:#000000; stroke-linecap:round; stroke-linejoin:round; stroke-width:4; stroke-opacity:1; fill:none\" points=\"\n",
       "  193.936,427.414 212.834,427.414 \n",
       "  \"/>\n",
       "<polyline clip-path=\"url(#clip910)\" style=\"stroke:#000000; stroke-linecap:round; stroke-linejoin:round; stroke-width:4; stroke-opacity:1; fill:none\" points=\"\n",
       "  193.936,87.9761 212.834,87.9761 \n",
       "  \"/>\n",
       "<path clip-path=\"url(#clip910)\" d=\"M50.9921 1446.18 L80.6679 1446.18 L80.6679 1450.11 L50.9921 1450.11 L50.9921 1446.18 Z\" fill=\"#000000\" fill-rule=\"evenodd\" fill-opacity=\"1\" /><path clip-path=\"url(#clip910)\" d=\"M91.5706 1459.07 L99.2095 1459.07 L99.2095 1432.71 L90.8993 1434.37 L90.8993 1430.11 L99.1632 1428.45 L103.839 1428.45 L103.839 1459.07 L111.478 1459.07 L111.478 1463.01 L91.5706 1463.01 L91.5706 1459.07 Z\" fill=\"#000000\" fill-rule=\"evenodd\" fill-opacity=\"1\" /><path clip-path=\"url(#clip910)\" d=\"M120.922 1457.13 L125.807 1457.13 L125.807 1463.01 L120.922 1463.01 L120.922 1457.13 Z\" fill=\"#000000\" fill-rule=\"evenodd\" fill-opacity=\"1\" /><path clip-path=\"url(#clip910)\" d=\"M145.992 1431.53 Q142.381 1431.53 140.552 1435.09 Q138.746 1438.63 138.746 1445.76 Q138.746 1452.87 140.552 1456.43 Q142.381 1459.97 145.992 1459.97 Q149.626 1459.97 151.431 1456.43 Q153.26 1452.87 153.26 1445.76 Q153.26 1438.63 151.431 1435.09 Q149.626 1431.53 145.992 1431.53 M145.992 1427.82 Q151.802 1427.82 154.857 1432.43 Q157.936 1437.01 157.936 1445.76 Q157.936 1454.49 154.857 1459.09 Q151.802 1463.68 145.992 1463.68 Q140.181 1463.68 137.103 1459.09 Q134.047 1454.49 134.047 1445.76 Q134.047 1437.01 137.103 1432.43 Q140.181 1427.82 145.992 1427.82 Z\" fill=\"#000000\" fill-rule=\"evenodd\" fill-opacity=\"1\" /><path clip-path=\"url(#clip910)\" d=\"M51.9875 1106.74 L81.6633 1106.74 L81.6633 1110.68 L51.9875 1110.68 L51.9875 1106.74 Z\" fill=\"#000000\" fill-rule=\"evenodd\" fill-opacity=\"1\" /><path clip-path=\"url(#clip910)\" d=\"M101.756 1092.09 Q98.1447 1092.09 96.316 1095.65 Q94.5104 1099.19 94.5104 1106.32 Q94.5104 1113.43 96.316 1117 Q98.1447 1120.54 101.756 1120.54 Q105.39 1120.54 107.196 1117 Q109.024 1113.43 109.024 1106.32 Q109.024 1099.19 107.196 1095.65 Q105.39 1092.09 101.756 1092.09 M101.756 1088.38 Q107.566 1088.38 110.621 1092.99 Q113.7 1097.57 113.7 1106.32 Q113.7 1115.05 110.621 1119.66 Q107.566 1124.24 101.756 1124.24 Q95.9456 1124.24 92.8669 1119.66 Q89.8114 1115.05 89.8114 1106.32 Q89.8114 1097.57 92.8669 1092.99 Q95.9456 1088.38 101.756 1088.38 Z\" fill=\"#000000\" fill-rule=\"evenodd\" fill-opacity=\"1\" /><path clip-path=\"url(#clip910)\" d=\"M121.918 1117.69 L126.802 1117.69 L126.802 1123.57 L121.918 1123.57 L121.918 1117.69 Z\" fill=\"#000000\" fill-rule=\"evenodd\" fill-opacity=\"1\" /><path clip-path=\"url(#clip910)\" d=\"M137.033 1089.01 L155.39 1089.01 L155.39 1092.94 L141.316 1092.94 L141.316 1101.42 Q142.334 1101.07 143.353 1100.91 Q144.371 1100.72 145.39 1100.72 Q151.177 1100.72 154.556 1103.89 Q157.936 1107.06 157.936 1112.48 Q157.936 1118.06 154.464 1121.16 Q150.992 1124.24 144.672 1124.24 Q142.496 1124.24 140.228 1123.87 Q137.982 1123.5 135.575 1122.76 L135.575 1118.06 Q137.658 1119.19 139.881 1119.75 Q142.103 1120.31 144.58 1120.31 Q148.584 1120.31 150.922 1118.2 Q153.26 1116.09 153.26 1112.48 Q153.26 1108.87 150.922 1106.76 Q148.584 1104.66 144.58 1104.66 Q142.705 1104.66 140.83 1105.07 Q138.978 1105.49 137.033 1106.37 L137.033 1089.01 Z\" fill=\"#000000\" fill-rule=\"evenodd\" fill-opacity=\"1\" /><path clip-path=\"url(#clip910)\" d=\"M100.76 752.65 Q97.1493 752.65 95.3206 756.215 Q93.515 759.757 93.515 766.886 Q93.515 773.993 95.3206 777.557 Q97.1493 781.099 100.76 781.099 Q104.395 781.099 106.2 777.557 Q108.029 773.993 108.029 766.886 Q108.029 759.757 106.2 756.215 Q104.395 752.65 100.76 752.65 M100.76 748.946 Q106.571 748.946 109.626 753.553 Q112.705 758.136 112.705 766.886 Q112.705 775.613 109.626 780.219 Q106.571 784.803 100.76 784.803 Q94.9502 784.803 91.8715 780.219 Q88.816 775.613 88.816 766.886 Q88.816 758.136 91.8715 753.553 Q94.9502 748.946 100.76 748.946 Z\" fill=\"#000000\" fill-rule=\"evenodd\" fill-opacity=\"1\" /><path clip-path=\"url(#clip910)\" d=\"M120.922 778.252 L125.807 778.252 L125.807 784.131 L120.922 784.131 L120.922 778.252 Z\" fill=\"#000000\" fill-rule=\"evenodd\" fill-opacity=\"1\" /><path clip-path=\"url(#clip910)\" d=\"M145.992 752.65 Q142.381 752.65 140.552 756.215 Q138.746 759.757 138.746 766.886 Q138.746 773.993 140.552 777.557 Q142.381 781.099 145.992 781.099 Q149.626 781.099 151.431 777.557 Q153.26 773.993 153.26 766.886 Q153.26 759.757 151.431 756.215 Q149.626 752.65 145.992 752.65 M145.992 748.946 Q151.802 748.946 154.857 753.553 Q157.936 758.136 157.936 766.886 Q157.936 775.613 154.857 780.219 Q151.802 784.803 145.992 784.803 Q140.181 784.803 137.103 780.219 Q134.047 775.613 134.047 766.886 Q134.047 758.136 137.103 753.553 Q140.181 748.946 145.992 748.946 Z\" fill=\"#000000\" fill-rule=\"evenodd\" fill-opacity=\"1\" /><path clip-path=\"url(#clip910)\" d=\"M101.756 413.212 Q98.1447 413.212 96.316 416.777 Q94.5104 420.319 94.5104 427.448 Q94.5104 434.555 96.316 438.12 Q98.1447 441.661 101.756 441.661 Q105.39 441.661 107.196 438.12 Q109.024 434.555 109.024 427.448 Q109.024 420.319 107.196 416.777 Q105.39 413.212 101.756 413.212 M101.756 409.509 Q107.566 409.509 110.621 414.115 Q113.7 418.699 113.7 427.448 Q113.7 436.175 110.621 440.782 Q107.566 445.365 101.756 445.365 Q95.9456 445.365 92.8669 440.782 Q89.8114 436.175 89.8114 427.448 Q89.8114 418.699 92.8669 414.115 Q95.9456 409.509 101.756 409.509 Z\" fill=\"#000000\" fill-rule=\"evenodd\" fill-opacity=\"1\" /><path clip-path=\"url(#clip910)\" d=\"M121.918 438.814 L126.802 438.814 L126.802 444.694 L121.918 444.694 L121.918 438.814 Z\" fill=\"#000000\" fill-rule=\"evenodd\" fill-opacity=\"1\" /><path clip-path=\"url(#clip910)\" d=\"M137.033 410.134 L155.39 410.134 L155.39 414.069 L141.316 414.069 L141.316 422.541 Q142.334 422.194 143.353 422.032 Q144.371 421.847 145.39 421.847 Q151.177 421.847 154.556 425.018 Q157.936 428.189 157.936 433.606 Q157.936 439.185 154.464 442.286 Q150.992 445.365 144.672 445.365 Q142.496 445.365 140.228 444.995 Q137.982 444.624 135.575 443.884 L135.575 439.185 Q137.658 440.319 139.881 440.874 Q142.103 441.43 144.58 441.43 Q148.584 441.43 150.922 439.323 Q153.26 437.217 153.26 433.606 Q153.26 429.995 150.922 427.888 Q148.584 425.782 144.58 425.782 Q142.705 425.782 140.83 426.198 Q138.978 426.615 137.033 427.495 L137.033 410.134 Z\" fill=\"#000000\" fill-rule=\"evenodd\" fill-opacity=\"1\" /><path clip-path=\"url(#clip910)\" d=\"M91.5706 101.321 L99.2095 101.321 L99.2095 74.9553 L90.8993 76.622 L90.8993 72.3627 L99.1632 70.6961 L103.839 70.6961 L103.839 101.321 L111.478 101.321 L111.478 105.256 L91.5706 105.256 L91.5706 101.321 Z\" fill=\"#000000\" fill-rule=\"evenodd\" fill-opacity=\"1\" /><path clip-path=\"url(#clip910)\" d=\"M120.922 99.3765 L125.807 99.3765 L125.807 105.256 L120.922 105.256 L120.922 99.3765 Z\" fill=\"#000000\" fill-rule=\"evenodd\" fill-opacity=\"1\" /><path clip-path=\"url(#clip910)\" d=\"M145.992 73.7748 Q142.381 73.7748 140.552 77.3395 Q138.746 80.8812 138.746 88.0108 Q138.746 95.1172 140.552 98.682 Q142.381 102.224 145.992 102.224 Q149.626 102.224 151.431 98.682 Q153.26 95.1172 153.26 88.0108 Q153.26 80.8812 151.431 77.3395 Q149.626 73.7748 145.992 73.7748 M145.992 70.0711 Q151.802 70.0711 154.857 74.6775 Q157.936 79.2608 157.936 88.0108 Q157.936 96.7376 154.857 101.344 Q151.802 105.927 145.992 105.927 Q140.181 105.927 137.103 101.344 Q134.047 96.7376 134.047 88.0108 Q134.047 79.2608 137.103 74.6775 Q140.181 70.0711 145.992 70.0711 Z\" fill=\"#000000\" fill-rule=\"evenodd\" fill-opacity=\"1\" /><polyline clip-path=\"url(#clip912)\" style=\"stroke:#009af9; stroke-linecap:round; stroke-linejoin:round; stroke-width:4; stroke-opacity:1; fill:none\" points=\"\n",
       "  255.035,766.851 258.35,749.497 261.664,732.153 264.979,714.832 268.294,697.546 283.62,618.39 298.945,541.307 306.608,503.88 314.27,467.371 321.933,431.908 \n",
       "  329.596,397.614 337.259,364.61 344.921,333.01 352.584,302.926 360.247,274.461 367.91,247.716 375.572,222.783 383.235,199.75 390.898,178.698 400.108,156.118 \n",
       "  409.318,136.618 418.527,120.298 427.737,107.238 436.947,97.5054 446.157,91.1486 450.762,89.2469 455.367,88.1999 459.972,88.0089 464.577,88.6741 472.364,91.7443 \n",
       "  480.151,97.2488 487.938,105.168 495.725,115.473 503.512,128.127 511.299,143.084 519.085,160.29 526.872,179.684 535.331,203.147 543.79,229.009 552.249,257.159 \n",
       "  560.707,287.478 569.166,319.837 577.625,354.097 586.084,390.114 594.542,427.734 610.139,500.758 625.735,577.628 641.332,657.233 656.928,738.422 673.649,825.891 \n",
       "  690.37,912.378 707.091,996.449 723.812,1076.71 733.499,1120.93 743.185,1163.17 752.872,1203.21 762.558,1240.81 772.245,1275.76 781.931,1307.88 791.617,1336.98 \n",
       "  801.304,1362.9 809.912,1383.14 818.52,1400.67 827.129,1415.41 835.737,1427.29 844.345,1436.26 852.953,1442.28 861.561,1445.33 870.17,1445.38 877.718,1442.97 \n",
       "  885.267,1438.26 892.815,1431.28 900.364,1422.05 907.913,1410.6 915.461,1396.97 923.01,1381.2 930.558,1363.35 938.788,1341.59 947.018,1317.51 955.248,1291.21 \n",
       "  963.478,1262.81 971.708,1232.4 979.938,1200.12 988.168,1166.1 996.398,1130.46 1004.68,1093.14 1012.96,1054.49 1021.24,1014.66 1029.51,973.83 1046.07,889.8 \n",
       "  1062.63,803.767 1080.94,708.005 1099.24,613.414 1108.4,567.148 1117.55,521.876 1126.7,477.826 1135.86,435.215 1144.57,396.203 1153.28,358.862 1161.98,323.362 \n",
       "  1170.69,289.862 1179.4,258.514 1188.11,229.458 1196.82,202.826 1205.53,178.738 1214.59,156.507 1223.64,137.252 1232.7,121.066 1241.75,108.03 1250.81,98.206 \n",
       "  1259.86,91.6426 1264.39,89.5941 1268.92,88.3715 1273.45,87.9763 1277.98,88.4088 1285.6,91.0052 1293.22,95.9371 1300.84,103.187 1308.47,112.731 1316.09,124.535 \n",
       "  1323.71,138.559 1331.34,154.754 1338.96,173.064 1348.27,198.194 1357.57,226.252 1366.88,257.094 1376.19,290.562 1385.49,326.483 1394.8,364.671 1404.11,404.931 \n",
       "  1413.41,447.055 1421.94,487.094 1430.46,528.343 1438.99,570.622 1447.51,613.749 1464.57,701.799 1481.62,790.973 1497.36,872.997 1513.11,953.457 1528.86,1031.17 \n",
       "  1544.61,1104.98 1552.58,1140.53 1560.56,1174.67 1568.54,1207.27 1576.51,1238.2 1584.49,1267.34 1592.46,1294.59 1600.44,1319.85 1608.42,1343.01 1617.36,1366.38 \n",
       "  1626.29,1386.89 1635.23,1404.46 1644.17,1419.01 1653.11,1430.45 1662.05,1438.74 1670.99,1443.84 1679.93,1445.72 1688.03,1444.63 1696.13,1440.91 1704.23,1434.55 \n",
       "  1712.33,1425.59 1720.43,1414.06 1728.53,1400 1736.63,1383.47 1744.73,1364.54 1754,1340.01 1763.28,1312.54 1772.55,1282.28 1781.83,1249.39 1791.1,1214.03 \n",
       "  1800.37,1176.38 1809.65,1136.63 1818.92,1095 1827.51,1054.95 1836.1,1013.64 1844.68,971.239 1853.27,927.947 1870.44,839.437 1887.62,749.655 1904.55,661.429 \n",
       "  1921.48,574.997 1929.95,532.916 1938.41,491.833 1946.88,451.921 1955.34,413.352 1963.56,377.344 1971.78,342.901 1980,310.161 1988.22,279.257 1996.44,250.311 \n",
       "  2004.66,223.44 2012.88,198.753 2021.1,176.348 2029.53,155.843 2037.95,137.919 2046.38,122.649 2054.8,110.099 2063.23,100.322 2071.66,93.3593 2080.08,89.2399 \n",
       "  2088.51,87.9814 2097.74,89.8927 2106.97,95.2346 2116.2,103.98 2125.44,116.085 2134.67,131.487 2143.9,150.109 2153.13,171.857 2162.36,196.62 2169.07,216.425 \n",
       "  2175.77,237.702 2182.48,260.395 2189.18,284.441 2195.89,309.778 2202.59,336.336 2209.3,364.046 2216,392.833 2229.42,453.328 2242.83,517.174 2256.24,583.688 \n",
       "  2269.65,652.161 2275.15,680.652 2280.65,709.299 2286.15,738.049 2291.66,766.851 \n",
       "  \"/>\n",
       "<path clip-path=\"url(#clip910)\" d=\"\n",
       "M2012.48 1438.47 L2280.8 1438.47 L2280.8 1334.79 L2012.48 1334.79  Z\n",
       "  \" fill=\"#ffffff\" fill-rule=\"evenodd\" fill-opacity=\"1\"/>\n",
       "<polyline clip-path=\"url(#clip910)\" style=\"stroke:#000000; stroke-linecap:round; stroke-linejoin:round; stroke-width:4; stroke-opacity:1; fill:none\" points=\"\n",
       "  2012.48,1438.47 2280.8,1438.47 2280.8,1334.79 2012.48,1334.79 2012.48,1438.47 \n",
       "  \"/>\n",
       "<polyline clip-path=\"url(#clip910)\" style=\"stroke:#009af9; stroke-linecap:round; stroke-linejoin:round; stroke-width:4; stroke-opacity:1; fill:none\" points=\"\n",
       "  2036.47,1386.63 2180.39,1386.63 \n",
       "  \"/>\n",
       "<path clip-path=\"url(#clip910)\" d=\"M2218.22 1406.32 Q2216.42 1410.95 2214.7 1412.36 Q2212.99 1413.78 2210.12 1413.78 L2206.72 1413.78 L2206.72 1410.21 L2209.22 1410.21 Q2210.98 1410.21 2211.95 1409.38 Q2212.92 1408.54 2214.1 1405.44 L2214.86 1403.5 L2204.38 1377.99 L2208.89 1377.99 L2216.99 1398.27 L2225.1 1377.99 L2229.61 1377.99 L2218.22 1406.32 Z\" fill=\"#000000\" fill-rule=\"evenodd\" fill-opacity=\"1\" /><path clip-path=\"url(#clip910)\" d=\"M2236.9 1399.98 L2244.54 1399.98 L2244.54 1373.61 L2236.23 1375.28 L2236.23 1371.02 L2244.49 1369.35 L2249.17 1369.35 L2249.17 1399.98 L2256.81 1399.98 L2256.81 1403.91 L2236.9 1403.91 L2236.9 1399.98 Z\" fill=\"#000000\" fill-rule=\"evenodd\" fill-opacity=\"1\" /></svg>\n"
      ]
     },
     "execution_count": 44,
     "metadata": {},
     "output_type": "execute_result"
    }
   ],
   "source": [
    "plot(sin, -2*pi, 3*pi)"
   ]
  },
  {
   "cell_type": "code",
   "execution_count": 45,
   "id": "0aa2b0c3-062d-41a9-86ac-595fb2c5735d",
   "metadata": {},
   "outputs": [
    {
     "data": {
      "image/svg+xml": [
       "<?xml version=\"1.0\" encoding=\"utf-8\"?>\n",
       "<svg xmlns=\"http://www.w3.org/2000/svg\" xmlns:xlink=\"http://www.w3.org/1999/xlink\" width=\"600\" height=\"400\" viewBox=\"0 0 2400 1600\">\n",
       "<defs>\n",
       "  <clipPath id=\"clip950\">\n",
       "    <rect x=\"0\" y=\"0\" width=\"2400\" height=\"1600\"/>\n",
       "  </clipPath>\n",
       "</defs>\n",
       "<path clip-path=\"url(#clip950)\" d=\"\n",
       "M0 1600 L2400 1600 L2400 0 L0 0  Z\n",
       "  \" fill=\"#ffffff\" fill-rule=\"evenodd\" fill-opacity=\"1\"/>\n",
       "<defs>\n",
       "  <clipPath id=\"clip951\">\n",
       "    <rect x=\"480\" y=\"0\" width=\"1681\" height=\"1600\"/>\n",
       "  </clipPath>\n",
       "</defs>\n",
       "<path clip-path=\"url(#clip950)\" d=\"\n",
       "M193.936 1486.45 L2352.76 1486.45 L2352.76 47.2441 L193.936 47.2441  Z\n",
       "  \" fill=\"#ffffff\" fill-rule=\"evenodd\" fill-opacity=\"1\"/>\n",
       "<defs>\n",
       "  <clipPath id=\"clip952\">\n",
       "    <rect x=\"193\" y=\"47\" width=\"2160\" height=\"1440\"/>\n",
       "  </clipPath>\n",
       "</defs>\n",
       "<polyline clip-path=\"url(#clip952)\" style=\"stroke:#000000; stroke-linecap:round; stroke-linejoin:round; stroke-width:2; stroke-opacity:0.1; fill:none\" points=\"\n",
       "  551.062,1486.45 551.062,47.2441 \n",
       "  \"/>\n",
       "<polyline clip-path=\"url(#clip952)\" style=\"stroke:#000000; stroke-linecap:round; stroke-linejoin:round; stroke-width:2; stroke-opacity:0.1; fill:none\" points=\"\n",
       "  1069.68,1486.45 1069.68,47.2441 \n",
       "  \"/>\n",
       "<polyline clip-path=\"url(#clip952)\" style=\"stroke:#000000; stroke-linecap:round; stroke-linejoin:round; stroke-width:2; stroke-opacity:0.1; fill:none\" points=\"\n",
       "  1588.31,1486.45 1588.31,47.2441 \n",
       "  \"/>\n",
       "<polyline clip-path=\"url(#clip952)\" style=\"stroke:#000000; stroke-linecap:round; stroke-linejoin:round; stroke-width:2; stroke-opacity:0.1; fill:none\" points=\"\n",
       "  2106.93,1486.45 2106.93,47.2441 \n",
       "  \"/>\n",
       "<polyline clip-path=\"url(#clip950)\" style=\"stroke:#000000; stroke-linecap:round; stroke-linejoin:round; stroke-width:4; stroke-opacity:1; fill:none\" points=\"\n",
       "  193.936,1486.45 2352.76,1486.45 \n",
       "  \"/>\n",
       "<polyline clip-path=\"url(#clip950)\" style=\"stroke:#000000; stroke-linecap:round; stroke-linejoin:round; stroke-width:4; stroke-opacity:1; fill:none\" points=\"\n",
       "  551.062,1486.45 551.062,1467.55 \n",
       "  \"/>\n",
       "<polyline clip-path=\"url(#clip950)\" style=\"stroke:#000000; stroke-linecap:round; stroke-linejoin:round; stroke-width:4; stroke-opacity:1; fill:none\" points=\"\n",
       "  1069.68,1486.45 1069.68,1467.55 \n",
       "  \"/>\n",
       "<polyline clip-path=\"url(#clip950)\" style=\"stroke:#000000; stroke-linecap:round; stroke-linejoin:round; stroke-width:4; stroke-opacity:1; fill:none\" points=\"\n",
       "  1588.31,1486.45 1588.31,1467.55 \n",
       "  \"/>\n",
       "<polyline clip-path=\"url(#clip950)\" style=\"stroke:#000000; stroke-linecap:round; stroke-linejoin:round; stroke-width:4; stroke-opacity:1; fill:none\" points=\"\n",
       "  2106.93,1486.45 2106.93,1467.55 \n",
       "  \"/>\n",
       "<path clip-path=\"url(#clip950)\" d=\"M521.004 1532.02 L550.68 1532.02 L550.68 1535.95 L521.004 1535.95 L521.004 1532.02 Z\" fill=\"#000000\" fill-rule=\"evenodd\" fill-opacity=\"1\" /><path clip-path=\"url(#clip950)\" d=\"M564.8 1544.91 L581.12 1544.91 L581.12 1548.85 L559.175 1548.85 L559.175 1544.91 Q561.837 1542.16 566.421 1537.53 Q571.027 1532.88 572.208 1531.53 Q574.453 1529.01 575.333 1527.27 Q576.235 1525.51 576.235 1523.82 Q576.235 1521.07 574.291 1519.33 Q572.37 1517.6 569.268 1517.6 Q567.069 1517.6 564.615 1518.36 Q562.185 1519.13 559.407 1520.68 L559.407 1515.95 Q562.231 1514.82 564.685 1514.24 Q567.138 1513.66 569.175 1513.66 Q574.546 1513.66 577.74 1516.35 Q580.935 1519.03 580.935 1523.52 Q580.935 1525.65 580.124 1527.57 Q579.337 1529.47 577.231 1532.07 Q576.652 1532.74 573.55 1535.95 Q570.448 1539.15 564.8 1544.91 Z\" fill=\"#000000\" fill-rule=\"evenodd\" fill-opacity=\"1\" /><path clip-path=\"url(#clip950)\" d=\"M1069.68 1517.37 Q1066.07 1517.37 1064.24 1520.93 Q1062.44 1524.47 1062.44 1531.6 Q1062.44 1538.71 1064.24 1542.27 Q1066.07 1545.82 1069.68 1545.82 Q1073.32 1545.82 1075.12 1542.27 Q1076.95 1538.71 1076.95 1531.6 Q1076.95 1524.47 1075.12 1520.93 Q1073.32 1517.37 1069.68 1517.37 M1069.68 1513.66 Q1075.49 1513.66 1078.55 1518.27 Q1081.63 1522.85 1081.63 1531.6 Q1081.63 1540.33 1078.55 1544.94 Q1075.49 1549.52 1069.68 1549.52 Q1063.87 1549.52 1060.79 1544.94 Q1057.74 1540.33 1057.74 1531.6 Q1057.74 1522.85 1060.79 1518.27 Q1063.87 1513.66 1069.68 1513.66 Z\" fill=\"#000000\" fill-rule=\"evenodd\" fill-opacity=\"1\" /><path clip-path=\"url(#clip950)\" d=\"M1582.96 1544.91 L1599.28 1544.91 L1599.28 1548.85 L1577.33 1548.85 L1577.33 1544.91 Q1580 1542.16 1584.58 1537.53 Q1589.18 1532.88 1590.37 1531.53 Q1592.61 1529.01 1593.49 1527.27 Q1594.39 1525.51 1594.39 1523.82 Q1594.39 1521.07 1592.45 1519.33 Q1590.53 1517.6 1587.43 1517.6 Q1585.23 1517.6 1582.77 1518.36 Q1580.34 1519.13 1577.56 1520.68 L1577.56 1515.95 Q1580.39 1514.82 1582.84 1514.24 Q1585.3 1513.66 1587.33 1513.66 Q1592.7 1513.66 1595.9 1516.35 Q1599.09 1519.03 1599.09 1523.52 Q1599.09 1525.65 1598.28 1527.57 Q1597.5 1529.47 1595.39 1532.07 Q1594.81 1532.74 1591.71 1535.95 Q1588.61 1539.15 1582.96 1544.91 Z\" fill=\"#000000\" fill-rule=\"evenodd\" fill-opacity=\"1\" /><path clip-path=\"url(#clip950)\" d=\"M2109.94 1518.36 L2098.13 1536.81 L2109.94 1536.81 L2109.94 1518.36 M2108.71 1514.29 L2114.59 1514.29 L2114.59 1536.81 L2119.52 1536.81 L2119.52 1540.7 L2114.59 1540.7 L2114.59 1548.85 L2109.94 1548.85 L2109.94 1540.7 L2094.33 1540.7 L2094.33 1536.19 L2108.71 1514.29 Z\" fill=\"#000000\" fill-rule=\"evenodd\" fill-opacity=\"1\" /><polyline clip-path=\"url(#clip952)\" style=\"stroke:#000000; stroke-linecap:round; stroke-linejoin:round; stroke-width:2; stroke-opacity:0.1; fill:none\" points=\"\n",
       "  193.936,1445.72 2352.76,1445.72 \n",
       "  \"/>\n",
       "<polyline clip-path=\"url(#clip952)\" style=\"stroke:#000000; stroke-linecap:round; stroke-linejoin:round; stroke-width:2; stroke-opacity:0.1; fill:none\" points=\"\n",
       "  193.936,1106.29 2352.76,1106.29 \n",
       "  \"/>\n",
       "<polyline clip-path=\"url(#clip952)\" style=\"stroke:#000000; stroke-linecap:round; stroke-linejoin:round; stroke-width:2; stroke-opacity:0.1; fill:none\" points=\"\n",
       "  193.936,766.849 2352.76,766.849 \n",
       "  \"/>\n",
       "<polyline clip-path=\"url(#clip952)\" style=\"stroke:#000000; stroke-linecap:round; stroke-linejoin:round; stroke-width:2; stroke-opacity:0.1; fill:none\" points=\"\n",
       "  193.936,427.412 2352.76,427.412 \n",
       "  \"/>\n",
       "<polyline clip-path=\"url(#clip952)\" style=\"stroke:#000000; stroke-linecap:round; stroke-linejoin:round; stroke-width:2; stroke-opacity:0.1; fill:none\" points=\"\n",
       "  193.936,87.9756 2352.76,87.9756 \n",
       "  \"/>\n",
       "<polyline clip-path=\"url(#clip950)\" style=\"stroke:#000000; stroke-linecap:round; stroke-linejoin:round; stroke-width:4; stroke-opacity:1; fill:none\" points=\"\n",
       "  193.936,1486.45 193.936,47.2441 \n",
       "  \"/>\n",
       "<polyline clip-path=\"url(#clip950)\" style=\"stroke:#000000; stroke-linecap:round; stroke-linejoin:round; stroke-width:4; stroke-opacity:1; fill:none\" points=\"\n",
       "  193.936,1445.72 212.834,1445.72 \n",
       "  \"/>\n",
       "<polyline clip-path=\"url(#clip950)\" style=\"stroke:#000000; stroke-linecap:round; stroke-linejoin:round; stroke-width:4; stroke-opacity:1; fill:none\" points=\"\n",
       "  193.936,1106.29 212.834,1106.29 \n",
       "  \"/>\n",
       "<polyline clip-path=\"url(#clip950)\" style=\"stroke:#000000; stroke-linecap:round; stroke-linejoin:round; stroke-width:4; stroke-opacity:1; fill:none\" points=\"\n",
       "  193.936,766.849 212.834,766.849 \n",
       "  \"/>\n",
       "<polyline clip-path=\"url(#clip950)\" style=\"stroke:#000000; stroke-linecap:round; stroke-linejoin:round; stroke-width:4; stroke-opacity:1; fill:none\" points=\"\n",
       "  193.936,427.412 212.834,427.412 \n",
       "  \"/>\n",
       "<polyline clip-path=\"url(#clip950)\" style=\"stroke:#000000; stroke-linecap:round; stroke-linejoin:round; stroke-width:4; stroke-opacity:1; fill:none\" points=\"\n",
       "  193.936,87.9756 212.834,87.9756 \n",
       "  \"/>\n",
       "<path clip-path=\"url(#clip950)\" d=\"M50.9921 1446.17 L80.6679 1446.17 L80.6679 1450.11 L50.9921 1450.11 L50.9921 1446.17 Z\" fill=\"#000000\" fill-rule=\"evenodd\" fill-opacity=\"1\" /><path clip-path=\"url(#clip950)\" d=\"M91.5706 1459.07 L99.2095 1459.07 L99.2095 1432.7 L90.8993 1434.37 L90.8993 1430.11 L99.1632 1428.44 L103.839 1428.44 L103.839 1459.07 L111.478 1459.07 L111.478 1463 L91.5706 1463 L91.5706 1459.07 Z\" fill=\"#000000\" fill-rule=\"evenodd\" fill-opacity=\"1\" /><path clip-path=\"url(#clip950)\" d=\"M120.922 1457.12 L125.807 1457.12 L125.807 1463 L120.922 1463 L120.922 1457.12 Z\" fill=\"#000000\" fill-rule=\"evenodd\" fill-opacity=\"1\" /><path clip-path=\"url(#clip950)\" d=\"M145.992 1431.52 Q142.381 1431.52 140.552 1435.09 Q138.746 1438.63 138.746 1445.76 Q138.746 1452.86 140.552 1456.43 Q142.381 1459.97 145.992 1459.97 Q149.626 1459.97 151.431 1456.43 Q153.26 1452.86 153.26 1445.76 Q153.26 1438.63 151.431 1435.09 Q149.626 1431.52 145.992 1431.52 M145.992 1427.82 Q151.802 1427.82 154.857 1432.42 Q157.936 1437.01 157.936 1445.76 Q157.936 1454.48 154.857 1459.09 Q151.802 1463.67 145.992 1463.67 Q140.181 1463.67 137.103 1459.09 Q134.047 1454.48 134.047 1445.76 Q134.047 1437.01 137.103 1432.42 Q140.181 1427.82 145.992 1427.82 Z\" fill=\"#000000\" fill-rule=\"evenodd\" fill-opacity=\"1\" /><path clip-path=\"url(#clip950)\" d=\"M51.9875 1106.74 L81.6633 1106.74 L81.6633 1110.67 L51.9875 1110.67 L51.9875 1106.74 Z\" fill=\"#000000\" fill-rule=\"evenodd\" fill-opacity=\"1\" /><path clip-path=\"url(#clip950)\" d=\"M101.756 1092.08 Q98.1447 1092.08 96.316 1095.65 Q94.5104 1099.19 94.5104 1106.32 Q94.5104 1113.43 96.316 1116.99 Q98.1447 1120.53 101.756 1120.53 Q105.39 1120.53 107.196 1116.99 Q109.024 1113.43 109.024 1106.32 Q109.024 1099.19 107.196 1095.65 Q105.39 1092.08 101.756 1092.08 M101.756 1088.38 Q107.566 1088.38 110.621 1092.99 Q113.7 1097.57 113.7 1106.32 Q113.7 1115.05 110.621 1119.65 Q107.566 1124.24 101.756 1124.24 Q95.9456 1124.24 92.8669 1119.65 Q89.8114 1115.05 89.8114 1106.32 Q89.8114 1097.57 92.8669 1092.99 Q95.9456 1088.38 101.756 1088.38 Z\" fill=\"#000000\" fill-rule=\"evenodd\" fill-opacity=\"1\" /><path clip-path=\"url(#clip950)\" d=\"M121.918 1117.69 L126.802 1117.69 L126.802 1123.57 L121.918 1123.57 L121.918 1117.69 Z\" fill=\"#000000\" fill-rule=\"evenodd\" fill-opacity=\"1\" /><path clip-path=\"url(#clip950)\" d=\"M137.033 1089.01 L155.39 1089.01 L155.39 1092.94 L141.316 1092.94 L141.316 1101.41 Q142.334 1101.07 143.353 1100.9 Q144.371 1100.72 145.39 1100.72 Q151.177 1100.72 154.556 1103.89 Q157.936 1107.06 157.936 1112.48 Q157.936 1118.06 154.464 1121.16 Q150.992 1124.24 144.672 1124.24 Q142.496 1124.24 140.228 1123.87 Q137.982 1123.5 135.575 1122.76 L135.575 1118.06 Q137.658 1119.19 139.881 1119.75 Q142.103 1120.3 144.58 1120.3 Q148.584 1120.3 150.922 1118.2 Q153.26 1116.09 153.26 1112.48 Q153.26 1108.87 150.922 1106.76 Q148.584 1104.65 144.58 1104.65 Q142.705 1104.65 140.83 1105.07 Q138.978 1105.49 137.033 1106.37 L137.033 1089.01 Z\" fill=\"#000000\" fill-rule=\"evenodd\" fill-opacity=\"1\" /><path clip-path=\"url(#clip950)\" d=\"M100.76 752.648 Q97.1493 752.648 95.3206 756.213 Q93.515 759.754 93.515 766.884 Q93.515 773.99 95.3206 777.555 Q97.1493 781.097 100.76 781.097 Q104.395 781.097 106.2 777.555 Q108.029 773.99 108.029 766.884 Q108.029 759.754 106.2 756.213 Q104.395 752.648 100.76 752.648 M100.76 748.944 Q106.571 748.944 109.626 753.551 Q112.705 758.134 112.705 766.884 Q112.705 775.611 109.626 780.217 Q106.571 784.8 100.76 784.8 Q94.9502 784.8 91.8715 780.217 Q88.816 775.611 88.816 766.884 Q88.816 758.134 91.8715 753.551 Q94.9502 748.944 100.76 748.944 Z\" fill=\"#000000\" fill-rule=\"evenodd\" fill-opacity=\"1\" /><path clip-path=\"url(#clip950)\" d=\"M120.922 778.25 L125.807 778.25 L125.807 784.129 L120.922 784.129 L120.922 778.25 Z\" fill=\"#000000\" fill-rule=\"evenodd\" fill-opacity=\"1\" /><path clip-path=\"url(#clip950)\" d=\"M145.992 752.648 Q142.381 752.648 140.552 756.213 Q138.746 759.754 138.746 766.884 Q138.746 773.99 140.552 777.555 Q142.381 781.097 145.992 781.097 Q149.626 781.097 151.431 777.555 Q153.26 773.99 153.26 766.884 Q153.26 759.754 151.431 756.213 Q149.626 752.648 145.992 752.648 M145.992 748.944 Q151.802 748.944 154.857 753.551 Q157.936 758.134 157.936 766.884 Q157.936 775.611 154.857 780.217 Q151.802 784.8 145.992 784.8 Q140.181 784.8 137.103 780.217 Q134.047 775.611 134.047 766.884 Q134.047 758.134 137.103 753.551 Q140.181 748.944 145.992 748.944 Z\" fill=\"#000000\" fill-rule=\"evenodd\" fill-opacity=\"1\" /><path clip-path=\"url(#clip950)\" d=\"M101.756 413.211 Q98.1447 413.211 96.316 416.776 Q94.5104 420.318 94.5104 427.447 Q94.5104 434.554 96.316 438.118 Q98.1447 441.66 101.756 441.66 Q105.39 441.66 107.196 438.118 Q109.024 434.554 109.024 427.447 Q109.024 420.318 107.196 416.776 Q105.39 413.211 101.756 413.211 M101.756 409.507 Q107.566 409.507 110.621 414.114 Q113.7 418.697 113.7 427.447 Q113.7 436.174 110.621 440.78 Q107.566 445.364 101.756 445.364 Q95.9456 445.364 92.8669 440.78 Q89.8114 436.174 89.8114 427.447 Q89.8114 418.697 92.8669 414.114 Q95.9456 409.507 101.756 409.507 Z\" fill=\"#000000\" fill-rule=\"evenodd\" fill-opacity=\"1\" /><path clip-path=\"url(#clip950)\" d=\"M121.918 438.813 L126.802 438.813 L126.802 444.692 L121.918 444.692 L121.918 438.813 Z\" fill=\"#000000\" fill-rule=\"evenodd\" fill-opacity=\"1\" /><path clip-path=\"url(#clip950)\" d=\"M137.033 410.132 L155.39 410.132 L155.39 414.068 L141.316 414.068 L141.316 422.54 Q142.334 422.193 143.353 422.03 Q144.371 421.845 145.39 421.845 Q151.177 421.845 154.556 425.017 Q157.936 428.188 157.936 433.605 Q157.936 439.183 154.464 442.285 Q150.992 445.364 144.672 445.364 Q142.496 445.364 140.228 444.993 Q137.982 444.623 135.575 443.882 L135.575 439.183 Q137.658 440.317 139.881 440.873 Q142.103 441.429 144.58 441.429 Q148.584 441.429 150.922 439.322 Q153.26 437.216 153.26 433.605 Q153.26 429.993 150.922 427.887 Q148.584 425.78 144.58 425.78 Q142.705 425.78 140.83 426.197 Q138.978 426.614 137.033 427.493 L137.033 410.132 Z\" fill=\"#000000\" fill-rule=\"evenodd\" fill-opacity=\"1\" /><path clip-path=\"url(#clip950)\" d=\"M91.5706 101.32 L99.2095 101.32 L99.2095 74.9549 L90.8993 76.6215 L90.8993 72.3623 L99.1632 70.6956 L103.839 70.6956 L103.839 101.32 L111.478 101.32 L111.478 105.256 L91.5706 105.256 L91.5706 101.32 Z\" fill=\"#000000\" fill-rule=\"evenodd\" fill-opacity=\"1\" /><path clip-path=\"url(#clip950)\" d=\"M120.922 99.376 L125.807 99.376 L125.807 105.256 L120.922 105.256 L120.922 99.376 Z\" fill=\"#000000\" fill-rule=\"evenodd\" fill-opacity=\"1\" /><path clip-path=\"url(#clip950)\" d=\"M145.992 73.7743 Q142.381 73.7743 140.552 77.3391 Q138.746 80.8808 138.746 88.0104 Q138.746 95.1168 140.552 98.6816 Q142.381 102.223 145.992 102.223 Q149.626 102.223 151.431 98.6816 Q153.26 95.1168 153.26 88.0104 Q153.26 80.8808 151.431 77.3391 Q149.626 73.7743 145.992 73.7743 M145.992 70.0706 Q151.802 70.0706 154.857 74.6771 Q157.936 79.2604 157.936 88.0104 Q157.936 96.7372 154.857 101.344 Q151.802 105.927 145.992 105.927 Q140.181 105.927 137.103 101.344 Q134.047 96.7372 134.047 88.0104 Q134.047 79.2604 137.103 74.6771 Q140.181 70.0706 145.992 70.0706 Z\" fill=\"#000000\" fill-rule=\"evenodd\" fill-opacity=\"1\" /><polyline clip-path=\"url(#clip952)\" style=\"stroke:#009af9; stroke-linecap:round; stroke-linejoin:round; stroke-width:4; stroke-opacity:1; fill:none\" points=\"\n",
       "  255.035,737.522 261.664,736.763 268.294,735.984 329.596,727.761 390.898,717.353 427.737,709.814 464.577,701.133 495.725,692.777 526.872,683.368 560.707,671.805 \n",
       "  594.542,658.665 625.735,644.978 656.928,629.603 690.37,611.029 723.812,590.048 762.558,562.385 801.304,530.729 818.52,515.28 835.737,498.935 852.953,481.67 \n",
       "  870.17,463.465 885.267,446.717 900.364,429.234 915.461,411.024 930.558,392.1 963.478,348.512 996.398,302.214 1029.51,253.926 1062.63,205.644 1080.94,179.896 \n",
       "  1099.24,155.575 1117.55,133.444 1135.86,114.431 1144.57,106.794 1153.28,100.245 1161.98,94.9304 1170.69,91.0048 1179.4,88.635 1188.11,87.9977 1196.82,89.2799 \n",
       "  1205.53,92.6779 1210.06,95.3482 1214.59,98.6752 1219.11,102.689 1223.64,107.42 1232.7,119.159 1241.75,134.14 1246.28,142.924 1250.81,152.612 1255.34,163.234 \n",
       "  1259.86,174.821 1264.39,187.401 1268.92,201.002 1273.45,215.652 1277.98,231.376 1285.6,260.339 1293.22,292.514 1300.84,327.978 1308.47,366.787 1316.09,408.964 \n",
       "  1323.71,454.495 1327.52,478.503 1331.34,503.324 1335.15,528.945 1338.96,555.345 1343.61,588.602 1348.27,622.94 1352.92,658.299 1357.57,694.612 1366.88,769.765 \n",
       "  1376.19,847.614 1385.49,927.169 1394.8,1007.22 1404.11,1086.31 1413.41,1162.76 1417.67,1196.37 1421.94,1228.83 1426.2,1259.92 1430.46,1289.43 1434.73,1317.12 \n",
       "  1438.99,1342.77 1443.25,1366.13 1447.51,1386.97 1449.65,1396.37 1451.78,1405.05 1453.91,1412.97 1456.04,1420.11 1458.17,1426.43 1460.3,1431.91 1462.43,1436.52 \n",
       "  1464.57,1440.23 1466.7,1443.01 1468.83,1444.83 1470.96,1445.67 1473.09,1445.49 1475.22,1444.29 1477.35,1442.02 1479.48,1438.67 1481.62,1434.22 1483.58,1429.12 \n",
       "  1485.55,1423.04 1487.52,1415.97 1489.49,1407.92 1491.46,1398.85 1493.43,1388.77 1495.4,1377.67 1497.36,1365.55 1499.33,1352.39 1501.3,1338.2 1503.27,1322.98 \n",
       "  1505.24,1306.74 1507.21,1289.47 1509.17,1271.18 1511.14,1251.9 1513.11,1231.62 1517.05,1188.15 1520.99,1140.94 1524.92,1090.18 1528.86,1036.14 1532.8,979.118 \n",
       "  1536.73,919.471 1540.67,857.614 1544.61,794.018 1552.58,662.055 1560.56,530.185 1564.55,466.08 1568.54,404.241 1570.53,374.429 1572.52,345.496 1574.52,317.548 \n",
       "  1576.51,290.693 1578.51,265.04 1580.5,240.697 1582.49,217.772 1584.49,196.37 1586.48,176.599 1588.48,158.56 1590.47,142.356 1592.46,128.085 1594.46,115.84 \n",
       "  1596.45,105.713 1598.45,97.789 1600.44,92.1478 1602.43,88.8636 1604.43,88.0036 1606.42,89.6276 1608.42,93.7874 1609.53,97.2433 1610.65,101.515 1611.77,106.609 \n",
       "  1612.89,112.528 1615.12,126.855 1617.36,144.511 1619.59,165.488 1621.82,189.763 1622.94,203.123 1624.06,217.289 1625.18,232.252 1626.29,248.001 1628.53,281.81 \n",
       "  1630.76,318.603 1633,358.245 1635.23,400.578 1637.47,445.417 1639.7,492.556 1641.94,541.761 1644.17,592.777 1648.64,699.099 1653.11,809.015 1657.58,919.689 \n",
       "  1662.05,1028.01 1664.28,1080.26 1666.52,1130.68 1668.75,1178.81 1670.99,1224.25 1672.11,1245.82 1673.22,1266.56 1674.34,1286.4 1675.46,1305.31 1676.58,1323.23 \n",
       "  1677.69,1340.11 1678.81,1355.9 1679.93,1370.56 1680.94,1382.82 1681.95,1394.09 1682.97,1404.32 1683.98,1413.48 1684.99,1421.56 1686,1428.51 1687.02,1434.32 \n",
       "  1688.03,1438.97 1689.04,1442.42 1690.05,1444.65 1691.07,1445.66 1692.08,1445.42 1693.09,1443.93 1694.1,1441.15 1695.12,1437.1 1696.13,1431.75 1697.14,1425.12 \n",
       "  1698.15,1417.18 1699.17,1407.95 1700.18,1397.42 1701.19,1385.61 1702.2,1372.52 1703.22,1358.16 1704.23,1342.55 1705.24,1325.71 1706.25,1307.65 1707.27,1288.4 \n",
       "  1708.28,1267.98 1709.29,1246.44 1710.3,1223.79 1711.32,1200.07 1712.33,1175.33 1714.35,1122.95 1716.38,1067.01 1718.4,1007.94 1720.43,946.219 1722.45,882.351 \n",
       "  1724.48,816.899 1726.5,750.457 1728.53,683.655 1730.55,617.15 1732.58,551.624 1734.6,487.772 1736.63,426.303 1737.64,396.683 1738.65,367.923 1739.67,340.112 \n",
       "  1740.68,313.336 1741.69,287.68 1742.7,263.228 1743.72,240.062 1744.73,218.262 1745.31,206.427 1745.89,195.079 1746.47,184.232 1747.05,173.9 1748.21,154.831 \n",
       "  1749.37,137.974 1750.53,123.423 1751.68,111.265 1752.84,101.579 1754,94.4373 1755.16,89.9023 1756.32,88.0274 1757.48,88.856 1758.64,92.4212 1759.22,95.2373 \n",
       "  1759.8,98.7452 1760.38,102.946 1760.96,107.839 1761.54,113.425 1762.12,119.702 1762.7,126.669 1763.28,134.322 1764.44,151.673 1765.6,171.718 1766.75,194.407 \n",
       "  1767.91,219.676 1769.07,247.447 1770.23,277.633 1771.39,310.129 1772.55,344.82 1773.71,381.577 1774.87,420.259 1776.03,460.711 1777.19,502.767 1778.35,546.251 \n",
       "  1779.51,590.974 1780.67,636.737 1781.83,683.332 1784.14,778.14 1786.46,873.57 1788.78,967.698 1791.1,1058.54 1792.26,1102.1 1793.42,1144.09 1794.58,1184.26 \n",
       "  1795.74,1222.37 1796.9,1258.19 1798.05,1291.48 1799.21,1322.03 1800.37,1349.63 1800.95,1362.26 1801.53,1374.08 1802.11,1385.07 1802.69,1395.21 1803.27,1404.47 \n",
       "  1803.85,1412.84 1804.43,1420.3 1805.01,1426.82 1805.59,1432.41 1806.17,1437.04 1806.75,1440.69 1807.33,1443.36 1807.91,1445.04 1808.49,1445.71 1809.07,1445.37 \n",
       "  1809.65,1444.01 1810.23,1441.63 1810.81,1438.23 1811.39,1433.8 1811.97,1428.34 1812.55,1421.85 1813.13,1414.34 1813.7,1405.81 1814.28,1396.27 1814.86,1385.73 \n",
       "  1815.44,1374.2 1816.02,1361.68 1816.6,1348.19 1817.18,1333.75 1817.76,1318.38 1818.34,1302.08 1818.92,1284.89 1819.99,1250.75 1821.07,1213.77 1822.14,1174.11 \n",
       "  1823.21,1131.97 1824.29,1087.57 1825.36,1041.12 1826.44,992.883 1827.51,943.117 1829.66,840.122 1831.8,734.511 1833.95,628.821 1836.1,525.702 1837.17,475.949 \n",
       "  1838.24,427.847 1839.32,381.729 1840.39,337.921 1841.46,296.74 1842.54,258.493 1843.61,223.471 1844.68,191.951 1845.22,177.586 1845.76,164.192 1846.29,151.798 \n",
       "  1846.83,140.431 1847.37,130.117 1847.9,120.881 1848.44,112.746 1848.98,105.732 1849.51,99.86 1850.05,95.146 1850.59,91.606 1851.12,89.2537 1851.66,88.1007 \n",
       "  1852.2,88.1564 1852.73,89.4283 1853.27,91.9217 1853.81,95.6396 1854.34,100.583 1854.88,106.75 1855.42,114.138 1855.95,122.74 1856.49,132.547 1857.03,143.55 \n",
       "  1857.56,155.735 1858.1,169.086 1858.64,183.586 1859.17,199.215 1859.71,215.948 1860.25,233.763 1860.78,252.631 1861.32,272.522 1861.86,293.405 1862.93,338.005 \n",
       "  1864,386.131 1865.08,437.447 1866.15,491.583 1867.22,548.142 1868.3,606.695 1869.37,666.791 1870.44,727.955 1872.59,851.496 1874.74,973.211 1875.81,1032.07 \n",
       "  1876.88,1088.88 1877.96,1143.14 1879.03,1194.34 1879.57,1218.63 1880.1,1241.97 1880.64,1264.3 1881.18,1285.58 1881.71,1305.73 1882.25,1324.71 1882.79,1342.47 \n",
       "  1883.32,1358.96 1883.86,1374.14 1884.4,1387.96 1884.93,1400.38 1885.47,1411.37 1886.01,1420.89 1886.54,1428.9 1887.08,1435.39 1887.62,1440.32 1888.15,1443.64 \n",
       "  1888.68,1445.41 1889.2,1445.62 1889.73,1444.25 1890.26,1441.31 1890.79,1436.79 1891.32,1430.69 1891.85,1423.01 1892.38,1413.76 1892.91,1402.96 1893.44,1390.62 \n",
       "  1893.97,1376.76 1894.5,1361.41 1895.02,1344.59 1895.55,1326.34 1896.08,1306.69 1896.61,1285.68 1897.14,1263.36 1897.67,1239.76 1898.2,1214.95 1898.73,1188.98 \n",
       "  1899.26,1161.9 1899.79,1133.77 1900.32,1104.67 1901.37,1043.79 1902.43,979.851 1903.49,913.462 1904.55,845.284 1905.61,776.011 1906.67,706.359 1907.72,637.064 \n",
       "  1908.78,568.875 1909.84,502.543 1910.9,438.813 1911.43,408.154 1911.96,378.418 1912.49,349.694 1913.01,322.069 1913.54,295.624 1914.07,270.443 1914.6,246.604 \n",
       "  1915.13,224.182 1915.66,203.25 1916.19,183.876 1916.72,166.126 1917.25,150.06 1917.78,135.736 1918.31,123.204 1918.83,112.514 1919.36,103.707 1919.89,96.8198 \n",
       "  1920.42,91.8857 1920.95,88.9309 1921.48,87.9763 1922.01,89.0369 1922.54,92.122 1923.07,97.2348 1923.6,104.372 1924.13,113.525 1924.65,124.678 1925.18,137.809 \n",
       "  1925.71,152.89 1926.24,169.887 1926.77,188.759 1927.3,209.458 1927.83,231.932 1928.36,256.122 1928.89,281.96 1929.42,309.377 1929.95,338.295 1930.48,368.632 \n",
       "  1931,400.298 1931.53,433.202 1932.06,467.243 1933.12,538.326 1934.18,612.669 1935.24,689.337 1936.3,767.341 1937.35,845.657 1938.41,923.232 1939.47,999.005 \n",
       "  1940.53,1071.92 1941.06,1106.97 1941.59,1140.92 1942.12,1173.65 1942.64,1205.02 1943.17,1234.92 1943.7,1263.24 1944.23,1289.87 1944.76,1314.7 1945.29,1337.63 \n",
       "  1945.82,1358.58 1946.35,1377.44 1946.88,1394.14 1947.41,1408.61 1947.94,1420.78 1948.46,1430.6 1948.99,1438 1949.52,1442.96 1950.05,1445.43 1950.58,1445.39 \n",
       "  1951.11,1442.83 1951.64,1437.74 1952.17,1430.12 1952.7,1419.99 1953.23,1407.37 1953.76,1392.3 1954.29,1374.81 1954.81,1354.95 1955.34,1332.8 1955.86,1309.16 \n",
       "  1956.37,1283.49 1956.88,1255.88 1957.4,1226.41 1957.91,1195.19 1958.43,1162.31 1958.94,1127.9 1959.45,1092.07 1959.97,1054.95 1960.48,1016.67 1960.99,977.363 \n",
       "  1961.51,937.183 1962.54,854.787 1963.56,770.714 1964.59,686.248 1965.62,602.708 1966.65,521.423 1967.67,443.713 1968.19,406.602 1968.7,370.865 1969.21,336.653 \n",
       "  1969.73,304.114 1970.24,273.391 1970.75,244.621 1971.27,217.932 1971.78,193.448 1972.3,171.282 1972.81,151.541 1973.32,134.321 1973.84,119.71 1974.35,107.784 \n",
       "  1974.86,98.6091 1975.38,92.2414 1975.89,88.7243 1976.41,88.09 1976.92,90.3581 1977.43,95.5363 1977.95,103.62 1978.46,114.59 1978.97,128.417 1979.49,145.058 \n",
       "  1980,164.456 1980.52,186.541 1981.03,211.233 1981.54,238.437 1982.06,268.046 1982.57,299.944 1983.08,333.999 1983.6,370.071 1984.11,408.009 1984.63,447.651 \n",
       "  1985.14,488.827 1985.65,531.356 1986.17,575.051 1987.19,665.154 1988.22,757.504 1989.25,850.392 1990.28,942.07 1990.79,986.902 1991.3,1030.77 1991.82,1073.46 \n",
       "  1992.33,1114.76 1992.84,1154.46 1993.36,1192.35 1993.87,1228.24 1994.39,1261.95 1994.9,1293.29 1995.41,1322.09 1995.93,1348.2 1996.44,1371.47 1996.95,1391.77 \n",
       "  1997.47,1408.98 1997.98,1422.99 1998.5,1433.71 1999.01,1441.07 1999.52,1445.01 2000.04,1445.5 2000.55,1442.5 2001.06,1436.01 2001.58,1426.04 2002.09,1412.64 \n",
       "  2002.61,1395.84 2003.12,1375.71 2003.63,1352.34 2004.15,1325.84 2004.66,1296.32 2005.17,1263.93 2005.69,1228.81 2006.2,1191.16 2006.72,1151.14 2007.23,1108.97 \n",
       "  2007.74,1064.85 2008.26,1019.03 2008.77,971.737 2009.8,873.756 2010.83,773.024 2011.85,671.756 2012.88,572.228 2013.39,523.829 2013.91,476.717 2014.42,431.169 \n",
       "  2014.93,387.457 2015.45,345.842 2015.96,306.578 2016.48,269.908 2016.99,236.061 2017.5,205.252 2018.02,177.68 2018.53,153.527 2019.04,132.957 2019.56,116.114 \n",
       "  2020.07,103.12 2020.59,94.0764 2021.1,89.0611 2021.63,88.1577 2022.15,91.5766 2022.68,99.322 2023.21,111.371 2023.73,127.671 2024.26,148.144 2024.79,172.68 \n",
       "  2025.31,201.145 2025.84,233.376 2026.37,269.184 2026.89,308.352 2027.42,350.642 2027.95,395.791 2028.47,443.513 2029,493.504 2029.53,545.44 2030.58,653.77 \n",
       "  2031.63,765.622 2032.69,877.959 2033.74,987.668 2034.27,1040.56 2034.79,1091.65 2035.32,1140.54 2035.85,1186.89 2036.37,1230.34 2036.9,1270.58 2037.43,1307.29 \n",
       "  2037.95,1340.18 2038.48,1369 2039.01,1393.5 2039.53,1413.49 2040.06,1428.79 2040.58,1439.27 2041.11,1444.8 2041.64,1445.33 2042.16,1440.81 2042.69,1431.26 \n",
       "  2043.22,1416.71 2043.74,1397.23 2044.27,1372.96 2044.8,1344.03 2045.32,1310.66 2045.85,1273.05 2046.38,1231.48 2046.9,1186.25 2047.43,1137.68 2047.96,1086.12 \n",
       "  2048.48,1031.97 2049.01,975.634 2049.54,917.538 2050.06,858.135 2050.59,797.887 2051.64,676.766 2052.7,558.048 2053.22,500.804 2053.75,445.606 2054.28,392.918 \n",
       "  2054.8,343.188 2055.33,296.842 2055.86,254.285 2056.38,215.893 2056.91,182.013 2057.44,152.954 2057.96,128.99 2058.49,110.356 2059.02,97.2408 2059.54,89.7902 \n",
       "  2060.07,88.1024 2060.6,92.227 2061.12,102.164 2061.65,117.863 2062.18,139.223 2062.7,166.091 2063.23,198.268 2063.76,235.501 2064.28,277.495 2064.81,323.904 \n",
       "  2065.34,374.345 2065.86,428.39 2066.39,485.577 2066.92,545.41 2067.44,607.365 2068.5,735.421 2069.55,865.14 2070.08,929.137 2070.6,991.761 2071.13,1052.42 \n",
       "  2071.66,1110.54 2072.18,1165.56 2072.71,1216.94 2073.24,1264.17 2073.76,1306.78 2074.29,1344.33 2074.82,1376.44 2075.34,1402.77 2075.87,1423.02 2076.4,1436.95 \n",
       "  2076.92,1444.41 2077.45,1445.27 2077.98,1439.48 2078.5,1427.07 2079.03,1408.11 2079.56,1382.75 2080.08,1351.21 2080.61,1313.77 2081.14,1270.75 2081.66,1222.58 \n",
       "  2082.19,1169.69 2082.72,1112.6 2083.24,1051.87 2083.77,988.094 2084.3,921.916 2084.82,854.001 2085.35,785.046 2085.88,715.761 2086.4,646.87 2086.93,579.099 \n",
       "  2087.46,513.17 2087.98,449.791 2088.51,389.652 2089.09,328.266 2089.66,272.385 2090.24,222.768 2090.82,180.101 2091.39,144.987 2091.97,117.937 2092.55,99.3608 \n",
       "  2093.12,89.5603 2093.7,88.7245 2094.28,96.9244 2094.86,114.11 2095.43,140.111 2096.01,174.635 2096.59,217.269 2097.16,267.487 2097.74,324.651 2098.32,388.022 \n",
       "  2098.89,456.764 2099.47,529.96 2100.05,606.619 2100.62,685.691 2101.2,766.078 2101.78,846.655 2102.36,926.279 2102.93,1003.81 2103.51,1078.12 2104.09,1148.12 \n",
       "  2104.66,1212.77 2105.24,1271.1 2105.82,1322.21 2106.39,1365.31 2106.97,1399.71 2107.55,1424.84 2108.13,1440.28 2108.7,1445.72 2109.28,1441.01 2109.86,1426.16 \n",
       "  2110.43,1401.33 2111.01,1366.83 2111.59,1323.11 2112.16,1270.79 2112.74,1210.6 2113.32,1143.44 2113.9,1070.29 2114.47,992.252 2115.05,910.517 2115.63,826.343 \n",
       "  2116.2,741.044 2116.78,655.965 2117.36,572.463 2117.93,491.885 2118.51,415.544 2119.09,344.703 2119.67,280.545 2120.24,224.162 2120.82,176.527 2121.4,138.482 \n",
       "  2121.97,110.718 2122.55,93.7645 2123.13,87.9764 2123.7,93.5249 2124.28,110.392 2124.86,138.37 2125.44,177.057 2126.01,225.867 2126.59,284.033 2127.17,350.617 \n",
       "  2127.74,424.526 2128.32,504.53 2128.9,589.275 2129.47,677.312 2130.05,767.115 2130.63,857.113 2131.21,945.71 2131.78,1031.32 2132.36,1112.4 2132.94,1187.45 \n",
       "  2133.51,1255.09 2134.09,1314.03 2134.67,1363.15 2135.24,1401.48 2135.82,1428.25 2136.4,1442.89 2136.98,1445.04 2137.55,1434.58 2138.13,1411.63 2138.71,1376.52 \n",
       "  2139.28,1329.84 2139.86,1272.41 2140.44,1205.23 2141.01,1129.52 2141.59,1046.7 2142.17,958.292 2142.74,865.985 2143.32,771.547 2143.9,676.808 2144.48,583.626 \n",
       "  2145.05,493.847 2145.63,409.274 2146.21,331.623 2146.78,262.491 2147.36,203.323 2147.94,155.378 2148.51,119.702 2149.09,97.1013 2149.67,88.1261 2150.25,93.0511 \n",
       "  2150.82,111.868 2151.4,144.279 2151.98,189.701 2152.55,247.273 2153.13,315.868 2153.71,394.113 2154.28,480.418 2154.86,573 2155.44,669.925 2156.02,769.143 \n",
       "  2156.59,868.531 2157.17,965.938 2157.75,1059.24 2158.32,1146.36 2158.9,1225.35 2159.48,1294.43 2160.05,1351.98 2160.63,1396.67 2161.21,1427.4 2161.79,1443.39 \n",
       "  2162.36,1444.18 2163.2,1418.1 2164.04,1360.71 2164.88,1274.47 2165.71,1163.3 2166.55,1032.39 2167.39,888.002 2168.23,737.153 2169.07,587.304 2169.91,445.985 \n",
       "  2170.74,320.416 2171.58,217.132 2172.42,141.633 2173.26,98.075 2174.1,89.0239 2174.93,115.285 2175.77,175.821 2176.61,267.764 2177.45,386.529 2178.29,526.018 \n",
       "  2179.13,678.918 2179.96,837.068 2180.8,991.892 2181.64,1134.85 2182.48,1257.94 2183.32,1354.11 2184.15,1417.72 2184.99,1444.87 2185.83,1433.67 2186.67,1384.39 \n",
       "  2187.51,1299.5 2188.35,1183.55 2189.18,1042.99 2190.02,885.828 2190.86,721.153 2191.7,558.665 2192.54,408.086 2193.37,278.58 2194.21,178.181 2195.05,113.281 \n",
       "  2195.89,88.198 2196.73,104.862 2197.57,162.642 2198.4,258.327 2199.24,386.266 2200.08,538.678 2200.92,706.095 2201.76,877.934 2202.59,1043.16 2203.43,1190.97 \n",
       "  2204.27,1311.56 2205.11,1396.73 2205.95,1440.5 2206.79,1439.56 2207.62,1393.54 2208.46,1305.12 2209.3,1179.88 2210.14,1026.03 2210.98,853.877 2211.81,675.156 \n",
       "  2212.65,502.257 2213.49,347.355 2214.33,221.555 2215.17,134.071 2216,91.5248 2216.84,97.4089 2217.68,151.764 2218.52,251.095 2219.36,388.552 2220.2,554.356 \n",
       "  2221.03,736.463 2221.87,921.415 2222.71,1095.33 2223.55,1244.92 2224.39,1358.55 2225.22,1427.17 2226.06,1445.05 2226.9,1410.3 2227.74,1325.13 2228.58,1195.78 \n",
       "  2229.42,1032.05 2230.25,846.667 2231.09,654.299 2231.93,470.411 2232.77,310.03 2233.61,186.498 2234.44,110.338 2235.28,88.3158 2236.12,122.787 2236.96,211.402 \n",
       "  2237.8,347.197 2238.64,519.081 2239.47,712.697 2240.31,911.583 2241.15,1098.56 2241.99,1257.19 2242.83,1373.3 2243.66,1436.21 2244.5,1439.82 2245.34,1383.25 \n",
       "  2246.18,1270.99 2247.02,1112.7 2247.86,922.38 2248.69,717.183 2249.53,515.93 2250.37,337.374 2251.21,198.442 2252.05,112.601 2252.88,88.4964 2253.72,129.02 \n",
       "  2254.56,230.901 2255.4,384.882 2256.24,576.486 2257.07,787.319 2257.91,996.795 2258.75,1184.13 2259.59,1330.43 2260.43,1420.6 2261.27,1444.99 2262.1,1400.49 \n",
       "  2262.94,1290.99 2263.78,1127.16 2264.62,925.468 2265.46,706.593 2266.29,493.362 2267.13,308.368 2267.97,171.564 2268.81,98.0566 2269.65,96.3729 2269.82,105.13 \n",
       "  2269.99,116.939 2270.16,131.752 2270.34,149.506 2270.51,170.126 2270.68,193.522 2270.85,219.59 2271.02,248.215 2271.19,279.268 2271.37,312.612 2271.54,348.093 \n",
       "  2271.71,385.552 2271.88,424.817 2272.05,465.708 2272.23,508.036 2272.4,551.607 2272.74,641.659 2273.09,734.186 2273.43,827.451 2273.77,919.693 2273.95,964.881 \n",
       "  2274.12,1009.16 2274.29,1052.31 2274.46,1094.13 2274.63,1134.42 2274.81,1172.97 2274.98,1209.61 2275.15,1244.16 2275.32,1276.43 2275.49,1306.28 2275.67,1333.56 \n",
       "  2275.84,1358.12 2276.01,1379.85 2276.18,1398.63 2276.35,1414.37 2276.53,1426.99 2276.7,1436.41 2276.87,1442.59 2277.04,1445.49 2277.21,1445.08 2277.39,1441.37 \n",
       "  2277.56,1434.37 2277.73,1424.1 2277.9,1410.61 2278.07,1393.95 2278.24,1374.2 2278.42,1351.46 2278.59,1325.83 2278.76,1297.43 2278.93,1266.39 2279.1,1232.86 \n",
       "  2279.28,1197.01 2279.45,1159 2279.62,1119.02 2279.79,1077.27 2279.96,1033.95 2280.14,989.264 2280.31,943.443 2280.48,896.711 2280.65,849.299 2281,753.381 \n",
       "  2281.34,657.607 2281.68,563.903 2282.03,474.167 2282.2,431.363 2282.37,390.23 2282.54,350.979 2282.72,313.815 2282.89,278.929 2283.06,246.505 2283.23,216.713 \n",
       "  2283.4,189.71 2283.58,165.639 2283.75,144.63 2283.92,126.796 2284.09,112.236 2284.26,101.031 2284.44,93.2441 2284.61,88.9236 2284.78,88.0983 2284.95,90.7794 \n",
       "  2285.12,96.9599 2285.3,106.615 2285.47,119.701 2285.64,136.158 2285.81,155.905 2285.98,178.848 2286.15,204.872 2286.33,233.848 2286.5,265.63 2286.67,300.057 \n",
       "  2286.84,336.954 2287.01,376.133 2287.19,417.391 2287.36,460.516 2287.53,505.284 2287.87,598.809 2288.22,696.011 2288.56,794.842 2288.91,893.209 2289.08,941.561 \n",
       "  2289.25,989.012 2289.42,1035.31 2289.59,1080.19 2289.77,1123.43 2289.94,1164.78 2290.11,1204.02 2290.28,1240.93 2290.45,1275.31 2290.63,1306.97 2290.8,1335.73 \n",
       "  2290.97,1361.43 2291.14,1383.93 2291.31,1403.09 2291.49,1418.8 2291.66,1430.98 \n",
       "  \"/>\n",
       "<path clip-path=\"url(#clip950)\" d=\"\n",
       "M265.897 198.898 L534.209 198.898 L534.209 95.2176 L265.897 95.2176  Z\n",
       "  \" fill=\"#ffffff\" fill-rule=\"evenodd\" fill-opacity=\"1\"/>\n",
       "<polyline clip-path=\"url(#clip950)\" style=\"stroke:#000000; stroke-linecap:round; stroke-linejoin:round; stroke-width:4; stroke-opacity:1; fill:none\" points=\"\n",
       "  265.897,198.898 534.209,198.898 534.209,95.2176 265.897,95.2176 265.897,198.898 \n",
       "  \"/>\n",
       "<polyline clip-path=\"url(#clip950)\" style=\"stroke:#009af9; stroke-linecap:round; stroke-linejoin:round; stroke-width:4; stroke-opacity:1; fill:none\" points=\"\n",
       "  289.884,147.058 433.805,147.058 \n",
       "  \"/>\n",
       "<path clip-path=\"url(#clip950)\" d=\"M471.634 166.745 Q469.829 171.375 468.116 172.787 Q466.403 174.199 463.532 174.199 L460.13 174.199 L460.13 170.634 L462.63 170.634 Q464.389 170.634 465.361 169.8 Q466.333 168.967 467.514 165.865 L468.278 163.921 L457.792 138.412 L462.306 138.412 L470.407 158.689 L478.509 138.412 L483.023 138.412 L471.634 166.745 Z\" fill=\"#000000\" fill-rule=\"evenodd\" fill-opacity=\"1\" /><path clip-path=\"url(#clip950)\" d=\"M490.315 160.402 L497.954 160.402 L497.954 134.037 L489.643 135.703 L489.643 131.444 L497.907 129.778 L502.583 129.778 L502.583 160.402 L510.222 160.402 L510.222 164.338 L490.315 164.338 L490.315 160.402 Z\" fill=\"#000000\" fill-rule=\"evenodd\" fill-opacity=\"1\" /></svg>\n"
      ]
     },
     "execution_count": 45,
     "metadata": {},
     "output_type": "execute_result"
    }
   ],
   "source": [
    "plot(x -> sin(exp(x)), -pi, 3//2 * pi)"
   ]
  },
  {
   "cell_type": "markdown",
   "id": "0f8751af-26e8-4a7e-8c47-99759f94c1b8",
   "metadata": {},
   "source": [
    "## Vectors"
   ]
  },
  {
   "cell_type": "code",
   "execution_count": 46,
   "id": "d61e70fc-5c20-43e7-8ce1-9f63f246040b",
   "metadata": {},
   "outputs": [
    {
     "data": {
      "text/plain": [
       "4-element Vector{Int64}:\n",
       " 1\n",
       " 2\n",
       " 3\n",
       " 4"
      ]
     },
     "execution_count": 46,
     "metadata": {},
     "output_type": "execute_result"
    }
   ],
   "source": [
    "[1, 2, 3, 4] # column vector"
   ]
  },
  {
   "cell_type": "code",
   "execution_count": 47,
   "id": "e7183898-3970-48a1-b191-52d04e1e64e3",
   "metadata": {},
   "outputs": [
    {
     "data": {
      "text/plain": [
       "4-element Vector{Int64}:\n",
       " 1\n",
       " 2\n",
       " 3\n",
       " 4"
      ]
     },
     "execution_count": 47,
     "metadata": {},
     "output_type": "execute_result"
    }
   ],
   "source": [
    "collect(1:4)"
   ]
  },
  {
   "cell_type": "code",
   "execution_count": 48,
   "id": "cf833dcc-2554-4471-abb3-9cded6c1c431",
   "metadata": {},
   "outputs": [
    {
     "data": {
      "text/plain": [
       "(1:3:19, [1, 4, 7, 10, 13, 16, 19])"
      ]
     },
     "execution_count": 48,
     "metadata": {},
     "output_type": "execute_result"
    }
   ],
   "source": [
    "1:3:20, collect(1:3:20)"
   ]
  },
  {
   "cell_type": "code",
   "execution_count": 49,
   "id": "3f31583b-c092-4d9e-a98f-70d08fbb5619",
   "metadata": {},
   "outputs": [
    {
     "data": {
      "text/plain": [
       "1×4 Matrix{Int64}:\n",
       " 1  2  3  4"
      ]
     },
     "execution_count": 49,
     "metadata": {},
     "output_type": "execute_result"
    }
   ],
   "source": [
    "[1 2 3 4 ] # row vector, or 1 x 4 Matrix"
   ]
  },
  {
   "cell_type": "code",
   "execution_count": 50,
   "id": "a5d6ffc8-41a4-4a5d-a5a6-428488e0a7b4",
   "metadata": {},
   "outputs": [
    {
     "data": {
      "text/plain": [
       "3×4 Matrix{Int64}:\n",
       " 1  2   3   4\n",
       " 5  6   7   8\n",
       " 0  1  -1  -2"
      ]
     },
     "execution_count": 50,
     "metadata": {},
     "output_type": "execute_result"
    }
   ],
   "source": [
    "[ 1 2 3 4 ; 5 6 7 8 ; 0 1 -1 -2]"
   ]
  },
  {
   "cell_type": "code",
   "execution_count": 51,
   "id": "b1f9f342-1b3e-46d6-bf59-f746c1776be4",
   "metadata": {},
   "outputs": [
    {
     "data": {
      "text/plain": [
       "3×4 Matrix{Int64}:\n",
       " 1  2  3   4\n",
       " 2  4  6   8\n",
       " 3  6  9  12"
      ]
     },
     "execution_count": 51,
     "metadata": {},
     "output_type": "execute_result"
    }
   ],
   "source": [
    "[ i*j for i = 1:3, j = 1:4]"
   ]
  },
  {
   "cell_type": "markdown",
   "id": "f13b97b9-022f-4389-82ce-71e23132dc56",
   "metadata": {},
   "source": [
    "## Broadcasting"
   ]
  },
  {
   "cell_type": "code",
   "execution_count": 52,
   "id": "31ecfd22-6a90-4311-a3bb-79a2026bdd43",
   "metadata": {},
   "outputs": [
    {
     "data": {
      "text/plain": [
       "0.0"
      ]
     },
     "execution_count": 52,
     "metadata": {},
     "output_type": "execute_result"
    }
   ],
   "source": [
    "sin(pi)"
   ]
  },
  {
   "cell_type": "code",
   "execution_count": 53,
   "id": "215f8d73-864d-465f-b637-6ac1225fbb2b",
   "metadata": {},
   "outputs": [
    {
     "data": {
      "text/plain": [
       "0.7853981633974483:0.7853981633974483:5.497787143782138"
      ]
     },
     "execution_count": 53,
     "metadata": {},
     "output_type": "execute_result"
    }
   ],
   "source": [
    "pi/4 * (1:7)"
   ]
  },
  {
   "cell_type": "code",
   "execution_count": 54,
   "id": "fc1f7c0f-d075-4c2f-bc2a-a6ed644274ab",
   "metadata": {},
   "outputs": [
    {
     "data": {
      "text/plain": [
       "7-element Vector{Float64}:\n",
       "  0.7071067811865475\n",
       "  1.0\n",
       "  0.7071067811865476\n",
       "  1.2246467991473532e-16\n",
       " -0.7071067811865475\n",
       " -1.0\n",
       " -0.7071067811865477"
      ]
     },
     "execution_count": 54,
     "metadata": {},
     "output_type": "execute_result"
    }
   ],
   "source": [
    "# sin(pi/4 * (1:7))\n",
    "sin.(pi/4 * (1:7))"
   ]
  },
  {
   "cell_type": "code",
   "execution_count": 55,
   "id": "339204ee-2560-4fdd-bea4-789a39e44d68",
   "metadata": {},
   "outputs": [
    {
     "data": {
      "text/plain": [
       "0.0:0.125:1.0"
      ]
     },
     "execution_count": 55,
     "metadata": {},
     "output_type": "execute_result"
    }
   ],
   "source": [
    "x = range(0, 1, length = 9)"
   ]
  },
  {
   "cell_type": "code",
   "execution_count": 56,
   "id": "351e73a7-dd3e-478e-b34c-965793e67dfd",
   "metadata": {},
   "outputs": [
    {
     "data": {
      "text/plain": [
       "9-element Vector{Float64}:\n",
       " 1.0\n",
       " 1.265625\n",
       " 1.5625\n",
       " 1.890625\n",
       " 2.25\n",
       " 2.640625\n",
       " 3.0625\n",
       " 3.515625\n",
       " 4.0"
      ]
     },
     "execution_count": 56,
     "metadata": {},
     "output_type": "execute_result"
    }
   ],
   "source": [
    "@. square(x + 1)"
   ]
  },
  {
   "cell_type": "code",
   "execution_count": 57,
   "id": "6c4773ee-22b5-4542-93b3-e9895e558a4f",
   "metadata": {},
   "outputs": [
    {
     "data": {
      "text/plain": [
       "9-element Vector{Float64}:\n",
       " 1.0\n",
       " 1.265625\n",
       " 1.5625\n",
       " 1.890625\n",
       " 2.25\n",
       " 2.640625\n",
       " 3.0625\n",
       " 3.515625\n",
       " 4.0"
      ]
     },
     "execution_count": 57,
     "metadata": {},
     "output_type": "execute_result"
    }
   ],
   "source": [
    "square.( x .+ 1)"
   ]
  },
  {
   "cell_type": "markdown",
   "id": "87df1112-7c23-4fd1-9f19-176523bc701e",
   "metadata": {},
   "source": [
    "## Errors"
   ]
  },
  {
   "cell_type": "code",
   "execution_count": 58,
   "id": "263baba8-1f13-493d-8295-b8dcb76302e4",
   "metadata": {},
   "outputs": [
    {
     "data": {
      "text/plain": [
       "relerror (generic function with 1 method)"
      ]
     },
     "execution_count": 58,
     "metadata": {},
     "output_type": "execute_result"
    }
   ],
   "source": [
    "abserror(x, xhat) = abs(x-xhat)\n",
    "relerror(x, xhat) = abs((x-xhat)/x)"
   ]
  },
  {
   "cell_type": "code",
   "execution_count": 59,
   "id": "ea2fccaf-14e9-49dd-93a9-08e359bbda22",
   "metadata": {},
   "outputs": [
    {
     "data": {
      "text/plain": [
       "(2.7755575615628914e-17, 2.7755575615628914e-16)"
      ]
     },
     "execution_count": 59,
     "metadata": {},
     "output_type": "execute_result"
    }
   ],
   "source": [
    "abserror(0.1, 0.2 + 0.1 - 0.2),\n",
    "relerror(0.1, 0.2 + 0.1 - 0.2)"
   ]
  },
  {
   "cell_type": "code",
   "execution_count": 60,
   "id": "825449a8-bdbb-4dac-a55c-0ee9359ba7af",
   "metadata": {},
   "outputs": [
    {
     "data": {
      "text/plain": [
       "(0.2362090532517409, 0.028297739447974646)"
      ]
     },
     "execution_count": 60,
     "metadata": {},
     "output_type": "execute_result"
    }
   ],
   "source": [
    "abserror(0, sin(10^15 * pi)), relerror(1, cos(10^15 * pi))"
   ]
  },
  {
   "cell_type": "code",
   "execution_count": 61,
   "id": "fa5830db-2fc8-4b6e-8f32-b3e5179d7fe5",
   "metadata": {},
   "outputs": [
    {
     "data": {
      "image/svg+xml": [
       "<?xml version=\"1.0\" encoding=\"utf-8\"?>\n",
       "<svg xmlns=\"http://www.w3.org/2000/svg\" xmlns:xlink=\"http://www.w3.org/1999/xlink\" width=\"600\" height=\"400\" viewBox=\"0 0 2400 1600\">\n",
       "<defs>\n",
       "  <clipPath id=\"clip990\">\n",
       "    <rect x=\"0\" y=\"0\" width=\"2400\" height=\"1600\"/>\n",
       "  </clipPath>\n",
       "</defs>\n",
       "<path clip-path=\"url(#clip990)\" d=\"\n",
       "M0 1600 L2400 1600 L2400 0 L0 0  Z\n",
       "  \" fill=\"#ffffff\" fill-rule=\"evenodd\" fill-opacity=\"1\"/>\n",
       "<defs>\n",
       "  <clipPath id=\"clip991\">\n",
       "    <rect x=\"480\" y=\"0\" width=\"1681\" height=\"1600\"/>\n",
       "  </clipPath>\n",
       "</defs>\n",
       "<path clip-path=\"url(#clip990)\" d=\"\n",
       "M193.936 1486.45 L2352.76 1486.45 L2352.76 47.2441 L193.936 47.2441  Z\n",
       "  \" fill=\"#ffffff\" fill-rule=\"evenodd\" fill-opacity=\"1\"/>\n",
       "<defs>\n",
       "  <clipPath id=\"clip992\">\n",
       "    <rect x=\"193\" y=\"47\" width=\"2160\" height=\"1440\"/>\n",
       "  </clipPath>\n",
       "</defs>\n",
       "<polyline clip-path=\"url(#clip992)\" style=\"stroke:#000000; stroke-linecap:round; stroke-linejoin:round; stroke-width:2; stroke-opacity:0.1; fill:none\" points=\"\n",
       "  300,1486.45 300,47.2441 \n",
       "  \"/>\n",
       "<polyline clip-path=\"url(#clip992)\" style=\"stroke:#000000; stroke-linecap:round; stroke-linejoin:round; stroke-width:2; stroke-opacity:0.1; fill:none\" points=\"\n",
       "  600,1486.45 600,47.2441 \n",
       "  \"/>\n",
       "<polyline clip-path=\"url(#clip992)\" style=\"stroke:#000000; stroke-linecap:round; stroke-linejoin:round; stroke-width:2; stroke-opacity:0.1; fill:none\" points=\"\n",
       "  900,1486.45 900,47.2441 \n",
       "  \"/>\n",
       "<polyline clip-path=\"url(#clip992)\" style=\"stroke:#000000; stroke-linecap:round; stroke-linejoin:round; stroke-width:2; stroke-opacity:0.1; fill:none\" points=\"\n",
       "  1200,1486.45 1200,47.2441 \n",
       "  \"/>\n",
       "<polyline clip-path=\"url(#clip992)\" style=\"stroke:#000000; stroke-linecap:round; stroke-linejoin:round; stroke-width:2; stroke-opacity:0.1; fill:none\" points=\"\n",
       "  1500,1486.45 1500,47.2441 \n",
       "  \"/>\n",
       "<polyline clip-path=\"url(#clip992)\" style=\"stroke:#000000; stroke-linecap:round; stroke-linejoin:round; stroke-width:2; stroke-opacity:0.1; fill:none\" points=\"\n",
       "  1800,1486.45 1800,47.2441 \n",
       "  \"/>\n",
       "<polyline clip-path=\"url(#clip992)\" style=\"stroke:#000000; stroke-linecap:round; stroke-linejoin:round; stroke-width:2; stroke-opacity:0.1; fill:none\" points=\"\n",
       "  2100,1486.45 2100,47.2441 \n",
       "  \"/>\n",
       "<polyline clip-path=\"url(#clip990)\" style=\"stroke:#000000; stroke-linecap:round; stroke-linejoin:round; stroke-width:4; stroke-opacity:1; fill:none\" points=\"\n",
       "  150,1486.45 2250,1486.45 \n",
       "  \"/>\n",
       "<polyline clip-path=\"url(#clip990)\" style=\"stroke:#000000; stroke-linecap:round; stroke-linejoin:round; stroke-width:4; stroke-opacity:1; fill:none\" points=\"\n",
       "  300,1486.45 300,1467.55 \n",
       "  \"/>\n",
       "<polyline clip-path=\"url(#clip990)\" style=\"stroke:#000000; stroke-linecap:round; stroke-linejoin:round; stroke-width:4; stroke-opacity:1; fill:none\" points=\"\n",
       "  600,1486.45 600,1467.55 \n",
       "  \"/>\n",
       "<polyline clip-path=\"url(#clip990)\" style=\"stroke:#000000; stroke-linecap:round; stroke-linejoin:round; stroke-width:4; stroke-opacity:1; fill:none\" points=\"\n",
       "  900,1486.45 900,1467.55 \n",
       "  \"/>\n",
       "<polyline clip-path=\"url(#clip990)\" style=\"stroke:#000000; stroke-linecap:round; stroke-linejoin:round; stroke-width:4; stroke-opacity:1; fill:none\" points=\"\n",
       "  1200,1486.45 1200,1467.55 \n",
       "  \"/>\n",
       "<polyline clip-path=\"url(#clip990)\" style=\"stroke:#000000; stroke-linecap:round; stroke-linejoin:round; stroke-width:4; stroke-opacity:1; fill:none\" points=\"\n",
       "  1500,1486.45 1500,1467.55 \n",
       "  \"/>\n",
       "<polyline clip-path=\"url(#clip990)\" style=\"stroke:#000000; stroke-linecap:round; stroke-linejoin:round; stroke-width:4; stroke-opacity:1; fill:none\" points=\"\n",
       "  1800,1486.45 1800,1467.55 \n",
       "  \"/>\n",
       "<polyline clip-path=\"url(#clip990)\" style=\"stroke:#000000; stroke-linecap:round; stroke-linejoin:round; stroke-width:4; stroke-opacity:1; fill:none\" points=\"\n",
       "  2100,1486.45 2100,1467.55 \n",
       "  \"/>\n",
       "<path clip-path=\"url(#clip990)\" d=\"M78.0336 1530.21 Q81.3901 1530.93 83.2651 1533.2 Q85.1632 1535.47 85.1632 1538.8 Q85.1632 1543.92 81.6447 1546.72 Q78.1262 1549.52 71.6447 1549.52 Q69.4688 1549.52 67.154 1549.08 Q64.8624 1548.66 62.4087 1547.81 L62.4087 1543.29 Q64.3531 1544.43 66.6679 1545.01 Q68.9827 1545.58 71.5059 1545.58 Q75.904 1545.58 78.1956 1543.85 Q80.5104 1542.11 80.5104 1538.8 Q80.5104 1535.75 78.3577 1534.03 Q76.2281 1532.3 72.4086 1532.3 L68.3809 1532.3 L68.3809 1528.45 L72.5938 1528.45 Q76.0429 1528.45 77.8716 1527.09 Q79.7003 1525.7 79.7003 1523.11 Q79.7003 1520.45 77.8021 1519.03 Q75.9271 1517.6 72.4086 1517.6 Q70.4873 1517.6 68.2883 1518.01 Q66.0892 1518.43 63.4503 1519.31 L63.4503 1515.14 Q66.1124 1514.4 68.4272 1514.03 Q70.7651 1513.66 72.8253 1513.66 Q78.1493 1513.66 81.2512 1516.09 Q84.353 1518.5 84.353 1522.62 Q84.353 1525.49 82.7095 1527.48 Q81.066 1529.45 78.0336 1530.21 Z\" fill=\"#000000\" fill-rule=\"evenodd\" fill-opacity=\"1\" /><path clip-path=\"url(#clip990)\" d=\"M94.8391 1544.91 L102.478 1544.91 L102.478 1518.55 L94.1678 1520.21 L94.1678 1515.95 L102.432 1514.29 L107.108 1514.29 L107.108 1544.91 L114.746 1544.91 L114.746 1548.85 L94.8391 1548.85 L94.8391 1544.91 Z\" fill=\"#000000\" fill-rule=\"evenodd\" fill-opacity=\"1\" /><path clip-path=\"url(#clip990)\" d=\"M137.038 1518.36 L125.232 1536.81 L137.038 1536.81 L137.038 1518.36 M135.811 1514.29 L141.691 1514.29 L141.691 1536.81 L146.621 1536.81 L146.621 1540.7 L141.691 1540.7 L141.691 1548.85 L137.038 1548.85 L137.038 1540.7 L121.436 1540.7 L121.436 1536.19 L135.811 1514.29 Z\" fill=\"#000000\" fill-rule=\"evenodd\" fill-opacity=\"1\" /><path clip-path=\"url(#clip990)\" d=\"M155.163 1544.91 L162.802 1544.91 L162.802 1518.55 L154.492 1520.21 L154.492 1515.95 L162.755 1514.29 L167.431 1514.29 L167.431 1544.91 L175.07 1544.91 L175.07 1548.85 L155.163 1548.85 L155.163 1544.91 Z\" fill=\"#000000\" fill-rule=\"evenodd\" fill-opacity=\"1\" /><path clip-path=\"url(#clip990)\" d=\"M184.561 1514.29 L202.917 1514.29 L202.917 1518.22 L188.843 1518.22 L188.843 1526.7 Q189.862 1526.35 190.88 1526.19 Q191.899 1526 192.917 1526 Q198.704 1526 202.084 1529.17 Q205.463 1532.34 205.463 1537.76 Q205.463 1543.34 201.991 1546.44 Q198.519 1549.52 192.2 1549.52 Q190.024 1549.52 187.755 1549.15 Q185.51 1548.78 183.102 1548.04 L183.102 1543.34 Q185.186 1544.47 187.408 1545.03 Q189.63 1545.58 192.107 1545.58 Q196.112 1545.58 198.45 1543.48 Q200.788 1541.37 200.788 1537.76 Q200.788 1534.15 198.45 1532.04 Q196.112 1529.94 192.107 1529.94 Q190.232 1529.94 188.357 1530.35 Q186.505 1530.77 184.561 1531.65 L184.561 1514.29 Z\" fill=\"#000000\" fill-rule=\"evenodd\" fill-opacity=\"1\" /><path clip-path=\"url(#clip990)\" d=\"M214.815 1548.13 L214.815 1543.87 Q216.575 1544.7 218.38 1545.14 Q220.186 1545.58 221.922 1545.58 Q226.551 1545.58 228.982 1542.48 Q231.436 1539.36 231.783 1533.01 Q230.44 1535.01 228.38 1536.07 Q226.32 1537.13 223.82 1537.13 Q218.635 1537.13 215.602 1534.01 Q212.593 1530.86 212.593 1525.42 Q212.593 1520.1 215.741 1516.88 Q218.889 1513.66 224.121 1513.66 Q230.116 1513.66 233.264 1518.27 Q236.436 1522.85 236.436 1531.6 Q236.436 1539.77 232.547 1544.66 Q228.681 1549.52 222.13 1549.52 Q220.371 1549.52 218.565 1549.17 Q216.76 1548.82 214.815 1548.13 M224.121 1533.48 Q227.269 1533.48 229.098 1531.32 Q230.949 1529.17 230.949 1525.42 Q230.949 1521.7 229.098 1519.54 Q227.269 1517.37 224.121 1517.37 Q220.973 1517.37 219.121 1519.54 Q217.292 1521.7 217.292 1525.42 Q217.292 1529.17 219.121 1531.32 Q220.973 1533.48 224.121 1533.48 Z\" fill=\"#000000\" fill-rule=\"evenodd\" fill-opacity=\"1\" /><path clip-path=\"url(#clip990)\" d=\"M248.866 1544.91 L265.185 1544.91 L265.185 1548.85 L243.241 1548.85 L243.241 1544.91 Q245.903 1542.16 250.486 1537.53 Q255.093 1532.88 256.273 1531.53 Q258.519 1529.01 259.398 1527.27 Q260.301 1525.51 260.301 1523.82 Q260.301 1521.07 258.357 1519.33 Q256.435 1517.6 253.334 1517.6 Q251.135 1517.6 248.681 1518.36 Q246.25 1519.13 243.473 1520.68 L243.473 1515.95 Q246.297 1514.82 248.75 1514.24 Q251.204 1513.66 253.241 1513.66 Q258.611 1513.66 261.806 1516.35 Q265 1519.03 265 1523.52 Q265 1525.65 264.19 1527.57 Q263.403 1529.47 261.297 1532.07 Q260.718 1532.74 257.616 1535.95 Q254.514 1539.15 248.866 1544.91 Z\" fill=\"#000000\" fill-rule=\"evenodd\" fill-opacity=\"1\" /><path clip-path=\"url(#clip990)\" d=\"M285.579 1529.7 Q282.431 1529.7 280.579 1531.86 Q278.75 1534.01 278.75 1537.76 Q278.75 1541.49 280.579 1543.66 Q282.431 1545.82 285.579 1545.82 Q288.727 1545.82 290.556 1543.66 Q292.407 1541.49 292.407 1537.76 Q292.407 1534.01 290.556 1531.86 Q288.727 1529.7 285.579 1529.7 M294.861 1515.05 L294.861 1519.31 Q293.102 1518.48 291.296 1518.04 Q289.514 1517.6 287.755 1517.6 Q283.125 1517.6 280.671 1520.72 Q278.241 1523.85 277.894 1530.17 Q279.259 1528.15 281.32 1527.09 Q283.38 1526 285.857 1526 Q291.065 1526 294.074 1529.17 Q297.106 1532.32 297.106 1537.76 Q297.106 1543.08 293.958 1546.3 Q290.81 1549.52 285.579 1549.52 Q279.583 1549.52 276.412 1544.94 Q273.241 1540.33 273.241 1531.6 Q273.241 1523.41 277.13 1518.55 Q281.019 1513.66 287.57 1513.66 Q289.329 1513.66 291.111 1514.01 Q292.917 1514.36 294.861 1515.05 Z\" fill=\"#000000\" fill-rule=\"evenodd\" fill-opacity=\"1\" /><path clip-path=\"url(#clip990)\" d=\"M305.208 1514.29 L323.565 1514.29 L323.565 1518.22 L309.491 1518.22 L309.491 1526.7 Q310.509 1526.35 311.528 1526.19 Q312.546 1526 313.565 1526 Q319.352 1526 322.731 1529.17 Q326.111 1532.34 326.111 1537.76 Q326.111 1543.34 322.639 1546.44 Q319.167 1549.52 312.847 1549.52 Q310.671 1549.52 308.403 1549.15 Q306.157 1548.78 303.75 1548.04 L303.75 1543.34 Q305.833 1544.47 308.056 1545.03 Q310.278 1545.58 312.755 1545.58 Q316.759 1545.58 319.097 1543.48 Q321.435 1541.37 321.435 1537.76 Q321.435 1534.15 319.097 1532.04 Q316.759 1529.94 312.755 1529.94 Q310.88 1529.94 309.005 1530.35 Q307.153 1530.77 305.208 1531.65 L305.208 1514.29 Z\" fill=\"#000000\" fill-rule=\"evenodd\" fill-opacity=\"1\" /><path clip-path=\"url(#clip990)\" d=\"M349.49 1530.21 Q352.847 1530.93 354.722 1533.2 Q356.62 1535.47 356.62 1538.8 Q356.62 1543.92 353.102 1546.72 Q349.583 1549.52 343.102 1549.52 Q340.926 1549.52 338.611 1549.08 Q336.319 1548.66 333.866 1547.81 L333.866 1543.29 Q335.81 1544.43 338.125 1545.01 Q340.44 1545.58 342.963 1545.58 Q347.361 1545.58 349.653 1543.85 Q351.967 1542.11 351.967 1538.8 Q351.967 1535.75 349.815 1534.03 Q347.685 1532.3 343.866 1532.3 L339.838 1532.3 L339.838 1528.45 L344.051 1528.45 Q347.5 1528.45 349.328 1527.09 Q351.157 1525.7 351.157 1523.11 Q351.157 1520.45 349.259 1519.03 Q347.384 1517.6 343.866 1517.6 Q341.944 1517.6 339.745 1518.01 Q337.546 1518.43 334.907 1519.31 L334.907 1515.14 Q337.569 1514.4 339.884 1514.03 Q342.222 1513.66 344.282 1513.66 Q349.606 1513.66 352.708 1516.09 Q355.81 1518.5 355.81 1522.62 Q355.81 1525.49 354.166 1527.48 Q352.523 1529.45 349.49 1530.21 Z\" fill=\"#000000\" fill-rule=\"evenodd\" fill-opacity=\"1\" /><path clip-path=\"url(#clip990)\" d=\"M365.532 1514.29 L383.888 1514.29 L383.888 1518.22 L369.814 1518.22 L369.814 1526.7 Q370.833 1526.35 371.851 1526.19 Q372.87 1526 373.888 1526 Q379.675 1526 383.055 1529.17 Q386.435 1532.34 386.435 1537.76 Q386.435 1543.34 382.963 1546.44 Q379.49 1549.52 373.171 1549.52 Q370.995 1549.52 368.726 1549.15 Q366.481 1548.78 364.074 1548.04 L364.074 1543.34 Q366.157 1544.47 368.379 1545.03 Q370.601 1545.58 373.078 1545.58 Q377.083 1545.58 379.421 1543.48 Q381.759 1541.37 381.759 1537.76 Q381.759 1534.15 379.421 1532.04 Q377.083 1529.94 373.078 1529.94 Q371.203 1529.94 369.328 1530.35 Q367.476 1530.77 365.532 1531.65 L365.532 1514.29 Z\" fill=\"#000000\" fill-rule=\"evenodd\" fill-opacity=\"1\" /><path clip-path=\"url(#clip990)\" d=\"M405.648 1532.44 Q402.314 1532.44 400.393 1534.22 Q398.495 1536 398.495 1539.13 Q398.495 1542.25 400.393 1544.03 Q402.314 1545.82 405.648 1545.82 Q408.981 1545.82 410.902 1544.03 Q412.823 1542.23 412.823 1539.13 Q412.823 1536 410.902 1534.22 Q409.004 1532.44 405.648 1532.44 M400.972 1530.45 Q397.962 1529.7 396.273 1527.64 Q394.606 1525.58 394.606 1522.62 Q394.606 1518.48 397.546 1516.07 Q400.509 1513.66 405.648 1513.66 Q410.81 1513.66 413.749 1516.07 Q416.689 1518.48 416.689 1522.62 Q416.689 1525.58 414.999 1527.64 Q413.333 1529.7 410.347 1530.45 Q413.726 1531.23 415.601 1533.52 Q417.499 1535.82 417.499 1539.13 Q417.499 1544.15 414.421 1546.83 Q411.365 1549.52 405.648 1549.52 Q399.93 1549.52 396.851 1546.83 Q393.796 1544.15 393.796 1539.13 Q393.796 1535.82 395.694 1533.52 Q397.592 1531.23 400.972 1530.45 M399.259 1523.06 Q399.259 1525.75 400.925 1527.25 Q402.615 1528.76 405.648 1528.76 Q408.657 1528.76 410.347 1527.25 Q412.06 1525.75 412.06 1523.06 Q412.06 1520.38 410.347 1518.87 Q408.657 1517.37 405.648 1517.37 Q402.615 1517.37 400.925 1518.87 Q399.259 1520.38 399.259 1523.06 Z\" fill=\"#000000\" fill-rule=\"evenodd\" fill-opacity=\"1\" /><path clip-path=\"url(#clip990)\" d=\"M425.948 1548.13 L425.948 1543.87 Q427.708 1544.7 429.513 1545.14 Q431.319 1545.58 433.055 1545.58 Q437.684 1545.58 440.115 1542.48 Q442.569 1539.36 442.916 1533.01 Q441.573 1535.01 439.513 1536.07 Q437.453 1537.13 434.953 1537.13 Q429.768 1537.13 426.735 1534.01 Q423.726 1530.86 423.726 1525.42 Q423.726 1520.1 426.874 1516.88 Q430.022 1513.66 435.254 1513.66 Q441.249 1513.66 444.397 1518.27 Q447.569 1522.85 447.569 1531.6 Q447.569 1539.77 443.68 1544.66 Q439.814 1549.52 433.263 1549.52 Q431.504 1549.52 429.698 1549.17 Q427.893 1548.82 425.948 1548.13 M435.254 1533.48 Q438.402 1533.48 440.231 1531.32 Q442.083 1529.17 442.083 1525.42 Q442.083 1521.7 440.231 1519.54 Q438.402 1517.37 435.254 1517.37 Q432.106 1517.37 430.254 1519.54 Q428.425 1521.7 428.425 1525.42 Q428.425 1529.17 430.254 1531.32 Q432.106 1533.48 435.254 1533.48 Z\" fill=\"#000000\" fill-rule=\"evenodd\" fill-opacity=\"1\" /><path clip-path=\"url(#clip990)\" d=\"M454.791 1514.29 L477.013 1514.29 L477.013 1516.28 L464.467 1548.85 L459.582 1548.85 L471.388 1518.22 L454.791 1518.22 L454.791 1514.29 Z\" fill=\"#000000\" fill-rule=\"evenodd\" fill-opacity=\"1\" /><path clip-path=\"url(#clip990)\" d=\"M486.272 1548.13 L486.272 1543.87 Q488.031 1544.7 489.837 1545.14 Q491.642 1545.58 493.379 1545.58 Q498.008 1545.58 500.439 1542.48 Q502.892 1539.36 503.24 1533.01 Q501.897 1535.01 499.837 1536.07 Q497.777 1537.13 495.277 1537.13 Q490.092 1537.13 487.059 1534.01 Q484.05 1530.86 484.05 1525.42 Q484.05 1520.1 487.198 1516.88 Q490.346 1513.66 495.578 1513.66 Q501.573 1513.66 504.721 1518.27 Q507.892 1522.85 507.892 1531.6 Q507.892 1539.77 504.004 1544.66 Q500.138 1549.52 493.587 1549.52 Q491.828 1549.52 490.022 1549.17 Q488.217 1548.82 486.272 1548.13 M495.578 1533.48 Q498.726 1533.48 500.554 1531.32 Q502.406 1529.17 502.406 1525.42 Q502.406 1521.7 500.554 1519.54 Q498.726 1517.37 495.578 1517.37 Q492.43 1517.37 490.578 1519.54 Q488.749 1521.7 488.749 1525.42 Q488.749 1529.17 490.578 1531.32 Q492.43 1533.48 495.578 1533.48 Z\" fill=\"#000000\" fill-rule=\"evenodd\" fill-opacity=\"1\" /><path clip-path=\"url(#clip990)\" d=\"M530.462 1530.21 Q533.818 1530.93 535.693 1533.2 Q537.591 1535.47 537.591 1538.8 Q537.591 1543.92 534.073 1546.72 Q530.554 1549.52 524.073 1549.52 Q521.897 1549.52 519.582 1549.08 Q517.291 1548.66 514.837 1547.81 L514.837 1543.29 Q516.781 1544.43 519.096 1545.01 Q521.411 1545.58 523.934 1545.58 Q528.332 1545.58 530.624 1543.85 Q532.939 1542.11 532.939 1538.8 Q532.939 1535.75 530.786 1534.03 Q528.656 1532.3 524.837 1532.3 L520.809 1532.3 L520.809 1528.45 L525.022 1528.45 Q528.471 1528.45 530.3 1527.09 Q532.128 1525.7 532.128 1523.11 Q532.128 1520.45 530.23 1519.03 Q528.355 1517.6 524.837 1517.6 Q522.915 1517.6 520.716 1518.01 Q518.517 1518.43 515.878 1519.31 L515.878 1515.14 Q518.54 1514.4 520.855 1514.03 Q523.193 1513.66 525.253 1513.66 Q530.577 1513.66 533.679 1516.09 Q536.781 1518.5 536.781 1522.62 Q536.781 1525.49 535.138 1527.48 Q533.494 1529.45 530.462 1530.21 Z\" fill=\"#000000\" fill-rule=\"evenodd\" fill-opacity=\"1\" /><path clip-path=\"url(#clip990)\" d=\"M377.466 1530.21 Q380.823 1530.93 382.698 1533.2 Q384.596 1535.47 384.596 1538.8 Q384.596 1543.92 381.078 1546.72 Q377.559 1549.52 371.078 1549.52 Q368.902 1549.52 366.587 1549.08 Q364.295 1548.66 361.842 1547.81 L361.842 1543.29 Q363.786 1544.43 366.101 1545.01 Q368.416 1545.58 370.939 1545.58 Q375.337 1545.58 377.629 1543.85 Q379.943 1542.11 379.943 1538.8 Q379.943 1535.75 377.791 1534.03 Q375.661 1532.3 371.842 1532.3 L367.814 1532.3 L367.814 1528.45 L372.027 1528.45 Q375.476 1528.45 377.304 1527.09 Q379.133 1525.7 379.133 1523.11 Q379.133 1520.45 377.235 1519.03 Q375.36 1517.6 371.842 1517.6 Q369.92 1517.6 367.721 1518.01 Q365.522 1518.43 362.883 1519.31 L362.883 1515.14 Q365.545 1514.4 367.86 1514.03 Q370.198 1513.66 372.258 1513.66 Q377.582 1513.66 380.684 1516.09 Q383.786 1518.5 383.786 1522.62 Q383.786 1525.49 382.142 1527.48 Q380.499 1529.45 377.466 1530.21 Z\" fill=\"#000000\" fill-rule=\"evenodd\" fill-opacity=\"1\" /><path clip-path=\"url(#clip990)\" d=\"M394.272 1544.91 L401.911 1544.91 L401.911 1518.55 L393.601 1520.21 L393.601 1515.95 L401.864 1514.29 L406.54 1514.29 L406.54 1544.91 L414.179 1544.91 L414.179 1548.85 L394.272 1548.85 L394.272 1544.91 Z\" fill=\"#000000\" fill-rule=\"evenodd\" fill-opacity=\"1\" /><path clip-path=\"url(#clip990)\" d=\"M436.471 1518.36 L424.665 1536.81 L436.471 1536.81 L436.471 1518.36 M435.244 1514.29 L441.124 1514.29 L441.124 1536.81 L446.054 1536.81 L446.054 1540.7 L441.124 1540.7 L441.124 1548.85 L436.471 1548.85 L436.471 1540.7 L420.869 1540.7 L420.869 1536.19 L435.244 1514.29 Z\" fill=\"#000000\" fill-rule=\"evenodd\" fill-opacity=\"1\" /><path clip-path=\"url(#clip990)\" d=\"M454.596 1544.91 L462.235 1544.91 L462.235 1518.55 L453.924 1520.21 L453.924 1515.95 L462.188 1514.29 L466.864 1514.29 L466.864 1544.91 L474.503 1544.91 L474.503 1548.85 L454.596 1548.85 L454.596 1544.91 Z\" fill=\"#000000\" fill-rule=\"evenodd\" fill-opacity=\"1\" /><path clip-path=\"url(#clip990)\" d=\"M483.994 1514.29 L502.35 1514.29 L502.35 1518.22 L488.276 1518.22 L488.276 1526.7 Q489.295 1526.35 490.313 1526.19 Q491.332 1526 492.35 1526 Q498.137 1526 501.517 1529.17 Q504.896 1532.34 504.896 1537.76 Q504.896 1543.34 501.424 1546.44 Q497.952 1549.52 491.633 1549.52 Q489.457 1549.52 487.188 1549.15 Q484.943 1548.78 482.535 1548.04 L482.535 1543.34 Q484.619 1544.47 486.841 1545.03 Q489.063 1545.58 491.54 1545.58 Q495.545 1545.58 497.882 1543.48 Q500.22 1541.37 500.22 1537.76 Q500.22 1534.15 497.882 1532.04 Q495.545 1529.94 491.54 1529.94 Q489.665 1529.94 487.79 1530.35 Q485.938 1530.77 483.994 1531.65 L483.994 1514.29 Z\" fill=\"#000000\" fill-rule=\"evenodd\" fill-opacity=\"1\" /><path clip-path=\"url(#clip990)\" d=\"M514.248 1548.13 L514.248 1543.87 Q516.007 1544.7 517.813 1545.14 Q519.618 1545.58 521.355 1545.58 Q525.984 1545.58 528.415 1542.48 Q530.868 1539.36 531.216 1533.01 Q529.873 1535.01 527.813 1536.07 Q525.753 1537.13 523.253 1537.13 Q518.068 1537.13 515.035 1534.01 Q512.026 1530.86 512.026 1525.42 Q512.026 1520.1 515.174 1516.88 Q518.322 1513.66 523.554 1513.66 Q529.549 1513.66 532.697 1518.27 Q535.868 1522.85 535.868 1531.6 Q535.868 1539.77 531.98 1544.66 Q528.114 1549.52 521.563 1549.52 Q519.804 1549.52 517.998 1549.17 Q516.193 1548.82 514.248 1548.13 M523.554 1533.48 Q526.702 1533.48 528.53 1531.32 Q530.382 1529.17 530.382 1525.42 Q530.382 1521.7 528.53 1519.54 Q526.702 1517.37 523.554 1517.37 Q520.406 1517.37 518.554 1519.54 Q516.725 1521.7 516.725 1525.42 Q516.725 1529.17 518.554 1531.32 Q520.406 1533.48 523.554 1533.48 Z\" fill=\"#000000\" fill-rule=\"evenodd\" fill-opacity=\"1\" /><path clip-path=\"url(#clip990)\" d=\"M548.299 1544.91 L564.618 1544.91 L564.618 1548.85 L542.674 1548.85 L542.674 1544.91 Q545.336 1542.16 549.919 1537.53 Q554.526 1532.88 555.706 1531.53 Q557.952 1529.01 558.831 1527.27 Q559.734 1525.51 559.734 1523.82 Q559.734 1521.07 557.79 1519.33 Q555.868 1517.6 552.766 1517.6 Q550.567 1517.6 548.114 1518.36 Q545.683 1519.13 542.905 1520.68 L542.905 1515.95 Q545.729 1514.82 548.183 1514.24 Q550.637 1513.66 552.674 1513.66 Q558.044 1513.66 561.239 1516.35 Q564.433 1519.03 564.433 1523.52 Q564.433 1525.65 563.623 1527.57 Q562.836 1529.47 560.729 1532.07 Q560.151 1532.74 557.049 1535.95 Q553.947 1539.15 548.299 1544.91 Z\" fill=\"#000000\" fill-rule=\"evenodd\" fill-opacity=\"1\" /><path clip-path=\"url(#clip990)\" d=\"M585.012 1529.7 Q581.864 1529.7 580.012 1531.86 Q578.183 1534.01 578.183 1537.76 Q578.183 1541.49 580.012 1543.66 Q581.864 1545.82 585.012 1545.82 Q588.16 1545.82 589.988 1543.66 Q591.84 1541.49 591.84 1537.76 Q591.84 1534.01 589.988 1531.86 Q588.16 1529.7 585.012 1529.7 M594.294 1515.05 L594.294 1519.31 Q592.535 1518.48 590.729 1518.04 Q588.947 1517.6 587.188 1517.6 Q582.558 1517.6 580.104 1520.72 Q577.674 1523.85 577.327 1530.17 Q578.692 1528.15 580.752 1527.09 Q582.813 1526 585.289 1526 Q590.498 1526 593.507 1529.17 Q596.539 1532.32 596.539 1537.76 Q596.539 1543.08 593.391 1546.3 Q590.243 1549.52 585.012 1549.52 Q579.016 1549.52 575.845 1544.94 Q572.674 1540.33 572.674 1531.6 Q572.674 1523.41 576.563 1518.55 Q580.451 1513.66 587.002 1513.66 Q588.762 1513.66 590.544 1514.01 Q592.35 1514.36 594.294 1515.05 Z\" fill=\"#000000\" fill-rule=\"evenodd\" fill-opacity=\"1\" /><path clip-path=\"url(#clip990)\" d=\"M604.641 1514.29 L622.998 1514.29 L622.998 1518.22 L608.924 1518.22 L608.924 1526.7 Q609.942 1526.35 610.961 1526.19 Q611.979 1526 612.998 1526 Q618.785 1526 622.164 1529.17 Q625.544 1532.34 625.544 1537.76 Q625.544 1543.34 622.072 1546.44 Q618.599 1549.52 612.28 1549.52 Q610.104 1549.52 607.836 1549.15 Q605.59 1548.78 603.183 1548.04 L603.183 1543.34 Q605.266 1544.47 607.488 1545.03 Q609.711 1545.58 612.187 1545.58 Q616.192 1545.58 618.53 1543.48 Q620.868 1541.37 620.868 1537.76 Q620.868 1534.15 618.53 1532.04 Q616.192 1529.94 612.187 1529.94 Q610.312 1529.94 608.437 1530.35 Q606.586 1530.77 604.641 1531.65 L604.641 1514.29 Z\" fill=\"#000000\" fill-rule=\"evenodd\" fill-opacity=\"1\" /><path clip-path=\"url(#clip990)\" d=\"M648.923 1530.21 Q652.28 1530.93 654.155 1533.2 Q656.053 1535.47 656.053 1538.8 Q656.053 1543.92 652.534 1546.72 Q649.016 1549.52 642.534 1549.52 Q640.359 1549.52 638.044 1549.08 Q635.752 1548.66 633.298 1547.81 L633.298 1543.29 Q635.243 1544.43 637.558 1545.01 Q639.872 1545.58 642.396 1545.58 Q646.794 1545.58 649.085 1543.85 Q651.4 1542.11 651.4 1538.8 Q651.4 1535.75 649.247 1534.03 Q647.118 1532.3 643.298 1532.3 L639.271 1532.3 L639.271 1528.45 L643.484 1528.45 Q646.933 1528.45 648.761 1527.09 Q650.59 1525.7 650.59 1523.11 Q650.59 1520.45 648.692 1519.03 Q646.817 1517.6 643.298 1517.6 Q641.377 1517.6 639.178 1518.01 Q636.979 1518.43 634.34 1519.31 L634.34 1515.14 Q637.002 1514.4 639.317 1514.03 Q641.655 1513.66 643.715 1513.66 Q649.039 1513.66 652.141 1516.09 Q655.243 1518.5 655.243 1522.62 Q655.243 1525.49 653.599 1527.48 Q651.956 1529.45 648.923 1530.21 Z\" fill=\"#000000\" fill-rule=\"evenodd\" fill-opacity=\"1\" /><path clip-path=\"url(#clip990)\" d=\"M664.965 1514.29 L683.321 1514.29 L683.321 1518.22 L669.247 1518.22 L669.247 1526.7 Q670.266 1526.35 671.284 1526.19 Q672.303 1526 673.321 1526 Q679.108 1526 682.488 1529.17 Q685.868 1532.34 685.868 1537.76 Q685.868 1543.34 682.395 1546.44 Q678.923 1549.52 672.604 1549.52 Q670.428 1549.52 668.159 1549.15 Q665.914 1548.78 663.507 1548.04 L663.507 1543.34 Q665.59 1544.47 667.812 1545.03 Q670.034 1545.58 672.511 1545.58 Q676.516 1545.58 678.854 1543.48 Q681.192 1541.37 681.192 1537.76 Q681.192 1534.15 678.854 1532.04 Q676.516 1529.94 672.511 1529.94 Q670.636 1529.94 668.761 1530.35 Q666.909 1530.77 664.965 1531.65 L664.965 1514.29 Z\" fill=\"#000000\" fill-rule=\"evenodd\" fill-opacity=\"1\" /><path clip-path=\"url(#clip990)\" d=\"M705.08 1532.44 Q701.747 1532.44 699.826 1534.22 Q697.928 1536 697.928 1539.13 Q697.928 1542.25 699.826 1544.03 Q701.747 1545.82 705.08 1545.82 Q708.414 1545.82 710.335 1544.03 Q712.256 1542.23 712.256 1539.13 Q712.256 1536 710.335 1534.22 Q708.437 1532.44 705.08 1532.44 M700.405 1530.45 Q697.395 1529.7 695.706 1527.64 Q694.039 1525.58 694.039 1522.62 Q694.039 1518.48 696.979 1516.07 Q699.942 1513.66 705.08 1513.66 Q710.242 1513.66 713.182 1516.07 Q716.122 1518.48 716.122 1522.62 Q716.122 1525.58 714.432 1527.64 Q712.766 1529.7 709.78 1530.45 Q713.159 1531.23 715.034 1533.52 Q716.932 1535.82 716.932 1539.13 Q716.932 1544.15 713.854 1546.83 Q710.798 1549.52 705.08 1549.52 Q699.363 1549.52 696.284 1546.83 Q693.229 1544.15 693.229 1539.13 Q693.229 1535.82 695.127 1533.52 Q697.025 1531.23 700.405 1530.45 M698.692 1523.06 Q698.692 1525.75 700.358 1527.25 Q702.048 1528.76 705.08 1528.76 Q708.09 1528.76 709.78 1527.25 Q711.492 1525.75 711.492 1523.06 Q711.492 1520.38 709.78 1518.87 Q708.09 1517.37 705.08 1517.37 Q702.048 1517.37 700.358 1518.87 Q698.692 1520.38 698.692 1523.06 Z\" fill=\"#000000\" fill-rule=\"evenodd\" fill-opacity=\"1\" /><path clip-path=\"url(#clip990)\" d=\"M725.381 1548.13 L725.381 1543.87 Q727.141 1544.7 728.946 1545.14 Q730.752 1545.58 732.488 1545.58 Q737.117 1545.58 739.548 1542.48 Q742.002 1539.36 742.349 1533.01 Q741.006 1535.01 738.946 1536.07 Q736.886 1537.13 734.386 1537.13 Q729.201 1537.13 726.168 1534.01 Q723.159 1530.86 723.159 1525.42 Q723.159 1520.1 726.307 1516.88 Q729.455 1513.66 734.687 1513.66 Q740.682 1513.66 743.83 1518.27 Q747.002 1522.85 747.002 1531.6 Q747.002 1539.77 743.113 1544.66 Q739.247 1549.52 732.696 1549.52 Q730.937 1549.52 729.131 1549.17 Q727.326 1548.82 725.381 1548.13 M734.687 1533.48 Q737.835 1533.48 739.664 1531.32 Q741.515 1529.17 741.515 1525.42 Q741.515 1521.7 739.664 1519.54 Q737.835 1517.37 734.687 1517.37 Q731.539 1517.37 729.687 1519.54 Q727.858 1521.7 727.858 1525.42 Q727.858 1529.17 729.687 1531.32 Q731.539 1533.48 734.687 1533.48 Z\" fill=\"#000000\" fill-rule=\"evenodd\" fill-opacity=\"1\" /><path clip-path=\"url(#clip990)\" d=\"M754.224 1514.29 L776.446 1514.29 L776.446 1516.28 L763.9 1548.85 L759.015 1548.85 L770.821 1518.22 L754.224 1518.22 L754.224 1514.29 Z\" fill=\"#000000\" fill-rule=\"evenodd\" fill-opacity=\"1\" /><path clip-path=\"url(#clip990)\" d=\"M785.705 1548.13 L785.705 1543.87 Q787.464 1544.7 789.27 1545.14 Q791.075 1545.58 792.811 1545.58 Q797.441 1545.58 799.872 1542.48 Q802.325 1539.36 802.673 1533.01 Q801.33 1535.01 799.27 1536.07 Q797.21 1537.13 794.71 1537.13 Q789.524 1537.13 786.492 1534.01 Q783.483 1530.86 783.483 1525.42 Q783.483 1520.1 786.631 1516.88 Q789.779 1513.66 795.011 1513.66 Q801.006 1513.66 804.154 1518.27 Q807.325 1522.85 807.325 1531.6 Q807.325 1539.77 803.436 1544.66 Q799.571 1549.52 793.02 1549.52 Q791.261 1549.52 789.455 1549.17 Q787.649 1548.82 785.705 1548.13 M795.011 1533.48 Q798.159 1533.48 799.987 1531.32 Q801.839 1529.17 801.839 1525.42 Q801.839 1521.7 799.987 1519.54 Q798.159 1517.37 795.011 1517.37 Q791.862 1517.37 790.011 1519.54 Q788.182 1521.7 788.182 1525.42 Q788.182 1529.17 790.011 1531.32 Q791.862 1533.48 795.011 1533.48 Z\" fill=\"#000000\" fill-rule=\"evenodd\" fill-opacity=\"1\" /><path clip-path=\"url(#clip990)\" d=\"M828.575 1518.36 L816.77 1536.81 L828.575 1536.81 L828.575 1518.36 M827.348 1514.29 L833.228 1514.29 L833.228 1536.81 L838.158 1536.81 L838.158 1540.7 L833.228 1540.7 L833.228 1548.85 L828.575 1548.85 L828.575 1540.7 L812.973 1540.7 L812.973 1536.19 L827.348 1514.29 Z\" fill=\"#000000\" fill-rule=\"evenodd\" fill-opacity=\"1\" /><path clip-path=\"url(#clip990)\" d=\"M678.207 1530.21 Q681.564 1530.93 683.439 1533.2 Q685.337 1535.47 685.337 1538.8 Q685.337 1543.92 681.818 1546.72 Q678.3 1549.52 671.818 1549.52 Q669.642 1549.52 667.328 1549.08 Q665.036 1548.66 662.582 1547.81 L662.582 1543.29 Q664.527 1544.43 666.842 1545.01 Q669.156 1545.58 671.679 1545.58 Q676.078 1545.58 678.369 1543.85 Q680.684 1542.11 680.684 1538.8 Q680.684 1535.75 678.531 1534.03 Q676.402 1532.3 672.582 1532.3 L668.554 1532.3 L668.554 1528.45 L672.767 1528.45 Q676.216 1528.45 678.045 1527.09 Q679.874 1525.7 679.874 1523.11 Q679.874 1520.45 677.976 1519.03 Q676.101 1517.6 672.582 1517.6 Q670.661 1517.6 668.462 1518.01 Q666.263 1518.43 663.624 1519.31 L663.624 1515.14 Q666.286 1514.4 668.601 1514.03 Q670.939 1513.66 672.999 1513.66 Q678.323 1513.66 681.425 1516.09 Q684.527 1518.5 684.527 1522.62 Q684.527 1525.49 682.883 1527.48 Q681.24 1529.45 678.207 1530.21 Z\" fill=\"#000000\" fill-rule=\"evenodd\" fill-opacity=\"1\" /><path clip-path=\"url(#clip990)\" d=\"M695.013 1544.91 L702.652 1544.91 L702.652 1518.55 L694.341 1520.21 L694.341 1515.95 L702.605 1514.29 L707.281 1514.29 L707.281 1544.91 L714.92 1544.91 L714.92 1548.85 L695.013 1548.85 L695.013 1544.91 Z\" fill=\"#000000\" fill-rule=\"evenodd\" fill-opacity=\"1\" /><path clip-path=\"url(#clip990)\" d=\"M737.212 1518.36 L725.406 1536.81 L737.212 1536.81 L737.212 1518.36 M735.985 1514.29 L741.864 1514.29 L741.864 1536.81 L746.795 1536.81 L746.795 1540.7 L741.864 1540.7 L741.864 1548.85 L737.212 1548.85 L737.212 1540.7 L721.61 1540.7 L721.61 1536.19 L735.985 1514.29 Z\" fill=\"#000000\" fill-rule=\"evenodd\" fill-opacity=\"1\" /><path clip-path=\"url(#clip990)\" d=\"M755.336 1544.91 L762.975 1544.91 L762.975 1518.55 L754.665 1520.21 L754.665 1515.95 L762.929 1514.29 L767.605 1514.29 L767.605 1544.91 L775.244 1544.91 L775.244 1548.85 L755.336 1548.85 L755.336 1544.91 Z\" fill=\"#000000\" fill-rule=\"evenodd\" fill-opacity=\"1\" /><path clip-path=\"url(#clip990)\" d=\"M784.734 1514.29 L803.091 1514.29 L803.091 1518.22 L789.017 1518.22 L789.017 1526.7 Q790.035 1526.35 791.054 1526.19 Q792.072 1526 793.091 1526 Q798.878 1526 802.257 1529.17 Q805.637 1532.34 805.637 1537.76 Q805.637 1543.34 802.165 1546.44 Q798.693 1549.52 792.373 1549.52 Q790.197 1549.52 787.929 1549.15 Q785.683 1548.78 783.276 1548.04 L783.276 1543.34 Q785.359 1544.47 787.582 1545.03 Q789.804 1545.58 792.281 1545.58 Q796.285 1545.58 798.623 1543.48 Q800.961 1541.37 800.961 1537.76 Q800.961 1534.15 798.623 1532.04 Q796.285 1529.94 792.281 1529.94 Q790.406 1529.94 788.531 1530.35 Q786.679 1530.77 784.734 1531.65 L784.734 1514.29 Z\" fill=\"#000000\" fill-rule=\"evenodd\" fill-opacity=\"1\" /><path clip-path=\"url(#clip990)\" d=\"M814.989 1548.13 L814.989 1543.87 Q816.748 1544.7 818.554 1545.14 Q820.359 1545.58 822.095 1545.58 Q826.725 1545.58 829.155 1542.48 Q831.609 1539.36 831.956 1533.01 Q830.614 1535.01 828.554 1536.07 Q826.493 1537.13 823.993 1537.13 Q818.808 1537.13 815.776 1534.01 Q812.767 1530.86 812.767 1525.42 Q812.767 1520.1 815.915 1516.88 Q819.063 1513.66 824.294 1513.66 Q830.29 1513.66 833.438 1518.27 Q836.609 1522.85 836.609 1531.6 Q836.609 1539.77 832.72 1544.66 Q828.855 1549.52 822.304 1549.52 Q820.544 1549.52 818.739 1549.17 Q816.933 1548.82 814.989 1548.13 M824.294 1533.48 Q827.443 1533.48 829.271 1531.32 Q831.123 1529.17 831.123 1525.42 Q831.123 1521.7 829.271 1519.54 Q827.443 1517.37 824.294 1517.37 Q821.146 1517.37 819.294 1519.54 Q817.466 1521.7 817.466 1525.42 Q817.466 1529.17 819.294 1531.32 Q821.146 1533.48 824.294 1533.48 Z\" fill=\"#000000\" fill-rule=\"evenodd\" fill-opacity=\"1\" /><path clip-path=\"url(#clip990)\" d=\"M849.04 1544.91 L865.359 1544.91 L865.359 1548.85 L843.415 1548.85 L843.415 1544.91 Q846.077 1542.16 850.66 1537.53 Q855.266 1532.88 856.447 1531.53 Q858.692 1529.01 859.572 1527.27 Q860.475 1525.51 860.475 1523.82 Q860.475 1521.07 858.53 1519.33 Q856.609 1517.6 853.507 1517.6 Q851.308 1517.6 848.854 1518.36 Q846.424 1519.13 843.646 1520.68 L843.646 1515.95 Q846.47 1514.82 848.924 1514.24 Q851.378 1513.66 853.415 1513.66 Q858.785 1513.66 861.979 1516.35 Q865.174 1519.03 865.174 1523.52 Q865.174 1525.65 864.364 1527.57 Q863.577 1529.47 861.47 1532.07 Q860.891 1532.74 857.79 1535.95 Q854.688 1539.15 849.04 1544.91 Z\" fill=\"#000000\" fill-rule=\"evenodd\" fill-opacity=\"1\" /><path clip-path=\"url(#clip990)\" d=\"M885.752 1529.7 Q882.604 1529.7 880.752 1531.86 Q878.924 1534.01 878.924 1537.76 Q878.924 1541.49 880.752 1543.66 Q882.604 1545.82 885.752 1545.82 Q888.901 1545.82 890.729 1543.66 Q892.581 1541.49 892.581 1537.76 Q892.581 1534.01 890.729 1531.86 Q888.901 1529.7 885.752 1529.7 M895.035 1515.05 L895.035 1519.31 Q893.275 1518.48 891.47 1518.04 Q889.688 1517.6 887.928 1517.6 Q883.299 1517.6 880.845 1520.72 Q878.414 1523.85 878.067 1530.17 Q879.433 1528.15 881.493 1527.09 Q883.553 1526 886.03 1526 Q891.238 1526 894.248 1529.17 Q897.28 1532.32 897.28 1537.76 Q897.28 1543.08 894.132 1546.3 Q890.984 1549.52 885.752 1549.52 Q879.757 1549.52 876.586 1544.94 Q873.414 1540.33 873.414 1531.6 Q873.414 1523.41 877.303 1518.55 Q881.192 1513.66 887.743 1513.66 Q889.502 1513.66 891.285 1514.01 Q893.09 1514.36 895.035 1515.05 Z\" fill=\"#000000\" fill-rule=\"evenodd\" fill-opacity=\"1\" /><path clip-path=\"url(#clip990)\" d=\"M905.382 1514.29 L923.738 1514.29 L923.738 1518.22 L909.664 1518.22 L909.664 1526.7 Q910.683 1526.35 911.701 1526.19 Q912.72 1526 913.738 1526 Q919.525 1526 922.905 1529.17 Q926.285 1532.34 926.285 1537.76 Q926.285 1543.34 922.812 1546.44 Q919.34 1549.52 913.021 1549.52 Q910.845 1549.52 908.576 1549.15 Q906.331 1548.78 903.924 1548.04 L903.924 1543.34 Q906.007 1544.47 908.229 1545.03 Q910.451 1545.58 912.928 1545.58 Q916.933 1545.58 919.271 1543.48 Q921.609 1541.37 921.609 1537.76 Q921.609 1534.15 919.271 1532.04 Q916.933 1529.94 912.928 1529.94 Q911.053 1529.94 909.178 1530.35 Q907.326 1530.77 905.382 1531.65 L905.382 1514.29 Z\" fill=\"#000000\" fill-rule=\"evenodd\" fill-opacity=\"1\" /><path clip-path=\"url(#clip990)\" d=\"M949.664 1530.21 Q953.021 1530.93 954.896 1533.2 Q956.794 1535.47 956.794 1538.8 Q956.794 1543.92 953.275 1546.72 Q949.757 1549.52 943.275 1549.52 Q941.099 1549.52 938.785 1549.08 Q936.493 1548.66 934.039 1547.81 L934.039 1543.29 Q935.984 1544.43 938.298 1545.01 Q940.613 1545.58 943.136 1545.58 Q947.534 1545.58 949.826 1543.85 Q952.141 1542.11 952.141 1538.8 Q952.141 1535.75 949.988 1534.03 Q947.859 1532.3 944.039 1532.3 L940.011 1532.3 L940.011 1528.45 L944.224 1528.45 Q947.673 1528.45 949.502 1527.09 Q951.331 1525.7 951.331 1523.11 Q951.331 1520.45 949.433 1519.03 Q947.558 1517.6 944.039 1517.6 Q942.118 1517.6 939.919 1518.01 Q937.72 1518.43 935.081 1519.31 L935.081 1515.14 Q937.743 1514.4 940.058 1514.03 Q942.396 1513.66 944.456 1513.66 Q949.78 1513.66 952.882 1516.09 Q955.983 1518.5 955.983 1522.62 Q955.983 1525.49 954.34 1527.48 Q952.696 1529.45 949.664 1530.21 Z\" fill=\"#000000\" fill-rule=\"evenodd\" fill-opacity=\"1\" /><path clip-path=\"url(#clip990)\" d=\"M965.706 1514.29 L984.062 1514.29 L984.062 1518.22 L969.988 1518.22 L969.988 1526.7 Q971.007 1526.35 972.025 1526.19 Q973.044 1526 974.062 1526 Q979.849 1526 983.229 1529.17 Q986.608 1532.34 986.608 1537.76 Q986.608 1543.34 983.136 1546.44 Q979.664 1549.52 973.345 1549.52 Q971.169 1549.52 968.9 1549.15 Q966.655 1548.78 964.247 1548.04 L964.247 1543.34 Q966.331 1544.47 968.553 1545.03 Q970.775 1545.58 973.252 1545.58 Q977.257 1545.58 979.594 1543.48 Q981.932 1541.37 981.932 1537.76 Q981.932 1534.15 979.594 1532.04 Q977.257 1529.94 973.252 1529.94 Q971.377 1529.94 969.502 1530.35 Q967.65 1530.77 965.706 1531.65 L965.706 1514.29 Z\" fill=\"#000000\" fill-rule=\"evenodd\" fill-opacity=\"1\" /><path clip-path=\"url(#clip990)\" d=\"M1005.82 1532.44 Q1002.49 1532.44 1000.57 1534.22 Q998.668 1536 998.668 1539.13 Q998.668 1542.25 1000.57 1544.03 Q1002.49 1545.82 1005.82 1545.82 Q1009.15 1545.82 1011.08 1544.03 Q1013 1542.23 1013 1539.13 Q1013 1536 1011.08 1534.22 Q1009.18 1532.44 1005.82 1532.44 M1001.15 1530.45 Q998.136 1529.7 996.446 1527.64 Q994.78 1525.58 994.78 1522.62 Q994.78 1518.48 997.719 1516.07 Q1000.68 1513.66 1005.82 1513.66 Q1010.98 1513.66 1013.92 1516.07 Q1016.86 1518.48 1016.86 1522.62 Q1016.86 1525.58 1015.17 1527.64 Q1013.51 1529.7 1010.52 1530.45 Q1013.9 1531.23 1015.77 1533.52 Q1017.67 1535.82 1017.67 1539.13 Q1017.67 1544.15 1014.59 1546.83 Q1011.54 1549.52 1005.82 1549.52 Q1000.1 1549.52 997.025 1546.83 Q993.969 1544.15 993.969 1539.13 Q993.969 1535.82 995.868 1533.52 Q997.766 1531.23 1001.15 1530.45 M999.432 1523.06 Q999.432 1525.75 1001.1 1527.25 Q1002.79 1528.76 1005.82 1528.76 Q1008.83 1528.76 1010.52 1527.25 Q1012.23 1525.75 1012.23 1523.06 Q1012.23 1520.38 1010.52 1518.87 Q1008.83 1517.37 1005.82 1517.37 Q1002.79 1517.37 1001.1 1518.87 Q999.432 1520.38 999.432 1523.06 Z\" fill=\"#000000\" fill-rule=\"evenodd\" fill-opacity=\"1\" /><path clip-path=\"url(#clip990)\" d=\"M1026.12 1548.13 L1026.12 1543.87 Q1027.88 1544.7 1029.69 1545.14 Q1031.49 1545.58 1033.23 1545.58 Q1037.86 1545.58 1040.29 1542.48 Q1042.74 1539.36 1043.09 1533.01 Q1041.75 1535.01 1039.69 1536.07 Q1037.63 1537.13 1035.13 1537.13 Q1029.94 1537.13 1026.91 1534.01 Q1023.9 1530.86 1023.9 1525.42 Q1023.9 1520.1 1027.05 1516.88 Q1030.2 1513.66 1035.43 1513.66 Q1041.42 1513.66 1044.57 1518.27 Q1047.74 1522.85 1047.74 1531.6 Q1047.74 1539.77 1043.85 1544.66 Q1039.99 1549.52 1033.44 1549.52 Q1031.68 1549.52 1029.87 1549.17 Q1028.07 1548.82 1026.12 1548.13 M1035.43 1533.48 Q1038.58 1533.48 1040.4 1531.32 Q1042.26 1529.17 1042.26 1525.42 Q1042.26 1521.7 1040.4 1519.54 Q1038.58 1517.37 1035.43 1517.37 Q1032.28 1517.37 1030.43 1519.54 Q1028.6 1521.7 1028.6 1525.42 Q1028.6 1529.17 1030.43 1531.32 Q1032.28 1533.48 1035.43 1533.48 Z\" fill=\"#000000\" fill-rule=\"evenodd\" fill-opacity=\"1\" /><path clip-path=\"url(#clip990)\" d=\"M1054.96 1514.29 L1077.19 1514.29 L1077.19 1516.28 L1064.64 1548.85 L1059.76 1548.85 L1071.56 1518.22 L1054.96 1518.22 L1054.96 1514.29 Z\" fill=\"#000000\" fill-rule=\"evenodd\" fill-opacity=\"1\" /><path clip-path=\"url(#clip990)\" d=\"M1086.45 1548.13 L1086.45 1543.87 Q1088.21 1544.7 1090.01 1545.14 Q1091.82 1545.58 1093.55 1545.58 Q1098.18 1545.58 1100.61 1542.48 Q1103.07 1539.36 1103.41 1533.01 Q1102.07 1535.01 1100.01 1536.07 Q1097.95 1537.13 1095.45 1537.13 Q1090.27 1537.13 1087.23 1534.01 Q1084.22 1530.86 1084.22 1525.42 Q1084.22 1520.1 1087.37 1516.88 Q1090.52 1513.66 1095.75 1513.66 Q1101.75 1513.66 1104.89 1518.27 Q1108.07 1522.85 1108.07 1531.6 Q1108.07 1539.77 1104.18 1544.66 Q1100.31 1549.52 1093.76 1549.52 Q1092 1549.52 1090.2 1549.17 Q1088.39 1548.82 1086.45 1548.13 M1095.75 1533.48 Q1098.9 1533.48 1100.73 1531.32 Q1102.58 1529.17 1102.58 1525.42 Q1102.58 1521.7 1100.73 1519.54 Q1098.9 1517.37 1095.75 1517.37 Q1092.6 1517.37 1090.75 1519.54 Q1088.92 1521.7 1088.92 1525.42 Q1088.92 1529.17 1090.75 1531.32 Q1092.6 1533.48 1095.75 1533.48 Z\" fill=\"#000000\" fill-rule=\"evenodd\" fill-opacity=\"1\" /><path clip-path=\"url(#clip990)\" d=\"M1116.52 1514.29 L1134.87 1514.29 L1134.87 1518.22 L1120.8 1518.22 L1120.8 1526.7 Q1121.82 1526.35 1122.83 1526.19 Q1123.85 1526 1124.87 1526 Q1130.66 1526 1134.04 1529.17 Q1137.42 1532.34 1137.42 1537.76 Q1137.42 1543.34 1133.95 1546.44 Q1130.47 1549.52 1124.15 1549.52 Q1121.98 1549.52 1119.71 1549.15 Q1117.46 1548.78 1115.06 1548.04 L1115.06 1543.34 Q1117.14 1544.47 1119.36 1545.03 Q1121.58 1545.58 1124.06 1545.58 Q1128.07 1545.58 1130.4 1543.48 Q1132.74 1541.37 1132.74 1537.76 Q1132.74 1534.15 1130.4 1532.04 Q1128.07 1529.94 1124.06 1529.94 Q1122.19 1529.94 1120.31 1530.35 Q1118.46 1530.77 1116.52 1531.65 L1116.52 1514.29 Z\" fill=\"#000000\" fill-rule=\"evenodd\" fill-opacity=\"1\" /><path clip-path=\"url(#clip990)\" d=\"M977.629 1530.21 Q980.985 1530.93 982.86 1533.2 Q984.758 1535.47 984.758 1538.8 Q984.758 1543.92 981.24 1546.72 Q977.721 1549.52 971.24 1549.52 Q969.064 1549.52 966.749 1549.08 Q964.457 1548.66 962.004 1547.81 L962.004 1543.29 Q963.948 1544.43 966.263 1545.01 Q968.578 1545.58 971.101 1545.58 Q975.499 1545.58 977.791 1543.85 Q980.105 1542.11 980.105 1538.8 Q980.105 1535.75 977.953 1534.03 Q975.823 1532.3 972.004 1532.3 L967.976 1532.3 L967.976 1528.45 L972.189 1528.45 Q975.638 1528.45 977.466 1527.09 Q979.295 1525.7 979.295 1523.11 Q979.295 1520.45 977.397 1519.03 Q975.522 1517.6 972.004 1517.6 Q970.082 1517.6 967.883 1518.01 Q965.684 1518.43 963.045 1519.31 L963.045 1515.14 Q965.707 1514.4 968.022 1514.03 Q970.36 1513.66 972.42 1513.66 Q977.744 1513.66 980.846 1516.09 Q983.948 1518.5 983.948 1522.62 Q983.948 1525.49 982.304 1527.48 Q980.661 1529.45 977.629 1530.21 Z\" fill=\"#000000\" fill-rule=\"evenodd\" fill-opacity=\"1\" /><path clip-path=\"url(#clip990)\" d=\"M994.434 1544.91 L1002.07 1544.91 L1002.07 1518.55 L993.763 1520.21 L993.763 1515.95 L1002.03 1514.29 L1006.7 1514.29 L1006.7 1544.91 L1014.34 1544.91 L1014.34 1548.85 L994.434 1548.85 L994.434 1544.91 Z\" fill=\"#000000\" fill-rule=\"evenodd\" fill-opacity=\"1\" /><path clip-path=\"url(#clip990)\" d=\"M1036.63 1518.36 L1024.83 1536.81 L1036.63 1536.81 L1036.63 1518.36 M1035.41 1514.29 L1041.29 1514.29 L1041.29 1536.81 L1046.22 1536.81 L1046.22 1540.7 L1041.29 1540.7 L1041.29 1548.85 L1036.63 1548.85 L1036.63 1540.7 L1021.03 1540.7 L1021.03 1536.19 L1035.41 1514.29 Z\" fill=\"#000000\" fill-rule=\"evenodd\" fill-opacity=\"1\" /><path clip-path=\"url(#clip990)\" d=\"M1054.76 1544.91 L1062.4 1544.91 L1062.4 1518.55 L1054.09 1520.21 L1054.09 1515.95 L1062.35 1514.29 L1067.03 1514.29 L1067.03 1544.91 L1074.67 1544.91 L1074.67 1548.85 L1054.76 1548.85 L1054.76 1544.91 Z\" fill=\"#000000\" fill-rule=\"evenodd\" fill-opacity=\"1\" /><path clip-path=\"url(#clip990)\" d=\"M1084.16 1514.29 L1102.51 1514.29 L1102.51 1518.22 L1088.44 1518.22 L1088.44 1526.7 Q1089.46 1526.35 1090.48 1526.19 Q1091.49 1526 1092.51 1526 Q1098.3 1526 1101.68 1529.17 Q1105.06 1532.34 1105.06 1537.76 Q1105.06 1543.34 1101.59 1546.44 Q1098.11 1549.52 1091.79 1549.52 Q1089.62 1549.52 1087.35 1549.15 Q1085.1 1548.78 1082.7 1548.04 L1082.7 1543.34 Q1084.78 1544.47 1087 1545.03 Q1089.23 1545.58 1091.7 1545.58 Q1095.71 1545.58 1098.04 1543.48 Q1100.38 1541.37 1100.38 1537.76 Q1100.38 1534.15 1098.04 1532.04 Q1095.71 1529.94 1091.7 1529.94 Q1089.83 1529.94 1087.95 1530.35 Q1086.1 1530.77 1084.16 1531.65 L1084.16 1514.29 Z\" fill=\"#000000\" fill-rule=\"evenodd\" fill-opacity=\"1\" /><path clip-path=\"url(#clip990)\" d=\"M1114.41 1548.13 L1114.41 1543.87 Q1116.17 1544.7 1117.97 1545.14 Q1119.78 1545.58 1121.52 1545.58 Q1126.15 1545.58 1128.58 1542.48 Q1131.03 1539.36 1131.38 1533.01 Q1130.04 1535.01 1127.97 1536.07 Q1125.91 1537.13 1123.41 1537.13 Q1118.23 1537.13 1115.2 1534.01 Q1112.19 1530.86 1112.19 1525.42 Q1112.19 1520.1 1115.34 1516.88 Q1118.48 1513.66 1123.72 1513.66 Q1129.71 1513.66 1132.86 1518.27 Q1136.03 1522.85 1136.03 1531.6 Q1136.03 1539.77 1132.14 1544.66 Q1128.28 1549.52 1121.72 1549.52 Q1119.97 1549.52 1118.16 1549.17 Q1116.35 1548.82 1114.41 1548.13 M1123.72 1533.48 Q1126.86 1533.48 1128.69 1531.32 Q1130.54 1529.17 1130.54 1525.42 Q1130.54 1521.7 1128.69 1519.54 Q1126.86 1517.37 1123.72 1517.37 Q1120.57 1517.37 1118.72 1519.54 Q1116.89 1521.7 1116.89 1525.42 Q1116.89 1529.17 1118.72 1531.32 Q1120.57 1533.48 1123.72 1533.48 Z\" fill=\"#000000\" fill-rule=\"evenodd\" fill-opacity=\"1\" /><path clip-path=\"url(#clip990)\" d=\"M1148.46 1544.91 L1164.78 1544.91 L1164.78 1548.85 L1142.84 1548.85 L1142.84 1544.91 Q1145.5 1542.16 1150.08 1537.53 Q1154.69 1532.88 1155.87 1531.53 Q1158.11 1529.01 1158.99 1527.27 Q1159.9 1525.51 1159.9 1523.82 Q1159.9 1521.07 1157.95 1519.33 Q1156.03 1517.6 1152.93 1517.6 Q1150.73 1517.6 1148.28 1518.36 Q1145.85 1519.13 1143.07 1520.68 L1143.07 1515.95 Q1145.89 1514.82 1148.35 1514.24 Q1150.8 1513.66 1152.84 1513.66 Q1158.21 1513.66 1161.4 1516.35 Q1164.6 1519.03 1164.6 1523.52 Q1164.6 1525.65 1163.78 1527.57 Q1163 1529.47 1160.89 1532.07 Q1160.31 1532.74 1157.21 1535.95 Q1154.11 1539.15 1148.46 1544.91 Z\" fill=\"#000000\" fill-rule=\"evenodd\" fill-opacity=\"1\" /><path clip-path=\"url(#clip990)\" d=\"M1185.17 1529.7 Q1182.03 1529.7 1180.17 1531.86 Q1178.35 1534.01 1178.35 1537.76 Q1178.35 1541.49 1180.17 1543.66 Q1182.03 1545.82 1185.17 1545.82 Q1188.32 1545.82 1190.15 1543.66 Q1192 1541.49 1192 1537.76 Q1192 1534.01 1190.15 1531.86 Q1188.32 1529.7 1185.17 1529.7 M1194.46 1515.05 L1194.46 1519.31 Q1192.7 1518.48 1190.89 1518.04 Q1189.11 1517.6 1187.35 1517.6 Q1182.72 1517.6 1180.27 1520.72 Q1177.84 1523.85 1177.49 1530.17 Q1178.85 1528.15 1180.91 1527.09 Q1182.97 1526 1185.45 1526 Q1190.66 1526 1193.67 1529.17 Q1196.7 1532.32 1196.7 1537.76 Q1196.7 1543.08 1193.55 1546.3 Q1190.41 1549.52 1185.17 1549.52 Q1179.18 1549.52 1176.01 1544.94 Q1172.84 1540.33 1172.84 1531.6 Q1172.84 1523.41 1176.72 1518.55 Q1180.61 1513.66 1187.16 1513.66 Q1188.92 1513.66 1190.71 1514.01 Q1192.51 1514.36 1194.46 1515.05 Z\" fill=\"#000000\" fill-rule=\"evenodd\" fill-opacity=\"1\" /><path clip-path=\"url(#clip990)\" d=\"M1204.8 1514.29 L1223.16 1514.29 L1223.16 1518.22 L1209.09 1518.22 L1209.09 1526.7 Q1210.1 1526.35 1211.12 1526.19 Q1212.14 1526 1213.16 1526 Q1218.95 1526 1222.33 1529.17 Q1225.71 1532.34 1225.71 1537.76 Q1225.71 1543.34 1222.23 1546.44 Q1218.76 1549.52 1212.44 1549.52 Q1210.27 1549.52 1208 1549.15 Q1205.75 1548.78 1203.34 1548.04 L1203.34 1543.34 Q1205.43 1544.47 1207.65 1545.03 Q1209.87 1545.58 1212.35 1545.58 Q1216.35 1545.58 1218.69 1543.48 Q1221.03 1541.37 1221.03 1537.76 Q1221.03 1534.15 1218.69 1532.04 Q1216.35 1529.94 1212.35 1529.94 Q1210.47 1529.94 1208.6 1530.35 Q1206.75 1530.77 1204.8 1531.65 L1204.8 1514.29 Z\" fill=\"#000000\" fill-rule=\"evenodd\" fill-opacity=\"1\" /><path clip-path=\"url(#clip990)\" d=\"M1249.09 1530.21 Q1252.44 1530.93 1254.32 1533.2 Q1256.21 1535.47 1256.21 1538.8 Q1256.21 1543.92 1252.7 1546.72 Q1249.18 1549.52 1242.7 1549.52 Q1240.52 1549.52 1238.21 1549.08 Q1235.91 1548.66 1233.46 1547.81 L1233.46 1543.29 Q1235.4 1544.43 1237.72 1545.01 Q1240.03 1545.58 1242.56 1545.58 Q1246.96 1545.58 1249.25 1543.85 Q1251.56 1542.11 1251.56 1538.8 Q1251.56 1535.75 1249.41 1534.03 Q1247.28 1532.3 1243.46 1532.3 L1239.43 1532.3 L1239.43 1528.45 L1243.65 1528.45 Q1247.09 1528.45 1248.92 1527.09 Q1250.75 1525.7 1250.75 1523.11 Q1250.75 1520.45 1248.85 1519.03 Q1246.98 1517.6 1243.46 1517.6 Q1241.54 1517.6 1239.34 1518.01 Q1237.14 1518.43 1234.5 1519.31 L1234.5 1515.14 Q1237.16 1514.4 1239.48 1514.03 Q1241.82 1513.66 1243.88 1513.66 Q1249.2 1513.66 1252.3 1516.09 Q1255.4 1518.5 1255.4 1522.62 Q1255.4 1525.49 1253.76 1527.48 Q1252.12 1529.45 1249.09 1530.21 Z\" fill=\"#000000\" fill-rule=\"evenodd\" fill-opacity=\"1\" /><path clip-path=\"url(#clip990)\" d=\"M1265.13 1514.29 L1283.48 1514.29 L1283.48 1518.22 L1269.41 1518.22 L1269.41 1526.7 Q1270.43 1526.35 1271.45 1526.19 Q1272.46 1526 1273.48 1526 Q1279.27 1526 1282.65 1529.17 Q1286.03 1532.34 1286.03 1537.76 Q1286.03 1543.34 1282.56 1546.44 Q1279.09 1549.52 1272.77 1549.52 Q1270.59 1549.52 1268.32 1549.15 Q1266.08 1548.78 1263.67 1548.04 L1263.67 1543.34 Q1265.75 1544.47 1267.97 1545.03 Q1270.2 1545.58 1272.67 1545.58 Q1276.68 1545.58 1279.02 1543.48 Q1281.35 1541.37 1281.35 1537.76 Q1281.35 1534.15 1279.02 1532.04 Q1276.68 1529.94 1272.67 1529.94 Q1270.8 1529.94 1268.92 1530.35 Q1267.07 1530.77 1265.13 1531.65 L1265.13 1514.29 Z\" fill=\"#000000\" fill-rule=\"evenodd\" fill-opacity=\"1\" /><path clip-path=\"url(#clip990)\" d=\"M1305.24 1532.44 Q1301.91 1532.44 1299.99 1534.22 Q1298.09 1536 1298.09 1539.13 Q1298.09 1542.25 1299.99 1544.03 Q1301.91 1545.82 1305.24 1545.82 Q1308.58 1545.82 1310.5 1544.03 Q1312.42 1542.23 1312.42 1539.13 Q1312.42 1536 1310.5 1534.22 Q1308.6 1532.44 1305.24 1532.44 M1300.57 1530.45 Q1297.56 1529.7 1295.87 1527.64 Q1294.2 1525.58 1294.2 1522.62 Q1294.2 1518.48 1297.14 1516.07 Q1300.1 1513.66 1305.24 1513.66 Q1310.4 1513.66 1313.34 1516.07 Q1316.28 1518.48 1316.28 1522.62 Q1316.28 1525.58 1314.59 1527.64 Q1312.93 1529.7 1309.94 1530.45 Q1313.32 1531.23 1315.2 1533.52 Q1317.09 1535.82 1317.09 1539.13 Q1317.09 1544.15 1314.02 1546.83 Q1310.96 1549.52 1305.24 1549.52 Q1299.52 1549.52 1296.45 1546.83 Q1293.39 1544.15 1293.39 1539.13 Q1293.39 1535.82 1295.29 1533.52 Q1297.19 1531.23 1300.57 1530.45 M1298.85 1523.06 Q1298.85 1525.75 1300.52 1527.25 Q1302.21 1528.76 1305.24 1528.76 Q1308.25 1528.76 1309.94 1527.25 Q1311.65 1525.75 1311.65 1523.06 Q1311.65 1520.38 1309.94 1518.87 Q1308.25 1517.37 1305.24 1517.37 Q1302.21 1517.37 1300.52 1518.87 Q1298.85 1520.38 1298.85 1523.06 Z\" fill=\"#000000\" fill-rule=\"evenodd\" fill-opacity=\"1\" /><path clip-path=\"url(#clip990)\" d=\"M1325.54 1548.13 L1325.54 1543.87 Q1327.3 1544.7 1329.11 1545.14 Q1330.91 1545.58 1332.65 1545.58 Q1337.28 1545.58 1339.71 1542.48 Q1342.16 1539.36 1342.51 1533.01 Q1341.17 1535.01 1339.11 1536.07 Q1337.05 1537.13 1334.55 1537.13 Q1329.36 1537.13 1326.33 1534.01 Q1323.32 1530.86 1323.32 1525.42 Q1323.32 1520.1 1326.47 1516.88 Q1329.62 1513.66 1334.85 1513.66 Q1340.84 1513.66 1343.99 1518.27 Q1347.16 1522.85 1347.16 1531.6 Q1347.16 1539.77 1343.27 1544.66 Q1339.41 1549.52 1332.86 1549.52 Q1331.1 1549.52 1329.29 1549.17 Q1327.49 1548.82 1325.54 1548.13 M1334.85 1533.48 Q1338 1533.48 1339.83 1531.32 Q1341.68 1529.17 1341.68 1525.42 Q1341.68 1521.7 1339.83 1519.54 Q1338 1517.37 1334.85 1517.37 Q1331.7 1517.37 1329.85 1519.54 Q1328.02 1521.7 1328.02 1525.42 Q1328.02 1529.17 1329.85 1531.32 Q1331.7 1533.48 1334.85 1533.48 Z\" fill=\"#000000\" fill-rule=\"evenodd\" fill-opacity=\"1\" /><path clip-path=\"url(#clip990)\" d=\"M1354.39 1514.29 L1376.61 1514.29 L1376.61 1516.28 L1364.06 1548.85 L1359.18 1548.85 L1370.98 1518.22 L1354.39 1518.22 L1354.39 1514.29 Z\" fill=\"#000000\" fill-rule=\"evenodd\" fill-opacity=\"1\" /><path clip-path=\"url(#clip990)\" d=\"M1385.87 1548.13 L1385.87 1543.87 Q1387.63 1544.7 1389.43 1545.14 Q1391.24 1545.58 1392.97 1545.58 Q1397.6 1545.58 1400.03 1542.48 Q1402.49 1539.36 1402.83 1533.01 Q1401.49 1535.01 1399.43 1536.07 Q1397.37 1537.13 1394.87 1537.13 Q1389.69 1537.13 1386.65 1534.01 Q1383.64 1530.86 1383.64 1525.42 Q1383.64 1520.1 1386.79 1516.88 Q1389.94 1513.66 1395.17 1513.66 Q1401.17 1513.66 1404.32 1518.27 Q1407.49 1522.85 1407.49 1531.6 Q1407.49 1539.77 1403.6 1544.66 Q1399.73 1549.52 1393.18 1549.52 Q1391.42 1549.52 1389.62 1549.17 Q1387.81 1548.82 1385.87 1548.13 M1395.17 1533.48 Q1398.32 1533.48 1400.15 1531.32 Q1402 1529.17 1402 1525.42 Q1402 1521.7 1400.15 1519.54 Q1398.32 1517.37 1395.17 1517.37 Q1392.02 1517.37 1390.17 1519.54 Q1388.34 1521.7 1388.34 1525.42 Q1388.34 1529.17 1390.17 1531.32 Q1392.02 1533.48 1395.17 1533.48 Z\" fill=\"#000000\" fill-rule=\"evenodd\" fill-opacity=\"1\" /><path clip-path=\"url(#clip990)\" d=\"M1426.47 1529.7 Q1423.32 1529.7 1421.47 1531.86 Q1419.64 1534.01 1419.64 1537.76 Q1419.64 1541.49 1421.47 1543.66 Q1423.32 1545.82 1426.47 1545.82 Q1429.62 1545.82 1431.45 1543.66 Q1433.3 1541.49 1433.3 1537.76 Q1433.3 1534.01 1431.45 1531.86 Q1429.62 1529.7 1426.47 1529.7 M1435.75 1515.05 L1435.75 1519.31 Q1433.99 1518.48 1432.19 1518.04 Q1430.4 1517.6 1428.64 1517.6 Q1424.02 1517.6 1421.56 1520.72 Q1419.13 1523.85 1418.78 1530.17 Q1420.15 1528.15 1422.21 1527.09 Q1424.27 1526 1426.75 1526 Q1431.95 1526 1434.96 1529.17 Q1438 1532.32 1438 1537.76 Q1438 1543.08 1434.85 1546.3 Q1431.7 1549.52 1426.47 1549.52 Q1420.47 1549.52 1417.3 1544.94 Q1414.13 1540.33 1414.13 1531.6 Q1414.13 1523.41 1418.02 1518.55 Q1421.91 1513.66 1428.46 1513.66 Q1430.22 1513.66 1432 1514.01 Q1433.81 1514.36 1435.75 1515.05 Z\" fill=\"#000000\" fill-rule=\"evenodd\" fill-opacity=\"1\" /><path clip-path=\"url(#clip990)\" d=\"M1278.16 1530.21 Q1281.52 1530.93 1283.39 1533.2 Q1285.29 1535.47 1285.29 1538.8 Q1285.29 1543.92 1281.77 1546.72 Q1278.25 1549.52 1271.77 1549.52 Q1269.6 1549.52 1267.28 1549.08 Q1264.99 1548.66 1262.54 1547.81 L1262.54 1543.29 Q1264.48 1544.43 1266.8 1545.01 Q1269.11 1545.58 1271.63 1545.58 Q1276.03 1545.58 1278.32 1543.85 Q1280.64 1542.11 1280.64 1538.8 Q1280.64 1535.75 1278.48 1534.03 Q1276.36 1532.3 1272.54 1532.3 L1268.51 1532.3 L1268.51 1528.45 L1272.72 1528.45 Q1276.17 1528.45 1278 1527.09 Q1279.83 1525.7 1279.83 1523.11 Q1279.83 1520.45 1277.93 1519.03 Q1276.05 1517.6 1272.54 1517.6 Q1270.61 1517.6 1268.42 1518.01 Q1266.22 1518.43 1263.58 1519.31 L1263.58 1515.14 Q1266.24 1514.4 1268.55 1514.03 Q1270.89 1513.66 1272.95 1513.66 Q1278.28 1513.66 1281.38 1516.09 Q1284.48 1518.5 1284.48 1522.62 Q1284.48 1525.49 1282.84 1527.48 Q1281.19 1529.45 1278.16 1530.21 Z\" fill=\"#000000\" fill-rule=\"evenodd\" fill-opacity=\"1\" /><path clip-path=\"url(#clip990)\" d=\"M1294.97 1544.91 L1302.61 1544.91 L1302.61 1518.55 L1294.3 1520.21 L1294.3 1515.95 L1302.56 1514.29 L1307.23 1514.29 L1307.23 1544.91 L1314.87 1544.91 L1314.87 1548.85 L1294.97 1548.85 L1294.97 1544.91 Z\" fill=\"#000000\" fill-rule=\"evenodd\" fill-opacity=\"1\" /><path clip-path=\"url(#clip990)\" d=\"M1337.17 1518.36 L1325.36 1536.81 L1337.17 1536.81 L1337.17 1518.36 M1335.94 1514.29 L1341.82 1514.29 L1341.82 1536.81 L1346.75 1536.81 L1346.75 1540.7 L1341.82 1540.7 L1341.82 1548.85 L1337.17 1548.85 L1337.17 1540.7 L1321.56 1540.7 L1321.56 1536.19 L1335.94 1514.29 Z\" fill=\"#000000\" fill-rule=\"evenodd\" fill-opacity=\"1\" /><path clip-path=\"url(#clip990)\" d=\"M1355.29 1544.91 L1362.93 1544.91 L1362.93 1518.55 L1354.62 1520.21 L1354.62 1515.95 L1362.88 1514.29 L1367.56 1514.29 L1367.56 1544.91 L1375.2 1544.91 L1375.2 1548.85 L1355.29 1548.85 L1355.29 1544.91 Z\" fill=\"#000000\" fill-rule=\"evenodd\" fill-opacity=\"1\" /><path clip-path=\"url(#clip990)\" d=\"M1384.69 1514.29 L1403.04 1514.29 L1403.04 1518.22 L1388.97 1518.22 L1388.97 1526.7 Q1389.99 1526.35 1391.01 1526.19 Q1392.03 1526 1393.04 1526 Q1398.83 1526 1402.21 1529.17 Q1405.59 1532.34 1405.59 1537.76 Q1405.59 1543.34 1402.12 1546.44 Q1398.65 1549.52 1392.33 1549.52 Q1390.15 1549.52 1387.88 1549.15 Q1385.64 1548.78 1383.23 1548.04 L1383.23 1543.34 Q1385.31 1544.47 1387.54 1545.03 Q1389.76 1545.58 1392.23 1545.58 Q1396.24 1545.58 1398.58 1543.48 Q1400.91 1541.37 1400.91 1537.76 Q1400.91 1534.15 1398.58 1532.04 Q1396.24 1529.94 1392.23 1529.94 Q1390.36 1529.94 1388.48 1530.35 Q1386.63 1530.77 1384.69 1531.65 L1384.69 1514.29 Z\" fill=\"#000000\" fill-rule=\"evenodd\" fill-opacity=\"1\" /><path clip-path=\"url(#clip990)\" d=\"M1414.94 1548.13 L1414.94 1543.87 Q1416.7 1544.7 1418.51 1545.14 Q1420.31 1545.58 1422.05 1545.58 Q1426.68 1545.58 1429.11 1542.48 Q1431.56 1539.36 1431.91 1533.01 Q1430.57 1535.01 1428.51 1536.07 Q1426.45 1537.13 1423.95 1537.13 Q1418.76 1537.13 1415.73 1534.01 Q1412.72 1530.86 1412.72 1525.42 Q1412.72 1520.1 1415.87 1516.88 Q1419.02 1513.66 1424.25 1513.66 Q1430.24 1513.66 1433.39 1518.27 Q1436.56 1522.85 1436.56 1531.6 Q1436.56 1539.77 1432.67 1544.66 Q1428.81 1549.52 1422.26 1549.52 Q1420.5 1549.52 1418.69 1549.17 Q1416.89 1548.82 1414.94 1548.13 M1424.25 1533.48 Q1427.4 1533.48 1429.22 1531.32 Q1431.08 1529.17 1431.08 1525.42 Q1431.08 1521.7 1429.22 1519.54 Q1427.4 1517.37 1424.25 1517.37 Q1421.1 1517.37 1419.25 1519.54 Q1417.42 1521.7 1417.42 1525.42 Q1417.42 1529.17 1419.25 1531.32 Q1421.1 1533.48 1424.25 1533.48 Z\" fill=\"#000000\" fill-rule=\"evenodd\" fill-opacity=\"1\" /><path clip-path=\"url(#clip990)\" d=\"M1448.99 1544.91 L1465.31 1544.91 L1465.31 1548.85 L1443.37 1548.85 L1443.37 1544.91 Q1446.03 1542.16 1450.61 1537.53 Q1455.22 1532.88 1456.4 1531.53 Q1458.65 1529.01 1459.53 1527.27 Q1460.43 1525.51 1460.43 1523.82 Q1460.43 1521.07 1458.48 1519.33 Q1456.56 1517.6 1453.46 1517.6 Q1451.26 1517.6 1448.81 1518.36 Q1446.38 1519.13 1443.6 1520.68 L1443.6 1515.95 Q1446.42 1514.82 1448.88 1514.24 Q1451.33 1513.66 1453.37 1513.66 Q1458.74 1513.66 1461.93 1516.35 Q1465.13 1519.03 1465.13 1523.52 Q1465.13 1525.65 1464.32 1527.57 Q1463.53 1529.47 1461.42 1532.07 Q1460.85 1532.74 1457.74 1535.95 Q1454.64 1539.15 1448.99 1544.91 Z\" fill=\"#000000\" fill-rule=\"evenodd\" fill-opacity=\"1\" /><path clip-path=\"url(#clip990)\" d=\"M1485.71 1529.7 Q1482.56 1529.7 1480.71 1531.86 Q1478.88 1534.01 1478.88 1537.76 Q1478.88 1541.49 1480.71 1543.66 Q1482.56 1545.82 1485.71 1545.82 Q1488.85 1545.82 1490.68 1543.66 Q1492.53 1541.49 1492.53 1537.76 Q1492.53 1534.01 1490.68 1531.86 Q1488.85 1529.7 1485.71 1529.7 M1494.99 1515.05 L1494.99 1519.31 Q1493.23 1518.48 1491.42 1518.04 Q1489.64 1517.6 1487.88 1517.6 Q1483.25 1517.6 1480.8 1520.72 Q1478.37 1523.85 1478.02 1530.17 Q1479.39 1528.15 1481.45 1527.09 Q1483.51 1526 1485.98 1526 Q1491.19 1526 1494.2 1529.17 Q1497.23 1532.32 1497.23 1537.76 Q1497.23 1543.08 1494.09 1546.3 Q1490.94 1549.52 1485.71 1549.52 Q1479.71 1549.52 1476.54 1544.94 Q1473.37 1540.33 1473.37 1531.6 Q1473.37 1523.41 1477.26 1518.55 Q1481.15 1513.66 1487.7 1513.66 Q1489.46 1513.66 1491.24 1514.01 Q1493.04 1514.36 1494.99 1515.05 Z\" fill=\"#000000\" fill-rule=\"evenodd\" fill-opacity=\"1\" /><path clip-path=\"url(#clip990)\" d=\"M1505.34 1514.29 L1523.69 1514.29 L1523.69 1518.22 L1509.62 1518.22 L1509.62 1526.7 Q1510.64 1526.35 1511.66 1526.19 Q1512.67 1526 1513.69 1526 Q1519.48 1526 1522.86 1529.17 Q1526.24 1532.34 1526.24 1537.76 Q1526.24 1543.34 1522.77 1546.44 Q1519.29 1549.52 1512.97 1549.52 Q1510.8 1549.52 1508.53 1549.15 Q1506.28 1548.78 1503.88 1548.04 L1503.88 1543.34 Q1505.96 1544.47 1508.18 1545.03 Q1510.41 1545.58 1512.88 1545.58 Q1516.89 1545.58 1519.22 1543.48 Q1521.56 1541.37 1521.56 1537.76 Q1521.56 1534.15 1519.22 1532.04 Q1516.89 1529.94 1512.88 1529.94 Q1511.01 1529.94 1509.13 1530.35 Q1507.28 1530.77 1505.34 1531.65 L1505.34 1514.29 Z\" fill=\"#000000\" fill-rule=\"evenodd\" fill-opacity=\"1\" /><path clip-path=\"url(#clip990)\" d=\"M1549.62 1530.21 Q1552.97 1530.93 1554.85 1533.2 Q1556.75 1535.47 1556.75 1538.8 Q1556.75 1543.92 1553.23 1546.72 Q1549.71 1549.52 1543.23 1549.52 Q1541.05 1549.52 1538.74 1549.08 Q1536.45 1548.66 1533.99 1547.81 L1533.99 1543.29 Q1535.94 1544.43 1538.25 1545.01 Q1540.57 1545.58 1543.09 1545.58 Q1547.49 1545.58 1549.78 1543.85 Q1552.09 1542.11 1552.09 1538.8 Q1552.09 1535.75 1549.94 1534.03 Q1547.81 1532.3 1543.99 1532.3 L1539.97 1532.3 L1539.97 1528.45 L1544.18 1528.45 Q1547.63 1528.45 1549.46 1527.09 Q1551.28 1525.7 1551.28 1523.11 Q1551.28 1520.45 1549.39 1519.03 Q1547.51 1517.6 1543.99 1517.6 Q1542.07 1517.6 1539.87 1518.01 Q1537.67 1518.43 1535.03 1519.31 L1535.03 1515.14 Q1537.7 1514.4 1540.01 1514.03 Q1542.35 1513.66 1544.41 1513.66 Q1549.73 1513.66 1552.84 1516.09 Q1555.94 1518.5 1555.94 1522.62 Q1555.94 1525.49 1554.29 1527.48 Q1552.65 1529.45 1549.62 1530.21 Z\" fill=\"#000000\" fill-rule=\"evenodd\" fill-opacity=\"1\" /><path clip-path=\"url(#clip990)\" d=\"M1565.66 1514.29 L1584.02 1514.29 L1584.02 1518.22 L1569.94 1518.22 L1569.94 1526.7 Q1570.96 1526.35 1571.98 1526.19 Q1573 1526 1574.02 1526 Q1579.8 1526 1583.18 1529.17 Q1586.56 1532.34 1586.56 1537.76 Q1586.56 1543.34 1583.09 1546.44 Q1579.62 1549.52 1573.3 1549.52 Q1571.12 1549.52 1568.85 1549.15 Q1566.61 1548.78 1564.2 1548.04 L1564.2 1543.34 Q1566.28 1544.47 1568.51 1545.03 Q1570.73 1545.58 1573.21 1545.58 Q1577.21 1545.58 1579.55 1543.48 Q1581.89 1541.37 1581.89 1537.76 Q1581.89 1534.15 1579.55 1532.04 Q1577.21 1529.94 1573.21 1529.94 Q1571.33 1529.94 1569.46 1530.35 Q1567.6 1530.77 1565.66 1531.65 L1565.66 1514.29 Z\" fill=\"#000000\" fill-rule=\"evenodd\" fill-opacity=\"1\" /><path clip-path=\"url(#clip990)\" d=\"M1605.77 1532.44 Q1602.44 1532.44 1600.52 1534.22 Q1598.62 1536 1598.62 1539.13 Q1598.62 1542.25 1600.52 1544.03 Q1602.44 1545.82 1605.77 1545.82 Q1609.11 1545.82 1611.03 1544.03 Q1612.95 1542.23 1612.95 1539.13 Q1612.95 1536 1611.03 1534.22 Q1609.13 1532.44 1605.77 1532.44 M1601.1 1530.45 Q1598.09 1529.7 1596.4 1527.64 Q1594.73 1525.58 1594.73 1522.62 Q1594.73 1518.48 1597.67 1516.07 Q1600.64 1513.66 1605.77 1513.66 Q1610.94 1513.66 1613.88 1516.07 Q1616.82 1518.48 1616.82 1522.62 Q1616.82 1525.58 1615.13 1527.64 Q1613.46 1529.7 1610.47 1530.45 Q1613.85 1531.23 1615.73 1533.52 Q1617.63 1535.82 1617.63 1539.13 Q1617.63 1544.15 1614.55 1546.83 Q1611.49 1549.52 1605.77 1549.52 Q1600.06 1549.52 1596.98 1546.83 Q1593.92 1544.15 1593.92 1539.13 Q1593.92 1535.82 1595.82 1533.52 Q1597.72 1531.23 1601.1 1530.45 M1599.39 1523.06 Q1599.39 1525.75 1601.05 1527.25 Q1602.74 1528.76 1605.77 1528.76 Q1608.78 1528.76 1610.47 1527.25 Q1612.19 1525.75 1612.19 1523.06 Q1612.19 1520.38 1610.47 1518.87 Q1608.78 1517.37 1605.77 1517.37 Q1602.74 1517.37 1601.05 1518.87 Q1599.39 1520.38 1599.39 1523.06 Z\" fill=\"#000000\" fill-rule=\"evenodd\" fill-opacity=\"1\" /><path clip-path=\"url(#clip990)\" d=\"M1626.08 1548.13 L1626.08 1543.87 Q1627.83 1544.7 1629.64 1545.14 Q1631.45 1545.58 1633.18 1545.58 Q1637.81 1545.58 1640.24 1542.48 Q1642.7 1539.36 1643.04 1533.01 Q1641.7 1535.01 1639.64 1536.07 Q1637.58 1537.13 1635.08 1537.13 Q1629.9 1537.13 1626.86 1534.01 Q1623.85 1530.86 1623.85 1525.42 Q1623.85 1520.1 1627 1516.88 Q1630.15 1513.66 1635.38 1513.66 Q1641.38 1513.66 1644.52 1518.27 Q1647.7 1522.85 1647.7 1531.6 Q1647.7 1539.77 1643.81 1544.66 Q1639.94 1549.52 1633.39 1549.52 Q1631.63 1549.52 1629.83 1549.17 Q1628.02 1548.82 1626.08 1548.13 M1635.38 1533.48 Q1638.53 1533.48 1640.36 1531.32 Q1642.21 1529.17 1642.21 1525.42 Q1642.21 1521.7 1640.36 1519.54 Q1638.53 1517.37 1635.38 1517.37 Q1632.23 1517.37 1630.38 1519.54 Q1628.55 1521.7 1628.55 1525.42 Q1628.55 1529.17 1630.38 1531.32 Q1632.23 1533.48 1635.38 1533.48 Z\" fill=\"#000000\" fill-rule=\"evenodd\" fill-opacity=\"1\" /><path clip-path=\"url(#clip990)\" d=\"M1654.92 1514.29 L1677.14 1514.29 L1677.14 1516.28 L1664.59 1548.85 L1659.71 1548.85 L1671.52 1518.22 L1654.92 1518.22 L1654.92 1514.29 Z\" fill=\"#000000\" fill-rule=\"evenodd\" fill-opacity=\"1\" /><path clip-path=\"url(#clip990)\" d=\"M1686.4 1548.13 L1686.4 1543.87 Q1688.16 1544.7 1689.96 1545.14 Q1691.77 1545.58 1693.51 1545.58 Q1698.14 1545.58 1700.57 1542.48 Q1703.02 1539.36 1703.37 1533.01 Q1702.02 1535.01 1699.96 1536.07 Q1697.9 1537.13 1695.4 1537.13 Q1690.22 1537.13 1687.19 1534.01 Q1684.18 1530.86 1684.18 1525.42 Q1684.18 1520.1 1687.33 1516.88 Q1690.47 1513.66 1695.7 1513.66 Q1701.7 1513.66 1704.85 1518.27 Q1708.02 1522.85 1708.02 1531.6 Q1708.02 1539.77 1704.13 1544.66 Q1700.27 1549.52 1693.71 1549.52 Q1691.95 1549.52 1690.15 1549.17 Q1688.34 1548.82 1686.4 1548.13 M1695.7 1533.48 Q1698.85 1533.48 1700.68 1531.32 Q1702.53 1529.17 1702.53 1525.42 Q1702.53 1521.7 1700.68 1519.54 Q1698.85 1517.37 1695.7 1517.37 Q1692.56 1517.37 1690.7 1519.54 Q1688.88 1521.7 1688.88 1525.42 Q1688.88 1529.17 1690.7 1531.32 Q1692.56 1533.48 1695.7 1533.48 Z\" fill=\"#000000\" fill-rule=\"evenodd\" fill-opacity=\"1\" /><path clip-path=\"url(#clip990)\" d=\"M1715.24 1514.29 L1737.46 1514.29 L1737.46 1516.28 L1724.92 1548.85 L1720.03 1548.85 L1731.84 1518.22 L1715.24 1518.22 L1715.24 1514.29 Z\" fill=\"#000000\" fill-rule=\"evenodd\" fill-opacity=\"1\" /><path clip-path=\"url(#clip990)\" d=\"M1577.76 1530.21 Q1581.11 1530.93 1582.99 1533.2 Q1584.89 1535.47 1584.89 1538.8 Q1584.89 1543.92 1581.37 1546.72 Q1577.85 1549.52 1571.37 1549.52 Q1569.19 1549.52 1566.88 1549.08 Q1564.58 1548.66 1562.13 1547.81 L1562.13 1543.29 Q1564.08 1544.43 1566.39 1545.01 Q1568.7 1545.58 1571.23 1545.58 Q1575.63 1545.58 1577.92 1543.85 Q1580.23 1542.11 1580.23 1538.8 Q1580.23 1535.75 1578.08 1534.03 Q1575.95 1532.3 1572.13 1532.3 L1568.1 1532.3 L1568.1 1528.45 L1572.32 1528.45 Q1575.77 1528.45 1577.59 1527.09 Q1579.42 1525.7 1579.42 1523.11 Q1579.42 1520.45 1577.52 1519.03 Q1575.65 1517.6 1572.13 1517.6 Q1570.21 1517.6 1568.01 1518.01 Q1565.81 1518.43 1563.17 1519.31 L1563.17 1515.14 Q1565.83 1514.4 1568.15 1514.03 Q1570.49 1513.66 1572.55 1513.66 Q1577.87 1513.66 1580.97 1516.09 Q1584.08 1518.5 1584.08 1522.62 Q1584.08 1525.49 1582.43 1527.48 Q1580.79 1529.45 1577.76 1530.21 Z\" fill=\"#000000\" fill-rule=\"evenodd\" fill-opacity=\"1\" /><path clip-path=\"url(#clip990)\" d=\"M1594.56 1544.91 L1602.2 1544.91 L1602.2 1518.55 L1593.89 1520.21 L1593.89 1515.95 L1602.15 1514.29 L1606.83 1514.29 L1606.83 1544.91 L1614.47 1544.91 L1614.47 1548.85 L1594.56 1548.85 L1594.56 1544.91 Z\" fill=\"#000000\" fill-rule=\"evenodd\" fill-opacity=\"1\" /><path clip-path=\"url(#clip990)\" d=\"M1636.76 1518.36 L1624.95 1536.81 L1636.76 1536.81 L1636.76 1518.36 M1635.53 1514.29 L1641.41 1514.29 L1641.41 1536.81 L1646.34 1536.81 L1646.34 1540.7 L1641.41 1540.7 L1641.41 1548.85 L1636.76 1548.85 L1636.76 1540.7 L1621.16 1540.7 L1621.16 1536.19 L1635.53 1514.29 Z\" fill=\"#000000\" fill-rule=\"evenodd\" fill-opacity=\"1\" /><path clip-path=\"url(#clip990)\" d=\"M1654.89 1544.91 L1662.52 1544.91 L1662.52 1518.55 L1654.21 1520.21 L1654.21 1515.95 L1662.48 1514.29 L1667.15 1514.29 L1667.15 1544.91 L1674.79 1544.91 L1674.79 1548.85 L1654.89 1548.85 L1654.89 1544.91 Z\" fill=\"#000000\" fill-rule=\"evenodd\" fill-opacity=\"1\" /><path clip-path=\"url(#clip990)\" d=\"M1684.28 1514.29 L1702.64 1514.29 L1702.64 1518.22 L1688.57 1518.22 L1688.57 1526.7 Q1689.58 1526.35 1690.6 1526.19 Q1691.62 1526 1692.64 1526 Q1698.43 1526 1701.81 1529.17 Q1705.19 1532.34 1705.19 1537.76 Q1705.19 1543.34 1701.71 1546.44 Q1698.24 1549.52 1691.92 1549.52 Q1689.75 1549.52 1687.48 1549.15 Q1685.23 1548.78 1682.82 1548.04 L1682.82 1543.34 Q1684.91 1544.47 1687.13 1545.03 Q1689.35 1545.58 1691.83 1545.58 Q1695.83 1545.58 1698.17 1543.48 Q1700.51 1541.37 1700.51 1537.76 Q1700.51 1534.15 1698.17 1532.04 Q1695.83 1529.94 1691.83 1529.94 Q1689.95 1529.94 1688.08 1530.35 Q1686.23 1530.77 1684.28 1531.65 L1684.28 1514.29 Z\" fill=\"#000000\" fill-rule=\"evenodd\" fill-opacity=\"1\" /><path clip-path=\"url(#clip990)\" d=\"M1714.54 1548.13 L1714.54 1543.87 Q1716.3 1544.7 1718.1 1545.14 Q1719.91 1545.58 1721.64 1545.58 Q1726.27 1545.58 1728.7 1542.48 Q1731.16 1539.36 1731.5 1533.01 Q1730.16 1535.01 1728.1 1536.07 Q1726.04 1537.13 1723.54 1537.13 Q1718.36 1537.13 1715.32 1534.01 Q1712.32 1530.86 1712.32 1525.42 Q1712.32 1520.1 1715.46 1516.88 Q1718.61 1513.66 1723.84 1513.66 Q1729.84 1513.66 1732.99 1518.27 Q1736.16 1522.85 1736.16 1531.6 Q1736.16 1539.77 1732.27 1544.66 Q1728.4 1549.52 1721.85 1549.52 Q1720.09 1549.52 1718.29 1549.17 Q1716.48 1548.82 1714.54 1548.13 M1723.84 1533.48 Q1726.99 1533.48 1728.82 1531.32 Q1730.67 1529.17 1730.67 1525.42 Q1730.67 1521.7 1728.82 1519.54 Q1726.99 1517.37 1723.84 1517.37 Q1720.69 1517.37 1718.84 1519.54 Q1717.01 1521.7 1717.01 1525.42 Q1717.01 1529.17 1718.84 1531.32 Q1720.69 1533.48 1723.84 1533.48 Z\" fill=\"#000000\" fill-rule=\"evenodd\" fill-opacity=\"1\" /><path clip-path=\"url(#clip990)\" d=\"M1748.59 1544.91 L1764.91 1544.91 L1764.91 1548.85 L1742.96 1548.85 L1742.96 1544.91 Q1745.63 1542.16 1750.21 1537.53 Q1754.82 1532.88 1756 1531.53 Q1758.24 1529.01 1759.12 1527.27 Q1760.02 1525.51 1760.02 1523.82 Q1760.02 1521.07 1758.08 1519.33 Q1756.16 1517.6 1753.06 1517.6 Q1750.86 1517.6 1748.4 1518.36 Q1745.97 1519.13 1743.19 1520.68 L1743.19 1515.95 Q1746.02 1514.82 1748.47 1514.24 Q1750.93 1513.66 1752.96 1513.66 Q1758.33 1513.66 1761.53 1516.35 Q1764.72 1519.03 1764.72 1523.52 Q1764.72 1525.65 1763.91 1527.57 Q1763.13 1529.47 1761.02 1532.07 Q1760.44 1532.74 1757.34 1535.95 Q1754.24 1539.15 1748.59 1544.91 Z\" fill=\"#000000\" fill-rule=\"evenodd\" fill-opacity=\"1\" /><path clip-path=\"url(#clip990)\" d=\"M1785.3 1529.7 Q1782.15 1529.7 1780.3 1531.86 Q1778.47 1534.01 1778.47 1537.76 Q1778.47 1541.49 1780.3 1543.66 Q1782.15 1545.82 1785.3 1545.82 Q1788.45 1545.82 1790.28 1543.66 Q1792.13 1541.49 1792.13 1537.76 Q1792.13 1534.01 1790.28 1531.86 Q1788.45 1529.7 1785.3 1529.7 M1794.58 1515.05 L1794.58 1519.31 Q1792.82 1518.48 1791.02 1518.04 Q1789.24 1517.6 1787.48 1517.6 Q1782.85 1517.6 1780.39 1520.72 Q1777.96 1523.85 1777.62 1530.17 Q1778.98 1528.15 1781.04 1527.09 Q1783.1 1526 1785.58 1526 Q1790.79 1526 1793.8 1529.17 Q1796.83 1532.32 1796.83 1537.76 Q1796.83 1543.08 1793.68 1546.3 Q1790.53 1549.52 1785.3 1549.52 Q1779.31 1549.52 1776.13 1544.94 Q1772.96 1540.33 1772.96 1531.6 Q1772.96 1523.41 1776.85 1518.55 Q1780.74 1513.66 1787.29 1513.66 Q1789.05 1513.66 1790.83 1514.01 Q1792.64 1514.36 1794.58 1515.05 Z\" fill=\"#000000\" fill-rule=\"evenodd\" fill-opacity=\"1\" /><path clip-path=\"url(#clip990)\" d=\"M1804.93 1514.29 L1823.29 1514.29 L1823.29 1518.22 L1809.21 1518.22 L1809.21 1526.7 Q1810.23 1526.35 1811.25 1526.19 Q1812.27 1526 1813.29 1526 Q1819.07 1526 1822.45 1529.17 Q1825.83 1532.34 1825.83 1537.76 Q1825.83 1543.34 1822.36 1546.44 Q1818.89 1549.52 1812.57 1549.52 Q1810.39 1549.52 1808.12 1549.15 Q1805.88 1548.78 1803.47 1548.04 L1803.47 1543.34 Q1805.56 1544.47 1807.78 1545.03 Q1810 1545.58 1812.48 1545.58 Q1816.48 1545.58 1818.82 1543.48 Q1821.16 1541.37 1821.16 1537.76 Q1821.16 1534.15 1818.82 1532.04 Q1816.48 1529.94 1812.48 1529.94 Q1810.6 1529.94 1808.73 1530.35 Q1806.87 1530.77 1804.93 1531.65 L1804.93 1514.29 Z\" fill=\"#000000\" fill-rule=\"evenodd\" fill-opacity=\"1\" /><path clip-path=\"url(#clip990)\" d=\"M1849.21 1530.21 Q1852.57 1530.93 1854.44 1533.2 Q1856.34 1535.47 1856.34 1538.8 Q1856.34 1543.92 1852.82 1546.72 Q1849.31 1549.52 1842.82 1549.52 Q1840.65 1549.52 1838.33 1549.08 Q1836.04 1548.66 1833.59 1547.81 L1833.59 1543.29 Q1835.53 1544.43 1837.85 1545.01 Q1840.16 1545.58 1842.68 1545.58 Q1847.08 1545.58 1849.37 1543.85 Q1851.69 1542.11 1851.69 1538.8 Q1851.69 1535.75 1849.54 1534.03 Q1847.41 1532.3 1843.59 1532.3 L1839.56 1532.3 L1839.56 1528.45 L1843.77 1528.45 Q1847.22 1528.45 1849.05 1527.09 Q1850.88 1525.7 1850.88 1523.11 Q1850.88 1520.45 1848.98 1519.03 Q1847.11 1517.6 1843.59 1517.6 Q1841.67 1517.6 1839.47 1518.01 Q1837.27 1518.43 1834.63 1519.31 L1834.63 1515.14 Q1837.29 1514.4 1839.61 1514.03 Q1841.94 1513.66 1844 1513.66 Q1849.33 1513.66 1852.43 1516.09 Q1855.53 1518.5 1855.53 1522.62 Q1855.53 1525.49 1853.89 1527.48 Q1852.25 1529.45 1849.21 1530.21 Z\" fill=\"#000000\" fill-rule=\"evenodd\" fill-opacity=\"1\" /><path clip-path=\"url(#clip990)\" d=\"M1865.25 1514.29 L1883.61 1514.29 L1883.61 1518.22 L1869.54 1518.22 L1869.54 1526.7 Q1870.56 1526.35 1871.57 1526.19 Q1872.59 1526 1873.61 1526 Q1879.4 1526 1882.78 1529.17 Q1886.16 1532.34 1886.16 1537.76 Q1886.16 1543.34 1882.68 1546.44 Q1879.21 1549.52 1872.89 1549.52 Q1870.72 1549.52 1868.45 1549.15 Q1866.2 1548.78 1863.8 1548.04 L1863.8 1543.34 Q1865.88 1544.47 1868.1 1545.03 Q1870.32 1545.58 1872.8 1545.58 Q1876.81 1545.58 1879.14 1543.48 Q1881.48 1541.37 1881.48 1537.76 Q1881.48 1534.15 1879.14 1532.04 Q1876.81 1529.94 1872.8 1529.94 Q1870.93 1529.94 1869.05 1530.35 Q1867.2 1530.77 1865.25 1531.65 L1865.25 1514.29 Z\" fill=\"#000000\" fill-rule=\"evenodd\" fill-opacity=\"1\" /><path clip-path=\"url(#clip990)\" d=\"M1905.37 1532.44 Q1902.04 1532.44 1900.12 1534.22 Q1898.22 1536 1898.22 1539.13 Q1898.22 1542.25 1900.12 1544.03 Q1902.04 1545.82 1905.37 1545.82 Q1908.7 1545.82 1910.62 1544.03 Q1912.55 1542.23 1912.55 1539.13 Q1912.55 1536 1910.62 1534.22 Q1908.73 1532.44 1905.37 1532.44 M1900.69 1530.45 Q1897.68 1529.7 1895.99 1527.64 Q1894.33 1525.58 1894.33 1522.62 Q1894.33 1518.48 1897.27 1516.07 Q1900.23 1513.66 1905.37 1513.66 Q1910.53 1513.66 1913.47 1516.07 Q1916.41 1518.48 1916.41 1522.62 Q1916.41 1525.58 1914.72 1527.64 Q1913.05 1529.7 1910.07 1530.45 Q1913.45 1531.23 1915.32 1533.52 Q1917.22 1535.82 1917.22 1539.13 Q1917.22 1544.15 1914.14 1546.83 Q1911.09 1549.52 1905.37 1549.52 Q1899.65 1549.52 1896.57 1546.83 Q1893.52 1544.15 1893.52 1539.13 Q1893.52 1535.82 1895.42 1533.52 Q1897.31 1531.23 1900.69 1530.45 M1898.98 1523.06 Q1898.98 1525.75 1900.65 1527.25 Q1902.34 1528.76 1905.37 1528.76 Q1908.38 1528.76 1910.07 1527.25 Q1911.78 1525.75 1911.78 1523.06 Q1911.78 1520.38 1910.07 1518.87 Q1908.38 1517.37 1905.37 1517.37 Q1902.34 1517.37 1900.65 1518.87 Q1898.98 1520.38 1898.98 1523.06 Z\" fill=\"#000000\" fill-rule=\"evenodd\" fill-opacity=\"1\" /><path clip-path=\"url(#clip990)\" d=\"M1925.67 1548.13 L1925.67 1543.87 Q1927.43 1544.7 1929.24 1545.14 Q1931.04 1545.58 1932.78 1545.58 Q1937.41 1545.58 1939.84 1542.48 Q1942.29 1539.36 1942.64 1533.01 Q1941.3 1535.01 1939.24 1536.07 Q1937.18 1537.13 1934.68 1537.13 Q1929.49 1537.13 1926.46 1534.01 Q1923.45 1530.86 1923.45 1525.42 Q1923.45 1520.1 1926.6 1516.88 Q1929.74 1513.66 1934.98 1513.66 Q1940.97 1513.66 1944.12 1518.27 Q1947.29 1522.85 1947.29 1531.6 Q1947.29 1539.77 1943.4 1544.66 Q1939.54 1549.52 1932.99 1549.52 Q1931.23 1549.52 1929.42 1549.17 Q1927.62 1548.82 1925.67 1548.13 M1934.98 1533.48 Q1938.12 1533.48 1939.95 1531.32 Q1941.8 1529.17 1941.8 1525.42 Q1941.8 1521.7 1939.95 1519.54 Q1938.12 1517.37 1934.98 1517.37 Q1931.83 1517.37 1929.98 1519.54 Q1928.15 1521.7 1928.15 1525.42 Q1928.15 1529.17 1929.98 1531.32 Q1931.83 1533.48 1934.98 1533.48 Z\" fill=\"#000000\" fill-rule=\"evenodd\" fill-opacity=\"1\" /><path clip-path=\"url(#clip990)\" d=\"M1954.51 1514.29 L1976.74 1514.29 L1976.74 1516.28 L1964.19 1548.85 L1959.3 1548.85 L1971.11 1518.22 L1954.51 1518.22 L1954.51 1514.29 Z\" fill=\"#000000\" fill-rule=\"evenodd\" fill-opacity=\"1\" /><path clip-path=\"url(#clip990)\" d=\"M1985.99 1548.13 L1985.99 1543.87 Q1987.75 1544.7 1989.56 1545.14 Q1991.36 1545.58 1993.1 1545.58 Q1997.73 1545.58 2000.16 1542.48 Q2002.61 1539.36 2002.96 1533.01 Q2001.62 1535.01 1999.56 1536.07 Q1997.5 1537.13 1995 1537.13 Q1989.81 1537.13 1986.78 1534.01 Q1983.77 1530.86 1983.77 1525.42 Q1983.77 1520.1 1986.92 1516.88 Q1990.07 1513.66 1995.3 1513.66 Q2001.3 1513.66 2004.44 1518.27 Q2007.61 1522.85 2007.61 1531.6 Q2007.61 1539.77 2003.73 1544.66 Q1999.86 1549.52 1993.31 1549.52 Q1991.55 1549.52 1989.74 1549.17 Q1987.94 1548.82 1985.99 1548.13 M1995.3 1533.48 Q1998.45 1533.48 2000.28 1531.32 Q2002.13 1529.17 2002.13 1525.42 Q2002.13 1521.7 2000.28 1519.54 Q1998.45 1517.37 1995.3 1517.37 Q1992.15 1517.37 1990.3 1519.54 Q1988.47 1521.7 1988.47 1525.42 Q1988.47 1529.17 1990.3 1531.32 Q1992.15 1533.48 1995.3 1533.48 Z\" fill=\"#000000\" fill-rule=\"evenodd\" fill-opacity=\"1\" /><path clip-path=\"url(#clip990)\" d=\"M2026.02 1532.44 Q2022.68 1532.44 2020.76 1534.22 Q2018.86 1536 2018.86 1539.13 Q2018.86 1542.25 2020.76 1544.03 Q2022.68 1545.82 2026.02 1545.82 Q2029.35 1545.82 2031.27 1544.03 Q2033.19 1542.23 2033.19 1539.13 Q2033.19 1536 2031.27 1534.22 Q2029.37 1532.44 2026.02 1532.44 M2021.34 1530.45 Q2018.33 1529.7 2016.64 1527.64 Q2014.98 1525.58 2014.98 1522.62 Q2014.98 1518.48 2017.92 1516.07 Q2020.88 1513.66 2026.02 1513.66 Q2031.18 1513.66 2034.12 1516.07 Q2037.06 1518.48 2037.06 1522.62 Q2037.06 1525.58 2035.37 1527.64 Q2033.7 1529.7 2030.72 1530.45 Q2034.1 1531.23 2035.97 1533.52 Q2037.87 1535.82 2037.87 1539.13 Q2037.87 1544.15 2034.79 1546.83 Q2031.73 1549.52 2026.02 1549.52 Q2020.3 1549.52 2017.22 1546.83 Q2014.17 1544.15 2014.17 1539.13 Q2014.17 1535.82 2016.06 1533.52 Q2017.96 1531.23 2021.34 1530.45 M2019.63 1523.06 Q2019.63 1525.75 2021.3 1527.25 Q2022.98 1528.76 2026.02 1528.76 Q2029.03 1528.76 2030.72 1527.25 Q2032.43 1525.75 2032.43 1523.06 Q2032.43 1520.38 2030.72 1518.87 Q2029.03 1517.37 2026.02 1517.37 Q2022.98 1517.37 2021.3 1518.87 Q2019.63 1520.38 2019.63 1523.06 Z\" fill=\"#000000\" fill-rule=\"evenodd\" fill-opacity=\"1\" /><path clip-path=\"url(#clip990)\" d=\"M1877.8 1530.21 Q1881.16 1530.93 1883.03 1533.2 Q1884.93 1535.47 1884.93 1538.8 Q1884.93 1543.92 1881.41 1546.72 Q1877.89 1549.52 1871.41 1549.52 Q1869.24 1549.52 1866.92 1549.08 Q1864.63 1548.66 1862.18 1547.81 L1862.18 1543.29 Q1864.12 1544.43 1866.44 1545.01 Q1868.75 1545.58 1871.27 1545.58 Q1875.67 1545.58 1877.96 1543.85 Q1880.28 1542.11 1880.28 1538.8 Q1880.28 1535.75 1878.13 1534.03 Q1876 1532.3 1872.18 1532.3 L1868.15 1532.3 L1868.15 1528.45 L1872.36 1528.45 Q1875.81 1528.45 1877.64 1527.09 Q1879.47 1525.7 1879.47 1523.11 Q1879.47 1520.45 1877.57 1519.03 Q1875.7 1517.6 1872.18 1517.6 Q1870.26 1517.6 1868.06 1518.01 Q1865.86 1518.43 1863.22 1519.31 L1863.22 1515.14 Q1865.88 1514.4 1868.2 1514.03 Q1870.53 1513.66 1872.59 1513.66 Q1877.92 1513.66 1881.02 1516.09 Q1884.12 1518.5 1884.12 1522.62 Q1884.12 1525.49 1882.48 1527.48 Q1880.83 1529.45 1877.8 1530.21 Z\" fill=\"#000000\" fill-rule=\"evenodd\" fill-opacity=\"1\" /><path clip-path=\"url(#clip990)\" d=\"M1894.61 1544.91 L1902.25 1544.91 L1902.25 1518.55 L1893.94 1520.21 L1893.94 1515.95 L1902.2 1514.29 L1906.88 1514.29 L1906.88 1544.91 L1914.51 1544.91 L1914.51 1548.85 L1894.61 1548.85 L1894.61 1544.91 Z\" fill=\"#000000\" fill-rule=\"evenodd\" fill-opacity=\"1\" /><path clip-path=\"url(#clip990)\" d=\"M1936.81 1518.36 L1925 1536.81 L1936.81 1536.81 L1936.81 1518.36 M1935.58 1514.29 L1941.46 1514.29 L1941.46 1536.81 L1946.39 1536.81 L1946.39 1540.7 L1941.46 1540.7 L1941.46 1548.85 L1936.81 1548.85 L1936.81 1540.7 L1921.2 1540.7 L1921.2 1536.19 L1935.58 1514.29 Z\" fill=\"#000000\" fill-rule=\"evenodd\" fill-opacity=\"1\" /><path clip-path=\"url(#clip990)\" d=\"M1954.93 1544.91 L1962.57 1544.91 L1962.57 1518.55 L1954.26 1520.21 L1954.26 1515.95 L1962.52 1514.29 L1967.2 1514.29 L1967.2 1544.91 L1974.84 1544.91 L1974.84 1548.85 L1954.93 1548.85 L1954.93 1544.91 Z\" fill=\"#000000\" fill-rule=\"evenodd\" fill-opacity=\"1\" /><path clip-path=\"url(#clip990)\" d=\"M1984.33 1514.29 L2002.69 1514.29 L2002.69 1518.22 L1988.61 1518.22 L1988.61 1526.7 Q1989.63 1526.35 1990.65 1526.19 Q1991.67 1526 1992.69 1526 Q1998.47 1526 2001.85 1529.17 Q2005.23 1532.34 2005.23 1537.76 Q2005.23 1543.34 2001.76 1546.44 Q1998.29 1549.52 1991.97 1549.52 Q1989.79 1549.52 1987.52 1549.15 Q1985.28 1548.78 1982.87 1548.04 L1982.87 1543.34 Q1984.95 1544.47 1987.18 1545.03 Q1989.4 1545.58 1991.88 1545.58 Q1995.88 1545.58 1998.22 1543.48 Q2000.56 1541.37 2000.56 1537.76 Q2000.56 1534.15 1998.22 1532.04 Q1995.88 1529.94 1991.88 1529.94 Q1990 1529.94 1988.13 1530.35 Q1986.27 1530.77 1984.33 1531.65 L1984.33 1514.29 Z\" fill=\"#000000\" fill-rule=\"evenodd\" fill-opacity=\"1\" /><path clip-path=\"url(#clip990)\" d=\"M2014.58 1548.13 L2014.58 1543.87 Q2016.34 1544.7 2018.15 1545.14 Q2019.95 1545.58 2021.69 1545.58 Q2026.32 1545.58 2028.75 1542.48 Q2031.2 1539.36 2031.55 1533.01 Q2030.21 1535.01 2028.15 1536.07 Q2026.09 1537.13 2023.59 1537.13 Q2018.4 1537.13 2015.37 1534.01 Q2012.36 1530.86 2012.36 1525.42 Q2012.36 1520.1 2015.51 1516.88 Q2018.66 1513.66 2023.89 1513.66 Q2029.88 1513.66 2033.03 1518.27 Q2036.2 1522.85 2036.2 1531.6 Q2036.2 1539.77 2032.32 1544.66 Q2028.45 1549.52 2021.9 1549.52 Q2020.14 1549.52 2018.33 1549.17 Q2016.53 1548.82 2014.58 1548.13 M2023.89 1533.48 Q2027.04 1533.48 2028.87 1531.32 Q2030.72 1529.17 2030.72 1525.42 Q2030.72 1521.7 2028.87 1519.54 Q2027.04 1517.37 2023.89 1517.37 Q2020.74 1517.37 2018.89 1519.54 Q2017.06 1521.7 2017.06 1525.42 Q2017.06 1529.17 2018.89 1531.32 Q2020.74 1533.48 2023.89 1533.48 Z\" fill=\"#000000\" fill-rule=\"evenodd\" fill-opacity=\"1\" /><path clip-path=\"url(#clip990)\" d=\"M2048.63 1544.91 L2064.95 1544.91 L2064.95 1548.85 L2043.01 1548.85 L2043.01 1544.91 Q2045.67 1542.16 2050.25 1537.53 Q2054.86 1532.88 2056.04 1531.53 Q2058.29 1529.01 2059.17 1527.27 Q2060.07 1525.51 2060.07 1523.82 Q2060.07 1521.07 2058.13 1519.33 Q2056.2 1517.6 2053.1 1517.6 Q2050.9 1517.6 2048.45 1518.36 Q2046.02 1519.13 2043.24 1520.68 L2043.24 1515.95 Q2046.07 1514.82 2048.52 1514.24 Q2050.97 1513.66 2053.01 1513.66 Q2058.38 1513.66 2061.57 1516.35 Q2064.77 1519.03 2064.77 1523.52 Q2064.77 1525.65 2063.96 1527.57 Q2063.17 1529.47 2061.07 1532.07 Q2060.49 1532.74 2057.38 1535.95 Q2054.28 1539.15 2048.63 1544.91 Z\" fill=\"#000000\" fill-rule=\"evenodd\" fill-opacity=\"1\" /><path clip-path=\"url(#clip990)\" d=\"M2085.35 1529.7 Q2082.2 1529.7 2080.35 1531.86 Q2078.52 1534.01 2078.52 1537.76 Q2078.52 1541.49 2080.35 1543.66 Q2082.2 1545.82 2085.35 1545.82 Q2088.5 1545.82 2090.32 1543.66 Q2092.18 1541.49 2092.18 1537.76 Q2092.18 1534.01 2090.32 1531.86 Q2088.5 1529.7 2085.35 1529.7 M2094.63 1515.05 L2094.63 1519.31 Q2092.87 1518.48 2091.06 1518.04 Q2089.28 1517.6 2087.52 1517.6 Q2082.89 1517.6 2080.44 1520.72 Q2078.01 1523.85 2077.66 1530.17 Q2079.03 1528.15 2081.09 1527.09 Q2083.15 1526 2085.63 1526 Q2090.83 1526 2093.84 1529.17 Q2096.88 1532.32 2096.88 1537.76 Q2096.88 1543.08 2093.73 1546.3 Q2090.58 1549.52 2085.35 1549.52 Q2079.35 1549.52 2076.18 1544.94 Q2073.01 1540.33 2073.01 1531.6 Q2073.01 1523.41 2076.9 1518.55 Q2080.79 1513.66 2087.34 1513.66 Q2089.1 1513.66 2090.88 1514.01 Q2092.69 1514.36 2094.63 1515.05 Z\" fill=\"#000000\" fill-rule=\"evenodd\" fill-opacity=\"1\" /><path clip-path=\"url(#clip990)\" d=\"M2104.98 1514.29 L2123.33 1514.29 L2123.33 1518.22 L2109.26 1518.22 L2109.26 1526.7 Q2110.28 1526.35 2111.3 1526.19 Q2112.31 1526 2113.33 1526 Q2119.12 1526 2122.5 1529.17 Q2125.88 1532.34 2125.88 1537.76 Q2125.88 1543.34 2122.41 1546.44 Q2118.94 1549.52 2112.62 1549.52 Q2110.44 1549.52 2108.17 1549.15 Q2105.93 1548.78 2103.52 1548.04 L2103.52 1543.34 Q2105.6 1544.47 2107.82 1545.03 Q2110.05 1545.58 2112.52 1545.58 Q2116.53 1545.58 2118.87 1543.48 Q2121.2 1541.37 2121.2 1537.76 Q2121.2 1534.15 2118.87 1532.04 Q2116.53 1529.94 2112.52 1529.94 Q2110.65 1529.94 2108.77 1530.35 Q2106.92 1530.77 2104.98 1531.65 L2104.98 1514.29 Z\" fill=\"#000000\" fill-rule=\"evenodd\" fill-opacity=\"1\" /><path clip-path=\"url(#clip990)\" d=\"M2149.26 1530.21 Q2152.62 1530.93 2154.49 1533.2 Q2156.39 1535.47 2156.39 1538.8 Q2156.39 1543.92 2152.87 1546.72 Q2149.35 1549.52 2142.87 1549.52 Q2140.69 1549.52 2138.38 1549.08 Q2136.09 1548.66 2133.63 1547.81 L2133.63 1543.29 Q2135.58 1544.43 2137.89 1545.01 Q2140.21 1545.58 2142.73 1545.58 Q2147.13 1545.58 2149.42 1543.85 Q2151.74 1542.11 2151.74 1538.8 Q2151.74 1535.75 2149.58 1534.03 Q2147.45 1532.3 2143.63 1532.3 L2139.61 1532.3 L2139.61 1528.45 L2143.82 1528.45 Q2147.27 1528.45 2149.1 1527.09 Q2150.93 1525.7 2150.93 1523.11 Q2150.93 1520.45 2149.03 1519.03 Q2147.15 1517.6 2143.63 1517.6 Q2141.71 1517.6 2139.51 1518.01 Q2137.31 1518.43 2134.68 1519.31 L2134.68 1515.14 Q2137.34 1514.4 2139.65 1514.03 Q2141.99 1513.66 2144.05 1513.66 Q2149.37 1513.66 2152.48 1516.09 Q2155.58 1518.5 2155.58 1522.62 Q2155.58 1525.49 2153.93 1527.48 Q2152.29 1529.45 2149.26 1530.21 Z\" fill=\"#000000\" fill-rule=\"evenodd\" fill-opacity=\"1\" /><path clip-path=\"url(#clip990)\" d=\"M2165.3 1514.29 L2183.66 1514.29 L2183.66 1518.22 L2169.58 1518.22 L2169.58 1526.7 Q2170.6 1526.35 2171.62 1526.19 Q2172.64 1526 2173.66 1526 Q2179.44 1526 2182.82 1529.17 Q2186.2 1532.34 2186.2 1537.76 Q2186.2 1543.34 2182.73 1546.44 Q2179.26 1549.52 2172.94 1549.52 Q2170.76 1549.52 2168.5 1549.15 Q2166.25 1548.78 2163.84 1548.04 L2163.84 1543.34 Q2165.93 1544.47 2168.15 1545.03 Q2170.37 1545.58 2172.85 1545.58 Q2176.85 1545.58 2179.19 1543.48 Q2181.53 1541.37 2181.53 1537.76 Q2181.53 1534.15 2179.19 1532.04 Q2176.85 1529.94 2172.85 1529.94 Q2170.97 1529.94 2169.1 1530.35 Q2167.25 1530.77 2165.3 1531.65 L2165.3 1514.29 Z\" fill=\"#000000\" fill-rule=\"evenodd\" fill-opacity=\"1\" /><path clip-path=\"url(#clip990)\" d=\"M2205.42 1532.44 Q2202.08 1532.44 2200.16 1534.22 Q2198.26 1536 2198.26 1539.13 Q2198.26 1542.25 2200.16 1544.03 Q2202.08 1545.82 2205.42 1545.82 Q2208.75 1545.82 2210.67 1544.03 Q2212.59 1542.23 2212.59 1539.13 Q2212.59 1536 2210.67 1534.22 Q2208.77 1532.44 2205.42 1532.44 M2200.74 1530.45 Q2197.73 1529.7 2196.04 1527.64 Q2194.37 1525.58 2194.37 1522.62 Q2194.37 1518.48 2197.31 1516.07 Q2200.28 1513.66 2205.42 1513.66 Q2210.58 1513.66 2213.52 1516.07 Q2216.46 1518.48 2216.46 1522.62 Q2216.46 1525.58 2214.77 1527.64 Q2213.1 1529.7 2210.12 1530.45 Q2213.49 1531.23 2215.37 1533.52 Q2217.27 1535.82 2217.27 1539.13 Q2217.27 1544.15 2214.19 1546.83 Q2211.13 1549.52 2205.42 1549.52 Q2199.7 1549.52 2196.62 1546.83 Q2193.56 1544.15 2193.56 1539.13 Q2193.56 1535.82 2195.46 1533.52 Q2197.36 1531.23 2200.74 1530.45 M2199.03 1523.06 Q2199.03 1525.75 2200.69 1527.25 Q2202.38 1528.76 2205.42 1528.76 Q2208.43 1528.76 2210.12 1527.25 Q2211.83 1525.75 2211.83 1523.06 Q2211.83 1520.38 2210.12 1518.87 Q2208.43 1517.37 2205.42 1517.37 Q2202.38 1517.37 2200.69 1518.87 Q2199.03 1520.38 2199.03 1523.06 Z\" fill=\"#000000\" fill-rule=\"evenodd\" fill-opacity=\"1\" /><path clip-path=\"url(#clip990)\" d=\"M2225.72 1548.13 L2225.72 1543.87 Q2227.48 1544.7 2229.28 1545.14 Q2231.09 1545.58 2232.82 1545.58 Q2237.45 1545.58 2239.88 1542.48 Q2242.34 1539.36 2242.68 1533.01 Q2241.34 1535.01 2239.28 1536.07 Q2237.22 1537.13 2234.72 1537.13 Q2229.54 1537.13 2226.5 1534.01 Q2223.49 1530.86 2223.49 1525.42 Q2223.49 1520.1 2226.64 1516.88 Q2229.79 1513.66 2235.02 1513.66 Q2241.02 1513.66 2244.17 1518.27 Q2247.34 1522.85 2247.34 1531.6 Q2247.34 1539.77 2243.45 1544.66 Q2239.58 1549.52 2233.03 1549.52 Q2231.27 1549.52 2229.47 1549.17 Q2227.66 1548.82 2225.72 1548.13 M2235.02 1533.48 Q2238.17 1533.48 2240 1531.32 Q2241.85 1529.17 2241.85 1525.42 Q2241.85 1521.7 2240 1519.54 Q2238.17 1517.37 2235.02 1517.37 Q2231.87 1517.37 2230.02 1519.54 Q2228.19 1521.7 2228.19 1525.42 Q2228.19 1529.17 2230.02 1531.32 Q2231.87 1533.48 2235.02 1533.48 Z\" fill=\"#000000\" fill-rule=\"evenodd\" fill-opacity=\"1\" /><path clip-path=\"url(#clip990)\" d=\"M2254.56 1514.29 L2276.78 1514.29 L2276.78 1516.28 L2264.24 1548.85 L2259.35 1548.85 L2271.16 1518.22 L2254.56 1518.22 L2254.56 1514.29 Z\" fill=\"#000000\" fill-rule=\"evenodd\" fill-opacity=\"1\" /><path clip-path=\"url(#clip990)\" d=\"M2286.04 1548.13 L2286.04 1543.87 Q2287.8 1544.7 2289.61 1545.14 Q2291.41 1545.58 2293.15 1545.58 Q2297.78 1545.58 2300.21 1542.48 Q2302.66 1539.36 2303.01 1533.01 Q2301.67 1535.01 2299.61 1536.07 Q2297.55 1537.13 2295.05 1537.13 Q2289.86 1537.13 2286.83 1534.01 Q2283.82 1530.86 2283.82 1525.42 Q2283.82 1520.1 2286.97 1516.88 Q2290.11 1513.66 2295.35 1513.66 Q2301.34 1513.66 2304.49 1518.27 Q2307.66 1522.85 2307.66 1531.6 Q2307.66 1539.77 2303.77 1544.66 Q2299.91 1549.52 2293.36 1549.52 Q2291.6 1549.52 2289.79 1549.17 Q2287.99 1548.82 2286.04 1548.13 M2295.35 1533.48 Q2298.49 1533.48 2300.32 1531.32 Q2302.17 1529.17 2302.17 1525.42 Q2302.17 1521.7 2300.32 1519.54 Q2298.49 1517.37 2295.35 1517.37 Q2292.2 1517.37 2290.35 1519.54 Q2288.52 1521.7 2288.52 1525.42 Q2288.52 1529.17 2290.35 1531.32 Q2292.2 1533.48 2295.35 1533.48 Z\" fill=\"#000000\" fill-rule=\"evenodd\" fill-opacity=\"1\" /><path clip-path=\"url(#clip990)\" d=\"M2316.2 1548.13 L2316.2 1543.87 Q2317.96 1544.7 2319.77 1545.14 Q2321.57 1545.58 2323.31 1545.58 Q2327.94 1545.58 2330.37 1542.48 Q2332.82 1539.36 2333.17 1533.01 Q2331.83 1535.01 2329.77 1536.07 Q2327.71 1537.13 2325.21 1537.13 Q2320.02 1537.13 2316.99 1534.01 Q2313.98 1530.86 2313.98 1525.42 Q2313.98 1520.1 2317.13 1516.88 Q2320.28 1513.66 2325.51 1513.66 Q2331.5 1513.66 2334.65 1518.27 Q2337.82 1522.85 2337.82 1531.6 Q2337.82 1539.77 2333.93 1544.66 Q2330.07 1549.52 2323.52 1549.52 Q2321.76 1549.52 2319.95 1549.17 Q2318.15 1548.82 2316.2 1548.13 M2325.51 1533.48 Q2328.66 1533.48 2330.48 1531.32 Q2332.34 1529.17 2332.34 1525.42 Q2332.34 1521.7 2330.48 1519.54 Q2328.66 1517.37 2325.51 1517.37 Q2322.36 1517.37 2320.51 1519.54 Q2318.68 1521.7 2318.68 1525.42 Q2318.68 1529.17 2320.51 1531.32 Q2322.36 1533.48 2325.51 1533.48 Z\" fill=\"#000000\" fill-rule=\"evenodd\" fill-opacity=\"1\" /><polyline clip-path=\"url(#clip992)\" style=\"stroke:#000000; stroke-linecap:round; stroke-linejoin:round; stroke-width:2; stroke-opacity:0.1; fill:none\" points=\"\n",
       "  150,1446.54 2250,1446.54 \n",
       "  \"/>\n",
       "<polyline clip-path=\"url(#clip992)\" style=\"stroke:#000000; stroke-linecap:round; stroke-linejoin:round; stroke-width:2; stroke-opacity:0.1; fill:none\" points=\"\n",
       "  150,1103.79 2250,1103.79 \n",
       "  \"/>\n",
       "<polyline clip-path=\"url(#clip992)\" style=\"stroke:#000000; stroke-linecap:round; stroke-linejoin:round; stroke-width:2; stroke-opacity:0.1; fill:none\" points=\"\n",
       "  150,761.044 2250,761.044 \n",
       "  \"/>\n",
       "<polyline clip-path=\"url(#clip992)\" style=\"stroke:#000000; stroke-linecap:round; stroke-linejoin:round; stroke-width:2; stroke-opacity:0.1; fill:none\" points=\"\n",
       "  150,418.294 2250,418.294 \n",
       "  \"/>\n",
       "<polyline clip-path=\"url(#clip992)\" style=\"stroke:#000000; stroke-linecap:round; stroke-linejoin:round; stroke-width:2; stroke-opacity:0.1; fill:none\" points=\"\n",
       "  150,75.5441 2250,75.5441 \n",
       "  \"/>\n",
       "<polyline clip-path=\"url(#clip990)\" style=\"stroke:#000000; stroke-linecap:round; stroke-linejoin:round; stroke-width:4; stroke-opacity:1; fill:none\" points=\"\n",
       "  150,1486.45 150,47.2441 \n",
       "  \"/>\n",
       "<polyline clip-path=\"url(#clip990)\" style=\"stroke:#000000; stroke-linecap:round; stroke-linejoin:round; stroke-width:4; stroke-opacity:1; fill:none\" points=\"\n",
       "  150,1446.54 150,1446.54 \n",
       "  \"/>\n",
       "<polyline clip-path=\"url(#clip990)\" style=\"stroke:#000000; stroke-linecap:round; stroke-linejoin:round; stroke-width:4; stroke-opacity:1; fill:none\" points=\"\n",
       "  150,1103.79 150,1103.79 \n",
       "  \"/>\n",
       "<polyline clip-path=\"url(#clip990)\" style=\"stroke:#000000; stroke-linecap:round; stroke-linejoin:round; stroke-width:4; stroke-opacity:1; fill:none\" points=\"\n",
       "  150,761.044 150,761.044 \n",
       "  \"/>\n",
       "<polyline clip-path=\"url(#clip990)\" style=\"stroke:#000000; stroke-linecap:round; stroke-linejoin:round; stroke-width:4; stroke-opacity:1; fill:none\" points=\"\n",
       "  150,418.294 150,418.294 \n",
       "  \"/>\n",
       "<polyline clip-path=\"url(#clip990)\" style=\"stroke:#000000; stroke-linecap:round; stroke-linejoin:round; stroke-width:4; stroke-opacity:1; fill:none\" points=\"\n",
       "  150,75.5441 150,75.5441 \n",
       "  \"/>\n",
       "<path clip-path=\"url(#clip990)\" d=\"M7.05613 1446.99 L36.7319 1446.99 L36.7319 1450.93 L7.05613 1450.93 L7.05613 1446.99 Z\" fill=\"#000000\" fill-rule=\"evenodd\" fill-opacity=\"1\" /><path clip-path=\"url(#clip990)\" d=\"M47.6346 1459.89 L55.2735 1459.89 L55.2735 1433.52 L46.9633 1435.19 L46.9633 1430.93 L55.2272 1429.26 L59.9031 1429.26 L59.9031 1459.89 L67.5419 1459.89 L67.5419 1463.82 L47.6346 1463.82 L47.6346 1459.89 Z\" fill=\"#000000\" fill-rule=\"evenodd\" fill-opacity=\"1\" /><path clip-path=\"url(#clip990)\" d=\"M76.9863 1457.94 L81.8705 1457.94 L81.8705 1463.82 L76.9863 1463.82 L76.9863 1457.94 Z\" fill=\"#000000\" fill-rule=\"evenodd\" fill-opacity=\"1\" /><path clip-path=\"url(#clip990)\" d=\"M102.056 1432.34 Q98.4445 1432.34 96.6158 1435.91 Q94.8103 1439.45 94.8103 1446.58 Q94.8103 1453.68 96.6158 1457.25 Q98.4445 1460.79 102.056 1460.79 Q105.69 1460.79 107.495 1457.25 Q109.324 1453.68 109.324 1446.58 Q109.324 1439.45 107.495 1435.91 Q105.69 1432.34 102.056 1432.34 M102.056 1428.64 Q107.866 1428.64 110.921 1433.24 Q114 1437.83 114 1446.58 Q114 1455.3 110.921 1459.91 Q107.866 1464.49 102.056 1464.49 Q96.2455 1464.49 93.1668 1459.91 Q90.1112 1455.3 90.1112 1446.58 Q90.1112 1437.83 93.1668 1433.24 Q96.2455 1428.64 102.056 1428.64 Z\" fill=\"#000000\" fill-rule=\"evenodd\" fill-opacity=\"1\" /><path clip-path=\"url(#clip990)\" d=\"M8.05149 1104.24 L37.7273 1104.24 L37.7273 1108.18 L8.05149 1108.18 L8.05149 1104.24 Z\" fill=\"#000000\" fill-rule=\"evenodd\" fill-opacity=\"1\" /><path clip-path=\"url(#clip990)\" d=\"M57.8197 1089.59 Q54.2087 1089.59 52.38 1093.16 Q50.5744 1096.7 50.5744 1103.83 Q50.5744 1110.93 52.38 1114.5 Q54.2087 1118.04 57.8197 1118.04 Q61.454 1118.04 63.2595 1114.5 Q65.0882 1110.93 65.0882 1103.83 Q65.0882 1096.7 63.2595 1093.16 Q61.454 1089.59 57.8197 1089.59 M57.8197 1085.89 Q63.6299 1085.89 66.6854 1090.5 Q69.7641 1095.08 69.7641 1103.83 Q69.7641 1112.56 66.6854 1117.16 Q63.6299 1121.74 57.8197 1121.74 Q52.0096 1121.74 48.9309 1117.16 Q45.8754 1112.56 45.8754 1103.83 Q45.8754 1095.08 48.9309 1090.5 Q52.0096 1085.89 57.8197 1085.89 Z\" fill=\"#000000\" fill-rule=\"evenodd\" fill-opacity=\"1\" /><path clip-path=\"url(#clip990)\" d=\"M77.9817 1115.19 L82.8659 1115.19 L82.8659 1121.07 L77.9817 1121.07 L77.9817 1115.19 Z\" fill=\"#000000\" fill-rule=\"evenodd\" fill-opacity=\"1\" /><path clip-path=\"url(#clip990)\" d=\"M93.0973 1086.51 L111.454 1086.51 L111.454 1090.45 L97.3797 1090.45 L97.3797 1098.92 Q98.3982 1098.57 99.4167 1098.41 Q100.435 1098.23 101.454 1098.23 Q107.241 1098.23 110.62 1101.4 Q114 1104.57 114 1109.99 Q114 1115.56 110.528 1118.67 Q107.056 1121.74 100.736 1121.74 Q98.5603 1121.74 96.2918 1121.37 Q94.0464 1121 91.639 1120.26 L91.639 1115.56 Q93.7223 1116.7 95.9445 1117.25 Q98.1668 1117.81 100.644 1117.81 Q104.648 1117.81 106.986 1115.7 Q109.324 1113.6 109.324 1109.99 Q109.324 1106.37 106.986 1104.27 Q104.648 1102.16 100.644 1102.16 Q98.7686 1102.16 96.8936 1102.58 Q95.0418 1103 93.0973 1103.87 L93.0973 1086.51 Z\" fill=\"#000000\" fill-rule=\"evenodd\" fill-opacity=\"1\" /><path clip-path=\"url(#clip990)\" d=\"M56.8244 746.842 Q53.2133 746.842 51.3846 750.407 Q49.579 753.949 49.579 761.078 Q49.579 768.185 51.3846 771.75 Q53.2133 775.291 56.8244 775.291 Q60.4586 775.291 62.2642 771.75 Q64.0929 768.185 64.0929 761.078 Q64.0929 753.949 62.2642 750.407 Q60.4586 746.842 56.8244 746.842 M56.8244 743.139 Q62.6345 743.139 65.6901 747.745 Q68.7688 752.329 68.7688 761.078 Q68.7688 769.805 65.6901 774.412 Q62.6345 778.995 56.8244 778.995 Q51.0142 778.995 47.9355 774.412 Q44.88 769.805 44.88 761.078 Q44.88 752.329 47.9355 747.745 Q51.0142 743.139 56.8244 743.139 Z\" fill=\"#000000\" fill-rule=\"evenodd\" fill-opacity=\"1\" /><path clip-path=\"url(#clip990)\" d=\"M76.9863 772.444 L81.8705 772.444 L81.8705 778.324 L76.9863 778.324 L76.9863 772.444 Z\" fill=\"#000000\" fill-rule=\"evenodd\" fill-opacity=\"1\" /><path clip-path=\"url(#clip990)\" d=\"M102.056 746.842 Q98.4445 746.842 96.6158 750.407 Q94.8103 753.949 94.8103 761.078 Q94.8103 768.185 96.6158 771.75 Q98.4445 775.291 102.056 775.291 Q105.69 775.291 107.495 771.75 Q109.324 768.185 109.324 761.078 Q109.324 753.949 107.495 750.407 Q105.69 746.842 102.056 746.842 M102.056 743.139 Q107.866 743.139 110.921 747.745 Q114 752.329 114 761.078 Q114 769.805 110.921 774.412 Q107.866 778.995 102.056 778.995 Q96.2455 778.995 93.1668 774.412 Q90.1112 769.805 90.1112 761.078 Q90.1112 752.329 93.1668 747.745 Q96.2455 743.139 102.056 743.139 Z\" fill=\"#000000\" fill-rule=\"evenodd\" fill-opacity=\"1\" /><path clip-path=\"url(#clip990)\" d=\"M57.8197 404.093 Q54.2087 404.093 52.38 407.657 Q50.5744 411.199 50.5744 418.329 Q50.5744 425.435 52.38 429 Q54.2087 432.542 57.8197 432.542 Q61.454 432.542 63.2595 429 Q65.0882 425.435 65.0882 418.329 Q65.0882 411.199 63.2595 407.657 Q61.454 404.093 57.8197 404.093 M57.8197 400.389 Q63.6299 400.389 66.6854 404.995 Q69.7641 409.579 69.7641 418.329 Q69.7641 427.055 66.6854 431.662 Q63.6299 436.245 57.8197 436.245 Q52.0096 436.245 48.9309 431.662 Q45.8754 427.055 45.8754 418.329 Q45.8754 409.579 48.9309 404.995 Q52.0096 400.389 57.8197 400.389 Z\" fill=\"#000000\" fill-rule=\"evenodd\" fill-opacity=\"1\" /><path clip-path=\"url(#clip990)\" d=\"M77.9817 429.694 L82.8659 429.694 L82.8659 435.574 L77.9817 435.574 L77.9817 429.694 Z\" fill=\"#000000\" fill-rule=\"evenodd\" fill-opacity=\"1\" /><path clip-path=\"url(#clip990)\" d=\"M93.0973 401.014 L111.454 401.014 L111.454 404.949 L97.3797 404.949 L97.3797 413.421 Q98.3982 413.074 99.4167 412.912 Q100.435 412.727 101.454 412.727 Q107.241 412.727 110.62 415.898 Q114 419.069 114 424.486 Q114 430.065 110.528 433.167 Q107.056 436.245 100.736 436.245 Q98.5603 436.245 96.2918 435.875 Q94.0464 435.504 91.639 434.764 L91.639 430.065 Q93.7223 431.199 95.9445 431.754 Q98.1668 432.31 100.644 432.31 Q104.648 432.31 106.986 430.204 Q109.324 428.097 109.324 424.486 Q109.324 420.875 106.986 418.768 Q104.648 416.662 100.644 416.662 Q98.7686 416.662 96.8936 417.079 Q95.0418 417.495 93.0973 418.375 L93.0973 401.014 Z\" fill=\"#000000\" fill-rule=\"evenodd\" fill-opacity=\"1\" /><path clip-path=\"url(#clip990)\" d=\"M47.6346 88.8889 L55.2735 88.8889 L55.2735 62.5233 L46.9633 64.19 L46.9633 59.9307 L55.2272 58.2641 L59.9031 58.2641 L59.9031 88.8889 L67.5419 88.8889 L67.5419 92.8241 L47.6346 92.8241 L47.6346 88.8889 Z\" fill=\"#000000\" fill-rule=\"evenodd\" fill-opacity=\"1\" /><path clip-path=\"url(#clip990)\" d=\"M76.9863 86.9445 L81.8705 86.9445 L81.8705 92.8241 L76.9863 92.8241 L76.9863 86.9445 Z\" fill=\"#000000\" fill-rule=\"evenodd\" fill-opacity=\"1\" /><path clip-path=\"url(#clip990)\" d=\"M102.056 61.3428 Q98.4445 61.3428 96.6158 64.9075 Q94.8103 68.4492 94.8103 75.5788 Q94.8103 82.6852 96.6158 86.25 Q98.4445 89.7917 102.056 89.7917 Q105.69 89.7917 107.495 86.25 Q109.324 82.6852 109.324 75.5788 Q109.324 68.4492 107.495 64.9075 Q105.69 61.3428 102.056 61.3428 M102.056 57.6391 Q107.866 57.6391 110.921 62.2455 Q114 66.8288 114 75.5788 Q114 84.3056 110.921 88.912 Q107.866 93.4954 102.056 93.4954 Q96.2455 93.4954 93.1668 88.912 Q90.1112 84.3056 90.1112 75.5788 Q90.1112 66.8288 93.1668 62.2455 Q96.2455 57.6391 102.056 57.6391 Z\" fill=\"#000000\" fill-rule=\"evenodd\" fill-opacity=\"1\" /><polyline clip-path=\"url(#clip992)\" style=\"stroke:#009af9; stroke-linecap:round; stroke-linejoin:round; stroke-width:4; stroke-opacity:1; fill:none\" points=\"\n",
       "  300,922.965 300,922.965 450,583.797 600,288.025 750,108.065 900,87.9763 \n",
       "  1050,232.678 1200,506.743 1350,843.069 1500,1159.31 \n",
       "  1650,1378.05 1800,1445.72 1950,1345.75 2100,1102.63 2250,775.882 \n",
       "  \n",
       "  \"/>\n",
       "<path clip-path=\"url(#clip990)\" d=\"\n",
       "M2012.48 198.898 L2280.8 198.898 L2280.8 95.2176 L2012.48 95.2176  Z\n",
       "  \" fill=\"#ffffff\" fill-rule=\"evenodd\" fill-opacity=\"1\"/>\n",
       "<polyline clip-path=\"url(#clip990)\" style=\"stroke:#000000; stroke-linecap:round; stroke-linejoin:round; stroke-width:4; stroke-opacity:1; fill:none\" points=\"\n",
       "  2012.48,198.898 2280.8,198.898 2280.8,95.2176 2012.48,95.2176 2012.48,198.898 \n",
       "  \"/>\n",
       "<polyline clip-path=\"url(#clip990)\" style=\"stroke:#009af9; stroke-linecap:round; stroke-linejoin:round; stroke-width:4; stroke-opacity:1; fill:none\" points=\"\n",
       "  2036.47,147.058 2180.39,147.058 \n",
       "  \"/>\n",
       "<path clip-path=\"url(#clip990)\" d=\"M2218.22 166.745 Q2216.42 171.375 2214.7 172.787 Q2212.99 174.199 2210.12 174.199 L2206.72 174.199 L2206.72 170.634 L2209.22 170.634 Q2210.98 170.634 2211.95 169.8 Q2212.92 168.967 2214.1 165.865 L2214.86 163.921 L2204.38 138.412 L2208.89 138.412 L2216.99 158.689 L2225.1 138.412 L2229.61 138.412 L2218.22 166.745 Z\" fill=\"#000000\" fill-rule=\"evenodd\" fill-opacity=\"1\" /><path clip-path=\"url(#clip990)\" d=\"M2236.9 160.402 L2244.54 160.402 L2244.54 134.037 L2236.23 135.703 L2236.23 131.444 L2244.49 129.778 L2249.17 129.778 L2249.17 160.402 L2256.81 160.402 L2256.81 164.338 L2236.9 164.338 L2236.9 160.402 Z\" fill=\"#000000\" fill-rule=\"evenodd\" fill-opacity=\"1\" /></svg>\n"
      ]
     },
     "execution_count": 61,
     "metadata": {},
     "output_type": "execute_result"
    },
    {
     "name": "stderr",
     "output_type": "stream",
     "text": [
      "GKS: Possible loss of precision in routine SET_WINDOW\n"
     ]
    }
   ],
   "source": [
    "plot(sin, 1e15 * pi, (1e15+2)*pi)"
   ]
  },
  {
   "cell_type": "markdown",
   "id": "74db331c-968c-42b0-aaed-5630bf24177e",
   "metadata": {},
   "source": [
    "## Polynomial roots demonstration"
   ]
  },
  {
   "cell_type": "code",
   "execution_count": 62,
   "id": "3c069dc5-af38-4b07-8a14-ae1033b609db",
   "metadata": {},
   "outputs": [
    {
     "data": {
      "text/plain": [
       "(0.9999999998251499, 1.0000010001748503)"
      ]
     },
     "execution_count": 62,
     "metadata": {},
     "output_type": "execute_result"
    }
   ],
   "source": [
    "e = 1e-6\n",
    "a,b,c = 1/3, (-2-e)/3, (1+e)/3 # coefficients, roots are 1, 1+e\n",
    "d = sqrt(b^2-4*a*c)\n",
    "r1, r2 = (-b - d)/(2*a), (-b + d)/(2*a)\n",
    "(r1, r2)"
   ]
  },
  {
   "cell_type": "code",
   "execution_count": 63,
   "id": "bcde82ee-2dd7-425a-adb4-2a241e4f417b",
   "metadata": {},
   "outputs": [
    {
     "data": {
      "text/plain": [
       "1.748501815656639e-10"
      ]
     },
     "execution_count": 63,
     "metadata": {},
     "output_type": "execute_result"
    }
   ],
   "source": [
    "# error in roots\n",
    "relerror(1.0+e, r2)"
   ]
  },
  {
   "cell_type": "markdown",
   "id": "afb68e74-fe00-414c-bbab-670718144c17",
   "metadata": {},
   "source": [
    "Another example: roots 1e6, 1e-6"
   ]
  },
  {
   "cell_type": "code",
   "execution_count": 64,
   "id": "9b7ee9ef-d51f-4d28-84de-3d229f880a7f",
   "metadata": {},
   "outputs": [
    {
     "name": "stdout",
     "output_type": "stream",
     "text": [
      "(r1, r2) = (1.00000761449337e-6, 1.0e6)\n",
      "r3 = c / (r2 * a) = 1.0e-6\n"
     ]
    },
    {
     "data": {
      "text/plain": [
       "1.0e-6"
      ]
     },
     "execution_count": 64,
     "metadata": {},
     "output_type": "execute_result"
    }
   ],
   "source": [
    "a, b, c = 1, -(1e6 + 1e-6), 1\n",
    "d = sqrt(b^2-4*a*c)\n",
    "r1, r2 = (-b - d)/(2*a), (-b + d)/(2*a)\n",
    "@show (r1, r2)\n",
    "# Find second root, once the good root is known\n",
    "@show r3 = c/(r2*a)"
   ]
  },
  {
   "cell_type": "code",
   "execution_count": 65,
   "id": "e424e18b-d1cd-4c71-ad25-d6e834305c0a",
   "metadata": {},
   "outputs": [
    {
     "data": {
      "text/plain": [
       "7.614493370101404e-6"
      ]
     },
     "execution_count": 65,
     "metadata": {},
     "output_type": "execute_result"
    }
   ],
   "source": [
    "relerror(1e-6, r1)"
   ]
  },
  {
   "cell_type": "code",
   "execution_count": 66,
   "id": "a7fb280e-eb68-413b-81cf-2b54602da8a4",
   "metadata": {},
   "outputs": [
    {
     "data": {
      "text/plain": [
       "0.0"
      ]
     },
     "execution_count": 66,
     "metadata": {},
     "output_type": "execute_result"
    }
   ],
   "source": [
    "relerror(1e-6, r3)"
   ]
  },
  {
   "cell_type": "markdown",
   "id": "dddbc69b-02de-4c3e-8c98-6a4e0988cb3c",
   "metadata": {},
   "source": [
    "## Polynomial evaluation\n",
    "\n",
    "There are many more functions for working with polynomials in [Polynomials.jl](https://juliamath.github.io/Polynomials.jl/stable/)"
   ]
  },
  {
   "cell_type": "code",
   "execution_count": 67,
   "id": "9d15acaf-037f-4abb-b0a6-0f0368c76284",
   "metadata": {},
   "outputs": [
    {
     "data": {
      "text/plain": [
       "horner"
      ]
     },
     "execution_count": 67,
     "metadata": {},
     "output_type": "execute_result"
    }
   ],
   "source": [
    "\"\"\"\n",
    "    horner(c,x)\n",
    "\n",
    "Evaluate a polynomial whose coefficients are given in ascending\n",
    "order in `c`, at the point `x`, using Horner's rule.\n",
    "\"\"\"\n",
    "function horner(c,x)\n",
    "    n = length(c)\n",
    "    y = c[n]\n",
    "    for k in n-1:-1:1\n",
    "        y = x*y + c[k]\n",
    "    end\n",
    "    return y\n",
    "end"
   ]
  },
  {
   "cell_type": "code",
   "execution_count": 68,
   "id": "6279d4f5-52b2-4f54-be77-109dafeaa896",
   "metadata": {},
   "outputs": [
    {
     "name": "stdout",
     "output_type": "stream",
     "text": [
      "search: \u001b[0m\u001b[1mh\u001b[22m\u001b[0m\u001b[1mo\u001b[22m\u001b[0m\u001b[1mr\u001b[22m\u001b[0m\u001b[1mn\u001b[22m\u001b[0m\u001b[1me\u001b[22m\u001b[0m\u001b[1mr\u001b[22m\n",
      "\n"
     ]
    },
    {
     "data": {
      "text/latex": [
       "\\begin{verbatim}\n",
       "horner(c,x)\n",
       "\\end{verbatim}\n",
       "Evaluate a polynomial whose coefficients are given in ascending order in \\texttt{c}, at the point \\texttt{x}, using Horner's rule.\n",
       "\n"
      ],
      "text/markdown": [
       "```\n",
       "horner(c,x)\n",
       "```\n",
       "\n",
       "Evaluate a polynomial whose coefficients are given in ascending order in `c`, at the point `x`, using Horner's rule.\n"
      ],
      "text/plain": [
       "\u001b[36m  horner(c,x)\u001b[39m\n",
       "\n",
       "  Evaluate a polynomial whose coefficients are given in ascending order in \u001b[36mc\u001b[39m,\n",
       "  at the point \u001b[36mx\u001b[39m, using Horner's rule."
      ]
     },
     "execution_count": 68,
     "metadata": {},
     "output_type": "execute_result"
    }
   ],
   "source": [
    "?horner"
   ]
  },
  {
   "cell_type": "markdown",
   "id": "5a237551-6a65-42f4-b325-8efb06e06877",
   "metadata": {},
   "source": [
    "## Backward error with polynomials, roots, coefficients"
   ]
  },
  {
   "cell_type": "code",
   "execution_count": 69,
   "id": "ffa96cf5-781e-4daf-8efd-22765e9d653e",
   "metadata": {},
   "outputs": [],
   "source": [
    "# import Pkg; Pkg.add(\"Polynomials\")\n",
    "using Polynomials"
   ]
  },
  {
   "cell_type": "code",
   "execution_count": 70,
   "id": "758f1790-cf87-4f74-be3f-d4b0174a34a1",
   "metadata": {},
   "outputs": [
    {
     "data": {
      "text/html": [
       "36.0 &#45; 36.0&#8729;x &#45; 43.0&#8729;x<sup>2</sup> &#43; 44.0&#8729;x<sup>3</sup> &#43; 6.0&#8729;x<sup>4</sup> &#45; 8.0&#8729;x<sup>5</sup> &#43; 1.0&#8729;x<sup>6</sup>"
      ],
      "text/latex": [
       "$36.0 - 36.0\\cdot x - 43.0\\cdot x^{2} + 44.0\\cdot x^{3} + 6.0\\cdot x^{4} - 8.0\\cdot x^{5} + 1.0\\cdot x^{6}$"
      ],
      "text/plain": [
       "Polynomial(36.0 - 36.0*x - 43.0*x^2 + 44.0*x^3 + 6.0*x^4 - 8.0*x^5 + 1.0*x^6)"
      ]
     },
     "execution_count": 70,
     "metadata": {},
     "output_type": "execute_result"
    }
   ],
   "source": [
    "r = [-2.0, -1, 1, 1, 3, 6]\n",
    "p = fromroots(r)"
   ]
  },
  {
   "cell_type": "code",
   "execution_count": 71,
   "id": "12718da8-a3cd-4b54-b300-686ec7bc8b82",
   "metadata": {},
   "outputs": [
    {
     "data": {
      "text/plain": [
       "6-element Vector{Float64}:\n",
       " -2.0000000000000013\n",
       " -0.999999999999999\n",
       "  0.9999999902778504\n",
       "  1.0000000097221495\n",
       "  2.9999999999999996\n",
       "  5.999999999999992"
      ]
     },
     "execution_count": 71,
     "metadata": {},
     "output_type": "execute_result"
    }
   ],
   "source": [
    "r̃ = sort(roots(p))"
   ]
  },
  {
   "cell_type": "code",
   "execution_count": 72,
   "id": "c7444809-ec20-4aa8-aefd-aca58d8064ff",
   "metadata": {},
   "outputs": [
    {
     "data": {
      "text/plain": [
       "6-element Vector{Float64}:\n",
       " 6.661338147750939e-16\n",
       " 9.992007221626409e-16\n",
       " 9.722149640900568e-9\n",
       " 9.722149529878266e-9\n",
       " 1.4802973661668753e-16\n",
       " 1.3322676295501878e-15"
      ]
     },
     "execution_count": 72,
     "metadata": {},
     "output_type": "execute_result"
    }
   ],
   "source": [
    "@. relerror(r, r̃)"
   ]
  },
  {
   "cell_type": "code",
   "execution_count": 73,
   "id": "8916b798-c13c-407e-89cc-50fa933179cc",
   "metadata": {},
   "outputs": [
    {
     "data": {
      "text/html": [
       "35.99999999999993 &#45; 35.999999999999915&#8729;x &#45; 42.99999999999997&#8729;x<sup>2</sup> &#43; 43.99999999999998&#8729;x<sup>3</sup> &#43; 5.999999999999973&#8729;x<sup>4</sup> &#45; 7.999999999999991&#8729;x<sup>5</sup> &#43; 1.0&#8729;x<sup>6</sup>"
      ],
      "text/latex": [
       "$35.99999999999993 - 35.999999999999915\\cdot x - 42.99999999999997\\cdot x^{2} + 43.99999999999998\\cdot x^{3} + 5.999999999999973\\cdot x^{4} - 7.999999999999991\\cdot x^{5} + 1.0\\cdot x^{6}$"
      ],
      "text/plain": [
       "Polynomial(35.99999999999993 - 35.999999999999915*x - 42.99999999999997*x^2 + 43.99999999999998*x^3 + 5.999999999999973*x^4 - 7.999999999999991*x^5 + 1.0*x^6)"
      ]
     },
     "execution_count": 73,
     "metadata": {},
     "output_type": "execute_result"
    }
   ],
   "source": [
    "p̃ = fromroots(r̃)"
   ]
  },
  {
   "cell_type": "code",
   "execution_count": 74,
   "id": "07a32689-7552-4ed2-8f3a-f458450f4b98",
   "metadata": {},
   "outputs": [
    {
     "data": {
      "text/plain": [
       "([36.0, -36.0, -43.0, 44.0, 6.0, -8.0, 1.0], [35.99999999999993, -35.999999999999915, -42.99999999999997, 43.99999999999998, 5.999999999999973, -7.999999999999991, 1.0])"
      ]
     },
     "execution_count": 74,
     "metadata": {},
     "output_type": "execute_result"
    }
   ],
   "source": [
    "c, c̃ = coeffs(p), coeffs(p̃)"
   ]
  },
  {
   "cell_type": "code",
   "execution_count": 75,
   "id": "027a0024-5e93-408a-b6cb-0655d4e5d281",
   "metadata": {},
   "outputs": [
    {
     "data": {
      "text/plain": [
       "7-element Vector{Float64}:\n",
       " 1.973729821555834e-15\n",
       " 2.3684757858670005e-15\n",
       " 6.609699867535816e-16\n",
       " 4.844609562000683e-16\n",
       " 4.440892098500626e-15\n",
       " 1.1102230246251565e-15\n",
       " 0.0"
      ]
     },
     "execution_count": 75,
     "metadata": {},
     "output_type": "execute_result"
    }
   ],
   "source": [
    "@. relerror(c, c̃)"
   ]
  },
  {
   "cell_type": "markdown",
   "id": "11e5faf4-cae7-4b2e-b9b2-97e0682dc8af",
   "metadata": {},
   "source": [
    "## Exercise\n",
    "\n",
    "A friend claims that the integer 42 can be written as the sum of the cubes of 12602123297335631, 80435758145817515, and -80538738812075974. What happens if we try to verify this with Julia? We will use three kinds of numbers: integers, floating point numbers, and \"big integers\". \n",
    "\n",
    "First we write the sums of the cubes:"
   ]
  },
  {
   "cell_type": "code",
   "execution_count": 76,
   "id": "52edfe2b-7ab4-46df-8a71-81c63293df83",
   "metadata": {},
   "outputs": [
    {
     "name": "stdout",
     "output_type": "stream",
     "text": [
      "12602123297335631 ^ 3 + 80435758145817515 ^ 3 + (-80538738812075974) ^ 3 = 42\n",
      "1.2602123297335632e16 ^ 3 + 8.043575814581752e16 ^ 3 + (-8.053873881207597e16) ^ 3 = 1.661534994731145e35\n",
      "BigInt(12602123297335631) ^ 3 + BigInt(80435758145817515) ^ 3 + BigInt(-80538738812075974) ^ 3 = 42\n"
     ]
    }
   ],
   "source": [
    "@show 12602123297335631^3 + 80435758145817515^3 + (-80538738812075974)^3\n",
    "@show 12602123297335631.0^3 + 80435758145817515.0^3 + (-80538738812075974.0)^3\n",
    "@show BigInt(12602123297335631)^3 + BigInt(80435758145817515)^3 + BigInt(-80538738812075974)^3;"
   ]
  },
  {
   "cell_type": "markdown",
   "id": "d7c1c496-ce10-43f9-afdf-748abe90911b",
   "metadata": {},
   "source": [
    "We get two different answers. Which is right?\n",
    "Compute each term in the sum separately:"
   ]
  },
  {
   "cell_type": "code",
   "execution_count": 77,
   "id": "1b740c44-7e56-46f0-b3f8-61eb4512b0e9",
   "metadata": {},
   "outputs": [
    {
     "name": "stdout",
     "output_type": "stream",
     "text": [
      "(12602123297335631 ^ 3, 80435758145817515 ^ 3, (-80538738812075974) ^ 3) = (-5107153814879493905, -3138121576654805741, 8245275391534299688)\n",
      "(1.2602123297335632e16 ^ 3, 8.043575814581752e16 ^ 3, (-8.053873881207597e16) ^ 3) = (2.001387454481789e48, 5.204122115824975e50, -5.2241359903697905e50)\n",
      "(BigInt(12602123297335631) ^ 3, BigInt(80435758145817515) ^ 3, BigInt(-80538738812075974) ^ 3) = (2001387454481788542313426390100466780457779044591, 520412211582497361738652718463552780369306583065875, -522413599036979150280966144853653247149764362110424)\n"
     ]
    }
   ],
   "source": [
    "@show 12602123297335631^3 , 80435758145817515^3 , (-80538738812075974)^3\n",
    "@show 12602123297335631.0^3 , 80435758145817515.0^3 , (-80538738812075974.0)^3\n",
    "@show BigInt(12602123297335631)^3 , BigInt(80435758145817515)^3 , BigInt(-80538738812075974)^3;"
   ]
  },
  {
   "cell_type": "markdown",
   "id": "03cf2c58-f51c-4d9e-821f-5493f9a8fd94",
   "metadata": {},
   "source": [
    "So integers (Int64, BigInt) get the sum right, but Float64 and BigInt get each term right (approximately). Explain what's going on in each calculation."
   ]
  },
  {
   "cell_type": "markdown",
   "id": "d1a7c2c3-0cfd-4cf5-b74e-ebead2341d97",
   "metadata": {},
   "source": [
    "## Glossary\n",
    "\n",
    "You should have a working Julia installation. Soon you should be able to use Jupyter notebooks (lab) and/or use Julia with a Visual Studio Code.\n",
    "\n",
    "You should know the following Julia concepts:\n",
    "\n",
    "* how to use the REPL (read-eval-print-loop)\n",
    "* how to install packages (Pkg managera at REPL or using Pkg in Jupyter)\n",
    "* `using` and `import` for using packages\n",
    "* number types: Int64, Float32, Float64, Rational, Complex, BigInt, BigFloat\n",
    "* arithmetic with +, -, *, /, ^, sin, cos, tan, asin, acos, atan, log, exp, sqrt, $\\pi$\n",
    "* how to type unicode symbols at the REPL and in a notebook or editor (e.g., \\pi<TAB>) \n",
    "* Inf, NaN\n",
    "* Type conversions sometimes happen automatically, but not always\n",
    "* Non-associativity of arithmetic\n",
    "* Three ways to define functions (one line, using `function`, anonymously with `->`)\n",
    "* Plotting functions\n",
    "\n",
    "Julia functions:\n",
    "\n",
    "* typeof, bitstring, sign, exponent, significand, eps, nextfloat, prevfloat, floatmin, floatmax\n",
    "* Int64, Float64 and other types as functions\n"
   ]
  },
  {
   "cell_type": "markdown",
   "id": "65d1a192-cb5c-48b5-9981-f6f0dcd216f4",
   "metadata": {},
   "source": [
    "## Bonus material: flow control\n",
    "\n",
    "Mathematical operations such as summations, products, and sequences are often most easily described in a computer algorithm using \"for loops\". Here's a quick introduction.\n",
    "\n",
    "More information about [flow control](https://docs.julialang.org/en/v1/manual/control-flow/) is in the Julia manual.\n",
    "\n",
    "A for loop needs a variable name and a range of values to start, then a sequence of statements, and finally an end statement.\n",
    "\n",
    "Loops can also be written inside square brackets to create a vector or matrix (see above).\n",
    "\n",
    "We will return to this idea frequently in the course."
   ]
  },
  {
   "cell_type": "code",
   "execution_count": 78,
   "id": "222b36e8-2a2c-41b1-821a-d91f8d927bde",
   "metadata": {},
   "outputs": [
    {
     "name": "stdout",
     "output_type": "stream",
     "text": [
      "i * 2 = 2\n",
      "i * 2 = 4\n",
      "i * 2 = 6\n"
     ]
    }
   ],
   "source": [
    "for i in [1, 2, 3]\n",
    "    @show i * 2\n",
    "end"
   ]
  },
  {
   "cell_type": "code",
   "execution_count": 79,
   "id": "c49193a0-5651-40d2-9ead-ac5fce7779ee",
   "metadata": {},
   "outputs": [
    {
     "data": {
      "text/plain": [
       "5050"
      ]
     },
     "execution_count": 79,
     "metadata": {},
     "output_type": "execute_result"
    }
   ],
   "source": [
    "s = 0\n",
    "for i=1:100\n",
    "    s = s + i\n",
    "end\n",
    "s"
   ]
  },
  {
   "cell_type": "code",
   "execution_count": 80,
   "id": "1ec027a0-a3ae-457b-9010-8d2094438e5a",
   "metadata": {},
   "outputs": [
    {
     "data": {
      "text/plain": [
       "5050"
      ]
     },
     "execution_count": 80,
     "metadata": {},
     "output_type": "execute_result"
    }
   ],
   "source": [
    "sum_n(n) = n*(n+1) ÷ 2\n",
    "sum_n(100) # don't always need loops!"
   ]
  },
  {
   "cell_type": "code",
   "execution_count": 81,
   "id": "f8250c4e-0f9f-4d63-b150-1e8b191e6c81",
   "metadata": {},
   "outputs": [
    {
     "data": {
      "text/plain": [
       "20-element Vector{Int64}:\n",
       "    1\n",
       "    1\n",
       "    2\n",
       "    3\n",
       "    5\n",
       "    8\n",
       "   13\n",
       "   21\n",
       "   34\n",
       "   55\n",
       "   89\n",
       "  144\n",
       "  233\n",
       "  377\n",
       "  610\n",
       "  987\n",
       " 1597\n",
       " 2584\n",
       " 4181\n",
       " 6765"
      ]
     },
     "execution_count": 81,
     "metadata": {},
     "output_type": "execute_result"
    }
   ],
   "source": [
    "N = 20\n",
    "v = zeros(Int64, N) # when you want to keep the values of a sequence, create the vector at the start, if possible (its faster)\n",
    "v[1] = 1\n",
    "v[2] = 1\n",
    "for i in 3:N\n",
    "    v[i] = v[i-1] + v[i-2]\n",
    "end\n",
    "v"
   ]
  },
  {
   "cell_type": "code",
   "execution_count": 82,
   "id": "f37dbd94-6d88-4031-95b9-b0364a914637",
   "metadata": {},
   "outputs": [
    {
     "data": {
      "text/plain": [
       "2.7182818011463845"
      ]
     },
     "execution_count": 82,
     "metadata": {},
     "output_type": "execute_result"
    }
   ],
   "source": [
    "e_x = 0.0\n",
    "x = 1.0\n",
    "for i in 0:10\n",
    "    e_x = e_x + x^i/factorial(i)\n",
    "end\n",
    "e_x"
   ]
  },
  {
   "cell_type": "code",
   "execution_count": 83,
   "id": "1bd8d62f-e279-4815-9559-c525ec5656e7",
   "metadata": {},
   "outputs": [
    {
     "data": {
      "text/plain": [
       "2.7182818011463845"
      ]
     },
     "execution_count": 83,
     "metadata": {},
     "output_type": "execute_result"
    }
   ],
   "source": [
    "sum([ x^i/factorial(i) for i in 0:10])"
   ]
  },
  {
   "cell_type": "code",
   "execution_count": null,
   "id": "f26c16ee-c549-4679-a445-5c2aef9489df",
   "metadata": {},
   "outputs": [],
   "source": []
  }
 ],
 "metadata": {
  "kernelspec": {
   "display_name": "Julia 1.8.4",
   "language": "julia",
   "name": "julia-1.8"
  },
  "language_info": {
   "file_extension": ".jl",
   "mimetype": "application/julia",
   "name": "julia",
   "version": "1.8.5"
  }
 },
 "nbformat": 4,
 "nbformat_minor": 5
}
