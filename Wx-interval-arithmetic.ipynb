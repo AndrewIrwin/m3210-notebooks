{
 "cells": [
  {
   "cell_type": "markdown",
   "metadata": {},
   "source": [
    "# Interval arithmetic\n",
    "\n",
    "In these examples we will learn how to do arithmetic and find roots using interval arithmetic."
   ]
  },
  {
   "cell_type": "code",
   "execution_count": 8,
   "metadata": {},
   "outputs": [],
   "source": [
    "# import Pkg; Pkg.add(\"IntervalArithmetic\")\n",
    "using IntervalArithmetic\n",
    "using Plots"
   ]
  },
  {
   "cell_type": "markdown",
   "metadata": {},
   "source": [
    "We start with a function that is designed to be particularly pathological. It is approximately a parabola with a small log function which is undefined at $x=4/3$. For $x$ very close to $4/3$ the function is negative and the function is positive at all floating point values near $4/3$. Due to limitations of floating point numbers, we can't even evaluate $f$ at exactly $4/3$."
   ]
  },
  {
   "cell_type": "code",
   "execution_count": 14,
   "metadata": {},
   "outputs": [
    {
     "data": {
      "image/svg+xml": [
       "<?xml version=\"1.0\" encoding=\"utf-8\"?>\n",
       "<svg xmlns=\"http://www.w3.org/2000/svg\" xmlns:xlink=\"http://www.w3.org/1999/xlink\" width=\"600\" height=\"400\" viewBox=\"0 0 2400 1600\">\n",
       "<defs>\n",
       "  <clipPath id=\"clip480\">\n",
       "    <rect x=\"0\" y=\"0\" width=\"2400\" height=\"1600\"/>\n",
       "  </clipPath>\n",
       "</defs>\n",
       "<path clip-path=\"url(#clip480)\" d=\"\n",
       "M0 1600 L2400 1600 L2400 0 L0 0  Z\n",
       "  \" fill=\"#ffffff\" fill-rule=\"evenodd\" fill-opacity=\"1\"/>\n",
       "<defs>\n",
       "  <clipPath id=\"clip481\">\n",
       "    <rect x=\"480\" y=\"0\" width=\"1681\" height=\"1600\"/>\n",
       "  </clipPath>\n",
       "</defs>\n",
       "<path clip-path=\"url(#clip480)\" d=\"\n",
       "M155.927 1486.45 L2352.76 1486.45 L2352.76 47.2441 L155.927 47.2441  Z\n",
       "  \" fill=\"#ffffff\" fill-rule=\"evenodd\" fill-opacity=\"1\"/>\n",
       "<defs>\n",
       "  <clipPath id=\"clip482\">\n",
       "    <rect x=\"155\" y=\"47\" width=\"2198\" height=\"1440\"/>\n",
       "  </clipPath>\n",
       "</defs>\n",
       "<polyline clip-path=\"url(#clip482)\" style=\"stroke:#000000; stroke-linecap:round; stroke-linejoin:round; stroke-width:2; stroke-opacity:0.1; fill:none\" points=\"\n",
       "  356.267,1486.45 356.267,47.2441 \n",
       "  \"/>\n",
       "<polyline clip-path=\"url(#clip482)\" style=\"stroke:#000000; stroke-linecap:round; stroke-linejoin:round; stroke-width:2; stroke-opacity:0.1; fill:none\" points=\"\n",
       "  770.763,1486.45 770.763,47.2441 \n",
       "  \"/>\n",
       "<polyline clip-path=\"url(#clip482)\" style=\"stroke:#000000; stroke-linecap:round; stroke-linejoin:round; stroke-width:2; stroke-opacity:0.1; fill:none\" points=\"\n",
       "  1185.26,1486.45 1185.26,47.2441 \n",
       "  \"/>\n",
       "<polyline clip-path=\"url(#clip482)\" style=\"stroke:#000000; stroke-linecap:round; stroke-linejoin:round; stroke-width:2; stroke-opacity:0.1; fill:none\" points=\"\n",
       "  1599.75,1486.45 1599.75,47.2441 \n",
       "  \"/>\n",
       "<polyline clip-path=\"url(#clip482)\" style=\"stroke:#000000; stroke-linecap:round; stroke-linejoin:round; stroke-width:2; stroke-opacity:0.1; fill:none\" points=\"\n",
       "  2014.25,1486.45 2014.25,47.2441 \n",
       "  \"/>\n",
       "<polyline clip-path=\"url(#clip480)\" style=\"stroke:#000000; stroke-linecap:round; stroke-linejoin:round; stroke-width:4; stroke-opacity:1; fill:none\" points=\"\n",
       "  155.927,1486.45 2352.76,1486.45 \n",
       "  \"/>\n",
       "<polyline clip-path=\"url(#clip480)\" style=\"stroke:#000000; stroke-linecap:round; stroke-linejoin:round; stroke-width:4; stroke-opacity:1; fill:none\" points=\"\n",
       "  356.267,1486.45 356.267,1467.55 \n",
       "  \"/>\n",
       "<polyline clip-path=\"url(#clip480)\" style=\"stroke:#000000; stroke-linecap:round; stroke-linejoin:round; stroke-width:4; stroke-opacity:1; fill:none\" points=\"\n",
       "  770.763,1486.45 770.763,1467.55 \n",
       "  \"/>\n",
       "<polyline clip-path=\"url(#clip480)\" style=\"stroke:#000000; stroke-linecap:round; stroke-linejoin:round; stroke-width:4; stroke-opacity:1; fill:none\" points=\"\n",
       "  1185.26,1486.45 1185.26,1467.55 \n",
       "  \"/>\n",
       "<polyline clip-path=\"url(#clip480)\" style=\"stroke:#000000; stroke-linecap:round; stroke-linejoin:round; stroke-width:4; stroke-opacity:1; fill:none\" points=\"\n",
       "  1599.75,1486.45 1599.75,1467.55 \n",
       "  \"/>\n",
       "<polyline clip-path=\"url(#clip480)\" style=\"stroke:#000000; stroke-linecap:round; stroke-linejoin:round; stroke-width:4; stroke-opacity:1; fill:none\" points=\"\n",
       "  2014.25,1486.45 2014.25,1467.55 \n",
       "  \"/>\n",
       "<path clip-path=\"url(#clip480)\" d=\"M308.258 1544.91 L315.897 1544.91 L315.897 1518.55 L307.586 1520.21 L307.586 1515.95 L315.85 1514.29 L320.526 1514.29 L320.526 1544.91 L328.165 1544.91 L328.165 1548.85 L308.258 1548.85 L308.258 1544.91 Z\" fill=\"#000000\" fill-rule=\"evenodd\" fill-opacity=\"1\" /><path clip-path=\"url(#clip480)\" d=\"M337.609 1542.97 L342.494 1542.97 L342.494 1548.85 L337.609 1548.85 L337.609 1542.97 Z\" fill=\"#000000\" fill-rule=\"evenodd\" fill-opacity=\"1\" /><path clip-path=\"url(#clip480)\" d=\"M356.707 1544.91 L373.026 1544.91 L373.026 1548.85 L351.082 1548.85 L351.082 1544.91 Q353.744 1542.16 358.327 1537.53 Q362.933 1532.88 364.114 1531.53 Q366.359 1529.01 367.239 1527.27 Q368.142 1525.51 368.142 1523.82 Q368.142 1521.07 366.197 1519.33 Q364.276 1517.6 361.174 1517.6 Q358.975 1517.6 356.521 1518.36 Q354.091 1519.13 351.313 1520.68 L351.313 1515.95 Q354.137 1514.82 356.591 1514.24 Q359.044 1513.66 361.081 1513.66 Q366.452 1513.66 369.646 1516.35 Q372.841 1519.03 372.841 1523.52 Q372.841 1525.65 372.03 1527.57 Q371.243 1529.47 369.137 1532.07 Q368.558 1532.74 365.456 1535.95 Q362.355 1539.15 356.707 1544.91 Z\" fill=\"#000000\" fill-rule=\"evenodd\" fill-opacity=\"1\" /><path clip-path=\"url(#clip480)\" d=\"M393.419 1529.7 Q390.271 1529.7 388.419 1531.86 Q386.591 1534.01 386.591 1537.76 Q386.591 1541.49 388.419 1543.66 Q390.271 1545.82 393.419 1545.82 Q396.567 1545.82 398.396 1543.66 Q400.248 1541.49 400.248 1537.76 Q400.248 1534.01 398.396 1531.86 Q396.567 1529.7 393.419 1529.7 M402.702 1515.05 L402.702 1519.31 Q400.942 1518.48 399.137 1518.04 Q397.354 1517.6 395.595 1517.6 Q390.966 1517.6 388.512 1520.72 Q386.081 1523.85 385.734 1530.17 Q387.1 1528.15 389.16 1527.09 Q391.22 1526 393.697 1526 Q398.905 1526 401.915 1529.17 Q404.947 1532.32 404.947 1537.76 Q404.947 1543.08 401.799 1546.3 Q398.651 1549.52 393.419 1549.52 Q387.424 1549.52 384.253 1544.94 Q381.081 1540.33 381.081 1531.6 Q381.081 1523.41 384.97 1518.55 Q388.859 1513.66 395.41 1513.66 Q397.169 1513.66 398.952 1514.01 Q400.757 1514.36 402.702 1515.05 Z\" fill=\"#000000\" fill-rule=\"evenodd\" fill-opacity=\"1\" /><path clip-path=\"url(#clip480)\" d=\"M722.927 1544.91 L730.566 1544.91 L730.566 1518.55 L722.256 1520.21 L722.256 1515.95 L730.52 1514.29 L735.196 1514.29 L735.196 1544.91 L742.835 1544.91 L742.835 1548.85 L722.927 1548.85 L722.927 1544.91 Z\" fill=\"#000000\" fill-rule=\"evenodd\" fill-opacity=\"1\" /><path clip-path=\"url(#clip480)\" d=\"M752.279 1542.97 L757.163 1542.97 L757.163 1548.85 L752.279 1548.85 L752.279 1542.97 Z\" fill=\"#000000\" fill-rule=\"evenodd\" fill-opacity=\"1\" /><path clip-path=\"url(#clip480)\" d=\"M771.376 1544.91 L787.696 1544.91 L787.696 1548.85 L765.751 1548.85 L765.751 1544.91 Q768.413 1542.16 772.997 1537.53 Q777.603 1532.88 778.784 1531.53 Q781.029 1529.01 781.908 1527.27 Q782.811 1525.51 782.811 1523.82 Q782.811 1521.07 780.867 1519.33 Q778.946 1517.6 775.844 1517.6 Q773.645 1517.6 771.191 1518.36 Q768.76 1519.13 765.983 1520.68 L765.983 1515.95 Q768.807 1514.82 771.26 1514.24 Q773.714 1513.66 775.751 1513.66 Q781.121 1513.66 784.316 1516.35 Q787.51 1519.03 787.51 1523.52 Q787.51 1525.65 786.7 1527.57 Q785.913 1529.47 783.807 1532.07 Q783.228 1532.74 780.126 1535.95 Q777.024 1539.15 771.376 1544.91 Z\" fill=\"#000000\" fill-rule=\"evenodd\" fill-opacity=\"1\" /><path clip-path=\"url(#clip480)\" d=\"M797.649 1548.13 L797.649 1543.87 Q799.408 1544.7 801.214 1545.14 Q803.019 1545.58 804.756 1545.58 Q809.385 1545.58 811.816 1542.48 Q814.269 1539.36 814.617 1533.01 Q813.274 1535.01 811.214 1536.07 Q809.154 1537.13 806.654 1537.13 Q801.469 1537.13 798.436 1534.01 Q795.427 1530.86 795.427 1525.42 Q795.427 1520.1 798.575 1516.88 Q801.723 1513.66 806.955 1513.66 Q812.95 1513.66 816.098 1518.27 Q819.269 1522.85 819.269 1531.6 Q819.269 1539.77 815.381 1544.66 Q811.515 1549.52 804.964 1549.52 Q803.205 1549.52 801.399 1549.17 Q799.594 1548.82 797.649 1548.13 M806.955 1533.48 Q810.103 1533.48 811.931 1531.32 Q813.783 1529.17 813.783 1525.42 Q813.783 1521.7 811.931 1519.54 Q810.103 1517.37 806.955 1517.37 Q803.807 1517.37 801.955 1519.54 Q800.126 1521.7 800.126 1525.42 Q800.126 1529.17 801.955 1531.32 Q803.807 1533.48 806.955 1533.48 Z\" fill=\"#000000\" fill-rule=\"evenodd\" fill-opacity=\"1\" /><path clip-path=\"url(#clip480)\" d=\"M1138.13 1544.91 L1145.77 1544.91 L1145.77 1518.55 L1137.46 1520.21 L1137.46 1515.95 L1145.72 1514.29 L1150.4 1514.29 L1150.4 1544.91 L1158.04 1544.91 L1158.04 1548.85 L1138.13 1548.85 L1138.13 1544.91 Z\" fill=\"#000000\" fill-rule=\"evenodd\" fill-opacity=\"1\" /><path clip-path=\"url(#clip480)\" d=\"M1167.48 1542.97 L1172.37 1542.97 L1172.37 1548.85 L1167.48 1548.85 L1167.48 1542.97 Z\" fill=\"#000000\" fill-rule=\"evenodd\" fill-opacity=\"1\" /><path clip-path=\"url(#clip480)\" d=\"M1196.72 1530.21 Q1200.07 1530.93 1201.95 1533.2 Q1203.85 1535.47 1203.85 1538.8 Q1203.85 1543.92 1200.33 1546.72 Q1196.81 1549.52 1190.33 1549.52 Q1188.15 1549.52 1185.84 1549.08 Q1183.55 1548.66 1181.09 1547.81 L1181.09 1543.29 Q1183.04 1544.43 1185.35 1545.01 Q1187.67 1545.58 1190.19 1545.58 Q1194.59 1545.58 1196.88 1543.85 Q1199.19 1542.11 1199.19 1538.8 Q1199.19 1535.75 1197.04 1534.03 Q1194.91 1532.3 1191.09 1532.3 L1187.06 1532.3 L1187.06 1528.45 L1191.28 1528.45 Q1194.73 1528.45 1196.55 1527.09 Q1198.38 1525.7 1198.38 1523.11 Q1198.38 1520.45 1196.49 1519.03 Q1194.61 1517.6 1191.09 1517.6 Q1189.17 1517.6 1186.97 1518.01 Q1184.77 1518.43 1182.13 1519.31 L1182.13 1515.14 Q1184.8 1514.4 1187.11 1514.03 Q1189.45 1513.66 1191.51 1513.66 Q1196.83 1513.66 1199.93 1516.09 Q1203.04 1518.5 1203.04 1522.62 Q1203.04 1525.49 1201.39 1527.48 Q1199.75 1529.45 1196.72 1530.21 Z\" fill=\"#000000\" fill-rule=\"evenodd\" fill-opacity=\"1\" /><path clip-path=\"url(#clip480)\" d=\"M1216.74 1544.91 L1233.06 1544.91 L1233.06 1548.85 L1211.12 1548.85 L1211.12 1544.91 Q1213.78 1542.16 1218.36 1537.53 Q1222.97 1532.88 1224.15 1531.53 Q1226.39 1529.01 1227.27 1527.27 Q1228.18 1525.51 1228.18 1523.82 Q1228.18 1521.07 1226.23 1519.33 Q1224.31 1517.6 1221.21 1517.6 Q1219.01 1517.6 1216.55 1518.36 Q1214.12 1519.13 1211.35 1520.68 L1211.35 1515.95 Q1214.17 1514.82 1216.62 1514.24 Q1219.08 1513.66 1221.12 1513.66 Q1226.49 1513.66 1229.68 1516.35 Q1232.87 1519.03 1232.87 1523.52 Q1232.87 1525.65 1232.06 1527.57 Q1231.28 1529.47 1229.17 1532.07 Q1228.59 1532.74 1225.49 1535.95 Q1222.39 1539.15 1216.74 1544.91 Z\" fill=\"#000000\" fill-rule=\"evenodd\" fill-opacity=\"1\" /><path clip-path=\"url(#clip480)\" d=\"M1552.32 1544.91 L1559.96 1544.91 L1559.96 1518.55 L1551.65 1520.21 L1551.65 1515.95 L1559.92 1514.29 L1564.59 1514.29 L1564.59 1544.91 L1572.23 1544.91 L1572.23 1548.85 L1552.32 1548.85 L1552.32 1544.91 Z\" fill=\"#000000\" fill-rule=\"evenodd\" fill-opacity=\"1\" /><path clip-path=\"url(#clip480)\" d=\"M1581.68 1542.97 L1586.56 1542.97 L1586.56 1548.85 L1581.68 1548.85 L1581.68 1542.97 Z\" fill=\"#000000\" fill-rule=\"evenodd\" fill-opacity=\"1\" /><path clip-path=\"url(#clip480)\" d=\"M1610.91 1530.21 Q1614.27 1530.93 1616.14 1533.2 Q1618.04 1535.47 1618.04 1538.8 Q1618.04 1543.92 1614.52 1546.72 Q1611 1549.52 1604.52 1549.52 Q1602.35 1549.52 1600.03 1549.08 Q1597.74 1548.66 1595.29 1547.81 L1595.29 1543.29 Q1597.23 1544.43 1599.55 1545.01 Q1601.86 1545.58 1604.38 1545.58 Q1608.78 1545.58 1611.07 1543.85 Q1613.39 1542.11 1613.39 1538.8 Q1613.39 1535.75 1611.24 1534.03 Q1609.11 1532.3 1605.29 1532.3 L1601.26 1532.3 L1601.26 1528.45 L1605.47 1528.45 Q1608.92 1528.45 1610.75 1527.09 Q1612.58 1525.7 1612.58 1523.11 Q1612.58 1520.45 1610.68 1519.03 Q1608.81 1517.6 1605.29 1517.6 Q1603.37 1517.6 1601.17 1518.01 Q1598.97 1518.43 1596.33 1519.31 L1596.33 1515.14 Q1598.99 1514.4 1601.31 1514.03 Q1603.64 1513.66 1605.7 1513.66 Q1611.03 1513.66 1614.13 1516.09 Q1617.23 1518.5 1617.23 1522.62 Q1617.23 1525.49 1615.59 1527.48 Q1613.94 1529.45 1610.91 1530.21 Z\" fill=\"#000000\" fill-rule=\"evenodd\" fill-opacity=\"1\" /><path clip-path=\"url(#clip480)\" d=\"M1626.95 1514.29 L1645.31 1514.29 L1645.31 1518.22 L1631.24 1518.22 L1631.24 1526.7 Q1632.25 1526.35 1633.27 1526.19 Q1634.29 1526 1635.31 1526 Q1641.1 1526 1644.48 1529.17 Q1647.86 1532.34 1647.86 1537.76 Q1647.86 1543.34 1644.38 1546.44 Q1640.91 1549.52 1634.59 1549.52 Q1632.42 1549.52 1630.15 1549.15 Q1627.9 1548.78 1625.5 1548.04 L1625.5 1543.34 Q1627.58 1544.47 1629.8 1545.03 Q1632.02 1545.58 1634.5 1545.58 Q1638.5 1545.58 1640.84 1543.48 Q1643.18 1541.37 1643.18 1537.76 Q1643.18 1534.15 1640.84 1532.04 Q1638.5 1529.94 1634.5 1529.94 Q1632.62 1529.94 1630.75 1530.35 Q1628.9 1530.77 1626.95 1531.65 L1626.95 1514.29 Z\" fill=\"#000000\" fill-rule=\"evenodd\" fill-opacity=\"1\" /><path clip-path=\"url(#clip480)\" d=\"M1966.37 1544.91 L1974.01 1544.91 L1974.01 1518.55 L1965.7 1520.21 L1965.7 1515.95 L1973.96 1514.29 L1978.64 1514.29 L1978.64 1544.91 L1986.28 1544.91 L1986.28 1548.85 L1966.37 1548.85 L1966.37 1544.91 Z\" fill=\"#000000\" fill-rule=\"evenodd\" fill-opacity=\"1\" /><path clip-path=\"url(#clip480)\" d=\"M1995.72 1542.97 L2000.61 1542.97 L2000.61 1548.85 L1995.72 1548.85 L1995.72 1542.97 Z\" fill=\"#000000\" fill-rule=\"evenodd\" fill-opacity=\"1\" /><path clip-path=\"url(#clip480)\" d=\"M2024.96 1530.21 Q2028.31 1530.93 2030.19 1533.2 Q2032.09 1535.47 2032.09 1538.8 Q2032.09 1543.92 2028.57 1546.72 Q2025.05 1549.52 2018.57 1549.52 Q2016.39 1549.52 2014.08 1549.08 Q2011.79 1548.66 2009.33 1547.81 L2009.33 1543.29 Q2011.28 1544.43 2013.59 1545.01 Q2015.91 1545.58 2018.43 1545.58 Q2022.83 1545.58 2025.12 1543.85 Q2027.43 1542.11 2027.43 1538.8 Q2027.43 1535.75 2025.28 1534.03 Q2023.15 1532.3 2019.33 1532.3 L2015.3 1532.3 L2015.3 1528.45 L2019.52 1528.45 Q2022.97 1528.45 2024.79 1527.09 Q2026.62 1525.7 2026.62 1523.11 Q2026.62 1520.45 2024.73 1519.03 Q2022.85 1517.6 2019.33 1517.6 Q2017.41 1517.6 2015.21 1518.01 Q2013.01 1518.43 2010.37 1519.31 L2010.37 1515.14 Q2013.04 1514.4 2015.35 1514.03 Q2017.69 1513.66 2019.75 1513.66 Q2025.07 1513.66 2028.17 1516.09 Q2031.28 1518.5 2031.28 1522.62 Q2031.28 1525.49 2029.63 1527.48 Q2027.99 1529.45 2024.96 1530.21 Z\" fill=\"#000000\" fill-rule=\"evenodd\" fill-opacity=\"1\" /><path clip-path=\"url(#clip480)\" d=\"M2050.95 1532.44 Q2047.62 1532.44 2045.7 1534.22 Q2043.8 1536 2043.8 1539.13 Q2043.8 1542.25 2045.7 1544.03 Q2047.62 1545.82 2050.95 1545.82 Q2054.29 1545.82 2056.21 1544.03 Q2058.13 1542.23 2058.13 1539.13 Q2058.13 1536 2056.21 1534.22 Q2054.31 1532.44 2050.95 1532.44 M2046.28 1530.45 Q2043.27 1529.7 2041.58 1527.64 Q2039.91 1525.58 2039.91 1522.62 Q2039.91 1518.48 2042.85 1516.07 Q2045.81 1513.66 2050.95 1513.66 Q2056.11 1513.66 2059.05 1516.07 Q2061.99 1518.48 2061.99 1522.62 Q2061.99 1525.58 2060.3 1527.64 Q2058.64 1529.7 2055.65 1530.45 Q2059.03 1531.23 2060.91 1533.52 Q2062.8 1535.82 2062.8 1539.13 Q2062.8 1544.15 2059.73 1546.83 Q2056.67 1549.52 2050.95 1549.52 Q2045.23 1549.52 2042.16 1546.83 Q2039.1 1544.15 2039.1 1539.13 Q2039.1 1535.82 2041 1533.52 Q2042.9 1531.23 2046.28 1530.45 M2044.56 1523.06 Q2044.56 1525.75 2046.23 1527.25 Q2047.92 1528.76 2050.95 1528.76 Q2053.96 1528.76 2055.65 1527.25 Q2057.36 1525.75 2057.36 1523.06 Q2057.36 1520.38 2055.65 1518.87 Q2053.96 1517.37 2050.95 1517.37 Q2047.92 1517.37 2046.23 1518.87 Q2044.56 1520.38 2044.56 1523.06 Z\" fill=\"#000000\" fill-rule=\"evenodd\" fill-opacity=\"1\" /><polyline clip-path=\"url(#clip482)\" style=\"stroke:#000000; stroke-linecap:round; stroke-linejoin:round; stroke-width:2; stroke-opacity:0.1; fill:none\" points=\"\n",
       "  155.927,1257.11 2352.76,1257.11 \n",
       "  \"/>\n",
       "<polyline clip-path=\"url(#clip482)\" style=\"stroke:#000000; stroke-linecap:round; stroke-linejoin:round; stroke-width:2; stroke-opacity:0.1; fill:none\" points=\"\n",
       "  155.927,913.131 2352.76,913.131 \n",
       "  \"/>\n",
       "<polyline clip-path=\"url(#clip482)\" style=\"stroke:#000000; stroke-linecap:round; stroke-linejoin:round; stroke-width:2; stroke-opacity:0.1; fill:none\" points=\"\n",
       "  155.927,569.147 2352.76,569.147 \n",
       "  \"/>\n",
       "<polyline clip-path=\"url(#clip482)\" style=\"stroke:#000000; stroke-linecap:round; stroke-linejoin:round; stroke-width:2; stroke-opacity:0.1; fill:none\" points=\"\n",
       "  155.927,225.164 2352.76,225.164 \n",
       "  \"/>\n",
       "<polyline clip-path=\"url(#clip480)\" style=\"stroke:#000000; stroke-linecap:round; stroke-linejoin:round; stroke-width:4; stroke-opacity:1; fill:none\" points=\"\n",
       "  155.927,1486.45 155.927,47.2441 \n",
       "  \"/>\n",
       "<polyline clip-path=\"url(#clip480)\" style=\"stroke:#000000; stroke-linecap:round; stroke-linejoin:round; stroke-width:4; stroke-opacity:1; fill:none\" points=\"\n",
       "  155.927,1257.11 174.825,1257.11 \n",
       "  \"/>\n",
       "<polyline clip-path=\"url(#clip480)\" style=\"stroke:#000000; stroke-linecap:round; stroke-linejoin:round; stroke-width:4; stroke-opacity:1; fill:none\" points=\"\n",
       "  155.927,913.131 174.825,913.131 \n",
       "  \"/>\n",
       "<polyline clip-path=\"url(#clip480)\" style=\"stroke:#000000; stroke-linecap:round; stroke-linejoin:round; stroke-width:4; stroke-opacity:1; fill:none\" points=\"\n",
       "  155.927,569.147 174.825,569.147 \n",
       "  \"/>\n",
       "<polyline clip-path=\"url(#clip480)\" style=\"stroke:#000000; stroke-linecap:round; stroke-linejoin:round; stroke-width:4; stroke-opacity:1; fill:none\" points=\"\n",
       "  155.927,225.164 174.825,225.164 \n",
       "  \"/>\n",
       "<path clip-path=\"url(#clip480)\" d=\"M56.6171 1270.46 L72.9365 1270.46 L72.9365 1274.39 L50.9921 1274.39 L50.9921 1270.46 Q53.6541 1267.7 58.2375 1263.07 Q62.8439 1258.42 64.0245 1257.08 Q66.2698 1254.56 67.1494 1252.82 Q68.0522 1251.06 68.0522 1249.37 Q68.0522 1246.62 66.1078 1244.88 Q64.1865 1243.14 61.0847 1243.14 Q58.8856 1243.14 56.4319 1243.91 Q54.0014 1244.67 51.2236 1246.22 L51.2236 1241.5 Q54.0477 1240.37 56.5014 1239.79 Q58.955 1239.21 60.9921 1239.21 Q66.3624 1239.21 69.5568 1241.89 Q72.7513 1244.58 72.7513 1249.07 Q72.7513 1251.2 71.9411 1253.12 Q71.1541 1255.02 69.0476 1257.61 Q68.4689 1258.28 65.367 1261.5 Q62.2652 1264.7 56.6171 1270.46 Z\" fill=\"#000000\" fill-rule=\"evenodd\" fill-opacity=\"1\" /><path clip-path=\"url(#clip480)\" d=\"M82.7512 1268.51 L87.6354 1268.51 L87.6354 1274.39 L82.7512 1274.39 L82.7512 1268.51 Z\" fill=\"#000000\" fill-rule=\"evenodd\" fill-opacity=\"1\" /><path clip-path=\"url(#clip480)\" d=\"M108.399 1255.25 Q105.251 1255.25 103.399 1257.4 Q101.571 1259.56 101.571 1263.31 Q101.571 1267.03 103.399 1269.21 Q105.251 1271.36 108.399 1271.36 Q111.547 1271.36 113.376 1269.21 Q115.228 1267.03 115.228 1263.31 Q115.228 1259.56 113.376 1257.4 Q111.547 1255.25 108.399 1255.25 M117.682 1240.6 L117.682 1244.86 Q115.922 1244.02 114.117 1243.58 Q112.334 1243.14 110.575 1243.14 Q105.946 1243.14 103.492 1246.27 Q101.061 1249.39 100.714 1255.71 Q102.08 1253.7 104.14 1252.63 Q106.2 1251.55 108.677 1251.55 Q113.885 1251.55 116.895 1254.72 Q119.927 1257.87 119.927 1263.31 Q119.927 1268.63 116.779 1271.85 Q113.631 1275.07 108.399 1275.07 Q102.404 1275.07 99.2326 1270.48 Q96.0613 1265.88 96.0613 1257.15 Q96.0613 1248.95 99.9502 1244.09 Q103.839 1239.21 110.39 1239.21 Q112.149 1239.21 113.932 1239.56 Q115.737 1239.9 117.682 1240.6 Z\" fill=\"#000000\" fill-rule=\"evenodd\" fill-opacity=\"1\" /><path clip-path=\"url(#clip480)\" d=\"M57.6819 926.476 L74.0013 926.476 L74.0013 930.411 L52.0569 930.411 L52.0569 926.476 Q54.719 923.721 59.3023 919.091 Q63.9087 914.439 65.0893 913.096 Q67.3346 910.573 68.2143 908.837 Q69.117 907.077 69.117 905.388 Q69.117 902.633 67.1726 900.897 Q65.2513 899.161 62.1495 899.161 Q59.9504 899.161 57.4967 899.925 Q55.0662 900.689 52.2884 902.24 L52.2884 897.517 Q55.1125 896.383 57.5662 895.804 Q60.0199 895.226 62.0569 895.226 Q67.4272 895.226 70.6217 897.911 Q73.8161 900.596 73.8161 905.087 Q73.8161 907.216 73.0059 909.138 Q72.2189 911.036 70.1124 913.628 Q69.5337 914.3 66.4319 917.517 Q63.33 920.712 57.6819 926.476 Z\" fill=\"#000000\" fill-rule=\"evenodd\" fill-opacity=\"1\" /><path clip-path=\"url(#clip480)\" d=\"M83.816 924.531 L88.7003 924.531 L88.7003 930.411 L83.816 930.411 L83.816 924.531 Z\" fill=\"#000000\" fill-rule=\"evenodd\" fill-opacity=\"1\" /><path clip-path=\"url(#clip480)\" d=\"M97.7048 895.851 L119.927 895.851 L119.927 897.841 L107.381 930.411 L102.496 930.411 L114.302 899.786 L97.7048 899.786 L97.7048 895.851 Z\" fill=\"#000000\" fill-rule=\"evenodd\" fill-opacity=\"1\" /><path clip-path=\"url(#clip480)\" d=\"M56.8717 582.492 L73.1911 582.492 L73.1911 586.427 L51.2468 586.427 L51.2468 582.492 Q53.9088 579.737 58.4921 575.108 Q63.0985 570.455 64.2791 569.113 Q66.5245 566.589 67.4041 564.853 Q68.3068 563.094 68.3068 561.404 Q68.3068 558.65 66.3624 556.914 Q64.4411 555.177 61.3393 555.177 Q59.1402 555.177 56.6865 555.941 Q54.256 556.705 51.4782 558.256 L51.4782 553.534 Q54.3023 552.4 56.756 551.821 Q59.2097 551.242 61.2467 551.242 Q66.617 551.242 69.8115 553.927 Q73.0059 556.613 73.0059 561.103 Q73.0059 563.233 72.1957 565.154 Q71.4087 567.052 69.3022 569.645 Q68.7235 570.316 65.6217 573.534 Q62.5198 576.728 56.8717 582.492 Z\" fill=\"#000000\" fill-rule=\"evenodd\" fill-opacity=\"1\" /><path clip-path=\"url(#clip480)\" d=\"M83.0058 580.548 L87.8901 580.548 L87.8901 586.427 L83.0058 586.427 L83.0058 580.548 Z\" fill=\"#000000\" fill-rule=\"evenodd\" fill-opacity=\"1\" /><path clip-path=\"url(#clip480)\" d=\"M108.075 570.015 Q104.742 570.015 102.821 571.798 Q100.922 573.58 100.922 576.705 Q100.922 579.83 102.821 581.612 Q104.742 583.395 108.075 583.395 Q111.408 583.395 113.33 581.612 Q115.251 579.807 115.251 576.705 Q115.251 573.58 113.33 571.798 Q111.432 570.015 108.075 570.015 M103.399 568.025 Q100.39 567.284 98.7002 565.224 Q97.0335 563.164 97.0335 560.201 Q97.0335 556.057 99.9733 553.65 Q102.936 551.242 108.075 551.242 Q113.237 551.242 116.177 553.65 Q119.117 556.057 119.117 560.201 Q119.117 563.164 117.427 565.224 Q115.76 567.284 112.774 568.025 Q116.154 568.812 118.029 571.103 Q119.927 573.395 119.927 576.705 Q119.927 581.728 116.848 584.413 Q113.793 587.099 108.075 587.099 Q102.358 587.099 99.2789 584.413 Q96.2234 581.728 96.2234 576.705 Q96.2234 573.395 98.1215 571.103 Q100.02 568.812 103.399 568.025 M101.686 560.64 Q101.686 563.326 103.353 564.83 Q105.043 566.335 108.075 566.335 Q111.084 566.335 112.774 564.83 Q114.487 563.326 114.487 560.64 Q114.487 557.955 112.774 556.451 Q111.084 554.946 108.075 554.946 Q105.043 554.946 103.353 556.451 Q101.686 557.955 101.686 560.64 Z\" fill=\"#000000\" fill-rule=\"evenodd\" fill-opacity=\"1\" /><path clip-path=\"url(#clip480)\" d=\"M56.9643 238.509 L73.2837 238.509 L73.2837 242.444 L51.3393 242.444 L51.3393 238.509 Q54.0014 235.754 58.5847 231.124 Q63.1911 226.472 64.3717 225.129 Q66.617 222.606 67.4967 220.87 Q68.3994 219.111 68.3994 217.421 Q68.3994 214.666 66.455 212.93 Q64.5337 211.194 61.4319 211.194 Q59.2328 211.194 56.7791 211.958 Q54.3486 212.722 51.5708 214.273 L51.5708 209.55 Q54.3949 208.416 56.8486 207.838 Q59.3023 207.259 61.3393 207.259 Q66.7096 207.259 69.9041 209.944 Q73.0985 212.629 73.0985 217.12 Q73.0985 219.25 72.2883 221.171 Q71.5013 223.069 69.3948 225.662 Q68.8161 226.333 65.7143 229.55 Q62.6124 232.745 56.9643 238.509 Z\" fill=\"#000000\" fill-rule=\"evenodd\" fill-opacity=\"1\" /><path clip-path=\"url(#clip480)\" d=\"M83.0984 236.564 L87.9827 236.564 L87.9827 242.444 L83.0984 242.444 L83.0984 236.564 Z\" fill=\"#000000\" fill-rule=\"evenodd\" fill-opacity=\"1\" /><path clip-path=\"url(#clip480)\" d=\"M98.3067 241.726 L98.3067 237.467 Q100.066 238.3 101.871 238.74 Q103.677 239.18 105.413 239.18 Q110.043 239.18 112.473 236.078 Q114.927 232.953 115.274 226.611 Q113.932 228.601 111.871 229.666 Q109.811 230.731 107.311 230.731 Q102.126 230.731 99.0937 227.606 Q96.0845 224.458 96.0845 219.018 Q96.0845 213.694 99.2326 210.476 Q102.381 207.259 107.612 207.259 Q113.608 207.259 116.756 211.865 Q119.927 216.449 119.927 225.199 Q119.927 233.37 116.038 238.254 Q112.172 243.115 105.621 243.115 Q103.862 243.115 102.057 242.768 Q100.251 242.421 98.3067 241.726 M107.612 227.074 Q110.76 227.074 112.589 224.921 Q114.441 222.768 114.441 219.018 Q114.441 215.291 112.589 213.138 Q110.76 210.963 107.612 210.963 Q104.464 210.963 102.612 213.138 Q100.784 215.291 100.784 219.018 Q100.784 222.768 102.612 224.921 Q104.464 227.074 107.612 227.074 Z\" fill=\"#000000\" fill-rule=\"evenodd\" fill-opacity=\"1\" /><polyline clip-path=\"url(#clip482)\" style=\"stroke:#009af9; stroke-linecap:round; stroke-linejoin:round; stroke-width:4; stroke-opacity:1; fill:none\" points=\"\n",
       "  218.101,1445.72 231.594,1437.82 356.356,1364.82 431.333,1320.98 494.725,1283.98 563.587,1243.87 627.071,1207.02 695.132,1167.71 773.988,1122.51 844.066,1082.78 \n",
       "  905.519,1048.43 972.518,1011.69 1039.92,975.826 1077.17,956.666 1114.43,938.161 1149.88,921.363 1185.33,905.655 1222.19,891.008 1259.05,879.092 1274.57,875.359 \n",
       "  1290.08,872.782 1305.6,871.87 1321.11,873.563 1330.58,876.66 1340.05,882.381 1344.79,886.785 1349.52,892.799 1351.89,896.658 1354.26,901.304 1356.62,907.002 \n",
       "  1358.99,914.183 1360.18,918.548 1361.36,923.614 1362.54,929.604 1363.73,936.865 1364.91,945.986 1366.09,958.097 1366.69,965.969 1367.28,975.817 1367.87,988.894 \n",
       "  1368.46,1008.22 1369.05,1045.33 1369.65,1085.19 1370.24,1019.65 1370.83,994.458 1371.42,978.438 1372.01,966.608 1372.61,957.19 1373.2,949.341 1374.38,936.67 \n",
       "  1375.57,926.582 1376.75,918.154 1377.93,910.88 1380.3,898.69 1382.67,888.61 1385.04,879.937 1387.4,872.272 1392.14,859.045 1396.87,847.737 1405.55,830.138 \n",
       "  1414.22,815.098 1422.9,801.703 1431.58,789.455 1448.93,767.296 1466.28,747.227 1498.33,713.521 1530.38,682.524 1562.85,652.859 1595.31,624.386 1668.08,563.375 \n",
       "  1734.02,510.228 1809.52,450.916 1879.43,396.969 1948.35,344.411 2015.26,293.806 2083.86,242.243 2159.01,186.01 2268.18,104.639 2290.58,87.9763 \n",
       "  \"/>\n",
       "<path clip-path=\"url(#clip480)\" d=\"\n",
       "M229.155 198.898 L465.342 198.898 L465.342 95.2176 L229.155 95.2176  Z\n",
       "  \" fill=\"#ffffff\" fill-rule=\"evenodd\" fill-opacity=\"1\"/>\n",
       "<polyline clip-path=\"url(#clip480)\" style=\"stroke:#000000; stroke-linecap:round; stroke-linejoin:round; stroke-width:4; stroke-opacity:1; fill:none\" points=\"\n",
       "  229.155,198.898 465.342,198.898 465.342,95.2176 229.155,95.2176 229.155,198.898 \n",
       "  \"/>\n",
       "<polyline clip-path=\"url(#clip480)\" style=\"stroke:#009af9; stroke-linecap:round; stroke-linejoin:round; stroke-width:4; stroke-opacity:1; fill:none\" points=\"\n",
       "  253.564,147.058 400.019,147.058 \n",
       "  \"/>\n",
       "<path clip-path=\"url(#clip480)\" d=\"M440.933 128.319 L440.933 131.861 L436.859 131.861 Q434.567 131.861 433.664 132.787 Q432.785 133.713 432.785 136.12 L432.785 138.412 L439.799 138.412 L439.799 141.722 L432.785 141.722 L432.785 164.338 L428.502 164.338 L428.502 141.722 L424.428 141.722 L424.428 138.412 L428.502 138.412 L428.502 136.606 Q428.502 132.278 430.516 130.31 Q432.53 128.319 436.905 128.319 L440.933 128.319 Z\" fill=\"#000000\" fill-rule=\"evenodd\" fill-opacity=\"1\" /></svg>\n"
      ]
     },
     "execution_count": 14,
     "metadata": {},
     "output_type": "execute_result"
    }
   ],
   "source": [
    "f(x) = 1/80 * log(abs(3*(1 - x) + 1)) + x^2 + 1\n",
    "plot(f, 1.25, 1.4, label = \"f\")"
   ]
  },
  {
   "cell_type": "code",
   "execution_count": 4,
   "metadata": {},
   "outputs": [
    {
     "name": "stdout",
     "output_type": "stream",
     "text": [
      "f(x) = 2.327232110413813\n"
     ]
    },
    {
     "data": {
      "text/plain": [
       "2.327232110413813"
      ]
     },
     "execution_count": 4,
     "metadata": {},
     "output_type": "execute_result"
    }
   ],
   "source": [
    "x = 4/3\n",
    "@show f(x)"
   ]
  },
  {
   "cell_type": "code",
   "execution_count": 5,
   "metadata": {},
   "outputs": [
    {
     "data": {
      "text/plain": [
       "(2.344560789927811, 2.335896450170813)"
      ]
     },
     "execution_count": 5,
     "metadata": {},
     "output_type": "execute_result"
    }
   ],
   "source": [
    "f(prevfloat(x)), f(nextfloat(x))"
   ]
  },
  {
   "cell_type": "markdown",
   "metadata": {},
   "source": [
    "Create an interval and learn about interval arithmetic."
   ]
  },
  {
   "cell_type": "code",
   "execution_count": 17,
   "metadata": {},
   "outputs": [
    {
     "name": "stdout",
     "output_type": "stream",
     "text": [
      "a = 1 .. 2 = [1, 2]\n"
     ]
    }
   ],
   "source": [
    "@show a = 1..2;"
   ]
  },
  {
   "cell_type": "code",
   "execution_count": 18,
   "metadata": {},
   "outputs": [
    {
     "data": {
      "text/plain": [
       "[1, 3]"
      ]
     },
     "execution_count": 18,
     "metadata": {},
     "output_type": "execute_result"
    }
   ],
   "source": [
    "2 ± 1"
   ]
  },
  {
   "cell_type": "code",
   "execution_count": 19,
   "metadata": {},
   "outputs": [
    {
     "name": "stdout",
     "output_type": "stream",
     "text": [
      "(a, b, c, d) = ([1, 2], [1, 2], [1, 1], [1, 1])\n"
     ]
    },
    {
     "data": {
      "text/plain": [
       "([1, 2], [1, 2], [1, 1], [1, 1])"
      ]
     },
     "execution_count": 19,
     "metadata": {},
     "output_type": "execute_result"
    }
   ],
   "source": [
    "a = @interval(1, 2)\n",
    "b = interval(1, 2)\n",
    "c = interval(1)\n",
    "d = @interval 1\n",
    "@show a, b, c, d"
   ]
  },
  {
   "cell_type": "code",
   "execution_count": 20,
   "metadata": {},
   "outputs": [
    {
     "data": {
      "text/plain": [
       "[-1.02566, -1.02565]"
      ]
     },
     "execution_count": 20,
     "metadata": {},
     "output_type": "execute_result"
    }
   ],
   "source": [
    "@interval sin(0.2)+cos(1.3)-exp(0.4)"
   ]
  },
  {
   "cell_type": "code",
   "execution_count": 21,
   "metadata": {},
   "outputs": [
    {
     "name": "stdout",
     "output_type": "stream",
     "text": [
      "big(a) = 0.1000000000000000055511151231257827021181583404541015625\n"
     ]
    },
    {
     "data": {
      "text/plain": [
       "0.1000000000000000055511151231257827021181583404541015625"
      ]
     },
     "execution_count": 21,
     "metadata": {},
     "output_type": "execute_result"
    }
   ],
   "source": [
    "a = 0.1\n",
    "@show big(a);"
   ]
  },
  {
   "cell_type": "code",
   "execution_count": 22,
   "metadata": {},
   "outputs": [
    {
     "name": "stdout",
     "output_type": "stream",
     "text": [
      "correct = 0.1000000000000000000000000000000000000000000000000000000000000000000000000000002\n"
     ]
    }
   ],
   "source": [
    "correct = big\"0.1\"\n",
    "@show correct;"
   ]
  },
  {
   "cell_type": "code",
   "execution_count": 23,
   "metadata": {},
   "outputs": [
    {
     "name": "stdout",
     "output_type": "stream",
     "text": [
      "correct ∈ I = false\n",
      "correct ∈ II = true\n",
      "correct ∈ III = true\n"
     ]
    },
    {
     "data": {
      "text/plain": [
       "true"
      ]
     },
     "execution_count": 23,
     "metadata": {},
     "output_type": "execute_result"
    }
   ],
   "source": [
    "I = interval(a)\n",
    "II = @interval 0.1\n",
    "III = a..a\n",
    "\n",
    "@show correct ∈ I\n",
    "@show correct ∈ II\n",
    "@show correct ∈ III;"
   ]
  },
  {
   "cell_type": "code",
   "execution_count": 24,
   "metadata": {},
   "outputs": [
    {
     "name": "stdout",
     "output_type": "stream",
     "text": [
      "X ∩ Y = ∅\n",
      "X ∪ Y = [1, 4]\n",
      "X + Y = [4, 6]\n",
      "X * Y = [3, 8]\n",
      "X ^ 3 = [1, 8]\n",
      "X / Y = [0.25, 0.666667]\n"
     ]
    }
   ],
   "source": [
    "X = 1..2\n",
    "Y = 3..4\n",
    "\n",
    "@show X ∩ Y # typed \\cap<TAB>\n",
    "@show X ∪ Y # TYPED \\cup<TAB>\n",
    "@show X + Y\n",
    "@show X*Y\n",
    "@show X^3\n",
    "@show X/Y;"
   ]
  },
  {
   "cell_type": "code",
   "execution_count": 25,
   "metadata": {},
   "outputs": [
    {
     "name": "stdout",
     "output_type": "stream",
     "text": [
      "X / Y = [-∞, ∞]\n",
      "X / Z = [0.5, ∞]\n"
     ]
    }
   ],
   "source": [
    "X = 1..2\n",
    "Y = -1..1\n",
    "Z = 0..2\n",
    "@show X/Y\n",
    "@show X/Z;"
   ]
  },
  {
   "cell_type": "code",
   "execution_count": 27,
   "metadata": {},
   "outputs": [
    {
     "name": "stdout",
     "output_type": "stream",
     "text": [
      "X - X = [-1, 1]\n",
      "X / X = [0.5, 2]\n",
      "Z * (X + Y) = [0, 6]\n",
      "Z * X + Z * Y = [-2, 6]\n"
     ]
    }
   ],
   "source": [
    "@show X-X\n",
    "@show X/X\n",
    "@show Z*(X+Y)\n",
    "@show Z*X+Z*Y;"
   ]
  },
  {
   "cell_type": "code",
   "execution_count": 28,
   "metadata": {},
   "outputs": [
    {
     "name": "stdout",
     "output_type": "stream",
     "text": [
      "sin(0 .. (2 / 3) * π) = [0, 1]\n",
      "log(-3 .. -2) = ∅\n",
      "log(-3 .. 2) = [-∞, 0.693148]\n",
      "√(-3 .. 4) = [0, 2]\n"
     ]
    }
   ],
   "source": [
    "@show sin(0..2/3*π)\n",
    "@show log(-3.. -2)\n",
    "@show log(-3..2)\n",
    "@show √(-3..4);"
   ]
  },
  {
   "cell_type": "code",
   "execution_count": 29,
   "metadata": {},
   "outputs": [
    {
     "name": "stdout",
     "output_type": "stream",
     "text": [
      "f(x) = [-∞, 2.3359]\n"
     ]
    }
   ],
   "source": [
    "f(x) = (1/80) * log(abs(3*(1 - x) + 1)) + x^2 + 1\n",
    "x = @interval 4/3\n",
    "@show f(x);"
   ]
  },
  {
   "cell_type": "code",
   "execution_count": 30,
   "metadata": {},
   "outputs": [
    {
     "name": "stdout",
     "output_type": "stream",
     "text": [
      "f(X) = [-7, 9]\n",
      "f(-2 .. -1.5) ∪ f(-1.5 .. 2) = [-5.5, 9]\n"
     ]
    }
   ],
   "source": [
    "f(x) = x^2+3x-1\n",
    "X = -2..2\n",
    "@show f(X)\n",
    "@show f(-2.. -1.5) ∪ f(-1.5.. 2);"
   ]
  },
  {
   "cell_type": "code",
   "execution_count": 31,
   "metadata": {},
   "outputs": [
    {
     "name": "stdout",
     "output_type": "stream",
     "text": [
      "X1 = [1, 2] × [2, 3] × [3, 4]\n",
      "X2 = [1, 2] × [3, 4]\n",
      "X3 = [1, 2]⁵\n"
     ]
    }
   ],
   "source": [
    "X1 = IntervalBox(1..2, 2..3, 3..4)\n",
    "X2 = IntervalBox(1..2, 3..4)\n",
    "X3 = IntervalBox(1..2, 5)\n",
    "@show X1\n",
    "@show X2\n",
    "@show X3;"
   ]
  },
  {
   "cell_type": "code",
   "execution_count": 32,
   "metadata": {},
   "outputs": [
    {
     "name": "stdout",
     "output_type": "stream",
     "text": [
      "X1 + X2 = [0, 3] × [2, 5]\n",
      "sin.(X1) = [0.84147, 1] × [0.14112, 0.909298]\n"
     ]
    }
   ],
   "source": [
    "X1 = IntervalBox(1..2, 2..3)\n",
    "X2 = IntervalBox(-1..1, 0..2)\n",
    "@show X1 + X2\n",
    "@show sin.(X1);"
   ]
  },
  {
   "cell_type": "code",
   "execution_count": 27,
   "metadata": {},
   "outputs": [
    {
     "data": {
      "text/plain": [
       "2-element Vector{IntervalBox{2, Float64}}:\n",
       " [-2, -1.5] × [-4.75, -1.5]\n",
       " [-1.5, 2] × [-5.5, 9]"
      ]
     },
     "execution_count": 27,
     "metadata": {},
     "output_type": "execute_result"
    }
   ],
   "source": [
    "box1 = IntervalBox(X, f1)\n",
    "box2 = IntervalBox.(X2, f2)"
   ]
  },
  {
   "cell_type": "code",
   "execution_count": 28,
   "metadata": {},
   "outputs": [
    {
     "data": {
      "image/svg+xml": [
       "<?xml version=\"1.0\" encoding=\"utf-8\"?>\n",
       "<svg xmlns=\"http://www.w3.org/2000/svg\" xmlns:xlink=\"http://www.w3.org/1999/xlink\" width=\"600\" height=\"400\" viewBox=\"0 0 2400 1600\">\n",
       "<defs>\n",
       "  <clipPath id=\"clip3600\">\n",
       "    <rect x=\"0\" y=\"0\" width=\"2400\" height=\"1600\"/>\n",
       "  </clipPath>\n",
       "</defs>\n",
       "<path clip-path=\"url(#clip3600)\" d=\"\n",
       "M0 1600 L2400 1600 L2400 0 L0 0  Z\n",
       "  \" fill=\"#ffffff\" fill-rule=\"evenodd\" fill-opacity=\"1\"/>\n",
       "<defs>\n",
       "  <clipPath id=\"clip3601\">\n",
       "    <rect x=\"480\" y=\"0\" width=\"1681\" height=\"1600\"/>\n",
       "  </clipPath>\n",
       "</defs>\n",
       "<path clip-path=\"url(#clip3600)\" d=\"\n",
       "M182.008 1487.47 L2352.76 1487.47 L2352.76 47.2441 L182.008 47.2441  Z\n",
       "  \" fill=\"#ffffff\" fill-rule=\"evenodd\" fill-opacity=\"1\"/>\n",
       "<defs>\n",
       "  <clipPath id=\"clip3602\">\n",
       "    <rect x=\"182\" y=\"47\" width=\"2172\" height=\"1441\"/>\n",
       "  </clipPath>\n",
       "</defs>\n",
       "<polyline clip-path=\"url(#clip3602)\" style=\"stroke:#000000; stroke-width:2; stroke-opacity:0.1; fill:none\" points=\"\n",
       "  243.444,1487.47 243.444,47.2441 \n",
       "  \"/>\n",
       "<polyline clip-path=\"url(#clip3602)\" style=\"stroke:#000000; stroke-width:2; stroke-opacity:0.1; fill:none\" points=\"\n",
       "  755.413,1487.47 755.413,47.2441 \n",
       "  \"/>\n",
       "<polyline clip-path=\"url(#clip3602)\" style=\"stroke:#000000; stroke-width:2; stroke-opacity:0.1; fill:none\" points=\"\n",
       "  1267.38,1487.47 1267.38,47.2441 \n",
       "  \"/>\n",
       "<polyline clip-path=\"url(#clip3602)\" style=\"stroke:#000000; stroke-width:2; stroke-opacity:0.1; fill:none\" points=\"\n",
       "  1779.35,1487.47 1779.35,47.2441 \n",
       "  \"/>\n",
       "<polyline clip-path=\"url(#clip3602)\" style=\"stroke:#000000; stroke-width:2; stroke-opacity:0.1; fill:none\" points=\"\n",
       "  2291.32,1487.47 2291.32,47.2441 \n",
       "  \"/>\n",
       "<polyline clip-path=\"url(#clip3602)\" style=\"stroke:#000000; stroke-width:2; stroke-opacity:0.1; fill:none\" points=\"\n",
       "  182.008,1276.87 2352.76,1276.87 \n",
       "  \"/>\n",
       "<polyline clip-path=\"url(#clip3602)\" style=\"stroke:#000000; stroke-width:2; stroke-opacity:0.1; fill:none\" points=\"\n",
       "  182.008,1064.58 2352.76,1064.58 \n",
       "  \"/>\n",
       "<polyline clip-path=\"url(#clip3602)\" style=\"stroke:#000000; stroke-width:2; stroke-opacity:0.1; fill:none\" points=\"\n",
       "  182.008,852.279 2352.76,852.279 \n",
       "  \"/>\n",
       "<polyline clip-path=\"url(#clip3602)\" style=\"stroke:#000000; stroke-width:2; stroke-opacity:0.1; fill:none\" points=\"\n",
       "  182.008,639.981 2352.76,639.981 \n",
       "  \"/>\n",
       "<polyline clip-path=\"url(#clip3602)\" style=\"stroke:#000000; stroke-width:2; stroke-opacity:0.1; fill:none\" points=\"\n",
       "  182.008,427.682 2352.76,427.682 \n",
       "  \"/>\n",
       "<polyline clip-path=\"url(#clip3602)\" style=\"stroke:#000000; stroke-width:2; stroke-opacity:0.1; fill:none\" points=\"\n",
       "  182.008,215.384 2352.76,215.384 \n",
       "  \"/>\n",
       "<polyline clip-path=\"url(#clip3600)\" style=\"stroke:#000000; stroke-width:4; stroke-opacity:1; fill:none\" points=\"\n",
       "  182.008,1487.47 2352.76,1487.47 \n",
       "  \"/>\n",
       "<polyline clip-path=\"url(#clip3600)\" style=\"stroke:#000000; stroke-width:4; stroke-opacity:1; fill:none\" points=\"\n",
       "  182.008,1487.47 182.008,47.2441 \n",
       "  \"/>\n",
       "<polyline clip-path=\"url(#clip3600)\" style=\"stroke:#000000; stroke-width:4; stroke-opacity:1; fill:none\" points=\"\n",
       "  243.444,1487.47 243.444,1470.19 \n",
       "  \"/>\n",
       "<polyline clip-path=\"url(#clip3600)\" style=\"stroke:#000000; stroke-width:4; stroke-opacity:1; fill:none\" points=\"\n",
       "  755.413,1487.47 755.413,1470.19 \n",
       "  \"/>\n",
       "<polyline clip-path=\"url(#clip3600)\" style=\"stroke:#000000; stroke-width:4; stroke-opacity:1; fill:none\" points=\"\n",
       "  1267.38,1487.47 1267.38,1470.19 \n",
       "  \"/>\n",
       "<polyline clip-path=\"url(#clip3600)\" style=\"stroke:#000000; stroke-width:4; stroke-opacity:1; fill:none\" points=\"\n",
       "  1779.35,1487.47 1779.35,1470.19 \n",
       "  \"/>\n",
       "<polyline clip-path=\"url(#clip3600)\" style=\"stroke:#000000; stroke-width:4; stroke-opacity:1; fill:none\" points=\"\n",
       "  2291.32,1487.47 2291.32,1470.19 \n",
       "  \"/>\n",
       "<polyline clip-path=\"url(#clip3600)\" style=\"stroke:#000000; stroke-width:4; stroke-opacity:1; fill:none\" points=\"\n",
       "  182.008,1276.87 208.057,1276.87 \n",
       "  \"/>\n",
       "<polyline clip-path=\"url(#clip3600)\" style=\"stroke:#000000; stroke-width:4; stroke-opacity:1; fill:none\" points=\"\n",
       "  182.008,1064.58 208.057,1064.58 \n",
       "  \"/>\n",
       "<polyline clip-path=\"url(#clip3600)\" style=\"stroke:#000000; stroke-width:4; stroke-opacity:1; fill:none\" points=\"\n",
       "  182.008,852.279 208.057,852.279 \n",
       "  \"/>\n",
       "<polyline clip-path=\"url(#clip3600)\" style=\"stroke:#000000; stroke-width:4; stroke-opacity:1; fill:none\" points=\"\n",
       "  182.008,639.981 208.057,639.981 \n",
       "  \"/>\n",
       "<polyline clip-path=\"url(#clip3600)\" style=\"stroke:#000000; stroke-width:4; stroke-opacity:1; fill:none\" points=\"\n",
       "  182.008,427.682 208.057,427.682 \n",
       "  \"/>\n",
       "<polyline clip-path=\"url(#clip3600)\" style=\"stroke:#000000; stroke-width:4; stroke-opacity:1; fill:none\" points=\"\n",
       "  182.008,215.384 208.057,215.384 \n",
       "  \"/>\n",
       "<g clip-path=\"url(#clip3600)\">\n",
       "<text style=\"fill:#000000; fill-opacity:1; font-family:Arial,Helvetica Neue,Helvetica,sans-serif; font-size:48px; text-anchor:middle;\" transform=\"rotate(0, 243.444, 1541.47)\" x=\"243.444\" y=\"1541.47\">-2</text>\n",
       "</g>\n",
       "<g clip-path=\"url(#clip3600)\">\n",
       "<text style=\"fill:#000000; fill-opacity:1; font-family:Arial,Helvetica Neue,Helvetica,sans-serif; font-size:48px; text-anchor:middle;\" transform=\"rotate(0, 755.413, 1541.47)\" x=\"755.413\" y=\"1541.47\">-1</text>\n",
       "</g>\n",
       "<g clip-path=\"url(#clip3600)\">\n",
       "<text style=\"fill:#000000; fill-opacity:1; font-family:Arial,Helvetica Neue,Helvetica,sans-serif; font-size:48px; text-anchor:middle;\" transform=\"rotate(0, 1267.38, 1541.47)\" x=\"1267.38\" y=\"1541.47\">0</text>\n",
       "</g>\n",
       "<g clip-path=\"url(#clip3600)\">\n",
       "<text style=\"fill:#000000; fill-opacity:1; font-family:Arial,Helvetica Neue,Helvetica,sans-serif; font-size:48px; text-anchor:middle;\" transform=\"rotate(0, 1779.35, 1541.47)\" x=\"1779.35\" y=\"1541.47\">1</text>\n",
       "</g>\n",
       "<g clip-path=\"url(#clip3600)\">\n",
       "<text style=\"fill:#000000; fill-opacity:1; font-family:Arial,Helvetica Neue,Helvetica,sans-serif; font-size:48px; text-anchor:middle;\" transform=\"rotate(0, 2291.32, 1541.47)\" x=\"2291.32\" y=\"1541.47\">2</text>\n",
       "</g>\n",
       "<g clip-path=\"url(#clip3600)\">\n",
       "<text style=\"fill:#000000; fill-opacity:1; font-family:Arial,Helvetica Neue,Helvetica,sans-serif; font-size:48px; text-anchor:end;\" transform=\"rotate(0, 158.008, 1294.37)\" x=\"158.008\" y=\"1294.37\">-5.0</text>\n",
       "</g>\n",
       "<g clip-path=\"url(#clip3600)\">\n",
       "<text style=\"fill:#000000; fill-opacity:1; font-family:Arial,Helvetica Neue,Helvetica,sans-serif; font-size:48px; text-anchor:end;\" transform=\"rotate(0, 158.008, 1082.08)\" x=\"158.008\" y=\"1082.08\">-2.5</text>\n",
       "</g>\n",
       "<g clip-path=\"url(#clip3600)\">\n",
       "<text style=\"fill:#000000; fill-opacity:1; font-family:Arial,Helvetica Neue,Helvetica,sans-serif; font-size:48px; text-anchor:end;\" transform=\"rotate(0, 158.008, 869.779)\" x=\"158.008\" y=\"869.779\">0.0</text>\n",
       "</g>\n",
       "<g clip-path=\"url(#clip3600)\">\n",
       "<text style=\"fill:#000000; fill-opacity:1; font-family:Arial,Helvetica Neue,Helvetica,sans-serif; font-size:48px; text-anchor:end;\" transform=\"rotate(0, 158.008, 657.481)\" x=\"158.008\" y=\"657.481\">2.5</text>\n",
       "</g>\n",
       "<g clip-path=\"url(#clip3600)\">\n",
       "<text style=\"fill:#000000; fill-opacity:1; font-family:Arial,Helvetica Neue,Helvetica,sans-serif; font-size:48px; text-anchor:end;\" transform=\"rotate(0, 158.008, 445.182)\" x=\"158.008\" y=\"445.182\">5.0</text>\n",
       "</g>\n",
       "<g clip-path=\"url(#clip3600)\">\n",
       "<text style=\"fill:#000000; fill-opacity:1; font-family:Arial,Helvetica Neue,Helvetica,sans-serif; font-size:48px; text-anchor:end;\" transform=\"rotate(0, 158.008, 232.884)\" x=\"158.008\" y=\"232.884\">7.5</text>\n",
       "</g>\n",
       "<path clip-path=\"url(#clip3602)\" d=\"\n",
       "M243.444 1446.71 L2291.32 1446.71 L2291.32 88.0053 L243.444 88.0053 L243.444 1446.71  Z\n",
       "  \" fill=\"#009af9\" fill-rule=\"evenodd\" fill-opacity=\"0.5\"/>\n",
       "<polyline clip-path=\"url(#clip3602)\" style=\"stroke:#000000; stroke-width:4; stroke-opacity:0.5; fill:none\" points=\"\n",
       "  243.444,1446.71 2291.32,1446.71 2291.32,88.0053 243.444,88.0053 243.444,1446.71 \n",
       "  \"/>\n",
       "<path clip-path=\"url(#clip3602)\" d=\"\n",
       "M243.444 1255.65 L499.429 1255.65 L499.429 979.658 L243.444 979.658 L243.444 1255.65  Z\n",
       "  \" fill=\"#e26f46\" fill-rule=\"evenodd\" fill-opacity=\"0.5\"/>\n",
       "<polyline clip-path=\"url(#clip3602)\" style=\"stroke:#000000; stroke-width:4; stroke-opacity:0.5; fill:none\" points=\"\n",
       "  243.444,1255.65 499.429,1255.65 499.429,979.658 243.444,979.658 243.444,1255.65 \n",
       "  \"/>\n",
       "<path clip-path=\"url(#clip3602)\" d=\"\n",
       "M499.429 1319.33 L2291.32 1319.33 L2291.32 88.0053 L499.429 88.0053 L499.429 1319.33  Z\n",
       "  \" fill=\"#e26f46\" fill-rule=\"evenodd\" fill-opacity=\"0.5\"/>\n",
       "<polyline clip-path=\"url(#clip3602)\" style=\"stroke:#000000; stroke-width:4; stroke-opacity:0.5; fill:none\" points=\"\n",
       "  499.429,1319.33 2291.32,1319.33 2291.32,88.0053 499.429,88.0053 499.429,1319.33 \n",
       "  \"/>\n",
       "<polyline clip-path=\"url(#clip3602)\" style=\"stroke:#000000; stroke-width:8; stroke-opacity:1; fill:none\" points=\"\n",
       "  243.444,1107.04 263.443,1110.22 448.365,1127.42 559.495,1127.1 653.454,1120.58 755.52,1107.02 849.615,1088.54 950.496,1062.35 1067.38,1023.76 1171.24,982.042 \n",
       "  1262.33,939.704 1361.63,887.419 1461.53,828.377 1571.98,755.571 1677.07,678.96 1786.33,591.714 1878.31,512.274 1990.61,407.855 2096.17,302.247 2265.29,118.005 \n",
       "  2291.32,88.0053 \n",
       "  \"/>\n",
       "</svg>\n"
      ]
     },
     "execution_count": 28,
     "metadata": {},
     "output_type": "execute_result"
    }
   ],
   "source": [
    "using Plots\n",
    "plot(box1)\n",
    "plot!(box2)\n",
    "plot!(f, -2, 2, leg=false, color=:black, linewidth=2)"
   ]
  },
  {
   "cell_type": "markdown",
   "metadata": {},
   "source": [
    "https://juliaintervals.github.io/pages/tutorials/tutorialRootFinding/"
   ]
  },
  {
   "cell_type": "code",
   "execution_count": 30,
   "metadata": {},
   "outputs": [],
   "source": [
    "using IntervalArithmetic, IntervalRootFinding\n"
   ]
  },
  {
   "cell_type": "code",
   "execution_count": 31,
   "metadata": {},
   "outputs": [
    {
     "data": {
      "text/plain": [
       "2-element Vector{Root{Interval{Float64}}}:\n",
       " Root([1.99999, 2.00001], :unique)\n",
       " Root([-1.72982e-09, 1.38862e-09], :unique)"
      ]
     },
     "execution_count": 31,
     "metadata": {},
     "output_type": "execute_result"
    }
   ],
   "source": [
    "f(x) = x^2-2x\n",
    "X = -4..4\n",
    "\n",
    "rts = roots(f, X) "
   ]
  },
  {
   "cell_type": "code",
   "execution_count": 32,
   "metadata": {},
   "outputs": [
    {
     "data": {
      "text/plain": [
       "4-element Vector{Root{Interval{Float64}}}:\n",
       " Root([2, 2.00001], :unknown)\n",
       " Root([1.99999, 2], :unknown)\n",
       " Root([-2.3921e-08, 3.24651e-08], :unknown)\n",
       " Root([1.99999, 2.00001], :unknown)"
      ]
     },
     "execution_count": 32,
     "metadata": {},
     "output_type": "execute_result"
    }
   ],
   "source": [
    "roots(f, X, Bisection)"
   ]
  },
  {
   "cell_type": "code",
   "execution_count": 34,
   "metadata": {},
   "outputs": [
    {
     "data": {
      "text/plain": [
       "6-element Vector{Root{Interval{Float64}}}:\n",
       " Root([0.318309, 0.31831], :unique)\n",
       " Root([0.0795774, 0.0795775], :unique)\n",
       " Root([0.159154, 0.159155], :unique)\n",
       " Root([0.0530516, 0.0530517], :unique)\n",
       " Root([0.0636619, 0.063662], :unique)\n",
       " Root([0.106103, 0.106104], :unique)"
      ]
     },
     "execution_count": 34,
     "metadata": {},
     "output_type": "execute_result"
    }
   ],
   "source": [
    "h(x) = cos(x) * sin(1 / x)\n",
    "roots(h, 0.05..1)"
   ]
  },
  {
   "cell_type": "code",
   "execution_count": null,
   "metadata": {},
   "outputs": [],
   "source": []
  }
 ],
 "metadata": {
  "kernelspec": {
   "display_name": "Julia 1.8.0",
   "language": "julia",
   "name": "julia-1.8"
  },
  "language_info": {
   "file_extension": ".jl",
   "mimetype": "application/julia",
   "name": "julia",
   "version": "1.8.0"
  }
 },
 "nbformat": 4,
 "nbformat_minor": 4
}
