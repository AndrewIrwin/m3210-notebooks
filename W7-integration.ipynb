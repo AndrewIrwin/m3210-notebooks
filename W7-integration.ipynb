{
 "cells": [
  {
   "cell_type": "markdown",
   "id": "71415605-a0dd-431d-81ab-2fc288b20a33",
   "metadata": {},
   "source": [
    "## Numerical integration\n",
    "\n",
    "In all cases we compare our methods with integrations using Gauss-Konrod quadrature from the package `QuadGK`."
   ]
  },
  {
   "cell_type": "code",
   "execution_count": 1,
   "id": "912584aa-e8aa-4125-99ca-a34969e8fff1",
   "metadata": {},
   "outputs": [
    {
     "data": {
      "text/plain": [
       "(0.9500042097035591, 9.329403916069623e-11)"
      ]
     },
     "execution_count": 1,
     "metadata": {},
     "output_type": "execute_result"
    }
   ],
   "source": [
    "using QuadGK\n",
    "f1(x) = exp(-x^2/2)/sqrt(2*pi)\n",
    "integral, err = quadgk(f1, -1.96, 1.96, rtol=1e-8)"
   ]
  },
  {
   "cell_type": "code",
   "execution_count": 2,
   "id": "e62da798-70dc-4670-a9db-c2158da04ddd",
   "metadata": {},
   "outputs": [
    {
     "data": {
      "text/plain": [
       "(2.4091565809390083, 3.2917326638795794e-8)"
      ]
     },
     "execution_count": 2,
     "metadata": {},
     "output_type": "execute_result"
    }
   ],
   "source": [
    "f2(x) = x*sin(1/x)\n",
    "quadgk(f2, 0, pi)"
   ]
  },
  {
   "cell_type": "code",
   "execution_count": 16,
   "id": "7354c502",
   "metadata": {},
   "outputs": [
    {
     "data": {
      "text/plain": [
       "(19969.999999999996, 0.0)"
      ]
     },
     "execution_count": 16,
     "metadata": {},
     "output_type": "execute_result"
    }
   ],
   "source": [
    "f3(x) = x^4 - 3\n",
    "quadgk(f3, 0, 10)"
   ]
  },
  {
   "cell_type": "markdown",
   "id": "62d55f67-6fc3-4f40-9750-a1ac8aeef6e2",
   "metadata": {},
   "source": [
    "### Trapezoidal rule\n",
    "\n",
    "Add $f(x)$ evaluated at equally spaced points. Divide the values obtained by the endpoint by 2. Compute the area by adding up the function values times the trapezoid widths $h$."
   ]
  },
  {
   "cell_type": "code",
   "execution_count": 3,
   "id": "21d70b52-7547-42a0-aa4f-2745c8e8b522",
   "metadata": {},
   "outputs": [
    {
     "data": {
      "text/plain": [
       "trapezoid (generic function with 1 method)"
      ]
     },
     "execution_count": 3,
     "metadata": {},
     "output_type": "execute_result"
    }
   ],
   "source": [
    "function trapezoid(f,a,b,n)\n",
    "    h = (b-a)/n\n",
    "    t = range(a,b,length=n+1)\n",
    "    y = f.(t)\n",
    "    T = h * ( sum(y[2:n]) + 0.5*(y[1] + y[n+1]) )\n",
    "    return T\n",
    "end"
   ]
  },
  {
   "cell_type": "code",
   "execution_count": 17,
   "id": "0bfcc3c5-289a-4703-8a03-a8a679fc65a1",
   "metadata": {},
   "outputs": [
    {
     "data": {
      "text/plain": [
       "0.9500039163481598"
      ]
     },
     "execution_count": 17,
     "metadata": {},
     "output_type": "execute_result"
    }
   ],
   "source": [
    "trapezoid(f1, -1.96, 1.96, 1000)"
   ]
  },
  {
   "cell_type": "code",
   "execution_count": 19,
   "id": "7eb64231-7bd1-4278-bd7a-a111c172576f",
   "metadata": {},
   "outputs": [
    {
     "data": {
      "text/plain": [
       "2.4091565957262713"
      ]
     },
     "execution_count": 19,
     "metadata": {},
     "output_type": "execute_result"
    }
   ],
   "source": [
    "trapezoid(f2, eps(), pi, 100000)"
   ]
  },
  {
   "cell_type": "markdown",
   "id": "73e941e6-67cc-46c8-8642-89236907e234",
   "metadata": {},
   "source": [
    "### Simpson's rule\n",
    "\n",
    "Simpson's rule is developed in two ways in the textbook. First as a single step of Romberg extrapolation of the Trapezoidal rule. Second as a direct method using quadratic interpolation of a function instead of straight lines used in the trapezoidal rule."
   ]
  },
  {
   "cell_type": "code",
   "execution_count": 6,
   "id": "0b6cf2a2-7df7-42d1-8ce5-d31f77e80d6d",
   "metadata": {},
   "outputs": [
    {
     "data": {
      "text/plain": [
       "simpson (generic function with 1 method)"
      ]
     },
     "execution_count": 6,
     "metadata": {},
     "output_type": "execute_result"
    }
   ],
   "source": [
    "function simpson(f, a, b, k)\n",
    "    trap_table = zeros(k)\n",
    "    for i in 1:k\n",
    "        trap_table[i] = trapezoid(f, a, b, 2^i)[1]\n",
    "    end\n",
    "    simp_table = zeros(k)\n",
    "    for i in 2:k\n",
    "        simp_table[i] = (4*trap_table[i] - trap_table[i-1])/3 \n",
    "    end\n",
    "    simp_table[k]\n",
    "end"
   ]
  },
  {
   "cell_type": "code",
   "execution_count": 7,
   "id": "c66c2419-d9cf-4c20-93e1-e5e3a8019691",
   "metadata": {},
   "outputs": [
    {
     "data": {
      "text/plain": [
       "0.9500041945590283"
      ]
     },
     "execution_count": 7,
     "metadata": {},
     "output_type": "execute_result"
    }
   ],
   "source": [
    "simpson(f1, -1.96, 1.96, 6)  # 2^k intervals used; don't go overboard"
   ]
  },
  {
   "cell_type": "code",
   "execution_count": 8,
   "id": "14384be0-46a8-467d-9105-8ba18927e4b6",
   "metadata": {},
   "outputs": [
    {
     "data": {
      "text/plain": [
       "2.4094340233477354"
      ]
     },
     "execution_count": 8,
     "metadata": {},
     "output_type": "execute_result"
    }
   ],
   "source": [
    "simpson(f2, eps(), pi, 8)"
   ]
  },
  {
   "cell_type": "markdown",
   "id": "e8a70a66-caaa-4002-94b8-aa09abcebc9f",
   "metadata": {},
   "source": [
    "[More extrapolation steps](https://en.wikipedia.org/wiki/Richardson_extrapolation) can be taken by adding extra columns to the simp_table above."
   ]
  },
  {
   "cell_type": "code",
   "execution_count": 9,
   "id": "c7b6686e-5041-43b7-8c88-383b8d7ce44b",
   "metadata": {},
   "outputs": [
    {
     "data": {
      "text/plain": [
       "simpson2 (generic function with 1 method)"
      ]
     },
     "execution_count": 9,
     "metadata": {},
     "output_type": "execute_result"
    }
   ],
   "source": [
    "function simpson2(f,a,b,m)  # see exercise 5.6.4\n",
    "    n = 2*m\n",
    "    h = (b-a)/n\n",
    "    t = range(a,b,length=n+1)\n",
    "    y = f.(t)\n",
    "    T = h/3 * ( sum(4 .* y[2:2:n]) + sum(2 .* y[3:2:n-1]) + (y[1] + y[n+1]) )\n",
    "    return T\n",
    "end"
   ]
  },
  {
   "cell_type": "code",
   "execution_count": 10,
   "id": "16edd82b-095c-47b5-91c7-a0d1aa6c87a2",
   "metadata": {},
   "outputs": [
    {
     "data": {
      "text/plain": [
       "0.9500041945590284"
      ]
     },
     "execution_count": 10,
     "metadata": {},
     "output_type": "execute_result"
    }
   ],
   "source": [
    "simpson2(f1, -1.96, 1.96, 2^5)  # 2m "
   ]
  },
  {
   "cell_type": "code",
   "execution_count": 11,
   "id": "c29284a3-2fb8-40af-a74c-740dd8e43067",
   "metadata": {},
   "outputs": [
    {
     "data": {
      "text/plain": [
       "2.409434023347735"
      ]
     },
     "execution_count": 11,
     "metadata": {},
     "output_type": "execute_result"
    }
   ],
   "source": [
    "simpson2(f2, eps(), pi, 2^7)"
   ]
  },
  {
   "cell_type": "code",
   "execution_count": 25,
   "id": "8718ea24",
   "metadata": {},
   "outputs": [
    {
     "data": {
      "text/plain": [
       "1.2509998964918078e15"
      ]
     },
     "execution_count": 25,
     "metadata": {},
     "output_type": "execute_result"
    }
   ],
   "source": [
    "simpson2(x -> 1/x, eps(1.0), 10, 6) # not particularly useful"
   ]
  },
  {
   "cell_type": "code",
   "execution_count": 26,
   "id": "6abad7f6",
   "metadata": {},
   "outputs": [
    {
     "data": {
      "text/plain": [
       "1.5637498706147884e14"
      ]
     },
     "execution_count": 26,
     "metadata": {},
     "output_type": "execute_result"
    }
   ],
   "source": [
    "simpson2(x -> 1/x, eps(10.0), 10, 6)"
   ]
  },
  {
   "cell_type": "markdown",
   "id": "09a949b0-2622-42a6-8faf-70122601b2e6",
   "metadata": {},
   "source": [
    "## Adaptive integration\n",
    "\n",
    "Use a method like trapezoids or Simpson. Evaluate two halves of each interval with $n$ and $2n$ nodes. Compare the two values to get an error estimate. If the error is too large, subdivde the interval and repeat the procedure."
   ]
  },
  {
   "cell_type": "code",
   "execution_count": 28,
   "id": "be15374e-7d96-4b4c-b942-be6c9865d3aa",
   "metadata": {},
   "outputs": [
    {
     "data": {
      "text/plain": [
       "intadapt (generic function with 5 methods)"
      ]
     },
     "execution_count": 28,
     "metadata": {},
     "output_type": "execute_result"
    }
   ],
   "source": [
    "function intadapt(f,a,b,tol,fa=f(a),fb=f(b),m=(a+b)/2,fm=f(m))\n",
    "    # Use error estimation and recursive bisection.\n",
    "    # These are the two new nodes and their f-values.\n",
    "    xl = (a+m)/2;  fl = f(xl);\n",
    "    xr = (m+b)/2;  fr = f(xr);\n",
    "    \n",
    "    # Compute the trapezoid values iteratively.\n",
    "    h = (b-a)\n",
    "    T = [0.,0.,0.]\n",
    "    T[1] = h*(fa+fb)/2\n",
    "    T[2] = T[1]/2 + (h/2)*fm\n",
    "    T[3] = T[2]/2 + (h/4)*(fl+fr)\n",
    "    \n",
    "    S = (4T[2:3]-T[1:2]) / 3      # Simpson values\n",
    "    E = (S[2]-S[1]) / 15           # error estimate\n",
    "    \n",
    "    if abs(E) < tol*(1+abs(S[2]))  # acceptable error?\n",
    "        Q = S[2]                   # yes--done\n",
    "        nodes = [a,xl,m,xr,b]      # all nodes at this level\n",
    "    else\n",
    "        # Error is too large--bisect and recurse.\n",
    "        QL,tL = intadapt(f,a,m,tol,fa,fm,xl,fl)\n",
    "        QR,tR = intadapt(f,m,b,tol,fm,fb,xr,fr)\n",
    "        Q = QL + QR\n",
    "        nodes = [tL;tR[2:end]]   # merge the nodes w/o duplicate\n",
    "    end\n",
    "    return Q,nodes\n",
    "end"
   ]
  },
  {
   "cell_type": "code",
   "execution_count": 31,
   "id": "0d4c2786-02c7-412d-a668-4dafef4754ea",
   "metadata": {},
   "outputs": [
    {
     "data": {
      "text/plain": [
       "(0.9500041953973487, [-1.96, -1.89875, -1.8375, -1.7762499999999999, -1.7149999999999999, -1.6843749999999997, -1.6537499999999998, -1.623125, -1.5924999999999998, -1.561875  …  1.561875, 1.5924999999999998, 1.623125, 1.6537499999999998, 1.6843749999999997, 1.7149999999999999, 1.7762499999999999, 1.8375, 1.89875, 1.96])"
      ]
     },
     "execution_count": 31,
     "metadata": {},
     "output_type": "execute_result"
    }
   ],
   "source": [
    "q, nodes = intadapt(f1, -1.96, 1.96, 1e-8)"
   ]
  },
  {
   "cell_type": "code",
   "execution_count": 32,
   "id": "9db375d4",
   "metadata": {},
   "outputs": [
    {
     "data": {
      "text/plain": [
       "0.9500041953973487"
      ]
     },
     "execution_count": 32,
     "metadata": {},
     "output_type": "execute_result"
    }
   ],
   "source": [
    "q"
   ]
  },
  {
   "cell_type": "code",
   "execution_count": 34,
   "id": "0f575c3e",
   "metadata": {},
   "outputs": [
    {
     "data": {
      "text/plain": [
       "104-element Vector{Float64}:\n",
       " 0.06125000000000003\n",
       " 0.06125000000000003\n",
       " 0.06125000000000003\n",
       " 0.06125000000000003\n",
       " 0.030625000000000124\n",
       " 0.030624999999999902\n",
       " 0.030624999999999902\n",
       " 0.030625000000000124\n",
       " 0.030624999999999902\n",
       " 0.030624999999999902\n",
       " 0.030625000000000124\n",
       " 0.030624999999999902\n",
       " 0.030624999999999902\n",
       " ⋮\n",
       " 0.030624999999999902\n",
       " 0.030625000000000124\n",
       " 0.030624999999999902\n",
       " 0.030624999999999902\n",
       " 0.030625000000000124\n",
       " 0.030624999999999902\n",
       " 0.030624999999999902\n",
       " 0.030625000000000124\n",
       " 0.06125000000000003\n",
       " 0.06125000000000003\n",
       " 0.06125000000000003\n",
       " 0.06125000000000003"
      ]
     },
     "execution_count": 34,
     "metadata": {},
     "output_type": "execute_result"
    }
   ],
   "source": [
    "diff(nodes)\n"
   ]
  },
  {
   "cell_type": "code",
   "execution_count": 36,
   "id": "fd305930-057a-46b7-84a0-9bbdf72b7718",
   "metadata": {},
   "outputs": [
    {
     "data": {
      "text/plain": [
       "(2.4091451403911783, [2.220446049250313e-16, 0.001533980787885863, 0.003067961575771504, 0.004601942363657145, 0.006135923151542786, 0.006183860051164213, 0.006231796950785639, 0.006279733850407065, 0.006327670750028491, 0.006375607649649917  …  2.5034566458293668, 2.552544031041707, 2.6016314162540475, 2.650718801466388, 2.699806186678728, 2.748893571891069, 2.84706834231575, 2.945243112740431, 3.043417883165112, 3.141592653589793])"
      ]
     },
     "execution_count": 36,
     "metadata": {},
     "output_type": "execute_result"
    }
   ],
   "source": [
    "intadapt(f2, eps(), pi, 1e-8)"
   ]
  },
  {
   "cell_type": "markdown",
   "id": "f130c861-2f3d-4a9c-8c93-1e2b67f3f713",
   "metadata": {},
   "source": [
    "## Quadrature\n",
    "\n",
    "Instead of using equally-spaced nodes, you can pick nodes as the roots of a family of orthogonal functions. This approach is discussed in sections 9.6, 9.7."
   ]
  },
  {
   "cell_type": "code",
   "execution_count": null,
   "id": "8af5008a-838f-46c4-b082-329497cd7f71",
   "metadata": {},
   "outputs": [],
   "source": []
  }
 ],
 "metadata": {
  "kernelspec": {
   "display_name": "Julia 1.8.4",
   "language": "julia",
   "name": "julia-1.8"
  },
  "language_info": {
   "file_extension": ".jl",
   "mimetype": "application/julia",
   "name": "julia",
   "version": "1.8.4"
  }
 },
 "nbformat": 4,
 "nbformat_minor": 5
}
