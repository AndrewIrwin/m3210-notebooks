{
 "cells": [
  {
   "cell_type": "markdown",
   "id": "42210a1c-d840-4201-af23-830a91d06f71",
   "metadata": {},
   "source": [
    "# Week 2\n",
    "\n",
    "Linear sytems. Fundamentals of Numerical Computation, Chapter 2.\n"
   ]
  },
  {
   "cell_type": "markdown",
   "id": "afcffea3-8d45-4fdb-901b-8b14221780e4",
   "metadata": {},
   "source": [
    "## Polynomial interpolation\n",
    "\n",
    "Given data $(t_i, y_i)$ for $i = 1, \\dots, n$ find a polynomial $p(t) = c_1 + c_2t + \\dots + c_nt^{n-1}$ that interpolates these data. That means that $p(t_i) = y_i$.\n",
    "\n",
    "Construct a linear system $Vc = y$ where V is a matrix composed of column vectors $V_j = t_i^j$, $c$ is the unknown coefficients, and $y$ is a column vector from the data."
   ]
  },
  {
   "cell_type": "markdown",
   "id": "97b9d88d-ce12-4639-ba8d-f7599a2c52a4",
   "metadata": {},
   "source": [
    "## Linear systems\n",
    "\n",
    "Note how to solve upper triangular systems $Ux = b$ by \"back substitution\", meaning starting by finding $x_4 = b_4/u_{44}$ and then proceeding to find $u_3$, etc.\n",
    "\n",
    "Similarly, solve a lower triangular system $Lx = b$ using \"forward substitution\"."
   ]
  },
  {
   "cell_type": "markdown",
   "id": "77e9a9c3-3c44-4df7-a4dd-72a1b2fe61d4",
   "metadata": {},
   "source": [
    "## LU decomposition\n",
    "\n",
    "Outer ($uv^T$) and inner ($u^Tv$) products of column vectors.\n",
    "\n",
    "$L$ and $U$ are lower and upper triangular square matrices. The diagonal entries of $L$ are all 1. The diagonals of $U$ are non-zero. The matrices and their product are non-singular.\n",
    "\n",
    "Factor $A= LU$. Then solve $Ax = b$ using this decomposition.\n",
    "\n",
    "* Solve $LUx = b$ as follows\n",
    "  * Solve $Lz=b$ using forward substitution\n",
    "  * Solve $Ux = z$ using backward substition\n",
    "\n",
    "$L$ and $U$ systems are easier to solve than $A$ system. If you want to solve $Ax=b$ for one $A$ and many $b$ then you can save a lot of time.\n"
   ]
  },
  {
   "cell_type": "code",
   "execution_count": null,
   "id": "bdce4c1f-19cc-4787-9544-64ad6a791e70",
   "metadata": {},
   "outputs": [],
   "source": []
  }
 ],
 "metadata": {
  "kernelspec": {
   "display_name": "Julia 1.8.4",
   "language": "julia",
   "name": "julia-1.8"
  },
  "language_info": {
   "file_extension": ".jl",
   "mimetype": "application/julia",
   "name": "julia",
   "version": "1.8.5"
  }
 },
 "nbformat": 4,
 "nbformat_minor": 5
}
