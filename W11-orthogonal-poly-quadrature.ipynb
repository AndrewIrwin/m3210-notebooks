{
 "cells": [
  {
   "cell_type": "markdown",
   "id": "4816789e",
   "metadata": {},
   "source": [
    "## Gaussian Quadrature: Integration with orthogonal polynomials\n",
    "\n",
    "See: https://en.wikipedia.org/wiki/Gauss%E2%80%93Legendre_quadrature\n",
    "\n",
    "We approximate integrals as follows:\n",
    "\n",
    "$$\\int_a^b f(x)\\ dx \\approx \\sum_{k=0}^{n} w_k f(x_k).$$\n",
    "\n",
    "The nodes $x_k$ are the roots of the Legendre (or other orthogonal) polynomial.\n",
    "\n",
    "I'll use weights from the Wikipedia table. Later I'll show you how to compute them yourself.\n"
   ]
  },
  {
   "cell_type": "markdown",
   "id": "80b40d96-e5ba-48d4-8bb1-ecb231441f2a",
   "metadata": {},
   "source": [
    "### 2-point Gaussian Quadrature\n",
    "\n",
    "We want to weights $c_i$ and nodes $x_i$ that make this two point formula a good approximation to the integral\n",
    "\n",
    "$$\\int_{-1}^1 f(x)\\ dx = c_1f(x_1) + c_2 f(x_2).$$\n",
    "\n",
    "We anticipate that these 4 constants will allow us to compute the integral exactly for polynomials of degree 3 and lower. We write 4 equations in these four unknowns using the first 4 monomials.\n",
    "\n",
    "$$\\int_{-1}^1 1 \\ dx = 2 = c_1 + c_2$$\n",
    "$$\\int_{-1}^1 x \\ dx = 0 = c_1 x_1 + c_2 x_2$$\n",
    "$$\\int_{-1}^1 x^2 \\ dx = \\frac{2}{3} = c_1 x_1^2 + c_2 x_2^2$$\n",
    "$$\\int_{-1}^1 x^3 \\ dx = 0 = c_1 x_1^3 + c_2 x_2^3$$\n",
    "\n",
    "The solution is $c_1=c_2=1$ and $x_2 = -x_1 = \\frac{1}{\\sqrt{3}}$. The nodes are the roots of the first two Legendre polynomials and this relationship is true in general. (Proof in textbook.) This makes the system above linear."
   ]
  },
  {
   "cell_type": "code",
   "execution_count": 34,
   "id": "5783ee67",
   "metadata": {},
   "outputs": [],
   "source": [
    "using Polynomials\n",
    "using SpecialPolynomials"
   ]
  },
  {
   "cell_type": "code",
   "execution_count": 6,
   "id": "a25f4074",
   "metadata": {},
   "outputs": [
    {
     "data": {
      "text/plain": [
       "2-element Vector{ComplexF64}:\n",
       " -0.5773502691896257 + 0.0im\n",
       "  0.5773502691896257 + 0.0im"
      ]
     },
     "execution_count": 6,
     "metadata": {},
     "output_type": "execute_result"
    }
   ],
   "source": [
    "roots(basis.(Legendre,2))"
   ]
  },
  {
   "cell_type": "markdown",
   "id": "6f22c1b7",
   "metadata": {},
   "source": [
    "For $n=2$ the weights are 1 and the integral is computed over the interval $[-1,1]$."
   ]
  },
  {
   "cell_type": "code",
   "execution_count": 7,
   "id": "db3926f9",
   "metadata": {},
   "outputs": [
    {
     "data": {
      "text/plain": [
       "GL_quad_2 (generic function with 1 method)"
      ]
     },
     "execution_count": 7,
     "metadata": {},
     "output_type": "execute_result"
    }
   ],
   "source": [
    "GL_quad_2(f) = f(-0.5773502691896257) + f(0.5773502691896257)"
   ]
  },
  {
   "cell_type": "code",
   "execution_count": 63,
   "id": "3dff760e",
   "metadata": {},
   "outputs": [],
   "source": [
    "using QuadGK"
   ]
  },
  {
   "cell_type": "code",
   "execution_count": 11,
   "id": "dca43561",
   "metadata": {},
   "outputs": [
    {
     "data": {
      "text/plain": [
       "(1.6829419696157932, 1.9984014443252818e-15)"
      ]
     },
     "execution_count": 11,
     "metadata": {},
     "output_type": "execute_result"
    }
   ],
   "source": [
    "quadgk(cos, -1, 1)"
   ]
  },
  {
   "cell_type": "code",
   "execution_count": 12,
   "id": "a5a40b3e",
   "metadata": {},
   "outputs": [
    {
     "data": {
      "text/plain": [
       "1.6758236553899863"
      ]
     },
     "execution_count": 12,
     "metadata": {},
     "output_type": "execute_result"
    }
   ],
   "source": [
    "GL_quad_2(cos)"
   ]
  },
  {
   "cell_type": "code",
   "execution_count": 13,
   "id": "e8405933",
   "metadata": {},
   "outputs": [
    {
     "data": {
      "text/plain": [
       "(2.3504023872876028, 2.220446049250313e-15)"
      ]
     },
     "execution_count": 13,
     "metadata": {},
     "output_type": "execute_result"
    }
   ],
   "source": [
    "quadgk(exp, -1, 1)"
   ]
  },
  {
   "cell_type": "code",
   "execution_count": 14,
   "id": "2bbc9825",
   "metadata": {},
   "outputs": [
    {
     "data": {
      "text/plain": [
       "2.3426960879097307"
      ]
     },
     "execution_count": 14,
     "metadata": {},
     "output_type": "execute_result"
    }
   ],
   "source": [
    "GL_quad_2(exp)"
   ]
  },
  {
   "cell_type": "code",
   "execution_count": 16,
   "id": "f8065e84",
   "metadata": {},
   "outputs": [
    {
     "data": {
      "text/plain": [
       "2.6666666666666665"
      ]
     },
     "execution_count": 16,
     "metadata": {},
     "output_type": "execute_result"
    }
   ],
   "source": [
    "GL_quad_2(x -> 1 + x + x^2)  # x + x^2/2 + x^3 / 3, integral is 8/3, this result is exact"
   ]
  },
  {
   "cell_type": "markdown",
   "id": "899cef10-8b1c-46dd-8619-7fd0f5f0d216",
   "metadata": {},
   "source": [
    "## Computing coefficients in Gauss-Legendre quadrature\n",
    "\n",
    "One way to get the weights is to integrate the Lagrange interpolating polynomial (a polynomial with roots at the  Legendre nodes).\n",
    "\n",
    "$$w_i = \\int_{-1}^1 \\frac{P_n(x)}{\\prod_{k\\neq i}x_i - x_k}.$$"
   ]
  },
  {
   "cell_type": "code",
   "execution_count": 56,
   "id": "0fd2f852-4c45-4734-91c0-2670bd7d77ac",
   "metadata": {},
   "outputs": [
    {
     "name": "stdout",
     "output_type": "stream",
     "text": [
      "LegendreWeights(2) = [1.0, 1.0]\n",
      "LegendreWeights(3) = [0.5555555555555554, 0.8888888888888891, 0.5555555555555554]\n",
      "LegendreWeights(4) = [0.3478548451374539, 0.6521451548625463, 0.652145154862546, 0.347854845137454]\n"
     ]
    },
    {
     "data": {
      "text/plain": [
       "4-element Vector{Float64}:\n",
       " 0.3478548451374539\n",
       " 0.6521451548625463\n",
       " 0.652145154862546\n",
       " 0.347854845137454"
      ]
     },
     "execution_count": 56,
     "metadata": {},
     "output_type": "execute_result"
    }
   ],
   "source": [
    "LegendreCoefficient = function(i, n)\n",
    "    # ci from Theorem 4.7\n",
    "    r = real.(roots(basis.(Legendre, n)))\n",
    "    xi = r[i]\n",
    "    others = copy(r)  # Tricky -- I modify others below, so be sure it's different from roots\n",
    "    deleteat!(others, i)\n",
    "    p = fromroots(others) / prod(xi .- others)\n",
    "    integrate(p, -1, 1)\n",
    "end\n",
    "LegendreWeights(n) = [ LegendreCoefficient(i, n) for i in 1:n ]  \n",
    "@show LegendreWeights(2)\n",
    "@show LegendreWeights(3)\n",
    "@show LegendreWeights(4) # compare with Wikipedia table"
   ]
  },
  {
   "cell_type": "code",
   "execution_count": 57,
   "id": "a028b519-e9ef-4c4c-84cc-17ea1b9a54fd",
   "metadata": {},
   "outputs": [
    {
     "data": {
      "text/plain": [
       "G_quad (generic function with 1 method)"
      ]
     },
     "execution_count": 57,
     "metadata": {},
     "output_type": "execute_result"
    }
   ],
   "source": [
    "function G_quad(f,n) \n",
    "    r = real.(roots(basis.(Legendre, n)))\n",
    "    w = LegendreWeights(n)\n",
    "    w' * f.(r)\n",
    "end"
   ]
  },
  {
   "cell_type": "code",
   "execution_count": 58,
   "id": "8c29fed2-430f-4a75-8456-e8a834926c2e",
   "metadata": {},
   "outputs": [
    {
     "name": "stdout",
     "output_type": "stream",
     "text": [
      "G_quad(exp, 2) = 2.3426960879097307\n",
      "G_quad(exp, 6) = 2.350402387286037\n",
      "G_quad(exp, 10) = 2.350402387287624\n"
     ]
    }
   ],
   "source": [
    "@show G_quad(exp, 2)\n",
    "@show G_quad(exp, 6)\n",
    "@show G_quad(exp, 10);"
   ]
  },
  {
   "cell_type": "markdown",
   "id": "e50d21cc-c770-4916-a62c-7fe6b01e3245",
   "metadata": {},
   "source": [
    "To integrate over another interval, simply change variables."
   ]
  },
  {
   "cell_type": "code",
   "execution_count": 59,
   "id": "fd324464-f2b2-4126-be2f-65228dc8e9b3",
   "metadata": {},
   "outputs": [
    {
     "data": {
      "text/plain": [
       "#93 (generic function with 1 method)"
      ]
     },
     "execution_count": 59,
     "metadata": {},
     "output_type": "execute_result"
    }
   ],
   "source": [
    "gaussianQuadAB = function(f, a, b, n)\n",
    "   G_quad( t -> f(((b-a)*t + b + a )/2), n) * (b-a)/2\n",
    "end"
   ]
  },
  {
   "cell_type": "code",
   "execution_count": 65,
   "id": "3c76aeb3-76d0-4960-8c34-86ceef49cc86",
   "metadata": {},
   "outputs": [
    {
     "data": {
      "text/plain": [
       "(317.344246673829, (317.3442466738263, 1.7053025658242404e-13))"
      ]
     },
     "execution_count": 65,
     "metadata": {},
     "output_type": "execute_result"
    }
   ],
   "source": [
    "gaussianQuadAB( x -> x^6 - x^2*sin(2*x), 1, 3, 10), quadgk( x -> x^6 - x^2*sin(2*x), 1, 3, order=10)"
   ]
  },
  {
   "cell_type": "code",
   "execution_count": 92,
   "id": "c54a6c67-94a0-463e-83bf-556f51e5c622",
   "metadata": {},
   "outputs": [
    {
     "data": {
      "text/plain": [
       "-2.536069089336828e41"
      ]
     },
     "execution_count": 92,
     "metadata": {},
     "output_type": "execute_result"
    }
   ],
   "source": [
    "gaussianQuadAB( x -> x^6 - x^2*sin(2*x), 1, 3, 117)"
   ]
  },
  {
   "cell_type": "markdown",
   "id": "9af2b57a-ad6d-4175-a501-e21ec2df6580",
   "metadata": {},
   "source": [
    "### Textbook method\n",
    "\n",
    "The textbook solves the linear system to find the weights and uses a convenient formula for the roots of the Legendre polynomials (nodes)."
   ]
  },
  {
   "cell_type": "code",
   "execution_count": 37,
   "id": "32e04c7d-c630-4e56-9c6c-3263517031de",
   "metadata": {},
   "outputs": [
    {
     "data": {
      "text/plain": [
       "glint"
      ]
     },
     "execution_count": 37,
     "metadata": {},
     "output_type": "execute_result"
    }
   ],
   "source": [
    "using LinearAlgebra\n",
    "\"\"\"\n",
    "    glint(f,n)\n",
    "\n",
    "Perform Gauss-Legendre integration for the function `f` on `n` nodes\n",
    "in (-1,1). Returns the integral estimate and a vector of the nodes used.\n",
    "\"\"\"\n",
    "function glint(f,n)\n",
    "    # Nodes and weights are found via a tridiagonal eigenvalue problem.\n",
    "    β = @. 0.5/sqrt(1-(2*(1:n-1))^(-2))\n",
    "    T = diagm(-1=>β,1=>β)\n",
    "    λ,V = eigen(T)\n",
    "    p = sortperm(λ)\n",
    "    x = λ[p]               # nodes\n",
    "    c = @. 2V[1,p]^2       # weights\n",
    "\n",
    "    # Evaluate the integrand and compute the integral.\n",
    "    I = dot(c,f.(x))      # vector inner product\n",
    "    return I,x\n",
    "end"
   ]
  },
  {
   "cell_type": "code",
   "execution_count": 38,
   "id": "3e810e3a-fd6f-442f-9462-0a4cf76daaaf",
   "metadata": {},
   "outputs": [
    {
     "data": {
      "text/plain": [
       "(2.350402387287604, [-0.9739065285171705, -0.8650633666889841, -0.6794095682990241, -0.4333953941292462, -0.1488743389816315, 0.14887433898163216, 0.43339539412924755, 0.6794095682990245, 0.8650633666889843, 0.9739065285171716])"
      ]
     },
     "execution_count": 38,
     "metadata": {},
     "output_type": "execute_result"
    }
   ],
   "source": [
    "glint(exp, 10)"
   ]
  },
  {
   "cell_type": "markdown",
   "id": "bdbbd232-a8fe-4b9b-a2fa-4641fed628b2",
   "metadata": {},
   "source": [
    "### Other benchmarks\n",
    "\n",
    "Adaptive Simpson's rule (new implementation, less efficient, but easier to read)."
   ]
  },
  {
   "cell_type": "code",
   "execution_count": 66,
   "id": "16d8f4b6-346d-472e-8e60-9208927e94ee",
   "metadata": {},
   "outputs": [
    {
     "data": {
      "text/plain": [
       "317.3442466738266"
      ]
     },
     "execution_count": 66,
     "metadata": {},
     "output_type": "execute_result"
    }
   ],
   "source": [
    "function adaptive(f, a, b, maxN, tolerance)\n",
    "    simpsonElement(f, a, b) = (b-a)/6*(f(a) + 4*f((a+b)/2) + f(b))\n",
    "    Sab = simpsonElement(f, a, b)\n",
    "    Sab2 = simpsonElement(f, a, (a+b)/2) + simpsonElement(f, (a+b)/2, b) \n",
    "    error = abs(Sab - Sab2)\n",
    "    if error < 10*tolerance || maxN < 2\n",
    "        Sab2\n",
    "    else\n",
    "        adaptive(f, a, (a+b)/2, maxN-1, tolerance) + adaptive(f, (a+b)/2, b, maxN-1, tolerance)\n",
    "    end\n",
    "end\n",
    "adaptive( x -> x^6 - x^2*sin(2*x), 1, 3, 15, 1e-15)"
   ]
  },
  {
   "cell_type": "markdown",
   "id": "f9cb3230-a8fd-4835-89e7-899b9d87ab7a",
   "metadata": {},
   "source": [
    "The gauss function in QuadGK gives the nodes and weights we've been using."
   ]
  },
  {
   "cell_type": "code",
   "execution_count": 69,
   "id": "1738aa73-46bf-4ea1-8491-6272026f9ef2",
   "metadata": {},
   "outputs": [
    {
     "data": {
      "text/plain": [
       "([-0.5773502691896258, 0.5773502691896258], [0.9999999999999998, 0.9999999999999998])"
      ]
     },
     "execution_count": 69,
     "metadata": {},
     "output_type": "execute_result"
    }
   ],
   "source": [
    "gauss(2)"
   ]
  },
  {
   "cell_type": "markdown",
   "id": "7d049659-083c-4552-b31c-1f9715853ee3",
   "metadata": {},
   "source": [
    "Here is a simple minded approach to adaptive Gaussian quadrature. The error control is very approximate."
   ]
  },
  {
   "cell_type": "code",
   "execution_count": 72,
   "id": "b0b0c8fa-6594-4c8c-b0a7-dcf8324266ac",
   "metadata": {},
   "outputs": [
    {
     "data": {
      "text/plain": [
       "adaptiveQuad (generic function with 1 method)"
      ]
     },
     "execution_count": 72,
     "metadata": {},
     "output_type": "execute_result"
    }
   ],
   "source": [
    "function adaptiveQuad(f, a, b, n, maxN, tolerance)\n",
    "    Sab = gaussianQuadAB(f, a, b, n)\n",
    "    Sab2 = gaussianQuadAB(f, a, (a+b)/2, n) + gaussianQuadAB(f, (a+b)/2, b, n) \n",
    "    error = abs(Sab - Sab2)\n",
    "    if error < tolerance || maxN < 2 \n",
    "        Sab2 \n",
    "    else\n",
    "        adaptiveQuad(f, a, (a+b)/2, n, maxN-1, tolerance) + adaptiveQuad(f, (a+b)/2, b, n, maxN-1, tolerance)\n",
    "    end\n",
    "end"
   ]
  },
  {
   "cell_type": "code",
   "execution_count": 73,
   "id": "e8ea96d3-1580-4783-b136-27020d014545",
   "metadata": {},
   "outputs": [
    {
     "data": {
      "text/plain": [
       "317.3442466738263"
      ]
     },
     "execution_count": 73,
     "metadata": {},
     "output_type": "execute_result"
    }
   ],
   "source": [
    "adaptiveQuad( x -> x^6 - x^2*sin(2*x), 1, 3, 3, 15, 1e-15)"
   ]
  },
  {
   "cell_type": "code",
   "execution_count": 86,
   "id": "f9aadf77-35c3-4050-8466-84e059ab06fb",
   "metadata": {},
   "outputs": [
    {
     "data": {
      "text/plain": [
       "82104.40371976182"
      ]
     },
     "execution_count": 86,
     "metadata": {},
     "output_type": "execute_result"
    }
   ],
   "source": [
    "adaptiveQuad( x -> log(x), 1, 10_000, 3, 20, 1e-15)"
   ]
  },
  {
   "cell_type": "code",
   "execution_count": 83,
   "id": "f7c5f918-0631-4ae6-b042-5e0bae36bb56",
   "metadata": {},
   "outputs": [
    {
     "data": {
      "text/plain": [
       "(82104.40371975201, 0.00011569353589990783)"
      ]
     },
     "execution_count": 83,
     "metadata": {},
     "output_type": "execute_result"
    }
   ],
   "source": [
    "quadgk(x -> log(x), 1, 10_000)"
   ]
  },
  {
   "cell_type": "code",
   "execution_count": null,
   "id": "9db154fd-f570-45ac-8882-221b9ec595aa",
   "metadata": {},
   "outputs": [],
   "source": []
  }
 ],
 "metadata": {
  "kernelspec": {
   "display_name": "Julia 1.8.0",
   "language": "julia",
   "name": "julia-1.8"
  },
  "language_info": {
   "file_extension": ".jl",
   "mimetype": "application/julia",
   "name": "julia",
   "version": "1.8.0"
  }
 },
 "nbformat": 4,
 "nbformat_minor": 5
}
