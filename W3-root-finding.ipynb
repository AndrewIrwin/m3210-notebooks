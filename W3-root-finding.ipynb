{
 "cells": [
  {
   "cell_type": "markdown",
   "id": "0c1244b6-0fb5-477a-b06c-6b8189bfb923",
   "metadata": {},
   "source": [
    "## Root finding\n",
    "\n",
    "Start by analyzing the \"guess a number game\".\n",
    "\n",
    "I'm thinking of a number between 0 and 100. Try to find the number through a series of guesses?\n",
    "\n",
    "What information from me will help you get to the answer?"
   ]
  },
  {
   "cell_type": "markdown",
   "id": "e6ac4d26-65c5-4be3-94db-eff0dd6e38e2",
   "metadata": {},
   "source": [
    "## Algorithm development\n",
    "\n",
    "Write, in English, the steps to solve this problem. Also describe the input data (I'm a function that takes an input and gives an output.) What is the output of your algorithm?\n",
    "\n",
    "Translate the algorithm into Julia.\n",
    "\n",
    "Test your algorithm."
   ]
  },
  {
   "cell_type": "code",
   "execution_count": 8,
   "id": "34b176b5-cead-460a-a925-e5455d82ffe8",
   "metadata": {},
   "outputs": [
    {
     "data": {
      "text/plain": [
       "binary_search"
      ]
     },
     "execution_count": 8,
     "metadata": {},
     "output_type": "execute_result"
    }
   ],
   "source": [
    "\"\"\"\n",
    "binary_search function. Given a low and high limit of an interval and a scoring function,\n",
    "find an interval of width no more than 10^(-10) that contains the desired number.\n",
    "Test function, not complete yet.\n",
    "\"\"\"\n",
    "function binary_search(score_f, low, high)\n",
    "    found = false\n",
    "    mid = (low + high)/2\n",
    "    score = score_f(mid)\n",
    "    if score == 1\n",
    "        high = mid\n",
    "    elseif score == -1\n",
    "        low = mid\n",
    "    elseif score == 0\n",
    "        found = true\n",
    "    end\n",
    "    low, high, found\n",
    "end\n"
   ]
  },
  {
   "cell_type": "code",
   "execution_count": 5,
   "id": "8897bc2f",
   "metadata": {},
   "outputs": [
    {
     "data": {
      "text/plain": [
       "score_f (generic function with 1 method)"
      ]
     },
     "execution_count": 5,
     "metadata": {},
     "output_type": "execute_result"
    }
   ],
   "source": [
    "score_f(x) = sign(x^2 - 2000)"
   ]
  },
  {
   "cell_type": "code",
   "execution_count": 13,
   "id": "3c17c3e1",
   "metadata": {},
   "outputs": [
    {
     "data": {
      "text/plain": [
       "(43.75, 46.875, false)"
      ]
     },
     "execution_count": 13,
     "metadata": {},
     "output_type": "execute_result"
    }
   ],
   "source": [
    "binary_search(score_f, 43.75, 50)"
   ]
  },
  {
   "cell_type": "markdown",
   "id": "cb7be7fe",
   "metadata": {},
   "source": [
    "let's add the loop now."
   ]
  },
  {
   "cell_type": "code",
   "execution_count": 17,
   "id": "edf24926",
   "metadata": {},
   "outputs": [
    {
     "data": {
      "text/plain": [
       "binary_search (generic function with 1 method)"
      ]
     },
     "execution_count": 17,
     "metadata": {},
     "output_type": "execute_result"
    }
   ],
   "source": [
    "function binary_search(score_f, low, high)\n",
    "    found = false\n",
    "    for i in 1:40 \n",
    "      mid = (low + high)/2\n",
    "      score = score_f(mid)\n",
    "      if score == 1\n",
    "        high = mid\n",
    "      elseif score == -1\n",
    "        low = mid\n",
    "      elseif score == 0\n",
    "        found = true\n",
    "        end # end if\n",
    "    end # end loop\n",
    "    low, high, found\n",
    "end\n"
   ]
  },
  {
   "cell_type": "code",
   "execution_count": 18,
   "id": "63e71e6c",
   "metadata": {},
   "outputs": [
    {
     "data": {
      "text/plain": [
       "(44.72135954993064, 44.72135955002159, false)"
      ]
     },
     "execution_count": 18,
     "metadata": {},
     "output_type": "execute_result"
    }
   ],
   "source": [
    "binary_search(score_f, 0, 100)"
   ]
  },
  {
   "cell_type": "code",
   "execution_count": 19,
   "id": "9743163e",
   "metadata": {},
   "outputs": [
    {
     "data": {
      "text/plain": [
       "44.721359549995796"
      ]
     },
     "execution_count": 19,
     "metadata": {},
     "output_type": "execute_result"
    }
   ],
   "source": [
    "sqrt(2000)"
   ]
  },
  {
   "cell_type": "markdown",
   "id": "19e9ae20",
   "metadata": {},
   "source": [
    "Modify this code to work with a different scoring function. We will simply evaluate the function at the given point."
   ]
  },
  {
   "cell_type": "code",
   "execution_count": 3,
   "id": "83cc3bc7",
   "metadata": {},
   "outputs": [
    {
     "data": {
      "text/plain": [
       "score_f (generic function with 1 method)"
      ]
     },
     "execution_count": 3,
     "metadata": {},
     "output_type": "execute_result"
    }
   ],
   "source": [
    "score_f(x) = x^2 - 2000"
   ]
  },
  {
   "cell_type": "code",
   "execution_count": 21,
   "id": "30c884db",
   "metadata": {},
   "outputs": [
    {
     "data": {
      "text/plain": [
       "binary_search (generic function with 1 method)"
      ]
     },
     "execution_count": 21,
     "metadata": {},
     "output_type": "execute_result"
    }
   ],
   "source": [
    "function binary_search(score_f, low, high)\n",
    "    found = false\n",
    "    for i in 1:40 \n",
    "      mid = (low + high)/2\n",
    "      score = score_f(mid)\n",
    "      if score > 0 \n",
    "        high = mid\n",
    "      elseif score < 0\n",
    "        low = mid\n",
    "      elseif score == 0\n",
    "        found = true\n",
    "        end # end if\n",
    "    end # end loop\n",
    "    low, high, found\n",
    "end\n"
   ]
  },
  {
   "cell_type": "code",
   "execution_count": 22,
   "id": "8c99033c",
   "metadata": {},
   "outputs": [
    {
     "data": {
      "text/plain": [
       "(44.72135954993064, 44.72135955002159, false)"
      ]
     },
     "execution_count": 22,
     "metadata": {},
     "output_type": "execute_result"
    }
   ],
   "source": [
    "binary_search(score_f, 0, 100)"
   ]
  },
  {
   "cell_type": "markdown",
   "id": "270fc69e",
   "metadata": {},
   "source": [
    "Try the secant approximation"
   ]
  },
  {
   "cell_type": "code",
   "execution_count": 2,
   "id": "fc10affb",
   "metadata": {},
   "outputs": [
    {
     "data": {
      "text/plain": [
       "binary_search (generic function with 1 method)"
      ]
     },
     "execution_count": 2,
     "metadata": {},
     "output_type": "execute_result"
    }
   ],
   "source": [
    "function binary_search(score_f, low, high)\n",
    "    found = false\n",
    "    for i in 1:40 \n",
    "      slope = (score_f(high) - score_f(low))/(high-low)\n",
    "      mid = low - score_f(low) / slope\n",
    "      score = score_f(mid)\n",
    "      if score > 0 \n",
    "        high = mid\n",
    "      elseif score < 0\n",
    "        low = mid\n",
    "      elseif abs(score) < 1e-14\n",
    "        found = true\n",
    "      end # end if\n",
    "      if found\n",
    "        break\n",
    "      end\n",
    "    end # end loop\n",
    "    low, high, found\n",
    "end\n"
   ]
  },
  {
   "cell_type": "code",
   "execution_count": 4,
   "id": "7f58fae3",
   "metadata": {},
   "outputs": [
    {
     "data": {
      "text/plain": [
       "(44.72135954999579, 100, false)"
      ]
     },
     "execution_count": 4,
     "metadata": {},
     "output_type": "execute_result"
    }
   ],
   "source": [
    "binary_search(score_f, 0, 100)"
   ]
  },
  {
   "cell_type": "markdown",
   "id": "a77e060d-7f4b-4a89-b5bf-9a0d12dbb165",
   "metadata": {},
   "source": [
    "Notice a few things.\n",
    "\n",
    "* the upper limit never changed (think: why?)\n",
    "* I get more accurate decimal places than with the previous algorithms\n",
    "* I bet I can stop earlier. I've added a test to do that which we didn't develop in class"
   ]
  },
  {
   "cell_type": "code",
   "execution_count": null,
   "id": "d6c3683c-7ac1-4dc0-8923-ba92ce18fc40",
   "metadata": {},
   "outputs": [],
   "source": []
  }
 ],
 "metadata": {
  "kernelspec": {
   "display_name": "Julia 1.8.4",
   "language": "julia",
   "name": "julia-1.8"
  },
  "language_info": {
   "file_extension": ".jl",
   "mimetype": "application/julia",
   "name": "julia",
   "version": "1.8.5"
  }
 },
 "nbformat": 4,
 "nbformat_minor": 5
}
