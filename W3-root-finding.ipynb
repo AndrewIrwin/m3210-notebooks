{
 "cells": [
  {
   "cell_type": "markdown",
   "id": "0c1244b6-0fb5-477a-b06c-6b8189bfb923",
   "metadata": {},
   "source": [
    "## Root finding\n",
    "\n",
    "Start by analyzing the \"guess a number game\".\n",
    "\n",
    "I'm thinking of a number between 0 and 100. Try to find the number through a series of guesses?\n",
    "\n",
    "What information from me will help you get to the answer?"
   ]
  },
  {
   "cell_type": "markdown",
   "id": "e6ac4d26-65c5-4be3-94db-eff0dd6e38e2",
   "metadata": {},
   "source": [
    "## Algorithm development\n",
    "\n",
    "Write, in English, the steps to solve this problem. Also describe the input data (I'm a function that takes an input and gives an output.) What is the output of your algorithm?\n",
    "\n",
    "Translate the algorithm into Julia.\n",
    "\n",
    "Test your algorithm."
   ]
  },
  {
   "cell_type": "code",
   "execution_count": null,
   "id": "34b176b5-cead-460a-a925-e5455d82ffe8",
   "metadata": {},
   "outputs": [],
   "source": []
  }
 ],
 "metadata": {
  "kernelspec": {
   "display_name": "Julia 1.8.0",
   "language": "julia",
   "name": "julia-1.8"
  },
  "language_info": {
   "file_extension": ".jl",
   "mimetype": "application/julia",
   "name": "julia",
   "version": "1.8.0"
  }
 },
 "nbformat": 4,
 "nbformat_minor": 5
}
