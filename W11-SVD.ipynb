{
 "cells": [
  {
   "cell_type": "markdown",
   "id": "401f84d5-c0bf-4ddf-8c70-adab749b0f57",
   "metadata": {},
   "source": [
    "## Singular value decomposition\n",
    "\n",
    "Section 7.3.\n",
    "\n",
    "The singular value decomposition (SVD) of a matrix has many applications ([math exchange discussion](https://mathoverflow.net/questions/408504/listing-applications-of-the-svd), [Daniela Witten's enthusiasm](https://twitter.com/WomenInStat/status/1285610321747611653?s=20)) including [PCA](https://en.wikipedia.org/wiki/Principal_component_analysis) and image compression.\n",
    "\n",
    "If $A$ is $m$ x $n$ then the SVD is $A = USV^*$ where $U$ and $V$ are unitary (conjugate transpose is inverse) and $S$ is real, diagonal and has non-negative elements. The singular values (diagonal of $S$) are unique, but the unitary matrices are not unique. If $A$ is real, then real matrices $U$ and $V$ can be found.\n",
    "\n",
    "The non-zero eigenvalues of $A^*A$ are the squares of the singular values of $A$.\n",
    "\n",
    "If $A$ has more rows than columns ($m>n$) there is a thin form of the SVD (just like there was a thin form of the QR decomposition). Drop the rows $n+1$ to $m$ of $S$ and columns $n+1$ to $m$ of $U$.\n"
   ]
  },
  {
   "cell_type": "markdown",
   "id": "cacb52f7-4420-43a7-8333-508082a849c8",
   "metadata": {},
   "source": [
    "The singular values give the condition number and norm of a matrix."
   ]
  },
  {
   "cell_type": "code",
   "execution_count": 1,
   "id": "7dd1f25f-bee6-4d35-a70f-58d29db68b6d",
   "metadata": {},
   "outputs": [
    {
     "data": {
      "text/plain": [
       "5×5 Matrix{Float64}:\n",
       " 0.333333  0.25      0.2       0.166667  0.142857\n",
       " 0.25      0.2       0.166667  0.142857  0.125\n",
       " 0.2       0.166667  0.142857  0.125     0.111111\n",
       " 0.166667  0.142857  0.125     0.111111  0.1\n",
       " 0.142857  0.125     0.111111  0.1       0.0909091"
      ]
     },
     "execution_count": 1,
     "metadata": {},
     "output_type": "execute_result"
    }
   ],
   "source": [
    "using LinearAlgebra\n",
    "A1 = rand(5,5)\n",
    "A2 = [ 1/(1+i+j) for i in 1:5, j in 1:5]"
   ]
  },
  {
   "cell_type": "code",
   "execution_count": 2,
   "id": "cdec7d39-8108-4a1d-afdc-3480d672c09c",
   "metadata": {},
   "outputs": [
    {
     "data": {
      "text/plain": [
       "5-element Vector{Float64}:\n",
       " 2.9962920210457997\n",
       " 0.6531094118638961\n",
       " 0.33779315518086883\n",
       " 0.24018203506190822\n",
       " 0.028983168282321586"
      ]
     },
     "execution_count": 2,
     "metadata": {},
     "output_type": "execute_result"
    }
   ],
   "source": [
    "A1_singular = svdvals(A1)"
   ]
  },
  {
   "cell_type": "code",
   "execution_count": 3,
   "id": "4794312a-eafc-4fe8-a7ea-d605916b1611",
   "metadata": {},
   "outputs": [
    {
     "data": {
      "text/plain": [
       "(2.9962920210457997, 2.9962920210457997)"
      ]
     },
     "execution_count": 3,
     "metadata": {},
     "output_type": "execute_result"
    }
   ],
   "source": [
    "opnorm(A1, 2), A1_singular[1]"
   ]
  },
  {
   "cell_type": "code",
   "execution_count": 4,
   "id": "54c473b5-8aa9-4384-ab1c-abddfbc7010e",
   "metadata": {},
   "outputs": [
    {
     "data": {
      "text/plain": [
       "(103.38041693231314, 103.38041693231314)"
      ]
     },
     "execution_count": 4,
     "metadata": {},
     "output_type": "execute_result"
    }
   ],
   "source": [
    "cond(A1), A1_singular[1]/A1_singular[end]"
   ]
  },
  {
   "cell_type": "code",
   "execution_count": 5,
   "id": "1fbfde9b-b7b4-4cd4-a358-0704d70c4176",
   "metadata": {},
   "outputs": [
    {
     "data": {
      "text/plain": [
       "5-element Vector{Float64}:\n",
       " 0.8337897940953767\n",
       " 0.043097883778114174\n",
       " 0.0012998242525619358\n",
       " 2.2996195373489706e-5\n",
       " 1.7988925196852449e-7"
      ]
     },
     "execution_count": 5,
     "metadata": {},
     "output_type": "execute_result"
    }
   ],
   "source": [
    "svdvals(A2)"
   ]
  },
  {
   "cell_type": "markdown",
   "id": "c52f82fb",
   "metadata": {},
   "source": [
    "## Comparison with eigendecomposition for square symmetric matrices\n",
    "\n",
    "Why SVD instead of EVD (eigenvalues)? \n",
    "\n",
    "* You can find the SVD of any matrix (eigenvalues only exist for square matrices and there are degenerate cases).\n",
    "* For a square, symmetric $A$, you can write $A = X^TX$ and then the singular vectors of $X$ are the eigenvectors of $A$ and the singular values of $X$ are the squareroot of the eigenvalues of $A$.\n",
    "\n",
    "There are a few ways to compute the SVD, one of which is to use the QR iteration we discussed to find eigenvalues, right and left eigenvalues. We won't discuss methods to compute the SVD in detail."
   ]
  },
  {
   "cell_type": "code",
   "execution_count": 34,
   "id": "96e142ff",
   "metadata": {
    "scrolled": true
   },
   "outputs": [
    {
     "data": {
      "text/plain": [
       "5×5 Matrix{Float64}:\n",
       " 0.971045  1.17895  0.714493  0.834131  1.04067\n",
       " 1.17895   1.67342  1.06181   1.40359   1.25921\n",
       " 0.714493  1.06181  1.10639   1.30825   0.876628\n",
       " 0.834131  1.40359  1.30825   2.1499    1.4084\n",
       " 1.04067   1.25921  0.876628  1.4084    1.54311"
      ]
     },
     "execution_count": 34,
     "metadata": {},
     "output_type": "execute_result"
    }
   ],
   "source": [
    "X = rand(5,5)\n",
    "A = X' * X  # This matrix is commonly formed when solving overdetermined linear systems (regression)"
   ]
  },
  {
   "cell_type": "code",
   "execution_count": 35,
   "id": "bce2f9db",
   "metadata": {},
   "outputs": [
    {
     "data": {
      "text/plain": [
       "5×5 adjoint(::Matrix{Float64}) with eltype Float64:\n",
       " -0.347307  -0.539419   0.0705615   0.188082   0.740305\n",
       " -0.487632  -0.366255   0.431501   -0.529163  -0.402326\n",
       " -0.377367   0.273874   0.486407    0.710123  -0.204257\n",
       " -0.539087   0.672354  -0.147755   -0.347      0.339242\n",
       " -0.456698  -0.218672  -0.741893    0.244802  -0.365071"
      ]
     },
     "execution_count": 35,
     "metadata": {},
     "output_type": "execute_result"
    }
   ],
   "source": [
    "svd(X).V "
   ]
  },
  {
   "cell_type": "code",
   "execution_count": 36,
   "id": "9924bf14",
   "metadata": {},
   "outputs": [
    {
     "data": {
      "text/plain": [
       "5×5 Matrix{Float64}:\n",
       "  0.740305   0.188082  -0.0705615   0.539419  -0.347307\n",
       " -0.402326  -0.529163  -0.431501    0.366255  -0.487632\n",
       " -0.204257   0.710123  -0.486407   -0.273874  -0.377367\n",
       "  0.339242  -0.347      0.147755   -0.672354  -0.539087\n",
       " -0.365071   0.244802   0.741893    0.218672  -0.456698"
      ]
     },
     "execution_count": 36,
     "metadata": {},
     "output_type": "execute_result"
    }
   ],
   "source": [
    "eigen(A).vectors"
   ]
  },
  {
   "cell_type": "code",
   "execution_count": 37,
   "id": "88923f64",
   "metadata": {},
   "outputs": [
    {
     "data": {
      "text/plain": [
       "5-element Vector{Float64}:\n",
       " 6.065847090946369\n",
       " 0.7909428762686467\n",
       " 0.41750626805555163\n",
       " 0.16732686158052362\n",
       " 0.002242589936189289"
      ]
     },
     "execution_count": 37,
     "metadata": {},
     "output_type": "execute_result"
    }
   ],
   "source": [
    "svd(X).S .^ 2"
   ]
  },
  {
   "cell_type": "code",
   "execution_count": 38,
   "id": "e3a2b546",
   "metadata": {},
   "outputs": [
    {
     "data": {
      "text/plain": [
       "5-element Vector{Float64}:\n",
       " 0.0022425899361888497\n",
       " 0.16732686158052318\n",
       " 0.4175062680555508\n",
       " 0.7909428762686445\n",
       " 6.065847090946368"
      ]
     },
     "execution_count": 38,
     "metadata": {},
     "output_type": "execute_result"
    }
   ],
   "source": [
    "eigen(A).values"
   ]
  },
  {
   "cell_type": "markdown",
   "id": "aeb35adc-5d80-4e01-b17d-3a9f70468908",
   "metadata": {},
   "source": [
    "## Dimension reduction\n",
    "\n",
    "Section 7.5.\n",
    "\n",
    "The SVD can be used to reconstruct approximations to a matrix using less information. We select the columns and rows of $U$ and $V$ that correspond to the largest singular values.\n",
    "\n",
    "Define $A_k = \\sum_{i=1}^k \\sigma_iu_iv_i^*$. This is commonly written as $U_kS_kV_k^*$ where the $k$ subscript means to take the first k columns and rows of $U$ and $V$ and upper-left square part of $S$."
   ]
  },
  {
   "cell_type": "code",
   "execution_count": 11,
   "id": "bfb32770-11b2-4112-a69c-16a303b479f4",
   "metadata": {},
   "outputs": [
    {
     "data": {
      "text/plain": [
       "my_svd_approx (generic function with 1 method)"
      ]
     },
     "execution_count": 11,
     "metadata": {},
     "output_type": "execute_result"
    }
   ],
   "source": [
    "function my_svd_approx(A, k)\n",
    "    U,σ,V = svd(A) \n",
    "    Ak = U[:,1:k]*diagm(σ[1:k])*V[:,1:k]'\n",
    "end"
   ]
  },
  {
   "cell_type": "markdown",
   "id": "6e3b3133-5040-4d5f-afa5-050c51c99a30",
   "metadata": {},
   "source": [
    "Get a couple of images:"
   ]
  },
  {
   "cell_type": "code",
   "execution_count": 12,
   "id": "805d43ef-cd26-4b49-9a70-31f74ad53cd7",
   "metadata": {},
   "outputs": [
    {
     "name": "stderr",
     "output_type": "stream",
     "text": [
      "\u001b[33m\u001b[1m┌ \u001b[22m\u001b[39m\u001b[33m\u001b[1mWarning: \u001b[22m\u001b[39mReading one byte at a time from HTTP.Stream is inefficient.\n",
      "\u001b[33m\u001b[1m│ \u001b[22m\u001b[39mUse: io = BufferedInputStream(http::HTTP.Stream) instead.\n",
      "\u001b[33m\u001b[1m│ \u001b[22m\u001b[39mSee: https://github.com/BioJulia/BufferedStreams.jl\n",
      "\u001b[33m\u001b[1m└ \u001b[22m\u001b[39m\u001b[90m@ HTTP.Streams ~/.julia/packages/HTTP/RxlHW/src/Streams.jl:240\u001b[39m\n"
     ]
    },
    {
     "data": {
      "text/plain": [
       "\"/var/folders/f9/hrk12n5x4cggf82gcnlx23bm0000gn/T/jl_yBY5q3Sri7\""
      ]
     },
     "execution_count": 12,
     "metadata": {},
     "output_type": "execute_result"
    }
   ],
   "source": [
    "using Images, FileIO, HTTP\n",
    "t = tempname()\n",
    "image_path = \"https://cdn.dal.ca/faculty/science/math-stats/_jcr_content/contentPar/featureslider/featureSlider/featureslide_50828652/image.adaptive.320.high.jpg/1533923288644.jpg\"\n",
    "HTTP.download(image_path, t, update_period = Inf)\n"
   ]
  },
  {
   "cell_type": "code",
   "execution_count": 13,
   "id": "e77ab2b6-fb7f-486e-94c8-0cedf0f46d24",
   "metadata": {},
   "outputs": [
    {
     "data": {
      "image/png": "[encoded data removed]",
      "text/html": [
       "<img src=\"data:image/png;base64,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\">"
      ],
      "text/plain": [
       "193×320 Array{Gray{Float32},2} with eltype Gray{Float32}:\n",
       " Gray{Float32}(0.788235)   …  Gray{Float32}(0.776471)\n",
       " Gray{Float32}(0.8)           Gray{Float32}(0.776471)\n",
       " Gray{Float32}(0.780392)      Gray{Float32}(0.772549)\n",
       " Gray{Float32}(0.788235)      Gray{Float32}(0.776471)\n",
       " Gray{Float32}(0.8)           Gray{Float32}(0.776471)\n",
       " Gray{Float32}(0.776471)   …  Gray{Float32}(0.776471)\n",
       " Gray{Float32}(0.72549)       Gray{Float32}(0.776471)\n",
       " Gray{Float32}(0.643137)      Gray{Float32}(0.776471)\n",
       " Gray{Float32}(0.498039)      Gray{Float32}(0.776471)\n",
       " Gray{Float32}(0.407843)      Gray{Float32}(0.784314)\n",
       " Gray{Float32}(0.396078)   …  Gray{Float32}(0.784314)\n",
       " Gray{Float32}(0.643137)      Gray{Float32}(0.780392)\n",
       " Gray{Float32}(0.737255)      Gray{Float32}(0.776471)\n",
       " ⋮                         ⋱  \n",
       " Gray{Float32}(0.0862745)     Gray{Float32}(0.341176)\n",
       " Gray{Float32}(0.0862745)     Gray{Float32}(0.403922)\n",
       " Gray{Float32}(0.0666667)     Gray{Float32}(0.376471)\n",
       " Gray{Float32}(0.109804)      Gray{Float32}(0.419608)\n",
       " Gray{Float32}(0.109804)   …  Gray{Float32}(0.45098)\n",
       " Gray{Float32}(0.109804)      Gray{Float32}(0.388235)\n",
       " Gray{Float32}(0.117647)      Gray{Float32}(0.321569)\n",
       " Gray{Float32}(0.105882)      Gray{Float32}(0.360784)\n",
       " Gray{Float32}(0.101961)      Gray{Float32}(0.333333)\n",
       " Gray{Float32}(0.235294)   …  Gray{Float32}(0.337255)\n",
       " Gray{Float32}(0.160784)      Gray{Float32}(0.329412)\n",
       " Gray{Float32}(0.105882)      Gray{Float32}(0.407843)"
      ]
     },
     "execution_count": 13,
     "metadata": {},
     "output_type": "execute_result"
    }
   ],
   "source": [
    "img = load(t)\n",
    "Chase = @. Float32(Gray(img))\n",
    "Gray.(Chase)"
   ]
  },
  {
   "cell_type": "code",
   "execution_count": 14,
   "id": "323b30b5-e5b5-42ca-9b24-43b0149dee9e",
   "metadata": {},
   "outputs": [
    {
     "data": {
      "image/png": "[encoded data removed]",
      "text/html": [
       "<img src=\"data:image/png;base64,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\">"
      ],
      "text/plain": [
       "150×400 Array{Gray{Float32},2} with eltype Gray{Float32}:\n",
       " Gray{Float32}(1.0)  Gray{Float32}(1.0)  …  Gray{Float32}(1.0)\n",
       " Gray{Float32}(1.0)  Gray{Float32}(1.0)     Gray{Float32}(1.0)\n",
       " Gray{Float32}(1.0)  Gray{Float32}(1.0)     Gray{Float32}(1.0)\n",
       " Gray{Float32}(1.0)  Gray{Float32}(1.0)     Gray{Float32}(1.0)\n",
       " Gray{Float32}(1.0)  Gray{Float32}(1.0)     Gray{Float32}(1.0)\n",
       " Gray{Float32}(1.0)  Gray{Float32}(1.0)  …  Gray{Float32}(1.0)\n",
       " Gray{Float32}(1.0)  Gray{Float32}(1.0)     Gray{Float32}(1.0)\n",
       " Gray{Float32}(1.0)  Gray{Float32}(1.0)     Gray{Float32}(1.0)\n",
       " Gray{Float32}(1.0)  Gray{Float32}(1.0)     Gray{Float32}(1.0)\n",
       " Gray{Float32}(1.0)  Gray{Float32}(1.0)     Gray{Float32}(1.0)\n",
       " Gray{Float32}(1.0)  Gray{Float32}(1.0)  …  Gray{Float32}(1.0)\n",
       " Gray{Float32}(1.0)  Gray{Float32}(1.0)     Gray{Float32}(1.0)\n",
       " Gray{Float32}(1.0)  Gray{Float32}(1.0)     Gray{Float32}(1.0)\n",
       " ⋮                                       ⋱  \n",
       " Gray{Float32}(1.0)  Gray{Float32}(1.0)     Gray{Float32}(1.0)\n",
       " Gray{Float32}(1.0)  Gray{Float32}(1.0)     Gray{Float32}(1.0)\n",
       " Gray{Float32}(1.0)  Gray{Float32}(1.0)  …  Gray{Float32}(1.0)\n",
       " Gray{Float32}(1.0)  Gray{Float32}(1.0)     Gray{Float32}(1.0)\n",
       " Gray{Float32}(1.0)  Gray{Float32}(1.0)     Gray{Float32}(1.0)\n",
       " Gray{Float32}(1.0)  Gray{Float32}(1.0)     Gray{Float32}(1.0)\n",
       " Gray{Float32}(1.0)  Gray{Float32}(1.0)     Gray{Float32}(1.0)\n",
       " Gray{Float32}(1.0)  Gray{Float32}(1.0)  …  Gray{Float32}(1.0)\n",
       " Gray{Float32}(1.0)  Gray{Float32}(1.0)     Gray{Float32}(1.0)\n",
       " Gray{Float32}(1.0)  Gray{Float32}(1.0)     Gray{Float32}(1.0)\n",
       " Gray{Float32}(1.0)  Gray{Float32}(1.0)     Gray{Float32}(1.0)\n",
       " Gray{Float32}(1.0)  Gray{Float32}(1.0)     Gray{Float32}(1.0)"
      ]
     },
     "execution_count": 14,
     "metadata": {},
     "output_type": "execute_result"
    }
   ],
   "source": [
    "using Plots\n",
    "plot(annotations=(0.5,0.5, text(\"Hello world\", 44, :center, :middle)),\n",
    "    grid=:none, frame=:none, size=(400,150))\n",
    "savefig(\"hello.png\")\n",
    "img = load(\"hello.png\")\n",
    "HW = @. Float32(Gray(img))\n",
    "Gray.(HW)"
   ]
  },
  {
   "cell_type": "code",
   "execution_count": 15,
   "id": "1d58d2ad-d11c-432f-9c70-3942989c90d8",
   "metadata": {},
   "outputs": [
    {
     "data": {
      "text/plain": [
       "(150, 400)"
      ]
     },
     "execution_count": 15,
     "metadata": {},
     "output_type": "execute_result"
    }
   ],
   "source": [
    "size(HW)"
   ]
  },
  {
   "cell_type": "code",
   "execution_count": 16,
   "id": "16670f5b-802b-4127-8a13-db119e4377b2",
   "metadata": {},
   "outputs": [
    {
     "data": {
      "image/svg+xml": [
       "<?xml version=\"1.0\" encoding=\"utf-8\"?>\n",
       "<svg xmlns=\"http://www.w3.org/2000/svg\" xmlns:xlink=\"http://www.w3.org/1999/xlink\" width=\"600\" height=\"400\" viewBox=\"0 0 2400 1600\">\n",
       "<defs>\n",
       "  <clipPath id=\"clip260\">\n",
       "    <rect x=\"0\" y=\"0\" width=\"2400\" height=\"1600\"/>\n",
       "  </clipPath>\n",
       "</defs>\n",
       "<path clip-path=\"url(#clip260)\" d=\"\n",
       "M0 1600 L2400 1600 L2400 0 L0 0  Z\n",
       "  \" fill=\"#ffffff\" fill-rule=\"evenodd\" fill-opacity=\"1\"/>\n",
       "<defs>\n",
       "  <clipPath id=\"clip261\">\n",
       "    <rect x=\"480\" y=\"0\" width=\"1681\" height=\"1600\"/>\n",
       "  </clipPath>\n",
       "</defs>\n",
       "<path clip-path=\"url(#clip260)\" d=\"\n",
       "M170.857 1486.45 L2352.76 1486.45 L2352.76 47.2441 L170.857 47.2441  Z\n",
       "  \" fill=\"#ffffff\" fill-rule=\"evenodd\" fill-opacity=\"1\"/>\n",
       "<defs>\n",
       "  <clipPath id=\"clip262\">\n",
       "    <rect x=\"170\" y=\"47\" width=\"2183\" height=\"1440\"/>\n",
       "  </clipPath>\n",
       "</defs>\n",
       "<polyline clip-path=\"url(#clip262)\" style=\"stroke:#000000; stroke-linecap:round; stroke-linejoin:round; stroke-width:2; stroke-opacity:0.1; fill:none\" points=\"\n",
       "  218.795,1486.45 218.795,47.2441 \n",
       "  \"/>\n",
       "<polyline clip-path=\"url(#clip262)\" style=\"stroke:#000000; stroke-linecap:round; stroke-linejoin:round; stroke-width:2; stroke-opacity:0.1; fill:none\" points=\"\n",
       "  909.531,1486.45 909.531,47.2441 \n",
       "  \"/>\n",
       "<polyline clip-path=\"url(#clip262)\" style=\"stroke:#000000; stroke-linecap:round; stroke-linejoin:round; stroke-width:2; stroke-opacity:0.1; fill:none\" points=\"\n",
       "  1600.27,1486.45 1600.27,47.2441 \n",
       "  \"/>\n",
       "<polyline clip-path=\"url(#clip262)\" style=\"stroke:#000000; stroke-linecap:round; stroke-linejoin:round; stroke-width:2; stroke-opacity:0.1; fill:none\" points=\"\n",
       "  2291,1486.45 2291,47.2441 \n",
       "  \"/>\n",
       "<polyline clip-path=\"url(#clip260)\" style=\"stroke:#000000; stroke-linecap:round; stroke-linejoin:round; stroke-width:4; stroke-opacity:1; fill:none\" points=\"\n",
       "  170.857,1486.45 2352.76,1486.45 \n",
       "  \"/>\n",
       "<polyline clip-path=\"url(#clip260)\" style=\"stroke:#000000; stroke-linecap:round; stroke-linejoin:round; stroke-width:4; stroke-opacity:1; fill:none\" points=\"\n",
       "  218.795,1486.45 218.795,1467.55 \n",
       "  \"/>\n",
       "<polyline clip-path=\"url(#clip260)\" style=\"stroke:#000000; stroke-linecap:round; stroke-linejoin:round; stroke-width:4; stroke-opacity:1; fill:none\" points=\"\n",
       "  909.531,1486.45 909.531,1467.55 \n",
       "  \"/>\n",
       "<polyline clip-path=\"url(#clip260)\" style=\"stroke:#000000; stroke-linecap:round; stroke-linejoin:round; stroke-width:4; stroke-opacity:1; fill:none\" points=\"\n",
       "  1600.27,1486.45 1600.27,1467.55 \n",
       "  \"/>\n",
       "<polyline clip-path=\"url(#clip260)\" style=\"stroke:#000000; stroke-linecap:round; stroke-linejoin:round; stroke-width:4; stroke-opacity:1; fill:none\" points=\"\n",
       "  2291,1486.45 2291,1467.55 \n",
       "  \"/>\n",
       "<path clip-path=\"url(#clip260)\" d=\"M218.795 1517.37 Q215.183 1517.37 213.355 1520.93 Q211.549 1524.47 211.549 1531.6 Q211.549 1538.71 213.355 1542.27 Q215.183 1545.82 218.795 1545.82 Q222.429 1545.82 224.234 1542.27 Q226.063 1538.71 226.063 1531.6 Q226.063 1524.47 224.234 1520.93 Q222.429 1517.37 218.795 1517.37 M218.795 1513.66 Q224.605 1513.66 227.66 1518.27 Q230.739 1522.85 230.739 1531.6 Q230.739 1540.33 227.66 1544.94 Q224.605 1549.52 218.795 1549.52 Q212.984 1549.52 209.906 1544.94 Q206.85 1540.33 206.85 1531.6 Q206.85 1522.85 209.906 1518.27 Q212.984 1513.66 218.795 1513.66 Z\" fill=\"#000000\" fill-rule=\"evenodd\" fill-opacity=\"1\" /><path clip-path=\"url(#clip260)\" d=\"M884.23 1514.29 L902.587 1514.29 L902.587 1518.22 L888.513 1518.22 L888.513 1526.7 Q889.531 1526.35 890.55 1526.19 Q891.568 1526 892.587 1526 Q898.374 1526 901.753 1529.17 Q905.133 1532.34 905.133 1537.76 Q905.133 1543.34 901.661 1546.44 Q898.189 1549.52 891.869 1549.52 Q889.693 1549.52 887.425 1549.15 Q885.179 1548.78 882.772 1548.04 L882.772 1543.34 Q884.855 1544.47 887.077 1545.03 Q889.3 1545.58 891.777 1545.58 Q895.781 1545.58 898.119 1543.48 Q900.457 1541.37 900.457 1537.76 Q900.457 1534.15 898.119 1532.04 Q895.781 1529.94 891.777 1529.94 Q889.902 1529.94 888.027 1530.35 Q886.175 1530.77 884.23 1531.65 L884.23 1514.29 Z\" fill=\"#000000\" fill-rule=\"evenodd\" fill-opacity=\"1\" /><path clip-path=\"url(#clip260)\" d=\"M924.346 1517.37 Q920.735 1517.37 918.906 1520.93 Q917.1 1524.47 917.1 1531.6 Q917.1 1538.71 918.906 1542.27 Q920.735 1545.82 924.346 1545.82 Q927.98 1545.82 929.786 1542.27 Q931.614 1538.71 931.614 1531.6 Q931.614 1524.47 929.786 1520.93 Q927.98 1517.37 924.346 1517.37 M924.346 1513.66 Q930.156 1513.66 933.211 1518.27 Q936.29 1522.85 936.29 1531.6 Q936.29 1540.33 933.211 1544.94 Q930.156 1549.52 924.346 1549.52 Q918.536 1549.52 915.457 1544.94 Q912.401 1540.33 912.401 1531.6 Q912.401 1522.85 915.457 1518.27 Q918.536 1513.66 924.346 1513.66 Z\" fill=\"#000000\" fill-rule=\"evenodd\" fill-opacity=\"1\" /><path clip-path=\"url(#clip260)\" d=\"M1559.87 1544.91 L1567.51 1544.91 L1567.51 1518.55 L1559.2 1520.21 L1559.2 1515.95 L1567.47 1514.29 L1572.14 1514.29 L1572.14 1544.91 L1579.78 1544.91 L1579.78 1548.85 L1559.87 1548.85 L1559.87 1544.91 Z\" fill=\"#000000\" fill-rule=\"evenodd\" fill-opacity=\"1\" /><path clip-path=\"url(#clip260)\" d=\"M1599.23 1517.37 Q1595.61 1517.37 1593.79 1520.93 Q1591.98 1524.47 1591.98 1531.6 Q1591.98 1538.71 1593.79 1542.27 Q1595.61 1545.82 1599.23 1545.82 Q1602.86 1545.82 1604.67 1542.27 Q1606.49 1538.71 1606.49 1531.6 Q1606.49 1524.47 1604.67 1520.93 Q1602.86 1517.37 1599.23 1517.37 M1599.23 1513.66 Q1605.04 1513.66 1608.09 1518.27 Q1611.17 1522.85 1611.17 1531.6 Q1611.17 1540.33 1608.09 1544.94 Q1605.04 1549.52 1599.23 1549.52 Q1593.42 1549.52 1590.34 1544.94 Q1587.28 1540.33 1587.28 1531.6 Q1587.28 1522.85 1590.34 1518.27 Q1593.42 1513.66 1599.23 1513.66 Z\" fill=\"#000000\" fill-rule=\"evenodd\" fill-opacity=\"1\" /><path clip-path=\"url(#clip260)\" d=\"M1629.39 1517.37 Q1625.78 1517.37 1623.95 1520.93 Q1622.14 1524.47 1622.14 1531.6 Q1622.14 1538.71 1623.95 1542.27 Q1625.78 1545.82 1629.39 1545.82 Q1633.02 1545.82 1634.83 1542.27 Q1636.66 1538.71 1636.66 1531.6 Q1636.66 1524.47 1634.83 1520.93 Q1633.02 1517.37 1629.39 1517.37 M1629.39 1513.66 Q1635.2 1513.66 1638.25 1518.27 Q1641.33 1522.85 1641.33 1531.6 Q1641.33 1540.33 1638.25 1544.94 Q1635.2 1549.52 1629.39 1549.52 Q1623.58 1549.52 1620.5 1544.94 Q1617.44 1540.33 1617.44 1531.6 Q1617.44 1522.85 1620.5 1518.27 Q1623.58 1513.66 1629.39 1513.66 Z\" fill=\"#000000\" fill-rule=\"evenodd\" fill-opacity=\"1\" /><path clip-path=\"url(#clip260)\" d=\"M2250.61 1544.91 L2258.25 1544.91 L2258.25 1518.55 L2249.94 1520.21 L2249.94 1515.95 L2258.2 1514.29 L2262.88 1514.29 L2262.88 1544.91 L2270.52 1544.91 L2270.52 1548.85 L2250.61 1548.85 L2250.61 1544.91 Z\" fill=\"#000000\" fill-rule=\"evenodd\" fill-opacity=\"1\" /><path clip-path=\"url(#clip260)\" d=\"M2280.01 1514.29 L2298.37 1514.29 L2298.37 1518.22 L2284.29 1518.22 L2284.29 1526.7 Q2285.31 1526.35 2286.33 1526.19 Q2287.35 1526 2288.37 1526 Q2294.15 1526 2297.53 1529.17 Q2300.91 1532.34 2300.91 1537.76 Q2300.91 1543.34 2297.44 1546.44 Q2293.97 1549.52 2287.65 1549.52 Q2285.47 1549.52 2283.2 1549.15 Q2280.96 1548.78 2278.55 1548.04 L2278.55 1543.34 Q2280.63 1544.47 2282.86 1545.03 Q2285.08 1545.58 2287.56 1545.58 Q2291.56 1545.58 2293.9 1543.48 Q2296.24 1541.37 2296.24 1537.76 Q2296.24 1534.15 2293.9 1532.04 Q2291.56 1529.94 2287.56 1529.94 Q2285.68 1529.94 2283.81 1530.35 Q2281.95 1530.77 2280.01 1531.65 L2280.01 1514.29 Z\" fill=\"#000000\" fill-rule=\"evenodd\" fill-opacity=\"1\" /><path clip-path=\"url(#clip260)\" d=\"M2320.12 1517.37 Q2316.51 1517.37 2314.68 1520.93 Q2312.88 1524.47 2312.88 1531.6 Q2312.88 1538.71 2314.68 1542.27 Q2316.51 1545.82 2320.12 1545.82 Q2323.76 1545.82 2325.56 1542.27 Q2327.39 1538.71 2327.39 1531.6 Q2327.39 1524.47 2325.56 1520.93 Q2323.76 1517.37 2320.12 1517.37 M2320.12 1513.66 Q2325.93 1513.66 2328.99 1518.27 Q2332.07 1522.85 2332.07 1531.6 Q2332.07 1540.33 2328.99 1544.94 Q2325.93 1549.52 2320.12 1549.52 Q2314.31 1549.52 2311.24 1544.94 Q2308.18 1540.33 2308.18 1531.6 Q2308.18 1522.85 2311.24 1518.27 Q2314.31 1513.66 2320.12 1513.66 Z\" fill=\"#000000\" fill-rule=\"evenodd\" fill-opacity=\"1\" /><polyline clip-path=\"url(#clip262)\" style=\"stroke:#000000; stroke-linecap:round; stroke-linejoin:round; stroke-width:2; stroke-opacity:0.1; fill:none\" points=\"\n",
       "  170.857,1445.72 2352.76,1445.72 \n",
       "  \"/>\n",
       "<polyline clip-path=\"url(#clip262)\" style=\"stroke:#000000; stroke-linecap:round; stroke-linejoin:round; stroke-width:2; stroke-opacity:0.1; fill:none\" points=\"\n",
       "  170.857,1147.56 2352.76,1147.56 \n",
       "  \"/>\n",
       "<polyline clip-path=\"url(#clip262)\" style=\"stroke:#000000; stroke-linecap:round; stroke-linejoin:round; stroke-width:2; stroke-opacity:0.1; fill:none\" points=\"\n",
       "  170.857,849.395 2352.76,849.395 \n",
       "  \"/>\n",
       "<polyline clip-path=\"url(#clip262)\" style=\"stroke:#000000; stroke-linecap:round; stroke-linejoin:round; stroke-width:2; stroke-opacity:0.1; fill:none\" points=\"\n",
       "  170.857,551.235 2352.76,551.235 \n",
       "  \"/>\n",
       "<polyline clip-path=\"url(#clip262)\" style=\"stroke:#000000; stroke-linecap:round; stroke-linejoin:round; stroke-width:2; stroke-opacity:0.1; fill:none\" points=\"\n",
       "  170.857,253.075 2352.76,253.075 \n",
       "  \"/>\n",
       "<polyline clip-path=\"url(#clip260)\" style=\"stroke:#000000; stroke-linecap:round; stroke-linejoin:round; stroke-width:4; stroke-opacity:1; fill:none\" points=\"\n",
       "  170.857,1486.45 170.857,47.2441 \n",
       "  \"/>\n",
       "<polyline clip-path=\"url(#clip260)\" style=\"stroke:#000000; stroke-linecap:round; stroke-linejoin:round; stroke-width:4; stroke-opacity:1; fill:none\" points=\"\n",
       "  170.857,1445.72 189.755,1445.72 \n",
       "  \"/>\n",
       "<polyline clip-path=\"url(#clip260)\" style=\"stroke:#000000; stroke-linecap:round; stroke-linejoin:round; stroke-width:4; stroke-opacity:1; fill:none\" points=\"\n",
       "  170.857,1147.56 189.755,1147.56 \n",
       "  \"/>\n",
       "<polyline clip-path=\"url(#clip260)\" style=\"stroke:#000000; stroke-linecap:round; stroke-linejoin:round; stroke-width:4; stroke-opacity:1; fill:none\" points=\"\n",
       "  170.857,849.395 189.755,849.395 \n",
       "  \"/>\n",
       "<polyline clip-path=\"url(#clip260)\" style=\"stroke:#000000; stroke-linecap:round; stroke-linejoin:round; stroke-width:4; stroke-opacity:1; fill:none\" points=\"\n",
       "  170.857,551.235 189.755,551.235 \n",
       "  \"/>\n",
       "<polyline clip-path=\"url(#clip260)\" style=\"stroke:#000000; stroke-linecap:round; stroke-linejoin:round; stroke-width:4; stroke-opacity:1; fill:none\" points=\"\n",
       "  170.857,253.075 189.755,253.075 \n",
       "  \"/>\n",
       "<path clip-path=\"url(#clip260)\" d=\"M122.913 1431.51 Q119.302 1431.51 117.473 1435.08 Q115.668 1438.62 115.668 1445.75 Q115.668 1452.86 117.473 1456.42 Q119.302 1459.96 122.913 1459.96 Q126.547 1459.96 128.353 1456.42 Q130.182 1452.86 130.182 1445.75 Q130.182 1438.62 128.353 1435.08 Q126.547 1431.51 122.913 1431.51 M122.913 1427.81 Q128.723 1427.81 131.779 1432.42 Q134.857 1437 134.857 1445.75 Q134.857 1454.48 131.779 1459.08 Q128.723 1463.67 122.913 1463.67 Q117.103 1463.67 114.024 1459.08 Q110.969 1454.48 110.969 1445.75 Q110.969 1437 114.024 1432.42 Q117.103 1427.81 122.913 1427.81 Z\" fill=\"#000000\" fill-rule=\"evenodd\" fill-opacity=\"1\" /><path clip-path=\"url(#clip260)\" d=\"M82.7975 1130.28 L101.154 1130.28 L101.154 1134.21 L87.0799 1134.21 L87.0799 1142.68 Q88.0984 1142.34 89.1169 1142.17 Q90.1354 1141.99 91.1539 1141.99 Q96.941 1141.99 100.321 1145.16 Q103.7 1148.33 103.7 1153.75 Q103.7 1159.33 100.228 1162.43 Q96.7558 1165.51 90.4364 1165.51 Q88.2604 1165.51 85.9919 1165.14 Q83.7466 1164.77 81.3392 1164.03 L81.3392 1159.33 Q83.4225 1160.46 85.6447 1161.02 Q87.8669 1161.57 90.3438 1161.57 Q94.3484 1161.57 96.6863 1159.47 Q99.0243 1157.36 99.0243 1153.75 Q99.0243 1150.14 96.6863 1148.03 Q94.3484 1145.92 90.3438 1145.92 Q88.4688 1145.92 86.5938 1146.34 Q84.7419 1146.76 82.7975 1147.64 L82.7975 1130.28 Z\" fill=\"#000000\" fill-rule=\"evenodd\" fill-opacity=\"1\" /><path clip-path=\"url(#clip260)\" d=\"M122.913 1133.35 Q119.302 1133.35 117.473 1136.92 Q115.668 1140.46 115.668 1147.59 Q115.668 1154.7 117.473 1158.26 Q119.302 1161.8 122.913 1161.8 Q126.547 1161.8 128.353 1158.26 Q130.182 1154.7 130.182 1147.59 Q130.182 1140.46 128.353 1136.92 Q126.547 1133.35 122.913 1133.35 M122.913 1129.65 Q128.723 1129.65 131.779 1134.26 Q134.857 1138.84 134.857 1147.59 Q134.857 1156.32 131.779 1160.92 Q128.723 1165.51 122.913 1165.51 Q117.103 1165.51 114.024 1160.92 Q110.969 1156.32 110.969 1147.59 Q110.969 1138.84 114.024 1134.26 Q117.103 1129.65 122.913 1129.65 Z\" fill=\"#000000\" fill-rule=\"evenodd\" fill-opacity=\"1\" /><path clip-path=\"url(#clip260)\" d=\"M53.3995 862.74 L61.0384 862.74 L61.0384 836.375 L52.7282 838.041 L52.7282 833.782 L60.9921 832.115 L65.668 832.115 L65.668 862.74 L73.3068 862.74 L73.3068 866.675 L53.3995 866.675 L53.3995 862.74 Z\" fill=\"#000000\" fill-rule=\"evenodd\" fill-opacity=\"1\" /><path clip-path=\"url(#clip260)\" d=\"M92.7512 835.194 Q89.1401 835.194 87.3114 838.759 Q85.5058 842.3 85.5058 849.43 Q85.5058 856.537 87.3114 860.101 Q89.1401 863.643 92.7512 863.643 Q96.3854 863.643 98.1909 860.101 Q100.02 856.537 100.02 849.43 Q100.02 842.3 98.1909 838.759 Q96.3854 835.194 92.7512 835.194 M92.7512 831.49 Q98.5613 831.49 101.617 836.097 Q104.696 840.68 104.696 849.43 Q104.696 858.157 101.617 862.763 Q98.5613 867.347 92.7512 867.347 Q86.941 867.347 83.8623 862.763 Q80.8068 858.157 80.8068 849.43 Q80.8068 840.68 83.8623 836.097 Q86.941 831.49 92.7512 831.49 Z\" fill=\"#000000\" fill-rule=\"evenodd\" fill-opacity=\"1\" /><path clip-path=\"url(#clip260)\" d=\"M122.913 835.194 Q119.302 835.194 117.473 838.759 Q115.668 842.3 115.668 849.43 Q115.668 856.537 117.473 860.101 Q119.302 863.643 122.913 863.643 Q126.547 863.643 128.353 860.101 Q130.182 856.537 130.182 849.43 Q130.182 842.3 128.353 838.759 Q126.547 835.194 122.913 835.194 M122.913 831.49 Q128.723 831.49 131.779 836.097 Q134.857 840.68 134.857 849.43 Q134.857 858.157 131.779 862.763 Q128.723 867.347 122.913 867.347 Q117.103 867.347 114.024 862.763 Q110.969 858.157 110.969 849.43 Q110.969 840.68 114.024 836.097 Q117.103 831.49 122.913 831.49 Z\" fill=\"#000000\" fill-rule=\"evenodd\" fill-opacity=\"1\" /><path clip-path=\"url(#clip260)\" d=\"M53.3995 564.58 L61.0384 564.58 L61.0384 538.214 L52.7282 539.881 L52.7282 535.622 L60.9921 533.955 L65.668 533.955 L65.668 564.58 L73.3068 564.58 L73.3068 568.515 L53.3995 568.515 L53.3995 564.58 Z\" fill=\"#000000\" fill-rule=\"evenodd\" fill-opacity=\"1\" /><path clip-path=\"url(#clip260)\" d=\"M82.7975 533.955 L101.154 533.955 L101.154 537.89 L87.0799 537.89 L87.0799 546.363 Q88.0984 546.015 89.1169 545.853 Q90.1354 545.668 91.1539 545.668 Q96.941 545.668 100.321 548.839 Q103.7 552.011 103.7 557.427 Q103.7 563.006 100.228 566.108 Q96.7558 569.186 90.4364 569.186 Q88.2604 569.186 85.9919 568.816 Q83.7466 568.446 81.3392 567.705 L81.3392 563.006 Q83.4225 564.14 85.6447 564.696 Q87.8669 565.251 90.3438 565.251 Q94.3484 565.251 96.6863 563.145 Q99.0243 561.038 99.0243 557.427 Q99.0243 553.816 96.6863 551.71 Q94.3484 549.603 90.3438 549.603 Q88.4688 549.603 86.5938 550.02 Q84.7419 550.437 82.7975 551.316 L82.7975 533.955 Z\" fill=\"#000000\" fill-rule=\"evenodd\" fill-opacity=\"1\" /><path clip-path=\"url(#clip260)\" d=\"M122.913 537.034 Q119.302 537.034 117.473 540.599 Q115.668 544.14 115.668 551.27 Q115.668 558.376 117.473 561.941 Q119.302 565.483 122.913 565.483 Q126.547 565.483 128.353 561.941 Q130.182 558.376 130.182 551.27 Q130.182 544.14 128.353 540.599 Q126.547 537.034 122.913 537.034 M122.913 533.33 Q128.723 533.33 131.779 537.937 Q134.857 542.52 134.857 551.27 Q134.857 559.997 131.779 564.603 Q128.723 569.186 122.913 569.186 Q117.103 569.186 114.024 564.603 Q110.969 559.997 110.969 551.27 Q110.969 542.52 114.024 537.937 Q117.103 533.33 122.913 533.33 Z\" fill=\"#000000\" fill-rule=\"evenodd\" fill-opacity=\"1\" /><path clip-path=\"url(#clip260)\" d=\"M56.6171 266.42 L72.9365 266.42 L72.9365 270.355 L50.9921 270.355 L50.9921 266.42 Q53.6541 263.665 58.2375 259.036 Q62.8439 254.383 64.0245 253.04 Q66.2698 250.517 67.1494 248.781 Q68.0522 247.022 68.0522 245.332 Q68.0522 242.577 66.1078 240.841 Q64.1865 239.105 61.0847 239.105 Q58.8856 239.105 56.4319 239.869 Q54.0014 240.633 51.2236 242.184 L51.2236 237.462 Q54.0477 236.327 56.5014 235.749 Q58.955 235.17 60.9921 235.17 Q66.3624 235.17 69.5568 237.855 Q72.7513 240.54 72.7513 245.031 Q72.7513 247.161 71.9411 249.082 Q71.1541 250.98 69.0476 253.573 Q68.4689 254.244 65.367 257.462 Q62.2652 260.656 56.6171 266.42 Z\" fill=\"#000000\" fill-rule=\"evenodd\" fill-opacity=\"1\" /><path clip-path=\"url(#clip260)\" d=\"M92.7512 238.874 Q89.1401 238.874 87.3114 242.438 Q85.5058 245.98 85.5058 253.11 Q85.5058 260.216 87.3114 263.781 Q89.1401 267.323 92.7512 267.323 Q96.3854 267.323 98.1909 263.781 Q100.02 260.216 100.02 253.11 Q100.02 245.98 98.1909 242.438 Q96.3854 238.874 92.7512 238.874 M92.7512 235.17 Q98.5613 235.17 101.617 239.776 Q104.696 244.36 104.696 253.11 Q104.696 261.837 101.617 266.443 Q98.5613 271.026 92.7512 271.026 Q86.941 271.026 83.8623 266.443 Q80.8068 261.837 80.8068 253.11 Q80.8068 244.36 83.8623 239.776 Q86.941 235.17 92.7512 235.17 Z\" fill=\"#000000\" fill-rule=\"evenodd\" fill-opacity=\"1\" /><path clip-path=\"url(#clip260)\" d=\"M122.913 238.874 Q119.302 238.874 117.473 242.438 Q115.668 245.98 115.668 253.11 Q115.668 260.216 117.473 263.781 Q119.302 267.323 122.913 267.323 Q126.547 267.323 128.353 263.781 Q130.182 260.216 130.182 253.11 Q130.182 245.98 128.353 242.438 Q126.547 238.874 122.913 238.874 M122.913 235.17 Q128.723 235.17 131.779 239.776 Q134.857 244.36 134.857 253.11 Q134.857 261.837 131.779 266.443 Q128.723 271.026 122.913 271.026 Q117.103 271.026 114.024 266.443 Q110.969 261.837 110.969 253.11 Q110.969 244.36 114.024 239.776 Q117.103 235.17 122.913 235.17 Z\" fill=\"#000000\" fill-rule=\"evenodd\" fill-opacity=\"1\" /><circle clip-path=\"url(#clip262)\" cx=\"232.609\" cy=\"87.9763\" r=\"14.4\" fill=\"#009af9\" fill-rule=\"evenodd\" fill-opacity=\"1\" stroke=\"#000000\" stroke-opacity=\"1\" stroke-width=\"3.2\"/>\n",
       "<circle clip-path=\"url(#clip262)\" cx=\"246.424\" cy=\"1223.97\" r=\"14.4\" fill=\"#009af9\" fill-rule=\"evenodd\" fill-opacity=\"1\" stroke=\"#000000\" stroke-opacity=\"1\" stroke-width=\"3.2\"/>\n",
       "<circle clip-path=\"url(#clip262)\" cx=\"260.239\" cy=\"1301.26\" r=\"14.4\" fill=\"#009af9\" fill-rule=\"evenodd\" fill-opacity=\"1\" stroke=\"#000000\" stroke-opacity=\"1\" stroke-width=\"3.2\"/>\n",
       "<circle clip-path=\"url(#clip262)\" cx=\"274.053\" cy=\"1351.7\" r=\"14.4\" fill=\"#009af9\" fill-rule=\"evenodd\" fill-opacity=\"1\" stroke=\"#000000\" stroke-opacity=\"1\" stroke-width=\"3.2\"/>\n",
       "<circle clip-path=\"url(#clip262)\" cx=\"287.868\" cy=\"1358.55\" r=\"14.4\" fill=\"#009af9\" fill-rule=\"evenodd\" fill-opacity=\"1\" stroke=\"#000000\" stroke-opacity=\"1\" stroke-width=\"3.2\"/>\n",
       "<circle clip-path=\"url(#clip262)\" cx=\"301.683\" cy=\"1365.75\" r=\"14.4\" fill=\"#009af9\" fill-rule=\"evenodd\" fill-opacity=\"1\" stroke=\"#000000\" stroke-opacity=\"1\" stroke-width=\"3.2\"/>\n",
       "<circle clip-path=\"url(#clip262)\" cx=\"315.498\" cy=\"1390.64\" r=\"14.4\" fill=\"#009af9\" fill-rule=\"evenodd\" fill-opacity=\"1\" stroke=\"#000000\" stroke-opacity=\"1\" stroke-width=\"3.2\"/>\n",
       "<circle clip-path=\"url(#clip262)\" cx=\"329.312\" cy=\"1397.35\" r=\"14.4\" fill=\"#009af9\" fill-rule=\"evenodd\" fill-opacity=\"1\" stroke=\"#000000\" stroke-opacity=\"1\" stroke-width=\"3.2\"/>\n",
       "<circle clip-path=\"url(#clip262)\" cx=\"343.127\" cy=\"1415.06\" r=\"14.4\" fill=\"#009af9\" fill-rule=\"evenodd\" fill-opacity=\"1\" stroke=\"#000000\" stroke-opacity=\"1\" stroke-width=\"3.2\"/>\n",
       "<circle clip-path=\"url(#clip262)\" cx=\"356.942\" cy=\"1420.07\" r=\"14.4\" fill=\"#009af9\" fill-rule=\"evenodd\" fill-opacity=\"1\" stroke=\"#000000\" stroke-opacity=\"1\" stroke-width=\"3.2\"/>\n",
       "<circle clip-path=\"url(#clip262)\" cx=\"370.757\" cy=\"1422.88\" r=\"14.4\" fill=\"#009af9\" fill-rule=\"evenodd\" fill-opacity=\"1\" stroke=\"#000000\" stroke-opacity=\"1\" stroke-width=\"3.2\"/>\n",
       "<circle clip-path=\"url(#clip262)\" cx=\"384.571\" cy=\"1423.86\" r=\"14.4\" fill=\"#009af9\" fill-rule=\"evenodd\" fill-opacity=\"1\" stroke=\"#000000\" stroke-opacity=\"1\" stroke-width=\"3.2\"/>\n",
       "<circle clip-path=\"url(#clip262)\" cx=\"398.386\" cy=\"1425.93\" r=\"14.4\" fill=\"#009af9\" fill-rule=\"evenodd\" fill-opacity=\"1\" stroke=\"#000000\" stroke-opacity=\"1\" stroke-width=\"3.2\"/>\n",
       "<circle clip-path=\"url(#clip262)\" cx=\"412.201\" cy=\"1427.33\" r=\"14.4\" fill=\"#009af9\" fill-rule=\"evenodd\" fill-opacity=\"1\" stroke=\"#000000\" stroke-opacity=\"1\" stroke-width=\"3.2\"/>\n",
       "<circle clip-path=\"url(#clip262)\" cx=\"426.015\" cy=\"1429.99\" r=\"14.4\" fill=\"#009af9\" fill-rule=\"evenodd\" fill-opacity=\"1\" stroke=\"#000000\" stroke-opacity=\"1\" stroke-width=\"3.2\"/>\n",
       "<circle clip-path=\"url(#clip262)\" cx=\"439.83\" cy=\"1431.77\" r=\"14.4\" fill=\"#009af9\" fill-rule=\"evenodd\" fill-opacity=\"1\" stroke=\"#000000\" stroke-opacity=\"1\" stroke-width=\"3.2\"/>\n",
       "<circle clip-path=\"url(#clip262)\" cx=\"453.645\" cy=\"1433.21\" r=\"14.4\" fill=\"#009af9\" fill-rule=\"evenodd\" fill-opacity=\"1\" stroke=\"#000000\" stroke-opacity=\"1\" stroke-width=\"3.2\"/>\n",
       "<circle clip-path=\"url(#clip262)\" cx=\"467.46\" cy=\"1434.96\" r=\"14.4\" fill=\"#009af9\" fill-rule=\"evenodd\" fill-opacity=\"1\" stroke=\"#000000\" stroke-opacity=\"1\" stroke-width=\"3.2\"/>\n",
       "<circle clip-path=\"url(#clip262)\" cx=\"481.274\" cy=\"1436.68\" r=\"14.4\" fill=\"#009af9\" fill-rule=\"evenodd\" fill-opacity=\"1\" stroke=\"#000000\" stroke-opacity=\"1\" stroke-width=\"3.2\"/>\n",
       "<circle clip-path=\"url(#clip262)\" cx=\"495.089\" cy=\"1437.76\" r=\"14.4\" fill=\"#009af9\" fill-rule=\"evenodd\" fill-opacity=\"1\" stroke=\"#000000\" stroke-opacity=\"1\" stroke-width=\"3.2\"/>\n",
       "<circle clip-path=\"url(#clip262)\" cx=\"508.904\" cy=\"1438.27\" r=\"14.4\" fill=\"#009af9\" fill-rule=\"evenodd\" fill-opacity=\"1\" stroke=\"#000000\" stroke-opacity=\"1\" stroke-width=\"3.2\"/>\n",
       "<circle clip-path=\"url(#clip262)\" cx=\"522.719\" cy=\"1438.91\" r=\"14.4\" fill=\"#009af9\" fill-rule=\"evenodd\" fill-opacity=\"1\" stroke=\"#000000\" stroke-opacity=\"1\" stroke-width=\"3.2\"/>\n",
       "<circle clip-path=\"url(#clip262)\" cx=\"536.533\" cy=\"1439.99\" r=\"14.4\" fill=\"#009af9\" fill-rule=\"evenodd\" fill-opacity=\"1\" stroke=\"#000000\" stroke-opacity=\"1\" stroke-width=\"3.2\"/>\n",
       "<circle clip-path=\"url(#clip262)\" cx=\"550.348\" cy=\"1440.16\" r=\"14.4\" fill=\"#009af9\" fill-rule=\"evenodd\" fill-opacity=\"1\" stroke=\"#000000\" stroke-opacity=\"1\" stroke-width=\"3.2\"/>\n",
       "<circle clip-path=\"url(#clip262)\" cx=\"564.163\" cy=\"1440.56\" r=\"14.4\" fill=\"#009af9\" fill-rule=\"evenodd\" fill-opacity=\"1\" stroke=\"#000000\" stroke-opacity=\"1\" stroke-width=\"3.2\"/>\n",
       "<circle clip-path=\"url(#clip262)\" cx=\"577.978\" cy=\"1441.54\" r=\"14.4\" fill=\"#009af9\" fill-rule=\"evenodd\" fill-opacity=\"1\" stroke=\"#000000\" stroke-opacity=\"1\" stroke-width=\"3.2\"/>\n",
       "<circle clip-path=\"url(#clip262)\" cx=\"591.792\" cy=\"1441.73\" r=\"14.4\" fill=\"#009af9\" fill-rule=\"evenodd\" fill-opacity=\"1\" stroke=\"#000000\" stroke-opacity=\"1\" stroke-width=\"3.2\"/>\n",
       "<circle clip-path=\"url(#clip262)\" cx=\"605.607\" cy=\"1442.22\" r=\"14.4\" fill=\"#009af9\" fill-rule=\"evenodd\" fill-opacity=\"1\" stroke=\"#000000\" stroke-opacity=\"1\" stroke-width=\"3.2\"/>\n",
       "<circle clip-path=\"url(#clip262)\" cx=\"619.422\" cy=\"1442.45\" r=\"14.4\" fill=\"#009af9\" fill-rule=\"evenodd\" fill-opacity=\"1\" stroke=\"#000000\" stroke-opacity=\"1\" stroke-width=\"3.2\"/>\n",
       "<circle clip-path=\"url(#clip262)\" cx=\"633.236\" cy=\"1442.94\" r=\"14.4\" fill=\"#009af9\" fill-rule=\"evenodd\" fill-opacity=\"1\" stroke=\"#000000\" stroke-opacity=\"1\" stroke-width=\"3.2\"/>\n",
       "<circle clip-path=\"url(#clip262)\" cx=\"647.051\" cy=\"1443.16\" r=\"14.4\" fill=\"#009af9\" fill-rule=\"evenodd\" fill-opacity=\"1\" stroke=\"#000000\" stroke-opacity=\"1\" stroke-width=\"3.2\"/>\n",
       "<circle clip-path=\"url(#clip262)\" cx=\"660.866\" cy=\"1443.32\" r=\"14.4\" fill=\"#009af9\" fill-rule=\"evenodd\" fill-opacity=\"1\" stroke=\"#000000\" stroke-opacity=\"1\" stroke-width=\"3.2\"/>\n",
       "<circle clip-path=\"url(#clip262)\" cx=\"674.681\" cy=\"1443.92\" r=\"14.4\" fill=\"#009af9\" fill-rule=\"evenodd\" fill-opacity=\"1\" stroke=\"#000000\" stroke-opacity=\"1\" stroke-width=\"3.2\"/>\n",
       "<circle clip-path=\"url(#clip262)\" cx=\"688.495\" cy=\"1444.39\" r=\"14.4\" fill=\"#009af9\" fill-rule=\"evenodd\" fill-opacity=\"1\" stroke=\"#000000\" stroke-opacity=\"1\" stroke-width=\"3.2\"/>\n",
       "<circle clip-path=\"url(#clip262)\" cx=\"702.31\" cy=\"1444.55\" r=\"14.4\" fill=\"#009af9\" fill-rule=\"evenodd\" fill-opacity=\"1\" stroke=\"#000000\" stroke-opacity=\"1\" stroke-width=\"3.2\"/>\n",
       "<circle clip-path=\"url(#clip262)\" cx=\"716.125\" cy=\"1444.71\" r=\"14.4\" fill=\"#009af9\" fill-rule=\"evenodd\" fill-opacity=\"1\" stroke=\"#000000\" stroke-opacity=\"1\" stroke-width=\"3.2\"/>\n",
       "<circle clip-path=\"url(#clip262)\" cx=\"729.94\" cy=\"1444.99\" r=\"14.4\" fill=\"#009af9\" fill-rule=\"evenodd\" fill-opacity=\"1\" stroke=\"#000000\" stroke-opacity=\"1\" stroke-width=\"3.2\"/>\n",
       "<circle clip-path=\"url(#clip262)\" cx=\"743.754\" cy=\"1445.01\" r=\"14.4\" fill=\"#009af9\" fill-rule=\"evenodd\" fill-opacity=\"1\" stroke=\"#000000\" stroke-opacity=\"1\" stroke-width=\"3.2\"/>\n",
       "<circle clip-path=\"url(#clip262)\" cx=\"757.569\" cy=\"1445.09\" r=\"14.4\" fill=\"#009af9\" fill-rule=\"evenodd\" fill-opacity=\"1\" stroke=\"#000000\" stroke-opacity=\"1\" stroke-width=\"3.2\"/>\n",
       "<circle clip-path=\"url(#clip262)\" cx=\"771.384\" cy=\"1445.15\" r=\"14.4\" fill=\"#009af9\" fill-rule=\"evenodd\" fill-opacity=\"1\" stroke=\"#000000\" stroke-opacity=\"1\" stroke-width=\"3.2\"/>\n",
       "<circle clip-path=\"url(#clip262)\" cx=\"785.198\" cy=\"1445.29\" r=\"14.4\" fill=\"#009af9\" fill-rule=\"evenodd\" fill-opacity=\"1\" stroke=\"#000000\" stroke-opacity=\"1\" stroke-width=\"3.2\"/>\n",
       "<circle clip-path=\"url(#clip262)\" cx=\"799.013\" cy=\"1445.56\" r=\"14.4\" fill=\"#009af9\" fill-rule=\"evenodd\" fill-opacity=\"1\" stroke=\"#000000\" stroke-opacity=\"1\" stroke-width=\"3.2\"/>\n",
       "<circle clip-path=\"url(#clip262)\" cx=\"812.828\" cy=\"1445.67\" r=\"14.4\" fill=\"#009af9\" fill-rule=\"evenodd\" fill-opacity=\"1\" stroke=\"#000000\" stroke-opacity=\"1\" stroke-width=\"3.2\"/>\n",
       "<circle clip-path=\"url(#clip262)\" cx=\"826.643\" cy=\"1445.7\" r=\"14.4\" fill=\"#009af9\" fill-rule=\"evenodd\" fill-opacity=\"1\" stroke=\"#000000\" stroke-opacity=\"1\" stroke-width=\"3.2\"/>\n",
       "<circle clip-path=\"url(#clip262)\" cx=\"840.457\" cy=\"1445.72\" r=\"14.4\" fill=\"#009af9\" fill-rule=\"evenodd\" fill-opacity=\"1\" stroke=\"#000000\" stroke-opacity=\"1\" stroke-width=\"3.2\"/>\n",
       "<circle clip-path=\"url(#clip262)\" cx=\"854.272\" cy=\"1445.72\" r=\"14.4\" fill=\"#009af9\" fill-rule=\"evenodd\" fill-opacity=\"1\" stroke=\"#000000\" stroke-opacity=\"1\" stroke-width=\"3.2\"/>\n",
       "<circle clip-path=\"url(#clip262)\" cx=\"868.087\" cy=\"1445.72\" r=\"14.4\" fill=\"#009af9\" fill-rule=\"evenodd\" fill-opacity=\"1\" stroke=\"#000000\" stroke-opacity=\"1\" stroke-width=\"3.2\"/>\n",
       "<circle clip-path=\"url(#clip262)\" cx=\"881.902\" cy=\"1445.72\" r=\"14.4\" fill=\"#009af9\" fill-rule=\"evenodd\" fill-opacity=\"1\" stroke=\"#000000\" stroke-opacity=\"1\" stroke-width=\"3.2\"/>\n",
       "<circle clip-path=\"url(#clip262)\" cx=\"895.716\" cy=\"1445.72\" r=\"14.4\" fill=\"#009af9\" fill-rule=\"evenodd\" fill-opacity=\"1\" stroke=\"#000000\" stroke-opacity=\"1\" stroke-width=\"3.2\"/>\n",
       "<circle clip-path=\"url(#clip262)\" cx=\"909.531\" cy=\"1445.72\" r=\"14.4\" fill=\"#009af9\" fill-rule=\"evenodd\" fill-opacity=\"1\" stroke=\"#000000\" stroke-opacity=\"1\" stroke-width=\"3.2\"/>\n",
       "<circle clip-path=\"url(#clip262)\" cx=\"923.346\" cy=\"1445.72\" r=\"14.4\" fill=\"#009af9\" fill-rule=\"evenodd\" fill-opacity=\"1\" stroke=\"#000000\" stroke-opacity=\"1\" stroke-width=\"3.2\"/>\n",
       "<circle clip-path=\"url(#clip262)\" cx=\"937.161\" cy=\"1445.72\" r=\"14.4\" fill=\"#009af9\" fill-rule=\"evenodd\" fill-opacity=\"1\" stroke=\"#000000\" stroke-opacity=\"1\" stroke-width=\"3.2\"/>\n",
       "<circle clip-path=\"url(#clip262)\" cx=\"950.975\" cy=\"1445.72\" r=\"14.4\" fill=\"#009af9\" fill-rule=\"evenodd\" fill-opacity=\"1\" stroke=\"#000000\" stroke-opacity=\"1\" stroke-width=\"3.2\"/>\n",
       "<circle clip-path=\"url(#clip262)\" cx=\"964.79\" cy=\"1445.72\" r=\"14.4\" fill=\"#009af9\" fill-rule=\"evenodd\" fill-opacity=\"1\" stroke=\"#000000\" stroke-opacity=\"1\" stroke-width=\"3.2\"/>\n",
       "<circle clip-path=\"url(#clip262)\" cx=\"978.605\" cy=\"1445.72\" r=\"14.4\" fill=\"#009af9\" fill-rule=\"evenodd\" fill-opacity=\"1\" stroke=\"#000000\" stroke-opacity=\"1\" stroke-width=\"3.2\"/>\n",
       "<circle clip-path=\"url(#clip262)\" cx=\"992.419\" cy=\"1445.72\" r=\"14.4\" fill=\"#009af9\" fill-rule=\"evenodd\" fill-opacity=\"1\" stroke=\"#000000\" stroke-opacity=\"1\" stroke-width=\"3.2\"/>\n",
       "<circle clip-path=\"url(#clip262)\" cx=\"1006.23\" cy=\"1445.72\" r=\"14.4\" fill=\"#009af9\" fill-rule=\"evenodd\" fill-opacity=\"1\" stroke=\"#000000\" stroke-opacity=\"1\" stroke-width=\"3.2\"/>\n",
       "<circle clip-path=\"url(#clip262)\" cx=\"1020.05\" cy=\"1445.72\" r=\"14.4\" fill=\"#009af9\" fill-rule=\"evenodd\" fill-opacity=\"1\" stroke=\"#000000\" stroke-opacity=\"1\" stroke-width=\"3.2\"/>\n",
       "<circle clip-path=\"url(#clip262)\" cx=\"1033.86\" cy=\"1445.72\" r=\"14.4\" fill=\"#009af9\" fill-rule=\"evenodd\" fill-opacity=\"1\" stroke=\"#000000\" stroke-opacity=\"1\" stroke-width=\"3.2\"/>\n",
       "<circle clip-path=\"url(#clip262)\" cx=\"1047.68\" cy=\"1445.72\" r=\"14.4\" fill=\"#009af9\" fill-rule=\"evenodd\" fill-opacity=\"1\" stroke=\"#000000\" stroke-opacity=\"1\" stroke-width=\"3.2\"/>\n",
       "<circle clip-path=\"url(#clip262)\" cx=\"1061.49\" cy=\"1445.72\" r=\"14.4\" fill=\"#009af9\" fill-rule=\"evenodd\" fill-opacity=\"1\" stroke=\"#000000\" stroke-opacity=\"1\" stroke-width=\"3.2\"/>\n",
       "<circle clip-path=\"url(#clip262)\" cx=\"1075.31\" cy=\"1445.72\" r=\"14.4\" fill=\"#009af9\" fill-rule=\"evenodd\" fill-opacity=\"1\" stroke=\"#000000\" stroke-opacity=\"1\" stroke-width=\"3.2\"/>\n",
       "<circle clip-path=\"url(#clip262)\" cx=\"1089.12\" cy=\"1445.72\" r=\"14.4\" fill=\"#009af9\" fill-rule=\"evenodd\" fill-opacity=\"1\" stroke=\"#000000\" stroke-opacity=\"1\" stroke-width=\"3.2\"/>\n",
       "<circle clip-path=\"url(#clip262)\" cx=\"1102.94\" cy=\"1445.72\" r=\"14.4\" fill=\"#009af9\" fill-rule=\"evenodd\" fill-opacity=\"1\" stroke=\"#000000\" stroke-opacity=\"1\" stroke-width=\"3.2\"/>\n",
       "<circle clip-path=\"url(#clip262)\" cx=\"1116.75\" cy=\"1445.72\" r=\"14.4\" fill=\"#009af9\" fill-rule=\"evenodd\" fill-opacity=\"1\" stroke=\"#000000\" stroke-opacity=\"1\" stroke-width=\"3.2\"/>\n",
       "<circle clip-path=\"url(#clip262)\" cx=\"1130.57\" cy=\"1445.72\" r=\"14.4\" fill=\"#009af9\" fill-rule=\"evenodd\" fill-opacity=\"1\" stroke=\"#000000\" stroke-opacity=\"1\" stroke-width=\"3.2\"/>\n",
       "<circle clip-path=\"url(#clip262)\" cx=\"1144.38\" cy=\"1445.72\" r=\"14.4\" fill=\"#009af9\" fill-rule=\"evenodd\" fill-opacity=\"1\" stroke=\"#000000\" stroke-opacity=\"1\" stroke-width=\"3.2\"/>\n",
       "<circle clip-path=\"url(#clip262)\" cx=\"1158.2\" cy=\"1445.72\" r=\"14.4\" fill=\"#009af9\" fill-rule=\"evenodd\" fill-opacity=\"1\" stroke=\"#000000\" stroke-opacity=\"1\" stroke-width=\"3.2\"/>\n",
       "<circle clip-path=\"url(#clip262)\" cx=\"1172.01\" cy=\"1445.72\" r=\"14.4\" fill=\"#009af9\" fill-rule=\"evenodd\" fill-opacity=\"1\" stroke=\"#000000\" stroke-opacity=\"1\" stroke-width=\"3.2\"/>\n",
       "<circle clip-path=\"url(#clip262)\" cx=\"1185.83\" cy=\"1445.72\" r=\"14.4\" fill=\"#009af9\" fill-rule=\"evenodd\" fill-opacity=\"1\" stroke=\"#000000\" stroke-opacity=\"1\" stroke-width=\"3.2\"/>\n",
       "<circle clip-path=\"url(#clip262)\" cx=\"1199.64\" cy=\"1445.72\" r=\"14.4\" fill=\"#009af9\" fill-rule=\"evenodd\" fill-opacity=\"1\" stroke=\"#000000\" stroke-opacity=\"1\" stroke-width=\"3.2\"/>\n",
       "<circle clip-path=\"url(#clip262)\" cx=\"1213.46\" cy=\"1445.72\" r=\"14.4\" fill=\"#009af9\" fill-rule=\"evenodd\" fill-opacity=\"1\" stroke=\"#000000\" stroke-opacity=\"1\" stroke-width=\"3.2\"/>\n",
       "<circle clip-path=\"url(#clip262)\" cx=\"1227.27\" cy=\"1445.72\" r=\"14.4\" fill=\"#009af9\" fill-rule=\"evenodd\" fill-opacity=\"1\" stroke=\"#000000\" stroke-opacity=\"1\" stroke-width=\"3.2\"/>\n",
       "<circle clip-path=\"url(#clip262)\" cx=\"1241.08\" cy=\"1445.72\" r=\"14.4\" fill=\"#009af9\" fill-rule=\"evenodd\" fill-opacity=\"1\" stroke=\"#000000\" stroke-opacity=\"1\" stroke-width=\"3.2\"/>\n",
       "<circle clip-path=\"url(#clip262)\" cx=\"1254.9\" cy=\"1445.72\" r=\"14.4\" fill=\"#009af9\" fill-rule=\"evenodd\" fill-opacity=\"1\" stroke=\"#000000\" stroke-opacity=\"1\" stroke-width=\"3.2\"/>\n",
       "<circle clip-path=\"url(#clip262)\" cx=\"1268.71\" cy=\"1445.72\" r=\"14.4\" fill=\"#009af9\" fill-rule=\"evenodd\" fill-opacity=\"1\" stroke=\"#000000\" stroke-opacity=\"1\" stroke-width=\"3.2\"/>\n",
       "<circle clip-path=\"url(#clip262)\" cx=\"1282.53\" cy=\"1445.72\" r=\"14.4\" fill=\"#009af9\" fill-rule=\"evenodd\" fill-opacity=\"1\" stroke=\"#000000\" stroke-opacity=\"1\" stroke-width=\"3.2\"/>\n",
       "<circle clip-path=\"url(#clip262)\" cx=\"1296.34\" cy=\"1445.72\" r=\"14.4\" fill=\"#009af9\" fill-rule=\"evenodd\" fill-opacity=\"1\" stroke=\"#000000\" stroke-opacity=\"1\" stroke-width=\"3.2\"/>\n",
       "<circle clip-path=\"url(#clip262)\" cx=\"1310.16\" cy=\"1445.72\" r=\"14.4\" fill=\"#009af9\" fill-rule=\"evenodd\" fill-opacity=\"1\" stroke=\"#000000\" stroke-opacity=\"1\" stroke-width=\"3.2\"/>\n",
       "<circle clip-path=\"url(#clip262)\" cx=\"1323.97\" cy=\"1445.72\" r=\"14.4\" fill=\"#009af9\" fill-rule=\"evenodd\" fill-opacity=\"1\" stroke=\"#000000\" stroke-opacity=\"1\" stroke-width=\"3.2\"/>\n",
       "<circle clip-path=\"url(#clip262)\" cx=\"1337.79\" cy=\"1445.72\" r=\"14.4\" fill=\"#009af9\" fill-rule=\"evenodd\" fill-opacity=\"1\" stroke=\"#000000\" stroke-opacity=\"1\" stroke-width=\"3.2\"/>\n",
       "<circle clip-path=\"url(#clip262)\" cx=\"1351.6\" cy=\"1445.72\" r=\"14.4\" fill=\"#009af9\" fill-rule=\"evenodd\" fill-opacity=\"1\" stroke=\"#000000\" stroke-opacity=\"1\" stroke-width=\"3.2\"/>\n",
       "<circle clip-path=\"url(#clip262)\" cx=\"1365.42\" cy=\"1445.72\" r=\"14.4\" fill=\"#009af9\" fill-rule=\"evenodd\" fill-opacity=\"1\" stroke=\"#000000\" stroke-opacity=\"1\" stroke-width=\"3.2\"/>\n",
       "<circle clip-path=\"url(#clip262)\" cx=\"1379.23\" cy=\"1445.72\" r=\"14.4\" fill=\"#009af9\" fill-rule=\"evenodd\" fill-opacity=\"1\" stroke=\"#000000\" stroke-opacity=\"1\" stroke-width=\"3.2\"/>\n",
       "<circle clip-path=\"url(#clip262)\" cx=\"1393.05\" cy=\"1445.72\" r=\"14.4\" fill=\"#009af9\" fill-rule=\"evenodd\" fill-opacity=\"1\" stroke=\"#000000\" stroke-opacity=\"1\" stroke-width=\"3.2\"/>\n",
       "<circle clip-path=\"url(#clip262)\" cx=\"1406.86\" cy=\"1445.72\" r=\"14.4\" fill=\"#009af9\" fill-rule=\"evenodd\" fill-opacity=\"1\" stroke=\"#000000\" stroke-opacity=\"1\" stroke-width=\"3.2\"/>\n",
       "<circle clip-path=\"url(#clip262)\" cx=\"1420.68\" cy=\"1445.72\" r=\"14.4\" fill=\"#009af9\" fill-rule=\"evenodd\" fill-opacity=\"1\" stroke=\"#000000\" stroke-opacity=\"1\" stroke-width=\"3.2\"/>\n",
       "<circle clip-path=\"url(#clip262)\" cx=\"1434.49\" cy=\"1445.72\" r=\"14.4\" fill=\"#009af9\" fill-rule=\"evenodd\" fill-opacity=\"1\" stroke=\"#000000\" stroke-opacity=\"1\" stroke-width=\"3.2\"/>\n",
       "<circle clip-path=\"url(#clip262)\" cx=\"1448.31\" cy=\"1445.72\" r=\"14.4\" fill=\"#009af9\" fill-rule=\"evenodd\" fill-opacity=\"1\" stroke=\"#000000\" stroke-opacity=\"1\" stroke-width=\"3.2\"/>\n",
       "<circle clip-path=\"url(#clip262)\" cx=\"1462.12\" cy=\"1445.72\" r=\"14.4\" fill=\"#009af9\" fill-rule=\"evenodd\" fill-opacity=\"1\" stroke=\"#000000\" stroke-opacity=\"1\" stroke-width=\"3.2\"/>\n",
       "<circle clip-path=\"url(#clip262)\" cx=\"1475.93\" cy=\"1445.72\" r=\"14.4\" fill=\"#009af9\" fill-rule=\"evenodd\" fill-opacity=\"1\" stroke=\"#000000\" stroke-opacity=\"1\" stroke-width=\"3.2\"/>\n",
       "<circle clip-path=\"url(#clip262)\" cx=\"1489.75\" cy=\"1445.72\" r=\"14.4\" fill=\"#009af9\" fill-rule=\"evenodd\" fill-opacity=\"1\" stroke=\"#000000\" stroke-opacity=\"1\" stroke-width=\"3.2\"/>\n",
       "<circle clip-path=\"url(#clip262)\" cx=\"1503.56\" cy=\"1445.72\" r=\"14.4\" fill=\"#009af9\" fill-rule=\"evenodd\" fill-opacity=\"1\" stroke=\"#000000\" stroke-opacity=\"1\" stroke-width=\"3.2\"/>\n",
       "<circle clip-path=\"url(#clip262)\" cx=\"1517.38\" cy=\"1445.72\" r=\"14.4\" fill=\"#009af9\" fill-rule=\"evenodd\" fill-opacity=\"1\" stroke=\"#000000\" stroke-opacity=\"1\" stroke-width=\"3.2\"/>\n",
       "<circle clip-path=\"url(#clip262)\" cx=\"1531.19\" cy=\"1445.72\" r=\"14.4\" fill=\"#009af9\" fill-rule=\"evenodd\" fill-opacity=\"1\" stroke=\"#000000\" stroke-opacity=\"1\" stroke-width=\"3.2\"/>\n",
       "<circle clip-path=\"url(#clip262)\" cx=\"1545.01\" cy=\"1445.72\" r=\"14.4\" fill=\"#009af9\" fill-rule=\"evenodd\" fill-opacity=\"1\" stroke=\"#000000\" stroke-opacity=\"1\" stroke-width=\"3.2\"/>\n",
       "<circle clip-path=\"url(#clip262)\" cx=\"1558.82\" cy=\"1445.72\" r=\"14.4\" fill=\"#009af9\" fill-rule=\"evenodd\" fill-opacity=\"1\" stroke=\"#000000\" stroke-opacity=\"1\" stroke-width=\"3.2\"/>\n",
       "<circle clip-path=\"url(#clip262)\" cx=\"1572.64\" cy=\"1445.72\" r=\"14.4\" fill=\"#009af9\" fill-rule=\"evenodd\" fill-opacity=\"1\" stroke=\"#000000\" stroke-opacity=\"1\" stroke-width=\"3.2\"/>\n",
       "<circle clip-path=\"url(#clip262)\" cx=\"1586.45\" cy=\"1445.72\" r=\"14.4\" fill=\"#009af9\" fill-rule=\"evenodd\" fill-opacity=\"1\" stroke=\"#000000\" stroke-opacity=\"1\" stroke-width=\"3.2\"/>\n",
       "<circle clip-path=\"url(#clip262)\" cx=\"1600.27\" cy=\"1445.72\" r=\"14.4\" fill=\"#009af9\" fill-rule=\"evenodd\" fill-opacity=\"1\" stroke=\"#000000\" stroke-opacity=\"1\" stroke-width=\"3.2\"/>\n",
       "<circle clip-path=\"url(#clip262)\" cx=\"1614.08\" cy=\"1445.72\" r=\"14.4\" fill=\"#009af9\" fill-rule=\"evenodd\" fill-opacity=\"1\" stroke=\"#000000\" stroke-opacity=\"1\" stroke-width=\"3.2\"/>\n",
       "<circle clip-path=\"url(#clip262)\" cx=\"1627.9\" cy=\"1445.72\" r=\"14.4\" fill=\"#009af9\" fill-rule=\"evenodd\" fill-opacity=\"1\" stroke=\"#000000\" stroke-opacity=\"1\" stroke-width=\"3.2\"/>\n",
       "<circle clip-path=\"url(#clip262)\" cx=\"1641.71\" cy=\"1445.72\" r=\"14.4\" fill=\"#009af9\" fill-rule=\"evenodd\" fill-opacity=\"1\" stroke=\"#000000\" stroke-opacity=\"1\" stroke-width=\"3.2\"/>\n",
       "<circle clip-path=\"url(#clip262)\" cx=\"1655.53\" cy=\"1445.72\" r=\"14.4\" fill=\"#009af9\" fill-rule=\"evenodd\" fill-opacity=\"1\" stroke=\"#000000\" stroke-opacity=\"1\" stroke-width=\"3.2\"/>\n",
       "<circle clip-path=\"url(#clip262)\" cx=\"1669.34\" cy=\"1445.72\" r=\"14.4\" fill=\"#009af9\" fill-rule=\"evenodd\" fill-opacity=\"1\" stroke=\"#000000\" stroke-opacity=\"1\" stroke-width=\"3.2\"/>\n",
       "<circle clip-path=\"url(#clip262)\" cx=\"1683.16\" cy=\"1445.72\" r=\"14.4\" fill=\"#009af9\" fill-rule=\"evenodd\" fill-opacity=\"1\" stroke=\"#000000\" stroke-opacity=\"1\" stroke-width=\"3.2\"/>\n",
       "<circle clip-path=\"url(#clip262)\" cx=\"1696.97\" cy=\"1445.72\" r=\"14.4\" fill=\"#009af9\" fill-rule=\"evenodd\" fill-opacity=\"1\" stroke=\"#000000\" stroke-opacity=\"1\" stroke-width=\"3.2\"/>\n",
       "<circle clip-path=\"url(#clip262)\" cx=\"1710.79\" cy=\"1445.72\" r=\"14.4\" fill=\"#009af9\" fill-rule=\"evenodd\" fill-opacity=\"1\" stroke=\"#000000\" stroke-opacity=\"1\" stroke-width=\"3.2\"/>\n",
       "<circle clip-path=\"url(#clip262)\" cx=\"1724.6\" cy=\"1445.72\" r=\"14.4\" fill=\"#009af9\" fill-rule=\"evenodd\" fill-opacity=\"1\" stroke=\"#000000\" stroke-opacity=\"1\" stroke-width=\"3.2\"/>\n",
       "<circle clip-path=\"url(#clip262)\" cx=\"1738.41\" cy=\"1445.72\" r=\"14.4\" fill=\"#009af9\" fill-rule=\"evenodd\" fill-opacity=\"1\" stroke=\"#000000\" stroke-opacity=\"1\" stroke-width=\"3.2\"/>\n",
       "<circle clip-path=\"url(#clip262)\" cx=\"1752.23\" cy=\"1445.72\" r=\"14.4\" fill=\"#009af9\" fill-rule=\"evenodd\" fill-opacity=\"1\" stroke=\"#000000\" stroke-opacity=\"1\" stroke-width=\"3.2\"/>\n",
       "<circle clip-path=\"url(#clip262)\" cx=\"1766.04\" cy=\"1445.72\" r=\"14.4\" fill=\"#009af9\" fill-rule=\"evenodd\" fill-opacity=\"1\" stroke=\"#000000\" stroke-opacity=\"1\" stroke-width=\"3.2\"/>\n",
       "<circle clip-path=\"url(#clip262)\" cx=\"1779.86\" cy=\"1445.72\" r=\"14.4\" fill=\"#009af9\" fill-rule=\"evenodd\" fill-opacity=\"1\" stroke=\"#000000\" stroke-opacity=\"1\" stroke-width=\"3.2\"/>\n",
       "<circle clip-path=\"url(#clip262)\" cx=\"1793.67\" cy=\"1445.72\" r=\"14.4\" fill=\"#009af9\" fill-rule=\"evenodd\" fill-opacity=\"1\" stroke=\"#000000\" stroke-opacity=\"1\" stroke-width=\"3.2\"/>\n",
       "<circle clip-path=\"url(#clip262)\" cx=\"1807.49\" cy=\"1445.72\" r=\"14.4\" fill=\"#009af9\" fill-rule=\"evenodd\" fill-opacity=\"1\" stroke=\"#000000\" stroke-opacity=\"1\" stroke-width=\"3.2\"/>\n",
       "<circle clip-path=\"url(#clip262)\" cx=\"1821.3\" cy=\"1445.72\" r=\"14.4\" fill=\"#009af9\" fill-rule=\"evenodd\" fill-opacity=\"1\" stroke=\"#000000\" stroke-opacity=\"1\" stroke-width=\"3.2\"/>\n",
       "<circle clip-path=\"url(#clip262)\" cx=\"1835.12\" cy=\"1445.72\" r=\"14.4\" fill=\"#009af9\" fill-rule=\"evenodd\" fill-opacity=\"1\" stroke=\"#000000\" stroke-opacity=\"1\" stroke-width=\"3.2\"/>\n",
       "<circle clip-path=\"url(#clip262)\" cx=\"1848.93\" cy=\"1445.72\" r=\"14.4\" fill=\"#009af9\" fill-rule=\"evenodd\" fill-opacity=\"1\" stroke=\"#000000\" stroke-opacity=\"1\" stroke-width=\"3.2\"/>\n",
       "<circle clip-path=\"url(#clip262)\" cx=\"1862.75\" cy=\"1445.72\" r=\"14.4\" fill=\"#009af9\" fill-rule=\"evenodd\" fill-opacity=\"1\" stroke=\"#000000\" stroke-opacity=\"1\" stroke-width=\"3.2\"/>\n",
       "<circle clip-path=\"url(#clip262)\" cx=\"1876.56\" cy=\"1445.72\" r=\"14.4\" fill=\"#009af9\" fill-rule=\"evenodd\" fill-opacity=\"1\" stroke=\"#000000\" stroke-opacity=\"1\" stroke-width=\"3.2\"/>\n",
       "<circle clip-path=\"url(#clip262)\" cx=\"1890.38\" cy=\"1445.72\" r=\"14.4\" fill=\"#009af9\" fill-rule=\"evenodd\" fill-opacity=\"1\" stroke=\"#000000\" stroke-opacity=\"1\" stroke-width=\"3.2\"/>\n",
       "<circle clip-path=\"url(#clip262)\" cx=\"1904.19\" cy=\"1445.72\" r=\"14.4\" fill=\"#009af9\" fill-rule=\"evenodd\" fill-opacity=\"1\" stroke=\"#000000\" stroke-opacity=\"1\" stroke-width=\"3.2\"/>\n",
       "<circle clip-path=\"url(#clip262)\" cx=\"1918.01\" cy=\"1445.72\" r=\"14.4\" fill=\"#009af9\" fill-rule=\"evenodd\" fill-opacity=\"1\" stroke=\"#000000\" stroke-opacity=\"1\" stroke-width=\"3.2\"/>\n",
       "<circle clip-path=\"url(#clip262)\" cx=\"1931.82\" cy=\"1445.72\" r=\"14.4\" fill=\"#009af9\" fill-rule=\"evenodd\" fill-opacity=\"1\" stroke=\"#000000\" stroke-opacity=\"1\" stroke-width=\"3.2\"/>\n",
       "<circle clip-path=\"url(#clip262)\" cx=\"1945.64\" cy=\"1445.72\" r=\"14.4\" fill=\"#009af9\" fill-rule=\"evenodd\" fill-opacity=\"1\" stroke=\"#000000\" stroke-opacity=\"1\" stroke-width=\"3.2\"/>\n",
       "<circle clip-path=\"url(#clip262)\" cx=\"1959.45\" cy=\"1445.72\" r=\"14.4\" fill=\"#009af9\" fill-rule=\"evenodd\" fill-opacity=\"1\" stroke=\"#000000\" stroke-opacity=\"1\" stroke-width=\"3.2\"/>\n",
       "<circle clip-path=\"url(#clip262)\" cx=\"1973.27\" cy=\"1445.72\" r=\"14.4\" fill=\"#009af9\" fill-rule=\"evenodd\" fill-opacity=\"1\" stroke=\"#000000\" stroke-opacity=\"1\" stroke-width=\"3.2\"/>\n",
       "<circle clip-path=\"url(#clip262)\" cx=\"1987.08\" cy=\"1445.72\" r=\"14.4\" fill=\"#009af9\" fill-rule=\"evenodd\" fill-opacity=\"1\" stroke=\"#000000\" stroke-opacity=\"1\" stroke-width=\"3.2\"/>\n",
       "<circle clip-path=\"url(#clip262)\" cx=\"2000.89\" cy=\"1445.72\" r=\"14.4\" fill=\"#009af9\" fill-rule=\"evenodd\" fill-opacity=\"1\" stroke=\"#000000\" stroke-opacity=\"1\" stroke-width=\"3.2\"/>\n",
       "<circle clip-path=\"url(#clip262)\" cx=\"2014.71\" cy=\"1445.72\" r=\"14.4\" fill=\"#009af9\" fill-rule=\"evenodd\" fill-opacity=\"1\" stroke=\"#000000\" stroke-opacity=\"1\" stroke-width=\"3.2\"/>\n",
       "<circle clip-path=\"url(#clip262)\" cx=\"2028.52\" cy=\"1445.72\" r=\"14.4\" fill=\"#009af9\" fill-rule=\"evenodd\" fill-opacity=\"1\" stroke=\"#000000\" stroke-opacity=\"1\" stroke-width=\"3.2\"/>\n",
       "<circle clip-path=\"url(#clip262)\" cx=\"2042.34\" cy=\"1445.72\" r=\"14.4\" fill=\"#009af9\" fill-rule=\"evenodd\" fill-opacity=\"1\" stroke=\"#000000\" stroke-opacity=\"1\" stroke-width=\"3.2\"/>\n",
       "<circle clip-path=\"url(#clip262)\" cx=\"2056.15\" cy=\"1445.72\" r=\"14.4\" fill=\"#009af9\" fill-rule=\"evenodd\" fill-opacity=\"1\" stroke=\"#000000\" stroke-opacity=\"1\" stroke-width=\"3.2\"/>\n",
       "<circle clip-path=\"url(#clip262)\" cx=\"2069.97\" cy=\"1445.72\" r=\"14.4\" fill=\"#009af9\" fill-rule=\"evenodd\" fill-opacity=\"1\" stroke=\"#000000\" stroke-opacity=\"1\" stroke-width=\"3.2\"/>\n",
       "<circle clip-path=\"url(#clip262)\" cx=\"2083.78\" cy=\"1445.72\" r=\"14.4\" fill=\"#009af9\" fill-rule=\"evenodd\" fill-opacity=\"1\" stroke=\"#000000\" stroke-opacity=\"1\" stroke-width=\"3.2\"/>\n",
       "<circle clip-path=\"url(#clip262)\" cx=\"2097.6\" cy=\"1445.72\" r=\"14.4\" fill=\"#009af9\" fill-rule=\"evenodd\" fill-opacity=\"1\" stroke=\"#000000\" stroke-opacity=\"1\" stroke-width=\"3.2\"/>\n",
       "<circle clip-path=\"url(#clip262)\" cx=\"2111.41\" cy=\"1445.72\" r=\"14.4\" fill=\"#009af9\" fill-rule=\"evenodd\" fill-opacity=\"1\" stroke=\"#000000\" stroke-opacity=\"1\" stroke-width=\"3.2\"/>\n",
       "<circle clip-path=\"url(#clip262)\" cx=\"2125.23\" cy=\"1445.72\" r=\"14.4\" fill=\"#009af9\" fill-rule=\"evenodd\" fill-opacity=\"1\" stroke=\"#000000\" stroke-opacity=\"1\" stroke-width=\"3.2\"/>\n",
       "<circle clip-path=\"url(#clip262)\" cx=\"2139.04\" cy=\"1445.72\" r=\"14.4\" fill=\"#009af9\" fill-rule=\"evenodd\" fill-opacity=\"1\" stroke=\"#000000\" stroke-opacity=\"1\" stroke-width=\"3.2\"/>\n",
       "<circle clip-path=\"url(#clip262)\" cx=\"2152.86\" cy=\"1445.72\" r=\"14.4\" fill=\"#009af9\" fill-rule=\"evenodd\" fill-opacity=\"1\" stroke=\"#000000\" stroke-opacity=\"1\" stroke-width=\"3.2\"/>\n",
       "<circle clip-path=\"url(#clip262)\" cx=\"2166.67\" cy=\"1445.72\" r=\"14.4\" fill=\"#009af9\" fill-rule=\"evenodd\" fill-opacity=\"1\" stroke=\"#000000\" stroke-opacity=\"1\" stroke-width=\"3.2\"/>\n",
       "<circle clip-path=\"url(#clip262)\" cx=\"2180.49\" cy=\"1445.72\" r=\"14.4\" fill=\"#009af9\" fill-rule=\"evenodd\" fill-opacity=\"1\" stroke=\"#000000\" stroke-opacity=\"1\" stroke-width=\"3.2\"/>\n",
       "<circle clip-path=\"url(#clip262)\" cx=\"2194.3\" cy=\"1445.72\" r=\"14.4\" fill=\"#009af9\" fill-rule=\"evenodd\" fill-opacity=\"1\" stroke=\"#000000\" stroke-opacity=\"1\" stroke-width=\"3.2\"/>\n",
       "<circle clip-path=\"url(#clip262)\" cx=\"2208.12\" cy=\"1445.72\" r=\"14.4\" fill=\"#009af9\" fill-rule=\"evenodd\" fill-opacity=\"1\" stroke=\"#000000\" stroke-opacity=\"1\" stroke-width=\"3.2\"/>\n",
       "<circle clip-path=\"url(#clip262)\" cx=\"2221.93\" cy=\"1445.72\" r=\"14.4\" fill=\"#009af9\" fill-rule=\"evenodd\" fill-opacity=\"1\" stroke=\"#000000\" stroke-opacity=\"1\" stroke-width=\"3.2\"/>\n",
       "<circle clip-path=\"url(#clip262)\" cx=\"2235.75\" cy=\"1445.72\" r=\"14.4\" fill=\"#009af9\" fill-rule=\"evenodd\" fill-opacity=\"1\" stroke=\"#000000\" stroke-opacity=\"1\" stroke-width=\"3.2\"/>\n",
       "<circle clip-path=\"url(#clip262)\" cx=\"2249.56\" cy=\"1445.72\" r=\"14.4\" fill=\"#009af9\" fill-rule=\"evenodd\" fill-opacity=\"1\" stroke=\"#000000\" stroke-opacity=\"1\" stroke-width=\"3.2\"/>\n",
       "<circle clip-path=\"url(#clip262)\" cx=\"2263.37\" cy=\"1445.72\" r=\"14.4\" fill=\"#009af9\" fill-rule=\"evenodd\" fill-opacity=\"1\" stroke=\"#000000\" stroke-opacity=\"1\" stroke-width=\"3.2\"/>\n",
       "<circle clip-path=\"url(#clip262)\" cx=\"2277.19\" cy=\"1445.72\" r=\"14.4\" fill=\"#009af9\" fill-rule=\"evenodd\" fill-opacity=\"1\" stroke=\"#000000\" stroke-opacity=\"1\" stroke-width=\"3.2\"/>\n",
       "<circle clip-path=\"url(#clip262)\" cx=\"2291\" cy=\"1445.72\" r=\"14.4\" fill=\"#009af9\" fill-rule=\"evenodd\" fill-opacity=\"1\" stroke=\"#000000\" stroke-opacity=\"1\" stroke-width=\"3.2\"/>\n",
       "<path clip-path=\"url(#clip260)\" d=\"\n",
       "M2009.41 198.898 L2280.03 198.898 L2280.03 95.2176 L2009.41 95.2176  Z\n",
       "  \" fill=\"#ffffff\" fill-rule=\"evenodd\" fill-opacity=\"1\"/>\n",
       "<polyline clip-path=\"url(#clip260)\" style=\"stroke:#000000; stroke-linecap:round; stroke-linejoin:round; stroke-width:4; stroke-opacity:1; fill:none\" points=\"\n",
       "  2009.41,198.898 2280.03,198.898 2280.03,95.2176 2009.41,95.2176 2009.41,198.898 \n",
       "  \"/>\n",
       "<circle clip-path=\"url(#clip260)\" cx=\"2106.38\" cy=\"147.058\" r=\"23.04\" fill=\"#009af9\" fill-rule=\"evenodd\" fill-opacity=\"1\" stroke=\"#000000\" stroke-opacity=\"1\" stroke-width=\"5.12\"/>\n",
       "<path clip-path=\"url(#clip260)\" d=\"M2217.19 166.745 Q2215.39 171.375 2213.68 172.787 Q2211.96 174.199 2209.09 174.199 L2205.69 174.199 L2205.69 170.634 L2208.19 170.634 Q2209.95 170.634 2210.92 169.8 Q2211.89 168.967 2213.07 165.865 L2213.84 163.921 L2203.35 138.412 L2207.87 138.412 L2215.97 158.689 L2224.07 138.412 L2228.58 138.412 L2217.19 166.745 Z\" fill=\"#000000\" fill-rule=\"evenodd\" fill-opacity=\"1\" /><path clip-path=\"url(#clip260)\" d=\"M2235.88 160.402 L2243.51 160.402 L2243.51 134.037 L2235.2 135.703 L2235.2 131.444 L2243.47 129.778 L2248.14 129.778 L2248.14 160.402 L2255.78 160.402 L2255.78 164.338 L2235.88 164.338 L2235.88 160.402 Z\" fill=\"#000000\" fill-rule=\"evenodd\" fill-opacity=\"1\" /></svg>\n"
      ]
     },
     "execution_count": 16,
     "metadata": {},
     "output_type": "execute_result"
    }
   ],
   "source": [
    "scatter(svdvals(HW)) #  , yscale = :log10)"
   ]
  },
  {
   "cell_type": "code",
   "execution_count": 48,
   "id": "e90f3fdc-3f4b-4fb3-bde8-3c86dc198f50",
   "metadata": {},
   "outputs": [
    {
     "data": {
      "image/png": "[encoded data removed]",
      "text/html": [
       "<img src=\"data:image/png;base64,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\">"
      ],
      "text/plain": [
       "150×400 Array{Gray{Float32},2} with eltype Gray{Float32}:\n",
       " Gray{Float32}(1.00003)  Gray{Float32}(0.999906)  …  Gray{Float32}(0.999986)\n",
       " Gray{Float32}(1.00002)  Gray{Float32}(0.999903)     Gray{Float32}(0.999984)\n",
       " Gray{Float32}(1.00002)  Gray{Float32}(0.999903)     Gray{Float32}(0.999984)\n",
       " Gray{Float32}(1.00002)  Gray{Float32}(0.999903)     Gray{Float32}(0.999984)\n",
       " Gray{Float32}(1.00002)  Gray{Float32}(0.999903)     Gray{Float32}(0.999983)\n",
       " Gray{Float32}(1.00002)  Gray{Float32}(0.999903)  …  Gray{Float32}(0.999983)\n",
       " Gray{Float32}(1.00002)  Gray{Float32}(0.999903)     Gray{Float32}(0.999983)\n",
       " Gray{Float32}(1.00002)  Gray{Float32}(0.999903)     Gray{Float32}(0.999983)\n",
       " Gray{Float32}(1.00002)  Gray{Float32}(0.999903)     Gray{Float32}(0.999983)\n",
       " Gray{Float32}(1.00002)  Gray{Float32}(0.999903)     Gray{Float32}(0.999983)\n",
       " Gray{Float32}(1.00002)  Gray{Float32}(0.999903)  …  Gray{Float32}(0.999983)\n",
       " Gray{Float32}(1.00002)  Gray{Float32}(0.999903)     Gray{Float32}(0.999983)\n",
       " Gray{Float32}(1.00002)  Gray{Float32}(0.999903)     Gray{Float32}(0.999983)\n",
       " ⋮                                                ⋱  \n",
       " Gray{Float32}(1.00002)  Gray{Float32}(0.999905)     Gray{Float32}(0.999985)\n",
       " Gray{Float32}(1.00002)  Gray{Float32}(0.999905)     Gray{Float32}(0.999985)\n",
       " Gray{Float32}(1.00002)  Gray{Float32}(0.999905)  …  Gray{Float32}(0.999985)\n",
       " Gray{Float32}(1.00002)  Gray{Float32}(0.999905)     Gray{Float32}(0.999985)\n",
       " Gray{Float32}(1.00002)  Gray{Float32}(0.999905)     Gray{Float32}(0.999985)\n",
       " Gray{Float32}(1.00002)  Gray{Float32}(0.999905)     Gray{Float32}(0.999985)\n",
       " Gray{Float32}(1.00002)  Gray{Float32}(0.999905)     Gray{Float32}(0.999985)\n",
       " Gray{Float32}(1.00002)  Gray{Float32}(0.999905)  …  Gray{Float32}(0.999985)\n",
       " Gray{Float32}(1.00002)  Gray{Float32}(0.999905)     Gray{Float32}(0.999985)\n",
       " Gray{Float32}(1.00002)  Gray{Float32}(0.999905)     Gray{Float32}(0.999985)\n",
       " Gray{Float32}(1.00002)  Gray{Float32}(0.999905)     Gray{Float32}(0.999985)\n",
       " Gray{Float32}(1.00002)  Gray{Float32}(0.999905)     Gray{Float32}(0.999985)"
      ]
     },
     "execution_count": 48,
     "metadata": {},
     "output_type": "execute_result"
    }
   ],
   "source": [
    "Gray.(my_svd_approx(HW, 10))"
   ]
  },
  {
   "cell_type": "code",
   "execution_count": 18,
   "id": "6b292d4a-bd7d-4da6-8b4d-49fe94214053",
   "metadata": {},
   "outputs": [
    {
     "data": {
      "text/plain": [
       "((150, 10), (10, 400))"
      ]
     },
     "execution_count": 18,
     "metadata": {},
     "output_type": "execute_result"
    }
   ],
   "source": [
    "U,σ,V = svd(HW) \n",
    "size(U[:,1:10]), size(V[:,1:10]')"
   ]
  },
  {
   "cell_type": "code",
   "execution_count": 19,
   "id": "39c84755-9599-4197-8011-79a4205c6fdb",
   "metadata": {},
   "outputs": [
    {
     "data": {
      "text/plain": [
       "(60000, 5510)"
      ]
     },
     "execution_count": 19,
     "metadata": {},
     "output_type": "execute_result"
    }
   ],
   "source": [
    "prod(size(HW)), 150 * 10 + 10 + 10*400"
   ]
  },
  {
   "cell_type": "code",
   "execution_count": 20,
   "id": "d6f04671-3878-4b59-ba39-436887d94f92",
   "metadata": {},
   "outputs": [
    {
     "data": {
      "text/plain": [
       "svd_size (generic function with 1 method)"
      ]
     },
     "execution_count": 20,
     "metadata": {},
     "output_type": "execute_result"
    }
   ],
   "source": [
    "function svd_size(A, k) \n",
    "    m, n = size(A)\n",
    "    s = m*k + k + k*n\n",
    "    s, s/(m*n)\n",
    "end"
   ]
  },
  {
   "cell_type": "code",
   "execution_count": 21,
   "id": "6e641438-b586-4058-a3df-7fb269ca7cbe",
   "metadata": {},
   "outputs": [
    {
     "data": {
      "text/plain": [
       "(5510, 0.09183333333333334)"
      ]
     },
     "execution_count": 21,
     "metadata": {},
     "output_type": "execute_result"
    }
   ],
   "source": [
    "svd_size(HW, 10)"
   ]
  },
  {
   "cell_type": "code",
   "execution_count": 22,
   "id": "d688989e-d0e8-407e-bd48-2f2728f1e14f",
   "metadata": {},
   "outputs": [
    {
     "data": {
      "text/plain": [
       "(193, 320)"
      ]
     },
     "execution_count": 22,
     "metadata": {},
     "output_type": "execute_result"
    }
   ],
   "source": [
    "size(Chase)"
   ]
  },
  {
   "cell_type": "code",
   "execution_count": 23,
   "id": "b3b00687-5570-422f-a831-8a444670058f",
   "metadata": {},
   "outputs": [
    {
     "data": {
      "image/svg+xml": [
       "<?xml version=\"1.0\" encoding=\"utf-8\"?>\n",
       "<svg xmlns=\"http://www.w3.org/2000/svg\" xmlns:xlink=\"http://www.w3.org/1999/xlink\" width=\"600\" height=\"400\" viewBox=\"0 0 2400 1600\">\n",
       "<defs>\n",
       "  <clipPath id=\"clip300\">\n",
       "    <rect x=\"0\" y=\"0\" width=\"2400\" height=\"1600\"/>\n",
       "  </clipPath>\n",
       "</defs>\n",
       "<path clip-path=\"url(#clip300)\" d=\"\n",
       "M0 1600 L2400 1600 L2400 0 L0 0  Z\n",
       "  \" fill=\"#ffffff\" fill-rule=\"evenodd\" fill-opacity=\"1\"/>\n",
       "<defs>\n",
       "  <clipPath id=\"clip301\">\n",
       "    <rect x=\"480\" y=\"0\" width=\"1681\" height=\"1600\"/>\n",
       "  </clipPath>\n",
       "</defs>\n",
       "<path clip-path=\"url(#clip300)\" d=\"\n",
       "M158.369 1486.45 L2352.76 1486.45 L2352.76 47.2441 L158.369 47.2441  Z\n",
       "  \" fill=\"#ffffff\" fill-rule=\"evenodd\" fill-opacity=\"1\"/>\n",
       "<defs>\n",
       "  <clipPath id=\"clip302\">\n",
       "    <rect x=\"158\" y=\"47\" width=\"2195\" height=\"1440\"/>\n",
       "  </clipPath>\n",
       "</defs>\n",
       "<polyline clip-path=\"url(#clip302)\" style=\"stroke:#000000; stroke-linecap:round; stroke-linejoin:round; stroke-width:2; stroke-opacity:0.1; fill:none\" points=\"\n",
       "  209.692,1486.45 209.692,47.2441 \n",
       "  \"/>\n",
       "<polyline clip-path=\"url(#clip302)\" style=\"stroke:#000000; stroke-linecap:round; stroke-linejoin:round; stroke-width:2; stroke-opacity:0.1; fill:none\" points=\"\n",
       "  748.801,1486.45 748.801,47.2441 \n",
       "  \"/>\n",
       "<polyline clip-path=\"url(#clip302)\" style=\"stroke:#000000; stroke-linecap:round; stroke-linejoin:round; stroke-width:2; stroke-opacity:0.1; fill:none\" points=\"\n",
       "  1287.91,1486.45 1287.91,47.2441 \n",
       "  \"/>\n",
       "<polyline clip-path=\"url(#clip302)\" style=\"stroke:#000000; stroke-linecap:round; stroke-linejoin:round; stroke-width:2; stroke-opacity:0.1; fill:none\" points=\"\n",
       "  1827.02,1486.45 1827.02,47.2441 \n",
       "  \"/>\n",
       "<polyline clip-path=\"url(#clip300)\" style=\"stroke:#000000; stroke-linecap:round; stroke-linejoin:round; stroke-width:4; stroke-opacity:1; fill:none\" points=\"\n",
       "  158.369,1486.45 2352.76,1486.45 \n",
       "  \"/>\n",
       "<polyline clip-path=\"url(#clip300)\" style=\"stroke:#000000; stroke-linecap:round; stroke-linejoin:round; stroke-width:4; stroke-opacity:1; fill:none\" points=\"\n",
       "  209.692,1486.45 209.692,1467.55 \n",
       "  \"/>\n",
       "<polyline clip-path=\"url(#clip300)\" style=\"stroke:#000000; stroke-linecap:round; stroke-linejoin:round; stroke-width:4; stroke-opacity:1; fill:none\" points=\"\n",
       "  748.801,1486.45 748.801,1467.55 \n",
       "  \"/>\n",
       "<polyline clip-path=\"url(#clip300)\" style=\"stroke:#000000; stroke-linecap:round; stroke-linejoin:round; stroke-width:4; stroke-opacity:1; fill:none\" points=\"\n",
       "  1287.91,1486.45 1287.91,1467.55 \n",
       "  \"/>\n",
       "<polyline clip-path=\"url(#clip300)\" style=\"stroke:#000000; stroke-linecap:round; stroke-linejoin:round; stroke-width:4; stroke-opacity:1; fill:none\" points=\"\n",
       "  1827.02,1486.45 1827.02,1467.55 \n",
       "  \"/>\n",
       "<path clip-path=\"url(#clip300)\" d=\"M209.692 1517.37 Q206.081 1517.37 204.252 1520.93 Q202.447 1524.47 202.447 1531.6 Q202.447 1538.71 204.252 1542.27 Q206.081 1545.82 209.692 1545.82 Q213.326 1545.82 215.132 1542.27 Q216.961 1538.71 216.961 1531.6 Q216.961 1524.47 215.132 1520.93 Q213.326 1517.37 209.692 1517.37 M209.692 1513.66 Q215.502 1513.66 218.558 1518.27 Q221.637 1522.85 221.637 1531.6 Q221.637 1540.33 218.558 1544.94 Q215.502 1549.52 209.692 1549.52 Q203.882 1549.52 200.803 1544.94 Q197.748 1540.33 197.748 1531.6 Q197.748 1522.85 200.803 1518.27 Q203.882 1513.66 209.692 1513.66 Z\" fill=\"#000000\" fill-rule=\"evenodd\" fill-opacity=\"1\" /><path clip-path=\"url(#clip300)\" d=\"M723.5 1514.29 L741.856 1514.29 L741.856 1518.22 L727.782 1518.22 L727.782 1526.7 Q728.801 1526.35 729.819 1526.19 Q730.838 1526 731.856 1526 Q737.643 1526 741.023 1529.17 Q744.402 1532.34 744.402 1537.76 Q744.402 1543.34 740.93 1546.44 Q737.458 1549.52 731.139 1549.52 Q728.963 1549.52 726.694 1549.15 Q724.449 1548.78 722.041 1548.04 L722.041 1543.34 Q724.125 1544.47 726.347 1545.03 Q728.569 1545.58 731.046 1545.58 Q735.051 1545.58 737.389 1543.48 Q739.727 1541.37 739.727 1537.76 Q739.727 1534.15 737.389 1532.04 Q735.051 1529.94 731.046 1529.94 Q729.171 1529.94 727.296 1530.35 Q725.444 1530.77 723.5 1531.65 L723.5 1514.29 Z\" fill=\"#000000\" fill-rule=\"evenodd\" fill-opacity=\"1\" /><path clip-path=\"url(#clip300)\" d=\"M763.615 1517.37 Q760.004 1517.37 758.176 1520.93 Q756.37 1524.47 756.37 1531.6 Q756.37 1538.71 758.176 1542.27 Q760.004 1545.82 763.615 1545.82 Q767.25 1545.82 769.055 1542.27 Q770.884 1538.71 770.884 1531.6 Q770.884 1524.47 769.055 1520.93 Q767.25 1517.37 763.615 1517.37 M763.615 1513.66 Q769.425 1513.66 772.481 1518.27 Q775.56 1522.85 775.56 1531.6 Q775.56 1540.33 772.481 1544.94 Q769.425 1549.52 763.615 1549.52 Q757.805 1549.52 754.726 1544.94 Q751.671 1540.33 751.671 1531.6 Q751.671 1522.85 754.726 1518.27 Q757.805 1513.66 763.615 1513.66 Z\" fill=\"#000000\" fill-rule=\"evenodd\" fill-opacity=\"1\" /><path clip-path=\"url(#clip300)\" d=\"M1247.52 1544.91 L1255.15 1544.91 L1255.15 1518.55 L1246.84 1520.21 L1246.84 1515.95 L1255.11 1514.29 L1259.78 1514.29 L1259.78 1544.91 L1267.42 1544.91 L1267.42 1548.85 L1247.52 1548.85 L1247.52 1544.91 Z\" fill=\"#000000\" fill-rule=\"evenodd\" fill-opacity=\"1\" /><path clip-path=\"url(#clip300)\" d=\"M1286.87 1517.37 Q1283.26 1517.37 1281.43 1520.93 Q1279.62 1524.47 1279.62 1531.6 Q1279.62 1538.71 1281.43 1542.27 Q1283.26 1545.82 1286.87 1545.82 Q1290.5 1545.82 1292.31 1542.27 Q1294.14 1538.71 1294.14 1531.6 Q1294.14 1524.47 1292.31 1520.93 Q1290.5 1517.37 1286.87 1517.37 M1286.87 1513.66 Q1292.68 1513.66 1295.73 1518.27 Q1298.81 1522.85 1298.81 1531.6 Q1298.81 1540.33 1295.73 1544.94 Q1292.68 1549.52 1286.87 1549.52 Q1281.06 1549.52 1277.98 1544.94 Q1274.92 1540.33 1274.92 1531.6 Q1274.92 1522.85 1277.98 1518.27 Q1281.06 1513.66 1286.87 1513.66 Z\" fill=\"#000000\" fill-rule=\"evenodd\" fill-opacity=\"1\" /><path clip-path=\"url(#clip300)\" d=\"M1317.03 1517.37 Q1313.42 1517.37 1311.59 1520.93 Q1309.78 1524.47 1309.78 1531.6 Q1309.78 1538.71 1311.59 1542.27 Q1313.42 1545.82 1317.03 1545.82 Q1320.66 1545.82 1322.47 1542.27 Q1324.3 1538.71 1324.3 1531.6 Q1324.3 1524.47 1322.47 1520.93 Q1320.66 1517.37 1317.03 1517.37 M1317.03 1513.66 Q1322.84 1513.66 1325.89 1518.27 Q1328.97 1522.85 1328.97 1531.6 Q1328.97 1540.33 1325.89 1544.94 Q1322.84 1549.52 1317.03 1549.52 Q1311.22 1549.52 1308.14 1544.94 Q1305.08 1540.33 1305.08 1531.6 Q1305.08 1522.85 1308.14 1518.27 Q1311.22 1513.66 1317.03 1513.66 Z\" fill=\"#000000\" fill-rule=\"evenodd\" fill-opacity=\"1\" /><path clip-path=\"url(#clip300)\" d=\"M1786.62 1544.91 L1794.26 1544.91 L1794.26 1518.55 L1785.95 1520.21 L1785.95 1515.95 L1794.22 1514.29 L1798.89 1514.29 L1798.89 1544.91 L1806.53 1544.91 L1806.53 1548.85 L1786.62 1548.85 L1786.62 1544.91 Z\" fill=\"#000000\" fill-rule=\"evenodd\" fill-opacity=\"1\" /><path clip-path=\"url(#clip300)\" d=\"M1816.02 1514.29 L1834.38 1514.29 L1834.38 1518.22 L1820.3 1518.22 L1820.3 1526.7 Q1821.32 1526.35 1822.34 1526.19 Q1823.36 1526 1824.38 1526 Q1830.17 1526 1833.55 1529.17 Q1836.92 1532.34 1836.92 1537.76 Q1836.92 1543.34 1833.45 1546.44 Q1829.98 1549.52 1823.66 1549.52 Q1821.49 1549.52 1819.22 1549.15 Q1816.97 1548.78 1814.56 1548.04 L1814.56 1543.34 Q1816.65 1544.47 1818.87 1545.03 Q1821.09 1545.58 1823.57 1545.58 Q1827.57 1545.58 1829.91 1543.48 Q1832.25 1541.37 1832.25 1537.76 Q1832.25 1534.15 1829.91 1532.04 Q1827.57 1529.94 1823.57 1529.94 Q1821.69 1529.94 1819.82 1530.35 Q1817.97 1530.77 1816.02 1531.65 L1816.02 1514.29 Z\" fill=\"#000000\" fill-rule=\"evenodd\" fill-opacity=\"1\" /><path clip-path=\"url(#clip300)\" d=\"M1856.14 1517.37 Q1852.53 1517.37 1850.7 1520.93 Q1848.89 1524.47 1848.89 1531.6 Q1848.89 1538.71 1850.7 1542.27 Q1852.53 1545.82 1856.14 1545.82 Q1859.77 1545.82 1861.58 1542.27 Q1863.41 1538.71 1863.41 1531.6 Q1863.41 1524.47 1861.58 1520.93 Q1859.77 1517.37 1856.14 1517.37 M1856.14 1513.66 Q1861.95 1513.66 1865 1518.27 Q1868.08 1522.85 1868.08 1531.6 Q1868.08 1540.33 1865 1544.94 Q1861.95 1549.52 1856.14 1549.52 Q1850.33 1549.52 1847.25 1544.94 Q1844.19 1540.33 1844.19 1531.6 Q1844.19 1522.85 1847.25 1518.27 Q1850.33 1513.66 1856.14 1513.66 Z\" fill=\"#000000\" fill-rule=\"evenodd\" fill-opacity=\"1\" /><polyline clip-path=\"url(#clip302)\" style=\"stroke:#000000; stroke-linecap:round; stroke-linejoin:round; stroke-width:2; stroke-opacity:0.1; fill:none\" points=\"\n",
       "  158.369,1004.38 2352.76,1004.38 \n",
       "  \"/>\n",
       "<polyline clip-path=\"url(#clip302)\" style=\"stroke:#000000; stroke-linecap:round; stroke-linejoin:round; stroke-width:2; stroke-opacity:0.1; fill:none\" points=\"\n",
       "  158.369,116.04 2352.76,116.04 \n",
       "  \"/>\n",
       "<polyline clip-path=\"url(#clip300)\" style=\"stroke:#000000; stroke-linecap:round; stroke-linejoin:round; stroke-width:4; stroke-opacity:1; fill:none\" points=\"\n",
       "  158.369,1486.45 158.369,47.2441 \n",
       "  \"/>\n",
       "<polyline clip-path=\"url(#clip300)\" style=\"stroke:#000000; stroke-linecap:round; stroke-linejoin:round; stroke-width:4; stroke-opacity:1; fill:none\" points=\"\n",
       "  158.369,1004.38 177.267,1004.38 \n",
       "  \"/>\n",
       "<polyline clip-path=\"url(#clip300)\" style=\"stroke:#000000; stroke-linecap:round; stroke-linejoin:round; stroke-width:4; stroke-opacity:1; fill:none\" points=\"\n",
       "  158.369,116.04 177.267,116.04 \n",
       "  \"/>\n",
       "<path clip-path=\"url(#clip300)\" d=\"M51.6634 1024.17 L59.3023 1024.17 L59.3023 997.807 L50.9921 999.474 L50.9921 995.215 L59.256 993.548 L63.9319 993.548 L63.9319 1024.17 L71.5707 1024.17 L71.5707 1028.11 L51.6634 1028.11 L51.6634 1024.17 Z\" fill=\"#000000\" fill-rule=\"evenodd\" fill-opacity=\"1\" /><path clip-path=\"url(#clip300)\" d=\"M91.0151 996.627 Q87.404 996.627 85.5753 1000.19 Q83.7697 1003.73 83.7697 1010.86 Q83.7697 1017.97 85.5753 1021.53 Q87.404 1025.08 91.0151 1025.08 Q94.6493 1025.08 96.4548 1021.53 Q98.2835 1017.97 98.2835 1010.86 Q98.2835 1003.73 96.4548 1000.19 Q94.6493 996.627 91.0151 996.627 M91.0151 992.923 Q96.8252 992.923 99.8808 997.53 Q102.959 1002.11 102.959 1010.86 Q102.959 1019.59 99.8808 1024.2 Q96.8252 1028.78 91.0151 1028.78 Q85.2049 1028.78 82.1262 1024.2 Q79.0707 1019.59 79.0707 1010.86 Q79.0707 1002.11 82.1262 997.53 Q85.2049 992.923 91.0151 992.923 Z\" fill=\"#000000\" fill-rule=\"evenodd\" fill-opacity=\"1\" /><path clip-path=\"url(#clip300)\" d=\"M112.664 975.119 Q109.73 975.119 108.244 978.016 Q106.777 980.893 106.777 986.686 Q106.777 992.46 108.244 995.356 Q109.73 998.234 112.664 998.234 Q115.617 998.234 117.084 995.356 Q118.57 992.46 118.57 986.686 Q118.57 980.893 117.084 978.016 Q115.617 975.119 112.664 975.119 M112.664 972.11 Q117.385 972.11 119.868 975.853 Q122.369 979.577 122.369 986.686 Q122.369 993.777 119.868 997.519 Q117.385 1001.24 112.664 1001.24 Q107.943 1001.24 105.442 997.519 Q102.959 993.777 102.959 986.686 Q102.959 979.577 105.442 975.853 Q107.943 972.11 112.664 972.11 Z\" fill=\"#000000\" fill-rule=\"evenodd\" fill-opacity=\"1\" /><path clip-path=\"url(#clip300)\" d=\"M53.2433 135.833 L60.8821 135.833 L60.8821 109.467 L52.572 111.134 L52.572 106.875 L60.8358 105.208 L65.5117 105.208 L65.5117 135.833 L73.1506 135.833 L73.1506 139.768 L53.2433 139.768 L53.2433 135.833 Z\" fill=\"#000000\" fill-rule=\"evenodd\" fill-opacity=\"1\" /><path clip-path=\"url(#clip300)\" d=\"M92.5949 108.287 Q88.9838 108.287 87.1551 111.852 Q85.3496 115.393 85.3496 122.523 Q85.3496 129.629 87.1551 133.194 Q88.9838 136.736 92.5949 136.736 Q96.2292 136.736 98.0347 133.194 Q99.8634 129.629 99.8634 122.523 Q99.8634 115.393 98.0347 111.852 Q96.2292 108.287 92.5949 108.287 M92.5949 104.583 Q98.4051 104.583 101.461 109.189 Q104.539 113.773 104.539 122.523 Q104.539 131.25 101.461 135.856 Q98.4051 140.439 92.5949 140.439 Q86.7848 140.439 83.7061 135.856 Q80.6505 131.25 80.6505 122.523 Q80.6505 113.773 83.7061 109.189 Q86.7848 104.583 92.5949 104.583 Z\" fill=\"#000000\" fill-rule=\"evenodd\" fill-opacity=\"1\" /><path clip-path=\"url(#clip300)\" d=\"M109.11 109.16 L122.369 109.16 L122.369 112.358 L104.539 112.358 L104.539 109.16 Q106.702 106.922 110.426 103.161 Q114.169 99.3803 115.128 98.2894 Q116.952 96.2394 117.667 94.8288 Q118.401 93.3994 118.401 92.0264 Q118.401 89.7883 116.821 88.3777 Q115.26 86.9671 112.739 86.9671 Q110.953 86.9671 108.959 87.5878 Q106.984 88.2084 104.727 89.4686 L104.727 85.6318 Q107.022 84.7102 109.016 84.24 Q111.009 83.7698 112.664 83.7698 Q117.028 83.7698 119.623 85.9515 Q122.219 88.1332 122.219 91.7819 Q122.219 93.5122 121.56 95.0733 Q120.921 96.6155 119.209 98.722 Q118.739 99.2674 116.219 101.882 Q113.699 104.477 109.11 109.16 Z\" fill=\"#000000\" fill-rule=\"evenodd\" fill-opacity=\"1\" /><circle clip-path=\"url(#clip302)\" cx=\"220.474\" cy=\"87.9763\" r=\"14.4\" fill=\"#009af9\" fill-rule=\"evenodd\" fill-opacity=\"1\" stroke=\"#000000\" stroke-opacity=\"1\" stroke-width=\"3.2\"/>\n",
       "<circle clip-path=\"url(#clip302)\" cx=\"231.257\" cy=\"408.311\" r=\"14.4\" fill=\"#009af9\" fill-rule=\"evenodd\" fill-opacity=\"1\" stroke=\"#000000\" stroke-opacity=\"1\" stroke-width=\"3.2\"/>\n",
       "<circle clip-path=\"url(#clip302)\" cx=\"242.039\" cy=\"457.514\" r=\"14.4\" fill=\"#009af9\" fill-rule=\"evenodd\" fill-opacity=\"1\" stroke=\"#000000\" stroke-opacity=\"1\" stroke-width=\"3.2\"/>\n",
       "<circle clip-path=\"url(#clip302)\" cx=\"252.821\" cy=\"514.333\" r=\"14.4\" fill=\"#009af9\" fill-rule=\"evenodd\" fill-opacity=\"1\" stroke=\"#000000\" stroke-opacity=\"1\" stroke-width=\"3.2\"/>\n",
       "<circle clip-path=\"url(#clip302)\" cx=\"263.603\" cy=\"575.37\" r=\"14.4\" fill=\"#009af9\" fill-rule=\"evenodd\" fill-opacity=\"1\" stroke=\"#000000\" stroke-opacity=\"1\" stroke-width=\"3.2\"/>\n",
       "<circle clip-path=\"url(#clip302)\" cx=\"274.385\" cy=\"596.038\" r=\"14.4\" fill=\"#009af9\" fill-rule=\"evenodd\" fill-opacity=\"1\" stroke=\"#000000\" stroke-opacity=\"1\" stroke-width=\"3.2\"/>\n",
       "<circle clip-path=\"url(#clip302)\" cx=\"285.167\" cy=\"634.488\" r=\"14.4\" fill=\"#009af9\" fill-rule=\"evenodd\" fill-opacity=\"1\" stroke=\"#000000\" stroke-opacity=\"1\" stroke-width=\"3.2\"/>\n",
       "<circle clip-path=\"url(#clip302)\" cx=\"295.95\" cy=\"654.825\" r=\"14.4\" fill=\"#009af9\" fill-rule=\"evenodd\" fill-opacity=\"1\" stroke=\"#000000\" stroke-opacity=\"1\" stroke-width=\"3.2\"/>\n",
       "<circle clip-path=\"url(#clip302)\" cx=\"306.732\" cy=\"675.832\" r=\"14.4\" fill=\"#009af9\" fill-rule=\"evenodd\" fill-opacity=\"1\" stroke=\"#000000\" stroke-opacity=\"1\" stroke-width=\"3.2\"/>\n",
       "<circle clip-path=\"url(#clip302)\" cx=\"317.514\" cy=\"682.824\" r=\"14.4\" fill=\"#009af9\" fill-rule=\"evenodd\" fill-opacity=\"1\" stroke=\"#000000\" stroke-opacity=\"1\" stroke-width=\"3.2\"/>\n",
       "<circle clip-path=\"url(#clip302)\" cx=\"328.296\" cy=\"693.808\" r=\"14.4\" fill=\"#009af9\" fill-rule=\"evenodd\" fill-opacity=\"1\" stroke=\"#000000\" stroke-opacity=\"1\" stroke-width=\"3.2\"/>\n",
       "<circle clip-path=\"url(#clip302)\" cx=\"339.078\" cy=\"721.339\" r=\"14.4\" fill=\"#009af9\" fill-rule=\"evenodd\" fill-opacity=\"1\" stroke=\"#000000\" stroke-opacity=\"1\" stroke-width=\"3.2\"/>\n",
       "<circle clip-path=\"url(#clip302)\" cx=\"349.86\" cy=\"730.893\" r=\"14.4\" fill=\"#009af9\" fill-rule=\"evenodd\" fill-opacity=\"1\" stroke=\"#000000\" stroke-opacity=\"1\" stroke-width=\"3.2\"/>\n",
       "<circle clip-path=\"url(#clip302)\" cx=\"360.643\" cy=\"738.995\" r=\"14.4\" fill=\"#009af9\" fill-rule=\"evenodd\" fill-opacity=\"1\" stroke=\"#000000\" stroke-opacity=\"1\" stroke-width=\"3.2\"/>\n",
       "<circle clip-path=\"url(#clip302)\" cx=\"371.425\" cy=\"750.026\" r=\"14.4\" fill=\"#009af9\" fill-rule=\"evenodd\" fill-opacity=\"1\" stroke=\"#000000\" stroke-opacity=\"1\" stroke-width=\"3.2\"/>\n",
       "<circle clip-path=\"url(#clip302)\" cx=\"382.207\" cy=\"755.821\" r=\"14.4\" fill=\"#009af9\" fill-rule=\"evenodd\" fill-opacity=\"1\" stroke=\"#000000\" stroke-opacity=\"1\" stroke-width=\"3.2\"/>\n",
       "<circle clip-path=\"url(#clip302)\" cx=\"392.989\" cy=\"762.778\" r=\"14.4\" fill=\"#009af9\" fill-rule=\"evenodd\" fill-opacity=\"1\" stroke=\"#000000\" stroke-opacity=\"1\" stroke-width=\"3.2\"/>\n",
       "<circle clip-path=\"url(#clip302)\" cx=\"403.771\" cy=\"774.454\" r=\"14.4\" fill=\"#009af9\" fill-rule=\"evenodd\" fill-opacity=\"1\" stroke=\"#000000\" stroke-opacity=\"1\" stroke-width=\"3.2\"/>\n",
       "<circle clip-path=\"url(#clip302)\" cx=\"414.553\" cy=\"775.479\" r=\"14.4\" fill=\"#009af9\" fill-rule=\"evenodd\" fill-opacity=\"1\" stroke=\"#000000\" stroke-opacity=\"1\" stroke-width=\"3.2\"/>\n",
       "<circle clip-path=\"url(#clip302)\" cx=\"425.336\" cy=\"778.265\" r=\"14.4\" fill=\"#009af9\" fill-rule=\"evenodd\" fill-opacity=\"1\" stroke=\"#000000\" stroke-opacity=\"1\" stroke-width=\"3.2\"/>\n",
       "<circle clip-path=\"url(#clip302)\" cx=\"436.118\" cy=\"787.252\" r=\"14.4\" fill=\"#009af9\" fill-rule=\"evenodd\" fill-opacity=\"1\" stroke=\"#000000\" stroke-opacity=\"1\" stroke-width=\"3.2\"/>\n",
       "<circle clip-path=\"url(#clip302)\" cx=\"446.9\" cy=\"792.86\" r=\"14.4\" fill=\"#009af9\" fill-rule=\"evenodd\" fill-opacity=\"1\" stroke=\"#000000\" stroke-opacity=\"1\" stroke-width=\"3.2\"/>\n",
       "<circle clip-path=\"url(#clip302)\" cx=\"457.682\" cy=\"796.504\" r=\"14.4\" fill=\"#009af9\" fill-rule=\"evenodd\" fill-opacity=\"1\" stroke=\"#000000\" stroke-opacity=\"1\" stroke-width=\"3.2\"/>\n",
       "<circle clip-path=\"url(#clip302)\" cx=\"468.464\" cy=\"802.569\" r=\"14.4\" fill=\"#009af9\" fill-rule=\"evenodd\" fill-opacity=\"1\" stroke=\"#000000\" stroke-opacity=\"1\" stroke-width=\"3.2\"/>\n",
       "<circle clip-path=\"url(#clip302)\" cx=\"479.246\" cy=\"808.372\" r=\"14.4\" fill=\"#009af9\" fill-rule=\"evenodd\" fill-opacity=\"1\" stroke=\"#000000\" stroke-opacity=\"1\" stroke-width=\"3.2\"/>\n",
       "<circle clip-path=\"url(#clip302)\" cx=\"490.029\" cy=\"816.868\" r=\"14.4\" fill=\"#009af9\" fill-rule=\"evenodd\" fill-opacity=\"1\" stroke=\"#000000\" stroke-opacity=\"1\" stroke-width=\"3.2\"/>\n",
       "<circle clip-path=\"url(#clip302)\" cx=\"500.811\" cy=\"819.526\" r=\"14.4\" fill=\"#009af9\" fill-rule=\"evenodd\" fill-opacity=\"1\" stroke=\"#000000\" stroke-opacity=\"1\" stroke-width=\"3.2\"/>\n",
       "<circle clip-path=\"url(#clip302)\" cx=\"511.593\" cy=\"825.434\" r=\"14.4\" fill=\"#009af9\" fill-rule=\"evenodd\" fill-opacity=\"1\" stroke=\"#000000\" stroke-opacity=\"1\" stroke-width=\"3.2\"/>\n",
       "<circle clip-path=\"url(#clip302)\" cx=\"522.375\" cy=\"828.251\" r=\"14.4\" fill=\"#009af9\" fill-rule=\"evenodd\" fill-opacity=\"1\" stroke=\"#000000\" stroke-opacity=\"1\" stroke-width=\"3.2\"/>\n",
       "<circle clip-path=\"url(#clip302)\" cx=\"533.157\" cy=\"833.997\" r=\"14.4\" fill=\"#009af9\" fill-rule=\"evenodd\" fill-opacity=\"1\" stroke=\"#000000\" stroke-opacity=\"1\" stroke-width=\"3.2\"/>\n",
       "<circle clip-path=\"url(#clip302)\" cx=\"543.939\" cy=\"834.269\" r=\"14.4\" fill=\"#009af9\" fill-rule=\"evenodd\" fill-opacity=\"1\" stroke=\"#000000\" stroke-opacity=\"1\" stroke-width=\"3.2\"/>\n",
       "<circle clip-path=\"url(#clip302)\" cx=\"554.722\" cy=\"837.622\" r=\"14.4\" fill=\"#009af9\" fill-rule=\"evenodd\" fill-opacity=\"1\" stroke=\"#000000\" stroke-opacity=\"1\" stroke-width=\"3.2\"/>\n",
       "<circle clip-path=\"url(#clip302)\" cx=\"565.504\" cy=\"841.245\" r=\"14.4\" fill=\"#009af9\" fill-rule=\"evenodd\" fill-opacity=\"1\" stroke=\"#000000\" stroke-opacity=\"1\" stroke-width=\"3.2\"/>\n",
       "<circle clip-path=\"url(#clip302)\" cx=\"576.286\" cy=\"847.533\" r=\"14.4\" fill=\"#009af9\" fill-rule=\"evenodd\" fill-opacity=\"1\" stroke=\"#000000\" stroke-opacity=\"1\" stroke-width=\"3.2\"/>\n",
       "<circle clip-path=\"url(#clip302)\" cx=\"587.068\" cy=\"849.695\" r=\"14.4\" fill=\"#009af9\" fill-rule=\"evenodd\" fill-opacity=\"1\" stroke=\"#000000\" stroke-opacity=\"1\" stroke-width=\"3.2\"/>\n",
       "<circle clip-path=\"url(#clip302)\" cx=\"597.85\" cy=\"854.681\" r=\"14.4\" fill=\"#009af9\" fill-rule=\"evenodd\" fill-opacity=\"1\" stroke=\"#000000\" stroke-opacity=\"1\" stroke-width=\"3.2\"/>\n",
       "<circle clip-path=\"url(#clip302)\" cx=\"608.632\" cy=\"857.56\" r=\"14.4\" fill=\"#009af9\" fill-rule=\"evenodd\" fill-opacity=\"1\" stroke=\"#000000\" stroke-opacity=\"1\" stroke-width=\"3.2\"/>\n",
       "<circle clip-path=\"url(#clip302)\" cx=\"619.415\" cy=\"859.548\" r=\"14.4\" fill=\"#009af9\" fill-rule=\"evenodd\" fill-opacity=\"1\" stroke=\"#000000\" stroke-opacity=\"1\" stroke-width=\"3.2\"/>\n",
       "<circle clip-path=\"url(#clip302)\" cx=\"630.197\" cy=\"863.33\" r=\"14.4\" fill=\"#009af9\" fill-rule=\"evenodd\" fill-opacity=\"1\" stroke=\"#000000\" stroke-opacity=\"1\" stroke-width=\"3.2\"/>\n",
       "<circle clip-path=\"url(#clip302)\" cx=\"640.979\" cy=\"864.937\" r=\"14.4\" fill=\"#009af9\" fill-rule=\"evenodd\" fill-opacity=\"1\" stroke=\"#000000\" stroke-opacity=\"1\" stroke-width=\"3.2\"/>\n",
       "<circle clip-path=\"url(#clip302)\" cx=\"651.761\" cy=\"867.2\" r=\"14.4\" fill=\"#009af9\" fill-rule=\"evenodd\" fill-opacity=\"1\" stroke=\"#000000\" stroke-opacity=\"1\" stroke-width=\"3.2\"/>\n",
       "<circle clip-path=\"url(#clip302)\" cx=\"662.543\" cy=\"868.652\" r=\"14.4\" fill=\"#009af9\" fill-rule=\"evenodd\" fill-opacity=\"1\" stroke=\"#000000\" stroke-opacity=\"1\" stroke-width=\"3.2\"/>\n",
       "<circle clip-path=\"url(#clip302)\" cx=\"673.325\" cy=\"874.795\" r=\"14.4\" fill=\"#009af9\" fill-rule=\"evenodd\" fill-opacity=\"1\" stroke=\"#000000\" stroke-opacity=\"1\" stroke-width=\"3.2\"/>\n",
       "<circle clip-path=\"url(#clip302)\" cx=\"684.108\" cy=\"878.213\" r=\"14.4\" fill=\"#009af9\" fill-rule=\"evenodd\" fill-opacity=\"1\" stroke=\"#000000\" stroke-opacity=\"1\" stroke-width=\"3.2\"/>\n",
       "<circle clip-path=\"url(#clip302)\" cx=\"694.89\" cy=\"880.651\" r=\"14.4\" fill=\"#009af9\" fill-rule=\"evenodd\" fill-opacity=\"1\" stroke=\"#000000\" stroke-opacity=\"1\" stroke-width=\"3.2\"/>\n",
       "<circle clip-path=\"url(#clip302)\" cx=\"705.672\" cy=\"883.437\" r=\"14.4\" fill=\"#009af9\" fill-rule=\"evenodd\" fill-opacity=\"1\" stroke=\"#000000\" stroke-opacity=\"1\" stroke-width=\"3.2\"/>\n",
       "<circle clip-path=\"url(#clip302)\" cx=\"716.454\" cy=\"885.974\" r=\"14.4\" fill=\"#009af9\" fill-rule=\"evenodd\" fill-opacity=\"1\" stroke=\"#000000\" stroke-opacity=\"1\" stroke-width=\"3.2\"/>\n",
       "<circle clip-path=\"url(#clip302)\" cx=\"727.236\" cy=\"889.203\" r=\"14.4\" fill=\"#009af9\" fill-rule=\"evenodd\" fill-opacity=\"1\" stroke=\"#000000\" stroke-opacity=\"1\" stroke-width=\"3.2\"/>\n",
       "<circle clip-path=\"url(#clip302)\" cx=\"738.018\" cy=\"891.731\" r=\"14.4\" fill=\"#009af9\" fill-rule=\"evenodd\" fill-opacity=\"1\" stroke=\"#000000\" stroke-opacity=\"1\" stroke-width=\"3.2\"/>\n",
       "<circle clip-path=\"url(#clip302)\" cx=\"748.801\" cy=\"892.469\" r=\"14.4\" fill=\"#009af9\" fill-rule=\"evenodd\" fill-opacity=\"1\" stroke=\"#000000\" stroke-opacity=\"1\" stroke-width=\"3.2\"/>\n",
       "<circle clip-path=\"url(#clip302)\" cx=\"759.583\" cy=\"895.054\" r=\"14.4\" fill=\"#009af9\" fill-rule=\"evenodd\" fill-opacity=\"1\" stroke=\"#000000\" stroke-opacity=\"1\" stroke-width=\"3.2\"/>\n",
       "<circle clip-path=\"url(#clip302)\" cx=\"770.365\" cy=\"898.328\" r=\"14.4\" fill=\"#009af9\" fill-rule=\"evenodd\" fill-opacity=\"1\" stroke=\"#000000\" stroke-opacity=\"1\" stroke-width=\"3.2\"/>\n",
       "<circle clip-path=\"url(#clip302)\" cx=\"781.147\" cy=\"900.072\" r=\"14.4\" fill=\"#009af9\" fill-rule=\"evenodd\" fill-opacity=\"1\" stroke=\"#000000\" stroke-opacity=\"1\" stroke-width=\"3.2\"/>\n",
       "<circle clip-path=\"url(#clip302)\" cx=\"791.929\" cy=\"902.527\" r=\"14.4\" fill=\"#009af9\" fill-rule=\"evenodd\" fill-opacity=\"1\" stroke=\"#000000\" stroke-opacity=\"1\" stroke-width=\"3.2\"/>\n",
       "<circle clip-path=\"url(#clip302)\" cx=\"802.711\" cy=\"905.518\" r=\"14.4\" fill=\"#009af9\" fill-rule=\"evenodd\" fill-opacity=\"1\" stroke=\"#000000\" stroke-opacity=\"1\" stroke-width=\"3.2\"/>\n",
       "<circle clip-path=\"url(#clip302)\" cx=\"813.494\" cy=\"908.155\" r=\"14.4\" fill=\"#009af9\" fill-rule=\"evenodd\" fill-opacity=\"1\" stroke=\"#000000\" stroke-opacity=\"1\" stroke-width=\"3.2\"/>\n",
       "<circle clip-path=\"url(#clip302)\" cx=\"824.276\" cy=\"910.155\" r=\"14.4\" fill=\"#009af9\" fill-rule=\"evenodd\" fill-opacity=\"1\" stroke=\"#000000\" stroke-opacity=\"1\" stroke-width=\"3.2\"/>\n",
       "<circle clip-path=\"url(#clip302)\" cx=\"835.058\" cy=\"913.765\" r=\"14.4\" fill=\"#009af9\" fill-rule=\"evenodd\" fill-opacity=\"1\" stroke=\"#000000\" stroke-opacity=\"1\" stroke-width=\"3.2\"/>\n",
       "<circle clip-path=\"url(#clip302)\" cx=\"845.84\" cy=\"915.728\" r=\"14.4\" fill=\"#009af9\" fill-rule=\"evenodd\" fill-opacity=\"1\" stroke=\"#000000\" stroke-opacity=\"1\" stroke-width=\"3.2\"/>\n",
       "<circle clip-path=\"url(#clip302)\" cx=\"856.622\" cy=\"918.507\" r=\"14.4\" fill=\"#009af9\" fill-rule=\"evenodd\" fill-opacity=\"1\" stroke=\"#000000\" stroke-opacity=\"1\" stroke-width=\"3.2\"/>\n",
       "<circle clip-path=\"url(#clip302)\" cx=\"867.404\" cy=\"920.561\" r=\"14.4\" fill=\"#009af9\" fill-rule=\"evenodd\" fill-opacity=\"1\" stroke=\"#000000\" stroke-opacity=\"1\" stroke-width=\"3.2\"/>\n",
       "<circle clip-path=\"url(#clip302)\" cx=\"878.187\" cy=\"922.198\" r=\"14.4\" fill=\"#009af9\" fill-rule=\"evenodd\" fill-opacity=\"1\" stroke=\"#000000\" stroke-opacity=\"1\" stroke-width=\"3.2\"/>\n",
       "<circle clip-path=\"url(#clip302)\" cx=\"888.969\" cy=\"923.867\" r=\"14.4\" fill=\"#009af9\" fill-rule=\"evenodd\" fill-opacity=\"1\" stroke=\"#000000\" stroke-opacity=\"1\" stroke-width=\"3.2\"/>\n",
       "<circle clip-path=\"url(#clip302)\" cx=\"899.751\" cy=\"927.355\" r=\"14.4\" fill=\"#009af9\" fill-rule=\"evenodd\" fill-opacity=\"1\" stroke=\"#000000\" stroke-opacity=\"1\" stroke-width=\"3.2\"/>\n",
       "<circle clip-path=\"url(#clip302)\" cx=\"910.533\" cy=\"931.7\" r=\"14.4\" fill=\"#009af9\" fill-rule=\"evenodd\" fill-opacity=\"1\" stroke=\"#000000\" stroke-opacity=\"1\" stroke-width=\"3.2\"/>\n",
       "<circle clip-path=\"url(#clip302)\" cx=\"921.315\" cy=\"933.421\" r=\"14.4\" fill=\"#009af9\" fill-rule=\"evenodd\" fill-opacity=\"1\" stroke=\"#000000\" stroke-opacity=\"1\" stroke-width=\"3.2\"/>\n",
       "<circle clip-path=\"url(#clip302)\" cx=\"932.097\" cy=\"935.261\" r=\"14.4\" fill=\"#009af9\" fill-rule=\"evenodd\" fill-opacity=\"1\" stroke=\"#000000\" stroke-opacity=\"1\" stroke-width=\"3.2\"/>\n",
       "<circle clip-path=\"url(#clip302)\" cx=\"942.88\" cy=\"937.031\" r=\"14.4\" fill=\"#009af9\" fill-rule=\"evenodd\" fill-opacity=\"1\" stroke=\"#000000\" stroke-opacity=\"1\" stroke-width=\"3.2\"/>\n",
       "<circle clip-path=\"url(#clip302)\" cx=\"953.662\" cy=\"938.118\" r=\"14.4\" fill=\"#009af9\" fill-rule=\"evenodd\" fill-opacity=\"1\" stroke=\"#000000\" stroke-opacity=\"1\" stroke-width=\"3.2\"/>\n",
       "<circle clip-path=\"url(#clip302)\" cx=\"964.444\" cy=\"938.84\" r=\"14.4\" fill=\"#009af9\" fill-rule=\"evenodd\" fill-opacity=\"1\" stroke=\"#000000\" stroke-opacity=\"1\" stroke-width=\"3.2\"/>\n",
       "<circle clip-path=\"url(#clip302)\" cx=\"975.226\" cy=\"941.467\" r=\"14.4\" fill=\"#009af9\" fill-rule=\"evenodd\" fill-opacity=\"1\" stroke=\"#000000\" stroke-opacity=\"1\" stroke-width=\"3.2\"/>\n",
       "<circle clip-path=\"url(#clip302)\" cx=\"986.008\" cy=\"942.084\" r=\"14.4\" fill=\"#009af9\" fill-rule=\"evenodd\" fill-opacity=\"1\" stroke=\"#000000\" stroke-opacity=\"1\" stroke-width=\"3.2\"/>\n",
       "<circle clip-path=\"url(#clip302)\" cx=\"996.79\" cy=\"946.311\" r=\"14.4\" fill=\"#009af9\" fill-rule=\"evenodd\" fill-opacity=\"1\" stroke=\"#000000\" stroke-opacity=\"1\" stroke-width=\"3.2\"/>\n",
       "<circle clip-path=\"url(#clip302)\" cx=\"1007.57\" cy=\"947.936\" r=\"14.4\" fill=\"#009af9\" fill-rule=\"evenodd\" fill-opacity=\"1\" stroke=\"#000000\" stroke-opacity=\"1\" stroke-width=\"3.2\"/>\n",
       "<circle clip-path=\"url(#clip302)\" cx=\"1018.35\" cy=\"949.169\" r=\"14.4\" fill=\"#009af9\" fill-rule=\"evenodd\" fill-opacity=\"1\" stroke=\"#000000\" stroke-opacity=\"1\" stroke-width=\"3.2\"/>\n",
       "<circle clip-path=\"url(#clip302)\" cx=\"1029.14\" cy=\"950.145\" r=\"14.4\" fill=\"#009af9\" fill-rule=\"evenodd\" fill-opacity=\"1\" stroke=\"#000000\" stroke-opacity=\"1\" stroke-width=\"3.2\"/>\n",
       "<circle clip-path=\"url(#clip302)\" cx=\"1039.92\" cy=\"955.011\" r=\"14.4\" fill=\"#009af9\" fill-rule=\"evenodd\" fill-opacity=\"1\" stroke=\"#000000\" stroke-opacity=\"1\" stroke-width=\"3.2\"/>\n",
       "<circle clip-path=\"url(#clip302)\" cx=\"1050.7\" cy=\"956.259\" r=\"14.4\" fill=\"#009af9\" fill-rule=\"evenodd\" fill-opacity=\"1\" stroke=\"#000000\" stroke-opacity=\"1\" stroke-width=\"3.2\"/>\n",
       "<circle clip-path=\"url(#clip302)\" cx=\"1061.48\" cy=\"960.192\" r=\"14.4\" fill=\"#009af9\" fill-rule=\"evenodd\" fill-opacity=\"1\" stroke=\"#000000\" stroke-opacity=\"1\" stroke-width=\"3.2\"/>\n",
       "<circle clip-path=\"url(#clip302)\" cx=\"1072.27\" cy=\"961.138\" r=\"14.4\" fill=\"#009af9\" fill-rule=\"evenodd\" fill-opacity=\"1\" stroke=\"#000000\" stroke-opacity=\"1\" stroke-width=\"3.2\"/>\n",
       "<circle clip-path=\"url(#clip302)\" cx=\"1083.05\" cy=\"964.328\" r=\"14.4\" fill=\"#009af9\" fill-rule=\"evenodd\" fill-opacity=\"1\" stroke=\"#000000\" stroke-opacity=\"1\" stroke-width=\"3.2\"/>\n",
       "<circle clip-path=\"url(#clip302)\" cx=\"1093.83\" cy=\"965.795\" r=\"14.4\" fill=\"#009af9\" fill-rule=\"evenodd\" fill-opacity=\"1\" stroke=\"#000000\" stroke-opacity=\"1\" stroke-width=\"3.2\"/>\n",
       "<circle clip-path=\"url(#clip302)\" cx=\"1104.61\" cy=\"968.848\" r=\"14.4\" fill=\"#009af9\" fill-rule=\"evenodd\" fill-opacity=\"1\" stroke=\"#000000\" stroke-opacity=\"1\" stroke-width=\"3.2\"/>\n",
       "<circle clip-path=\"url(#clip302)\" cx=\"1115.39\" cy=\"970.766\" r=\"14.4\" fill=\"#009af9\" fill-rule=\"evenodd\" fill-opacity=\"1\" stroke=\"#000000\" stroke-opacity=\"1\" stroke-width=\"3.2\"/>\n",
       "<circle clip-path=\"url(#clip302)\" cx=\"1126.18\" cy=\"973.202\" r=\"14.4\" fill=\"#009af9\" fill-rule=\"evenodd\" fill-opacity=\"1\" stroke=\"#000000\" stroke-opacity=\"1\" stroke-width=\"3.2\"/>\n",
       "<circle clip-path=\"url(#clip302)\" cx=\"1136.96\" cy=\"974.913\" r=\"14.4\" fill=\"#009af9\" fill-rule=\"evenodd\" fill-opacity=\"1\" stroke=\"#000000\" stroke-opacity=\"1\" stroke-width=\"3.2\"/>\n",
       "<circle clip-path=\"url(#clip302)\" cx=\"1147.74\" cy=\"976.75\" r=\"14.4\" fill=\"#009af9\" fill-rule=\"evenodd\" fill-opacity=\"1\" stroke=\"#000000\" stroke-opacity=\"1\" stroke-width=\"3.2\"/>\n",
       "<circle clip-path=\"url(#clip302)\" cx=\"1158.52\" cy=\"979.138\" r=\"14.4\" fill=\"#009af9\" fill-rule=\"evenodd\" fill-opacity=\"1\" stroke=\"#000000\" stroke-opacity=\"1\" stroke-width=\"3.2\"/>\n",
       "<circle clip-path=\"url(#clip302)\" cx=\"1169.31\" cy=\"983.747\" r=\"14.4\" fill=\"#009af9\" fill-rule=\"evenodd\" fill-opacity=\"1\" stroke=\"#000000\" stroke-opacity=\"1\" stroke-width=\"3.2\"/>\n",
       "<circle clip-path=\"url(#clip302)\" cx=\"1180.09\" cy=\"984.246\" r=\"14.4\" fill=\"#009af9\" fill-rule=\"evenodd\" fill-opacity=\"1\" stroke=\"#000000\" stroke-opacity=\"1\" stroke-width=\"3.2\"/>\n",
       "<circle clip-path=\"url(#clip302)\" cx=\"1190.87\" cy=\"986.268\" r=\"14.4\" fill=\"#009af9\" fill-rule=\"evenodd\" fill-opacity=\"1\" stroke=\"#000000\" stroke-opacity=\"1\" stroke-width=\"3.2\"/>\n",
       "<circle clip-path=\"url(#clip302)\" cx=\"1201.65\" cy=\"987.794\" r=\"14.4\" fill=\"#009af9\" fill-rule=\"evenodd\" fill-opacity=\"1\" stroke=\"#000000\" stroke-opacity=\"1\" stroke-width=\"3.2\"/>\n",
       "<circle clip-path=\"url(#clip302)\" cx=\"1212.43\" cy=\"990.385\" r=\"14.4\" fill=\"#009af9\" fill-rule=\"evenodd\" fill-opacity=\"1\" stroke=\"#000000\" stroke-opacity=\"1\" stroke-width=\"3.2\"/>\n",
       "<circle clip-path=\"url(#clip302)\" cx=\"1223.22\" cy=\"994.603\" r=\"14.4\" fill=\"#009af9\" fill-rule=\"evenodd\" fill-opacity=\"1\" stroke=\"#000000\" stroke-opacity=\"1\" stroke-width=\"3.2\"/>\n",
       "<circle clip-path=\"url(#clip302)\" cx=\"1234\" cy=\"995.197\" r=\"14.4\" fill=\"#009af9\" fill-rule=\"evenodd\" fill-opacity=\"1\" stroke=\"#000000\" stroke-opacity=\"1\" stroke-width=\"3.2\"/>\n",
       "<circle clip-path=\"url(#clip302)\" cx=\"1244.78\" cy=\"996.841\" r=\"14.4\" fill=\"#009af9\" fill-rule=\"evenodd\" fill-opacity=\"1\" stroke=\"#000000\" stroke-opacity=\"1\" stroke-width=\"3.2\"/>\n",
       "<circle clip-path=\"url(#clip302)\" cx=\"1255.56\" cy=\"999.036\" r=\"14.4\" fill=\"#009af9\" fill-rule=\"evenodd\" fill-opacity=\"1\" stroke=\"#000000\" stroke-opacity=\"1\" stroke-width=\"3.2\"/>\n",
       "<circle clip-path=\"url(#clip302)\" cx=\"1266.34\" cy=\"1002.52\" r=\"14.4\" fill=\"#009af9\" fill-rule=\"evenodd\" fill-opacity=\"1\" stroke=\"#000000\" stroke-opacity=\"1\" stroke-width=\"3.2\"/>\n",
       "<circle clip-path=\"url(#clip302)\" cx=\"1277.13\" cy=\"1006.05\" r=\"14.4\" fill=\"#009af9\" fill-rule=\"evenodd\" fill-opacity=\"1\" stroke=\"#000000\" stroke-opacity=\"1\" stroke-width=\"3.2\"/>\n",
       "<circle clip-path=\"url(#clip302)\" cx=\"1287.91\" cy=\"1007.54\" r=\"14.4\" fill=\"#009af9\" fill-rule=\"evenodd\" fill-opacity=\"1\" stroke=\"#000000\" stroke-opacity=\"1\" stroke-width=\"3.2\"/>\n",
       "<circle clip-path=\"url(#clip302)\" cx=\"1298.69\" cy=\"1010.32\" r=\"14.4\" fill=\"#009af9\" fill-rule=\"evenodd\" fill-opacity=\"1\" stroke=\"#000000\" stroke-opacity=\"1\" stroke-width=\"3.2\"/>\n",
       "<circle clip-path=\"url(#clip302)\" cx=\"1309.47\" cy=\"1012.62\" r=\"14.4\" fill=\"#009af9\" fill-rule=\"evenodd\" fill-opacity=\"1\" stroke=\"#000000\" stroke-opacity=\"1\" stroke-width=\"3.2\"/>\n",
       "<circle clip-path=\"url(#clip302)\" cx=\"1320.26\" cy=\"1015.06\" r=\"14.4\" fill=\"#009af9\" fill-rule=\"evenodd\" fill-opacity=\"1\" stroke=\"#000000\" stroke-opacity=\"1\" stroke-width=\"3.2\"/>\n",
       "<circle clip-path=\"url(#clip302)\" cx=\"1331.04\" cy=\"1018\" r=\"14.4\" fill=\"#009af9\" fill-rule=\"evenodd\" fill-opacity=\"1\" stroke=\"#000000\" stroke-opacity=\"1\" stroke-width=\"3.2\"/>\n",
       "<circle clip-path=\"url(#clip302)\" cx=\"1341.82\" cy=\"1019.41\" r=\"14.4\" fill=\"#009af9\" fill-rule=\"evenodd\" fill-opacity=\"1\" stroke=\"#000000\" stroke-opacity=\"1\" stroke-width=\"3.2\"/>\n",
       "<circle clip-path=\"url(#clip302)\" cx=\"1352.6\" cy=\"1020.43\" r=\"14.4\" fill=\"#009af9\" fill-rule=\"evenodd\" fill-opacity=\"1\" stroke=\"#000000\" stroke-opacity=\"1\" stroke-width=\"3.2\"/>\n",
       "<circle clip-path=\"url(#clip302)\" cx=\"1363.38\" cy=\"1022.87\" r=\"14.4\" fill=\"#009af9\" fill-rule=\"evenodd\" fill-opacity=\"1\" stroke=\"#000000\" stroke-opacity=\"1\" stroke-width=\"3.2\"/>\n",
       "<circle clip-path=\"url(#clip302)\" cx=\"1374.17\" cy=\"1025.12\" r=\"14.4\" fill=\"#009af9\" fill-rule=\"evenodd\" fill-opacity=\"1\" stroke=\"#000000\" stroke-opacity=\"1\" stroke-width=\"3.2\"/>\n",
       "<circle clip-path=\"url(#clip302)\" cx=\"1384.95\" cy=\"1026.04\" r=\"14.4\" fill=\"#009af9\" fill-rule=\"evenodd\" fill-opacity=\"1\" stroke=\"#000000\" stroke-opacity=\"1\" stroke-width=\"3.2\"/>\n",
       "<circle clip-path=\"url(#clip302)\" cx=\"1395.73\" cy=\"1028.14\" r=\"14.4\" fill=\"#009af9\" fill-rule=\"evenodd\" fill-opacity=\"1\" stroke=\"#000000\" stroke-opacity=\"1\" stroke-width=\"3.2\"/>\n",
       "<circle clip-path=\"url(#clip302)\" cx=\"1406.51\" cy=\"1032.12\" r=\"14.4\" fill=\"#009af9\" fill-rule=\"evenodd\" fill-opacity=\"1\" stroke=\"#000000\" stroke-opacity=\"1\" stroke-width=\"3.2\"/>\n",
       "<circle clip-path=\"url(#clip302)\" cx=\"1417.3\" cy=\"1035.77\" r=\"14.4\" fill=\"#009af9\" fill-rule=\"evenodd\" fill-opacity=\"1\" stroke=\"#000000\" stroke-opacity=\"1\" stroke-width=\"3.2\"/>\n",
       "<circle clip-path=\"url(#clip302)\" cx=\"1428.08\" cy=\"1036.43\" r=\"14.4\" fill=\"#009af9\" fill-rule=\"evenodd\" fill-opacity=\"1\" stroke=\"#000000\" stroke-opacity=\"1\" stroke-width=\"3.2\"/>\n",
       "<circle clip-path=\"url(#clip302)\" cx=\"1438.86\" cy=\"1039.83\" r=\"14.4\" fill=\"#009af9\" fill-rule=\"evenodd\" fill-opacity=\"1\" stroke=\"#000000\" stroke-opacity=\"1\" stroke-width=\"3.2\"/>\n",
       "<circle clip-path=\"url(#clip302)\" cx=\"1449.64\" cy=\"1040.79\" r=\"14.4\" fill=\"#009af9\" fill-rule=\"evenodd\" fill-opacity=\"1\" stroke=\"#000000\" stroke-opacity=\"1\" stroke-width=\"3.2\"/>\n",
       "<circle clip-path=\"url(#clip302)\" cx=\"1460.42\" cy=\"1044.18\" r=\"14.4\" fill=\"#009af9\" fill-rule=\"evenodd\" fill-opacity=\"1\" stroke=\"#000000\" stroke-opacity=\"1\" stroke-width=\"3.2\"/>\n",
       "<circle clip-path=\"url(#clip302)\" cx=\"1471.21\" cy=\"1045.64\" r=\"14.4\" fill=\"#009af9\" fill-rule=\"evenodd\" fill-opacity=\"1\" stroke=\"#000000\" stroke-opacity=\"1\" stroke-width=\"3.2\"/>\n",
       "<circle clip-path=\"url(#clip302)\" cx=\"1481.99\" cy=\"1047.46\" r=\"14.4\" fill=\"#009af9\" fill-rule=\"evenodd\" fill-opacity=\"1\" stroke=\"#000000\" stroke-opacity=\"1\" stroke-width=\"3.2\"/>\n",
       "<circle clip-path=\"url(#clip302)\" cx=\"1492.77\" cy=\"1051.18\" r=\"14.4\" fill=\"#009af9\" fill-rule=\"evenodd\" fill-opacity=\"1\" stroke=\"#000000\" stroke-opacity=\"1\" stroke-width=\"3.2\"/>\n",
       "<circle clip-path=\"url(#clip302)\" cx=\"1503.55\" cy=\"1054.27\" r=\"14.4\" fill=\"#009af9\" fill-rule=\"evenodd\" fill-opacity=\"1\" stroke=\"#000000\" stroke-opacity=\"1\" stroke-width=\"3.2\"/>\n",
       "<circle clip-path=\"url(#clip302)\" cx=\"1514.33\" cy=\"1057.15\" r=\"14.4\" fill=\"#009af9\" fill-rule=\"evenodd\" fill-opacity=\"1\" stroke=\"#000000\" stroke-opacity=\"1\" stroke-width=\"3.2\"/>\n",
       "<circle clip-path=\"url(#clip302)\" cx=\"1525.12\" cy=\"1058.49\" r=\"14.4\" fill=\"#009af9\" fill-rule=\"evenodd\" fill-opacity=\"1\" stroke=\"#000000\" stroke-opacity=\"1\" stroke-width=\"3.2\"/>\n",
       "<circle clip-path=\"url(#clip302)\" cx=\"1535.9\" cy=\"1060.75\" r=\"14.4\" fill=\"#009af9\" fill-rule=\"evenodd\" fill-opacity=\"1\" stroke=\"#000000\" stroke-opacity=\"1\" stroke-width=\"3.2\"/>\n",
       "<circle clip-path=\"url(#clip302)\" cx=\"1546.68\" cy=\"1063.91\" r=\"14.4\" fill=\"#009af9\" fill-rule=\"evenodd\" fill-opacity=\"1\" stroke=\"#000000\" stroke-opacity=\"1\" stroke-width=\"3.2\"/>\n",
       "<circle clip-path=\"url(#clip302)\" cx=\"1557.46\" cy=\"1065.25\" r=\"14.4\" fill=\"#009af9\" fill-rule=\"evenodd\" fill-opacity=\"1\" stroke=\"#000000\" stroke-opacity=\"1\" stroke-width=\"3.2\"/>\n",
       "<circle clip-path=\"url(#clip302)\" cx=\"1568.25\" cy=\"1068\" r=\"14.4\" fill=\"#009af9\" fill-rule=\"evenodd\" fill-opacity=\"1\" stroke=\"#000000\" stroke-opacity=\"1\" stroke-width=\"3.2\"/>\n",
       "<circle clip-path=\"url(#clip302)\" cx=\"1579.03\" cy=\"1069.29\" r=\"14.4\" fill=\"#009af9\" fill-rule=\"evenodd\" fill-opacity=\"1\" stroke=\"#000000\" stroke-opacity=\"1\" stroke-width=\"3.2\"/>\n",
       "<circle clip-path=\"url(#clip302)\" cx=\"1589.81\" cy=\"1073.18\" r=\"14.4\" fill=\"#009af9\" fill-rule=\"evenodd\" fill-opacity=\"1\" stroke=\"#000000\" stroke-opacity=\"1\" stroke-width=\"3.2\"/>\n",
       "<circle clip-path=\"url(#clip302)\" cx=\"1600.59\" cy=\"1075.42\" r=\"14.4\" fill=\"#009af9\" fill-rule=\"evenodd\" fill-opacity=\"1\" stroke=\"#000000\" stroke-opacity=\"1\" stroke-width=\"3.2\"/>\n",
       "<circle clip-path=\"url(#clip302)\" cx=\"1611.37\" cy=\"1077.74\" r=\"14.4\" fill=\"#009af9\" fill-rule=\"evenodd\" fill-opacity=\"1\" stroke=\"#000000\" stroke-opacity=\"1\" stroke-width=\"3.2\"/>\n",
       "<circle clip-path=\"url(#clip302)\" cx=\"1622.16\" cy=\"1079.34\" r=\"14.4\" fill=\"#009af9\" fill-rule=\"evenodd\" fill-opacity=\"1\" stroke=\"#000000\" stroke-opacity=\"1\" stroke-width=\"3.2\"/>\n",
       "<circle clip-path=\"url(#clip302)\" cx=\"1632.94\" cy=\"1081.62\" r=\"14.4\" fill=\"#009af9\" fill-rule=\"evenodd\" fill-opacity=\"1\" stroke=\"#000000\" stroke-opacity=\"1\" stroke-width=\"3.2\"/>\n",
       "<circle clip-path=\"url(#clip302)\" cx=\"1643.72\" cy=\"1084.46\" r=\"14.4\" fill=\"#009af9\" fill-rule=\"evenodd\" fill-opacity=\"1\" stroke=\"#000000\" stroke-opacity=\"1\" stroke-width=\"3.2\"/>\n",
       "<circle clip-path=\"url(#clip302)\" cx=\"1654.5\" cy=\"1086.87\" r=\"14.4\" fill=\"#009af9\" fill-rule=\"evenodd\" fill-opacity=\"1\" stroke=\"#000000\" stroke-opacity=\"1\" stroke-width=\"3.2\"/>\n",
       "<circle clip-path=\"url(#clip302)\" cx=\"1665.28\" cy=\"1089.98\" r=\"14.4\" fill=\"#009af9\" fill-rule=\"evenodd\" fill-opacity=\"1\" stroke=\"#000000\" stroke-opacity=\"1\" stroke-width=\"3.2\"/>\n",
       "<circle clip-path=\"url(#clip302)\" cx=\"1676.07\" cy=\"1092.17\" r=\"14.4\" fill=\"#009af9\" fill-rule=\"evenodd\" fill-opacity=\"1\" stroke=\"#000000\" stroke-opacity=\"1\" stroke-width=\"3.2\"/>\n",
       "<circle clip-path=\"url(#clip302)\" cx=\"1686.85\" cy=\"1093.97\" r=\"14.4\" fill=\"#009af9\" fill-rule=\"evenodd\" fill-opacity=\"1\" stroke=\"#000000\" stroke-opacity=\"1\" stroke-width=\"3.2\"/>\n",
       "<circle clip-path=\"url(#clip302)\" cx=\"1697.63\" cy=\"1097.92\" r=\"14.4\" fill=\"#009af9\" fill-rule=\"evenodd\" fill-opacity=\"1\" stroke=\"#000000\" stroke-opacity=\"1\" stroke-width=\"3.2\"/>\n",
       "<circle clip-path=\"url(#clip302)\" cx=\"1708.41\" cy=\"1101.53\" r=\"14.4\" fill=\"#009af9\" fill-rule=\"evenodd\" fill-opacity=\"1\" stroke=\"#000000\" stroke-opacity=\"1\" stroke-width=\"3.2\"/>\n",
       "<circle clip-path=\"url(#clip302)\" cx=\"1719.2\" cy=\"1102.64\" r=\"14.4\" fill=\"#009af9\" fill-rule=\"evenodd\" fill-opacity=\"1\" stroke=\"#000000\" stroke-opacity=\"1\" stroke-width=\"3.2\"/>\n",
       "<circle clip-path=\"url(#clip302)\" cx=\"1729.98\" cy=\"1107.13\" r=\"14.4\" fill=\"#009af9\" fill-rule=\"evenodd\" fill-opacity=\"1\" stroke=\"#000000\" stroke-opacity=\"1\" stroke-width=\"3.2\"/>\n",
       "<circle clip-path=\"url(#clip302)\" cx=\"1740.76\" cy=\"1111.25\" r=\"14.4\" fill=\"#009af9\" fill-rule=\"evenodd\" fill-opacity=\"1\" stroke=\"#000000\" stroke-opacity=\"1\" stroke-width=\"3.2\"/>\n",
       "<circle clip-path=\"url(#clip302)\" cx=\"1751.54\" cy=\"1112.85\" r=\"14.4\" fill=\"#009af9\" fill-rule=\"evenodd\" fill-opacity=\"1\" stroke=\"#000000\" stroke-opacity=\"1\" stroke-width=\"3.2\"/>\n",
       "<circle clip-path=\"url(#clip302)\" cx=\"1762.32\" cy=\"1116.93\" r=\"14.4\" fill=\"#009af9\" fill-rule=\"evenodd\" fill-opacity=\"1\" stroke=\"#000000\" stroke-opacity=\"1\" stroke-width=\"3.2\"/>\n",
       "<circle clip-path=\"url(#clip302)\" cx=\"1773.11\" cy=\"1118.66\" r=\"14.4\" fill=\"#009af9\" fill-rule=\"evenodd\" fill-opacity=\"1\" stroke=\"#000000\" stroke-opacity=\"1\" stroke-width=\"3.2\"/>\n",
       "<circle clip-path=\"url(#clip302)\" cx=\"1783.89\" cy=\"1122.77\" r=\"14.4\" fill=\"#009af9\" fill-rule=\"evenodd\" fill-opacity=\"1\" stroke=\"#000000\" stroke-opacity=\"1\" stroke-width=\"3.2\"/>\n",
       "<circle clip-path=\"url(#clip302)\" cx=\"1794.67\" cy=\"1125.08\" r=\"14.4\" fill=\"#009af9\" fill-rule=\"evenodd\" fill-opacity=\"1\" stroke=\"#000000\" stroke-opacity=\"1\" stroke-width=\"3.2\"/>\n",
       "<circle clip-path=\"url(#clip302)\" cx=\"1805.45\" cy=\"1127.43\" r=\"14.4\" fill=\"#009af9\" fill-rule=\"evenodd\" fill-opacity=\"1\" stroke=\"#000000\" stroke-opacity=\"1\" stroke-width=\"3.2\"/>\n",
       "<circle clip-path=\"url(#clip302)\" cx=\"1816.24\" cy=\"1129.22\" r=\"14.4\" fill=\"#009af9\" fill-rule=\"evenodd\" fill-opacity=\"1\" stroke=\"#000000\" stroke-opacity=\"1\" stroke-width=\"3.2\"/>\n",
       "<circle clip-path=\"url(#clip302)\" cx=\"1827.02\" cy=\"1136.74\" r=\"14.4\" fill=\"#009af9\" fill-rule=\"evenodd\" fill-opacity=\"1\" stroke=\"#000000\" stroke-opacity=\"1\" stroke-width=\"3.2\"/>\n",
       "<circle clip-path=\"url(#clip302)\" cx=\"1837.8\" cy=\"1139.71\" r=\"14.4\" fill=\"#009af9\" fill-rule=\"evenodd\" fill-opacity=\"1\" stroke=\"#000000\" stroke-opacity=\"1\" stroke-width=\"3.2\"/>\n",
       "<circle clip-path=\"url(#clip302)\" cx=\"1848.58\" cy=\"1141.33\" r=\"14.4\" fill=\"#009af9\" fill-rule=\"evenodd\" fill-opacity=\"1\" stroke=\"#000000\" stroke-opacity=\"1\" stroke-width=\"3.2\"/>\n",
       "<circle clip-path=\"url(#clip302)\" cx=\"1859.36\" cy=\"1145.07\" r=\"14.4\" fill=\"#009af9\" fill-rule=\"evenodd\" fill-opacity=\"1\" stroke=\"#000000\" stroke-opacity=\"1\" stroke-width=\"3.2\"/>\n",
       "<circle clip-path=\"url(#clip302)\" cx=\"1870.15\" cy=\"1149.93\" r=\"14.4\" fill=\"#009af9\" fill-rule=\"evenodd\" fill-opacity=\"1\" stroke=\"#000000\" stroke-opacity=\"1\" stroke-width=\"3.2\"/>\n",
       "<circle clip-path=\"url(#clip302)\" cx=\"1880.93\" cy=\"1152.87\" r=\"14.4\" fill=\"#009af9\" fill-rule=\"evenodd\" fill-opacity=\"1\" stroke=\"#000000\" stroke-opacity=\"1\" stroke-width=\"3.2\"/>\n",
       "<circle clip-path=\"url(#clip302)\" cx=\"1891.71\" cy=\"1155.94\" r=\"14.4\" fill=\"#009af9\" fill-rule=\"evenodd\" fill-opacity=\"1\" stroke=\"#000000\" stroke-opacity=\"1\" stroke-width=\"3.2\"/>\n",
       "<circle clip-path=\"url(#clip302)\" cx=\"1902.49\" cy=\"1158.16\" r=\"14.4\" fill=\"#009af9\" fill-rule=\"evenodd\" fill-opacity=\"1\" stroke=\"#000000\" stroke-opacity=\"1\" stroke-width=\"3.2\"/>\n",
       "<circle clip-path=\"url(#clip302)\" cx=\"1913.27\" cy=\"1164.13\" r=\"14.4\" fill=\"#009af9\" fill-rule=\"evenodd\" fill-opacity=\"1\" stroke=\"#000000\" stroke-opacity=\"1\" stroke-width=\"3.2\"/>\n",
       "<circle clip-path=\"url(#clip302)\" cx=\"1924.06\" cy=\"1167.74\" r=\"14.4\" fill=\"#009af9\" fill-rule=\"evenodd\" fill-opacity=\"1\" stroke=\"#000000\" stroke-opacity=\"1\" stroke-width=\"3.2\"/>\n",
       "<circle clip-path=\"url(#clip302)\" cx=\"1934.84\" cy=\"1169.89\" r=\"14.4\" fill=\"#009af9\" fill-rule=\"evenodd\" fill-opacity=\"1\" stroke=\"#000000\" stroke-opacity=\"1\" stroke-width=\"3.2\"/>\n",
       "<circle clip-path=\"url(#clip302)\" cx=\"1945.62\" cy=\"1175.6\" r=\"14.4\" fill=\"#009af9\" fill-rule=\"evenodd\" fill-opacity=\"1\" stroke=\"#000000\" stroke-opacity=\"1\" stroke-width=\"3.2\"/>\n",
       "<circle clip-path=\"url(#clip302)\" cx=\"1956.4\" cy=\"1176.02\" r=\"14.4\" fill=\"#009af9\" fill-rule=\"evenodd\" fill-opacity=\"1\" stroke=\"#000000\" stroke-opacity=\"1\" stroke-width=\"3.2\"/>\n",
       "<circle clip-path=\"url(#clip302)\" cx=\"1967.19\" cy=\"1180.15\" r=\"14.4\" fill=\"#009af9\" fill-rule=\"evenodd\" fill-opacity=\"1\" stroke=\"#000000\" stroke-opacity=\"1\" stroke-width=\"3.2\"/>\n",
       "<circle clip-path=\"url(#clip302)\" cx=\"1977.97\" cy=\"1182.01\" r=\"14.4\" fill=\"#009af9\" fill-rule=\"evenodd\" fill-opacity=\"1\" stroke=\"#000000\" stroke-opacity=\"1\" stroke-width=\"3.2\"/>\n",
       "<circle clip-path=\"url(#clip302)\" cx=\"1988.75\" cy=\"1187.24\" r=\"14.4\" fill=\"#009af9\" fill-rule=\"evenodd\" fill-opacity=\"1\" stroke=\"#000000\" stroke-opacity=\"1\" stroke-width=\"3.2\"/>\n",
       "<circle clip-path=\"url(#clip302)\" cx=\"1999.53\" cy=\"1192.01\" r=\"14.4\" fill=\"#009af9\" fill-rule=\"evenodd\" fill-opacity=\"1\" stroke=\"#000000\" stroke-opacity=\"1\" stroke-width=\"3.2\"/>\n",
       "<circle clip-path=\"url(#clip302)\" cx=\"2010.31\" cy=\"1196.41\" r=\"14.4\" fill=\"#009af9\" fill-rule=\"evenodd\" fill-opacity=\"1\" stroke=\"#000000\" stroke-opacity=\"1\" stroke-width=\"3.2\"/>\n",
       "<circle clip-path=\"url(#clip302)\" cx=\"2021.1\" cy=\"1202.41\" r=\"14.4\" fill=\"#009af9\" fill-rule=\"evenodd\" fill-opacity=\"1\" stroke=\"#000000\" stroke-opacity=\"1\" stroke-width=\"3.2\"/>\n",
       "<circle clip-path=\"url(#clip302)\" cx=\"2031.88\" cy=\"1202.97\" r=\"14.4\" fill=\"#009af9\" fill-rule=\"evenodd\" fill-opacity=\"1\" stroke=\"#000000\" stroke-opacity=\"1\" stroke-width=\"3.2\"/>\n",
       "<circle clip-path=\"url(#clip302)\" cx=\"2042.66\" cy=\"1209.43\" r=\"14.4\" fill=\"#009af9\" fill-rule=\"evenodd\" fill-opacity=\"1\" stroke=\"#000000\" stroke-opacity=\"1\" stroke-width=\"3.2\"/>\n",
       "<circle clip-path=\"url(#clip302)\" cx=\"2053.44\" cy=\"1217.6\" r=\"14.4\" fill=\"#009af9\" fill-rule=\"evenodd\" fill-opacity=\"1\" stroke=\"#000000\" stroke-opacity=\"1\" stroke-width=\"3.2\"/>\n",
       "<circle clip-path=\"url(#clip302)\" cx=\"2064.23\" cy=\"1218.45\" r=\"14.4\" fill=\"#009af9\" fill-rule=\"evenodd\" fill-opacity=\"1\" stroke=\"#000000\" stroke-opacity=\"1\" stroke-width=\"3.2\"/>\n",
       "<circle clip-path=\"url(#clip302)\" cx=\"2075.01\" cy=\"1223.92\" r=\"14.4\" fill=\"#009af9\" fill-rule=\"evenodd\" fill-opacity=\"1\" stroke=\"#000000\" stroke-opacity=\"1\" stroke-width=\"3.2\"/>\n",
       "<circle clip-path=\"url(#clip302)\" cx=\"2085.79\" cy=\"1229.75\" r=\"14.4\" fill=\"#009af9\" fill-rule=\"evenodd\" fill-opacity=\"1\" stroke=\"#000000\" stroke-opacity=\"1\" stroke-width=\"3.2\"/>\n",
       "<circle clip-path=\"url(#clip302)\" cx=\"2096.57\" cy=\"1234.66\" r=\"14.4\" fill=\"#009af9\" fill-rule=\"evenodd\" fill-opacity=\"1\" stroke=\"#000000\" stroke-opacity=\"1\" stroke-width=\"3.2\"/>\n",
       "<circle clip-path=\"url(#clip302)\" cx=\"2107.35\" cy=\"1238.67\" r=\"14.4\" fill=\"#009af9\" fill-rule=\"evenodd\" fill-opacity=\"1\" stroke=\"#000000\" stroke-opacity=\"1\" stroke-width=\"3.2\"/>\n",
       "<circle clip-path=\"url(#clip302)\" cx=\"2118.14\" cy=\"1245.25\" r=\"14.4\" fill=\"#009af9\" fill-rule=\"evenodd\" fill-opacity=\"1\" stroke=\"#000000\" stroke-opacity=\"1\" stroke-width=\"3.2\"/>\n",
       "<circle clip-path=\"url(#clip302)\" cx=\"2128.92\" cy=\"1250.52\" r=\"14.4\" fill=\"#009af9\" fill-rule=\"evenodd\" fill-opacity=\"1\" stroke=\"#000000\" stroke-opacity=\"1\" stroke-width=\"3.2\"/>\n",
       "<circle clip-path=\"url(#clip302)\" cx=\"2139.7\" cy=\"1252.32\" r=\"14.4\" fill=\"#009af9\" fill-rule=\"evenodd\" fill-opacity=\"1\" stroke=\"#000000\" stroke-opacity=\"1\" stroke-width=\"3.2\"/>\n",
       "<circle clip-path=\"url(#clip302)\" cx=\"2150.48\" cy=\"1269.96\" r=\"14.4\" fill=\"#009af9\" fill-rule=\"evenodd\" fill-opacity=\"1\" stroke=\"#000000\" stroke-opacity=\"1\" stroke-width=\"3.2\"/>\n",
       "<circle clip-path=\"url(#clip302)\" cx=\"2161.26\" cy=\"1273.1\" r=\"14.4\" fill=\"#009af9\" fill-rule=\"evenodd\" fill-opacity=\"1\" stroke=\"#000000\" stroke-opacity=\"1\" stroke-width=\"3.2\"/>\n",
       "<circle clip-path=\"url(#clip302)\" cx=\"2172.05\" cy=\"1280.48\" r=\"14.4\" fill=\"#009af9\" fill-rule=\"evenodd\" fill-opacity=\"1\" stroke=\"#000000\" stroke-opacity=\"1\" stroke-width=\"3.2\"/>\n",
       "<circle clip-path=\"url(#clip302)\" cx=\"2182.83\" cy=\"1289.52\" r=\"14.4\" fill=\"#009af9\" fill-rule=\"evenodd\" fill-opacity=\"1\" stroke=\"#000000\" stroke-opacity=\"1\" stroke-width=\"3.2\"/>\n",
       "<circle clip-path=\"url(#clip302)\" cx=\"2193.61\" cy=\"1294.85\" r=\"14.4\" fill=\"#009af9\" fill-rule=\"evenodd\" fill-opacity=\"1\" stroke=\"#000000\" stroke-opacity=\"1\" stroke-width=\"3.2\"/>\n",
       "<circle clip-path=\"url(#clip302)\" cx=\"2204.39\" cy=\"1308.86\" r=\"14.4\" fill=\"#009af9\" fill-rule=\"evenodd\" fill-opacity=\"1\" stroke=\"#000000\" stroke-opacity=\"1\" stroke-width=\"3.2\"/>\n",
       "<circle clip-path=\"url(#clip302)\" cx=\"2215.18\" cy=\"1321.93\" r=\"14.4\" fill=\"#009af9\" fill-rule=\"evenodd\" fill-opacity=\"1\" stroke=\"#000000\" stroke-opacity=\"1\" stroke-width=\"3.2\"/>\n",
       "<circle clip-path=\"url(#clip302)\" cx=\"2225.96\" cy=\"1328.85\" r=\"14.4\" fill=\"#009af9\" fill-rule=\"evenodd\" fill-opacity=\"1\" stroke=\"#000000\" stroke-opacity=\"1\" stroke-width=\"3.2\"/>\n",
       "<circle clip-path=\"url(#clip302)\" cx=\"2236.74\" cy=\"1331.45\" r=\"14.4\" fill=\"#009af9\" fill-rule=\"evenodd\" fill-opacity=\"1\" stroke=\"#000000\" stroke-opacity=\"1\" stroke-width=\"3.2\"/>\n",
       "<circle clip-path=\"url(#clip302)\" cx=\"2247.52\" cy=\"1342.3\" r=\"14.4\" fill=\"#009af9\" fill-rule=\"evenodd\" fill-opacity=\"1\" stroke=\"#000000\" stroke-opacity=\"1\" stroke-width=\"3.2\"/>\n",
       "<circle clip-path=\"url(#clip302)\" cx=\"2258.3\" cy=\"1373.62\" r=\"14.4\" fill=\"#009af9\" fill-rule=\"evenodd\" fill-opacity=\"1\" stroke=\"#000000\" stroke-opacity=\"1\" stroke-width=\"3.2\"/>\n",
       "<circle clip-path=\"url(#clip302)\" cx=\"2269.09\" cy=\"1382.13\" r=\"14.4\" fill=\"#009af9\" fill-rule=\"evenodd\" fill-opacity=\"1\" stroke=\"#000000\" stroke-opacity=\"1\" stroke-width=\"3.2\"/>\n",
       "<circle clip-path=\"url(#clip302)\" cx=\"2279.87\" cy=\"1395.46\" r=\"14.4\" fill=\"#009af9\" fill-rule=\"evenodd\" fill-opacity=\"1\" stroke=\"#000000\" stroke-opacity=\"1\" stroke-width=\"3.2\"/>\n",
       "<circle clip-path=\"url(#clip302)\" cx=\"2290.65\" cy=\"1445.72\" r=\"14.4\" fill=\"#009af9\" fill-rule=\"evenodd\" fill-opacity=\"1\" stroke=\"#000000\" stroke-opacity=\"1\" stroke-width=\"3.2\"/>\n",
       "<path clip-path=\"url(#clip300)\" d=\"\n",
       "M2007.74 198.898 L2279.61 198.898 L2279.61 95.2176 L2007.74 95.2176  Z\n",
       "  \" fill=\"#ffffff\" fill-rule=\"evenodd\" fill-opacity=\"1\"/>\n",
       "<polyline clip-path=\"url(#clip300)\" style=\"stroke:#000000; stroke-linecap:round; stroke-linejoin:round; stroke-width:4; stroke-opacity:1; fill:none\" points=\"\n",
       "  2007.74,198.898 2279.61,198.898 2279.61,95.2176 2007.74,95.2176 2007.74,198.898 \n",
       "  \"/>\n",
       "<circle clip-path=\"url(#clip300)\" cx=\"2105.27\" cy=\"147.058\" r=\"23.04\" fill=\"#009af9\" fill-rule=\"evenodd\" fill-opacity=\"1\" stroke=\"#000000\" stroke-opacity=\"1\" stroke-width=\"5.12\"/>\n",
       "<path clip-path=\"url(#clip300)\" d=\"M2216.64 166.745 Q2214.83 171.375 2213.12 172.787 Q2211.41 174.199 2208.54 174.199 L2205.14 174.199 L2205.14 170.634 L2207.64 170.634 Q2209.39 170.634 2210.37 169.8 Q2211.34 168.967 2212.52 165.865 L2213.28 163.921 L2202.8 138.412 L2207.31 138.412 L2215.41 158.689 L2223.51 138.412 L2228.03 138.412 L2216.64 166.745 Z\" fill=\"#000000\" fill-rule=\"evenodd\" fill-opacity=\"1\" /><path clip-path=\"url(#clip300)\" d=\"M2235.32 160.402 L2242.96 160.402 L2242.96 134.037 L2234.65 135.703 L2234.65 131.444 L2242.91 129.778 L2247.59 129.778 L2247.59 160.402 L2255.23 160.402 L2255.23 164.338 L2235.32 164.338 L2235.32 160.402 Z\" fill=\"#000000\" fill-rule=\"evenodd\" fill-opacity=\"1\" /></svg>\n"
      ]
     },
     "execution_count": 23,
     "metadata": {},
     "output_type": "execute_result"
    }
   ],
   "source": [
    "scatter(svdvals(Chase), yscale = :log10)"
   ]
  },
  {
   "cell_type": "code",
   "execution_count": 51,
   "id": "81b87be2-c72a-429f-9586-f3153d111d51",
   "metadata": {},
   "outputs": [
    {
     "data": {
      "image/png": "[encoded data removed]",
      "text/html": [
       "<img src=\"data:image/png;base64,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\">"
      ],
      "text/plain": [
       "193×320 Array{Gray{Float32},2} with eltype Gray{Float32}:\n",
       " Gray{Float32}(0.678686)   …  Gray{Float32}(0.871349)\n",
       " Gray{Float32}(0.678942)      Gray{Float32}(0.847621)\n",
       " Gray{Float32}(0.676758)      Gray{Float32}(0.847338)\n",
       " Gray{Float32}(0.691407)      Gray{Float32}(0.79734)\n",
       " Gray{Float32}(0.695598)      Gray{Float32}(0.701918)\n",
       " Gray{Float32}(0.681663)   …  Gray{Float32}(0.711131)\n",
       " Gray{Float32}(0.673458)      Gray{Float32}(0.751163)\n",
       " Gray{Float32}(0.648326)      Gray{Float32}(0.806464)\n",
       " Gray{Float32}(0.636087)      Gray{Float32}(0.802448)\n",
       " Gray{Float32}(0.651501)      Gray{Float32}(0.731432)\n",
       " Gray{Float32}(0.669749)   …  Gray{Float32}(0.743441)\n",
       " Gray{Float32}(0.595658)      Gray{Float32}(0.786961)\n",
       " Gray{Float32}(0.577169)      Gray{Float32}(0.813114)\n",
       " ⋮                         ⋱  \n",
       " Gray{Float32}(0.0543047)     Gray{Float32}(0.365841)\n",
       " Gray{Float32}(0.116858)      Gray{Float32}(0.432076)\n",
       " Gray{Float32}(0.109945)      Gray{Float32}(0.398949)\n",
       " Gray{Float32}(0.0828045)     Gray{Float32}(0.395971)\n",
       " Gray{Float32}(0.0844996)  …  Gray{Float32}(0.417473)\n",
       " Gray{Float32}(0.0916093)     Gray{Float32}(0.427442)\n",
       " Gray{Float32}(0.106652)      Gray{Float32}(0.412695)\n",
       " Gray{Float32}(0.0959347)     Gray{Float32}(0.425641)\n",
       " Gray{Float32}(0.0837655)     Gray{Float32}(0.420644)\n",
       " Gray{Float32}(0.0888076)  …  Gray{Float32}(0.43163)\n",
       " Gray{Float32}(0.0975972)     Gray{Float32}(0.46094)\n",
       " Gray{Float32}(0.099162)      Gray{Float32}(0.48162)"
      ]
     },
     "execution_count": 51,
     "metadata": {},
     "output_type": "execute_result"
    }
   ],
   "source": [
    "Gray.(my_svd_approx(Chase, 10))"
   ]
  },
  {
   "cell_type": "code",
   "execution_count": 52,
   "id": "1521735a-96e8-4de4-b5e3-55af537e94be",
   "metadata": {},
   "outputs": [
    {
     "data": {
      "image/png": "[encoded data removed]",
      "text/html": [
       "<img src=\"data:image/png;base64,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\">"
      ],
      "text/plain": [
       "193×320 Array{Gray{Float32},2} with eltype Gray{Float32}:\n",
       " Gray{Float32}(0.774228)   …  Gray{Float32}(0.786437)\n",
       " Gray{Float32}(0.758238)      Gray{Float32}(0.772488)\n",
       " Gray{Float32}(0.742335)      Gray{Float32}(0.765893)\n",
       " Gray{Float32}(0.710251)      Gray{Float32}(0.749898)\n",
       " Gray{Float32}(0.758276)      Gray{Float32}(0.774069)\n",
       " Gray{Float32}(0.783334)   …  Gray{Float32}(0.784677)\n",
       " Gray{Float32}(0.72509)       Gray{Float32}(0.782503)\n",
       " Gray{Float32}(0.644795)      Gray{Float32}(0.768169)\n",
       " Gray{Float32}(0.482123)      Gray{Float32}(0.773036)\n",
       " Gray{Float32}(0.406073)      Gray{Float32}(0.777494)\n",
       " Gray{Float32}(0.549321)   …  Gray{Float32}(0.801588)\n",
       " Gray{Float32}(0.613468)      Gray{Float32}(0.795034)\n",
       " Gray{Float32}(0.711)         Gray{Float32}(0.797285)\n",
       " ⋮                         ⋱  \n",
       " Gray{Float32}(0.100548)      Gray{Float32}(0.338995)\n",
       " Gray{Float32}(0.131949)      Gray{Float32}(0.388735)\n",
       " Gray{Float32}(0.0576422)     Gray{Float32}(0.358909)\n",
       " Gray{Float32}(0.0906267)     Gray{Float32}(0.403561)\n",
       " Gray{Float32}(0.101982)   …  Gray{Float32}(0.428952)\n",
       " Gray{Float32}(0.149052)      Gray{Float32}(0.374926)\n",
       " Gray{Float32}(0.131686)      Gray{Float32}(0.339483)\n",
       " Gray{Float32}(0.0849093)     Gray{Float32}(0.378713)\n",
       " Gray{Float32}(0.0807387)     Gray{Float32}(0.356385)\n",
       " Gray{Float32}(0.163202)   …  Gray{Float32}(0.365976)\n",
       " Gray{Float32}(0.164145)      Gray{Float32}(0.375266)\n",
       " Gray{Float32}(0.150893)      Gray{Float32}(0.40431)"
      ]
     },
     "execution_count": 52,
     "metadata": {},
     "output_type": "execute_result"
    }
   ],
   "source": [
    "Gray.(my_svd_approx(Chase, 75))"
   ]
  },
  {
   "cell_type": "code",
   "execution_count": 26,
   "id": "50a45230-54bd-490b-a1b5-f0745dba91ac",
   "metadata": {},
   "outputs": [
    {
     "data": {
      "text/plain": [
       "(15420, 0.2496761658031088)"
      ]
     },
     "execution_count": 26,
     "metadata": {},
     "output_type": "execute_result"
    }
   ],
   "source": [
    "svd_size(Chase, 30)"
   ]
  },
  {
   "cell_type": "markdown",
   "id": "6461b2c1-2e52-4e19-b52c-404d7a622028",
   "metadata": {},
   "source": [
    "Iris data from R"
   ]
  },
  {
   "cell_type": "code",
   "execution_count": 27,
   "id": "d970083d-fcec-46e0-94dd-4ae5d906eca1",
   "metadata": {},
   "outputs": [
    {
     "data": {
      "text/plain": [
       "4-element Vector{Float64}:\n",
       " 95.95991387196453\n",
       " 17.761033657328564\n",
       "  3.460930930386973\n",
       "  1.8848263059180457"
      ]
     },
     "execution_count": 27,
     "metadata": {},
     "output_type": "execute_result"
    }
   ],
   "source": [
    "using RDatasets\n",
    "iris = dataset(\"datasets\", \"iris\")\n",
    "irisM = Matrix(iris[:,1:4])\n",
    "svdvals(irisM)"
   ]
  },
  {
   "cell_type": "code",
   "execution_count": 28,
   "id": "5346ab79-3603-46a7-ade1-f2585c9279b7",
   "metadata": {},
   "outputs": [
    {
     "data": {
      "image/svg+xml": [
       "<?xml version=\"1.0\" encoding=\"utf-8\"?>\n",
       "<svg xmlns=\"http://www.w3.org/2000/svg\" xmlns:xlink=\"http://www.w3.org/1999/xlink\" width=\"600\" height=\"400\" viewBox=\"0 0 2400 1600\">\n",
       "<defs>\n",
       "  <clipPath id=\"clip340\">\n",
       "    <rect x=\"0\" y=\"0\" width=\"2400\" height=\"1600\"/>\n",
       "  </clipPath>\n",
       "</defs>\n",
       "<path clip-path=\"url(#clip340)\" d=\"\n",
       "M0 1600 L2400 1600 L2400 0 L0 0  Z\n",
       "  \" fill=\"#ffffff\" fill-rule=\"evenodd\" fill-opacity=\"1\"/>\n",
       "<defs>\n",
       "  <clipPath id=\"clip341\">\n",
       "    <rect x=\"480\" y=\"0\" width=\"1681\" height=\"1600\"/>\n",
       "  </clipPath>\n",
       "</defs>\n",
       "<path clip-path=\"url(#clip340)\" d=\"\n",
       "M169.121 1486.45 L2112.76 1486.45 L2112.76 47.2441 L169.121 47.2441  Z\n",
       "  \" fill=\"#ffffff\" fill-rule=\"evenodd\" fill-opacity=\"1\"/>\n",
       "<defs>\n",
       "  <clipPath id=\"clip342\">\n",
       "    <rect x=\"169\" y=\"47\" width=\"1945\" height=\"1440\"/>\n",
       "  </clipPath>\n",
       "</defs>\n",
       "<polyline clip-path=\"url(#clip342)\" style=\"stroke:#000000; stroke-linecap:round; stroke-linejoin:round; stroke-width:2; stroke-opacity:0.1; fill:none\" points=\"\n",
       "  412.076,1486.45 412.076,47.2441 \n",
       "  \"/>\n",
       "<polyline clip-path=\"url(#clip342)\" style=\"stroke:#000000; stroke-linecap:round; stroke-linejoin:round; stroke-width:2; stroke-opacity:0.1; fill:none\" points=\"\n",
       "  897.984,1486.45 897.984,47.2441 \n",
       "  \"/>\n",
       "<polyline clip-path=\"url(#clip342)\" style=\"stroke:#000000; stroke-linecap:round; stroke-linejoin:round; stroke-width:2; stroke-opacity:0.1; fill:none\" points=\"\n",
       "  1383.89,1486.45 1383.89,47.2441 \n",
       "  \"/>\n",
       "<polyline clip-path=\"url(#clip342)\" style=\"stroke:#000000; stroke-linecap:round; stroke-linejoin:round; stroke-width:2; stroke-opacity:0.1; fill:none\" points=\"\n",
       "  1869.8,1486.45 1869.8,47.2441 \n",
       "  \"/>\n",
       "<polyline clip-path=\"url(#clip340)\" style=\"stroke:#000000; stroke-linecap:round; stroke-linejoin:round; stroke-width:4; stroke-opacity:1; fill:none\" points=\"\n",
       "  169.121,1486.45 2112.76,1486.45 \n",
       "  \"/>\n",
       "<polyline clip-path=\"url(#clip340)\" style=\"stroke:#000000; stroke-linecap:round; stroke-linejoin:round; stroke-width:4; stroke-opacity:1; fill:none\" points=\"\n",
       "  412.076,1486.45 412.076,1467.55 \n",
       "  \"/>\n",
       "<polyline clip-path=\"url(#clip340)\" style=\"stroke:#000000; stroke-linecap:round; stroke-linejoin:round; stroke-width:4; stroke-opacity:1; fill:none\" points=\"\n",
       "  897.984,1486.45 897.984,1467.55 \n",
       "  \"/>\n",
       "<polyline clip-path=\"url(#clip340)\" style=\"stroke:#000000; stroke-linecap:round; stroke-linejoin:round; stroke-width:4; stroke-opacity:1; fill:none\" points=\"\n",
       "  1383.89,1486.45 1383.89,1467.55 \n",
       "  \"/>\n",
       "<polyline clip-path=\"url(#clip340)\" style=\"stroke:#000000; stroke-linecap:round; stroke-linejoin:round; stroke-width:4; stroke-opacity:1; fill:none\" points=\"\n",
       "  1869.8,1486.45 1869.8,1467.55 \n",
       "  \"/>\n",
       "<path clip-path=\"url(#clip340)\" d=\"M402.458 1544.91 L410.096 1544.91 L410.096 1518.55 L401.786 1520.21 L401.786 1515.95 L410.05 1514.29 L414.726 1514.29 L414.726 1544.91 L422.365 1544.91 L422.365 1548.85 L402.458 1548.85 L402.458 1544.91 Z\" fill=\"#000000\" fill-rule=\"evenodd\" fill-opacity=\"1\" /><path clip-path=\"url(#clip340)\" d=\"M892.637 1544.91 L908.956 1544.91 L908.956 1548.85 L887.012 1548.85 L887.012 1544.91 Q889.674 1542.16 894.257 1537.53 Q898.864 1532.88 900.044 1531.53 Q902.29 1529.01 903.169 1527.27 Q904.072 1525.51 904.072 1523.82 Q904.072 1521.07 902.128 1519.33 Q900.206 1517.6 897.105 1517.6 Q894.906 1517.6 892.452 1518.36 Q890.021 1519.13 887.244 1520.68 L887.244 1515.95 Q890.068 1514.82 892.521 1514.24 Q894.975 1513.66 897.012 1513.66 Q902.382 1513.66 905.577 1516.35 Q908.771 1519.03 908.771 1523.52 Q908.771 1525.65 907.961 1527.57 Q907.174 1529.47 905.068 1532.07 Q904.489 1532.74 901.387 1535.95 Q898.285 1539.15 892.637 1544.91 Z\" fill=\"#000000\" fill-rule=\"evenodd\" fill-opacity=\"1\" /><path clip-path=\"url(#clip340)\" d=\"M1388.14 1530.21 Q1391.5 1530.93 1393.37 1533.2 Q1395.27 1535.47 1395.27 1538.8 Q1395.27 1543.92 1391.75 1546.72 Q1388.23 1549.52 1381.75 1549.52 Q1379.58 1549.52 1377.26 1549.08 Q1374.97 1548.66 1372.52 1547.81 L1372.52 1543.29 Q1374.46 1544.43 1376.77 1545.01 Q1379.09 1545.58 1381.61 1545.58 Q1386.01 1545.58 1388.3 1543.85 Q1390.62 1542.11 1390.62 1538.8 Q1390.62 1535.75 1388.46 1534.03 Q1386.34 1532.3 1382.52 1532.3 L1378.49 1532.3 L1378.49 1528.45 L1382.7 1528.45 Q1386.15 1528.45 1387.98 1527.09 Q1389.81 1525.7 1389.81 1523.11 Q1389.81 1520.45 1387.91 1519.03 Q1386.03 1517.6 1382.52 1517.6 Q1380.59 1517.6 1378.4 1518.01 Q1376.2 1518.43 1373.56 1519.31 L1373.56 1515.14 Q1376.22 1514.4 1378.53 1514.03 Q1380.87 1513.66 1382.93 1513.66 Q1388.26 1513.66 1391.36 1516.09 Q1394.46 1518.5 1394.46 1522.62 Q1394.46 1525.49 1392.82 1527.48 Q1391.17 1529.45 1388.14 1530.21 Z\" fill=\"#000000\" fill-rule=\"evenodd\" fill-opacity=\"1\" /><path clip-path=\"url(#clip340)\" d=\"M1872.81 1518.36 L1861.01 1536.81 L1872.81 1536.81 L1872.81 1518.36 M1871.58 1514.29 L1877.46 1514.29 L1877.46 1536.81 L1882.39 1536.81 L1882.39 1540.7 L1877.46 1540.7 L1877.46 1548.85 L1872.81 1548.85 L1872.81 1540.7 L1857.21 1540.7 L1857.21 1536.19 L1871.58 1514.29 Z\" fill=\"#000000\" fill-rule=\"evenodd\" fill-opacity=\"1\" /><polyline clip-path=\"url(#clip342)\" style=\"stroke:#000000; stroke-linecap:round; stroke-linejoin:round; stroke-width:2; stroke-opacity:0.1; fill:none\" points=\"\n",
       "  169.121,1299.35 2112.76,1299.35 \n",
       "  \"/>\n",
       "<polyline clip-path=\"url(#clip342)\" style=\"stroke:#000000; stroke-linecap:round; stroke-linejoin:round; stroke-width:2; stroke-opacity:0.1; fill:none\" points=\"\n",
       "  169.121,1107.46 2112.76,1107.46 \n",
       "  \"/>\n",
       "<polyline clip-path=\"url(#clip342)\" style=\"stroke:#000000; stroke-linecap:round; stroke-linejoin:round; stroke-width:2; stroke-opacity:0.1; fill:none\" points=\"\n",
       "  169.121,915.564 2112.76,915.564 \n",
       "  \"/>\n",
       "<polyline clip-path=\"url(#clip342)\" style=\"stroke:#000000; stroke-linecap:round; stroke-linejoin:round; stroke-width:2; stroke-opacity:0.1; fill:none\" points=\"\n",
       "  169.121,723.67 2112.76,723.67 \n",
       "  \"/>\n",
       "<polyline clip-path=\"url(#clip342)\" style=\"stroke:#000000; stroke-linecap:round; stroke-linejoin:round; stroke-width:2; stroke-opacity:0.1; fill:none\" points=\"\n",
       "  169.121,531.776 2112.76,531.776 \n",
       "  \"/>\n",
       "<polyline clip-path=\"url(#clip342)\" style=\"stroke:#000000; stroke-linecap:round; stroke-linejoin:round; stroke-width:2; stroke-opacity:0.1; fill:none\" points=\"\n",
       "  169.121,339.882 2112.76,339.882 \n",
       "  \"/>\n",
       "<polyline clip-path=\"url(#clip342)\" style=\"stroke:#000000; stroke-linecap:round; stroke-linejoin:round; stroke-width:2; stroke-opacity:0.1; fill:none\" points=\"\n",
       "  169.121,147.988 2112.76,147.988 \n",
       "  \"/>\n",
       "<polyline clip-path=\"url(#clip340)\" style=\"stroke:#000000; stroke-linecap:round; stroke-linejoin:round; stroke-width:4; stroke-opacity:1; fill:none\" points=\"\n",
       "  169.121,1486.45 169.121,47.2441 \n",
       "  \"/>\n",
       "<polyline clip-path=\"url(#clip340)\" style=\"stroke:#000000; stroke-linecap:round; stroke-linejoin:round; stroke-width:4; stroke-opacity:1; fill:none\" points=\"\n",
       "  169.121,1299.35 185.942,1299.35 \n",
       "  \"/>\n",
       "<polyline clip-path=\"url(#clip340)\" style=\"stroke:#000000; stroke-linecap:round; stroke-linejoin:round; stroke-width:4; stroke-opacity:1; fill:none\" points=\"\n",
       "  169.121,1107.46 185.942,1107.46 \n",
       "  \"/>\n",
       "<polyline clip-path=\"url(#clip340)\" style=\"stroke:#000000; stroke-linecap:round; stroke-linejoin:round; stroke-width:4; stroke-opacity:1; fill:none\" points=\"\n",
       "  169.121,915.564 185.942,915.564 \n",
       "  \"/>\n",
       "<polyline clip-path=\"url(#clip340)\" style=\"stroke:#000000; stroke-linecap:round; stroke-linejoin:round; stroke-width:4; stroke-opacity:1; fill:none\" points=\"\n",
       "  169.121,723.67 185.942,723.67 \n",
       "  \"/>\n",
       "<polyline clip-path=\"url(#clip340)\" style=\"stroke:#000000; stroke-linecap:round; stroke-linejoin:round; stroke-width:4; stroke-opacity:1; fill:none\" points=\"\n",
       "  169.121,531.776 185.942,531.776 \n",
       "  \"/>\n",
       "<polyline clip-path=\"url(#clip340)\" style=\"stroke:#000000; stroke-linecap:round; stroke-linejoin:round; stroke-width:4; stroke-opacity:1; fill:none\" points=\"\n",
       "  169.121,339.882 185.942,339.882 \n",
       "  \"/>\n",
       "<polyline clip-path=\"url(#clip340)\" style=\"stroke:#000000; stroke-linecap:round; stroke-linejoin:round; stroke-width:4; stroke-opacity:1; fill:none\" points=\"\n",
       "  169.121,147.988 185.942,147.988 \n",
       "  \"/>\n",
       "<path clip-path=\"url(#clip340)\" d=\"M85.0429 1312.7 L101.362 1312.7 L101.362 1316.63 L79.4179 1316.63 L79.4179 1312.7 Q82.0799 1309.94 86.6632 1305.31 Q91.2697 1300.66 92.4502 1299.32 Q94.6956 1296.79 95.5752 1295.06 Q96.478 1293.3 96.478 1291.61 Q96.478 1288.85 94.5336 1287.12 Q92.6123 1285.38 89.5104 1285.38 Q87.3114 1285.38 84.8577 1286.15 Q82.4271 1286.91 79.6494 1288.46 L79.6494 1283.74 Q82.4734 1282.6 84.9271 1282.03 Q87.3808 1281.45 89.4178 1281.45 Q94.7882 1281.45 97.9826 1284.13 Q101.177 1286.82 101.177 1291.31 Q101.177 1293.44 100.367 1295.36 Q99.5798 1297.26 97.4734 1299.85 Q96.8947 1300.52 93.7928 1303.74 Q90.691 1306.93 85.0429 1312.7 Z\" fill=\"#000000\" fill-rule=\"evenodd\" fill-opacity=\"1\" /><path clip-path=\"url(#clip340)\" d=\"M121.177 1285.15 Q117.566 1285.15 115.737 1288.71 Q113.932 1292.26 113.932 1299.39 Q113.932 1306.49 115.737 1310.06 Q117.566 1313.6 121.177 1313.6 Q124.811 1313.6 126.617 1310.06 Q128.445 1306.49 128.445 1299.39 Q128.445 1292.26 126.617 1288.71 Q124.811 1285.15 121.177 1285.15 M121.177 1281.45 Q126.987 1281.45 130.043 1286.05 Q133.121 1290.64 133.121 1299.39 Q133.121 1308.11 130.043 1312.72 Q126.987 1317.3 121.177 1317.3 Q115.367 1317.3 112.288 1312.72 Q109.233 1308.11 109.233 1299.39 Q109.233 1290.64 112.288 1286.05 Q115.367 1281.45 121.177 1281.45 Z\" fill=\"#000000\" fill-rule=\"evenodd\" fill-opacity=\"1\" /><path clip-path=\"url(#clip340)\" d=\"M93.8623 1094.25 L82.0568 1112.7 L93.8623 1112.7 L93.8623 1094.25 M92.6354 1090.18 L98.515 1090.18 L98.515 1112.7 L103.446 1112.7 L103.446 1116.59 L98.515 1116.59 L98.515 1124.74 L93.8623 1124.74 L93.8623 1116.59 L78.2605 1116.59 L78.2605 1112.08 L92.6354 1090.18 Z\" fill=\"#000000\" fill-rule=\"evenodd\" fill-opacity=\"1\" /><path clip-path=\"url(#clip340)\" d=\"M121.177 1093.26 Q117.566 1093.26 115.737 1096.82 Q113.932 1100.36 113.932 1107.49 Q113.932 1114.6 115.737 1118.16 Q117.566 1121.71 121.177 1121.71 Q124.811 1121.71 126.617 1118.16 Q128.445 1114.6 128.445 1107.49 Q128.445 1100.36 126.617 1096.82 Q124.811 1093.26 121.177 1093.26 M121.177 1089.55 Q126.987 1089.55 130.043 1094.16 Q133.121 1098.74 133.121 1107.49 Q133.121 1116.22 130.043 1120.83 Q126.987 1125.41 121.177 1125.41 Q115.367 1125.41 112.288 1120.83 Q109.233 1116.22 109.233 1107.49 Q109.233 1098.74 112.288 1094.16 Q115.367 1089.55 121.177 1089.55 Z\" fill=\"#000000\" fill-rule=\"evenodd\" fill-opacity=\"1\" /><path clip-path=\"url(#clip340)\" d=\"M91.5938 913.7 Q88.4456 913.7 86.5938 915.853 Q84.7651 918.006 84.7651 921.756 Q84.7651 925.483 86.5938 927.659 Q88.4456 929.811 91.5938 929.811 Q94.7419 929.811 96.5706 927.659 Q98.4224 925.483 98.4224 921.756 Q98.4224 918.006 96.5706 915.853 Q94.7419 913.7 91.5938 913.7 M100.876 899.048 L100.876 903.307 Q99.1169 902.474 97.3113 902.034 Q95.5289 901.594 93.7697 901.594 Q89.1401 901.594 86.6864 904.719 Q84.2558 907.844 83.9086 914.163 Q85.2743 912.149 87.3345 911.085 Q89.3947 909.997 91.8715 909.997 Q97.0798 909.997 100.089 913.168 Q103.121 916.316 103.121 921.756 Q103.121 927.08 99.9733 930.297 Q96.8252 933.515 91.5938 933.515 Q85.5984 933.515 82.4271 928.932 Q79.2559 924.325 79.2559 915.598 Q79.2559 907.404 83.1447 902.543 Q87.0336 897.659 93.5845 897.659 Q95.3437 897.659 97.1261 898.006 Q98.9317 898.353 100.876 899.048 Z\" fill=\"#000000\" fill-rule=\"evenodd\" fill-opacity=\"1\" /><path clip-path=\"url(#clip340)\" d=\"M121.177 901.362 Q117.566 901.362 115.737 904.927 Q113.932 908.469 113.932 915.598 Q113.932 922.705 115.737 926.27 Q117.566 929.811 121.177 929.811 Q124.811 929.811 126.617 926.27 Q128.445 922.705 128.445 915.598 Q128.445 908.469 126.617 904.927 Q124.811 901.362 121.177 901.362 M121.177 897.659 Q126.987 897.659 130.043 902.265 Q133.121 906.848 133.121 915.598 Q133.121 924.325 130.043 928.932 Q126.987 933.515 121.177 933.515 Q115.367 933.515 112.288 928.932 Q109.233 924.325 109.233 915.598 Q109.233 906.848 112.288 902.265 Q115.367 897.659 121.177 897.659 Z\" fill=\"#000000\" fill-rule=\"evenodd\" fill-opacity=\"1\" /><path clip-path=\"url(#clip340)\" d=\"M91.0151 724.538 Q87.6817 724.538 85.7605 726.32 Q83.8623 728.103 83.8623 731.228 Q83.8623 734.353 85.7605 736.135 Q87.6817 737.917 91.0151 737.917 Q94.3484 737.917 96.2697 736.135 Q98.1909 734.33 98.1909 731.228 Q98.1909 728.103 96.2697 726.32 Q94.3715 724.538 91.0151 724.538 M86.3392 722.547 Q83.3299 721.806 81.6401 719.746 Q79.9735 717.686 79.9735 714.723 Q79.9735 710.58 82.9133 708.172 Q85.8762 705.765 91.0151 705.765 Q96.1771 705.765 99.1169 708.172 Q102.057 710.58 102.057 714.723 Q102.057 717.686 100.367 719.746 Q98.7002 721.806 95.7141 722.547 Q99.0937 723.334 100.969 725.626 Q102.867 727.918 102.867 731.228 Q102.867 736.251 99.7882 738.936 Q96.7326 741.621 91.0151 741.621 Q85.2975 741.621 82.2188 738.936 Q79.1633 736.251 79.1633 731.228 Q79.1633 727.918 81.0614 725.626 Q82.9595 723.334 86.3392 722.547 M84.6262 715.163 Q84.6262 717.848 86.2929 719.353 Q87.9827 720.857 91.0151 720.857 Q94.0243 720.857 95.7141 719.353 Q97.4271 717.848 97.4271 715.163 Q97.4271 712.478 95.7141 710.973 Q94.0243 709.469 91.0151 709.469 Q87.9827 709.469 86.2929 710.973 Q84.6262 712.478 84.6262 715.163 Z\" fill=\"#000000\" fill-rule=\"evenodd\" fill-opacity=\"1\" /><path clip-path=\"url(#clip340)\" d=\"M121.177 709.469 Q117.566 709.469 115.737 713.033 Q113.932 716.575 113.932 723.705 Q113.932 730.811 115.737 734.376 Q117.566 737.917 121.177 737.917 Q124.811 737.917 126.617 734.376 Q128.445 730.811 128.445 723.705 Q128.445 716.575 126.617 713.033 Q124.811 709.469 121.177 709.469 M121.177 705.765 Q126.987 705.765 130.043 710.371 Q133.121 714.955 133.121 723.705 Q133.121 732.431 130.043 737.038 Q126.987 741.621 121.177 741.621 Q115.367 741.621 112.288 737.038 Q109.233 732.431 109.233 723.705 Q109.233 714.955 112.288 710.371 Q115.367 705.765 121.177 705.765 Z\" fill=\"#000000\" fill-rule=\"evenodd\" fill-opacity=\"1\" /><path clip-path=\"url(#clip340)\" d=\"M51.6634 545.121 L59.3023 545.121 L59.3023 518.755 L50.9921 520.422 L50.9921 516.163 L59.256 514.496 L63.9319 514.496 L63.9319 545.121 L71.5707 545.121 L71.5707 549.056 L51.6634 549.056 L51.6634 545.121 Z\" fill=\"#000000\" fill-rule=\"evenodd\" fill-opacity=\"1\" /><path clip-path=\"url(#clip340)\" d=\"M91.0151 517.575 Q87.404 517.575 85.5753 521.14 Q83.7697 524.681 83.7697 531.811 Q83.7697 538.917 85.5753 542.482 Q87.404 546.024 91.0151 546.024 Q94.6493 546.024 96.4548 542.482 Q98.2835 538.917 98.2835 531.811 Q98.2835 524.681 96.4548 521.14 Q94.6493 517.575 91.0151 517.575 M91.0151 513.871 Q96.8252 513.871 99.8808 518.477 Q102.959 523.061 102.959 531.811 Q102.959 540.538 99.8808 545.144 Q96.8252 549.727 91.0151 549.727 Q85.2049 549.727 82.1262 545.144 Q79.0707 540.538 79.0707 531.811 Q79.0707 523.061 82.1262 518.477 Q85.2049 513.871 91.0151 513.871 Z\" fill=\"#000000\" fill-rule=\"evenodd\" fill-opacity=\"1\" /><path clip-path=\"url(#clip340)\" d=\"M121.177 517.575 Q117.566 517.575 115.737 521.14 Q113.932 524.681 113.932 531.811 Q113.932 538.917 115.737 542.482 Q117.566 546.024 121.177 546.024 Q124.811 546.024 126.617 542.482 Q128.445 538.917 128.445 531.811 Q128.445 524.681 126.617 521.14 Q124.811 517.575 121.177 517.575 M121.177 513.871 Q126.987 513.871 130.043 518.477 Q133.121 523.061 133.121 531.811 Q133.121 540.538 130.043 545.144 Q126.987 549.727 121.177 549.727 Q115.367 549.727 112.288 545.144 Q109.233 540.538 109.233 531.811 Q109.233 523.061 112.288 518.477 Q115.367 513.871 121.177 513.871 Z\" fill=\"#000000\" fill-rule=\"evenodd\" fill-opacity=\"1\" /><path clip-path=\"url(#clip340)\" d=\"M51.6634 353.227 L59.3023 353.227 L59.3023 326.861 L50.9921 328.528 L50.9921 324.269 L59.256 322.602 L63.9319 322.602 L63.9319 353.227 L71.5707 353.227 L71.5707 357.162 L51.6634 357.162 L51.6634 353.227 Z\" fill=\"#000000\" fill-rule=\"evenodd\" fill-opacity=\"1\" /><path clip-path=\"url(#clip340)\" d=\"M85.0429 353.227 L101.362 353.227 L101.362 357.162 L79.4179 357.162 L79.4179 353.227 Q82.0799 350.472 86.6632 345.843 Q91.2697 341.19 92.4502 339.847 Q94.6956 337.324 95.5752 335.588 Q96.478 333.829 96.478 332.139 Q96.478 329.385 94.5336 327.648 Q92.6123 325.912 89.5104 325.912 Q87.3114 325.912 84.8577 326.676 Q82.4271 327.44 79.6494 328.991 L79.6494 324.269 Q82.4734 323.135 84.9271 322.556 Q87.3808 321.977 89.4178 321.977 Q94.7882 321.977 97.9826 324.662 Q101.177 327.348 101.177 331.838 Q101.177 333.968 100.367 335.889 Q99.5798 337.787 97.4734 340.38 Q96.8947 341.051 93.7928 344.269 Q90.691 347.463 85.0429 353.227 Z\" fill=\"#000000\" fill-rule=\"evenodd\" fill-opacity=\"1\" /><path clip-path=\"url(#clip340)\" d=\"M121.177 325.681 Q117.566 325.681 115.737 329.246 Q113.932 332.787 113.932 339.917 Q113.932 347.023 115.737 350.588 Q117.566 354.13 121.177 354.13 Q124.811 354.13 126.617 350.588 Q128.445 347.023 128.445 339.917 Q128.445 332.787 126.617 329.246 Q124.811 325.681 121.177 325.681 M121.177 321.977 Q126.987 321.977 130.043 326.584 Q133.121 331.167 133.121 339.917 Q133.121 348.644 130.043 353.25 Q126.987 357.833 121.177 357.833 Q115.367 357.833 112.288 353.25 Q109.233 348.644 109.233 339.917 Q109.233 331.167 112.288 326.584 Q115.367 321.977 121.177 321.977 Z\" fill=\"#000000\" fill-rule=\"evenodd\" fill-opacity=\"1\" /><path clip-path=\"url(#clip340)\" d=\"M51.6634 161.333 L59.3023 161.333 L59.3023 134.968 L50.9921 136.634 L50.9921 132.375 L59.256 130.708 L63.9319 130.708 L63.9319 161.333 L71.5707 161.333 L71.5707 165.268 L51.6634 165.268 L51.6634 161.333 Z\" fill=\"#000000\" fill-rule=\"evenodd\" fill-opacity=\"1\" /><path clip-path=\"url(#clip340)\" d=\"M93.8623 134.782 L82.0568 153.231 L93.8623 153.231 L93.8623 134.782 M92.6354 130.708 L98.515 130.708 L98.515 153.231 L103.446 153.231 L103.446 157.12 L98.515 157.12 L98.515 165.268 L93.8623 165.268 L93.8623 157.12 L78.2605 157.12 L78.2605 152.606 L92.6354 130.708 Z\" fill=\"#000000\" fill-rule=\"evenodd\" fill-opacity=\"1\" /><path clip-path=\"url(#clip340)\" d=\"M121.177 133.787 Q117.566 133.787 115.737 137.352 Q113.932 140.893 113.932 148.023 Q113.932 155.13 115.737 158.694 Q117.566 162.236 121.177 162.236 Q124.811 162.236 126.617 158.694 Q128.445 155.13 128.445 148.023 Q128.445 140.893 126.617 137.352 Q124.811 133.787 121.177 133.787 M121.177 130.083 Q126.987 130.083 130.043 134.69 Q133.121 139.273 133.121 148.023 Q133.121 156.75 130.043 161.356 Q126.987 165.94 121.177 165.94 Q115.367 165.94 112.288 161.356 Q109.233 156.75 109.233 148.023 Q109.233 139.273 112.288 134.69 Q115.367 130.083 121.177 130.083 Z\" fill=\"#000000\" fill-rule=\"evenodd\" fill-opacity=\"1\" /><g clip-path=\"url(#clip342)\">\n",
       "<image width=\"1944\" height=\"1439\" xlink:href=\"data:image/png;base64,\n",
       "iVBORw0KGgoAAAANSUhEUgAAB5gAAAWfCAYAAAB+xCq9AAAgAElEQVR4nOzb34vldR3H8fnxnTPj\n",
       "7K6uukPryJp7U6FBpVBYuLEgQUIUkXiXEERd1U1X0UVkEEjQVRQU1IVdBEJ34RIhFpQQ5tWWotlq\n",
       "trnOOoytc5w558xMN+/V29fd+wSPx1/wuvtwvs/zXtx/7PjRAgAwF3700y93TwAAyiP3/7F7AgBQ\n",
       "vvLEue4JAEBZ6h4AAAAAAAAAwP8HgRkAAAAAAACAiMAMAAAAAAAAQERgBgAAAAAAACAiMAMAAAAA\n",
       "AAAQEZgBAAAAAAAAiAjMAAAAAAAAAEQEZgAAAAAAAAAiAjMAAAAAAAAAkWHplkn3BgCgbKx6lwFg\n",
       "Xtxw09vdEwCAcvv6cvcEAKC4YAYAAAAAAAAgIjADAAAAAAAAEBGYAQAAAAAAAIgIzAAAAAAAAABE\n",
       "BGYAAAAAAAAAIgIzAAAAAAAAABGBGQAAAAAAAICIwAwAAAAAAABARGAGAAAAAAAAIDIs3nqiewMA\n",
       "ULb2R90TAIAyGa91TwAAys7kqHsCAFBcMAMAAAAAAAAQEZgBAAAAAAAAiAjMAAAAAAAAAEQEZgAA\n",
       "AAAAAAAiAjMAAAAAAAAAEYEZAAAAAAAAgIjADAAAAAAAAEBEYAYAAAAAAAAgMixcG3dvAADK5fHQ\n",
       "PQEAKJPxWvcEAKBMD4+6JwAAxQUzAAAAAAAAABGBGQAAAAAAAICIwAwAAAAAAABARGAGAAAAAAAA\n",
       "ICIwAwAAAAAAABARmAEAAAAAAACICMwAAAAAAAAARARmAAAAAAAAACICMwAAAAAAAACR4ei2090b\n",
       "AICyuT7rngAAlNH6XvcEAKBsrLmVAoB54VUGAAAAAAAAICIwAwAAAAAAABARmAEAAAAAAACICMwA\n",
       "AAAAAAAARARmAAAAAAAAACICMwAAAAAAAAARgRkAAAAAAACAiMAMAAAAAAAAQGToHgAAvOfkyqx7\n",
       "AgBQjm9udU8AAMr6cvcCAOA6F8wAAAAAAAAARARmAAAAAAAAACICMwAAAAAAAAARgRkAAAAAAACA\n",
       "iMAMAAAAAAAAQERgBgAAAAAAACAiMAMAAAAAAAAQEZgBAAAAAAAAiAjMAAAAAAAAAESGo9XV7g0A\n",
       "QJkcLnZPAADK8vG97gkAQBkfdC8AAK5zwQwAAAAAAABARGAGAAAAAAAAICIwAwAAAAAAABARmAEA\n",
       "AAAAAACICMwAAAAAAAAARARmAAAAAAAAACICMwAAAAAAAAARgRkAAAAAAACAiMAMAAAAAAAAQGQ4\n",
       "+MPr3RsAgHL5nVH3BACgbF882z0BAChbe4fdEwCA4oIZAAAAAAAAgIjADAAAAAAAAEBEYAYAAAAA\n",
       "AAAgIjADAAAAAAAAEBGYAQAAAAAAAIgIzAAAAAAAAABEBGYAAAAAAAAAIgIzAAAAAAAAAJFh6YE7\n",
       "uzcAAGXjl7PuCQAAADB3NtbcSgHAvPAqAwAAAAAAABARmAEAAAAAAACICMwAAAAAAAAARARmAAAA\n",
       "AAAAACICMwAAAAAAAAARgRkAAAAAAACAiMAMAAAAAAAAQERgBgAAAAAAACAiMAMAAAAAAAAQGZau\n",
       "vdW9AQAAAObOic2t7gkAQFlxKgUAc8OzDAAAAAAAAEBEYAYAAAAAAAAgIjADAAAAAAAAEBGYAQAA\n",
       "AAAAAIgIzAAAAAAAAABEBGYAAAAAAAAAIgIzAAAAAAAAABGBGQAAAAAAAIDIcHjipu4NAAAAMHdm\n",
       "uzd0TwAAys6kewEAcJ0LZgAAAAAAAAAiAjMAAAAAAAAAEYEZAAAAAAAAgIjADAAAAAAAAEBEYAYA\n",
       "AAAAAAAgIjADAAAAAAAAEBGYAQAAAAAAAIgIzAAAAAAAAABEBGYAAAAAAAAAIsPiM893bwAAyvTw\n",
       "k90TAIDy5munuycAAGVnctA9AQAoLpgBAAAAAAAAiAjMAAAAAAAAAEQEZgAAAAAAAAAiAjMAAAAA\n",
       "AAAAEYEZAAAAAAAAgIjADAAAAAAAAEBEYAYAAAAAAAAgIjADAAAAAAAAEBGYAQAAAAAAAIgMS6dX\n",
       "ujcAAGVl6ah7AgBQNs6+1j0BAHjXPd0DAIDighkAAAAAAACAiMAMAAAAAAAAQERgBgAAAAAAACAi\n",
       "MAMAAAAAAAAQEZgBAAAAAAAAiAjMAAAAAAAAAEQEZgAAAAAAAAAiAjMAAAAAAAAAkWFhMuveAACU\n",
       "kyvT7gkAQFkaeZcBYF7ceXy5ewIAUFwwAwAAAAAAABARmAEAAAAAAACICMwAAAAAAAAARARmAAAA\n",
       "AAAAACICMwAAAAAAAAARgRkAAAAAAACAiMAMAAAAAAAAQERgBgAAAAAAACAiMAMAAAAAAAAQGfYe\n",
       "erR7AwBQtr77cvcEAKCsntnungAAlOlh9wIA4DoXzAAAAAAAAABEBGYAAAAAAAAAIgIzAAAAAAAA\n",
       "ABGBGQAAAAAAAICIwAwAAAAAAABARGAGAAAAAAAAICIwAwAAAAAAABARmAEAAAAAAACIDKu/+Hb3\n",
       "BgCgbO19vXsCAFD2/3VL9wQAoDy3u9M9AQAoLpgBAAAAAAAAiAjMAAAAAAAAAEQEZgAAAAAAAAAi\n",
       "AjMAAAAAAAAAEYEZAAAAAAAAgIjADAAAAAAAAEBEYAYAAAAAAAAgIjADAAAAAAAAEBGYAQAAAAAA\n",
       "AIgMi8eXuzcAAOXYcNg9AQAo1y5vdE8AAMroaKV7AgBQXDADAAAAAAAAEBGYAQAAAAAAAIgIzAAA\n",
       "AAAAAABEBGYAAAAAAAAAIgIzAAAAAAAAABGBGQAAAAAAAICIwAwAAAAAAABARGAGAAAAAAAAICIw\n",
       "AwAAAAAAABAZFkZD9wYAAACYOyc2t7onAADlA+vHuicAAMUFMwAAAAAAAAARgRkAAAAAAACAiMAM\n",
       "AAAAAAAAQERgBgAAAAAAACAiMAMAAAAAAAAQEZgBAAAAAAAAiAjMAAAAAAAAAEQEZgAAAAAAAAAi\n",
       "w8LDP+neAACUex/7bfcEAKCsfWS3ewIAUHZnR90TAIDighkAAAAAAACAiMAMAAAAAAAAQERgBgAA\n",
       "AAAAACAiMAMAAAAAAAAQEZgBAAAAAAAAiAjMAAAAAAAAAEQEZgAAAAAAAAAiAjMAAAAAAAAAEYEZ\n",
       "AAAAAAAAgMgwvvJU9wYAoDx79ZbuCQBAeXB7v3sCAFCmh0fdEwCA4oIZAAAAAAAAgIjADAAAAAAA\n",
       "AEBEYAYAAAAAAAAgIjADAAAAAAAAEBGYAQAAAAAAAIgIzAAAAAAAAABEBGYAAAAAAAAAIgIzAAAA\n",
       "AAAAAJFh+dqV7g0AQFkf7uieAACU2fZ69wQAoOzMJt0TAIDighkAAAAAAACAiMAMAAAAAAAAQERg\n",
       "BgAAAAAAACAiMAMAAAAAAAAQEZgBAAAAAAAAiAjMAAAAAAAAAEQEZgAAAAAAAAAiAjMAAAAAAAAA\n",
       "EYEZAAAAAAAAgMiw+uzT3RsAgDKePdI9AQAoB7tr3RMAgLK55l0GgHnhghkAAAAAAACAiMAMAAAA\n",
       "AAAAQERgBgAAAAAAACAiMAMAAAAAAAAQEZgBAAAAAAAAiAjMAAAAAAAAAEQEZgAAAAAAAAAiAjMA\n",
       "AAAAAAAAEYEZAAAAAAAAgMhwtL3fvQEAKOvDYfcEAKC8+Y8z3RMAgLIzOeieAAAUF8wAAAAAAAAA\n",
       "RARmAAAAAAAAACICMwAAAAAAAAARgRkAAAAAAACAiMAMAAAAAAAAQERgBgAAAAAAACAiMAMAAAAA\n",
       "AAAQEZgBAAAAAAAAiAwLo+4JAMB145n/fgHAvJjNhu4JAAAAMHd8xQYAAAAAAAAgIjADAAAAAAAA\n",
       "EBGYAQAAAAAAAIgIzAAAAAAAAABEBGYAAAAAAAAAIgIzAAAAAAAAABGBGQAAAAAAAICIwAwAAAAA\n",
       "AABARGAGAAAAAAAAIDJMPv2Z7g0AQDm1Ou2eAACUM+ee654AAFx34Z7uBQBAccEMAAAAAAAAQERg\n",
       "BgAAAAAAACAiMAMAAAAAAAAQEZgBAAAAAAAAiAjMAAAAAAAAAEQEZgAAAAAAAAAiAjMAAAAAAAAA\n",
       "EYEZAAAAAAAAgMgwunSxewMAUEZLm90TAIAy2z7ePQEAKCdHy90TAIDighkAAAAAAACAiMAMAAAA\n",
       "AAAAQERgBgAAAAAAACAiMAMAAAAAAAAQEZgBAAAAAAAAiAjMAAAAAAAAAEQEZgAAAAAAAAAiAjMA\n",
       "AAAAAAAAEYEZAAAAAAAAgMiw+J/XuzcAAOXS7mr3BACgbD1/tnsCAFB2JgfdEwCA4oIZAAAAAAAA\n",
       "gIjADAAAAAAAAEBEYAYAAAAAAAAgIjADAAAAAAAAEBGYAQAAAAAAAIgIzAAAAAAAAABEBGYAAAAA\n",
       "AAAAIgIzAAAAAAAAABGBGQAAAAAAAIDIsPfQo90bAIAy+s6l7gkAQNn86tXuCQBAOXbBrRQAzAuv\n",
       "MgAAAAAAAAARgRkAAAAAAACAiMAMAAAAAAAAQERgBgAAAAAAACAiMAMAAAAAAAAQEZgBAAAAAAAA\n",
       "iAjMAAAAAAAAAEQEZgAAAAAAAAAiw8L3fti9AQB415e6BwAA5fLPTnVPAAAAgLnjghkAAAAAAACA\n",
       "iMAMAAAAAAAAQERgBgAAAAAAACAiMAMAAAAAAAAQEZgBAAAAAAAAiAjMAAAAAAAAAEQEZgAAAAAA\n",
       "AAAiAjMAAAAAAAAAEYEZAAAAAAAAgMiw8vnT3RsAgHLqiWn3BACgbHzon90TAIBy8qn7uicAAMUF\n",
       "MwAAAAAAAAARgRkAAAAAAACAiMAMAAAAAAAAQERgBgAAAAAAACAiMAMAAAAAAAAQEZgBAAAAAAAA\n",
       "iAjMAAAAAAAAAEQEZgAAAAAAAAAiw+Izz3dvAADKs9vnuicAAOWLL53pngAAlItv73ZPAACKC2YA\n",
       "AAAAAAAAIgIzAAAAAAAAABGBGQAAAAAAAICIwAwAAAAAAABARGAGAAAAAAAAICIwAwAAAAAAABAR\n",
       "mAEAAAAAAACICMwAAAAAAAAARARmAAAAAAAAACLD5Gvf794AAJRTj73aPQEAKBvfOOqeAACUu393\n",
       "rHsCAFBcMAMAAAAAAAAQEZgBAAAAAAAAiAjMAAAAAAAAAEQEZgAAAAAAAAAiAjMAAAAAAAAAEYEZ\n",
       "AAAAAAAAgIjADAAAAAAAAEBEYAYAAAAAAAAgMnQPAADec+701e4JAEBZuvZW9wQAoEwPuxcAANe5\n",
       "YAYAAAAAAAAgIjADAAAAAAAAEBGYAQAAAAAAAIgIzAAAAAAAAABEBGYAAAAAAAAAIgIzAAAAAAAA\n",
       "ABGBGQAAAAAAAICIwAwAAAAAAABARGAGAAAAAAAAIDKsPfmD7g0AQPn7zsPdEwCAcv7JWfcEAKC8\n",
       "sXfQPQEAKC6YAQAAAAAAAIgIzAAAAAAAAABEBGYAAAAAAAAAIgIzAAAAAAAAABGBGQAAAAAAAICI\n",
       "wAwAAAAAAABARGAGAAAAAAAAICIwAwAAAAAAABARmAEAAAAAAACIDAv7k+4NAEBZXz7ongAAlOl4\n",
       "rXsCAFBuX1/ungAAFBfMAAAAAAAAAEQEZgAAAAAAAAAiAjMAAAAAAAAAEYEZAAAAAAAAgIjADAAA\n",
       "AAAAAEBEYAYAAAAAAAAgIjADAAAAAAAAEBGYAQAAAAAAAIgM05eWuzcAAOXq/kr3BACgTMZr3RMA\n",
       "gLLiVAoA5oZnGQAAAAAAAICIwAwAAAAAAABARGAGAAAAAAAAICIwAwAAAAAAABARmAEAAAAAAACI\n",
       "CMwAAAAAAAAARARmAAAAAAAAACICMwAAAAAAAAARgRkAAAAAAACAyHA0Gbo3AABlZ+K/XwAwLw6m\n",
       "fi8DwLzY2jvqngAAFF+xAQAAAAAAAIgIzAAAAAAAAABEBGYAAAAAAAAAIgIzAAAAAAAAABGBGQAA\n",
       "AAAAAICIwAwAAAAAAABARGAGAAAAAAAAICIwAwAAAAAAABAZhgdOdW8AAMrm47PuCQBAufG2q90T\n",
       "AICysrTYPQEAKC6YAQAAAAAAAIgIzAAAAAAAAABEBGYAAAAAAAAAIgIzAAAAAAAAABGBGQAAAAAA\n",
       "AICIwAwAAAAAAABARGAGAAAAAAAAICIwAwAAAAAAABARmAEAAAAAAACIDEuX/929AQAoO5Pl7gkA\n",
       "QJmO17onAABlPDvsngAAFBfMAAAAAAAAAEQEZgAAAAAAAAAiAjMAAAAAAAAAEYEZAAAAAAAAgIjA\n",
       "DAAAAAAAAEBEYAYAAAAAAAAgIjADAAAAAAAAEBGYAQAAAAAAAIgIzAAAAAAAAABEhoXVUfcGAKBs\n",
       "3jDpngAAlMl4rXsCAFBWlha7JwAAxQUzAAAAAAAAABGBGQAAAAAAAICIwAwAAAAAAABARGAGAAAA\n",
       "AAAAICIwAwAAAAAAABARmAEAAAAAAACICMwAAAAAAAAARARmAAAAAAAAACLD/ofv694AAJSNtb3u\n",
       "CQBAOfWJF7onAABl88L57gkAQHHBDAAAAAAAAEBEYAYAAAAAAAAgIjADAAAAAAAAEBGYAQAAAAAA\n",
       "AIgIzAAAAAAAAABEBGYAAAAAAAAAIgIzAAAAAAAAABGBGQAAAAAAAICIwAwAAAAAAABAZBhduti9\n",
       "AQAof976XPcEAKB8YXu9ewIAUF68dtA9AQAoLpgBAAAAAAAAiAjMAAAAAAAAAEQEZgAAAAAAAAAi\n",
       "AjMAAAAAAAAAEYEZAAAAAAAAgIjADAAAAAAAAEBEYAYAAAAAAAAgIjADAAAAAAAAEBn2Pvjx7g0A\n",
       "QNlYO+ieAACUlTv2uycAAADA3HHBDAAAAAAAAEBEYAYAAAAAAAAgIjADAAAAAAAAEBGYAQAAAAAA\n",
       "AIgIzAAAAAAAAABEBGYAAAAAAAAAIgIzAAAAAAAAABGBGQAAAAAAAICIwAwAAAAAAABAZNj+1svd\n",
       "GwCAsrX3vu4JAED52+Of6p4AAJTp0WH3BACguGAGAAAAAAAAICIwAwAAAAAAABARmAEAAAAAAACI\n",
       "CMwAAAAAAAAARARmAAAAAAAAACICMwAAAAAAAAARgRkAAAAAAACAiMAMAAAAAAAAQERgBgAAAAAA\n",
       "ACAy3Pzzz3ZvAADK5kevdk8AAMpd37zYPQEAKBt/uat7AgBQXDADAAAAAAAAEBGYAQAAAAAAAIgI\n",
       "zAAAAAAAAABEBGYAAAAAAAAAIgIzAAAAAAAAABGBGQAAAAAAAICIwAwAAAAAAABARGAGAAAAAAAA\n",
       "IDKs//7H3RsAgHc93D0AACjT597pngAAlJFTKQCYG55lAAAAAAAAACICMwAAAAAAAAARgRkAAAAA\n",
       "AACAiMAMAAAAAAAAQERgBgAAAAAAACAiMAMAAAAAAAAQEZgBAAAAAAAAiAjMAAAAAAAAAEQEZgAA\n",
       "AAAAAAAiw8K1cfcGAKBMDxe7JwAA5WB3rXsCAFDe2DvongAAFBfMAAAAAAAAAEQEZgAAAAAAAAAi\n",
       "AjMAAAAAAAAAEYEZAAAAAAAAgIjADAAAAAAAAEBEYAYAAAAAAAAgIjADAAAAAAAAEBGYAQAAAAAA\n",
       "AIgMk3vv694AAJSVpaPuCQBAWbn57e4JAEA5OVrungAAFBfMAAAAAAAAAEQEZgAAAAAAAAAiAjMA\n",
       "AAAAAAAAEYEZAAAAAAAAgIjADAAAAAAAAEBEYAYAAAAAAAAgIjADAAAAAAAAEBGYAQAAAAAAAIgI\n",
       "zAAAAAAAAABEhsXf/LV7AwBQdiZ3d08AAMr2xbPdEwCAMp4ddk8AAIoLZgAAAAAAAAAiAjMAAAAA\n",
       "AAAAEYEZAAAAAAAAgIjADAAAAAAAAEBEYAYAAAAAAAAgIjADAAAAAAAAEBGYAQAAAAAAAIgIzAAA\n",
       "AAAAAABEBGYAAAAAAAAAIsPKHfvdGwCAcucx7zIAzItbP/Zi9wQAoLz/wvnuCQBAccEMAAAAAAAA\n",
       "QERgBgAAAAAAACAiMAMAAAAAAAAQEZgBAAAAAAAAiAjMAAAAAAAAAEQEZgAAAAAAAAAiAjMAAAAA\n",
       "AAAAEYEZAAAAAAAAgMgweelY9wYAoFx+Z9Q9AQAof/r1g90TAIDy1H+3uicAAMUFMwAAAAAAAAAR\n",
       "gRkAAAAAAACAiMAMAAAAAAAAQERgBgAAAAAAACAiMAMAAAAAAAAQEZgBAAAAAAAAiAjMAAAAAAAA\n",
       "AEQEZgAAAAAAAAAiAjMAAAAAAAAAkeGtV27r3gAAlJ2J/34BwLx45srp7gkAQNlderV7AgBQfMUG\n",
       "AAAAAAAAICIwAwAAAAAAABARmAEAAAAAAACICMwAAAAAAAAARARmAAAAAAAAACICMwAAAAAAAAAR\n",
       "gRkAAAAAAACAiMAMAAAAAAAAQGQ4df8L3RsAgLLx9LnuCQBAOX/mle4JAED51es3dk8AAIoLZgAA\n",
       "4H/s2z1vHWYZxnEf+/Gx4yQ4TZO2aQJpWtoqFAGFgYmlEhsLAwOfiS8BExJM7BVCiBHxppaqVRKa\n",
       "KE2b5s2pHb8d24flTrte232G3+8TXPPzf24AAAAAiAjMAAAAAAAAAEQEZgAAAAAAAAAiAjMAAAAA\n",
       "AAAAEYEZAAAAAAAAgIjADAAAAAAAAEBEYAYAAAAAAAAgIjADAAAAAAAAEBGYAQAAAAAAAIiM2Z1v\n",
       "dW8AAACAhTM7XumeAAAAAAvHBTMAAAAAAAAAEYEZAAAAAAAAgIjADAAAAAAAAEBEYAYAAAAAAAAg\n",
       "IjADAAAAAAAAEBGYAQAAAAAAAIgIzAAAAAAAAABEBGYAAAAAAAAAIgIzAAAAAAAAAJHRPQAA+Mbq\n",
       "8rx7AgAAACyc2eSwewIAUFwwAwAAAAAAABARmAEAAAAAAACICMwAAAAAAAAARARmAAAAAAAAACIC\n",
       "MwAAAAAAAAARgRkAAAAAAACAiMAMAAAAAAAAQERgBgAAAAAAACAyTmajewMAULYOV7onAAAAwMJZ\n",
       "nU+7JwAAxQUzAAAAAAAAABGBGQAAAAAAAICIwAwAAAAAAABARGAGAAAAAAAAICIwAwAAAAAAABAR\n",
       "mAEAAAAAAACICMwAAAAAAAAARARmAAAAAAAAACICMwAAAAAAAACRsXX7UvcGAKA8PJh0TwAAygcP\n",
       "XumeAACUreVb3RMAgOKCGQAAAAAAAICIwAwAAAAAAABARGAGAAAAAAAAICIwAwAAAAAAABARmAEA\n",
       "AAAAAACICMwAAAAAAAAARARmAAAAAAAAACICMwAAAAAAAACR8eL3/te9AQAom3/5WfcEAKC8ce5J\n",
       "9wQAoJy+u9k9AQAoLpgBAAAAAAAAiAjMAAAAAAAAAEQEZgAAAAAAAAAiAjMAAAAAAAAAEYEZAAAA\n",
       "AAAAgIjADAAAAAAAAEBEYAYAAAAAAAAgIjADAAAAAAAAEBGYAQAAAAAAAIiMcX63ewMAUC6uH3VP\n",
       "AADK5RcfdE8AAMrp+Xe6JwAAxQUzAAAAAAAAABGBGQAAAAAAAICIwAwAAAAAAABARGAGAAAAAAAA\n",
       "ICIwAwAAAAAAABARmAEAAAAAAACICMwAAAAAAAAARARmAAAAAAAAACICMwAAAAAAAACRsXfz5e4N\n",
       "AEB5sD+6JwAAZe9gvXsCAFCeTZ51TwAAigtmAAAAAAAAACICMwAAAAAAAAARgRkAAAAAAACAiMAM\n",
       "AAAAAAAAQERgBgAAAAAAACAiMAMAAAAAAAAQEZgBAAAAAAAAiAjMAAAAAAAAAERG9wAA4Buzk+4F\n",
       "AMBzj3fOdk8AAMrq3FM2ACwKF8wAAAAAAAAARARmAAAAAAAAACICMwAAAAAAAAARgRkAAAAAAACA\n",
       "iMAMAAAAAAAAQERgBgAAAAAAACAiMAMAAAAAAAAQEZgBAAAAAAAAiAjMAAAAAAAAAETG8nTWvQEA\n",
       "KK9uHHVPAADK6vJx9wQA4GujewAAUFwwAwAAAAAAABARmAEAAAAAAACICMwAAAAAAAAARARmAAAA\n",
       "AAAAACICMwAAAAAAAAARgRkAAAAAAACAiMAMAAAAAAAAQERgBgAAAAAAACAy1q8/7d4AAJQb26N7\n",
       "AgBQfn5tt3sCAPC1te4BAEBxwQwAAAAAAABARGAGAAAAAAAAICIwAwAAAAAAABARmAEAAAAAAACI\n",
       "CMwAAAAAAAAARARmAAAAAAAAACICMwAAAAAAAAARgRkAAAAAAACAiMAMAAAAAAAAQGTML73SvQEA\n",
       "KNc3Z90TAIBy9vSz7gkAQDkzv9w9AQAoLpgBAAAAAAAAiAjMAAAAAAAAAEQEZgAAAAAAAAAiAjMA\n",
       "AAAAAAAAEYEZAAAAAAAAgIjADAAAAAAAAEBEYAYAAAAAAAAgIjADAAAAAAAAEBnzDz/v3gAAlHOr\n",
       "s+4JAEDZ31/rngAAlOnSSvcEAKC4YAYAAAAAAAAgIjADAAAAAAAAEBGYAQAAAAAAAIgIzAAAAAAA\n",
       "AABEBGYAAAAAAAAAIgIzAAAAAAAAABGBGQAAAAAAAICIwAwAAAAAAABARGAGAAAAAAAAIDJ2b13q\n",
       "3gAAlAcH0+4JAAAAsHAOl467JwAAxQUzAAAAAAAAABGBGQAAAAAAAICIwAwAAAAAAABARGAGAAAA\n",
       "AAAAICIwAwAAAAAAABARmAEAAAAAAACICMwAAAAAAAAARARmAAAAAAAAACICMwAAAAAAAACRsfH6\n",
       "590bAICydbjSPQEAKBcv3e+eAACU6dLr3RMAgOKCGQAAAAAAAICIwAwAAAAAAABARGAGAAAAAAAA\n",
       "ICIwAwAAAAAAABARmAEAAAAAAACICMwAAAAAAAAARARmAAAAAAAAACICMwAAAAAAAACRcbyz3r0B\n",
       "AAAAFs4/P3ynewIAUO4vP+qeAAAUF8wAAAAAAAAARARmAAAAAAAAACICMwAAAAAAAAARgRkAAAAA\n",
       "AACAiMAMAAAAAAAAQERgBgAAAAAAACAiMAMAAAAAAAAQEZgBAAAAAAAAiAjMAAAAAAAAAETG7MnZ\n",
       "7g0AQHk6m3RPAADK7my1ewIAUJ5NHnZPAACKC2YAAAAAAAAAIgIzAAAAAAAAABGBGQAAAAAAAICI\n",
       "wAwAAAAAAABARGAGAAAAAAAAICIwAwAAAAAAABARmAEAAAAAAACICMwAAAAAAAAAREb3AAAAAFhE\n",
       "qyvH3RMAgLK6tN49AQAoLpgBAAAAAAAAiEAITiIAACAASURBVAjMAAAAAAAAAEQEZgAAAAAAAAAi\n",
       "AjMAAAAAAAAAEYEZAAAAAAAAgIjADAAAAAAAAEBEYAYAAAAAAAAgIjADAAAAAAAAEBGYAQAAAAAA\n",
       "AIiMcXqvewMAUDZWuhcAAM89PVjvngAAlNnSl90TAIDighkAAAAAAACAiMAMAAAAAAAAQERgBgAA\n",
       "AAAAACAiMAMAAAAAAAAQEZgBAAAAAAAAiAjMAAAAAAAAAEQEZgAAAAAAAAAiAjMAAAAAAAAAEYEZ\n",
       "AAAAAAAAgMgY53e6NwAA5dz0uHsCAFB+dPlO9wQAoFy5dbV7AgBQXDADAAAAAAAAEBGYAQAAAAAA\n",
       "AIgIzAAAAAAAAABEBGYAAAAAAAAAIgIzAAAAAAAAABGBGQAAAAAAAICIwAwAAAAAAABARGAGAAAA\n",
       "AAAAIDIm71zq3gAAlNXlefcEAKCcv/CoewIAUE5P3uyeAAAUF8wAAAAAAAAARARmAAAAAAAAACIC\n",
       "MwAAAAAAAAARgRkAAAAAAACAiMAMAAAAAAAAQERgBgAAAAAAACAiMAMAAAAAAAAQEZgBAAAAAAAA\n",
       "iAjMAAAAAAAAAETGfG2tewMAUHaP/P0CgEVxsL/ePQEAKE+WnnVPAACKV2wAAAAAAAAAIgIzAAAA\n",
       "AAAAABGBGQAAAAAAAICIwAwAAAAAAABARGAGAAAAAAAAICIwAwAAAAAAABARmAEAAAAAAACICMwA\n",
       "AAAAAAAARMby9tPuDQBA2Rgn3RMAgLL1dLN7AgAAACwcF8wAAAAAAAAARARmAAAAAAAAACICMwAA\n",
       "AAAAAAARgRkAAAAAAACAiMAMAAAAAAAAQERgBgAAAAAAACAiMAMAAAAAAAAQEZgBAAAAAAAAiAjM\n",
       "AAAAAAAAAETG0vZO9wYAoMxOJt0TAIBydLTSPQEAKIdLs+4JAEBxwQwAAAAAAABARGAGAAAAAAAA\n",
       "ICIwAwAAAAAAABARmAEAAAAAAACICMwAAAAAAAAARARmAAAAAAAAACICMwAAAAAAAAARgRkAAAAA\n",
       "AACAiMAMAAAAAAAAQGTMHx90bwAAyuxk0j0BACgvbH7VPQEAKLPJevcEAKC4YAYAAAAAAAAgIjAD\n",
       "AAAAAAAAEBGYAQAAAAAAAIgIzAAAAAAAAABEBGYAAAAAAAAAIgIzAAAAAAAAABGBGQAAAAAAAICI\n",
       "wAwAAAAAAABAZEzOrHRvAADK1qG/XwCwKNbW97snAADlhZNz3RMAgOIVGwAAAAAAAICIwAwAAAAA\n",
       "AABARGAGAAAAAAAAICIwAwAAAAAAABARmAEAAAAAAACICMwAAAAAAAAARARmAAAAAAAAACICMwAA\n",
       "AAAAAAARgRkAAAAAAACAyJjvHHdvAADKuelJ9wQAoHxy+7XuCQBA2Znsdk8AAIoLZgAAAAAAAAAi\n",
       "AjMAAAAAAAAAEYEZAAAAAAAAgIjADAAAAAAAAEBEYAYAAAAAAAAgIjADAAAAAAAAEBGYAQAAAAAA\n",
       "AIgIzAAAAAAAAABExsnOtHsDAFAurM26JwAA5fXLd7snAADlygc/7p4AABQXzAAAAAAAAABEBGYA\n",
       "AAAAAAAAIgIzAAAAAAAAABGBGQAAAAAAAICIwAwAAAAAAABARGAGAAAAAAAAICIwAwAAAAAAABAR\n",
       "mAEAAAAAAACICMwAAAAAAAAARMbsyZnuDQBAubG91j0BACgf37naPQEAKB9PbndPAACKC2YAAAAA\n",
       "AAAAIgIzAAAAAAAAABGBGQAAAAAAAICIwAwAAAAAAABARGAGAAAAAAAAICIwAwAAAAAAABARmAEA\n",
       "AAAAAACICMwAAAAAAAAARARmAAAAAAAAACJj7Y3H3RsAgPJ01r0AAHjuyvmH3RMAgPLy8dXuCQBA\n",
       "ccEMAAAAAAAAQERgBgAAAAAAACAiMAMAAAAAAAAQEZgBAAAAAAAAiAjMAAAAAAAAAEQEZgAAAAAA\n",
       "AAAiAjMAAAAAAAAAEYEZAAAAAAAAgMg4+mKjewMAUC6dmndPAADK4+1vdU8AAMrdldvdEwCA4oIZ\n",
       "AAAAAAAAgIjADAAAAAAAAEBEYAYAAAAAAAAgIjADAAAAAAAAEBGYAQAAAAAAAIgIzAAAAAAAAABE\n",
       "BGYAAAAAAAAAIgIzAAAAAAAAABGBGQAAAAAAAIDIOH623r0BACjnpsfdEwCAcv7sV90TAIBy5fhq\n",
       "9wQAoLhgBgAAAAAAACAiMAMAAAAAAAAQEZgBAAAAAAAAiAjMAAAAAAAAAEQEZgAAAAAAAAAiAjMA\n",
       "AAAAAAAAEYEZAAAAAAAAgIjADAAAAAAAAEBkrL13qnsDAFBW/zjvngAAlNnx6J4AAJTDyax7AgBQ\n",
       "XDADAAAAAAAAEBGYAQAAAAAAAIgIzAAAAAAAAABEBGYAAAAAAAAAIgIzAAAAAAAAABGBGQAAAAAA\n",
       "AICIwAwAAAAAAABARGAGAAAAAAAAICIwAwAAAAAAABAZB3/e694AAJTdI3+/AGBRfPLly90TAIBy\n",
       "uHTYPQEAKF6xAQAAAAAAAIgIzAAAAAAAAABEBGYAAAAAAAAAIgIzAAAAAAAAABGBGQAAAAAAAICI\n",
       "wAwAAAAAAABARGAGAAAAAAAAICIwAwAAAAAAABARmAEAAAAAAACIjLVvP+7eAAAAAAvnJ9dudU8A\n",
       "AMr05rXuCQBAccEMAAAAAAAAQERgBgAAAAAAACAiMAMAAAAAAAAQEZgBAAAAAAAAiAjMAAAAAAAA\n",
       "AEQEZgAAAAAAAAAiAjMAAAAAAAAAEYEZAAAAAAAAgMiYH2rMALAobmyvdE8AAMrt+690TwAAypfL\n",
       "97onAABFXQYAAAAAAAAgIjADAAAAAAAAEBGYAQAAAAAAAIgIzAAAAAAAAABEBGYAAAAAAAAAIgIz\n",
       "AAAAAAAAABGBGQAAAAAAAICIwAwAAAAAAABARGAGAAAAAAAAIDLmh6N7AwBQrm8edU8AAMqp1YPu\n",
       "CQBAuXJ8tXsCAFBcMAMAAAAAAAAQEZgBAAAAAAAAiAjMAAAAAAAAAEQEZgAAAAAAAAAiAjMAAAAA\n",
       "AAAAEYEZAAAAAAAAgIjADAAAAAAAAEBEYAYAAAAAAAAgMh78683uDQBA+fujle4JAEB59dSF7gkA\n",
       "QLm7crt7AgBQXDADAAAAAAAAEBGYAQAAAAAAAIgIzAAAAAAAAABEBGYAAAAAAAAAIgIzAAAAAAAA\n",
       "ABGBGQAAAAAAAICIwAwAAAAAAABARGAGAAAAAAAAICIwAwAAAAAAABAZ04397g0AQPnu2e4FAMBz\n",
       "F07tdk8AAMpLJ692TwAAigtmAAAAAAAAACICMwAAAAAAAAARgRkAAAAAAACAiMAMAAAAAAAAQERg\n",
       "BgAAAAAAACAiMAMAAAAAAAAQEZgBAAAAAAAAiAjMAAAAAAAAAETG+V9udW8AAMrp90+6JwAA5bWX\n",
       "vuieAACUw/9e6p4AABQXzAAAAAAAAABEBGYAAAAAAAAAIgIzAAAAAAAAABGBGQAAAAAAAICIwAwA\n",
       "AAAAAABARGAGAAAAAAAAICIwAwAAAAAAABARmAEAAAAAAACICMwAAAAAAAAARMZnv7vSvQEAKPf2\n",
       "VronAADlrzff6p4AAJSt5VvdEwCA4oIZAAAAAAAAgIjADAAAAAAAAEBEYAYAAAAAAAAgIjADAAAA\n",
       "AAAAEBGYAQAAAAAAAIgIzAAAAAAAAABEBGYAAAAAAAAAIgIzAAAAAAAAABGBGQAAAAAAAIDIuPyL\n",
       "D7o3AADlh/9+t3sCAFDee/uj7gkAQPn9nevdEwCA4oIZAAAAAAAAgIjADAAAAAAAAEBEYAYAAAAA\n",
       "AAAgIjADAAAAAAAAEBGYAQAAAAAAAIgIzAAAAAAAAABEBGYAAAAAAAAAIgIzAAAAAAAAAJFxeON0\n",
       "9wYAoNzbm3ZPAADK/v5a9wQAoDyebHdPAACKC2YAAAAAAAAAIgIzAAAAAAAAABGBGQAAAAAAAICI\n",
       "wAwAAAAAAABARGAGAAAAAAAAICIwAwAAAAAAABARmAEAAAAAAACICMwAAAAAAAAARARmAAAAAAAA\n",
       "ACJj+u68ewMA8NxvuwcAAM+NcdQ9AQAoZ+Yb3RMAgOKCGQAAAAAAAICIwAwAAAAAAABARGAGAAAA\n",
       "AAAAICIwAwAAAAAAABARmAEAAAAAAACICMwAAAAAAAAARARmAAAAAAAAACICMwAAAAAAAACRsfu3\n",
       "je4NAEC5t+fvFwAsis8eXeyeAACUnclu9wQAoHjFBgAAAAAAACAiMAMAAAAAAAAQEZgBAAAAAAAA\n",
       "iAjMAAAAAAAAAEQEZgAAAAAAAAAiAjMAAAAAAAAAEYEZAAAAAAAAgIjADAAAAAAAAEBEYAYAAAAA\n",
       "AAAgMtZ+9WL3BgCgXP/TrHsCAFDeuvpp9wQAoJz5zw+6JwAAxQUzAAAAAAAAABGBGQAAAAAAAICI\n",
       "wAwAAAAAAABARGAGAAAAAAAAICIwAwAAAAAAABARmAEAAAAAAACICMwAAAAAAAAARARmAAAAAAAA\n",
       "ACICMwAAAAAAAACRsfLpze4NAEBZnfy0ewIAUJ5ubXZPAAAAgIXjghkAAAAAAACAiMAMAAAAAAAA\n",
       "QERgBgAAAAAAACAiMAMAAAAAAAAQEZgBAAAAAAAAiAjMAAAAAAAAAEQEZgAAAAAAAAAiAjMAAAAA\n",
       "AAAAkXH09ve7NwAAAMDCWV8/6J4AAJTDyax7AgBQXDADAAAAAAAAEBGYAQAAAAAAAIgIzAAAAAAA\n",
       "AABEBGYAAAAAAAAAIgIzAAAAAAAAABGBGQAAAAAAAICIwAwAAAAAAABARGAGAAAAAAAAICIwAwAA\n",
       "AAAAABAZD3+z370BACjT5Xn3BACg/Pr9a90TAIDyj70/dE8AAIoLZgAAAAAAAAAiAjMAAAAAAAAA\n",
       "EYEZAAAAAAAAgIjADAAAAAAAAEBEYAYAAAAAAAAgIjADAAAAAAAAEBGYAQAAAAAAAIgIzAAAAAAA\n",
       "AABExqnNne4NAEC5sL7XPQEAKNP5tHsCAAAALBwXzAAAAAAAAABEBGYAAAAAAAAAIgIzAAAAAAAA\n",
       "ABGBGQAAAAAAAICIwAwAAAAAAABARGAGAAAAAAAAICIwAwAAAAAAABARmAEAAAAAAACICMwAAAAA\n",
       "AAAARMb925e7NwAA5d7uRvcEAKAcTva6JwAAAMDCccEMAAAAAAAAQERgBgAAAAAAACAiMAMAAAAA\n",
       "AAAQEZgBAAAAAAAAiAjMAAAAAAAAAEQEZgAAAAAAAAAiAjMAAAAAAAAAEYEZAAAAAAAAgIjADAAA\n",
       "AAAAAEBkvHDxUfcGAKBc/WK7ewIAUM7Mz3RPAAAAgIXjghkAAAAAAACAiMAMAAAAAAAAQERgBgAA\n",
       "AAAAACAiMAMAAAAAAAAQEZgBAAAAAAAAiAjMAAAAAAAAAEQEZgAAAAAAAAAiAjMAAAAAAAAAkbG7\n",
       "faZ7AwBQPto61z0BACg7k53uCQBAWZ6sdU8AAIoLZgAAAAAAAAAiAjMAAAAAAAAAEYEZAAAAAAAA\n",
       "4P/t289ulOcZxmGP/c7YBlPbYEJCQGyy6SLrLir1cHsSPYIuuqHqoqqiiiYQCP9sxxg8nvF08wSk\n",
       "SpXu3fMtrusI7t1ovt/7EBGYAQAAAAAAAIgIzAAAAAAAAABEBGYAAAAAAAAAIgIzAAAAAAAAABGB\n",
       "GQAAAAAAAICIwAwAAAAAAABAZNy6c9G9AQAovz867Z4AAJRHr+92TwAAytPt3e4JAEBxwQwAAAAA\n",
       "AABARGAGAAAAAAAAICIwAwAAAAAAABARmAEAAAAAAACICMwAAAAAAAAARARmAAAAAAAAACICMwAA\n",
       "AAAAAAARgRkAAAAAAACAyFhfj+4NAEA5u9rrngAAlNPVsnsCAFAWO4fdEwCA4oIZAAAAAAAAgIjA\n",
       "DAAAAAAAAEBEYAYAAAAAAAAgIjADAAAAAAAAEBGYAQAAAAAAAIgIzAAAAAAAAABEBGYAAAAAAAAA\n",
       "IgIzAAAAAAAAABGBGQAAAAAAAIDIePXqQfcGAKCcLufdEwCA8m523j0BACiXyx+7JwAAxQUzAAAA\n",
       "AAAAABGBGQAAAAAAAICIwAwAAAAAAABARGAGAAAAAAAAICIwAwAAAAAAABARmAEAAAAAAACICMwA\n",
       "AAAAAAAARARmAAAAAAAAACICMwAAAAAAAACRMd9ZdW8AAMrT093uCQAAADA52zP/lwFgKlwwAwAA\n",
       "AAAAABARmAEAAAAAAACICMwAAAAAAAAARARmAAAAAAAAACICMwAAAAAAAAARgRkAAAAAAACAiMAM\n",
       "AAAAAAAAQERgBgAAAAAAACAy7p687d4AAJQ/fXXRPQEAKH/9d/cCAAAAmB4XzAAAAAAAAABEBGYA\n",
       "AAAAAAAAIgIzAAAAAAAAABGBGQAAAAAAAICIwAwAAAAAAABARGAGAAAAAAAAICIwAwAAAAAAABAR\n",
       "mAEAAAAAAACICMwAAAAAAAAARMbOfNW9AQAo1zfefgHAVBxsbnVPAADKzeaqewIAUHzFBgAAAAAA\n",
       "ACAiMAMAAAAAAAAQEZgBAAAAAAAAiAjMAAAAAAAAAEQEZgAAAAAAAAAiAjMAAAAAAAAAEYEZAAAA\n",
       "AAAAgIjADAAAAAAAAEBkvPjp2+4NAEB5fbXongAAlIvZ++4JAAAAMDkumAEAAAAAAACICMwAAAAA\n",
       "AAAARARmAAAAAAAAACICMwAAAAAAAAARgRkAAAAAAACAiMAMAAAAAAAAQERgBgAAAAAAACAiMAMA\n",
       "AAAAAAAQEZgBAAAAAAAAiIyTe2+7NwAA5ckvD7onAABlsTXvngAAlM1m1T0BACgumAEAAAAAAACI\n",
       "CMwAAAAAAAAARARmAAAAAAAAACICMwAAAAAAAAARgRkAAAAAAACAiMAMAAAAAAAAQERgBgAAAAAA\n",
       "ACAiMAMAAAAAAAAQEZgBAAAAAAAAiIzjxy+7NwAA5fof33dPAADKcutj9wQAoMxmo3sCAFBcMAMA\n",
       "AAAAAAAQEZgBAAAAAAAAiAjMAAAAAAAAAEQEZgAAAAAAAAAiAjMAAAAAAAAAEYEZAAAAAAAAgIjA\n",
       "DAAAAAAAAEBEYAYAAAAAAAAgMs5/PuneAACU0+W8ewIAUK5nZ90TAAAAYHJcMAMAAAAAAAAQEZgB\n",
       "AAAAAAAAiAjMAAAAAAAAAEQEZgAAAAAAAAAiAjMAAAAAAAAAEYEZAAAAAAAAgIjADAAAAAAAAEBE\n",
       "YAYAAAAAAAAgIjADAAAAAAAAEBnr1ejeAACU6423XwAwFcc3R90TAAAAYHJ8xQYAAAAAAAAgIjAD\n",
       "AAAAAAAAEBGYAQAAAAAAAIgIzAAAAAAAAABEBGYAAAAAAAAAIgIzAAAAAAAAABGBGQAAAAAAAICI\n",
       "wAwAAAAAAABAZBw/ftm9AQAof3jxvHsCAFD+/OKoewIAAABMjgtmAAAAAAAAACICMwAAAAAAAAAR\n",
       "gRkAAAAAAACAiMAMAAAAAAAAQERgBgAAAAAAACAiMAMAAAAAAAAQEZgBAAAAAAAAiAjMAAAAAAAA\n",
       "AEQEZgAAAAAAAAAi49PZQfcGAKCs1qN7AgBQFpt59wQAoGw2q+4JAEBxwQwAAAAAAABARGAGAAAA\n",
       "AAAAICIwAwAAAAAAABARmAEAAAAAAACICMwAAAAAAAAARARmAAAAAAAAACICMwAAAAAAAAARgRkA\n",
       "AAAAAACAiMAMAAAAAAAAQGQsbn3q3gAAlB9O73ZPAAA+23QPAADKfPi/DABT4YIZAAAAAAAAgIjA\n",
       "DAAAAAAAAEBEYAYAAAAAAAAgIjADAAAAAAAAEBGYAQAAAAAAAIgIzAAAAAAAAABEBGYAAAAAAAAA\n",
       "IgIzAAAAAAAAAJHx9qevuzcAAOX0et49AQAoi6119wQAoKzW590TAIDighkAAAAAAACAiMAMAAAA\n",
       "AAAAQERgBgAAAAAAACAiMAMAAAAAAAAQEZgBAAAAAAAAiAjMAAAAAAAAAEQEZgAAAAAAAAAiAjMA\n",
       "AAAAAAAAEYEZAAAAAAAAgMhYr0b3BgCgzGc33RMAAAAAAOD/csEMAAAAAAAAQERgBgAAAAAAACAi\n",
       "MAMAAAAAAAAQEZgBAAAAAAAAiAjMAAAAAAAAAEQEZgAAAAAAAAAiAjMAAAAAAAAAEYEZAAAAAAAA\n",
       "gMg4+upN9wYAoNz+17p7AgBQLmbL7gkAAAAwOS6YAQAAAAAAAIgIzAAAAAAAAABEBGYAAAAAAAAA\n",
       "IgIzAAAAAAAAABGBGQAAAAAAAICIwAwAAAAAAABARGAGAAAAAAAAICIwAwAAAAAAABARmAEAAAAA\n",
       "AACIjO4BAMAX8+2b7gkAQFls5t0TAAAAYHJcMAMAAAAAAAAQEZgBAAAAAAAAiAjMAAAAAAAAAEQE\n",
       "ZgAAAAAAAAAiAjMAAAAAAAAAEYEZAAAAAAAAgIjADAAAAAAAAEBEYAYAAAAAAAAgMpaXe90bAIBy\n",
       "fePtFwBMxcKbbACYjLHzu+4JAEDxbxkAAAAAAACAiMAMAAAAAAAAQERgBgAAAAAAACAiMAMAAAAA\n",
       "AAAQEZgBAAAAAAAAiAjMAAAAAAAAAEQEZgAAAAAAAAAiAjMAAAAAAAAAEYEZAAAAAAAAgMjoHgAA\n",
       "fPH6atE9AQD4bNU9AAAoq/V59wQAoLhgBgAAAAAAACAiMAMAAAAAAAAQEZgBAAAAAAAAiAjMAAAA\n",
       "AAAAAEQEZgAAAAAAAAAiAjMAAAAAAAAAEYEZAAAAAAAAgIjADAAAAAAAAEBEYAYAAAAAAAAgMq4+\n",
       "7XVvAADK/d1l9wQAoBwN/5cBAADgf7lgBgAAAAAAACAiMAMAAAAAAAAQEZgBAAAAAAAAiAjMAAAA\n",
       "AAAAAEQEZgAAAAAAAAAiAjMAAAAAAAAAEYEZAAAAAAAAgIjADAAAAAAAAEBk3Lpz0b0BACjXN95+\n",
       "AcBUfFivuycAAGV3fr97AgBQfMUGAAAAAAAAICIwAwAAAAAAABARmAEAAAAAAACICMwAAAAAAAAA\n",
       "RARmAAAAAAAAACICMwAAAAAAAAARgRkAAAAAAACAiMAMAAAAAAAAQERgBgAAAAAAACAy3r++170B\n",
       "ACiHi6vuCQBA+ef28+4JAEC5un7dPQEAKC6YAQAAAAAAAIgIzAAAAAAAAABEBGYAAAAAAAAAIgIz\n",
       "AAAAAAAAABGBGQAAAAAAAICIwAwAAAAAAABARGAGAAAAAAAAICIwAwAAAAAAABAZx/ffdm8AAMr8\n",
       "+ePuCQBAebR+0j0BACgvd552TwAAigtmAAAAAAAAACICMwAAAAAAAAARgRkAAAAAAACAiMAMAAAA\n",
       "AAAAQERgBgAAAAAAACAiMAMAAAAAAAAQEZgBAAAAAAAAiAjMAAAAAAAAAEQEZgAAAAAAAAAiY//w\n",
       "onsDAFDOlrvdEwCAcns2754AAJTV+rx7AgBQXDADAAAAAAAAEBGYAQAAAAAAAIgIzAAAAAAAAABE\n",
       "BGYAAAAAAAAAIgIzAAAAAAAAABGBGQAAAAAAAICIwAwAAAAAAABARGAGAAAAAAAAICIwAwAAAAAA\n",
       "ABAZH88OujcAAOVk/7J7AgBQPmz2uycAAGV7tts9AQAoLpgBAAAAAAAAiAjMAAAAAAAAAEQEZgAA\n",
       "AAAAAAAiAjMAAAAAAAAAEYEZAAAAAAAAgIjADAAAAAAAAEBEYAYAAAAAAAAgIjADAAAAAAAAEBmH\n",
       "T37u3gAA/Obv33cvAADK7dmiewIAAABMjgtmAAAAAAAAACICMwAAAAAAAAARgRkAAAAAAACAiMAM\n",
       "AAAAAAAAQERgBgAAAAAAACAiMAMAAAAAAAAQEZgBAAAAAAAAiAjMAAAAAAAAAEQEZgAAAAAAAAAi\n",
       "4+zZN90bAIBydrXXPQEAKO+3PnRPAAAAgMlxwQwAAAAAAABARGAGAAAAAAAAICIwAwAAAAAAABAR\n",
       "mAEAAAAAAACICMwAAAAAAAAARARmAAAAAAAAACICMwAAAAAAAAARgRkAAAAAAACAyNg/vOjeAACU\n",
       "k/3L7gkAQFluzbonAABle3u3ewIAUFwwAwAAAAAAABARmAEAAAAAAACICMwAAAAAAAAARARmAAAA\n",
       "AAAAACICMwAAAAAAAAARgRkAAAAAAACAiMAMAAAAAAAAQERgBgAAAAAAACAiMAMAAAAAAAAQGYuj\n",
       "X7s3AADlweFp9wQAoBxsvu2eAAAAAJPjghkAAAAAAACAiMAMAAAAAAAAQERgBgAAAAAAACAiMAMA\n",
       "AAAAAAAQEZgBAAAAAAAAiAjMAAAAAAAAAEQEZgAAAAAAAAAiAjMAAAAAAAAAEYEZAAAAAAAAgMiY\n",
       "LVbdGwCA8u7iTvcEAKC83z7tngAAlNX6vHsCAFBcMAMAAAAAAAAQEZgBAAAAAAAAiAjMAAAAAAAA\n",
       "AEQEZgAAAAAAAAAiAjMAAAAAAAAAEYEZAAAAAAAAgIjADAAAAAAAAEBEYAYAAAAAAAAgMp7+5Y/d\n",
       "GwCA8rfX97snAABlOftP9wQAoGw2q+4JAEBxwQwAAAAAAABARGAGAAAAAAAAICIwAwAAAAAAABAR\n",
       "mAEAAAAAAACICMwAAAAAAAAARARmAAAAAAAAACICMwAAAAAAAAARgRkAAAAAAACAiMAMAAAAAAAA\n",
       "QGSc3HvXvQEA+M2PT7oXAADl+OZu9wQAAACYHBfMAAAAAAAAAEQEZgAAAAAAAAAiAjMAAAAAAAAA\n",
       "EYEZAAAAAAAAgIjADAAAAAAAAEBEYAYAAAAAAAAgIjADAAAAAAAAEBGYAQAAAAAAAIiM7gEAwBf3\n",
       "d5fdEwCAcrDZ654AAJTZzKdsAJgKF8wAAAAAAAAARARmAAAAAAAAACICMwAAAAAAAAARgRkAAAAA\n",
       "AACAiMAMAAAAAAAAQERgBgAAAAAAACAiMAMAAAAAAAAQEZgBAAAAAAAAiAjMAAAAAAAAAETGvUcv\n",
       "uzcAAOXwh++6JwAAZbm16J4AAAAAk+OCGQAAAAAAAICIwAwAAAAAAABARGAGAAAAAAAAICIwAwAA\n",
       "AAAAABARmAEAAAAAAACICMwAAAAAAAAARARmAAAAAAAAACICMwAAAAAAAAARgRkAAAAAAACAyDh7\n",
       "edK9AQAozz4cdE8AAD5bdg8AAMpmu7eorAAABEVJREFUs+qeAAAUF8wAAAAAAAAARARmAAAAAAAA\n",
       "ACICMwAAAAAAAAARgRkAAAAAAACAiMAMAAAAAAAAQERgBgAAAAAAACAiMAMAAAAAAAAQEZgBAAAA\n",
       "AAAAiIw3b+91bwAAyuXK2y8AmIrl7Lp7AgBQZrPRPQEAKL5iAwAAAAAAABARmAEAAAAAAACICMwA\n",
       "AAAAAAAARARmAAAAAAAAACICMwAAAAAAAAARgRkAAAAAAACAiMAMAAAAAAAAQERgBgAAAAAAACAi\n",
       "MAMAAAAAAAAQGQ8evOreAACUhy8edU8AAMpiM++eAAAAAJPjghkAAAAAAACAiMAMAAAAAAAAQERg\n",
       "BgAAAAAAACAiMAMAAAAAAAAQEZgBAAAAAAAAiAjMAAAAAAAAAEQEZgAAAAAAAAAiAjMAAAAAAAAA\n",
       "kXF+eti9AQAAACZnObvungAAlO3ZbvcEAKC4YAYAAAAAAAAgIjADAAAAAAAAEBGYAQAAAAAAAIgI\n",
       "zAAAAAAAAABEBGYAAAAAAAAAIgIzAAAAAAAAABGBGQAAAAAAAICIwAwAAAAAAABARGAGAAAAAAAA\n",
       "IDIefvesewMAUL755evuCQBAOd467p4AAJTt7d3uCQBAccEMAAAAAAAAQERgBgAAAAAAACAiMAMA\n",
       "AAAAAAAQEZgBAAAAAAAAiAjMAAAAAAAAAEQEZgAAAAAAAAAiAjMAAAAAAAAAEYEZAAAAAAAAgIjA\n",
       "DAAAAAAAAEBkXLw56t4AAJSzq93uCQBAeb/1oXsCAFBW6/PuCQBAccEMAAAAAAAAQERgBgAAAAAA\n",
       "ACAiMAMAAAAAAAAQEZgBAAAAAAAAiAjMAAAAAAAAAEQEZgAAAAAAAAAiAjMAAAAAAAAAEYEZAAAA\n",
       "AAAAgMg4Pz3s3gAAlBcfb3VPAADKYrPsngAAAACT44IZAAAAAAAAgIjADAAAAAAAAEBEYAYAAAAA\n",
       "AAAgIjADAAAAAAAAEBGYAQAAAAAAAIgIzAAAAAAAAABEBGYAAAAAAAAAIgIzAAAAAAAAABGBGQAA\n",
       "AAAAAIDIGGPdvQEAKPPZTfcEAKBczC67JwAAAMDkuGAGAAAAAAAAICIwAwAAAAAAABARmAEAAAAA\n",
       "AACICMwAAAAAAAAARARmAAAAAAAAACICMwAAAAAAAAARgRkAAAAAAACAiMAMAAAAAAAAQGTs7n3q\n",
       "3gAAlMv1TvcEAKAstubdEwAAAGByXDADAAAAAAAAEBGYAQAAAAAAAIgIzAAAAAAAAABEBGYAAAAA\n",
       "AAAAIgIzAAAAAAAAABGBGQAAAAAAAICIwAwAAAAAAABARGAGAAAAAAAAICIwAwAAAAAAABAZi/1P\n",
       "3RsAgPLQ7zIAAAAAABPmghkAAAAAAACAiMAMAAAAAAAAQERgBgAAAAAAACAiMAMAAAAAAAAQEZgB\n",
       "AAAAAAAAiAjMAAAAAAAAAEQEZgAAAAAAAAAiAjMAAAAAAAAAkf8CljA04cZ0Mj0AAAAASUVORK5C\n",
       "YII=\n",
       "\" transform=\"translate(169, 47)\"/>\n",
       "</g>\n",
       "<defs>\n",
       "  <clipPath id=\"clip343\">\n",
       "    <rect x=\"2160\" y=\"47\" width=\"73\" height=\"1440\"/>\n",
       "  </clipPath>\n",
       "</defs>\n",
       "<g clip-path=\"url(#clip343)\">\n",
       "<image width=\"72\" height=\"1439\" xlink:href=\"data:image/png;base64,\n",
       "iVBORw0KGgoAAAANSUhEUgAAAEgAAAWfCAYAAAAI7rB3AAAMWUlEQVR4nO3dwY0rRxAFwaZQ/lsh\n",
       "L6XfLQtUeSQPERYsEg8c9MyQ+/n3/v0O/+uvb/8Bv06gIFAQKAgU5r5/v/03/DQLCgIFgYJAQaAw\n",
       "7/359t/w0ywoCBQECgIFR41gQUGgIFAQKAgU5rmKrSwoCBQECgIFgcK86yq2saAgUBAoCBQcNYIF\n",
       "BYGCQEGgIFBwFQsWFAQKAgWBgvtBwYKCQEGgIFAQKMxx1FhZUBAoCBQECgIFN8yCBQWBgkBBoDDH\n",
       "DbOVBQWBgkBBoCBQmHP/+fbf8NMsKAgUBAoCBYGCxz7BgoJAQaAgUHDDLFhQECgIFAQKAgVXsWBB\n",
       "QaAgUBAouB8ULCgIFAQKAgWBwnwcNVYWFAQKAgWBgkBhzvWfWTYWFAQKAgWBgqNGsKAgUBAoCBQE\n",
       "Co4awYKCQEGgIFAQKHjDLFhQECgIFAQK83HUWFlQECgIFAQKAgXvSQcLCgIFgYJAwVEjWFAQKAgU\n",
       "BAoCBc/mgwUFgYJAQaAgUHAWCxYUBAoCBYGCo0awoCBQECgIFAQKjhrBgoJAQaAgUBAozLn323/D\n",
       "T7OgIFAQKAgUHDWCBQWBgkBBoCBQ8NgnWFAQKAgUBAo+pIMFBYGCQEGgIFCYj6caKwsKAgWBgkBB\n",
       "oOAsFiwoCBQECgIFL1AFCwoCBYGCQEGg4IZZsKAgUBAoCBTcDwoWFAQKAgWBgkDBDbNgQUGgIFAQ\n",
       "KAgUXMWCBQWBgkBBoOB788GCgkBBoCBQECg4agQLCgIFgYJAQaDgKhYsKAgUBAoCBR/SwYKCQEGg\n",
       "IFAQKLiKBQsKAgWBgkBhzvMhvbGgIFAQKAgUBAqOGsGCgkBBoCBQECi4igULCgIFgYJAwYd0sKAg\n",
       "UBAoCBQECnPu+/bf8NMsKAgUBAoCBYGCs1iwoCBQECgIFBw1ggUFgYJAQaAgUHDUCBYUBAoCBYGC\n",
       "o0awoCBQECgIFAQKc5w0VhYUBAoCBYGCQGHOcxbbWFAQKAgUBAqOGsGCgkBBoCBQECi4igULCgIF\n",
       "gYJAQaAwfohzZ0FBoCBQECg4agQLCgIFgYJAQaDgKhYsKAgUBAoChTn38+2/4adZUBAoCBQECgKF\n",
       "ec9VbGNBQaAgUBAoCBTcMAsWFAQKAgWBghtmwYKCQEGgIFAQKMy7Gm3UCQIFgYJAwVEjWFAQKAgU\n",
       "BAoChTmeza8sKAgUBAoCBYHCPGexlQUFgYJAQaAwx1ONlTpBoCBQECgIFBw1ggUFgYJAQaAgUPDY\n",
       "J1hQECgIFAQKXgMO6gSBgkBBoCBQ8J50sKAgUBAoCBQ81QgWFAQKAgWBgkBh3tNoo04QKAgUBAoC\n",
       "BTfMggUFgYJAQaDghlmwoCBQECgIFAQKc9wwW6kTBAoCBYGCQMFZLFhQECgIFAQKPqSDBQWBgkBB\n",
       "oCBQ8L35YEFBoCBQECj43nxQJwgUBAoCBYHCPEeNlQUFgYJAQaAgUPDYJ1hQECgIFAQK/jNLUCcI\n",
       "FAQKAgWBghtmwYKCQEGgIFAQKLhhFiwoCBQECgIFR41gQUGgIFAQKAgUvCcd1AkCBYGCQMFRI1hQ\n",
       "ECgIFAQKAgVPNYIFBYGCQEGgIFBwFgsWFAQKAgWBgn+fFSwoCBQECgIFgYJ/ZRzUCQIFgYJAQaDg\n",
       "hlmwoCBQECgIFDybDxYUBAoCBYGCQMFRI1hQECgIFAQKc31IrywoCBQECgIFgYLvzQd1gkBBoCBQ\n",
       "ECi4YRYsKAgUBAoCBR/SwYKCQEGgIFAQKHjDLFhQECgIFAQKjhrBgoJAQaAgUBAouIoFCwoCBYGC\n",
       "QEGg4NdfgjpBoCBQECjM9VRjZUFBoCBQECgIFNwwCxYUBAoCBYGCQMFVLFhQECgIFAQKPqSDBQWB\n",
       "gkBBoCBQ8BtmwYKCQEGgIFBw1AgWFAQKAgWBgkDBVSxYUBAoCBQECgIFX2YJ6gSBgkBBoODLLMGC\n",
       "gkBBoCBQECi4YRYsKAgUBAoCBYGCq1iwoCBQECgIFLwGHCwoCBQECgIFgYKjRrCgIFAQKAgU5h0f\n",
       "0hsLCgIFgYJAQaDghlmwoCBQECgIFAQKbpgFCwoCBYGCQMFRI1hQECgIFAQKAgVHjWBBQaAgUBAo\n",
       "CBScxYIFBYGCQEGg4KgRLCgIFAQKAgWBgqtYsKAgUBAoCBTm+jLLyoKCQEGgIFAQKDhqBAsKAgWB\n",
       "gkBBoODZfLCgIFAQKAgU5r1v/wm/zYKCQEGgIFAQKDhqBAsKAgWBgkDBD00GCwoCBYGCQEGg4KgR\n",
       "LCgIFAQKAgWBgjfMggUFgYJAQaDgyyzBgoJAQaAgUBAoeMMsWFAQKAgUBAoCBY99ggUFgYJAQaDg\n",
       "qUawoCBQECgIFAQKHvsECwoCBYGCQMH9oGBBQaAgUBAoCBQ8mw8WFAQKAgWBgkDBDbNgQUGgIFAQ\n",
       "KHg2HywoCBQECgIFgcLcb/8FP86CgkBBoCBQECg4iwULCgIFgYJAwRtmwYKCQEGgIFAQKLhhFiwo\n",
       "CBQECgIF94OCBQWBgkBBoCBQcNQIFhQECgIFgYJAwVksWFAQKAgUBAqezQcLCgIFgYJAQaAwfvxl\n",
       "Z0FBoCBQECgIFJzFggUFgYJAQaDg2XywoCBQECgIFAQKns0HCwoCBYGCQMFRI1hQECgIFAQKAgVH\n",
       "jWBBQaAgUBAoCBTmesVsZUFBoCBQECi4YRYsKAgUBAoCBYGCG2bBgoJAQaAgUHDUCBYUBAoCBYGC\n",
       "QGGepxorCwoCBYGCQEGgMPe4YbaxoCBQECgIFLxAFSwoCBQECgIFgYIfmgwWFAQKAgWBgkDBD00G\n",
       "CwoCBYGCQMGz+WBBQaAgUBAoCBS8Jx0sKAgUBAoCBd84DBYUBAoCBYGCQMFRI1hQECgIFAQKAgXv\n",
       "SQcLCgIFgYJAwWvAwYKCQEGgIFAQKDhqBAsKAgWBgkBBoOA96WBBQaAgUBAo+ImuYEFBoCBQECgI\n",
       "FNwwCxYUBAoCBYGCZ/PBgoJAQaAgUBAoOGoECwoCBYGCQEGg4CwWLCgIFAQKAgVHjWBBQaAgUBAo\n",
       "CBRcxYIFBYGCQEGgIFBwwyxYUBAoCBQECo4awYKCQEGgIFAQKDhqBAsKAgWBgkDBUSNYUBAoCBQE\n",
       "CgIFP9EVLCgIFAQKAgWBgv8vFiwoCBQECgIFN8yCBQWBgkBBoCBQmHdcxjYWFAQKAgWBgkDBWSxY\n",
       "UBAoCBQECp7NBwsKAgWBgkBBoODZfLCgIFAQKAgU3A8KFhQECgIFgYJAwbP5YEFBoCBQECgIFJzF\n",
       "ggUFgYJAQaDgJ7qCBQWBgkBBoCBQmOsVs5UFBYGCQEGg4AWqYEFBoCBQECgIFOY5aqwsKAgUBAoC\n",
       "BYGCs1iwoCBQECgIFDzVCBYUBAoCBYGCQMEbZsGCgkBBoCBQECjM9ZXMlQUFgYJAQaDghlmwoCBQ\n",
       "ECgIFAQKfv0lWFAQKAgUBApeoAoWFAQKAgWBgkDBU41gQUGgIFAQKAgU3DALFhQECgIFgcLc45bZ\n",
       "xoKCQEGgIFAQKLhhFiwoCBQECgIFgYKrWLCgIFAQKAgUPNUIFhQECgIFgYJAwWOfYEFBoCBQECjM\n",
       "/ThqbCwoCBQECgIFgYKjRrCgIFAQKAgUBArzXMVWFhQECgIFgYKjRrCgIFAQKAgUBApzP65iGwsK\n",
       "AgWBgkBBoOAsFiwoCBQECgIFTzWCBQWBgkBBoCBQcNQIFhQECgIFgYIP6WBBQaAgUBAoCBQ8mw8W\n",
       "FAQKAgWBgkBh3vnz7b/hp1lQECgIFAQKbpgFCwoCBYGCQEGg4A2zYEFBoCBQECjMfe4HbSwoCBQE\n",
       "CgIFgYKjRrCgIFAQKAgUBApzPZtfWVAQKAgUBAqOGsGCgkBBoCBQECg4agQLCgIFgYJAQaAw7zmL\n",
       "bSwoCBQECgIFN8yCBQWBgkBBoCBQ8J50sKAgUBAoCBQcNYIFBYGCQEGgIFCY56ixsqAgUBAoCBQE\n",
       "Cs5iwYKCQEGgIFCY6wWqlQUFgYJAQaAgUPCb9sGCgkBBoCBQECj4MkuwoCBQECgIFDzVCBYUBAoC\n",
       "BYGCQMFRI1hQECgIFAQKPqSDBQWBgkBBoCBQ8Gw+WFAQKAgUBAoCBWexYEFBoCBQECjM8Wx+ZUFB\n",
       "oCBQECgIFBw1ggUFgYJAQaAgUPCedLCgIFAQKAgU5jhqrCwoCBQECgIFgYI3zIIFBYGCQEGg4Nl8\n",
       "sKAgUBAoCBQECm6YBQsKAgWBgkBBoDDvvG//DT/NgoJAQaAgUHDDLFhQECgIFAQKAoU5jhorCwoC\n",
       "BYGCQOE/LrLuTX/wFc8AAAAASUVORK5CYII=\n",
       "\" transform=\"translate(2161, 47)\"/>\n",
       "</g>\n",
       "<path clip-path=\"url(#clip340)\" d=\"M2269.43 1330.1 L2277.07 1330.1 L2277.07 1303.74 L2268.76 1305.4 L2268.76 1301.14 L2277.02 1299.48 L2281.7 1299.48 L2281.7 1330.1 L2289.33 1330.1 L2289.33 1334.04 L2269.43 1334.04 L2269.43 1330.1 Z\" fill=\"#000000\" fill-rule=\"evenodd\" fill-opacity=\"1\" /><path clip-path=\"url(#clip340)\" d=\"M2274.38 1145.59 L2290.7 1145.59 L2290.7 1149.52 L2268.76 1149.52 L2268.76 1145.59 Q2271.42 1142.83 2276 1138.2 Q2280.61 1133.55 2281.79 1132.21 Q2284.03 1129.69 2284.91 1127.95 Q2285.82 1126.19 2285.82 1124.5 Q2285.82 1121.75 2283.87 1120.01 Q2281.95 1118.27 2278.85 1118.27 Q2276.65 1118.27 2274.2 1119.04 Q2271.77 1119.8 2268.99 1121.35 L2268.99 1116.63 Q2271.81 1115.5 2274.27 1114.92 Q2276.72 1114.34 2278.76 1114.34 Q2284.13 1114.34 2287.32 1117.02 Q2290.52 1119.71 2290.52 1124.2 Q2290.52 1126.33 2289.7 1128.25 Q2288.92 1130.15 2286.81 1132.74 Q2286.23 1133.41 2283.13 1136.63 Q2280.03 1139.82 2274.38 1145.59 Z\" fill=\"#000000\" fill-rule=\"evenodd\" fill-opacity=\"1\" /><path clip-path=\"url(#clip340)\" d=\"M2284.38 946.376 Q2287.74 947.094 2289.61 949.362 Q2291.51 951.631 2291.51 954.964 Q2291.51 960.08 2287.99 962.881 Q2284.47 965.682 2277.99 965.682 Q2275.82 965.682 2273.5 965.242 Q2271.21 964.825 2268.76 963.969 L2268.76 959.455 Q2270.7 960.589 2273.02 961.168 Q2275.33 961.747 2277.85 961.747 Q2282.25 961.747 2284.54 960.011 Q2286.86 958.274 2286.86 954.964 Q2286.86 951.909 2284.7 950.196 Q2282.58 948.46 2278.76 948.46 L2274.73 948.46 L2274.73 944.617 L2278.94 944.617 Q2282.39 944.617 2284.22 943.251 Q2286.05 941.862 2286.05 939.27 Q2286.05 936.608 2284.15 935.196 Q2282.27 933.761 2278.76 933.761 Q2276.83 933.761 2274.64 934.177 Q2272.44 934.594 2269.8 935.474 L2269.8 931.307 Q2272.46 930.566 2274.77 930.196 Q2277.11 929.825 2279.17 929.825 Q2284.5 929.825 2287.6 932.256 Q2290.7 934.663 2290.7 938.784 Q2290.7 941.654 2289.06 943.645 Q2287.41 945.612 2284.38 946.376 Z\" fill=\"#000000\" fill-rule=\"evenodd\" fill-opacity=\"1\" /><path clip-path=\"url(#clip340)\" d=\"M2284.36 750.011 L2272.55 768.46 L2284.36 768.46 L2284.36 750.011 M2283.13 745.937 L2289.01 745.937 L2289.01 768.46 L2293.94 768.46 L2293.94 772.349 L2289.01 772.349 L2289.01 780.497 L2284.36 780.497 L2284.36 772.349 L2268.76 772.349 L2268.76 767.835 L2283.13 745.937 Z\" fill=\"#000000\" fill-rule=\"evenodd\" fill-opacity=\"1\" /><path clip-path=\"url(#clip340)\" d=\"M2270.21 561.424 L2288.57 561.424 L2288.57 565.359 L2274.5 565.359 L2274.5 573.831 Q2275.52 573.484 2276.53 573.322 Q2277.55 573.137 2278.57 573.137 Q2284.36 573.137 2287.74 576.308 Q2291.12 579.479 2291.12 584.896 Q2291.12 590.475 2287.64 593.576 Q2284.17 596.655 2277.85 596.655 Q2275.68 596.655 2273.41 596.285 Q2271.16 595.914 2268.76 595.174 L2268.76 590.475 Q2270.84 591.609 2273.06 592.164 Q2275.28 592.72 2277.76 592.72 Q2281.77 592.72 2284.1 590.614 Q2286.44 588.507 2286.44 584.896 Q2286.44 581.285 2284.1 579.178 Q2281.77 577.072 2277.76 577.072 Q2275.89 577.072 2274.01 577.489 Q2272.16 577.905 2270.21 578.785 L2270.21 561.424 Z\" fill=\"#000000\" fill-rule=\"evenodd\" fill-opacity=\"1\" /><path clip-path=\"url(#clip340)\" d=\"M2281.09 392.327 Q2277.95 392.327 2276.09 394.48 Q2274.27 396.633 2274.27 400.383 Q2274.27 404.11 2276.09 406.285 Q2277.95 408.438 2281.09 408.438 Q2284.24 408.438 2286.07 406.285 Q2287.92 404.11 2287.92 400.383 Q2287.92 396.633 2286.07 394.48 Q2284.24 392.327 2281.09 392.327 M2290.38 377.674 L2290.38 381.934 Q2288.62 381.1 2286.81 380.661 Q2285.03 380.221 2283.27 380.221 Q2278.64 380.221 2276.19 383.346 Q2273.76 386.471 2273.41 392.79 Q2274.77 390.776 2276.83 389.711 Q2278.89 388.623 2281.37 388.623 Q2286.58 388.623 2289.59 391.795 Q2292.62 394.943 2292.62 400.383 Q2292.62 405.707 2289.47 408.924 Q2286.33 412.142 2281.09 412.142 Q2275.1 412.142 2271.93 407.559 Q2268.76 402.952 2268.76 394.225 Q2268.76 386.031 2272.64 381.17 Q2276.53 376.286 2283.08 376.286 Q2284.84 376.286 2286.63 376.633 Q2288.43 376.98 2290.38 377.674 Z\" fill=\"#000000\" fill-rule=\"evenodd\" fill-opacity=\"1\" /><path clip-path=\"url(#clip340)\" d=\"M2268.76 192.397 L2290.98 192.397 L2290.98 194.388 L2278.43 226.957 L2273.55 226.957 L2285.35 196.332 L2268.76 196.332 L2268.76 192.397 Z\" fill=\"#000000\" fill-rule=\"evenodd\" fill-opacity=\"1\" /><polyline clip-path=\"url(#clip340)\" style=\"stroke:#000000; stroke-linecap:round; stroke-linejoin:round; stroke-width:4; stroke-opacity:1; fill:none\" points=\"\n",
       "  2232.76,1486.45 2232.76,1320.39 2256.76,1320.39 2232.76,1320.39 2232.76,1135.87 2256.76,1135.87 2232.76,1135.87 2232.76,951.359 2256.76,951.359 2232.76,951.359 \n",
       "  2232.76,766.846 2256.76,766.846 2232.76,766.846 2232.76,582.333 2256.76,582.333 2232.76,582.333 2232.76,397.819 2256.76,397.819 2232.76,397.819 2232.76,213.306 \n",
       "  2256.76,213.306 2232.76,213.306 2232.76,47.2441 \n",
       "  \"/>\n",
       "</svg>\n"
      ]
     },
     "execution_count": 28,
     "metadata": {},
     "output_type": "execute_result"
    }
   ],
   "source": [
    "using Plots\n",
    "heatmap(irisM)"
   ]
  },
  {
   "cell_type": "code",
   "execution_count": 29,
   "id": "545d0a5b-bfb5-4946-89af-744f97d2491d",
   "metadata": {},
   "outputs": [
    {
     "data": {
      "image/svg+xml": [
       "<?xml version=\"1.0\" encoding=\"utf-8\"?>\n",
       "<svg xmlns=\"http://www.w3.org/2000/svg\" xmlns:xlink=\"http://www.w3.org/1999/xlink\" width=\"600\" height=\"400\" viewBox=\"0 0 2400 1600\">\n",
       "<defs>\n",
       "  <clipPath id=\"clip380\">\n",
       "    <rect x=\"0\" y=\"0\" width=\"2400\" height=\"1600\"/>\n",
       "  </clipPath>\n",
       "</defs>\n",
       "<path clip-path=\"url(#clip380)\" d=\"\n",
       "M0 1600 L2400 1600 L2400 0 L0 0  Z\n",
       "  \" fill=\"#ffffff\" fill-rule=\"evenodd\" fill-opacity=\"1\"/>\n",
       "<defs>\n",
       "  <clipPath id=\"clip381\">\n",
       "    <rect x=\"480\" y=\"0\" width=\"1681\" height=\"1600\"/>\n",
       "  </clipPath>\n",
       "</defs>\n",
       "<path clip-path=\"url(#clip380)\" d=\"\n",
       "M169.121 1486.45 L2112.76 1486.45 L2112.76 47.2441 L169.121 47.2441  Z\n",
       "  \" fill=\"#ffffff\" fill-rule=\"evenodd\" fill-opacity=\"1\"/>\n",
       "<defs>\n",
       "  <clipPath id=\"clip382\">\n",
       "    <rect x=\"169\" y=\"47\" width=\"1945\" height=\"1440\"/>\n",
       "  </clipPath>\n",
       "</defs>\n",
       "<polyline clip-path=\"url(#clip382)\" style=\"stroke:#000000; stroke-linecap:round; stroke-linejoin:round; stroke-width:2; stroke-opacity:0.1; fill:none\" points=\"\n",
       "  412.076,1486.45 412.076,47.2441 \n",
       "  \"/>\n",
       "<polyline clip-path=\"url(#clip382)\" style=\"stroke:#000000; stroke-linecap:round; stroke-linejoin:round; stroke-width:2; stroke-opacity:0.1; fill:none\" points=\"\n",
       "  897.984,1486.45 897.984,47.2441 \n",
       "  \"/>\n",
       "<polyline clip-path=\"url(#clip382)\" style=\"stroke:#000000; stroke-linecap:round; stroke-linejoin:round; stroke-width:2; stroke-opacity:0.1; fill:none\" points=\"\n",
       "  1383.89,1486.45 1383.89,47.2441 \n",
       "  \"/>\n",
       "<polyline clip-path=\"url(#clip382)\" style=\"stroke:#000000; stroke-linecap:round; stroke-linejoin:round; stroke-width:2; stroke-opacity:0.1; fill:none\" points=\"\n",
       "  1869.8,1486.45 1869.8,47.2441 \n",
       "  \"/>\n",
       "<polyline clip-path=\"url(#clip380)\" style=\"stroke:#000000; stroke-linecap:round; stroke-linejoin:round; stroke-width:4; stroke-opacity:1; fill:none\" points=\"\n",
       "  169.121,1486.45 2112.76,1486.45 \n",
       "  \"/>\n",
       "<polyline clip-path=\"url(#clip380)\" style=\"stroke:#000000; stroke-linecap:round; stroke-linejoin:round; stroke-width:4; stroke-opacity:1; fill:none\" points=\"\n",
       "  412.076,1486.45 412.076,1467.55 \n",
       "  \"/>\n",
       "<polyline clip-path=\"url(#clip380)\" style=\"stroke:#000000; stroke-linecap:round; stroke-linejoin:round; stroke-width:4; stroke-opacity:1; fill:none\" points=\"\n",
       "  897.984,1486.45 897.984,1467.55 \n",
       "  \"/>\n",
       "<polyline clip-path=\"url(#clip380)\" style=\"stroke:#000000; stroke-linecap:round; stroke-linejoin:round; stroke-width:4; stroke-opacity:1; fill:none\" points=\"\n",
       "  1383.89,1486.45 1383.89,1467.55 \n",
       "  \"/>\n",
       "<polyline clip-path=\"url(#clip380)\" style=\"stroke:#000000; stroke-linecap:round; stroke-linejoin:round; stroke-width:4; stroke-opacity:1; fill:none\" points=\"\n",
       "  1869.8,1486.45 1869.8,1467.55 \n",
       "  \"/>\n",
       "<path clip-path=\"url(#clip380)\" d=\"M402.458 1544.91 L410.096 1544.91 L410.096 1518.55 L401.786 1520.21 L401.786 1515.95 L410.05 1514.29 L414.726 1514.29 L414.726 1544.91 L422.365 1544.91 L422.365 1548.85 L402.458 1548.85 L402.458 1544.91 Z\" fill=\"#000000\" fill-rule=\"evenodd\" fill-opacity=\"1\" /><path clip-path=\"url(#clip380)\" d=\"M892.637 1544.91 L908.956 1544.91 L908.956 1548.85 L887.012 1548.85 L887.012 1544.91 Q889.674 1542.16 894.257 1537.53 Q898.864 1532.88 900.044 1531.53 Q902.29 1529.01 903.169 1527.27 Q904.072 1525.51 904.072 1523.82 Q904.072 1521.07 902.128 1519.33 Q900.206 1517.6 897.105 1517.6 Q894.906 1517.6 892.452 1518.36 Q890.021 1519.13 887.244 1520.68 L887.244 1515.95 Q890.068 1514.82 892.521 1514.24 Q894.975 1513.66 897.012 1513.66 Q902.382 1513.66 905.577 1516.35 Q908.771 1519.03 908.771 1523.52 Q908.771 1525.65 907.961 1527.57 Q907.174 1529.47 905.068 1532.07 Q904.489 1532.74 901.387 1535.95 Q898.285 1539.15 892.637 1544.91 Z\" fill=\"#000000\" fill-rule=\"evenodd\" fill-opacity=\"1\" /><path clip-path=\"url(#clip380)\" d=\"M1388.14 1530.21 Q1391.5 1530.93 1393.37 1533.2 Q1395.27 1535.47 1395.27 1538.8 Q1395.27 1543.92 1391.75 1546.72 Q1388.23 1549.52 1381.75 1549.52 Q1379.58 1549.52 1377.26 1549.08 Q1374.97 1548.66 1372.52 1547.81 L1372.52 1543.29 Q1374.46 1544.43 1376.77 1545.01 Q1379.09 1545.58 1381.61 1545.58 Q1386.01 1545.58 1388.3 1543.85 Q1390.62 1542.11 1390.62 1538.8 Q1390.62 1535.75 1388.46 1534.03 Q1386.34 1532.3 1382.52 1532.3 L1378.49 1532.3 L1378.49 1528.45 L1382.7 1528.45 Q1386.15 1528.45 1387.98 1527.09 Q1389.81 1525.7 1389.81 1523.11 Q1389.81 1520.45 1387.91 1519.03 Q1386.03 1517.6 1382.52 1517.6 Q1380.59 1517.6 1378.4 1518.01 Q1376.2 1518.43 1373.56 1519.31 L1373.56 1515.14 Q1376.22 1514.4 1378.53 1514.03 Q1380.87 1513.66 1382.93 1513.66 Q1388.26 1513.66 1391.36 1516.09 Q1394.46 1518.5 1394.46 1522.62 Q1394.46 1525.49 1392.82 1527.48 Q1391.17 1529.45 1388.14 1530.21 Z\" fill=\"#000000\" fill-rule=\"evenodd\" fill-opacity=\"1\" /><path clip-path=\"url(#clip380)\" d=\"M1872.81 1518.36 L1861.01 1536.81 L1872.81 1536.81 L1872.81 1518.36 M1871.58 1514.29 L1877.46 1514.29 L1877.46 1536.81 L1882.39 1536.81 L1882.39 1540.7 L1877.46 1540.7 L1877.46 1548.85 L1872.81 1548.85 L1872.81 1540.7 L1857.21 1540.7 L1857.21 1536.19 L1871.58 1514.29 Z\" fill=\"#000000\" fill-rule=\"evenodd\" fill-opacity=\"1\" /><polyline clip-path=\"url(#clip382)\" style=\"stroke:#000000; stroke-linecap:round; stroke-linejoin:round; stroke-width:2; stroke-opacity:0.1; fill:none\" points=\"\n",
       "  169.121,1299.35 2112.76,1299.35 \n",
       "  \"/>\n",
       "<polyline clip-path=\"url(#clip382)\" style=\"stroke:#000000; stroke-linecap:round; stroke-linejoin:round; stroke-width:2; stroke-opacity:0.1; fill:none\" points=\"\n",
       "  169.121,1107.46 2112.76,1107.46 \n",
       "  \"/>\n",
       "<polyline clip-path=\"url(#clip382)\" style=\"stroke:#000000; stroke-linecap:round; stroke-linejoin:round; stroke-width:2; stroke-opacity:0.1; fill:none\" points=\"\n",
       "  169.121,915.564 2112.76,915.564 \n",
       "  \"/>\n",
       "<polyline clip-path=\"url(#clip382)\" style=\"stroke:#000000; stroke-linecap:round; stroke-linejoin:round; stroke-width:2; stroke-opacity:0.1; fill:none\" points=\"\n",
       "  169.121,723.67 2112.76,723.67 \n",
       "  \"/>\n",
       "<polyline clip-path=\"url(#clip382)\" style=\"stroke:#000000; stroke-linecap:round; stroke-linejoin:round; stroke-width:2; stroke-opacity:0.1; fill:none\" points=\"\n",
       "  169.121,531.776 2112.76,531.776 \n",
       "  \"/>\n",
       "<polyline clip-path=\"url(#clip382)\" style=\"stroke:#000000; stroke-linecap:round; stroke-linejoin:round; stroke-width:2; stroke-opacity:0.1; fill:none\" points=\"\n",
       "  169.121,339.882 2112.76,339.882 \n",
       "  \"/>\n",
       "<polyline clip-path=\"url(#clip382)\" style=\"stroke:#000000; stroke-linecap:round; stroke-linejoin:round; stroke-width:2; stroke-opacity:0.1; fill:none\" points=\"\n",
       "  169.121,147.988 2112.76,147.988 \n",
       "  \"/>\n",
       "<polyline clip-path=\"url(#clip380)\" style=\"stroke:#000000; stroke-linecap:round; stroke-linejoin:round; stroke-width:4; stroke-opacity:1; fill:none\" points=\"\n",
       "  169.121,1486.45 169.121,47.2441 \n",
       "  \"/>\n",
       "<polyline clip-path=\"url(#clip380)\" style=\"stroke:#000000; stroke-linecap:round; stroke-linejoin:round; stroke-width:4; stroke-opacity:1; fill:none\" points=\"\n",
       "  169.121,1299.35 185.942,1299.35 \n",
       "  \"/>\n",
       "<polyline clip-path=\"url(#clip380)\" style=\"stroke:#000000; stroke-linecap:round; stroke-linejoin:round; stroke-width:4; stroke-opacity:1; fill:none\" points=\"\n",
       "  169.121,1107.46 185.942,1107.46 \n",
       "  \"/>\n",
       "<polyline clip-path=\"url(#clip380)\" style=\"stroke:#000000; stroke-linecap:round; stroke-linejoin:round; stroke-width:4; stroke-opacity:1; fill:none\" points=\"\n",
       "  169.121,915.564 185.942,915.564 \n",
       "  \"/>\n",
       "<polyline clip-path=\"url(#clip380)\" style=\"stroke:#000000; stroke-linecap:round; stroke-linejoin:round; stroke-width:4; stroke-opacity:1; fill:none\" points=\"\n",
       "  169.121,723.67 185.942,723.67 \n",
       "  \"/>\n",
       "<polyline clip-path=\"url(#clip380)\" style=\"stroke:#000000; stroke-linecap:round; stroke-linejoin:round; stroke-width:4; stroke-opacity:1; fill:none\" points=\"\n",
       "  169.121,531.776 185.942,531.776 \n",
       "  \"/>\n",
       "<polyline clip-path=\"url(#clip380)\" style=\"stroke:#000000; stroke-linecap:round; stroke-linejoin:round; stroke-width:4; stroke-opacity:1; fill:none\" points=\"\n",
       "  169.121,339.882 185.942,339.882 \n",
       "  \"/>\n",
       "<polyline clip-path=\"url(#clip380)\" style=\"stroke:#000000; stroke-linecap:round; stroke-linejoin:round; stroke-width:4; stroke-opacity:1; fill:none\" points=\"\n",
       "  169.121,147.988 185.942,147.988 \n",
       "  \"/>\n",
       "<path clip-path=\"url(#clip380)\" d=\"M85.0429 1312.7 L101.362 1312.7 L101.362 1316.63 L79.4179 1316.63 L79.4179 1312.7 Q82.0799 1309.94 86.6632 1305.31 Q91.2697 1300.66 92.4502 1299.32 Q94.6956 1296.79 95.5752 1295.06 Q96.478 1293.3 96.478 1291.61 Q96.478 1288.85 94.5336 1287.12 Q92.6123 1285.38 89.5104 1285.38 Q87.3114 1285.38 84.8577 1286.15 Q82.4271 1286.91 79.6494 1288.46 L79.6494 1283.74 Q82.4734 1282.6 84.9271 1282.03 Q87.3808 1281.45 89.4178 1281.45 Q94.7882 1281.45 97.9826 1284.13 Q101.177 1286.82 101.177 1291.31 Q101.177 1293.44 100.367 1295.36 Q99.5798 1297.26 97.4734 1299.85 Q96.8947 1300.52 93.7928 1303.74 Q90.691 1306.93 85.0429 1312.7 Z\" fill=\"#000000\" fill-rule=\"evenodd\" fill-opacity=\"1\" /><path clip-path=\"url(#clip380)\" d=\"M121.177 1285.15 Q117.566 1285.15 115.737 1288.71 Q113.932 1292.26 113.932 1299.39 Q113.932 1306.49 115.737 1310.06 Q117.566 1313.6 121.177 1313.6 Q124.811 1313.6 126.617 1310.06 Q128.445 1306.49 128.445 1299.39 Q128.445 1292.26 126.617 1288.71 Q124.811 1285.15 121.177 1285.15 M121.177 1281.45 Q126.987 1281.45 130.043 1286.05 Q133.121 1290.64 133.121 1299.39 Q133.121 1308.11 130.043 1312.72 Q126.987 1317.3 121.177 1317.3 Q115.367 1317.3 112.288 1312.72 Q109.233 1308.11 109.233 1299.39 Q109.233 1290.64 112.288 1286.05 Q115.367 1281.45 121.177 1281.45 Z\" fill=\"#000000\" fill-rule=\"evenodd\" fill-opacity=\"1\" /><path clip-path=\"url(#clip380)\" d=\"M93.8623 1094.25 L82.0568 1112.7 L93.8623 1112.7 L93.8623 1094.25 M92.6354 1090.18 L98.515 1090.18 L98.515 1112.7 L103.446 1112.7 L103.446 1116.59 L98.515 1116.59 L98.515 1124.74 L93.8623 1124.74 L93.8623 1116.59 L78.2605 1116.59 L78.2605 1112.08 L92.6354 1090.18 Z\" fill=\"#000000\" fill-rule=\"evenodd\" fill-opacity=\"1\" /><path clip-path=\"url(#clip380)\" d=\"M121.177 1093.26 Q117.566 1093.26 115.737 1096.82 Q113.932 1100.36 113.932 1107.49 Q113.932 1114.6 115.737 1118.16 Q117.566 1121.71 121.177 1121.71 Q124.811 1121.71 126.617 1118.16 Q128.445 1114.6 128.445 1107.49 Q128.445 1100.36 126.617 1096.82 Q124.811 1093.26 121.177 1093.26 M121.177 1089.55 Q126.987 1089.55 130.043 1094.16 Q133.121 1098.74 133.121 1107.49 Q133.121 1116.22 130.043 1120.83 Q126.987 1125.41 121.177 1125.41 Q115.367 1125.41 112.288 1120.83 Q109.233 1116.22 109.233 1107.49 Q109.233 1098.74 112.288 1094.16 Q115.367 1089.55 121.177 1089.55 Z\" fill=\"#000000\" fill-rule=\"evenodd\" fill-opacity=\"1\" /><path clip-path=\"url(#clip380)\" d=\"M91.5938 913.7 Q88.4456 913.7 86.5938 915.853 Q84.7651 918.006 84.7651 921.756 Q84.7651 925.483 86.5938 927.659 Q88.4456 929.811 91.5938 929.811 Q94.7419 929.811 96.5706 927.659 Q98.4224 925.483 98.4224 921.756 Q98.4224 918.006 96.5706 915.853 Q94.7419 913.7 91.5938 913.7 M100.876 899.048 L100.876 903.307 Q99.1169 902.474 97.3113 902.034 Q95.5289 901.594 93.7697 901.594 Q89.1401 901.594 86.6864 904.719 Q84.2558 907.844 83.9086 914.163 Q85.2743 912.149 87.3345 911.085 Q89.3947 909.997 91.8715 909.997 Q97.0798 909.997 100.089 913.168 Q103.121 916.316 103.121 921.756 Q103.121 927.08 99.9733 930.297 Q96.8252 933.515 91.5938 933.515 Q85.5984 933.515 82.4271 928.932 Q79.2559 924.325 79.2559 915.598 Q79.2559 907.404 83.1447 902.543 Q87.0336 897.659 93.5845 897.659 Q95.3437 897.659 97.1261 898.006 Q98.9317 898.353 100.876 899.048 Z\" fill=\"#000000\" fill-rule=\"evenodd\" fill-opacity=\"1\" /><path clip-path=\"url(#clip380)\" d=\"M121.177 901.362 Q117.566 901.362 115.737 904.927 Q113.932 908.469 113.932 915.598 Q113.932 922.705 115.737 926.27 Q117.566 929.811 121.177 929.811 Q124.811 929.811 126.617 926.27 Q128.445 922.705 128.445 915.598 Q128.445 908.469 126.617 904.927 Q124.811 901.362 121.177 901.362 M121.177 897.659 Q126.987 897.659 130.043 902.265 Q133.121 906.848 133.121 915.598 Q133.121 924.325 130.043 928.932 Q126.987 933.515 121.177 933.515 Q115.367 933.515 112.288 928.932 Q109.233 924.325 109.233 915.598 Q109.233 906.848 112.288 902.265 Q115.367 897.659 121.177 897.659 Z\" fill=\"#000000\" fill-rule=\"evenodd\" fill-opacity=\"1\" /><path clip-path=\"url(#clip380)\" d=\"M91.0151 724.538 Q87.6817 724.538 85.7605 726.32 Q83.8623 728.103 83.8623 731.228 Q83.8623 734.353 85.7605 736.135 Q87.6817 737.917 91.0151 737.917 Q94.3484 737.917 96.2697 736.135 Q98.1909 734.33 98.1909 731.228 Q98.1909 728.103 96.2697 726.32 Q94.3715 724.538 91.0151 724.538 M86.3392 722.547 Q83.3299 721.806 81.6401 719.746 Q79.9735 717.686 79.9735 714.723 Q79.9735 710.58 82.9133 708.172 Q85.8762 705.765 91.0151 705.765 Q96.1771 705.765 99.1169 708.172 Q102.057 710.58 102.057 714.723 Q102.057 717.686 100.367 719.746 Q98.7002 721.806 95.7141 722.547 Q99.0937 723.334 100.969 725.626 Q102.867 727.918 102.867 731.228 Q102.867 736.251 99.7882 738.936 Q96.7326 741.621 91.0151 741.621 Q85.2975 741.621 82.2188 738.936 Q79.1633 736.251 79.1633 731.228 Q79.1633 727.918 81.0614 725.626 Q82.9595 723.334 86.3392 722.547 M84.6262 715.163 Q84.6262 717.848 86.2929 719.353 Q87.9827 720.857 91.0151 720.857 Q94.0243 720.857 95.7141 719.353 Q97.4271 717.848 97.4271 715.163 Q97.4271 712.478 95.7141 710.973 Q94.0243 709.469 91.0151 709.469 Q87.9827 709.469 86.2929 710.973 Q84.6262 712.478 84.6262 715.163 Z\" fill=\"#000000\" fill-rule=\"evenodd\" fill-opacity=\"1\" /><path clip-path=\"url(#clip380)\" d=\"M121.177 709.469 Q117.566 709.469 115.737 713.033 Q113.932 716.575 113.932 723.705 Q113.932 730.811 115.737 734.376 Q117.566 737.917 121.177 737.917 Q124.811 737.917 126.617 734.376 Q128.445 730.811 128.445 723.705 Q128.445 716.575 126.617 713.033 Q124.811 709.469 121.177 709.469 M121.177 705.765 Q126.987 705.765 130.043 710.371 Q133.121 714.955 133.121 723.705 Q133.121 732.431 130.043 737.038 Q126.987 741.621 121.177 741.621 Q115.367 741.621 112.288 737.038 Q109.233 732.431 109.233 723.705 Q109.233 714.955 112.288 710.371 Q115.367 705.765 121.177 705.765 Z\" fill=\"#000000\" fill-rule=\"evenodd\" fill-opacity=\"1\" /><path clip-path=\"url(#clip380)\" d=\"M51.6634 545.121 L59.3023 545.121 L59.3023 518.755 L50.9921 520.422 L50.9921 516.163 L59.256 514.496 L63.9319 514.496 L63.9319 545.121 L71.5707 545.121 L71.5707 549.056 L51.6634 549.056 L51.6634 545.121 Z\" fill=\"#000000\" fill-rule=\"evenodd\" fill-opacity=\"1\" /><path clip-path=\"url(#clip380)\" d=\"M91.0151 517.575 Q87.404 517.575 85.5753 521.14 Q83.7697 524.681 83.7697 531.811 Q83.7697 538.917 85.5753 542.482 Q87.404 546.024 91.0151 546.024 Q94.6493 546.024 96.4548 542.482 Q98.2835 538.917 98.2835 531.811 Q98.2835 524.681 96.4548 521.14 Q94.6493 517.575 91.0151 517.575 M91.0151 513.871 Q96.8252 513.871 99.8808 518.477 Q102.959 523.061 102.959 531.811 Q102.959 540.538 99.8808 545.144 Q96.8252 549.727 91.0151 549.727 Q85.2049 549.727 82.1262 545.144 Q79.0707 540.538 79.0707 531.811 Q79.0707 523.061 82.1262 518.477 Q85.2049 513.871 91.0151 513.871 Z\" fill=\"#000000\" fill-rule=\"evenodd\" fill-opacity=\"1\" /><path clip-path=\"url(#clip380)\" d=\"M121.177 517.575 Q117.566 517.575 115.737 521.14 Q113.932 524.681 113.932 531.811 Q113.932 538.917 115.737 542.482 Q117.566 546.024 121.177 546.024 Q124.811 546.024 126.617 542.482 Q128.445 538.917 128.445 531.811 Q128.445 524.681 126.617 521.14 Q124.811 517.575 121.177 517.575 M121.177 513.871 Q126.987 513.871 130.043 518.477 Q133.121 523.061 133.121 531.811 Q133.121 540.538 130.043 545.144 Q126.987 549.727 121.177 549.727 Q115.367 549.727 112.288 545.144 Q109.233 540.538 109.233 531.811 Q109.233 523.061 112.288 518.477 Q115.367 513.871 121.177 513.871 Z\" fill=\"#000000\" fill-rule=\"evenodd\" fill-opacity=\"1\" /><path clip-path=\"url(#clip380)\" d=\"M51.6634 353.227 L59.3023 353.227 L59.3023 326.861 L50.9921 328.528 L50.9921 324.269 L59.256 322.602 L63.9319 322.602 L63.9319 353.227 L71.5707 353.227 L71.5707 357.162 L51.6634 357.162 L51.6634 353.227 Z\" fill=\"#000000\" fill-rule=\"evenodd\" fill-opacity=\"1\" /><path clip-path=\"url(#clip380)\" d=\"M85.0429 353.227 L101.362 353.227 L101.362 357.162 L79.4179 357.162 L79.4179 353.227 Q82.0799 350.472 86.6632 345.843 Q91.2697 341.19 92.4502 339.847 Q94.6956 337.324 95.5752 335.588 Q96.478 333.829 96.478 332.139 Q96.478 329.385 94.5336 327.648 Q92.6123 325.912 89.5104 325.912 Q87.3114 325.912 84.8577 326.676 Q82.4271 327.44 79.6494 328.991 L79.6494 324.269 Q82.4734 323.135 84.9271 322.556 Q87.3808 321.977 89.4178 321.977 Q94.7882 321.977 97.9826 324.662 Q101.177 327.348 101.177 331.838 Q101.177 333.968 100.367 335.889 Q99.5798 337.787 97.4734 340.38 Q96.8947 341.051 93.7928 344.269 Q90.691 347.463 85.0429 353.227 Z\" fill=\"#000000\" fill-rule=\"evenodd\" fill-opacity=\"1\" /><path clip-path=\"url(#clip380)\" d=\"M121.177 325.681 Q117.566 325.681 115.737 329.246 Q113.932 332.787 113.932 339.917 Q113.932 347.023 115.737 350.588 Q117.566 354.13 121.177 354.13 Q124.811 354.13 126.617 350.588 Q128.445 347.023 128.445 339.917 Q128.445 332.787 126.617 329.246 Q124.811 325.681 121.177 325.681 M121.177 321.977 Q126.987 321.977 130.043 326.584 Q133.121 331.167 133.121 339.917 Q133.121 348.644 130.043 353.25 Q126.987 357.833 121.177 357.833 Q115.367 357.833 112.288 353.25 Q109.233 348.644 109.233 339.917 Q109.233 331.167 112.288 326.584 Q115.367 321.977 121.177 321.977 Z\" fill=\"#000000\" fill-rule=\"evenodd\" fill-opacity=\"1\" /><path clip-path=\"url(#clip380)\" d=\"M51.6634 161.333 L59.3023 161.333 L59.3023 134.968 L50.9921 136.634 L50.9921 132.375 L59.256 130.708 L63.9319 130.708 L63.9319 161.333 L71.5707 161.333 L71.5707 165.268 L51.6634 165.268 L51.6634 161.333 Z\" fill=\"#000000\" fill-rule=\"evenodd\" fill-opacity=\"1\" /><path clip-path=\"url(#clip380)\" d=\"M93.8623 134.782 L82.0568 153.231 L93.8623 153.231 L93.8623 134.782 M92.6354 130.708 L98.515 130.708 L98.515 153.231 L103.446 153.231 L103.446 157.12 L98.515 157.12 L98.515 165.268 L93.8623 165.268 L93.8623 157.12 L78.2605 157.12 L78.2605 152.606 L92.6354 130.708 Z\" fill=\"#000000\" fill-rule=\"evenodd\" fill-opacity=\"1\" /><path clip-path=\"url(#clip380)\" d=\"M121.177 133.787 Q117.566 133.787 115.737 137.352 Q113.932 140.893 113.932 148.023 Q113.932 155.13 115.737 158.694 Q117.566 162.236 121.177 162.236 Q124.811 162.236 126.617 158.694 Q128.445 155.13 128.445 148.023 Q128.445 140.893 126.617 137.352 Q124.811 133.787 121.177 133.787 M121.177 130.083 Q126.987 130.083 130.043 134.69 Q133.121 139.273 133.121 148.023 Q133.121 156.75 130.043 161.356 Q126.987 165.94 121.177 165.94 Q115.367 165.94 112.288 161.356 Q109.233 156.75 109.233 148.023 Q109.233 139.273 112.288 134.69 Q115.367 130.083 121.177 130.083 Z\" fill=\"#000000\" fill-rule=\"evenodd\" fill-opacity=\"1\" /><g clip-path=\"url(#clip382)\">\n",
       "<image width=\"1944\" height=\"1439\" xlink:href=\"data:image/png;base64,\n",
       "iVBORw0KGgoAAAANSUhEUgAAB5gAAAWfCAYAAAB+xCq9AAAgAElEQVR4nOzby4teBxnH8XnnPXPr\n",
       "JKZpahtSE+uFVi0qbTXFW7UiFEFwJXRRd0UUxKVrl1o3ghtxoSIK4sKCRcErKkTQgmBbq5Xe03uT\n",
       "mukkk2Tem5tn4va3e0b4fP6C3+5wzvc8o91vry2WAIB94Wv3f6F7AgBQvvTRP3dPAADKfT+/o3sC\n",
       "AFCWuwcAAAAAAAAA8P9BYAYAAAAAAAAgIjADAAAAAAAAEBGYAQAAAAAAAIgIzAAAAAAAAABEBGYA\n",
       "AAAAAAAAIgIzAAAAAAAAABGBGQAAAAAAAICIwAwAAAAAAABAZFg+ttm9AQAoV43n3RMAgLJ5eKt7\n",
       "AgBQ1pbdSgHAfuGpDAAAAAAAAEBEYAYAAAAAAAAgIjADAAAAAAAAEBGYAQAAAAAAAIgIzAAAAAAA\n",
       "AABEBGYAAAAAAAAAIgIzAAAAAAAAABGBGQAAAAAAAICIwAwAAAAAAABAZFhazLs3AABlNOpeAADs\n",
       "me2udE8AAMp8seieAAAUF8wAAAAAAAAARARmAAAAAAAAACICMwAAAAAAAAARgRkAAAAAAACAiMAM\n",
       "AAAAAAAAQERgBgAAAAAAACAiMAMAAAAAAAAQEZgBAAAAAAAAiAzzly92bwAAyvbEv18AsF9Md1e6\n",
       "JwAAZd49AAC4wldsAAAAAAAAACICMwAAAAAAAAARgRkAAAAAAACAiMAMAAAAAAAAQERgBgAAAAAA\n",
       "ACAiMAMAAAAAAAAQEZgBAAAAAAAAiAjMAAAAAAAAAEQEZgAAAAAAAAAiw/KN13RvAADK1auz7gkA\n",
       "QFk7eKF7AgBQhtGoewIAUFwwAwAAAAAAABARmAEAAAAAAACICMwAAAAAAAAARARmAAAAAAAAACIC\n",
       "MwAAAAAAAAARgRkAAAAAAACAiMAMAAAAAAAAQERgBgAAAAAAACAyzA9d3b0BAAAA9p31N5/rngAA\n",
       "lPXxqHsCAFBcMAMAAAAAAAAQEZgBAAAAAAAAiAjMAAAAAAAAAEQEZgAAAAAAAAAiAjMAAAAAAAAA\n",
       "EYEZAAAAAAAAgIjADAAAAAAAAEBEYAYAAAAAAAAgIjADAAAAAAAAEBmWxkP3BgAAANh3ltcm3RMA\n",
       "gDIejbonAADFBTMAAAAAAAAAEYEZAAAAAAAAgIjADAAAAAAAAEBEYAYAAAAAAAAgIjADAAAAAAAA\n",
       "EBGYAQAAAAAAAIgIzAAAAAAAAABEBGYAAAAAAAAAIgIzAAAAAAAAAJFh/qdnujcAAOXli3d1TwAA\n",
       "ytl/vL17AgBQtiaz7gkAQHHBDAAAAAAAAEBEYAYAAAAAAAAgIjADAAAAAAAAEBGYAQAAAAAAAIgI\n",
       "zAAAAAAAAABEBGYAAAAAAAAAIgIzAAAAAAAAABGBGQAAAAAAAIDIMD55XfcGAKC8dXO3ewIAUNYP\n",
       "7HRPAACKSykA2D88lwEAAAAAAACICMwAAAAAAAAARARmAAAAAAAAACICMwAAAAAAAAARgRkAAAAA\n",
       "AACAiMAMAAAAAAAAQERgBgAAAAAAACAiMAMAAAAAAAAQEZgBAAAAAAAAiAxL83n3BgCg7MzG3RMA\n",
       "gLJ+7bnuCQBA2Ri7lQKA/cJTGQAAAAAAAICIwAwAAAAAAABARGAGAAAAAAAAICIwAwAAAAAAABAR\n",
       "mAEAAAAAAACICMwAAAAAAAAARARmAAAAAAAAACICMwAAAAAAAACRYbGy2r0BACgb43n3BACgTM9v\n",
       "dE8AAMpkvuieAAAUF8wAAAAAAAAARARmAAAAAAAAACICMwAAAAAAAAARgRkAAAAAAACAiMAMAAAA\n",
       "AAAAQERgBgAAAAAAACAiMAMAAAAAAAAQEZgBAAAAAAAAiAjMAAAAAAAAAESGpYef6d4AAJStybh7\n",
       "AgBQXnvmLd0TAIDyxmzaPQEAKC6YAQAAAAAAAIgIzAAAAAAAAABEBGYAAAAAAAAAIgIzAAAAAAAA\n",
       "ABGBGQAAAAAAAICIwAwAAAAAAABARGAGAAAAAAAAICIwAwAAAAAAABARmAEAAAAAAACIDMvHNrs3\n",
       "AABlZbTongAAlGtueKV7AgBQDoxv7Z4AABQXzAAAAAAAAABEBGYAAAAAAAAAIgIzAAAAAAAAABGB\n",
       "GQAAAAAAAICIwAwAAAAAAABARGAGAAAAAAAAICIwAwAAAAAAABARmAEAAAAAAACIDEtrq90bAICy\n",
       "6B4AAFwxXHWpewIAUFZGo+4JAEBxwQwAAAAAAABARGAGAAAAAAAAICIwAwAAAAAAABARmAEAAAAA\n",
       "AACICMwAAAAAAAAARARmAAAAAAAAACICMwAAAAAAAAARgRkAAAAAAACAiMAMAAAAAAAAQGTYuf3T\n",
       "3RsAgHLN6qR7AgBQNm5+tXsCAFAOrIy6JwAAxQUzAAAAAAAAABGBGQAAAAAAAICIwAwAAAAAAABA\n",
       "RGAGAAAAAAAAICIwAwAAAAAAABARmAEAAAAAAACICMwAAAAAAAAARARmAAAAAAAAACLDxs9+3L0B\n",
       "AChPnf9i9wQAoGz/7UT3BACgbO3OuycAAMUFMwAAAAAAAAARgRkAAAAAAACAiMAMAAAAAAAAQERg\n",
       "BgAAAAAAACAiMAMAAAAAAAAQEZgBAAAAAAAAiAjMAAAAAAAAAEQEZgAAAAAAAAAiAjMAAAAAAAAA\n",
       "kWFprXsCALDn4Mq8ewIAUC78503dEwCAcnHufRkA9gsXzAAAAAAAAABEBGYAAAAAAAAAIgIzAAAA\n",
       "AAAAABGBGQAAAAAAAICIwAwAAAAAAABARGAGAAAAAAAAICIwAwAAAAAAABARmAEAAAAAAACICMwA\n",
       "AAAAAAAARIbR5mr3BgCgXJ6NuicAAOXwjS91TwAAypuGcfcEAKC4YAYAAAAAAAAgIjADAAAAAAAA\n",
       "EBGYAQAAAAAAAIgIzAAAAAAAAABEBGYAAAAAAAAAIgIzAAAAAAAAABGBGQAAAAAAAICIwAwAAAAA\n",
       "AABAZFi65zvdGwCActvXf909AQAoa+882z0BACjr41H3BACguGAGAAAAAAAAICIwAwAAAAAAABAR\n",
       "mAEAAAAAAACICMwAAAAAAAAARARmAAAAAAAAACICMwAAAAAAAAARgRkAAAAAAACAiMAMAAAAAAAA\n",
       "QERgBgAAAAAAACAyTB77XvcGAKA8d/7m7gkAQFnsjLonAAAAwL7jghkAAAAAAACAiMAMAAAAAAAA\n",
       "QERgBgAAAAAAACAiMAMAAAAAAAAQEZgBAAAAAAAAiAjMAAAAAAAAAEQEZgAAAAAAAAAiAjMAAAAA\n",
       "AAAAkWF0ead7AwBQVpYX3RMAgDJ55VD3BACgXJx5XwaA/cIFMwAAAAAAAAARgRkAAAAAAACAiMAM\n",
       "AAAAAAAAQERgBgAAAAAAACAiMAMAAAAAAAAQEZgBAAAAAAAAiAjMAAAAAAAAAEQEZgAAAAAAAAAi\n",
       "AjMAAAAAAAAAkWF4/NHuDQBAefnSB7snAABlPhm6JwAAAMC+44IZAAAAAAAAgIjADAAAAAAAAEBE\n",
       "YAYAAAAAAAAgIjADAAAAAAAAEBGYAQAAAAAAAIgIzAAAAAAAAABEBGYAAAAAAAAAIgIzAAAAAAAA\n",
       "ABGBGQAAAAAAAIDIsNja7d4AAJTV5UX3BACgnHnyePcEAKCcm0y7JwAAxQUzAAAAAAAAABGBGQAA\n",
       "AAAAAICIwAwAAAAAAABARGAGAAAAAAAAICIwAwAAAAAAABARmAEAAAAAAACICMwAAAAAAAAARARm\n",
       "AAAAAAAAACLD0rx7AgCwZ9E9AAC4YrEYdU8AAACAfccFMwAAAAAAAAARgRkAAAAAAACAiMAMAAAA\n",
       "AAAAQERgBgAAAAAAACAiMAMAAAAAAAAQEZgBAAAAAAAAiAjMAAAAAAAAAEQEZgAAAAAAAAAiAjMA\n",
       "AAAAAAAAkWHyiTu7NwAA5dpvTbonAADl2O2PdU8AAMqR353sngAAFBfMAAAAAAAAAEQEZgAAAAAA\n",
       "AAAiAjMAAAAAAAAAEYEZAAAAAAAAgIjADAAAAAAAAEBEYAYAAAAAAAAgIjADAAAAAAAAEBGYAQAA\n",
       "AAAAAIgMw5nnuzcAAOXS7KbuCQBAmW5vdk8AAMp0seieAAAUF8wAAAAAAAAARARmAAAAAAAAACIC\n",
       "MwAAAAAAAAARgRkAAAAAAACAiMAMAAAAAAAAQERgBgAAAAAAACAiMAMAAAAAAAAQEZgBAAAAAAAA\n",
       "iAjMAAAAAAAAAESG0WNPdW8AAMr25FPdEwCA8vrTx7onAADl/HTWPQEAKC6YAQAAAAAAAIgIzAAA\n",
       "AAAAAABEBGYAAAAAAAAAIgIzAAAAAAAAABGBGQAAAAAAAICIwAwAAAAAAABARGAGAAAAAAAAICIw\n",
       "AwAAAAAAABARmAEAAAAAAACIDBc/+/nuDQBAOfTNWfcEAKAcu/fF7gkAQHnb74fuCQBAccEMAAAA\n",
       "AAAAQERgBgAAAAAAACAiMAMAAAAAAAAQEZgBAAAAAAAAiAjMAAAAAAAAAEQEZgAAAAAAAAAiAjMA\n",
       "AAAAAAAAEYEZAAAAAAAAgMgwfPeB7g0AQHlu597uCQBAOf2DE90TAIDy1IVJ9wQAoLhgBgAAAAAA\n",
       "ACAiMAMAAAAAAAAQEZgBAAAAAAAAiAjMAAAAAAAAAEQEZgAAAAAAAAAiAjMAAAAAAAAAEYEZAAAA\n",
       "AAAAgIjADAAAAAAAAEBEYAYAAAAAAAAgMozvPt69AQAox3846Z4AAJTrb3miewIAUK7+zcnuCQBA\n",
       "ccEMAAAAAAAAQERgBgAAAAAAACAiMAMAAAAAAAAQEZgBAAAAAAAAiAjMAAAAAAAAAEQEZgAAAAAA\n",
       "AAAiAjMAAAAAAAAAEYEZAAAAAAAAgMgw+9Xp7g0AQHn2wkr3BACgnH38xu4JAEDZns66JwAAxQUz\n",
       "AAAAAAAAABGBGQAAAAAAAICIwAwAAAAAAABARGAGAAAAAAAAICIwAwAAAAAAABARmAEAAAAAAACI\n",
       "CMwAAAAAAAAARARmAAAAAAAAACICMwAAAAAAAACRYXbfZ7o3AADl6Pdn3RMAgHLdVybdEwCActMf\n",
       "h+4JAEBxwQwAAAAAAABARGAGAAAAAAAAICIwAwAAAAAAABARmAEAAAAAAACICMwAAAAAAAAARARm\n",
       "AAAAAAAAACICMwAAAAAAAAARgRkAAAAAAACAyLB6/ce7NwAA5fjmqe4JAEAZv3i6ewIAUM5PuhcA\n",
       "AHtcMAMAAAAAAAAQEZgBAAAAAAAAiAjMAAAAAAAAAEQEZgAAAAAAAAAiAjMAAAAAAAAAEYEZAAAA\n",
       "AAAAgIjADAAAAAAAAEBEYAYAAAAAAAAgIjADAAAAAAAAEBnGD361ewMAUJ69cE/3BACgbP/hcPcE\n",
       "AKCcuTzvngAAFBfMAAAAAAAAAEQEZgAAAAAAAAAiAjMAAAAAAAAAEYEZAAAAAAAAgIjADAAAAAAA\n",
       "AEBEYAYAAAAAAAAgIjADAAAAAAAAEBGYAQAAAAAAAIgIzAAAAAAAAABEhu4BAMD/+PMLAPaPxdyT\n",
       "GQD2i0X3AADgCm/LAAAAAAAAAEQEZgAAAAAAAAAiAjMAAAAAAAAAEYEZAAAAAAAAgIjADAAAAAAA\n",
       "AEBEYAYAAAAAAAAgIjADAAAAAAAAEBGYAQAAAAAAAIgMsycudW8AAMqrl8fdEwCAMr282j0BACiL\n",
       "7gEAwBUumAEAAAAAAACICMwAAAAAAAAARARmAAAAAAAAACICMwAAAAAAAAARgRkAAAAAAACAiMAM\n",
       "AAAAAAAAQERgBgAAAAAAACAiMAMAAAAAAAAQEZgBAAAAAAAAiAyz7Y3uDQBAmcy7FwAAeyaX1ron\n",
       "AABltlh0TwAAigtmAAAAAAAAACICMwAAAAAAAAARgRkAAAAAAACAiMAMAAAAAAAAQERgBgAAAAAA\n",
       "ACAiMAMAAAAAAAAQEZgBAAAAAAAAiAjMAAAAAAAAAESGlY8d7N4AAJQTP5p2TwAAysFjr3VPAADK\n",
       "+rJbKQDYLzyVAQAAAAAAAIgIzAAAAAAAAABEBGYAAAAAAAAAIgIzAAAAAAAAABGBGQAAAAAAAICI\n",
       "wAwAAAAAAABARGAGAAAAAAAAICIwAwAAAAAAABARmAEAAAAAAACIDKMXX+reAACU85Nx9wQAoEy2\n",
       "N7onAABlulh0TwAAigtmAAAAAAAAACICMwAAAAAAAAARgRkAAAAAAACAiMAMAAAAAAAAQERgBgAA\n",
       "AAAAACAiMAMAAAAAAAAQEZgBAAAAAAAAiAjMAAAAAAAAAEQEZgAAAAAAAAAiw9KhA90bAIByaHXW\n",
       "PQEAKLsX17snAABlMp93TwAAigtmAAAAAAAAACICMwAAAAAAAAARgRkAAAAAAACAiMAMAAAAAAAA\n",
       "QERgBgAAAAAAACAiMAMAAAAAAAAQEZgBAAAAAAAAiAjMAAAAAAAAAESGi7ff3b0BACibw7R7AgBQ\n",
       "jnzg390TAIBy5MG7uicAAMUFMwAAAAAAAAARgRkAAAAAAACAiMAMAAAAAAAAQERgBgAAAAAAACAi\n",
       "MAMAAAAAAAAQEZgBAAAAAAAAiAjMAAAAAAAAAEQEZgAAAAAAAAAiAjMAAAAAAAAAkWHjL7/s3gAA\n",
       "lOd37u2eAACU6dkD3RMAgDKddy8AAPa4YAYAAAAAAAAgIjADAAAAAAAAEBGYAQAAAAAAAIgIzAAA\n",
       "AAAAAABEBGYAAAAAAAAAIgIzAAAAAAAAABGBGQAAAAAAAICIwAwAAAAAAABAZNh9923dGwCAcnh1\n",
       "2j0BACgrR7e7JwAAZW3cvQAA2OOCGQAAAAAAAICIwAwAAAAAAABARGAGAAAAAAAAICIwAwAAAAAA\n",
       "ABARmAEAAAAAAACICMwAAAAAAAAARARmAAAAAAAAACICMwAAAAAAAAARgRkAAAAAAACAyLB1/6vd\n",
       "GwCA8ui5W7onAADl4Z9+snsCAFCe3rnUPQEAKC6YAQAAAAAAAIgIzAAAAAAAAABEBGYAAAAAAAAA\n",
       "IgIzAAAAAAAAABGBGQAAAAAAAICIwAwAAAAAAABARGAGAAAAAAAAICIwAwAAAAAAABARmAEAAAAA\n",
       "AACIDJvfuKN7AwBQbj212z0BACjv//JfuycAAOVdj9zUPQEAKC6YAQAAAAAAAIgIzAAAAAAAAABE\n",
       "BGYAAAAAAAAAIgIzAAAAAAAAABGBGQAAAAAAAICIwAwAAAAAAABARGAGAAAAAAAAICIwAwAAAAAA\n",
       "ABAZrnrowe4NAEB5ffdz3RMAgLL78Kh7AgBQtibdCwCAPS6YAQAAAAAAAIgIzAAAAAAAAABEBGYA\n",
       "AAAAAAAAIgIzAAAAAAAAABGBGQAAAAAAAICIwAwAAAAAAABARGAGAAAAAAAAICIwAwAAAAAAABAR\n",
       "mAEAAAAAAACIDEtvnO/eAACU+WLUPQEAKLvnDnZPAADK7nzRPQEAKC6YAQAAAAAAAIgIzAAAAAAA\n",
       "AABEBGYAAAAAAAAAIgIzAAAAAAAAABGBGQAAAAAAAICIwAwAAAAAAABARGAGAAAAAAAAICIwAwAA\n",
       "AAAAABAZpje/p3sDAFAOrc66JwAAZf3o2e4JAEBZH4+6JwAAxQUzAAAAAAAAABGBGQAAAAAAAICI\n",
       "wAwAAAAAAABARGAGAAAAAAAAICIwAwAAAAAAABARmAEAAAAAAACICMwAAAAAAAAARARmAAAAAAAA\n",
       "ACICMwAAAAAAAACRYem3/+reAACUF3Y+1D0BAChnH31H9wQAoGxNZt0TAIDighkAAAAAAACAiMAM\n",
       "AAAAAAAAQERgBgAAAAAAACAiMAMAAAAAAAAQEZgBAAAAAAAAiAjMAAAAAAAAAEQEZgAAAAAAAAAi\n",
       "AjMAAAAAAAAAEYEZAAAAAAAAgMgwft/B7g0AQDmwsuieAACUI+99onsCAFAO/+LO7gkAQHHBDAAA\n",
       "AAAAAEBEYAYAAAAAAAAgIjADAAAAAAAAEBGYAQAAAAAAAIgIzAAAAAAAAABEBGYAAAAAAAAAIgIz\n",
       "AAAAAAAAABGBGQAAAAAAAIDIsHtq2r0BACjLS4vuCQBAOfXA3d0TAIDyz8vnuicAAMUFMwAAAAAA\n",
       "AAARgRkAAAAAAACAiMAMAAAAAAAAQERgBgAAAAAAACAiMAMAAAAAAAAQEZgBAAAAAAAAiAjMAAAA\n",
       "AAAAAEQEZgAAAAAAAAAiAjMAAAAAAAAAkeHsEye6NwAA5dLMv18AsF/8/cx13RMAgHJm+cnuCQBA\n",
       "8RUbAAAAAAAAgIjADAAAAAAAAEBEYAYAAAAAAAAgIjADAAAAAAAAEBGYAQAAAAAAAIgIzAAAAAAA\n",
       "AABEBGYAAAAAAAAAIgIzAAAAAAAAAJHh6Ece6d4AAJQjD53sngAAlA8fO909AQAoP3nhhu4JAPyX\n",
       "fXvZkeuswjBc1fX3wW67fSDdITE2JokJIggEEuPcA2LKfXEFiAl3gGCAhBTBKJEiSEiIbBKfk3bS\n",
       "p+pDFZNlj7/ZqsHzXME329r73QuKC2YAAAAAAAAAIgIzAAAAAAAAABGBGQAAAAAAAICIwAwAAAAA\n",
       "AABARGAGAAAAAAAAICIwAwAAAAAAABARmAEAAAAAAACICMwAAAAAAAAARARmAAAAAAAAACLj/PnV\n",
       "7g0AQDm68O8XAKyKk/P17gkAQFlMF90TAIDiKzYAAAAAAAAAEYEZAAAAAAAAgIjADAAAAAAAAEBE\n",
       "YAYAAAAAAAAgIjADAAAAAAAAEBGYAQAAAAAAAIgIzAAAAAAAAABEBGYAAAAAAAAAIgIzAAAAAAAA\n",
       "AJExWVt0bwAAymzavQAAeGmx8E82AKyKxWTZPQEAKN6WAQAAAAAAAIgIzAAAAAAAAABEBGYAAAAA\n",
       "AAAAIgIzAAAAAAAAABGBGQAAAAAAAICIwAwAAAAAAABARGAGAAAAAAAAICIwAwAAAAAAABAZF4db\n",
       "3RsAgHJ0Pu2eAACU2dqiewIAUGZupQBgZXgqAwAAAAAAABARmAEAAAAAAACICMwAAAAAAAAARARm\n",
       "AAAAAAAAACICMwAAAAAAAAARgRkAAAAAAACAiMAMAAAAAAAAQERgBgAAAAAAACAiMAMAAAAAAAAQ\n",
       "Gc8+u9O9AQAoh+fT7gkAQPnX1691TwAAyjdrj7snAADFBTMAAAAAAAAAEYEZAAAAAAAAgIjADAAA\n",
       "AAAAAEBEYAYAAAAAAAAgIjADAAAAAAAAEBGYAQAAAAAAAIgIzAAAAAAAAABEBGYAAAAAAAAAImP3\n",
       "x190bwAAyvV//Lp7AgBQ3rq23z0BAChX71/rngAAFBfMAAAAAAAAAEQEZgAAAAAAAAAiAjMAAAAA\n",
       "AAAAEYEZAAAAAAAAgIjADAAAAAAAAEBEYAYAAAAAAAAgIjADAAAAAAAAEBGYAQAAAAAAAIgIzAAA\n",
       "AAAAAABExsatb7o3AADl0mzRPQEAKHvXvC8DwKrYXt7tngAAFBfMAAAAAAAAAEQEZgAAAAAAAAAi\n",
       "AjMAAAAAAAAAEYEZAAAAAAAAgIjADAAAAAAAAEBEYAYAAAAAAAAgIjADAAAAAAAAEBGYAQAAAAAA\n",
       "AIgIzAAAAAAAAABExvHne90bAIDyfD7rngAAlMOTS90TAIByPll0TwAAigtmAAAAAAAAACICMwAA\n",
       "AAAAAAARgRkAAAAAAACAiMAMAAAAAAAAQERgBgAAAAAAACAiMAMAAAAAAAAQEZgBAAAAAAAAiAjM\n",
       "AAAAAAAAAETG4my9ewMAUKbdAwCAVw7nW90TAIByOj3vngAAFBfMAAAAAAAAAEQEZgAAAAAAAAAi\n",
       "AjMAAAAAAAAAEYEZAAAAAAAAgIjADAAAAAAAAEBEYAYAAAAAAAAgIjADAAAAAAAAEBGYAQAAAAAA\n",
       "AIgIzAAAAAAAAABExsb177o3AADlyvqiewIAAACsnOXE+zIArAoXzAAAAAAAAABEBGYAAAAAAAAA\n",
       "IgIzAAAAAAAAABGBGQAAAAAAAICIwAwAAAAAAABARGAGAAAAAAAAICIwAwAAAAAAABARmAEAAAAA\n",
       "AACIjNn2SfcGAKBcLKfdEwCAsrez3z0BACjby7vdEwCA4oIZAAAAAAAAgIjADAAAAAAAAEBEYAYA\n",
       "AAAAAAAgIjADAAAAAAAAEBGYAQAAAAAAAIgIzAAAAAAAAABEBGYAAAAAAAAAIgIzAAAAAAAAABGB\n",
       "GQAAAAAAAIDIGD/Z7N4AAJTXt067JwAAZWvrpHsCAFBmk2n3BACguGAGAAAAAAAAICIwAwAAAAAA\n",
       "ABARmAEAAAAAAACICMwAAAAAAAAARARmAAAAAAAAACICMwAAAAAAAAARgRkAAAAAAACAiMAMAAAA\n",
       "AAAAQGQsn3zbvQEAKCcX/v0CgFVxcLjdPQEAKKeT8+4JAEDxFRsAAAAAAACAiMAMAAAAAAAAQERg\n",
       "BgAAAAAAACAiMAMAAAAAAAAQEZgBAAAAAAAAiAjMAAAAAAAAAEQEZgAAAAAAAAAiAjMAAAAAAAAA\n",
       "EYEZAAAAAAAAgMiYf3GzewMAUJ6cjO4JAEC5WPgnGwBWxXQy7Z4AABRvywAAAAAAAABEBGYAAAAA\n",
       "AAAAIgIzAAAAAAAAABGBGQAAAAAAAICIwAwAAAAAAABARGAGAAAAAAAAICIwAwAAAAAAABARmAEA\n",
       "AAAAAACICMwAAAAAAAAARMbG7ovuDQBAmU67FwAAL73xxqPuCQBA2Vm72z0BACgumAEAAAAAAACI\n",
       "CMwAAAAAAAAARARmAAAAAAAAACICMwAAAAAAAAARgRkAAAAAAACAiMAMAAAAAAAAQERgBgAAAAAA\n",
       "ACAiMAMAAAAAAAAQGadPd7o3AADl0mzZPQEAKB99eq97AgBQHi73uycAAMUFMwAAAAAAAAARgRkA\n",
       "AAAAAACAiMAMAAAAAAAAQERgBgAAAAAAACAiMAMAAAAAAAAQEZgBAAAAAAAAiAjMAAAAAAAAAEQE\n",
       "ZgAAAAAAAAAiAjMAAAAAAAAAkXHy/Hr3BgCgHJ379wsAVsXR2Ub3BACgnE9PuycAAMVXbAAAAAAA\n",
       "AAAiAjMAAAAAAAAAEYEZAAAAAAAAgIjADAAAAAAAAEBEYAYAAAAAAAAgIjADAAAAAAAAEBGYAQAA\n",
       "AAAAAIgIzAAAAAAAAABExnS67N4AABRPZRdpHI4AACAASURBVABYHeuzi+4JAECZLd1KAcCq8FQG\n",
       "AAAAAAAAICIwAwAAAAAAABARmAEAAAAAAACICMwAAAAAAAAARARmAAAAAAAAACICMwAAAAAAAAAR\n",
       "gRkAAAAAAACAiMAMAAAAAAAAQERgBgAAAAAAACAyxta8ewMAUK6MRfcEAKB8d7rZPQEAKCdr+90T\n",
       "AIDighkAAAAAAACAiMAMAAAAAAAAQERgBgAAAAAAACAiMAMAAAAAAAAQEZgBAAAAAAAAiAjMAAAA\n",
       "AAAAAEQEZgAAAAAAAAAiAjMAAAAAAAAAEYEZAAAAAAAAgMjYuv20ewMAUKbdAwCAV977/pfdEwCA\n",
       "svvZne4JAEBxwQwAAAAAAABARGAGAAAAAAAAICIwAwAAAAAAABARmAEAAAAAAACICMwAAAAAAAAA\n",
       "RARmAAAAAAAAACICMwAAAAAAAAARgRkAAAAAAACAyJi9s929AQAoV9YvuicAAGV372n3BACgbK+9\n",
       "3T0BACgumAEAAAAAAACICMwAAAAAAAAARARmAAAAAAAAACICMwAAAAAAAAARgRkAAAAAAACAiMAM\n",
       "AAAAAAAAQERgBgAAAAAAACAiMAMAAAAAAAAQEZgBAAAAAAAAiIzJ+Xn3BgCgTCfL7gkAQDk92eqe\n",
       "AACU86X3ZQBYFS6YAQAAAAAAAIgIzAAAAAAAAABEBGYAAAAAAAAAIgIzAAAAAAAAABGBGQAAAAAA\n",
       "AICIwAwAAAAAAABARGAGAAAAAAAAICIwAwAAAAAAABAZk/lp9wYAoIy1ZfcEAKC8+PZq9wQAoBwv\n",
       "z7onAADFBTMAAAAAAAAAEYEZAAAAAAAAgIjADAAAAAAAAEBEYAYAAAAAAAAgIjADAAAAAAAAEBGY\n",
       "AQAAAAAAAIgIzAAAAAAAAABEBGYAAAAAAAAAIgIzAAAAAAAAAJGxPDjr3gAAlLOFf78AYFWcnq93\n",
       "TwAAymKy6J4AABRfsQEAAAAAAACICMwAAAAAAAAARARmAAAAAAAAACICMwAAAAAAAAARgRkAAAAA\n",
       "AACAiMAMAAAAAAAAQERgBgAAAAAAACAiMAMAAAAAAAAQEZgBAAAAAAAAiIzlkcYMAKvi4GzWPQEA\n",
       "KJc3T7onAABlYzK6JwAARV0GAAAAAAAAICIwAwAAAAAAABARmAEAAAAAAACICMwAAAAAAAAARARm\n",
       "AAAAAAAAACICMwAAAAAAAAARgRkAAAAAAACAiMAMAAAAAAAAQGRM1pbdGwCAMl9MuycAAOXqznfd\n",
       "EwCAcmltdE8AAIoLZgAAAAAAAAAiAjMAAAAAAAAAEYEZAAAAAAAAgIjADAAAAAAAAEBEYAYAAAAA\n",
       "AAAgIjADAAAAAAAAEBGYAQAAAAAAAIgIzAAAAAAAAABEBGYAAAAAAAAAImNxvN69AQAoV9cvuicA\n",
       "AOWzB7e7JwAA5enyoHsCAFBcMAMAAAAAAAAQEZgBAAAAAAAAiAjMAAAAAAAAAEQEZgAAAAAAAAAi\n",
       "AjMAAAAAAAAAEYEZAAAAAAAAgIjADAAAAAAAAEBEYAYAAAAAAAAgMmZXTrs3AABlfuHfLwBYFT/Y\n",
       "fdI9AQAo1yc/7Z4AABRfsQEAAAAAAACICMwAAAAAAAAARARmAAAAAAAAACICMwAAAAAAAAARgRkA\n",
       "AAAAAACAiMAMAAAAAAAAQERgBgAAAAAAACAiMAMAAAAAAAAQEZgBAAAAAAAAiIzDT251bwAAyvHF\n",
       "tHsCAFD+89D7MgCsiq8nB90TAIDighkAAAAAAACAiMAMAAAAAAAAQERgBgAAAAAAACAiMAMAAAAA\n",
       "AAAQEZgBAAAAAAAAiAjMAAAAAAAAAEQEZgAAAAAAAAAiAjMAAAAAAAAAEYEZAAAAAAAAgMjYfG2/\n",
       "ewMAUBbL7gUAwEs/2nvUPQEAKDc+frd7AgBQXDADAAAAAAAAEBGYAQAAAAAAAIgIzAAAAAAAAABE\n",
       "BGYAAAAAAAAAIgIzAAAAAAAAABGBGQAAAAAAAICIwAwAAAAAAABARGAGAAAAAAAAIDIW8/XuDQBA\n",
       "uTyW3RMAgPK/Z7vdEwCA8mJy2D0BACgumAEAAAAAAACICMwAAAAAAAAARARmAAAAAAAAACICMwAA\n",
       "AAAAAAARgRkAAAAAAACAiMAMAAAAAAAAQERgBgAAAAAAACAiMAMAAAAAAAAQEZgBAAAAAAAAiIzp\n",
       "+nn3BgCgnC2m3RMAgHJz+6B7AgBQLi13uicAAMUFMwAAAAAAAAARgRkAAAAAAACAiMAMAAAAAAAA\n",
       "QERgBgAAAAAAACAiMAMAAAAAAAAQEZgBAAAAAAAAiAjMAAAAAAAAAEQEZgAAAAAAAAAiY+O9ZfcG\n",
       "AKDcvjzvngAAlNnsonsCAFAWE9+xAWBVuGAGAAAAAAAAICIwAwAAAAAAABARmAEAAAAAAACICMwA\n",
       "AAAAAAAARARmAAAAAAAAACICMwAAAAAAAAARgRkAAAAAAACAiMAMAAAAAAAAQERgBgAAAAAAACAy\n",
       "jj+43L0BAChP5+vdEwCA8smTN7onAABlf+3b7gkAQHHBDAAAAAAAAEBEYAYAAAAAAAAgIjADAAAA\n",
       "AAAAEBGYAQAAAAAAAIgIzAAAAAAAAABEBGYAAAAAAAAAIgIzAAAAAAAAABGBGQAAAAAAAICIwAwA\n",
       "AAAAAABAZGzeeda9AQB4Zdo9AAAoP7t1v3sCAFD2Pr3XPQEAKC6YAQAAAAAAAIgIzAAAAAAAAABE\n",
       "BGYAAAAAAAAAIgIzAAAAAAAAABGBGQAAAAAAAICIwAwAAAAAAABARGAGAAAAAAAAICIwAwAAAAAA\n",
       "ABAZ8wevdW8AAMrxxbR7AgBQHn1zs3sCAFAOpyfdEwCA4oIZAAAAAAAAgIjADAAAAAAAAEBEYAYA\n",
       "AAAAAAAgIjADAAAAAAAAEBGYAQAAAAAAAIgIzAAAAAAAAABEBGYAAAAAAAAAIgIzAAAAAAAAABGB\n",
       "GQAAAAAAAIDIWP/ei+4NAEDZHovuCQBA2Rzn3RMAgLLmVgoAVoanMgAAAAAAAAARgRkAAAAAAACA\n",
       "iMAMAAAAAAAAQERgBgAAAAAAACAiMAMAAAAAAAAQEZgBAAAAAAAAiAjMAAAAAAAAAEQEZgAAAAAA\n",
       "AAAi48Hff9G9AQAo/z2YdU8AAMqd/ZvdEwCAcjA96J4AABQXzAAAAAAAAABEBGYAAAAAAAAAIgIz\n",
       "AAAAAAAAABGBGQAAAAAAAICIwAwAAAAAAABARGAGAAAAAAAAICIwAwAAAAAAABARmAEAAAAAAACI\n",
       "CMwAAAAAAAAARMaN1591bwAAys569wIA4KUbmyfdEwCAsrHc6J4AABQXzAAAAAAAAABEBGYAAAAA\n",
       "AAAAIgIzAAAAAAAAABGBGQAAAAAAAICIwAwAAAAAAABARGAGAAAAAAAAICIwAwAAAAAAABARmAEA\n",
       "AAAAAACIjOvvP+jeAACU23857Z4AAJS7e4+6JwAA5erH73RPAACKC2YAAAAAAAAAIgIzAAAAAAAA\n",
       "ABGBGQAAAAAAAICIwAwAAAAAAABARGAGAAAAAAAAICIwAwAAAAAAABARmAEAAAAAAACICMwAAAAA\n",
       "AAAARARmAAAAAAAAACLj/p9+3r0BACifH2x0TwAAyt8+v9c9AQAoD2cPuycAAMUFMwAAAAAAAAAR\n",
       "gRkAAAAAAACAiMAMAAAAAAAAQERgBgAAAAAAACAiMAMAAAAAAAAQEZgBAAAAAAAAiAjMAAAAAAAA\n",
       "AEQEZgAAAAAAAAAiAjMAAAAAAAAAkXHntx91bwAAylsf/rJ7AgBQ3n/7k+4JAED5w/173RMAgOKC\n",
       "GQAAAAAAAICIwAwAAAAAAABARGAGAAAAAAAAICIwAwAAAAAAABARmAEAAAAAAACICMwAAAAAAAAA\n",
       "RARmAAAAAAAAACICMwAAAAAAAACRcfrvre4NAEB5Oh/dEwCAcnh8qXsCAFAuJovuCQBAccEMAAAA\n",
       "AAAAQERgBgAAAAAAACAiMAMAAAAAAAAQEZgBAAAAAAAAiAjMAAAAAAAAAEQEZgAAAAAAAAAiAjMA\n",
       "AAAAAAAAEYEZAAAAAAAAgIjADAAAAAAAAEBkbNw96N4AAJTr6xfdEwCAcuXyUfcEAKCMyax7AgBQ\n",
       "XDADAAAAAAAAEBGYAQAAAAAAAIgIzAAAAAAAAABEBGYAAAAAAAAAIgIzAAAAAAAAABGBGQAAAAAA\n",
       "AICIwAwAAAAAAABARGAGAAAAAAAAIDJefPDD7g0AQPnyeHRPAADKV893uycAAOVoOu+eAAAUF8wA\n",
       "AAAAAAAARARmAAAAAAAAACICMwAAAAAAAAARgRkAAAAAAACAiMAMAAAAAAAAQERgBgAAAAAAACAi\n",
       "MAMAAAAAAAAQEZgBAAAAAAAAiAjMAAAAAAAAAETGzm/m3RsAgPLuX0+6JwAA5e3b97snAABl58Nf\n",
       "dU8AAIoLZgAAAAAAAAAiAjMAAAAAAAAAEYEZAAAAAAAAgIjADAAAAAAAAEBEYAYAAAAAAAAgIjAD\n",
       "AAAAAAAAEBGYAQAAAAAAAIgIzAAAAAAAAABEBGYAAAAAAAAAImP65Gn3BgCgnC38+wUAq2J//1r3\n",
       "BACgnCzPuicAAMVXbAAAAAAAAAAiAjMAAAAAAAAAEYEZAAAAAAAAgIjADAAAAAAAAEBEYAYAAAAA\n",
       "AAAgIjADAAAAAAAAEBGYAQAAAAAAAIgIzAAAAAAAAABExvLNN7s3AADl6jjvngAAlEtbJ90TAIAy\n",
       "JrPuCQBAccEMAAAAAAAAQERgBgAAAAAAACAiMAMAAAAAAAAQEZgBAAAAAAAAiAjMAAAAAAAAAEQE\n",
       "ZgAAAAAAAAAiAjMAAAAAAAAAEYEZAAAAAAAAgIjADAAAAAAAAEBkfPX7G90bAIBysZx2TwAAyu/+\n",
       "/E73BACg/HP+x+4JAEBxwQwAAAAAAABARGAGAAAAAAAAICIwAwAAAAAAABARmAEAAAAAAACICMwA\n",
       "AAAAAAAARARmAAAAAAAAACICMwAAAAAAAAARgRkAAAAAAACAyLhy80X3BgCg7GzMuycAAGU2We+e\n",
       "AAC8suweAAAUF8wAAAAAAAAARARmAAAAAAAAACICMwAAAAAAAAARgRkAAAAAAACAiMAMAAAAAAAA\n",
       "QERgBgAAAAAAACAiMAMAAAAAAAAQEZgBAAAAAAAAiAjMAAAAAAAAAETG4/tvdm8AAMrDo8vdEwCA\n",
       "cjo96p4AALwy7R4AABQXzAAAAAAAAABEBGYAAAAAAAAAIgIzAAAAAAAAABGBGQAAAAAAAICIwAwA\n",
       "AAAAAABARGAGAAAAAAAAICIwAwAAAAAAABARmAEAAAAAAACICMwAAAAAAAAARMburcfdGwCAsvfg\n",
       "bvcEAKBsLje6JwAAAMDKccEMAAAAAAAAQERgBgAAAAAAACAiMAMAAAAAAAAQEZgBAAAAAAAAiAjM\n",
       "AAAAAAAAAEQEZgAAAAAAAAAiAjMAAAAAAAAAEYEZAAAAAAAAgMh49tVe9wYAoDw+3uqeAACU5eSs\n",
       "ewIAUKbTWfcEAKC4YAYAAAAAAAAgIjADAP9v326W4zqrKAz36f6klmWDYifBSoUABQUUV8CtM2XM\n",
       "kGIElQrk34mRZVtRq6U+h8m2i+Ga7R48zxWs2Ven394AAAAAABARmAEAAAAAAACICMwAAAAAAAAA\n",
       "RARmAAAAAAAAACICMwAAAAAAAAARgRkAAAAAAACAiMAMAAAAAAAAQERgBgAAAAAAACAyPv7s2+4N\n",
       "AED58IvfdU8AAMrTzaPuCQBAWU+n3RMAgOKCGQAAAAAAAICIwAwAAAAAAABARGAGAAAAAAAAICIw\n",
       "AwAAAAAAABARmAEAAAAAAACICMwAAAAAAAAARARmAAAAAAAAACICMwAAAAAAAACRcff2vHsDAFDu\n",
       "DpvuCQBA2c+H7gkAQFkW7zIAHAsXzAAAAAAAAABEBGYAAAAAAAAAIgIzAAAAAAAAABGBGQAAAAAA\n",
       "AICIwAwAAAAAAABARGAGAAAAAAAAICIwAwAAAAAAABARmAEAAAAAAACICMwAAAAAAAAARMYP33/c\n",
       "vQEAKNf3o3sCAFC+n666JwAAZZ5vuycAAMUFMwAAAAAAAAARgRkAAAAAAACAiMAMAAAAAAAAQERg\n",
       "BgAAAAAAACAiMAMAAAAAAAAQEZgBAAAAAAAAiAjMAAAAAAAAAEQEZgAAAAAAAAAiAjMAAAAAAAAA\n",
       "kXF987h7AwBQXu5H9wQAoDyZfS8DwLFYrx91TwAAigtmAAAAAAAAACICMwAAAAAAAAARgRkAAAAA\n",
       "AACAiMAMAAAAAAAAQERgBgAAAAAAACAiMAMAAAAAAAAQEZgBAAAAAAAAiAjMAAAAAAAAAETGb3/9\n",
       "n+4NAED546sPuycAAOUvL/fdEwCAMs+33RMAgOKCGQAAAAAAAICIwAwAAAAAAABARGAGAAAAAAAA\n",
       "ICIwAwAAAAAAABARmAEAAAAAAACICMwAAAAAAAAARARmAAAAAAAAACICMwAAAAAAAAARgRkAAAAA\n",
       "AACAyFhv5u4NAEDxKgPA8Xi0bLsnAABlmkb3BACguGAGAAAAAAAAICIwAwAAAAAAABARmAEAAAAA\n",
       "AACICMwAAAAAAAAARARmAAAAAAAAACICMwAAAAAAAAARgRkAAAAAAACAiMAMAAAAAAAAQGR8+81l\n",
       "9wYAoLzYbbsnAADlZrrungAAlGU1d08AAIoLZgAAAAAAAAAiAjMAAAAAAAAAEYEZAAAAAAAAgIjA\n",
       "DAAAAAAAAEBEYAYAAAAAAAAgIjADAAAAAAAAEBGYAQAAAAAAAIgIzAAAAAAAAABEBGYAAAAAAAAA\n",
       "IuP58x+6NwAA5fK7T7snAABlWk3dEwCAd5ZD9wIAoLhgBgAAAAAAACAiMAMAAAAAAAAQEZgBAAAA\n",
       "AAAAiAjMAAAAAAAAAEQEZgAAAAAAAAAiAjMAAAAAAAAAEYEZAAAAAAAAgIjADAAAAAAAAEBEYAYA\n",
       "AAAAAAAgMs4v3nRvAADK45N99wQAoJysRvcEAOC9qXsAAFBcMAMAAAAAAAAQEZgBAAAAAAAAiAjM\n",
       "AAAAAAAAAEQEZgAAAAAAAAAiAjMAAAAAAAAAEYEZAAAAAAAAgIjADAAAAAAAAEBEYAYAAAAAAAAg\n",
       "Mq5/eNa9AQAor+7OuicAAGW/uumeAAC8t3QPAACKC2YAAAAAAAAAIgIzAAAAAAAAABGBGQAAAAAA\n",
       "AICIwAwAAAAAAABARGAGAAAAAAAAICIwAwAAAAAAABARmAEAAAAAAACICMwAAAAAAAAARARmAAAA\n",
       "AAAAACJjPmjMAHAsdrN3GQCOxZPlvHsCAFCm9bZ7AgBQ/IoNAAAAAAAAQERgBgAAAAAAACAiMAMA\n",
       "AAAAAAAQEZgBAAAAAAAAiAjMAAAAAAAAAEQEZgAAAAAAAAAiAjMAAAAAAAAAEYEZAAAAAAAAgMi4\n",
       "/NPn3RsAgPKHb37ZPQEAKLdfbbsnAABlnn/qngAAFBfMAAAAAAAAAEQEZgAAAAAAAAAiAjMAAAAA\n",
       "AAAAEYEZAAAAAAAAgIjADAAAAAAAAEBEYAYAAAAAAAAgIjADAAAAAAAAEBGYAQAAAAAAAIgIzAAA\n",
       "AAAAAABExv3bR90bAICyuz/pngAAAABHyK0UABwLrzIAAAAAAAAAEYEZAAAAAAAAgIjADAAAAAAA\n",
       "AEBEYAYAAAAAAAAgIjADAAAAAAAAEBGYAQAAAAAAAIgIzAAAAAAAAABEBGYAAAAAAAAAIgIzAAAA\n",
       "AAAAAJHxsNt2bwAAypv70+4JAEC5WHmXAeBYrNePuicAAMUFMwAAAAAAAAARgRkAAAAAAACAiMAM\n",
       "AAAAAAAAQERgBgAAAAAAACAiMAMAAAAAAAAQEZgBAAAAAAAAiAjMAAAAAAAAAEQEZgAAAAAAAAAi\n",
       "4+r7j7o3AADlx922ewIAUOZl7p4AAJRpNXVPAACKC2YAAAAAAAAAIgIzAAAAAAAAABGBGQAAAAAA\n",
       "AICIwAwAAAAAAABARGAGAAAAAAAAICIwAwAAAAAAABARmAEAAAAAAACICMwAAAAAAAAARARmAAAA\n",
       "AAAAACJjtZq6NwAAAMDRmVdL9wQA4D3vMgAcCxfMAAAAAAAAAEQEZgAAAAAAAAAiAjMAAAAAAAAA\n",
       "EYEZAAAAAAAAgIjADAAAAAAAAEBEYAYAAAAAAAAgIjADAAAAAAAAEBGYAQAAAAAAAIiMJx9cd28A\n",
       "AMqz7b57AgBQ9qulewIAUOblvnsCAFBcMAMAAAAAAAAQEZgBAAAAAAAAiAjMAAAAAAAAAEQEZgAA\n",
       "AAAAAAAiAjMAAAAAAAAAEYEZAAAAAAAAgIjADAAAAAAAAEBEYAYAAAAAAAAgIjADAAAAAAAAEBnr\n",
       "zdy9AQAo07R0TwAAyma16Z4AAJTJrRQAHA2vMgAAAAAAAAARgRkAAAAAAACAiMAMAAAAAAAAQERg\n",
       "BgAAAAAAACAiMAMAAAAAAAAQEZgBAAAAAAAAiAjMAAAAAAAAAEQEZgAAAAAAAAAi4+HutHsDAFBu\n",
       "H0b3BACgbCf/yQaAYzFNvpcB4Fj4WgYAAAAAAAAgIjADAAAAAAAAEBGYAQAAAAAAAIgIzAAAAAAA\n",
       "AABEBGYAAAAAAAAAIgIzAAAAAAAAABGBGQAAAAAAAICIwAwAAAAAAABARGAGAAAAAAAAIDL2u233\n",
       "BgCg7A6b7gkAQJm6BwAA/8etFAAcC68yAAAAAAAAABGBGQAAAAAAAICIwAwAAAAAAABARGAGAAAA\n",
       "AAAAICIwAwAAAAAAABARmAEAAAAAAACICMwAAAAAAAAARARmAAAAAAAAACICMwAAAAAAAACRsRkP\n",
       "3RsAgLKelu4JAEA5nTbdEwCAMnmXAeBouGAGAAAAAAAAICIwAwAAAAAAABARmAEAAAAAAACICMwA\n",
       "AAAAAAAARARmAAAAAAAAACICMwAAAAAAAAARgRkAAAAAAACAiMAMAAAAAAAAQGSM0/vuDQBAGeul\n",
       "ewIAUKbuAQAAAHCEXDADAAAAAAAAEBGYAQAAAAAAAIgIzAAAAAAAAABEBGYAAAAAAAAAIgIzAAAA\n",
       "AAAAABGBGQAAAAAAAICIwAwAAAAAAABARGAGAAAAAAAAICIwAwAAAAAAABAZN6+fdG8AAMrJNHdP\n",
       "AADKP6Z/dU8AAMr9w4/dEwCA4oIZAAAAAAAAgIjADAAAAAAAAEBEYAYAAAAAAAAgIjADAAAAAAAA\n",
       "EBGYAQAAAAAAAIgIzAAAAAAAAABEBGYAAAAAAAAAIgIzAAAAAAAAAJFx8dFV9wYAoGw/P3RPAADK\n",
       "Z4dfdU8AAMrX68fdEwCA4oIZAAAAAAAAgIjADAAAAAAAAEBEYAYAAAAAAAAgIjADAAAAAAAAEBGY\n",
       "AQAAAAAAAIgIzAAAAAAAAABEBGYAAAAAAAAAIgIzAAAAAAAAABGBGQAAAAAAAIDI2IyH7g0AQFm6\n",
       "BwAA7z1en3RPAADKNHmXAeBYuGAGAAAAAAAAICIwAwAAAAAAABARmAEAAAAAAACICMwAAAAAAAAA\n",
       "RARmAAAAAAAAACICMwAAAAAAAAARgRkAAAAAAACAiMAMAAAAAAAAQERgBgAAAAAAACAy5lljBoBj\n",
       "MaalewIAUF7Pd90TAIAyL95lADgW6jIAAAAAAAAAEYEZAAAAAAAAgIjADAAAAAAAAEBEYAYAAAAA\n",
       "AAAgIjADAAAAAAAAEBGYAQAAAAAAAIgIzAAAAAAAAABEBGYAAAAAAAAAIuP8F1fdGwCA8vhk3z0B\n",
       "ACg/X190TwAAyno66Z4AABQXzAAAAAAAAABEBGYAAAAAAAAAIgIzAAAAAAAAABGBGQAAAAAAAICI\n",
       "wAwAAAAAAABARGAGAAAAAAAAICIwAwAAAAAAABARmAEAAAAAAACICMwAAAAAAAAARMbrL593bwAA\n",
       "ytXdWfcEAKBcz7vuCQBAmZf77gkAQHHBDAAAAAAAAEBEYAYAAAAAAAAgIjADAAAAAAAAEBGYAQAA\n",
       "AAAAAIgIzAAAAAAAAABEBGYAAAAAAAAAIgIzAAAAAAAAABGBGQAAAAAAAIDIOH/6unsDAFA+OL3r\n",
       "ngAAlIdp0z0BACjL8tA9AQAoLpgBAAAAAAAAiAjMAAAAAAAAAEQEZgAAAAAAAAAiAjMAAAAAAAAA\n",
       "EYEZAAAAAAAAgIjADAAAAAAAAEBEYAYAAAAAAAAgIjADAAAAAAAAEBGYAQAAAAAAAIiMs09edm8A\n",
       "AMrF2W33BACgnC5PuycAAGVaTd0TAIDighkAAAAAAACAiMAMAAAAAAAAQERgBgAAAAAAACAiMAMA\n",
       "AAAAAAAQEZgBAAAAAAAAiAjMAAAAAAAAAEQEZgAAAAAAAAAiAjMAAAAAAAAAEYEZAAAAAAAAgMg4\n",
       "/LTt3gAAlMMydU8AAMrNdNs9AQAoy/LQPQEAKC6YAQAAAAAAAIgIzAAAAAAAAABEBGYAAAAAAAAA\n",
       "IgIzAAAAAAAAABGBGQAAAAAAAICIwAwAAAAAAABARGAGAAAAAAAAICIwAwAAAAAAABAZf//rn7s3\n",
       "AADlby+ed08AAMrN+qvuCQDAO9PUvQAAKC6YAQAAAAAAAIgIzAAAAAAAAABEBGYAAAAAAAAAIgIz\n",
       "AAAAAAAAABGBGQAAAAAAAICIwAwAAAAAAABARGAGAAAAAAAAICIwAwAAAAAAABARmAEAAAAAAACI\n",
       "jIufveneAACUs83cPQEAKM8Oz7onAADli+msewIAUFwwAwAAAAAAABARmAEAAAAAAACICMwAAAAA\n",
       "AAAARARmAAAAAAAAACICMwAAAAAAAAARgRkAAAAAAACAiMAMAAAAAAAAQERgBgAAAAAAACAyzh7t\n",
       "ujcAAGW7nrsnAABluxrdEwCAdya3UgBwLLzKAAAAAAAAAEQEZgAAAAAAAAAiAjMAAAAAAAAAEYEZ\n",
       "AAAAAAAAgIjADAAAAAAAAEBEYAYAAAAAAAAgIjADAAAAAAAAEBGYAQAAAAAAAIgIzAAAAAAAAABE\n",
       "xsXzH7s3AADl43/edk8AAMq82nZPAADKsjx0TwAAigtmAAAAAAAAACICMwAAAAAAAAARgRkAAAAA\n",
       "AACAiMAMAAAAAAAAQERgBgAAAAAAdpag5gAABJ5JREFUACAiMAMAAAAAAAAQEZgBAAAAAAAAiAjM\n",
       "AAAAAAAAAEQEZgAAAAAAAAAi479fP+/eAACU727PuycAAO89dA8AAMq02nRPAACKC2YAAAAAAAAA\n",
       "IgIzAAAAAAAAABGBGQAAAAAAAICIwAwAAAAAAABARGAGAAAAAAAAICIwAwAAAAAAABARmAEAAAAA\n",
       "AACICMwAAAAAAAAARMbV9UX3BgCgvNqP7gkAQNlPu+4JAAAAcHRcMAMAAAAAAAAQEZgBAAAAAAAA\n",
       "iAjMAAAAAAAAAEQEZgAAAAAAAAAiAjMAAAAAAAAAEYEZAAAAAAAAgIjADAAAAAAAAEBEYAYAAAAA\n",
       "AAAgIjADAAAAAAAAEBmXly+6NwAA5fK7T7snAADlZBndEwCA95buAQBAccEMAAAAAAAAQERgBgAA\n",
       "AAAAACAiMAMAAAAAAAAQEZgBAAAAAAAAiAjMAAAAAAAAAEQEZgAAAAAAAAAiAjMAAAAAAAAAEYEZ\n",
       "AAAAAAAAgMj46e159wYAoOwOm+4JAEDZT7fdEwCAsqzm7gkAQHHBDAAAAAAAAEBEYAYAAAAAAAAg\n",
       "IjADAAAAAAAAEBGYAQAAAAAAAIgIzAAAAAAAAABEBGYAAAAAAAAAIgIzAAAAAAAAABGBGQAAAAAA\n",
       "AICIwAwAAAAAAABAZFz+/t/dGwCA8smXv+meAACUp6sn3RMAgDJNJ90TAIDighkAAAAAAACAiMAM\n",
       "AAAAAAAAQERgBgAAAAAAACAiMAMAAAAAAAAQEZgBAAAAAAAAiAjMAAAAAAAAAEQEZgAAAAAAAAAi\n",
       "AjMAAAAAAAAAEYEZAAAAAAAAgMh4++JZ9wYAoNzcn3RPAADK1eqmewIAUJb5rnsCAFBcMAMAAAAA\n",
       "AAAQEZgBAAAAAAAAiAjMAAAAAAAAAEQEZgAAAAAAAAAiAjMAAAAAAAAAEYEZAAAAAAAAgIjADAAA\n",
       "AAAAAEBEYAYAAAAAAAAgMl69fNq9AQAoL3bb7gkAQDlZuhcAAO9M69PuCQBAccEMAAAAAAAAQERg\n",
       "BgAAAAAAACAiMAMAAAAAAAAQEZgBAAAAAAAAiAjMAAAAAAAAAEQEZgAAAAAAAAAiAjMAAAAAAAAA\n",
       "EYEZAAAAAAAAgIjADAAAAAAAAEBkbDZz9wYAoGy9ywBwNHbTXfcEAKAsy333BACguGAGAAAAAAAA\n",
       "ICIwAwAAAAAAABARmAEAAAAAAACICMwAAAAAAAAARARmAAAAAAAAACICMwAAAAAAAAARgRkAAAAA\n",
       "AACAiMAMAAAAAAAAQGSs14fuDQBAWZapewIAUM6WbfcEAKBMq9E9AQAoLpgBAAAAAAAAiAjMAAAA\n",
       "AAAAAEQEZgAAAAAAAAAiAjMAAAAAAAAAEYEZAAAAAAAAgIjADAAAAAAAAEBEYAYAAAAAAAAgIjAD\n",
       "AAAAAAAAEBGYAQAAAAAAAIiMJxdvujcAAOWD0333BACgHKa5ewIAUJbVQ/cEAKC4YAYAAAAAAAAg\n",
       "IjADAAAAAAAAEBGYAQAAAAAAAIgIzAAAAAAAAABEBGYAAAAAAAAAIgIzAAAAAAAAABGBGQAAAAAA\n",
       "AICIwAwAAAAAAABA5H+dY1gx7JtRCgAAAABJRU5ErkJggg==\n",
       "\" transform=\"translate(169, 47)\"/>\n",
       "</g>\n",
       "<defs>\n",
       "  <clipPath id=\"clip383\">\n",
       "    <rect x=\"2160\" y=\"47\" width=\"73\" height=\"1440\"/>\n",
       "  </clipPath>\n",
       "</defs>\n",
       "<g clip-path=\"url(#clip383)\">\n",
       "<image width=\"72\" height=\"1439\" xlink:href=\"data:image/png;base64,\n",
       "iVBORw0KGgoAAAANSUhEUgAAAEgAAAWfCAYAAAAI7rB3AAAMWUlEQVR4nO3dwY0rRxAFwaZQ/lsh\n",
       "L6XfLQtUeSQPERYsEg8c9MyQ+/n3/v0O/+uvb/8Bv06gIFAQKAgU5r5/v/03/DQLCgIFgYJAQaAw\n",
       "7/359t/w0ywoCBQECgIFR41gQUGgIFAQKAgU5rmKrSwoCBQECgIFgcK86yq2saAgUBAoCBQcNYIF\n",
       "BYGCQEGgIFBwFQsWFAQKAgWBgvtBwYKCQEGgIFAQKMxx1FhZUBAoCBQECgIFN8yCBQWBgkBBoDDH\n",
       "DbOVBQWBgkBBoCBQmHP/+fbf8NMsKAgUBAoCBYGCxz7BgoJAQaAgUHDDLFhQECgIFAQKAgVXsWBB\n",
       "QaAgUBAouB8ULCgIFAQKAgWBwnwcNVYWFAQKAgWBgkBhzvWfWTYWFAQKAgWBgqNGsKAgUBAoCBQE\n",
       "Co4awYKCQEGgIFAQKHjDLFhQECgIFAQK83HUWFlQECgIFAQKAgXvSQcLCgIFgYJAwVEjWFAQKAgU\n",
       "BAoCBc/mgwUFgYJAQaAgUHAWCxYUBAoCBYGCo0awoCBQECgIFAQKjhrBgoJAQaAgUBAozLn323/D\n",
       "T7OgIFAQKAgUHDWCBQWBgkBBoCBQ8NgnWFAQKAgUBAo+pIMFBYGCQEGgIFCYj6caKwsKAgWBgkBB\n",
       "oOAsFiwoCBQECgIFL1AFCwoCBYGCQEGg4IZZsKAgUBAoCBTcDwoWFAQKAgWBgkDBDbNgQUGgIFAQ\n",
       "KAgUXMWCBQWBgkBBoOB788GCgkBBoCBQECg4agQLCgIFgYJAQaDgKhYsKAgUBAoCBR/SwYKCQEGg\n",
       "IFAQKLiKBQsKAgWBgkBhzvMhvbGgIFAQKAgUBAqOGsGCgkBBoCBQECi4igULCgIFgYJAwYd0sKAg\n",
       "UBAoCBQECnPu+/bf8NMsKAgUBAoCBYGCs1iwoCBQECgIFBw1ggUFgYJAQaAgUHDUCBYUBAoCBYGC\n",
       "o0awoCBQECgIFAQKc5w0VhYUBAoCBYGCQGHOcxbbWFAQKAgUBAqOGsGCgkBBoCBQECi4igULCgIF\n",
       "gYJAQaAwfohzZ0FBoCBQECg4agQLCgIFgYJAQaDgKhYsKAgUBAoChTn38+2/4adZUBAoCBQECgKF\n",
       "ec9VbGNBQaAgUBAoCBTcMAsWFAQKAgWBghtmwYKCQEGgIFAQKMy7Gm3UCQIFgYJAwVEjWFAQKAgU\n",
       "BAoChTmeza8sKAgUBAoCBYHCPGexlQUFgYJAQaAwx1ONlTpBoCBQECgIFBw1ggUFgYJAQaAgUPDY\n",
       "J1hQECgIFAQKXgMO6gSBgkBBoCBQ8J50sKAgUBAoCBQ81QgWFAQKAgWBgkBh3tNoo04QKAgUBAoC\n",
       "BTfMggUFgYJAQaDghlmwoCBQECgIFAQKc9wwW6kTBAoCBYGCQMFZLFhQECgIFAQKPqSDBQWBgkBB\n",
       "oCBQ8L35YEFBoCBQECj43nxQJwgUBAoCBYHCPEeNlQUFgYJAQaAgUPDYJ1hQECgIFAQK/jNLUCcI\n",
       "FAQKAgWBghtmwYKCQEGgIFAQKLhhFiwoCBQECgIFR41gQUGgIFAQKAgUvCcd1AkCBYGCQMFRI1hQ\n",
       "ECgIFAQKAgVPNYIFBYGCQEGgIFBwFgsWFAQKAgWBgn+fFSwoCBQECgIFgYJ/ZRzUCQIFgYJAQaDg\n",
       "hlmwoCBQECgIFDybDxYUBAoCBYGCQMFRI1hQECgIFAQKc31IrywoCBQECgIFgYLvzQd1gkBBoCBQ\n",
       "ECi4YRYsKAgUBAoCBR/SwYKCQEGgIFAQKHjDLFhQECgIFAQKjhrBgoJAQaAgUBAouIoFCwoCBYGC\n",
       "QEGg4NdfgjpBoCBQECjM9VRjZUFBoCBQECgIFNwwCxYUBAoCBYGCQMFVLFhQECgIFAQKPqSDBQWB\n",
       "gkBBoCBQ8BtmwYKCQEGgIFBw1AgWFAQKAgWBgkDBVSxYUBAoCBQECgIFX2YJ6gSBgkBBoODLLMGC\n",
       "gkBBoCBQECi4YRYsKAgUBAoCBYGCq1iwoCBQECgIFLwGHCwoCBQECgIFgYKjRrCgIFAQKAgU5h0f\n",
       "0hsLCgIFgYJAQaDghlmwoCBQECgIFAQKbpgFCwoCBYGCQMFRI1hQECgIFAQKAgVHjWBBQaAgUBAo\n",
       "CBScxYIFBYGCQEGg4KgRLCgIFAQKAgWBgqtYsKAgUBAoCBTm+jLLyoKCQEGgIFAQKDhqBAsKAgWB\n",
       "gkBBoODZfLCgIFAQKAgU5r1v/wm/zYKCQEGgIFAQKDhqBAsKAgWBgkDBD00GCwoCBYGCQEGg4KgR\n",
       "LCgIFAQKAgWBgjfMggUFgYJAQaDgyyzBgoJAQaAgUBAoeMMsWFAQKAgUBAoCBY99ggUFgYJAQaDg\n",
       "qUawoCBQECgIFAQKHvsECwoCBYGCQMH9oGBBQaAgUBAoCBQ8mw8WFAQKAgWBgkDBDbNgQUGgIFAQ\n",
       "KHg2HywoCBQECgIFgcLcb/8FP86CgkBBoCBQECg4iwULCgIFgYJAwRtmwYKCQEGgIFAQKLhhFiwo\n",
       "CBQECgIF94OCBQWBgkBBoCBQcNQIFhQECgIFgYJAwVksWFAQKAgUBAqezQcLCgIFgYJAQaAwfvxl\n",
       "Z0FBoCBQECgIFJzFggUFgYJAQaDg2XywoCBQECgIFAQKns0HCwoCBYGCQMFRI1hQECgIFAQKAgVH\n",
       "jWBBQaAgUBAoCBTmesVsZUFBoCBQECi4YRYsKAgUBAoCBYGCG2bBgoJAQaAgUHDUCBYUBAoCBYGC\n",
       "QGGepxorCwoCBYGCQEGgMPe4YbaxoCBQECgIFLxAFSwoCBQECgIFgYIfmgwWFAQKAgWBgkDBD00G\n",
       "CwoCBYGCQMGz+WBBQaAgUBAoCBS8Jx0sKAgUBAoCBd84DBYUBAoCBYGCQMFRI1hQECgIFAQKAgXv\n",
       "SQcLCgIFgYJAwWvAwYKCQEGgIFAQKDhqBAsKAgWBgkBBoOA96WBBQaAgUBAo+ImuYEFBoCBQECgI\n",
       "FNwwCxYUBAoCBYGCZ/PBgoJAQaAgUBAoOGoECwoCBYGCQEGg4CwWLCgIFAQKAgVHjWBBQaAgUBAo\n",
       "CBRcxYIFBYGCQEGgIFBwwyxYUBAoCBQECo4awYKCQEGgIFAQKDhqBAsKAgWBgkDBUSNYUBAoCBQE\n",
       "CgIFP9EVLCgIFAQKAgWBgv8vFiwoCBQECgIFN8yCBQWBgkBBoCBQmHdcxjYWFAQKAgWBgkDBWSxY\n",
       "UBAoCBQECp7NBwsKAgWBgkBBoODZfLCgIFAQKAgU3A8KFhQECgIFgYJAwbP5YEFBoCBQECgIFJzF\n",
       "ggUFgYJAQaDgJ7qCBQWBgkBBoCBQmOsVs5UFBYGCQEGg4AWqYEFBoCBQECgIFOY5aqwsKAgUBAoC\n",
       "BYGCs1iwoCBQECgIFDzVCBYUBAoCBYGCQMEbZsGCgkBBoCBQECjM9ZXMlQUFgYJAQaDghlmwoCBQ\n",
       "ECgIFAQKfv0lWFAQKAgUBApeoAoWFAQKAgWBgkDBU41gQUGgIFAQKAgU3DALFhQECgIFgcLc45bZ\n",
       "xoKCQEGgIFAQKLhhFiwoCBQECgIFgYKrWLCgIFAQKAgUPNUIFhQECgIFgYJAwWOfYEFBoCBQECjM\n",
       "/ThqbCwoCBQECgIFgYKjRrCgIFAQKAgUBArzXMVWFhQECgIFgYKjRrCgIFAQKAgUBApzP65iGwsK\n",
       "AgWBgkBBoOAsFiwoCBQECgIFTzWCBQWBgkBBoCBQcNQIFhQECgIFgYIP6WBBQaAgUBAoCBQ8mw8W\n",
       "FAQKAgWBgkBh3vnz7b/hp1lQECgIFAQKbpgFCwoCBYGCQEGg4A2zYEFBoCBQECjMfe4HbSwoCBQE\n",
       "CgIFgYKjRrCgIFAQKAgUBApzPZtfWVAQKAgUBAqOGsGCgkBBoCBQECg4agQLCgIFgYJAQaAw7zmL\n",
       "bSwoCBQECgIFN8yCBQWBgkBBoCBQ8J50sKAgUBAoCBQcNYIFBYGCQEGgIFCY56ixsqAgUBAoCBQE\n",
       "Cs5iwYKCQEGgIFCY6wWqlQUFgYJAQaAgUPCb9sGCgkBBoCBQECj4MkuwoCBQECgIFDzVCBYUBAoC\n",
       "BYGCQMFRI1hQECgIFAQKPqSDBQWBgkBBoCBQ8Gw+WFAQKAgUBAoCBWexYEFBoCBQECjM8Wx+ZUFB\n",
       "oCBQECgIFBw1ggUFgYJAQaAgUPCedLCgIFAQKAgU5jhqrCwoCBQECgIFgYI3zIIFBYGCQEGg4Nl8\n",
       "sKAgUBAoCBQECm6YBQsKAgWBgkBBoDDvvG//DT/NgoJAQaAgUHDDLFhQECgIFAQKAoU5jhorCwoC\n",
       "BYGCQOE/LrLuTX/wFc8AAAAASUVORK5CYII=\n",
       "\" transform=\"translate(2161, 47)\"/>\n",
       "</g>\n",
       "<path clip-path=\"url(#clip380)\" d=\"M2269.43 1323.18 L2277.07 1323.18 L2277.07 1296.82 L2268.76 1298.48 L2268.76 1294.23 L2277.02 1292.56 L2281.7 1292.56 L2281.7 1323.18 L2289.33 1323.18 L2289.33 1327.12 L2269.43 1327.12 L2269.43 1323.18 Z\" fill=\"#000000\" fill-rule=\"evenodd\" fill-opacity=\"1\" /><path clip-path=\"url(#clip380)\" d=\"M2274.38 1142.4 L2290.7 1142.4 L2290.7 1146.34 L2268.76 1146.34 L2268.76 1142.4 Q2271.42 1139.65 2276 1135.02 Q2280.61 1130.37 2281.79 1129.02 Q2284.03 1126.5 2284.91 1124.77 Q2285.82 1123.01 2285.82 1121.32 Q2285.82 1118.56 2283.87 1116.83 Q2281.95 1115.09 2278.85 1115.09 Q2276.65 1115.09 2274.2 1115.85 Q2271.77 1116.62 2268.99 1118.17 L2268.99 1113.45 Q2271.81 1112.31 2274.27 1111.73 Q2276.72 1111.15 2278.76 1111.15 Q2284.13 1111.15 2287.32 1113.84 Q2290.52 1116.52 2290.52 1121.02 Q2290.52 1123.15 2289.7 1125.07 Q2288.92 1126.96 2286.81 1129.56 Q2286.23 1130.23 2283.13 1133.45 Q2280.03 1136.64 2274.38 1142.4 Z\" fill=\"#000000\" fill-rule=\"evenodd\" fill-opacity=\"1\" /><path clip-path=\"url(#clip380)\" d=\"M2284.38 946.926 Q2287.74 947.643 2289.61 949.912 Q2291.51 952.18 2291.51 955.514 Q2291.51 960.629 2287.99 963.43 Q2284.47 966.231 2277.99 966.231 Q2275.82 966.231 2273.5 965.791 Q2271.21 965.375 2268.76 964.518 L2268.76 960.004 Q2270.7 961.139 2273.02 961.717 Q2275.33 962.296 2277.85 962.296 Q2282.25 962.296 2284.54 960.56 Q2286.86 958.824 2286.86 955.514 Q2286.86 952.458 2284.7 950.745 Q2282.58 949.009 2278.76 949.009 L2274.73 949.009 L2274.73 945.167 L2278.94 945.167 Q2282.39 945.167 2284.22 943.801 Q2286.05 942.412 2286.05 939.819 Q2286.05 937.157 2284.15 935.745 Q2282.27 934.31 2278.76 934.31 Q2276.83 934.31 2274.64 934.727 Q2272.44 935.143 2269.8 936.023 L2269.8 931.856 Q2272.46 931.116 2274.77 930.745 Q2277.11 930.375 2279.17 930.375 Q2284.5 930.375 2287.6 932.806 Q2290.7 935.213 2290.7 939.333 Q2290.7 942.204 2289.06 944.194 Q2287.41 946.162 2284.38 946.926 Z\" fill=\"#000000\" fill-rule=\"evenodd\" fill-opacity=\"1\" /><path clip-path=\"url(#clip380)\" d=\"M2284.36 754.294 L2272.55 772.743 L2284.36 772.743 L2284.36 754.294 M2283.13 750.22 L2289.01 750.22 L2289.01 772.743 L2293.94 772.743 L2293.94 776.632 L2289.01 776.632 L2289.01 784.78 L2284.36 784.78 L2284.36 776.632 L2268.76 776.632 L2268.76 772.118 L2283.13 750.22 Z\" fill=\"#000000\" fill-rule=\"evenodd\" fill-opacity=\"1\" /><path clip-path=\"url(#clip380)\" d=\"M2270.21 569.441 L2288.57 569.441 L2288.57 573.376 L2274.5 573.376 L2274.5 581.848 Q2275.52 581.501 2276.53 581.339 Q2277.55 581.154 2278.57 581.154 Q2284.36 581.154 2287.74 584.325 Q2291.12 587.496 2291.12 592.913 Q2291.12 598.492 2287.64 601.593 Q2284.17 604.672 2277.85 604.672 Q2275.68 604.672 2273.41 604.302 Q2271.16 603.931 2268.76 603.191 L2268.76 598.492 Q2270.84 599.626 2273.06 600.181 Q2275.28 600.737 2277.76 600.737 Q2281.77 600.737 2284.1 598.631 Q2286.44 596.524 2286.44 592.913 Q2286.44 589.302 2284.1 587.195 Q2281.77 585.089 2277.76 585.089 Q2275.89 585.089 2274.01 585.506 Q2272.16 585.922 2270.21 586.802 L2270.21 569.441 Z\" fill=\"#000000\" fill-rule=\"evenodd\" fill-opacity=\"1\" /><path clip-path=\"url(#clip380)\" d=\"M2281.09 404.078 Q2277.95 404.078 2276.09 406.231 Q2274.27 408.383 2274.27 412.133 Q2274.27 415.86 2276.09 418.036 Q2277.95 420.189 2281.09 420.189 Q2284.24 420.189 2286.07 418.036 Q2287.92 415.86 2287.92 412.133 Q2287.92 408.383 2286.07 406.231 Q2284.24 404.078 2281.09 404.078 M2290.38 389.425 L2290.38 393.684 Q2288.62 392.851 2286.81 392.411 Q2285.03 391.971 2283.27 391.971 Q2278.64 391.971 2276.19 395.096 Q2273.76 398.221 2273.41 404.541 Q2274.77 402.527 2276.83 401.462 Q2278.89 400.374 2281.37 400.374 Q2286.58 400.374 2289.59 403.545 Q2292.62 406.694 2292.62 412.133 Q2292.62 417.457 2289.47 420.675 Q2286.33 423.893 2281.09 423.893 Q2275.1 423.893 2271.93 419.309 Q2268.76 414.703 2268.76 405.976 Q2268.76 397.782 2272.64 392.921 Q2276.53 388.036 2283.08 388.036 Q2284.84 388.036 2286.63 388.384 Q2288.43 388.731 2290.38 389.425 Z\" fill=\"#000000\" fill-rule=\"evenodd\" fill-opacity=\"1\" /><path clip-path=\"url(#clip380)\" d=\"M2268.76 207.882 L2290.98 207.882 L2290.98 209.872 L2278.43 242.442 L2273.55 242.442 L2285.35 211.817 L2268.76 211.817 L2268.76 207.882 Z\" fill=\"#000000\" fill-rule=\"evenodd\" fill-opacity=\"1\" /><path clip-path=\"url(#clip380)\" d=\"M2280.61 45.2503 Q2277.27 45.2503 2275.35 47.0327 Q2273.45 48.815 2273.45 51.94 Q2273.45 55.065 2275.35 56.8474 Q2277.27 58.6298 2280.61 58.6298 Q2283.94 58.6298 2285.86 56.8474 Q2287.78 55.0419 2287.78 51.94 Q2287.78 48.815 2285.86 47.0327 Q2283.96 45.2503 2280.61 45.2503 M2275.93 43.2595 Q2272.92 42.5188 2271.23 40.4586 Q2269.57 38.3984 2269.57 35.4355 Q2269.57 31.292 2272.51 28.8846 Q2275.47 26.4772 2280.61 26.4772 Q2285.77 26.4772 2288.71 28.8846 Q2291.65 31.292 2291.65 35.4355 Q2291.65 38.3984 2289.96 40.4586 Q2288.29 42.5188 2285.31 43.2595 Q2288.69 44.0466 2290.56 46.3382 Q2292.46 48.6299 2292.46 51.94 Q2292.46 56.9632 2289.38 59.6483 Q2286.33 62.3335 2280.61 62.3335 Q2274.89 62.3335 2271.81 59.6483 Q2268.76 56.9632 2268.76 51.94 Q2268.76 48.6299 2270.65 46.3382 Q2272.55 44.0466 2275.93 43.2595 M2274.22 35.8753 Q2274.22 38.5605 2275.89 40.0651 Q2277.58 41.5697 2280.61 41.5697 Q2283.62 41.5697 2285.31 40.0651 Q2287.02 38.5605 2287.02 35.8753 Q2287.02 33.1901 2285.31 31.6855 Q2283.62 30.1809 2280.61 30.1809 Q2277.58 30.1809 2275.89 31.6855 Q2274.22 33.1901 2274.22 35.8753 Z\" fill=\"#000000\" fill-rule=\"evenodd\" fill-opacity=\"1\" /><polyline clip-path=\"url(#clip380)\" style=\"stroke:#000000; stroke-linecap:round; stroke-linejoin:round; stroke-width:4; stroke-opacity:1; fill:none\" points=\"\n",
       "  2232.76,1486.45 2232.76,1313.47 2256.76,1313.47 2232.76,1313.47 2232.76,1132.69 2256.76,1132.69 2232.76,1132.69 2232.76,951.909 2256.76,951.909 2232.76,951.909 \n",
       "  2232.76,771.129 2256.76,771.129 2232.76,771.129 2232.76,590.35 2256.76,590.35 2232.76,590.35 2232.76,409.57 2256.76,409.57 2232.76,409.57 2232.76,228.791 \n",
       "  2256.76,228.791 2232.76,228.791 2232.76,48.011 2256.76,48.011 2232.76,48.011 2232.76,47.2441 \n",
       "  \"/>\n",
       "</svg>\n"
      ]
     },
     "execution_count": 29,
     "metadata": {},
     "output_type": "execute_result"
    }
   ],
   "source": [
    "heatmap(my_svd_approx(irisM, 2))"
   ]
  },
  {
   "cell_type": "code",
   "execution_count": 30,
   "id": "8f44d969-606a-4324-afe8-28eca5d79451",
   "metadata": {},
   "outputs": [
    {
     "data": {
      "image/svg+xml": [
       "<?xml version=\"1.0\" encoding=\"utf-8\"?>\n",
       "<svg xmlns=\"http://www.w3.org/2000/svg\" xmlns:xlink=\"http://www.w3.org/1999/xlink\" width=\"600\" height=\"400\" viewBox=\"0 0 2400 1600\">\n",
       "<defs>\n",
       "  <clipPath id=\"clip420\">\n",
       "    <rect x=\"0\" y=\"0\" width=\"2400\" height=\"1600\"/>\n",
       "  </clipPath>\n",
       "</defs>\n",
       "<path clip-path=\"url(#clip420)\" d=\"\n",
       "M0 1600 L2400 1600 L2400 0 L0 0  Z\n",
       "  \" fill=\"#ffffff\" fill-rule=\"evenodd\" fill-opacity=\"1\"/>\n",
       "<defs>\n",
       "  <clipPath id=\"clip421\">\n",
       "    <rect x=\"480\" y=\"0\" width=\"1681\" height=\"1600\"/>\n",
       "  </clipPath>\n",
       "</defs>\n",
       "<path clip-path=\"url(#clip420)\" d=\"\n",
       "M169.121 1486.45 L2112.76 1486.45 L2112.76 47.2441 L169.121 47.2441  Z\n",
       "  \" fill=\"#ffffff\" fill-rule=\"evenodd\" fill-opacity=\"1\"/>\n",
       "<defs>\n",
       "  <clipPath id=\"clip422\">\n",
       "    <rect x=\"169\" y=\"47\" width=\"1945\" height=\"1440\"/>\n",
       "  </clipPath>\n",
       "</defs>\n",
       "<polyline clip-path=\"url(#clip422)\" style=\"stroke:#000000; stroke-linecap:round; stroke-linejoin:round; stroke-width:2; stroke-opacity:0.1; fill:none\" points=\"\n",
       "  412.076,1486.45 412.076,47.2441 \n",
       "  \"/>\n",
       "<polyline clip-path=\"url(#clip422)\" style=\"stroke:#000000; stroke-linecap:round; stroke-linejoin:round; stroke-width:2; stroke-opacity:0.1; fill:none\" points=\"\n",
       "  897.984,1486.45 897.984,47.2441 \n",
       "  \"/>\n",
       "<polyline clip-path=\"url(#clip422)\" style=\"stroke:#000000; stroke-linecap:round; stroke-linejoin:round; stroke-width:2; stroke-opacity:0.1; fill:none\" points=\"\n",
       "  1383.89,1486.45 1383.89,47.2441 \n",
       "  \"/>\n",
       "<polyline clip-path=\"url(#clip422)\" style=\"stroke:#000000; stroke-linecap:round; stroke-linejoin:round; stroke-width:2; stroke-opacity:0.1; fill:none\" points=\"\n",
       "  1869.8,1486.45 1869.8,47.2441 \n",
       "  \"/>\n",
       "<polyline clip-path=\"url(#clip420)\" style=\"stroke:#000000; stroke-linecap:round; stroke-linejoin:round; stroke-width:4; stroke-opacity:1; fill:none\" points=\"\n",
       "  169.121,1486.45 2112.76,1486.45 \n",
       "  \"/>\n",
       "<polyline clip-path=\"url(#clip420)\" style=\"stroke:#000000; stroke-linecap:round; stroke-linejoin:round; stroke-width:4; stroke-opacity:1; fill:none\" points=\"\n",
       "  412.076,1486.45 412.076,1467.55 \n",
       "  \"/>\n",
       "<polyline clip-path=\"url(#clip420)\" style=\"stroke:#000000; stroke-linecap:round; stroke-linejoin:round; stroke-width:4; stroke-opacity:1; fill:none\" points=\"\n",
       "  897.984,1486.45 897.984,1467.55 \n",
       "  \"/>\n",
       "<polyline clip-path=\"url(#clip420)\" style=\"stroke:#000000; stroke-linecap:round; stroke-linejoin:round; stroke-width:4; stroke-opacity:1; fill:none\" points=\"\n",
       "  1383.89,1486.45 1383.89,1467.55 \n",
       "  \"/>\n",
       "<polyline clip-path=\"url(#clip420)\" style=\"stroke:#000000; stroke-linecap:round; stroke-linejoin:round; stroke-width:4; stroke-opacity:1; fill:none\" points=\"\n",
       "  1869.8,1486.45 1869.8,1467.55 \n",
       "  \"/>\n",
       "<path clip-path=\"url(#clip420)\" d=\"M402.458 1544.91 L410.096 1544.91 L410.096 1518.55 L401.786 1520.21 L401.786 1515.95 L410.05 1514.29 L414.726 1514.29 L414.726 1544.91 L422.365 1544.91 L422.365 1548.85 L402.458 1548.85 L402.458 1544.91 Z\" fill=\"#000000\" fill-rule=\"evenodd\" fill-opacity=\"1\" /><path clip-path=\"url(#clip420)\" d=\"M892.637 1544.91 L908.956 1544.91 L908.956 1548.85 L887.012 1548.85 L887.012 1544.91 Q889.674 1542.16 894.257 1537.53 Q898.864 1532.88 900.044 1531.53 Q902.29 1529.01 903.169 1527.27 Q904.072 1525.51 904.072 1523.82 Q904.072 1521.07 902.128 1519.33 Q900.206 1517.6 897.105 1517.6 Q894.906 1517.6 892.452 1518.36 Q890.021 1519.13 887.244 1520.68 L887.244 1515.95 Q890.068 1514.82 892.521 1514.24 Q894.975 1513.66 897.012 1513.66 Q902.382 1513.66 905.577 1516.35 Q908.771 1519.03 908.771 1523.52 Q908.771 1525.65 907.961 1527.57 Q907.174 1529.47 905.068 1532.07 Q904.489 1532.74 901.387 1535.95 Q898.285 1539.15 892.637 1544.91 Z\" fill=\"#000000\" fill-rule=\"evenodd\" fill-opacity=\"1\" /><path clip-path=\"url(#clip420)\" d=\"M1388.14 1530.21 Q1391.5 1530.93 1393.37 1533.2 Q1395.27 1535.47 1395.27 1538.8 Q1395.27 1543.92 1391.75 1546.72 Q1388.23 1549.52 1381.75 1549.52 Q1379.58 1549.52 1377.26 1549.08 Q1374.97 1548.66 1372.52 1547.81 L1372.52 1543.29 Q1374.46 1544.43 1376.77 1545.01 Q1379.09 1545.58 1381.61 1545.58 Q1386.01 1545.58 1388.3 1543.85 Q1390.62 1542.11 1390.62 1538.8 Q1390.62 1535.75 1388.46 1534.03 Q1386.34 1532.3 1382.52 1532.3 L1378.49 1532.3 L1378.49 1528.45 L1382.7 1528.45 Q1386.15 1528.45 1387.98 1527.09 Q1389.81 1525.7 1389.81 1523.11 Q1389.81 1520.45 1387.91 1519.03 Q1386.03 1517.6 1382.52 1517.6 Q1380.59 1517.6 1378.4 1518.01 Q1376.2 1518.43 1373.56 1519.31 L1373.56 1515.14 Q1376.22 1514.4 1378.53 1514.03 Q1380.87 1513.66 1382.93 1513.66 Q1388.26 1513.66 1391.36 1516.09 Q1394.46 1518.5 1394.46 1522.62 Q1394.46 1525.49 1392.82 1527.48 Q1391.17 1529.45 1388.14 1530.21 Z\" fill=\"#000000\" fill-rule=\"evenodd\" fill-opacity=\"1\" /><path clip-path=\"url(#clip420)\" d=\"M1872.81 1518.36 L1861.01 1536.81 L1872.81 1536.81 L1872.81 1518.36 M1871.58 1514.29 L1877.46 1514.29 L1877.46 1536.81 L1882.39 1536.81 L1882.39 1540.7 L1877.46 1540.7 L1877.46 1548.85 L1872.81 1548.85 L1872.81 1540.7 L1857.21 1540.7 L1857.21 1536.19 L1871.58 1514.29 Z\" fill=\"#000000\" fill-rule=\"evenodd\" fill-opacity=\"1\" /><polyline clip-path=\"url(#clip422)\" style=\"stroke:#000000; stroke-linecap:round; stroke-linejoin:round; stroke-width:2; stroke-opacity:0.1; fill:none\" points=\"\n",
       "  169.121,1299.35 2112.76,1299.35 \n",
       "  \"/>\n",
       "<polyline clip-path=\"url(#clip422)\" style=\"stroke:#000000; stroke-linecap:round; stroke-linejoin:round; stroke-width:2; stroke-opacity:0.1; fill:none\" points=\"\n",
       "  169.121,1107.46 2112.76,1107.46 \n",
       "  \"/>\n",
       "<polyline clip-path=\"url(#clip422)\" style=\"stroke:#000000; stroke-linecap:round; stroke-linejoin:round; stroke-width:2; stroke-opacity:0.1; fill:none\" points=\"\n",
       "  169.121,915.564 2112.76,915.564 \n",
       "  \"/>\n",
       "<polyline clip-path=\"url(#clip422)\" style=\"stroke:#000000; stroke-linecap:round; stroke-linejoin:round; stroke-width:2; stroke-opacity:0.1; fill:none\" points=\"\n",
       "  169.121,723.67 2112.76,723.67 \n",
       "  \"/>\n",
       "<polyline clip-path=\"url(#clip422)\" style=\"stroke:#000000; stroke-linecap:round; stroke-linejoin:round; stroke-width:2; stroke-opacity:0.1; fill:none\" points=\"\n",
       "  169.121,531.776 2112.76,531.776 \n",
       "  \"/>\n",
       "<polyline clip-path=\"url(#clip422)\" style=\"stroke:#000000; stroke-linecap:round; stroke-linejoin:round; stroke-width:2; stroke-opacity:0.1; fill:none\" points=\"\n",
       "  169.121,339.882 2112.76,339.882 \n",
       "  \"/>\n",
       "<polyline clip-path=\"url(#clip422)\" style=\"stroke:#000000; stroke-linecap:round; stroke-linejoin:round; stroke-width:2; stroke-opacity:0.1; fill:none\" points=\"\n",
       "  169.121,147.988 2112.76,147.988 \n",
       "  \"/>\n",
       "<polyline clip-path=\"url(#clip420)\" style=\"stroke:#000000; stroke-linecap:round; stroke-linejoin:round; stroke-width:4; stroke-opacity:1; fill:none\" points=\"\n",
       "  169.121,1486.45 169.121,47.2441 \n",
       "  \"/>\n",
       "<polyline clip-path=\"url(#clip420)\" style=\"stroke:#000000; stroke-linecap:round; stroke-linejoin:round; stroke-width:4; stroke-opacity:1; fill:none\" points=\"\n",
       "  169.121,1299.35 185.942,1299.35 \n",
       "  \"/>\n",
       "<polyline clip-path=\"url(#clip420)\" style=\"stroke:#000000; stroke-linecap:round; stroke-linejoin:round; stroke-width:4; stroke-opacity:1; fill:none\" points=\"\n",
       "  169.121,1107.46 185.942,1107.46 \n",
       "  \"/>\n",
       "<polyline clip-path=\"url(#clip420)\" style=\"stroke:#000000; stroke-linecap:round; stroke-linejoin:round; stroke-width:4; stroke-opacity:1; fill:none\" points=\"\n",
       "  169.121,915.564 185.942,915.564 \n",
       "  \"/>\n",
       "<polyline clip-path=\"url(#clip420)\" style=\"stroke:#000000; stroke-linecap:round; stroke-linejoin:round; stroke-width:4; stroke-opacity:1; fill:none\" points=\"\n",
       "  169.121,723.67 185.942,723.67 \n",
       "  \"/>\n",
       "<polyline clip-path=\"url(#clip420)\" style=\"stroke:#000000; stroke-linecap:round; stroke-linejoin:round; stroke-width:4; stroke-opacity:1; fill:none\" points=\"\n",
       "  169.121,531.776 185.942,531.776 \n",
       "  \"/>\n",
       "<polyline clip-path=\"url(#clip420)\" style=\"stroke:#000000; stroke-linecap:round; stroke-linejoin:round; stroke-width:4; stroke-opacity:1; fill:none\" points=\"\n",
       "  169.121,339.882 185.942,339.882 \n",
       "  \"/>\n",
       "<polyline clip-path=\"url(#clip420)\" style=\"stroke:#000000; stroke-linecap:round; stroke-linejoin:round; stroke-width:4; stroke-opacity:1; fill:none\" points=\"\n",
       "  169.121,147.988 185.942,147.988 \n",
       "  \"/>\n",
       "<path clip-path=\"url(#clip420)\" d=\"M85.0429 1312.7 L101.362 1312.7 L101.362 1316.63 L79.4179 1316.63 L79.4179 1312.7 Q82.0799 1309.94 86.6632 1305.31 Q91.2697 1300.66 92.4502 1299.32 Q94.6956 1296.79 95.5752 1295.06 Q96.478 1293.3 96.478 1291.61 Q96.478 1288.85 94.5336 1287.12 Q92.6123 1285.38 89.5104 1285.38 Q87.3114 1285.38 84.8577 1286.15 Q82.4271 1286.91 79.6494 1288.46 L79.6494 1283.74 Q82.4734 1282.6 84.9271 1282.03 Q87.3808 1281.45 89.4178 1281.45 Q94.7882 1281.45 97.9826 1284.13 Q101.177 1286.82 101.177 1291.31 Q101.177 1293.44 100.367 1295.36 Q99.5798 1297.26 97.4734 1299.85 Q96.8947 1300.52 93.7928 1303.74 Q90.691 1306.93 85.0429 1312.7 Z\" fill=\"#000000\" fill-rule=\"evenodd\" fill-opacity=\"1\" /><path clip-path=\"url(#clip420)\" d=\"M121.177 1285.15 Q117.566 1285.15 115.737 1288.71 Q113.932 1292.26 113.932 1299.39 Q113.932 1306.49 115.737 1310.06 Q117.566 1313.6 121.177 1313.6 Q124.811 1313.6 126.617 1310.06 Q128.445 1306.49 128.445 1299.39 Q128.445 1292.26 126.617 1288.71 Q124.811 1285.15 121.177 1285.15 M121.177 1281.45 Q126.987 1281.45 130.043 1286.05 Q133.121 1290.64 133.121 1299.39 Q133.121 1308.11 130.043 1312.72 Q126.987 1317.3 121.177 1317.3 Q115.367 1317.3 112.288 1312.72 Q109.233 1308.11 109.233 1299.39 Q109.233 1290.64 112.288 1286.05 Q115.367 1281.45 121.177 1281.45 Z\" fill=\"#000000\" fill-rule=\"evenodd\" fill-opacity=\"1\" /><path clip-path=\"url(#clip420)\" d=\"M93.8623 1094.25 L82.0568 1112.7 L93.8623 1112.7 L93.8623 1094.25 M92.6354 1090.18 L98.515 1090.18 L98.515 1112.7 L103.446 1112.7 L103.446 1116.59 L98.515 1116.59 L98.515 1124.74 L93.8623 1124.74 L93.8623 1116.59 L78.2605 1116.59 L78.2605 1112.08 L92.6354 1090.18 Z\" fill=\"#000000\" fill-rule=\"evenodd\" fill-opacity=\"1\" /><path clip-path=\"url(#clip420)\" d=\"M121.177 1093.26 Q117.566 1093.26 115.737 1096.82 Q113.932 1100.36 113.932 1107.49 Q113.932 1114.6 115.737 1118.16 Q117.566 1121.71 121.177 1121.71 Q124.811 1121.71 126.617 1118.16 Q128.445 1114.6 128.445 1107.49 Q128.445 1100.36 126.617 1096.82 Q124.811 1093.26 121.177 1093.26 M121.177 1089.55 Q126.987 1089.55 130.043 1094.16 Q133.121 1098.74 133.121 1107.49 Q133.121 1116.22 130.043 1120.83 Q126.987 1125.41 121.177 1125.41 Q115.367 1125.41 112.288 1120.83 Q109.233 1116.22 109.233 1107.49 Q109.233 1098.74 112.288 1094.16 Q115.367 1089.55 121.177 1089.55 Z\" fill=\"#000000\" fill-rule=\"evenodd\" fill-opacity=\"1\" /><path clip-path=\"url(#clip420)\" d=\"M91.5938 913.7 Q88.4456 913.7 86.5938 915.853 Q84.7651 918.006 84.7651 921.756 Q84.7651 925.483 86.5938 927.659 Q88.4456 929.811 91.5938 929.811 Q94.7419 929.811 96.5706 927.659 Q98.4224 925.483 98.4224 921.756 Q98.4224 918.006 96.5706 915.853 Q94.7419 913.7 91.5938 913.7 M100.876 899.048 L100.876 903.307 Q99.1169 902.474 97.3113 902.034 Q95.5289 901.594 93.7697 901.594 Q89.1401 901.594 86.6864 904.719 Q84.2558 907.844 83.9086 914.163 Q85.2743 912.149 87.3345 911.085 Q89.3947 909.997 91.8715 909.997 Q97.0798 909.997 100.089 913.168 Q103.121 916.316 103.121 921.756 Q103.121 927.08 99.9733 930.297 Q96.8252 933.515 91.5938 933.515 Q85.5984 933.515 82.4271 928.932 Q79.2559 924.325 79.2559 915.598 Q79.2559 907.404 83.1447 902.543 Q87.0336 897.659 93.5845 897.659 Q95.3437 897.659 97.1261 898.006 Q98.9317 898.353 100.876 899.048 Z\" fill=\"#000000\" fill-rule=\"evenodd\" fill-opacity=\"1\" /><path clip-path=\"url(#clip420)\" d=\"M121.177 901.362 Q117.566 901.362 115.737 904.927 Q113.932 908.469 113.932 915.598 Q113.932 922.705 115.737 926.27 Q117.566 929.811 121.177 929.811 Q124.811 929.811 126.617 926.27 Q128.445 922.705 128.445 915.598 Q128.445 908.469 126.617 904.927 Q124.811 901.362 121.177 901.362 M121.177 897.659 Q126.987 897.659 130.043 902.265 Q133.121 906.848 133.121 915.598 Q133.121 924.325 130.043 928.932 Q126.987 933.515 121.177 933.515 Q115.367 933.515 112.288 928.932 Q109.233 924.325 109.233 915.598 Q109.233 906.848 112.288 902.265 Q115.367 897.659 121.177 897.659 Z\" fill=\"#000000\" fill-rule=\"evenodd\" fill-opacity=\"1\" /><path clip-path=\"url(#clip420)\" d=\"M91.0151 724.538 Q87.6817 724.538 85.7605 726.32 Q83.8623 728.103 83.8623 731.228 Q83.8623 734.353 85.7605 736.135 Q87.6817 737.917 91.0151 737.917 Q94.3484 737.917 96.2697 736.135 Q98.1909 734.33 98.1909 731.228 Q98.1909 728.103 96.2697 726.32 Q94.3715 724.538 91.0151 724.538 M86.3392 722.547 Q83.3299 721.806 81.6401 719.746 Q79.9735 717.686 79.9735 714.723 Q79.9735 710.58 82.9133 708.172 Q85.8762 705.765 91.0151 705.765 Q96.1771 705.765 99.1169 708.172 Q102.057 710.58 102.057 714.723 Q102.057 717.686 100.367 719.746 Q98.7002 721.806 95.7141 722.547 Q99.0937 723.334 100.969 725.626 Q102.867 727.918 102.867 731.228 Q102.867 736.251 99.7882 738.936 Q96.7326 741.621 91.0151 741.621 Q85.2975 741.621 82.2188 738.936 Q79.1633 736.251 79.1633 731.228 Q79.1633 727.918 81.0614 725.626 Q82.9595 723.334 86.3392 722.547 M84.6262 715.163 Q84.6262 717.848 86.2929 719.353 Q87.9827 720.857 91.0151 720.857 Q94.0243 720.857 95.7141 719.353 Q97.4271 717.848 97.4271 715.163 Q97.4271 712.478 95.7141 710.973 Q94.0243 709.469 91.0151 709.469 Q87.9827 709.469 86.2929 710.973 Q84.6262 712.478 84.6262 715.163 Z\" fill=\"#000000\" fill-rule=\"evenodd\" fill-opacity=\"1\" /><path clip-path=\"url(#clip420)\" d=\"M121.177 709.469 Q117.566 709.469 115.737 713.033 Q113.932 716.575 113.932 723.705 Q113.932 730.811 115.737 734.376 Q117.566 737.917 121.177 737.917 Q124.811 737.917 126.617 734.376 Q128.445 730.811 128.445 723.705 Q128.445 716.575 126.617 713.033 Q124.811 709.469 121.177 709.469 M121.177 705.765 Q126.987 705.765 130.043 710.371 Q133.121 714.955 133.121 723.705 Q133.121 732.431 130.043 737.038 Q126.987 741.621 121.177 741.621 Q115.367 741.621 112.288 737.038 Q109.233 732.431 109.233 723.705 Q109.233 714.955 112.288 710.371 Q115.367 705.765 121.177 705.765 Z\" fill=\"#000000\" fill-rule=\"evenodd\" fill-opacity=\"1\" /><path clip-path=\"url(#clip420)\" d=\"M51.6634 545.121 L59.3023 545.121 L59.3023 518.755 L50.9921 520.422 L50.9921 516.163 L59.256 514.496 L63.9319 514.496 L63.9319 545.121 L71.5707 545.121 L71.5707 549.056 L51.6634 549.056 L51.6634 545.121 Z\" fill=\"#000000\" fill-rule=\"evenodd\" fill-opacity=\"1\" /><path clip-path=\"url(#clip420)\" d=\"M91.0151 517.575 Q87.404 517.575 85.5753 521.14 Q83.7697 524.681 83.7697 531.811 Q83.7697 538.917 85.5753 542.482 Q87.404 546.024 91.0151 546.024 Q94.6493 546.024 96.4548 542.482 Q98.2835 538.917 98.2835 531.811 Q98.2835 524.681 96.4548 521.14 Q94.6493 517.575 91.0151 517.575 M91.0151 513.871 Q96.8252 513.871 99.8808 518.477 Q102.959 523.061 102.959 531.811 Q102.959 540.538 99.8808 545.144 Q96.8252 549.727 91.0151 549.727 Q85.2049 549.727 82.1262 545.144 Q79.0707 540.538 79.0707 531.811 Q79.0707 523.061 82.1262 518.477 Q85.2049 513.871 91.0151 513.871 Z\" fill=\"#000000\" fill-rule=\"evenodd\" fill-opacity=\"1\" /><path clip-path=\"url(#clip420)\" d=\"M121.177 517.575 Q117.566 517.575 115.737 521.14 Q113.932 524.681 113.932 531.811 Q113.932 538.917 115.737 542.482 Q117.566 546.024 121.177 546.024 Q124.811 546.024 126.617 542.482 Q128.445 538.917 128.445 531.811 Q128.445 524.681 126.617 521.14 Q124.811 517.575 121.177 517.575 M121.177 513.871 Q126.987 513.871 130.043 518.477 Q133.121 523.061 133.121 531.811 Q133.121 540.538 130.043 545.144 Q126.987 549.727 121.177 549.727 Q115.367 549.727 112.288 545.144 Q109.233 540.538 109.233 531.811 Q109.233 523.061 112.288 518.477 Q115.367 513.871 121.177 513.871 Z\" fill=\"#000000\" fill-rule=\"evenodd\" fill-opacity=\"1\" /><path clip-path=\"url(#clip420)\" d=\"M51.6634 353.227 L59.3023 353.227 L59.3023 326.861 L50.9921 328.528 L50.9921 324.269 L59.256 322.602 L63.9319 322.602 L63.9319 353.227 L71.5707 353.227 L71.5707 357.162 L51.6634 357.162 L51.6634 353.227 Z\" fill=\"#000000\" fill-rule=\"evenodd\" fill-opacity=\"1\" /><path clip-path=\"url(#clip420)\" d=\"M85.0429 353.227 L101.362 353.227 L101.362 357.162 L79.4179 357.162 L79.4179 353.227 Q82.0799 350.472 86.6632 345.843 Q91.2697 341.19 92.4502 339.847 Q94.6956 337.324 95.5752 335.588 Q96.478 333.829 96.478 332.139 Q96.478 329.385 94.5336 327.648 Q92.6123 325.912 89.5104 325.912 Q87.3114 325.912 84.8577 326.676 Q82.4271 327.44 79.6494 328.991 L79.6494 324.269 Q82.4734 323.135 84.9271 322.556 Q87.3808 321.977 89.4178 321.977 Q94.7882 321.977 97.9826 324.662 Q101.177 327.348 101.177 331.838 Q101.177 333.968 100.367 335.889 Q99.5798 337.787 97.4734 340.38 Q96.8947 341.051 93.7928 344.269 Q90.691 347.463 85.0429 353.227 Z\" fill=\"#000000\" fill-rule=\"evenodd\" fill-opacity=\"1\" /><path clip-path=\"url(#clip420)\" d=\"M121.177 325.681 Q117.566 325.681 115.737 329.246 Q113.932 332.787 113.932 339.917 Q113.932 347.023 115.737 350.588 Q117.566 354.13 121.177 354.13 Q124.811 354.13 126.617 350.588 Q128.445 347.023 128.445 339.917 Q128.445 332.787 126.617 329.246 Q124.811 325.681 121.177 325.681 M121.177 321.977 Q126.987 321.977 130.043 326.584 Q133.121 331.167 133.121 339.917 Q133.121 348.644 130.043 353.25 Q126.987 357.833 121.177 357.833 Q115.367 357.833 112.288 353.25 Q109.233 348.644 109.233 339.917 Q109.233 331.167 112.288 326.584 Q115.367 321.977 121.177 321.977 Z\" fill=\"#000000\" fill-rule=\"evenodd\" fill-opacity=\"1\" /><path clip-path=\"url(#clip420)\" d=\"M51.6634 161.333 L59.3023 161.333 L59.3023 134.968 L50.9921 136.634 L50.9921 132.375 L59.256 130.708 L63.9319 130.708 L63.9319 161.333 L71.5707 161.333 L71.5707 165.268 L51.6634 165.268 L51.6634 161.333 Z\" fill=\"#000000\" fill-rule=\"evenodd\" fill-opacity=\"1\" /><path clip-path=\"url(#clip420)\" d=\"M93.8623 134.782 L82.0568 153.231 L93.8623 153.231 L93.8623 134.782 M92.6354 130.708 L98.515 130.708 L98.515 153.231 L103.446 153.231 L103.446 157.12 L98.515 157.12 L98.515 165.268 L93.8623 165.268 L93.8623 157.12 L78.2605 157.12 L78.2605 152.606 L92.6354 130.708 Z\" fill=\"#000000\" fill-rule=\"evenodd\" fill-opacity=\"1\" /><path clip-path=\"url(#clip420)\" d=\"M121.177 133.787 Q117.566 133.787 115.737 137.352 Q113.932 140.893 113.932 148.023 Q113.932 155.13 115.737 158.694 Q117.566 162.236 121.177 162.236 Q124.811 162.236 126.617 158.694 Q128.445 155.13 128.445 148.023 Q128.445 140.893 126.617 137.352 Q124.811 133.787 121.177 133.787 M121.177 130.083 Q126.987 130.083 130.043 134.69 Q133.121 139.273 133.121 148.023 Q133.121 156.75 130.043 161.356 Q126.987 165.94 121.177 165.94 Q115.367 165.94 112.288 161.356 Q109.233 156.75 109.233 148.023 Q109.233 139.273 112.288 134.69 Q115.367 130.083 121.177 130.083 Z\" fill=\"#000000\" fill-rule=\"evenodd\" fill-opacity=\"1\" /><g clip-path=\"url(#clip422)\">\n",
       "<image width=\"1944\" height=\"1439\" xlink:href=\"data:image/png;base64,\n",
       "iVBORw0KGgoAAAANSUhEUgAAB5gAAAWfCAYAAAB+xCq9AAAgAElEQVR4nOzb6+vedR3H8a7tO3/b\n",
       "dG5t/lw72NSl1dSlaGlKaSaFphTdUSNXKyohkygKIgkiIoioqOh8wgyljG5EZUmheQhPpbZ0zpYu\n",
       "1zbdQdyam7rt6sb19v7r3rvg8fgLXnc/PD/v0Qenrx6/BAD4n/D1T/ywewIAUDbeckb3BACg7N03\n",
       "p3sCAFBmdA8AAAAAAAAA4P+DwAwAAAAAAABARGAGAAAAAAAAICIwAwAAAAAAABARmAEAAAAAAACI\n",
       "CMwAAAAAAAAARARmAAAAAAAAACICMwAAAAAAAAARgRkAAAAAAACAyHDX3p3dGwCA8tx73tU9AQAo\n",
       "T/5yR/cEAKC8/ltPdk8AAIoLZgAAAAAAAAAiAjMAAAAAAAAAEYEZAAAAAAAAgIjADAAAAAAAAEBE\n",
       "YAYAAAAAAAAgIjADAAAAAAAAEBGYAQAAAAAAAIgIzAAAAAAAAABEBGYAAAAAAAAAIqNfnHrFuHsE\n",
       "ADCxfP6u7gkAQHlkx+LuCQBAufDsO7snAADFBTMAAAAAAAAAEYEZAAAAAAAAgIjADAAAAAAAAEBE\n",
       "YAYAAAAAAAAgIjADAAAAAAAAEBGYAQAAAAAAAIgIzAAAAAAAAABEBGYAAAAAAAAAIsPZqx/o3gAA\n",
       "lC/efF73BACgTM8+2D0BACi7th7dPQEAKC6YAQAAAAAAAIgIzAAAAAAAAABEBGYAAAAAAAAAIgIz\n",
       "AAAAAAAAABGBGQAAAAAAAICIwAwAAAAAAABARGAGAAAAAAAAICIwAwAAAAAAABARmAEAAAAAAACI\n",
       "DP/YeFz3BgCgvHX5k90TAIDy282LuycAAOXlnz/UPQEAKC6YAQAAAAAAAIgIzAAAAAAAAABEBGYA\n",
       "AAAAAAAAIgIzAAAAAAAAABGBGQAAAAAAAICIwAwAAAAAAABARGAGAAAAAAAAICIwAwAAAAAAABAZ\n",
       "fr5xRfcGAKB86VPf7Z4AAJTHv7mmewIAUA4cdVz3BACguGAGAAAAAAAAICIwAwAAAAAAABARmAEA\n",
       "AAAAAACICMwAAAAAAAAARARmAAAAAAAAACICMwAAAAAAAAARgRkAAAAAAACAiMAMAAAAAAAAQERg\n",
       "BgAAAAAAACAyLJw61L0BACh7Ny7pngAAlOVH7OmeAACU8Vdv654AABQXzAAAAAAAAABEBGYAAAAA\n",
       "AAAAIgIzAAAAAAAAABGBGQAAAAAAAICIwAwAAAAAAABARGAGAAAAAAAAICIwAwAAAAAAABARmAEA\n",
       "AAAAAACICMwAAAAAAAAARIY5Mw91bwAAyv5njuieAACUww97rnsCAFC2PXJs9wQAoLhgBgAAAAAA\n",
       "ACAiMAMAAAAAAAAQEZgBAAAAAAAAiAjMAAAAAAAAAEQEZgAAAAAAAAAiAjMAAAAAAAAAEYEZAAAA\n",
       "AAAAgIjADAAAAAAAAEBk9MBbLhh3jwAAJtZtWd49AQAov996ZPcEAKB84/4d3RMAgOKCGQAAAAAA\n",
       "AICIwAwAAAAAAABARGAGAAAAAAAAICIwAwAAAAAAABARmAEAAAAAAACICMwAAAAAAAAARARmAAAA\n",
       "AAAAACICMwAAAAAAAAARgRkAAAAAAACAyHDnpuO7NwAA5ZLT7+2eAACUbfvO7J4AAJSpf97XPQEA\n",
       "KC6YAQAAAAAAAIgIzAAAAAAAAABEBGYAAAAAAAAAIgIzAAAAAAAAABGBGQAAAAAAAICIwAwAAAAA\n",
       "AABARGAGAAAAAAAAICIwAwAAAAAAABAZVi16qnsDAFDuW//q7gkAQDlsxqHuCQBA2XvjC90TAIDi\n",
       "ghkAAAAAAACAiMAMAAAAAAAAQERgBgAAAAAAACAiMAMAAAAAAAAQEZgBAAAAAAAAiAjMAAAAAAAA\n",
       "AEQEZgAAAAAAAAAiAjMAAAAAAAAAEYEZAAAAAAAAgMjw521LuzcAAGXtebd2TwAAyux1J3VPAADK\n",
       "vqfndU8AAIoLZgAAAAAAAAAiAjMAAAAAAAAAEYEZAAAAAAAAgIjADAAAAAAAAEBEYAYAAAAAAAAg\n",
       "IjADAAAAAAAAEBGYAQAAAAAAAIgIzAAAAAAAAABEBGYAAAAAAAAAIsPeAzO7NwAAZeasA90TAICy\n",
       "cunm7gkAQPnNfa/tngAAFBfMAAAAAAAAAEQEZgAAAAAAAAAiAjMAAAAAAAAAEYEZAAAAAAAAgIjA\n",
       "DAAAAAAAAEBEYAYAAAAAAAAgIjADAAAAAAAAEBGYAQAAAAAAAIiMVs+9fNw9AgCYuO1fR3VPAADK\n",
       "vRdv6Z4AAJTX/3hP9wQAoLhgBgAAAAAAACAiMAMAAAAAAAAQEZgBAAAAAAAAiAjMAAAAAAAAAEQE\n",
       "ZgAAAAAAAAAiAjMAAAAAAAAAEYEZAAAAAAAAgIjADAAAAAAAAEBEYAYAAAAAAAAgMtrzyWXj7hEA\n",
       "wMTa77yzewIAUE6Y170AAHjRe0+7v3sCAFBcMAMAAAAAAAAQEZgBAAAAAAAAiAjMAAAAAAAAAEQE\n",
       "ZgAAAAAAAAAiAjMAAAAAAAAAEYEZAAAAAAAAgIjADAAAAAAAAEBEYAYAAAAAAAAgMvrpyWvH3SMA\n",
       "gInpuf/pngAAlLPPv717AgBQjvzi3u4JAEBxwQwAAAAAAABARGAGAAAAAAAAICIwAwAAAAAAABAR\n",
       "mAEAAAAAAACICMwAAAAAAAAARARmAAAAAAAAACICMwAAAAAAAAARgRkAAAAAAACAiMAMAAAAAAAA\n",
       "QGRYMu+Z7g0AQNmyZ373BACg/PMvJ3VPAADKmpeu6p4AABQXzAAAAAAAAABEBGYAAAAAAAAAIgIz\n",
       "AAAAAAAAABGBGQAAAAAAAICIwAwAAAAAAABARGAGAAAAAAAAICIwAwAAAAAAABARmAEAAAAAAACI\n",
       "CMwAAAAAAAAARIZ/75nfvQEAKKct39Q9AQAoD2xe0T0BAChfvuzX3RMAgOKCGQAAAAAAAICIwAwA\n",
       "AAAAAABARGAGAAAAAAAAICIwAwAAAAAAABARmAEAAAAAAACICMwAAAAAAAAARARmAAAAAAAAACIC\n",
       "MwAAAAAAAACRYedzU90bAIAyNfV89wQAoJx1wvruCQBA+cqvLuqeAAAUF8wAAAAAAAAARARmAAAA\n",
       "AAAAACICMwAAAAAAAAARgRkAAAAAAACAiMAMAAAAAAAAQERgBgAAAAAAACAiMAMAAAAAAAAQEZgB\n",
       "AAAAAAAAiAjMAAAAAAAAAERGuz9+zLh7BAAwcem3L+meAACUK098pnsCAFBueGxR9wQAoLhgBgAA\n",
       "AAAAACAiMAMAAAAAAAAQEZgBAAAAAAAAiAjMAAAAAAAAAEQEZgAAAAAAAAAiAjMAAAAAAAAAEYEZ\n",
       "AAAAAAAAgIjADAAAAAAAAEBk2P7Y8u4NAEB55ZFD9wQAoBx/9LbuCQBAue/RZ7snAADFBTMAAAAA\n",
       "AAAAEYEZAAAAAAAAgIjADAAAAAAAAEBEYAYAAAAAAAAgIjADAAAAAAAAEBGYAQAAAAAAAIgIzAAA\n",
       "AAAAAABEBGYAAAAAAAAAIgIzAAAAAAAAAJHRdSevHXePAAAmTl6yuXsCAFA27Ty6ewIAUFYds6l7\n",
       "AgBQXDADAAAAAAAAEBGYAQAAAAAAAIgIzAAAAAAAAABEBGYAAAAAAAAAIgIzAAAAAAAAABGBGQAA\n",
       "AAAAAICIwAwAAAAAAABARGAGAAAAAAAAICIwAwAAAAAAABAZtu+f3b0BAChHTe/sngAAlO27F3RP\n",
       "AADKjBkHuycAAMUFMwAAAAAAAAARgRkAAAAAAACAiMAMAAAAAAAAQERgBgAAAAAAACAiMAMAAAAA\n",
       "AAAQEZgBAAAAAAAAiAjMAAAAAAAAAEQEZgAAAAAAAAAiw+mLt3ZvAADKXQ+d1D0BACjPPH9Y9wQA\n",
       "oKycMe6eAAAUF8wAAAAAAAAARARmAAAAAAAAACICMwAAAAAAAAARgRkAAAAAAACAiMAMAAAAAAAA\n",
       "QERgBgAAAAAAACAiMAMAAAAAAAAQEZgBAAAAAAAAiAjMAAAAAAAAAESG3fvndG8AAMow42D3BACg\n",
       "nLNyQ/cEAKBc88fXdU8AAIoLZgAAAAAAAAAiAjMAAAAAAAAAEYEZAAAAAAAAgIjADAAAAAAAAEBE\n",
       "YAYAAAAAAAAgIjADAAAAAAAAEBGYAQAAAAAAAIgIzAAAAAAAAABERh9bevW4ewQAMPG5993QPQEA\n",
       "KA/+6XXdEwCAsmTxU90TAIDighkAAAAAAACAiMAMAAAAAAAAQERgBgAAAAAAACAiMAMAAAAAAAAQ\n",
       "EZgBAAAAAAAAiAjMAAAAAAAAAEQEZgAAAAAAAAAiAjMAAAAAAAAAEYEZAAAAAAAAgMjooYvOG3eP\n",
       "AAAmfrfh1d0TAIAyZzjQPQEAKGcd83j3BACguGAGAAAAAAAAICIwAwAAAAAAABARmAEAAAAAAACI\n",
       "CMwAAAAAAAAARARmAAAAAAAAACICMwAAAAAAAAARgRkAAAAAAACAiMAMAAAAAAAAQERgBgAAAAAA\n",
       "ACAyLDvxse4NAEC56dZV3RMAgHLNqU91TwAAymV3zu+eAAAUF8wAAAAAAAAARARmAAAAAAAAACIC\n",
       "MwAAAAAAAAARgRkAAAAAAACAiMAMAAAAAAAAQERgBgAAAAAAACAiMAMAAAAAAAAQEZgBAAAAAAAA\n",
       "iIw+vPjqcfcIAGDiy5/8fvcEAKD84fpLuicAAOXNl/+qewIAUFwwAwAAAAAAABARmAEAAAAAAACI\n",
       "CMwAAAAAAAAARARmAAAAAAAAACICMwAAAAAAAAARgRkAAAAAAACAiMAMAAAAAAAAQERgBgAAAAAA\n",
       "ACAiMAMAAAAAAAAQGU5b+Gz3BgCgbL7jNd0TAICyZe+87gkAQBnNGHdPAACKC2YAAAAAAAAAIgIz\n",
       "AAAAAAAAABGBGQAAAAAAAICIwAwAAAAAAABARGAGAAAAAAAAICIwAwAAAAAAABARmAEAAAAAAACI\n",
       "CMwAAAAAAAAAREa7rlo57h4BAEy8/9oLuycAAOUDJ+7ongAAlB8+Ot09AQAoLpgBAAAAAAAAiAjM\n",
       "AAAAAAAAAEQEZgAAAAAAAAAiAjMAAAAAAAAAEYEZAAAAAAAAgIjADAAAAAAAAEBEYAYAAAAAAAAg\n",
       "IjADAAAAAAAAEBGYAQAAAAAAAIgMc6af7t4AAJRtL+zrngAAlJ375nRPAADK9OxR9wQAoLhgBgAA\n",
       "AAAAACAiMAMAAAAAAAAQEZgBAAAAAAAAiAjMAAAAAAAAAEQEZgAAAAAAAAAiAjMAAAAAAAAAEYEZ\n",
       "AAAAAAAAgIjADAAAAAAAAEBkuPJr7+7eAACUWz7/ve4JAEDZdf8J3RMAgLLv7jO7JwAAxQUzAAAA\n",
       "AAAAABGBGQAAAAAAAICIwAwAAAAAAABARGAGAAAAAAAAICIwAwAAAAAAABARmAEAAAAAAACICMwA\n",
       "AAAAAAAARARmAAAAAAAAACICMwAAAAAAAACR4Zzpfd0bAICy4Xdnd08AAMqhsT/ZAPC/4sB41D0B\n",
       "ACheywAAAAAAAABEBGYAAAAAAAAAIgIzAAAAAAAAABGBGQAAAAAAAICIwAwAAAAAAABARGAGAAAA\n",
       "AAAAICIwAwAAAAAAABARmAEAAAAAAACICMwAAAAAAAAARIYNe+Z0bwAAyppz7+meAACUn1x7afcE\n",
       "AKCs/dnD3RMAgOKCGQAAAAAAAICIwAwAAAAAAABARGAGAAAAAAAAICIwAwAAAAAAABARmAEAAAAA\n",
       "AACICMwAAAAAAAAARARmAAAAAAAAACICMwAAAAAAAACRYTzungAAvGg0daB7AgBQdj0/q3sCAFBm\n",
       "rf5Q9wQAoLhgBgAAAAAAACAiMAMAAAAAAAAQEZgBAAAAAAAAiAjMAAAAAAAAAEQEZgAAAAAAAAAi\n",
       "AjMAAAAAAAAAEYEZAAAAAAAAgIjADAAAAAAAAEBEYAYAAAAAAAAgMpy6cE/3BgCgPHrzWd0TAICy\n",
       "dO6+7gkAQPnPR6/pngAAFBfMAAAAAAAAAEQEZgAAAAAAAAAiAjMAAAAAAAAAEYEZAAAAAAAAgIjA\n",
       "DAAAAAAAAEBEYAYAAAAAAAAgIjADAAAAAAAAEBGYAQAAAAAAAIgMy47Y3b0BACiPb1/cPQEAKPsP\n",
       "zuyeAACUZ3fN754AABQXzAAAAAAAAABEBGYAAAAAAAAAIgIzAAAAAAAAABGBGQAAAAAAAICIwAwA\n",
       "AAAAAABARGAGAAAAAAAAICIwAwAAAAAAABARmAEAAAAAAACICMwAAAAAAAAARIbDp/Z3bwAAyr92\n",
       "L+ieAACUebNe6J4AAJQNG4/vngAAFBfMAAAAAAAAAEQEZgAAAAAAAAAiAjMAAAAAAAAAEYEZAAAA\n",
       "AAAAgIjADAAAAAAAAEBEYAYAAAAAAAAgIjADAAAAAAAAEBGYAQAAAAAAAIgIzAAAAAAAAABEhru3\n",
       "Lu/eAACUd5x+T/cEAKDcvu6U7gkAQHntm+7sngAAFBfMAAAAAAAAAEQEZgAAAAAAAAAiAjMAAAAA\n",
       "AAAAEYEZAAAAAAAAgIjADAAAAAAAAEBEYAYAAAAAAAAgIjADAAAAAAAAEBGYAQAAAAAAAIgM9++a\n",
       "6t4AAJQrz1/XPQEAKFMPr+qeAACUqTO7FwAAL3LBDAAAAAAAAEBEYAYAAAAAAAAgIjADAAAAAAAA\n",
       "EBGYAQAAAAAAAIgIzAAAAAAAAABEBGYAAAAAAAAAIgIzAAAAAAAAABGBGQAAAAAAAICIwAwAAAAA\n",
       "AABAZLTlitXj7hEAwMRnbjqvewIAUC5buaV7AgBQvrd+afcEAKC4YAYAAAAAAAAgIjADAAAAAAAA\n",
       "EBGYAQAAAAAAAIgIzAAAAAAAAABEBGYAAAAAAAAAIgIzAAAAAAAAABGBGQAAAAAAAICIwAwAAAAA\n",
       "AABAZNj99ILuDQBAOWpq3D0BACjLFm3vngAAlHsO7O+eAAAUF8wAAAAAAAAARARmAAAAAAAAACIC\n",
       "MwAAAAAAAAARgRkAAAAAAACAiMAMAAAAAAAAQERgBgAAAAAAACAiMAMAAAAAAAAQEZgBAAAAAAAA\n",
       "iAjMAAAAAAAAAERGaxZePe4eAQBM/OAL3+6eAACUv994bvcEAKAsXPh09wQAoLhgBgAAAAAAACAi\n",
       "MAMAAAAAAAAQEZgBAAAAAAAAiAjMAAAAAAAAAEQEZgAAAAAAAAAiAjMAAAAAAAAAEYEZAAAAAAAA\n",
       "gIjADAAAAAAAAEBEYAYAAAAAAAAgMlp/8RvH3SMAgInr/7a6ewIAUC5Y/kT3BACg/OiRFd0TAIDi\n",
       "ghkAAAAAAACAiMAMAAAAAAAAQERgBgAAAAAAACAiMAMAAAAAAAAQEZgBAAAAAAAAiAjMAAAAAAAA\n",
       "AEQEZgAAAAAAAAAiAjMAAAAAAAAAkdFnV1w17h4BAEx85G03dU8AAMpf//Ka7gkAQHnVKzZ2TwAA\n",
       "igtmAAAAAAAAACICMwAAAAAAAAARgRkAAAAAAACAiMAMAAAAAAAAQERgBgAAAAAAACAiMAMAAAAA\n",
       "AAAQEZgBAAAAAAAAiAjMAAAAAAAAAEQEZgAAAAAAAAAiw+yZh7o3AABlz84F3RMAgHLskq3dEwCA\n",
       "cu0d53RPAACKC2YAAAAAAAAAIgIzAAAAAAAAABGBGQAAAAAAAICIwAwAAAAAAABARGAGAAAAAAAA\n",
       "ICIwAwAAAAAAABARmAEAAAAAAACICMwAAAAAAAAAREZ3nfu2cfcIAGDioe0v654AAJTDhxe6JwAA\n",
       "ZdHcvd0TAIDighkAAAAAAACAiMAMAAAAAAAAQERgBgAAAAAAACAiMAMAAAAAAAAQEZgBAAAAAAAA\n",
       "iAjMAAAAAAAAAEQEZgAAAAAAAAAiAjMAAAAAAAAAEYEZAAAAAAAAgMhwyxMrujcAAGXNG27rngAA\n",
       "lPUbTuieAACUZdNPdU8AAIoLZgAAAAAAAAAiAjMAAAAAAAAAEYEZAAAAAAAAgIjADAAAAAAAAEBE\n",
       "YAYAAAAAAAAgIjADAAAAAAAAEBGYAQAAAAAAAIgIzAAAAAAAAABEBGYAAAAAAAAAIqPjjrho3D0C\n",
       "AJj4244LuicAAOXhC2/ungAAlFM//Uj3BACguGAGAAAAAAAAICIwAwAAAAAAABARmAEAAAAAAACI\n",
       "CMwAAAAAAAAARARmAAAAAAAAACICMwAAAAAAAAARgRkAAAAAAACAiMAMAAAAAAAAQGT0mzMuHXeP\n",
       "AAAmxi8ZdU8AAMrcWc93TwAAyhO7F3RPAACKC2YAAAAAAAAAIgIzAAAAAAAAABGBGQAAAAAAAICI\n",
       "wAwAAAAAAABARGAGAAAAAAAAICIwAwAAAAAAABARmAEAAAAAAACICMwAAAAAAAAARARmAAAAAAAA\n",
       "ACLDq1Zs6t4AAJTr7j2jewIAUOYOB7snAADl7ac82D0BACgumAEAAAAAAACICMwAAAAAAAAARARm\n",
       "AAAAAAAAACICMwAAAAAAAAARgRkAAAAAAACAiMAMAAAAAAAAQERgBgAAAAAA+C/79vLjV0GGcTyn\n",
       "c6adcum0nVIoCIhtrYCgqCVBAW9RGo2XhUiUIKzUaIJR48KtK0lMJCYYQ9REY0IixFuMEt2AmBhM\n",
       "8IJRBAqUm0C5DJTSdjrT+bn4veyf3TuLz+cveHYn53zPC0BEYAYAAAAAAAAgMh47Ote9AQAos+sm\n",
       "3RMAgHLBlsXuCQBA+cX9b+ueAAAUF8wAAAAAAAAARARmAAAAAAAAACICMwAAAAAAAAARgRkAAAAA\n",
       "AACAiMAMAAAAAAAAQERgBgAAAAAAACAiMAMAAAAAAAAQEZgBAAAAAAAAiAjMAAAAAAAAAETGew/s\n",
       "7N4AAJR9O/d3TwAAyurq0D0BAChPHz61ewIAUFwwAwAAAAAAABARmAEAAAAAAACICMwAAAAAAAAA\n",
       "RARmAAAAAAAAACICMwAAAAAAAAARgRkAAAAAAACAiMAMAAAAAAAAQERgBgAAAAAAACAiMAMAAAAA\n",
       "AAAQGV85Ptu9AQAop5x8uHsCAFCGdZPuCQBAeeqRDd0TAIDighkAAAAAAACAiMAMAAAAAAAAQERg\n",
       "BgAAAAAAACAiMAMAAAAAAAAQEZgBAAAAAAAAiAjMAAAAAAAAAEQEZgAAAAAAAAAiAjMAAAAAAAAA\n",
       "kXHnple6NwAA5ZH/ndU9AQAo8xuPdk8AAMrC+uXuCQBAccEMAAAAAAAAQERgBgAAAAAAACAiMAMA\n",
       "AAAAAAAQEZgBAAAAAAAAiAjMAAAAAAAAAEQEZgAAAAAAAAAiAjMAAAAAAAAAEYEZAAAAAAAAgIjA\n",
       "DAAAAAAAAEBkvPC8x7o3AADlh3/d2z0BACiXbH2lewIAUGaG7gUAwOtcMAMAAAAAAAAQEZgBAAAA\n",
       "AAAAiAjMAAAAAAAAAEQEZgAAAAAAAAAiAjMAAAAAAAAAEYEZAAAAAAAAgIjADAAAAAAAAEBEYAYA\n",
       "AAAAAAAgMs7OLndvAADKkZWhewIAUGaG1e4JAEBZPD52TwAAigtmAAAAAAAAACICMwAAAAAAAAAR\n",
       "gRkAAAAAAACAiMAMAAAAAAAAQERgBgAAAAAAACAiMAMAAAAAAAAQEZgBAAAAAAAAiAjMAAAAAAAA\n",
       "AEQEZgAAAAAAAAAi45///dbuDQBA+dTOA90TAIBy8tyx7gkAQHn40KbuCQBAccEMAAAAAAAAQERg\n",
       "BgAAAAAAACAiMAMAAAAAAAAQEZgBAAAAAAAAiAjMAAAAAAAAAEQEZgAAAAAAAAAiAjMAAAAAAAAA\n",
       "EYEZAAAAAAAAgIjADAAAAAAAAEBknBkm3RsAgLK0Mts9AQAoZ84f7J4AAJT7XpzpngAAFBfMAAAA\n",
       "AAAAAEQEZgAAAAAAAAAiAjMAAAAAAAAAEYEZAAAAAAAAgIjADAAAAAAAAEBEYAYAAAAAAAAgIjAD\n",
       "AAAAAAAAEBGYAQAAAAAAAIiMe05/pnsDAFDuOrCzewIAUA4tzXVPAADKx84+3D0BACgumAEAAAAA\n",
       "AACICMwAAAAAAAAARARmAAAAAAAAACICMwAAAAAAAAARgRkAAAAAAACAiMAMAAAAAAAAQERgBgAA\n",
       "AAAAACAiMAMAAAAAAAAQEZgBAAAAAAAAiIy/f2R39wYAoFx32V+6JwAA5cXnF7onAADloYM7uicA\n",
       "AMUFMwAAAAAAAAARgRkAAAAAAACAiMAMAAAAAAAAQERgBgAAAAAAACAiMAMAAAAAAAAQEZgBAAAA\n",
       "AAAAiAjMAAAAAAAAAEQEZgAAAAAAAAAiw/KdZ0+6RwAAUxs/erR7AgBQbjrv6u4JAEC5f3G2ewIA\n",
       "UFwwAwAAAAAAABARmAEAAAAAAACICMwAAAAAAAAARARmAAAAAAAAACICMwAAAAAAAAARgRkAAAAA\n",
       "AACAiMAMAAAAAAAAQERgBgAAAAAAACAiMAMAAAAAAAAQGR782BWT7hEAwNTt/7q4ewIAUM7ffKh7\n",
       "AgBQXlra0D0BACgumAEAAAAAAACICMwAAAAAAAAARARmAAAAAAAAACICMwAAAAAAAAARgRkAAAAA\n",
       "AACAiMAMAAAAAAAAQERgBgAAAAAAACAiMAMAAAAAAAAQGa7beuOkewQAMPXjb/+gewIAUP5zx5Xd\n",
       "EwCAMj9/qHsCAFBcMAMAAAAAAAAQEZgBAAAAAAAAiAjMAAAAAAAAAEQEZgAAAAAAAAAiAjMAAAAA\n",
       "AAAAEYEZAAAAAAAAgIjADAAAAAAAAEBEYAYAAAAAAAAgIjADAAAAAAAAEBlfXV7t3gAAlGHThu4J\n",
       "AEDZuvBS9wQAoDz46Ju6JwAAxQUzAAAAAAAAABGBGQAAAAAAAICIwAwAAAAAAABARGAGAAAAAAAA\n",
       "ICIwAwAAAAAAABARmAEAAAAAAACICMwAAAAAAAAARARmAAAAAAAAACICMwAAAAAAAACR4baLrp90\n",
       "jwAAps6ef7l7AgBQ5k8+3D0BACh3PHB+9wQAoLhgBgAAAAAAACAiMAMAAAAAAAAQEZgBAAAAAAAA\n",
       "iAjMAAAAAAAAAEQEZgAAAAAAAAAiAjMAAAAAAAAAEYEZAAAAAAAAgIjADAAAAAAAAEBk3Lvz4e4N\n",
       "AED5yd/e0T0BAChv3/pK9wQAoGyfW+6eAMsVorgAACAASURBVAAUF8wAAAAAAAAARARmAAAAAAAA\n",
       "ACICMwAAAAAAAAARgRkAAAAAAACAiMAMAAAAAAAAQERgBgAAAAAAACAiMAMAAAAAAAAQEZgBAAAA\n",
       "AAAAiAjMAAAAAAAAAETGzae/2L0BACj7D/n3CwDWiku3rXRPAADK317a0D0BACi+YgMAAAAAAAAQ\n",
       "EZgBAAAAAAAAiAjMAAAAAAAAAEQEZgAAAAAAAAAiAjMAAAAAAAAAEYEZAAAAAAAAgIjADAAAAAAA\n",
       "AEBEYAYAAAAAAAAgMq4cW9+9AQAoJ892LwAAXrcy8U82AKwV2+Ym3RMAgOJtGQAAAAAAAICIwAwA\n",
       "AAAAAABARGAGAAAAAAAAICIwAwAAAAAAABARmAEAAAAAAACICMwAAAAAAAAARARmAAAAAAAAACIC\n",
       "MwAAAAAAAAARgRkAAAAAAACAyDg3f7h7AwBQFpcm3RMAgPLq8Q3dEwCAcsq42j0BACgumAEAAAAA\n",
       "AACICMwAAAAAAAAARARmAAAAAAAAACICMwAAAAAAAAARgRkAAAAAAACAiMAMAAAAAAAAQERgBgAA\n",
       "AAAAACAiMAMAAAAAAAAQEZgBAAAAAAAAiAy/uuTaSfcIAGBq09yx7gkAQFldHbonAADlyPL67gkA\n",
       "QHHBDAAAAAAAAEBEYAYAAAAAAAAgIjADAAAAAAAAEBGYAQAAAAAAAIgIzAAAAAAAAABEBGYAAAAA\n",
       "AAAAIgIzAAAAAAAAABGBGQAAAAAAAIDIuOv0Z7o3AADlD/v3dE8AAMqOjUe6JwAA5aTZ5e4JAEBx\n",
       "wQwAAAAAAABARGAGAAAAAAAAICIwAwAAAAAAABARmAEAAAAAAACICMwAAAAAAAAARARmAAAAAAAA\n",
       "ACICMwAAAAAAAAARgRkAAAAAAACAiMAMAAAAAAAAQGTc+Z6/d28AAMptd5/TPQEAKF/dNXRPAADK\n",
       "Lx/f1j0BACgumAEAAAAAAACICMwAAAAAAAAARARmAAAAAAAAACICMwAAAAAAAAARgRkAAAAAAACA\n",
       "iMAMAAAAAAAAQERgBgAAAAAAACAiMAMAAAAAAAAQGQ89dmb3BgCgvP2UTd0TAICydOK17gkAQLli\n",
       "+5HuCQBAccEMAAAAAAAAQERgBgAAAAAAACAiMAMAAAAAAAAQEZgBAAAAAAAAiAjMAAAAAAAAAEQE\n",
       "ZgAAAAAAAAAiAjMAAAAAAAAAEYEZAAAAAAAAgIjADAAAAAAAAEBknKwO3RsAAABgzTlpXOmeAACU\n",
       "R189pXsCAFBcMAMAAAAAAAAQEZgBAAAAAAAAiAjMAAAAAAAAAEQEZgAAAAAAAAAiAjMAAAAAAAAA\n",
       "EYEZAAAAAAAAgIjADAAAAAAAAEBEYAYAAAAAAAAgIjADAAAAAAAAEBkfenhX9wYAoFy6cLR7AgBQ\n",
       "9u56sHsCAFBuunN39wQAoLhgBgAAAAAAACAiMAMAAAAAAAAQEZgBAAAAAAAAiAjMAAAAAAAAAEQE\n",
       "ZgAAAAAAAAAiAjMAAAAAAAAAEYEZAAAAAAAAgIjADAAAAAAAAEBkvPDif3dvAADKLbft654AAJRt\n",
       "G3d1TwAAymWnbumeAAAUF8wAAAAAAAAARARmAAAAAAAAACICMwAAAAAAAAARgRkAAAAAAACAiMAM\n",
       "AAAAAAAAQERgBgAAAAAAACAiMAMAAAAAAAAQEZgBAAAAAAAAiAjMAAAAAAAAAETGpcMbuzcAAGX7\n",
       "3NA9AQAoLx6b654AAJT3nvFy9wQAoLhgBgAAAAAAACAiMAMAAAAAAAAQEZgBAAAAAAAAiAjMAAAA\n",
       "AAAAAEQEZgAAAAAAAAAiAjMAAAAAAAAAEYEZAAAAAAAAgIjADAAAAAAAAEBk+OyWGyfdIwCAqZ/e\n",
       "fGv3BACg/OMn7+ueAACUN+56rHsCAFBcMAMAAAAAAAAQEZgBAAAAAAAAiAjMAAAAAAAAAEQEZgAA\n",
       "AAAAAAAiAjMAAAAAAAAAEYEZAAAAAAAAgIjADAAAAAAAAEBEYAYAAAAAAAAgIjADAAAAAAAAEBke\n",
       "//TeSfcIAGDqu/dc1j0BACj73vBs9wQAoPzuyTO6JwAAxQUzAAAAAAAAABGBGQAAAAAAAICIwAwA\n",
       "AAAAAABARGAGAAAAAAAAICIwAwAAAAAAABARmAEAAAAAAACICMwAAAAAAAAARARmAAAAAAAAACIC\n",
       "MwAAAAAAAACRYeXXp026RwAAU/PXbO6eAACUr23f1z0BACgL65e7JwAAxQUzAAAAAAAAABGBGQAA\n",
       "AAAAAICIwAwAAAAAAABARGAGAAAAAAAAICIwAwAAAAAAABARmAEAAAAAAACICMwAAAAAAAAARARm\n",
       "AAAAAAAAACLDv/Z9YNI9AgCY+tV/L+ieAACUT+55oHsCAFC++KfzuicAAMUFMwAAAAAAAAARgRkA\n",
       "AAAAAACAiMAMAAAAAAAAQERgBgAAAAAAACAiMAMAAAAAAAAQEZgBAAAAAAAAiAjMAAAAAAAAAEQE\n",
       "ZgAAAAAAAAAiAjMAAAAAAAAAkeHLp9846R4BAEx950s/654AAJQn77uwewIAUA48e0b3BACguGAG\n",
       "AAAAAAAAICIwAwAAAAAAABARmAEAAAAAAACICMwAAAAAAAAARARmAAAAAAAAACICMwAAAAAAAAAR\n",
       "gRkAAAAAAACAiMAMAAAAAAAAQGR45vqLJt0jAICpb935/u4JAEC5dOG17gkAQBkGn7EBYK1wwQwA\n",
       "AAAAAABARGAGAAAAAAAAICIwAwAAAAAAABARmAEAAAAAAACICMwAAAAAAAAARARmAAAAAAAAACIC\n",
       "MwAAAAAAAAARgRkAAAAAAACAiMAMAAAAAAAAQGT446VXT7pHAABTK6v+/QKAteL5oyd1TwAAyuV7\n",
       "HuieAAAUX7EBAAAAAAAAiAjMAAAAAAAAAEQEZgAAAAAAAAAiAjMAAAAAAAAAEYEZAAAAAAAAgIjA\n",
       "DAAAAAAAAEBEYAYAAAAAAAAgIjADAAAAAAAAEBGYAQAAAAAAAIiMR1bWd28AAMqGmeXuCQBAufjM\n",
       "p7onAADl1r/u7Z4AABQXzAAAAAAAAABEBGYAAAAAAAAAIgIzAAAAAAAAABGBGQAAAAAAAICIwAwA\n",
       "AAAAAABARGAGAAAAAAAAICIwAwAAAAAAABARmAEAAAAAAACIDMfv3jPpHgEATK1/7yPdEwCA8qPz\n",
       "b+ieAACUm5843D0BACgumAEAAAAAAACICMwAAAAAAAAARARmAAAAAAAAACICMwAAAAAAAAARgRkA\n",
       "AAAAAACAiMAMAAAAAAAAQERgBgAAAAAAACAiMAMAAAAAAAAQEZgBAAAAAAAAiAy3XXT9pHsEADC1\n",
       "+7TnuicAAOXplxe6JwAA5c07nuqeAAAUF8wAAAAAAAAARARmAAAAAAAAACICMwAAAAAAAAARgRkA\n",
       "AAAAAACAiMAMAAAAAAAAQERgBgAAAAAAACAiMAMAAAAAAAAQEZgBAAAAAAAAiAyHvvGGSfcIAGDq\n",
       "mu9/vHsCAFA+96bXuicAAOUvL8x3TwAAigtmAAAAAAAAACICMwAAAAAAAAARgRkAAAAAAACAiMAM\n",
       "AAAAAAAAQERgBgAAAAAAACAiMAMAAAAAAAAQEZgBAAAAAAAAiAjMAAAAAAAAAEQEZgAAAAAAAAAi\n",
       "w/d2f3HSPQIAmPrEJfd1TwAAyv4nzu2eAACUHVtf6J4AABQXzAAAAAAAAABEBGYAAAAAAAAAIgIz\n",
       "AAAAAAAAABGBGQAAAAAAAICIwAwAAAAAAABARGAGAAAAAAAAICIwAwAAAAAAABARmAEAAAAAAACI\n",
       "DM9//i2T7hEAwNRXbv9w9wQAoFy782D3BACg/Pyx7d0TAIDighkAAAAAAACAiMAMAAAAAAAAQERg\n",
       "BgAAAAAAACAiMAMAAAAAAAAQEZgBAAAAAAAAiAjMAAAAAAAAAEQEZgAAAAAAAAAiAjMAAAAAAAAA\n",
       "EYEZAAAAAAAAgMi4/7+7uzcAAOVDO17rngAAlHFY7Z4AAJTLtx/pngAAFBfMAAAAAAAAAEQEZgAA\n",
       "AAAAAAAiAjMAAAAAAAAAEYEZAAAAAAAAgIjADAAAAAAAAEBEYAYAAAAAAAAgIjADAAAAAAAAEBGY\n",
       "AQAAAAAAAIgIzAAAAAAAAABExruePLt7AwBQbrjynu4JAEB5/MA53RMAgPLWjUe7JwAAxQUzAAAA\n",
       "AAAAABGBGQAAAAAAAICIwAwAAAAAAABARGAGAAAAAAAAICIwAwAAAAAAABARmAEAAAAAAACICMwA\n",
       "AAAAAAAARARmAAAAAAAAACLjtrnj3RsAgPLs0zu6JwAAZduWxe4JAEC55d53dU8AAIoLZgAAAAAA\n",
       "AAAiAjMAAAAAAAAAEYEZAAAAAAAAgIjADAAAAAAAAEBEYAYAAAAAAAAgIjADAAAAAAAAEBGYAQAA\n",
       "AAAAAIgIzAAAAAAAAABEBGYAAAAAAAAAIsMLX9gz6R4BAEx9/Y6ruicAAOWK7Ue6JwAAAMCa44IZ\n",
       "AAAAAAAAgIjADAAAAAAAAEBEYAYAAAAAAAAgIjADAAAAAAAAEBGYAQAAAAAAAIgIzAAAAAAAAABE\n",
       "BGYAAAAAAAAAIgIzAAAAAAAAAJFxZWm2ewMAUOZmuhcAAK+bXbfaPQEAKMdOeGEGgLXCBTMAAAAA\n",
       "AAAAEYEZAAAAAAAAgIjADAAAAAAAAEBEYAYAAAAAAAAgIjADAAAAAAAAEBGYAQAAAAAAAIgIzAAA\n",
       "AAAAAABEBGYAAAAAAAAAIgIzAAAAAAAAAJHx+NG57g0AQDlp7F4AALxu8/ql7gkAQPn7S1u6JwAA\n",
       "xQUzAAAAAAAAABGBGQAAAAAAAICIwAwAAAAAAABARGAGAAAAAAAAICIwAwAAAAAAABARmAEAAAAA\n",
       "AACICMwAAAAAAAAARARmAAAAAAAAACICMwAAAAAAAACR4bfv/MykewQAMLVhXOmeAACUlRP+yQaA\n",
       "tWKcWe2eAAAUb8sAAAAAAAAARARmAAAAAAAAACICMwAAAAAAAAARgRkAAAAAAACAiMAMAAAAAAAA\n",
       "QERgBgAAAAAAACAiMAMAAAAAAAAQEZgBAAAAAAAAiIx733Z/9wYAoHzzNx/sngAAlI+ctdg9AQAo\n",
       "/zy4uXsCAFBcMAMAAAAAAAAQEZgBAAAAAAAAiAjMAAAAAAAAAEQEZgAAAAAAAAAiAjMAAAAAAAAA\n",
       "EYEZAAAAAAAAgIjADAAAAAAAAEBEYAYAAAAAAAAgIjADAAAAAAAAEBkff/Tc7g0AQHn3aUe6JwAA\n",
       "ZWbdpHsCAFAu2brYPQEAKC6YAQAAAAAAAIgIzAAAAAAAAABEBGYAAAAAAAAAIgIzAAAAAAAAABGB\n",
       "GQAAAAAAAICIwAwAAAAAAABARGAGAAAAAAAAICIwAwAAAAAAABAZn1hc6N4AAJQ9C893TwAAysqJ\n",
       "me4JAEA5tDTXPQEAKC6YAQAAAAAAAIgIzAAAAAAAAABEBGYAAAAAAAAAIgIzAAAAAAAAABGBGQAA\n",
       "AAAAAICIwAwAAAAAAABARGAGAAAAAAAAICIwAwAAAAAAABARmAEAAAAAAACIjCsTjRkA1opx3Ynu\n",
       "CQBAmUyG7gkAQDmx6js2AKwVnsoAAAAAAAAARARmAAAAAAAAACICMwAAAAAAAAARgRkAAAAAAACA\n",
       "iMAMAAAAAAAAQERgBgAAAAAAACAiMAMAAAAAAAAQEZgBAAAAAAAAiAjMAAAAAAAAAETG+xc3dW8A\n",
       "AMpVV/65ewIAUJ47cFb3BACgHDx8avcEAKC4YAYAAAAAAAAgIjADAAAAAAAAEBGYAQAAAAAAAIgI\n",
       "zAAAAAAAAABEBGYAAAAAAAAAIgIzAAAAAAAAABGBGQAAgP+3by89ftZlHIf9t89Mp4fptJ2WQ2lV\n",
       "KBSEAoVwiKgguvDAQjDqQozBsHBhdOfCxKWJ8Q240BhXnhIPMZqIiZgST0FADhbRAgmUlvRMKW2n\n",
       "0+nM38Xc7L+7exbX9Qq+u1/yfJ4bAAAAICIwAwAAAAAAABAZvfLgh8bdIwCAZT97bm/3BACgXLH2\n",
       "YvcEAKDs3ny8ewIAUFwwAwAAAAAAABARmAEAAAAAAACICMwAAAAAAAAARARmAAAAAAAAACICMwAA\n",
       "AAAAAAARgRkAAAAAAACAiMAMAAAAAAAAQERgBgAAAAAAACAiMAMAAAAAAAAQGT269Rvj7hEAwLLv\n",
       "f+uH3RMAgPLavju6JwAA5cTpzd0TAIDighkAAAAAAACAiMAMAAAAAAAAQERgBgAAAAAAACAiMAMA\n",
       "AAAAAAAQEZgBAAAAAAAAiAjMAAAAAAAAAEQEZgAAAAAAAAAiAjMAAAAAAAAAkeHurXPdGwCAcvjv\n",
       "t3ZPAADK317d3T0BACgPf+Xn3RMAgOKCGQAAAAAAAICIwAwAAAAAAABARGAGAAAAAAAAICIwAwAA\n",
       "AAAAABARmAEAAAAAAACICMwAAAAAAAAARARmAAAAAAAAACICMwAAAAAAAAARgRkAAAAAAACAyLCw\n",
       "pDEDwEqxtOhdBoCV4oatx7onAADlL7/8VPcEAKD4ig0AAAAAAABARGAGAAAAAAAAICIwAwAAAAAA\n",
       "ABARmAEAAAAAAACICMwAAAAAAAAARARmAAAAAAAAACICMwAAAAAAAAARgRkAAAAAAACAiMAMAAAA\n",
       "AAAAQGR06Sfrx90jAIBlO756W/cEAKB8aeb27gkAQPnI5Se6JwAAxQUzAAAAAAAAABGBGQAAAAAA\n",
       "AICIwAwAAAAAAABARGAGAAAAAAAAICIwAwAAAAAAABARmAEAAAAAAACICMwAAAAAAAAARARmAAAA\n",
       "AAAAACKj397+xXH3CABg2ea157snAADlzXdmuicAAOXOXS93TwAAigtmAAAAAAAAACICMwAAAAAA\n",
       "AAARgRkAAAAAAACAiMAMAAAAAAAAQERgBgAAAAAAACAiMAMAAAAAAAAQEZgBAAAAAAAAiAjMAAAA\n",
       "AAAAAEQEZgAAAAAAAAAiw6ap890bAIBy+MxM9wQAoGyeutA9AQAoT76yu3sCAFBcMAMAAAAAAAAQ\n",
       "EZgBAAAAAAAAiAjMAAAAAAAAAEQEZgAAAAAAAAAiAjMAAAAAAAAAEYEZAAAAAAAAgIjADAAAAAAA\n",
       "AEBEYAYAAAAAAAAgMpy9ONW9AQAoW6bmuicAAO8adQ8AAN41PTnfPQEAKC6YAQAAAAAAAIgIzAAA\n",
       "AAAAAABEBGYAAAAAAAAAIgIzAAAAAAAAABGBGQAAAAAAAICIwAwAAAAAAABARGAGAAAAAAAAICIw\n",
       "AwAAAAAAABARmAEAAAAAAACIDAdOb+reAACUz9z6XPcEAKCcO7euewIAUJ46eHX3BACguGAGAAAA\n",
       "AAAAICIwAwAAAAAAABARmAEAAAAAAACICMwAAAAAAAAARARmAAAAAAAAACICMwAAAAAAAAARgRkA\n",
       "AAAAAACAiMAMAAAAAAAAQERgBgAAAAAAACAyOvLIzePuEQDAsu88dn/3BACg7J6e754AAJQ9sye6\n",
       "JwAAxQUzAAAAAAAAABGBGQAAAAAAAICIwAwAAAAAAABARGAGAAAAAAAAICIwAwAAAAAAABARmAEA\n",
       "AAAAAACICMwAAAAAAAAARARmAAAAAAAAACLD/Nya7g0AQJkext0TAIAyrPIuA8BKsXrVUvcEAKC4\n",
       "YAYAAAAAAAAgIjADAAAAAAAAEBGYAQAAAAAAAIgIzAAAAAAAAABEBGYAAAAAAAAAIgIzAAAAAAAA\n",
       "ABGBGQAAAAAAAICIwAwAAAAAAABARGAGAAAAAAAAIDKcPTPdvQEAKJsnF7snAABl+7pz3RMAgPK/\n",
       "U1u7JwAAxQUzAAAAAAAAABGBGQAAAAAAAICIwAwAAAAAAABARGAGAAAAAAAAICIwAwAAAAAAABAR\n",
       "mAEAAAAAAACICMwAAAAAAAAARARmAAAAAAAAACLDT/fv6d4AAJRvfvZ33RMAgPLyCx/ongAAlPfN\n",
       "Hu+eAAAUF8wAAAAAAAAARARmAAAAAAAAACICMwAAAAAAAAARgRkAAAAAAACAiMAMAAAAAAAAQERg\n",
       "BgAAAAAAACAiMAMAAAAAAAAQEZgBAAAAAAAAiAjMAAAAAAAAAESGg+dG3RsAgLLumiPdEwCAsv3E\n",
       "5u4JAEDZ98Kt3RMAgOKCGQAAAAAAAICIwAwAAAAAAABARGAGAAAAAAAAICIwAwAAAAAAABARmAEA\n",
       "AAAAAACICMwAAAAAAAAARARmAAAAAAAAACICMwAAAAAAAAARgRkAAAAAAACAyOi1z9017h4BACz7\n",
       "8VN3dU8AAMqGYal7AgBQHrz5+e4JAEBxwQwAAAAAAABARGAGAAAAAAAAICIwAwAAAAAAABARmAEA\n",
       "AAAAAACICMwAAAAAAAAARARmAAAAAAAAACICMwAAAAAAAAARgRkAAAAAAACAyHDoyJXdGwCAsmvD\n",
       "+e4JAEDZufF09wQAoPx+/y3dEwCA4oIZAAAAAAAAgIjADAAAAAAAAEBEYAYAAAAAAAAgIjADAAAA\n",
       "AAAAEBGYAQAAAAAAAIgIzAAAAAAAAABEBGYAAAAAAAAAIgIzAAAAAAAAABGBGQAAAAAAAIDIcOjM\n",
       "pu4NAEDZteVE9wQAoEwOC90TAIAysWqpewIAUFwwAwAAAAAAABARmAEAAAAAAACICMwAAAAAAAAA\n",
       "RARmAAAAAAAAACICMwAAAAAAAAARgRkAAAAAAACAiMAMAAAAAAAAQERgBgAAAAAAACAy3HTloe4N\n",
       "AEB5/NXruicAAOWKdXPdEwCAsnPD2e4JAEBxwQwAAAAAAABARGAGAAAAAAAAICIwAwAAAAAAABAR\n",
       "mAEAAAAAAACICMwAAAAAAAAARARmAAAAAAAAACICMwAAAAAAAAARgRkAAAAAAACAiMAMAAAAAAAA\n",
       "QGQ4fmamewMAUHasP9c9AQAoGybnuycAAOXt+anuCQBAccEMAAAAAAAAQERgBgAAAAAAACAiMAMA\n",
       "AAAAAAAQEZgBAAAAAAAAiAjMAAAAAAAAAEQEZgAAAAAAAAAiAjMAAAAAAAAAEYEZAAAAAAAAgMhw\n",
       "am599wYAoGyfOd09AQAoR9+Z6Z4AAJQ9V73RPQEAKC6YAQAAAAAAAIgIzAAAAAAAAABEBGYAAAAA\n",
       "AAAAIgIzAAAAAAAAABGBGQAAAAAAAICIwAwAAAAAAABARGAGAAAAAAAAICIwAwAAAAAAABARmAEA\n",
       "AAAAAACIjA4/vHfcPQIAWPbdx+/tngAAlPsuP909AQAor76zoXsCAFBcMAMAAAAAAAAQEZgBAAAA\n",
       "AAAAiAjMAAAAAAAAAEQEZgAAAAAAAAAiAjMAAAAAAAAAEYEZAAAAAAAAgIjADAAAAAAAAEBEYAYA\n",
       "AAAAAAAgIjADAAAAAAAAEBl+8NcPd28AAMq3P/nn7gkAQFlcmOieAACUp5/wHRsAVgoXzAAAAAAA\n",
       "AABEBGYAAAAAAAAAIgIzAAAAAAAAABGBGQAAAAAAAICIwAwAAAAAAABARGAGAAAAAAAAICIwAwAA\n",
       "AAAAABARmAEAAAAAAACIjJ6456Fx9wgAYNmpufXdEwCA8tb8mu4JAED52I3/7p4AABQXzAAAAAAA\n",
       "AABEBGYAAAAAAAAAIgIzAAAAAAAAABGBGQAAAAAAAICIwAwAAAAAAABARGAGAAAAAAAAICIwAwAA\n",
       "AAAAABARmAEAAAAAAACICMwAAAAAAAAARIYnDl/VvQEAKF974LHuCQBAefaZvd0TAIAyuXa+ewIA\n",
       "UFwwAwAAAAAAABARmAEAAAAAAACICMwAAAAAAAAARARmAAAAAAAAACICMwAAAAAAAAARgRkAAAAA\n",
       "AACAiMAMAAAAAAAAQERgBgAAAAAAACAyTE9c6t4AAJS509PdEwCAMn9p6J4AAJTRaNw9AQAoLpgB\n",
       "AAAAAAAAiAjMAAAAAAAAAEQEZgAAAAAAAAAiAjMAAAAAAAAAEYEZAAAAAAAAgIjADAAAAAAAAEBE\n",
       "YAYAAAAAAAAgIjADAAAAAAAAEBGYAQAAAAAAAIiMXnrgvnH3CABg2a9e3NM9AQAot82e7J4AAJQX\n",
       "39rSPQEAKC6YAQAAAAAAAIgIzAAAAAAAAABEBGYAAAAAAAAAIgIzAAAAAAAAABGBGQAAAAAAAICI\n",
       "wAwAAAAAAABARGAGAAAAAAAAICIwAwAAAAAAABARmAEAAAAAAACIDL/Yf3P3BgCgfP2BP3ZPAADK\n",
       "gf03dE8AAMqntx3rngAAFBfMAAAAAAAAAEQEZgAAAAAAAAAiAjMAAAAAAAAAEYEZAAAAAAAAgIjA\n",
       "DAAAAAAAAEBEYAYAAAAAAAAgIjADAAAAAAAAEBGYAQAAAAAAAIiM9t3z0Lh7BACw7Pi56e4JAECZ\n",
       "XL3YPQEAKFOrF7onAADFBTMAAAAAAAAAEYEZAAAAAAAAgIjADAAAAAAAAEBEYAYAAAAAAAAgIjAD\n",
       "AAAAAAAAEBGYAQAAAAAAAIgIzAAAAAAAAABEBGYAAAAAAAAAIgIzAAAAAAAAAJFhbmGyewMAUDau\n",
       "udA9AQAob89PdU8AAMrV2450TwAAigtmAAAAAAAAACICMwAAAAAAAAARgRkAAAAAAACAiMAMAAAA\n",
       "AAAAQERgBgAAAAAAACAiMAMAAAAAAAAQEZgBAAAAAAAAiAjMAAAAAAAAAESGk3PrujcAAGXvjte7\n",
       "JwAA5dDr13RPAADKrrte6J4AABQXzAAAAAAAAABEBGYAAAAAAAAAIgIzAAAAAAAAABGBGQAAAAAA\n",
       "AICIwAwAAAAAAABARGAGAAAAAAAAICIwAwAAAAAAABARmAEAAAAAAACICMwAAAAAAAAARIZ/HJ/u\n",
       "3gAAlM9/+cnuCQBAOfrrzd0TAIAyXhi6JwAAxQUzAAAAAAAAABGBGQAAAAAAAICIwAwAAAAAAABA\n",
       "RGAGAAAAAAAAICIwAwAAAAAAABARmAEAAAAAAACICMwAAAAAAAAARARmAAAAAAAAACICMwAAAAAA\n",
       "AACR0b8+/olx9wgAYNkzb+7sngAAlKXxqHsCAFA+et1/uycAAMUFMwAAAAAAAAARgRkAAAAAAACA\n",
       "iMAMAAAAAAAAQERgBgAAAAAAACAi1Ww5GgAABo9JREFUMAMAAAAAAAAQEZgBAAAAAAAAiAjMAAAA\n",
       "AAAAAEQEZgAAAAAAAAAiw5G3N3VvAADKVevPdk8AAMrE6sXuCQBA2f/G+7snAADFBTMAAAAAAAAA\n",
       "EYEZAAAAAAAAgIjADAAAAAAAAEBEYAYAAAAAAAAgIjADAAAAAAAAEBGYAQAAAAAAAIgIzAAAAAAA\n",
       "AABEBGYAAAAAAAAAIgIzAAAAAAAAAJHh+p0HuzcAAOVHT9/RPQEAKB+87ET3BACg/Of0TPcEAKC4\n",
       "YAYAAAAAAAAgIjADAAAAAAAAEBGYAQAAAAAAAIgIzAAAAAAAAABEBGYAAAAAAAAAIgIzAAAAAAAA\n",
       "ABGBGQAAAAAAAICIwAwAAAAAAABAZPjDi7d0bwAAyiO3Pds9AQAoFy5MdU8AAMqx8+u7JwAAxQUz\n",
       "AAAAAAAAABGBGQAAAAAAAICIwAwAAAAAAABARGAGAAAAAAAAICIwAwAAAAAAABARmAEAAAAAAACI\n",
       "CMwAAAAAAAAARARmAAAAAAAAACICMwAAAAAAAACR4dqZt7o3AADlwOGd3RMAgDKsWuyeAACU2am5\n",
       "7gkAQHHBDAAAAAAAAEBEYAYAAAAAAAAgIjADAAAAAAAAEBGYAQAAAAAAAIgIzAAAAAAAAABEBGYA\n",
       "AAAAAAAAIgIzAAAAAAAAABGBGQAAAAAAAICIwAwAAAAAAABAZHjvtmPdGwCA8puXbuqeAACUuy87\n",
       "2j0BACj/PLGlewIAUFwwAwAAAAAAABARmAEAAAAAAACICMwAAAAAAAAARARmAAAAAAAAACICMwAA\n",
       "AAAAAAARgRkAAAAAAACAiMAMAAAAAAAAQERgBgAAAAAAACAyHDk1270BACjXbzzTPQEAKOP3jLon\n",
       "AADlho3nuicAAMUFMwAAAAAAAAARgRkAAAAAAACAiMAMAAAAAAAAQERgBgAAAAAAACAiMAMAAAAA\n",
       "AAAQEZgBAAAAAAAAiAjMAAAAAAAAAEQEZgAAAAAAAAAiAjMAAAAAAAAAkWHu0kT3BgCgrJ+82D0B\n",
       "ACirR0vdEwCAMrHKuwwAK4ULZgAAAAAAAAAiAjMAAAAAAAAAEYEZAAAAAAAAgIjADAAAAAAAAEBE\n",
       "YAYAAAAAAAAgIjADAAAAAAAAEBGYAQAAAAAAAIgIzAAAAAAAAABEhudPznZvAADKo/fv654AAJSX\n",
       "D1zbPQEAKHu2v9E9AQAoLpgBAAAAAAAAiAjMAAAAAAAAAEQEZgAAAAAAAAAiAjMAAAAAAAAAEYEZ\n",
       "AAAAAAAAgIjADAAAAAAAAEBEYAYAAAAAAAAgIjADAAAAAAAAEBGYAQAAAAAAAIgMq0bj7g0AQBkv\n",
       "jbonAABlYXF19wQAoKxZM989AQAoLpgBAAAAAAAAiAjMAAAAAAAAAEQEZgAAAAAAAAAiAjMAAAAA\n",
       "AAAAEYEZAAAAAAAAgIjADAAAAAAAAEBEYAYAAAAAAAAgIjADAAAAAAAAEBGYAQAAAAAAAIgMs2su\n",
       "dm8AAMrJo9u6JwAAZVi12D0BACgHj17RPQEAKC6YAQAAAAAAAIgIzAAAAAAAAABEBGYAAAAAAAAA\n",
       "IgIzAAAAAAAAABGBGQAAAAAAAICIwAwAAAAAAABARGAGAAAAAAAAICIwAwAAAAAAABAZLlt7vnsD\n",
       "AFDePLW1ewIAUKYmLnZPAADK62c2dU8AAIoLZgAAAAAAAAAiAjMAAAAAAAAAEYEZAAAAAAAAgIjA\n",
       "DAAAAAAAAEBEYAYAAAAAAAAgIjADAAAAAAAAEBGYAQAAAAAAAIgIzAAAAAAAAABEBGYAAAAAAAAA\n",
       "IsO6iYvdGwCAcn5hsnsCAFAuXBq6JwAAZcf0me4JAEBxwQwAAAAAAABARGAGAAAAAAAAICIwAwAA\n",
       "AAAAABARmAEAAAAAAACICMwAAAAAAAAARARmAAAAAAAAACICMwAAAAAAAAARgRkAAAAAAACAyHDj\n",
       "da90bwAAyvf+dG/3BACg3D57tnsCAFBcSgHAyuFdBgAAAAAAACAiMAMAAAAAAAAQEZgBAAAAAAAA\n",
       "iAjMAAAAAAAAAEQEZgAAAAAAAAAiAjMAAAAAAAAAEYEZAAAAAAAAgIjADAAAAAAAAEBEYAYAAAAA\n",
       "AAAgMnrszi+Mu0cAAMsWl/z7BQArxWjUvQAAAABWHl+xAQAAAAAAAIgIzAAAAAAAAABEBGYAAAAA\n",
       "AAAAIgIzAAAAAAAAABGBGQAAAAAAAICIwAwAAAAAAABARGAGAAAAAAAAICIwAwAAAAAAABD5P/Td\n",
       "onWR9gs2AAAAAElFTkSuQmCC\n",
       "\" transform=\"translate(169, 47)\"/>\n",
       "</g>\n",
       "<defs>\n",
       "  <clipPath id=\"clip423\">\n",
       "    <rect x=\"2160\" y=\"47\" width=\"73\" height=\"1440\"/>\n",
       "  </clipPath>\n",
       "</defs>\n",
       "<g clip-path=\"url(#clip423)\">\n",
       "<image width=\"72\" height=\"1439\" xlink:href=\"data:image/png;base64,\n",
       "iVBORw0KGgoAAAANSUhEUgAAAEgAAAWfCAYAAAAI7rB3AAAMWUlEQVR4nO3dwY0rRxAFwaZQ/lsh\n",
       "L6XfLQtUeSQPERYsEg8c9MyQ+/n3/v0O/+uvb/8Bv06gIFAQKAgU5r5/v/03/DQLCgIFgYJAQaAw\n",
       "7/359t/w0ywoCBQECgIFR41gQUGgIFAQKAgU5rmKrSwoCBQECgIFgcK86yq2saAgUBAoCBQcNYIF\n",
       "BYGCQEGgIFBwFQsWFAQKAgWBgvtBwYKCQEGgIFAQKMxx1FhZUBAoCBQECgIFN8yCBQWBgkBBoDDH\n",
       "DbOVBQWBgkBBoCBQmHP/+fbf8NMsKAgUBAoCBYGCxz7BgoJAQaAgUHDDLFhQECgIFAQKAgVXsWBB\n",
       "QaAgUBAouB8ULCgIFAQKAgWBwnwcNVYWFAQKAgWBgkBhzvWfWTYWFAQKAgWBgqNGsKAgUBAoCBQE\n",
       "Co4awYKCQEGgIFAQKHjDLFhQECgIFAQK83HUWFlQECgIFAQKAgXvSQcLCgIFgYJAwVEjWFAQKAgU\n",
       "BAoCBc/mgwUFgYJAQaAgUHAWCxYUBAoCBYGCo0awoCBQECgIFAQKjhrBgoJAQaAgUBAozLn323/D\n",
       "T7OgIFAQKAgUHDWCBQWBgkBBoCBQ8NgnWFAQKAgUBAo+pIMFBYGCQEGgIFCYj6caKwsKAgWBgkBB\n",
       "oOAsFiwoCBQECgIFL1AFCwoCBYGCQEGg4IZZsKAgUBAoCBTcDwoWFAQKAgWBgkDBDbNgQUGgIFAQ\n",
       "KAgUXMWCBQWBgkBBoOB788GCgkBBoCBQECg4agQLCgIFgYJAQaDgKhYsKAgUBAoCBR/SwYKCQEGg\n",
       "IFAQKLiKBQsKAgWBgkBhzvMhvbGgIFAQKAgUBAqOGsGCgkBBoCBQECi4igULCgIFgYJAwYd0sKAg\n",
       "UBAoCBQECnPu+/bf8NMsKAgUBAoCBYGCs1iwoCBQECgIFBw1ggUFgYJAQaAgUHDUCBYUBAoCBYGC\n",
       "o0awoCBQECgIFAQKc5w0VhYUBAoCBYGCQGHOcxbbWFAQKAgUBAqOGsGCgkBBoCBQECi4igULCgIF\n",
       "gYJAQaAwfohzZ0FBoCBQECg4agQLCgIFgYJAQaDgKhYsKAgUBAoChTn38+2/4adZUBAoCBQECgKF\n",
       "ec9VbGNBQaAgUBAoCBTcMAsWFAQKAgWBghtmwYKCQEGgIFAQKMy7Gm3UCQIFgYJAwVEjWFAQKAgU\n",
       "BAoChTmeza8sKAgUBAoCBYHCPGexlQUFgYJAQaAwx1ONlTpBoCBQECgIFBw1ggUFgYJAQaAgUPDY\n",
       "J1hQECgIFAQKXgMO6gSBgkBBoCBQ8J50sKAgUBAoCBQ81QgWFAQKAgWBgkBh3tNoo04QKAgUBAoC\n",
       "BTfMggUFgYJAQaDghlmwoCBQECgIFAQKc9wwW6kTBAoCBYGCQMFZLFhQECgIFAQKPqSDBQWBgkBB\n",
       "oCBQ8L35YEFBoCBQECj43nxQJwgUBAoCBYHCPEeNlQUFgYJAQaAgUPDYJ1hQECgIFAQK/jNLUCcI\n",
       "FAQKAgWBghtmwYKCQEGgIFAQKLhhFiwoCBQECgIFR41gQUGgIFAQKAgUvCcd1AkCBYGCQMFRI1hQ\n",
       "ECgIFAQKAgVPNYIFBYGCQEGgIFBwFgsWFAQKAgWBgn+fFSwoCBQECgIFgYJ/ZRzUCQIFgYJAQaDg\n",
       "hlmwoCBQECgIFDybDxYUBAoCBYGCQMFRI1hQECgIFAQKc31IrywoCBQECgIFgYLvzQd1gkBBoCBQ\n",
       "ECi4YRYsKAgUBAoCBR/SwYKCQEGgIFAQKHjDLFhQECgIFAQKjhrBgoJAQaAgUBAouIoFCwoCBYGC\n",
       "QEGg4NdfgjpBoCBQECjM9VRjZUFBoCBQECgIFNwwCxYUBAoCBYGCQMFVLFhQECgIFAQKPqSDBQWB\n",
       "gkBBoCBQ8BtmwYKCQEGgIFBw1AgWFAQKAgWBgkDBVSxYUBAoCBQECgIFX2YJ6gSBgkBBoODLLMGC\n",
       "gkBBoCBQECi4YRYsKAgUBAoCBYGCq1iwoCBQECgIFLwGHCwoCBQECgIFgYKjRrCgIFAQKAgU5h0f\n",
       "0hsLCgIFgYJAQaDghlmwoCBQECgIFAQKbpgFCwoCBYGCQMFRI1hQECgIFAQKAgVHjWBBQaAgUBAo\n",
       "CBScxYIFBYGCQEGg4KgRLCgIFAQKAgWBgqtYsKAgUBAoCBTm+jLLyoKCQEGgIFAQKDhqBAsKAgWB\n",
       "gkBBoODZfLCgIFAQKAgU5r1v/wm/zYKCQEGgIFAQKDhqBAsKAgWBgkDBD00GCwoCBYGCQEGg4KgR\n",
       "LCgIFAQKAgWBgjfMggUFgYJAQaDgyyzBgoJAQaAgUBAoeMMsWFAQKAgUBAoCBY99ggUFgYJAQaDg\n",
       "qUawoCBQECgIFAQKHvsECwoCBYGCQMH9oGBBQaAgUBAoCBQ8mw8WFAQKAgWBgkDBDbNgQUGgIFAQ\n",
       "KHg2HywoCBQECgIFgcLcb/8FP86CgkBBoCBQECg4iwULCgIFgYJAwRtmwYKCQEGgIFAQKLhhFiwo\n",
       "CBQECgIF94OCBQWBgkBBoCBQcNQIFhQECgIFgYJAwVksWFAQKAgUBAqezQcLCgIFgYJAQaAwfvxl\n",
       "Z0FBoCBQECgIFJzFggUFgYJAQaDg2XywoCBQECgIFAQKns0HCwoCBYGCQMFRI1hQECgIFAQKAgVH\n",
       "jWBBQaAgUBAoCBTmesVsZUFBoCBQECi4YRYsKAgUBAoCBYGCG2bBgoJAQaAgUHDUCBYUBAoCBYGC\n",
       "QGGepxorCwoCBYGCQEGgMPe4YbaxoCBQECgIFLxAFSwoCBQECgIFgYIfmgwWFAQKAgWBgkDBD00G\n",
       "CwoCBYGCQMGz+WBBQaAgUBAoCBS8Jx0sKAgUBAoCBd84DBYUBAoCBYGCQMFRI1hQECgIFAQKAgXv\n",
       "SQcLCgIFgYJAwWvAwYKCQEGgIFAQKDhqBAsKAgWBgkBBoOA96WBBQaAgUBAo+ImuYEFBoCBQECgI\n",
       "FNwwCxYUBAoCBYGCZ/PBgoJAQaAgUBAoOGoECwoCBYGCQEGg4CwWLCgIFAQKAgVHjWBBQaAgUBAo\n",
       "CBRcxYIFBYGCQEGgIFBwwyxYUBAoCBQECo4awYKCQEGgIFAQKDhqBAsKAgWBgkDBUSNYUBAoCBQE\n",
       "CgIFP9EVLCgIFAQKAgWBgv8vFiwoCBQECgIFN8yCBQWBgkBBoCBQmHdcxjYWFAQKAgWBgkDBWSxY\n",
       "UBAoCBQECp7NBwsKAgWBgkBBoODZfLCgIFAQKAgU3A8KFhQECgIFgYJAwbP5YEFBoCBQECgIFJzF\n",
       "ggUFgYJAQaDgJ7qCBQWBgkBBoCBQmOsVs5UFBYGCQEGg4AWqYEFBoCBQECgIFOY5aqwsKAgUBAoC\n",
       "BYGCs1iwoCBQECgIFDzVCBYUBAoCBYGCQMEbZsGCgkBBoCBQECjM9ZXMlQUFgYJAQaDghlmwoCBQ\n",
       "ECgIFAQKfv0lWFAQKAgUBApeoAoWFAQKAgWBgkDBU41gQUGgIFAQKAgU3DALFhQECgIFgcLc45bZ\n",
       "xoKCQEGgIFAQKLhhFiwoCBQECgIFgYKrWLCgIFAQKAgUPNUIFhQECgIFgYJAwWOfYEFBoCBQECjM\n",
       "/ThqbCwoCBQECgIFgYKjRrCgIFAQKAgUBArzXMVWFhQECgIFgYKjRrCgIFAQKAgUBApzP65iGwsK\n",
       "AgWBgkBBoOAsFiwoCBQECgIFTzWCBQWBgkBBoCBQcNQIFhQECgIFgYIP6WBBQaAgUBAoCBQ8mw8W\n",
       "FAQKAgWBgkBh3vnz7b/hp1lQECgIFAQKbpgFCwoCBYGCQEGg4A2zYEFBoCBQECjMfe4HbSwoCBQE\n",
       "CgIFgYKjRrCgIFAQKAgUBApzPZtfWVAQKAgUBAqOGsGCgkBBoCBQECg4agQLCgIFgYJAQaAw7zmL\n",
       "bSwoCBQECgIFN8yCBQWBgkBBoCBQ8J50sKAgUBAoCBQcNYIFBYGCQEGgIFCY56ixsqAgUBAoCBQE\n",
       "Cs5iwYKCQEGgIFCY6wWqlQUFgYJAQaAgUPCb9sGCgkBBoCBQECj4MkuwoCBQECgIFDzVCBYUBAoC\n",
       "BYGCQMFRI1hQECgIFAQKPqSDBQWBgkBBoCBQ8Gw+WFAQKAgUBAoCBWexYEFBoCBQECjM8Wx+ZUFB\n",
       "oCBQECgIFBw1ggUFgYJAQaAgUPCedLCgIFAQKAgU5jhqrCwoCBQECgIFgYI3zIIFBYGCQEGg4Nl8\n",
       "sKAgUBAoCBQECm6YBQsKAgWBgkBBoDDvvG//DT/NgoJAQaAgUHDDLFhQECgIFAQKAoU5jhorCwoC\n",
       "BYGCQOE/LrLuTX/wFc8AAAAASUVORK5CYII=\n",
       "\" transform=\"translate(2161, 47)\"/>\n",
       "</g>\n",
       "<path clip-path=\"url(#clip420)\" d=\"M2268.76 1447.65 L2298.43 1447.65 L2298.43 1451.58 L2268.76 1451.58 L2268.76 1447.65 Z\" fill=\"#000000\" fill-rule=\"evenodd\" fill-opacity=\"1\" /><path clip-path=\"url(#clip420)\" d=\"M2318.52 1432.99 Q2314.91 1432.99 2313.08 1436.56 Q2311.28 1440.1 2311.28 1447.23 Q2311.28 1454.34 2313.08 1457.9 Q2314.91 1461.44 2318.52 1461.44 Q2322.16 1461.44 2323.96 1457.9 Q2325.79 1454.34 2325.79 1447.23 Q2325.79 1440.1 2323.96 1436.56 Q2322.16 1432.99 2318.52 1432.99 M2318.52 1429.29 Q2324.33 1429.29 2327.39 1433.9 Q2330.47 1438.48 2330.47 1447.23 Q2330.47 1455.96 2327.39 1460.56 Q2324.33 1465.15 2318.52 1465.15 Q2312.71 1465.15 2309.64 1460.56 Q2306.58 1455.96 2306.58 1447.23 Q2306.58 1438.48 2309.64 1433.9 Q2312.71 1429.29 2318.52 1429.29 Z\" fill=\"#000000\" fill-rule=\"evenodd\" fill-opacity=\"1\" /><path clip-path=\"url(#clip420)\" d=\"M2338.69 1458.6 L2343.57 1458.6 L2343.57 1464.48 L2338.69 1464.48 L2338.69 1458.6 Z\" fill=\"#000000\" fill-rule=\"evenodd\" fill-opacity=\"1\" /><path clip-path=\"url(#clip420)\" d=\"M2353.8 1429.92 L2372.16 1429.92 L2372.16 1433.85 L2358.08 1433.85 L2358.08 1442.32 Q2359.1 1441.98 2360.12 1441.81 Q2361.14 1441.63 2362.16 1441.63 Q2367.95 1441.63 2371.32 1444.8 Q2374.7 1447.97 2374.7 1453.39 Q2374.7 1458.97 2371.23 1462.07 Q2367.76 1465.15 2361.44 1465.15 Q2359.26 1465.15 2357 1464.78 Q2354.75 1464.41 2352.34 1463.67 L2352.34 1458.97 Q2354.43 1460.1 2356.65 1460.66 Q2358.87 1461.21 2361.35 1461.21 Q2365.35 1461.21 2367.69 1459.11 Q2370.03 1457 2370.03 1453.39 Q2370.03 1449.78 2367.69 1447.67 Q2365.35 1445.56 2361.35 1445.56 Q2359.47 1445.56 2357.6 1445.98 Q2355.75 1446.4 2353.8 1447.28 L2353.8 1429.92 Z\" fill=\"#000000\" fill-rule=\"evenodd\" fill-opacity=\"1\" /><path clip-path=\"url(#clip420)\" d=\"M2393.92 1432.99 Q2390.31 1432.99 2388.48 1436.56 Q2386.67 1440.1 2386.67 1447.23 Q2386.67 1454.34 2388.48 1457.9 Q2390.31 1461.44 2393.92 1461.44 Q2397.55 1461.44 2399.36 1457.9 Q2401.19 1454.34 2401.19 1447.23 Q2401.19 1440.1 2399.36 1436.56 Q2397.55 1432.99 2393.92 1432.99 M2393.92 1429.29 Q2399.73 1429.29 2402.78 1433.9 Q2405.86 1438.48 2405.86 1447.23 Q2405.86 1455.96 2402.78 1460.56 Q2399.73 1465.15 2393.92 1465.15 Q2388.11 1465.15 2385.03 1460.56 Q2381.97 1455.96 2381.97 1447.23 Q2381.97 1438.48 2385.03 1433.9 Q2388.11 1429.29 2393.92 1429.29 Z\" fill=\"#000000\" fill-rule=\"evenodd\" fill-opacity=\"1\" /><path clip-path=\"url(#clip420)\" d=\"M2268.76 1113.42 L2298.43 1113.42 L2298.43 1117.36 L2268.76 1117.36 L2268.76 1113.42 Z\" fill=\"#000000\" fill-rule=\"evenodd\" fill-opacity=\"1\" /><path clip-path=\"url(#clip420)\" d=\"M2318.52 1098.77 Q2314.91 1098.77 2313.08 1102.33 Q2311.28 1105.87 2311.28 1113 Q2311.28 1120.11 2313.08 1123.67 Q2314.91 1127.22 2318.52 1127.22 Q2322.16 1127.22 2323.96 1123.67 Q2325.79 1120.11 2325.79 1113 Q2325.79 1105.87 2323.96 1102.33 Q2322.16 1098.77 2318.52 1098.77 M2318.52 1095.06 Q2324.33 1095.06 2327.39 1099.67 Q2330.47 1104.25 2330.47 1113 Q2330.47 1121.73 2327.39 1126.34 Q2324.33 1130.92 2318.52 1130.92 Q2312.71 1130.92 2309.64 1126.34 Q2306.58 1121.73 2306.58 1113 Q2306.58 1104.25 2309.64 1099.67 Q2312.71 1095.06 2318.52 1095.06 Z\" fill=\"#000000\" fill-rule=\"evenodd\" fill-opacity=\"1\" /><path clip-path=\"url(#clip420)\" d=\"M2338.69 1124.37 L2343.57 1124.37 L2343.57 1130.25 L2338.69 1130.25 L2338.69 1124.37 Z\" fill=\"#000000\" fill-rule=\"evenodd\" fill-opacity=\"1\" /><path clip-path=\"url(#clip420)\" d=\"M2357.78 1126.31 L2374.1 1126.31 L2374.1 1130.25 L2352.16 1130.25 L2352.16 1126.31 Q2354.82 1123.56 2359.4 1118.93 Q2364.01 1114.28 2365.19 1112.93 Q2367.44 1110.41 2368.32 1108.67 Q2369.22 1106.92 2369.22 1105.23 Q2369.22 1102.47 2367.27 1100.73 Q2365.35 1099 2362.25 1099 Q2360.05 1099 2357.6 1099.76 Q2355.17 1100.53 2352.39 1102.08 L2352.39 1097.36 Q2355.21 1096.22 2357.67 1095.64 Q2360.12 1095.06 2362.16 1095.06 Q2367.53 1095.06 2370.72 1097.75 Q2373.92 1100.43 2373.92 1104.92 Q2373.92 1107.05 2373.11 1108.98 Q2372.32 1110.87 2370.21 1113.47 Q2369.63 1114.14 2366.53 1117.36 Q2363.43 1120.55 2357.78 1126.31 Z\" fill=\"#000000\" fill-rule=\"evenodd\" fill-opacity=\"1\" /><path clip-path=\"url(#clip420)\" d=\"M2383.96 1095.69 L2402.32 1095.69 L2402.32 1099.62 L2388.25 1099.62 L2388.25 1108.1 Q2389.26 1107.75 2390.28 1107.59 Q2391.3 1107.4 2392.32 1107.4 Q2398.11 1107.4 2401.49 1110.57 Q2404.87 1113.74 2404.87 1119.16 Q2404.87 1124.74 2401.39 1127.84 Q2397.92 1130.92 2391.6 1130.92 Q2389.43 1130.92 2387.16 1130.55 Q2384.91 1130.18 2382.51 1129.44 L2382.51 1124.74 Q2384.59 1125.87 2386.81 1126.43 Q2389.03 1126.98 2391.51 1126.98 Q2395.51 1126.98 2397.85 1124.88 Q2400.19 1122.77 2400.19 1119.16 Q2400.19 1115.55 2397.85 1113.44 Q2395.51 1111.34 2391.51 1111.34 Q2389.63 1111.34 2387.76 1111.75 Q2385.91 1112.17 2383.96 1113.05 L2383.96 1095.69 Z\" fill=\"#000000\" fill-rule=\"evenodd\" fill-opacity=\"1\" /><path clip-path=\"url(#clip420)\" d=\"M2280.7 764.541 Q2277.09 764.541 2275.26 768.105 Q2273.45 771.647 2273.45 778.777 Q2273.45 785.883 2275.26 789.448 Q2277.09 792.989 2280.7 792.989 Q2284.33 792.989 2286.14 789.448 Q2287.97 785.883 2287.97 778.777 Q2287.97 771.647 2286.14 768.105 Q2284.33 764.541 2280.7 764.541 M2280.7 760.837 Q2286.51 760.837 2289.57 765.443 Q2292.64 770.027 2292.64 778.777 Q2292.64 787.503 2289.57 792.11 Q2286.51 796.693 2280.7 796.693 Q2274.89 796.693 2271.81 792.11 Q2268.76 787.503 2268.76 778.777 Q2268.76 770.027 2271.81 765.443 Q2274.89 760.837 2280.7 760.837 Z\" fill=\"#000000\" fill-rule=\"evenodd\" fill-opacity=\"1\" /><path clip-path=\"url(#clip420)\" d=\"M2280.7 430.314 Q2277.09 430.314 2275.26 433.878 Q2273.45 437.42 2273.45 444.55 Q2273.45 451.656 2275.26 455.221 Q2277.09 458.763 2280.7 458.763 Q2284.33 458.763 2286.14 455.221 Q2287.97 451.656 2287.97 444.55 Q2287.97 437.42 2286.14 433.878 Q2284.33 430.314 2280.7 430.314 M2280.7 426.61 Q2286.51 426.61 2289.57 431.216 Q2292.64 435.8 2292.64 444.55 Q2292.64 453.276 2289.57 457.883 Q2286.51 462.466 2280.7 462.466 Q2274.89 462.466 2271.81 457.883 Q2268.76 453.276 2268.76 444.55 Q2268.76 435.8 2271.81 431.216 Q2274.89 426.61 2280.7 426.61 Z\" fill=\"#000000\" fill-rule=\"evenodd\" fill-opacity=\"1\" /><path clip-path=\"url(#clip420)\" d=\"M2300.86 455.915 L2305.75 455.915 L2305.75 461.795 L2300.86 461.795 L2300.86 455.915 Z\" fill=\"#000000\" fill-rule=\"evenodd\" fill-opacity=\"1\" /><path clip-path=\"url(#clip420)\" d=\"M2319.96 457.86 L2336.28 457.86 L2336.28 461.795 L2314.33 461.795 L2314.33 457.86 Q2317 455.105 2321.58 450.476 Q2326.19 445.823 2327.37 444.48 Q2329.61 441.957 2330.49 440.221 Q2331.39 438.462 2331.39 436.772 Q2331.39 434.017 2329.45 432.281 Q2327.53 430.545 2324.43 430.545 Q2322.23 430.545 2319.77 431.309 Q2317.34 432.073 2314.57 433.624 L2314.57 428.902 Q2317.39 427.767 2319.84 427.189 Q2322.3 426.61 2324.33 426.61 Q2329.7 426.61 2332.9 429.295 Q2336.09 431.98 2336.09 436.471 Q2336.09 438.601 2335.28 440.522 Q2334.5 442.42 2332.39 445.013 Q2331.81 445.684 2328.71 448.901 Q2325.61 452.096 2319.96 457.86 Z\" fill=\"#000000\" fill-rule=\"evenodd\" fill-opacity=\"1\" /><path clip-path=\"url(#clip420)\" d=\"M2346.14 427.235 L2364.5 427.235 L2364.5 431.17 L2350.42 431.17 L2350.42 439.642 Q2351.44 439.295 2352.46 439.133 Q2353.48 438.948 2354.5 438.948 Q2360.28 438.948 2363.66 442.119 Q2367.04 445.29 2367.04 450.707 Q2367.04 456.286 2363.57 459.388 Q2360.1 462.466 2353.78 462.466 Q2351.6 462.466 2349.33 462.096 Q2347.09 461.725 2344.68 460.985 L2344.68 456.286 Q2346.76 457.42 2348.99 457.976 Q2351.21 458.531 2353.69 458.531 Q2357.69 458.531 2360.03 456.425 Q2362.37 454.318 2362.37 450.707 Q2362.37 447.096 2360.03 444.989 Q2357.69 442.883 2353.69 442.883 Q2351.81 442.883 2349.94 443.3 Q2348.08 443.716 2346.14 444.596 L2346.14 427.235 Z\" fill=\"#000000\" fill-rule=\"evenodd\" fill-opacity=\"1\" /><path clip-path=\"url(#clip420)\" d=\"M2280.7 96.0867 Q2277.09 96.0867 2275.26 99.6515 Q2273.45 103.193 2273.45 110.323 Q2273.45 117.429 2275.26 120.994 Q2277.09 124.536 2280.7 124.536 Q2284.33 124.536 2286.14 120.994 Q2287.97 117.429 2287.97 110.323 Q2287.97 103.193 2286.14 99.6515 Q2284.33 96.0867 2280.7 96.0867 M2280.7 92.383 Q2286.51 92.383 2289.57 96.9895 Q2292.64 101.573 2292.64 110.323 Q2292.64 119.05 2289.57 123.656 Q2286.51 128.239 2280.7 128.239 Q2274.89 128.239 2271.81 123.656 Q2268.76 119.05 2268.76 110.323 Q2268.76 101.573 2271.81 96.9895 Q2274.89 92.383 2280.7 92.383 Z\" fill=\"#000000\" fill-rule=\"evenodd\" fill-opacity=\"1\" /><path clip-path=\"url(#clip420)\" d=\"M2300.86 121.688 L2305.75 121.688 L2305.75 127.568 L2300.86 127.568 L2300.86 121.688 Z\" fill=\"#000000\" fill-rule=\"evenodd\" fill-opacity=\"1\" /><path clip-path=\"url(#clip420)\" d=\"M2315.98 93.008 L2334.33 93.008 L2334.33 96.9432 L2320.26 96.9432 L2320.26 105.415 Q2321.28 105.068 2322.3 104.906 Q2323.32 104.721 2324.33 104.721 Q2330.12 104.721 2333.5 107.892 Q2336.88 111.063 2336.88 116.48 Q2336.88 122.059 2333.41 125.161 Q2329.94 128.239 2323.62 128.239 Q2321.44 128.239 2319.17 127.869 Q2316.93 127.499 2314.52 126.758 L2314.52 122.059 Q2316.6 123.193 2318.83 123.749 Q2321.05 124.304 2323.52 124.304 Q2327.53 124.304 2329.87 122.198 Q2332.2 120.091 2332.2 116.48 Q2332.2 112.869 2329.87 110.763 Q2327.53 108.656 2323.52 108.656 Q2321.65 108.656 2319.77 109.073 Q2317.92 109.489 2315.98 110.369 L2315.98 93.008 Z\" fill=\"#000000\" fill-rule=\"evenodd\" fill-opacity=\"1\" /><path clip-path=\"url(#clip420)\" d=\"M2356.09 96.0867 Q2352.48 96.0867 2350.65 99.6515 Q2348.85 103.193 2348.85 110.323 Q2348.85 117.429 2350.65 120.994 Q2352.48 124.536 2356.09 124.536 Q2359.73 124.536 2361.53 120.994 Q2363.36 117.429 2363.36 110.323 Q2363.36 103.193 2361.53 99.6515 Q2359.73 96.0867 2356.09 96.0867 M2356.09 92.383 Q2361.9 92.383 2364.96 96.9895 Q2368.04 101.573 2368.04 110.323 Q2368.04 119.05 2364.96 123.656 Q2361.9 128.239 2356.09 128.239 Q2350.28 128.239 2347.2 123.656 Q2344.15 119.05 2344.15 110.323 Q2344.15 101.573 2347.2 96.9895 Q2350.28 92.383 2356.09 92.383 Z\" fill=\"#000000\" fill-rule=\"evenodd\" fill-opacity=\"1\" /><polyline clip-path=\"url(#clip420)\" style=\"stroke:#000000; stroke-linecap:round; stroke-linejoin:round; stroke-width:4; stroke-opacity:1; fill:none\" points=\"\n",
       "  2232.76,1486.45 2232.76,1450.82 2256.76,1450.82 2232.76,1450.82 2232.76,1116.6 2256.76,1116.6 2232.76,1116.6 2232.76,782.371 2256.76,782.371 2232.76,782.371 \n",
       "  2232.76,448.144 2256.76,448.144 2232.76,448.144 2232.76,113.917 2256.76,113.917 2232.76,113.917 2232.76,47.2441 \n",
       "  \"/>\n",
       "</svg>\n"
      ]
     },
     "execution_count": 30,
     "metadata": {},
     "output_type": "execute_result"
    }
   ],
   "source": [
    "heatmap(irisM .- my_svd_approx(irisM, 2))"
   ]
  },
  {
   "cell_type": "code",
   "execution_count": 31,
   "id": "ee0a1cee-dba8-416d-9ab3-bdc330996447",
   "metadata": {},
   "outputs": [
    {
     "data": {
      "image/svg+xml": [
       "<?xml version=\"1.0\" encoding=\"utf-8\"?>\n",
       "<svg xmlns=\"http://www.w3.org/2000/svg\" xmlns:xlink=\"http://www.w3.org/1999/xlink\" width=\"600\" height=\"400\" viewBox=\"0 0 2400 1600\">\n",
       "<defs>\n",
       "  <clipPath id=\"clip460\">\n",
       "    <rect x=\"0\" y=\"0\" width=\"2400\" height=\"1600\"/>\n",
       "  </clipPath>\n",
       "</defs>\n",
       "<path clip-path=\"url(#clip460)\" d=\"\n",
       "M0 1600 L2400 1600 L2400 0 L0 0  Z\n",
       "  \" fill=\"#ffffff\" fill-rule=\"evenodd\" fill-opacity=\"1\"/>\n",
       "<defs>\n",
       "  <clipPath id=\"clip461\">\n",
       "    <rect x=\"480\" y=\"0\" width=\"1681\" height=\"1600\"/>\n",
       "  </clipPath>\n",
       "</defs>\n",
       "<path clip-path=\"url(#clip460)\" d=\"\n",
       "M147.478 1486.45 L2352.76 1486.45 L2352.76 47.2441 L147.478 47.2441  Z\n",
       "  \" fill=\"#ffffff\" fill-rule=\"evenodd\" fill-opacity=\"1\"/>\n",
       "<defs>\n",
       "  <clipPath id=\"clip462\">\n",
       "    <rect x=\"147\" y=\"47\" width=\"2206\" height=\"1440\"/>\n",
       "  </clipPath>\n",
       "</defs>\n",
       "<polyline clip-path=\"url(#clip462)\" style=\"stroke:#000000; stroke-linecap:round; stroke-linejoin:round; stroke-width:2; stroke-opacity:0.1; fill:none\" points=\"\n",
       "  221.662,1486.45 221.662,47.2441 \n",
       "  \"/>\n",
       "<polyline clip-path=\"url(#clip462)\" style=\"stroke:#000000; stroke-linecap:round; stroke-linejoin:round; stroke-width:2; stroke-opacity:0.1; fill:none\" points=\"\n",
       "  563.656,1486.45 563.656,47.2441 \n",
       "  \"/>\n",
       "<polyline clip-path=\"url(#clip462)\" style=\"stroke:#000000; stroke-linecap:round; stroke-linejoin:round; stroke-width:2; stroke-opacity:0.1; fill:none\" points=\"\n",
       "  905.65,1486.45 905.65,47.2441 \n",
       "  \"/>\n",
       "<polyline clip-path=\"url(#clip462)\" style=\"stroke:#000000; stroke-linecap:round; stroke-linejoin:round; stroke-width:2; stroke-opacity:0.1; fill:none\" points=\"\n",
       "  1247.64,1486.45 1247.64,47.2441 \n",
       "  \"/>\n",
       "<polyline clip-path=\"url(#clip462)\" style=\"stroke:#000000; stroke-linecap:round; stroke-linejoin:round; stroke-width:2; stroke-opacity:0.1; fill:none\" points=\"\n",
       "  1589.64,1486.45 1589.64,47.2441 \n",
       "  \"/>\n",
       "<polyline clip-path=\"url(#clip462)\" style=\"stroke:#000000; stroke-linecap:round; stroke-linejoin:round; stroke-width:2; stroke-opacity:0.1; fill:none\" points=\"\n",
       "  1931.63,1486.45 1931.63,47.2441 \n",
       "  \"/>\n",
       "<polyline clip-path=\"url(#clip462)\" style=\"stroke:#000000; stroke-linecap:round; stroke-linejoin:round; stroke-width:2; stroke-opacity:0.1; fill:none\" points=\"\n",
       "  2273.63,1486.45 2273.63,47.2441 \n",
       "  \"/>\n",
       "<polyline clip-path=\"url(#clip460)\" style=\"stroke:#000000; stroke-linecap:round; stroke-linejoin:round; stroke-width:4; stroke-opacity:1; fill:none\" points=\"\n",
       "  147.478,1486.45 2352.76,1486.45 \n",
       "  \"/>\n",
       "<polyline clip-path=\"url(#clip460)\" style=\"stroke:#000000; stroke-linecap:round; stroke-linejoin:round; stroke-width:4; stroke-opacity:1; fill:none\" points=\"\n",
       "  221.662,1486.45 221.662,1467.55 \n",
       "  \"/>\n",
       "<polyline clip-path=\"url(#clip460)\" style=\"stroke:#000000; stroke-linecap:round; stroke-linejoin:round; stroke-width:4; stroke-opacity:1; fill:none\" points=\"\n",
       "  563.656,1486.45 563.656,1467.55 \n",
       "  \"/>\n",
       "<polyline clip-path=\"url(#clip460)\" style=\"stroke:#000000; stroke-linecap:round; stroke-linejoin:round; stroke-width:4; stroke-opacity:1; fill:none\" points=\"\n",
       "  905.65,1486.45 905.65,1467.55 \n",
       "  \"/>\n",
       "<polyline clip-path=\"url(#clip460)\" style=\"stroke:#000000; stroke-linecap:round; stroke-linejoin:round; stroke-width:4; stroke-opacity:1; fill:none\" points=\"\n",
       "  1247.64,1486.45 1247.64,1467.55 \n",
       "  \"/>\n",
       "<polyline clip-path=\"url(#clip460)\" style=\"stroke:#000000; stroke-linecap:round; stroke-linejoin:round; stroke-width:4; stroke-opacity:1; fill:none\" points=\"\n",
       "  1589.64,1486.45 1589.64,1467.55 \n",
       "  \"/>\n",
       "<polyline clip-path=\"url(#clip460)\" style=\"stroke:#000000; stroke-linecap:round; stroke-linejoin:round; stroke-width:4; stroke-opacity:1; fill:none\" points=\"\n",
       "  1931.63,1486.45 1931.63,1467.55 \n",
       "  \"/>\n",
       "<polyline clip-path=\"url(#clip460)\" style=\"stroke:#000000; stroke-linecap:round; stroke-linejoin:round; stroke-width:4; stroke-opacity:1; fill:none\" points=\"\n",
       "  2273.63,1486.45 2273.63,1467.55 \n",
       "  \"/>\n",
       "<path clip-path=\"url(#clip460)\" d=\"M176.338 1532.02 L206.014 1532.02 L206.014 1535.95 L176.338 1535.95 L176.338 1532.02 Z\" fill=\"#000000\" fill-rule=\"evenodd\" fill-opacity=\"1\" /><path clip-path=\"url(#clip460)\" d=\"M216.916 1544.91 L224.555 1544.91 L224.555 1518.55 L216.245 1520.21 L216.245 1515.95 L224.509 1514.29 L229.185 1514.29 L229.185 1544.91 L236.824 1544.91 L236.824 1548.85 L216.916 1548.85 L216.916 1544.91 Z\" fill=\"#000000\" fill-rule=\"evenodd\" fill-opacity=\"1\" /><path clip-path=\"url(#clip460)\" d=\"M247.078 1544.91 L254.717 1544.91 L254.717 1518.55 L246.407 1520.21 L246.407 1515.95 L254.671 1514.29 L259.347 1514.29 L259.347 1544.91 L266.985 1544.91 L266.985 1548.85 L247.078 1548.85 L247.078 1544.91 Z\" fill=\"#000000\" fill-rule=\"evenodd\" fill-opacity=\"1\" /><path clip-path=\"url(#clip460)\" d=\"M517.719 1532.02 L547.394 1532.02 L547.394 1535.95 L517.719 1535.95 L517.719 1532.02 Z\" fill=\"#000000\" fill-rule=\"evenodd\" fill-opacity=\"1\" /><path clip-path=\"url(#clip460)\" d=\"M558.297 1544.91 L565.936 1544.91 L565.936 1518.55 L557.626 1520.21 L557.626 1515.95 L565.89 1514.29 L570.566 1514.29 L570.566 1544.91 L578.204 1544.91 L578.204 1548.85 L558.297 1548.85 L558.297 1544.91 Z\" fill=\"#000000\" fill-rule=\"evenodd\" fill-opacity=\"1\" /><path clip-path=\"url(#clip460)\" d=\"M597.649 1517.37 Q594.038 1517.37 592.209 1520.93 Q590.403 1524.47 590.403 1531.6 Q590.403 1538.71 592.209 1542.27 Q594.038 1545.82 597.649 1545.82 Q601.283 1545.82 603.089 1542.27 Q604.917 1538.71 604.917 1531.6 Q604.917 1524.47 603.089 1520.93 Q601.283 1517.37 597.649 1517.37 M597.649 1513.66 Q603.459 1513.66 606.514 1518.27 Q609.593 1522.85 609.593 1531.6 Q609.593 1540.33 606.514 1544.94 Q603.459 1549.52 597.649 1549.52 Q591.839 1549.52 588.76 1544.94 Q585.704 1540.33 585.704 1531.6 Q585.704 1522.85 588.76 1518.27 Q591.839 1513.66 597.649 1513.66 Z\" fill=\"#000000\" fill-rule=\"evenodd\" fill-opacity=\"1\" /><path clip-path=\"url(#clip460)\" d=\"M874.886 1532.02 L904.562 1532.02 L904.562 1535.95 L874.886 1535.95 L874.886 1532.02 Z\" fill=\"#000000\" fill-rule=\"evenodd\" fill-opacity=\"1\" /><path clip-path=\"url(#clip460)\" d=\"M914.794 1548.13 L914.794 1543.87 Q916.553 1544.7 918.358 1545.14 Q920.164 1545.58 921.9 1545.58 Q926.53 1545.58 928.96 1542.48 Q931.414 1539.36 931.761 1533.01 Q930.418 1535.01 928.358 1536.07 Q926.298 1537.13 923.798 1537.13 Q918.613 1537.13 915.581 1534.01 Q912.571 1530.86 912.571 1525.42 Q912.571 1520.1 915.719 1516.88 Q918.868 1513.66 924.099 1513.66 Q930.094 1513.66 933.243 1518.27 Q936.414 1522.85 936.414 1531.6 Q936.414 1539.77 932.525 1544.66 Q928.659 1549.52 922.108 1549.52 Q920.349 1549.52 918.544 1549.17 Q916.738 1548.82 914.794 1548.13 M924.099 1533.48 Q927.247 1533.48 929.076 1531.32 Q930.928 1529.17 930.928 1525.42 Q930.928 1521.7 929.076 1519.54 Q927.247 1517.37 924.099 1517.37 Q920.951 1517.37 919.099 1519.54 Q917.27 1521.7 917.27 1525.42 Q917.27 1529.17 919.099 1531.32 Q920.951 1533.48 924.099 1533.48 Z\" fill=\"#000000\" fill-rule=\"evenodd\" fill-opacity=\"1\" /><path clip-path=\"url(#clip460)\" d=\"M1216.83 1532.02 L1246.51 1532.02 L1246.51 1535.95 L1216.83 1535.95 L1216.83 1532.02 Z\" fill=\"#000000\" fill-rule=\"evenodd\" fill-opacity=\"1\" /><path clip-path=\"url(#clip460)\" d=\"M1266.6 1532.44 Q1263.27 1532.44 1261.35 1534.22 Q1259.45 1536 1259.45 1539.13 Q1259.45 1542.25 1261.35 1544.03 Q1263.27 1545.82 1266.6 1545.82 Q1269.94 1545.82 1271.86 1544.03 Q1273.78 1542.23 1273.78 1539.13 Q1273.78 1536 1271.86 1534.22 Q1269.96 1532.44 1266.6 1532.44 M1261.93 1530.45 Q1258.92 1529.7 1257.23 1527.64 Q1255.56 1525.58 1255.56 1522.62 Q1255.56 1518.48 1258.5 1516.07 Q1261.46 1513.66 1266.6 1513.66 Q1271.76 1513.66 1274.7 1516.07 Q1277.64 1518.48 1277.64 1522.62 Q1277.64 1525.58 1275.95 1527.64 Q1274.29 1529.7 1271.3 1530.45 Q1274.68 1531.23 1276.56 1533.52 Q1278.45 1535.82 1278.45 1539.13 Q1278.45 1544.15 1275.38 1546.83 Q1272.32 1549.52 1266.6 1549.52 Q1260.89 1549.52 1257.81 1546.83 Q1254.75 1544.15 1254.75 1539.13 Q1254.75 1535.82 1256.65 1533.52 Q1258.55 1531.23 1261.93 1530.45 M1260.21 1523.06 Q1260.21 1525.75 1261.88 1527.25 Q1263.57 1528.76 1266.6 1528.76 Q1269.61 1528.76 1271.3 1527.25 Q1273.01 1525.75 1273.01 1523.06 Q1273.01 1520.38 1271.3 1518.87 Q1269.61 1517.37 1266.6 1517.37 Q1263.57 1517.37 1261.88 1518.87 Q1260.21 1520.38 1260.21 1523.06 Z\" fill=\"#000000\" fill-rule=\"evenodd\" fill-opacity=\"1\" /><path clip-path=\"url(#clip460)\" d=\"M1559.23 1532.02 L1588.91 1532.02 L1588.91 1535.95 L1559.23 1535.95 L1559.23 1532.02 Z\" fill=\"#000000\" fill-rule=\"evenodd\" fill-opacity=\"1\" /><path clip-path=\"url(#clip460)\" d=\"M1597.82 1514.29 L1620.04 1514.29 L1620.04 1516.28 L1607.5 1548.85 L1602.61 1548.85 L1614.42 1518.22 L1597.82 1518.22 L1597.82 1514.29 Z\" fill=\"#000000\" fill-rule=\"evenodd\" fill-opacity=\"1\" /><path clip-path=\"url(#clip460)\" d=\"M1900.7 1532.02 L1930.37 1532.02 L1930.37 1535.95 L1900.7 1535.95 L1900.7 1532.02 Z\" fill=\"#000000\" fill-rule=\"evenodd\" fill-opacity=\"1\" /><path clip-path=\"url(#clip460)\" d=\"M1951.04 1529.7 Q1947.89 1529.7 1946.04 1531.86 Q1944.21 1534.01 1944.21 1537.76 Q1944.21 1541.49 1946.04 1543.66 Q1947.89 1545.82 1951.04 1545.82 Q1954.19 1545.82 1956.02 1543.66 Q1957.87 1541.49 1957.87 1537.76 Q1957.87 1534.01 1956.02 1531.86 Q1954.19 1529.7 1951.04 1529.7 M1960.32 1515.05 L1960.32 1519.31 Q1958.57 1518.48 1956.76 1518.04 Q1954.98 1517.6 1953.22 1517.6 Q1948.59 1517.6 1946.14 1520.72 Q1943.7 1523.85 1943.36 1530.17 Q1944.72 1528.15 1946.78 1527.09 Q1948.84 1526 1951.32 1526 Q1956.53 1526 1959.54 1529.17 Q1962.57 1532.32 1962.57 1537.76 Q1962.57 1543.08 1959.42 1546.3 Q1956.27 1549.52 1951.04 1549.52 Q1945.05 1549.52 1941.88 1544.94 Q1938.7 1540.33 1938.7 1531.6 Q1938.7 1523.41 1942.59 1518.55 Q1946.48 1513.66 1953.03 1513.66 Q1954.79 1513.66 1956.57 1514.01 Q1958.38 1514.36 1960.32 1515.05 Z\" fill=\"#000000\" fill-rule=\"evenodd\" fill-opacity=\"1\" /><path clip-path=\"url(#clip460)\" d=\"M2243.27 1532.02 L2272.94 1532.02 L2272.94 1535.95 L2243.27 1535.95 L2243.27 1532.02 Z\" fill=\"#000000\" fill-rule=\"evenodd\" fill-opacity=\"1\" /><path clip-path=\"url(#clip460)\" d=\"M2283.08 1514.29 L2301.44 1514.29 L2301.44 1518.22 L2287.37 1518.22 L2287.37 1526.7 Q2288.38 1526.35 2289.4 1526.19 Q2290.42 1526 2291.44 1526 Q2297.23 1526 2300.61 1529.17 Q2303.99 1532.34 2303.99 1537.76 Q2303.99 1543.34 2300.51 1546.44 Q2297.04 1549.52 2290.72 1549.52 Q2288.55 1549.52 2286.28 1549.15 Q2284.03 1548.78 2281.62 1548.04 L2281.62 1543.34 Q2283.71 1544.47 2285.93 1545.03 Q2288.15 1545.58 2290.63 1545.58 Q2294.63 1545.58 2296.97 1543.48 Q2299.31 1541.37 2299.31 1537.76 Q2299.31 1534.15 2296.97 1532.04 Q2294.63 1529.94 2290.63 1529.94 Q2288.75 1529.94 2286.88 1530.35 Q2285.03 1530.77 2283.08 1531.65 L2283.08 1514.29 Z\" fill=\"#000000\" fill-rule=\"evenodd\" fill-opacity=\"1\" /><polyline clip-path=\"url(#clip462)\" style=\"stroke:#000000; stroke-linecap:round; stroke-linejoin:round; stroke-width:2; stroke-opacity:0.1; fill:none\" points=\"\n",
       "  147.478,1426.51 2352.76,1426.51 \n",
       "  \"/>\n",
       "<polyline clip-path=\"url(#clip462)\" style=\"stroke:#000000; stroke-linecap:round; stroke-linejoin:round; stroke-width:2; stroke-opacity:0.1; fill:none\" points=\"\n",
       "  147.478,1154.23 2352.76,1154.23 \n",
       "  \"/>\n",
       "<polyline clip-path=\"url(#clip462)\" style=\"stroke:#000000; stroke-linecap:round; stroke-linejoin:round; stroke-width:2; stroke-opacity:0.1; fill:none\" points=\"\n",
       "  147.478,881.953 2352.76,881.953 \n",
       "  \"/>\n",
       "<polyline clip-path=\"url(#clip462)\" style=\"stroke:#000000; stroke-linecap:round; stroke-linejoin:round; stroke-width:2; stroke-opacity:0.1; fill:none\" points=\"\n",
       "  147.478,609.676 2352.76,609.676 \n",
       "  \"/>\n",
       "<polyline clip-path=\"url(#clip462)\" style=\"stroke:#000000; stroke-linecap:round; stroke-linejoin:round; stroke-width:2; stroke-opacity:0.1; fill:none\" points=\"\n",
       "  147.478,337.399 2352.76,337.399 \n",
       "  \"/>\n",
       "<polyline clip-path=\"url(#clip462)\" style=\"stroke:#000000; stroke-linecap:round; stroke-linejoin:round; stroke-width:2; stroke-opacity:0.1; fill:none\" points=\"\n",
       "  147.478,65.1215 2352.76,65.1215 \n",
       "  \"/>\n",
       "<polyline clip-path=\"url(#clip460)\" style=\"stroke:#000000; stroke-linecap:round; stroke-linejoin:round; stroke-width:4; stroke-opacity:1; fill:none\" points=\"\n",
       "  147.478,1486.45 147.478,47.2441 \n",
       "  \"/>\n",
       "<polyline clip-path=\"url(#clip460)\" style=\"stroke:#000000; stroke-linecap:round; stroke-linejoin:round; stroke-width:4; stroke-opacity:1; fill:none\" points=\"\n",
       "  147.478,1426.51 166.376,1426.51 \n",
       "  \"/>\n",
       "<polyline clip-path=\"url(#clip460)\" style=\"stroke:#000000; stroke-linecap:round; stroke-linejoin:round; stroke-width:4; stroke-opacity:1; fill:none\" points=\"\n",
       "  147.478,1154.23 166.376,1154.23 \n",
       "  \"/>\n",
       "<polyline clip-path=\"url(#clip460)\" style=\"stroke:#000000; stroke-linecap:round; stroke-linejoin:round; stroke-width:4; stroke-opacity:1; fill:none\" points=\"\n",
       "  147.478,881.953 166.376,881.953 \n",
       "  \"/>\n",
       "<polyline clip-path=\"url(#clip460)\" style=\"stroke:#000000; stroke-linecap:round; stroke-linejoin:round; stroke-width:4; stroke-opacity:1; fill:none\" points=\"\n",
       "  147.478,609.676 166.376,609.676 \n",
       "  \"/>\n",
       "<polyline clip-path=\"url(#clip460)\" style=\"stroke:#000000; stroke-linecap:round; stroke-linejoin:round; stroke-width:4; stroke-opacity:1; fill:none\" points=\"\n",
       "  147.478,337.399 166.376,337.399 \n",
       "  \"/>\n",
       "<polyline clip-path=\"url(#clip460)\" style=\"stroke:#000000; stroke-linecap:round; stroke-linejoin:round; stroke-width:4; stroke-opacity:1; fill:none\" points=\"\n",
       "  147.478,65.1215 166.376,65.1215 \n",
       "  \"/>\n",
       "<path clip-path=\"url(#clip460)\" d=\"M51.3625 1426.96 L81.0383 1426.96 L81.0383 1430.89 L51.3625 1430.89 L51.3625 1426.96 Z\" fill=\"#000000\" fill-rule=\"evenodd\" fill-opacity=\"1\" /><path clip-path=\"url(#clip460)\" d=\"M95.1586 1439.85 L111.478 1439.85 L111.478 1443.79 L89.5336 1443.79 L89.5336 1439.85 Q92.1956 1437.1 96.7789 1432.47 Q101.385 1427.82 102.566 1426.47 Q104.811 1423.95 105.691 1422.21 Q106.594 1420.45 106.594 1418.76 Q106.594 1416.01 104.649 1414.27 Q102.728 1412.54 99.6261 1412.54 Q97.4271 1412.54 94.9734 1413.3 Q92.5428 1414.07 89.7651 1415.62 L89.7651 1410.89 Q92.5891 1409.76 95.0428 1409.18 Q97.4965 1408.6 99.5335 1408.6 Q104.904 1408.6 108.098 1411.29 Q111.293 1413.97 111.293 1418.46 Q111.293 1420.59 110.483 1422.51 Q109.696 1424.41 107.589 1427.01 Q107.01 1427.68 103.909 1430.89 Q100.807 1434.09 95.1586 1439.85 Z\" fill=\"#000000\" fill-rule=\"evenodd\" fill-opacity=\"1\" /><path clip-path=\"url(#clip460)\" d=\"M50.9921 1154.68 L80.6679 1154.68 L80.6679 1158.62 L50.9921 1158.62 L50.9921 1154.68 Z\" fill=\"#000000\" fill-rule=\"evenodd\" fill-opacity=\"1\" /><path clip-path=\"url(#clip460)\" d=\"M91.5706 1167.58 L99.2095 1167.58 L99.2095 1141.21 L90.8993 1142.88 L90.8993 1138.62 L99.1632 1136.95 L103.839 1136.95 L103.839 1167.58 L111.478 1167.58 L111.478 1171.51 L91.5706 1171.51 L91.5706 1167.58 Z\" fill=\"#000000\" fill-rule=\"evenodd\" fill-opacity=\"1\" /><path clip-path=\"url(#clip460)\" d=\"M99.5335 867.752 Q95.9224 867.752 94.0937 871.317 Q92.2882 874.858 92.2882 881.988 Q92.2882 889.094 94.0937 892.659 Q95.9224 896.201 99.5335 896.201 Q103.168 896.201 104.973 892.659 Q106.802 889.094 106.802 881.988 Q106.802 874.858 104.973 871.317 Q103.168 867.752 99.5335 867.752 M99.5335 864.048 Q105.344 864.048 108.399 868.655 Q111.478 873.238 111.478 881.988 Q111.478 890.715 108.399 895.321 Q105.344 899.905 99.5335 899.905 Q93.7234 899.905 90.6447 895.321 Q87.5892 890.715 87.5892 881.988 Q87.5892 873.238 90.6447 868.655 Q93.7234 864.048 99.5335 864.048 Z\" fill=\"#000000\" fill-rule=\"evenodd\" fill-opacity=\"1\" /><path clip-path=\"url(#clip460)\" d=\"M91.5706 623.021 L99.2095 623.021 L99.2095 596.655 L90.8993 598.322 L90.8993 594.063 L99.1632 592.396 L103.839 592.396 L103.839 623.021 L111.478 623.021 L111.478 626.956 L91.5706 626.956 L91.5706 623.021 Z\" fill=\"#000000\" fill-rule=\"evenodd\" fill-opacity=\"1\" /><path clip-path=\"url(#clip460)\" d=\"M95.1586 350.744 L111.478 350.744 L111.478 354.679 L89.5336 354.679 L89.5336 350.744 Q92.1956 347.989 96.7789 343.359 Q101.385 338.707 102.566 337.364 Q104.811 334.841 105.691 333.105 Q106.594 331.346 106.594 329.656 Q106.594 326.901 104.649 325.165 Q102.728 323.429 99.6261 323.429 Q97.4271 323.429 94.9734 324.193 Q92.5428 324.957 89.7651 326.508 L89.7651 321.785 Q92.5891 320.651 95.0428 320.072 Q97.4965 319.494 99.5335 319.494 Q104.904 319.494 108.098 322.179 Q111.293 324.864 111.293 329.355 Q111.293 331.484 110.483 333.406 Q109.696 335.304 107.589 337.896 Q107.01 338.568 103.909 341.785 Q100.807 344.98 95.1586 350.744 Z\" fill=\"#000000\" fill-rule=\"evenodd\" fill-opacity=\"1\" /><path clip-path=\"url(#clip460)\" d=\"M104.348 63.7674 Q107.705 64.485 109.58 66.7535 Q111.478 69.022 111.478 72.3553 Q111.478 77.471 107.959 80.2719 Q104.441 83.0728 97.9595 83.0728 Q95.7836 83.0728 93.4688 82.633 Q91.1771 82.2164 88.7234 81.3599 L88.7234 76.846 Q90.6678 77.9803 92.9826 78.559 Q95.2974 79.1377 97.8206 79.1377 Q102.219 79.1377 104.51 77.4016 Q106.825 75.6655 106.825 72.3553 Q106.825 69.2998 104.672 67.5868 Q102.543 65.8507 98.7234 65.8507 L94.6956 65.8507 L94.6956 62.0081 L98.9085 62.0081 Q102.358 62.0081 104.186 60.6424 Q106.015 59.2535 106.015 56.6609 Q106.015 53.9989 104.117 52.5869 Q102.242 51.1517 98.7234 51.1517 Q96.8021 51.1517 94.603 51.5684 Q92.4039 51.985 89.7651 52.8647 L89.7651 48.698 Q92.4271 47.9573 94.7419 47.5869 Q97.0798 47.2166 99.14 47.2166 Q104.464 47.2166 107.566 49.6471 Q110.668 52.0545 110.668 56.1748 Q110.668 59.0452 109.024 61.0359 Q107.381 63.0035 104.348 63.7674 Z\" fill=\"#000000\" fill-rule=\"evenodd\" fill-opacity=\"1\" /><circle clip-path=\"url(#clip462)\" cx=\"1961.47\" cy=\"255.162\" r=\"14.4\" fill=\"#1f77b4\" fill-rule=\"evenodd\" fill-opacity=\"1\" stroke=\"#000000\" stroke-opacity=\"1\" stroke-width=\"3.2\"/>\n",
       "<circle clip-path=\"url(#clip462)\" cx=\"2077.84\" cy=\"345.07\" r=\"14.4\" fill=\"#1f77b4\" fill-rule=\"evenodd\" fill-opacity=\"1\" stroke=\"#000000\" stroke-opacity=\"1\" stroke-width=\"3.2\"/>\n",
       "<circle clip-path=\"url(#clip462)\" cx=\"2120.76\" cy=\"311.476\" r=\"14.4\" fill=\"#1f77b4\" fill-rule=\"evenodd\" fill-opacity=\"1\" stroke=\"#000000\" stroke-opacity=\"1\" stroke-width=\"3.2\"/>\n",
       "<circle clip-path=\"url(#clip462)\" cx=\"2124.36\" cy=\"372.691\" r=\"14.4\" fill=\"#1f77b4\" fill-rule=\"evenodd\" fill-opacity=\"1\" stroke=\"#000000\" stroke-opacity=\"1\" stroke-width=\"3.2\"/>\n",
       "<circle clip-path=\"url(#clip462)\" cx=\"1974.16\" cy=\"248.013\" r=\"14.4\" fill=\"#1f77b4\" fill-rule=\"evenodd\" fill-opacity=\"1\" stroke=\"#000000\" stroke-opacity=\"1\" stroke-width=\"3.2\"/>\n",
       "<circle clip-path=\"url(#clip462)\" cx=\"1768.3\" cy=\"249.004\" r=\"14.4\" fill=\"#1f77b4\" fill-rule=\"evenodd\" fill-opacity=\"1\" stroke=\"#000000\" stroke-opacity=\"1\" stroke-width=\"3.2\"/>\n",
       "<circle clip-path=\"url(#clip462)\" cx=\"2097.17\" cy=\"318.093\" r=\"14.4\" fill=\"#1f77b4\" fill-rule=\"evenodd\" fill-opacity=\"1\" stroke=\"#000000\" stroke-opacity=\"1\" stroke-width=\"3.2\"/>\n",
       "<circle clip-path=\"url(#clip462)\" cx=\"1982.61\" cy=\"297.081\" r=\"14.4\" fill=\"#1f77b4\" fill-rule=\"evenodd\" fill-opacity=\"1\" stroke=\"#000000\" stroke-opacity=\"1\" stroke-width=\"3.2\"/>\n",
       "<circle clip-path=\"url(#clip462)\" cx=\"2219.28\" cy=\"398.644\" r=\"14.4\" fill=\"#1f77b4\" fill-rule=\"evenodd\" fill-opacity=\"1\" stroke=\"#000000\" stroke-opacity=\"1\" stroke-width=\"3.2\"/>\n",
       "<circle clip-path=\"url(#clip462)\" cx=\"2053.04\" cy=\"340.121\" r=\"14.4\" fill=\"#1f77b4\" fill-rule=\"evenodd\" fill-opacity=\"1\" stroke=\"#000000\" stroke-opacity=\"1\" stroke-width=\"3.2\"/>\n",
       "<circle clip-path=\"url(#clip462)\" cx=\"1840.87\" cy=\"221.472\" r=\"14.4\" fill=\"#1f77b4\" fill-rule=\"evenodd\" fill-opacity=\"1\" stroke=\"#000000\" stroke-opacity=\"1\" stroke-width=\"3.2\"/>\n",
       "<circle clip-path=\"url(#clip462)\" cx=\"2016.44\" cy=\"331.852\" r=\"14.4\" fill=\"#1f77b4\" fill-rule=\"evenodd\" fill-opacity=\"1\" stroke=\"#000000\" stroke-opacity=\"1\" stroke-width=\"3.2\"/>\n",
       "<circle clip-path=\"url(#clip462)\" cx=\"2109.27\" cy=\"343.45\" r=\"14.4\" fill=\"#1f77b4\" fill-rule=\"evenodd\" fill-opacity=\"1\" stroke=\"#000000\" stroke-opacity=\"1\" stroke-width=\"3.2\"/>\n",
       "<circle clip-path=\"url(#clip462)\" cx=\"2290.34\" cy=\"324.251\" r=\"14.4\" fill=\"#1f77b4\" fill-rule=\"evenodd\" fill-opacity=\"1\" stroke=\"#000000\" stroke-opacity=\"1\" stroke-width=\"3.2\"/>\n",
       "<circle clip-path=\"url(#clip462)\" cx=\"1751.76\" cy=\"87.9763\" r=\"14.4\" fill=\"#1f77b4\" fill-rule=\"evenodd\" fill-opacity=\"1\" stroke=\"#000000\" stroke-opacity=\"1\" stroke-width=\"3.2\"/>\n",
       "<circle clip-path=\"url(#clip462)\" cx=\"1661.33\" cy=\"112.768\" r=\"14.4\" fill=\"#1f77b4\" fill-rule=\"evenodd\" fill-opacity=\"1\" stroke=\"#000000\" stroke-opacity=\"1\" stroke-width=\"3.2\"/>\n",
       "<circle clip-path=\"url(#clip462)\" cx=\"1838.48\" cy=\"171.823\" r=\"14.4\" fill=\"#1f77b4\" fill-rule=\"evenodd\" fill-opacity=\"1\" stroke=\"#000000\" stroke-opacity=\"1\" stroke-width=\"3.2\"/>\n",
       "<circle clip-path=\"url(#clip462)\" cx=\"1955.73\" cy=\"264.519\" r=\"14.4\" fill=\"#1f77b4\" fill-rule=\"evenodd\" fill-opacity=\"1\" stroke=\"#000000\" stroke-opacity=\"1\" stroke-width=\"3.2\"/>\n",
       "<circle clip-path=\"url(#clip462)\" cx=\"1709.98\" cy=\"231.321\" r=\"14.4\" fill=\"#1f77b4\" fill-rule=\"evenodd\" fill-opacity=\"1\" stroke=\"#000000\" stroke-opacity=\"1\" stroke-width=\"3.2\"/>\n",
       "<circle clip-path=\"url(#clip462)\" cx=\"1899.19\" cy=\"239.155\" r=\"14.4\" fill=\"#1f77b4\" fill-rule=\"evenodd\" fill-opacity=\"1\" stroke=\"#000000\" stroke-opacity=\"1\" stroke-width=\"3.2\"/>\n",
       "<circle clip-path=\"url(#clip462)\" cx=\"1844.78\" cy=\"304.722\" r=\"14.4\" fill=\"#1f77b4\" fill-rule=\"evenodd\" fill-opacity=\"1\" stroke=\"#000000\" stroke-opacity=\"1\" stroke-width=\"3.2\"/>\n",
       "<circle clip-path=\"url(#clip462)\" cx=\"1906.45\" cy=\"263.399\" r=\"14.4\" fill=\"#1f77b4\" fill-rule=\"evenodd\" fill-opacity=\"1\" stroke=\"#000000\" stroke-opacity=\"1\" stroke-width=\"3.2\"/>\n",
       "<circle clip-path=\"url(#clip462)\" cx=\"2147.09\" cy=\"201.781\" r=\"14.4\" fill=\"#1f77b4\" fill-rule=\"evenodd\" fill-opacity=\"1\" stroke=\"#000000\" stroke-opacity=\"1\" stroke-width=\"3.2\"/>\n",
       "<circle clip-path=\"url(#clip462)\" cx=\"1917.61\" cy=\"370.893\" r=\"14.4\" fill=\"#1f77b4\" fill-rule=\"evenodd\" fill-opacity=\"1\" stroke=\"#000000\" stroke-opacity=\"1\" stroke-width=\"3.2\"/>\n",
       "<circle clip-path=\"url(#clip462)\" cx=\"1963.81\" cy=\"389.738\" r=\"14.4\" fill=\"#1f77b4\" fill-rule=\"evenodd\" fill-opacity=\"1\" stroke=\"#000000\" stroke-opacity=\"1\" stroke-width=\"3.2\"/>\n",
       "<circle clip-path=\"url(#clip462)\" cx=\"2017.06\" cy=\"375.923\" r=\"14.4\" fill=\"#1f77b4\" fill-rule=\"evenodd\" fill-opacity=\"1\" stroke=\"#000000\" stroke-opacity=\"1\" stroke-width=\"3.2\"/>\n",
       "<circle clip-path=\"url(#clip462)\" cx=\"1953.59\" cy=\"335.091\" r=\"14.4\" fill=\"#1f77b4\" fill-rule=\"evenodd\" fill-opacity=\"1\" stroke=\"#000000\" stroke-opacity=\"1\" stroke-width=\"3.2\"/>\n",
       "<circle clip-path=\"url(#clip462)\" cx=\"1918.24\" cy=\"266.72\" r=\"14.4\" fill=\"#1f77b4\" fill-rule=\"evenodd\" fill-opacity=\"1\" stroke=\"#000000\" stroke-opacity=\"1\" stroke-width=\"3.2\"/>\n",
       "<circle clip-path=\"url(#clip462)\" cx=\"1948.78\" cy=\"262.311\" r=\"14.4\" fill=\"#1f77b4\" fill-rule=\"evenodd\" fill-opacity=\"1\" stroke=\"#000000\" stroke-opacity=\"1\" stroke-width=\"3.2\"/>\n",
       "<circle clip-path=\"url(#clip462)\" cx=\"2068.13\" cy=\"369.362\" r=\"14.4\" fill=\"#1f77b4\" fill-rule=\"evenodd\" fill-opacity=\"1\" stroke=\"#000000\" stroke-opacity=\"1\" stroke-width=\"3.2\"/>\n",
       "<circle clip-path=\"url(#clip462)\" cx=\"2055.44\" cy=\"376.511\" r=\"14.4\" fill=\"#1f77b4\" fill-rule=\"evenodd\" fill-opacity=\"1\" stroke=\"#000000\" stroke-opacity=\"1\" stroke-width=\"3.2\"/>\n",
       "<circle clip-path=\"url(#clip462)\" cx=\"1868.38\" cy=\"284.846\" r=\"14.4\" fill=\"#1f77b4\" fill-rule=\"evenodd\" fill-opacity=\"1\" stroke=\"#000000\" stroke-opacity=\"1\" stroke-width=\"3.2\"/>\n",
       "<circle clip-path=\"url(#clip462)\" cx=\"1845.99\" cy=\"168.043\" r=\"14.4\" fill=\"#1f77b4\" fill-rule=\"evenodd\" fill-opacity=\"1\" stroke=\"#000000\" stroke-opacity=\"1\" stroke-width=\"3.2\"/>\n",
       "<circle clip-path=\"url(#clip462)\" cx=\"1767.73\" cy=\"120.006\" r=\"14.4\" fill=\"#1f77b4\" fill-rule=\"evenodd\" fill-opacity=\"1\" stroke=\"#000000\" stroke-opacity=\"1\" stroke-width=\"3.2\"/>\n",
       "<circle clip-path=\"url(#clip462)\" cx=\"2047.3\" cy=\"349.479\" r=\"14.4\" fill=\"#1f77b4\" fill-rule=\"evenodd\" fill-opacity=\"1\" stroke=\"#000000\" stroke-opacity=\"1\" stroke-width=\"3.2\"/>\n",
       "<circle clip-path=\"url(#clip462)\" cx=\"2061.25\" cy=\"268.969\" r=\"14.4\" fill=\"#1f77b4\" fill-rule=\"evenodd\" fill-opacity=\"1\" stroke=\"#000000\" stroke-opacity=\"1\" stroke-width=\"3.2\"/>\n",
       "<circle clip-path=\"url(#clip462)\" cx=\"1876.27\" cy=\"204.917\" r=\"14.4\" fill=\"#1f77b4\" fill-rule=\"evenodd\" fill-opacity=\"1\" stroke=\"#000000\" stroke-opacity=\"1\" stroke-width=\"3.2\"/>\n",
       "<circle clip-path=\"url(#clip462)\" cx=\"2005.59\" cy=\"246.393\" r=\"14.4\" fill=\"#1f77b4\" fill-rule=\"evenodd\" fill-opacity=\"1\" stroke=\"#000000\" stroke-opacity=\"1\" stroke-width=\"3.2\"/>\n",
       "<circle clip-path=\"url(#clip462)\" cx=\"2223.82\" cy=\"364.462\" r=\"14.4\" fill=\"#1f77b4\" fill-rule=\"evenodd\" fill-opacity=\"1\" stroke=\"#000000\" stroke-opacity=\"1\" stroke-width=\"3.2\"/>\n",
       "<circle clip-path=\"url(#clip462)\" cx=\"1956.93\" cy=\"289.344\" r=\"14.4\" fill=\"#1f77b4\" fill-rule=\"evenodd\" fill-opacity=\"1\" stroke=\"#000000\" stroke-opacity=\"1\" stroke-width=\"3.2\"/>\n",
       "<circle clip-path=\"url(#clip462)\" cx=\"1998.96\" cy=\"252.961\" r=\"14.4\" fill=\"#1f77b4\" fill-rule=\"evenodd\" fill-opacity=\"1\" stroke=\"#000000\" stroke-opacity=\"1\" stroke-width=\"3.2\"/>\n",
       "<circle clip-path=\"url(#clip462)\" cx=\"2283.38\" cy=\"470.288\" r=\"14.4\" fill=\"#1f77b4\" fill-rule=\"evenodd\" fill-opacity=\"1\" stroke=\"#000000\" stroke-opacity=\"1\" stroke-width=\"3.2\"/>\n",
       "<circle clip-path=\"url(#clip462)\" cx=\"2197.83\" cy=\"334.689\" r=\"14.4\" fill=\"#1f77b4\" fill-rule=\"evenodd\" fill-opacity=\"1\" stroke=\"#000000\" stroke-opacity=\"1\" stroke-width=\"3.2\"/>\n",
       "<circle clip-path=\"url(#clip462)\" cx=\"1929.1\" cy=\"338.92\" r=\"14.4\" fill=\"#1f77b4\" fill-rule=\"evenodd\" fill-opacity=\"1\" stroke=\"#000000\" stroke-opacity=\"1\" stroke-width=\"3.2\"/>\n",
       "<circle clip-path=\"url(#clip462)\" cx=\"1823.27\" cy=\"325.694\" r=\"14.4\" fill=\"#1f77b4\" fill-rule=\"evenodd\" fill-opacity=\"1\" stroke=\"#000000\" stroke-opacity=\"1\" stroke-width=\"3.2\"/>\n",
       "<circle clip-path=\"url(#clip462)\" cx=\"2097.79\" cy=\"362.165\" r=\"14.4\" fill=\"#1f77b4\" fill-rule=\"evenodd\" fill-opacity=\"1\" stroke=\"#000000\" stroke-opacity=\"1\" stroke-width=\"3.2\"/>\n",
       "<circle clip-path=\"url(#clip462)\" cx=\"1887.39\" cy=\"249.093\" r=\"14.4\" fill=\"#1f77b4\" fill-rule=\"evenodd\" fill-opacity=\"1\" stroke=\"#000000\" stroke-opacity=\"1\" stroke-width=\"3.2\"/>\n",
       "<circle clip-path=\"url(#clip462)\" cx=\"2128.91\" cy=\"338.509\" r=\"14.4\" fill=\"#1f77b4\" fill-rule=\"evenodd\" fill-opacity=\"1\" stroke=\"#000000\" stroke-opacity=\"1\" stroke-width=\"3.2\"/>\n",
       "<circle clip-path=\"url(#clip462)\" cx=\"1866.56\" cy=\"229.209\" r=\"14.4\" fill=\"#1f77b4\" fill-rule=\"evenodd\" fill-opacity=\"1\" stroke=\"#000000\" stroke-opacity=\"1\" stroke-width=\"3.2\"/>\n",
       "<circle clip-path=\"url(#clip462)\" cx=\"2013.16\" cy=\"292.673\" r=\"14.4\" fill=\"#1f77b4\" fill-rule=\"evenodd\" fill-opacity=\"1\" stroke=\"#000000\" stroke-opacity=\"1\" stroke-width=\"3.2\"/>\n",
       "<circle clip-path=\"url(#clip462)\" cx=\"864.527\" cy=\"901.845\" r=\"14.4\" fill=\"#8f5e84\" fill-rule=\"evenodd\" fill-opacity=\"1\" stroke=\"#000000\" stroke-opacity=\"1\" stroke-width=\"3.2\"/>\n",
       "<circle clip-path=\"url(#clip462)\" cx=\"1048\" cy=\"919.036\" r=\"14.4\" fill=\"#8f5e84\" fill-rule=\"evenodd\" fill-opacity=\"1\" stroke=\"#000000\" stroke-opacity=\"1\" stroke-width=\"3.2\"/>\n",
       "<circle clip-path=\"url(#clip462)\" cx=\"862.382\" cy=\"972.417\" r=\"14.4\" fill=\"#8f5e84\" fill-rule=\"evenodd\" fill-opacity=\"1\" stroke=\"#000000\" stroke-opacity=\"1\" stroke-width=\"3.2\"/>\n",
       "<circle clip-path=\"url(#clip462)\" cx=\"1495.38\" cy=\"1007.46\" r=\"14.4\" fill=\"#8f5e84\" fill-rule=\"evenodd\" fill-opacity=\"1\" stroke=\"#000000\" stroke-opacity=\"1\" stroke-width=\"3.2\"/>\n",
       "<circle clip-path=\"url(#clip462)\" cx=\"1056.76\" cy=\"990.14\" r=\"14.4\" fill=\"#8f5e84\" fill-rule=\"evenodd\" fill-opacity=\"1\" stroke=\"#000000\" stroke-opacity=\"1\" stroke-width=\"3.2\"/>\n",
       "<circle clip-path=\"url(#clip462)\" cx=\"1291.29\" cy=\"1014.03\" r=\"14.4\" fill=\"#8f5e84\" fill-rule=\"evenodd\" fill-opacity=\"1\" stroke=\"#000000\" stroke-opacity=\"1\" stroke-width=\"3.2\"/>\n",
       "<circle clip-path=\"url(#clip462)\" cx=\"1019.86\" cy=\"959.835\" r=\"14.4\" fill=\"#8f5e84\" fill-rule=\"evenodd\" fill-opacity=\"1\" stroke=\"#000000\" stroke-opacity=\"1\" stroke-width=\"3.2\"/>\n",
       "<circle clip-path=\"url(#clip462)\" cx=\"1776.55\" cy=\"875.86\" r=\"14.4\" fill=\"#8f5e84\" fill-rule=\"evenodd\" fill-opacity=\"1\" stroke=\"#000000\" stroke-opacity=\"1\" stroke-width=\"3.2\"/>\n",
       "<circle clip-path=\"url(#clip462)\" cx=\"1029.56\" cy=\"948.802\" r=\"14.4\" fill=\"#8f5e84\" fill-rule=\"evenodd\" fill-opacity=\"1\" stroke=\"#000000\" stroke-opacity=\"1\" stroke-width=\"3.2\"/>\n",
       "<circle clip-path=\"url(#clip462)\" cx=\"1532.25\" cy=\"961.189\" r=\"14.4\" fill=\"#8f5e84\" fill-rule=\"evenodd\" fill-opacity=\"1\" stroke=\"#000000\" stroke-opacity=\"1\" stroke-width=\"3.2\"/>\n",
       "<circle clip-path=\"url(#clip462)\" cx=\"1767.77\" cy=\"966.259\" r=\"14.4\" fill=\"#8f5e84\" fill-rule=\"evenodd\" fill-opacity=\"1\" stroke=\"#000000\" stroke-opacity=\"1\" stroke-width=\"3.2\"/>\n",
       "<circle clip-path=\"url(#clip462)\" cx=\"1255.07\" cy=\"929.61\" r=\"14.4\" fill=\"#8f5e84\" fill-rule=\"evenodd\" fill-opacity=\"1\" stroke=\"#000000\" stroke-opacity=\"1\" stroke-width=\"3.2\"/>\n",
       "<circle clip-path=\"url(#clip462)\" cx=\"1397.17\" cy=\"955.588\" r=\"14.4\" fill=\"#8f5e84\" fill-rule=\"evenodd\" fill-opacity=\"1\" stroke=\"#000000\" stroke-opacity=\"1\" stroke-width=\"3.2\"/>\n",
       "<circle clip-path=\"url(#clip462)\" cx=\"1134.71\" cy=\"1016.14\" r=\"14.4\" fill=\"#8f5e84\" fill-rule=\"evenodd\" fill-opacity=\"1\" stroke=\"#000000\" stroke-opacity=\"1\" stroke-width=\"3.2\"/>\n",
       "<circle clip-path=\"url(#clip462)\" cx=\"1461.88\" cy=\"833.223\" r=\"14.4\" fill=\"#8f5e84\" fill-rule=\"evenodd\" fill-opacity=\"1\" stroke=\"#000000\" stroke-opacity=\"1\" stroke-width=\"3.2\"/>\n",
       "<circle clip-path=\"url(#clip462)\" cx=\"1007.22\" cy=\"882.058\" r=\"14.4\" fill=\"#8f5e84\" fill-rule=\"evenodd\" fill-opacity=\"1\" stroke=\"#000000\" stroke-opacity=\"1\" stroke-width=\"3.2\"/>\n",
       "<circle clip-path=\"url(#clip462)\" cx=\"1279.5\" cy=\"1010.71\" r=\"14.4\" fill=\"#8f5e84\" fill-rule=\"evenodd\" fill-opacity=\"1\" stroke=\"#000000\" stroke-opacity=\"1\" stroke-width=\"3.2\"/>\n",
       "<circle clip-path=\"url(#clip462)\" cx=\"1366.01\" cy=\"915.925\" r=\"14.4\" fill=\"#8f5e84\" fill-rule=\"evenodd\" fill-opacity=\"1\" stroke=\"#000000\" stroke-opacity=\"1\" stroke-width=\"3.2\"/>\n",
       "<circle clip-path=\"url(#clip462)\" cx=\"1229.36\" cy=\"1083.38\" r=\"14.4\" fill=\"#8f5e84\" fill-rule=\"evenodd\" fill-opacity=\"1\" stroke=\"#000000\" stroke-opacity=\"1\" stroke-width=\"3.2\"/>\n",
       "<circle clip-path=\"url(#clip462)\" cx=\"1472.73\" cy=\"931.94\" r=\"14.4\" fill=\"#8f5e84\" fill-rule=\"evenodd\" fill-opacity=\"1\" stroke=\"#000000\" stroke-opacity=\"1\" stroke-width=\"3.2\"/>\n",
       "<circle clip-path=\"url(#clip462)\" cx=\"1106.58\" cy=\"1043.68\" r=\"14.4\" fill=\"#8f5e84\" fill-rule=\"evenodd\" fill-opacity=\"1\" stroke=\"#000000\" stroke-opacity=\"1\" stroke-width=\"3.2\"/>\n",
       "<circle clip-path=\"url(#clip462)\" cx=\"1276.26\" cy=\"886.603\" r=\"14.4\" fill=\"#8f5e84\" fill-rule=\"evenodd\" fill-opacity=\"1\" stroke=\"#000000\" stroke-opacity=\"1\" stroke-width=\"3.2\"/>\n",
       "<circle clip-path=\"url(#clip462)\" cx=\"1094.5\" cy=\"1108.16\" r=\"14.4\" fill=\"#8f5e84\" fill-rule=\"evenodd\" fill-opacity=\"1\" stroke=\"#000000\" stroke-opacity=\"1\" stroke-width=\"3.2\"/>\n",
       "<circle clip-path=\"url(#clip462)\" cx=\"1159.19\" cy=\"1012.31\" r=\"14.4\" fill=\"#8f5e84\" fill-rule=\"evenodd\" fill-opacity=\"1\" stroke=\"#000000\" stroke-opacity=\"1\" stroke-width=\"3.2\"/>\n",
       "<circle clip-path=\"url(#clip462)\" cx=\"1133.57\" cy=\"906.39\" r=\"14.4\" fill=\"#8f5e84\" fill-rule=\"evenodd\" fill-opacity=\"1\" stroke=\"#000000\" stroke-opacity=\"1\" stroke-width=\"3.2\"/>\n",
       "<circle clip-path=\"url(#clip462)\" cx=\"1045.91\" cy=\"904.682\" r=\"14.4\" fill=\"#8f5e84\" fill-rule=\"evenodd\" fill-opacity=\"1\" stroke=\"#000000\" stroke-opacity=\"1\" stroke-width=\"3.2\"/>\n",
       "<circle clip-path=\"url(#clip462)\" cx=\"950.352\" cy=\"996.161\" r=\"14.4\" fill=\"#8f5e84\" fill-rule=\"evenodd\" fill-opacity=\"1\" stroke=\"#000000\" stroke-opacity=\"1\" stroke-width=\"3.2\"/>\n",
       "<circle clip-path=\"url(#clip462)\" cx=\"897.726\" cy=\"1040.79\" r=\"14.4\" fill=\"#8f5e84\" fill-rule=\"evenodd\" fill-opacity=\"1\" stroke=\"#000000\" stroke-opacity=\"1\" stroke-width=\"3.2\"/>\n",
       "<circle clip-path=\"url(#clip462)\" cx=\"1189.74\" cy=\"994.646\" r=\"14.4\" fill=\"#8f5e84\" fill-rule=\"evenodd\" fill-opacity=\"1\" stroke=\"#000000\" stroke-opacity=\"1\" stroke-width=\"3.2\"/>\n",
       "<circle clip-path=\"url(#clip462)\" cx=\"1509.96\" cy=\"822.778\" r=\"14.4\" fill=\"#8f5e84\" fill-rule=\"evenodd\" fill-opacity=\"1\" stroke=\"#000000\" stroke-opacity=\"1\" stroke-width=\"3.2\"/>\n",
       "<circle clip-path=\"url(#clip462)\" cx=\"1528.96\" cy=\"935.269\" r=\"14.4\" fill=\"#8f5e84\" fill-rule=\"evenodd\" fill-opacity=\"1\" stroke=\"#000000\" stroke-opacity=\"1\" stroke-width=\"3.2\"/>\n",
       "<circle clip-path=\"url(#clip462)\" cx=\"1552.24\" cy=\"906.616\" r=\"14.4\" fill=\"#8f5e84\" fill-rule=\"evenodd\" fill-opacity=\"1\" stroke=\"#000000\" stroke-opacity=\"1\" stroke-width=\"3.2\"/>\n",
       "<circle clip-path=\"url(#clip462)\" cx=\"1389.61\" cy=\"896.05\" r=\"14.4\" fill=\"#8f5e84\" fill-rule=\"evenodd\" fill-opacity=\"1\" stroke=\"#000000\" stroke-opacity=\"1\" stroke-width=\"3.2\"/>\n",
       "<circle clip-path=\"url(#clip462)\" cx=\"1104.73\" cy=\"1149.55\" r=\"14.4\" fill=\"#8f5e84\" fill-rule=\"evenodd\" fill-opacity=\"1\" stroke=\"#000000\" stroke-opacity=\"1\" stroke-width=\"3.2\"/>\n",
       "<circle clip-path=\"url(#clip462)\" cx=\"1330.87\" cy=\"1026.18\" r=\"14.4\" fill=\"#8f5e84\" fill-rule=\"evenodd\" fill-opacity=\"1\" stroke=\"#000000\" stroke-opacity=\"1\" stroke-width=\"3.2\"/>\n",
       "<circle clip-path=\"url(#clip462)\" cx=\"1119.01\" cy=\"929.57\" r=\"14.4\" fill=\"#8f5e84\" fill-rule=\"evenodd\" fill-opacity=\"1\" stroke=\"#000000\" stroke-opacity=\"1\" stroke-width=\"3.2\"/>\n",
       "<circle clip-path=\"url(#clip462)\" cx=\"948.846\" cy=\"949.301\" r=\"14.4\" fill=\"#8f5e84\" fill-rule=\"evenodd\" fill-opacity=\"1\" stroke=\"#000000\" stroke-opacity=\"1\" stroke-width=\"3.2\"/>\n",
       "<circle clip-path=\"url(#clip462)\" cx=\"1219.7\" cy=\"1022.74\" r=\"14.4\" fill=\"#8f5e84\" fill-rule=\"evenodd\" fill-opacity=\"1\" stroke=\"#000000\" stroke-opacity=\"1\" stroke-width=\"3.2\"/>\n",
       "<circle clip-path=\"url(#clip462)\" cx=\"1361.16\" cy=\"914.813\" r=\"14.4\" fill=\"#8f5e84\" fill-rule=\"evenodd\" fill-opacity=\"1\" stroke=\"#000000\" stroke-opacity=\"1\" stroke-width=\"3.2\"/>\n",
       "<circle clip-path=\"url(#clip462)\" cx=\"1469.38\" cy=\"977.688\" r=\"14.4\" fill=\"#8f5e84\" fill-rule=\"evenodd\" fill-opacity=\"1\" stroke=\"#000000\" stroke-opacity=\"1\" stroke-width=\"3.2\"/>\n",
       "<circle clip-path=\"url(#clip462)\" cx=\"1391.95\" cy=\"1030.63\" r=\"14.4\" fill=\"#8f5e84\" fill-rule=\"evenodd\" fill-opacity=\"1\" stroke=\"#000000\" stroke-opacity=\"1\" stroke-width=\"3.2\"/>\n",
       "<circle clip-path=\"url(#clip462)\" cx=\"1139.26\" cy=\"981.959\" r=\"14.4\" fill=\"#8f5e84\" fill-rule=\"evenodd\" fill-opacity=\"1\" stroke=\"#000000\" stroke-opacity=\"1\" stroke-width=\"3.2\"/>\n",
       "<circle clip-path=\"url(#clip462)\" cx=\"1385.07\" cy=\"930.232\" r=\"14.4\" fill=\"#8f5e84\" fill-rule=\"evenodd\" fill-opacity=\"1\" stroke=\"#000000\" stroke-opacity=\"1\" stroke-width=\"3.2\"/>\n",
       "<circle clip-path=\"url(#clip462)\" cx=\"1763.86\" cy=\"883.009\" r=\"14.4\" fill=\"#8f5e84\" fill-rule=\"evenodd\" fill-opacity=\"1\" stroke=\"#000000\" stroke-opacity=\"1\" stroke-width=\"3.2\"/>\n",
       "<circle clip-path=\"url(#clip462)\" cx=\"1382.61\" cy=\"978.768\" r=\"14.4\" fill=\"#8f5e84\" fill-rule=\"evenodd\" fill-opacity=\"1\" stroke=\"#000000\" stroke-opacity=\"1\" stroke-width=\"3.2\"/>\n",
       "<circle clip-path=\"url(#clip462)\" cx=\"1323.67\" cy=\"917.013\" r=\"14.4\" fill=\"#8f5e84\" fill-rule=\"evenodd\" fill-opacity=\"1\" stroke=\"#000000\" stroke-opacity=\"1\" stroke-width=\"3.2\"/>\n",
       "<circle clip-path=\"url(#clip462)\" cx=\"1330.93\" cy=\"941.257\" r=\"14.4\" fill=\"#8f5e84\" fill-rule=\"evenodd\" fill-opacity=\"1\" stroke=\"#000000\" stroke-opacity=\"1\" stroke-width=\"3.2\"/>\n",
       "<circle clip-path=\"url(#clip462)\" cx=\"1184.94\" cy=\"921.865\" r=\"14.4\" fill=\"#8f5e84\" fill-rule=\"evenodd\" fill-opacity=\"1\" stroke=\"#000000\" stroke-opacity=\"1\" stroke-width=\"3.2\"/>\n",
       "<circle clip-path=\"url(#clip462)\" cx=\"1759.07\" cy=\"796.97\" r=\"14.4\" fill=\"#8f5e84\" fill-rule=\"evenodd\" fill-opacity=\"1\" stroke=\"#000000\" stroke-opacity=\"1\" stroke-width=\"3.2\"/>\n",
       "<circle clip-path=\"url(#clip462)\" cx=\"1361.47\" cy=\"936.848\" r=\"14.4\" fill=\"#8f5e84\" fill-rule=\"evenodd\" fill-opacity=\"1\" stroke=\"#000000\" stroke-opacity=\"1\" stroke-width=\"3.2\"/>\n",
       "<circle clip-path=\"url(#clip462)\" cx=\"740.095\" cy=\"1294.89\" r=\"14.4\" fill=\"#17becf\" fill-rule=\"evenodd\" fill-opacity=\"1\" stroke=\"#000000\" stroke-opacity=\"1\" stroke-width=\"3.2\"/>\n",
       "<circle clip-path=\"url(#clip462)\" cx=\"1138.88\" cy=\"1193.1\" r=\"14.4\" fill=\"#17becf\" fill-rule=\"evenodd\" fill-opacity=\"1\" stroke=\"#000000\" stroke-opacity=\"1\" stroke-width=\"3.2\"/>\n",
       "<circle clip-path=\"url(#clip462)\" cx=\"614.105\" cy=\"1220.93\" r=\"14.4\" fill=\"#17becf\" fill-rule=\"evenodd\" fill-opacity=\"1\" stroke=\"#000000\" stroke-opacity=\"1\" stroke-width=\"3.2\"/>\n",
       "<circle clip-path=\"url(#clip462)\" cx=\"902.465\" cy=\"1211.75\" r=\"14.4\" fill=\"#17becf\" fill-rule=\"evenodd\" fill-opacity=\"1\" stroke=\"#000000\" stroke-opacity=\"1\" stroke-width=\"3.2\"/>\n",
       "<circle clip-path=\"url(#clip462)\" cx=\"780.032\" cy=\"1257.41\" r=\"14.4\" fill=\"#17becf\" fill-rule=\"evenodd\" fill-opacity=\"1\" stroke=\"#000000\" stroke-opacity=\"1\" stroke-width=\"3.2\"/>\n",
       "<circle clip-path=\"url(#clip462)\" cx=\"362.856\" cy=\"1317.31\" r=\"14.4\" fill=\"#17becf\" fill-rule=\"evenodd\" fill-opacity=\"1\" stroke=\"#000000\" stroke-opacity=\"1\" stroke-width=\"3.2\"/>\n",
       "<circle clip-path=\"url(#clip462)\" cx=\"1512.82\" cy=\"1158.02\" r=\"14.4\" fill=\"#17becf\" fill-rule=\"evenodd\" fill-opacity=\"1\" stroke=\"#000000\" stroke-opacity=\"1\" stroke-width=\"3.2\"/>\n",
       "<circle clip-path=\"url(#clip462)\" cx=\"522.778\" cy=\"1269.45\" r=\"14.4\" fill=\"#17becf\" fill-rule=\"evenodd\" fill-opacity=\"1\" stroke=\"#000000\" stroke-opacity=\"1\" stroke-width=\"3.2\"/>\n",
       "<circle clip-path=\"url(#clip462)\" cx=\"816.62\" cy=\"1278.94\" r=\"14.4\" fill=\"#17becf\" fill-rule=\"evenodd\" fill-opacity=\"1\" stroke=\"#000000\" stroke-opacity=\"1\" stroke-width=\"3.2\"/>\n",
       "<circle clip-path=\"url(#clip462)\" cx=\"452.367\" cy=\"1199.89\" r=\"14.4\" fill=\"#17becf\" fill-rule=\"evenodd\" fill-opacity=\"1\" stroke=\"#000000\" stroke-opacity=\"1\" stroke-width=\"3.2\"/>\n",
       "<circle clip-path=\"url(#clip462)\" cx=\"888.332\" cy=\"1073.86\" r=\"14.4\" fill=\"#17becf\" fill-rule=\"evenodd\" fill-opacity=\"1\" stroke=\"#000000\" stroke-opacity=\"1\" stroke-width=\"3.2\"/>\n",
       "<circle clip-path=\"url(#clip462)\" cx=\"949.666\" cy=\"1185.26\" r=\"14.4\" fill=\"#17becf\" fill-rule=\"evenodd\" fill-opacity=\"1\" stroke=\"#000000\" stroke-opacity=\"1\" stroke-width=\"3.2\"/>\n",
       "<circle clip-path=\"url(#clip462)\" cx=\"761.346\" cy=\"1166.96\" r=\"14.4\" fill=\"#17becf\" fill-rule=\"evenodd\" fill-opacity=\"1\" stroke=\"#000000\" stroke-opacity=\"1\" stroke-width=\"3.2\"/>\n",
       "<circle clip-path=\"url(#clip462)\" cx=\"1202.37\" cy=\"1220.67\" r=\"14.4\" fill=\"#17becf\" fill-rule=\"evenodd\" fill-opacity=\"1\" stroke=\"#000000\" stroke-opacity=\"1\" stroke-width=\"3.2\"/>\n",
       "<circle clip-path=\"url(#clip462)\" cx=\"1097.17\" cy=\"1225\" r=\"14.4\" fill=\"#17becf\" fill-rule=\"evenodd\" fill-opacity=\"1\" stroke=\"#000000\" stroke-opacity=\"1\" stroke-width=\"3.2\"/>\n",
       "<circle clip-path=\"url(#clip462)\" cx=\"861.703\" cy=\"1148.26\" r=\"14.4\" fill=\"#17becf\" fill-rule=\"evenodd\" fill-opacity=\"1\" stroke=\"#000000\" stroke-opacity=\"1\" stroke-width=\"3.2\"/>\n",
       "<circle clip-path=\"url(#clip462)\" cx=\"855.636\" cy=\"1162.1\" r=\"14.4\" fill=\"#17becf\" fill-rule=\"evenodd\" fill-opacity=\"1\" stroke=\"#000000\" stroke-opacity=\"1\" stroke-width=\"3.2\"/>\n",
       "<circle clip-path=\"url(#clip462)\" cx=\"209.891\" cy=\"1219.13\" r=\"14.4\" fill=\"#17becf\" fill-rule=\"evenodd\" fill-opacity=\"1\" stroke=\"#000000\" stroke-opacity=\"1\" stroke-width=\"3.2\"/>\n",
       "<circle clip-path=\"url(#clip462)\" cx=\"325.045\" cy=\"1445.72\" r=\"14.4\" fill=\"#17becf\" fill-rule=\"evenodd\" fill-opacity=\"1\" stroke=\"#000000\" stroke-opacity=\"1\" stroke-width=\"3.2\"/>\n",
       "<circle clip-path=\"url(#clip462)\" cx=\"1193.01\" cy=\"1195.33\" r=\"14.4\" fill=\"#17becf\" fill-rule=\"evenodd\" fill-opacity=\"1\" stroke=\"#000000\" stroke-opacity=\"1\" stroke-width=\"3.2\"/>\n",
       "<circle clip-path=\"url(#clip462)\" cx=\"663.087\" cy=\"1186.75\" r=\"14.4\" fill=\"#17becf\" fill-rule=\"evenodd\" fill-opacity=\"1\" stroke=\"#000000\" stroke-opacity=\"1\" stroke-width=\"3.2\"/>\n",
       "<circle clip-path=\"url(#clip462)\" cx=\"1206.6\" cy=\"1164.45\" r=\"14.4\" fill=\"#17becf\" fill-rule=\"evenodd\" fill-opacity=\"1\" stroke=\"#000000\" stroke-opacity=\"1\" stroke-width=\"3.2\"/>\n",
       "<circle clip-path=\"url(#clip462)\" cx=\"351.363\" cy=\"1349.28\" r=\"14.4\" fill=\"#17becf\" fill-rule=\"evenodd\" fill-opacity=\"1\" stroke=\"#000000\" stroke-opacity=\"1\" stroke-width=\"3.2\"/>\n",
       "<circle clip-path=\"url(#clip462)\" cx=\"1051.27\" cy=\"1106.46\" r=\"14.4\" fill=\"#17becf\" fill-rule=\"evenodd\" fill-opacity=\"1\" stroke=\"#000000\" stroke-opacity=\"1\" stroke-width=\"3.2\"/>\n",
       "<circle clip-path=\"url(#clip462)\" cx=\"712.948\" cy=\"1168.63\" r=\"14.4\" fill=\"#17becf\" fill-rule=\"evenodd\" fill-opacity=\"1\" stroke=\"#000000\" stroke-opacity=\"1\" stroke-width=\"3.2\"/>\n",
       "<circle clip-path=\"url(#clip462)\" cx=\"562.103\" cy=\"1174.64\" r=\"14.4\" fill=\"#17becf\" fill-rule=\"evenodd\" fill-opacity=\"1\" stroke=\"#000000\" stroke-opacity=\"1\" stroke-width=\"3.2\"/>\n",
       "<circle clip-path=\"url(#clip462)\" cx=\"1081.51\" cy=\"1080.02\" r=\"14.4\" fill=\"#17becf\" fill-rule=\"evenodd\" fill-opacity=\"1\" stroke=\"#000000\" stroke-opacity=\"1\" stroke-width=\"3.2\"/>\n",
       "<circle clip-path=\"url(#clip462)\" cx=\"1063.65\" cy=\"1077.27\" r=\"14.4\" fill=\"#17becf\" fill-rule=\"evenodd\" fill-opacity=\"1\" stroke=\"#000000\" stroke-opacity=\"1\" stroke-width=\"3.2\"/>\n",
       "<circle clip-path=\"url(#clip462)\" cx=\"872.549\" cy=\"1246.98\" r=\"14.4\" fill=\"#17becf\" fill-rule=\"evenodd\" fill-opacity=\"1\" stroke=\"#000000\" stroke-opacity=\"1\" stroke-width=\"3.2\"/>\n",
       "<circle clip-path=\"url(#clip462)\" cx=\"634.674\" cy=\"1147.11\" r=\"14.4\" fill=\"#17becf\" fill-rule=\"evenodd\" fill-opacity=\"1\" stroke=\"#000000\" stroke-opacity=\"1\" stroke-width=\"3.2\"/>\n",
       "<circle clip-path=\"url(#clip462)\" cx=\"539.436\" cy=\"1247.36\" r=\"14.4\" fill=\"#17becf\" fill-rule=\"evenodd\" fill-opacity=\"1\" stroke=\"#000000\" stroke-opacity=\"1\" stroke-width=\"3.2\"/>\n",
       "<circle clip-path=\"url(#clip462)\" cx=\"222.635\" cy=\"1127.05\" r=\"14.4\" fill=\"#17becf\" fill-rule=\"evenodd\" fill-opacity=\"1\" stroke=\"#000000\" stroke-opacity=\"1\" stroke-width=\"3.2\"/>\n",
       "<circle clip-path=\"url(#clip462)\" cx=\"866.806\" cy=\"1256.33\" r=\"14.4\" fill=\"#17becf\" fill-rule=\"evenodd\" fill-opacity=\"1\" stroke=\"#000000\" stroke-opacity=\"1\" stroke-width=\"3.2\"/>\n",
       "<circle clip-path=\"url(#clip462)\" cx=\"1020.41\" cy=\"1102.09\" r=\"14.4\" fill=\"#17becf\" fill-rule=\"evenodd\" fill-opacity=\"1\" stroke=\"#000000\" stroke-opacity=\"1\" stroke-width=\"3.2\"/>\n",
       "<circle clip-path=\"url(#clip462)\" cx=\"1015.81\" cy=\"1234.46\" r=\"14.4\" fill=\"#17becf\" fill-rule=\"evenodd\" fill-opacity=\"1\" stroke=\"#000000\" stroke-opacity=\"1\" stroke-width=\"3.2\"/>\n",
       "<circle clip-path=\"url(#clip462)\" cx=\"413.407\" cy=\"1231.81\" r=\"14.4\" fill=\"#17becf\" fill-rule=\"evenodd\" fill-opacity=\"1\" stroke=\"#000000\" stroke-opacity=\"1\" stroke-width=\"3.2\"/>\n",
       "<circle clip-path=\"url(#clip462)\" cx=\"803.017\" cy=\"1193.47\" r=\"14.4\" fill=\"#17becf\" fill-rule=\"evenodd\" fill-opacity=\"1\" stroke=\"#000000\" stroke-opacity=\"1\" stroke-width=\"3.2\"/>\n",
       "<circle clip-path=\"url(#clip462)\" cx=\"868.324\" cy=\"1154.95\" r=\"14.4\" fill=\"#17becf\" fill-rule=\"evenodd\" fill-opacity=\"1\" stroke=\"#000000\" stroke-opacity=\"1\" stroke-width=\"3.2\"/>\n",
       "<circle clip-path=\"url(#clip462)\" cx=\"1106.89\" cy=\"1065.72\" r=\"14.4\" fill=\"#17becf\" fill-rule=\"evenodd\" fill-opacity=\"1\" stroke=\"#000000\" stroke-opacity=\"1\" stroke-width=\"3.2\"/>\n",
       "<circle clip-path=\"url(#clip462)\" cx=\"740.205\" cy=\"1125.04\" r=\"14.4\" fill=\"#17becf\" fill-rule=\"evenodd\" fill-opacity=\"1\" stroke=\"#000000\" stroke-opacity=\"1\" stroke-width=\"3.2\"/>\n",
       "<circle clip-path=\"url(#clip462)\" cx=\"739.263\" cy=\"1207.18\" r=\"14.4\" fill=\"#17becf\" fill-rule=\"evenodd\" fill-opacity=\"1\" stroke=\"#000000\" stroke-opacity=\"1\" stroke-width=\"3.2\"/>\n",
       "<circle clip-path=\"url(#clip462)\" cx=\"781.354\" cy=\"1085.87\" r=\"14.4\" fill=\"#17becf\" fill-rule=\"evenodd\" fill-opacity=\"1\" stroke=\"#000000\" stroke-opacity=\"1\" stroke-width=\"3.2\"/>\n",
       "<circle clip-path=\"url(#clip462)\" cx=\"1138.88\" cy=\"1193.1\" r=\"14.4\" fill=\"#17becf\" fill-rule=\"evenodd\" fill-opacity=\"1\" stroke=\"#000000\" stroke-opacity=\"1\" stroke-width=\"3.2\"/>\n",
       "<circle clip-path=\"url(#clip462)\" cx=\"653.686\" cy=\"1233.08\" r=\"14.4\" fill=\"#17becf\" fill-rule=\"evenodd\" fill-opacity=\"1\" stroke=\"#000000\" stroke-opacity=\"1\" stroke-width=\"3.2\"/>\n",
       "<circle clip-path=\"url(#clip462)\" cx=\"689.979\" cy=\"1206.05\" r=\"14.4\" fill=\"#17becf\" fill-rule=\"evenodd\" fill-opacity=\"1\" stroke=\"#000000\" stroke-opacity=\"1\" stroke-width=\"3.2\"/>\n",
       "<circle clip-path=\"url(#clip462)\" cx=\"828.183\" cy=\"1135.52\" r=\"14.4\" fill=\"#17becf\" fill-rule=\"evenodd\" fill-opacity=\"1\" stroke=\"#000000\" stroke-opacity=\"1\" stroke-width=\"3.2\"/>\n",
       "<circle clip-path=\"url(#clip462)\" cx=\"1053.98\" cy=\"1164.89\" r=\"14.4\" fill=\"#17becf\" fill-rule=\"evenodd\" fill-opacity=\"1\" stroke=\"#000000\" stroke-opacity=\"1\" stroke-width=\"3.2\"/>\n",
       "<circle clip-path=\"url(#clip462)\" cx=\"896.785\" cy=\"1122.93\" r=\"14.4\" fill=\"#17becf\" fill-rule=\"evenodd\" fill-opacity=\"1\" stroke=\"#000000\" stroke-opacity=\"1\" stroke-width=\"3.2\"/>\n",
       "<circle clip-path=\"url(#clip462)\" cx=\"869.536\" cy=\"1153.25\" r=\"14.4\" fill=\"#17becf\" fill-rule=\"evenodd\" fill-opacity=\"1\" stroke=\"#000000\" stroke-opacity=\"1\" stroke-width=\"3.2\"/>\n",
       "<circle clip-path=\"url(#clip462)\" cx=\"1079.94\" cy=\"1131.34\" r=\"14.4\" fill=\"#17becf\" fill-rule=\"evenodd\" fill-opacity=\"1\" stroke=\"#000000\" stroke-opacity=\"1\" stroke-width=\"3.2\"/>\n",
       "<path clip-path=\"url(#clip460)\" d=\"\n",
       "M220.987 198.898 L493.945 198.898 L493.945 95.2176 L220.987 95.2176  Z\n",
       "  \" fill=\"#ffffff\" fill-rule=\"evenodd\" fill-opacity=\"1\"/>\n",
       "<polyline clip-path=\"url(#clip460)\" style=\"stroke:#000000; stroke-linecap:round; stroke-linejoin:round; stroke-width:4; stroke-opacity:1; fill:none\" points=\"\n",
       "  220.987,198.898 493.945,198.898 493.945,95.2176 220.987,95.2176 220.987,198.898 \n",
       "  \"/>\n",
       "<circle clip-path=\"url(#clip460)\" cx=\"319\" cy=\"147.058\" r=\"23.04\" fill=\"#1f77b4\" fill-rule=\"evenodd\" fill-opacity=\"1\" stroke=\"#000000\" stroke-opacity=\"1\" stroke-width=\"5.12\"/>\n",
       "<path clip-path=\"url(#clip460)\" d=\"M430.854 166.745 Q429.049 171.375 427.336 172.787 Q425.623 174.199 422.753 174.199 L419.35 174.199 L419.35 170.634 L421.85 170.634 Q423.609 170.634 424.581 169.8 Q425.554 168.967 426.734 165.865 L427.498 163.921 L417.012 138.412 L421.526 138.412 L429.628 158.689 L437.729 138.412 L442.243 138.412 L430.854 166.745 Z\" fill=\"#000000\" fill-rule=\"evenodd\" fill-opacity=\"1\" /><path clip-path=\"url(#clip460)\" d=\"M449.535 160.402 L457.174 160.402 L457.174 134.037 L448.864 135.703 L448.864 131.444 L457.127 129.778 L461.803 129.778 L461.803 160.402 L469.442 160.402 L469.442 164.338 L449.535 164.338 L449.535 160.402 Z\" fill=\"#000000\" fill-rule=\"evenodd\" fill-opacity=\"1\" /></svg>\n"
      ]
     },
     "execution_count": 31,
     "metadata": {},
     "output_type": "execute_result"
    }
   ],
   "source": [
    "using CategoricalArrays\n",
    "colours = palette(:tab10, 3)\n",
    "U, σ, V = svd(irisM);\n",
    "scatter(irisM * V[:,1], irisM * V[:,2], color = colours[levelcode.(iris[:, :Species])]) "
   ]
  },
  {
   "cell_type": "code",
   "execution_count": 32,
   "id": "194ffe13",
   "metadata": {},
   "outputs": [
    {
     "data": {
      "image/svg+xml": [
       "<?xml version=\"1.0\" encoding=\"utf-8\"?>\n",
       "<svg xmlns=\"http://www.w3.org/2000/svg\" xmlns:xlink=\"http://www.w3.org/1999/xlink\" width=\"600\" height=\"400\" viewBox=\"0 0 2400 1600\">\n",
       "<defs>\n",
       "  <clipPath id=\"clip500\">\n",
       "    <rect x=\"0\" y=\"0\" width=\"2400\" height=\"1600\"/>\n",
       "  </clipPath>\n",
       "</defs>\n",
       "<path clip-path=\"url(#clip500)\" d=\"\n",
       "M0 1600 L2400 1600 L2400 0 L0 0  Z\n",
       "  \" fill=\"#ffffff\" fill-rule=\"evenodd\" fill-opacity=\"1\"/>\n",
       "<defs>\n",
       "  <clipPath id=\"clip501\">\n",
       "    <rect x=\"480\" y=\"0\" width=\"1681\" height=\"1600\"/>\n",
       "  </clipPath>\n",
       "</defs>\n",
       "<defs>\n",
       "  <clipPath id=\"clip502\">\n",
       "    <rect x=\"112\" y=\"47\" width=\"2242\" height=\"1440\"/>\n",
       "  </clipPath>\n",
       "</defs>\n",
       "<path clip-path=\"url(#clip502)\" d=\"\n",
       "M-2646.62 2919.8 L-2646.62 2354.08 L-2428.87 2071.22 L-2051.72 2234.53 L-2051.72 2800.25 L-2269.47 3083.11 L-2646.62 2919.8  Z\n",
       "  \" fill=\"#ffffff\" fill-rule=\"evenodd\" fill-opacity=\"1\"/>\n",
       "<polyline clip-path=\"url(#clip502)\" style=\"stroke:#000000; stroke-linecap:round; stroke-linejoin:round; stroke-width:2; stroke-opacity:0.1; fill:none\" points=\"\n",
       "  817.303,1246.67 1232.77,886.866 1232.77,167.264 \n",
       "  \"/>\n",
       "<polyline clip-path=\"url(#clip502)\" style=\"stroke:#000000; stroke-linecap:round; stroke-linejoin:round; stroke-width:2; stroke-opacity:0.1; fill:none\" points=\"\n",
       "  1005.88,1301.1 1421.34,941.303 1421.34,221.701 \n",
       "  \"/>\n",
       "<polyline clip-path=\"url(#clip502)\" style=\"stroke:#000000; stroke-linecap:round; stroke-linejoin:round; stroke-width:2; stroke-opacity:0.1; fill:none\" points=\"\n",
       "  1194.45,1355.54 1609.92,995.74 1609.92,276.138 \n",
       "  \"/>\n",
       "<polyline clip-path=\"url(#clip502)\" style=\"stroke:#000000; stroke-linecap:round; stroke-linejoin:round; stroke-width:2; stroke-opacity:0.1; fill:none\" points=\"\n",
       "  1383.03,1409.98 1798.49,1050.18 1798.49,330.575 \n",
       "  \"/>\n",
       "<polyline clip-path=\"url(#clip500)\" style=\"stroke:#000000; stroke-linecap:round; stroke-linejoin:round; stroke-width:4; stroke-opacity:1; fill:none\" points=\"\n",
       "  664.934,1202.68 1384.54,1410.41 \n",
       "  \"/>\n",
       "<polyline clip-path=\"url(#clip500)\" style=\"stroke:#000000; stroke-linecap:round; stroke-linejoin:round; stroke-width:4; stroke-opacity:1; fill:none\" points=\"\n",
       "  817.303,1246.67 822.289,1242.35 \n",
       "  \"/>\n",
       "<polyline clip-path=\"url(#clip500)\" style=\"stroke:#000000; stroke-linecap:round; stroke-linejoin:round; stroke-width:4; stroke-opacity:1; fill:none\" points=\"\n",
       "  1005.88,1301.1 1010.86,1296.79 \n",
       "  \"/>\n",
       "<polyline clip-path=\"url(#clip500)\" style=\"stroke:#000000; stroke-linecap:round; stroke-linejoin:round; stroke-width:4; stroke-opacity:1; fill:none\" points=\"\n",
       "  1194.45,1355.54 1199.44,1351.22 \n",
       "  \"/>\n",
       "<polyline clip-path=\"url(#clip500)\" style=\"stroke:#000000; stroke-linecap:round; stroke-linejoin:round; stroke-width:4; stroke-opacity:1; fill:none\" points=\"\n",
       "  1383.03,1409.98 1388.01,1405.66 \n",
       "  \"/>\n",
       "<path clip-path=\"url(#clip500)\" d=\"M784.956 1255.82 L803.313 1255.82 L803.313 1259.75 L789.239 1259.75 L789.239 1268.22 Q790.257 1267.88 791.276 1267.71 Q792.294 1267.53 793.313 1267.53 Q799.1 1267.53 802.479 1270.7 Q805.859 1273.87 805.859 1279.29 Q805.859 1284.87 802.387 1287.97 Q798.915 1291.05 792.595 1291.05 Q790.419 1291.05 788.151 1290.68 Q785.905 1290.31 783.498 1289.57 L783.498 1284.87 Q785.581 1286 787.804 1286.56 Q790.026 1287.11 792.503 1287.11 Q796.507 1287.11 798.845 1285.01 Q801.183 1282.9 801.183 1279.29 Q801.183 1275.68 798.845 1273.57 Q796.507 1271.46 792.503 1271.46 Q790.628 1271.46 788.753 1271.88 Q786.901 1272.3 784.956 1273.18 L784.956 1255.82 Z\" fill=\"#000000\" fill-rule=\"evenodd\" fill-opacity=\"1\" /><path clip-path=\"url(#clip500)\" d=\"M982.906 1325.67 Q979.758 1325.67 977.906 1327.82 Q976.078 1329.97 976.078 1333.72 Q976.078 1337.45 977.906 1339.63 Q979.758 1341.78 982.906 1341.78 Q986.054 1341.78 987.883 1339.63 Q989.735 1337.45 989.735 1333.72 Q989.735 1329.97 987.883 1327.82 Q986.054 1325.67 982.906 1325.67 M992.189 1311.02 L992.189 1315.28 Q990.429 1314.44 988.624 1314 Q986.841 1313.56 985.082 1313.56 Q980.453 1313.56 977.999 1316.69 Q975.568 1319.81 975.221 1326.13 Q976.587 1324.12 978.647 1323.05 Q980.707 1321.97 983.184 1321.97 Q988.392 1321.97 991.402 1325.14 Q994.434 1328.28 994.434 1333.72 Q994.434 1339.05 991.286 1342.27 Q988.138 1345.48 982.906 1345.48 Q976.911 1345.48 973.74 1340.9 Q970.568 1336.29 970.568 1327.57 Q970.568 1319.37 974.457 1314.51 Q978.346 1309.63 984.897 1309.63 Q986.656 1309.63 988.439 1309.97 Q990.244 1310.32 992.189 1311.02 Z\" fill=\"#000000\" fill-rule=\"evenodd\" fill-opacity=\"1\" /><path clip-path=\"url(#clip500)\" d=\"M1160.79 1364.69 L1183.01 1364.69 L1183.01 1366.68 L1170.46 1399.25 L1165.58 1399.25 L1177.38 1368.62 L1160.79 1368.62 L1160.79 1364.69 Z\" fill=\"#000000\" fill-rule=\"evenodd\" fill-opacity=\"1\" /><path clip-path=\"url(#clip500)\" d=\"M1359.73 1437.27 Q1356.4 1437.27 1354.48 1439.06 Q1352.58 1440.84 1352.58 1443.96 Q1352.58 1447.09 1354.48 1448.87 Q1356.4 1450.65 1359.73 1450.65 Q1363.07 1450.65 1364.99 1448.87 Q1366.91 1447.07 1366.91 1443.96 Q1366.91 1440.84 1364.99 1439.06 Q1363.09 1437.27 1359.73 1437.27 M1355.06 1435.28 Q1352.05 1434.54 1350.36 1432.48 Q1348.69 1430.42 1348.69 1427.46 Q1348.69 1423.32 1351.63 1420.91 Q1354.59 1418.5 1359.73 1418.5 Q1364.89 1418.5 1367.83 1420.91 Q1370.77 1423.32 1370.77 1427.46 Q1370.77 1430.42 1369.08 1432.48 Q1367.42 1434.54 1364.43 1435.28 Q1367.81 1436.07 1369.69 1438.36 Q1371.58 1440.65 1371.58 1443.96 Q1371.58 1448.99 1368.51 1451.67 Q1365.45 1454.36 1359.73 1454.36 Q1354.01 1454.36 1350.94 1451.67 Q1347.88 1448.99 1347.88 1443.96 Q1347.88 1440.65 1349.78 1438.36 Q1351.68 1436.07 1355.06 1435.28 M1353.34 1427.9 Q1353.34 1430.58 1355.01 1432.09 Q1356.7 1433.59 1359.73 1433.59 Q1362.74 1433.59 1364.43 1432.09 Q1366.14 1430.58 1366.14 1427.9 Q1366.14 1425.21 1364.43 1423.71 Q1362.74 1422.2 1359.73 1422.2 Q1356.7 1422.2 1355.01 1423.71 Q1353.34 1425.21 1353.34 1427.9 Z\" fill=\"#000000\" fill-rule=\"evenodd\" fill-opacity=\"1\" /><polyline clip-path=\"url(#clip502)\" style=\"stroke:#000000; stroke-linecap:round; stroke-linejoin:round; stroke-width:2; stroke-opacity:0.1; fill:none\" points=\"\n",
       "  1396.29,1400.23 676.693,1192.5 676.693,472.897 \n",
       "  \"/>\n",
       "<polyline clip-path=\"url(#clip502)\" style=\"stroke:#000000; stroke-linecap:round; stroke-linejoin:round; stroke-width:2; stroke-opacity:0.1; fill:none\" points=\"\n",
       "  1477.95,1329.51 758.348,1121.78 758.348,402.181 \n",
       "  \"/>\n",
       "<polyline clip-path=\"url(#clip502)\" style=\"stroke:#000000; stroke-linecap:round; stroke-linejoin:round; stroke-width:2; stroke-opacity:0.1; fill:none\" points=\"\n",
       "  1559.61,1258.8 840.003,1051.07 840.003,331.466 \n",
       "  \"/>\n",
       "<polyline clip-path=\"url(#clip502)\" style=\"stroke:#000000; stroke-linecap:round; stroke-linejoin:round; stroke-width:2; stroke-opacity:0.1; fill:none\" points=\"\n",
       "  1641.26,1188.08 921.659,980.352 921.659,260.75 \n",
       "  \"/>\n",
       "<polyline clip-path=\"url(#clip502)\" style=\"stroke:#000000; stroke-linecap:round; stroke-linejoin:round; stroke-width:2; stroke-opacity:0.1; fill:none\" points=\"\n",
       "  1722.92,1117.37 1003.31,909.636 1003.31,190.035 \n",
       "  \"/>\n",
       "<polyline clip-path=\"url(#clip500)\" style=\"stroke:#000000; stroke-linecap:round; stroke-linejoin:round; stroke-width:4; stroke-opacity:1; fill:none\" points=\"\n",
       "  1384.54,1410.41 1800,1050.61 \n",
       "  \"/>\n",
       "<polyline clip-path=\"url(#clip500)\" style=\"stroke:#000000; stroke-linecap:round; stroke-linejoin:round; stroke-width:4; stroke-opacity:1; fill:none\" points=\"\n",
       "  1396.29,1400.23 1387.66,1397.74 \n",
       "  \"/>\n",
       "<polyline clip-path=\"url(#clip500)\" style=\"stroke:#000000; stroke-linecap:round; stroke-linejoin:round; stroke-width:4; stroke-opacity:1; fill:none\" points=\"\n",
       "  1477.95,1329.51 1469.31,1327.02 \n",
       "  \"/>\n",
       "<polyline clip-path=\"url(#clip500)\" style=\"stroke:#000000; stroke-linecap:round; stroke-linejoin:round; stroke-width:4; stroke-opacity:1; fill:none\" points=\"\n",
       "  1559.61,1258.8 1550.97,1256.31 \n",
       "  \"/>\n",
       "<polyline clip-path=\"url(#clip500)\" style=\"stroke:#000000; stroke-linecap:round; stroke-linejoin:round; stroke-width:4; stroke-opacity:1; fill:none\" points=\"\n",
       "  1641.26,1188.08 1632.63,1185.59 \n",
       "  \"/>\n",
       "<polyline clip-path=\"url(#clip500)\" style=\"stroke:#000000; stroke-linecap:round; stroke-linejoin:round; stroke-width:4; stroke-opacity:1; fill:none\" points=\"\n",
       "  1722.92,1117.37 1714.28,1114.87 \n",
       "  \"/>\n",
       "<path clip-path=\"url(#clip500)\" d=\"M1424.74 1431.14 L1441.06 1431.14 L1441.06 1435.08 L1419.12 1435.08 L1419.12 1431.14 Q1421.78 1428.39 1426.36 1423.76 Q1430.97 1419.11 1432.15 1417.76 Q1434.39 1415.24 1435.27 1413.5 Q1436.18 1411.74 1436.18 1410.05 Q1436.18 1407.3 1434.23 1405.56 Q1432.31 1403.83 1429.21 1403.83 Q1427.01 1403.83 1424.56 1404.59 Q1422.13 1405.36 1419.35 1406.91 L1419.35 1402.18 Q1422.17 1401.05 1424.63 1400.47 Q1427.08 1399.89 1429.12 1399.89 Q1434.49 1399.89 1437.68 1402.58 Q1440.88 1405.26 1440.88 1409.75 Q1440.88 1411.88 1440.06 1413.8 Q1439.28 1415.7 1437.17 1418.3 Q1436.59 1418.97 1433.49 1422.18 Q1430.39 1425.38 1424.74 1431.14 Z\" fill=\"#000000\" fill-rule=\"evenodd\" fill-opacity=\"1\" /><path clip-path=\"url(#clip500)\" d=\"M1450.88 1429.2 L1455.76 1429.2 L1455.76 1435.08 L1450.88 1435.08 L1450.88 1429.2 Z\" fill=\"#000000\" fill-rule=\"evenodd\" fill-opacity=\"1\" /><path clip-path=\"url(#clip500)\" d=\"M1475.94 1403.6 Q1472.33 1403.6 1470.5 1407.16 Q1468.7 1410.7 1468.7 1417.83 Q1468.7 1424.94 1470.5 1428.5 Q1472.33 1432.05 1475.94 1432.05 Q1479.58 1432.05 1481.38 1428.5 Q1483.21 1424.94 1483.21 1417.83 Q1483.21 1410.7 1481.38 1407.16 Q1479.58 1403.6 1475.94 1403.6 M1475.94 1399.89 Q1481.75 1399.89 1484.81 1404.5 Q1487.89 1409.08 1487.89 1417.83 Q1487.89 1426.56 1484.81 1431.17 Q1481.75 1435.75 1475.94 1435.75 Q1470.13 1435.75 1467.06 1431.17 Q1464 1426.56 1464 1417.83 Q1464 1409.08 1467.06 1404.5 Q1470.13 1399.89 1475.94 1399.89 Z\" fill=\"#000000\" fill-rule=\"evenodd\" fill-opacity=\"1\" /><path clip-path=\"url(#clip500)\" d=\"M1506.4 1360.43 L1522.72 1360.43 L1522.72 1364.36 L1500.77 1364.36 L1500.77 1360.43 Q1503.43 1357.67 1508.02 1353.04 Q1512.62 1348.39 1513.8 1347.05 Q1516.05 1344.52 1516.93 1342.79 Q1517.83 1341.03 1517.83 1339.34 Q1517.83 1336.58 1515.89 1334.85 Q1513.97 1333.11 1510.86 1333.11 Q1508.66 1333.11 1506.21 1333.88 Q1503.78 1334.64 1501 1336.19 L1501 1331.47 Q1503.83 1330.33 1506.28 1329.76 Q1508.73 1329.18 1510.77 1329.18 Q1516.14 1329.18 1519.34 1331.86 Q1522.53 1334.55 1522.53 1339.04 Q1522.53 1341.17 1521.72 1343.09 Q1520.93 1344.99 1518.83 1347.58 Q1518.25 1348.25 1515.15 1351.47 Q1512.04 1354.66 1506.4 1360.43 Z\" fill=\"#000000\" fill-rule=\"evenodd\" fill-opacity=\"1\" /><path clip-path=\"url(#clip500)\" d=\"M1532.53 1358.48 L1537.41 1358.48 L1537.41 1364.36 L1532.53 1364.36 L1532.53 1358.48 Z\" fill=\"#000000\" fill-rule=\"evenodd\" fill-opacity=\"1\" /><path clip-path=\"url(#clip500)\" d=\"M1547.65 1329.8 L1566 1329.8 L1566 1333.74 L1551.93 1333.74 L1551.93 1342.21 Q1552.95 1341.86 1553.97 1341.7 Q1554.98 1341.52 1556 1341.52 Q1561.79 1341.52 1565.17 1344.69 Q1568.55 1347.86 1568.55 1353.27 Q1568.55 1358.85 1565.08 1361.95 Q1561.6 1365.03 1555.28 1365.03 Q1553.11 1365.03 1550.84 1364.66 Q1548.6 1364.29 1546.19 1363.55 L1546.19 1358.85 Q1548.27 1359.99 1550.49 1360.54 Q1552.72 1361.1 1555.19 1361.1 Q1559.2 1361.1 1561.53 1358.99 Q1563.87 1356.89 1563.87 1353.27 Q1563.87 1349.66 1561.53 1347.56 Q1559.2 1345.45 1555.19 1345.45 Q1553.32 1345.45 1551.44 1345.87 Q1549.59 1346.28 1547.65 1347.16 L1547.65 1329.8 Z\" fill=\"#000000\" fill-rule=\"evenodd\" fill-opacity=\"1\" /><path clip-path=\"url(#clip500)\" d=\"M1598.05 1275.01 Q1601.41 1275.73 1603.28 1278 Q1605.18 1280.27 1605.18 1283.6 Q1605.18 1288.72 1601.66 1291.52 Q1598.14 1294.32 1591.66 1294.32 Q1589.49 1294.32 1587.17 1293.88 Q1584.88 1293.46 1582.43 1292.6 L1582.43 1288.09 Q1584.37 1289.23 1586.69 1289.8 Q1589 1290.38 1591.52 1290.38 Q1595.92 1290.38 1598.21 1288.65 Q1600.53 1286.91 1600.53 1283.6 Q1600.53 1280.54 1598.38 1278.83 Q1596.25 1277.1 1592.43 1277.1 L1588.4 1277.1 L1588.4 1273.25 L1592.61 1273.25 Q1596.06 1273.25 1597.89 1271.89 Q1599.72 1270.5 1599.72 1267.91 Q1599.72 1265.24 1597.82 1263.83 Q1595.95 1262.4 1592.43 1262.4 Q1590.51 1262.4 1588.31 1262.81 Q1586.11 1263.23 1583.47 1264.11 L1583.47 1259.94 Q1586.13 1259.2 1588.45 1258.83 Q1590.78 1258.46 1592.84 1258.46 Q1598.17 1258.46 1601.27 1260.89 Q1604.37 1263.3 1604.37 1267.42 Q1604.37 1270.29 1602.73 1272.28 Q1601.08 1274.25 1598.05 1275.01 Z\" fill=\"#000000\" fill-rule=\"evenodd\" fill-opacity=\"1\" /><path clip-path=\"url(#clip500)\" d=\"M1614.05 1287.77 L1618.93 1287.77 L1618.93 1293.65 L1614.05 1293.65 L1614.05 1287.77 Z\" fill=\"#000000\" fill-rule=\"evenodd\" fill-opacity=\"1\" /><path clip-path=\"url(#clip500)\" d=\"M1639.12 1262.17 Q1635.51 1262.17 1633.68 1265.73 Q1631.87 1269.27 1631.87 1276.4 Q1631.87 1283.51 1633.68 1287.07 Q1635.51 1290.61 1639.12 1290.61 Q1642.75 1290.61 1644.56 1287.07 Q1646.38 1283.51 1646.38 1276.4 Q1646.38 1269.27 1644.56 1265.73 Q1642.75 1262.17 1639.12 1262.17 M1639.12 1258.46 Q1644.93 1258.46 1647.98 1263.07 Q1651.06 1267.65 1651.06 1276.4 Q1651.06 1285.13 1647.98 1289.73 Q1644.93 1294.32 1639.12 1294.32 Q1633.31 1294.32 1630.23 1289.73 Q1627.17 1285.13 1627.17 1276.4 Q1627.17 1267.65 1630.23 1263.07 Q1633.31 1258.46 1639.12 1258.46 Z\" fill=\"#000000\" fill-rule=\"evenodd\" fill-opacity=\"1\" /><path clip-path=\"url(#clip500)\" d=\"M1679.71 1204.3 Q1683.06 1205.01 1684.94 1207.28 Q1686.84 1209.55 1686.84 1212.88 Q1686.84 1218 1683.32 1220.8 Q1679.8 1223.6 1673.32 1223.6 Q1671.14 1223.6 1668.83 1223.16 Q1666.54 1222.75 1664.08 1221.89 L1664.08 1217.38 Q1666.03 1218.51 1668.34 1219.09 Q1670.66 1219.67 1673.18 1219.67 Q1677.58 1219.67 1679.87 1217.93 Q1682.18 1216.19 1682.18 1212.88 Q1682.18 1209.83 1680.03 1208.12 Q1677.9 1206.38 1674.08 1206.38 L1670.05 1206.38 L1670.05 1202.54 L1674.27 1202.54 Q1677.72 1202.54 1679.54 1201.17 Q1681.37 1199.78 1681.37 1197.19 Q1681.37 1194.53 1679.48 1193.12 Q1677.6 1191.68 1674.08 1191.68 Q1672.16 1191.68 1669.96 1192.1 Q1667.76 1192.51 1665.12 1193.39 L1665.12 1189.23 Q1667.79 1188.49 1670.1 1188.12 Q1672.44 1187.75 1674.5 1187.75 Q1679.82 1187.75 1682.92 1190.18 Q1686.03 1192.58 1686.03 1196.7 Q1686.03 1199.57 1684.38 1201.57 Q1682.74 1203.53 1679.71 1204.3 Z\" fill=\"#000000\" fill-rule=\"evenodd\" fill-opacity=\"1\" /><path clip-path=\"url(#clip500)\" d=\"M1695.7 1217.05 L1700.59 1217.05 L1700.59 1222.93 L1695.7 1222.93 L1695.7 1217.05 Z\" fill=\"#000000\" fill-rule=\"evenodd\" fill-opacity=\"1\" /><path clip-path=\"url(#clip500)\" d=\"M1710.82 1188.37 L1729.17 1188.37 L1729.17 1192.31 L1715.1 1192.31 L1715.1 1200.78 Q1716.12 1200.43 1717.14 1200.27 Q1718.16 1200.08 1719.17 1200.08 Q1724.96 1200.08 1728.34 1203.26 Q1731.72 1206.43 1731.72 1211.84 Q1731.72 1217.42 1728.25 1220.52 Q1724.78 1223.6 1718.46 1223.6 Q1716.28 1223.6 1714.01 1223.23 Q1711.77 1222.86 1709.36 1222.12 L1709.36 1217.42 Q1711.44 1218.56 1713.67 1219.11 Q1715.89 1219.67 1718.36 1219.67 Q1722.37 1219.67 1724.71 1217.56 Q1727.04 1215.45 1727.04 1211.84 Q1727.04 1208.23 1724.71 1206.13 Q1722.37 1204.02 1718.36 1204.02 Q1716.49 1204.02 1714.61 1204.44 Q1712.76 1204.85 1710.82 1205.73 L1710.82 1188.37 Z\" fill=\"#000000\" fill-rule=\"evenodd\" fill-opacity=\"1\" /><path clip-path=\"url(#clip500)\" d=\"M1761.34 1121.73 L1749.53 1140.18 L1761.34 1140.18 L1761.34 1121.73 M1760.11 1117.66 L1765.99 1117.66 L1765.99 1140.18 L1770.92 1140.18 L1770.92 1144.07 L1765.99 1144.07 L1765.99 1152.22 L1761.34 1152.22 L1761.34 1144.07 L1745.74 1144.07 L1745.74 1139.55 L1760.11 1117.66 Z\" fill=\"#000000\" fill-rule=\"evenodd\" fill-opacity=\"1\" /><path clip-path=\"url(#clip500)\" d=\"M1778.65 1146.34 L1783.54 1146.34 L1783.54 1152.22 L1778.65 1152.22 L1778.65 1146.34 Z\" fill=\"#000000\" fill-rule=\"evenodd\" fill-opacity=\"1\" /><path clip-path=\"url(#clip500)\" d=\"M1803.72 1120.73 Q1800.11 1120.73 1798.28 1124.3 Q1796.48 1127.84 1796.48 1134.97 Q1796.48 1142.08 1798.28 1145.64 Q1800.11 1149.18 1803.72 1149.18 Q1807.36 1149.18 1809.16 1145.64 Q1810.99 1142.08 1810.99 1134.97 Q1810.99 1127.84 1809.16 1124.3 Q1807.36 1120.73 1803.72 1120.73 M1803.72 1117.03 Q1809.53 1117.03 1812.59 1121.64 Q1815.67 1126.22 1815.67 1134.97 Q1815.67 1143.7 1812.59 1148.3 Q1809.53 1152.89 1803.72 1152.89 Q1797.91 1152.89 1794.83 1148.3 Q1791.78 1143.7 1791.78 1134.97 Q1791.78 1126.22 1794.83 1121.64 Q1797.91 1117.03 1803.72 1117.03 Z\" fill=\"#000000\" fill-rule=\"evenodd\" fill-opacity=\"1\" /><polyline clip-path=\"url(#clip502)\" style=\"stroke:#000000; stroke-linecap:round; stroke-linejoin:round; stroke-width:2; stroke-opacity:0.1; fill:none\" points=\"\n",
       "  664.934,1182.32 1080.4,822.515 1800,1030.25 \n",
       "  \"/>\n",
       "<polyline clip-path=\"url(#clip502)\" style=\"stroke:#000000; stroke-linecap:round; stroke-linejoin:round; stroke-width:2; stroke-opacity:0.1; fill:none\" points=\"\n",
       "  664.934,1067.25 1080.4,707.452 1800,915.183 \n",
       "  \"/>\n",
       "<polyline clip-path=\"url(#clip502)\" style=\"stroke:#000000; stroke-linecap:round; stroke-linejoin:round; stroke-width:2; stroke-opacity:0.1; fill:none\" points=\"\n",
       "  664.934,952.19 1080.4,592.389 1800,800.121 \n",
       "  \"/>\n",
       "<polyline clip-path=\"url(#clip502)\" style=\"stroke:#000000; stroke-linecap:round; stroke-linejoin:round; stroke-width:2; stroke-opacity:0.1; fill:none\" points=\"\n",
       "  664.934,837.128 1080.4,477.327 1800,685.058 \n",
       "  \"/>\n",
       "<polyline clip-path=\"url(#clip502)\" style=\"stroke:#000000; stroke-linecap:round; stroke-linejoin:round; stroke-width:2; stroke-opacity:0.1; fill:none\" points=\"\n",
       "  664.934,722.065 1080.4,362.264 1800,569.995 \n",
       "  \"/>\n",
       "<polyline clip-path=\"url(#clip502)\" style=\"stroke:#000000; stroke-linecap:round; stroke-linejoin:round; stroke-width:2; stroke-opacity:0.1; fill:none\" points=\"\n",
       "  664.934,607.002 1080.4,247.201 1800,454.933 \n",
       "  \"/>\n",
       "<polyline clip-path=\"url(#clip502)\" style=\"stroke:#000000; stroke-linecap:round; stroke-linejoin:round; stroke-width:2; stroke-opacity:0.1; fill:none\" points=\"\n",
       "  664.934,491.94 1080.4,132.139 1800,339.87 \n",
       "  \"/>\n",
       "<polyline clip-path=\"url(#clip500)\" style=\"stroke:#000000; stroke-linecap:round; stroke-linejoin:round; stroke-width:4; stroke-opacity:1; fill:none\" points=\"\n",
       "  664.934,1202.68 664.934,483.08 \n",
       "  \"/>\n",
       "<polyline clip-path=\"url(#clip500)\" style=\"stroke:#000000; stroke-linecap:round; stroke-linejoin:round; stroke-width:4; stroke-opacity:1; fill:none\" points=\"\n",
       "  664.934,1182.32 669.92,1178 \n",
       "  \"/>\n",
       "<polyline clip-path=\"url(#clip500)\" style=\"stroke:#000000; stroke-linecap:round; stroke-linejoin:round; stroke-width:4; stroke-opacity:1; fill:none\" points=\"\n",
       "  664.934,1067.25 669.92,1062.94 \n",
       "  \"/>\n",
       "<polyline clip-path=\"url(#clip500)\" style=\"stroke:#000000; stroke-linecap:round; stroke-linejoin:round; stroke-width:4; stroke-opacity:1; fill:none\" points=\"\n",
       "  664.934,952.19 669.92,947.873 \n",
       "  \"/>\n",
       "<polyline clip-path=\"url(#clip500)\" style=\"stroke:#000000; stroke-linecap:round; stroke-linejoin:round; stroke-width:4; stroke-opacity:1; fill:none\" points=\"\n",
       "  664.934,837.128 669.92,832.81 \n",
       "  \"/>\n",
       "<polyline clip-path=\"url(#clip500)\" style=\"stroke:#000000; stroke-linecap:round; stroke-linejoin:round; stroke-width:4; stroke-opacity:1; fill:none\" points=\"\n",
       "  664.934,722.065 669.92,717.747 \n",
       "  \"/>\n",
       "<polyline clip-path=\"url(#clip500)\" style=\"stroke:#000000; stroke-linecap:round; stroke-linejoin:round; stroke-width:4; stroke-opacity:1; fill:none\" points=\"\n",
       "  664.934,607.002 669.92,602.685 \n",
       "  \"/>\n",
       "<polyline clip-path=\"url(#clip500)\" style=\"stroke:#000000; stroke-linecap:round; stroke-linejoin:round; stroke-width:4; stroke-opacity:1; fill:none\" points=\"\n",
       "  664.934,491.94 669.92,487.622 \n",
       "  \"/>\n",
       "<path clip-path=\"url(#clip500)\" d=\"M616.227 1195.66 L623.866 1195.66 L623.866 1169.29 L615.556 1170.96 L615.556 1166.7 L623.82 1165.04 L628.496 1165.04 L628.496 1195.66 L636.134 1195.66 L636.134 1199.6 L616.227 1199.6 L616.227 1195.66 Z\" fill=\"#000000\" fill-rule=\"evenodd\" fill-opacity=\"1\" /><path clip-path=\"url(#clip500)\" d=\"M619.815 1080.6 L636.134 1080.6 L636.134 1084.53 L614.19 1084.53 L614.19 1080.6 Q616.852 1077.84 621.435 1073.21 Q626.042 1068.56 627.222 1067.22 Q629.468 1064.7 630.347 1062.96 Q631.25 1061.2 631.25 1059.51 Q631.25 1056.76 629.306 1055.02 Q627.384 1053.28 624.283 1053.28 Q622.084 1053.28 619.63 1054.05 Q617.199 1054.81 614.422 1056.36 L614.422 1051.64 Q617.246 1050.51 619.699 1049.93 Q622.153 1049.35 624.19 1049.35 Q629.56 1049.35 632.755 1052.03 Q635.949 1054.72 635.949 1059.21 Q635.949 1061.34 635.139 1063.26 Q634.352 1065.16 632.246 1067.75 Q631.667 1068.42 628.565 1071.64 Q625.463 1074.83 619.815 1080.6 Z\" fill=\"#000000\" fill-rule=\"evenodd\" fill-opacity=\"1\" /><path clip-path=\"url(#clip500)\" d=\"M629.005 950.836 Q632.361 951.554 634.236 953.822 Q636.134 956.091 636.134 959.424 Q636.134 964.54 632.616 967.341 Q629.097 970.142 622.616 970.142 Q620.44 970.142 618.125 969.702 Q615.834 969.285 613.38 968.429 L613.38 963.915 Q615.324 965.049 617.639 965.628 Q619.954 966.207 622.477 966.207 Q626.875 966.207 629.167 964.47 Q631.482 962.734 631.482 959.424 Q631.482 956.369 629.329 954.656 Q627.199 952.92 623.38 952.92 L619.352 952.92 L619.352 949.077 L623.565 949.077 Q627.014 949.077 628.843 947.711 Q630.671 946.322 630.671 943.73 Q630.671 941.068 628.773 939.656 Q626.898 938.221 623.38 938.221 Q621.459 938.221 619.26 938.637 Q617.06 939.054 614.422 939.934 L614.422 935.767 Q617.084 935.026 619.398 934.656 Q621.736 934.285 623.797 934.285 Q629.121 934.285 632.222 936.716 Q635.324 939.123 635.324 943.244 Q635.324 946.114 633.681 948.105 Q632.037 950.072 629.005 950.836 Z\" fill=\"#000000\" fill-rule=\"evenodd\" fill-opacity=\"1\" /><path clip-path=\"url(#clip500)\" d=\"M626.551 823.922 L614.746 842.371 L626.551 842.371 L626.551 823.922 M625.324 819.848 L631.204 819.848 L631.204 842.371 L636.134 842.371 L636.134 846.26 L631.204 846.26 L631.204 854.408 L626.551 854.408 L626.551 846.26 L610.949 846.26 L610.949 841.746 L625.324 819.848 Z\" fill=\"#000000\" fill-rule=\"evenodd\" fill-opacity=\"1\" /><path clip-path=\"url(#clip500)\" d=\"M615.232 704.785 L633.588 704.785 L633.588 708.72 L619.514 708.72 L619.514 717.192 Q620.533 716.845 621.551 716.683 Q622.57 716.498 623.588 716.498 Q629.375 716.498 632.755 719.669 Q636.134 722.841 636.134 728.257 Q636.134 733.836 632.662 736.938 Q629.19 740.016 622.871 740.016 Q620.695 740.016 618.426 739.646 Q616.181 739.276 613.773 738.535 L613.773 733.836 Q615.857 734.97 618.079 735.526 Q620.301 736.081 622.778 736.081 Q626.783 736.081 629.121 733.975 Q631.459 731.868 631.459 728.257 Q631.459 724.646 629.121 722.54 Q626.783 720.433 622.778 720.433 Q620.903 720.433 619.028 720.85 Q617.176 721.266 615.232 722.146 L615.232 704.785 Z\" fill=\"#000000\" fill-rule=\"evenodd\" fill-opacity=\"1\" /><path clip-path=\"url(#clip500)\" d=\"M624.607 605.139 Q621.459 605.139 619.607 607.292 Q617.778 609.445 617.778 613.195 Q617.778 616.921 619.607 619.097 Q621.459 621.25 624.607 621.25 Q627.755 621.25 629.584 619.097 Q631.435 616.921 631.435 613.195 Q631.435 609.445 629.584 607.292 Q627.755 605.139 624.607 605.139 M633.889 590.486 L633.889 594.746 Q632.13 593.912 630.324 593.472 Q628.542 593.033 626.783 593.033 Q622.153 593.033 619.699 596.158 Q617.269 599.283 616.922 605.602 Q618.287 603.588 620.347 602.523 Q622.408 601.435 624.884 601.435 Q630.093 601.435 633.102 604.607 Q636.134 607.755 636.134 613.195 Q636.134 618.519 632.986 621.736 Q629.838 624.954 624.607 624.954 Q618.611 624.954 615.44 620.37 Q612.269 615.764 612.269 607.037 Q612.269 598.843 616.158 593.982 Q620.047 589.097 626.597 589.097 Q628.357 589.097 630.139 589.445 Q631.945 589.792 633.889 590.486 Z\" fill=\"#000000\" fill-rule=\"evenodd\" fill-opacity=\"1\" /><path clip-path=\"url(#clip500)\" d=\"M613.912 474.66 L636.134 474.66 L636.134 476.65 L623.588 509.22 L618.704 509.22 L630.509 478.595 L613.912 478.595 L613.912 474.66 Z\" fill=\"#000000\" fill-rule=\"evenodd\" fill-opacity=\"1\" /><circle clip-path=\"url(#clip502)\" cx=\"1092.88\" cy=\"963.39\" r=\"14.4\" fill=\"#1f77b4\" fill-rule=\"evenodd\" fill-opacity=\"1\" stroke=\"#000000\" stroke-opacity=\"1\" stroke-width=\"3.2\"/>\n",
       "<circle clip-path=\"url(#clip502)\" cx=\"973.515\" cy=\"1023.22\" r=\"14.4\" fill=\"#1f77b4\" fill-rule=\"evenodd\" fill-opacity=\"1\" stroke=\"#000000\" stroke-opacity=\"1\" stroke-width=\"3.2\"/>\n",
       "<circle clip-path=\"url(#clip502)\" cx=\"968.462\" cy=\"995.55\" r=\"14.4\" fill=\"#1f77b4\" fill-rule=\"evenodd\" fill-opacity=\"1\" stroke=\"#000000\" stroke-opacity=\"1\" stroke-width=\"3.2\"/>\n",
       "<circle clip-path=\"url(#clip502)\" cx=\"933.273\" cy=\"981.237\" r=\"14.4\" fill=\"#1f77b4\" fill-rule=\"evenodd\" fill-opacity=\"1\" stroke=\"#000000\" stroke-opacity=\"1\" stroke-width=\"3.2\"/>\n",
       "<circle clip-path=\"url(#clip502)\" cx=\"1090.36\" cy=\"943.803\" r=\"14.4\" fill=\"#1f77b4\" fill-rule=\"evenodd\" fill-opacity=\"1\" stroke=\"#000000\" stroke-opacity=\"1\" stroke-width=\"3.2\"/>\n",
       "<circle clip-path=\"url(#clip502)\" cx=\"1214.78\" cy=\"888.629\" r=\"14.4\" fill=\"#1f77b4\" fill-rule=\"evenodd\" fill-opacity=\"1\" stroke=\"#000000\" stroke-opacity=\"1\" stroke-width=\"3.2\"/>\n",
       "<circle clip-path=\"url(#clip502)\" cx=\"982.266\" cy=\"950.314\" r=\"14.4\" fill=\"#1f77b4\" fill-rule=\"evenodd\" fill-opacity=\"1\" stroke=\"#000000\" stroke-opacity=\"1\" stroke-width=\"3.2\"/>\n",
       "<circle clip-path=\"url(#clip502)\" cx=\"1057.7\" cy=\"960.583\" r=\"14.4\" fill=\"#1f77b4\" fill-rule=\"evenodd\" fill-opacity=\"1\" stroke=\"#000000\" stroke-opacity=\"1\" stroke-width=\"3.2\"/>\n",
       "<circle clip-path=\"url(#clip502)\" cx=\"862.896\" cy=\"1010.14\" r=\"14.4\" fill=\"#1f77b4\" fill-rule=\"evenodd\" fill-opacity=\"1\" stroke=\"#000000\" stroke-opacity=\"1\" stroke-width=\"3.2\"/>\n",
       "<circle clip-path=\"url(#clip502)\" cx=\"989.846\" cy=\"997.568\" r=\"14.4\" fill=\"#1f77b4\" fill-rule=\"evenodd\" fill-opacity=\"1\" stroke=\"#000000\" stroke-opacity=\"1\" stroke-width=\"3.2\"/>\n",
       "<circle clip-path=\"url(#clip502)\" cx=\"1182.12\" cy=\"939.928\" r=\"14.4\" fill=\"#1f77b4\" fill-rule=\"evenodd\" fill-opacity=\"1\" stroke=\"#000000\" stroke-opacity=\"1\" stroke-width=\"3.2\"/>\n",
       "<circle clip-path=\"url(#clip502)\" cx=\"1019.98\" cy=\"938.189\" r=\"14.4\" fill=\"#1f77b4\" fill-rule=\"evenodd\" fill-opacity=\"1\" stroke=\"#000000\" stroke-opacity=\"1\" stroke-width=\"3.2\"/>\n",
       "<circle clip-path=\"url(#clip502)\" cx=\"954.657\" cy=\"1017.77\" r=\"14.4\" fill=\"#1f77b4\" fill-rule=\"evenodd\" fill-opacity=\"1\" stroke=\"#000000\" stroke-opacity=\"1\" stroke-width=\"3.2\"/>\n",
       "<circle clip-path=\"url(#clip502)\" cx=\"860.37\" cy=\"1025.07\" r=\"14.4\" fill=\"#1f77b4\" fill-rule=\"evenodd\" fill-opacity=\"1\" stroke=\"#000000\" stroke-opacity=\"1\" stroke-width=\"3.2\"/>\n",
       "<circle clip-path=\"url(#clip502)\" cx=\"1306.54\" cy=\"953.792\" r=\"14.4\" fill=\"#1f77b4\" fill-rule=\"evenodd\" fill-opacity=\"1\" stroke=\"#000000\" stroke-opacity=\"1\" stroke-width=\"3.2\"/>\n",
       "<circle clip-path=\"url(#clip502)\" cx=\"1353.01\" cy=\"857.257\" r=\"14.4\" fill=\"#1f77b4\" fill-rule=\"evenodd\" fill-opacity=\"1\" stroke=\"#000000\" stroke-opacity=\"1\" stroke-width=\"3.2\"/>\n",
       "<circle clip-path=\"url(#clip502)\" cx=\"1214.78\" cy=\"934.654\" r=\"14.4\" fill=\"#1f77b4\" fill-rule=\"evenodd\" fill-opacity=\"1\" stroke=\"#000000\" stroke-opacity=\"1\" stroke-width=\"3.2\"/>\n",
       "<circle clip-path=\"url(#clip502)\" cx=\"1092.88\" cy=\"963.39\" r=\"14.4\" fill=\"#1f77b4\" fill-rule=\"evenodd\" fill-opacity=\"1\" stroke=\"#000000\" stroke-opacity=\"1\" stroke-width=\"3.2\"/>\n",
       "<circle clip-path=\"url(#clip502)\" cx=\"1255.02\" cy=\"919.104\" r=\"14.4\" fill=\"#1f77b4\" fill-rule=\"evenodd\" fill-opacity=\"1\" stroke=\"#000000\" stroke-opacity=\"1\" stroke-width=\"3.2\"/>\n",
       "<circle clip-path=\"url(#clip502)\" cx=\"1141.88\" cy=\"909.454\" r=\"14.4\" fill=\"#1f77b4\" fill-rule=\"evenodd\" fill-opacity=\"1\" stroke=\"#000000\" stroke-opacity=\"1\" stroke-width=\"3.2\"/>\n",
       "<circle clip-path=\"url(#clip502)\" cx=\"1133.13\" cy=\"959.345\" r=\"14.4\" fill=\"#1f77b4\" fill-rule=\"evenodd\" fill-opacity=\"1\" stroke=\"#000000\" stroke-opacity=\"1\" stroke-width=\"3.2\"/>\n",
       "<circle clip-path=\"url(#clip502)\" cx=\"1125.55\" cy=\"923.597\" r=\"14.4\" fill=\"#1f77b4\" fill-rule=\"evenodd\" fill-opacity=\"1\" stroke=\"#000000\" stroke-opacity=\"1\" stroke-width=\"3.2\"/>\n",
       "<circle clip-path=\"url(#clip502)\" cx=\"1014.93\" cy=\"968.053\" r=\"14.4\" fill=\"#1f77b4\" fill-rule=\"evenodd\" fill-opacity=\"1\" stroke=\"#000000\" stroke-opacity=\"1\" stroke-width=\"3.2\"/>\n",
       "<circle clip-path=\"url(#clip502)\" cx=\"1060.22\" cy=\"957.157\" r=\"14.4\" fill=\"#1f77b4\" fill-rule=\"evenodd\" fill-opacity=\"1\" stroke=\"#000000\" stroke-opacity=\"1\" stroke-width=\"3.2\"/>\n",
       "<circle clip-path=\"url(#clip502)\" cx=\"1019.98\" cy=\"903.67\" r=\"14.4\" fill=\"#1f77b4\" fill-rule=\"evenodd\" fill-opacity=\"1\" stroke=\"#000000\" stroke-opacity=\"1\" stroke-width=\"3.2\"/>\n",
       "<circle clip-path=\"url(#clip502)\" cx=\"992.372\" cy=\"1005.65\" r=\"14.4\" fill=\"#1f77b4\" fill-rule=\"evenodd\" fill-opacity=\"1\" stroke=\"#000000\" stroke-opacity=\"1\" stroke-width=\"3.2\"/>\n",
       "<circle clip-path=\"url(#clip502)\" cx=\"1057.7\" cy=\"949.076\" r=\"14.4\" fill=\"#1f77b4\" fill-rule=\"evenodd\" fill-opacity=\"1\" stroke=\"#000000\" stroke-opacity=\"1\" stroke-width=\"3.2\"/>\n",
       "<circle clip-path=\"url(#clip502)\" cx=\"1111.74\" cy=\"957.327\" r=\"14.4\" fill=\"#1f77b4\" fill-rule=\"evenodd\" fill-opacity=\"1\" stroke=\"#000000\" stroke-opacity=\"1\" stroke-width=\"3.2\"/>\n",
       "<circle clip-path=\"url(#clip502)\" cx=\"1095.41\" cy=\"982.976\" r=\"14.4\" fill=\"#1f77b4\" fill-rule=\"evenodd\" fill-opacity=\"1\" stroke=\"#000000\" stroke-opacity=\"1\" stroke-width=\"3.2\"/>\n",
       "<circle clip-path=\"url(#clip502)\" cx=\"968.462\" cy=\"961.032\" r=\"14.4\" fill=\"#1f77b4\" fill-rule=\"evenodd\" fill-opacity=\"1\" stroke=\"#000000\" stroke-opacity=\"1\" stroke-width=\"3.2\"/>\n",
       "<circle clip-path=\"url(#clip502)\" cx=\"970.988\" cy=\"980.618\" r=\"14.4\" fill=\"#1f77b4\" fill-rule=\"evenodd\" fill-opacity=\"1\" stroke=\"#000000\" stroke-opacity=\"1\" stroke-width=\"3.2\"/>\n",
       "<circle clip-path=\"url(#clip502)\" cx=\"1133.13\" cy=\"982.357\" r=\"14.4\" fill=\"#1f77b4\" fill-rule=\"evenodd\" fill-opacity=\"1\" stroke=\"#000000\" stroke-opacity=\"1\" stroke-width=\"3.2\"/>\n",
       "<circle clip-path=\"url(#clip502)\" cx=\"1209.73\" cy=\"872.468\" r=\"14.4\" fill=\"#1f77b4\" fill-rule=\"evenodd\" fill-opacity=\"1\" stroke=\"#000000\" stroke-opacity=\"1\" stroke-width=\"3.2\"/>\n",
       "<circle clip-path=\"url(#clip502)\" cx=\"1282.63\" cy=\"886.162\" r=\"14.4\" fill=\"#1f77b4\" fill-rule=\"evenodd\" fill-opacity=\"1\" stroke=\"#000000\" stroke-opacity=\"1\" stroke-width=\"3.2\"/>\n",
       "<circle clip-path=\"url(#clip502)\" cx=\"989.846\" cy=\"997.568\" r=\"14.4\" fill=\"#1f77b4\" fill-rule=\"evenodd\" fill-opacity=\"1\" stroke=\"#000000\" stroke-opacity=\"1\" stroke-width=\"3.2\"/>\n",
       "<circle clip-path=\"url(#clip502)\" cx=\"1025.03\" cy=\"1023.39\" r=\"14.4\" fill=\"#1f77b4\" fill-rule=\"evenodd\" fill-opacity=\"1\" stroke=\"#000000\" stroke-opacity=\"1\" stroke-width=\"3.2\"/>\n",
       "<circle clip-path=\"url(#clip502)\" cx=\"1168.31\" cy=\"996.671\" r=\"14.4\" fill=\"#1f77b4\" fill-rule=\"evenodd\" fill-opacity=\"1\" stroke=\"#000000\" stroke-opacity=\"1\" stroke-width=\"3.2\"/>\n",
       "<circle clip-path=\"url(#clip502)\" cx=\"1071.5\" cy=\"938.359\" r=\"14.4\" fill=\"#1f77b4\" fill-rule=\"evenodd\" fill-opacity=\"1\" stroke=\"#000000\" stroke-opacity=\"1\" stroke-width=\"3.2\"/>\n",
       "<circle clip-path=\"url(#clip502)\" cx=\"879.227\" cy=\"1007.51\" r=\"14.4\" fill=\"#1f77b4\" fill-rule=\"evenodd\" fill-opacity=\"1\" stroke=\"#000000\" stroke-opacity=\"1\" stroke-width=\"3.2\"/>\n",
       "<circle clip-path=\"url(#clip502)\" cx=\"1076.55\" cy=\"966.026\" r=\"14.4\" fill=\"#1f77b4\" fill-rule=\"evenodd\" fill-opacity=\"1\" stroke=\"#000000\" stroke-opacity=\"1\" stroke-width=\"3.2\"/>\n",
       "<circle clip-path=\"url(#clip502)\" cx=\"1074.03\" cy=\"969.452\" r=\"14.4\" fill=\"#1f77b4\" fill-rule=\"evenodd\" fill-opacity=\"1\" stroke=\"#000000\" stroke-opacity=\"1\" stroke-width=\"3.2\"/>\n",
       "<circle clip-path=\"url(#clip502)\" cx=\"783.767\" cy=\"1111.95\" r=\"14.4\" fill=\"#1f77b4\" fill-rule=\"evenodd\" fill-opacity=\"1\" stroke=\"#000000\" stroke-opacity=\"1\" stroke-width=\"3.2\"/>\n",
       "<circle clip-path=\"url(#clip502)\" cx=\"911.889\" cy=\"979.219\" r=\"14.4\" fill=\"#1f77b4\" fill-rule=\"evenodd\" fill-opacity=\"1\" stroke=\"#000000\" stroke-opacity=\"1\" stroke-width=\"3.2\"/>\n",
       "<circle clip-path=\"url(#clip502)\" cx=\"1074.03\" cy=\"934.933\" r=\"14.4\" fill=\"#1f77b4\" fill-rule=\"evenodd\" fill-opacity=\"1\" stroke=\"#000000\" stroke-opacity=\"1\" stroke-width=\"3.2\"/>\n",
       "<circle clip-path=\"url(#clip502)\" cx=\"1141.88\" cy=\"863.429\" r=\"14.4\" fill=\"#1f77b4\" fill-rule=\"evenodd\" fill-opacity=\"1\" stroke=\"#000000\" stroke-opacity=\"1\" stroke-width=\"3.2\"/>\n",
       "<circle clip-path=\"url(#clip502)\" cx=\"954.657\" cy=\"1017.77\" r=\"14.4\" fill=\"#1f77b4\" fill-rule=\"evenodd\" fill-opacity=\"1\" stroke=\"#000000\" stroke-opacity=\"1\" stroke-width=\"3.2\"/>\n",
       "<circle clip-path=\"url(#clip502)\" cx=\"1141.88\" cy=\"897.948\" r=\"14.4\" fill=\"#1f77b4\" fill-rule=\"evenodd\" fill-opacity=\"1\" stroke=\"#000000\" stroke-opacity=\"1\" stroke-width=\"3.2\"/>\n",
       "<circle clip-path=\"url(#clip502)\" cx=\"949.604\" cy=\"978.6\" r=\"14.4\" fill=\"#1f77b4\" fill-rule=\"evenodd\" fill-opacity=\"1\" stroke=\"#000000\" stroke-opacity=\"1\" stroke-width=\"3.2\"/>\n",
       "<circle clip-path=\"url(#clip502)\" cx=\"1163.26\" cy=\"934.484\" r=\"14.4\" fill=\"#1f77b4\" fill-rule=\"evenodd\" fill-opacity=\"1\" stroke=\"#000000\" stroke-opacity=\"1\" stroke-width=\"3.2\"/>\n",
       "<circle clip-path=\"url(#clip502)\" cx=\"1041.37\" cy=\"986.232\" r=\"14.4\" fill=\"#1f77b4\" fill-rule=\"evenodd\" fill-opacity=\"1\" stroke=\"#000000\" stroke-opacity=\"1\" stroke-width=\"3.2\"/>\n",
       "<circle clip-path=\"url(#clip502)\" cx=\"1402.18\" cy=\"729.542\" r=\"14.4\" fill=\"#8f5e84\" fill-rule=\"evenodd\" fill-opacity=\"1\" stroke=\"#000000\" stroke-opacity=\"1\" stroke-width=\"3.2\"/>\n",
       "<circle clip-path=\"url(#clip502)\" cx=\"1289.04\" cy=\"719.893\" r=\"14.4\" fill=\"#8f5e84\" fill-rule=\"evenodd\" fill-opacity=\"1\" stroke=\"#000000\" stroke-opacity=\"1\" stroke-width=\"3.2\"/>\n",
       "<circle clip-path=\"url(#clip502)\" cx=\"1367\" cy=\"715.229\" r=\"14.4\" fill=\"#8f5e84\" fill-rule=\"evenodd\" fill-opacity=\"1\" stroke=\"#000000\" stroke-opacity=\"1\" stroke-width=\"3.2\"/>\n",
       "<circle clip-path=\"url(#clip502)\" cx=\"972.342\" cy=\"855.719\" r=\"14.4\" fill=\"#8f5e84\" fill-rule=\"evenodd\" fill-opacity=\"1\" stroke=\"#000000\" stroke-opacity=\"1\" stroke-width=\"3.2\"/>\n",
       "<circle clip-path=\"url(#clip502)\" cx=\"1242.57\" cy=\"770.402\" r=\"14.4\" fill=\"#8f5e84\" fill-rule=\"evenodd\" fill-opacity=\"1\" stroke=\"#000000\" stroke-opacity=\"1\" stroke-width=\"3.2\"/>\n",
       "<circle clip-path=\"url(#clip502)\" cx=\"1091.71\" cy=\"738.359\" r=\"14.4\" fill=\"#8f5e84\" fill-rule=\"evenodd\" fill-opacity=\"1\" stroke=\"#000000\" stroke-opacity=\"1\" stroke-width=\"3.2\"/>\n",
       "<circle clip-path=\"url(#clip502)\" cx=\"1286.51\" cy=\"677.293\" r=\"14.4\" fill=\"#8f5e84\" fill-rule=\"evenodd\" fill-opacity=\"1\" stroke=\"#000000\" stroke-opacity=\"1\" stroke-width=\"3.2\"/>\n",
       "<circle clip-path=\"url(#clip502)\" cx=\"875.528\" cy=\"889.457\" r=\"14.4\" fill=\"#8f5e84\" fill-rule=\"evenodd\" fill-opacity=\"1\" stroke=\"#000000\" stroke-opacity=\"1\" stroke-width=\"3.2\"/>\n",
       "<circle clip-path=\"url(#clip502)\" cx=\"1277.76\" cy=\"761.703\" r=\"14.4\" fill=\"#8f5e84\" fill-rule=\"evenodd\" fill-opacity=\"1\" stroke=\"#000000\" stroke-opacity=\"1\" stroke-width=\"3.2\"/>\n",
       "<circle clip-path=\"url(#clip502)\" cx=\"981.094\" cy=\"794.322\" r=\"14.4\" fill=\"#8f5e84\" fill-rule=\"evenodd\" fill-opacity=\"1\" stroke=\"#000000\" stroke-opacity=\"1\" stroke-width=\"3.2\"/>\n",
       "<circle clip-path=\"url(#clip502)\" cx=\"829.061\" cy=\"928.461\" r=\"14.4\" fill=\"#8f5e84\" fill-rule=\"evenodd\" fill-opacity=\"1\" stroke=\"#000000\" stroke-opacity=\"1\" stroke-width=\"3.2\"/>\n",
       "<circle clip-path=\"url(#clip502)\" cx=\"1162.09\" cy=\"755.479\" r=\"14.4\" fill=\"#8f5e84\" fill-rule=\"evenodd\" fill-opacity=\"1\" stroke=\"#000000\" stroke-opacity=\"1\" stroke-width=\"3.2\"/>\n",
       "<circle clip-path=\"url(#clip502)\" cx=\"1050.3\" cy=\"897.08\" r=\"14.4\" fill=\"#8f5e84\" fill-rule=\"evenodd\" fill-opacity=\"1\" stroke=\"#000000\" stroke-opacity=\"1\" stroke-width=\"3.2\"/>\n",
       "<circle clip-path=\"url(#clip502)\" cx=\"1183.47\" cy=\"722.978\" r=\"14.4\" fill=\"#8f5e84\" fill-rule=\"evenodd\" fill-opacity=\"1\" stroke=\"#000000\" stroke-opacity=\"1\" stroke-width=\"3.2\"/>\n",
       "<circle clip-path=\"url(#clip502)\" cx=\"1089.19\" cy=\"822.329\" r=\"14.4\" fill=\"#8f5e84\" fill-rule=\"evenodd\" fill-opacity=\"1\" stroke=\"#000000\" stroke-opacity=\"1\" stroke-width=\"3.2\"/>\n",
       "<circle clip-path=\"url(#clip502)\" cx=\"1329.28\" cy=\"761.873\" r=\"14.4\" fill=\"#8f5e84\" fill-rule=\"evenodd\" fill-opacity=\"1\" stroke=\"#000000\" stroke-opacity=\"1\" stroke-width=\"3.2\"/>\n",
       "<circle clip-path=\"url(#clip502)\" cx=\"1105.52\" cy=\"704.629\" r=\"14.4\" fill=\"#8f5e84\" fill-rule=\"evenodd\" fill-opacity=\"1\" stroke=\"#000000\" stroke-opacity=\"1\" stroke-width=\"3.2\"/>\n",
       "<circle clip-path=\"url(#clip502)\" cx=\"1094.24\" cy=\"803.971\" r=\"14.4\" fill=\"#8f5e84\" fill-rule=\"evenodd\" fill-opacity=\"1\" stroke=\"#000000\" stroke-opacity=\"1\" stroke-width=\"3.2\"/>\n",
       "<circle clip-path=\"url(#clip502)\" cx=\"1088.01\" cy=\"850.436\" r=\"14.4\" fill=\"#8f5e84\" fill-rule=\"evenodd\" fill-opacity=\"1\" stroke=\"#000000\" stroke-opacity=\"1\" stroke-width=\"3.2\"/>\n",
       "<circle clip-path=\"url(#clip502)\" cx=\"1023.86\" cy=\"844.383\" r=\"14.4\" fill=\"#8f5e84\" fill-rule=\"evenodd\" fill-opacity=\"1\" stroke=\"#000000\" stroke-opacity=\"1\" stroke-width=\"3.2\"/>\n",
       "<circle clip-path=\"url(#clip502)\" cx=\"1194.75\" cy=\"658.155\" r=\"14.4\" fill=\"#8f5e84\" fill-rule=\"evenodd\" fill-opacity=\"1\" stroke=\"#000000\" stroke-opacity=\"1\" stroke-width=\"3.2\"/>\n",
       "<circle clip-path=\"url(#clip502)\" cx=\"1167.14\" cy=\"817.665\" r=\"14.4\" fill=\"#8f5e84\" fill-rule=\"evenodd\" fill-opacity=\"1\" stroke=\"#000000\" stroke-opacity=\"1\" stroke-width=\"3.2\"/>\n",
       "<circle clip-path=\"url(#clip502)\" cx=\"1155.86\" cy=\"767.426\" r=\"14.4\" fill=\"#8f5e84\" fill-rule=\"evenodd\" fill-opacity=\"1\" stroke=\"#000000\" stroke-opacity=\"1\" stroke-width=\"3.2\"/>\n",
       "<circle clip-path=\"url(#clip502)\" cx=\"1167.14\" cy=\"737.121\" r=\"14.4\" fill=\"#8f5e84\" fill-rule=\"evenodd\" fill-opacity=\"1\" stroke=\"#000000\" stroke-opacity=\"1\" stroke-width=\"3.2\"/>\n",
       "<circle clip-path=\"url(#clip502)\" cx=\"1240.05\" cy=\"785.334\" r=\"14.4\" fill=\"#8f5e84\" fill-rule=\"evenodd\" fill-opacity=\"1\" stroke=\"#000000\" stroke-opacity=\"1\" stroke-width=\"3.2\"/>\n",
       "<circle clip-path=\"url(#clip502)\" cx=\"1294.09\" cy=\"770.572\" r=\"14.4\" fill=\"#8f5e84\" fill-rule=\"evenodd\" fill-opacity=\"1\" stroke=\"#000000\" stroke-opacity=\"1\" stroke-width=\"3.2\"/>\n",
       "<circle clip-path=\"url(#clip502)\" cx=\"1299.14\" cy=\"763.721\" r=\"14.4\" fill=\"#8f5e84\" fill-rule=\"evenodd\" fill-opacity=\"1\" stroke=\"#000000\" stroke-opacity=\"1\" stroke-width=\"3.2\"/>\n",
       "<circle clip-path=\"url(#clip502)\" cx=\"1312.95\" cy=\"706.979\" r=\"14.4\" fill=\"#8f5e84\" fill-rule=\"evenodd\" fill-opacity=\"1\" stroke=\"#000000\" stroke-opacity=\"1\" stroke-width=\"3.2\"/>\n",
       "<circle clip-path=\"url(#clip502)\" cx=\"1164.62\" cy=\"740.547\" r=\"14.4\" fill=\"#8f5e84\" fill-rule=\"evenodd\" fill-opacity=\"1\" stroke=\"#000000\" stroke-opacity=\"1\" stroke-width=\"3.2\"/>\n",
       "<circle clip-path=\"url(#clip502)\" cx=\"1059.05\" cy=\"881.708\" r=\"14.4\" fill=\"#8f5e84\" fill-rule=\"evenodd\" fill-opacity=\"1\" stroke=\"#000000\" stroke-opacity=\"1\" stroke-width=\"3.2\"/>\n",
       "<circle clip-path=\"url(#clip502)\" cx=\"988.673\" cy=\"864.588\" r=\"14.4\" fill=\"#8f5e84\" fill-rule=\"evenodd\" fill-opacity=\"1\" stroke=\"#000000\" stroke-opacity=\"1\" stroke-width=\"3.2\"/>\n",
       "<circle clip-path=\"url(#clip502)\" cx=\"988.673\" cy=\"876.094\" r=\"14.4\" fill=\"#8f5e84\" fill-rule=\"evenodd\" fill-opacity=\"1\" stroke=\"#000000\" stroke-opacity=\"1\" stroke-width=\"3.2\"/>\n",
       "<circle clip-path=\"url(#clip502)\" cx=\"1094.24\" cy=\"826.984\" r=\"14.4\" fill=\"#8f5e84\" fill-rule=\"evenodd\" fill-opacity=\"1\" stroke=\"#000000\" stroke-opacity=\"1\" stroke-width=\"3.2\"/>\n",
       "<circle clip-path=\"url(#clip502)\" cx=\"1131.95\" cy=\"699.796\" r=\"14.4\" fill=\"#8f5e84\" fill-rule=\"evenodd\" fill-opacity=\"1\" stroke=\"#000000\" stroke-opacity=\"1\" stroke-width=\"3.2\"/>\n",
       "<circle clip-path=\"url(#clip502)\" cx=\"1067.8\" cy=\"693.742\" r=\"14.4\" fill=\"#8f5e84\" fill-rule=\"evenodd\" fill-opacity=\"1\" stroke=\"#000000\" stroke-opacity=\"1\" stroke-width=\"3.2\"/>\n",
       "<circle clip-path=\"url(#clip502)\" cx=\"1246.27\" cy=\"669.832\" r=\"14.4\" fill=\"#8f5e84\" fill-rule=\"evenodd\" fill-opacity=\"1\" stroke=\"#000000\" stroke-opacity=\"1\" stroke-width=\"3.2\"/>\n",
       "<circle clip-path=\"url(#clip502)\" cx=\"1329.28\" cy=\"727.354\" r=\"14.4\" fill=\"#8f5e84\" fill-rule=\"evenodd\" fill-opacity=\"1\" stroke=\"#000000\" stroke-opacity=\"1\" stroke-width=\"3.2\"/>\n",
       "<circle clip-path=\"url(#clip502)\" cx=\"1123.2\" cy=\"853.243\" r=\"14.4\" fill=\"#8f5e84\" fill-rule=\"evenodd\" fill-opacity=\"1\" stroke=\"#000000\" stroke-opacity=\"1\" stroke-width=\"3.2\"/>\n",
       "<circle clip-path=\"url(#clip502)\" cx=\"1105.52\" cy=\"750.654\" r=\"14.4\" fill=\"#8f5e84\" fill-rule=\"evenodd\" fill-opacity=\"1\" stroke=\"#000000\" stroke-opacity=\"1\" stroke-width=\"3.2\"/>\n",
       "<circle clip-path=\"url(#clip502)\" cx=\"1005\" cy=\"827.433\" r=\"14.4\" fill=\"#8f5e84\" fill-rule=\"evenodd\" fill-opacity=\"1\" stroke=\"#000000\" stroke-opacity=\"1\" stroke-width=\"3.2\"/>\n",
       "<circle clip-path=\"url(#clip502)\" cx=\"1021.34\" cy=\"767.264\" r=\"14.4\" fill=\"#8f5e84\" fill-rule=\"evenodd\" fill-opacity=\"1\" stroke=\"#000000\" stroke-opacity=\"1\" stroke-width=\"3.2\"/>\n",
       "<circle clip-path=\"url(#clip502)\" cx=\"1199.8\" cy=\"720.341\" r=\"14.4\" fill=\"#8f5e84\" fill-rule=\"evenodd\" fill-opacity=\"1\" stroke=\"#000000\" stroke-opacity=\"1\" stroke-width=\"3.2\"/>\n",
       "<circle clip-path=\"url(#clip502)\" cx=\"1077.91\" cy=\"829.62\" r=\"14.4\" fill=\"#8f5e84\" fill-rule=\"evenodd\" fill-opacity=\"1\" stroke=\"#000000\" stroke-opacity=\"1\" stroke-width=\"3.2\"/>\n",
       "<circle clip-path=\"url(#clip502)\" cx=\"878.055\" cy=\"909.044\" r=\"14.4\" fill=\"#8f5e84\" fill-rule=\"evenodd\" fill-opacity=\"1\" stroke=\"#000000\" stroke-opacity=\"1\" stroke-width=\"3.2\"/>\n",
       "<circle clip-path=\"url(#clip502)\" cx=\"1056.52\" cy=\"781.577\" r=\"14.4\" fill=\"#8f5e84\" fill-rule=\"evenodd\" fill-opacity=\"1\" stroke=\"#000000\" stroke-opacity=\"1\" stroke-width=\"3.2\"/>\n",
       "<circle clip-path=\"url(#clip502)\" cx=\"1124.37\" cy=\"744.592\" r=\"14.4\" fill=\"#8f5e84\" fill-rule=\"evenodd\" fill-opacity=\"1\" stroke=\"#000000\" stroke-opacity=\"1\" stroke-width=\"3.2\"/>\n",
       "<circle clip-path=\"url(#clip502)\" cx=\"1108.04\" cy=\"758.735\" r=\"14.4\" fill=\"#8f5e84\" fill-rule=\"evenodd\" fill-opacity=\"1\" stroke=\"#000000\" stroke-opacity=\"1\" stroke-width=\"3.2\"/>\n",
       "<circle clip-path=\"url(#clip502)\" cx=\"1202.33\" cy=\"774.447\" r=\"14.4\" fill=\"#8f5e84\" fill-rule=\"evenodd\" fill-opacity=\"1\" stroke=\"#000000\" stroke-opacity=\"1\" stroke-width=\"3.2\"/>\n",
       "<circle clip-path=\"url(#clip502)\" cx=\"929.574\" cy=\"920.72\" r=\"14.4\" fill=\"#8f5e84\" fill-rule=\"evenodd\" fill-opacity=\"1\" stroke=\"#000000\" stroke-opacity=\"1\" stroke-width=\"3.2\"/>\n",
       "<circle clip-path=\"url(#clip502)\" cx=\"1091.71\" cy=\"784.384\" r=\"14.4\" fill=\"#8f5e84\" fill-rule=\"evenodd\" fill-opacity=\"1\" stroke=\"#000000\" stroke-opacity=\"1\" stroke-width=\"3.2\"/>\n",
       "<circle clip-path=\"url(#clip502)\" cx=\"1286.51\" cy=\"527.712\" r=\"14.4\" fill=\"#17becf\" fill-rule=\"evenodd\" fill-opacity=\"1\" stroke=\"#000000\" stroke-opacity=\"1\" stroke-width=\"3.2\"/>\n",
       "<circle clip-path=\"url(#clip502)\" cx=\"1094.24\" cy=\"688.908\" r=\"14.4\" fill=\"#17becf\" fill-rule=\"evenodd\" fill-opacity=\"1\" stroke=\"#000000\" stroke-opacity=\"1\" stroke-width=\"3.2\"/>\n",
       "<circle clip-path=\"url(#clip502)\" cx=\"1388.38\" cy=\"625.197\" r=\"14.4\" fill=\"#17becf\" fill-rule=\"evenodd\" fill-opacity=\"1\" stroke=\"#000000\" stroke-opacity=\"1\" stroke-width=\"3.2\"/>\n",
       "<circle clip-path=\"url(#clip502)\" cx=\"1221.19\" cy=\"630.309\" r=\"14.4\" fill=\"#17becf\" fill-rule=\"evenodd\" fill-opacity=\"1\" stroke=\"#000000\" stroke-opacity=\"1\" stroke-width=\"3.2\"/>\n",
       "<circle clip-path=\"url(#clip502)\" cx=\"1275.23\" cy=\"604.041\" r=\"14.4\" fill=\"#17becf\" fill-rule=\"evenodd\" fill-opacity=\"1\" stroke=\"#000000\" stroke-opacity=\"1\" stroke-width=\"3.2\"/>\n",
       "<circle clip-path=\"url(#clip502)\" cx=\"1482.67\" cy=\"571.872\" r=\"14.4\" fill=\"#17becf\" fill-rule=\"evenodd\" fill-opacity=\"1\" stroke=\"#000000\" stroke-opacity=\"1\" stroke-width=\"3.2\"/>\n",
       "<circle clip-path=\"url(#clip502)\" cx=\"891.859\" cy=\"737.239\" r=\"14.4\" fill=\"#17becf\" fill-rule=\"evenodd\" fill-opacity=\"1\" stroke=\"#000000\" stroke-opacity=\"1\" stroke-width=\"3.2\"/>\n",
       "<circle clip-path=\"url(#clip502)\" cx=\"1409.76\" cy=\"604.202\" r=\"14.4\" fill=\"#17becf\" fill-rule=\"evenodd\" fill-opacity=\"1\" stroke=\"#000000\" stroke-opacity=\"1\" stroke-width=\"3.2\"/>\n",
       "<circle clip-path=\"url(#clip502)\" cx=\"1231.29\" cy=\"685.644\" r=\"14.4\" fill=\"#17becf\" fill-rule=\"evenodd\" fill-opacity=\"1\" stroke=\"#000000\" stroke-opacity=\"1\" stroke-width=\"3.2\"/>\n",
       "<circle clip-path=\"url(#clip502)\" cx=\"1505.22\" cy=\"522.769\" r=\"14.4\" fill=\"#17becf\" fill-rule=\"evenodd\" fill-opacity=\"1\" stroke=\"#000000\" stroke-opacity=\"1\" stroke-width=\"3.2\"/>\n",
       "<circle clip-path=\"url(#clip502)\" cx=\"1307.9\" cy=\"656.299\" r=\"14.4\" fill=\"#17becf\" fill-rule=\"evenodd\" fill-opacity=\"1\" stroke=\"#000000\" stroke-opacity=\"1\" stroke-width=\"3.2\"/>\n",
       "<circle clip-path=\"url(#clip502)\" cx=\"1207.38\" cy=\"698.558\" r=\"14.4\" fill=\"#17becf\" fill-rule=\"evenodd\" fill-opacity=\"1\" stroke=\"#000000\" stroke-opacity=\"1\" stroke-width=\"3.2\"/>\n",
       "<circle clip-path=\"url(#clip502)\" cx=\"1331.81\" cy=\"654.891\" r=\"14.4\" fill=\"#17becf\" fill-rule=\"evenodd\" fill-opacity=\"1\" stroke=\"#000000\" stroke-opacity=\"1\" stroke-width=\"3.2\"/>\n",
       "<circle clip-path=\"url(#clip502)\" cx=\"1042.72\" cy=\"723.257\" r=\"14.4\" fill=\"#17becf\" fill-rule=\"evenodd\" fill-opacity=\"1\" stroke=\"#000000\" stroke-opacity=\"1\" stroke-width=\"3.2\"/>\n",
       "<circle clip-path=\"url(#clip502)\" cx=\"1110.57\" cy=\"674.765\" r=\"14.4\" fill=\"#17becf\" fill-rule=\"evenodd\" fill-opacity=\"1\" stroke=\"#000000\" stroke-opacity=\"1\" stroke-width=\"3.2\"/>\n",
       "<circle clip-path=\"url(#clip502)\" cx=\"1289.04\" cy=\"627.842\" r=\"14.4\" fill=\"#17becf\" fill-rule=\"evenodd\" fill-opacity=\"1\" stroke=\"#000000\" stroke-opacity=\"1\" stroke-width=\"3.2\"/>\n",
       "<circle clip-path=\"url(#clip502)\" cx=\"1275.23\" cy=\"638.56\" r=\"14.4\" fill=\"#17becf\" fill-rule=\"evenodd\" fill-opacity=\"1\" stroke=\"#000000\" stroke-opacity=\"1\" stroke-width=\"3.2\"/>\n",
       "<circle clip-path=\"url(#clip502)\" cx=\"1632.17\" cy=\"452.664\" r=\"14.4\" fill=\"#17becf\" fill-rule=\"evenodd\" fill-opacity=\"1\" stroke=\"#000000\" stroke-opacity=\"1\" stroke-width=\"3.2\"/>\n",
       "<circle clip-path=\"url(#clip502)\" cx=\"1436.2\" cy=\"599.369\" r=\"14.4\" fill=\"#17becf\" fill-rule=\"evenodd\" fill-opacity=\"1\" stroke=\"#000000\" stroke-opacity=\"1\" stroke-width=\"3.2\"/>\n",
       "<circle clip-path=\"url(#clip502)\" cx=\"1050.3\" cy=\"782.018\" r=\"14.4\" fill=\"#17becf\" fill-rule=\"evenodd\" fill-opacity=\"1\" stroke=\"#000000\" stroke-opacity=\"1\" stroke-width=\"3.2\"/>\n",
       "<circle clip-path=\"url(#clip502)\" cx=\"1383.33\" cy=\"609.036\" r=\"14.4\" fill=\"#17becf\" fill-rule=\"evenodd\" fill-opacity=\"1\" stroke=\"#000000\" stroke-opacity=\"1\" stroke-width=\"3.2\"/>\n",
       "<circle clip-path=\"url(#clip502)\" cx=\"1072.85\" cy=\"686.89\" r=\"14.4\" fill=\"#17becf\" fill-rule=\"evenodd\" fill-opacity=\"1\" stroke=\"#000000\" stroke-opacity=\"1\" stroke-width=\"3.2\"/>\n",
       "<circle clip-path=\"url(#clip502)\" cx=\"1468.86\" cy=\"594.095\" r=\"14.4\" fill=\"#17becf\" fill-rule=\"evenodd\" fill-opacity=\"1\" stroke=\"#000000\" stroke-opacity=\"1\" stroke-width=\"3.2\"/>\n",
       "<circle clip-path=\"url(#clip502)\" cx=\"1188.53\" cy=\"739.139\" r=\"14.4\" fill=\"#17becf\" fill-rule=\"evenodd\" fill-opacity=\"1\" stroke=\"#000000\" stroke-opacity=\"1\" stroke-width=\"3.2\"/>\n",
       "<circle clip-path=\"url(#clip502)\" cx=\"1361.94\" cy=\"584.005\" r=\"14.4\" fill=\"#17becf\" fill-rule=\"evenodd\" fill-opacity=\"1\" stroke=\"#000000\" stroke-opacity=\"1\" stroke-width=\"3.2\"/>\n",
       "<circle clip-path=\"url(#clip502)\" cx=\"1439.9\" cy=\"590.848\" r=\"14.4\" fill=\"#17becf\" fill-rule=\"evenodd\" fill-opacity=\"1\" stroke=\"#000000\" stroke-opacity=\"1\" stroke-width=\"3.2\"/>\n",
       "<circle clip-path=\"url(#clip502)\" cx=\"1186\" cy=\"731.059\" r=\"14.4\" fill=\"#17becf\" fill-rule=\"evenodd\" fill-opacity=\"1\" stroke=\"#000000\" stroke-opacity=\"1\" stroke-width=\"3.2\"/>\n",
       "<circle clip-path=\"url(#clip502)\" cx=\"1199.8\" cy=\"685.823\" r=\"14.4\" fill=\"#17becf\" fill-rule=\"evenodd\" fill-opacity=\"1\" stroke=\"#000000\" stroke-opacity=\"1\" stroke-width=\"3.2\"/>\n",
       "<circle clip-path=\"url(#clip502)\" cx=\"1223.71\" cy=\"649.896\" r=\"14.4\" fill=\"#17becf\" fill-rule=\"evenodd\" fill-opacity=\"1\" stroke=\"#000000\" stroke-opacity=\"1\" stroke-width=\"3.2\"/>\n",
       "<circle clip-path=\"url(#clip502)\" cx=\"1407.24\" cy=\"642.147\" r=\"14.4\" fill=\"#17becf\" fill-rule=\"evenodd\" fill-opacity=\"1\" stroke=\"#000000\" stroke-opacity=\"1\" stroke-width=\"3.2\"/>\n",
       "<circle clip-path=\"url(#clip502)\" cx=\"1412.29\" cy=\"646.802\" r=\"14.4\" fill=\"#17becf\" fill-rule=\"evenodd\" fill-opacity=\"1\" stroke=\"#000000\" stroke-opacity=\"1\" stroke-width=\"3.2\"/>\n",
       "<circle clip-path=\"url(#clip502)\" cx=\"1669.89\" cy=\"498.07\" r=\"14.4\" fill=\"#17becf\" fill-rule=\"evenodd\" fill-opacity=\"1\" stroke=\"#000000\" stroke-opacity=\"1\" stroke-width=\"3.2\"/>\n",
       "<circle clip-path=\"url(#clip502)\" cx=\"1223.71\" cy=\"649.896\" r=\"14.4\" fill=\"#17becf\" fill-rule=\"evenodd\" fill-opacity=\"1\" stroke=\"#000000\" stroke-opacity=\"1\" stroke-width=\"3.2\"/>\n",
       "<circle clip-path=\"url(#clip502)\" cx=\"1204.86\" cy=\"701.984\" r=\"14.4\" fill=\"#17becf\" fill-rule=\"evenodd\" fill-opacity=\"1\" stroke=\"#000000\" stroke-opacity=\"1\" stroke-width=\"3.2\"/>\n",
       "<circle clip-path=\"url(#clip502)\" cx=\"1134.48\" cy=\"661.851\" r=\"14.4\" fill=\"#17becf\" fill-rule=\"evenodd\" fill-opacity=\"1\" stroke=\"#000000\" stroke-opacity=\"1\" stroke-width=\"3.2\"/>\n",
       "<circle clip-path=\"url(#clip502)\" cx=\"1501.52\" cy=\"634.847\" r=\"14.4\" fill=\"#17becf\" fill-rule=\"evenodd\" fill-opacity=\"1\" stroke=\"#000000\" stroke-opacity=\"1\" stroke-width=\"3.2\"/>\n",
       "<circle clip-path=\"url(#clip502)\" cx=\"1302.84\" cy=\"559.594\" r=\"14.4\" fill=\"#17becf\" fill-rule=\"evenodd\" fill-opacity=\"1\" stroke=\"#000000\" stroke-opacity=\"1\" stroke-width=\"3.2\"/>\n",
       "<circle clip-path=\"url(#clip502)\" cx=\"1272.71\" cy=\"618.973\" r=\"14.4\" fill=\"#17becf\" fill-rule=\"evenodd\" fill-opacity=\"1\" stroke=\"#000000\" stroke-opacity=\"1\" stroke-width=\"3.2\"/>\n",
       "<circle clip-path=\"url(#clip502)\" cx=\"1180.95\" cy=\"691.885\" r=\"14.4\" fill=\"#17becf\" fill-rule=\"evenodd\" fill-opacity=\"1\" stroke=\"#000000\" stroke-opacity=\"1\" stroke-width=\"3.2\"/>\n",
       "<circle clip-path=\"url(#clip502)\" cx=\"1367\" cy=\"657.698\" r=\"14.4\" fill=\"#17becf\" fill-rule=\"evenodd\" fill-opacity=\"1\" stroke=\"#000000\" stroke-opacity=\"1\" stroke-width=\"3.2\"/>\n",
       "<circle clip-path=\"url(#clip502)\" cx=\"1329.28\" cy=\"623.798\" r=\"14.4\" fill=\"#17becf\" fill-rule=\"evenodd\" fill-opacity=\"1\" stroke=\"#000000\" stroke-opacity=\"1\" stroke-width=\"3.2\"/>\n",
       "<circle clip-path=\"url(#clip502)\" cx=\"1367\" cy=\"692.217\" r=\"14.4\" fill=\"#17becf\" fill-rule=\"evenodd\" fill-opacity=\"1\" stroke=\"#000000\" stroke-opacity=\"1\" stroke-width=\"3.2\"/>\n",
       "<circle clip-path=\"url(#clip502)\" cx=\"1094.24\" cy=\"688.908\" r=\"14.4\" fill=\"#17becf\" fill-rule=\"evenodd\" fill-opacity=\"1\" stroke=\"#000000\" stroke-opacity=\"1\" stroke-width=\"3.2\"/>\n",
       "<circle clip-path=\"url(#clip502)\" cx=\"1364.47\" cy=\"580.58\" r=\"14.4\" fill=\"#17becf\" fill-rule=\"evenodd\" fill-opacity=\"1\" stroke=\"#000000\" stroke-opacity=\"1\" stroke-width=\"3.2\"/>\n",
       "<circle clip-path=\"url(#clip502)\" cx=\"1361.94\" cy=\"584.005\" r=\"14.4\" fill=\"#17becf\" fill-rule=\"evenodd\" fill-opacity=\"1\" stroke=\"#000000\" stroke-opacity=\"1\" stroke-width=\"3.2\"/>\n",
       "<circle clip-path=\"url(#clip502)\" cx=\"1312.95\" cy=\"683.966\" r=\"14.4\" fill=\"#17becf\" fill-rule=\"evenodd\" fill-opacity=\"1\" stroke=\"#000000\" stroke-opacity=\"1\" stroke-width=\"3.2\"/>\n",
       "<circle clip-path=\"url(#clip502)\" cx=\"1155.86\" cy=\"755.919\" r=\"14.4\" fill=\"#17becf\" fill-rule=\"evenodd\" fill-opacity=\"1\" stroke=\"#000000\" stroke-opacity=\"1\" stroke-width=\"3.2\"/>\n",
       "<circle clip-path=\"url(#clip502)\" cx=\"1275.23\" cy=\"673.079\" r=\"14.4\" fill=\"#17becf\" fill-rule=\"evenodd\" fill-opacity=\"1\" stroke=\"#000000\" stroke-opacity=\"1\" stroke-width=\"3.2\"/>\n",
       "<circle clip-path=\"url(#clip502)\" cx=\"1283.99\" cy=\"577.163\" r=\"14.4\" fill=\"#17becf\" fill-rule=\"evenodd\" fill-opacity=\"1\" stroke=\"#000000\" stroke-opacity=\"1\" stroke-width=\"3.2\"/>\n",
       "<circle clip-path=\"url(#clip502)\" cx=\"1162.09\" cy=\"651.923\" r=\"14.4\" fill=\"#17becf\" fill-rule=\"evenodd\" fill-opacity=\"1\" stroke=\"#000000\" stroke-opacity=\"1\" stroke-width=\"3.2\"/>\n",
       "<path clip-path=\"url(#clip500)\" d=\"\n",
       "M2001.58 198.898 L2278.07 198.898 L2278.07 95.2176 L2001.58 95.2176  Z\n",
       "  \" fill=\"#ffffff\" fill-rule=\"evenodd\" fill-opacity=\"1\"/>\n",
       "<polyline clip-path=\"url(#clip500)\" style=\"stroke:#000000; stroke-linecap:round; stroke-linejoin:round; stroke-width:4; stroke-opacity:1; fill:none\" points=\"\n",
       "  2001.58,198.898 2278.07,198.898 2278.07,95.2176 2001.58,95.2176 2001.58,198.898 \n",
       "  \"/>\n",
       "<circle clip-path=\"url(#clip500)\" cx=\"2101.16\" cy=\"147.058\" r=\"23.04\" fill=\"#1f77b4\" fill-rule=\"evenodd\" fill-opacity=\"1\" stroke=\"#000000\" stroke-opacity=\"1\" stroke-width=\"5.12\"/>\n",
       "<path clip-path=\"url(#clip500)\" d=\"M2214.59 166.745 Q2212.78 171.375 2211.07 172.787 Q2209.36 174.199 2206.49 174.199 L2203.08 174.199 L2203.08 170.634 L2205.58 170.634 Q2207.34 170.634 2208.31 169.8 Q2209.29 168.967 2210.47 165.865 L2211.23 163.921 L2200.74 138.412 L2205.26 138.412 L2213.36 158.689 L2221.46 138.412 L2225.98 138.412 L2214.59 166.745 Z\" fill=\"#000000\" fill-rule=\"evenodd\" fill-opacity=\"1\" /><path clip-path=\"url(#clip500)\" d=\"M2233.27 160.402 L2240.91 160.402 L2240.91 134.037 L2232.6 135.703 L2232.6 131.444 L2240.86 129.778 L2245.54 129.778 L2245.54 160.402 L2253.17 160.402 L2253.17 164.338 L2233.27 164.338 L2233.27 160.402 Z\" fill=\"#000000\" fill-rule=\"evenodd\" fill-opacity=\"1\" /></svg>\n"
      ]
     },
     "execution_count": 32,
     "metadata": {},
     "output_type": "execute_result"
    }
   ],
   "source": [
    "scatter(irisM[:,1], irisM[:,2], irisM[:,3], color = colours[levelcode.(iris[:, :Species])]) "
   ]
  },
  {
   "cell_type": "code",
   "execution_count": 33,
   "id": "15f140af-3e85-40e3-8ba6-18294f5b1ccb",
   "metadata": {},
   "outputs": [
    {
     "data": {
      "application/vnd.webio.node+json": {
       "children": [],
       "instanceArgs": {
        "namespace": "html",
        "tag": "div"
       },
       "nodeType": "DOM",
       "props": {},
       "type": "node"
      },
      "text/html": [
       "<div style=\"padding: 1em; background-color: #f8d6da; border: 1px solid #f5c6cb; font-weight: bold;\">\n",
       "<p>The WebIO Jupyter extension was not detected. See the\n",
       "<a href=\"https://juliagizmos.github.io/WebIO.jl/latest/providers/ijulia/\" target=\"_blank\">\n",
       "    WebIO Jupyter integration documentation\n",
       "</a>\n",
       "for more information.\n",
       "</div>\n"
      ],
      "text/plain": [
       "WebIO._IJuliaInit()"
      ]
     },
     "metadata": {
      "application/vnd.webio.node+json": {
       "kernelId": "ac61ffa8-61ba-42aa-8d3c-fb12ba475390"
      }
     },
     "output_type": "display_data"
    },
    {
     "data": {
      "application/vnd.plotly.v1+json": {
       "config": {
        "displayModeBar": null,
        "displaylogo": null,
        "doubleClickDelay": null,
        "editable": false,
        "linkText": null,
        "locale": null,
        "modeBarButtons": null,
        "modeBarButtonsToAdd": null,
        "modeBarButtonsToRemove": null,
        "plotlyServerURL": null,
        "responsive": true,
        "scrollZoom": true,
        "showEditInChartStudio": null,
        "showLink": false,
        "staticPlot": false,
        "toImageButtonOptions": null
       },
       "data": [
        {
         "fields": {
          "marker": {
           "color": [
            {
             "b": 0.7059,
             "g": 0.4667,
             "r": 0.1216
            },
            {
             "b": 0.7059,
             "g": 0.4667,
             "r": 0.1216
            },
            {
             "b": 0.7059,
             "g": 0.4667,
             "r": 0.1216
            },
            {
             "b": 0.7059,
             "g": 0.4667,
             "r": 0.1216
            },
            {
             "b": 0.7059,
             "g": 0.4667,
             "r": 0.1216
            },
            {
             "b": 0.7059,
             "g": 0.4667,
             "r": 0.1216
            },
            {
             "b": 0.7059,
             "g": 0.4667,
             "r": 0.1216
            },
            {
             "b": 0.7059,
             "g": 0.4667,
             "r": 0.1216
            },
            {
             "b": 0.7059,
             "g": 0.4667,
             "r": 0.1216
            },
            {
             "b": 0.7059,
             "g": 0.4667,
             "r": 0.1216
            },
            {
             "b": 0.7059,
             "g": 0.4667,
             "r": 0.1216
            },
            {
             "b": 0.7059,
             "g": 0.4667,
             "r": 0.1216
            },
            {
             "b": 0.7059,
             "g": 0.4667,
             "r": 0.1216
            },
            {
             "b": 0.7059,
             "g": 0.4667,
             "r": 0.1216
            },
            {
             "b": 0.7059,
             "g": 0.4667,
             "r": 0.1216
            },
            {
             "b": 0.7059,
             "g": 0.4667,
             "r": 0.1216
            },
            {
             "b": 0.7059,
             "g": 0.4667,
             "r": 0.1216
            },
            {
             "b": 0.7059,
             "g": 0.4667,
             "r": 0.1216
            },
            {
             "b": 0.7059,
             "g": 0.4667,
             "r": 0.1216
            },
            {
             "b": 0.7059,
             "g": 0.4667,
             "r": 0.1216
            },
            {
             "b": 0.7059,
             "g": 0.4667,
             "r": 0.1216
            },
            {
             "b": 0.7059,
             "g": 0.4667,
             "r": 0.1216
            },
            {
             "b": 0.7059,
             "g": 0.4667,
             "r": 0.1216
            },
            {
             "b": 0.7059,
             "g": 0.4667,
             "r": 0.1216
            },
            {
             "b": 0.7059,
             "g": 0.4667,
             "r": 0.1216
            },
            {
             "b": 0.7059,
             "g": 0.4667,
             "r": 0.1216
            },
            {
             "b": 0.7059,
             "g": 0.4667,
             "r": 0.1216
            },
            {
             "b": 0.7059,
             "g": 0.4667,
             "r": 0.1216
            },
            {
             "b": 0.7059,
             "g": 0.4667,
             "r": 0.1216
            },
            {
             "b": 0.7059,
             "g": 0.4667,
             "r": 0.1216
            },
            {
             "b": 0.7059,
             "g": 0.4667,
             "r": 0.1216
            },
            {
             "b": 0.7059,
             "g": 0.4667,
             "r": 0.1216
            },
            {
             "b": 0.7059,
             "g": 0.4667,
             "r": 0.1216
            },
            {
             "b": 0.7059,
             "g": 0.4667,
             "r": 0.1216
            },
            {
             "b": 0.7059,
             "g": 0.4667,
             "r": 0.1216
            },
            {
             "b": 0.7059,
             "g": 0.4667,
             "r": 0.1216
            },
            {
             "b": 0.7059,
             "g": 0.4667,
             "r": 0.1216
            },
            {
             "b": 0.7059,
             "g": 0.4667,
             "r": 0.1216
            },
            {
             "b": 0.7059,
             "g": 0.4667,
             "r": 0.1216
            },
            {
             "b": 0.7059,
             "g": 0.4667,
             "r": 0.1216
            },
            {
             "b": 0.7059,
             "g": 0.4667,
             "r": 0.1216
            },
            {
             "b": 0.7059,
             "g": 0.4667,
             "r": 0.1216
            },
            {
             "b": 0.7059,
             "g": 0.4667,
             "r": 0.1216
            },
            {
             "b": 0.7059,
             "g": 0.4667,
             "r": 0.1216
            },
            {
             "b": 0.7059,
             "g": 0.4667,
             "r": 0.1216
            },
            {
             "b": 0.7059,
             "g": 0.4667,
             "r": 0.1216
            },
            {
             "b": 0.7059,
             "g": 0.4667,
             "r": 0.1216
            },
            {
             "b": 0.7059,
             "g": 0.4667,
             "r": 0.1216
            },
            {
             "b": 0.7059,
             "g": 0.4667,
             "r": 0.1216
            },
            {
             "b": 0.7059,
             "g": 0.4667,
             "r": 0.1216
            },
            {
             "b": 0.5176499999999999,
             "g": 0.3706,
             "r": 0.5647
            },
            {
             "b": 0.5176499999999999,
             "g": 0.3706,
             "r": 0.5647
            },
            {
             "b": 0.5176499999999999,
             "g": 0.3706,
             "r": 0.5647
            },
            {
             "b": 0.5176499999999999,
             "g": 0.3706,
             "r": 0.5647
            },
            {
             "b": 0.5176499999999999,
             "g": 0.3706,
             "r": 0.5647
            },
            {
             "b": 0.5176499999999999,
             "g": 0.3706,
             "r": 0.5647
            },
            {
             "b": 0.5176499999999999,
             "g": 0.3706,
             "r": 0.5647
            },
            {
             "b": 0.5176499999999999,
             "g": 0.3706,
             "r": 0.5647
            },
            {
             "b": 0.5176499999999999,
             "g": 0.3706,
             "r": 0.5647
            },
            {
             "b": 0.5176499999999999,
             "g": 0.3706,
             "r": 0.5647
            },
            {
             "b": 0.5176499999999999,
             "g": 0.3706,
             "r": 0.5647
            },
            {
             "b": 0.5176499999999999,
             "g": 0.3706,
             "r": 0.5647
            },
            {
             "b": 0.5176499999999999,
             "g": 0.3706,
             "r": 0.5647
            },
            {
             "b": 0.5176499999999999,
             "g": 0.3706,
             "r": 0.5647
            },
            {
             "b": 0.5176499999999999,
             "g": 0.3706,
             "r": 0.5647
            },
            {
             "b": 0.5176499999999999,
             "g": 0.3706,
             "r": 0.5647
            },
            {
             "b": 0.5176499999999999,
             "g": 0.3706,
             "r": 0.5647
            },
            {
             "b": 0.5176499999999999,
             "g": 0.3706,
             "r": 0.5647
            },
            {
             "b": 0.5176499999999999,
             "g": 0.3706,
             "r": 0.5647
            },
            {
             "b": 0.5176499999999999,
             "g": 0.3706,
             "r": 0.5647
            },
            {
             "b": 0.5176499999999999,
             "g": 0.3706,
             "r": 0.5647
            },
            {
             "b": 0.5176499999999999,
             "g": 0.3706,
             "r": 0.5647
            },
            {
             "b": 0.5176499999999999,
             "g": 0.3706,
             "r": 0.5647
            },
            {
             "b": 0.5176499999999999,
             "g": 0.3706,
             "r": 0.5647
            },
            {
             "b": 0.5176499999999999,
             "g": 0.3706,
             "r": 0.5647
            },
            {
             "b": 0.5176499999999999,
             "g": 0.3706,
             "r": 0.5647
            },
            {
             "b": 0.5176499999999999,
             "g": 0.3706,
             "r": 0.5647
            },
            {
             "b": 0.5176499999999999,
             "g": 0.3706,
             "r": 0.5647
            },
            {
             "b": 0.5176499999999999,
             "g": 0.3706,
             "r": 0.5647
            },
            {
             "b": 0.5176499999999999,
             "g": 0.3706,
             "r": 0.5647
            },
            {
             "b": 0.5176499999999999,
             "g": 0.3706,
             "r": 0.5647
            },
            {
             "b": 0.5176499999999999,
             "g": 0.3706,
             "r": 0.5647
            },
            {
             "b": 0.5176499999999999,
             "g": 0.3706,
             "r": 0.5647
            },
            {
             "b": 0.5176499999999999,
             "g": 0.3706,
             "r": 0.5647
            },
            {
             "b": 0.5176499999999999,
             "g": 0.3706,
             "r": 0.5647
            },
            {
             "b": 0.5176499999999999,
             "g": 0.3706,
             "r": 0.5647
            },
            {
             "b": 0.5176499999999999,
             "g": 0.3706,
             "r": 0.5647
            },
            {
             "b": 0.5176499999999999,
             "g": 0.3706,
             "r": 0.5647
            },
            {
             "b": 0.5176499999999999,
             "g": 0.3706,
             "r": 0.5647
            },
            {
             "b": 0.5176499999999999,
             "g": 0.3706,
             "r": 0.5647
            },
            {
             "b": 0.5176499999999999,
             "g": 0.3706,
             "r": 0.5647
            },
            {
             "b": 0.5176499999999999,
             "g": 0.3706,
             "r": 0.5647
            },
            {
             "b": 0.5176499999999999,
             "g": 0.3706,
             "r": 0.5647
            },
            {
             "b": 0.5176499999999999,
             "g": 0.3706,
             "r": 0.5647
            },
            {
             "b": 0.5176499999999999,
             "g": 0.3706,
             "r": 0.5647
            },
            {
             "b": 0.5176499999999999,
             "g": 0.3706,
             "r": 0.5647
            },
            {
             "b": 0.5176499999999999,
             "g": 0.3706,
             "r": 0.5647
            },
            {
             "b": 0.5176499999999999,
             "g": 0.3706,
             "r": 0.5647
            },
            {
             "b": 0.5176499999999999,
             "g": 0.3706,
             "r": 0.5647
            },
            {
             "b": 0.5176499999999999,
             "g": 0.3706,
             "r": 0.5647
            },
            {
             "b": 0.8118,
             "g": 0.7451,
             "r": 0.0902
            },
            {
             "b": 0.8118,
             "g": 0.7451,
             "r": 0.0902
            },
            {
             "b": 0.8118,
             "g": 0.7451,
             "r": 0.0902
            },
            {
             "b": 0.8118,
             "g": 0.7451,
             "r": 0.0902
            },
            {
             "b": 0.8118,
             "g": 0.7451,
             "r": 0.0902
            },
            {
             "b": 0.8118,
             "g": 0.7451,
             "r": 0.0902
            },
            {
             "b": 0.8118,
             "g": 0.7451,
             "r": 0.0902
            },
            {
             "b": 0.8118,
             "g": 0.7451,
             "r": 0.0902
            },
            {
             "b": 0.8118,
             "g": 0.7451,
             "r": 0.0902
            },
            {
             "b": 0.8118,
             "g": 0.7451,
             "r": 0.0902
            },
            {
             "b": 0.8118,
             "g": 0.7451,
             "r": 0.0902
            },
            {
             "b": 0.8118,
             "g": 0.7451,
             "r": 0.0902
            },
            {
             "b": 0.8118,
             "g": 0.7451,
             "r": 0.0902
            },
            {
             "b": 0.8118,
             "g": 0.7451,
             "r": 0.0902
            },
            {
             "b": 0.8118,
             "g": 0.7451,
             "r": 0.0902
            },
            {
             "b": 0.8118,
             "g": 0.7451,
             "r": 0.0902
            },
            {
             "b": 0.8118,
             "g": 0.7451,
             "r": 0.0902
            },
            {
             "b": 0.8118,
             "g": 0.7451,
             "r": 0.0902
            },
            {
             "b": 0.8118,
             "g": 0.7451,
             "r": 0.0902
            },
            {
             "b": 0.8118,
             "g": 0.7451,
             "r": 0.0902
            },
            {
             "b": 0.8118,
             "g": 0.7451,
             "r": 0.0902
            },
            {
             "b": 0.8118,
             "g": 0.7451,
             "r": 0.0902
            },
            {
             "b": 0.8118,
             "g": 0.7451,
             "r": 0.0902
            },
            {
             "b": 0.8118,
             "g": 0.7451,
             "r": 0.0902
            },
            {
             "b": 0.8118,
             "g": 0.7451,
             "r": 0.0902
            },
            {
             "b": 0.8118,
             "g": 0.7451,
             "r": 0.0902
            },
            {
             "b": 0.8118,
             "g": 0.7451,
             "r": 0.0902
            },
            {
             "b": 0.8118,
             "g": 0.7451,
             "r": 0.0902
            },
            {
             "b": 0.8118,
             "g": 0.7451,
             "r": 0.0902
            },
            {
             "b": 0.8118,
             "g": 0.7451,
             "r": 0.0902
            },
            {
             "b": 0.8118,
             "g": 0.7451,
             "r": 0.0902
            },
            {
             "b": 0.8118,
             "g": 0.7451,
             "r": 0.0902
            },
            {
             "b": 0.8118,
             "g": 0.7451,
             "r": 0.0902
            },
            {
             "b": 0.8118,
             "g": 0.7451,
             "r": 0.0902
            },
            {
             "b": 0.8118,
             "g": 0.7451,
             "r": 0.0902
            },
            {
             "b": 0.8118,
             "g": 0.7451,
             "r": 0.0902
            },
            {
             "b": 0.8118,
             "g": 0.7451,
             "r": 0.0902
            },
            {
             "b": 0.8118,
             "g": 0.7451,
             "r": 0.0902
            },
            {
             "b": 0.8118,
             "g": 0.7451,
             "r": 0.0902
            },
            {
             "b": 0.8118,
             "g": 0.7451,
             "r": 0.0902
            },
            {
             "b": 0.8118,
             "g": 0.7451,
             "r": 0.0902
            },
            {
             "b": 0.8118,
             "g": 0.7451,
             "r": 0.0902
            },
            {
             "b": 0.8118,
             "g": 0.7451,
             "r": 0.0902
            },
            {
             "b": 0.8118,
             "g": 0.7451,
             "r": 0.0902
            },
            {
             "b": 0.8118,
             "g": 0.7451,
             "r": 0.0902
            },
            {
             "b": 0.8118,
             "g": 0.7451,
             "r": 0.0902
            },
            {
             "b": 0.8118,
             "g": 0.7451,
             "r": 0.0902
            },
            {
             "b": 0.8118,
             "g": 0.7451,
             "r": 0.0902
            },
            {
             "b": 0.8118,
             "g": 0.7451,
             "r": 0.0902
            },
            {
             "b": 0.8118,
             "g": 0.7451,
             "r": 0.0902
            }
           ],
           "size": 5
          },
          "mode": "markers",
          "type": "scatter3d",
          "x": [
           5.1,
           4.9,
           4.7,
           4.6,
           5,
           5.4,
           4.6,
           5,
           4.4,
           4.9,
           5.4,
           4.8,
           4.8,
           4.3,
           5.8,
           5.7,
           5.4,
           5.1,
           5.7,
           5.1,
           5.4,
           5.1,
           4.6,
           5.1,
           4.8,
           5,
           5,
           5.2,
           5.2,
           4.7,
           4.8,
           5.4,
           5.2,
           5.5,
           4.9,
           5,
           5.5,
           4.9,
           4.4,
           5.1,
           5,
           4.5,
           4.4,
           5,
           5.1,
           4.8,
           5.1,
           4.6,
           5.3,
           5,
           7,
           6.4,
           6.9,
           5.5,
           6.5,
           5.7,
           6.3,
           4.9,
           6.6,
           5.2,
           5,
           5.9,
           6,
           6.1,
           5.6,
           6.7,
           5.6,
           5.8,
           6.2,
           5.6,
           5.9,
           6.1,
           6.3,
           6.1,
           6.4,
           6.6,
           6.8,
           6.7,
           6,
           5.7,
           5.5,
           5.5,
           5.8,
           6,
           5.4,
           6,
           6.7,
           6.3,
           5.6,
           5.5,
           5.5,
           6.1,
           5.8,
           5,
           5.6,
           5.7,
           5.7,
           6.2,
           5.1,
           5.7,
           6.3,
           5.8,
           7.1,
           6.3,
           6.5,
           7.6,
           4.9,
           7.3,
           6.7,
           7.2,
           6.5,
           6.4,
           6.8,
           5.7,
           5.8,
           6.4,
           6.5,
           7.7,
           7.7,
           6,
           6.9,
           5.6,
           7.7,
           6.3,
           6.7,
           7.2,
           6.2,
           6.1,
           6.4,
           7.2,
           7.4,
           7.9,
           6.4,
           6.3,
           6.1,
           7.7,
           6.3,
           6.4,
           6,
           6.9,
           6.7,
           6.9,
           5.8,
           6.8,
           6.7,
           6.7,
           6.3,
           6.5,
           6.2,
           5.9
          ],
          "y": [
           3.5,
           3,
           3.2,
           3.1,
           3.6,
           3.9,
           3.4,
           3.4,
           2.9,
           3.1,
           3.7,
           3.4,
           3,
           3,
           4,
           4.4,
           3.9,
           3.5,
           3.8,
           3.8,
           3.4,
           3.7,
           3.6,
           3.3,
           3.4,
           3,
           3.4,
           3.5,
           3.4,
           3.2,
           3.1,
           3.4,
           4.1,
           4.2,
           3.1,
           3.2,
           3.5,
           3.6,
           3,
           3.4,
           3.5,
           2.3,
           3.2,
           3.5,
           3.8,
           3,
           3.8,
           3.2,
           3.7,
           3.3,
           3.2,
           3.2,
           3.1,
           2.3,
           2.8,
           2.8,
           3.3,
           2.4,
           2.9,
           2.7,
           2,
           3,
           2.2,
           2.9,
           2.9,
           3.1,
           3,
           2.7,
           2.2,
           2.5,
           3.2,
           2.8,
           2.5,
           2.8,
           2.9,
           3,
           2.8,
           3,
           2.9,
           2.6,
           2.4,
           2.4,
           2.7,
           2.7,
           3,
           3.4,
           3.1,
           2.3,
           3,
           2.5,
           2.6,
           3,
           2.6,
           2.3,
           2.7,
           3,
           2.9,
           2.9,
           2.5,
           2.8,
           3.3,
           2.7,
           3,
           2.9,
           3,
           3,
           2.5,
           2.9,
           2.5,
           3.6,
           3.2,
           2.7,
           3,
           2.5,
           2.8,
           3.2,
           3,
           3.8,
           2.6,
           2.2,
           3.2,
           2.8,
           2.8,
           2.7,
           3.3,
           3.2,
           2.8,
           3,
           2.8,
           3,
           2.8,
           3.8,
           2.8,
           2.8,
           2.6,
           3,
           3.4,
           3.1,
           3,
           3.1,
           3.1,
           3.1,
           2.7,
           3.2,
           3.3,
           3,
           2.5,
           3,
           3.4,
           3
          ],
          "z": [
           1.4,
           1.4,
           1.3,
           1.5,
           1.4,
           1.7,
           1.4,
           1.5,
           1.4,
           1.5,
           1.5,
           1.6,
           1.4,
           1.1,
           1.2,
           1.5,
           1.3,
           1.4,
           1.7,
           1.5,
           1.7,
           1.5,
           1,
           1.7,
           1.9,
           1.6,
           1.6,
           1.5,
           1.4,
           1.6,
           1.6,
           1.5,
           1.5,
           1.4,
           1.5,
           1.2,
           1.3,
           1.4,
           1.3,
           1.5,
           1.3,
           1.3,
           1.3,
           1.6,
           1.9,
           1.4,
           1.6,
           1.4,
           1.5,
           1.4,
           4.7,
           4.5,
           4.9,
           4,
           4.6,
           4.5,
           4.7,
           3.3,
           4.6,
           3.9,
           3.5,
           4.2,
           4,
           4.7,
           3.6,
           4.4,
           4.5,
           4.1,
           4.5,
           3.9,
           4.8,
           4,
           4.9,
           4.7,
           4.3,
           4.4,
           4.8,
           5,
           4.5,
           3.5,
           3.8,
           3.7,
           3.9,
           5.1,
           4.5,
           4.5,
           4.7,
           4.4,
           4.1,
           4,
           4.4,
           4.6,
           4,
           3.3,
           4.2,
           4.2,
           4.2,
           4.3,
           3,
           4.1,
           6,
           5.1,
           5.9,
           5.6,
           5.8,
           6.6,
           4.5,
           6.3,
           5.8,
           6.1,
           5.1,
           5.3,
           5.5,
           5,
           5.1,
           5.3,
           5.5,
           6.7,
           6.9,
           5,
           5.7,
           4.9,
           6.7,
           4.9,
           5.7,
           6,
           4.8,
           4.9,
           5.6,
           5.8,
           6.1,
           6.4,
           5.6,
           5.1,
           5.6,
           6.1,
           5.6,
           5.5,
           4.8,
           5.4,
           5.6,
           5.1,
           5.1,
           5.9,
           5.7,
           5.2,
           5,
           5.2,
           5.4,
           5.1
          ]
         }
        }
       ],
       "divid": {
        "value": 2.752823077914712e+38
       },
       "frames": [],
       "layout": {
        "fields": {
         "margin": {
          "b": 50,
          "l": 50,
          "r": 50,
          "t": 60
         },
         "template": {
          "data": {
           "bar": [
            {
             "fields": {
              "error_x": {
               "color": "#2a3f5f"
              },
              "error_y": {
               "color": "#2a3f5f"
              },
              "marker": {
               "line": {
                "color": "#E5ECF6",
                "width": 0.5
               }
              },
              "type": "bar"
             }
            }
           ],
           "barpolar": [
            {
             "fields": {
              "marker": {
               "line": {
                "color": "#E5ECF6",
                "width": 0.5
               }
              },
              "type": "barpolar"
             }
            }
           ],
           "carpet": [
            {
             "fields": {
              "aaxis": {
               "endlinecolor": "#2a3f5f",
               "gridcolor": "white",
               "linecolor": "white",
               "minorgridcolor": "white",
               "startlinecolor": "#2a3f5f"
              },
              "baxis": {
               "endlinecolor": "#2a3f5f",
               "gridcolor": "white",
               "linecolor": "white",
               "minorgridcolor": "white",
               "startlinecolor": "#2a3f5f"
              },
              "type": "carpet"
             }
            }
           ],
           "choropleth": [
            {
             "fields": {
              "colorbar": {
               "outlinewidth": 0,
               "ticks": ""
              },
              "type": "choropleth"
             }
            }
           ],
           "contour": [
            {
             "fields": {
              "colorbar": {
               "outlinewidth": 0,
               "ticks": ""
              },
              "colorscale": [
               [
                0,
                "#0d0887"
               ],
               [
                0.1111111111111111,
                "#46039f"
               ],
               [
                0.2222222222222222,
                "#7201a8"
               ],
               [
                0.3333333333333333,
                "#9c179e"
               ],
               [
                0.4444444444444444,
                "#bd3786"
               ],
               [
                0.5555555555555556,
                "#d8576b"
               ],
               [
                0.6666666666666666,
                "#ed7953"
               ],
               [
                0.7777777777777778,
                "#fb9f3a"
               ],
               [
                0.8888888888888888,
                "#fdca26"
               ],
               [
                1,
                "#f0f921"
               ]
              ],
              "type": "contour"
             }
            }
           ],
           "contourcarpet": [
            {
             "fields": {
              "colorbar": {
               "outlinewidth": 0,
               "ticks": ""
              },
              "type": "contourcarpet"
             }
            }
           ],
           "heatmap": [
            {
             "fields": {
              "colorbar": {
               "outlinewidth": 0,
               "ticks": ""
              },
              "colorscale": [
               [
                0,
                "#0d0887"
               ],
               [
                0.1111111111111111,
                "#46039f"
               ],
               [
                0.2222222222222222,
                "#7201a8"
               ],
               [
                0.3333333333333333,
                "#9c179e"
               ],
               [
                0.4444444444444444,
                "#bd3786"
               ],
               [
                0.5555555555555556,
                "#d8576b"
               ],
               [
                0.6666666666666666,
                "#ed7953"
               ],
               [
                0.7777777777777778,
                "#fb9f3a"
               ],
               [
                0.8888888888888888,
                "#fdca26"
               ],
               [
                1,
                "#f0f921"
               ]
              ],
              "type": "heatmap"
             }
            }
           ],
           "heatmapgl": [
            {
             "fields": {
              "colorbar": {
               "outlinewidth": 0,
               "ticks": ""
              },
              "colorscale": [
               [
                0,
                "#0d0887"
               ],
               [
                0.1111111111111111,
                "#46039f"
               ],
               [
                0.2222222222222222,
                "#7201a8"
               ],
               [
                0.3333333333333333,
                "#9c179e"
               ],
               [
                0.4444444444444444,
                "#bd3786"
               ],
               [
                0.5555555555555556,
                "#d8576b"
               ],
               [
                0.6666666666666666,
                "#ed7953"
               ],
               [
                0.7777777777777778,
                "#fb9f3a"
               ],
               [
                0.8888888888888888,
                "#fdca26"
               ],
               [
                1,
                "#f0f921"
               ]
              ],
              "type": "heatmapgl"
             }
            }
           ],
           "histogram": [
            {
             "fields": {
              "marker": {
               "colorbar": {
                "outlinewidth": 0,
                "ticks": ""
               }
              },
              "type": "histogram"
             }
            }
           ],
           "histogram2d": [
            {
             "fields": {
              "colorbar": {
               "outlinewidth": 0,
               "ticks": ""
              },
              "colorscale": [
               [
                0,
                "#0d0887"
               ],
               [
                0.1111111111111111,
                "#46039f"
               ],
               [
                0.2222222222222222,
                "#7201a8"
               ],
               [
                0.3333333333333333,
                "#9c179e"
               ],
               [
                0.4444444444444444,
                "#bd3786"
               ],
               [
                0.5555555555555556,
                "#d8576b"
               ],
               [
                0.6666666666666666,
                "#ed7953"
               ],
               [
                0.7777777777777778,
                "#fb9f3a"
               ],
               [
                0.8888888888888888,
                "#fdca26"
               ],
               [
                1,
                "#f0f921"
               ]
              ],
              "type": "histogram2d"
             }
            }
           ],
           "histogram2dcontour": [
            {
             "fields": {
              "colorbar": {
               "outlinewidth": 0,
               "ticks": ""
              },
              "colorscale": [
               [
                0,
                "#0d0887"
               ],
               [
                0.1111111111111111,
                "#46039f"
               ],
               [
                0.2222222222222222,
                "#7201a8"
               ],
               [
                0.3333333333333333,
                "#9c179e"
               ],
               [
                0.4444444444444444,
                "#bd3786"
               ],
               [
                0.5555555555555556,
                "#d8576b"
               ],
               [
                0.6666666666666666,
                "#ed7953"
               ],
               [
                0.7777777777777778,
                "#fb9f3a"
               ],
               [
                0.8888888888888888,
                "#fdca26"
               ],
               [
                1,
                "#f0f921"
               ]
              ],
              "type": "histogram2dcontour"
             }
            }
           ],
           "mesh3d": [
            {
             "fields": {
              "colorbar": {
               "outlinewidth": 0,
               "ticks": ""
              },
              "type": "mesh3d"
             }
            }
           ],
           "parcoords": [
            {
             "fields": {
              "line": {
               "colorbar": {
                "outlinewidth": 0,
                "ticks": ""
               }
              },
              "type": "parcoords"
             }
            }
           ],
           "pie": [
            {
             "fields": {
              "automargin": true,
              "type": "pie"
             }
            }
           ],
           "scatter": [
            {
             "fields": {
              "marker": {
               "colorbar": {
                "outlinewidth": 0,
                "ticks": ""
               }
              },
              "type": "scatter"
             }
            }
           ],
           "scatter3d": [
            {
             "fields": {
              "line": {
               "colorbar": {
                "outlinewidth": 0,
                "ticks": ""
               }
              },
              "marker": {
               "colorbar": {
                "outlinewidth": 0,
                "ticks": ""
               }
              },
              "type": "scatter3d"
             }
            }
           ],
           "scattercarpet": [
            {
             "fields": {
              "marker": {
               "colorbar": {
                "outlinewidth": 0,
                "ticks": ""
               }
              },
              "type": "scattercarpet"
             }
            }
           ],
           "scattergeo": [
            {
             "fields": {
              "marker": {
               "colorbar": {
                "outlinewidth": 0,
                "ticks": ""
               }
              },
              "type": "scattergeo"
             }
            }
           ],
           "scattergl": [
            {
             "fields": {
              "marker": {
               "colorbar": {
                "outlinewidth": 0,
                "ticks": ""
               }
              },
              "type": "scattergl"
             }
            }
           ],
           "scattermapbox": [
            {
             "fields": {
              "marker": {
               "colorbar": {
                "outlinewidth": 0,
                "ticks": ""
               }
              },
              "type": "scattermapbox"
             }
            }
           ],
           "scatterpolar": [
            {
             "fields": {
              "marker": {
               "colorbar": {
                "outlinewidth": 0,
                "ticks": ""
               }
              },
              "type": "scatterpolar"
             }
            }
           ],
           "scatterpolargl": [
            {
             "fields": {
              "marker": {
               "colorbar": {
                "outlinewidth": 0,
                "ticks": ""
               }
              },
              "type": "scatterpolargl"
             }
            }
           ],
           "scatterternary": [
            {
             "fields": {
              "marker": {
               "colorbar": {
                "outlinewidth": 0,
                "ticks": ""
               }
              },
              "type": "scatterternary"
             }
            }
           ],
           "surface": [
            {
             "fields": {
              "colorbar": {
               "outlinewidth": 0,
               "ticks": ""
              },
              "colorscale": [
               [
                0,
                "#0d0887"
               ],
               [
                0.1111111111111111,
                "#46039f"
               ],
               [
                0.2222222222222222,
                "#7201a8"
               ],
               [
                0.3333333333333333,
                "#9c179e"
               ],
               [
                0.4444444444444444,
                "#bd3786"
               ],
               [
                0.5555555555555556,
                "#d8576b"
               ],
               [
                0.6666666666666666,
                "#ed7953"
               ],
               [
                0.7777777777777778,
                "#fb9f3a"
               ],
               [
                0.8888888888888888,
                "#fdca26"
               ],
               [
                1,
                "#f0f921"
               ]
              ],
              "type": "surface"
             }
            }
           ],
           "table": [
            {
             "fields": {
              "cells": {
               "fill": {
                "color": "#EBF0F8"
               },
               "line": {
                "color": "white"
               }
              },
              "header": {
               "fill": {
                "color": "#C8D4E3"
               },
               "line": {
                "color": "white"
               }
              },
              "type": "table"
             }
            }
           ]
          },
          "layout": {
           "fields": {
            "annotationdefaults": {
             "arrowcolor": "#2a3f5f",
             "arrowhead": 0,
             "arrowwidth": 1
            },
            "autotypenumbers": "strict",
            "coloraxis": {
             "colorbar": {
              "outlinewidth": 0,
              "ticks": ""
             }
            },
            "colorscale": {
             "diverging": [
              [
               0,
               "#8e0152"
              ],
              [
               0.1,
               "#c51b7d"
              ],
              [
               0.2,
               "#de77ae"
              ],
              [
               0.3,
               "#f1b6da"
              ],
              [
               0.4,
               "#fde0ef"
              ],
              [
               0.5,
               "#f7f7f7"
              ],
              [
               0.6,
               "#e6f5d0"
              ],
              [
               0.7,
               "#b8e186"
              ],
              [
               0.8,
               "#7fbc41"
              ],
              [
               0.9,
               "#4d9221"
              ],
              [
               1,
               "#276419"
              ]
             ],
             "sequential": [
              [
               0,
               "#0d0887"
              ],
              [
               0.1111111111111111,
               "#46039f"
              ],
              [
               0.2222222222222222,
               "#7201a8"
              ],
              [
               0.3333333333333333,
               "#9c179e"
              ],
              [
               0.4444444444444444,
               "#bd3786"
              ],
              [
               0.5555555555555556,
               "#d8576b"
              ],
              [
               0.6666666666666666,
               "#ed7953"
              ],
              [
               0.7777777777777778,
               "#fb9f3a"
              ],
              [
               0.8888888888888888,
               "#fdca26"
              ],
              [
               1,
               "#f0f921"
              ]
             ],
             "sequentialminus": [
              [
               0,
               "#0d0887"
              ],
              [
               0.1111111111111111,
               "#46039f"
              ],
              [
               0.2222222222222222,
               "#7201a8"
              ],
              [
               0.3333333333333333,
               "#9c179e"
              ],
              [
               0.4444444444444444,
               "#bd3786"
              ],
              [
               0.5555555555555556,
               "#d8576b"
              ],
              [
               0.6666666666666666,
               "#ed7953"
              ],
              [
               0.7777777777777778,
               "#fb9f3a"
              ],
              [
               0.8888888888888888,
               "#fdca26"
              ],
              [
               1,
               "#f0f921"
              ]
             ]
            },
            "colorway": [
             "#636efa",
             "#EF553B",
             "#00cc96",
             "#ab63fa",
             "#FFA15A",
             "#19d3f3",
             "#FF6692",
             "#B6E880",
             "#FF97FF",
             "#FECB52"
            ],
            "font": {
             "color": "#2a3f5f"
            },
            "geo": {
             "bgcolor": "white",
             "lakecolor": "white",
             "landcolor": "#E5ECF6",
             "showlakes": true,
             "showland": true,
             "subunitcolor": "white"
            },
            "hoverlabel": {
             "align": "left"
            },
            "hovermode": "closest",
            "mapbox": {
             "style": "light"
            },
            "paper_bgcolor": "white",
            "plot_bgcolor": "#E5ECF6",
            "polar": {
             "angularaxis": {
              "gridcolor": "white",
              "linecolor": "white",
              "ticks": ""
             },
             "bgcolor": "#E5ECF6",
             "radialaxis": {
              "gridcolor": "white",
              "linecolor": "white",
              "ticks": ""
             }
            },
            "scene": {
             "xaxis": {
              "backgroundcolor": "#E5ECF6",
              "gridcolor": "white",
              "gridwidth": 2,
              "linecolor": "white",
              "showbackground": true,
              "ticks": "",
              "zerolinecolor": "white"
             },
             "yaxis": {
              "backgroundcolor": "#E5ECF6",
              "gridcolor": "white",
              "gridwidth": 2,
              "linecolor": "white",
              "showbackground": true,
              "ticks": "",
              "zerolinecolor": "white"
             },
             "zaxis": {
              "backgroundcolor": "#E5ECF6",
              "gridcolor": "white",
              "gridwidth": 2,
              "linecolor": "white",
              "showbackground": true,
              "ticks": "",
              "zerolinecolor": "white"
             }
            },
            "shapedefaults": {
             "line": {
              "color": "#2a3f5f"
             }
            },
            "ternary": {
             "aaxis": {
              "gridcolor": "white",
              "linecolor": "white",
              "ticks": ""
             },
             "baxis": {
              "gridcolor": "white",
              "linecolor": "white",
              "ticks": ""
             },
             "bgcolor": "#E5ECF6",
             "caxis": {
              "gridcolor": "white",
              "linecolor": "white",
              "ticks": ""
             }
            },
            "title": {
             "x": 0.05
            },
            "xaxis": {
             "automargin": true,
             "gridcolor": "white",
             "linecolor": "white",
             "ticks": "",
             "title": {
              "standoff": 15
             },
             "zerolinecolor": "white",
             "zerolinewidth": 2
            },
            "yaxis": {
             "automargin": true,
             "gridcolor": "white",
             "linecolor": "white",
             "ticks": "",
             "title": {
              "standoff": 15
             },
             "zerolinecolor": "white",
             "zerolinewidth": 2
            }
           }
          }
         }
        },
        "subplots": {
         "_heights": [
          1
         ],
         "_widths": [
          1
         ],
         "cols": 1,
         "column_titles": null,
         "column_widths": null,
         "grid_ref": [
          [
           [
            {
             "layout_keys": [
              "xaxis",
              "yaxis"
             ],
             "subplot_kind": "xy",
             "trace_kwargs": {
              "fields": {
               "xaxis": "x",
               "yaxis": "y"
              }
             }
            }
           ]
          ]
         ],
         "has_secondary_y": false,
         "horizontal_spacing": 0.2,
         "insets": null,
         "max_width": 1,
         "row_heights": null,
         "row_titles": null,
         "rows": 1,
         "shared_xaxes": false,
         "shared_yaxes": false,
         "specs": [
          [
           {
            "b": 0,
            "colspan": 1,
            "kind": "xy",
            "l": 0,
            "r": 0,
            "rowspan": 1,
            "secondary_y": false,
            "t": 0
           }
          ]
         ],
         "start_cell": "top-left",
         "subplot_titles": null,
         "vertical_spacing": 0.3,
         "x_title": null,
         "y_title": null
        }
       }
      },
      "text/html": [
       "<div\n",
       "    class=\"webio-mountpoint\"\n",
       "    data-webio-mountpoint=\"7659370595657557414\"\n",
       ">\n",
       "    <script>\n",
       "    (function(){\n",
       "    // Some integrations (namely, IJulia/Jupyter) use an alternate render pathway than\n",
       "    // just putting the html on the page. If WebIO isn't defined, then it's pretty likely\n",
       "    // that we're in one of those situations and the integration just isn't installed\n",
       "    // correctly.\n",
       "    if (typeof window.WebIO === \"undefined\") {\n",
       "        document\n",
       "            .querySelector('[data-webio-mountpoint=\"7659370595657557414\"]')\n",
       "            .innerHTML = (\n",
       "                '<div style=\"padding: 1em; background-color: #f8d6da; border: 1px solid #f5c6cb; font-weight: bold;\">' +\n",
       "                '<p><strong>WebIO not detected.</strong></p>' +\n",
       "                '<p>Please read ' +\n",
       "                '<a href=\"https://juliagizmos.github.io/WebIO.jl/latest/troubleshooting/not-detected/\" target=\"_blank\">the troubleshooting guide</a> ' +\n",
       "                'for more information on how to resolve this issue.</p>' +\n",
       "                '<p><a href=\"https://juliagizmos.github.io/WebIO.jl/latest/troubleshooting/not-detected/\" target=\"_blank\">https://juliagizmos.github.io/WebIO.jl/latest/troubleshooting/not-detected/</a></p>' +\n",
       "                '</div>'\n",
       "            );\n",
       "        return;\n",
       "    }\n",
       "    WebIO.mount(\n",
       "        document.querySelector('[data-webio-mountpoint=\"7659370595657557414\"]'),\n",
       "        {\"props\":{},\"nodeType\":\"Scope\",\"type\":\"node\",\"instanceArgs\":{\"imports\":{\"data\":[{\"name\":\"Plotly\",\"type\":\"js\",\"url\":\"\\/assetserver\\/7e7f02b4706983031fd39093cbcb1bdd79145909-plotly.min.js\"},{\"name\":null,\"type\":\"js\",\"url\":\"\\/assetserver\\/bf3f5df3c2b669f67776db2d17c97146cee1f600-plotly_webio.bundle.js\"}],\"type\":\"async_block\"},\"id\":\"5779750495488275178\",\"handlers\":{\"_toImage\":[\"(function (options){return this.Plotly.toImage(this.plotElem,options).then((function (data){return WebIO.setval({\\\"name\\\":\\\"image\\\",\\\"scope\\\":\\\"5779750495488275178\\\",\\\"id\\\":\\\"3603673112475303479\\\",\\\"type\\\":\\\"observable\\\"},data)}))})\"],\"__get_gd_contents\":[\"(function (prop){prop==\\\"data\\\" ? (WebIO.setval({\\\"name\\\":\\\"__gd_contents\\\",\\\"scope\\\":\\\"5779750495488275178\\\",\\\"id\\\":\\\"858157686466399384\\\",\\\"type\\\":\\\"observable\\\"},this.plotElem.data)) : undefined; return prop==\\\"layout\\\" ? (WebIO.setval({\\\"name\\\":\\\"__gd_contents\\\",\\\"scope\\\":\\\"5779750495488275178\\\",\\\"id\\\":\\\"858157686466399384\\\",\\\"type\\\":\\\"observable\\\"},this.plotElem.layout)) : undefined})\"],\"_downloadImage\":[\"(function (options){return this.Plotly.downloadImage(this.plotElem,options)})\"],\"_commands\":[\"(function (args){var fn=args.shift(); var elem=this.plotElem; var Plotly=this.Plotly; args.unshift(elem); return Plotly[fn].apply(this,args)})\"]},\"systemjs_options\":null,\"mount_callbacks\":[\"function () {\\n    var handler = ((function (Plotly,PlotlyWebIO){PlotlyWebIO.init(WebIO); var gd=this.dom.querySelector(\\\"#plot-cf1971a8-4058-423d-b38c-8cfcb4d89598\\\"); this.plotElem=gd; this.Plotly=Plotly; (window.Blink!==undefined) ? (gd.style.width=\\\"100%\\\", gd.style.height=\\\"100vh\\\", gd.style.marginLeft=\\\"0%\\\", gd.style.marginTop=\\\"0vh\\\") : undefined; window.onresize=(function (){return Plotly.Plots.resize(gd)}); Plotly.newPlot(gd,[{\\\"x\\\":[5.1,4.9,4.7,4.6,5.0,5.4,4.6,5.0,4.4,4.9,5.4,4.8,4.8,4.3,5.8,5.7,5.4,5.1,5.7,5.1,5.4,5.1,4.6,5.1,4.8,5.0,5.0,5.2,5.2,4.7,4.8,5.4,5.2,5.5,4.9,5.0,5.5,4.9,4.4,5.1,5.0,4.5,4.4,5.0,5.1,4.8,5.1,4.6,5.3,5.0,7.0,6.4,6.9,5.5,6.5,5.7,6.3,4.9,6.6,5.2,5.0,5.9,6.0,6.1,5.6,6.7,5.6,5.8,6.2,5.6,5.9,6.1,6.3,6.1,6.4,6.6,6.8,6.7,6.0,5.7,5.5,5.5,5.8,6.0,5.4,6.0,6.7,6.3,5.6,5.5,5.5,6.1,5.8,5.0,5.6,5.7,5.7,6.2,5.1,5.7,6.3,5.8,7.1,6.3,6.5,7.6,4.9,7.3,6.7,7.2,6.5,6.4,6.8,5.7,5.8,6.4,6.5,7.7,7.7,6.0,6.9,5.6,7.7,6.3,6.7,7.2,6.2,6.1,6.4,7.2,7.4,7.9,6.4,6.3,6.1,7.7,6.3,6.4,6.0,6.9,6.7,6.9,5.8,6.8,6.7,6.7,6.3,6.5,6.2,5.9],\\\"mode\\\":\\\"markers\\\",\\\"y\\\":[3.5,3.0,3.2,3.1,3.6,3.9,3.4,3.4,2.9,3.1,3.7,3.4,3.0,3.0,4.0,4.4,3.9,3.5,3.8,3.8,3.4,3.7,3.6,3.3,3.4,3.0,3.4,3.5,3.4,3.2,3.1,3.4,4.1,4.2,3.1,3.2,3.5,3.6,3.0,3.4,3.5,2.3,3.2,3.5,3.8,3.0,3.8,3.2,3.7,3.3,3.2,3.2,3.1,2.3,2.8,2.8,3.3,2.4,2.9,2.7,2.0,3.0,2.2,2.9,2.9,3.1,3.0,2.7,2.2,2.5,3.2,2.8,2.5,2.8,2.9,3.0,2.8,3.0,2.9,2.6,2.4,2.4,2.7,2.7,3.0,3.4,3.1,2.3,3.0,2.5,2.6,3.0,2.6,2.3,2.7,3.0,2.9,2.9,2.5,2.8,3.3,2.7,3.0,2.9,3.0,3.0,2.5,2.9,2.5,3.6,3.2,2.7,3.0,2.5,2.8,3.2,3.0,3.8,2.6,2.2,3.2,2.8,2.8,2.7,3.3,3.2,2.8,3.0,2.8,3.0,2.8,3.8,2.8,2.8,2.6,3.0,3.4,3.1,3.0,3.1,3.1,3.1,2.7,3.2,3.3,3.0,2.5,3.0,3.4,3.0],\\\"type\\\":\\\"scatter3d\\\",\\\"z\\\":[1.4,1.4,1.3,1.5,1.4,1.7,1.4,1.5,1.4,1.5,1.5,1.6,1.4,1.1,1.2,1.5,1.3,1.4,1.7,1.5,1.7,1.5,1.0,1.7,1.9,1.6,1.6,1.5,1.4,1.6,1.6,1.5,1.5,1.4,1.5,1.2,1.3,1.4,1.3,1.5,1.3,1.3,1.3,1.6,1.9,1.4,1.6,1.4,1.5,1.4,4.7,4.5,4.9,4.0,4.6,4.5,4.7,3.3,4.6,3.9,3.5,4.2,4.0,4.7,3.6,4.4,4.5,4.1,4.5,3.9,4.8,4.0,4.9,4.7,4.3,4.4,4.8,5.0,4.5,3.5,3.8,3.7,3.9,5.1,4.5,4.5,4.7,4.4,4.1,4.0,4.4,4.6,4.0,3.3,4.2,4.2,4.2,4.3,3.0,4.1,6.0,5.1,5.9,5.6,5.8,6.6,4.5,6.3,5.8,6.1,5.1,5.3,5.5,5.0,5.1,5.3,5.5,6.7,6.9,5.0,5.7,4.9,6.7,4.9,5.7,6.0,4.8,4.9,5.6,5.8,6.1,6.4,5.6,5.1,5.6,6.1,5.6,5.5,4.8,5.4,5.6,5.1,5.1,5.9,5.7,5.2,5.0,5.2,5.4,5.1],\\\"marker\\\":{\\\"color\\\":[\\\"#1F77B4\\\",\\\"#1F77B4\\\",\\\"#1F77B4\\\",\\\"#1F77B4\\\",\\\"#1F77B4\\\",\\\"#1F77B4\\\",\\\"#1F77B4\\\",\\\"#1F77B4\\\",\\\"#1F77B4\\\",\\\"#1F77B4\\\",\\\"#1F77B4\\\",\\\"#1F77B4\\\",\\\"#1F77B4\\\",\\\"#1F77B4\\\",\\\"#1F77B4\\\",\\\"#1F77B4\\\",\\\"#1F77B4\\\",\\\"#1F77B4\\\",\\\"#1F77B4\\\",\\\"#1F77B4\\\",\\\"#1F77B4\\\",\\\"#1F77B4\\\",\\\"#1F77B4\\\",\\\"#1F77B4\\\",\\\"#1F77B4\\\",\\\"#1F77B4\\\",\\\"#1F77B4\\\",\\\"#1F77B4\\\",\\\"#1F77B4\\\",\\\"#1F77B4\\\",\\\"#1F77B4\\\",\\\"#1F77B4\\\",\\\"#1F77B4\\\",\\\"#1F77B4\\\",\\\"#1F77B4\\\",\\\"#1F77B4\\\",\\\"#1F77B4\\\",\\\"#1F77B4\\\",\\\"#1F77B4\\\",\\\"#1F77B4\\\",\\\"#1F77B4\\\",\\\"#1F77B4\\\",\\\"#1F77B4\\\",\\\"#1F77B4\\\",\\\"#1F77B4\\\",\\\"#1F77B4\\\",\\\"#1F77B4\\\",\\\"#1F77B4\\\",\\\"#1F77B4\\\",\\\"#1F77B4\\\",\\\"#905F84\\\",\\\"#905F84\\\",\\\"#905F84\\\",\\\"#905F84\\\",\\\"#905F84\\\",\\\"#905F84\\\",\\\"#905F84\\\",\\\"#905F84\\\",\\\"#905F84\\\",\\\"#905F84\\\",\\\"#905F84\\\",\\\"#905F84\\\",\\\"#905F84\\\",\\\"#905F84\\\",\\\"#905F84\\\",\\\"#905F84\\\",\\\"#905F84\\\",\\\"#905F84\\\",\\\"#905F84\\\",\\\"#905F84\\\",\\\"#905F84\\\",\\\"#905F84\\\",\\\"#905F84\\\",\\\"#905F84\\\",\\\"#905F84\\\",\\\"#905F84\\\",\\\"#905F84\\\",\\\"#905F84\\\",\\\"#905F84\\\",\\\"#905F84\\\",\\\"#905F84\\\",\\\"#905F84\\\",\\\"#905F84\\\",\\\"#905F84\\\",\\\"#905F84\\\",\\\"#905F84\\\",\\\"#905F84\\\",\\\"#905F84\\\",\\\"#905F84\\\",\\\"#905F84\\\",\\\"#905F84\\\",\\\"#905F84\\\",\\\"#905F84\\\",\\\"#905F84\\\",\\\"#905F84\\\",\\\"#905F84\\\",\\\"#905F84\\\",\\\"#905F84\\\",\\\"#905F84\\\",\\\"#905F84\\\",\\\"#17BECF\\\",\\\"#17BECF\\\",\\\"#17BECF\\\",\\\"#17BECF\\\",\\\"#17BECF\\\",\\\"#17BECF\\\",\\\"#17BECF\\\",\\\"#17BECF\\\",\\\"#17BECF\\\",\\\"#17BECF\\\",\\\"#17BECF\\\",\\\"#17BECF\\\",\\\"#17BECF\\\",\\\"#17BECF\\\",\\\"#17BECF\\\",\\\"#17BECF\\\",\\\"#17BECF\\\",\\\"#17BECF\\\",\\\"#17BECF\\\",\\\"#17BECF\\\",\\\"#17BECF\\\",\\\"#17BECF\\\",\\\"#17BECF\\\",\\\"#17BECF\\\",\\\"#17BECF\\\",\\\"#17BECF\\\",\\\"#17BECF\\\",\\\"#17BECF\\\",\\\"#17BECF\\\",\\\"#17BECF\\\",\\\"#17BECF\\\",\\\"#17BECF\\\",\\\"#17BECF\\\",\\\"#17BECF\\\",\\\"#17BECF\\\",\\\"#17BECF\\\",\\\"#17BECF\\\",\\\"#17BECF\\\",\\\"#17BECF\\\",\\\"#17BECF\\\",\\\"#17BECF\\\",\\\"#17BECF\\\",\\\"#17BECF\\\",\\\"#17BECF\\\",\\\"#17BECF\\\",\\\"#17BECF\\\",\\\"#17BECF\\\",\\\"#17BECF\\\",\\\"#17BECF\\\",\\\"#17BECF\\\"],\\\"size\\\":5}}],{\\\"template\\\":{\\\"layout\\\":{\\\"coloraxis\\\":{\\\"colorbar\\\":{\\\"ticks\\\":\\\"\\\",\\\"outlinewidth\\\":0}},\\\"xaxis\\\":{\\\"gridcolor\\\":\\\"white\\\",\\\"zerolinewidth\\\":2,\\\"title\\\":{\\\"standoff\\\":15},\\\"ticks\\\":\\\"\\\",\\\"zerolinecolor\\\":\\\"white\\\",\\\"automargin\\\":true,\\\"linecolor\\\":\\\"white\\\"},\\\"hovermode\\\":\\\"closest\\\",\\\"paper_bgcolor\\\":\\\"white\\\",\\\"geo\\\":{\\\"showlakes\\\":true,\\\"showland\\\":true,\\\"landcolor\\\":\\\"#E5ECF6\\\",\\\"bgcolor\\\":\\\"white\\\",\\\"subunitcolor\\\":\\\"white\\\",\\\"lakecolor\\\":\\\"white\\\"},\\\"colorscale\\\":{\\\"sequential\\\":[[0.0,\\\"#0d0887\\\"],[0.1111111111111111,\\\"#46039f\\\"],[0.2222222222222222,\\\"#7201a8\\\"],[0.3333333333333333,\\\"#9c179e\\\"],[0.4444444444444444,\\\"#bd3786\\\"],[0.5555555555555556,\\\"#d8576b\\\"],[0.6666666666666666,\\\"#ed7953\\\"],[0.7777777777777778,\\\"#fb9f3a\\\"],[0.8888888888888888,\\\"#fdca26\\\"],[1.0,\\\"#f0f921\\\"]],\\\"diverging\\\":[[0,\\\"#8e0152\\\"],[0.1,\\\"#c51b7d\\\"],[0.2,\\\"#de77ae\\\"],[0.3,\\\"#f1b6da\\\"],[0.4,\\\"#fde0ef\\\"],[0.5,\\\"#f7f7f7\\\"],[0.6,\\\"#e6f5d0\\\"],[0.7,\\\"#b8e186\\\"],[0.8,\\\"#7fbc41\\\"],[0.9,\\\"#4d9221\\\"],[1,\\\"#276419\\\"]],\\\"sequentialminus\\\":[[0.0,\\\"#0d0887\\\"],[0.1111111111111111,\\\"#46039f\\\"],[0.2222222222222222,\\\"#7201a8\\\"],[0.3333333333333333,\\\"#9c179e\\\"],[0.4444444444444444,\\\"#bd3786\\\"],[0.5555555555555556,\\\"#d8576b\\\"],[0.6666666666666666,\\\"#ed7953\\\"],[0.7777777777777778,\\\"#fb9f3a\\\"],[0.8888888888888888,\\\"#fdca26\\\"],[1.0,\\\"#f0f921\\\"]]},\\\"yaxis\\\":{\\\"gridcolor\\\":\\\"white\\\",\\\"zerolinewidth\\\":2,\\\"title\\\":{\\\"standoff\\\":15},\\\"ticks\\\":\\\"\\\",\\\"zerolinecolor\\\":\\\"white\\\",\\\"automargin\\\":true,\\\"linecolor\\\":\\\"white\\\"},\\\"shapedefaults\\\":{\\\"line\\\":{\\\"color\\\":\\\"#2a3f5f\\\"}},\\\"hoverlabel\\\":{\\\"align\\\":\\\"left\\\"},\\\"mapbox\\\":{\\\"style\\\":\\\"light\\\"},\\\"polar\\\":{\\\"angularaxis\\\":{\\\"gridcolor\\\":\\\"white\\\",\\\"ticks\\\":\\\"\\\",\\\"linecolor\\\":\\\"white\\\"},\\\"bgcolor\\\":\\\"#E5ECF6\\\",\\\"radialaxis\\\":{\\\"gridcolor\\\":\\\"white\\\",\\\"ticks\\\":\\\"\\\",\\\"linecolor\\\":\\\"white\\\"}},\\\"autotypenumbers\\\":\\\"strict\\\",\\\"font\\\":{\\\"color\\\":\\\"#2a3f5f\\\"},\\\"ternary\\\":{\\\"baxis\\\":{\\\"gridcolor\\\":\\\"white\\\",\\\"ticks\\\":\\\"\\\",\\\"linecolor\\\":\\\"white\\\"},\\\"bgcolor\\\":\\\"#E5ECF6\\\",\\\"caxis\\\":{\\\"gridcolor\\\":\\\"white\\\",\\\"ticks\\\":\\\"\\\",\\\"linecolor\\\":\\\"white\\\"},\\\"aaxis\\\":{\\\"gridcolor\\\":\\\"white\\\",\\\"ticks\\\":\\\"\\\",\\\"linecolor\\\":\\\"white\\\"}},\\\"annotationdefaults\\\":{\\\"arrowhead\\\":0,\\\"arrowwidth\\\":1,\\\"arrowcolor\\\":\\\"#2a3f5f\\\"},\\\"plot_bgcolor\\\":\\\"#E5ECF6\\\",\\\"title\\\":{\\\"x\\\":0.05},\\\"scene\\\":{\\\"xaxis\\\":{\\\"gridcolor\\\":\\\"white\\\",\\\"gridwidth\\\":2,\\\"backgroundcolor\\\":\\\"#E5ECF6\\\",\\\"ticks\\\":\\\"\\\",\\\"showbackground\\\":true,\\\"zerolinecolor\\\":\\\"white\\\",\\\"linecolor\\\":\\\"white\\\"},\\\"zaxis\\\":{\\\"gridcolor\\\":\\\"white\\\",\\\"gridwidth\\\":2,\\\"backgroundcolor\\\":\\\"#E5ECF6\\\",\\\"ticks\\\":\\\"\\\",\\\"showbackground\\\":true,\\\"zerolinecolor\\\":\\\"white\\\",\\\"linecolor\\\":\\\"white\\\"},\\\"yaxis\\\":{\\\"gridcolor\\\":\\\"white\\\",\\\"gridwidth\\\":2,\\\"backgroundcolor\\\":\\\"#E5ECF6\\\",\\\"ticks\\\":\\\"\\\",\\\"showbackground\\\":true,\\\"zerolinecolor\\\":\\\"white\\\",\\\"linecolor\\\":\\\"white\\\"}},\\\"colorway\\\":[\\\"#636efa\\\",\\\"#EF553B\\\",\\\"#00cc96\\\",\\\"#ab63fa\\\",\\\"#FFA15A\\\",\\\"#19d3f3\\\",\\\"#FF6692\\\",\\\"#B6E880\\\",\\\"#FF97FF\\\",\\\"#FECB52\\\"]},\\\"data\\\":{\\\"barpolar\\\":[{\\\"type\\\":\\\"barpolar\\\",\\\"marker\\\":{\\\"line\\\":{\\\"color\\\":\\\"#E5ECF6\\\",\\\"width\\\":0.5}}}],\\\"carpet\\\":[{\\\"aaxis\\\":{\\\"gridcolor\\\":\\\"white\\\",\\\"endlinecolor\\\":\\\"#2a3f5f\\\",\\\"minorgridcolor\\\":\\\"white\\\",\\\"startlinecolor\\\":\\\"#2a3f5f\\\",\\\"linecolor\\\":\\\"white\\\"},\\\"type\\\":\\\"carpet\\\",\\\"baxis\\\":{\\\"gridcolor\\\":\\\"white\\\",\\\"endlinecolor\\\":\\\"#2a3f5f\\\",\\\"minorgridcolor\\\":\\\"white\\\",\\\"startlinecolor\\\":\\\"#2a3f5f\\\",\\\"linecolor\\\":\\\"white\\\"}}],\\\"scatterpolar\\\":[{\\\"type\\\":\\\"scatterpolar\\\",\\\"marker\\\":{\\\"colorbar\\\":{\\\"ticks\\\":\\\"\\\",\\\"outlinewidth\\\":0}}}],\\\"parcoords\\\":[{\\\"line\\\":{\\\"colorbar\\\":{\\\"ticks\\\":\\\"\\\",\\\"outlinewidth\\\":0}},\\\"type\\\":\\\"parcoords\\\"}],\\\"scatter\\\":[{\\\"type\\\":\\\"scatter\\\",\\\"marker\\\":{\\\"colorbar\\\":{\\\"ticks\\\":\\\"\\\",\\\"outlinewidth\\\":0}}}],\\\"histogram2dcontour\\\":[{\\\"colorbar\\\":{\\\"ticks\\\":\\\"\\\",\\\"outlinewidth\\\":0},\\\"type\\\":\\\"histogram2dcontour\\\",\\\"colorscale\\\":[[0.0,\\\"#0d0887\\\"],[0.1111111111111111,\\\"#46039f\\\"],[0.2222222222222222,\\\"#7201a8\\\"],[0.3333333333333333,\\\"#9c179e\\\"],[0.4444444444444444,\\\"#bd3786\\\"],[0.5555555555555556,\\\"#d8576b\\\"],[0.6666666666666666,\\\"#ed7953\\\"],[0.7777777777777778,\\\"#fb9f3a\\\"],[0.8888888888888888,\\\"#fdca26\\\"],[1.0,\\\"#f0f921\\\"]]}],\\\"contour\\\":[{\\\"colorbar\\\":{\\\"ticks\\\":\\\"\\\",\\\"outlinewidth\\\":0},\\\"type\\\":\\\"contour\\\",\\\"colorscale\\\":[[0.0,\\\"#0d0887\\\"],[0.1111111111111111,\\\"#46039f\\\"],[0.2222222222222222,\\\"#7201a8\\\"],[0.3333333333333333,\\\"#9c179e\\\"],[0.4444444444444444,\\\"#bd3786\\\"],[0.5555555555555556,\\\"#d8576b\\\"],[0.6666666666666666,\\\"#ed7953\\\"],[0.7777777777777778,\\\"#fb9f3a\\\"],[0.8888888888888888,\\\"#fdca26\\\"],[1.0,\\\"#f0f921\\\"]]}],\\\"scattercarpet\\\":[{\\\"type\\\":\\\"scattercarpet\\\",\\\"marker\\\":{\\\"colorbar\\\":{\\\"ticks\\\":\\\"\\\",\\\"outlinewidth\\\":0}}}],\\\"mesh3d\\\":[{\\\"colorbar\\\":{\\\"ticks\\\":\\\"\\\",\\\"outlinewidth\\\":0},\\\"type\\\":\\\"mesh3d\\\"}],\\\"surface\\\":[{\\\"colorbar\\\":{\\\"ticks\\\":\\\"\\\",\\\"outlinewidth\\\":0},\\\"type\\\":\\\"surface\\\",\\\"colorscale\\\":[[0.0,\\\"#0d0887\\\"],[0.1111111111111111,\\\"#46039f\\\"],[0.2222222222222222,\\\"#7201a8\\\"],[0.3333333333333333,\\\"#9c179e\\\"],[0.4444444444444444,\\\"#bd3786\\\"],[0.5555555555555556,\\\"#d8576b\\\"],[0.6666666666666666,\\\"#ed7953\\\"],[0.7777777777777778,\\\"#fb9f3a\\\"],[0.8888888888888888,\\\"#fdca26\\\"],[1.0,\\\"#f0f921\\\"]]}],\\\"scattermapbox\\\":[{\\\"type\\\":\\\"scattermapbox\\\",\\\"marker\\\":{\\\"colorbar\\\":{\\\"ticks\\\":\\\"\\\",\\\"outlinewidth\\\":0}}}],\\\"scattergeo\\\":[{\\\"type\\\":\\\"scattergeo\\\",\\\"marker\\\":{\\\"colorbar\\\":{\\\"ticks\\\":\\\"\\\",\\\"outlinewidth\\\":0}}}],\\\"histogram\\\":[{\\\"type\\\":\\\"histogram\\\",\\\"marker\\\":{\\\"colorbar\\\":{\\\"ticks\\\":\\\"\\\",\\\"outlinewidth\\\":0}}}],\\\"pie\\\":[{\\\"type\\\":\\\"pie\\\",\\\"automargin\\\":true}],\\\"choropleth\\\":[{\\\"colorbar\\\":{\\\"ticks\\\":\\\"\\\",\\\"outlinewidth\\\":0},\\\"type\\\":\\\"choropleth\\\"}],\\\"heatmapgl\\\":[{\\\"colorbar\\\":{\\\"ticks\\\":\\\"\\\",\\\"outlinewidth\\\":0},\\\"type\\\":\\\"heatmapgl\\\",\\\"colorscale\\\":[[0.0,\\\"#0d0887\\\"],[0.1111111111111111,\\\"#46039f\\\"],[0.2222222222222222,\\\"#7201a8\\\"],[0.3333333333333333,\\\"#9c179e\\\"],[0.4444444444444444,\\\"#bd3786\\\"],[0.5555555555555556,\\\"#d8576b\\\"],[0.6666666666666666,\\\"#ed7953\\\"],[0.7777777777777778,\\\"#fb9f3a\\\"],[0.8888888888888888,\\\"#fdca26\\\"],[1.0,\\\"#f0f921\\\"]]}],\\\"bar\\\":[{\\\"type\\\":\\\"bar\\\",\\\"error_y\\\":{\\\"color\\\":\\\"#2a3f5f\\\"},\\\"error_x\\\":{\\\"color\\\":\\\"#2a3f5f\\\"},\\\"marker\\\":{\\\"line\\\":{\\\"color\\\":\\\"#E5ECF6\\\",\\\"width\\\":0.5}}}],\\\"heatmap\\\":[{\\\"colorbar\\\":{\\\"ticks\\\":\\\"\\\",\\\"outlinewidth\\\":0},\\\"type\\\":\\\"heatmap\\\",\\\"colorscale\\\":[[0.0,\\\"#0d0887\\\"],[0.1111111111111111,\\\"#46039f\\\"],[0.2222222222222222,\\\"#7201a8\\\"],[0.3333333333333333,\\\"#9c179e\\\"],[0.4444444444444444,\\\"#bd3786\\\"],[0.5555555555555556,\\\"#d8576b\\\"],[0.6666666666666666,\\\"#ed7953\\\"],[0.7777777777777778,\\\"#fb9f3a\\\"],[0.8888888888888888,\\\"#fdca26\\\"],[1.0,\\\"#f0f921\\\"]]}],\\\"contourcarpet\\\":[{\\\"colorbar\\\":{\\\"ticks\\\":\\\"\\\",\\\"outlinewidth\\\":0},\\\"type\\\":\\\"contourcarpet\\\"}],\\\"table\\\":[{\\\"type\\\":\\\"table\\\",\\\"header\\\":{\\\"line\\\":{\\\"color\\\":\\\"white\\\"},\\\"fill\\\":{\\\"color\\\":\\\"#C8D4E3\\\"}},\\\"cells\\\":{\\\"line\\\":{\\\"color\\\":\\\"white\\\"},\\\"fill\\\":{\\\"color\\\":\\\"#EBF0F8\\\"}}}],\\\"scatter3d\\\":[{\\\"line\\\":{\\\"colorbar\\\":{\\\"ticks\\\":\\\"\\\",\\\"outlinewidth\\\":0}},\\\"type\\\":\\\"scatter3d\\\",\\\"marker\\\":{\\\"colorbar\\\":{\\\"ticks\\\":\\\"\\\",\\\"outlinewidth\\\":0}}}],\\\"scattergl\\\":[{\\\"type\\\":\\\"scattergl\\\",\\\"marker\\\":{\\\"colorbar\\\":{\\\"ticks\\\":\\\"\\\",\\\"outlinewidth\\\":0}}}],\\\"histogram2d\\\":[{\\\"colorbar\\\":{\\\"ticks\\\":\\\"\\\",\\\"outlinewidth\\\":0},\\\"type\\\":\\\"histogram2d\\\",\\\"colorscale\\\":[[0.0,\\\"#0d0887\\\"],[0.1111111111111111,\\\"#46039f\\\"],[0.2222222222222222,\\\"#7201a8\\\"],[0.3333333333333333,\\\"#9c179e\\\"],[0.4444444444444444,\\\"#bd3786\\\"],[0.5555555555555556,\\\"#d8576b\\\"],[0.6666666666666666,\\\"#ed7953\\\"],[0.7777777777777778,\\\"#fb9f3a\\\"],[0.8888888888888888,\\\"#fdca26\\\"],[1.0,\\\"#f0f921\\\"]]}],\\\"scatterternary\\\":[{\\\"type\\\":\\\"scatterternary\\\",\\\"marker\\\":{\\\"colorbar\\\":{\\\"ticks\\\":\\\"\\\",\\\"outlinewidth\\\":0}}}],\\\"scatterpolargl\\\":[{\\\"type\\\":\\\"scatterpolargl\\\",\\\"marker\\\":{\\\"colorbar\\\":{\\\"ticks\\\":\\\"\\\",\\\"outlinewidth\\\":0}}}]}},\\\"margin\\\":{\\\"l\\\":50,\\\"b\\\":50,\\\"r\\\":50,\\\"t\\\":60}},{\\\"showLink\\\":false,\\\"editable\\\":false,\\\"responsive\\\":true,\\\"staticPlot\\\":false,\\\"scrollZoom\\\":true}); gd.on(\\\"plotly_hover\\\",(function (data){var filtered_data=WebIO.PlotlyCommands.filterEventData(gd,data,\\\"hover\\\"); return !(filtered_data.isnil) ? (WebIO.setval({\\\"name\\\":\\\"hover\\\",\\\"scope\\\":\\\"5779750495488275178\\\",\\\"id\\\":\\\"17595819860824450223\\\",\\\"type\\\":\\\"observable\\\"},filtered_data.out)) : undefined})); gd.on(\\\"plotly_unhover\\\",(function (){return WebIO.setval({\\\"name\\\":\\\"hover\\\",\\\"scope\\\":\\\"5779750495488275178\\\",\\\"id\\\":\\\"17595819860824450223\\\",\\\"type\\\":\\\"observable\\\"},{})})); gd.on(\\\"plotly_selected\\\",(function (data){var filtered_data=WebIO.PlotlyCommands.filterEventData(gd,data,\\\"selected\\\"); return !(filtered_data.isnil) ? (WebIO.setval({\\\"name\\\":\\\"selected\\\",\\\"scope\\\":\\\"5779750495488275178\\\",\\\"id\\\":\\\"9161083583865511472\\\",\\\"type\\\":\\\"observable\\\"},filtered_data.out)) : undefined})); gd.on(\\\"plotly_deselect\\\",(function (){return WebIO.setval({\\\"name\\\":\\\"selected\\\",\\\"scope\\\":\\\"5779750495488275178\\\",\\\"id\\\":\\\"9161083583865511472\\\",\\\"type\\\":\\\"observable\\\"},{})})); gd.on(\\\"plotly_relayout\\\",(function (data){var filtered_data=WebIO.PlotlyCommands.filterEventData(gd,data,\\\"relayout\\\"); return !(filtered_data.isnil) ? (WebIO.setval({\\\"name\\\":\\\"relayout\\\",\\\"scope\\\":\\\"5779750495488275178\\\",\\\"id\\\":\\\"1673497171470894102\\\",\\\"type\\\":\\\"observable\\\"},filtered_data.out)) : undefined})); return gd.on(\\\"plotly_click\\\",(function (data){var filtered_data=WebIO.PlotlyCommands.filterEventData(gd,data,\\\"click\\\"); return !(filtered_data.isnil) ? (WebIO.setval({\\\"name\\\":\\\"click\\\",\\\"scope\\\":\\\"5779750495488275178\\\",\\\"id\\\":\\\"2824391561571622465\\\",\\\"type\\\":\\\"observable\\\"},filtered_data.out)) : undefined}))}));\\n    (WebIO.importBlock({\\\"data\\\":[{\\\"name\\\":\\\"Plotly\\\",\\\"type\\\":\\\"js\\\",\\\"url\\\":\\\"\\/assetserver\\/7e7f02b4706983031fd39093cbcb1bdd79145909-plotly.min.js\\\"},{\\\"name\\\":null,\\\"type\\\":\\\"js\\\",\\\"url\\\":\\\"\\/assetserver\\/bf3f5df3c2b669f67776db2d17c97146cee1f600-plotly_webio.bundle.js\\\"}],\\\"type\\\":\\\"async_block\\\"})).then((imports) => handler.apply(this, imports));\\n}\\n\"],\"observables\":{\"_toImage\":{\"sync\":false,\"id\":\"14152966418957239994\",\"value\":{}},\"hover\":{\"sync\":false,\"id\":\"17595819860824450223\",\"value\":{}},\"selected\":{\"sync\":false,\"id\":\"9161083583865511472\",\"value\":{}},\"__gd_contents\":{\"sync\":false,\"id\":\"858157686466399384\",\"value\":{}},\"click\":{\"sync\":false,\"id\":\"2824391561571622465\",\"value\":{}},\"image\":{\"sync\":true,\"id\":\"3603673112475303479\",\"value\":\"\"},\"__get_gd_contents\":{\"sync\":false,\"id\":\"17220972526842403375\",\"value\":\"\"},\"_downloadImage\":{\"sync\":false,\"id\":\"12134306201628337571\",\"value\":{}},\"relayout\":{\"sync\":false,\"id\":\"1673497171470894102\",\"value\":{}},\"_commands\":{\"sync\":false,\"id\":\"18077963526660146739\",\"value\":[]}}},\"children\":[{\"props\":{\"id\":\"plot-cf1971a8-4058-423d-b38c-8cfcb4d89598\"},\"nodeType\":\"DOM\",\"type\":\"node\",\"instanceArgs\":{\"namespace\":\"html\",\"tag\":\"div\"},\"children\":[]}]},\n",
       "        window,\n",
       "    );\n",
       "    })()\n",
       "    </script>\n",
       "</div>\n"
      ],
      "text/plain": [
       "data: [\n",
       "  \"scatter3d with fields marker, mode, type, x, y, and z\"\n",
       "]\n",
       "\n",
       "layout: \"layout with fields margin and template\"\n",
       "\n"
      ]
     },
     "execution_count": 33,
     "metadata": {},
     "output_type": "execute_result"
    }
   ],
   "source": [
    "import PlotlyJS\n",
    "PlotlyJS.plot([PlotlyJS.scatter3d(; x= irisM[:,1], y= irisM[:,2], z = irisM[:,3], \n",
    "                                   mode = \"markers\",\n",
    " marker = PlotlyJS.attr(size = 5, color = colours[levelcode.(iris[:, :Species])]\n",
    "))])  "
   ]
  },
  {
   "cell_type": "markdown",
   "id": "46a6826d",
   "metadata": {},
   "source": [
    "For details on the precise connection between PCA and SVD see, e.g., https://stats.stackexchange.com/questions/134282/relationship-between-svd-and-pca-how-to-use-svd-to-perform-pca\n",
    "\n",
    "### Other applications\n",
    "\n",
    "The SVD is useful for other applications, for example to approximate (simplify) a graph adjacency matrix, or a matrix of works and words for text ([latent semantic](https://en.wikipedia.org/wiki/Latent_semantic_analysis)) analysis or web page searching.\n"
   ]
  },
  {
   "cell_type": "code",
   "execution_count": null,
   "id": "04a50251",
   "metadata": {},
   "outputs": [],
   "source": []
  }
 ],
 "metadata": {
  "@webio": {
   "lastCommId": "e9b57ef1c0dc4765868dcb901b579775",
   "lastKernelId": "ac61ffa8-61ba-42aa-8d3c-fb12ba475390"
  },
  "kernelspec": {
   "display_name": "Julia 1.8.4",
   "language": "julia",
   "name": "julia-1.8"
  },
  "language_info": {
   "file_extension": ".jl",
   "mimetype": "application/julia",
   "name": "julia",
   "version": "1.8.4"
  }
 },
 "nbformat": 4,
 "nbformat_minor": 5
}
