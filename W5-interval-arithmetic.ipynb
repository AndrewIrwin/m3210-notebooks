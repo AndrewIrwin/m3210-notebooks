{
 "cells": [
  {
   "cell_type": "markdown",
   "metadata": {},
   "source": [
    "# Interval arithmetic\n",
    "\n",
    "In these examples we will learn how to do arithmetic and find roots using interval arithmetic.\n",
    "\n",
    "Documentation is here: https://juliaintervals.github.io/pages/tutorials/tutorialArithmetic/"
   ]
  },
  {
   "cell_type": "code",
   "execution_count": 3,
   "metadata": {},
   "outputs": [],
   "source": [
    "# import Pkg; Pkg.add(\"IntervalArithmetic\")\n",
    "using IntervalArithmetic\n",
    "using Plots"
   ]
  },
  {
   "cell_type": "markdown",
   "metadata": {},
   "source": [
    "Create an interval and learn about interval arithmetic."
   ]
  },
  {
   "cell_type": "code",
   "execution_count": 17,
   "metadata": {},
   "outputs": [
    {
     "name": "stdout",
     "output_type": "stream",
     "text": [
      "a = 1 .. 2 = [1, 2]\n"
     ]
    }
   ],
   "source": [
    "@show a = 1..2;"
   ]
  },
  {
   "cell_type": "code",
   "execution_count": 18,
   "metadata": {},
   "outputs": [
    {
     "data": {
      "text/plain": [
       "[1, 3]"
      ]
     },
     "execution_count": 18,
     "metadata": {},
     "output_type": "execute_result"
    }
   ],
   "source": [
    "2 ± 1"
   ]
  },
  {
   "cell_type": "code",
   "execution_count": 19,
   "metadata": {},
   "outputs": [
    {
     "name": "stdout",
     "output_type": "stream",
     "text": [
      "(a, b, c, d) = ([1, 2], [1, 2], [1, 1], [1, 1])\n"
     ]
    },
    {
     "data": {
      "text/plain": [
       "([1, 2], [1, 2], [1, 1], [1, 1])"
      ]
     },
     "execution_count": 19,
     "metadata": {},
     "output_type": "execute_result"
    }
   ],
   "source": [
    "a = @interval(1, 2) # four ways to make an interval. Generally you want the \"@\" method\n",
    "b = interval(1, 2)\n",
    "c = interval(1)\n",
    "d = @interval 1\n",
    "@show a, b, c, d"
   ]
  },
  {
   "cell_type": "code",
   "execution_count": 20,
   "metadata": {},
   "outputs": [
    {
     "data": {
      "text/plain": [
       "[-1.02566, -1.02565]"
      ]
     },
     "execution_count": 20,
     "metadata": {},
     "output_type": "execute_result"
    }
   ],
   "source": [
    "@interval sin(0.2)+cos(1.3)-exp(0.4)"
   ]
  },
  {
   "cell_type": "code",
   "execution_count": 21,
   "metadata": {},
   "outputs": [
    {
     "name": "stdout",
     "output_type": "stream",
     "text": [
      "big(a) = 0.1000000000000000055511151231257827021181583404541015625\n"
     ]
    },
    {
     "data": {
      "text/plain": [
       "0.1000000000000000055511151231257827021181583404541015625"
      ]
     },
     "execution_count": 21,
     "metadata": {},
     "output_type": "execute_result"
    }
   ],
   "source": [
    "a = 0.1\n",
    "@show big(a);"
   ]
  },
  {
   "cell_type": "code",
   "execution_count": 22,
   "metadata": {},
   "outputs": [
    {
     "name": "stdout",
     "output_type": "stream",
     "text": [
      "correct = 0.1000000000000000000000000000000000000000000000000000000000000000000000000000002\n"
     ]
    }
   ],
   "source": [
    "correct = big\"0.1\"\n",
    "@show correct;"
   ]
  },
  {
   "cell_type": "code",
   "execution_count": 23,
   "metadata": {},
   "outputs": [
    {
     "name": "stdout",
     "output_type": "stream",
     "text": [
      "correct ∈ I = false\n",
      "correct ∈ II = true\n",
      "correct ∈ III = true\n"
     ]
    },
    {
     "data": {
      "text/plain": [
       "true"
      ]
     },
     "execution_count": 23,
     "metadata": {},
     "output_type": "execute_result"
    }
   ],
   "source": [
    "I = interval(a)\n",
    "II = @interval 0.1\n",
    "III = a..a\n",
    "\n",
    "@show correct ∈ I\n",
    "@show correct ∈ II\n",
    "@show correct ∈ III;"
   ]
  },
  {
   "cell_type": "code",
   "execution_count": 24,
   "metadata": {},
   "outputs": [
    {
     "name": "stdout",
     "output_type": "stream",
     "text": [
      "X ∩ Y = ∅\n",
      "X ∪ Y = [1, 4]\n",
      "X + Y = [4, 6]\n",
      "X * Y = [3, 8]\n",
      "X ^ 3 = [1, 8]\n",
      "X / Y = [0.25, 0.666667]\n"
     ]
    }
   ],
   "source": [
    "X = 1..2\n",
    "Y = 3..4\n",
    "\n",
    "@show X ∩ Y # typed \\cap<TAB>\n",
    "@show X ∪ Y # TYPED \\cup<TAB>\n",
    "@show X + Y\n",
    "@show X*Y\n",
    "@show X^3\n",
    "@show X/Y;"
   ]
  },
  {
   "cell_type": "code",
   "execution_count": 33,
   "metadata": {},
   "outputs": [
    {
     "name": "stdout",
     "output_type": "stream",
     "text": [
      "X / Y = [-∞, ∞]\n",
      "X / Z = [0.5, ∞]\n"
     ]
    }
   ],
   "source": [
    "X = 1..2\n",
    "Y = -1..1\n",
    "Z = 0..2\n",
    "@show X/Y\n",
    "@show X/Z;"
   ]
  },
  {
   "cell_type": "code",
   "execution_count": 27,
   "metadata": {},
   "outputs": [
    {
     "name": "stdout",
     "output_type": "stream",
     "text": [
      "X - X = [-1, 1]\n",
      "X / X = [0.5, 2]\n",
      "Z * (X + Y) = [0, 6]\n",
      "Z * X + Z * Y = [-2, 6]\n"
     ]
    }
   ],
   "source": [
    "@show X-X\n",
    "@show X/X\n",
    "@show Z*(X+Y)\n",
    "@show Z*X+Z*Y;"
   ]
  },
  {
   "cell_type": "code",
   "execution_count": 28,
   "metadata": {},
   "outputs": [
    {
     "name": "stdout",
     "output_type": "stream",
     "text": [
      "sin(0 .. (2 / 3) * π) = [0, 1]\n",
      "log(-3 .. -2) = ∅\n",
      "log(-3 .. 2) = [-∞, 0.693148]\n",
      "√(-3 .. 4) = [0, 2]\n"
     ]
    }
   ],
   "source": [
    "@show sin(0..2/3*π)\n",
    "@show log(-3.. -2)\n",
    "@show log(-3..2)\n",
    "@show √(-3..4);"
   ]
  },
  {
   "cell_type": "markdown",
   "metadata": {},
   "source": [
    "What happens when you evaluate a function on an interval? \n",
    "    \n",
    "If it's monotonic, simply evaluate the end points. Otherwise use your knowledge of the function to define the appropriate result.\n",
    "\n",
    "With user-defined functions, assembled from built-in functions, a problem arises when the independent variable appears twice. In general, the interval for the range will be too large."
   ]
  },
  {
   "cell_type": "code",
   "execution_count": 39,
   "metadata": {},
   "outputs": [
    {
     "name": "stdout",
     "output_type": "stream",
     "text": [
      "X = [1, 2]\n",
      "f(X) = [0, 1]\n",
      "f(X) * f(X) = [0, 1]\n",
      "g(X) = [0, 1]\n",
      "h(X) = [-2, 3]\n",
      "X ^ 2 = [1, 4]\n",
      "-2X = [-4, -2]\n"
     ]
    },
    {
     "data": {
      "text/plain": [
       "[-4, -2]"
      ]
     },
     "execution_count": 39,
     "metadata": {},
     "output_type": "execute_result"
    }
   ],
   "source": [
    "f(x) = x - 1\n",
    "@show X\n",
    "@show f(X)\n",
    "@show f(X) * f(X)\n",
    "g(x) = (x-1)^2\n",
    "@show g(X)\n",
    "h(x) = x^2 - 2x + 1\n",
    "@show h(X)\n",
    "@show X^2\n",
    "@show -2*X"
   ]
  },
  {
   "cell_type": "markdown",
   "metadata": {},
   "source": [
    "The way to \"solve\" this problem is to evaluate a function on subintervals."
   ]
  },
  {
   "cell_type": "code",
   "execution_count": 24,
   "metadata": {},
   "outputs": [
    {
     "name": "stdout",
     "output_type": "stream",
     "text": [
      "f(X) = [-7, 9]\n",
      "f(-2 .. -1.5) ∪ f(-1.5 .. 2) = [-5.5, 9]\n"
     ]
    }
   ],
   "source": [
    "f(x) = x^2+3x-1\n",
    "X = -2..2\n",
    "@show f(X)\n",
    "@show f(-2.. -1.5) ∪ f(-1.5.. 2);"
   ]
  },
  {
   "cell_type": "markdown",
   "metadata": {},
   "source": [
    "We can make graphs to show what is going on by extending the idea of intervals to boxes in the plane (or higher dimensions.)"
   ]
  },
  {
   "cell_type": "code",
   "execution_count": null,
   "metadata": {},
   "outputs": [
    {
     "name": "stdout",
     "output_type": "stream",
     "text": [
      "X1 + X2 = [0, 3] × [2, 5]\n",
      "sin.(X1) = [0.84147, 1] × [0.14112, 0.909298]\n"
     ]
    }
   ],
   "source": [
    "X1 = IntervalBox(1..2, 2..3)\n",
    "X2 = IntervalBox(-1..1, 0..2)\n",
    "@show X1 + X2\n",
    "@show sin.(X1);"
   ]
  },
  {
   "cell_type": "code",
   "execution_count": 60,
   "metadata": {},
   "outputs": [
    {
     "data": {
      "text/plain": [
       "2-element Vector{IntervalBox{2, Float64}}:\n",
       " [-2, 0.25] × [-7, 3.75]\n",
       " [0.25, 2] × [-0.1875, 9]"
      ]
     },
     "execution_count": 60,
     "metadata": {},
     "output_type": "execute_result"
    }
   ],
   "source": [
    "X = -2..2\n",
    "X2 = [-2 .. 0.25, 0.25 .. 2]\n",
    "f1 = f(X)\n",
    "f2 = f.(X2)\n",
    "box1 = IntervalBox(X, f1)\n",
    "box2 = IntervalBox.(X2, f2)"
   ]
  },
  {
   "cell_type": "code",
   "execution_count": 61,
   "metadata": {},
   "outputs": [
    {
     "data": {
      "image/svg+xml": [
       "<?xml version=\"1.0\" encoding=\"utf-8\"?>\n",
       "<svg xmlns=\"http://www.w3.org/2000/svg\" xmlns:xlink=\"http://www.w3.org/1999/xlink\" width=\"600\" height=\"400\" viewBox=\"0 0 2400 1600\">\n",
       "<defs>\n",
       "  <clipPath id=\"clip140\">\n",
       "    <rect x=\"0\" y=\"0\" width=\"2400\" height=\"1600\"/>\n",
       "  </clipPath>\n",
       "</defs>\n",
       "<path clip-path=\"url(#clip140)\" d=\"\n",
       "M0 1600 L2400 1600 L2400 0 L0 0  Z\n",
       "  \" fill=\"#ffffff\" fill-rule=\"evenodd\" fill-opacity=\"1\"/>\n",
       "<defs>\n",
       "  <clipPath id=\"clip141\">\n",
       "    <rect x=\"480\" y=\"0\" width=\"1681\" height=\"1600\"/>\n",
       "  </clipPath>\n",
       "</defs>\n",
       "<path clip-path=\"url(#clip140)\" d=\"\n",
       "M193.936 1486.45 L2352.76 1486.45 L2352.76 47.2441 L193.936 47.2441  Z\n",
       "  \" fill=\"#ffffff\" fill-rule=\"evenodd\" fill-opacity=\"1\"/>\n",
       "<defs>\n",
       "  <clipPath id=\"clip142\">\n",
       "    <rect x=\"193\" y=\"47\" width=\"2160\" height=\"1440\"/>\n",
       "  </clipPath>\n",
       "</defs>\n",
       "<polyline clip-path=\"url(#clip142)\" style=\"stroke:#000000; stroke-linecap:round; stroke-linejoin:round; stroke-width:2; stroke-opacity:0.1; fill:none\" points=\"\n",
       "  255.035,1486.45 255.035,47.2441 \n",
       "  \"/>\n",
       "<polyline clip-path=\"url(#clip142)\" style=\"stroke:#000000; stroke-linecap:round; stroke-linejoin:round; stroke-width:2; stroke-opacity:0.1; fill:none\" points=\"\n",
       "  764.19,1486.45 764.19,47.2441 \n",
       "  \"/>\n",
       "<polyline clip-path=\"url(#clip142)\" style=\"stroke:#000000; stroke-linecap:round; stroke-linejoin:round; stroke-width:2; stroke-opacity:0.1; fill:none\" points=\"\n",
       "  1273.35,1486.45 1273.35,47.2441 \n",
       "  \"/>\n",
       "<polyline clip-path=\"url(#clip142)\" style=\"stroke:#000000; stroke-linecap:round; stroke-linejoin:round; stroke-width:2; stroke-opacity:0.1; fill:none\" points=\"\n",
       "  1782.5,1486.45 1782.5,47.2441 \n",
       "  \"/>\n",
       "<polyline clip-path=\"url(#clip142)\" style=\"stroke:#000000; stroke-linecap:round; stroke-linejoin:round; stroke-width:2; stroke-opacity:0.1; fill:none\" points=\"\n",
       "  2291.66,1486.45 2291.66,47.2441 \n",
       "  \"/>\n",
       "<polyline clip-path=\"url(#clip140)\" style=\"stroke:#000000; stroke-linecap:round; stroke-linejoin:round; stroke-width:4; stroke-opacity:1; fill:none\" points=\"\n",
       "  193.936,1486.45 2352.76,1486.45 \n",
       "  \"/>\n",
       "<polyline clip-path=\"url(#clip140)\" style=\"stroke:#000000; stroke-linecap:round; stroke-linejoin:round; stroke-width:4; stroke-opacity:1; fill:none\" points=\"\n",
       "  255.035,1486.45 255.035,1467.55 \n",
       "  \"/>\n",
       "<polyline clip-path=\"url(#clip140)\" style=\"stroke:#000000; stroke-linecap:round; stroke-linejoin:round; stroke-width:4; stroke-opacity:1; fill:none\" points=\"\n",
       "  764.19,1486.45 764.19,1467.55 \n",
       "  \"/>\n",
       "<polyline clip-path=\"url(#clip140)\" style=\"stroke:#000000; stroke-linecap:round; stroke-linejoin:round; stroke-width:4; stroke-opacity:1; fill:none\" points=\"\n",
       "  1273.35,1486.45 1273.35,1467.55 \n",
       "  \"/>\n",
       "<polyline clip-path=\"url(#clip140)\" style=\"stroke:#000000; stroke-linecap:round; stroke-linejoin:round; stroke-width:4; stroke-opacity:1; fill:none\" points=\"\n",
       "  1782.5,1486.45 1782.5,1467.55 \n",
       "  \"/>\n",
       "<polyline clip-path=\"url(#clip140)\" style=\"stroke:#000000; stroke-linecap:round; stroke-linejoin:round; stroke-width:4; stroke-opacity:1; fill:none\" points=\"\n",
       "  2291.66,1486.45 2291.66,1467.55 \n",
       "  \"/>\n",
       "<path clip-path=\"url(#clip140)\" d=\"M224.977 1532.02 L254.653 1532.02 L254.653 1535.95 L224.977 1535.95 L224.977 1532.02 Z\" fill=\"#000000\" fill-rule=\"evenodd\" fill-opacity=\"1\" /><path clip-path=\"url(#clip140)\" d=\"M268.773 1544.91 L285.092 1544.91 L285.092 1548.85 L263.148 1548.85 L263.148 1544.91 Q265.81 1542.16 270.393 1537.53 Q275 1532.88 276.18 1531.53 Q278.426 1529.01 279.305 1527.27 Q280.208 1525.51 280.208 1523.82 Q280.208 1521.07 278.264 1519.33 Q276.342 1517.6 273.241 1517.6 Q271.042 1517.6 268.588 1518.36 Q266.157 1519.13 263.38 1520.68 L263.38 1515.95 Q266.204 1514.82 268.657 1514.24 Q271.111 1513.66 273.148 1513.66 Q278.518 1513.66 281.713 1516.35 Q284.907 1519.03 284.907 1523.52 Q284.907 1525.65 284.097 1527.57 Q283.31 1529.47 281.204 1532.07 Q280.625 1532.74 277.523 1535.95 Q274.421 1539.15 268.773 1544.91 Z\" fill=\"#000000\" fill-rule=\"evenodd\" fill-opacity=\"1\" /><path clip-path=\"url(#clip140)\" d=\"M733.947 1532.02 L763.623 1532.02 L763.623 1535.95 L733.947 1535.95 L733.947 1532.02 Z\" fill=\"#000000\" fill-rule=\"evenodd\" fill-opacity=\"1\" /><path clip-path=\"url(#clip140)\" d=\"M774.526 1544.91 L782.165 1544.91 L782.165 1518.55 L773.855 1520.21 L773.855 1515.95 L782.118 1514.29 L786.794 1514.29 L786.794 1544.91 L794.433 1544.91 L794.433 1548.85 L774.526 1548.85 L774.526 1544.91 Z\" fill=\"#000000\" fill-rule=\"evenodd\" fill-opacity=\"1\" /><path clip-path=\"url(#clip140)\" d=\"M1273.35 1517.37 Q1269.73 1517.37 1267.91 1520.93 Q1266.1 1524.47 1266.1 1531.6 Q1266.1 1538.71 1267.91 1542.27 Q1269.73 1545.82 1273.35 1545.82 Q1276.98 1545.82 1278.79 1542.27 Q1280.61 1538.71 1280.61 1531.6 Q1280.61 1524.47 1278.79 1520.93 Q1276.98 1517.37 1273.35 1517.37 M1273.35 1513.66 Q1279.16 1513.66 1282.21 1518.27 Q1285.29 1522.85 1285.29 1531.6 Q1285.29 1540.33 1282.21 1544.94 Q1279.16 1549.52 1273.35 1549.52 Q1267.54 1549.52 1264.46 1544.94 Q1261.4 1540.33 1261.4 1531.6 Q1261.4 1522.85 1264.46 1518.27 Q1267.54 1513.66 1273.35 1513.66 Z\" fill=\"#000000\" fill-rule=\"evenodd\" fill-opacity=\"1\" /><path clip-path=\"url(#clip140)\" d=\"M1772.88 1544.91 L1780.52 1544.91 L1780.52 1518.55 L1772.21 1520.21 L1772.21 1515.95 L1780.48 1514.29 L1785.15 1514.29 L1785.15 1544.91 L1792.79 1544.91 L1792.79 1548.85 L1772.88 1548.85 L1772.88 1544.91 Z\" fill=\"#000000\" fill-rule=\"evenodd\" fill-opacity=\"1\" /><path clip-path=\"url(#clip140)\" d=\"M2286.31 1544.91 L2302.63 1544.91 L2302.63 1548.85 L2280.69 1548.85 L2280.69 1544.91 Q2283.35 1542.16 2287.93 1537.53 Q2292.54 1532.88 2293.72 1531.53 Q2295.96 1529.01 2296.84 1527.27 Q2297.75 1525.51 2297.75 1523.82 Q2297.75 1521.07 2295.8 1519.33 Q2293.88 1517.6 2290.78 1517.6 Q2288.58 1517.6 2286.12 1518.36 Q2283.69 1519.13 2280.92 1520.68 L2280.92 1515.95 Q2283.74 1514.82 2286.19 1514.24 Q2288.65 1513.66 2290.69 1513.66 Q2296.06 1513.66 2299.25 1516.35 Q2302.44 1519.03 2302.44 1523.52 Q2302.44 1525.65 2301.63 1527.57 Q2300.85 1529.47 2298.74 1532.07 Q2298.16 1532.74 2295.06 1535.95 Q2291.96 1539.15 2286.31 1544.91 Z\" fill=\"#000000\" fill-rule=\"evenodd\" fill-opacity=\"1\" /><polyline clip-path=\"url(#clip142)\" style=\"stroke:#000000; stroke-linecap:round; stroke-linejoin:round; stroke-width:2; stroke-opacity:0.1; fill:none\" points=\"\n",
       "  193.936,1276 2352.76,1276 \n",
       "  \"/>\n",
       "<polyline clip-path=\"url(#clip142)\" style=\"stroke:#000000; stroke-linecap:round; stroke-linejoin:round; stroke-width:2; stroke-opacity:0.1; fill:none\" points=\"\n",
       "  193.936,1063.85 2352.76,1063.85 \n",
       "  \"/>\n",
       "<polyline clip-path=\"url(#clip142)\" style=\"stroke:#000000; stroke-linecap:round; stroke-linejoin:round; stroke-width:2; stroke-opacity:0.1; fill:none\" points=\"\n",
       "  193.936,851.705 2352.76,851.705 \n",
       "  \"/>\n",
       "<polyline clip-path=\"url(#clip142)\" style=\"stroke:#000000; stroke-linecap:round; stroke-linejoin:round; stroke-width:2; stroke-opacity:0.1; fill:none\" points=\"\n",
       "  193.936,639.558 2352.76,639.558 \n",
       "  \"/>\n",
       "<polyline clip-path=\"url(#clip142)\" style=\"stroke:#000000; stroke-linecap:round; stroke-linejoin:round; stroke-width:2; stroke-opacity:0.1; fill:none\" points=\"\n",
       "  193.936,427.411 2352.76,427.411 \n",
       "  \"/>\n",
       "<polyline clip-path=\"url(#clip142)\" style=\"stroke:#000000; stroke-linecap:round; stroke-linejoin:round; stroke-width:2; stroke-opacity:0.1; fill:none\" points=\"\n",
       "  193.936,215.264 2352.76,215.264 \n",
       "  \"/>\n",
       "<polyline clip-path=\"url(#clip140)\" style=\"stroke:#000000; stroke-linecap:round; stroke-linejoin:round; stroke-width:4; stroke-opacity:1; fill:none\" points=\"\n",
       "  193.936,1486.45 193.936,47.2441 \n",
       "  \"/>\n",
       "<polyline clip-path=\"url(#clip140)\" style=\"stroke:#000000; stroke-linecap:round; stroke-linejoin:round; stroke-width:4; stroke-opacity:1; fill:none\" points=\"\n",
       "  193.936,1276 212.834,1276 \n",
       "  \"/>\n",
       "<polyline clip-path=\"url(#clip140)\" style=\"stroke:#000000; stroke-linecap:round; stroke-linejoin:round; stroke-width:4; stroke-opacity:1; fill:none\" points=\"\n",
       "  193.936,1063.85 212.834,1063.85 \n",
       "  \"/>\n",
       "<polyline clip-path=\"url(#clip140)\" style=\"stroke:#000000; stroke-linecap:round; stroke-linejoin:round; stroke-width:4; stroke-opacity:1; fill:none\" points=\"\n",
       "  193.936,851.705 212.834,851.705 \n",
       "  \"/>\n",
       "<polyline clip-path=\"url(#clip140)\" style=\"stroke:#000000; stroke-linecap:round; stroke-linejoin:round; stroke-width:4; stroke-opacity:1; fill:none\" points=\"\n",
       "  193.936,639.558 212.834,639.558 \n",
       "  \"/>\n",
       "<polyline clip-path=\"url(#clip140)\" style=\"stroke:#000000; stroke-linecap:round; stroke-linejoin:round; stroke-width:4; stroke-opacity:1; fill:none\" points=\"\n",
       "  193.936,427.411 212.834,427.411 \n",
       "  \"/>\n",
       "<polyline clip-path=\"url(#clip140)\" style=\"stroke:#000000; stroke-linecap:round; stroke-linejoin:round; stroke-width:4; stroke-opacity:1; fill:none\" points=\"\n",
       "  193.936,215.264 212.834,215.264 \n",
       "  \"/>\n",
       "<path clip-path=\"url(#clip140)\" d=\"M50.9921 1276.45 L80.6679 1276.45 L80.6679 1280.38 L50.9921 1280.38 L50.9921 1276.45 Z\" fill=\"#000000\" fill-rule=\"evenodd\" fill-opacity=\"1\" /><path clip-path=\"url(#clip140)\" d=\"M90.8067 1258.72 L109.163 1258.72 L109.163 1262.65 L95.0891 1262.65 L95.0891 1271.13 Q96.1076 1270.78 97.1261 1270.62 Q98.1447 1270.43 99.1632 1270.43 Q104.95 1270.43 108.33 1273.6 Q111.709 1276.77 111.709 1282.19 Q111.709 1287.77 108.237 1290.87 Q104.765 1293.95 98.4456 1293.95 Q96.2697 1293.95 94.0012 1293.58 Q91.7558 1293.21 89.3484 1292.47 L89.3484 1287.77 Q91.4317 1288.9 93.6539 1289.46 Q95.8761 1290.01 98.353 1290.01 Q102.358 1290.01 104.696 1287.91 Q107.033 1285.8 107.033 1282.19 Q107.033 1278.58 104.696 1276.47 Q102.358 1274.37 98.353 1274.37 Q96.478 1274.37 94.603 1274.78 Q92.7512 1275.2 90.8067 1276.08 L90.8067 1258.72 Z\" fill=\"#000000\" fill-rule=\"evenodd\" fill-opacity=\"1\" /><path clip-path=\"url(#clip140)\" d=\"M120.922 1287.4 L125.807 1287.4 L125.807 1293.28 L120.922 1293.28 L120.922 1287.4 Z\" fill=\"#000000\" fill-rule=\"evenodd\" fill-opacity=\"1\" /><path clip-path=\"url(#clip140)\" d=\"M145.992 1261.8 Q142.381 1261.8 140.552 1265.36 Q138.746 1268.9 138.746 1276.03 Q138.746 1283.14 140.552 1286.7 Q142.381 1290.25 145.992 1290.25 Q149.626 1290.25 151.431 1286.7 Q153.26 1283.14 153.26 1276.03 Q153.26 1268.9 151.431 1265.36 Q149.626 1261.8 145.992 1261.8 M145.992 1258.09 Q151.802 1258.09 154.857 1262.7 Q157.936 1267.28 157.936 1276.03 Q157.936 1284.76 154.857 1289.37 Q151.802 1293.95 145.992 1293.95 Q140.181 1293.95 137.103 1289.37 Q134.047 1284.76 134.047 1276.03 Q134.047 1267.28 137.103 1262.7 Q140.181 1258.09 145.992 1258.09 Z\" fill=\"#000000\" fill-rule=\"evenodd\" fill-opacity=\"1\" /><path clip-path=\"url(#clip140)\" d=\"M51.9875 1064.3 L81.6633 1064.3 L81.6633 1068.24 L51.9875 1068.24 L51.9875 1064.3 Z\" fill=\"#000000\" fill-rule=\"evenodd\" fill-opacity=\"1\" /><path clip-path=\"url(#clip140)\" d=\"M95.7836 1077.2 L112.103 1077.2 L112.103 1081.13 L90.1586 1081.13 L90.1586 1077.2 Q92.8206 1074.44 97.4039 1069.81 Q102.01 1065.16 103.191 1063.82 Q105.436 1061.29 106.316 1059.56 Q107.219 1057.8 107.219 1056.11 Q107.219 1053.35 105.274 1051.62 Q103.353 1049.88 100.251 1049.88 Q98.0521 1049.88 95.5984 1050.65 Q93.1678 1051.41 90.3901 1052.96 L90.3901 1048.24 Q93.2141 1047.1 95.6678 1046.53 Q98.1215 1045.95 100.159 1045.95 Q105.529 1045.95 108.723 1048.63 Q111.918 1051.32 111.918 1055.81 Q111.918 1057.94 111.108 1059.86 Q110.321 1061.76 108.214 1064.35 Q107.635 1065.02 104.534 1068.24 Q101.432 1071.43 95.7836 1077.2 Z\" fill=\"#000000\" fill-rule=\"evenodd\" fill-opacity=\"1\" /><path clip-path=\"url(#clip140)\" d=\"M121.918 1075.25 L126.802 1075.25 L126.802 1081.13 L121.918 1081.13 L121.918 1075.25 Z\" fill=\"#000000\" fill-rule=\"evenodd\" fill-opacity=\"1\" /><path clip-path=\"url(#clip140)\" d=\"M137.033 1046.57 L155.39 1046.57 L155.39 1050.51 L141.316 1050.51 L141.316 1058.98 Q142.334 1058.63 143.353 1058.47 Q144.371 1058.28 145.39 1058.28 Q151.177 1058.28 154.556 1061.46 Q157.936 1064.63 157.936 1070.04 Q157.936 1075.62 154.464 1078.72 Q150.992 1081.8 144.672 1081.8 Q142.496 1081.8 140.228 1081.43 Q137.982 1081.06 135.575 1080.32 L135.575 1075.62 Q137.658 1076.76 139.881 1077.31 Q142.103 1077.87 144.58 1077.87 Q148.584 1077.87 150.922 1075.76 Q153.26 1073.65 153.26 1070.04 Q153.26 1066.43 150.922 1064.33 Q148.584 1062.22 144.58 1062.22 Q142.705 1062.22 140.83 1062.64 Q138.978 1063.05 137.033 1063.93 L137.033 1046.57 Z\" fill=\"#000000\" fill-rule=\"evenodd\" fill-opacity=\"1\" /><path clip-path=\"url(#clip140)\" d=\"M100.76 837.503 Q97.1493 837.503 95.3206 841.068 Q93.515 844.61 93.515 851.739 Q93.515 858.846 95.3206 862.411 Q97.1493 865.952 100.76 865.952 Q104.395 865.952 106.2 862.411 Q108.029 858.846 108.029 851.739 Q108.029 844.61 106.2 841.068 Q104.395 837.503 100.76 837.503 M100.76 833.8 Q106.571 833.8 109.626 838.406 Q112.705 842.989 112.705 851.739 Q112.705 860.466 109.626 865.073 Q106.571 869.656 100.76 869.656 Q94.9502 869.656 91.8715 865.073 Q88.816 860.466 88.816 851.739 Q88.816 842.989 91.8715 838.406 Q94.9502 833.8 100.76 833.8 Z\" fill=\"#000000\" fill-rule=\"evenodd\" fill-opacity=\"1\" /><path clip-path=\"url(#clip140)\" d=\"M120.922 863.105 L125.807 863.105 L125.807 868.985 L120.922 868.985 L120.922 863.105 Z\" fill=\"#000000\" fill-rule=\"evenodd\" fill-opacity=\"1\" /><path clip-path=\"url(#clip140)\" d=\"M145.992 837.503 Q142.381 837.503 140.552 841.068 Q138.746 844.61 138.746 851.739 Q138.746 858.846 140.552 862.411 Q142.381 865.952 145.992 865.952 Q149.626 865.952 151.431 862.411 Q153.26 858.846 153.26 851.739 Q153.26 844.61 151.431 841.068 Q149.626 837.503 145.992 837.503 M145.992 833.8 Q151.802 833.8 154.857 838.406 Q157.936 842.989 157.936 851.739 Q157.936 860.466 154.857 865.073 Q151.802 869.656 145.992 869.656 Q140.181 869.656 137.103 865.073 Q134.047 860.466 134.047 851.739 Q134.047 842.989 137.103 838.406 Q140.181 833.8 145.992 833.8 Z\" fill=\"#000000\" fill-rule=\"evenodd\" fill-opacity=\"1\" /><path clip-path=\"url(#clip140)\" d=\"M95.7836 652.903 L112.103 652.903 L112.103 656.838 L90.1586 656.838 L90.1586 652.903 Q92.8206 650.148 97.4039 645.519 Q102.01 640.866 103.191 639.523 Q105.436 637 106.316 635.264 Q107.219 633.505 107.219 631.815 Q107.219 629.06 105.274 627.324 Q103.353 625.588 100.251 625.588 Q98.0521 625.588 95.5984 626.352 Q93.1678 627.116 90.3901 628.667 L90.3901 623.945 Q93.2141 622.81 95.6678 622.232 Q98.1215 621.653 100.159 621.653 Q105.529 621.653 108.723 624.338 Q111.918 627.023 111.918 631.514 Q111.918 633.644 111.108 635.565 Q110.321 637.463 108.214 640.056 Q107.635 640.727 104.534 643.944 Q101.432 647.139 95.7836 652.903 Z\" fill=\"#000000\" fill-rule=\"evenodd\" fill-opacity=\"1\" /><path clip-path=\"url(#clip140)\" d=\"M121.918 650.958 L126.802 650.958 L126.802 656.838 L121.918 656.838 L121.918 650.958 Z\" fill=\"#000000\" fill-rule=\"evenodd\" fill-opacity=\"1\" /><path clip-path=\"url(#clip140)\" d=\"M137.033 622.278 L155.39 622.278 L155.39 626.213 L141.316 626.213 L141.316 634.685 Q142.334 634.338 143.353 634.176 Q144.371 633.991 145.39 633.991 Q151.177 633.991 154.556 637.162 Q157.936 640.333 157.936 645.75 Q157.936 651.329 154.464 654.431 Q150.992 657.509 144.672 657.509 Q142.496 657.509 140.228 657.139 Q137.982 656.768 135.575 656.028 L135.575 651.329 Q137.658 652.463 139.881 653.018 Q142.103 653.574 144.58 653.574 Q148.584 653.574 150.922 651.468 Q153.26 649.361 153.26 645.75 Q153.26 642.139 150.922 640.032 Q148.584 637.926 144.58 637.926 Q142.705 637.926 140.83 638.343 Q138.978 638.759 137.033 639.639 L137.033 622.278 Z\" fill=\"#000000\" fill-rule=\"evenodd\" fill-opacity=\"1\" /><path clip-path=\"url(#clip140)\" d=\"M90.8067 410.131 L109.163 410.131 L109.163 414.066 L95.0891 414.066 L95.0891 422.538 Q96.1076 422.191 97.1261 422.029 Q98.1447 421.844 99.1632 421.844 Q104.95 421.844 108.33 425.015 Q111.709 428.187 111.709 433.603 Q111.709 439.182 108.237 442.284 Q104.765 445.362 98.4456 445.362 Q96.2697 445.362 94.0012 444.992 Q91.7558 444.622 89.3484 443.881 L89.3484 439.182 Q91.4317 440.316 93.6539 440.872 Q95.8761 441.427 98.353 441.427 Q102.358 441.427 104.696 439.321 Q107.033 437.214 107.033 433.603 Q107.033 429.992 104.696 427.886 Q102.358 425.779 98.353 425.779 Q96.478 425.779 94.603 426.196 Q92.7512 426.613 90.8067 427.492 L90.8067 410.131 Z\" fill=\"#000000\" fill-rule=\"evenodd\" fill-opacity=\"1\" /><path clip-path=\"url(#clip140)\" d=\"M120.922 438.812 L125.807 438.812 L125.807 444.691 L120.922 444.691 L120.922 438.812 Z\" fill=\"#000000\" fill-rule=\"evenodd\" fill-opacity=\"1\" /><path clip-path=\"url(#clip140)\" d=\"M145.992 413.21 Q142.381 413.21 140.552 416.775 Q138.746 420.316 138.746 427.446 Q138.746 434.552 140.552 438.117 Q142.381 441.659 145.992 441.659 Q149.626 441.659 151.431 438.117 Q153.26 434.552 153.26 427.446 Q153.26 420.316 151.431 416.775 Q149.626 413.21 145.992 413.21 M145.992 409.506 Q151.802 409.506 154.857 414.113 Q157.936 418.696 157.936 427.446 Q157.936 436.173 154.857 440.779 Q151.802 445.362 145.992 445.362 Q140.181 445.362 137.103 440.779 Q134.047 436.173 134.047 427.446 Q134.047 418.696 137.103 414.113 Q140.181 409.506 145.992 409.506 Z\" fill=\"#000000\" fill-rule=\"evenodd\" fill-opacity=\"1\" /><path clip-path=\"url(#clip140)\" d=\"M90.5752 197.984 L112.797 197.984 L112.797 199.975 L100.251 232.544 L95.3669 232.544 L107.172 201.92 L90.5752 201.92 L90.5752 197.984 Z\" fill=\"#000000\" fill-rule=\"evenodd\" fill-opacity=\"1\" /><path clip-path=\"url(#clip140)\" d=\"M121.918 226.665 L126.802 226.665 L126.802 232.544 L121.918 232.544 L121.918 226.665 Z\" fill=\"#000000\" fill-rule=\"evenodd\" fill-opacity=\"1\" /><path clip-path=\"url(#clip140)\" d=\"M137.033 197.984 L155.39 197.984 L155.39 201.92 L141.316 201.92 L141.316 210.392 Q142.334 210.044 143.353 209.882 Q144.371 209.697 145.39 209.697 Q151.177 209.697 154.556 212.869 Q157.936 216.04 157.936 221.456 Q157.936 227.035 154.464 230.137 Q150.992 233.216 144.672 233.216 Q142.496 233.216 140.228 232.845 Q137.982 232.475 135.575 231.734 L135.575 227.035 Q137.658 228.169 139.881 228.725 Q142.103 229.28 144.58 229.28 Q148.584 229.28 150.922 227.174 Q153.26 225.068 153.26 221.456 Q153.26 217.845 150.922 215.739 Q148.584 213.632 144.58 213.632 Q142.705 213.632 140.83 214.049 Q138.978 214.466 137.033 215.345 L137.033 197.984 Z\" fill=\"#000000\" fill-rule=\"evenodd\" fill-opacity=\"1\" /><path clip-path=\"url(#clip142)\" d=\"\n",
       "M255.035 1445.72 L2291.66 1445.72 L2291.66 87.9763 L255.035 87.9763 L255.035 1445.72  Z\n",
       "  \" fill=\"#009af9\" fill-rule=\"evenodd\" fill-opacity=\"0.5\"/>\n",
       "<polyline clip-path=\"url(#clip142)\" style=\"stroke:#000000; stroke-linecap:round; stroke-linejoin:round; stroke-width:4; stroke-opacity:0.5; fill:none\" points=\"\n",
       "  255.035,1445.72 2291.66,1445.72 2291.66,87.9763 255.035,87.9763 255.035,1445.72 \n",
       "  \"/>\n",
       "<path clip-path=\"url(#clip142)\" d=\"\n",
       "M255.035 1445.72 L1400.63 1445.72 L1400.63 533.485 L255.035 533.485 L255.035 1445.72  Z\n",
       "  \" fill=\"#e26f46\" fill-rule=\"evenodd\" fill-opacity=\"0.5\"/>\n",
       "<polyline clip-path=\"url(#clip142)\" style=\"stroke:#000000; stroke-linecap:round; stroke-linejoin:round; stroke-width:4; stroke-opacity:0.5; fill:none\" points=\"\n",
       "  255.035,1445.72 1400.63,1445.72 1400.63,533.485 255.035,533.485 255.035,1445.72 \n",
       "  \"/>\n",
       "<path clip-path=\"url(#clip142)\" d=\"\n",
       "M1400.63 867.616 L2291.66 867.616 L2291.66 87.9763 L1400.63 87.9763 L1400.63 867.616  Z\n",
       "  \" fill=\"#e26f46\" fill-rule=\"evenodd\" fill-opacity=\"0.5\"/>\n",
       "<polyline clip-path=\"url(#clip142)\" style=\"stroke:#000000; stroke-linecap:round; stroke-linejoin:round; stroke-width:4; stroke-opacity:0.5; fill:none\" points=\"\n",
       "  1400.63,867.616 2291.66,867.616 2291.66,87.9763 1400.63,87.9763 1400.63,867.616 \n",
       "  \"/>\n",
       "<polyline clip-path=\"url(#clip142)\" style=\"stroke:#000000; stroke-linecap:round; stroke-linejoin:round; stroke-width:8; stroke-opacity:1; fill:none\" points=\"\n",
       "  255.035,1106.28 261.664,1107.37 268.294,1108.43 329.596,1116.89 390.898,1122.88 427.737,1125.3 464.577,1126.83 495.725,1127.43 526.872,1127.4 594.542,1125.13 \n",
       "  656.928,1120.39 690.37,1116.8 723.812,1112.48 762.558,1106.55 801.304,1099.64 870.17,1084.94 930.558,1069.49 996.398,1049.93 1062.63,1027.39 1099.24,1013.69 \n",
       "  1135.86,999.12 1170.69,984.44 1205.53,968.965 1241.75,952.033 1277.98,934.241 1308.47,918.599 1338.96,902.348 1376.19,881.682 1413.41,860.109 1447.51,839.55 \n",
       "  1481.62,818.23 1513.11,797.863 1544.61,776.847 1576.51,754.896 1608.42,732.278 1644.17,706.139 1679.93,679.162 1712.33,653.994 1744.73,628.139 1781.83,597.692 \n",
       "  1818.92,566.345 1853.27,536.516 1887.62,505.916 1955.34,443.316 2021.1,379.663 2054.8,345.94 2088.51,311.473 2125.44,272.856 2162.36,233.347 2216,174.363 \n",
       "  2269.65,113.496 2280.65,100.776 2291.66,87.9763 \n",
       "  \"/>\n",
       "</svg>\n"
      ]
     },
     "execution_count": 61,
     "metadata": {},
     "output_type": "execute_result"
    }
   ],
   "source": [
    "using Plots\n",
    "plot(box1)\n",
    "plot!(box2)\n",
    "plot!(f, -2, 2, leg=false, color=:black, linewidth=2)"
   ]
  },
  {
   "cell_type": "markdown",
   "metadata": {},
   "source": [
    "More details can be found here:\n",
    "https://juliaintervals.github.io/pages/tutorials/tutorialRootFinding/\n",
    "\n",
    "The IntervalRootFinding package automates this subdivision for us until the resulting intervals are small enough."
   ]
  },
  {
   "cell_type": "code",
   "execution_count": 4,
   "metadata": {},
   "outputs": [
    {
     "name": "stderr",
     "output_type": "stream",
     "text": [
      "\u001b[36m\u001b[1m[ \u001b[22m\u001b[39m\u001b[36m\u001b[1mInfo: \u001b[22m\u001b[39mPrecompiling IntervalRootFinding [d2bf35a9-74e0-55ec-b149-d360ff49b807]\n"
     ]
    }
   ],
   "source": [
    "using IntervalArithmetic, IntervalRootFinding"
   ]
  },
  {
   "cell_type": "code",
   "execution_count": 67,
   "metadata": {},
   "outputs": [
    {
     "name": "stdout",
     "output_type": "stream",
     "text": [
      "f(X) = [-1, 1]\n"
     ]
    },
    {
     "data": {
      "text/plain": [
       "3-element Vector{Root{Interval{Float64}}}:\n",
       " Root([3.14159, 3.1416], :unknown)\n",
       " Root([6.28318, 6.28319], :unknown)\n",
       " Root([-2.46461e-08, 3.42811e-08], :unknown)"
      ]
     },
     "execution_count": 67,
     "metadata": {},
     "output_type": "execute_result"
    }
   ],
   "source": [
    "f(x) = sin(x)\n",
    "X = -pi/4 .. 9*pi/4\n",
    "@show f(X)\n",
    "roots(f, X, Bisection)"
   ]
  },
  {
   "cell_type": "code",
   "execution_count": 68,
   "metadata": {},
   "outputs": [
    {
     "data": {
      "text/plain": [
       "3-element Vector{Root{Interval{Float64}}}:\n",
       " Root([6.28318, 6.28319], :unique)\n",
       " Root([3.14159, 3.1416], :unique)\n",
       " Root([-9.929e-11, 3.33653e-12], :unique)"
      ]
     },
     "execution_count": 68,
     "metadata": {},
     "output_type": "execute_result"
    }
   ],
   "source": [
    "roots(f, X, Newton)"
   ]
  },
  {
   "cell_type": "code",
   "execution_count": 63,
   "metadata": {},
   "outputs": [
    {
     "data": {
      "text/plain": [
       "2-element Vector{Root{Interval{Float64}}}:\n",
       " Root([1.99999, 2.00001], :unique)\n",
       " Root([-1.72982e-09, 1.38862e-09], :unique)"
      ]
     },
     "execution_count": 63,
     "metadata": {},
     "output_type": "execute_result"
    }
   ],
   "source": [
    "f(x) = x^2-2x\n",
    "X = -4..4\n",
    "rts = roots(f, X) "
   ]
  },
  {
   "cell_type": "code",
   "execution_count": 64,
   "metadata": {},
   "outputs": [
    {
     "data": {
      "text/plain": [
       "4-element Vector{Root{Interval{Float64}}}:\n",
       " Root([2, 2.00001], :unknown)\n",
       " Root([1.99999, 2], :unknown)\n",
       " Root([-2.3921e-08, 3.24651e-08], :unknown)\n",
       " Root([1.99999, 2.00001], :unknown)"
      ]
     },
     "execution_count": 64,
     "metadata": {},
     "output_type": "execute_result"
    }
   ],
   "source": [
    "roots(f, X, Bisection)"
   ]
  },
  {
   "cell_type": "code",
   "execution_count": 65,
   "metadata": {},
   "outputs": [
    {
     "data": {
      "text/plain": [
       "6-element Vector{Root{Interval{Float64}}}:\n",
       " Root([0.318309, 0.31831], :unique)\n",
       " Root([0.0795774, 0.0795775], :unique)\n",
       " Root([0.159154, 0.159155], :unique)\n",
       " Root([0.0530516, 0.0530517], :unique)\n",
       " Root([0.0636619, 0.063662], :unique)\n",
       " Root([0.106103, 0.106104], :unique)"
      ]
     },
     "execution_count": 65,
     "metadata": {},
     "output_type": "execute_result"
    }
   ],
   "source": [
    "h(x) = cos(x) * sin(1 / x)\n",
    "roots(h, 0.05..1)"
   ]
  },
  {
   "cell_type": "code",
   "execution_count": 12,
   "metadata": {},
   "outputs": [
    {
     "data": {
      "text/plain": [
       "8-element Vector{Root{Interval{Float64}}}:\n",
       " Root([0.999999, 1.00001], :unique)\n",
       " Root([7.99999, 8.00001], :unique)\n",
       " Root([6.99999, 7.00001], :unique)\n",
       " Root([5.99999, 6.00001], :unique)\n",
       " Root([2.99999, 3.00001], :unique)\n",
       " Root([3.99999, 4.00001], :unique)\n",
       " Root([4.99999, 5.00001], :unique)\n",
       " Root([1.99999, 2.00001], :unique)"
      ]
     },
     "execution_count": 12,
     "metadata": {},
     "output_type": "execute_result"
    }
   ],
   "source": [
    "import Polynomials # has a roots function that conflicts with IntervalRootFinding\n",
    "p1 = Polynomials.fromroots(1:8)\n",
    "IntervalRootFinding.roots( x -> p1(x), 0..9)"
   ]
  },
  {
   "cell_type": "code",
   "execution_count": 11,
   "metadata": {},
   "outputs": [
    {
     "name": "stdout",
     "output_type": "stream",
     "text": [
      "r2 = rand(5) = [0.11649723729950823, 0.9210707812248832, 0.5692901358058872, 0.07906786548190736, 0.25257356295176836]\n"
     ]
    },
    {
     "data": {
      "text/plain": [
       "5-element Vector{Root{Interval{Float64}}}:\n",
       " Root([0.56929, 0.569291], :unique)\n",
       " Root([0.116497, 0.116498], :unique)\n",
       " Root([0.92107, 0.921071], :unique)\n",
       " Root([0.252573, 0.252574], :unique)\n",
       " Root([0.0790678, 0.0790679], :unique)"
      ]
     },
     "execution_count": 11,
     "metadata": {},
     "output_type": "execute_result"
    }
   ],
   "source": [
    "@show r2 = rand(5)\n",
    "p2 = Polynomials.fromroots(r2)\n",
    "roots(x -> p2(x), 0..1)"
   ]
  },
  {
   "cell_type": "markdown",
   "metadata": {},
   "source": [
    "Now see what happens with a function that is designed to be particularly pathological. It is approximately a parabola with a small log function which is undefined at $x=4/3$. For $x$ very close to $4/3$ the function is negative and the function is positive at all floating point values near $4/3$. Due to limitations of floating point numbers, we can't even evaluate $f$ at exactly $4/3$."
   ]
  },
  {
   "cell_type": "code",
   "execution_count": 6,
   "metadata": {},
   "outputs": [
    {
     "data": {
      "image/svg+xml": [
       "<?xml version=\"1.0\" encoding=\"utf-8\"?>\n",
       "<svg xmlns=\"http://www.w3.org/2000/svg\" xmlns:xlink=\"http://www.w3.org/1999/xlink\" width=\"600\" height=\"400\" viewBox=\"0 0 2400 1600\">\n",
       "<defs>\n",
       "  <clipPath id=\"clip980\">\n",
       "    <rect x=\"0\" y=\"0\" width=\"2400\" height=\"1600\"/>\n",
       "  </clipPath>\n",
       "</defs>\n",
       "<path clip-path=\"url(#clip980)\" d=\"\n",
       "M0 1600 L2400 1600 L2400 0 L0 0  Z\n",
       "  \" fill=\"#ffffff\" fill-rule=\"evenodd\" fill-opacity=\"1\"/>\n",
       "<defs>\n",
       "  <clipPath id=\"clip981\">\n",
       "    <rect x=\"480\" y=\"0\" width=\"1681\" height=\"1600\"/>\n",
       "  </clipPath>\n",
       "</defs>\n",
       "<path clip-path=\"url(#clip980)\" d=\"\n",
       "M155.927 1486.45 L2352.76 1486.45 L2352.76 47.2441 L155.927 47.2441  Z\n",
       "  \" fill=\"#ffffff\" fill-rule=\"evenodd\" fill-opacity=\"1\"/>\n",
       "<defs>\n",
       "  <clipPath id=\"clip982\">\n",
       "    <rect x=\"155\" y=\"47\" width=\"2198\" height=\"1440\"/>\n",
       "  </clipPath>\n",
       "</defs>\n",
       "<polyline clip-path=\"url(#clip982)\" style=\"stroke:#000000; stroke-linecap:round; stroke-linejoin:round; stroke-width:2; stroke-opacity:0.1; fill:none\" points=\"\n",
       "  356.267,1486.45 356.267,47.2441 \n",
       "  \"/>\n",
       "<polyline clip-path=\"url(#clip982)\" style=\"stroke:#000000; stroke-linecap:round; stroke-linejoin:round; stroke-width:2; stroke-opacity:0.1; fill:none\" points=\"\n",
       "  770.763,1486.45 770.763,47.2441 \n",
       "  \"/>\n",
       "<polyline clip-path=\"url(#clip982)\" style=\"stroke:#000000; stroke-linecap:round; stroke-linejoin:round; stroke-width:2; stroke-opacity:0.1; fill:none\" points=\"\n",
       "  1185.26,1486.45 1185.26,47.2441 \n",
       "  \"/>\n",
       "<polyline clip-path=\"url(#clip982)\" style=\"stroke:#000000; stroke-linecap:round; stroke-linejoin:round; stroke-width:2; stroke-opacity:0.1; fill:none\" points=\"\n",
       "  1599.75,1486.45 1599.75,47.2441 \n",
       "  \"/>\n",
       "<polyline clip-path=\"url(#clip982)\" style=\"stroke:#000000; stroke-linecap:round; stroke-linejoin:round; stroke-width:2; stroke-opacity:0.1; fill:none\" points=\"\n",
       "  2014.25,1486.45 2014.25,47.2441 \n",
       "  \"/>\n",
       "<polyline clip-path=\"url(#clip980)\" style=\"stroke:#000000; stroke-linecap:round; stroke-linejoin:round; stroke-width:4; stroke-opacity:1; fill:none\" points=\"\n",
       "  155.927,1486.45 2352.76,1486.45 \n",
       "  \"/>\n",
       "<polyline clip-path=\"url(#clip980)\" style=\"stroke:#000000; stroke-linecap:round; stroke-linejoin:round; stroke-width:4; stroke-opacity:1; fill:none\" points=\"\n",
       "  356.267,1486.45 356.267,1467.55 \n",
       "  \"/>\n",
       "<polyline clip-path=\"url(#clip980)\" style=\"stroke:#000000; stroke-linecap:round; stroke-linejoin:round; stroke-width:4; stroke-opacity:1; fill:none\" points=\"\n",
       "  770.763,1486.45 770.763,1467.55 \n",
       "  \"/>\n",
       "<polyline clip-path=\"url(#clip980)\" style=\"stroke:#000000; stroke-linecap:round; stroke-linejoin:round; stroke-width:4; stroke-opacity:1; fill:none\" points=\"\n",
       "  1185.26,1486.45 1185.26,1467.55 \n",
       "  \"/>\n",
       "<polyline clip-path=\"url(#clip980)\" style=\"stroke:#000000; stroke-linecap:round; stroke-linejoin:round; stroke-width:4; stroke-opacity:1; fill:none\" points=\"\n",
       "  1599.75,1486.45 1599.75,1467.55 \n",
       "  \"/>\n",
       "<polyline clip-path=\"url(#clip980)\" style=\"stroke:#000000; stroke-linecap:round; stroke-linejoin:round; stroke-width:4; stroke-opacity:1; fill:none\" points=\"\n",
       "  2014.25,1486.45 2014.25,1467.55 \n",
       "  \"/>\n",
       "<path clip-path=\"url(#clip980)\" d=\"M308.258 1544.91 L315.897 1544.91 L315.897 1518.55 L307.586 1520.21 L307.586 1515.95 L315.85 1514.29 L320.526 1514.29 L320.526 1544.91 L328.165 1544.91 L328.165 1548.85 L308.258 1548.85 L308.258 1544.91 Z\" fill=\"#000000\" fill-rule=\"evenodd\" fill-opacity=\"1\" /><path clip-path=\"url(#clip980)\" d=\"M337.609 1542.97 L342.494 1542.97 L342.494 1548.85 L337.609 1548.85 L337.609 1542.97 Z\" fill=\"#000000\" fill-rule=\"evenodd\" fill-opacity=\"1\" /><path clip-path=\"url(#clip980)\" d=\"M356.707 1544.91 L373.026 1544.91 L373.026 1548.85 L351.082 1548.85 L351.082 1544.91 Q353.744 1542.16 358.327 1537.53 Q362.933 1532.88 364.114 1531.53 Q366.359 1529.01 367.239 1527.27 Q368.142 1525.51 368.142 1523.82 Q368.142 1521.07 366.197 1519.33 Q364.276 1517.6 361.174 1517.6 Q358.975 1517.6 356.521 1518.36 Q354.091 1519.13 351.313 1520.68 L351.313 1515.95 Q354.137 1514.82 356.591 1514.24 Q359.044 1513.66 361.081 1513.66 Q366.452 1513.66 369.646 1516.35 Q372.841 1519.03 372.841 1523.52 Q372.841 1525.65 372.03 1527.57 Q371.243 1529.47 369.137 1532.07 Q368.558 1532.74 365.456 1535.95 Q362.355 1539.15 356.707 1544.91 Z\" fill=\"#000000\" fill-rule=\"evenodd\" fill-opacity=\"1\" /><path clip-path=\"url(#clip980)\" d=\"M393.419 1529.7 Q390.271 1529.7 388.419 1531.86 Q386.591 1534.01 386.591 1537.76 Q386.591 1541.49 388.419 1543.66 Q390.271 1545.82 393.419 1545.82 Q396.567 1545.82 398.396 1543.66 Q400.248 1541.49 400.248 1537.76 Q400.248 1534.01 398.396 1531.86 Q396.567 1529.7 393.419 1529.7 M402.702 1515.05 L402.702 1519.31 Q400.942 1518.48 399.137 1518.04 Q397.354 1517.6 395.595 1517.6 Q390.966 1517.6 388.512 1520.72 Q386.081 1523.85 385.734 1530.17 Q387.1 1528.15 389.16 1527.09 Q391.22 1526 393.697 1526 Q398.905 1526 401.915 1529.17 Q404.947 1532.32 404.947 1537.76 Q404.947 1543.08 401.799 1546.3 Q398.651 1549.52 393.419 1549.52 Q387.424 1549.52 384.253 1544.94 Q381.081 1540.33 381.081 1531.6 Q381.081 1523.41 384.97 1518.55 Q388.859 1513.66 395.41 1513.66 Q397.169 1513.66 398.952 1514.01 Q400.757 1514.36 402.702 1515.05 Z\" fill=\"#000000\" fill-rule=\"evenodd\" fill-opacity=\"1\" /><path clip-path=\"url(#clip980)\" d=\"M722.927 1544.91 L730.566 1544.91 L730.566 1518.55 L722.256 1520.21 L722.256 1515.95 L730.52 1514.29 L735.196 1514.29 L735.196 1544.91 L742.835 1544.91 L742.835 1548.85 L722.927 1548.85 L722.927 1544.91 Z\" fill=\"#000000\" fill-rule=\"evenodd\" fill-opacity=\"1\" /><path clip-path=\"url(#clip980)\" d=\"M752.279 1542.97 L757.163 1542.97 L757.163 1548.85 L752.279 1548.85 L752.279 1542.97 Z\" fill=\"#000000\" fill-rule=\"evenodd\" fill-opacity=\"1\" /><path clip-path=\"url(#clip980)\" d=\"M771.376 1544.91 L787.696 1544.91 L787.696 1548.85 L765.751 1548.85 L765.751 1544.91 Q768.413 1542.16 772.997 1537.53 Q777.603 1532.88 778.784 1531.53 Q781.029 1529.01 781.908 1527.27 Q782.811 1525.51 782.811 1523.82 Q782.811 1521.07 780.867 1519.33 Q778.946 1517.6 775.844 1517.6 Q773.645 1517.6 771.191 1518.36 Q768.76 1519.13 765.983 1520.68 L765.983 1515.95 Q768.807 1514.82 771.26 1514.24 Q773.714 1513.66 775.751 1513.66 Q781.121 1513.66 784.316 1516.35 Q787.51 1519.03 787.51 1523.52 Q787.51 1525.65 786.7 1527.57 Q785.913 1529.47 783.807 1532.07 Q783.228 1532.74 780.126 1535.95 Q777.024 1539.15 771.376 1544.91 Z\" fill=\"#000000\" fill-rule=\"evenodd\" fill-opacity=\"1\" /><path clip-path=\"url(#clip980)\" d=\"M797.649 1548.13 L797.649 1543.87 Q799.408 1544.7 801.214 1545.14 Q803.019 1545.58 804.756 1545.58 Q809.385 1545.58 811.816 1542.48 Q814.269 1539.36 814.617 1533.01 Q813.274 1535.01 811.214 1536.07 Q809.154 1537.13 806.654 1537.13 Q801.469 1537.13 798.436 1534.01 Q795.427 1530.86 795.427 1525.42 Q795.427 1520.1 798.575 1516.88 Q801.723 1513.66 806.955 1513.66 Q812.95 1513.66 816.098 1518.27 Q819.269 1522.85 819.269 1531.6 Q819.269 1539.77 815.381 1544.66 Q811.515 1549.52 804.964 1549.52 Q803.205 1549.52 801.399 1549.17 Q799.594 1548.82 797.649 1548.13 M806.955 1533.48 Q810.103 1533.48 811.931 1531.32 Q813.783 1529.17 813.783 1525.42 Q813.783 1521.7 811.931 1519.54 Q810.103 1517.37 806.955 1517.37 Q803.807 1517.37 801.955 1519.54 Q800.126 1521.7 800.126 1525.42 Q800.126 1529.17 801.955 1531.32 Q803.807 1533.48 806.955 1533.48 Z\" fill=\"#000000\" fill-rule=\"evenodd\" fill-opacity=\"1\" /><path clip-path=\"url(#clip980)\" d=\"M1138.13 1544.91 L1145.77 1544.91 L1145.77 1518.55 L1137.46 1520.21 L1137.46 1515.95 L1145.72 1514.29 L1150.4 1514.29 L1150.4 1544.91 L1158.04 1544.91 L1158.04 1548.85 L1138.13 1548.85 L1138.13 1544.91 Z\" fill=\"#000000\" fill-rule=\"evenodd\" fill-opacity=\"1\" /><path clip-path=\"url(#clip980)\" d=\"M1167.48 1542.97 L1172.37 1542.97 L1172.37 1548.85 L1167.48 1548.85 L1167.48 1542.97 Z\" fill=\"#000000\" fill-rule=\"evenodd\" fill-opacity=\"1\" /><path clip-path=\"url(#clip980)\" d=\"M1196.72 1530.21 Q1200.07 1530.93 1201.95 1533.2 Q1203.85 1535.47 1203.85 1538.8 Q1203.85 1543.92 1200.33 1546.72 Q1196.81 1549.52 1190.33 1549.52 Q1188.15 1549.52 1185.84 1549.08 Q1183.55 1548.66 1181.09 1547.81 L1181.09 1543.29 Q1183.04 1544.43 1185.35 1545.01 Q1187.67 1545.58 1190.19 1545.58 Q1194.59 1545.58 1196.88 1543.85 Q1199.19 1542.11 1199.19 1538.8 Q1199.19 1535.75 1197.04 1534.03 Q1194.91 1532.3 1191.09 1532.3 L1187.06 1532.3 L1187.06 1528.45 L1191.28 1528.45 Q1194.73 1528.45 1196.55 1527.09 Q1198.38 1525.7 1198.38 1523.11 Q1198.38 1520.45 1196.49 1519.03 Q1194.61 1517.6 1191.09 1517.6 Q1189.17 1517.6 1186.97 1518.01 Q1184.77 1518.43 1182.13 1519.31 L1182.13 1515.14 Q1184.8 1514.4 1187.11 1514.03 Q1189.45 1513.66 1191.51 1513.66 Q1196.83 1513.66 1199.93 1516.09 Q1203.04 1518.5 1203.04 1522.62 Q1203.04 1525.49 1201.39 1527.48 Q1199.75 1529.45 1196.72 1530.21 Z\" fill=\"#000000\" fill-rule=\"evenodd\" fill-opacity=\"1\" /><path clip-path=\"url(#clip980)\" d=\"M1216.74 1544.91 L1233.06 1544.91 L1233.06 1548.85 L1211.12 1548.85 L1211.12 1544.91 Q1213.78 1542.16 1218.36 1537.53 Q1222.97 1532.88 1224.15 1531.53 Q1226.39 1529.01 1227.27 1527.27 Q1228.18 1525.51 1228.18 1523.82 Q1228.18 1521.07 1226.23 1519.33 Q1224.31 1517.6 1221.21 1517.6 Q1219.01 1517.6 1216.55 1518.36 Q1214.12 1519.13 1211.35 1520.68 L1211.35 1515.95 Q1214.17 1514.82 1216.62 1514.24 Q1219.08 1513.66 1221.12 1513.66 Q1226.49 1513.66 1229.68 1516.35 Q1232.87 1519.03 1232.87 1523.52 Q1232.87 1525.65 1232.06 1527.57 Q1231.28 1529.47 1229.17 1532.07 Q1228.59 1532.74 1225.49 1535.95 Q1222.39 1539.15 1216.74 1544.91 Z\" fill=\"#000000\" fill-rule=\"evenodd\" fill-opacity=\"1\" /><path clip-path=\"url(#clip980)\" d=\"M1552.32 1544.91 L1559.96 1544.91 L1559.96 1518.55 L1551.65 1520.21 L1551.65 1515.95 L1559.92 1514.29 L1564.59 1514.29 L1564.59 1544.91 L1572.23 1544.91 L1572.23 1548.85 L1552.32 1548.85 L1552.32 1544.91 Z\" fill=\"#000000\" fill-rule=\"evenodd\" fill-opacity=\"1\" /><path clip-path=\"url(#clip980)\" d=\"M1581.68 1542.97 L1586.56 1542.97 L1586.56 1548.85 L1581.68 1548.85 L1581.68 1542.97 Z\" fill=\"#000000\" fill-rule=\"evenodd\" fill-opacity=\"1\" /><path clip-path=\"url(#clip980)\" d=\"M1610.91 1530.21 Q1614.27 1530.93 1616.14 1533.2 Q1618.04 1535.47 1618.04 1538.8 Q1618.04 1543.92 1614.52 1546.72 Q1611 1549.52 1604.52 1549.52 Q1602.35 1549.52 1600.03 1549.08 Q1597.74 1548.66 1595.29 1547.81 L1595.29 1543.29 Q1597.23 1544.43 1599.55 1545.01 Q1601.86 1545.58 1604.38 1545.58 Q1608.78 1545.58 1611.07 1543.85 Q1613.39 1542.11 1613.39 1538.8 Q1613.39 1535.75 1611.24 1534.03 Q1609.11 1532.3 1605.29 1532.3 L1601.26 1532.3 L1601.26 1528.45 L1605.47 1528.45 Q1608.92 1528.45 1610.75 1527.09 Q1612.58 1525.7 1612.58 1523.11 Q1612.58 1520.45 1610.68 1519.03 Q1608.81 1517.6 1605.29 1517.6 Q1603.37 1517.6 1601.17 1518.01 Q1598.97 1518.43 1596.33 1519.31 L1596.33 1515.14 Q1598.99 1514.4 1601.31 1514.03 Q1603.64 1513.66 1605.7 1513.66 Q1611.03 1513.66 1614.13 1516.09 Q1617.23 1518.5 1617.23 1522.62 Q1617.23 1525.49 1615.59 1527.48 Q1613.94 1529.45 1610.91 1530.21 Z\" fill=\"#000000\" fill-rule=\"evenodd\" fill-opacity=\"1\" /><path clip-path=\"url(#clip980)\" d=\"M1626.95 1514.29 L1645.31 1514.29 L1645.31 1518.22 L1631.24 1518.22 L1631.24 1526.7 Q1632.25 1526.35 1633.27 1526.19 Q1634.29 1526 1635.31 1526 Q1641.1 1526 1644.48 1529.17 Q1647.86 1532.34 1647.86 1537.76 Q1647.86 1543.34 1644.38 1546.44 Q1640.91 1549.52 1634.59 1549.52 Q1632.42 1549.52 1630.15 1549.15 Q1627.9 1548.78 1625.5 1548.04 L1625.5 1543.34 Q1627.58 1544.47 1629.8 1545.03 Q1632.02 1545.58 1634.5 1545.58 Q1638.5 1545.58 1640.84 1543.48 Q1643.18 1541.37 1643.18 1537.76 Q1643.18 1534.15 1640.84 1532.04 Q1638.5 1529.94 1634.5 1529.94 Q1632.62 1529.94 1630.75 1530.35 Q1628.9 1530.77 1626.95 1531.65 L1626.95 1514.29 Z\" fill=\"#000000\" fill-rule=\"evenodd\" fill-opacity=\"1\" /><path clip-path=\"url(#clip980)\" d=\"M1966.37 1544.91 L1974.01 1544.91 L1974.01 1518.55 L1965.7 1520.21 L1965.7 1515.95 L1973.96 1514.29 L1978.64 1514.29 L1978.64 1544.91 L1986.28 1544.91 L1986.28 1548.85 L1966.37 1548.85 L1966.37 1544.91 Z\" fill=\"#000000\" fill-rule=\"evenodd\" fill-opacity=\"1\" /><path clip-path=\"url(#clip980)\" d=\"M1995.72 1542.97 L2000.61 1542.97 L2000.61 1548.85 L1995.72 1548.85 L1995.72 1542.97 Z\" fill=\"#000000\" fill-rule=\"evenodd\" fill-opacity=\"1\" /><path clip-path=\"url(#clip980)\" d=\"M2024.96 1530.21 Q2028.31 1530.93 2030.19 1533.2 Q2032.09 1535.47 2032.09 1538.8 Q2032.09 1543.92 2028.57 1546.72 Q2025.05 1549.52 2018.57 1549.52 Q2016.39 1549.52 2014.08 1549.08 Q2011.79 1548.66 2009.33 1547.81 L2009.33 1543.29 Q2011.28 1544.43 2013.59 1545.01 Q2015.91 1545.58 2018.43 1545.58 Q2022.83 1545.58 2025.12 1543.85 Q2027.43 1542.11 2027.43 1538.8 Q2027.43 1535.75 2025.28 1534.03 Q2023.15 1532.3 2019.33 1532.3 L2015.3 1532.3 L2015.3 1528.45 L2019.52 1528.45 Q2022.97 1528.45 2024.79 1527.09 Q2026.62 1525.7 2026.62 1523.11 Q2026.62 1520.45 2024.73 1519.03 Q2022.85 1517.6 2019.33 1517.6 Q2017.41 1517.6 2015.21 1518.01 Q2013.01 1518.43 2010.37 1519.31 L2010.37 1515.14 Q2013.04 1514.4 2015.35 1514.03 Q2017.69 1513.66 2019.75 1513.66 Q2025.07 1513.66 2028.17 1516.09 Q2031.28 1518.5 2031.28 1522.62 Q2031.28 1525.49 2029.63 1527.48 Q2027.99 1529.45 2024.96 1530.21 Z\" fill=\"#000000\" fill-rule=\"evenodd\" fill-opacity=\"1\" /><path clip-path=\"url(#clip980)\" d=\"M2050.95 1532.44 Q2047.62 1532.44 2045.7 1534.22 Q2043.8 1536 2043.8 1539.13 Q2043.8 1542.25 2045.7 1544.03 Q2047.62 1545.82 2050.95 1545.82 Q2054.29 1545.82 2056.21 1544.03 Q2058.13 1542.23 2058.13 1539.13 Q2058.13 1536 2056.21 1534.22 Q2054.31 1532.44 2050.95 1532.44 M2046.28 1530.45 Q2043.27 1529.7 2041.58 1527.64 Q2039.91 1525.58 2039.91 1522.62 Q2039.91 1518.48 2042.85 1516.07 Q2045.81 1513.66 2050.95 1513.66 Q2056.11 1513.66 2059.05 1516.07 Q2061.99 1518.48 2061.99 1522.62 Q2061.99 1525.58 2060.3 1527.64 Q2058.64 1529.7 2055.65 1530.45 Q2059.03 1531.23 2060.91 1533.52 Q2062.8 1535.82 2062.8 1539.13 Q2062.8 1544.15 2059.73 1546.83 Q2056.67 1549.52 2050.95 1549.52 Q2045.23 1549.52 2042.16 1546.83 Q2039.1 1544.15 2039.1 1539.13 Q2039.1 1535.82 2041 1533.52 Q2042.9 1531.23 2046.28 1530.45 M2044.56 1523.06 Q2044.56 1525.75 2046.23 1527.25 Q2047.92 1528.76 2050.95 1528.76 Q2053.96 1528.76 2055.65 1527.25 Q2057.36 1525.75 2057.36 1523.06 Q2057.36 1520.38 2055.65 1518.87 Q2053.96 1517.37 2050.95 1517.37 Q2047.92 1517.37 2046.23 1518.87 Q2044.56 1520.38 2044.56 1523.06 Z\" fill=\"#000000\" fill-rule=\"evenodd\" fill-opacity=\"1\" /><polyline clip-path=\"url(#clip982)\" style=\"stroke:#000000; stroke-linecap:round; stroke-linejoin:round; stroke-width:2; stroke-opacity:0.1; fill:none\" points=\"\n",
       "  155.927,1257.11 2352.76,1257.11 \n",
       "  \"/>\n",
       "<polyline clip-path=\"url(#clip982)\" style=\"stroke:#000000; stroke-linecap:round; stroke-linejoin:round; stroke-width:2; stroke-opacity:0.1; fill:none\" points=\"\n",
       "  155.927,913.131 2352.76,913.131 \n",
       "  \"/>\n",
       "<polyline clip-path=\"url(#clip982)\" style=\"stroke:#000000; stroke-linecap:round; stroke-linejoin:round; stroke-width:2; stroke-opacity:0.1; fill:none\" points=\"\n",
       "  155.927,569.147 2352.76,569.147 \n",
       "  \"/>\n",
       "<polyline clip-path=\"url(#clip982)\" style=\"stroke:#000000; stroke-linecap:round; stroke-linejoin:round; stroke-width:2; stroke-opacity:0.1; fill:none\" points=\"\n",
       "  155.927,225.164 2352.76,225.164 \n",
       "  \"/>\n",
       "<polyline clip-path=\"url(#clip980)\" style=\"stroke:#000000; stroke-linecap:round; stroke-linejoin:round; stroke-width:4; stroke-opacity:1; fill:none\" points=\"\n",
       "  155.927,1486.45 155.927,47.2441 \n",
       "  \"/>\n",
       "<polyline clip-path=\"url(#clip980)\" style=\"stroke:#000000; stroke-linecap:round; stroke-linejoin:round; stroke-width:4; stroke-opacity:1; fill:none\" points=\"\n",
       "  155.927,1257.11 174.825,1257.11 \n",
       "  \"/>\n",
       "<polyline clip-path=\"url(#clip980)\" style=\"stroke:#000000; stroke-linecap:round; stroke-linejoin:round; stroke-width:4; stroke-opacity:1; fill:none\" points=\"\n",
       "  155.927,913.131 174.825,913.131 \n",
       "  \"/>\n",
       "<polyline clip-path=\"url(#clip980)\" style=\"stroke:#000000; stroke-linecap:round; stroke-linejoin:round; stroke-width:4; stroke-opacity:1; fill:none\" points=\"\n",
       "  155.927,569.147 174.825,569.147 \n",
       "  \"/>\n",
       "<polyline clip-path=\"url(#clip980)\" style=\"stroke:#000000; stroke-linecap:round; stroke-linejoin:round; stroke-width:4; stroke-opacity:1; fill:none\" points=\"\n",
       "  155.927,225.164 174.825,225.164 \n",
       "  \"/>\n",
       "<path clip-path=\"url(#clip980)\" d=\"M56.6171 1270.46 L72.9365 1270.46 L72.9365 1274.39 L50.9921 1274.39 L50.9921 1270.46 Q53.6541 1267.7 58.2375 1263.07 Q62.8439 1258.42 64.0245 1257.08 Q66.2698 1254.56 67.1494 1252.82 Q68.0522 1251.06 68.0522 1249.37 Q68.0522 1246.62 66.1078 1244.88 Q64.1865 1243.14 61.0847 1243.14 Q58.8856 1243.14 56.4319 1243.91 Q54.0014 1244.67 51.2236 1246.22 L51.2236 1241.5 Q54.0477 1240.37 56.5014 1239.79 Q58.955 1239.21 60.9921 1239.21 Q66.3624 1239.21 69.5568 1241.89 Q72.7513 1244.58 72.7513 1249.07 Q72.7513 1251.2 71.9411 1253.12 Q71.1541 1255.02 69.0476 1257.61 Q68.4689 1258.28 65.367 1261.5 Q62.2652 1264.7 56.6171 1270.46 Z\" fill=\"#000000\" fill-rule=\"evenodd\" fill-opacity=\"1\" /><path clip-path=\"url(#clip980)\" d=\"M82.7512 1268.51 L87.6354 1268.51 L87.6354 1274.39 L82.7512 1274.39 L82.7512 1268.51 Z\" fill=\"#000000\" fill-rule=\"evenodd\" fill-opacity=\"1\" /><path clip-path=\"url(#clip980)\" d=\"M108.399 1255.25 Q105.251 1255.25 103.399 1257.4 Q101.571 1259.56 101.571 1263.31 Q101.571 1267.03 103.399 1269.21 Q105.251 1271.36 108.399 1271.36 Q111.547 1271.36 113.376 1269.21 Q115.228 1267.03 115.228 1263.31 Q115.228 1259.56 113.376 1257.4 Q111.547 1255.25 108.399 1255.25 M117.682 1240.6 L117.682 1244.86 Q115.922 1244.02 114.117 1243.58 Q112.334 1243.14 110.575 1243.14 Q105.946 1243.14 103.492 1246.27 Q101.061 1249.39 100.714 1255.71 Q102.08 1253.7 104.14 1252.63 Q106.2 1251.55 108.677 1251.55 Q113.885 1251.55 116.895 1254.72 Q119.927 1257.87 119.927 1263.31 Q119.927 1268.63 116.779 1271.85 Q113.631 1275.07 108.399 1275.07 Q102.404 1275.07 99.2326 1270.48 Q96.0613 1265.88 96.0613 1257.15 Q96.0613 1248.95 99.9502 1244.09 Q103.839 1239.21 110.39 1239.21 Q112.149 1239.21 113.932 1239.56 Q115.737 1239.9 117.682 1240.6 Z\" fill=\"#000000\" fill-rule=\"evenodd\" fill-opacity=\"1\" /><path clip-path=\"url(#clip980)\" d=\"M57.6819 926.476 L74.0013 926.476 L74.0013 930.411 L52.0569 930.411 L52.0569 926.476 Q54.719 923.721 59.3023 919.091 Q63.9087 914.439 65.0893 913.096 Q67.3346 910.573 68.2143 908.837 Q69.117 907.077 69.117 905.388 Q69.117 902.633 67.1726 900.897 Q65.2513 899.161 62.1495 899.161 Q59.9504 899.161 57.4967 899.925 Q55.0662 900.689 52.2884 902.24 L52.2884 897.517 Q55.1125 896.383 57.5662 895.804 Q60.0199 895.226 62.0569 895.226 Q67.4272 895.226 70.6217 897.911 Q73.8161 900.596 73.8161 905.087 Q73.8161 907.216 73.0059 909.138 Q72.2189 911.036 70.1124 913.628 Q69.5337 914.3 66.4319 917.517 Q63.33 920.712 57.6819 926.476 Z\" fill=\"#000000\" fill-rule=\"evenodd\" fill-opacity=\"1\" /><path clip-path=\"url(#clip980)\" d=\"M83.816 924.531 L88.7003 924.531 L88.7003 930.411 L83.816 930.411 L83.816 924.531 Z\" fill=\"#000000\" fill-rule=\"evenodd\" fill-opacity=\"1\" /><path clip-path=\"url(#clip980)\" d=\"M97.7048 895.851 L119.927 895.851 L119.927 897.841 L107.381 930.411 L102.496 930.411 L114.302 899.786 L97.7048 899.786 L97.7048 895.851 Z\" fill=\"#000000\" fill-rule=\"evenodd\" fill-opacity=\"1\" /><path clip-path=\"url(#clip980)\" d=\"M56.8717 582.492 L73.1911 582.492 L73.1911 586.427 L51.2468 586.427 L51.2468 582.492 Q53.9088 579.737 58.4921 575.108 Q63.0985 570.455 64.2791 569.113 Q66.5245 566.589 67.4041 564.853 Q68.3068 563.094 68.3068 561.404 Q68.3068 558.65 66.3624 556.914 Q64.4411 555.177 61.3393 555.177 Q59.1402 555.177 56.6865 555.941 Q54.256 556.705 51.4782 558.256 L51.4782 553.534 Q54.3023 552.4 56.756 551.821 Q59.2097 551.242 61.2467 551.242 Q66.617 551.242 69.8115 553.927 Q73.0059 556.613 73.0059 561.103 Q73.0059 563.233 72.1957 565.154 Q71.4087 567.052 69.3022 569.645 Q68.7235 570.316 65.6217 573.534 Q62.5198 576.728 56.8717 582.492 Z\" fill=\"#000000\" fill-rule=\"evenodd\" fill-opacity=\"1\" /><path clip-path=\"url(#clip980)\" d=\"M83.0058 580.548 L87.8901 580.548 L87.8901 586.427 L83.0058 586.427 L83.0058 580.548 Z\" fill=\"#000000\" fill-rule=\"evenodd\" fill-opacity=\"1\" /><path clip-path=\"url(#clip980)\" d=\"M108.075 570.015 Q104.742 570.015 102.821 571.798 Q100.922 573.58 100.922 576.705 Q100.922 579.83 102.821 581.612 Q104.742 583.395 108.075 583.395 Q111.408 583.395 113.33 581.612 Q115.251 579.807 115.251 576.705 Q115.251 573.58 113.33 571.798 Q111.432 570.015 108.075 570.015 M103.399 568.025 Q100.39 567.284 98.7002 565.224 Q97.0335 563.164 97.0335 560.201 Q97.0335 556.057 99.9733 553.65 Q102.936 551.242 108.075 551.242 Q113.237 551.242 116.177 553.65 Q119.117 556.057 119.117 560.201 Q119.117 563.164 117.427 565.224 Q115.76 567.284 112.774 568.025 Q116.154 568.812 118.029 571.103 Q119.927 573.395 119.927 576.705 Q119.927 581.728 116.848 584.413 Q113.793 587.099 108.075 587.099 Q102.358 587.099 99.2789 584.413 Q96.2234 581.728 96.2234 576.705 Q96.2234 573.395 98.1215 571.103 Q100.02 568.812 103.399 568.025 M101.686 560.64 Q101.686 563.326 103.353 564.83 Q105.043 566.335 108.075 566.335 Q111.084 566.335 112.774 564.83 Q114.487 563.326 114.487 560.64 Q114.487 557.955 112.774 556.451 Q111.084 554.946 108.075 554.946 Q105.043 554.946 103.353 556.451 Q101.686 557.955 101.686 560.64 Z\" fill=\"#000000\" fill-rule=\"evenodd\" fill-opacity=\"1\" /><path clip-path=\"url(#clip980)\" d=\"M56.9643 238.509 L73.2837 238.509 L73.2837 242.444 L51.3393 242.444 L51.3393 238.509 Q54.0014 235.754 58.5847 231.124 Q63.1911 226.472 64.3717 225.129 Q66.617 222.606 67.4967 220.87 Q68.3994 219.111 68.3994 217.421 Q68.3994 214.666 66.455 212.93 Q64.5337 211.194 61.4319 211.194 Q59.2328 211.194 56.7791 211.958 Q54.3486 212.722 51.5708 214.273 L51.5708 209.55 Q54.3949 208.416 56.8486 207.838 Q59.3023 207.259 61.3393 207.259 Q66.7096 207.259 69.9041 209.944 Q73.0985 212.629 73.0985 217.12 Q73.0985 219.25 72.2883 221.171 Q71.5013 223.069 69.3948 225.662 Q68.8161 226.333 65.7143 229.55 Q62.6124 232.745 56.9643 238.509 Z\" fill=\"#000000\" fill-rule=\"evenodd\" fill-opacity=\"1\" /><path clip-path=\"url(#clip980)\" d=\"M83.0984 236.564 L87.9827 236.564 L87.9827 242.444 L83.0984 242.444 L83.0984 236.564 Z\" fill=\"#000000\" fill-rule=\"evenodd\" fill-opacity=\"1\" /><path clip-path=\"url(#clip980)\" d=\"M98.3067 241.726 L98.3067 237.467 Q100.066 238.3 101.871 238.74 Q103.677 239.18 105.413 239.18 Q110.043 239.18 112.473 236.078 Q114.927 232.953 115.274 226.611 Q113.932 228.601 111.871 229.666 Q109.811 230.731 107.311 230.731 Q102.126 230.731 99.0937 227.606 Q96.0845 224.458 96.0845 219.018 Q96.0845 213.694 99.2326 210.476 Q102.381 207.259 107.612 207.259 Q113.608 207.259 116.756 211.865 Q119.927 216.449 119.927 225.199 Q119.927 233.37 116.038 238.254 Q112.172 243.115 105.621 243.115 Q103.862 243.115 102.057 242.768 Q100.251 242.421 98.3067 241.726 M107.612 227.074 Q110.76 227.074 112.589 224.921 Q114.441 222.768 114.441 219.018 Q114.441 215.291 112.589 213.138 Q110.76 210.963 107.612 210.963 Q104.464 210.963 102.612 213.138 Q100.784 215.291 100.784 219.018 Q100.784 222.768 102.612 224.921 Q104.464 227.074 107.612 227.074 Z\" fill=\"#000000\" fill-rule=\"evenodd\" fill-opacity=\"1\" /><polyline clip-path=\"url(#clip982)\" style=\"stroke:#009af9; stroke-linecap:round; stroke-linejoin:round; stroke-width:4; stroke-opacity:1; fill:none\" points=\"\n",
       "  218.101,1445.72 231.594,1437.82 356.356,1364.82 431.333,1320.98 494.725,1283.98 563.587,1243.87 627.071,1207.02 695.132,1167.71 773.988,1122.51 844.066,1082.78 \n",
       "  905.519,1048.43 972.518,1011.69 1039.92,975.826 1077.17,956.666 1114.43,938.161 1149.88,921.363 1185.33,905.655 1222.19,891.008 1259.05,879.092 1274.57,875.359 \n",
       "  1290.08,872.782 1305.6,871.87 1321.11,873.563 1330.58,876.66 1340.05,882.381 1344.79,886.785 1349.52,892.799 1351.89,896.658 1354.26,901.304 1356.62,907.002 \n",
       "  1358.99,914.183 1360.18,918.548 1361.36,923.614 1362.54,929.604 1363.73,936.865 1364.91,945.986 1366.09,958.097 1366.69,965.969 1367.28,975.817 1367.87,988.894 \n",
       "  1368.46,1008.22 1369.05,1045.33 1369.65,1085.19 1370.24,1019.65 1370.83,994.458 1371.42,978.438 1372.01,966.608 1372.61,957.19 1373.2,949.341 1374.38,936.67 \n",
       "  1375.57,926.582 1376.75,918.154 1377.93,910.88 1380.3,898.69 1382.67,888.61 1385.04,879.937 1387.4,872.272 1392.14,859.045 1396.87,847.737 1405.55,830.138 \n",
       "  1414.22,815.098 1422.9,801.703 1431.58,789.455 1448.93,767.296 1466.28,747.227 1498.33,713.521 1530.38,682.524 1562.85,652.859 1595.31,624.386 1668.08,563.375 \n",
       "  1734.02,510.228 1809.52,450.916 1879.43,396.969 1948.35,344.411 2015.26,293.806 2083.86,242.243 2159.01,186.01 2268.18,104.639 2290.58,87.9763 \n",
       "  \"/>\n",
       "<path clip-path=\"url(#clip980)\" d=\"\n",
       "M229.155 198.898 L465.342 198.898 L465.342 95.2176 L229.155 95.2176  Z\n",
       "  \" fill=\"#ffffff\" fill-rule=\"evenodd\" fill-opacity=\"1\"/>\n",
       "<polyline clip-path=\"url(#clip980)\" style=\"stroke:#000000; stroke-linecap:round; stroke-linejoin:round; stroke-width:4; stroke-opacity:1; fill:none\" points=\"\n",
       "  229.155,198.898 465.342,198.898 465.342,95.2176 229.155,95.2176 229.155,198.898 \n",
       "  \"/>\n",
       "<polyline clip-path=\"url(#clip980)\" style=\"stroke:#009af9; stroke-linecap:round; stroke-linejoin:round; stroke-width:4; stroke-opacity:1; fill:none\" points=\"\n",
       "  253.564,147.058 400.019,147.058 \n",
       "  \"/>\n",
       "<path clip-path=\"url(#clip980)\" d=\"M440.933 128.319 L440.933 131.861 L436.859 131.861 Q434.567 131.861 433.664 132.787 Q432.785 133.713 432.785 136.12 L432.785 138.412 L439.799 138.412 L439.799 141.722 L432.785 141.722 L432.785 164.338 L428.502 164.338 L428.502 141.722 L424.428 141.722 L424.428 138.412 L428.502 138.412 L428.502 136.606 Q428.502 132.278 430.516 130.31 Q432.53 128.319 436.905 128.319 L440.933 128.319 Z\" fill=\"#000000\" fill-rule=\"evenodd\" fill-opacity=\"1\" /></svg>\n"
      ]
     },
     "execution_count": 6,
     "metadata": {},
     "output_type": "execute_result"
    }
   ],
   "source": [
    "f(x) = 1/80 * log(abs(3*(1 - x) + 1)) + x^2 + 1\n",
    "plot(f, 1.25, 1.4, label = \"f\")"
   ]
  },
  {
   "cell_type": "code",
   "execution_count": 12,
   "metadata": {},
   "outputs": [
    {
     "data": {
      "image/svg+xml": [
       "<?xml version=\"1.0\" encoding=\"utf-8\"?>\n",
       "<svg xmlns=\"http://www.w3.org/2000/svg\" xmlns:xlink=\"http://www.w3.org/1999/xlink\" width=\"600\" height=\"400\" viewBox=\"0 0 2400 1600\">\n",
       "<defs>\n",
       "  <clipPath id=\"clip060\">\n",
       "    <rect x=\"0\" y=\"0\" width=\"2400\" height=\"1600\"/>\n",
       "  </clipPath>\n",
       "</defs>\n",
       "<path clip-path=\"url(#clip060)\" d=\"\n",
       "M0 1600 L2400 1600 L2400 0 L0 0  Z\n",
       "  \" fill=\"#ffffff\" fill-rule=\"evenodd\" fill-opacity=\"1\"/>\n",
       "<defs>\n",
       "  <clipPath id=\"clip061\">\n",
       "    <rect x=\"480\" y=\"0\" width=\"1681\" height=\"1600\"/>\n",
       "  </clipPath>\n",
       "</defs>\n",
       "<path clip-path=\"url(#clip060)\" d=\"\n",
       "M216.089 1486.45 L2352.76 1486.45 L2352.76 47.2441 L216.089 47.2441  Z\n",
       "  \" fill=\"#ffffff\" fill-rule=\"evenodd\" fill-opacity=\"1\"/>\n",
       "<defs>\n",
       "  <clipPath id=\"clip062\">\n",
       "    <rect x=\"216\" y=\"47\" width=\"2138\" height=\"1440\"/>\n",
       "  </clipPath>\n",
       "</defs>\n",
       "<polyline clip-path=\"url(#clip062)\" style=\"stroke:#000000; stroke-linecap:round; stroke-linejoin:round; stroke-width:2; stroke-opacity:0.1; fill:none\" points=\"\n",
       "  276.56,1486.45 276.56,47.2441 \n",
       "  \"/>\n",
       "<polyline clip-path=\"url(#clip062)\" style=\"stroke:#000000; stroke-linecap:round; stroke-linejoin:round; stroke-width:2; stroke-opacity:0.1; fill:none\" points=\"\n",
       "  780.491,1486.45 780.491,47.2441 \n",
       "  \"/>\n",
       "<polyline clip-path=\"url(#clip062)\" style=\"stroke:#000000; stroke-linecap:round; stroke-linejoin:round; stroke-width:2; stroke-opacity:0.1; fill:none\" points=\"\n",
       "  1284.42,1486.45 1284.42,47.2441 \n",
       "  \"/>\n",
       "<polyline clip-path=\"url(#clip062)\" style=\"stroke:#000000; stroke-linecap:round; stroke-linejoin:round; stroke-width:2; stroke-opacity:0.1; fill:none\" points=\"\n",
       "  1788.35,1486.45 1788.35,47.2441 \n",
       "  \"/>\n",
       "<polyline clip-path=\"url(#clip062)\" style=\"stroke:#000000; stroke-linecap:round; stroke-linejoin:round; stroke-width:2; stroke-opacity:0.1; fill:none\" points=\"\n",
       "  2292.28,1486.45 2292.28,47.2441 \n",
       "  \"/>\n",
       "<polyline clip-path=\"url(#clip060)\" style=\"stroke:#000000; stroke-linecap:round; stroke-linejoin:round; stroke-width:4; stroke-opacity:1; fill:none\" points=\"\n",
       "  216.089,1486.45 2352.76,1486.45 \n",
       "  \"/>\n",
       "<polyline clip-path=\"url(#clip060)\" style=\"stroke:#000000; stroke-linecap:round; stroke-linejoin:round; stroke-width:4; stroke-opacity:1; fill:none\" points=\"\n",
       "  276.56,1486.45 276.56,1467.55 \n",
       "  \"/>\n",
       "<polyline clip-path=\"url(#clip060)\" style=\"stroke:#000000; stroke-linecap:round; stroke-linejoin:round; stroke-width:4; stroke-opacity:1; fill:none\" points=\"\n",
       "  780.491,1486.45 780.491,1467.55 \n",
       "  \"/>\n",
       "<polyline clip-path=\"url(#clip060)\" style=\"stroke:#000000; stroke-linecap:round; stroke-linejoin:round; stroke-width:4; stroke-opacity:1; fill:none\" points=\"\n",
       "  1284.42,1486.45 1284.42,1467.55 \n",
       "  \"/>\n",
       "<polyline clip-path=\"url(#clip060)\" style=\"stroke:#000000; stroke-linecap:round; stroke-linejoin:round; stroke-width:4; stroke-opacity:1; fill:none\" points=\"\n",
       "  1788.35,1486.45 1788.35,1467.55 \n",
       "  \"/>\n",
       "<polyline clip-path=\"url(#clip060)\" style=\"stroke:#000000; stroke-linecap:round; stroke-linejoin:round; stroke-width:4; stroke-opacity:1; fill:none\" points=\"\n",
       "  2292.28,1486.45 2292.28,1467.55 \n",
       "  \"/>\n",
       "<path clip-path=\"url(#clip060)\" d=\"M198.471 1544.91 L206.109 1544.91 L206.109 1518.55 L197.799 1520.21 L197.799 1515.95 L206.063 1514.29 L210.739 1514.29 L210.739 1544.91 L218.378 1544.91 L218.378 1548.85 L198.471 1548.85 L198.471 1544.91 Z\" fill=\"#000000\" fill-rule=\"evenodd\" fill-opacity=\"1\" /><path clip-path=\"url(#clip060)\" d=\"M227.822 1542.97 L232.706 1542.97 L232.706 1548.85 L227.822 1548.85 L227.822 1542.97 Z\" fill=\"#000000\" fill-rule=\"evenodd\" fill-opacity=\"1\" /><path clip-path=\"url(#clip060)\" d=\"M257.058 1530.21 Q260.415 1530.93 262.29 1533.2 Q264.188 1535.47 264.188 1538.8 Q264.188 1543.92 260.669 1546.72 Q257.151 1549.52 250.669 1549.52 Q248.493 1549.52 246.179 1549.08 Q243.887 1548.66 241.433 1547.81 L241.433 1543.29 Q243.378 1544.43 245.692 1545.01 Q248.007 1545.58 250.53 1545.58 Q254.929 1545.58 257.22 1543.85 Q259.535 1542.11 259.535 1538.8 Q259.535 1535.75 257.382 1534.03 Q255.253 1532.3 251.433 1532.3 L247.405 1532.3 L247.405 1528.45 L251.618 1528.45 Q255.067 1528.45 256.896 1527.09 Q258.725 1525.7 258.725 1523.11 Q258.725 1520.45 256.827 1519.03 Q254.952 1517.6 251.433 1517.6 Q249.512 1517.6 247.313 1518.01 Q245.114 1518.43 242.475 1519.31 L242.475 1515.14 Q245.137 1514.4 247.452 1514.03 Q249.79 1513.66 251.85 1513.66 Q257.174 1513.66 260.276 1516.09 Q263.378 1518.5 263.378 1522.62 Q263.378 1525.49 261.734 1527.48 Q260.091 1529.45 257.058 1530.21 Z\" fill=\"#000000\" fill-rule=\"evenodd\" fill-opacity=\"1\" /><path clip-path=\"url(#clip060)\" d=\"M287.22 1530.21 Q290.576 1530.93 292.451 1533.2 Q294.35 1535.47 294.35 1538.8 Q294.35 1543.92 290.831 1546.72 Q287.313 1549.52 280.831 1549.52 Q278.655 1549.52 276.34 1549.08 Q274.049 1548.66 271.595 1547.81 L271.595 1543.29 Q273.54 1544.43 275.854 1545.01 Q278.169 1545.58 280.692 1545.58 Q285.09 1545.58 287.382 1543.85 Q289.697 1542.11 289.697 1538.8 Q289.697 1535.75 287.544 1534.03 Q285.414 1532.3 281.595 1532.3 L277.567 1532.3 L277.567 1528.45 L281.78 1528.45 Q285.229 1528.45 287.058 1527.09 Q288.887 1525.7 288.887 1523.11 Q288.887 1520.45 286.989 1519.03 Q285.114 1517.6 281.595 1517.6 Q279.674 1517.6 277.475 1518.01 Q275.276 1518.43 272.637 1519.31 L272.637 1515.14 Q275.299 1514.4 277.614 1514.03 Q279.952 1513.66 282.012 1513.66 Q287.336 1513.66 290.438 1516.09 Q293.539 1518.5 293.539 1522.62 Q293.539 1525.49 291.896 1527.48 Q290.252 1529.45 287.22 1530.21 Z\" fill=\"#000000\" fill-rule=\"evenodd\" fill-opacity=\"1\" /><path clip-path=\"url(#clip060)\" d=\"M307.243 1544.91 L323.562 1544.91 L323.562 1548.85 L301.618 1548.85 L301.618 1544.91 Q304.28 1542.16 308.863 1537.53 Q313.47 1532.88 314.65 1531.53 Q316.896 1529.01 317.775 1527.27 Q318.678 1525.51 318.678 1523.82 Q318.678 1521.07 316.734 1519.33 Q314.812 1517.6 311.711 1517.6 Q309.512 1517.6 307.058 1518.36 Q304.627 1519.13 301.85 1520.68 L301.85 1515.95 Q304.674 1514.82 307.127 1514.24 Q309.581 1513.66 311.618 1513.66 Q316.988 1513.66 320.183 1516.35 Q323.377 1519.03 323.377 1523.52 Q323.377 1525.65 322.567 1527.57 Q321.78 1529.47 319.674 1532.07 Q319.095 1532.74 315.993 1535.95 Q312.891 1539.15 307.243 1544.91 Z\" fill=\"#000000\" fill-rule=\"evenodd\" fill-opacity=\"1\" /><path clip-path=\"url(#clip060)\" d=\"M343.377 1517.37 Q339.766 1517.37 337.937 1520.93 Q336.132 1524.47 336.132 1531.6 Q336.132 1538.71 337.937 1542.27 Q339.766 1545.82 343.377 1545.82 Q347.011 1545.82 348.817 1542.27 Q350.646 1538.71 350.646 1531.6 Q350.646 1524.47 348.817 1520.93 Q347.011 1517.37 343.377 1517.37 M343.377 1513.66 Q349.187 1513.66 352.243 1518.27 Q355.322 1522.85 355.322 1531.6 Q355.322 1540.33 352.243 1544.94 Q349.187 1549.52 343.377 1549.52 Q337.567 1549.52 334.488 1544.94 Q331.433 1540.33 331.433 1531.6 Q331.433 1522.85 334.488 1518.27 Q337.567 1513.66 343.377 1513.66 Z\" fill=\"#000000\" fill-rule=\"evenodd\" fill-opacity=\"1\" /><path clip-path=\"url(#clip060)\" d=\"M702.899 1544.91 L710.538 1544.91 L710.538 1518.55 L702.228 1520.21 L702.228 1515.95 L710.492 1514.29 L715.168 1514.29 L715.168 1544.91 L722.806 1544.91 L722.806 1548.85 L702.899 1548.85 L702.899 1544.91 Z\" fill=\"#000000\" fill-rule=\"evenodd\" fill-opacity=\"1\" /><path clip-path=\"url(#clip060)\" d=\"M732.251 1542.97 L737.135 1542.97 L737.135 1548.85 L732.251 1548.85 L732.251 1542.97 Z\" fill=\"#000000\" fill-rule=\"evenodd\" fill-opacity=\"1\" /><path clip-path=\"url(#clip060)\" d=\"M761.487 1530.21 Q764.843 1530.93 766.718 1533.2 Q768.616 1535.47 768.616 1538.8 Q768.616 1543.92 765.098 1546.72 Q761.579 1549.52 755.098 1549.52 Q752.922 1549.52 750.607 1549.08 Q748.316 1548.66 745.862 1547.81 L745.862 1543.29 Q747.806 1544.43 750.121 1545.01 Q752.436 1545.58 754.959 1545.58 Q759.357 1545.58 761.649 1543.85 Q763.964 1542.11 763.964 1538.8 Q763.964 1535.75 761.811 1534.03 Q759.681 1532.3 755.862 1532.3 L751.834 1532.3 L751.834 1528.45 L756.047 1528.45 Q759.496 1528.45 761.325 1527.09 Q763.153 1525.7 763.153 1523.11 Q763.153 1520.45 761.255 1519.03 Q759.38 1517.6 755.862 1517.6 Q753.941 1517.6 751.741 1518.01 Q749.542 1518.43 746.904 1519.31 L746.904 1515.14 Q749.566 1514.4 751.88 1514.03 Q754.218 1513.66 756.278 1513.66 Q761.603 1513.66 764.704 1516.09 Q767.806 1518.5 767.806 1522.62 Q767.806 1525.49 766.163 1527.48 Q764.519 1529.45 761.487 1530.21 Z\" fill=\"#000000\" fill-rule=\"evenodd\" fill-opacity=\"1\" /><path clip-path=\"url(#clip060)\" d=\"M791.649 1530.21 Q795.005 1530.93 796.88 1533.2 Q798.778 1535.47 798.778 1538.8 Q798.778 1543.92 795.26 1546.72 Q791.741 1549.52 785.26 1549.52 Q783.084 1549.52 780.769 1549.08 Q778.477 1548.66 776.024 1547.81 L776.024 1543.29 Q777.968 1544.43 780.283 1545.01 Q782.598 1545.58 785.121 1545.58 Q789.519 1545.58 791.811 1543.85 Q794.126 1542.11 794.126 1538.8 Q794.126 1535.75 791.973 1534.03 Q789.843 1532.3 786.024 1532.3 L781.996 1532.3 L781.996 1528.45 L786.209 1528.45 Q789.658 1528.45 791.487 1527.09 Q793.315 1525.7 793.315 1523.11 Q793.315 1520.45 791.417 1519.03 Q789.542 1517.6 786.024 1517.6 Q784.102 1517.6 781.903 1518.01 Q779.704 1518.43 777.065 1519.31 L777.065 1515.14 Q779.727 1514.4 782.042 1514.03 Q784.38 1513.66 786.44 1513.66 Q791.764 1513.66 794.866 1516.09 Q797.968 1518.5 797.968 1522.62 Q797.968 1525.49 796.325 1527.48 Q794.681 1529.45 791.649 1530.21 Z\" fill=\"#000000\" fill-rule=\"evenodd\" fill-opacity=\"1\" /><path clip-path=\"url(#clip060)\" d=\"M811.672 1544.91 L827.991 1544.91 L827.991 1548.85 L806.047 1548.85 L806.047 1544.91 Q808.709 1542.16 813.292 1537.53 Q817.899 1532.88 819.079 1531.53 Q821.324 1529.01 822.204 1527.27 Q823.107 1525.51 823.107 1523.82 Q823.107 1521.07 821.162 1519.33 Q819.241 1517.6 816.139 1517.6 Q813.94 1517.6 811.487 1518.36 Q809.056 1519.13 806.278 1520.68 L806.278 1515.95 Q809.102 1514.82 811.556 1514.24 Q814.01 1513.66 816.047 1513.66 Q821.417 1513.66 824.611 1516.35 Q827.806 1519.03 827.806 1523.52 Q827.806 1525.65 826.996 1527.57 Q826.209 1529.47 824.102 1532.07 Q823.524 1532.74 820.422 1535.95 Q817.32 1539.15 811.672 1544.91 Z\" fill=\"#000000\" fill-rule=\"evenodd\" fill-opacity=\"1\" /><path clip-path=\"url(#clip060)\" d=\"M837.852 1514.29 L856.209 1514.29 L856.209 1518.22 L842.135 1518.22 L842.135 1526.7 Q843.153 1526.35 844.172 1526.19 Q845.19 1526 846.209 1526 Q851.996 1526 855.375 1529.17 Q858.755 1532.34 858.755 1537.76 Q858.755 1543.34 855.283 1546.44 Q851.81 1549.52 845.491 1549.52 Q843.315 1549.52 841.047 1549.15 Q838.801 1548.78 836.394 1548.04 L836.394 1543.34 Q838.477 1544.47 840.699 1545.03 Q842.922 1545.58 845.398 1545.58 Q849.403 1545.58 851.741 1543.48 Q854.079 1541.37 854.079 1537.76 Q854.079 1534.15 851.741 1532.04 Q849.403 1529.94 845.398 1529.94 Q843.523 1529.94 841.648 1530.35 Q839.797 1530.77 837.852 1531.65 L837.852 1514.29 Z\" fill=\"#000000\" fill-rule=\"evenodd\" fill-opacity=\"1\" /><path clip-path=\"url(#clip060)\" d=\"M1206.33 1544.91 L1213.97 1544.91 L1213.97 1518.55 L1205.66 1520.21 L1205.66 1515.95 L1213.92 1514.29 L1218.6 1514.29 L1218.6 1544.91 L1226.24 1544.91 L1226.24 1548.85 L1206.33 1548.85 L1206.33 1544.91 Z\" fill=\"#000000\" fill-rule=\"evenodd\" fill-opacity=\"1\" /><path clip-path=\"url(#clip060)\" d=\"M1235.68 1542.97 L1240.57 1542.97 L1240.57 1548.85 L1235.68 1548.85 L1235.68 1542.97 Z\" fill=\"#000000\" fill-rule=\"evenodd\" fill-opacity=\"1\" /><path clip-path=\"url(#clip060)\" d=\"M1264.92 1530.21 Q1268.28 1530.93 1270.15 1533.2 Q1272.05 1535.47 1272.05 1538.8 Q1272.05 1543.92 1268.53 1546.72 Q1265.01 1549.52 1258.53 1549.52 Q1256.36 1549.52 1254.04 1549.08 Q1251.75 1548.66 1249.3 1547.81 L1249.3 1543.29 Q1251.24 1544.43 1253.55 1545.01 Q1255.87 1545.58 1258.39 1545.58 Q1262.79 1545.58 1265.08 1543.85 Q1267.4 1542.11 1267.4 1538.8 Q1267.4 1535.75 1265.24 1534.03 Q1263.11 1532.3 1259.3 1532.3 L1255.27 1532.3 L1255.27 1528.45 L1259.48 1528.45 Q1262.93 1528.45 1264.76 1527.09 Q1266.59 1525.7 1266.59 1523.11 Q1266.59 1520.45 1264.69 1519.03 Q1262.81 1517.6 1259.3 1517.6 Q1257.37 1517.6 1255.17 1518.01 Q1252.98 1518.43 1250.34 1519.31 L1250.34 1515.14 Q1253 1514.4 1255.31 1514.03 Q1257.65 1513.66 1259.71 1513.66 Q1265.04 1513.66 1268.14 1516.09 Q1271.24 1518.5 1271.24 1522.62 Q1271.24 1525.49 1269.6 1527.48 Q1267.95 1529.45 1264.92 1530.21 Z\" fill=\"#000000\" fill-rule=\"evenodd\" fill-opacity=\"1\" /><path clip-path=\"url(#clip060)\" d=\"M1295.08 1530.21 Q1298.44 1530.93 1300.31 1533.2 Q1302.21 1535.47 1302.21 1538.8 Q1302.21 1543.92 1298.69 1546.72 Q1295.17 1549.52 1288.69 1549.52 Q1286.52 1549.52 1284.2 1549.08 Q1281.91 1548.66 1279.46 1547.81 L1279.46 1543.29 Q1281.4 1544.43 1283.72 1545.01 Q1286.03 1545.58 1288.55 1545.58 Q1292.95 1545.58 1295.24 1543.85 Q1297.56 1542.11 1297.56 1538.8 Q1297.56 1535.75 1295.41 1534.03 Q1293.28 1532.3 1289.46 1532.3 L1285.43 1532.3 L1285.43 1528.45 L1289.64 1528.45 Q1293.09 1528.45 1294.92 1527.09 Q1296.75 1525.7 1296.75 1523.11 Q1296.75 1520.45 1294.85 1519.03 Q1292.98 1517.6 1289.46 1517.6 Q1287.54 1517.6 1285.34 1518.01 Q1283.14 1518.43 1280.5 1519.31 L1280.5 1515.14 Q1283.16 1514.4 1285.48 1514.03 Q1287.81 1513.66 1289.87 1513.66 Q1295.2 1513.66 1298.3 1516.09 Q1301.4 1518.5 1301.4 1522.62 Q1301.4 1525.49 1299.76 1527.48 Q1298.11 1529.45 1295.08 1530.21 Z\" fill=\"#000000\" fill-rule=\"evenodd\" fill-opacity=\"1\" /><path clip-path=\"url(#clip060)\" d=\"M1325.24 1530.21 Q1328.6 1530.93 1330.48 1533.2 Q1332.37 1535.47 1332.37 1538.8 Q1332.37 1543.92 1328.85 1546.72 Q1325.34 1549.52 1318.85 1549.52 Q1316.68 1549.52 1314.36 1549.08 Q1312.07 1548.66 1309.62 1547.81 L1309.62 1543.29 Q1311.56 1544.43 1313.88 1545.01 Q1316.19 1545.58 1318.72 1545.58 Q1323.11 1545.58 1325.41 1543.85 Q1327.72 1542.11 1327.72 1538.8 Q1327.72 1535.75 1325.57 1534.03 Q1323.44 1532.3 1319.62 1532.3 L1315.59 1532.3 L1315.59 1528.45 L1319.8 1528.45 Q1323.25 1528.45 1325.08 1527.09 Q1326.91 1525.7 1326.91 1523.11 Q1326.91 1520.45 1325.01 1519.03 Q1323.14 1517.6 1319.62 1517.6 Q1317.7 1517.6 1315.5 1518.01 Q1313.3 1518.43 1310.66 1519.31 L1310.66 1515.14 Q1313.32 1514.4 1315.64 1514.03 Q1317.98 1513.66 1320.04 1513.66 Q1325.36 1513.66 1328.46 1516.09 Q1331.56 1518.5 1331.56 1522.62 Q1331.56 1525.49 1329.92 1527.48 Q1328.28 1529.45 1325.24 1530.21 Z\" fill=\"#000000\" fill-rule=\"evenodd\" fill-opacity=\"1\" /><path clip-path=\"url(#clip060)\" d=\"M1351.24 1517.37 Q1347.63 1517.37 1345.8 1520.93 Q1343.99 1524.47 1343.99 1531.6 Q1343.99 1538.71 1345.8 1542.27 Q1347.63 1545.82 1351.24 1545.82 Q1354.87 1545.82 1356.68 1542.27 Q1358.51 1538.71 1358.51 1531.6 Q1358.51 1524.47 1356.68 1520.93 Q1354.87 1517.37 1351.24 1517.37 M1351.24 1513.66 Q1357.05 1513.66 1360.1 1518.27 Q1363.18 1522.85 1363.18 1531.6 Q1363.18 1540.33 1360.1 1544.94 Q1357.05 1549.52 1351.24 1549.52 Q1345.43 1549.52 1342.35 1544.94 Q1339.29 1540.33 1339.29 1531.6 Q1339.29 1522.85 1342.35 1518.27 Q1345.43 1513.66 1351.24 1513.66 Z\" fill=\"#000000\" fill-rule=\"evenodd\" fill-opacity=\"1\" /><path clip-path=\"url(#clip060)\" d=\"M1710.76 1544.91 L1718.4 1544.91 L1718.4 1518.55 L1710.09 1520.21 L1710.09 1515.95 L1718.35 1514.29 L1723.03 1514.29 L1723.03 1544.91 L1730.67 1544.91 L1730.67 1548.85 L1710.76 1548.85 L1710.76 1544.91 Z\" fill=\"#000000\" fill-rule=\"evenodd\" fill-opacity=\"1\" /><path clip-path=\"url(#clip060)\" d=\"M1740.11 1542.97 L1745 1542.97 L1745 1548.85 L1740.11 1548.85 L1740.11 1542.97 Z\" fill=\"#000000\" fill-rule=\"evenodd\" fill-opacity=\"1\" /><path clip-path=\"url(#clip060)\" d=\"M1769.35 1530.21 Q1772.71 1530.93 1774.58 1533.2 Q1776.48 1535.47 1776.48 1538.8 Q1776.48 1543.92 1772.96 1546.72 Q1769.44 1549.52 1762.96 1549.52 Q1760.78 1549.52 1758.47 1549.08 Q1756.18 1548.66 1753.72 1547.81 L1753.72 1543.29 Q1755.67 1544.43 1757.98 1545.01 Q1760.3 1545.58 1762.82 1545.58 Q1767.22 1545.58 1769.51 1543.85 Q1771.83 1542.11 1771.83 1538.8 Q1771.83 1535.75 1769.67 1534.03 Q1767.54 1532.3 1763.72 1532.3 L1759.7 1532.3 L1759.7 1528.45 L1763.91 1528.45 Q1767.36 1528.45 1769.19 1527.09 Q1771.02 1525.7 1771.02 1523.11 Q1771.02 1520.45 1769.12 1519.03 Q1767.24 1517.6 1763.72 1517.6 Q1761.8 1517.6 1759.6 1518.01 Q1757.4 1518.43 1754.77 1519.31 L1754.77 1515.14 Q1757.43 1514.4 1759.74 1514.03 Q1762.08 1513.66 1764.14 1513.66 Q1769.46 1513.66 1772.57 1516.09 Q1775.67 1518.5 1775.67 1522.62 Q1775.67 1525.49 1774.02 1527.48 Q1772.38 1529.45 1769.35 1530.21 Z\" fill=\"#000000\" fill-rule=\"evenodd\" fill-opacity=\"1\" /><path clip-path=\"url(#clip060)\" d=\"M1799.51 1530.21 Q1802.87 1530.93 1804.74 1533.2 Q1806.64 1535.47 1806.64 1538.8 Q1806.64 1543.92 1803.12 1546.72 Q1799.6 1549.52 1793.12 1549.52 Q1790.95 1549.52 1788.63 1549.08 Q1786.34 1548.66 1783.89 1547.81 L1783.89 1543.29 Q1785.83 1544.43 1788.14 1545.01 Q1790.46 1545.58 1792.98 1545.58 Q1797.38 1545.58 1799.67 1543.85 Q1801.99 1542.11 1801.99 1538.8 Q1801.99 1535.75 1799.83 1534.03 Q1797.71 1532.3 1793.89 1532.3 L1789.86 1532.3 L1789.86 1528.45 L1794.07 1528.45 Q1797.52 1528.45 1799.35 1527.09 Q1801.18 1525.7 1801.18 1523.11 Q1801.18 1520.45 1799.28 1519.03 Q1797.4 1517.6 1793.89 1517.6 Q1791.96 1517.6 1789.77 1518.01 Q1787.57 1518.43 1784.93 1519.31 L1784.93 1515.14 Q1787.59 1514.4 1789.9 1514.03 Q1792.24 1513.66 1794.3 1513.66 Q1799.63 1513.66 1802.73 1516.09 Q1805.83 1518.5 1805.83 1522.62 Q1805.83 1525.49 1804.19 1527.48 Q1802.54 1529.45 1799.51 1530.21 Z\" fill=\"#000000\" fill-rule=\"evenodd\" fill-opacity=\"1\" /><path clip-path=\"url(#clip060)\" d=\"M1829.67 1530.21 Q1833.03 1530.93 1834.9 1533.2 Q1836.8 1535.47 1836.8 1538.8 Q1836.8 1543.92 1833.28 1546.72 Q1829.77 1549.52 1823.28 1549.52 Q1821.11 1549.52 1818.79 1549.08 Q1816.5 1548.66 1814.05 1547.81 L1814.05 1543.29 Q1815.99 1544.43 1818.31 1545.01 Q1820.62 1545.58 1823.14 1545.58 Q1827.54 1545.58 1829.83 1543.85 Q1832.15 1542.11 1832.15 1538.8 Q1832.15 1535.75 1830 1534.03 Q1827.87 1532.3 1824.05 1532.3 L1820.02 1532.3 L1820.02 1528.45 L1824.23 1528.45 Q1827.68 1528.45 1829.51 1527.09 Q1831.34 1525.7 1831.34 1523.11 Q1831.34 1520.45 1829.44 1519.03 Q1827.57 1517.6 1824.05 1517.6 Q1822.13 1517.6 1819.93 1518.01 Q1817.73 1518.43 1815.09 1519.31 L1815.09 1515.14 Q1817.75 1514.4 1820.07 1514.03 Q1822.4 1513.66 1824.46 1513.66 Q1829.79 1513.66 1832.89 1516.09 Q1835.99 1518.5 1835.99 1522.62 Q1835.99 1525.49 1834.35 1527.48 Q1832.7 1529.45 1829.67 1530.21 Z\" fill=\"#000000\" fill-rule=\"evenodd\" fill-opacity=\"1\" /><path clip-path=\"url(#clip060)\" d=\"M1845.71 1514.29 L1864.07 1514.29 L1864.07 1518.22 L1850 1518.22 L1850 1526.7 Q1851.01 1526.35 1852.03 1526.19 Q1853.05 1526 1854.07 1526 Q1859.86 1526 1863.24 1529.17 Q1866.62 1532.34 1866.62 1537.76 Q1866.62 1543.34 1863.14 1546.44 Q1859.67 1549.52 1853.35 1549.52 Q1851.18 1549.52 1848.91 1549.15 Q1846.66 1548.78 1844.26 1548.04 L1844.26 1543.34 Q1846.34 1544.47 1848.56 1545.03 Q1850.78 1545.58 1853.26 1545.58 Q1857.26 1545.58 1859.6 1543.48 Q1861.94 1541.37 1861.94 1537.76 Q1861.94 1534.15 1859.6 1532.04 Q1857.26 1529.94 1853.26 1529.94 Q1851.39 1529.94 1849.51 1530.35 Q1847.66 1530.77 1845.71 1531.65 L1845.71 1514.29 Z\" fill=\"#000000\" fill-rule=\"evenodd\" fill-opacity=\"1\" /><path clip-path=\"url(#clip060)\" d=\"M2214.19 1544.91 L2221.83 1544.91 L2221.83 1518.55 L2213.52 1520.21 L2213.52 1515.95 L2221.79 1514.29 L2226.46 1514.29 L2226.46 1544.91 L2234.1 1544.91 L2234.1 1548.85 L2214.19 1548.85 L2214.19 1544.91 Z\" fill=\"#000000\" fill-rule=\"evenodd\" fill-opacity=\"1\" /><path clip-path=\"url(#clip060)\" d=\"M2243.55 1542.97 L2248.43 1542.97 L2248.43 1548.85 L2243.55 1548.85 L2243.55 1542.97 Z\" fill=\"#000000\" fill-rule=\"evenodd\" fill-opacity=\"1\" /><path clip-path=\"url(#clip060)\" d=\"M2272.78 1530.21 Q2276.14 1530.93 2278.01 1533.2 Q2279.91 1535.47 2279.91 1538.8 Q2279.91 1543.92 2276.39 1546.72 Q2272.87 1549.52 2266.39 1549.52 Q2264.22 1549.52 2261.9 1549.08 Q2259.61 1548.66 2257.16 1547.81 L2257.16 1543.29 Q2259.1 1544.43 2261.42 1545.01 Q2263.73 1545.58 2266.25 1545.58 Q2270.65 1545.58 2272.94 1543.85 Q2275.26 1542.11 2275.26 1538.8 Q2275.26 1535.75 2273.11 1534.03 Q2270.98 1532.3 2267.16 1532.3 L2263.13 1532.3 L2263.13 1528.45 L2267.34 1528.45 Q2270.79 1528.45 2272.62 1527.09 Q2274.45 1525.7 2274.45 1523.11 Q2274.45 1520.45 2272.55 1519.03 Q2270.68 1517.6 2267.16 1517.6 Q2265.24 1517.6 2263.04 1518.01 Q2260.84 1518.43 2258.2 1519.31 L2258.2 1515.14 Q2260.86 1514.4 2263.18 1514.03 Q2265.51 1513.66 2267.57 1513.66 Q2272.9 1513.66 2276 1516.09 Q2279.1 1518.5 2279.1 1522.62 Q2279.1 1525.49 2277.46 1527.48 Q2275.81 1529.45 2272.78 1530.21 Z\" fill=\"#000000\" fill-rule=\"evenodd\" fill-opacity=\"1\" /><path clip-path=\"url(#clip060)\" d=\"M2302.94 1530.21 Q2306.3 1530.93 2308.18 1533.2 Q2310.07 1535.47 2310.07 1538.8 Q2310.07 1543.92 2306.55 1546.72 Q2303.04 1549.52 2296.56 1549.52 Q2294.38 1549.52 2292.06 1549.08 Q2289.77 1548.66 2287.32 1547.81 L2287.32 1543.29 Q2289.26 1544.43 2291.58 1545.01 Q2293.89 1545.58 2296.42 1545.58 Q2300.81 1545.58 2303.11 1543.85 Q2305.42 1542.11 2305.42 1538.8 Q2305.42 1535.75 2303.27 1534.03 Q2301.14 1532.3 2297.32 1532.3 L2293.29 1532.3 L2293.29 1528.45 L2297.5 1528.45 Q2300.95 1528.45 2302.78 1527.09 Q2304.61 1525.7 2304.61 1523.11 Q2304.61 1520.45 2302.71 1519.03 Q2300.84 1517.6 2297.32 1517.6 Q2295.4 1517.6 2293.2 1518.01 Q2291 1518.43 2288.36 1519.31 L2288.36 1515.14 Q2291.02 1514.4 2293.34 1514.03 Q2295.68 1513.66 2297.74 1513.66 Q2303.06 1513.66 2306.16 1516.09 Q2309.26 1518.5 2309.26 1522.62 Q2309.26 1525.49 2307.62 1527.48 Q2305.98 1529.45 2302.94 1530.21 Z\" fill=\"#000000\" fill-rule=\"evenodd\" fill-opacity=\"1\" /><path clip-path=\"url(#clip060)\" d=\"M2331.79 1518.36 L2319.98 1536.81 L2331.79 1536.81 L2331.79 1518.36 M2330.56 1514.29 L2336.44 1514.29 L2336.44 1536.81 L2341.37 1536.81 L2341.37 1540.7 L2336.44 1540.7 L2336.44 1548.85 L2331.79 1548.85 L2331.79 1540.7 L2316.18 1540.7 L2316.18 1536.19 L2330.56 1514.29 Z\" fill=\"#000000\" fill-rule=\"evenodd\" fill-opacity=\"1\" /><path clip-path=\"url(#clip060)\" d=\"M2359.1 1517.37 Q2355.49 1517.37 2353.66 1520.93 Q2351.86 1524.47 2351.86 1531.6 Q2351.86 1538.71 2353.66 1542.27 Q2355.49 1545.82 2359.1 1545.82 Q2362.74 1545.82 2364.54 1542.27 Q2366.37 1538.71 2366.37 1531.6 Q2366.37 1524.47 2364.54 1520.93 Q2362.74 1517.37 2359.1 1517.37 M2359.1 1513.66 Q2364.91 1513.66 2367.97 1518.27 Q2371.05 1522.85 2371.05 1531.6 Q2371.05 1540.33 2367.97 1544.94 Q2364.91 1549.52 2359.1 1549.52 Q2353.29 1549.52 2350.21 1544.94 Q2347.16 1540.33 2347.16 1531.6 Q2347.16 1522.85 2350.21 1518.27 Q2353.29 1513.66 2359.1 1513.66 Z\" fill=\"#000000\" fill-rule=\"evenodd\" fill-opacity=\"1\" /><polyline clip-path=\"url(#clip062)\" style=\"stroke:#000000; stroke-linecap:round; stroke-linejoin:round; stroke-width:2; stroke-opacity:0.1; fill:none\" points=\"\n",
       "  216.089,1329.45 2352.76,1329.45 \n",
       "  \"/>\n",
       "<polyline clip-path=\"url(#clip062)\" style=\"stroke:#000000; stroke-linecap:round; stroke-linejoin:round; stroke-width:2; stroke-opacity:0.1; fill:none\" points=\"\n",
       "  216.089,1034.44 2352.76,1034.44 \n",
       "  \"/>\n",
       "<polyline clip-path=\"url(#clip062)\" style=\"stroke:#000000; stroke-linecap:round; stroke-linejoin:round; stroke-width:2; stroke-opacity:0.1; fill:none\" points=\"\n",
       "  216.089,739.427 2352.76,739.427 \n",
       "  \"/>\n",
       "<polyline clip-path=\"url(#clip062)\" style=\"stroke:#000000; stroke-linecap:round; stroke-linejoin:round; stroke-width:2; stroke-opacity:0.1; fill:none\" points=\"\n",
       "  216.089,444.417 2352.76,444.417 \n",
       "  \"/>\n",
       "<polyline clip-path=\"url(#clip062)\" style=\"stroke:#000000; stroke-linecap:round; stroke-linejoin:round; stroke-width:2; stroke-opacity:0.1; fill:none\" points=\"\n",
       "  216.089,149.406 2352.76,149.406 \n",
       "  \"/>\n",
       "<polyline clip-path=\"url(#clip060)\" style=\"stroke:#000000; stroke-linecap:round; stroke-linejoin:round; stroke-width:4; stroke-opacity:1; fill:none\" points=\"\n",
       "  216.089,1486.45 216.089,47.2441 \n",
       "  \"/>\n",
       "<polyline clip-path=\"url(#clip060)\" style=\"stroke:#000000; stroke-linecap:round; stroke-linejoin:round; stroke-width:4; stroke-opacity:1; fill:none\" points=\"\n",
       "  216.089,1329.45 234.986,1329.45 \n",
       "  \"/>\n",
       "<polyline clip-path=\"url(#clip060)\" style=\"stroke:#000000; stroke-linecap:round; stroke-linejoin:round; stroke-width:4; stroke-opacity:1; fill:none\" points=\"\n",
       "  216.089,1034.44 234.986,1034.44 \n",
       "  \"/>\n",
       "<polyline clip-path=\"url(#clip060)\" style=\"stroke:#000000; stroke-linecap:round; stroke-linejoin:round; stroke-width:4; stroke-opacity:1; fill:none\" points=\"\n",
       "  216.089,739.427 234.986,739.427 \n",
       "  \"/>\n",
       "<polyline clip-path=\"url(#clip060)\" style=\"stroke:#000000; stroke-linecap:round; stroke-linejoin:round; stroke-width:4; stroke-opacity:1; fill:none\" points=\"\n",
       "  216.089,444.417 234.986,444.417 \n",
       "  \"/>\n",
       "<polyline clip-path=\"url(#clip060)\" style=\"stroke:#000000; stroke-linecap:round; stroke-linejoin:round; stroke-width:4; stroke-opacity:1; fill:none\" points=\"\n",
       "  216.089,149.406 234.986,149.406 \n",
       "  \"/>\n",
       "<path clip-path=\"url(#clip060)\" d=\"M56.6171 1342.79 L72.9365 1342.79 L72.9365 1346.73 L50.9921 1346.73 L50.9921 1342.79 Q53.6541 1340.04 58.2375 1335.41 Q62.8439 1330.76 64.0245 1329.41 Q66.2698 1326.89 67.1494 1325.15 Q68.0522 1323.39 68.0522 1321.7 Q68.0522 1318.95 66.1078 1317.21 Q64.1865 1315.48 61.0847 1315.48 Q58.8856 1315.48 56.4319 1316.24 Q54.0014 1317.01 51.2236 1318.56 L51.2236 1313.83 Q54.0477 1312.7 56.5014 1312.12 Q58.955 1311.54 60.9921 1311.54 Q66.3624 1311.54 69.5568 1314.23 Q72.7513 1316.91 72.7513 1321.4 Q72.7513 1323.53 71.9411 1325.45 Q71.1541 1327.35 69.0476 1329.95 Q68.4689 1330.62 65.367 1333.83 Q62.2652 1337.03 56.6171 1342.79 Z\" fill=\"#000000\" fill-rule=\"evenodd\" fill-opacity=\"1\" /><path clip-path=\"url(#clip060)\" d=\"M82.7512 1340.85 L87.6354 1340.85 L87.6354 1346.73 L82.7512 1346.73 L82.7512 1340.85 Z\" fill=\"#000000\" fill-rule=\"evenodd\" fill-opacity=\"1\" /><path clip-path=\"url(#clip060)\" d=\"M108.399 1327.58 Q105.251 1327.58 103.399 1329.74 Q101.571 1331.89 101.571 1335.64 Q101.571 1339.37 103.399 1341.54 Q105.251 1343.7 108.399 1343.7 Q111.547 1343.7 113.376 1341.54 Q115.228 1339.37 115.228 1335.64 Q115.228 1331.89 113.376 1329.74 Q111.547 1327.58 108.399 1327.58 M117.682 1312.93 L117.682 1317.19 Q115.922 1316.36 114.117 1315.92 Q112.334 1315.48 110.575 1315.48 Q105.946 1315.48 103.492 1318.6 Q101.061 1321.73 100.714 1328.05 Q102.08 1326.03 104.14 1324.97 Q106.2 1323.88 108.677 1323.88 Q113.885 1323.88 116.895 1327.05 Q119.927 1330.2 119.927 1335.64 Q119.927 1340.96 116.779 1344.18 Q113.631 1347.4 108.399 1347.4 Q102.404 1347.4 99.2326 1342.82 Q96.0613 1338.21 96.0613 1329.48 Q96.0613 1321.29 99.9502 1316.43 Q103.839 1311.54 110.39 1311.54 Q112.149 1311.54 113.932 1311.89 Q115.737 1312.24 117.682 1312.93 Z\" fill=\"#000000\" fill-rule=\"evenodd\" fill-opacity=\"1\" /><path clip-path=\"url(#clip060)\" d=\"M137.982 1315.25 Q134.371 1315.25 132.543 1318.81 Q130.737 1322.35 130.737 1329.48 Q130.737 1336.59 132.543 1340.15 Q134.371 1343.7 137.982 1343.7 Q141.617 1343.7 143.422 1340.15 Q145.251 1336.59 145.251 1329.48 Q145.251 1322.35 143.422 1318.81 Q141.617 1315.25 137.982 1315.25 M137.982 1311.54 Q143.793 1311.54 146.848 1316.15 Q149.927 1320.73 149.927 1329.48 Q149.927 1338.21 146.848 1342.82 Q143.793 1347.4 137.982 1347.4 Q132.172 1347.4 129.094 1342.82 Q126.038 1338.21 126.038 1329.48 Q126.038 1320.73 129.094 1316.15 Q132.172 1311.54 137.982 1311.54 Z\" fill=\"#000000\" fill-rule=\"evenodd\" fill-opacity=\"1\" /><path clip-path=\"url(#clip060)\" d=\"M168.144 1315.25 Q164.533 1315.25 162.704 1318.81 Q160.899 1322.35 160.899 1329.48 Q160.899 1336.59 162.704 1340.15 Q164.533 1343.7 168.144 1343.7 Q171.779 1343.7 173.584 1340.15 Q175.413 1336.59 175.413 1329.48 Q175.413 1322.35 173.584 1318.81 Q171.779 1315.25 168.144 1315.25 M168.144 1311.54 Q173.954 1311.54 177.01 1316.15 Q180.089 1320.73 180.089 1329.48 Q180.089 1338.21 177.01 1342.82 Q173.954 1347.4 168.144 1347.4 Q162.334 1347.4 159.255 1342.82 Q156.2 1338.21 156.2 1329.48 Q156.2 1320.73 159.255 1316.15 Q162.334 1311.54 168.144 1311.54 Z\" fill=\"#000000\" fill-rule=\"evenodd\" fill-opacity=\"1\" /><path clip-path=\"url(#clip060)\" d=\"M57.6125 1047.78 L73.9318 1047.78 L73.9318 1051.72 L51.9875 1051.72 L51.9875 1047.78 Q54.6495 1045.03 59.2328 1040.4 Q63.8393 1035.75 65.0198 1034.4 Q67.2652 1031.88 68.1448 1030.14 Q69.0476 1028.38 69.0476 1026.69 Q69.0476 1023.94 67.1032 1022.2 Q65.1819 1020.47 62.08 1020.47 Q59.881 1020.47 57.4273 1021.23 Q54.9967 1022 52.219 1023.55 L52.219 1018.82 Q55.043 1017.69 57.4967 1017.11 Q59.9504 1016.53 61.9874 1016.53 Q67.3578 1016.53 70.5522 1019.22 Q73.7466 1021.9 73.7466 1026.39 Q73.7466 1028.52 72.9365 1030.44 Q72.1494 1032.34 70.0429 1034.93 Q69.4642 1035.61 66.3624 1038.82 Q63.2606 1042.02 57.6125 1047.78 Z\" fill=\"#000000\" fill-rule=\"evenodd\" fill-opacity=\"1\" /><path clip-path=\"url(#clip060)\" d=\"M83.7466 1045.84 L88.6308 1045.84 L88.6308 1051.72 L83.7466 1051.72 L83.7466 1045.84 Z\" fill=\"#000000\" fill-rule=\"evenodd\" fill-opacity=\"1\" /><path clip-path=\"url(#clip060)\" d=\"M109.395 1032.57 Q106.246 1032.57 104.395 1034.73 Q102.566 1036.88 102.566 1040.63 Q102.566 1044.36 104.395 1046.53 Q106.246 1048.68 109.395 1048.68 Q112.543 1048.68 114.371 1046.53 Q116.223 1044.36 116.223 1040.63 Q116.223 1036.88 114.371 1034.73 Q112.543 1032.57 109.395 1032.57 M118.677 1017.92 L118.677 1022.18 Q116.918 1021.35 115.112 1020.91 Q113.33 1020.47 111.571 1020.47 Q106.941 1020.47 104.487 1023.59 Q102.057 1026.72 101.709 1033.04 Q103.075 1031.02 105.135 1029.96 Q107.196 1028.87 109.672 1028.87 Q114.881 1028.87 117.89 1032.04 Q120.922 1035.19 120.922 1040.63 Q120.922 1045.95 117.774 1049.17 Q114.626 1052.39 109.395 1052.39 Q103.399 1052.39 100.228 1047.81 Q97.0567 1043.2 97.0567 1034.47 Q97.0567 1026.28 100.946 1021.42 Q104.834 1016.53 111.385 1016.53 Q113.145 1016.53 114.927 1016.88 Q116.733 1017.23 118.677 1017.92 Z\" fill=\"#000000\" fill-rule=\"evenodd\" fill-opacity=\"1\" /><path clip-path=\"url(#clip060)\" d=\"M133.006 1047.78 L149.325 1047.78 L149.325 1051.72 L127.381 1051.72 L127.381 1047.78 Q130.043 1045.03 134.626 1040.4 Q139.232 1035.75 140.413 1034.4 Q142.658 1031.88 143.538 1030.14 Q144.441 1028.38 144.441 1026.69 Q144.441 1023.94 142.496 1022.2 Q140.575 1020.47 137.473 1020.47 Q135.274 1020.47 132.82 1021.23 Q130.39 1022 127.612 1023.55 L127.612 1018.82 Q130.436 1017.69 132.89 1017.11 Q135.344 1016.53 137.381 1016.53 Q142.751 1016.53 145.945 1019.22 Q149.14 1021.9 149.14 1026.39 Q149.14 1028.52 148.33 1030.44 Q147.543 1032.34 145.436 1034.93 Q144.857 1035.61 141.756 1038.82 Q138.654 1042.02 133.006 1047.78 Z\" fill=\"#000000\" fill-rule=\"evenodd\" fill-opacity=\"1\" /><path clip-path=\"url(#clip060)\" d=\"M159.186 1017.16 L177.542 1017.16 L177.542 1021.09 L163.468 1021.09 L163.468 1029.56 Q164.487 1029.22 165.505 1029.06 Q166.524 1028.87 167.542 1028.87 Q173.329 1028.87 176.709 1032.04 Q180.089 1035.21 180.089 1040.63 Q180.089 1046.21 176.616 1049.31 Q173.144 1052.39 166.825 1052.39 Q164.649 1052.39 162.38 1052.02 Q160.135 1051.65 157.728 1050.91 L157.728 1046.21 Q159.811 1047.34 162.033 1047.9 Q164.255 1048.45 166.732 1048.45 Q170.737 1048.45 173.075 1046.35 Q175.413 1044.24 175.413 1040.63 Q175.413 1037.02 173.075 1034.91 Q170.737 1032.81 166.732 1032.81 Q164.857 1032.81 162.982 1033.22 Q161.13 1033.64 159.186 1034.52 L159.186 1017.16 Z\" fill=\"#000000\" fill-rule=\"evenodd\" fill-opacity=\"1\" /><path clip-path=\"url(#clip060)\" d=\"M56.6171 752.772 L72.9365 752.772 L72.9365 756.707 L50.9921 756.707 L50.9921 752.772 Q53.6541 750.017 58.2375 745.388 Q62.8439 740.735 64.0245 739.392 Q66.2698 736.869 67.1494 735.133 Q68.0522 733.374 68.0522 731.684 Q68.0522 728.929 66.1078 727.193 Q64.1865 725.457 61.0847 725.457 Q58.8856 725.457 56.4319 726.221 Q54.0014 726.985 51.2236 728.536 L51.2236 723.814 Q54.0477 722.679 56.5014 722.101 Q58.955 721.522 60.9921 721.522 Q66.3624 721.522 69.5568 724.207 Q72.7513 726.892 72.7513 731.383 Q72.7513 733.513 71.9411 735.434 Q71.1541 737.332 69.0476 739.925 Q68.4689 740.596 65.367 743.813 Q62.2652 747.008 56.6171 752.772 Z\" fill=\"#000000\" fill-rule=\"evenodd\" fill-opacity=\"1\" /><path clip-path=\"url(#clip060)\" d=\"M82.7512 750.827 L87.6354 750.827 L87.6354 756.707 L82.7512 756.707 L82.7512 750.827 Z\" fill=\"#000000\" fill-rule=\"evenodd\" fill-opacity=\"1\" /><path clip-path=\"url(#clip060)\" d=\"M108.399 737.563 Q105.251 737.563 103.399 739.716 Q101.571 741.869 101.571 745.619 Q101.571 749.346 103.399 751.522 Q105.251 753.674 108.399 753.674 Q111.547 753.674 113.376 751.522 Q115.228 749.346 115.228 745.619 Q115.228 741.869 113.376 739.716 Q111.547 737.563 108.399 737.563 M117.682 722.911 L117.682 727.17 Q115.922 726.337 114.117 725.897 Q112.334 725.457 110.575 725.457 Q105.946 725.457 103.492 728.582 Q101.061 731.707 100.714 738.026 Q102.08 736.013 104.14 734.948 Q106.2 733.86 108.677 733.86 Q113.885 733.86 116.895 737.031 Q119.927 740.179 119.927 745.619 Q119.927 750.943 116.779 754.161 Q113.631 757.378 108.399 757.378 Q102.404 757.378 99.2326 752.795 Q96.0613 748.188 96.0613 739.462 Q96.0613 731.267 99.9502 726.406 Q103.839 721.522 110.39 721.522 Q112.149 721.522 113.932 721.869 Q115.737 722.216 117.682 722.911 Z\" fill=\"#000000\" fill-rule=\"evenodd\" fill-opacity=\"1\" /><path clip-path=\"url(#clip060)\" d=\"M128.029 722.147 L146.385 722.147 L146.385 726.082 L132.311 726.082 L132.311 734.554 Q133.33 734.207 134.348 734.045 Q135.367 733.86 136.385 733.86 Q142.172 733.86 145.552 737.031 Q148.931 740.202 148.931 745.619 Q148.931 751.198 145.459 754.299 Q141.987 757.378 135.668 757.378 Q133.492 757.378 131.223 757.008 Q128.978 756.637 126.57 755.897 L126.57 751.198 Q128.654 752.332 130.876 752.887 Q133.098 753.443 135.575 753.443 Q139.58 753.443 141.918 751.337 Q144.256 749.23 144.256 745.619 Q144.256 742.008 141.918 739.901 Q139.58 737.795 135.575 737.795 Q133.7 737.795 131.825 738.212 Q129.973 738.628 128.029 739.508 L128.029 722.147 Z\" fill=\"#000000\" fill-rule=\"evenodd\" fill-opacity=\"1\" /><path clip-path=\"url(#clip060)\" d=\"M168.144 725.226 Q164.533 725.226 162.704 728.79 Q160.899 732.332 160.899 739.462 Q160.899 746.568 162.704 750.133 Q164.533 753.674 168.144 753.674 Q171.779 753.674 173.584 750.133 Q175.413 746.568 175.413 739.462 Q175.413 732.332 173.584 728.79 Q171.779 725.226 168.144 725.226 M168.144 721.522 Q173.954 721.522 177.01 726.128 Q180.089 730.712 180.089 739.462 Q180.089 748.188 177.01 752.795 Q173.954 757.378 168.144 757.378 Q162.334 757.378 159.255 752.795 Q156.2 748.188 156.2 739.462 Q156.2 730.712 159.255 726.128 Q162.334 721.522 168.144 721.522 Z\" fill=\"#000000\" fill-rule=\"evenodd\" fill-opacity=\"1\" /><path clip-path=\"url(#clip060)\" d=\"M57.6125 457.761 L73.9318 457.761 L73.9318 461.697 L51.9875 461.697 L51.9875 457.761 Q54.6495 455.007 59.2328 450.377 Q63.8393 445.724 65.0198 444.382 Q67.2652 441.859 68.1448 440.123 Q69.0476 438.363 69.0476 436.674 Q69.0476 433.919 67.1032 432.183 Q65.1819 430.447 62.08 430.447 Q59.881 430.447 57.4273 431.211 Q54.9967 431.974 52.219 433.525 L52.219 428.803 Q55.043 427.669 57.4967 427.09 Q59.9504 426.512 61.9874 426.512 Q67.3578 426.512 70.5522 429.197 Q73.7466 431.882 73.7466 436.373 Q73.7466 438.502 72.9365 440.423 Q72.1494 442.322 70.0429 444.914 Q69.4642 445.585 66.3624 448.803 Q63.2606 451.997 57.6125 457.761 Z\" fill=\"#000000\" fill-rule=\"evenodd\" fill-opacity=\"1\" /><path clip-path=\"url(#clip060)\" d=\"M83.7466 455.817 L88.6308 455.817 L88.6308 461.697 L83.7466 461.697 L83.7466 455.817 Z\" fill=\"#000000\" fill-rule=\"evenodd\" fill-opacity=\"1\" /><path clip-path=\"url(#clip060)\" d=\"M109.395 442.553 Q106.246 442.553 104.395 444.706 Q102.566 446.859 102.566 450.609 Q102.566 454.335 104.395 456.511 Q106.246 458.664 109.395 458.664 Q112.543 458.664 114.371 456.511 Q116.223 454.335 116.223 450.609 Q116.223 446.859 114.371 444.706 Q112.543 442.553 109.395 442.553 M118.677 427.9 L118.677 432.16 Q116.918 431.326 115.112 430.887 Q113.33 430.447 111.571 430.447 Q106.941 430.447 104.487 433.572 Q102.057 436.697 101.709 443.016 Q103.075 441.002 105.135 439.937 Q107.196 438.849 109.672 438.849 Q114.881 438.849 117.89 442.021 Q120.922 445.169 120.922 450.609 Q120.922 455.933 117.774 459.15 Q114.626 462.368 109.395 462.368 Q103.399 462.368 100.228 457.785 Q97.0567 453.178 97.0567 444.451 Q97.0567 436.257 100.946 431.396 Q104.834 426.512 111.385 426.512 Q113.145 426.512 114.927 426.859 Q116.733 427.206 118.677 427.9 Z\" fill=\"#000000\" fill-rule=\"evenodd\" fill-opacity=\"1\" /><path clip-path=\"url(#clip060)\" d=\"M127.797 427.137 L150.019 427.137 L150.019 429.127 L137.473 461.697 L132.589 461.697 L144.394 431.072 L127.797 431.072 L127.797 427.137 Z\" fill=\"#000000\" fill-rule=\"evenodd\" fill-opacity=\"1\" /><path clip-path=\"url(#clip060)\" d=\"M159.186 427.137 L177.542 427.137 L177.542 431.072 L163.468 431.072 L163.468 439.544 Q164.487 439.197 165.505 439.035 Q166.524 438.849 167.542 438.849 Q173.329 438.849 176.709 442.021 Q180.089 445.192 180.089 450.609 Q180.089 456.187 176.616 459.289 Q173.144 462.368 166.825 462.368 Q164.649 462.368 162.38 461.997 Q160.135 461.627 157.728 460.886 L157.728 456.187 Q159.811 457.322 162.033 457.877 Q164.255 458.433 166.732 458.433 Q170.737 458.433 173.075 456.326 Q175.413 454.22 175.413 450.609 Q175.413 446.998 173.075 444.891 Q170.737 442.785 166.732 442.785 Q164.857 442.785 162.982 443.201 Q161.13 443.618 159.186 444.498 L159.186 427.137 Z\" fill=\"#000000\" fill-rule=\"evenodd\" fill-opacity=\"1\" /><path clip-path=\"url(#clip060)\" d=\"M56.6171 162.751 L72.9365 162.751 L72.9365 166.686 L50.9921 166.686 L50.9921 162.751 Q53.6541 159.996 58.2375 155.367 Q62.8439 150.714 64.0245 149.371 Q66.2698 146.848 67.1494 145.112 Q68.0522 143.353 68.0522 141.663 Q68.0522 138.909 66.1078 137.172 Q64.1865 135.436 61.0847 135.436 Q58.8856 135.436 56.4319 136.2 Q54.0014 136.964 51.2236 138.515 L51.2236 133.793 Q54.0477 132.659 56.5014 132.08 Q58.955 131.501 60.9921 131.501 Q66.3624 131.501 69.5568 134.186 Q72.7513 136.871 72.7513 141.362 Q72.7513 143.492 71.9411 145.413 Q71.1541 147.311 69.0476 149.904 Q68.4689 150.575 65.367 153.793 Q62.2652 156.987 56.6171 162.751 Z\" fill=\"#000000\" fill-rule=\"evenodd\" fill-opacity=\"1\" /><path clip-path=\"url(#clip060)\" d=\"M82.7512 160.807 L87.6354 160.807 L87.6354 166.686 L82.7512 166.686 L82.7512 160.807 Z\" fill=\"#000000\" fill-rule=\"evenodd\" fill-opacity=\"1\" /><path clip-path=\"url(#clip060)\" d=\"M96.64 132.126 L118.862 132.126 L118.862 134.117 L106.316 166.686 L101.432 166.686 L113.237 136.061 L96.64 136.061 L96.64 132.126 Z\" fill=\"#000000\" fill-rule=\"evenodd\" fill-opacity=\"1\" /><path clip-path=\"url(#clip060)\" d=\"M137.982 135.205 Q134.371 135.205 132.543 138.77 Q130.737 142.311 130.737 149.441 Q130.737 156.547 132.543 160.112 Q134.371 163.654 137.982 163.654 Q141.617 163.654 143.422 160.112 Q145.251 156.547 145.251 149.441 Q145.251 142.311 143.422 138.77 Q141.617 135.205 137.982 135.205 M137.982 131.501 Q143.793 131.501 146.848 136.108 Q149.927 140.691 149.927 149.441 Q149.927 158.168 146.848 162.774 Q143.793 167.357 137.982 167.357 Q132.172 167.357 129.094 162.774 Q126.038 158.168 126.038 149.441 Q126.038 140.691 129.094 136.108 Q132.172 131.501 137.982 131.501 Z\" fill=\"#000000\" fill-rule=\"evenodd\" fill-opacity=\"1\" /><path clip-path=\"url(#clip060)\" d=\"M168.144 135.205 Q164.533 135.205 162.704 138.77 Q160.899 142.311 160.899 149.441 Q160.899 156.547 162.704 160.112 Q164.533 163.654 168.144 163.654 Q171.779 163.654 173.584 160.112 Q175.413 156.547 175.413 149.441 Q175.413 142.311 173.584 138.77 Q171.779 135.205 168.144 135.205 M168.144 131.501 Q173.954 131.501 177.01 136.108 Q180.089 140.691 180.089 149.441 Q180.089 158.168 177.01 162.774 Q173.954 167.357 168.144 167.357 Q162.334 167.357 159.255 162.774 Q156.2 158.168 156.2 149.441 Q156.2 140.691 159.255 136.108 Q162.334 131.501 168.144 131.501 Z\" fill=\"#000000\" fill-rule=\"evenodd\" fill-opacity=\"1\" /><polyline clip-path=\"url(#clip062)\" style=\"stroke:#009af9; stroke-linecap:round; stroke-linejoin:round; stroke-width:4; stroke-opacity:1; fill:none\" points=\"\n",
       "  276.56,87.9763 289.684,89.0145 411.029,99.3337 483.953,106.233 545.609,112.537 612.584,119.939 674.33,127.338 740.528,135.973 817.224,147.034 885.383,157.988 \n",
       "  945.152,168.634 1010.32,181.57 1075.87,196.292 1112.11,205.319 1148.34,215.099 1182.82,225.211 1217.3,236.242 1253.15,248.863 1289,262.897 1319.18,276.04 \n",
       "  1349.36,290.671 1367.78,300.48 1386.21,311.075 1404.63,322.586 1423.05,335.177 1439.93,347.838 1456.8,361.794 1473.68,377.329 1490.56,394.83 1498.35,403.718 \n",
       "  1506.14,413.209 1513.93,423.388 1521.73,434.36 1529.52,446.256 1537.31,459.241 1545.11,473.53 1552.9,489.409 1556.85,498.177 1560.79,507.515 1564.74,517.503 \n",
       "  1568.69,528.234 1572.64,539.829 1576.58,552.435 1580.53,566.244 1584.48,581.508 1588.42,598.566 1592.37,617.892 1594.35,628.61 1596.32,640.179 1598.29,652.743 \n",
       "  1600.27,666.49 1602.24,681.664 1604.21,698.596 1606.19,717.743 1608.16,739.771 1609.15,752.164 1610.13,765.701 1611.12,780.613 1612.11,797.211 1613.09,815.925 \n",
       "  1614.08,837.372 1614.57,849.395 1615.07,862.488 1615.56,876.862 1616.05,892.792 1616.61,912.968 1617.16,936.353 1617.71,964.165 1618.27,998.478 1618.82,1043.28 \n",
       "  1619.37,1107.97 1619.92,1225.95 1620.48,1445.72 1621.03,1171.03 1621.58,1080.7 1622.14,1025.07 1622.69,984.766 1623.24,953.136 1623.8,927.1 1624.35,904.973 \n",
       "  1624.9,885.732 1625.45,868.71 1626.01,853.447 1626.56,839.614 1627.11,826.964 1628.22,804.51 1629.33,785.018 1630.43,767.796 1631.54,752.37 1632.64,738.399 \n",
       "  1633.75,725.631 1635.96,702.985 1638.17,683.339 1640.38,665.99 1642.6,650.455 1644.81,636.389 1647.02,623.536 1649.23,611.704 1651.44,600.741 1655.87,580.966 \n",
       "  1660.29,563.501 1664.71,547.86 1669.14,533.694 1673.56,520.747 1677.98,508.823 1682.41,497.773 1686.83,487.474 1694.85,470.423 1702.87,455.092 1710.88,441.16 \n",
       "  1718.9,428.391 1726.92,416.601 1734.93,405.649 1742.95,395.421 1750.97,385.826 1760.15,375.519 1769.33,365.851 1778.5,356.743 1787.68,348.134 1806.04,332.203 \n",
       "  1824.4,317.722 1841.4,305.387 1858.39,293.928 1875.39,283.222 1892.39,273.173 1925.91,254.988 1959.42,238.588 1991.96,224.053 2024.5,210.654 2057.86,197.913 \n",
       "  2091.22,186.032 2127.77,173.863 2164.32,162.462 2217.41,147.066 2270.5,132.841 2281.39,130.05 2292.28,127.299 \n",
       "  \"/>\n",
       "<path clip-path=\"url(#clip060)\" d=\"\n",
       "M2051.36 1438.47 L2281.53 1438.47 L2281.53 1334.79 L2051.36 1334.79  Z\n",
       "  \" fill=\"#ffffff\" fill-rule=\"evenodd\" fill-opacity=\"1\"/>\n",
       "<polyline clip-path=\"url(#clip060)\" style=\"stroke:#000000; stroke-linecap:round; stroke-linejoin:round; stroke-width:4; stroke-opacity:1; fill:none\" points=\"\n",
       "  2051.36,1438.47 2281.53,1438.47 2281.53,1334.79 2051.36,1334.79 2051.36,1438.47 \n",
       "  \"/>\n",
       "<polyline clip-path=\"url(#clip060)\" style=\"stroke:#009af9; stroke-linecap:round; stroke-linejoin:round; stroke-width:4; stroke-opacity:1; fill:none\" points=\"\n",
       "  2075.1,1386.63 2217.55,1386.63 \n",
       "  \"/>\n",
       "<path clip-path=\"url(#clip060)\" d=\"M2257.79 1367.9 L2257.79 1371.44 L2253.72 1371.44 Q2251.43 1371.44 2250.52 1372.36 Q2249.64 1373.29 2249.64 1375.7 L2249.64 1377.99 L2256.66 1377.99 L2256.66 1381.3 L2249.64 1381.3 L2249.64 1403.91 L2245.36 1403.91 L2245.36 1381.3 L2241.29 1381.3 L2241.29 1377.99 L2245.36 1377.99 L2245.36 1376.18 Q2245.36 1371.85 2247.38 1369.89 Q2249.39 1367.9 2253.77 1367.9 L2257.79 1367.9 Z\" fill=\"#000000\" fill-rule=\"evenodd\" fill-opacity=\"1\" /></svg>\n"
      ]
     },
     "execution_count": 12,
     "metadata": {},
     "output_type": "execute_result"
    }
   ],
   "source": [
    "plot(f, 1.332, 1.334, label = \"f\")"
   ]
  },
  {
   "cell_type": "code",
   "execution_count": 7,
   "metadata": {},
   "outputs": [
    {
     "name": "stdout",
     "output_type": "stream",
     "text": [
      "f(x) = 2.327232110413813\n"
     ]
    },
    {
     "data": {
      "text/plain": [
       "2.327232110413813"
      ]
     },
     "execution_count": 7,
     "metadata": {},
     "output_type": "execute_result"
    }
   ],
   "source": [
    "x = 4/3\n",
    "@show f(x)"
   ]
  },
  {
   "cell_type": "code",
   "execution_count": 15,
   "metadata": {},
   "outputs": [
    {
     "data": {
      "text/plain": [
       "1.3333333333333332593184650249895639717578887939453125"
      ]
     },
     "execution_count": 15,
     "metadata": {},
     "output_type": "execute_result"
    }
   ],
   "source": [
    "BigFloat(4/3)"
   ]
  },
  {
   "cell_type": "code",
   "execution_count": 17,
   "metadata": {},
   "outputs": [
    {
     "data": {
      "text/plain": [
       "(2.344560789927811, 2.327232110413813, 2.335896450170813)"
      ]
     },
     "execution_count": 17,
     "metadata": {},
     "output_type": "execute_result"
    }
   ],
   "source": [
    "f(prevfloat(x)), f(x), f(nextfloat(x))"
   ]
  },
  {
   "cell_type": "code",
   "execution_count": 14,
   "metadata": {},
   "outputs": [
    {
     "data": {
      "text/plain": [
       "(-0.4332169878499659, -0.45054566736396445, -0.4418813276069652)"
      ]
     },
     "execution_count": 14,
     "metadata": {},
     "output_type": "execute_result"
    }
   ],
   "source": [
    "1/80 .* (log(abs(3*(1 - prevfloat(x)) + 1)), log(abs(3*(1 - x) + 1)), log(abs(3*(1 - nextfloat(x)) + 1)))"
   ]
  },
  {
   "cell_type": "markdown",
   "metadata": {},
   "source": [
    "So we can't evaluate $f$ at exactly 4/3. There are no floats where $f$ is negative, so numerically it appears that there are no roots.\n",
    "\n",
    "What happens if we use interval arithmetic? Our operations on the intervals should detect the singularity. Can we find the roots?"
   ]
  },
  {
   "cell_type": "code",
   "execution_count": 18,
   "metadata": {},
   "outputs": [
    {
     "data": {
      "text/plain": [
       "[1.33333, 1.33334]"
      ]
     },
     "execution_count": 18,
     "metadata": {},
     "output_type": "execute_result"
    }
   ],
   "source": [
    "x = @interval 4/3"
   ]
  },
  {
   "cell_type": "code",
   "execution_count": 19,
   "metadata": {},
   "outputs": [
    {
     "data": {
      "text/plain": [
       "true"
      ]
     },
     "execution_count": 19,
     "metadata": {},
     "output_type": "execute_result"
    }
   ],
   "source": [
    "4/3 in x"
   ]
  },
  {
   "cell_type": "code",
   "execution_count": 20,
   "metadata": {},
   "outputs": [
    {
     "data": {
      "text/plain": [
       "[-∞, 2.3359]"
      ]
     },
     "execution_count": 20,
     "metadata": {},
     "output_type": "execute_result"
    }
   ],
   "source": [
    "f(x)"
   ]
  },
  {
   "cell_type": "markdown",
   "metadata": {},
   "source": [
    "Where did this infinity come from? Evaluate the function bit by bit from the inside out."
   ]
  },
  {
   "cell_type": "code",
   "execution_count": 21,
   "metadata": {},
   "outputs": [
    {
     "data": {
      "text/plain": [
       "[-1.00001, -0.999999]"
      ]
     },
     "execution_count": 21,
     "metadata": {},
     "output_type": "execute_result"
    }
   ],
   "source": [
    "3*(1-x)"
   ]
  },
  {
   "cell_type": "code",
   "execution_count": 22,
   "metadata": {},
   "outputs": [
    {
     "data": {
      "text/plain": [
       "[0, 4.4409e-16]"
      ]
     },
     "execution_count": 22,
     "metadata": {},
     "output_type": "execute_result"
    }
   ],
   "source": [
    "abs(3*(1 - x) + 1)"
   ]
  },
  {
   "cell_type": "code",
   "execution_count": 23,
   "metadata": {},
   "outputs": [
    {
     "data": {
      "text/plain": [
       "[-∞, -0.441881]"
      ]
     },
     "execution_count": 23,
     "metadata": {},
     "output_type": "execute_result"
    }
   ],
   "source": [
    "log(abs(3*(1 - x) + 1)) / 80"
   ]
  },
  {
   "cell_type": "markdown",
   "metadata": {},
   "source": [
    "These functions work on sets of functions too."
   ]
  },
  {
   "cell_type": "code",
   "execution_count": 72,
   "metadata": {},
   "outputs": [
    {
     "data": {
      "text/plain": [
       "2-element Vector{Root{IntervalBox{2, Float64}}}:\n",
       " Root([-1.19115e-21, 1.0588e-22] × [-1.5708, -1.57079], :unique)\n",
       " Root([-1.19115e-21, 1.0588e-22] × [1.57079, 1.5708], :unique)"
      ]
     },
     "execution_count": 72,
     "metadata": {},
     "output_type": "execute_result"
    }
   ],
   "source": [
    "using StaticArrays\n",
    "g( (x, y) ) = SVector(sin(x), cos(y)) # required for performance reasons, regular arrays are not supported\n",
    "X = IntervalBox(-3..3, 2)\n",
    "rts = roots(g, X)"
   ]
  },
  {
   "cell_type": "code",
   "execution_count": null,
   "metadata": {},
   "outputs": [],
   "source": []
  }
 ],
 "metadata": {
  "kernelspec": {
   "display_name": "Julia 1.8.4",
   "language": "julia",
   "name": "julia-1.8"
  },
  "language_info": {
   "file_extension": ".jl",
   "mimetype": "application/julia",
   "name": "julia",
   "version": "1.8.5"
  }
 },
 "nbformat": 4,
 "nbformat_minor": 4
}
