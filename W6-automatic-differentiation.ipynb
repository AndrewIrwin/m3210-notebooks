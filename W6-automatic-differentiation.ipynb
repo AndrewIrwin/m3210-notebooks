{
 "cells": [
  {
   "cell_type": "markdown",
   "id": "e0399dcc-9923-41c3-8907-0a6f4b7b86a4",
   "metadata": {},
   "source": [
    "# Differentiation"
   ]
  },
  {
   "cell_type": "markdown",
   "id": "c243d6a1-4920-46ed-88cf-484fc5aa86b0",
   "metadata": {},
   "source": [
    "Compute derivatives, first by finite differences, then by automatic differentiation.\n",
    "\n",
    "These formulas are based on the definition of the derivative:\n",
    "\n",
    "$$f'(x) = \\lim_{h\\to 0}\\frac{f(x+h)-f(x)}{h}.$$"
   ]
  },
  {
   "cell_type": "code",
   "execution_count": 1,
   "id": "b9652c16-5216-4e9b-93c3-5cca0b59aa06",
   "metadata": {},
   "outputs": [
    {
     "data": {
      "text/plain": [
       "centred_diff (generic function with 1 method)"
      ]
     },
     "execution_count": 1,
     "metadata": {},
     "output_type": "execute_result"
    }
   ],
   "source": [
    "forward_diff(f, x0, h) = (f(x0 + h) - f(x0) )/h\n",
    "backward_diff(f, x0, h) = (f(x0) - f(x0-h))/h\n",
    "centred_diff(f, x0, h) = (f(x0+h)-f(x0-h))/(2*h)"
   ]
  },
  {
   "cell_type": "code",
   "execution_count": 2,
   "id": "f551500d-280d-4a56-ab27-e0cb6a602f0d",
   "metadata": {},
   "outputs": [
    {
     "name": "stdout",
     "output_type": "stream",
     "text": [
      "forward_diff(sin, 0, 0.01) = 0.9999833334166665\n",
      "backward_diff(sin, 0, 0.01) = 0.9999833334166665\n",
      "centred_diff(sin, 0, 0.01) = 0.9999833334166665\n"
     ]
    }
   ],
   "source": [
    "@show forward_diff(sin, 0, 0.01)\n",
    "@show backward_diff(sin, 0, 0.01)\n",
    "@show centred_diff(sin, 0, 0.01);"
   ]
  },
  {
   "cell_type": "code",
   "execution_count": 3,
   "id": "2f9d82c8-1d61-4dcf-8b38-e7a00d45e31d",
   "metadata": {},
   "outputs": [
    {
     "name": "stdout",
     "output_type": "stream",
     "text": [
      "forward_diff(exp, 2, 0.01) = 7.426124838854253\n",
      "backward_diff(exp, 2, 0.01) = 7.352233662108354\n",
      "centred_diff(exp, 2, 0.01) = 7.389179250481304\n"
     ]
    }
   ],
   "source": [
    "@show forward_diff(exp, 2, 0.01)\n",
    "@show backward_diff(exp, 2, 0.01)\n",
    "@show centred_diff(exp, 2, 0.01);"
   ]
  },
  {
   "cell_type": "markdown",
   "id": "12101b45-ce2e-4d22-88a6-2c0ba5971994",
   "metadata": {},
   "source": [
    "## Automatic differentiation\n",
    "\n",
    "Create an ordered pair of a number $x$ and the derivative of a function evaluated at $x$. Use algebraic differentiation rules to define elementary functions on these ordered pairs (\"dual numbers\").\n",
    "\n",
    "See:\n",
    "\n",
    "* https://www.juliabloggers.com/automatic-differentiation-with-dual-numbers/\n",
    "* [Video](https://www.youtube.com/watch?v=vAp6nUMrKYg)\n",
    "* [ForwardDiff documentation](https://juliadiff.org/ForwardDiff.jl/v0.8/dev/how_it_works.html)"
   ]
  },
  {
   "cell_type": "code",
   "execution_count": 21,
   "id": "f78c93b4-1515-46f6-a0ae-d1d5628ce2d1",
   "metadata": {},
   "outputs": [],
   "source": [
    "struct DN   # \"dual number\"\n",
    "    val\n",
    "    deriv\n",
    "end"
   ]
  },
  {
   "cell_type": "markdown",
   "id": "73bfd135-5e88-4917-8f08-e59195c5a6ed",
   "metadata": {},
   "source": [
    "Redefine plus, minus, product, quotient, exponentiation, etc."
   ]
  },
  {
   "cell_type": "code",
   "execution_count": 22,
   "id": "faf559d1-1e5d-4be1-a2b5-978369119c80",
   "metadata": {},
   "outputs": [],
   "source": [
    "Base.:+(a::DN, b::DN) = DN(a.val + b.val, a.deriv .+ b.deriv)\n",
    "Base.:*(a::DN, b::DN) = DN(a.val * b.val, b.val .* a.deriv .+ a.val .* b.deriv)\n",
    "Base.:^(a::DN, b) = DN(a.val^b, b .* a.val .^ (b .- 1) .* a.deriv);"
   ]
  },
  {
   "cell_type": "markdown",
   "id": "ee6cffbb-1c37-46bf-a7ba-48ee2c877556",
   "metadata": {},
   "source": [
    "Compute the derivative of a function of a, b, and c with respect to a. Make the derivative of a = 1 and the derivatives of b and c 0."
   ]
  },
  {
   "cell_type": "code",
   "execution_count": 23,
   "id": "0e4572ab-e68e-4cc6-a5d4-99355af4af06",
   "metadata": {},
   "outputs": [],
   "source": [
    "a = DN(1.0, 0.0) # da/da = 1\n",
    "b = DN(0.5, 1.0) # db/da = 0\n",
    "c = DN(2.0, 0.0);# dc/da = 0"
   ]
  },
  {
   "cell_type": "markdown",
   "id": "b4d54469-c823-4db5-a642-c41e974f2c73",
   "metadata": {},
   "source": [
    "Evaluate $f(a, b, c) = c(a+2b)^2$."
   ]
  },
  {
   "cell_type": "code",
   "execution_count": 24,
   "id": "0f71a2b2-0984-46b7-8459-81d2ef5b1e1c",
   "metadata": {},
   "outputs": [
    {
     "data": {
      "text/plain": [
       "DN(8.0, 16.0)"
      ]
     },
     "execution_count": 24,
     "metadata": {},
     "output_type": "execute_result"
    }
   ],
   "source": [
    "d = c*(a + DN(2.0, 0.0)*b)^2  # c(a+b)*2*1 "
   ]
  },
  {
   "cell_type": "markdown",
   "id": "47a468b4-6847-4a57-870a-3b57913f22b7",
   "metadata": {},
   "source": [
    "Now get derivatives with respect to each variable."
   ]
  },
  {
   "cell_type": "code",
   "execution_count": 25,
   "id": "fa6cf0f6-3f43-469a-8ea2-503c622c0926",
   "metadata": {},
   "outputs": [
    {
     "data": {
      "text/plain": [
       "DN(8.0, [8.0, 16.0, 4.0])"
      ]
     },
     "execution_count": 25,
     "metadata": {},
     "output_type": "execute_result"
    }
   ],
   "source": [
    "a = DN(1.0, [1.0, 0.0, 0.0])\n",
    "b = DN(0.5, [0.0, 1.0, 0.0])\n",
    "c = DN(2.0, [0.0, 0.0, 1.0])\n",
    "d = c*(a + DN(2.0, 0.0)*b)^2  "
   ]
  },
  {
   "cell_type": "markdown",
   "id": "a56252f4-282f-4063-be57-8e53d8bc4a2e",
   "metadata": {},
   "source": [
    "Check. Compute d(a,b,c) and d/da, d/db, d/dc."
   ]
  },
  {
   "cell_type": "code",
   "execution_count": 26,
   "id": "158a2d66-3eb1-46a9-af46-4cfa1ede4c98",
   "metadata": {},
   "outputs": [
    {
     "name": "stdout",
     "output_type": "stream",
     "text": [
      "df(1, 0.5, 2) = 8.0\n",
      "dda(1, 0.5, 2) = 8.0\n",
      "ddb(1, 0.5, 2) = 16.0\n",
      "ddc(1, 0.5, 2) = 4.0\n"
     ]
    }
   ],
   "source": [
    "df(a,b,c) = c*(a+2*b)^2\n",
    "dda(a,b,c) = c*(a+2*b)*2\n",
    "ddb(a,b,c) = c*(a+2*b)*2*2\n",
    "ddc(a,b,c) = (a+2*b)^2\n",
    "@show df(1, 0.5, 2)\n",
    "@show dda(1, 0.5, 2)\n",
    "@show ddb(1, 0.5, 2)\n",
    "@show ddc(1, 0.5, 2);"
   ]
  },
  {
   "cell_type": "markdown",
   "id": "56eb4a2a-35e2-496e-b41d-7df038bbaf5d",
   "metadata": {},
   "source": [
    "Define sin, cos, exp, log, abs, etc. in the same way.\n",
    "\n",
    "Until that's done, can't compute sin(a), a^a, log(a), exp(a), etc."
   ]
  },
  {
   "cell_type": "markdown",
   "id": "f80e65f2-f857-46bf-9707-36776642280d",
   "metadata": {},
   "source": [
    "For a complete implementation of this idea, use the ForwardDiff library."
   ]
  },
  {
   "cell_type": "code",
   "execution_count": 1,
   "id": "e1887be9-f960-48ee-9913-30279c1b5ed5",
   "metadata": {},
   "outputs": [],
   "source": [
    "using ForwardDiff"
   ]
  },
  {
   "cell_type": "code",
   "execution_count": 20,
   "id": "94a8ce45-6371-45b2-b9ef-47116844c207",
   "metadata": {},
   "outputs": [
    {
     "data": {
      "text/plain": [
       "8.0"
      ]
     },
     "execution_count": 20,
     "metadata": {},
     "output_type": "execute_result"
    }
   ],
   "source": [
    "ForwardDiff.derivative(a -> 2.0*(a + 2*0.5)^2, 1.0)"
   ]
  },
  {
   "cell_type": "code",
   "execution_count": 12,
   "id": "a17caa7b-f909-4d37-b02c-f1f8756575db",
   "metadata": {},
   "outputs": [
    {
     "data": {
      "text/plain": [
       "-20.752991086118303"
      ]
     },
     "execution_count": 12,
     "metadata": {},
     "output_type": "execute_result"
    }
   ],
   "source": [
    "f(x) = sin(exp(x) + 4*log(x))\n",
    "ForwardDiff.derivative(f, pi)"
   ]
  },
  {
   "cell_type": "markdown",
   "id": "23a97603-39b4-4c71-b6c3-2f3373689a66",
   "metadata": {},
   "source": [
    "Check: $\\frac{d}{dx} \\sin(e^x+4\\log x) = \\cos(e^x + 4\\log x)*(e^x+4/x)$."
   ]
  },
  {
   "cell_type": "code",
   "execution_count": 13,
   "id": "2826f86e-f977-4c9e-b243-c490f9c22c0e",
   "metadata": {},
   "outputs": [
    {
     "name": "stdout",
     "output_type": "stream",
     "text": [
      "df(pi) = -20.752991086118303\n",
      "df(pi) - ForwardDiff.derivative(f, pi) = 0.0\n"
     ]
    }
   ],
   "source": [
    "df(x) = cos(exp(x)+4*log(x))*(exp(x)+4/x)\n",
    "@show df(pi)\n",
    "@show df(pi) - ForwardDiff.derivative(f, pi);"
   ]
  },
  {
   "cell_type": "code",
   "execution_count": 14,
   "id": "235592a3-5cf9-434b-bdca-e2b2e4241203",
   "metadata": {},
   "outputs": [
    {
     "name": "stdout",
     "output_type": "stream",
     "text": [
      "centred_diff(f, pi, 1.0e-5) = -20.75299089493443\n",
      "centred_diff(f, pi, 1.0e-5) - ForwardDiff.derivative(f, pi) = 1.9118387228900247e-7\n"
     ]
    }
   ],
   "source": [
    "@show centred_diff(f, pi, 1e-5)\n",
    "@show centred_diff(f, pi, 1e-5) - ForwardDiff.derivative(f, pi);"
   ]
  },
  {
   "cell_type": "markdown",
   "id": "ad4cfd73-c931-4d49-8ffd-eeddbcee3867",
   "metadata": {},
   "source": [
    "Which method requires more computations? Which takes longer?"
   ]
  },
  {
   "cell_type": "code",
   "execution_count": 15,
   "id": "995502f1-c839-4bbd-b1af-6c701f95f905",
   "metadata": {},
   "outputs": [
    {
     "name": "stdout",
     "output_type": "stream",
     "text": [
      "  0.008932 seconds\n"
     ]
    }
   ],
   "source": [
    "@time for i=1:100000\n",
    "        centred_diff(f, pi*i/1000, 0.00001)\n",
    "end"
   ]
  },
  {
   "cell_type": "code",
   "execution_count": 16,
   "id": "4f88aea5-a461-4589-8f99-609b5600d28d",
   "metadata": {},
   "outputs": [
    {
     "name": "stdout",
     "output_type": "stream",
     "text": [
      "  0.004735 seconds\n"
     ]
    }
   ],
   "source": [
    "@time for i=1:100000\n",
    "        ForwardDiff.derivative(f, pi*i/1000)\n",
    "end"
   ]
  },
  {
   "cell_type": "markdown",
   "id": "aac033ad-d653-49bc-81d3-26ce911cdc42",
   "metadata": {},
   "source": [
    "More exotic examples and some unexpected results."
   ]
  },
  {
   "cell_type": "code",
   "execution_count": 17,
   "id": "ba712252-1b99-4845-9ea1-50a9a87802aa",
   "metadata": {},
   "outputs": [
    {
     "name": "stdout",
     "output_type": "stream",
     "text": [
      "ForwardDiff.derivative(g, 2) = 6.772588722239782\n",
      "2 ^ 2 * (1 + log(2)) = 6.772588722239782\n"
     ]
    }
   ],
   "source": [
    "g(x) = x^x\n",
    "@show ForwardDiff.derivative(g, 2)  # log y = x log x; y' = y (1 + log x)\n",
    "@show 2^2 * (1 + log(2));"
   ]
  },
  {
   "cell_type": "markdown",
   "id": "16f5c6ad-a019-4b44-951d-2cff4121a334",
   "metadata": {},
   "source": [
    "# "
   ]
  },
  {
   "cell_type": "code",
   "execution_count": 18,
   "id": "f6cabc38-6eaf-47ec-b6f7-7499339fe658",
   "metadata": {},
   "outputs": [
    {
     "name": "stdout",
     "output_type": "stream",
     "text": [
      "ForwardDiff.derivative(log, 0) = Inf\n",
      "ForwardDiff.derivative(abs, 0) = 1\n",
      "ForwardDiff.derivative(h1, 0) = -Inf\n",
      "ForwardDiff.derivative(h2, 0) = NaN\n"
     ]
    }
   ],
   "source": [
    "@show ForwardDiff.derivative(log, 0)\n",
    "@show ForwardDiff.derivative(abs, 0)\n",
    "h1(x) = 1/x\n",
    "@show ForwardDiff.derivative(h1, 0)\n",
    "h2(x) = sin(x)/x\n",
    "@show ForwardDiff.derivative(h2, 0);"
   ]
  },
  {
   "cell_type": "markdown",
   "id": "843acd8b",
   "metadata": {},
   "source": [
    "## Higher order derivatives\n",
    "\n",
    "To get a second or higher order derivative, compose the derivative function with itself."
   ]
  },
  {
   "cell_type": "code",
   "execution_count": 27,
   "id": "7ad8b2d0",
   "metadata": {},
   "outputs": [
    {
     "name": "stdout",
     "output_type": "stream",
     "text": [
      "f(2) = 45\n",
      "df(2) = 92\n",
      "d2f(2) = 142\n",
      "d3f(2) = 144\n",
      "d4f(2) = 72\n"
     ]
    },
    {
     "data": {
      "text/plain": [
       "72"
      ]
     },
     "execution_count": 27,
     "metadata": {},
     "output_type": "execute_result"
    }
   ],
   "source": [
    "f(x) = 3*x^4 - x^2 + 1\n",
    "df(x) = ForwardDiff.derivative(f,x)\n",
    "d2f(x) = ForwardDiff.derivative(df,x)\n",
    "d3f(x) = ForwardDiff.derivative(d2f,x)\n",
    "d4f(x) = ForwardDiff.derivative(d3f,x)\n",
    "@show f(2)\n",
    "@show df(2)\n",
    "@show d2f(2)\n",
    "@show d3f(2)\n",
    "@show d4f(2)"
   ]
  },
  {
   "cell_type": "code",
   "execution_count": 31,
   "id": "adbc3bcb",
   "metadata": {},
   "outputs": [
    {
     "name": "stdout",
     "output_type": "stream",
     "text": [
      "  0.000000 seconds\n"
     ]
    },
    {
     "data": {
      "text/plain": [
       "0"
      ]
     },
     "execution_count": 31,
     "metadata": {},
     "output_type": "execute_result"
    }
   ],
   "source": [
    "@time ForwardDiff.derivative(d4f, 2)"
   ]
  },
  {
   "cell_type": "markdown",
   "id": "136ac3ba-8813-4ec5-a3d7-fb4d03df8431",
   "metadata": {},
   "source": [
    "## Functions of more than one variable\n",
    "\n",
    "Examples of gradients and hessians for functions from $\\mathbb{R}^n \\to \\mathbb{R}$ and examples of jacobians for functions from $\\mathbb{R}^n \\to \\mathbb{R^m}$ "
   ]
  },
  {
   "cell_type": "code",
   "execution_count": 36,
   "id": "a29444ef",
   "metadata": {},
   "outputs": [
    {
     "data": {
      "text/plain": [
       "3-element Vector{Float64}:\n",
       "  7.0\n",
       " 11.583853163452858\n",
       "  5.545177444479562"
      ]
     },
     "execution_count": 36,
     "metadata": {},
     "output_type": "execute_result"
    }
   ],
   "source": [
    "f1(x) = x[1] * x[2] ^ x[3] + sin(x[2]) - log(x[1])\n",
    "ForwardDiff.gradient(f1, [1.0, 2.0, 3.0])"
   ]
  },
  {
   "cell_type": "code",
   "execution_count": 37,
   "id": "447aa7ce-de3d-48dc-a000-32803f69ea37",
   "metadata": {},
   "outputs": [
    {
     "data": {
      "text/plain": [
       "3×3 Matrix{Float64}:\n",
       "  1.0      12.0      5.54518\n",
       " 12.0      11.0907  12.3178\n",
       "  5.54518  12.3178   3.84362"
      ]
     },
     "execution_count": 37,
     "metadata": {},
     "output_type": "execute_result"
    }
   ],
   "source": [
    "ForwardDiff.hessian(f1, [1.0, 2.0, 3.0])"
   ]
  },
  {
   "cell_type": "code",
   "execution_count": 40,
   "id": "e260e3bf-106a-430b-8ee4-54fd14e60e6b",
   "metadata": {},
   "outputs": [
    {
     "data": {
      "text/plain": [
       "3×2 Matrix{Float64}:\n",
       "  2.0        1.0\n",
       " -1.0        1.0\n",
       " -0.224845  -0.765147"
      ]
     },
     "execution_count": 40,
     "metadata": {},
     "output_type": "execute_result"
    }
   ],
   "source": [
    "f2(x) = [ x[1] * x[2] , x[2] - x[1], sin(x[1])*cos(x[2]) ]\n",
    "ForwardDiff.jacobian(f2, [1.0, 2.0])"
   ]
  },
  {
   "cell_type": "code",
   "execution_count": 41,
   "id": "ee9ed6da-18ac-44c7-9d69-413e36033aa8",
   "metadata": {},
   "outputs": [],
   "source": [
    "# From week 5, nonlinear curves\n",
    "function func(x)\n",
    "    [  exp(x[2]-x[1]) - 2,\n",
    "       x[1]*x[2] + x[3],\n",
    "       x[2]*x[3] + x[1]^2 - x[2]\n",
    "    ];\n",
    "end;\n",
    "   \n",
    "function jac(x)\n",
    "    [ \n",
    "      -exp(x[2]-x[1])  exp(x[2]-x[1])   0\n",
    "       x[2]            x[1]             1\n",
    "       2*x[1]          x[3]-1           x[2]\n",
    "    ];\n",
    "end;"
   ]
  },
  {
   "cell_type": "code",
   "execution_count": 42,
   "id": "f589d53d-cf74-4632-9b3f-b2a41565dc93",
   "metadata": {},
   "outputs": [
    {
     "data": {
      "text/plain": [
       "3×3 Matrix{Float64}:\n",
       " -2.71828  2.71828  0.0\n",
       "  2.0      1.0      1.0\n",
       "  2.0      2.0      2.0"
      ]
     },
     "execution_count": 42,
     "metadata": {},
     "output_type": "execute_result"
    }
   ],
   "source": [
    "ForwardDiff.jacobian(func, [1, 2, 3])"
   ]
  },
  {
   "cell_type": "code",
   "execution_count": 43,
   "id": "b762eb9f-90bf-45bc-beb9-c2ae3b427341",
   "metadata": {},
   "outputs": [
    {
     "data": {
      "text/plain": [
       "3×3 Matrix{Float64}:\n",
       " -2.71828  2.71828  0.0\n",
       "  2.0      1.0      1.0\n",
       "  2.0      2.0      2.0"
      ]
     },
     "execution_count": 43,
     "metadata": {},
     "output_type": "execute_result"
    }
   ],
   "source": [
    "jac([1,2,3])"
   ]
  },
  {
   "cell_type": "code",
   "execution_count": 44,
   "id": "f8b91785-3c11-42cd-99e7-ee15ca30ddc3",
   "metadata": {},
   "outputs": [
    {
     "data": {
      "text/plain": [
       "0.0"
      ]
     },
     "execution_count": 44,
     "metadata": {},
     "output_type": "execute_result"
    }
   ],
   "source": [
    "# show that the error is 0 for randomly selected values\n",
    "total_error = 0.0\n",
    "for i in 1:10000\n",
    "    t = randn(3)\n",
    "    total_error += sum(abs.(ForwardDiff.jacobian(func, t) .- jac(t)))\n",
    "end\n",
    "total_error"
   ]
  },
  {
   "cell_type": "code",
   "execution_count": null,
   "id": "a1ba57f4-616f-4f8a-99ca-6dabbcd5e6fb",
   "metadata": {},
   "outputs": [],
   "source": []
  }
 ],
 "metadata": {
  "kernelspec": {
   "display_name": "Julia 1.8.0",
   "language": "julia",
   "name": "julia-1.8"
  },
  "language_info": {
   "file_extension": ".jl",
   "mimetype": "application/julia",
   "name": "julia",
   "version": "1.8.0"
  }
 },
 "nbformat": 4,
 "nbformat_minor": 5
}
