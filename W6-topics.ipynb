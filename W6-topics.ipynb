{
 "cells": [
  {
   "cell_type": "markdown",
   "id": "468a3bf5",
   "metadata": {},
   "source": [
    "## Approximating functions\n",
    "\n",
    "[Chapter 5](https://tobydriscoll.net/fnc-julia/localapprox/overview.html) Piecewise interpolation.\n",
    "\n",
    "We've already talked about a few ways to approximate data with functions: linear and non-linear regression. For linear regression, a polynomial can be used to approximate data. If the degree of the polynomial is one less than the number of data points, the \"regression\" will interpolate the data. Generally we don't want polynomial interpolation because the curve will oscillate wildly between points unless we are very lucky.\n",
    "\n",
    "Here we look a piecewise linear and cubic interpolation. The function will be composed of many linear or cubic pieces connected together through data."
   ]
  },
  {
   "cell_type": "markdown",
   "id": "e30502b5",
   "metadata": {},
   "source": [
    "## Linear interpolation"
   ]
  },
  {
   "cell_type": "markdown",
   "id": "a480eba2",
   "metadata": {},
   "source": [
    "The following linear function interpolates the data $(x_i, y_i)$ for $i = 0, \\dots, n$ on the interval $[x_k, x_{k+1}]$.\n",
    "\n",
    "We conventionally have n+1 points to connect and start counting at 0. Julia traditionally counts starting at 1 (although you change this), so we will need to be a bit careful.\n",
    "\n",
    "$$p(x) = y_k + \\frac{y_{k+1}-y_k}{x_{k+1}-x_k}(x-x_k)$$\n",
    "\n",
    "We will assemble a piecewise linear function from a family of functions known as hat functions (draw their graph to understand the name):\n",
    "\n",
    "$$ H_k(x) =\n",
    "  \\begin{cases}\n",
    "    \\dfrac{x-t_{k-1}}{x_k-x_{k-1}} & \\text{if $x\\in[x_{k-1},x_k]$},\\\\[2.5ex]\n",
    "    \\dfrac{x_{k+1}-x}{x_{k+1}-x_{k}} & \\text{if $x\\in[x_{k},x_{k+1}]$},\\\\[2.5ex]\n",
    "    0 & \\text{otherwise}.\n",
    "  \\end{cases} $$\n",
    "  \n",
    "Notice that $H_k(x_i)$ is 1 if $k=i$ and $0$ otherwise.\n",
    "\n",
    "The piecewise linear interpolating function is \n",
    "\n",
    "$$p(x) = \\sum_{i=1}^n y_iH_i(x)$$\n",
    "\n",
    "This is quite a good interpolation, in the following sense. If the nodes $x_i$ are equally spaced ($x_{i+1}-x_i = h$) then the the largest distance between the source function $f$ and its interpolant $p$ is bounded by $Mh^2$ where $M = \\|f''\\|_\\infty$. As long as the second derivative is bounded, the important part is that the error decreases quadratically with $h$. If you increase the number of node by a factor of 2, then the error decreases by a factor of 4."
   ]
  },
  {
   "cell_type": "markdown",
   "id": "93623c71",
   "metadata": {},
   "source": [
    "## Cubic splines\n",
    "\n",
    "A cubic spline is a piecewise cubic function that has two continuous derivatives everywhere (i.e., in particular where the pieces connect).\n",
    "\n",
    "A single cubic interpolates points on an interval $[x_{k-1}, x_{k}]$:\n",
    "\n",
    "$$S_k(x) = a_k + b_k(x-x_{k-1}) + c_k(x-x_{k-1})^2 + d_k(x-x_{k-1})^3$$\n",
    "\n",
    "There are $n$ intervals and we need $n$ interpolants $S_k$, so we have $4n$ variables to determine. We will count the constraints carefully.\n",
    "\n",
    "The $S_k$ must interpolate the data at both end points for each interval: $S_{k}(x_{k-1}) = y_{k-1}$ and $S_k(x_k) = y_k$. (That's $2n$ constraints.)\n",
    "\n",
    "We match the first and second derivatives between interpolants at the interior nodes. (Doesn't make sense to do this for $S_0(x_0)$ or $S_n(x_n)$.) These constraints are $S^\\prime_k(x_{k}) = S^\\prime_{k+1}(x_k)$ and $S^{\\prime\\prime}_k(x_{k}) = S^{\\prime\\prime}_{k+1}(x_k)$  for $k = 1, \\dots, n-1$.\n",
    "\n",
    "We need two more constraints to make a uniquely determined system. Here are two common choices:\n",
    "\n",
    "* natural spline: $S_1^{\\prime\\prime}(x_0) = S_n^{\\prime\\prime}(x_n)= 0$.\n",
    "* not-a-knot spline: $S_1^{\\prime\\prime\\prime}(x_1) = S_2^{\\prime\\prime}(x_1)$ and \n",
    "$S_n^{\\prime\\prime\\prime}(x_{n-1}) = S_{n-1}^{\\prime\\prime}(x_{n-1})$.\n",
    "* clamped spline: $S_1^\\prime(x_0) = 0$ and $S_n^\\prime(x_n) = 0$.\n",
    "\n",
    "The textbook uses the second condition on the grounds that those splines generally approximate the original function better."
   ]
  },
  {
   "cell_type": "markdown",
   "id": "d4f09bae-c1e9-4381-9b74-cc6f99a5bcdb",
   "metadata": {},
   "source": [
    "Coefficients in a cubic spline can be determined by solving a linear system."
   ]
  },
  {
   "cell_type": "markdown",
   "id": "d5b6dfe6-39d3-4745-86d9-7e835b71fe4c",
   "metadata": {},
   "source": [
    "## Lagrange interpolation\n",
    "\n",
    "From Section 9.1.\n",
    "\n",
    "We want a set of functions such that $l_k(x_j)$ is 1 if $k=j$ and 0 otherwise.\n",
    "\n",
    "These functions are known as the Lagrange cardinal basis:\n",
    "\n",
    "$$\\ell_k(x) = \\prod_{\\substack{i=0\\\\ i\\neq k}}^n \\frac{x-x_i}{x_k-x_i}$$\n",
    "\n",
    "We can now interpolate data $(x_k, y_k)$ using the sum\n",
    "\n",
    "$$p(x) = \\sum_{k=0}^n \\ell_k(x)y_k$$\n",
    "\n",
    "There is only one polynomial of degree $n+1$ that interpolates $n+1$ points; this polynomial is unique.\n",
    "\n",
    "The Lagrange error formula from Taylor's theorem gives us the distance between a function $f$ used to compute $y_k=f(x_k)$\n",
    "\n",
    "$$f(x) - p(x) = \\frac{f^{(n-1)}(\\xi)}{(n+1)!}\\prod_{k=0}^n(x-x_k)$$\n",
    "\n",
    "for some $\\xi\\in(x_0, x_n)$."
   ]
  },
  {
   "cell_type": "markdown",
   "id": "ce4504ff-733a-43ed-b717-12816e87e2e3",
   "metadata": {},
   "source": [
    "The Lagrange interpolation function has many undesirable properties for interpolation (wild oscillations), but it very useful for deriving other results, particularly if an error estimate is desired."
   ]
  },
  {
   "cell_type": "markdown",
   "id": "cf342029-fee1-4da3-a3b4-3a18da2ceb10",
   "metadata": {},
   "source": [
    "In Chapter 9 we will use Lagrange interpolation to solve other problems. Bézier curves commonly used in computer graphics to make parametric curves where the location and slope of the curve is described at each knot (specified location along the curve)."
   ]
  },
  {
   "cell_type": "code",
   "execution_count": null,
   "id": "a0917321-a205-4d00-8913-a9c5f3fb74f7",
   "metadata": {},
   "outputs": [],
   "source": []
  }
 ],
 "metadata": {
  "kernelspec": {
   "display_name": "Julia 1.8.0",
   "language": "julia",
   "name": "julia-1.8"
  },
  "language_info": {
   "file_extension": ".jl",
   "mimetype": "application/julia",
   "name": "julia",
   "version": "1.8.0"
  }
 },
 "nbformat": 4,
 "nbformat_minor": 5
}
