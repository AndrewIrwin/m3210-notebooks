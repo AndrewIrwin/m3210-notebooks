{
 "cells": [
  {
   "cell_type": "markdown",
   "id": "b9d028ce-a74b-4c4f-bb34-42fcdbc9bc32",
   "metadata": {},
   "source": [
    "# Variance exercise\n",
    "\n",
    "Write three functions to compute variance on a set of data. Compare their numerical behaviour on random samples with different means, variances, and number of entries.\n",
    "\n",
    "For a description of the algorithms and their issues see:\n",
    "\n",
    "* https://www.johndcook.com/blog/2008/09/28/theoretical-explanation-for-numerical-results/\n",
    "* https://www.johndcook.com/blog/standard_deviation/\n",
    "* https://jonisalonen.com/2013/deriving-welfords-method-for-computing-variance/\n",
    "\n",
    "Definitions:\n",
    "\n",
    "* Mean $\\mu$, sample mean $\\bar{x}$, Standard deviation $\\sigma$, sample standard deviation $s$.\n",
    "\n",
    "## Method 1\n",
    "\n",
    "This is based on the defintion of the mean and variance:\n",
    "\n",
    "$$\\bar{x} = \\frac{1}{N}\\sum_{i=1}^N x_i$$\n",
    "\n",
    "$$s^2 = \\frac{1}{N-1} \\sum_{i=1}^N (x_i-\\bar{x})^2$$ \n",
    "\n",
    "## Method 2\n",
    "\n",
    "This method is based on the identity $\\sigma^2 = E((X-E(X))^2) = E(X^2) - (E(X))^2$.\n",
    "\n",
    "$$ M = \\sum x_i, S = \\sum x_i^2, s^2 = \\frac{1}{N(N-1)}(N S - M^2)$$\n",
    "\n",
    "## Method 3\n",
    "\n",
    "This method defines a sequence that allows you to compute variance as the data arrive and update the calculation when new data are added..\n",
    "\n",
    "Define $M_1=x_1, S_1=0$ then compute\n",
    "\n",
    "$$ M_k = M_{k-1} + (x_k-M_{k-1})/k$$\n",
    "$$ S_k = S_{k-1} + (x_k-M_{k-1})(x_k-M_k)$$\n",
    "\n",
    "The variance is $s^2 = S_k/(k-1)$.\n",
    "\n",
    "\n",
    "One of these requires \"two passes\" through the data. The first to compute the mean, the second to compute the variance.\n",
    "\n",
    "The other two require one pass only. This is an advantage if you need to estimate the variance as data comes in, so you never have the whole dataset, or if the dataset is too large to get all at once.\n",
    "\n",
    "It will turn out that one of the one-pass methods is much worse than the other two methods. It's your job to find out which, and why.\n"
   ]
  },
  {
   "cell_type": "markdown",
   "id": "ca305a49-fbed-47d0-834b-499ab057163f",
   "metadata": {},
   "source": [
    "## Generate random samples from a Normal distribution"
   ]
  },
  {
   "cell_type": "code",
   "execution_count": 7,
   "id": "076c0058-a6eb-4297-9014-bf04d765cf1a",
   "metadata": {},
   "outputs": [
    {
     "data": {
      "text/plain": [
       "random_normal (generic function with 1 method)"
      ]
     },
     "execution_count": 7,
     "metadata": {},
     "output_type": "execute_result"
    }
   ],
   "source": [
    "random_normal(N, μ, σ) = randn(N) .* σ .+ μ"
   ]
  },
  {
   "cell_type": "code",
   "execution_count": 10,
   "id": "a3bc38d1-4af9-48b5-b572-d61cd0e88c56",
   "metadata": {},
   "outputs": [
    {
     "data": {
      "text/plain": [
       "5-element Vector{Float64}:\n",
       " -10.219048365860367\n",
       "  27.64094749349729\n",
       "  13.615100733792989\n",
       "  23.400130254018784\n",
       "  -6.445464600772288"
      ]
     },
     "execution_count": 10,
     "metadata": {},
     "output_type": "execute_result"
    }
   ],
   "source": [
    "random_normal(5, 5, 10)"
   ]
  },
  {
   "cell_type": "markdown",
   "id": "471ce4c4-56ea-44ed-bee2-f8063721d717",
   "metadata": {},
   "source": [
    "## Method 1"
   ]
  },
  {
   "cell_type": "code",
   "execution_count": 12,
   "id": "650694cb-eceb-4c5a-9470-28ba8b81ad4b",
   "metadata": {},
   "outputs": [
    {
     "data": {
      "text/plain": [
       "var1 (generic function with 1 method)"
      ]
     },
     "execution_count": 12,
     "metadata": {},
     "output_type": "execute_result"
    }
   ],
   "source": [
    "function var1(x)\n",
    "    N = length(x)\n",
    "    xbar = sum(x)/N\n",
    "    sum((x .- xbar).^2)/(N-1)\n",
    "end"
   ]
  },
  {
   "cell_type": "markdown",
   "id": "0e96eda2-20fb-49c6-a5e7-91ab65a8e7e9",
   "metadata": {},
   "source": [
    "## Method 2"
   ]
  },
  {
   "cell_type": "code",
   "execution_count": 13,
   "id": "9cfa6609-3636-4746-b3df-af3915822f6a",
   "metadata": {},
   "outputs": [
    {
     "data": {
      "text/plain": [
       "var2 (generic function with 1 method)"
      ]
     },
     "execution_count": 13,
     "metadata": {},
     "output_type": "execute_result"
    }
   ],
   "source": [
    "function var2(x)\n",
    "    N = length(x)\n",
    "    M = sum(x)\n",
    "    S = sum(x .^ 2)\n",
    "    (N*S-M^2)/(N*(N-1))\n",
    "end"
   ]
  },
  {
   "cell_type": "markdown",
   "id": "e660a483-ee86-419c-95ff-dcb88a0ffdbb",
   "metadata": {},
   "source": [
    "## Method 3"
   ]
  },
  {
   "cell_type": "code",
   "execution_count": 18,
   "id": "5deb3a5b-228b-491a-b623-fa2839ac1e18",
   "metadata": {},
   "outputs": [
    {
     "data": {
      "text/plain": [
       "var3 (generic function with 1 method)"
      ]
     },
     "execution_count": 18,
     "metadata": {},
     "output_type": "execute_result"
    }
   ],
   "source": [
    "function var3(x)\n",
    "   N = length(x)\n",
    "   M1 = x[1]\n",
    "   S1 = 0\n",
    "    for i in 2:N\n",
    "        M2 = M1 + (x[i]-M1)/i\n",
    "        S2 = S1 + (x[i]-M1)*(x[i]-M2)\n",
    "        M1, S1 = M2, S2\n",
    "    end\n",
    "    S1 / (N-1)\n",
    "end"
   ]
  },
  {
   "cell_type": "markdown",
   "id": "0d5455f9-ed40-44f9-a320-e85fce045887",
   "metadata": {},
   "source": [
    "## Test them all with the same data"
   ]
  },
  {
   "cell_type": "code",
   "execution_count": 21,
   "id": "0516d3af-c50e-443a-81f8-7066033ea95b",
   "metadata": {},
   "outputs": [
    {
     "data": {
      "text/plain": [
       "(1.0562894231618603, 1.0562894231618696, 1.05628942316186)"
      ]
     },
     "execution_count": 21,
     "metadata": {},
     "output_type": "execute_result"
    }
   ],
   "source": [
    "x1 = random_normal(100, 6, 1);\n",
    "var1(x1), var2(x1), var3(x1)"
   ]
  },
  {
   "cell_type": "code",
   "execution_count": 22,
   "id": "46994242-9fd3-47b4-8cfd-8dd766068a3c",
   "metadata": {},
   "outputs": [
    {
     "data": {
      "text/plain": [
       "(1.0052605061341233, 1.0052605062068707, 1.005260506134081)"
      ]
     },
     "execution_count": 22,
     "metadata": {},
     "output_type": "execute_result"
    }
   ],
   "source": [
    "x1 = random_normal(10000, 1000, 1);\n",
    "var1(x1), var2(x1), var3(x1)"
   ]
  },
  {
   "cell_type": "code",
   "execution_count": 25,
   "id": "2f6f932f-eb84-46ef-bbcc-4cc8fe0a88b2",
   "metadata": {},
   "outputs": [
    {
     "data": {
      "text/plain": [
       "(1.0010776085237365, -140.7376290929571, 1.0010775918191157)"
      ]
     },
     "execution_count": 25,
     "metadata": {},
     "output_type": "execute_result"
    }
   ],
   "source": [
    "x1 = random_normal(1_000_000, 1e9, 1.0);\n",
    "var1(x1), var2(x1), var3(x1)"
   ]
  },
  {
   "cell_type": "markdown",
   "id": "6833b7cd-f364-4073-b6cf-3cfcf03b4cb1",
   "metadata": {},
   "source": [
    "## Extensions\n",
    "\n",
    "Compute skewness and kurtosis using online (one pass) algorithms."
   ]
  },
  {
   "cell_type": "code",
   "execution_count": null,
   "id": "ded27fa0-b6a5-49d7-af72-72f46b9139e4",
   "metadata": {},
   "outputs": [],
   "source": []
  }
 ],
 "metadata": {
  "kernelspec": {
   "display_name": "Julia 1.8.0",
   "language": "julia",
   "name": "julia-1.8"
  },
  "language_info": {
   "file_extension": ".jl",
   "mimetype": "application/julia",
   "name": "julia",
   "version": "1.8.0"
  }
 },
 "nbformat": 4,
 "nbformat_minor": 5
}
